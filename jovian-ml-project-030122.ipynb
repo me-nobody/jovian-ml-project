{
 "cells": [
  {
   "cell_type": "markdown",
   "metadata": {
    "id": "z4XIJ7_c_mzW"
   },
   "source": [
    "# Classification of Cancer associated Mutations from Literature using Machine Learning\n",
    "\n",
    "Use the \"Run\" button to execute the code."
   ]
  },
  {
   "cell_type": "code",
   "execution_count": 6,
   "metadata": {
    "executionInfo": {
     "elapsed": 2553,
     "status": "ok",
     "timestamp": 1638285773553,
     "user": {
      "displayName": "Anubrata Das",
      "photoUrl": "https://lh3.googleusercontent.com/a-/AOh14GiI2340pPpSj6e4aG_4urL4HRwW3MRXEf5aoo2_QA=s64",
      "userId": "08781375266004215524"
     },
     "user_tz": -330
    },
    "id": "6jgqXjvi_mzZ"
   },
   "outputs": [
    {
     "name": "stdout",
     "output_type": "stream",
     "text": [
      "Note: you may need to restart the kernel to use updated packages.\n"
     ]
    },
    {
     "name": "stderr",
     "output_type": "stream",
     "text": [
      "WARNING: Value for scheme.headers does not match. Please report this to <https://github.com/pypa/pip/issues/9617>\n",
      "distutils: C:\\Users\\anubr\\anaconda3\\Include\\UNKNOWN\n",
      "sysconfig: C:\\Users\\anubr\\anaconda3\\Include\n",
      "WARNING: Additional context:\n",
      "user = False\n",
      "home = None\n",
      "root = None\n",
      "prefix = None\n",
      "WARNING: Value for scheme.headers does not match. Please report this to <https://github.com/pypa/pip/issues/9617>\n",
      "distutils: C:\\Users\\anubr\\anaconda3\\Include\\UNKNOWN\n",
      "sysconfig: C:\\Users\\anubr\\anaconda3\\Include\n",
      "WARNING: Additional context:\n",
      "user = False\n",
      "home = None\n",
      "root = None\n",
      "prefix = None\n"
     ]
    }
   ],
   "source": [
    "pip install jovian --upgrade --quiet"
   ]
  },
  {
   "cell_type": "code",
   "execution_count": null,
   "metadata": {
    "executionInfo": {
     "elapsed": 47,
     "status": "ok",
     "timestamp": 1638285773553,
     "user": {
      "displayName": "Anubrata Das",
      "photoUrl": "https://lh3.googleusercontent.com/a-/AOh14GiI2340pPpSj6e4aG_4urL4HRwW3MRXEf5aoo2_QA=s64",
      "userId": "08781375266004215524"
     },
     "user_tz": -330
    },
    "id": "BcrwI4VL_mze"
   },
   "outputs": [],
   "source": []
  },
  {
   "cell_type": "code",
   "execution_count": 7,
   "metadata": {
    "colab": {
     "base_uri": "https://localhost:8080/",
     "height": 125
    },
    "executionInfo": {
     "elapsed": 9427,
     "status": "ok",
     "timestamp": 1638285782935,
     "user": {
      "displayName": "Anubrata Das",
      "photoUrl": "https://lh3.googleusercontent.com/a-/AOh14GiI2340pPpSj6e4aG_4urL4HRwW3MRXEf5aoo2_QA=s64",
      "userId": "08781375266004215524"
     },
     "user_tz": -330
    },
    "id": "7gTXlkwu_mzf",
    "outputId": "3c4f1679-22fc-496e-bbd7-ce778f5dc86a"
   },
   "outputs": [
    {
     "data": {
      "application/javascript": [
       "window.require && require([\"base/js/namespace\"],function(Jupyter){Jupyter.notebook.save_checkpoint()})"
      ],
      "text/plain": [
       "<IPython.core.display.Javascript object>"
      ]
     },
     "metadata": {},
     "output_type": "display_data"
    },
    {
     "name": "stdout",
     "output_type": "stream",
     "text": [
      "[jovian] Updating notebook \"anubratadas/classification-of-cancer-mutations\" on https://jovian.ai/\n",
      "[jovian] Committed successfully! https://jovian.ai/anubratadas/classification-of-cancer-mutations\n"
     ]
    },
    {
     "data": {
      "text/plain": [
       "'https://jovian.ai/anubratadas/classification-of-cancer-mutations'"
      ]
     },
     "execution_count": 7,
     "metadata": {},
     "output_type": "execute_result"
    }
   ],
   "source": [
    "# Execute this to save new versions of the notebook\n",
    "jovian.commit(project=\"jovian-ml-project-030122\",filename=\"jovian-ml-project-030122\")"
   ]
  },
  {
   "cell_type": "markdown",
   "metadata": {},
   "source": [
    "### <font color='green'>Import the essential libraries</font>"
   ]
  },
  {
   "cell_type": "code",
   "execution_count": 8,
   "metadata": {
    "executionInfo": {
     "elapsed": 13,
     "status": "ok",
     "timestamp": 1638285789225,
     "user": {
      "displayName": "Anubrata Das",
      "photoUrl": "https://lh3.googleusercontent.com/a-/AOh14GiI2340pPpSj6e4aG_4urL4HRwW3MRXEf5aoo2_QA=s64",
      "userId": "08781375266004215524"
     },
     "user_tz": -330
    },
    "id": "AEM-Rd_A_mzj"
   },
   "outputs": [],
   "source": [
    "import jovian\n",
    "import pandas as pd\n",
    "import numpy as np\n",
    "import requests\n",
    "import xml.etree.ElementTree as ET\n",
    "import time\n",
    "import re\n",
    "from tqdm import tqdm\n",
    "%matplotlib inline"
   ]
  },
  {
   "cell_type": "code",
   "execution_count": 9,
   "metadata": {
    "executionInfo": {
     "elapsed": 12,
     "status": "ok",
     "timestamp": 1638285789226,
     "user": {
      "displayName": "Anubrata Das",
      "photoUrl": "https://lh3.googleusercontent.com/a-/AOh14GiI2340pPpSj6e4aG_4urL4HRwW3MRXEf5aoo2_QA=s64",
      "userId": "08781375266004215524"
     },
     "user_tz": -330
    },
    "id": "lv5xwSHT_mzk"
   },
   "outputs": [],
   "source": [
    "pd.set_option('display.max_columns', None)\n",
    "pd.set_option('display.max_rows', None)\n",
    "import warnings\n",
    "warnings.simplefilter(action='ignore')"
   ]
  },
  {
   "cell_type": "code",
   "execution_count": 10,
   "metadata": {},
   "outputs": [],
   "source": [
    "import seaborn as sns\n",
    "import matplotlib\n",
    "import matplotlib.pyplot as plt\n",
    "%matplotlib inline\n",
    "sns.set_style('darkgrid')\n",
    "matplotlib.rcParams['font.size'] = 14\n",
    "matplotlib.rcParams['figure.figsize'] = (9, 5)\n",
    "matplotlib.rcParams['figure.facecolor'] = '#00000000'"
   ]
  },
  {
   "cell_type": "code",
   "execution_count": 11,
   "metadata": {},
   "outputs": [],
   "source": [
    "tqdm.pandas(desc=\"progress bar\")"
   ]
  },
  {
   "cell_type": "markdown",
   "metadata": {},
   "source": [
    " ### <font style=\"font-size:18px;font-family:arial;color:green;text-indent:100px;line-height: 0.8;word-spacing: 10px\"> A cancerous tissue can have thousands of genetic mutations (Variations), which are discovered using genome sequencing. But the challenge is distinguishing the mutations that contribute to tumor growth (drivers) from the neutral mutations (passengers). Currently this interpretation of genetic mutations is being done manually. This is a very time-consuming task where a clinical pathologist has to manually review and classify every single genetic mutation based on evidence from text-based clinical literature. For this competition MSKCC is making available an expert-annotated knowledge base where world-class researchers and oncologists have manually annotated thousands of mutations. MSKCC intends the Data scientist to develop a Machine Learning algorithm that, using this knowledge base as a baseline, automatically classifies genetic variations.</font>"
   ]
  },
  {
   "cell_type": "markdown",
   "metadata": {},
   "source": [
    "<a id='top'>**Beginning of Notebook**</a>"
   ]
  },
  {
   "cell_type": "markdown",
   "metadata": {},
   "source": [
    "[model train text data](#train_data)"
   ]
  },
  {
   "cell_type": "markdown",
   "metadata": {},
   "source": [
    "### <font color='green'>Exploratory Data Analysis</font>"
   ]
  },
  {
   "cell_type": "markdown",
   "metadata": {},
   "source": [
    "###  references\n",
    "  - https://github.com/ghostintheshellarise/2021HackForRare\n",
    "  - https://widdowquinn.github.io/2018-03-06-ibioic/02-sequence_databases/09-KEGG_programming.html\n",
    "  - https://bioservices.readthedocs.io/en/master/kegg_tutorial.html\n",
    "  - https://bioservices.readthedocs.io/en/master/index.html"
   ]
  },
  {
   "cell_type": "markdown",
   "metadata": {},
   "source": [
    "#### train data"
   ]
  },
  {
   "cell_type": "code",
   "execution_count": 12,
   "metadata": {},
   "outputs": [],
   "source": [
    "train_text_df = pd.read_csv('training_text.zip', sep=\"\\|\\|\", encoding=\"utf-8\",engine=\"python\", skiprows=1, names=[\"ID\", \"Text\"],compression='zip')"
   ]
  },
  {
   "cell_type": "code",
   "execution_count": 13,
   "metadata": {},
   "outputs": [],
   "source": [
    "train_variant_df = pd.read_csv('training_variants.zip',compression='zip')"
   ]
  },
  {
   "cell_type": "code",
   "execution_count": 14,
   "metadata": {},
   "outputs": [
    {
     "data": {
      "text/plain": [
       "((3321, 2), (3321, 4))"
      ]
     },
     "execution_count": 14,
     "metadata": {},
     "output_type": "execute_result"
    }
   ],
   "source": [
    "train_text_df.shape, train_variant_df.shape"
   ]
  },
  {
   "cell_type": "code",
   "execution_count": 15,
   "metadata": {},
   "outputs": [
    {
     "data": {
      "text/plain": [
       "(Index(['ID', 'Text'], dtype='object'),\n",
       " Index(['ID', 'Gene', 'Variation', 'Class'], dtype='object'))"
      ]
     },
     "execution_count": 15,
     "metadata": {},
     "output_type": "execute_result"
    }
   ],
   "source": [
    "train_text_df.columns, train_variant_df.columns"
   ]
  },
  {
   "cell_type": "code",
   "execution_count": 16,
   "metadata": {},
   "outputs": [],
   "source": [
    "# merging the text and variation data\n",
    "train_df = pd.merge(train_variant_df,train_text_df,on='ID')"
   ]
  },
  {
   "cell_type": "code",
   "execution_count": 17,
   "metadata": {},
   "outputs": [
    {
     "data": {
      "text/html": [
       "<div>\n",
       "<style scoped>\n",
       "    .dataframe tbody tr th:only-of-type {\n",
       "        vertical-align: middle;\n",
       "    }\n",
       "\n",
       "    .dataframe tbody tr th {\n",
       "        vertical-align: top;\n",
       "    }\n",
       "\n",
       "    .dataframe thead th {\n",
       "        text-align: right;\n",
       "    }\n",
       "</style>\n",
       "<table border=\"1\" class=\"dataframe\">\n",
       "  <thead>\n",
       "    <tr style=\"text-align: right;\">\n",
       "      <th></th>\n",
       "      <th>ID</th>\n",
       "      <th>Text</th>\n",
       "    </tr>\n",
       "  </thead>\n",
       "  <tbody>\n",
       "    <tr>\n",
       "      <th>0</th>\n",
       "      <td>0</td>\n",
       "      <td>Cyclin-dependent kinases (CDKs) regulate a var...</td>\n",
       "    </tr>\n",
       "    <tr>\n",
       "      <th>1</th>\n",
       "      <td>1</td>\n",
       "      <td>Abstract Background  Non-small cell lung canc...</td>\n",
       "    </tr>\n",
       "    <tr>\n",
       "      <th>2</th>\n",
       "      <td>2</td>\n",
       "      <td>Abstract Background  Non-small cell lung canc...</td>\n",
       "    </tr>\n",
       "    <tr>\n",
       "      <th>3</th>\n",
       "      <td>3</td>\n",
       "      <td>Recent evidence has demonstrated that acquired...</td>\n",
       "    </tr>\n",
       "  </tbody>\n",
       "</table>\n",
       "</div>"
      ],
      "text/plain": [
       "   ID                                               Text\n",
       "0   0  Cyclin-dependent kinases (CDKs) regulate a var...\n",
       "1   1   Abstract Background  Non-small cell lung canc...\n",
       "2   2   Abstract Background  Non-small cell lung canc...\n",
       "3   3  Recent evidence has demonstrated that acquired..."
      ]
     },
     "execution_count": 17,
     "metadata": {},
     "output_type": "execute_result"
    }
   ],
   "source": [
    "train_text_df.head(n=4)"
   ]
  },
  {
   "cell_type": "code",
   "execution_count": 18,
   "metadata": {},
   "outputs": [
    {
     "data": {
      "text/html": [
       "<div>\n",
       "<style scoped>\n",
       "    .dataframe tbody tr th:only-of-type {\n",
       "        vertical-align: middle;\n",
       "    }\n",
       "\n",
       "    .dataframe tbody tr th {\n",
       "        vertical-align: top;\n",
       "    }\n",
       "\n",
       "    .dataframe thead th {\n",
       "        text-align: right;\n",
       "    }\n",
       "</style>\n",
       "<table border=\"1\" class=\"dataframe\">\n",
       "  <thead>\n",
       "    <tr style=\"text-align: right;\">\n",
       "      <th></th>\n",
       "      <th>ID</th>\n",
       "      <th>Gene</th>\n",
       "      <th>Variation</th>\n",
       "      <th>Class</th>\n",
       "    </tr>\n",
       "  </thead>\n",
       "  <tbody>\n",
       "    <tr>\n",
       "      <th>0</th>\n",
       "      <td>0</td>\n",
       "      <td>FAM58A</td>\n",
       "      <td>Truncating Mutations</td>\n",
       "      <td>1</td>\n",
       "    </tr>\n",
       "    <tr>\n",
       "      <th>1</th>\n",
       "      <td>1</td>\n",
       "      <td>CBL</td>\n",
       "      <td>W802*</td>\n",
       "      <td>2</td>\n",
       "    </tr>\n",
       "    <tr>\n",
       "      <th>2</th>\n",
       "      <td>2</td>\n",
       "      <td>CBL</td>\n",
       "      <td>Q249E</td>\n",
       "      <td>2</td>\n",
       "    </tr>\n",
       "    <tr>\n",
       "      <th>3</th>\n",
       "      <td>3</td>\n",
       "      <td>CBL</td>\n",
       "      <td>N454D</td>\n",
       "      <td>3</td>\n",
       "    </tr>\n",
       "    <tr>\n",
       "      <th>4</th>\n",
       "      <td>4</td>\n",
       "      <td>CBL</td>\n",
       "      <td>L399V</td>\n",
       "      <td>4</td>\n",
       "    </tr>\n",
       "  </tbody>\n",
       "</table>\n",
       "</div>"
      ],
      "text/plain": [
       "   ID    Gene             Variation  Class\n",
       "0   0  FAM58A  Truncating Mutations      1\n",
       "1   1     CBL                 W802*      2\n",
       "2   2     CBL                 Q249E      2\n",
       "3   3     CBL                 N454D      3\n",
       "4   4     CBL                 L399V      4"
      ]
     },
     "execution_count": 18,
     "metadata": {},
     "output_type": "execute_result"
    }
   ],
   "source": [
    "train_variant_df.head()"
   ]
  },
  {
   "cell_type": "code",
   "execution_count": 19,
   "metadata": {},
   "outputs": [
    {
     "data": {
      "text/plain": [
       "(3321, 5)"
      ]
     },
     "execution_count": 19,
     "metadata": {},
     "output_type": "execute_result"
    }
   ],
   "source": [
    "train_df.shape"
   ]
  },
  {
   "cell_type": "code",
   "execution_count": 20,
   "metadata": {},
   "outputs": [],
   "source": [
    "# taking a sample of the dataset\n",
    "#train_df = train_df.sample(frac=0.6,random_state=222)"
   ]
  },
  {
   "cell_type": "markdown",
   "metadata": {},
   "source": [
    "We have taken a sample of the training data"
   ]
  },
  {
   "cell_type": "code",
   "execution_count": 22,
   "metadata": {},
   "outputs": [
    {
     "data": {
      "text/html": [
       "<div>\n",
       "<style scoped>\n",
       "    .dataframe tbody tr th:only-of-type {\n",
       "        vertical-align: middle;\n",
       "    }\n",
       "\n",
       "    .dataframe tbody tr th {\n",
       "        vertical-align: top;\n",
       "    }\n",
       "\n",
       "    .dataframe thead th {\n",
       "        text-align: right;\n",
       "    }\n",
       "</style>\n",
       "<table border=\"1\" class=\"dataframe\">\n",
       "  <thead>\n",
       "    <tr style=\"text-align: right;\">\n",
       "      <th></th>\n",
       "      <th>ID</th>\n",
       "      <th>Gene</th>\n",
       "      <th>Variation</th>\n",
       "      <th>Class</th>\n",
       "      <th>Text</th>\n",
       "    </tr>\n",
       "  </thead>\n",
       "  <tbody>\n",
       "    <tr>\n",
       "      <th>0</th>\n",
       "      <td>0</td>\n",
       "      <td>FAM58A</td>\n",
       "      <td>Truncating Mutations</td>\n",
       "      <td>1</td>\n",
       "      <td>Cyclin-dependent kinases (CDKs) regulate a var...</td>\n",
       "    </tr>\n",
       "    <tr>\n",
       "      <th>1</th>\n",
       "      <td>1</td>\n",
       "      <td>CBL</td>\n",
       "      <td>W802*</td>\n",
       "      <td>2</td>\n",
       "      <td>Abstract Background  Non-small cell lung canc...</td>\n",
       "    </tr>\n",
       "    <tr>\n",
       "      <th>2</th>\n",
       "      <td>2</td>\n",
       "      <td>CBL</td>\n",
       "      <td>Q249E</td>\n",
       "      <td>2</td>\n",
       "      <td>Abstract Background  Non-small cell lung canc...</td>\n",
       "    </tr>\n",
       "    <tr>\n",
       "      <th>3</th>\n",
       "      <td>3</td>\n",
       "      <td>CBL</td>\n",
       "      <td>N454D</td>\n",
       "      <td>3</td>\n",
       "      <td>Recent evidence has demonstrated that acquired...</td>\n",
       "    </tr>\n",
       "    <tr>\n",
       "      <th>4</th>\n",
       "      <td>4</td>\n",
       "      <td>CBL</td>\n",
       "      <td>L399V</td>\n",
       "      <td>4</td>\n",
       "      <td>Oncogenic mutations in the monomeric Casitas B...</td>\n",
       "    </tr>\n",
       "  </tbody>\n",
       "</table>\n",
       "</div>"
      ],
      "text/plain": [
       "   ID    Gene             Variation  Class  \\\n",
       "0   0  FAM58A  Truncating Mutations      1   \n",
       "1   1     CBL                 W802*      2   \n",
       "2   2     CBL                 Q249E      2   \n",
       "3   3     CBL                 N454D      3   \n",
       "4   4     CBL                 L399V      4   \n",
       "\n",
       "                                                Text  \n",
       "0  Cyclin-dependent kinases (CDKs) regulate a var...  \n",
       "1   Abstract Background  Non-small cell lung canc...  \n",
       "2   Abstract Background  Non-small cell lung canc...  \n",
       "3  Recent evidence has demonstrated that acquired...  \n",
       "4  Oncogenic mutations in the monomeric Casitas B...  "
      ]
     },
     "execution_count": 22,
     "metadata": {},
     "output_type": "execute_result"
    }
   ],
   "source": [
    "train_df.head()"
   ]
  },
  {
   "cell_type": "markdown",
   "metadata": {},
   "source": [
    "![](https://imgur.com/kO8UAXb.png)"
   ]
  },
  {
   "cell_type": "markdown",
   "metadata": {},
   "source": [
    "image courtesy http://igbiologyy.blogspot.com/2014/03/chromosomes-dna-genes-and-alleles.html"
   ]
  },
  {
   "cell_type": "markdown",
   "metadata": {},
   "source": [
    "### <font style=\"font-size:18px;font-family:arial;color:green;text-indent:100px;line-height: 0.8;word-spacing: 10px\"><i>Gene</i> is a stretch of DNA encoding a specific functional molecule, a protein. Variation is <i>Mutation</i>,  which occurs in the gene and changes the function of the protein. Proteins are made up of 20 amino acids and these are designated by the following alphabets; A,R,N,D,C,Q,E,G,H,I,L,K,M,F,P,S,T,W,Y and V. In the variation column, the first alphabet is the orginal amino acid, the number is the physical position in the gene where the change has occured and the last alphabet is the changed amino acid. The Text dataset contains the information for the Gene, the Variation and the Class column in the variants dataset. The 2 datasets are linked by the common ID column</font>"
   ]
  },
  {
   "cell_type": "markdown",
   "metadata": {},
   "source": [
    "### The distribution of mutations per gene in the dataset"
   ]
  },
  {
   "cell_type": "code",
   "execution_count": 25,
   "metadata": {},
   "outputs": [],
   "source": [
    "mutation_pattern=train_df.groupby(['Gene'])[['Variation']].aggregate(\"count\").sort_values(\"Variation\",ascending=False)"
   ]
  },
  {
   "cell_type": "code",
   "execution_count": 26,
   "metadata": {},
   "outputs": [
    {
     "data": {
      "image/png": "[encoded data removed]",
      "text/plain": [
       "<Figure size 648x360 with 1 Axes>"
      ]
     },
     "metadata": {
      "needs_background": "light"
     },
     "output_type": "display_data"
    }
   ],
   "source": [
    "mutation_pattern[['Variation']].boxplot(vert=False);\n",
    "plt.title(\"The number of mutations per gene\");"
   ]
  },
  {
   "cell_type": "code",
   "execution_count": 27,
   "metadata": {},
   "outputs": [
    {
     "data": {
      "text/plain": [
       "(264, 1)"
      ]
     },
     "execution_count": 27,
     "metadata": {},
     "output_type": "execute_result"
    }
   ],
   "source": [
    "mutation_pattern.shape"
   ]
  },
  {
   "cell_type": "code",
   "execution_count": 28,
   "metadata": {},
   "outputs": [
    {
     "data": {
      "text/plain": [
       "4.0"
      ]
     },
     "execution_count": 28,
     "metadata": {},
     "output_type": "execute_result"
    }
   ],
   "source": [
    "mutation_pattern['Variation'].median()"
   ]
  },
  {
   "cell_type": "code",
   "execution_count": 29,
   "metadata": {},
   "outputs": [
    {
     "data": {
      "text/plain": [
       "0    1\n",
       "dtype: int64"
      ]
     },
     "execution_count": 29,
     "metadata": {},
     "output_type": "execute_result"
    }
   ],
   "source": [
    "mutation_pattern['Variation'].mode()"
   ]
  },
  {
   "cell_type": "code",
   "execution_count": 30,
   "metadata": {},
   "outputs": [],
   "source": [
    "from scipy.special import factorial\n",
    "\n",
    "def poisson(k, lamb):\n",
    "    \"\"\"poisson pdf, parameter lamb is the fit parameter\"\"\"\n",
    "    return (lamb**k/factorial(k)) * np.exp(-lamb)"
   ]
  },
  {
   "cell_type": "code",
   "execution_count": 31,
   "metadata": {},
   "outputs": [],
   "source": [
    "lamb=mutation_pattern['Variation'].mean()"
   ]
  },
  {
   "cell_type": "code",
   "execution_count": 32,
   "metadata": {},
   "outputs": [],
   "source": [
    "k=mutation_pattern['Variation'].to_numpy()"
   ]
  },
  {
   "cell_type": "code",
   "execution_count": 33,
   "metadata": {},
   "outputs": [],
   "source": [
    "k=np.sort(k)"
   ]
  },
  {
   "cell_type": "code",
   "execution_count": 34,
   "metadata": {},
   "outputs": [],
   "source": [
    "y=poisson(k,lamb)"
   ]
  },
  {
   "cell_type": "code",
   "execution_count": 35,
   "metadata": {},
   "outputs": [
    {
     "data": {
      "image/png": "[encoded data removed]",
      "text/plain": [
       "<Figure size 648x360 with 2 Axes>"
      ]
     },
     "metadata": {
      "needs_background": "light"
     },
     "output_type": "display_data"
    }
   ],
   "source": [
    "plt.subplot(1,2,1)\n",
    "mutation_pattern['Variation'].plot.density();\n",
    "plt.title(\"density plot of distribution of mutations\")\n",
    "plt.subplot(1,2,2)\n",
    "plt.plot(k,y);\n",
    "plt.title(\"poisson fit of distribution of mutations\")\n",
    "plt.tight_layout()"
   ]
  },
  {
   "cell_type": "code",
   "execution_count": 36,
   "metadata": {},
   "outputs": [],
   "source": [
    "mutated_genes=train_df['Gene'].to_list()"
   ]
  },
  {
   "cell_type": "markdown",
   "metadata": {},
   "source": [
    "### <font style=\"font-size:18px;font-family:arial;color:blue;text-indent:100px;line-height: 0.8;word-spacing: 10px\"> Mutation acquisition is a rare event. The Poisson distribution is used to describe the distribution of rare events in a large population. For example, at any particular time, there is a certain probability that a particular cell within a large population of cells will acquire a mutation.                                                                                   -Frank H. Stephenson, in Calculations for Molecular Biology and Biotechnology (Second Edition), 2010. The distribution of mutations per gene in this dataset follows the usual pattern of Poisson distribution seen in general for mutations. 3321 mutations, or variations, are distributed in 195 genes. 14 genes have more than 20 mutations, which are often classified in different classes. It would be worthwhile to investigate, why certain mutations are classified in certain specific classes </font>"
   ]
  },
  {
   "cell_type": "markdown",
   "metadata": {},
   "source": [
    "### <font color='green'>The distribution of classes in the dataset </font>"
   ]
  },
  {
   "cell_type": "code",
   "execution_count": 37,
   "metadata": {},
   "outputs": [
    {
     "data": {
      "image/png": "[encoded data removed]",
      "text/plain": [
       "<Figure size 648x360 with 1 Axes>"
      ]
     },
     "metadata": {
      "needs_background": "light"
     },
     "output_type": "display_data"
    }
   ],
   "source": [
    "train_df.value_counts('Class').plot(kind='bar');\n",
    "plt.title(\"Distribution of classes in the data\");"
   ]
  },
  {
   "cell_type": "markdown",
   "metadata": {},
   "source": [
    "### <font color='blue'>The mutations are distributed into 9 classes, from class 1 to class 9.The distribution of the classes is imbalanced </font>"
   ]
  },
  {
   "cell_type": "code",
   "execution_count": 38,
   "metadata": {},
   "outputs": [
    {
     "data": {
      "text/plain": [
       "12"
      ]
     },
     "execution_count": 38,
     "metadata": {},
     "output_type": "execute_result"
    }
   ],
   "source": [
    "train_df[train_df['Class']==8]['Gene'].nunique()"
   ]
  },
  {
   "cell_type": "code",
   "execution_count": 43,
   "metadata": {},
   "outputs": [
    {
     "data": {
      "text/plain": [
       "108"
      ]
     },
     "execution_count": 43,
     "metadata": {},
     "output_type": "execute_result"
    }
   ],
   "source": [
    "train_df[train_df['Class']==7]['Gene'].nunique()"
   ]
  },
  {
   "cell_type": "markdown",
   "metadata": {},
   "source": [
    "### <font color=\"blue\"> The largest class, class 7, has 108 genes which is almost half of all the mutated genes, while class 8, the smallest class has 12 genes. Let us see if all genes in class 7 have the same number of mutations per gene </font>"
   ]
  },
  {
   "cell_type": "code",
   "execution_count": 63,
   "metadata": {},
   "outputs": [
    {
     "data": {
      "image/png": "[encoded data removed]",
      "text/plain": [
       "<Figure size 648x360 with 1 Axes>"
      ]
     },
     "metadata": {
      "needs_background": "light"
     },
     "output_type": "display_data"
    }
   ],
   "source": [
    "train_df[train_df['Class']==7].groupby('Gene')[['Variation']].count().boxplot(vert=False);"
   ]
  },
  {
   "cell_type": "code",
   "execution_count": 69,
   "metadata": {},
   "outputs": [
    {
     "data": {
      "text/plain": [
       "889"
      ]
     },
     "execution_count": 69,
     "metadata": {},
     "output_type": "execute_result"
    }
   ],
   "source": [
    "train_df[train_df['Class']==7]['Variation'].nunique()"
   ]
  },
  {
   "cell_type": "code",
   "execution_count": 36,
   "metadata": {},
   "outputs": [],
   "source": [
    "class_7_genes=train_df[train_df['Class']==7]['Gene'].drop_duplicates().tolist()"
   ]
  },
  {
   "cell_type": "code",
   "execution_count": 46,
   "metadata": {},
   "outputs": [],
   "source": [
    "class_4_genes=train_df[train_df['Class']==4]['Gene'].drop_duplicates().tolist()"
   ]
  },
  {
   "cell_type": "code",
   "execution_count": 47,
   "metadata": {},
   "outputs": [],
   "source": [
    "class_1_genes=train_df[train_df['Class']==1]['Gene'].drop_duplicates().tolist()"
   ]
  },
  {
   "cell_type": "markdown",
   "metadata": {},
   "source": [
    "### <font color='blue'> The pattern of mutations per gene, is same as the overall dataset and hence,no obvious numerical pattern is present in classifying the mutations in class 7. Let us furthere explore a few other possibilites for the classification </font>"
   ]
  },
  {
   "cell_type": "markdown",
   "metadata": {},
   "source": [
    "### <font color='green'>The Signalling Pathways in Cancer</font>"
   ]
  },
  {
   "cell_type": "markdown",
   "metadata": {},
   "source": [
    "![](https://i.imgur.com/yk4ib0M.jpg)"
   ]
  },
  {
   "cell_type": "markdown",
   "metadata": {},
   "source": [
    "### <font color='blue'> Proteins encoded by respective genes, function together in elaborate sequences called <i>Pathways<i> ,to create the final outcome. For cancer, the sequence mostly starts with a signal outside the cell. Proteins called receptors recieve the signal, and pass it on to a sequence of other proteins downstream,finally to a protein called Transcription Activator, which then switches other genes on and off to make the cancer cell survive and proliferate. Here, we will attempt to see, if the classification is based on these pathways, and we will test class 7 as an example </font>"
   ]
  },
  {
   "cell_type": "markdown",
   "metadata": {},
   "source": [
    "### Pathwy analysis with Bioservices library and KEGG Database"
   ]
  },
  {
   "cell_type": "code",
   "execution_count": 73,
   "metadata": {},
   "outputs": [],
   "source": [
    "#!pip install bioservices"
   ]
  },
  {
   "cell_type": "markdown",
   "metadata": {},
   "source": [
    "Bioservices is a Python package that provides access to many Bioinformatices Web Services (e.g., UniProt) and a framework to easily implement Web Services wrappers (based on WSDL/SOAP or REST protocols)"
   ]
  },
  {
   "cell_type": "code",
   "execution_count": 29,
   "metadata": {},
   "outputs": [],
   "source": [
    "from Bio.KEGG import REST\n",
    "from bioservices.kegg import KEGG\n",
    "#from collections import deque\n",
    "import networkx as nx\n",
    "from IPython.display import Image\n",
    "import time\n",
    "import re"
   ]
  },
  {
   "cell_type": "markdown",
   "metadata": {},
   "source": [
    "#### <font color ='blue'>KEGG PATHWAY is a collection of manually drawn pathway maps representing our knowledge of the molecular interaction, reaction and relation networks for:\n",
    "1. Metabolism\n",
    "    Global/overview   Carbohydrate   Energy   Lipid   Nucleotide   Amino acid   Other amino   Glycan\n",
    "    Cofactor/vitamin   Terpenoid/PK   Other secondary metabolite   Xenobiotics   Chemical structure\n",
    "2. Genetic Information Processing\n",
    "3. Environmental Information Processing\n",
    "4. Cellular Processes\n",
    "5. Organismal Systems\n",
    "6. Human Diseases\n",
    "7. Drug Development\n",
    "</font>    "
   ]
  },
  {
   "cell_type": "code",
   "execution_count": 30,
   "metadata": {},
   "outputs": [],
   "source": [
    "kegg_obj=KEGG()"
   ]
  },
  {
   "cell_type": "markdown",
   "metadata": {},
   "source": [
    "#### the get method gets the data pertainng to ALK gene *'ALK') for humans ('hsa') from the KEGG database"
   ]
  },
  {
   "cell_type": "code",
   "execution_count": 77,
   "metadata": {},
   "outputs": [
    {
     "name": "stdout",
     "output_type": "stream",
     "text": [
      "ENTRY       238               CDS       T01001\n",
      "SYMBOL      ALK, ALK1, CD246, NBLST3\n",
      "NAME        (RefSeq) ALK receptor tyrosine kinase\n",
      "ORTHOLOGY   K05119  anaplastic lymphoma kinase [EC:2.7.10.1]\n",
      "ORGANISM    hsa  Homo sapiens (human)\n",
      "PATHWAY     hsa05200  Pathways in cancer\n",
      "            hsa05223  Non-small cell lung cancer\n",
      "            hsa05235  PD-L1 expression and PD-1 checkpoint pathway in cancer\n",
      "NETWORK     nt06210  ERK signaling\n",
      "            nt06214  PI3K signaling\n",
      "            nt06219  JAK-STAT signaling\n",
      "            nt06220  Calcium signaling\n",
      "            nt06266  Non-small cell lung cancer\n",
      "  ELEMENT   N00007  EML4-ALK fusion kinase to RAS-ERK signaling pathway\n",
      "            N00025  EML4-ALK fusion kinase to PLCG-ERK signaling pathway\n",
      "            N00047  EML4-ALK fusion kinase to PI3K signaling pathway\n",
      "            N00105  EML4-ALK fusion kinase to Jak-STAT signaling pathway\n",
      "            N10003  First-generation tyrosine kinase inhibitor to ALK fusion\n",
      "            N10004  Second/third-generation tyrosine kinase inhibitor to ALK fusion\n",
      "DISEASE     H00014  Non-small cell lung cancer\n",
      "            H00043  Neuroblastoma\n",
      "            H01601  Anaplastic large-cell lymphoma\n",
      "            H01892  Peripheral T cell lymphoma\n",
      "DRUG_TARGET Alectinib (DG01625): D10450<JP/US> D10542\n",
      "            Brigatinib: D10866<JP/US>\n",
      "            Ceritinib: D10551<JP/US>\n",
      "            Crizotinib: D09731<JP/US>\n",
      "            Ensartinib (DG02996): D11346 D11356\n",
      "            Entrectinib: D10926<JP/US>\n",
      "            Lorlatinib: D11012<JP/US> D11012<JP/US>\n",
      "            Repotrectinib: D11454\n",
      "BRITE       KEGG Orthology (KO) [BR:hsa00001]\n",
      "             09160 Human Diseases\n",
      "              09161 Cancer: overview\n",
      "               05200 Pathways in cancer\n",
      "                238 (ALK)\n",
      "               05235 PD-L1 expression and PD-1 checkpoint pathway in cancer\n",
      "                238 (ALK)\n",
      "              09162 Cancer: specific types\n",
      "               05223 Non-small cell lung cancer\n",
      "                238 (ALK)\n",
      "             09180 Brite Hierarchies\n",
      "              09181 Protein families: metabolism\n",
      "               01001 Protein kinases [BR:hsa01001]\n",
      "                238 (ALK)\n",
      "              09183 Protein families: signaling and cellular processes\n",
      "               04090 CD molecules [BR:hsa04090]\n",
      "                238 (ALK)\n",
      "            Enzymes [BR:hsa01000]\n",
      "             2. Transferases\n",
      "              2.7  Transferring phosphorus-containing groups\n",
      "               2.7.10  Protein-tyrosine kinases\n",
      "                2.7.10.1  receptor protein-tyrosine kinase\n",
      "                 238 (ALK)\n",
      "            Protein kinases [BR:hsa01001]\n",
      "             Receptor tyrosine kinases (RTK)\n",
      "              ALK family\n",
      "               238 (ALK)\n",
      "            CD molecules [BR:hsa04090]\n",
      "             Proteins\n",
      "              238 (ALK)\n",
      "POSITION    2:complement(29190992..29921589)\n",
      "MOTIF       Pfam: PK_Tyr_Ser-Thr Pkinase MAM Gly_rich Ldl_recept_a FXa_inhibition\n",
      "DBLINKS     NCBI-GeneID: 238\n",
      "            NCBI-ProteinID: NP_004295\n",
      "            OMIM: 105590\n",
      "            HGNC: 427\n",
      "            Ensembl: ENSG00000171094\n",
      "            Vega: OTTHUMG00000152034\n",
      "            Pharos: Q9UM73(Tclin)\n",
      "            UniProt: Q9UM73 B6D4Y2\n",
      "            PDB: 2KUP 2KUQ 2XB7 2XBA 2XP2 2YFX 2YHV 2YJR 2YJS 2YS5 2YT2 3AOX 3L9P 3LCS 3LCT 4ANL 4ANQ 4ANS 4CCB 4CCU 4CD0 4CLI 4CLJ 4CMO 4CMT 4CMU 4CNH 4CTB 4CTC 4DCE 4FNW 4FNX 4FNY 4FNZ 4FOB 4FOC 4FOD 4JOA 4MKC 4TT7 4Z55 5A9U 5AA8 5AA9 5AAA 5AAB 5AAC 5FTO 5FTQ 5IMX 5IUG 5IUH 5IUI 5KZ0 5VZ5 6AT9 6CDT 6E0R 6EBW 6EDL 6MX8 7BTT 7JY4 7JYR 7JYS 7JYT\n",
      "AASEQ       1620\n",
      "            MGAIGLLWLLPLLLSTAAVGSGMGTGQRAGSPAAGPPLQPREPLSYSRLQRKSLAVDFVV\n",
      "            PSLFRVYARDLLLPPSSSELKAGRPEARGSLALDCAPLLRLLGPAPGVSWTAGSPAPAEA\n",
      "            RTLSRVLKGGSVRKLRRAKQLVLELGEEAILEGCVGPPGEAAVGLLQFNLSELFSWWIRQ\n",
      "            GEGRLRIRLMPEKKASEVGREGRLSAAIRASQPRLLFQIFGTGHSSLESPTNMPSPSPDY\n",
      "            FTWNLTWIMKDSFPFLSHRSRYGLECSFDFPCELEYSPPLHDLRNQSWSWRRIPSEEASQ\n",
      "            MDLLDGPGAERSKEMPRGSFLLLNTSADSKHTILSPWMRSSSEHCTLAVSVHRHLQPSGR\n",
      "            YIAQLLPHNEAAREILLMPTPGKHGWTVLQGRIGRPDNPFRVALEYISSGNRSLSAVDFF\n",
      "            ALKNCSEGTSPGSKMALQSSFTCWNGTVLQLGQACDFHQDCAQGEDESQMCRKLPVGFYC\n",
      "            NFEDGFCGWTQGTLSPHTPQWQVRTLKDARFQDHQDHALLLSTTDVPASESATVTSATFP\n",
      "            APIKSSPCELRMSWLIRGVLRGNVSLVLVENKTGKEQGRMVWHVAAYEGLSLWQWMVLPL\n",
      "            LDVSDRFWLQMVAWWGQGSRAIVAFDNISISLDCYLTISGEDKILQNTAPKSRNLFERNP\n",
      "            NKELKPGENSPRQTPIFDPTVHWLFTTCGASGPHGPTQAQCNNAYQNSNLSVEVGSEGPL\n",
      "            KGIQIWKVPATDTYSISGYGAAGGKGGKNTMMRSHGVSVLGIFNLEKDDMLYILVGQQGE\n",
      "            DACPSTNQLIQKVCIGENNVIEEEIRVNRSVHEWAGGGGGGGGATYVFKMKDGVPVPLII\n",
      "            AAGGGGRAYGAKTDTFHPERLENNSSVLGLNGNSGAAGGGGGWNDNTSLLWAGKSLQEGA\n",
      "            TGGHSCPQAMKKWGWETRGGFGGGGGGCSSGGGGGGYIGGNAASNNDPEMDGEDGVSFIS\n",
      "            PLGILYTPALKVMEGHGEVNIKHYLNCSHCEVDECHMDPESHKVICFCDHGTVLAEDGVS\n",
      "            CIVSPTPEPHLPLSLILSVVTSALVAALVLAFSGIMIVYRRKHQELQAMQMELQSPEYKL\n",
      "            SKLRTSTIMTDYNPNYCFAGKTSSISDLKEVPRKNITLIRGLGHGAFGEVYEGQVSGMPN\n",
      "            DPSPLQVAVKTLPEVCSEQDELDFLMEALIISKFNHQNIVRCIGVSLQSLPRFILLELMA\n",
      "            GGDLKSFLRETRPRPSQPSSLAMLDLLHVARDIACGCQYLEENHFIHRDIAARNCLLTCP\n",
      "            GPGRVAKIGDFGMARDIYRASYYRKGGCAMLPVKWMPPEAFMEGIFTSKTDTWSFGVLLW\n",
      "            EIFSLGYMPYPSKSNQEVLEFVTSGGRMDPPKNCPGPVYRIMTQCWQHQPEDRPNFAIIL\n",
      "            ERIEYCTQDPDVINTALPIEYGPLVEEEEKVPVRPKDPEGVPPLLVSQQAKREEERSPAA\n",
      "            PPPLPTTSSGKAAKKPTAAEISVRVPRGPAVEGGHVNMAFSQSNPPSELHKVHGSRNKPT\n",
      "            SLWNPTYGSWFTEKPTKKNNPIAKKEPHDRGNLGLEGSCTVPPNVATGRLPGASLLLEPS\n",
      "            SLTANMKEVPLFRLRHFPCGNVNYGYQQQGLPLEAATAPGAGHYEDTILKSKNSMNQPGP\n",
      "NTSEQ       4863\n",
      "            atgggagccatcgggctcctgtggctcctgccgctgctgctttccacggcagctgtgggc\n",
      "            tccgggatggggaccggccagcgcgcgggctccccagctgcggggccgccgctgcagccc\n",
      "            cgggagccactcagctactcgcgcctgcagaggaagagtctggcagttgacttcgtggtg\n",
      "            ccctcgctcttccgtgtctacgcccgggacctactgctgccaccatcctcctcggagctg\n",
      "            aaggctggcaggcccgaggcccgcggctcgctagctctggactgcgccccgctgctcagg\n",
      "            ttgctggggccggcgccgggggtctcctggaccgccggttcaccagccccggcagaggcc\n",
      "            cggacgctgtccagggtgctgaagggcggctccgtgcgcaagctccggcgtgccaagcag\n",
      "            ttggtgctggagctgggcgaggaggcgatcttggagggttgcgtcgggccccccggggag\n",
      "            gcggctgtggggctgctccagttcaatctcagcgagctgttcagttggtggattcgccaa\n",
      "            ggcgaagggcgactgaggatccgcctgatgcccgagaagaaggcgtcggaagtgggcaga\n",
      "            gagggaaggctgtccgcggcaattcgcgcctcccagccccgccttctcttccagatcttc\n",
      "            gggactggtcatagctccttggaatcaccaacaaacatgccttctccttctcctgattat\n",
      "            tttacatggaatctcacctggataatgaaagactccttccctttcctgtctcatcgcagc\n",
      "            cgatatggtctggagtgcagctttgacttcccctgtgagctggagtattcccctccactg\n",
      "            catgacctcaggaaccagagctggtcctggcgccgcatcccctccgaggaggcctcccag\n",
      "            atggacttgctggatgggcctggggcagagcgttctaaggagatgcccagaggctccttt\n",
      "            ctccttctcaacacctcagctgactccaagcacaccatcctgagtccgtggatgaggagc\n",
      "            agcagtgagcactgcacactggccgtctcggtgcacaggcacctgcagccctctggaagg\n",
      "            tacattgcccagctgctgccccacaacgaggctgcaagagagatcctcctgatgcccact\n",
      "            ccagggaagcatggttggacagtgctccagggaagaatcgggcgtccagacaacccattt\n",
      "            cgagtggccctggaatacatctccagtggaaaccgcagcttgtctgcagtggacttcttt\n",
      "            gccctgaagaactgcagtgaaggaacatccccaggctccaagatggccctgcagagctcc\n",
      "            ttcacttgttggaatgggacagtcctccagcttgggcaggcctgtgacttccaccaggac\n",
      "            tgtgcccagggagaagatgagagccagatgtgccggaaactgcctgtgggtttttactgc\n",
      "            aactttgaagatggcttctgtggctggacccaaggcacactgtcaccccacactcctcaa\n",
      "            tggcaggtcaggaccctaaaggatgcccggttccaggaccaccaagaccatgctctattg\n",
      "            ctcagtaccactgatgtccccgcttctgaaagtgctacagtgaccagtgctacgtttcct\n",
      "            gcaccgatcaagagctctccatgtgagctccgaatgtcctggctcattcgtggagtcttg\n",
      "            aggggaaacgtgtccttggtgctagtggagaacaaaaccgggaaggagcaaggcaggatg\n",
      "            gtctggcatgtcgccgcctatgaaggcttgagcctgtggcagtggatggtgttgcctctc\n",
      "            ctcgatgtgtctgacaggttctggctgcagatggtcgcatggtggggacaaggatccaga\n",
      "            gccatcgtggcttttgacaatatctccatcagcctggactgctacctcaccattagcgga\n",
      "            gaggacaagatcctgcagaatacagcacccaaatcaagaaacctgtttgagagaaaccca\n",
      "            aacaaggagctgaaacccggggaaaattcaccaagacagacccccatctttgaccctaca\n",
      "            gttcattggctgttcaccacatgtggggccagcgggccccatggccccacccaggcacag\n",
      "            tgcaacaacgcctaccagaactccaacctgagcgtggaggtggggagcgagggccccctg\n",
      "            aaaggcatccagatctggaaggtgccagccaccgacacctacagcatctcgggctacgga\n",
      "            gctgctggcgggaaaggcgggaagaacaccatgatgcggtcccacggcgtgtctgtgctg\n",
      "            ggcatcttcaacctggagaaggatgacatgctgtacatcctggttgggcagcagggagag\n",
      "            gacgcctgccccagtacaaaccagttaatccagaaagtctgcattggagagaacaatgtg\n",
      "            atagaagaagaaatccgtgtgaacagaagcgtgcatgagtgggcaggaggcggaggagga\n",
      "            gggggtggagccacctacgtatttaagatgaaggatggagtgccggtgcccctgatcatt\n",
      "            gcagccggaggtggtggcagggcctacggggccaagacagacacgttccacccagagaga\n",
      "            ctggagaataactcctcggttctagggctaaacggcaattccggagccgcaggtggtgga\n",
      "            ggtggctggaatgataacacttccttgctctgggccggaaaatctttgcaggagggtgcc\n",
      "            accggaggacattcctgcccccaggccatgaagaagtgggggtgggagacaagagggggt\n",
      "            ttcggagggggtggaggggggtgctcctcaggtggaggaggcggaggatatataggcggc\n",
      "            aatgcagcctcaaacaatgaccccgaaatggatggggaagatggggtttccttcatcagt\n",
      "            ccactgggcatcctgtacaccccagctttaaaagtgatggaaggccacggggaagtgaat\n",
      "            attaagcattatctaaactgcagtcactgtgaggtagacgaatgtcacatggaccctgaa\n",
      "            agccacaaggtcatctgcttctgtgaccacgggacggtgctggctgaggatggcgtctcc\n",
      "            tgcattgtgtcacccaccccggagccacacctgccactctcgctgatcctctctgtggtg\n",
      "            acctctgccctcgtggccgccctggtcctggctttctccggcatcatgattgtgtaccgc\n",
      "            cggaagcaccaggagctgcaagccatgcagatggagctgcagagccctgagtacaagctg\n",
      "            agcaagctccgcacctcgaccatcatgaccgactacaaccccaactactgctttgctggc\n",
      "            aagacctcctccatcagtgacctgaaggaggtgccgcggaaaaacatcaccctcattcgg\n",
      "            ggtctgggccatggcgcctttggggaggtgtatgaaggccaggtgtccggaatgcccaac\n",
      "            gacccaagccccctgcaagtggctgtgaagacgctgcctgaagtgtgctctgaacaggac\n",
      "            gaactggatttcctcatggaagccctgatcatcagcaaattcaaccaccagaacattgtt\n",
      "            cgctgcattggggtgagcctgcaatccctgccccggttcatcctgctggagctcatggcg\n",
      "            gggggagacctcaagtccttcctccgagagacccgccctcgcccgagccagccctcctcc\n",
      "            ctggccatgctggaccttctgcacgtggctcgggacattgcctgtggctgtcagtatttg\n",
      "            gaggaaaaccacttcatccaccgagacattgctgccagaaactgcctcttgacctgtcca\n",
      "            ggccctggaagagtggccaagattggagacttcgggatggcccgagacatctacagggcg\n",
      "            agctactatagaaagggaggctgtgccatgctgccagttaagtggatgcccccagaggcc\n",
      "            ttcatggaaggaatattcacttctaaaacagacacatggtcctttggagtgctgctatgg\n",
      "            gaaatcttttctcttggatatatgccataccccagcaaaagcaaccaggaagttctggag\n",
      "            tttgtcaccagtggaggccggatggacccacccaagaactgccctgggcctgtataccgg\n",
      "            ataatgactcagtgctggcaacatcagcctgaagacaggcccaactttgccatcattttg\n",
      "            gagaggattgaatactgcacccaggacccggatgtaatcaacaccgctttgccgatagaa\n",
      "            tatggtccacttgtggaagaggaagagaaagtgcctgtgaggcccaaggaccctgagggg\n",
      "            gttcctcctctcctggtctctcaacaggcaaaacgggaggaggagcgcagcccagctgcc\n",
      "            ccaccacctctgcctaccacctcctctggcaaggctgcaaagaaacccacagctgcagag\n",
      "            atctctgttcgagtccctagagggccggccgtggaagggggacacgtgaatatggcattc\n",
      "            tctcagtccaaccctccttcggagttgcacaaggtccacggatccagaaacaagcccacc\n",
      "            agcttgtggaacccaacgtacggctcctggtttacagagaaacccaccaaaaagaataat\n",
      "            cctatagcaaagaaggagccacacgacaggggtaacctggggctggagggaagctgtact\n",
      "            gtcccacctaacgttgcaactgggagacttccgggggcctcactgctcctagagccctct\n",
      "            tcgctgactgccaatatgaaggaggtacctctgttcaggctacgtcacttcccttgtggg\n",
      "            aatgtcaattacggctaccagcaacagggcttgcccttagaagccgctactgcccctgga\n",
      "            gctggtcattacgaggataccattctgaaaagcaagaatagcatgaaccagcctgggccc\n",
      "            tga\n",
      "///\n",
      "\n"
     ]
    }
   ],
   "source": [
    "print(kegg_obj.get(\"hsa:ALK\"))"
   ]
  },
  {
   "cell_type": "markdown",
   "metadata": {},
   "source": [
    "#### get the list of all human genes from the KEGG Database and use re module to extract gene name"
   ]
  },
  {
   "cell_type": "code",
   "execution_count": 31,
   "metadata": {},
   "outputs": [],
   "source": [
    "human_gene_list=kegg_obj.list('hsa')"
   ]
  },
  {
   "cell_type": "code",
   "execution_count": 32,
   "metadata": {},
   "outputs": [],
   "source": [
    "human_gene_list=human_gene_list.split('\\n')"
   ]
  },
  {
   "cell_type": "code",
   "execution_count": 82,
   "metadata": {},
   "outputs": [
    {
     "data": {
      "text/plain": [
       "'hsa:100616498\\tMIR378E, mir-378e; microRNA 378e'"
      ]
     },
     "execution_count": 82,
     "metadata": {},
     "output_type": "execute_result"
    }
   ],
   "source": [
    "human_gene_list[0]"
   ]
  },
  {
   "cell_type": "code",
   "execution_count": 83,
   "metadata": {},
   "outputs": [
    {
     "data": {
      "text/plain": [
       "'hsa:100616498,MIR378E, mir-378e, microRNA 378e'"
      ]
     },
     "execution_count": 83,
     "metadata": {},
     "output_type": "execute_result"
    }
   ],
   "source": [
    "re.sub('[\\t;]',',',human_gene_list[0])"
   ]
  },
  {
   "cell_type": "code",
   "execution_count": 84,
   "metadata": {},
   "outputs": [
    {
     "data": {
      "text/plain": [
       "'MIR378E'"
      ]
     },
     "execution_count": 84,
     "metadata": {},
     "output_type": "execute_result"
    }
   ],
   "source": [
    "re.search('\\t\\w+','hsa:100616498\\tMIR378E, mir-378e; microRNA 378e').group()[1:]"
   ]
  },
  {
   "cell_type": "code",
   "execution_count": 33,
   "metadata": {},
   "outputs": [],
   "source": [
    "def get_kegg_indices(human_gene_list):\n",
    "    \"\"\" this function gets the gene name and KEGG Database IDs\"\"\"\n",
    "    gene_kegg_id_dict={}\n",
    "    for item in human_gene_list:\n",
    "        try:\n",
    "            kegg_id=re.search('^\\w+:\\w+',item).group()\n",
    "        except:\n",
    "            kegg_id='no_entry'\n",
    "        try:\n",
    "            gene=re.search('\\t\\w+',item).group()[1:]\n",
    "        except:\n",
    "            gene='no_gene'            \n",
    "        gene_kegg_id_dict[gene]=kegg_id\n",
    "    return gene_kegg_id_dict    "
   ]
  },
  {
   "cell_type": "code",
   "execution_count": 34,
   "metadata": {},
   "outputs": [],
   "source": [
    "def map_mutation_kegg(mutated_genes,human_gene_list):\n",
    "    \"\"\"this function maps the mutated genes to KEGG Database IDs\"\"\"\n",
    "    print(\"mutated genes in class 7 \",len(mutated_genes))\n",
    "    print(\"genes in KEGG Database \",len(human_gene_list))\n",
    "    mut_gene_kegg=[]\n",
    "    kegg_gene_dict=get_kegg_indices(human_gene_list)\n",
    "    for mut_gene in mutated_genes:\n",
    "        if mut_gene in kegg_gene_dict:\n",
    "            gene_tup=(mut_gene,kegg_gene_dict[mut_gene])\n",
    "            mut_gene_kegg.append(gene_tup)\n",
    "    return mut_gene_kegg        "
   ]
  },
  {
   "cell_type": "markdown",
   "metadata": {},
   "source": [
    "#### get the KEGG gene IDs for mutated genes for class 7"
   ]
  },
  {
   "cell_type": "code",
   "execution_count": 37,
   "metadata": {},
   "outputs": [
    {
     "name": "stdout",
     "output_type": "stream",
     "text": [
      "mutated genes in class 7  108\n",
      "genes in KEGG Database  22232\n"
     ]
    }
   ],
   "source": [
    "class_7_mutated_kegg=map_mutation_kegg(class_7_genes,human_gene_list)"
   ]
  },
  {
   "cell_type": "code",
   "execution_count": 38,
   "metadata": {},
   "outputs": [],
   "source": [
    "def df_gene_pathway(mutated_genes):    \n",
    "    \"\"\"this function maps the pathways from KEGG Database to the mutated genes\"\"\"\n",
    "    df_gene_pathway=pd.DataFrame(columns=[\"gene\",\"pathway\"])\n",
    "    for gene in tqdm(mutated_genes):    \n",
    "        try:\n",
    "            pathway_origin=kegg_obj.get_pathway_by_gene(gene,\"hsa\")\n",
    "            pathway_list=list(set(pathway_origin.keys()))\n",
    "            for pathway in pathway_list:\n",
    "                path_obj=kegg_obj.get(pathway)\n",
    "                path_name=kegg_obj.parse(path_obj)['NAME'][0]          # get the name of the pathway \n",
    "                path_name=re.sub(' -\\s\\w*\\s\\w*\\s\\(\\w*\\)',\"\",path_name) # remove the trailing text after hyphen\n",
    "                df_gene_pathway=df_gene_pathway.append({\"pathway\":path_name,\"gene\":gene},ignore_index=True)\n",
    "        except:\n",
    "            print(\"no data for \",gene)\n",
    "    return df_gene_pathway       "
   ]
  },
  {
   "cell_type": "code",
   "execution_count": 39,
   "metadata": {},
   "outputs": [
    {
     "name": "stderr",
     "output_type": "stream",
     "text": [
      "  0%|          | 0/108 [00:00<?, ?it/s]\u001b[33mWARNING [bioservices:keggparser:119]: \u001b[0m \u001b[34mFound keyword SYMBOL, which has not special\n",
      "    parsing for now. please report this issue with the KEGG \n",
      "    identifier (7015              CDS       T01001) into github.com/bioservices. Thanks T.C.\u001b[0m\n",
      "  1%|          | 1/108 [00:02<04:50,  2.72s/it]\u001b[33mWARNING [bioservices:keggparser:119]: \u001b[0m \u001b[34mFound keyword SYMBOL, which has not special\n",
      "    parsing for now. please report this issue with the KEGG \n",
      "    identifier (6009              CDS       T01001) into github.com/bioservices. Thanks T.C.\u001b[0m\n",
      "  2%|▏         | 2/108 [00:07<07:21,  4.17s/it]\u001b[33mWARNING [bioservices:keggparser:119]: \u001b[0m \u001b[34mFound keyword SYMBOL, which has not special\n",
      "    parsing for now. please report this issue with the KEGG \n",
      "    identifier (896               CDS       T01001) into github.com/bioservices. Thanks T.C.\u001b[0m\n",
      "  3%|▎         | 3/108 [00:14<08:50,  5.06s/it]\u001b[33mWARNING [bioservices:keggparser:119]: \u001b[0m \u001b[34mFound keyword SYMBOL, which has not special\n",
      "    parsing for now. please report this issue with the KEGG \n",
      "    identifier (6016              CDS       T01001) into github.com/bioservices. Thanks T.C.\u001b[0m\n",
      "  4%|▎         | 4/108 [00:14<05:26,  3.14s/it]"
     ]
    },
    {
     "name": "stdout",
     "output_type": "stream",
     "text": [
      "no data for  RIT1\n"
     ]
    },
    {
     "name": "stderr",
     "output_type": "stream",
     "text": [
      "\u001b[33mWARNING [bioservices:keggparser:119]: \u001b[0m \u001b[34mFound keyword SYMBOL, which has not special\n",
      "    parsing for now. please report this issue with the KEGG \n",
      "    identifier (898               CDS       T01001) into github.com/bioservices. Thanks T.C.\u001b[0m\n",
      "  5%|▍         | 5/108 [00:20<07:17,  4.24s/it]\u001b[33mWARNING [bioservices:keggparser:119]: \u001b[0m \u001b[34mFound keyword SYMBOL, which has not special\n",
      "    parsing for now. please report this issue with the KEGG \n",
      "    identifier (1956              CDS       T01001) into github.com/bioservices. Thanks T.C.\u001b[0m\n",
      "  6%|▌         | 6/108 [00:36<14:04,  8.28s/it]\u001b[33mWARNING [bioservices:keggparser:119]: \u001b[0m \u001b[34mFound keyword SYMBOL, which has not special\n",
      "    parsing for now. please report this issue with the KEGG \n",
      "    identifier (7080              CDS       T01001) into github.com/bioservices. Thanks T.C.\u001b[0m\n",
      "  6%|▋         | 7/108 [00:36<09:29,  5.64s/it]"
     ]
    },
    {
     "name": "stdout",
     "output_type": "stream",
     "text": [
      "no data for  NKX2-1\n"
     ]
    },
    {
     "name": "stderr",
     "output_type": "stream",
     "text": [
      "\u001b[33mWARNING [bioservices:keggparser:119]: \u001b[0m \u001b[34mFound keyword SYMBOL, which has not special\n",
      "    parsing for now. please report this issue with the KEGG \n",
      "    identifier (1964              CDS       T01001) into github.com/bioservices. Thanks T.C.\u001b[0m\n",
      "  7%|▋         | 8/108 [00:37<06:35,  3.95s/it]"
     ]
    },
    {
     "name": "stdout",
     "output_type": "stream",
     "text": [
      "no data for  EIF1AX\n"
     ]
    },
    {
     "name": "stderr",
     "output_type": "stream",
     "text": [
      "\u001b[33mWARNING [bioservices:keggparser:119]: \u001b[0m \u001b[34mFound keyword SYMBOL, which has not special\n",
      "    parsing for now. please report this issue with the KEGG \n",
      "    identifier (23476             CDS       T01001) into github.com/bioservices. Thanks T.C.\u001b[0m\n",
      "  8%|▊         | 9/108 [00:37<04:35,  2.78s/it]"
     ]
    },
    {
     "name": "stdout",
     "output_type": "stream",
     "text": [
      "no data for  BRD4\n"
     ]
    },
    {
     "name": "stderr",
     "output_type": "stream",
     "text": [
      "\u001b[33mWARNING [bioservices:keggparser:119]: \u001b[0m \u001b[34mFound keyword SYMBOL, which has not special\n",
      "    parsing for now. please report this issue with the KEGG \n",
      "    identifier (5058              CDS       T01001) into github.com/bioservices. Thanks T.C.\u001b[0m\n",
      "  9%|▉         | 10/108 [00:44<06:38,  4.07s/it]\u001b[33mWARNING [bioservices:keggparser:119]: \u001b[0m \u001b[34mFound keyword SYMBOL, which has not special\n",
      "    parsing for now. please report this issue with the KEGG \n",
      "    identifier (7113              CDS       T01001) into github.com/bioservices. Thanks T.C.\u001b[0m\n",
      " 10%|█         | 11/108 [00:45<05:22,  3.32s/it]\u001b[33mWARNING [bioservices:keggparser:119]: \u001b[0m \u001b[34mFound keyword SYMBOL, which has not special\n",
      "    parsing for now. please report this issue with the KEGG \n",
      "    identifier (6098              CDS       T01001) into github.com/bioservices. Thanks T.C.\u001b[0m\n",
      " 11%|█         | 12/108 [00:46<03:51,  2.41s/it]"
     ]
    },
    {
     "name": "stdout",
     "output_type": "stream",
     "text": [
      "no data for  ROS1\n"
     ]
    },
    {
     "name": "stderr",
     "output_type": "stream",
     "text": [
      "\u001b[33mWARNING [bioservices:keggparser:119]: \u001b[0m \u001b[34mFound keyword SYMBOL, which has not special\n",
      "    parsing for now. please report this issue with the KEGG \n",
      "    identifier (2033              CDS       T01001) into github.com/bioservices. Thanks T.C.\u001b[0m\n",
      " 12%|█▏        | 13/108 [00:55<07:09,  4.52s/it]\u001b[33mWARNING [bioservices:keggparser:119]: \u001b[0m \u001b[34mFound keyword SYMBOL, which has not special\n",
      "    parsing for now. please report this issue with the KEGG \n",
      "    identifier (1019              CDS       T01001) into github.com/bioservices. Thanks T.C.\u001b[0m\n",
      " 13%|█▎        | 14/108 [01:05<09:34,  6.11s/it]\u001b[33mWARNING [bioservices:keggparser:119]: \u001b[0m \u001b[34mFound keyword SYMBOL, which has not special\n",
      "    parsing for now. please report this issue with the KEGG \n",
      "    identifier (1021              CDS       T01001) into github.com/bioservices. Thanks T.C.\u001b[0m\n",
      " 14%|█▍        | 15/108 [01:13<10:30,  6.78s/it]\u001b[33mWARNING [bioservices:keggparser:119]: \u001b[0m \u001b[34mFound keyword SYMBOL, which has not special\n",
      "    parsing for now. please report this issue with the KEGG \n",
      "    identifier (1024              CDS       T01001) into github.com/bioservices. Thanks T.C.\u001b[0m\n",
      " 15%|█▍        | 16/108 [01:13<07:21,  4.79s/it]"
     ]
    },
    {
     "name": "stdout",
     "output_type": "stream",
     "text": [
      "no data for  CDK8\n"
     ]
    },
    {
     "name": "stderr",
     "output_type": "stream",
     "text": [
      "\u001b[33mWARNING [bioservices:keggparser:119]: \u001b[0m \u001b[34mFound keyword SYMBOL, which has not special\n",
      "    parsing for now. please report this issue with the KEGG \n",
      "    identifier (2064              CDS       T01001) into github.com/bioservices. Thanks T.C.\u001b[0m\n",
      " 16%|█▌        | 17/108 [01:21<08:34,  5.65s/it]\u001b[33mWARNING [bioservices:keggparser:119]: \u001b[0m \u001b[34mFound keyword SYMBOL, which has not special\n",
      "    parsing for now. please report this issue with the KEGG \n",
      "    identifier (2065              CDS       T01001) into github.com/bioservices. Thanks T.C.\u001b[0m\n",
      " 17%|█▋        | 18/108 [01:24<07:06,  4.74s/it]\u001b[33mWARNING [bioservices:keggparser:119]: \u001b[0m \u001b[34mFound keyword SYMBOL, which has not special\n",
      "    parsing for now. please report this issue with the KEGG \n",
      "    identifier (2066              CDS       T01001) into github.com/bioservices. Thanks T.C.\u001b[0m\n",
      " 18%|█▊        | 19/108 [01:26<06:03,  4.08s/it]\u001b[33mWARNING [bioservices:keggparser:119]: \u001b[0m \u001b[34mFound keyword SYMBOL, which has not special\n",
      "    parsing for now. please report this issue with the KEGG \n",
      "    identifier (25                CDS       T01001) into github.com/bioservices. Thanks T.C.\u001b[0m\n",
      " 19%|█▊        | 20/108 [01:30<06:02,  4.12s/it]\u001b[33mWARNING [bioservices:keggparser:119]: \u001b[0m \u001b[34mFound keyword SYMBOL, which has not special\n",
      "    parsing for now. please report this issue with the KEGG \n",
      "    identifier (2078              CDS       T01001) into github.com/bioservices. Thanks T.C.\u001b[0m\n",
      " 19%|█▉        | 21/108 [01:31<04:34,  3.15s/it]\u001b[33mWARNING [bioservices:keggparser:119]: \u001b[0m \u001b[34mFound keyword SYMBOL, which has not special\n",
      "    parsing for now. please report this issue with the KEGG \n",
      "    identifier (5156              CDS       T01001) into github.com/bioservices. Thanks T.C.\u001b[0m\n",
      " 20%|██        | 22/108 [01:38<06:13,  4.35s/it]\u001b[33mWARNING [bioservices:keggparser:119]: \u001b[0m \u001b[34mFound keyword SYMBOL, which has not special\n",
      "    parsing for now. please report this issue with the KEGG \n",
      "    identifier (5159              CDS       T01001) into github.com/bioservices. Thanks T.C.\u001b[0m\n",
      " 21%|██▏       | 23/108 [01:46<07:21,  5.19s/it]\u001b[33mWARNING [bioservices:keggparser:119]: \u001b[0m \u001b[34mFound keyword SYMBOL, which has not special\n",
      "    parsing for now. please report this issue with the KEGG \n",
      "    identifier (2099              CDS       T01001) into github.com/bioservices. Thanks T.C.\u001b[0m\n",
      " 22%|██▏       | 24/108 [01:49<06:33,  4.68s/it]\u001b[33mWARNING [bioservices:keggparser:119]: \u001b[0m \u001b[34mFound keyword SYMBOL, which has not special\n",
      "    parsing for now. please report this issue with the KEGG \n",
      "    identifier (2115              CDS       T01001) into github.com/bioservices. Thanks T.C.\u001b[0m\n",
      " 23%|██▎       | 25/108 [01:50<04:49,  3.49s/it]\u001b[33mWARNING [bioservices:keggparser:119]: \u001b[0m \u001b[34mFound keyword SYMBOL, which has not special\n",
      "    parsing for now. please report this issue with the KEGG \n",
      "    identifier (2120              CDS       T01001) into github.com/bioservices. Thanks T.C.\u001b[0m\n",
      " 24%|██▍       | 26/108 [01:50<03:37,  2.65s/it]\u001b[33mWARNING [bioservices:keggparser:119]: \u001b[0m \u001b[34mFound keyword SYMBOL, which has not special\n",
      "    parsing for now. please report this issue with the KEGG \n",
      "    identifier (7249              CDS       T01001) into github.com/bioservices. Thanks T.C.\u001b[0m\n",
      " 25%|██▌       | 27/108 [01:56<04:41,  3.48s/it]\u001b[33mWARNING [bioservices:keggparser:119]: \u001b[0m \u001b[34mFound keyword SYMBOL, which has not special\n",
      "    parsing for now. please report this issue with the KEGG \n",
      "    identifier (2130              CDS       T01001) into github.com/bioservices. Thanks T.C.\u001b[0m\n",
      " 26%|██▌       | 28/108 [01:57<03:31,  2.65s/it]\u001b[33mWARNING [bioservices:keggparser:119]: \u001b[0m \u001b[34mFound keyword SYMBOL, which has not special\n",
      "    parsing for now. please report this issue with the KEGG \n",
      "    identifier (90                CDS       T01001) into github.com/bioservices. Thanks T.C.\u001b[0m\n",
      " 27%|██▋       | 29/108 [01:58<03:05,  2.35s/it]\u001b[33mWARNING [bioservices:keggparser:119]: \u001b[0m \u001b[34mFound keyword SYMBOL, which has not special\n",
      "    parsing for now. please report this issue with the KEGG \n",
      "    identifier (3169              CDS       T01001) into github.com/bioservices. Thanks T.C.\u001b[0m\n",
      " 28%|██▊       | 30/108 [01:58<02:13,  1.71s/it]"
     ]
    },
    {
     "name": "stdout",
     "output_type": "stream",
     "text": [
      "no data for  FOXA1\n"
     ]
    },
    {
     "name": "stderr",
     "output_type": "stream",
     "text": [
      "\u001b[33mWARNING [bioservices:keggparser:119]: \u001b[0m \u001b[34mFound keyword SYMBOL, which has not special\n",
      "    parsing for now. please report this issue with the KEGG \n",
      "    identifier (4193              CDS       T01001) into github.com/bioservices. Thanks T.C.\u001b[0m\n",
      " 29%|██▊       | 31/108 [02:07<04:55,  3.83s/it]\u001b[33mWARNING [bioservices:keggparser:119]: \u001b[0m \u001b[34mFound keyword SYMBOL, which has not special\n",
      "    parsing for now. please report this issue with the KEGG \n",
      "    identifier (2146              CDS       T01001) into github.com/bioservices. Thanks T.C.\u001b[0m\n",
      " 30%|██▉       | 32/108 [02:08<03:49,  3.02s/it]\u001b[33mWARNING [bioservices:keggparser:119]: \u001b[0m \u001b[34mFound keyword SYMBOL, which has not special\n",
      "    parsing for now. please report this issue with the KEGG \n",
      "    identifier (4194              CDS       T01001) into github.com/bioservices. Thanks T.C.\u001b[0m\n",
      " 31%|███       | 33/108 [02:09<03:01,  2.42s/it]\u001b[33mWARNING [bioservices:keggparser:119]: \u001b[0m \u001b[34mFound keyword SYMBOL, which has not special\n",
      "    parsing for now. please report this issue with the KEGG \n",
      "    identifier (4233              CDS       T01001) into github.com/bioservices. Thanks T.C.\u001b[0m\n",
      " 31%|███▏      | 34/108 [02:17<05:02,  4.09s/it]\u001b[33mWARNING [bioservices:keggparser:119]: \u001b[0m \u001b[34mFound keyword SYMBOL, which has not special\n",
      "    parsing for now. please report this issue with the KEGG \n",
      "    identifier (5290              CDS       T01001) into github.com/bioservices. Thanks T.C.\u001b[0m\n",
      " 32%|███▏      | 35/108 [02:53<16:37, 13.67s/it]\u001b[33mWARNING [bioservices:keggparser:119]: \u001b[0m \u001b[34mFound keyword SYMBOL, which has not special\n",
      "    parsing for now. please report this issue with the KEGG \n",
      "    identifier (5291              CDS       T01001) into github.com/bioservices. Thanks T.C.\u001b[0m\n",
      " 33%|███▎      | 36/108 [03:30<24:45, 20.63s/it]\u001b[33mWARNING [bioservices:keggparser:119]: \u001b[0m \u001b[34mFound keyword SYMBOL, which has not special\n",
      "    parsing for now. please report this issue with the KEGG \n",
      "    identifier (5293              CDS       T01001) into github.com/bioservices. Thanks T.C.\u001b[0m\n",
      " 34%|███▍      | 37/108 [04:07<30:06, 25.44s/it]\u001b[33mWARNING [bioservices:keggparser:119]: \u001b[0m \u001b[34mFound keyword SYMBOL, which has not special\n",
      "    parsing for now. please report this issue with the KEGG \n",
      "    identifier (10413             CDS       T01001) into github.com/bioservices. Thanks T.C.\u001b[0m\n",
      " 35%|███▌      | 38/108 [04:08<21:04, 18.07s/it]\u001b[33mWARNING [bioservices:keggparser:119]: \u001b[0m \u001b[34mFound keyword SYMBOL, which has not special\n",
      "    parsing for now. please report this issue with the KEGG \n",
      "    identifier (5296              CDS       T01001) into github.com/bioservices. Thanks T.C.\u001b[0m\n",
      " 36%|███▌      | 39/108 [04:43<26:31, 23.06s/it]\u001b[33mWARNING [bioservices:keggparser:119]: \u001b[0m \u001b[34mFound keyword SYMBOL, which has not special\n",
      "    parsing for now. please report this issue with the KEGG \n",
      "    identifier (3265              CDS       T01001) into github.com/bioservices. Thanks T.C.\u001b[0m\n",
      " 37%|███▋      | 40/108 [05:12<28:25, 25.08s/it]\u001b[33mWARNING [bioservices:keggparser:119]: \u001b[0m \u001b[34mFound keyword SYMBOL, which has not special\n",
      "    parsing for now. please report this issue with the KEGG \n",
      "    identifier (207               CDS       T01001) into github.com/bioservices. Thanks T.C.\u001b[0m\n",
      " 38%|███▊      | 41/108 [05:48<31:27, 28.17s/it]\u001b[33mWARNING [bioservices:keggparser:119]: \u001b[0m \u001b[34mFound keyword SYMBOL, which has not special\n",
      "    parsing for now. please report this issue with the KEGG \n",
      "    identifier (208               CDS       T01001) into github.com/bioservices. Thanks T.C.\u001b[0m\n",
      " 39%|███▉      | 42/108 [06:55<43:51, 39.87s/it]\u001b[33mWARNING [bioservices:keggparser:119]: \u001b[0m \u001b[34mFound keyword SYMBOL, which has not special\n",
      "    parsing for now. please report this issue with the KEGG \n",
      "    identifier (2260              CDS       T01001) into github.com/bioservices. Thanks T.C.\u001b[0m\n",
      " 40%|███▉      | 43/108 [07:01<32:14, 29.76s/it]\u001b[33mWARNING [bioservices:keggparser:119]: \u001b[0m \u001b[34mFound keyword SYMBOL, which has not special\n",
      "    parsing for now. please report this issue with the KEGG \n",
      "    identifier (2261              CDS       T01001) into github.com/bioservices. Thanks T.C.\u001b[0m\n",
      " 41%|████      | 44/108 [07:06<23:48, 22.32s/it]\u001b[33mWARNING [bioservices:keggparser:119]: \u001b[0m \u001b[34mFound keyword SYMBOL, which has not special\n",
      "    parsing for now. please report this issue with the KEGG \n",
      "    identifier (2263              CDS       T01001) into github.com/bioservices. Thanks T.C.\u001b[0m\n",
      " 42%|████▏     | 45/108 [07:11<18:05, 17.22s/it]\u001b[33mWARNING [bioservices:keggparser:119]: \u001b[0m \u001b[34mFound keyword SYMBOL, which has not special\n",
      "    parsing for now. please report this issue with the KEGG \n",
      "    identifier (2264              CDS       T01001) into github.com/bioservices. Thanks T.C.\u001b[0m\n",
      " 43%|████▎     | 46/108 [07:15<13:38, 13.20s/it]\u001b[33mWARNING [bioservices:keggparser:119]: \u001b[0m \u001b[34mFound keyword SYMBOL, which has not special\n",
      "    parsing for now. please report this issue with the KEGG \n",
      "    identifier (238               CDS       T01001) into github.com/bioservices. Thanks T.C.\u001b[0m\n",
      " 44%|████▎     | 47/108 [07:17<09:52,  9.71s/it]\u001b[33mWARNING [bioservices:keggparser:119]: \u001b[0m \u001b[34mFound keyword SYMBOL, which has not special\n",
      "    parsing for now. please report this issue with the KEGG \n",
      "    identifier (7422              CDS       T01001) into github.com/bioservices. Thanks T.C.\u001b[0m\n",
      " 44%|████▍     | 48/108 [07:26<09:26,  9.44s/it]\u001b[33mWARNING [bioservices:keggparser:119]: \u001b[0m \u001b[34mFound keyword SYMBOL, which has not special\n",
      "    parsing for now. please report this issue with the KEGG \n",
      "    identifier (4352              CDS       T01001) into github.com/bioservices. Thanks T.C.\u001b[0m\n",
      " 45%|████▌     | 49/108 [07:27<06:48,  6.92s/it]\u001b[33mWARNING [bioservices:keggparser:119]: \u001b[0m \u001b[34mFound keyword SYMBOL, which has not special\n",
      "    parsing for now. please report this issue with the KEGG \n",
      "    identifier (22800             CDS       T01001) into github.com/bioservices. Thanks T.C.\u001b[0m\n",
      " 46%|████▋     | 50/108 [07:31<05:53,  6.10s/it]\u001b[33mWARNING [bioservices:keggparser:119]: \u001b[0m \u001b[34mFound keyword SYMBOL, which has not special\n",
      "    parsing for now. please report this issue with the KEGG \n",
      "    identifier (2322              CDS       T01001) into github.com/bioservices. Thanks T.C.\u001b[0m\n",
      " 47%|████▋     | 51/108 [07:34<05:02,  5.31s/it]\u001b[33mWARNING [bioservices:KEGG:119]: \u001b[0m \u001b[34mstatus is not ok with Not Found\u001b[0m\n",
      "\u001b[33mWARNING [bioservices:KEGG:119]: \u001b[0m \u001b[34mCould not parse the entry correctly.\u001b[0m\n",
      " 48%|████▊     | 52/108 [07:34<03:31,  3.78s/it]"
     ]
    },
    {
     "name": "stdout",
     "output_type": "stream",
     "text": [
      "no data for  WHSC1\n"
     ]
    },
    {
     "name": "stderr",
     "output_type": "stream",
     "text": [
      "\u001b[33mWARNING [bioservices:keggparser:119]: \u001b[0m \u001b[34mFound keyword SYMBOL, which has not special\n",
      "    parsing for now. please report this issue with the KEGG \n",
      "    identifier (8493              CDS       T01001) into github.com/bioservices. Thanks T.C.\u001b[0m\n",
      " 49%|████▉     | 53/108 [07:35<02:34,  2.81s/it]\u001b[33mWARNING [bioservices:keggparser:119]: \u001b[0m \u001b[34mFound keyword SYMBOL, which has not special\n",
      "    parsing for now. please report this issue with the KEGG \n",
      "    identifier (253260            CDS       T01001) into github.com/bioservices. Thanks T.C.\u001b[0m\n",
      " 50%|█████     | 54/108 [07:36<01:57,  2.17s/it]\u001b[33mWARNING [bioservices:keggparser:119]: \u001b[0m \u001b[34mFound keyword SYMBOL, which has not special\n",
      "    parsing for now. please report this issue with the KEGG \n",
      "    identifier (3417              CDS       T01001) into github.com/bioservices. Thanks T.C.\u001b[0m\n",
      " 51%|█████     | 55/108 [07:38<02:01,  2.29s/it]\u001b[33mWARNING [bioservices:keggparser:119]: \u001b[0m \u001b[34mFound keyword SYMBOL, which has not special\n",
      "    parsing for now. please report this issue with the KEGG \n",
      "    identifier (367               CDS       T01001) into github.com/bioservices. Thanks T.C.\u001b[0m\n",
      " 52%|█████▏    | 56/108 [07:40<01:53,  2.18s/it]\u001b[33mWARNING [bioservices:keggparser:119]: \u001b[0m \u001b[34mFound keyword SYMBOL, which has not special\n",
      "    parsing for now. please report this issue with the KEGG \n",
      "    identifier (369               CDS       T01001) into github.com/bioservices. Thanks T.C.\u001b[0m\n",
      " 53%|█████▎    | 57/108 [07:52<04:18,  5.06s/it]\u001b[33mWARNING [bioservices:keggparser:119]: \u001b[0m \u001b[34mFound keyword SYMBOL, which has not special\n",
      "    parsing for now. please report this issue with the KEGG \n",
      "    identifier (387               CDS       T01001) into github.com/bioservices. Thanks T.C.\u001b[0m\n",
      " 54%|█████▎    | 58/108 [08:06<06:33,  7.87s/it]\u001b[33mWARNING [bioservices:keggparser:119]: \u001b[0m \u001b[34mFound keyword SYMBOL, which has not special\n",
      "    parsing for now. please report this issue with the KEGG \n",
      "    identifier (5518              CDS       T01001) into github.com/bioservices. Thanks T.C.\u001b[0m\n",
      " 55%|█████▍    | 59/108 [08:11<05:42,  7.00s/it]\u001b[33mWARNING [bioservices:keggparser:119]: \u001b[0m \u001b[34mFound keyword SYMBOL, which has not special\n",
      "    parsing for now. please report this issue with the KEGG \n",
      "    identifier (2475              CDS       T01001) into github.com/bioservices. Thanks T.C.\u001b[0m\n",
      " 56%|█████▌    | 60/108 [08:29<08:15, 10.32s/it]\u001b[33mWARNING [bioservices:keggparser:119]: \u001b[0m \u001b[34mFound keyword SYMBOL, which has not special\n",
      "    parsing for now. please report this issue with the KEGG \n",
      "    identifier (80312             CDS       T01001) into github.com/bioservices. Thanks T.C.\u001b[0m\n",
      " 56%|█████▋    | 61/108 [08:30<05:42,  7.28s/it]"
     ]
    },
    {
     "name": "stdout",
     "output_type": "stream",
     "text": [
      "no data for  TET1\n"
     ]
    },
    {
     "name": "stderr",
     "output_type": "stream",
     "text": [
      "\u001b[33mWARNING [bioservices:keggparser:119]: \u001b[0m \u001b[34mFound keyword SYMBOL, which has not special\n",
      "    parsing for now. please report this issue with the KEGG \n",
      "    identifier (6608              CDS       T01001) into github.com/bioservices. Thanks T.C.\u001b[0m\n",
      " 57%|█████▋    | 62/108 [08:32<04:23,  5.73s/it]\u001b[33mWARNING [bioservices:keggparser:119]: \u001b[0m \u001b[34mFound keyword SYMBOL, which has not special\n",
      "    parsing for now. please report this issue with the KEGG \n",
      "    identifier (84433             CDS       T01001) into github.com/bioservices. Thanks T.C.\u001b[0m\n",
      " 58%|█████▊    | 63/108 [08:33<03:19,  4.42s/it]\u001b[33mWARNING [bioservices:keggparser:119]: \u001b[0m \u001b[34mFound keyword SYMBOL, which has not special\n",
      "    parsing for now. please report this issue with the KEGG \n",
      "    identifier (100271849         CDS       T01001) into github.com/bioservices. Thanks T.C.\u001b[0m\n",
      " 59%|█████▉    | 64/108 [08:34<02:29,  3.41s/it]\u001b[33mWARNING [bioservices:keggparser:119]: \u001b[0m \u001b[34mFound keyword SYMBOL, which has not special\n",
      "    parsing for now. please report this issue with the KEGG \n",
      "    identifier (5594              CDS       T01001) into github.com/bioservices. Thanks T.C.\u001b[0m\n",
      " 60%|██████    | 65/108 [09:16<10:38, 14.85s/it]\u001b[33mWARNING [bioservices:keggparser:119]: \u001b[0m \u001b[34mFound keyword SYMBOL, which has not special\n",
      "    parsing for now. please report this issue with the KEGG \n",
      "    identifier (1499              CDS       T01001) into github.com/bioservices. Thanks T.C.\u001b[0m\n",
      " 61%|██████    | 66/108 [09:27<09:34, 13.69s/it]\u001b[33mWARNING [bioservices:keggparser:119]: \u001b[0m \u001b[34mFound keyword SYMBOL, which has not special\n",
      "    parsing for now. please report this issue with the KEGG \n",
      "    identifier (5604              CDS       T01001) into github.com/bioservices. Thanks T.C.\u001b[0m\n",
      " 62%|██████▏   | 67/108 [09:57<12:50, 18.78s/it]\u001b[33mWARNING [bioservices:keggparser:119]: \u001b[0m \u001b[34mFound keyword SYMBOL, which has not special\n",
      "    parsing for now. please report this issue with the KEGG \n",
      "    identifier (5605              CDS       T01001) into github.com/bioservices. Thanks T.C.\u001b[0m\n",
      " 63%|██████▎   | 68/108 [10:24<14:05, 21.13s/it]\u001b[33mWARNING [bioservices:keggparser:119]: \u001b[0m \u001b[34mFound keyword SYMBOL, which has not special\n",
      "    parsing for now. please report this issue with the KEGG \n",
      "    identifier (3575              CDS       T01001) into github.com/bioservices. Thanks T.C.\u001b[0m\n",
      " 64%|██████▍   | 69/108 [10:27<10:13, 15.74s/it]\u001b[33mWARNING [bioservices:keggparser:119]: \u001b[0m \u001b[34mFound keyword SYMBOL, which has not special\n",
      "    parsing for now. please report this issue with the KEGG \n",
      "    identifier (6654              CDS       T01001) into github.com/bioservices. Thanks T.C.\u001b[0m\n",
      " 65%|██████▍   | 70/108 [10:44<10:10, 16.05s/it]\u001b[33mWARNING [bioservices:keggparser:119]: \u001b[0m \u001b[34mFound keyword SYMBOL, which has not special\n",
      "    parsing for now. please report this issue with the KEGG \n",
      "    identifier (4609              CDS       T01001) into github.com/bioservices. Thanks T.C.\u001b[0m\n",
      " 66%|██████▌   | 71/108 [10:56<09:15, 15.01s/it]\u001b[33mWARNING [bioservices:keggparser:119]: \u001b[0m \u001b[34mFound keyword SYMBOL, which has not special\n",
      "    parsing for now. please report this issue with the KEGG \n",
      "    identifier (4613              CDS       T01001) into github.com/bioservices. Thanks T.C.\u001b[0m\n",
      " 67%|██████▋   | 72/108 [10:57<06:25, 10.72s/it]\u001b[33mWARNING [bioservices:keggparser:119]: \u001b[0m \u001b[34mFound keyword SYMBOL, which has not special\n",
      "    parsing for now. please report this issue with the KEGG \n",
      "    identifier (6662              CDS       T01001) into github.com/bioservices. Thanks T.C.\u001b[0m\n",
      " 68%|██████▊   | 73/108 [10:58<04:29,  7.71s/it]\u001b[33mWARNING [bioservices:keggparser:119]: \u001b[0m \u001b[34mFound keyword SYMBOL, which has not special\n",
      "    parsing for now. please report this issue with the KEGG \n",
      "    identifier (4615              CDS       T01001) into github.com/bioservices. Thanks T.C.\u001b[0m\n",
      " 69%|██████▊   | 74/108 [11:07<04:38,  8.19s/it]\u001b[33mWARNING [bioservices:keggparser:119]: \u001b[0m \u001b[34mFound keyword SYMBOL, which has not special\n",
      "    parsing for now. please report this issue with the KEGG \n",
      "    identifier (6714              CDS       T01001) into github.com/bioservices. Thanks T.C.\u001b[0m\n",
      " 69%|██████▉   | 75/108 [11:22<05:34, 10.13s/it]\u001b[33mWARNING [bioservices:keggparser:119]: \u001b[0m \u001b[34mFound keyword SYMBOL, which has not special\n",
      "    parsing for now. please report this issue with the KEGG \n",
      "    identifier (595               CDS       T01001) into github.com/bioservices. Thanks T.C.\u001b[0m\n",
      " 70%|███████   | 76/108 [11:39<06:28, 12.15s/it]\u001b[33mWARNING [bioservices:keggparser:119]: \u001b[0m \u001b[34mFound keyword SYMBOL, which has not special\n",
      "    parsing for now. please report this issue with the KEGG \n",
      "    identifier (596               CDS       T01001) into github.com/bioservices. Thanks T.C.\u001b[0m\n",
      " 71%|███████▏  | 77/108 [11:54<06:44, 13.05s/it]\u001b[33mWARNING [bioservices:keggparser:119]: \u001b[0m \u001b[34mFound keyword SYMBOL, which has not special\n",
      "    parsing for now. please report this issue with the KEGG \n",
      "    identifier (5728              CDS       T01001) into github.com/bioservices. Thanks T.C.\u001b[0m\n",
      " 72%|███████▏  | 78/108 [12:04<06:03, 12.13s/it]\u001b[33mWARNING [bioservices:keggparser:119]: \u001b[0m \u001b[34mFound keyword SYMBOL, which has not special\n",
      "    parsing for now. please report this issue with the KEGG \n",
      "    identifier (6774              CDS       T01001) into github.com/bioservices. Thanks T.C.\u001b[0m\n",
      " 73%|███████▎  | 79/108 [12:16<05:49, 12.05s/it]\u001b[33mWARNING [bioservices:keggparser:119]: \u001b[0m \u001b[34mFound keyword SYMBOL, which has not special\n",
      "    parsing for now. please report this issue with the KEGG \n",
      "    identifier (3716              CDS       T01001) into github.com/bioservices. Thanks T.C.\u001b[0m\n",
      " 74%|███████▍  | 80/108 [12:26<05:20, 11.45s/it]\u001b[33mWARNING [bioservices:keggparser:119]: \u001b[0m \u001b[34mFound keyword SYMBOL, which has not special\n",
      "    parsing for now. please report this issue with the KEGG \n",
      "    identifier (3717              CDS       T01001) into github.com/bioservices. Thanks T.C.\u001b[0m\n",
      " 75%|███████▌  | 81/108 [12:34<04:45, 10.57s/it]\u001b[33mWARNING [bioservices:keggparser:119]: \u001b[0m \u001b[34mFound keyword SYMBOL, which has not special\n",
      "    parsing for now. please report this issue with the KEGG \n",
      "    identifier (6790              CDS       T01001) into github.com/bioservices. Thanks T.C.\u001b[0m\n",
      " 76%|███████▌  | 82/108 [12:35<03:19,  7.67s/it]\u001b[33mWARNING [bioservices:keggparser:119]: \u001b[0m \u001b[34mFound keyword SYMBOL, which has not special\n",
      "    parsing for now. please report this issue with the KEGG \n",
      "    identifier (3725              CDS       T01001) into github.com/bioservices. Thanks T.C.\u001b[0m\n",
      " 77%|███████▋  | 83/108 [12:55<04:40, 11.23s/it]\u001b[33mWARNING [bioservices:keggparser:119]: \u001b[0m \u001b[34mFound keyword SYMBOL, which has not special\n",
      "    parsing for now. please report this issue with the KEGG \n",
      "    identifier (5781              CDS       T01001) into github.com/bioservices. Thanks T.C.\u001b[0m\n",
      " 78%|███████▊  | 84/108 [13:01<03:52,  9.70s/it]\u001b[33mWARNING [bioservices:keggparser:119]: \u001b[0m \u001b[34mFound keyword SYMBOL, which has not special\n",
      "    parsing for now. please report this issue with the KEGG \n",
      "    identifier (673               CDS       T01001) into github.com/bioservices. Thanks T.C.\u001b[0m\n",
      " 79%|███████▊  | 85/108 [13:16<04:20, 11.33s/it]\u001b[33mWARNING [bioservices:keggparser:119]: \u001b[0m \u001b[34mFound keyword SYMBOL, which has not special\n",
      "    parsing for now. please report this issue with the KEGG \n",
      "    identifier (7849              CDS       T01001) into github.com/bioservices. Thanks T.C.\u001b[0m\n",
      " 80%|███████▉  | 86/108 [13:18<03:11,  8.69s/it]\u001b[33mWARNING [bioservices:keggparser:119]: \u001b[0m \u001b[34mFound keyword SYMBOL, which has not special\n",
      "    parsing for now. please report this issue with the KEGG \n",
      "    identifier (4780              CDS       T01001) into github.com/bioservices. Thanks T.C.\u001b[0m\n",
      " 81%|████████  | 87/108 [13:21<02:26,  7.00s/it]\u001b[33mWARNING [bioservices:keggparser:119]: \u001b[0m \u001b[34mFound keyword SYMBOL, which has not special\n",
      "    parsing for now. please report this issue with the KEGG \n",
      "    identifier (695               CDS       T01001) into github.com/bioservices. Thanks T.C.\u001b[0m\n",
      " 81%|████████▏ | 88/108 [13:24<01:52,  5.61s/it]\u001b[33mWARNING [bioservices:keggparser:119]: \u001b[0m \u001b[34mFound keyword SYMBOL, which has not special\n",
      "    parsing for now. please report this issue with the KEGG \n",
      "    identifier (4792              CDS       T01001) into github.com/bioservices. Thanks T.C.\u001b[0m\n"
     ]
    },
    {
     "name": "stderr",
     "output_type": "stream",
     "text": [
      " 82%|████████▏ | 89/108 [13:41<02:52,  9.05s/it]\u001b[33mWARNING [bioservices:keggparser:119]: \u001b[0m \u001b[34mFound keyword SYMBOL, which has not special\n",
      "    parsing for now. please report this issue with the KEGG \n",
      "    identifier (2767              CDS       T01001) into github.com/bioservices. Thanks T.C.\u001b[0m\n",
      " 83%|████████▎ | 90/108 [13:48<02:29,  8.31s/it]\u001b[33mWARNING [bioservices:keggparser:119]: \u001b[0m \u001b[34mFound keyword SYMBOL, which has not special\n",
      "    parsing for now. please report this issue with the KEGG \n",
      "    identifier (3791              CDS       T01001) into github.com/bioservices. Thanks T.C.\u001b[0m\n",
      " 84%|████████▍ | 91/108 [13:51<01:57,  6.94s/it]\u001b[33mWARNING [bioservices:keggparser:119]: \u001b[0m \u001b[34mFound keyword SYMBOL, which has not special\n",
      "    parsing for now. please report this issue with the KEGG \n",
      "    identifier (2776              CDS       T01001) into github.com/bioservices. Thanks T.C.\u001b[0m\n",
      " 85%|████████▌ | 92/108 [14:59<06:44, 25.30s/it]\u001b[33mWARNING [bioservices:keggparser:119]: \u001b[0m \u001b[34mFound keyword SYMBOL, which has not special\n",
      "    parsing for now. please report this issue with the KEGG \n",
      "    identifier (2778              CDS       T01001) into github.com/bioservices. Thanks T.C.\u001b[0m\n",
      " 86%|████████▌ | 93/108 [15:58<08:48, 35.25s/it]\u001b[33mWARNING [bioservices:keggparser:119]: \u001b[0m \u001b[34mFound keyword SYMBOL, which has not special\n",
      "    parsing for now. please report this issue with the KEGG \n",
      "    identifier (3815              CDS       T01001) into github.com/bioservices. Thanks T.C.\u001b[0m\n",
      " 87%|████████▋ | 94/108 [16:04<06:10, 26.46s/it]\u001b[33mWARNING [bioservices:keggparser:119]: \u001b[0m \u001b[34mFound keyword SYMBOL, which has not special\n",
      "    parsing for now. please report this issue with the KEGG \n",
      "    identifier (9968              CDS       T01001) into github.com/bioservices. Thanks T.C.\u001b[0m\n",
      " 88%|████████▊ | 95/108 [16:04<04:02, 18.68s/it]\u001b[33mWARNING [bioservices:keggparser:119]: \u001b[0m \u001b[34mFound keyword SYMBOL, which has not special\n",
      "    parsing for now. please report this issue with the KEGG \n",
      "    identifier (4851              CDS       T01001) into github.com/bioservices. Thanks T.C.\u001b[0m\n",
      " 89%|████████▉ | 96/108 [16:08<02:49, 14.14s/it]\u001b[33mWARNING [bioservices:keggparser:119]: \u001b[0m \u001b[34mFound keyword SYMBOL, which has not special\n",
      "    parsing for now. please report this issue with the KEGG \n",
      "    identifier (5879              CDS       T01001) into github.com/bioservices. Thanks T.C.\u001b[0m\n",
      " 90%|████████▉ | 97/108 [16:25<02:46, 15.17s/it]\u001b[33mWARNING [bioservices:keggparser:119]: \u001b[0m \u001b[34mFound keyword SYMBOL, which has not special\n",
      "    parsing for now. please report this issue with the KEGG \n",
      "    identifier (3845              CDS       T01001) into github.com/bioservices. Thanks T.C.\u001b[0m\n",
      " 91%|█████████ | 98/108 [16:53<03:09, 18.98s/it]\u001b[33mWARNING [bioservices:keggparser:119]: \u001b[0m \u001b[34mFound keyword SYMBOL, which has not special\n",
      "    parsing for now. please report this issue with the KEGG \n",
      "    identifier (5894              CDS       T01001) into github.com/bioservices. Thanks T.C.\u001b[0m\n",
      " 92%|█████████▏| 99/108 [17:22<03:16, 21.83s/it]\u001b[33mWARNING [bioservices:keggparser:119]: \u001b[0m \u001b[34mFound keyword SYMBOL, which has not special\n",
      "    parsing for now. please report this issue with the KEGG \n",
      "    identifier (11021             CDS       T01001) into github.com/bioservices. Thanks T.C.\u001b[0m\n",
      " 93%|█████████▎| 100/108 [17:22<02:03, 15.49s/it]\u001b[33mWARNING [bioservices:keggparser:119]: \u001b[0m \u001b[34mFound keyword SYMBOL, which has not special\n",
      "    parsing for now. please report this issue with the KEGG \n",
      "    identifier (10000             CDS       T01001) into github.com/bioservices. Thanks T.C.\u001b[0m\n",
      " 94%|█████████▎| 101/108 [17:57<02:28, 21.26s/it]\u001b[33mWARNING [bioservices:keggparser:119]: \u001b[0m \u001b[34mFound keyword SYMBOL, which has not special\n",
      "    parsing for now. please report this issue with the KEGG \n",
      "    identifier (4893              CDS       T01001) into github.com/bioservices. Thanks T.C.\u001b[0m\n",
      " 94%|█████████▍| 102/108 [18:26<02:20, 23.37s/it]\u001b[33mWARNING [bioservices:keggparser:119]: \u001b[0m \u001b[34mFound keyword SYMBOL, which has not special\n",
      "    parsing for now. please report this issue with the KEGG \n",
      "    identifier (4914              CDS       T01001) into github.com/bioservices. Thanks T.C.\u001b[0m\n",
      " 95%|█████████▌| 103/108 [18:30<01:28, 17.71s/it]\u001b[33mWARNING [bioservices:keggparser:119]: \u001b[0m \u001b[34mFound keyword SYMBOL, which has not special\n",
      "    parsing for now. please report this issue with the KEGG \n",
      "    identifier (4916              CDS       T01001) into github.com/bioservices. Thanks T.C.\u001b[0m\n",
      " 96%|█████████▋| 104/108 [18:31<00:51, 12.76s/it]\u001b[33mWARNING [bioservices:keggparser:119]: \u001b[0m \u001b[34mFound keyword SYMBOL, which has not special\n",
      "    parsing for now. please report this issue with the KEGG \n",
      "    identifier (4921              CDS       T01001) into github.com/bioservices. Thanks T.C.\u001b[0m\n",
      " 97%|█████████▋| 105/108 [18:32<00:27,  9.03s/it]\u001b[33mWARNING [bioservices:keggparser:119]: \u001b[0m \u001b[34mFound keyword SYMBOL, which has not special\n",
      "    parsing for now. please report this issue with the KEGG \n",
      "    identifier (841               CDS       T01001) into github.com/bioservices. Thanks T.C.\u001b[0m\n"
     ]
    },
    {
     "name": "stdout",
     "output_type": "stream",
     "text": [
      "no data for  DDR2\n"
     ]
    },
    {
     "name": "stderr",
     "output_type": "stream",
     "text": [
      " 98%|█████████▊| 106/108 [18:44<00:20, 10.06s/it]\u001b[33mWARNING [bioservices:keggparser:119]: \u001b[0m \u001b[34mFound keyword SYMBOL, which has not special\n",
      "    parsing for now. please report this issue with the KEGG \n",
      "    identifier (5979              CDS       T01001) into github.com/bioservices. Thanks T.C.\u001b[0m\n",
      " 99%|█████████▉| 107/108 [18:46<00:07,  7.71s/it]\u001b[33mWARNING [bioservices:keggparser:119]: \u001b[0m \u001b[34mFound keyword SYMBOL, which has not special\n",
      "    parsing for now. please report this issue with the KEGG \n",
      "    identifier (861               CDS       T01001) into github.com/bioservices. Thanks T.C.\u001b[0m\n",
      "100%|██████████| 108/108 [18:49<00:00, 10.45s/it]\n"
     ]
    }
   ],
   "source": [
    "class7_gene_pathway=df_gene_pathway(class_7_genes)"
   ]
  },
  {
   "cell_type": "code",
   "execution_count": 40,
   "metadata": {},
   "outputs": [
    {
     "data": {
      "text/html": [
       "<div>\n",
       "<style scoped>\n",
       "    .dataframe tbody tr th:only-of-type {\n",
       "        vertical-align: middle;\n",
       "    }\n",
       "\n",
       "    .dataframe tbody tr th {\n",
       "        vertical-align: top;\n",
       "    }\n",
       "\n",
       "    .dataframe thead th {\n",
       "        text-align: right;\n",
       "    }\n",
       "</style>\n",
       "<table border=\"1\" class=\"dataframe\">\n",
       "  <thead>\n",
       "    <tr style=\"text-align: right;\">\n",
       "      <th></th>\n",
       "      <th>gene</th>\n",
       "      <th>pathway</th>\n",
       "    </tr>\n",
       "  </thead>\n",
       "  <tbody>\n",
       "    <tr>\n",
       "      <th>0</th>\n",
       "      <td>TERT</td>\n",
       "      <td>Gastric cancer</td>\n",
       "    </tr>\n",
       "    <tr>\n",
       "      <th>1</th>\n",
       "      <td>TERT</td>\n",
       "      <td>Pathways in cancer</td>\n",
       "    </tr>\n",
       "    <tr>\n",
       "      <th>2</th>\n",
       "      <td>TERT</td>\n",
       "      <td>Human papillomavirus infection</td>\n",
       "    </tr>\n",
       "    <tr>\n",
       "      <th>3</th>\n",
       "      <td>TERT</td>\n",
       "      <td>Human T-cell leukemia virus 1 infection</td>\n",
       "    </tr>\n",
       "    <tr>\n",
       "      <th>4</th>\n",
       "      <td>TERT</td>\n",
       "      <td>Hepatocellular carcinoma</td>\n",
       "    </tr>\n",
       "  </tbody>\n",
       "</table>\n",
       "</div>"
      ],
      "text/plain": [
       "   gene                                  pathway\n",
       "0  TERT                           Gastric cancer\n",
       "1  TERT                       Pathways in cancer\n",
       "2  TERT           Human papillomavirus infection\n",
       "3  TERT  Human T-cell leukemia virus 1 infection\n",
       "4  TERT                 Hepatocellular carcinoma"
      ]
     },
     "execution_count": 40,
     "metadata": {},
     "output_type": "execute_result"
    }
   ],
   "source": [
    "class7_gene_pathway.head()"
   ]
  },
  {
   "cell_type": "code",
   "execution_count": 41,
   "metadata": {},
   "outputs": [],
   "source": [
    "class7_gene_pathway.drop_duplicates(inplace=True)"
   ]
  },
  {
   "cell_type": "code",
   "execution_count": null,
   "metadata": {},
   "outputs": [],
   "source": []
  },
  {
   "cell_type": "code",
   "execution_count": 42,
   "metadata": {},
   "outputs": [
    {
     "data": {
      "text/plain": [
       "(2814, 2)"
      ]
     },
     "execution_count": 42,
     "metadata": {},
     "output_type": "execute_result"
    }
   ],
   "source": [
    "class7_gene_pathway.shape"
   ]
  },
  {
   "cell_type": "code",
   "execution_count": 43,
   "metadata": {},
   "outputs": [],
   "source": [
    "class7_gene_pathway.to_csv('class7_gene_pathway.csv',header=True,index=False)"
   ]
  },
  {
   "cell_type": "code",
   "execution_count": 44,
   "metadata": {},
   "outputs": [],
   "source": [
    "class7_gene_pathway=pd.read_csv(\"class7_gene_pathway.csv\")"
   ]
  },
  {
   "cell_type": "code",
   "execution_count": 45,
   "metadata": {},
   "outputs": [
    {
     "data": {
      "text/html": [
       "<div>\n",
       "<style scoped>\n",
       "    .dataframe tbody tr th:only-of-type {\n",
       "        vertical-align: middle;\n",
       "    }\n",
       "\n",
       "    .dataframe tbody tr th {\n",
       "        vertical-align: top;\n",
       "    }\n",
       "\n",
       "    .dataframe thead th {\n",
       "        text-align: right;\n",
       "    }\n",
       "</style>\n",
       "<table border=\"1\" class=\"dataframe\">\n",
       "  <thead>\n",
       "    <tr style=\"text-align: right;\">\n",
       "      <th></th>\n",
       "      <th>gene</th>\n",
       "    </tr>\n",
       "    <tr>\n",
       "      <th>pathway</th>\n",
       "      <th></th>\n",
       "    </tr>\n",
       "  </thead>\n",
       "  <tbody>\n",
       "    <tr>\n",
       "      <th>Pathways in cancer</th>\n",
       "      <td>65</td>\n",
       "    </tr>\n",
       "    <tr>\n",
       "      <th>PI3K-Akt signaling pathway</th>\n",
       "      <td>48</td>\n",
       "    </tr>\n",
       "    <tr>\n",
       "      <th>Proteoglycans in cancer</th>\n",
       "      <td>39</td>\n",
       "    </tr>\n",
       "    <tr>\n",
       "      <th>Human cytomegalovirus infection</th>\n",
       "      <td>37</td>\n",
       "    </tr>\n",
       "    <tr>\n",
       "      <th>Human papillomavirus infection</th>\n",
       "      <td>36</td>\n",
       "    </tr>\n",
       "    <tr>\n",
       "      <th>Prostate cancer</th>\n",
       "      <td>35</td>\n",
       "    </tr>\n",
       "    <tr>\n",
       "      <th>MAPK signaling pathway</th>\n",
       "      <td>35</td>\n",
       "    </tr>\n",
       "    <tr>\n",
       "      <th>MicroRNAs in cancer</th>\n",
       "      <td>35</td>\n",
       "    </tr>\n",
       "    <tr>\n",
       "      <th>Ras signaling pathway</th>\n",
       "      <td>34</td>\n",
       "    </tr>\n",
       "    <tr>\n",
       "      <th>EGFR tyrosine kinase inhibitor resistance</th>\n",
       "      <td>34</td>\n",
       "    </tr>\n",
       "    <tr>\n",
       "      <th>Rap1 signaling pathway</th>\n",
       "      <td>32</td>\n",
       "    </tr>\n",
       "    <tr>\n",
       "      <th>Breast cancer</th>\n",
       "      <td>31</td>\n",
       "    </tr>\n",
       "    <tr>\n",
       "      <th>Central carbon metabolism in cancer</th>\n",
       "      <td>31</td>\n",
       "    </tr>\n",
       "    <tr>\n",
       "      <th>Kaposi sarcoma-associated herpesvirus infection</th>\n",
       "      <td>30</td>\n",
       "    </tr>\n",
       "    <tr>\n",
       "      <th>Focal adhesion</th>\n",
       "      <td>30</td>\n",
       "    </tr>\n",
       "    <tr>\n",
       "      <th>Hepatitis B</th>\n",
       "      <td>29</td>\n",
       "    </tr>\n",
       "    <tr>\n",
       "      <th>Endocrine resistance</th>\n",
       "      <td>29</td>\n",
       "    </tr>\n",
       "    <tr>\n",
       "      <th>Chemical carcinogenesis - receptor activation</th>\n",
       "      <td>29</td>\n",
       "    </tr>\n",
       "    <tr>\n",
       "      <th>Gastric cancer</th>\n",
       "      <td>28</td>\n",
       "    </tr>\n",
       "    <tr>\n",
       "      <th>Hepatocellular carcinoma</th>\n",
       "      <td>28</td>\n",
       "    </tr>\n",
       "    <tr>\n",
       "      <th>Chemical carcinogenesis - reactive oxygen species</th>\n",
       "      <td>28</td>\n",
       "    </tr>\n",
       "    <tr>\n",
       "      <th>Hepatitis C</th>\n",
       "      <td>28</td>\n",
       "    </tr>\n",
       "    <tr>\n",
       "      <th>ErbB signaling pathway</th>\n",
       "      <td>27</td>\n",
       "    </tr>\n",
       "    <tr>\n",
       "      <th>Cellular senescence</th>\n",
       "      <td>26</td>\n",
       "    </tr>\n",
       "    <tr>\n",
       "      <th>Phospholipase D signaling pathway</th>\n",
       "      <td>26</td>\n",
       "    </tr>\n",
       "    <tr>\n",
       "      <th>Colorectal cancer</th>\n",
       "      <td>26</td>\n",
       "    </tr>\n",
       "    <tr>\n",
       "      <th>Glioma</th>\n",
       "      <td>26</td>\n",
       "    </tr>\n",
       "    <tr>\n",
       "      <th>Non-small cell lung cancer</th>\n",
       "      <td>26</td>\n",
       "    </tr>\n",
       "    <tr>\n",
       "      <th>Chronic myeloid leukemia</th>\n",
       "      <td>26</td>\n",
       "    </tr>\n",
       "    <tr>\n",
       "      <th>Regulation of actin cytoskeleton</th>\n",
       "      <td>26</td>\n",
       "    </tr>\n",
       "    <tr>\n",
       "      <th>Thyroid hormone signaling pathway</th>\n",
       "      <td>26</td>\n",
       "    </tr>\n",
       "    <tr>\n",
       "      <th>Melanoma</th>\n",
       "      <td>26</td>\n",
       "    </tr>\n",
       "    <tr>\n",
       "      <th>JAK-STAT signaling pathway</th>\n",
       "      <td>25</td>\n",
       "    </tr>\n",
       "    <tr>\n",
       "      <th>PD-L1 expression and PD-1 checkpoint pathway in cancer</th>\n",
       "      <td>25</td>\n",
       "    </tr>\n",
       "    <tr>\n",
       "      <th>Neurotrophin signaling pathway</th>\n",
       "      <td>25</td>\n",
       "    </tr>\n",
       "    <tr>\n",
       "      <th>Acute myeloid leukemia</th>\n",
       "      <td>24</td>\n",
       "    </tr>\n",
       "    <tr>\n",
       "      <th>Renal cell carcinoma</th>\n",
       "      <td>24</td>\n",
       "    </tr>\n",
       "    <tr>\n",
       "      <th>Human immunodeficiency virus 1 infection</th>\n",
       "      <td>24</td>\n",
       "    </tr>\n",
       "    <tr>\n",
       "      <th>Signaling pathways regulating pluripotency of stem cells</th>\n",
       "      <td>24</td>\n",
       "    </tr>\n",
       "    <tr>\n",
       "      <th>Human T-cell leukemia virus 1 infection</th>\n",
       "      <td>24</td>\n",
       "    </tr>\n",
       "    <tr>\n",
       "      <th>FoxO signaling pathway</th>\n",
       "      <td>24</td>\n",
       "    </tr>\n",
       "    <tr>\n",
       "      <th>Viral carcinogenesis</th>\n",
       "      <td>23</td>\n",
       "    </tr>\n",
       "    <tr>\n",
       "      <th>Pancreatic cancer</th>\n",
       "      <td>23</td>\n",
       "    </tr>\n",
       "    <tr>\n",
       "      <th>Choline metabolism in cancer</th>\n",
       "      <td>23</td>\n",
       "    </tr>\n",
       "    <tr>\n",
       "      <th>Chemokine signaling pathway</th>\n",
       "      <td>23</td>\n",
       "    </tr>\n",
       "    <tr>\n",
       "      <th>Endometrial cancer</th>\n",
       "      <td>23</td>\n",
       "    </tr>\n",
       "    <tr>\n",
       "      <th>Epstein-Barr virus infection</th>\n",
       "      <td>23</td>\n",
       "    </tr>\n",
       "    <tr>\n",
       "      <th>mTOR signaling pathway</th>\n",
       "      <td>22</td>\n",
       "    </tr>\n",
       "    <tr>\n",
       "      <th>Growth hormone synthesis, secretion and action</th>\n",
       "      <td>22</td>\n",
       "    </tr>\n",
       "    <tr>\n",
       "      <th>Estrogen signaling pathway</th>\n",
       "      <td>22</td>\n",
       "    </tr>\n",
       "    <tr>\n",
       "      <th>Lipid and atherosclerosis</th>\n",
       "      <td>22</td>\n",
       "    </tr>\n",
       "    <tr>\n",
       "      <th>cAMP signaling pathway</th>\n",
       "      <td>21</td>\n",
       "    </tr>\n",
       "    <tr>\n",
       "      <th>Influenza A</th>\n",
       "      <td>21</td>\n",
       "    </tr>\n",
       "    <tr>\n",
       "      <th>C-type lectin receptor signaling pathway</th>\n",
       "      <td>21</td>\n",
       "    </tr>\n",
       "    <tr>\n",
       "      <th>Salmonella infection</th>\n",
       "      <td>21</td>\n",
       "    </tr>\n",
       "    <tr>\n",
       "      <th>Relaxin signaling pathway</th>\n",
       "      <td>21</td>\n",
       "    </tr>\n",
       "    <tr>\n",
       "      <th>T cell receptor signaling pathway</th>\n",
       "      <td>21</td>\n",
       "    </tr>\n",
       "    <tr>\n",
       "      <th>Insulin signaling pathway</th>\n",
       "      <td>20</td>\n",
       "    </tr>\n",
       "    <tr>\n",
       "      <th>Alzheimer disease</th>\n",
       "      <td>20</td>\n",
       "    </tr>\n",
       "    <tr>\n",
       "      <th>Prolactin signaling pathway</th>\n",
       "      <td>20</td>\n",
       "    </tr>\n",
       "    <tr>\n",
       "      <th>Sphingolipid signaling pathway</th>\n",
       "      <td>20</td>\n",
       "    </tr>\n",
       "    <tr>\n",
       "      <th>Autophagy - animal</th>\n",
       "      <td>20</td>\n",
       "    </tr>\n",
       "    <tr>\n",
       "      <th>B cell receptor signaling pathway</th>\n",
       "      <td>20</td>\n",
       "    </tr>\n",
       "    <tr>\n",
       "      <th>Measles</th>\n",
       "      <td>19</td>\n",
       "    </tr>\n",
       "    <tr>\n",
       "      <th>AGE-RAGE signaling pathway in diabetic complications</th>\n",
       "      <td>19</td>\n",
       "    </tr>\n",
       "    <tr>\n",
       "      <th>Apoptosis</th>\n",
       "      <td>19</td>\n",
       "    </tr>\n",
       "    <tr>\n",
       "      <th>Calcium signaling pathway</th>\n",
       "      <td>19</td>\n",
       "    </tr>\n",
       "    <tr>\n",
       "      <th>Bladder cancer</th>\n",
       "      <td>18</td>\n",
       "    </tr>\n",
       "    <tr>\n",
       "      <th>VEGF signaling pathway</th>\n",
       "      <td>18</td>\n",
       "    </tr>\n",
       "    <tr>\n",
       "      <th>Herpes simplex virus 1 infection</th>\n",
       "      <td>18</td>\n",
       "    </tr>\n",
       "    <tr>\n",
       "      <th>Shigellosis</th>\n",
       "      <td>18</td>\n",
       "    </tr>\n",
       "    <tr>\n",
       "      <th>Natural killer cell mediated cytotoxicity</th>\n",
       "      <td>17</td>\n",
       "    </tr>\n",
       "    <tr>\n",
       "      <th>Yersinia infection</th>\n",
       "      <td>17</td>\n",
       "    </tr>\n",
       "    <tr>\n",
       "      <th>Axon guidance</th>\n",
       "      <td>17</td>\n",
       "    </tr>\n",
       "    <tr>\n",
       "      <th>HIF-1 signaling pathway</th>\n",
       "      <td>17</td>\n",
       "    </tr>\n",
       "    <tr>\n",
       "      <th>Fc epsilon RI signaling pathway</th>\n",
       "      <td>17</td>\n",
       "    </tr>\n",
       "    <tr>\n",
       "      <th>Fluid shear stress and atherosclerosis</th>\n",
       "      <td>17</td>\n",
       "    </tr>\n",
       "    <tr>\n",
       "      <th>Cholinergic synapse</th>\n",
       "      <td>16</td>\n",
       "    </tr>\n",
       "    <tr>\n",
       "      <th>GnRH secretion</th>\n",
       "      <td>16</td>\n",
       "    </tr>\n",
       "    <tr>\n",
       "      <th>Chagas disease</th>\n",
       "      <td>16</td>\n",
       "    </tr>\n",
       "    <tr>\n",
       "      <th>Small cell lung cancer</th>\n",
       "      <td>15</td>\n",
       "    </tr>\n",
       "    <tr>\n",
       "      <th>Apelin signaling pathway</th>\n",
       "      <td>15</td>\n",
       "    </tr>\n",
       "    <tr>\n",
       "      <th>Pathways of neurodegeneration - multiple diseases</th>\n",
       "      <td>15</td>\n",
       "    </tr>\n",
       "    <tr>\n",
       "      <th>Gap junction</th>\n",
       "      <td>15</td>\n",
       "    </tr>\n",
       "    <tr>\n",
       "      <th>Toll-like receptor signaling pathway</th>\n",
       "      <td>15</td>\n",
       "    </tr>\n",
       "    <tr>\n",
       "      <th>Oxytocin signaling pathway</th>\n",
       "      <td>14</td>\n",
       "    </tr>\n",
       "    <tr>\n",
       "      <th>Osteoclast differentiation</th>\n",
       "      <td>14</td>\n",
       "    </tr>\n",
       "    <tr>\n",
       "      <th>Neutrophil extracellular trap formation</th>\n",
       "      <td>14</td>\n",
       "    </tr>\n",
       "    <tr>\n",
       "      <th>Progesterone-mediated oocyte maturation</th>\n",
       "      <td>14</td>\n",
       "    </tr>\n",
       "    <tr>\n",
       "      <th>GnRH signaling pathway</th>\n",
       "      <td>14</td>\n",
       "    </tr>\n",
       "    <tr>\n",
       "      <th>Tuberculosis</th>\n",
       "      <td>13</td>\n",
       "    </tr>\n",
       "    <tr>\n",
       "      <th>Transcriptional misregulation in cancer</th>\n",
       "      <td>13</td>\n",
       "    </tr>\n",
       "    <tr>\n",
       "      <th>Long-term depression</th>\n",
       "      <td>13</td>\n",
       "    </tr>\n",
       "    <tr>\n",
       "      <th>Longevity regulating pathway</th>\n",
       "      <td>13</td>\n",
       "    </tr>\n",
       "    <tr>\n",
       "      <th>Cushing syndrome</th>\n",
       "      <td>13</td>\n",
       "    </tr>\n",
       "    <tr>\n",
       "      <th>Thyroid cancer</th>\n",
       "      <td>13</td>\n",
       "    </tr>\n",
       "    <tr>\n",
       "      <th>Platelet activation</th>\n",
       "      <td>13</td>\n",
       "    </tr>\n",
       "    <tr>\n",
       "      <th>TNF signaling pathway</th>\n",
       "      <td>12</td>\n",
       "    </tr>\n",
       "    <tr>\n",
       "      <th>Parathyroid hormone synthesis, secretion and action</th>\n",
       "      <td>12</td>\n",
       "    </tr>\n",
       "    <tr>\n",
       "      <th>Platinum drug resistance</th>\n",
       "      <td>12</td>\n",
       "    </tr>\n",
       "    <tr>\n",
       "      <th>Melanogenesis</th>\n",
       "      <td>12</td>\n",
       "    </tr>\n",
       "    <tr>\n",
       "      <th>p53 signaling pathway</th>\n",
       "      <td>12</td>\n",
       "    </tr>\n",
       "    <tr>\n",
       "      <th>Coronavirus disease - COVID-19</th>\n",
       "      <td>12</td>\n",
       "    </tr>\n",
       "    <tr>\n",
       "      <th>AMPK signaling pathway</th>\n",
       "      <td>12</td>\n",
       "    </tr>\n",
       "    <tr>\n",
       "      <th>Insulin resistance</th>\n",
       "      <td>12</td>\n",
       "    </tr>\n",
       "    <tr>\n",
       "      <th>Fc gamma R-mediated phagocytosis</th>\n",
       "      <td>12</td>\n",
       "    </tr>\n",
       "    <tr>\n",
       "      <th>Pathogenic Escherichia coli infection</th>\n",
       "      <td>11</td>\n",
       "    </tr>\n",
       "    <tr>\n",
       "      <th>cGMP-PKG signaling pathway</th>\n",
       "      <td>11</td>\n",
       "    </tr>\n",
       "    <tr>\n",
       "      <th>Long-term potentiation</th>\n",
       "      <td>11</td>\n",
       "    </tr>\n",
       "    <tr>\n",
       "      <th>Longevity regulating pathway - multiple species</th>\n",
       "      <td>11</td>\n",
       "    </tr>\n",
       "    <tr>\n",
       "      <th>Toxoplasmosis</th>\n",
       "      <td>11</td>\n",
       "    </tr>\n",
       "    <tr>\n",
       "      <th>Vascular smooth muscle contraction</th>\n",
       "      <td>10</td>\n",
       "    </tr>\n",
       "    <tr>\n",
       "      <th>Serotonergic synapse</th>\n",
       "      <td>10</td>\n",
       "    </tr>\n",
       "    <tr>\n",
       "      <th>Diabetic cardiomyopathy</th>\n",
       "      <td>10</td>\n",
       "    </tr>\n",
       "    <tr>\n",
       "      <th>Endocytosis</th>\n",
       "      <td>10</td>\n",
       "    </tr>\n",
       "    <tr>\n",
       "      <th>Non-alcoholic fatty liver disease</th>\n",
       "      <td>10</td>\n",
       "    </tr>\n",
       "    <tr>\n",
       "      <th>Alcoholism</th>\n",
       "      <td>10</td>\n",
       "    </tr>\n",
       "    <tr>\n",
       "      <th>Adherens junction</th>\n",
       "      <td>10</td>\n",
       "    </tr>\n",
       "    <tr>\n",
       "      <th>Thermogenesis</th>\n",
       "      <td>9</td>\n",
       "    </tr>\n",
       "    <tr>\n",
       "      <th>Bacterial invasion of epithelial cells</th>\n",
       "      <td>9</td>\n",
       "    </tr>\n",
       "    <tr>\n",
       "      <th>Cell cycle</th>\n",
       "      <td>9</td>\n",
       "    </tr>\n",
       "    <tr>\n",
       "      <th>Tight junction</th>\n",
       "      <td>9</td>\n",
       "    </tr>\n",
       "    <tr>\n",
       "      <th>Spinocerebellar ataxia</th>\n",
       "      <td>9</td>\n",
       "    </tr>\n",
       "    <tr>\n",
       "      <th>Alcoholic liver disease</th>\n",
       "      <td>8</td>\n",
       "    </tr>\n",
       "    <tr>\n",
       "      <th>Th17 cell differentiation</th>\n",
       "      <td>8</td>\n",
       "    </tr>\n",
       "    <tr>\n",
       "      <th>Adipocytokine signaling pathway</th>\n",
       "      <td>8</td>\n",
       "    </tr>\n",
       "    <tr>\n",
       "      <th>Epithelial cell signaling in Helicobacter pylori infection</th>\n",
       "      <td>8</td>\n",
       "    </tr>\n",
       "    <tr>\n",
       "      <th>Inflammatory mediator regulation of TRP channels</th>\n",
       "      <td>8</td>\n",
       "    </tr>\n",
       "    <tr>\n",
       "      <th>NOD-like receptor signaling pathway</th>\n",
       "      <td>8</td>\n",
       "    </tr>\n",
       "    <tr>\n",
       "      <th>Wnt signaling pathway</th>\n",
       "      <td>8</td>\n",
       "    </tr>\n",
       "    <tr>\n",
       "      <th>Adrenergic signaling in cardiomyocytes</th>\n",
       "      <td>8</td>\n",
       "    </tr>\n",
       "    <tr>\n",
       "      <th>Regulation of lipolysis in adipocytes</th>\n",
       "      <td>8</td>\n",
       "    </tr>\n",
       "    <tr>\n",
       "      <th>Leukocyte transendothelial migration</th>\n",
       "      <td>8</td>\n",
       "    </tr>\n",
       "    <tr>\n",
       "      <th>Amoebiasis</th>\n",
       "      <td>7</td>\n",
       "    </tr>\n",
       "    <tr>\n",
       "      <th>Carbohydrate digestion and absorption</th>\n",
       "      <td>7</td>\n",
       "    </tr>\n",
       "    <tr>\n",
       "      <th>Prion disease</th>\n",
       "      <td>7</td>\n",
       "    </tr>\n",
       "    <tr>\n",
       "      <th>Th1 and Th2 cell differentiation</th>\n",
       "      <td>6</td>\n",
       "    </tr>\n",
       "    <tr>\n",
       "      <th>Aldosterone-regulated sodium reabsorption</th>\n",
       "      <td>6</td>\n",
       "    </tr>\n",
       "    <tr>\n",
       "      <th>Leishmaniasis</th>\n",
       "      <td>6</td>\n",
       "    </tr>\n",
       "    <tr>\n",
       "      <th>TGF-beta signaling pathway</th>\n",
       "      <td>6</td>\n",
       "    </tr>\n",
       "    <tr>\n",
       "      <th>Hippo signaling pathway</th>\n",
       "      <td>6</td>\n",
       "    </tr>\n",
       "    <tr>\n",
       "      <th>Dopaminergic synapse</th>\n",
       "      <td>6</td>\n",
       "    </tr>\n",
       "    <tr>\n",
       "      <th>Oocyte meiosis</th>\n",
       "      <td>6</td>\n",
       "    </tr>\n",
       "    <tr>\n",
       "      <th>Metabolic pathways</th>\n",
       "      <td>6</td>\n",
       "    </tr>\n",
       "    <tr>\n",
       "      <th>Mitophagy - animal</th>\n",
       "      <td>6</td>\n",
       "    </tr>\n",
       "    <tr>\n",
       "      <th>Type II diabetes mellitus</th>\n",
       "      <td>6</td>\n",
       "    </tr>\n",
       "    <tr>\n",
       "      <th>Glucagon signaling pathway</th>\n",
       "      <td>6</td>\n",
       "    </tr>\n",
       "    <tr>\n",
       "      <th>Phosphatidylinositol signaling system</th>\n",
       "      <td>5</td>\n",
       "    </tr>\n",
       "    <tr>\n",
       "      <th>Necroptosis</th>\n",
       "      <td>5</td>\n",
       "    </tr>\n",
       "    <tr>\n",
       "      <th>NF-kappa B signaling pathway</th>\n",
       "      <td>5</td>\n",
       "    </tr>\n",
       "    <tr>\n",
       "      <th>Pertussis</th>\n",
       "      <td>4</td>\n",
       "    </tr>\n",
       "    <tr>\n",
       "      <th>Huntington disease</th>\n",
       "      <td>4</td>\n",
       "    </tr>\n",
       "    <tr>\n",
       "      <th>Pancreatic secretion</th>\n",
       "      <td>4</td>\n",
       "    </tr>\n",
       "    <tr>\n",
       "      <th>Amyotrophic lateral sclerosis</th>\n",
       "      <td>4</td>\n",
       "    </tr>\n",
       "    <tr>\n",
       "      <th>IL-17 signaling pathway</th>\n",
       "      <td>4</td>\n",
       "    </tr>\n",
       "    <tr>\n",
       "      <th>Inositol phosphate metabolism</th>\n",
       "      <td>4</td>\n",
       "    </tr>\n",
       "    <tr>\n",
       "      <th>Viral myocarditis</th>\n",
       "      <td>4</td>\n",
       "    </tr>\n",
       "    <tr>\n",
       "      <th>Aldosterone synthesis and secretion</th>\n",
       "      <td>3</td>\n",
       "    </tr>\n",
       "    <tr>\n",
       "      <th>Thyroid hormone synthesis</th>\n",
       "      <td>3</td>\n",
       "    </tr>\n",
       "    <tr>\n",
       "      <th>Insulin secretion</th>\n",
       "      <td>3</td>\n",
       "    </tr>\n",
       "    <tr>\n",
       "      <th>Circadian entrainment</th>\n",
       "      <td>3</td>\n",
       "    </tr>\n",
       "    <tr>\n",
       "      <th>Glutamatergic synapse</th>\n",
       "      <td>3</td>\n",
       "    </tr>\n",
       "    <tr>\n",
       "      <th>Legionellosis</th>\n",
       "      <td>3</td>\n",
       "    </tr>\n",
       "    <tr>\n",
       "      <th>Endocrine and other factor-regulated calcium reabsorption</th>\n",
       "      <td>3</td>\n",
       "    </tr>\n",
       "    <tr>\n",
       "      <th>Hedgehog signaling pathway</th>\n",
       "      <td>3</td>\n",
       "    </tr>\n",
       "    <tr>\n",
       "      <th>Hematopoietic cell lineage</th>\n",
       "      <td>3</td>\n",
       "    </tr>\n",
       "    <tr>\n",
       "      <th>Cytokine-cytokine receptor interaction</th>\n",
       "      <td>3</td>\n",
       "    </tr>\n",
       "    <tr>\n",
       "      <th>Cortisol synthesis and secretion</th>\n",
       "      <td>3</td>\n",
       "    </tr>\n",
       "    <tr>\n",
       "      <th>RIG-I-like receptor signaling pathway</th>\n",
       "      <td>2</td>\n",
       "    </tr>\n",
       "    <tr>\n",
       "      <th>Apoptosis - multiple species</th>\n",
       "      <td>2</td>\n",
       "    </tr>\n",
       "    <tr>\n",
       "      <th>Gastric acid secretion</th>\n",
       "      <td>2</td>\n",
       "    </tr>\n",
       "    <tr>\n",
       "      <th>Notch signaling pathway</th>\n",
       "      <td>2</td>\n",
       "    </tr>\n",
       "    <tr>\n",
       "      <th>Parkinson disease</th>\n",
       "      <td>2</td>\n",
       "    </tr>\n",
       "    <tr>\n",
       "      <th>Hippo signaling pathway - multiple species</th>\n",
       "      <td>2</td>\n",
       "    </tr>\n",
       "    <tr>\n",
       "      <th>Amphetamine addiction</th>\n",
       "      <td>2</td>\n",
       "    </tr>\n",
       "    <tr>\n",
       "      <th>Primary immunodeficiency</th>\n",
       "      <td>2</td>\n",
       "    </tr>\n",
       "    <tr>\n",
       "      <th>Malaria</th>\n",
       "      <td>2</td>\n",
       "    </tr>\n",
       "    <tr>\n",
       "      <th>Cocaine addiction</th>\n",
       "      <td>2</td>\n",
       "    </tr>\n",
       "    <tr>\n",
       "      <th>Inflammatory bowel disease</th>\n",
       "      <td>2</td>\n",
       "    </tr>\n",
       "    <tr>\n",
       "      <th>Basal cell carcinoma</th>\n",
       "      <td>2</td>\n",
       "    </tr>\n",
       "    <tr>\n",
       "      <th>Salivary secretion</th>\n",
       "      <td>2</td>\n",
       "    </tr>\n",
       "    <tr>\n",
       "      <th>Rheumatoid arthritis</th>\n",
       "      <td>2</td>\n",
       "    </tr>\n",
       "    <tr>\n",
       "      <th>Retrograde endocannabinoid signaling</th>\n",
       "      <td>2</td>\n",
       "    </tr>\n",
       "    <tr>\n",
       "      <th>Renin secretion</th>\n",
       "      <td>2</td>\n",
       "    </tr>\n",
       "    <tr>\n",
       "      <th>Protein processing in endoplasmic reticulum</th>\n",
       "      <td>2</td>\n",
       "    </tr>\n",
       "    <tr>\n",
       "      <th>African trypanosomiasis</th>\n",
       "      <td>2</td>\n",
       "    </tr>\n",
       "    <tr>\n",
       "      <th>Ubiquitin mediated proteolysis</th>\n",
       "      <td>1</td>\n",
       "    </tr>\n",
       "    <tr>\n",
       "      <th>Lysine degradation</th>\n",
       "      <td>1</td>\n",
       "    </tr>\n",
       "    <tr>\n",
       "      <th>Vibrio cholerae infection</th>\n",
       "      <td>1</td>\n",
       "    </tr>\n",
       "    <tr>\n",
       "      <th>Vasopressin-regulated water reabsorption</th>\n",
       "      <td>1</td>\n",
       "    </tr>\n",
       "    <tr>\n",
       "      <th>Morphine addiction</th>\n",
       "      <td>1</td>\n",
       "    </tr>\n",
       "    <tr>\n",
       "      <th>mRNA surveillance pathway</th>\n",
       "      <td>1</td>\n",
       "    </tr>\n",
       "    <tr>\n",
       "      <th>Dilated cardiomyopathy</th>\n",
       "      <td>1</td>\n",
       "    </tr>\n",
       "    <tr>\n",
       "      <th>Glutathione metabolism</th>\n",
       "      <td>1</td>\n",
       "    </tr>\n",
       "    <tr>\n",
       "      <th>GABAergic synapse</th>\n",
       "      <td>1</td>\n",
       "    </tr>\n",
       "    <tr>\n",
       "      <th>Ovarian steroidogenesis</th>\n",
       "      <td>1</td>\n",
       "    </tr>\n",
       "    <tr>\n",
       "      <th>Carbon metabolism</th>\n",
       "      <td>1</td>\n",
       "    </tr>\n",
       "    <tr>\n",
       "      <th>Peroxisome</th>\n",
       "      <td>1</td>\n",
       "    </tr>\n",
       "    <tr>\n",
       "      <th>Phagosome</th>\n",
       "      <td>1</td>\n",
       "    </tr>\n",
       "    <tr>\n",
       "      <th>Cytosolic DNA-sensing pathway</th>\n",
       "      <td>1</td>\n",
       "    </tr>\n",
       "    <tr>\n",
       "      <th>Arrhythmogenic right ventricular cardiomyopathy</th>\n",
       "      <td>1</td>\n",
       "    </tr>\n",
       "    <tr>\n",
       "      <th>Autophagy - other</th>\n",
       "      <td>1</td>\n",
       "    </tr>\n",
       "    <tr>\n",
       "      <th>Citrate cycle (TCA cycle)</th>\n",
       "      <td>1</td>\n",
       "    </tr>\n",
       "    <tr>\n",
       "      <th>Bile secretion</th>\n",
       "      <td>1</td>\n",
       "    </tr>\n",
       "    <tr>\n",
       "      <th>Biosynthesis of amino acids</th>\n",
       "      <td>1</td>\n",
       "    </tr>\n",
       "    <tr>\n",
       "      <th>2-Oxocarboxylic acid metabolism</th>\n",
       "      <td>1</td>\n",
       "    </tr>\n",
       "  </tbody>\n",
       "</table>\n",
       "</div>"
      ],
      "text/plain": [
       "                                                    gene\n",
       "pathway                                                 \n",
       "Pathways in cancer                                    65\n",
       "PI3K-Akt signaling pathway                            48\n",
       "Proteoglycans in cancer                               39\n",
       "Human cytomegalovirus infection                       37\n",
       "Human papillomavirus infection                        36\n",
       "Prostate cancer                                       35\n",
       "MAPK signaling pathway                                35\n",
       "MicroRNAs in cancer                                   35\n",
       "Ras signaling pathway                                 34\n",
       "EGFR tyrosine kinase inhibitor resistance             34\n",
       "Rap1 signaling pathway                                32\n",
       "Breast cancer                                         31\n",
       "Central carbon metabolism in cancer                   31\n",
       "Kaposi sarcoma-associated herpesvirus infection       30\n",
       "Focal adhesion                                        30\n",
       "Hepatitis B                                           29\n",
       "Endocrine resistance                                  29\n",
       "Chemical carcinogenesis - receptor activation         29\n",
       "Gastric cancer                                        28\n",
       "Hepatocellular carcinoma                              28\n",
       "Chemical carcinogenesis - reactive oxygen species     28\n",
       "Hepatitis C                                           28\n",
       "ErbB signaling pathway                                27\n",
       "Cellular senescence                                   26\n",
       "Phospholipase D signaling pathway                     26\n",
       "Colorectal cancer                                     26\n",
       "Glioma                                                26\n",
       "Non-small cell lung cancer                            26\n",
       "Chronic myeloid leukemia                              26\n",
       "Regulation of actin cytoskeleton                      26\n",
       "Thyroid hormone signaling pathway                     26\n",
       "Melanoma                                              26\n",
       "JAK-STAT signaling pathway                            25\n",
       "PD-L1 expression and PD-1 checkpoint pathway in...    25\n",
       "Neurotrophin signaling pathway                        25\n",
       "Acute myeloid leukemia                                24\n",
       "Renal cell carcinoma                                  24\n",
       "Human immunodeficiency virus 1 infection              24\n",
       "Signaling pathways regulating pluripotency of s...    24\n",
       "Human T-cell leukemia virus 1 infection               24\n",
       "FoxO signaling pathway                                24\n",
       "Viral carcinogenesis                                  23\n",
       "Pancreatic cancer                                     23\n",
       "Choline metabolism in cancer                          23\n",
       "Chemokine signaling pathway                           23\n",
       "Endometrial cancer                                    23\n",
       "Epstein-Barr virus infection                          23\n",
       "mTOR signaling pathway                                22\n",
       "Growth hormone synthesis, secretion and action        22\n",
       "Estrogen signaling pathway                            22\n",
       "Lipid and atherosclerosis                             22\n",
       "cAMP signaling pathway                                21\n",
       "Influenza A                                           21\n",
       "C-type lectin receptor signaling pathway              21\n",
       "Salmonella infection                                  21\n",
       "Relaxin signaling pathway                             21\n",
       "T cell receptor signaling pathway                     21\n",
       "Insulin signaling pathway                             20\n",
       "Alzheimer disease                                     20\n",
       "Prolactin signaling pathway                           20\n",
       "Sphingolipid signaling pathway                        20\n",
       "Autophagy - animal                                    20\n",
       "B cell receptor signaling pathway                     20\n",
       "Measles                                               19\n",
       "AGE-RAGE signaling pathway in diabetic complica...    19\n",
       "Apoptosis                                             19\n",
       "Calcium signaling pathway                             19\n",
       "Bladder cancer                                        18\n",
       "VEGF signaling pathway                                18\n",
       "Herpes simplex virus 1 infection                      18\n",
       "Shigellosis                                           18\n",
       "Natural killer cell mediated cytotoxicity             17\n",
       "Yersinia infection                                    17\n",
       "Axon guidance                                         17\n",
       "HIF-1 signaling pathway                               17\n",
       "Fc epsilon RI signaling pathway                       17\n",
       "Fluid shear stress and atherosclerosis                17\n",
       "Cholinergic synapse                                   16\n",
       "GnRH secretion                                        16\n",
       "Chagas disease                                        16\n",
       "Small cell lung cancer                                15\n",
       "Apelin signaling pathway                              15\n",
       "Pathways of neurodegeneration - multiple diseases     15\n",
       "Gap junction                                          15\n",
       "Toll-like receptor signaling pathway                  15\n",
       "Oxytocin signaling pathway                            14\n",
       "Osteoclast differentiation                            14\n",
       "Neutrophil extracellular trap formation               14\n",
       "Progesterone-mediated oocyte maturation               14\n",
       "GnRH signaling pathway                                14\n",
       "Tuberculosis                                          13\n",
       "Transcriptional misregulation in cancer               13\n",
       "Long-term depression                                  13\n",
       "Longevity regulating pathway                          13\n",
       "Cushing syndrome                                      13\n",
       "Thyroid cancer                                        13\n",
       "Platelet activation                                   13\n",
       "TNF signaling pathway                                 12\n",
       "Parathyroid hormone synthesis, secretion and ac...    12\n",
       "Platinum drug resistance                              12\n",
       "Melanogenesis                                         12\n",
       "p53 signaling pathway                                 12\n",
       "Coronavirus disease - COVID-19                        12\n",
       "AMPK signaling pathway                                12\n",
       "Insulin resistance                                    12\n",
       "Fc gamma R-mediated phagocytosis                      12\n",
       "Pathogenic Escherichia coli infection                 11\n",
       "cGMP-PKG signaling pathway                            11\n",
       "Long-term potentiation                                11\n",
       "Longevity regulating pathway - multiple species       11\n",
       "Toxoplasmosis                                         11\n",
       "Vascular smooth muscle contraction                    10\n",
       "Serotonergic synapse                                  10\n",
       "Diabetic cardiomyopathy                               10\n",
       "Endocytosis                                           10\n",
       "Non-alcoholic fatty liver disease                     10\n",
       "Alcoholism                                            10\n",
       "Adherens junction                                     10\n",
       "Thermogenesis                                          9\n",
       "Bacterial invasion of epithelial cells                 9\n",
       "Cell cycle                                             9\n",
       "Tight junction                                         9\n",
       "Spinocerebellar ataxia                                 9\n",
       "Alcoholic liver disease                                8\n",
       "Th17 cell differentiation                              8\n",
       "Adipocytokine signaling pathway                        8\n",
       "Epithelial cell signaling in Helicobacter pylor...     8\n",
       "Inflammatory mediator regulation of TRP channels       8\n",
       "NOD-like receptor signaling pathway                    8\n",
       "Wnt signaling pathway                                  8\n",
       "Adrenergic signaling in cardiomyocytes                 8\n",
       "Regulation of lipolysis in adipocytes                  8\n",
       "Leukocyte transendothelial migration                   8\n",
       "Amoebiasis                                             7\n",
       "Carbohydrate digestion and absorption                  7\n",
       "Prion disease                                          7\n",
       "Th1 and Th2 cell differentiation                       6\n",
       "Aldosterone-regulated sodium reabsorption              6\n",
       "Leishmaniasis                                          6\n",
       "TGF-beta signaling pathway                             6\n",
       "Hippo signaling pathway                                6\n",
       "Dopaminergic synapse                                   6\n",
       "Oocyte meiosis                                         6\n",
       "Metabolic pathways                                     6\n",
       "Mitophagy - animal                                     6\n",
       "Type II diabetes mellitus                              6\n",
       "Glucagon signaling pathway                             6\n",
       "Phosphatidylinositol signaling system                  5\n",
       "Necroptosis                                            5\n",
       "NF-kappa B signaling pathway                           5\n",
       "Pertussis                                              4\n",
       "Huntington disease                                     4\n",
       "Pancreatic secretion                                   4\n",
       "Amyotrophic lateral sclerosis                          4\n",
       "IL-17 signaling pathway                                4\n",
       "Inositol phosphate metabolism                          4\n",
       "Viral myocarditis                                      4\n",
       "Aldosterone synthesis and secretion                    3\n",
       "Thyroid hormone synthesis                              3\n",
       "Insulin secretion                                      3\n",
       "Circadian entrainment                                  3\n",
       "Glutamatergic synapse                                  3\n",
       "Legionellosis                                          3\n",
       "Endocrine and other factor-regulated calcium re...     3\n",
       "Hedgehog signaling pathway                             3\n",
       "Hematopoietic cell lineage                             3\n",
       "Cytokine-cytokine receptor interaction                 3\n",
       "Cortisol synthesis and secretion                       3\n",
       "RIG-I-like receptor signaling pathway                  2\n",
       "Apoptosis - multiple species                           2\n",
       "Gastric acid secretion                                 2\n",
       "Notch signaling pathway                                2\n",
       "Parkinson disease                                      2\n",
       "Hippo signaling pathway - multiple species             2\n",
       "Amphetamine addiction                                  2\n",
       "Primary immunodeficiency                               2\n",
       "Malaria                                                2\n",
       "Cocaine addiction                                      2\n",
       "Inflammatory bowel disease                             2\n",
       "Basal cell carcinoma                                   2\n",
       "Salivary secretion                                     2\n",
       "Rheumatoid arthritis                                   2\n",
       "Retrograde endocannabinoid signaling                   2\n",
       "Renin secretion                                        2\n",
       "Protein processing in endoplasmic reticulum            2\n",
       "African trypanosomiasis                                2\n",
       "Ubiquitin mediated proteolysis                         1\n",
       "Lysine degradation                                     1\n",
       "Vibrio cholerae infection                              1\n",
       "Vasopressin-regulated water reabsorption               1\n",
       "Morphine addiction                                     1\n",
       "mRNA surveillance pathway                              1\n",
       "Dilated cardiomyopathy                                 1\n",
       "Glutathione metabolism                                 1\n",
       "GABAergic synapse                                      1\n",
       "Ovarian steroidogenesis                                1\n",
       "Carbon metabolism                                      1\n",
       "Peroxisome                                             1\n",
       "Phagosome                                              1\n",
       "Cytosolic DNA-sensing pathway                          1\n",
       "Arrhythmogenic right ventricular cardiomyopathy        1\n",
       "Autophagy - other                                      1\n",
       "Citrate cycle (TCA cycle)                              1\n",
       "Bile secretion                                         1\n",
       "Biosynthesis of amino acids                            1\n",
       "2-Oxocarboxylic acid metabolism                        1"
      ]
     },
     "execution_count": 45,
     "metadata": {},
     "output_type": "execute_result"
    }
   ],
   "source": [
    "class7_gene_pathway.groupby('pathway').count().sort_values('gene',ascending=False)"
   ]
  },
  {
   "cell_type": "code",
   "execution_count": 48,
   "metadata": {},
   "outputs": [
    {
     "name": "stdout",
     "output_type": "stream",
     "text": [
      "mutated genes in class 7  92\n",
      "genes in KEGG Database  22232\n"
     ]
    }
   ],
   "source": [
    "class_4_mutated_kegg=map_mutation_kegg(class_4_genes,human_gene_list)"
   ]
  },
  {
   "cell_type": "code",
   "execution_count": 49,
   "metadata": {
    "scrolled": false
   },
   "outputs": [
    {
     "name": "stderr",
     "output_type": "stream",
     "text": [
      "  0%|          | 0/92 [00:00<?, ?it/s]\u001b[33mWARNING [bioservices:keggparser:119]: \u001b[0m \u001b[34mFound keyword SYMBOL, which has not special\n",
      "    parsing for now. please report this issue with the KEGG \n",
      "    identifier (867               CDS       T01001) into github.com/bioservices. Thanks T.C.\u001b[0m\n",
      "  1%|          | 1/92 [00:03<05:01,  3.32s/it]\u001b[33mWARNING [bioservices:keggparser:119]: \u001b[0m \u001b[34mFound keyword SYMBOL, which has not special\n",
      "    parsing for now. please report this issue with the KEGG \n",
      "    identifier (8036              CDS       T01001) into github.com/bioservices. Thanks T.C.\u001b[0m\n",
      "  2%|▏         | 2/92 [00:04<02:39,  1.77s/it]\u001b[33mWARNING [bioservices:keggparser:119]: \u001b[0m \u001b[34mFound keyword SYMBOL, which has not special\n",
      "    parsing for now. please report this issue with the KEGG \n",
      "    identifier (7015              CDS       T01001) into github.com/bioservices. Thanks T.C.\u001b[0m\n",
      "  3%|▎         | 3/92 [00:06<03:04,  2.07s/it]\u001b[33mWARNING [bioservices:keggparser:119]: \u001b[0m \u001b[34mFound keyword SYMBOL, which has not special\n",
      "    parsing for now. please report this issue with the KEGG \n",
      "    identifier (23405             CDS       T01001) into github.com/bioservices. Thanks T.C.\u001b[0m\n",
      "  4%|▍         | 4/92 [00:07<02:20,  1.60s/it]\u001b[33mWARNING [bioservices:keggparser:119]: \u001b[0m \u001b[34mFound keyword SYMBOL, which has not special\n",
      "    parsing for now. please report this issue with the KEGG \n",
      "    identifier (11122             CDS       T01001) into github.com/bioservices. Thanks T.C.\u001b[0m\n",
      "  5%|▌         | 5/92 [00:07<01:35,  1.10s/it]"
     ]
    },
    {
     "name": "stdout",
     "output_type": "stream",
     "text": [
      "no data for  PTPRT\n"
     ]
    },
    {
     "name": "stderr",
     "output_type": "stream",
     "text": [
      "\u001b[33mWARNING [bioservices:keggparser:119]: \u001b[0m \u001b[34mFound keyword SYMBOL, which has not special\n",
      "    parsing for now. please report this issue with the KEGG \n",
      "    identifier (10111             CDS       T01001) into github.com/bioservices. Thanks T.C.\u001b[0m\n",
      "  7%|▋         | 6/92 [00:08<01:37,  1.14s/it]\u001b[33mWARNING [bioservices:keggparser:119]: \u001b[0m \u001b[34mFound keyword SYMBOL, which has not special\n",
      "    parsing for now. please report this issue with the KEGG \n",
      "    identifier (7046              CDS       T01001) into github.com/bioservices. Thanks T.C.\u001b[0m\n",
      "  8%|▊         | 7/92 [00:17<04:58,  3.51s/it]\u001b[33mWARNING [bioservices:keggparser:119]: \u001b[0m \u001b[34mFound keyword SYMBOL, which has not special\n",
      "    parsing for now. please report this issue with the KEGG \n",
      "    identifier (7048              CDS       T01001) into github.com/bioservices. Thanks T.C.\u001b[0m\n",
      "  9%|▊         | 8/92 [00:26<07:38,  5.46s/it]\u001b[33mWARNING [bioservices:keggparser:119]: \u001b[0m \u001b[34mFound keyword SYMBOL, which has not special\n",
      "    parsing for now. please report this issue with the KEGG \n",
      "    identifier (2956              CDS       T01001) into github.com/bioservices. Thanks T.C.\u001b[0m\n",
      " 10%|▉         | 9/92 [00:28<06:07,  4.43s/it]\u001b[33mWARNING [bioservices:keggparser:119]: \u001b[0m \u001b[34mFound keyword SYMBOL, which has not special\n",
      "    parsing for now. please report this issue with the KEGG \n",
      "    identifier (9113              CDS       T01001) into github.com/bioservices. Thanks T.C.\u001b[0m\n",
      " 11%|█         | 10/92 [00:29<04:35,  3.36s/it]\u001b[33mWARNING [bioservices:keggparser:119]: \u001b[0m \u001b[34mFound keyword SYMBOL, which has not special\n",
      "    parsing for now. please report this issue with the KEGG \n",
      "    identifier (55193             CDS       T01001) into github.com/bioservices. Thanks T.C.\u001b[0m\n",
      " 12%|█▏        | 11/92 [00:30<03:25,  2.54s/it]\u001b[33mWARNING [bioservices:keggparser:119]: \u001b[0m \u001b[34mFound keyword SYMBOL, which has not special\n",
      "    parsing for now. please report this issue with the KEGG \n",
      "    identifier (26524             CDS       T01001) into github.com/bioservices. Thanks T.C.\u001b[0m\n",
      " 13%|█▎        | 12/92 [00:31<02:42,  2.04s/it]\u001b[33mWARNING [bioservices:keggparser:119]: \u001b[0m \u001b[34mFound keyword SYMBOL, which has not special\n",
      "    parsing for now. please report this issue with the KEGG \n",
      "    identifier (1956              CDS       T01001) into github.com/bioservices. Thanks T.C.\u001b[0m\n",
      " 14%|█▍        | 13/92 [00:48<08:30,  6.46s/it]\u001b[33mWARNING [bioservices:keggparser:119]: \u001b[0m \u001b[34mFound keyword SYMBOL, which has not special\n",
      "    parsing for now. please report this issue with the KEGG \n",
      "    identifier (11200             CDS       T01001) into github.com/bioservices. Thanks T.C.\u001b[0m\n",
      " 15%|█▌        | 14/92 [00:49<06:32,  5.03s/it]\u001b[33mWARNING [bioservices:keggparser:119]: \u001b[0m \u001b[34mFound keyword SYMBOL, which has not special\n",
      "    parsing for now. please report this issue with the KEGG \n",
      "    identifier (999               CDS       T01001) into github.com/bioservices. Thanks T.C.\u001b[0m\n",
      " 16%|█▋        | 15/92 [00:53<06:07,  4.77s/it]\u001b[33mWARNING [bioservices:keggparser:119]: \u001b[0m \u001b[34mFound keyword SYMBOL, which has not special\n",
      "    parsing for now. please report this issue with the KEGG \n",
      "    identifier (4072              CDS       T01001) into github.com/bioservices. Thanks T.C.\u001b[0m\n",
      " 17%|█▋        | 16/92 [00:54<04:17,  3.39s/it]"
     ]
    },
    {
     "name": "stdout",
     "output_type": "stream",
     "text": [
      "no data for  EPCAM\n"
     ]
    },
    {
     "name": "stderr",
     "output_type": "stream",
     "text": [
      "\u001b[33mWARNING [bioservices:keggparser:119]: \u001b[0m \u001b[34mFound keyword SYMBOL, which has not special\n",
      "    parsing for now. please report this issue with the KEGG \n",
      "    identifier (2033              CDS       T01001) into github.com/bioservices. Thanks T.C.\u001b[0m\n",
      " 18%|█▊        | 17/92 [01:04<06:50,  5.47s/it]\u001b[33mWARNING [bioservices:keggparser:119]: \u001b[0m \u001b[34mFound keyword SYMBOL, which has not special\n",
      "    parsing for now. please report this issue with the KEGG \n",
      "    identifier (7157              CDS       T01001) into github.com/bioservices. Thanks T.C.\u001b[0m\n",
      " 20%|█▉        | 18/92 [01:21<11:05,  8.99s/it]\u001b[33mWARNING [bioservices:keggparser:119]: \u001b[0m \u001b[34mFound keyword SYMBOL, which has not special\n",
      "    parsing for now. please report this issue with the KEGG \n",
      "    identifier (4087              CDS       T01001) into github.com/bioservices. Thanks T.C.\u001b[0m\n",
      " 21%|██        | 19/92 [01:29<10:24,  8.55s/it]\u001b[33mWARNING [bioservices:keggparser:119]: \u001b[0m \u001b[34mFound keyword SYMBOL, which has not special\n",
      "    parsing for now. please report this issue with the KEGG \n",
      "    identifier (4088              CDS       T01001) into github.com/bioservices. Thanks T.C.\u001b[0m\n",
      " 22%|██▏       | 20/92 [01:37<10:04,  8.40s/it]\u001b[33mWARNING [bioservices:keggparser:119]: \u001b[0m \u001b[34mFound keyword SYMBOL, which has not special\n",
      "    parsing for now. please report this issue with the KEGG \n",
      "    identifier (4089              CDS       T01001) into github.com/bioservices. Thanks T.C.\u001b[0m\n",
      " 23%|██▎       | 21/92 [01:43<09:11,  7.77s/it]\u001b[33mWARNING [bioservices:keggparser:119]: \u001b[0m \u001b[34mFound keyword SYMBOL, which has not special\n",
      "    parsing for now. please report this issue with the KEGG \n",
      "    identifier (1021              CDS       T01001) into github.com/bioservices. Thanks T.C.\u001b[0m\n",
      " 24%|██▍       | 22/92 [01:52<09:19,  7.99s/it]\u001b[33mWARNING [bioservices:keggparser:119]: \u001b[0m \u001b[34mFound keyword SYMBOL, which has not special\n",
      "    parsing for now. please report this issue with the KEGG \n",
      "    identifier (55294             CDS       T01001) into github.com/bioservices. Thanks T.C.\u001b[0m\n",
      " 25%|██▌       | 23/92 [01:52<06:37,  5.75s/it]\u001b[33mWARNING [bioservices:keggparser:119]: \u001b[0m \u001b[34mFound keyword SYMBOL, which has not special\n",
      "    parsing for now. please report this issue with the KEGG \n",
      "    identifier (1027              CDS       T01001) into github.com/bioservices. Thanks T.C.\u001b[0m\n",
      " 26%|██▌       | 24/92 [01:59<06:55,  6.11s/it]\u001b[33mWARNING [bioservices:keggparser:119]: \u001b[0m \u001b[34mFound keyword SYMBOL, which has not special\n",
      "    parsing for now. please report this issue with the KEGG \n",
      "    identifier (1029              CDS       T01001) into github.com/bioservices. Thanks T.C.\u001b[0m\n",
      " 27%|██▋       | 25/92 [02:05<06:48,  6.10s/it]\u001b[33mWARNING [bioservices:keggparser:119]: \u001b[0m \u001b[34mFound keyword SYMBOL, which has not special\n",
      "    parsing for now. please report this issue with the KEGG \n",
      "    identifier (1030              CDS       T01001) into github.com/bioservices. Thanks T.C.\u001b[0m\n",
      " 28%|██▊       | 26/92 [02:09<06:01,  5.48s/it]\u001b[33mWARNING [bioservices:keggparser:119]: \u001b[0m \u001b[34mFound keyword SYMBOL, which has not special\n",
      "    parsing for now. please report this issue with the KEGG \n",
      "    identifier (2064              CDS       T01001) into github.com/bioservices. Thanks T.C.\u001b[0m\n",
      " 29%|██▉       | 27/92 [02:17<06:34,  6.07s/it]\u001b[33mWARNING [bioservices:keggparser:119]: \u001b[0m \u001b[34mFound keyword SYMBOL, which has not special\n",
      "    parsing for now. please report this issue with the KEGG \n",
      "    identifier (83990             CDS       T01001) into github.com/bioservices. Thanks T.C.\u001b[0m\n",
      " 30%|███       | 28/92 [02:17<04:46,  4.47s/it]\u001b[33mWARNING [bioservices:keggparser:119]: \u001b[0m \u001b[34mFound keyword SYMBOL, which has not special\n",
      "    parsing for now. please report this issue with the KEGG \n",
      "    identifier (2071              CDS       T01001) into github.com/bioservices. Thanks T.C.\u001b[0m\n",
      " 32%|███▏      | 29/92 [02:18<03:33,  3.39s/it]\u001b[33mWARNING [bioservices:keggparser:119]: \u001b[0m \u001b[34mFound keyword SYMBOL, which has not special\n",
      "    parsing for now. please report this issue with the KEGG \n",
      "    identifier (2072              CDS       T01001) into github.com/bioservices. Thanks T.C.\u001b[0m\n",
      " 33%|███▎      | 30/92 [02:19<02:40,  2.60s/it]\u001b[33mWARNING [bioservices:keggparser:119]: \u001b[0m \u001b[34mFound keyword SYMBOL, which has not special\n",
      "    parsing for now. please report this issue with the KEGG \n",
      "    identifier (5156              CDS       T01001) into github.com/bioservices. Thanks T.C.\u001b[0m\n",
      " 34%|███▎      | 31/92 [02:26<04:02,  3.98s/it]\u001b[33mWARNING [bioservices:keggparser:119]: \u001b[0m \u001b[34mFound keyword SYMBOL, which has not special\n",
      "    parsing for now. please report this issue with the KEGG \n",
      "    identifier (5159              CDS       T01001) into github.com/bioservices. Thanks T.C.\u001b[0m\n",
      " 35%|███▍      | 32/92 [02:33<04:51,  4.86s/it]\u001b[33mWARNING [bioservices:keggparser:119]: \u001b[0m \u001b[34mFound keyword SYMBOL, which has not special\n",
      "    parsing for now. please report this issue with the KEGG \n",
      "    identifier (8241              CDS       T01001) into github.com/bioservices. Thanks T.C.\u001b[0m\n",
      " 36%|███▌      | 33/92 [02:33<03:24,  3.46s/it]"
     ]
    },
    {
     "name": "stdout",
     "output_type": "stream",
     "text": [
      "no data for  RBM10\n"
     ]
    },
    {
     "name": "stderr",
     "output_type": "stream",
     "text": [
      "\u001b[33mWARNING [bioservices:keggparser:119]: \u001b[0m \u001b[34mFound keyword SYMBOL, which has not special\n",
      "    parsing for now. please report this issue with the KEGG \n",
      "    identifier (8242              CDS       T01001) into github.com/bioservices. Thanks T.C.\u001b[0m\n",
      " 37%|███▋      | 34/92 [02:34<02:26,  2.52s/it]\u001b[33mWARNING [bioservices:keggparser:119]: \u001b[0m \u001b[34mFound keyword SYMBOL, which has not special\n",
      "    parsing for now. please report this issue with the KEGG \n",
      "    identifier (2120              CDS       T01001) into github.com/bioservices. Thanks T.C.\u001b[0m\n"
     ]
    },
    {
     "name": "stdout",
     "output_type": "stream",
     "text": [
      "no data for  KDM5C\n"
     ]
    },
    {
     "name": "stderr",
     "output_type": "stream",
     "text": [
      " 38%|███▊      | 35/92 [02:34<01:52,  1.98s/it]\u001b[33mWARNING [bioservices:keggparser:119]: \u001b[0m \u001b[34mFound keyword SYMBOL, which has not special\n",
      "    parsing for now. please report this issue with the KEGG \n",
      "    identifier (7248              CDS       T01001) into github.com/bioservices. Thanks T.C.\u001b[0m\n",
      " 39%|███▉      | 36/92 [02:39<02:35,  2.78s/it]\u001b[33mWARNING [bioservices:keggparser:119]: \u001b[0m \u001b[34mFound keyword SYMBOL, which has not special\n",
      "    parsing for now. please report this issue with the KEGG \n",
      "    identifier (10320             CDS       T01001) into github.com/bioservices. Thanks T.C.\u001b[0m\n",
      " 40%|████      | 37/92 [02:39<01:50,  2.01s/it]"
     ]
    },
    {
     "name": "stdout",
     "output_type": "stream",
     "text": [
      "no data for  IKZF1\n"
     ]
    },
    {
     "name": "stderr",
     "output_type": "stream",
     "text": [
      "\u001b[33mWARNING [bioservices:keggparser:119]: \u001b[0m \u001b[34mFound keyword SYMBOL, which has not special\n",
      "    parsing for now. please report this issue with the KEGG \n",
      "    identifier (7249              CDS       T01001) into github.com/bioservices. Thanks T.C.\u001b[0m\n",
      " 41%|████▏     | 38/92 [02:45<02:46,  3.08s/it]\u001b[33mWARNING [bioservices:keggparser:119]: \u001b[0m \u001b[34mFound keyword SYMBOL, which has not special\n",
      "    parsing for now. please report this issue with the KEGG \n",
      "    identifier (8314              CDS       T01001) into github.com/bioservices. Thanks T.C.\u001b[0m\n",
      " 42%|████▏     | 39/92 [02:45<01:57,  2.21s/it]"
     ]
    },
    {
     "name": "stdout",
     "output_type": "stream",
     "text": [
      "no data for  BAP1\n"
     ]
    },
    {
     "name": "stderr",
     "output_type": "stream",
     "text": [
      "\u001b[33mWARNING [bioservices:keggparser:119]: \u001b[0m \u001b[34mFound keyword SYMBOL, which has not special\n",
      "    parsing for now. please report this issue with the KEGG \n",
      "    identifier (4221              CDS       T01001) into github.com/bioservices. Thanks T.C.\u001b[0m\n",
      " 43%|████▎     | 40/92 [02:46<01:36,  1.85s/it]\u001b[33mWARNING [bioservices:keggparser:119]: \u001b[0m \u001b[34mFound keyword SYMBOL, which has not special\n",
      "    parsing for now. please report this issue with the KEGG \n",
      "    identifier (2175              CDS       T01001) into github.com/bioservices. Thanks T.C.\u001b[0m\n",
      " 45%|████▍     | 41/92 [02:46<01:14,  1.46s/it]\u001b[33mWARNING [bioservices:keggparser:119]: \u001b[0m \u001b[34mFound keyword SYMBOL, which has not special\n",
      "    parsing for now. please report this issue with the KEGG \n",
      "    identifier (58508             CDS       T01001) into github.com/bioservices. Thanks T.C.\u001b[0m\n",
      " 46%|████▌     | 42/92 [02:47<01:04,  1.29s/it]\u001b[33mWARNING [bioservices:keggparser:119]: \u001b[0m \u001b[34mFound keyword SYMBOL, which has not special\n",
      "    parsing for now. please report this issue with the KEGG \n",
      "    identifier (2195              CDS       T01001) into github.com/bioservices. Thanks T.C.\u001b[0m\n",
      " 47%|████▋     | 43/92 [02:48<00:49,  1.00s/it]"
     ]
    },
    {
     "name": "stdout",
     "output_type": "stream",
     "text": [
      "no data for  FAT1\n"
     ]
    },
    {
     "name": "stderr",
     "output_type": "stream",
     "text": [
      "\u001b[33mWARNING [bioservices:keggparser:119]: \u001b[0m \u001b[34mFound keyword SYMBOL, which has not special\n",
      "    parsing for now. please report this issue with the KEGG \n",
      "    identifier (5295              CDS       T01001) into github.com/bioservices. Thanks T.C.\u001b[0m\n",
      " 48%|████▊     | 44/92 [03:22<08:47, 10.99s/it]\u001b[33mWARNING [bioservices:keggparser:119]: \u001b[0m \u001b[34mFound keyword SYMBOL, which has not special\n",
      "    parsing for now. please report this issue with the KEGG \n",
      "    identifier (4292              CDS       T01001) into github.com/bioservices. Thanks T.C.\u001b[0m\n",
      " 49%|████▉     | 45/92 [03:25<06:37,  8.46s/it]\u001b[33mWARNING [bioservices:keggparser:119]: \u001b[0m \u001b[34mFound keyword SYMBOL, which has not special\n",
      "    parsing for now. please report this issue with the KEGG \n",
      "    identifier (8405              CDS       T01001) into github.com/bioservices. Thanks T.C.\u001b[0m\n",
      " 50%|█████     | 46/92 [03:25<04:39,  6.08s/it]\u001b[33mWARNING [bioservices:keggparser:119]: \u001b[0m \u001b[34mFound keyword SYMBOL, which has not special\n",
      "    parsing for now. please report this issue with the KEGG \n",
      "    identifier (6390              CDS       T01001) into github.com/bioservices. Thanks T.C.\u001b[0m\n",
      " 51%|█████     | 47/92 [03:30<04:23,  5.86s/it]\u001b[33mWARNING [bioservices:keggparser:119]: \u001b[0m \u001b[34mFound keyword SYMBOL, which has not special\n",
      "    parsing for now. please report this issue with the KEGG \n",
      "    identifier (8438              CDS       T01001) into github.com/bioservices. Thanks T.C.\u001b[0m\n",
      " 52%|█████▏    | 48/92 [03:31<03:07,  4.26s/it]\u001b[33mWARNING [bioservices:keggparser:119]: \u001b[0m \u001b[34mFound keyword SYMBOL, which has not special\n",
      "    parsing for now. please report this issue with the KEGG \n",
      "    identifier (6391              CDS       T01001) into github.com/bioservices. Thanks T.C.\u001b[0m\n",
      " 53%|█████▎    | 49/92 [03:36<03:18,  4.62s/it]\u001b[33mWARNING [bioservices:keggparser:119]: \u001b[0m \u001b[34mFound keyword SYMBOL, which has not special\n",
      "    parsing for now. please report this issue with the KEGG \n",
      "    identifier (5378              CDS       T01001) into github.com/bioservices. Thanks T.C.\u001b[0m\n",
      " 54%|█████▍    | 50/92 [03:37<02:18,  3.30s/it]"
     ]
    },
    {
     "name": "stdout",
     "output_type": "stream",
     "text": [
      "no data for  PMS1\n"
     ]
    },
    {
     "name": "stderr",
     "output_type": "stream",
     "text": [
      "\u001b[33mWARNING [bioservices:keggparser:119]: \u001b[0m \u001b[34mFound keyword SYMBOL, which has not special\n",
      "    parsing for now. please report this issue with the KEGG \n",
      "    identifier (7428              CDS       T01001) into github.com/bioservices. Thanks T.C.\u001b[0m\n",
      " 55%|█████▌    | 51/92 [03:38<01:56,  2.83s/it]\u001b[33mWARNING [bioservices:keggparser:119]: \u001b[0m \u001b[34mFound keyword SYMBOL, which has not special\n",
      "    parsing for now. please report this issue with the KEGG \n",
      "    identifier (6416              CDS       T01001) into github.com/bioservices. Thanks T.C.\u001b[0m\n",
      " 57%|█████▋    | 52/92 [03:45<02:40,  4.01s/it]\u001b[33mWARNING [bioservices:keggparser:119]: \u001b[0m \u001b[34mFound keyword SYMBOL, which has not special\n",
      "    parsing for now. please report this issue with the KEGG \n",
      "    identifier (5395              CDS       T01001) into github.com/bioservices. Thanks T.C.\u001b[0m\n",
      " 58%|█████▊    | 53/92 [03:46<01:57,  3.02s/it]\u001b[33mWARNING [bioservices:keggparser:119]: \u001b[0m \u001b[34mFound keyword SYMBOL, which has not special\n",
      "    parsing for now. please report this issue with the KEGG \n",
      "    identifier (6427              CDS       T01001) into github.com/bioservices. Thanks T.C.\u001b[0m\n",
      " 59%|█████▊    | 54/92 [03:47<01:32,  2.42s/it]\u001b[33mWARNING [bioservices:keggparser:119]: \u001b[0m \u001b[34mFound keyword SYMBOL, which has not special\n",
      "    parsing for now. please report this issue with the KEGG \n",
      "    identifier (5426              CDS       T01001) into github.com/bioservices. Thanks T.C.\u001b[0m\n",
      " 60%|█████▉    | 55/92 [03:48<01:14,  2.02s/it]\u001b[33mWARNING [bioservices:keggparser:119]: \u001b[0m \u001b[34mFound keyword SYMBOL, which has not special\n",
      "    parsing for now. please report this issue with the KEGG \n",
      "    identifier (90417             CDS       T01001) into github.com/bioservices. Thanks T.C.\u001b[0m\n",
      " 61%|██████    | 56/92 [03:48<00:52,  1.47s/it]"
     ]
    },
    {
     "name": "stdout",
     "output_type": "stream",
     "text": [
      "no data for  KNSTRN\n"
     ]
    },
    {
     "name": "stderr",
     "output_type": "stream",
     "text": [
      "\u001b[33mWARNING [bioservices:keggparser:119]: \u001b[0m \u001b[34mFound keyword SYMBOL, which has not special\n",
      "    parsing for now. please report this issue with the KEGG \n",
      "    identifier (324               CDS       T01001) into github.com/bioservices. Thanks T.C.\u001b[0m\n",
      " 62%|██████▏   | 57/92 [03:54<01:39,  2.85s/it]\u001b[33mWARNING [bioservices:keggparser:119]: \u001b[0m \u001b[34mFound keyword SYMBOL, which has not special\n",
      "    parsing for now. please report this issue with the KEGG \n",
      "    identifier (4436              CDS       T01001) into github.com/bioservices. Thanks T.C.\u001b[0m\n",
      " 63%|██████▎   | 58/92 [03:56<01:25,  2.53s/it]\u001b[33mWARNING [bioservices:keggparser:119]: \u001b[0m \u001b[34mFound keyword SYMBOL, which has not special\n",
      "    parsing for now. please report this issue with the KEGG \n",
      "    identifier (3417              CDS       T01001) into github.com/bioservices. Thanks T.C.\u001b[0m\n",
      " 64%|██████▍   | 59/92 [03:58<01:21,  2.47s/it]\u001b[33mWARNING [bioservices:keggparser:119]: \u001b[0m \u001b[34mFound keyword SYMBOL, which has not special\n",
      "    parsing for now. please report this issue with the KEGG \n",
      "    identifier (1387              CDS       T01001) into github.com/bioservices. Thanks T.C.\u001b[0m\n",
      " 65%|██████▌   | 60/92 [04:08<02:32,  4.76s/it]\u001b[33mWARNING [bioservices:keggparser:119]: \u001b[0m \u001b[34mFound keyword SYMBOL, which has not special\n",
      "    parsing for now. please report this issue with the KEGG \n",
      "    identifier (387               CDS       T01001) into github.com/bioservices. Thanks T.C.\u001b[0m\n",
      " 66%|██████▋   | 61/92 [04:23<03:56,  7.62s/it]\u001b[33mWARNING [bioservices:keggparser:119]: \u001b[0m \u001b[34mFound keyword SYMBOL, which has not special\n",
      "    parsing for now. please report this issue with the KEGG \n",
      "    identifier (29072             CDS       T01001) into github.com/bioservices. Thanks T.C.\u001b[0m\n",
      " 67%|██████▋   | 62/92 [04:23<02:46,  5.56s/it]\u001b[33mWARNING [bioservices:keggparser:119]: \u001b[0m \u001b[34mFound keyword SYMBOL, which has not special\n",
      "    parsing for now. please report this issue with the KEGG \n",
      "    identifier (5537              CDS       T01001) into github.com/bioservices. Thanks T.C.\u001b[0m\n",
      " 68%|██████▊   | 63/92 [04:24<01:55,  3.99s/it]\u001b[33mWARNING [bioservices:keggparser:119]: \u001b[0m \u001b[34mFound keyword SYMBOL, which has not special\n",
      "    parsing for now. please report this issue with the KEGG \n",
      "    identifier (6597              CDS       T01001) into github.com/bioservices. Thanks T.C.\u001b[0m\n"
     ]
    },
    {
     "name": "stdout",
     "output_type": "stream",
     "text": [
      "no data for  PPP6C\n"
     ]
    },
    {
     "name": "stderr",
     "output_type": "stream",
     "text": [
      " 70%|██████▉   | 64/92 [04:25<01:26,  3.10s/it]\u001b[33mWARNING [bioservices:keggparser:119]: \u001b[0m \u001b[34mFound keyword SYMBOL, which has not special\n",
      "    parsing for now. please report this issue with the KEGG \n",
      "    identifier (100271849         CDS       T01001) into github.com/bioservices. Thanks T.C.\u001b[0m\n",
      " 71%|███████   | 65/92 [04:26<01:06,  2.48s/it]\u001b[33mWARNING [bioservices:keggparser:119]: \u001b[0m \u001b[34mFound keyword SYMBOL, which has not special\n",
      "    parsing for now. please report this issue with the KEGG \n",
      "    identifier (472               CDS       T01001) into github.com/bioservices. Thanks T.C.\u001b[0m\n",
      " 72%|███████▏  | 66/92 [04:31<01:25,  3.28s/it]\u001b[33mWARNING [bioservices:keggparser:119]: \u001b[0m \u001b[34mFound keyword SYMBOL, which has not special\n",
      "    parsing for now. please report this issue with the KEGG \n",
      "    identifier (5604              CDS       T01001) into github.com/bioservices. Thanks T.C.\u001b[0m\n",
      " 73%|███████▎  | 67/92 [05:01<04:41, 11.27s/it]\u001b[33mWARNING [bioservices:keggparser:119]: \u001b[0m \u001b[34mFound keyword SYMBOL, which has not special\n",
      "    parsing for now. please report this issue with the KEGG \n",
      "    identifier (6662              CDS       T01001) into github.com/bioservices. Thanks T.C.\u001b[0m\n",
      " 74%|███████▍  | 68/92 [05:02<03:14,  8.10s/it]\u001b[33mWARNING [bioservices:keggparser:119]: \u001b[0m \u001b[34mFound keyword SYMBOL, which has not special\n",
      "    parsing for now. please report this issue with the KEGG \n",
      "    identifier (54790             CDS       T01001) into github.com/bioservices. Thanks T.C.\u001b[0m\n",
      " 75%|███████▌  | 69/92 [05:02<02:11,  5.73s/it]"
     ]
    },
    {
     "name": "stdout",
     "output_type": "stream",
     "text": [
      "no data for  TET2\n"
     ]
    },
    {
     "name": "stderr",
     "output_type": "stream",
     "text": [
      "\u001b[33mWARNING [bioservices:keggparser:119]: \u001b[0m \u001b[34mFound keyword SYMBOL, which has not special\n",
      "    parsing for now. please report this issue with the KEGG \n",
      "    identifier (51755             CDS       T01001) into github.com/bioservices. Thanks T.C.\u001b[0m\n",
      " 76%|███████▌  | 70/92 [05:02<01:30,  4.12s/it]\u001b[33mWARNING [bioservices:keggparser:119]: \u001b[0m \u001b[34mFound keyword SYMBOL, which has not special\n",
      "    parsing for now. please report this issue with the KEGG \n",
      "    identifier (567               CDS       T01001) into github.com/bioservices. Thanks T.C.\u001b[0m\n"
     ]
    },
    {
     "name": "stdout",
     "output_type": "stream",
     "text": [
      "no data for  CDK12\n"
     ]
    },
    {
     "name": "stderr",
     "output_type": "stream",
     "text": [
      " 77%|███████▋  | 71/92 [05:04<01:15,  3.57s/it]\u001b[33mWARNING [bioservices:keggparser:119]: \u001b[0m \u001b[34mFound keyword SYMBOL, which has not special\n",
      "    parsing for now. please report this issue with the KEGG \n",
      "    identifier (2625              CDS       T01001) into github.com/bioservices. Thanks T.C.\u001b[0m\n",
      " 78%|███████▊  | 72/92 [05:06<00:58,  2.93s/it]\u001b[33mWARNING [bioservices:keggparser:119]: \u001b[0m \u001b[34mFound keyword SYMBOL, which has not special\n",
      "    parsing for now. please report this issue with the KEGG \n",
      "    identifier (9817              CDS       T01001) into github.com/bioservices. Thanks T.C.\u001b[0m\n",
      " 79%|███████▉  | 73/92 [05:08<00:53,  2.82s/it]\u001b[33mWARNING [bioservices:keggparser:119]: \u001b[0m \u001b[34mFound keyword SYMBOL, which has not special\n",
      "    parsing for now. please report this issue with the KEGG \n",
      "    identifier (5728              CDS       T01001) into github.com/bioservices. Thanks T.C.\u001b[0m\n",
      " 80%|████████  | 74/92 [05:18<01:27,  4.88s/it]\u001b[33mWARNING [bioservices:keggparser:119]: \u001b[0m \u001b[34mFound keyword SYMBOL, which has not special\n",
      "    parsing for now. please report this issue with the KEGG \n",
      "    identifier (639               CDS       T01001) into github.com/bioservices. Thanks T.C.\u001b[0m\n",
      " 82%|████████▏ | 75/92 [05:18<00:59,  3.47s/it]"
     ]
    },
    {
     "name": "stdout",
     "output_type": "stream",
     "text": [
      "no data for  PRDM1\n"
     ]
    },
    {
     "name": "stderr",
     "output_type": "stream",
     "text": [
      "\u001b[33mWARNING [bioservices:keggparser:119]: \u001b[0m \u001b[34mFound keyword SYMBOL, which has not special\n",
      "    parsing for now. please report this issue with the KEGG \n",
      "    identifier (6790              CDS       T01001) into github.com/bioservices. Thanks T.C.\u001b[0m\n",
      " 83%|████████▎ | 76/92 [05:19<00:43,  2.70s/it]\u001b[33mWARNING [bioservices:keggparser:119]: \u001b[0m \u001b[34mFound keyword SYMBOL, which has not special\n",
      "    parsing for now. please report this issue with the KEGG \n",
      "    identifier (6794              CDS       T01001) into github.com/bioservices. Thanks T.C.\u001b[0m\n",
      " 84%|████████▎ | 77/92 [05:22<00:42,  2.82s/it]\u001b[33mWARNING [bioservices:keggparser:119]: \u001b[0m \u001b[34mFound keyword SYMBOL, which has not special\n",
      "    parsing for now. please report this issue with the KEGG \n",
      "    identifier (5781              CDS       T01001) into github.com/bioservices. Thanks T.C.\u001b[0m\n",
      " 85%|████████▍ | 78/92 [05:29<00:53,  3.85s/it]\u001b[33mWARNING [bioservices:keggparser:119]: \u001b[0m \u001b[34mFound keyword SYMBOL, which has not special\n",
      "    parsing for now. please report this issue with the KEGG \n",
      "    identifier (4763              CDS       T01001) into github.com/bioservices. Thanks T.C.\u001b[0m\n",
      " 86%|████████▌ | 79/92 [05:30<00:40,  3.11s/it]\u001b[33mWARNING [bioservices:keggparser:119]: \u001b[0m \u001b[34mFound keyword SYMBOL, which has not special\n",
      "    parsing for now. please report this issue with the KEGG \n",
      "    identifier (668               CDS       T01001) into github.com/bioservices. Thanks T.C.\u001b[0m\n",
      " 87%|████████▋ | 80/92 [05:30<00:26,  2.24s/it]"
     ]
    },
    {
     "name": "stdout",
     "output_type": "stream",
     "text": [
      "no data for  FOXL2\n"
     ]
    },
    {
     "name": "stderr",
     "output_type": "stream",
     "text": [
      "\u001b[33mWARNING [bioservices:keggparser:119]: \u001b[0m \u001b[34mFound keyword SYMBOL, which has not special\n",
      "    parsing for now. please report this issue with the KEGG \n",
      "    identifier (5789              CDS       T01001) into github.com/bioservices. Thanks T.C.\u001b[0m\n",
      " 88%|████████▊ | 81/92 [05:31<00:18,  1.67s/it]"
     ]
    },
    {
     "name": "stdout",
     "output_type": "stream",
     "text": [
      "no data for  PTPRD\n"
     ]
    },
    {
     "name": "stderr",
     "output_type": "stream",
     "text": [
      "\u001b[33mWARNING [bioservices:keggparser:119]: \u001b[0m \u001b[34mFound keyword SYMBOL, which has not special\n",
      "    parsing for now. please report this issue with the KEGG \n",
      "    identifier (672               CDS       T01001) into github.com/bioservices. Thanks T.C.\u001b[0m\n",
      " 89%|████████▉ | 82/92 [05:33<00:18,  1.88s/it]\u001b[33mWARNING [bioservices:keggparser:119]: \u001b[0m \u001b[34mFound keyword SYMBOL, which has not special\n",
      "    parsing for now. please report this issue with the KEGG \n",
      "    identifier (673               CDS       T01001) into github.com/bioservices. Thanks T.C.\u001b[0m\n",
      " 90%|█████████ | 83/92 [05:48<00:53,  5.98s/it]\u001b[33mWARNING [bioservices:keggparser:119]: \u001b[0m \u001b[34mFound keyword SYMBOL, which has not special\n",
      "    parsing for now. please report this issue with the KEGG \n",
      "    identifier (675               CDS       T01001) into github.com/bioservices. Thanks T.C.\u001b[0m\n",
      " 91%|█████████▏| 84/92 [05:51<00:38,  4.84s/it]\u001b[33mWARNING [bioservices:keggparser:119]: \u001b[0m \u001b[34mFound keyword SYMBOL, which has not special\n",
      "    parsing for now. please report this issue with the KEGG \n",
      "    identifier (695               CDS       T01001) into github.com/bioservices. Thanks T.C.\u001b[0m\n",
      " 92%|█████████▏| 85/92 [05:53<00:28,  4.12s/it]\u001b[33mWARNING [bioservices:keggparser:119]: \u001b[0m \u001b[34mFound keyword SYMBOL, which has not special\n",
      "    parsing for now. please report this issue with the KEGG \n",
      "    identifier (3815              CDS       T01001) into github.com/bioservices. Thanks T.C.\u001b[0m\n",
      " 93%|█████████▎| 86/92 [05:57<00:24,  4.11s/it]\u001b[33mWARNING [bioservices:keggparser:119]: \u001b[0m \u001b[34mFound keyword SYMBOL, which has not special\n",
      "    parsing for now. please report this issue with the KEGG \n",
      "    identifier (4851              CDS       T01001) into github.com/bioservices. Thanks T.C.\u001b[0m\n",
      " 95%|█████████▍| 87/92 [06:01<00:19,  3.91s/it]\u001b[33mWARNING [bioservices:keggparser:119]: \u001b[0m \u001b[34mFound keyword SYMBOL, which has not special\n",
      "    parsing for now. please report this issue with the KEGG \n",
      "    identifier (6929              CDS       T01001) into github.com/bioservices. Thanks T.C.\u001b[0m\n",
      " 96%|█████████▌| 88/92 [06:02<00:12,  3.15s/it]\u001b[33mWARNING [bioservices:keggparser:119]: \u001b[0m \u001b[34mFound keyword SYMBOL, which has not special\n",
      "    parsing for now. please report this issue with the KEGG \n",
      "    identifier (4914              CDS       T01001) into github.com/bioservices. Thanks T.C.\u001b[0m\n",
      " 97%|█████████▋| 89/92 [06:06<00:10,  3.48s/it]\u001b[33mWARNING [bioservices:keggparser:119]: \u001b[0m \u001b[34mFound keyword SYMBOL, which has not special\n",
      "    parsing for now. please report this issue with the KEGG \n",
      "    identifier (841               CDS       T01001) into github.com/bioservices. Thanks T.C.\u001b[0m\n",
      " 98%|█████████▊| 90/92 [06:19<00:12,  6.21s/it]\u001b[33mWARNING [bioservices:keggparser:119]: \u001b[0m \u001b[34mFound keyword SYMBOL, which has not special\n",
      "    parsing for now. please report this issue with the KEGG \n",
      "    identifier (5979              CDS       T01001) into github.com/bioservices. Thanks T.C.\u001b[0m\n",
      " 99%|█████████▉| 91/92 [06:21<00:04,  4.98s/it]\u001b[33mWARNING [bioservices:keggparser:119]: \u001b[0m \u001b[34mFound keyword SYMBOL, which has not special\n",
      "    parsing for now. please report this issue with the KEGG \n",
      "    identifier (861               CDS       T01001) into github.com/bioservices. Thanks T.C.\u001b[0m\n",
      "100%|██████████| 92/92 [06:23<00:00,  4.17s/it]\n"
     ]
    }
   ],
   "source": [
    "class4_gene_pathway=df_gene_pathway(class_4_genes)"
   ]
  },
  {
   "cell_type": "code",
   "execution_count": 50,
   "metadata": {},
   "outputs": [],
   "source": [
    "class4_gene_pathway.drop_duplicates(inplace=True)"
   ]
  },
  {
   "cell_type": "code",
   "execution_count": 51,
   "metadata": {},
   "outputs": [],
   "source": [
    "class4_gene_pathway.to_csv('class4_gene_pathway.csv',header=True,index=False)"
   ]
  },
  {
   "cell_type": "code",
   "execution_count": 52,
   "metadata": {},
   "outputs": [
    {
     "data": {
      "text/html": [
       "<div>\n",
       "<style scoped>\n",
       "    .dataframe tbody tr th:only-of-type {\n",
       "        vertical-align: middle;\n",
       "    }\n",
       "\n",
       "    .dataframe tbody tr th {\n",
       "        vertical-align: top;\n",
       "    }\n",
       "\n",
       "    .dataframe thead th {\n",
       "        text-align: right;\n",
       "    }\n",
       "</style>\n",
       "<table border=\"1\" class=\"dataframe\">\n",
       "  <thead>\n",
       "    <tr style=\"text-align: right;\">\n",
       "      <th></th>\n",
       "      <th>gene</th>\n",
       "    </tr>\n",
       "    <tr>\n",
       "      <th>pathway</th>\n",
       "      <th></th>\n",
       "    </tr>\n",
       "  </thead>\n",
       "  <tbody>\n",
       "    <tr>\n",
       "      <th>Pathways in cancer</th>\n",
       "      <td>37</td>\n",
       "    </tr>\n",
       "    <tr>\n",
       "      <th>Human T-cell leukemia virus 1 infection</th>\n",
       "      <td>19</td>\n",
       "    </tr>\n",
       "    <tr>\n",
       "      <th>MicroRNAs in cancer</th>\n",
       "      <td>19</td>\n",
       "    </tr>\n",
       "    <tr>\n",
       "      <th>Hepatocellular carcinoma</th>\n",
       "      <td>18</td>\n",
       "    </tr>\n",
       "    <tr>\n",
       "      <th>Gastric cancer</th>\n",
       "      <td>17</td>\n",
       "    </tr>\n",
       "    <tr>\n",
       "      <th>Human papillomavirus infection</th>\n",
       "      <td>17</td>\n",
       "    </tr>\n",
       "    <tr>\n",
       "      <th>Cellular senescence</th>\n",
       "      <td>16</td>\n",
       "    </tr>\n",
       "    <tr>\n",
       "      <th>PI3K-Akt signaling pathway</th>\n",
       "      <td>16</td>\n",
       "    </tr>\n",
       "    <tr>\n",
       "      <th>FoxO signaling pathway</th>\n",
       "      <td>15</td>\n",
       "    </tr>\n",
       "    <tr>\n",
       "      <th>Colorectal cancer</th>\n",
       "      <td>15</td>\n",
       "    </tr>\n",
       "    <tr>\n",
       "      <th>Chronic myeloid leukemia</th>\n",
       "      <td>14</td>\n",
       "    </tr>\n",
       "    <tr>\n",
       "      <th>Pancreatic cancer</th>\n",
       "      <td>14</td>\n",
       "    </tr>\n",
       "    <tr>\n",
       "      <th>Breast cancer</th>\n",
       "      <td>13</td>\n",
       "    </tr>\n",
       "    <tr>\n",
       "      <th>MAPK signaling pathway</th>\n",
       "      <td>13</td>\n",
       "    </tr>\n",
       "    <tr>\n",
       "      <th>Hepatitis B</th>\n",
       "      <td>12</td>\n",
       "    </tr>\n",
       "    <tr>\n",
       "      <th>Prostate cancer</th>\n",
       "      <td>12</td>\n",
       "    </tr>\n",
       "    <tr>\n",
       "      <th>Human cytomegalovirus infection</th>\n",
       "      <td>12</td>\n",
       "    </tr>\n",
       "    <tr>\n",
       "      <th>Central carbon metabolism in cancer</th>\n",
       "      <td>12</td>\n",
       "    </tr>\n",
       "    <tr>\n",
       "      <th>Cell cycle</th>\n",
       "      <td>12</td>\n",
       "    </tr>\n",
       "    <tr>\n",
       "      <th>Ras signaling pathway</th>\n",
       "      <td>11</td>\n",
       "    </tr>\n",
       "    <tr>\n",
       "      <th>Melanoma</th>\n",
       "      <td>11</td>\n",
       "    </tr>\n",
       "    <tr>\n",
       "      <th>Platinum drug resistance</th>\n",
       "      <td>10</td>\n",
       "    </tr>\n",
       "    <tr>\n",
       "      <th>Phospholipase D signaling pathway</th>\n",
       "      <td>10</td>\n",
       "    </tr>\n",
       "    <tr>\n",
       "      <th>Glioma</th>\n",
       "      <td>10</td>\n",
       "    </tr>\n",
       "    <tr>\n",
       "      <th>Proteoglycans in cancer</th>\n",
       "      <td>10</td>\n",
       "    </tr>\n",
       "    <tr>\n",
       "      <th>Viral carcinogenesis</th>\n",
       "      <td>10</td>\n",
       "    </tr>\n",
       "    <tr>\n",
       "      <th>Adherens junction</th>\n",
       "      <td>10</td>\n",
       "    </tr>\n",
       "    <tr>\n",
       "      <th>Chemical carcinogenesis - reactive oxygen species</th>\n",
       "      <td>10</td>\n",
       "    </tr>\n",
       "    <tr>\n",
       "      <th>Endometrial cancer</th>\n",
       "      <td>10</td>\n",
       "    </tr>\n",
       "    <tr>\n",
       "      <th>EGFR tyrosine kinase inhibitor resistance</th>\n",
       "      <td>9</td>\n",
       "    </tr>\n",
       "    <tr>\n",
       "      <th>Endocrine resistance</th>\n",
       "      <td>9</td>\n",
       "    </tr>\n",
       "    <tr>\n",
       "      <th>Hippo signaling pathway</th>\n",
       "      <td>9</td>\n",
       "    </tr>\n",
       "    <tr>\n",
       "      <th>Transcriptional misregulation in cancer</th>\n",
       "      <td>9</td>\n",
       "    </tr>\n",
       "    <tr>\n",
       "      <th>Cushing syndrome</th>\n",
       "      <td>9</td>\n",
       "    </tr>\n",
       "    <tr>\n",
       "      <th>TGF-beta signaling pathway</th>\n",
       "      <td>9</td>\n",
       "    </tr>\n",
       "    <tr>\n",
       "      <th>Non-small cell lung cancer</th>\n",
       "      <td>9</td>\n",
       "    </tr>\n",
       "    <tr>\n",
       "      <th>Rap1 signaling pathway</th>\n",
       "      <td>9</td>\n",
       "    </tr>\n",
       "    <tr>\n",
       "      <th>Focal adhesion</th>\n",
       "      <td>9</td>\n",
       "    </tr>\n",
       "    <tr>\n",
       "      <th>Endocytosis</th>\n",
       "      <td>8</td>\n",
       "    </tr>\n",
       "    <tr>\n",
       "      <th>HIF-1 signaling pathway</th>\n",
       "      <td>8</td>\n",
       "    </tr>\n",
       "    <tr>\n",
       "      <th>Epstein-Barr virus infection</th>\n",
       "      <td>8</td>\n",
       "    </tr>\n",
       "    <tr>\n",
       "      <th>ErbB signaling pathway</th>\n",
       "      <td>8</td>\n",
       "    </tr>\n",
       "    <tr>\n",
       "      <th>mTOR signaling pathway</th>\n",
       "      <td>8</td>\n",
       "    </tr>\n",
       "    <tr>\n",
       "      <th>Diabetic cardiomyopathy</th>\n",
       "      <td>8</td>\n",
       "    </tr>\n",
       "    <tr>\n",
       "      <th>Regulation of actin cytoskeleton</th>\n",
       "      <td>8</td>\n",
       "    </tr>\n",
       "    <tr>\n",
       "      <th>Herpes simplex virus 1 infection</th>\n",
       "      <td>8</td>\n",
       "    </tr>\n",
       "    <tr>\n",
       "      <th>Kaposi sarcoma-associated herpesvirus infection</th>\n",
       "      <td>8</td>\n",
       "    </tr>\n",
       "    <tr>\n",
       "      <th>p53 signaling pathway</th>\n",
       "      <td>8</td>\n",
       "    </tr>\n",
       "    <tr>\n",
       "      <th>Hepatitis C</th>\n",
       "      <td>7</td>\n",
       "    </tr>\n",
       "    <tr>\n",
       "      <th>cAMP signaling pathway</th>\n",
       "      <td>7</td>\n",
       "    </tr>\n",
       "    <tr>\n",
       "      <th>Wnt signaling pathway</th>\n",
       "      <td>7</td>\n",
       "    </tr>\n",
       "    <tr>\n",
       "      <th>AGE-RAGE signaling pathway in diabetic complications</th>\n",
       "      <td>7</td>\n",
       "    </tr>\n",
       "    <tr>\n",
       "      <th>Thyroid hormone signaling pathway</th>\n",
       "      <td>7</td>\n",
       "    </tr>\n",
       "    <tr>\n",
       "      <th>Th17 cell differentiation</th>\n",
       "      <td>7</td>\n",
       "    </tr>\n",
       "    <tr>\n",
       "      <th>Neurotrophin signaling pathway</th>\n",
       "      <td>7</td>\n",
       "    </tr>\n",
       "    <tr>\n",
       "      <th>Signaling pathways regulating pluripotency of stem cells</th>\n",
       "      <td>7</td>\n",
       "    </tr>\n",
       "    <tr>\n",
       "      <th>Renal cell carcinoma</th>\n",
       "      <td>7</td>\n",
       "    </tr>\n",
       "    <tr>\n",
       "      <th>Relaxin signaling pathway</th>\n",
       "      <td>7</td>\n",
       "    </tr>\n",
       "    <tr>\n",
       "      <th>JAK-STAT signaling pathway</th>\n",
       "      <td>7</td>\n",
       "    </tr>\n",
       "    <tr>\n",
       "      <th>Apelin signaling pathway</th>\n",
       "      <td>7</td>\n",
       "    </tr>\n",
       "    <tr>\n",
       "      <th>Fanconi anemia pathway</th>\n",
       "      <td>7</td>\n",
       "    </tr>\n",
       "    <tr>\n",
       "      <th>Bladder cancer</th>\n",
       "      <td>7</td>\n",
       "    </tr>\n",
       "    <tr>\n",
       "      <th>Choline metabolism in cancer</th>\n",
       "      <td>7</td>\n",
       "    </tr>\n",
       "    <tr>\n",
       "      <th>Alzheimer disease</th>\n",
       "      <td>7</td>\n",
       "    </tr>\n",
       "    <tr>\n",
       "      <th>Huntington disease</th>\n",
       "      <td>6</td>\n",
       "    </tr>\n",
       "    <tr>\n",
       "      <th>Pathways of neurodegeneration - multiple diseases</th>\n",
       "      <td>6</td>\n",
       "    </tr>\n",
       "    <tr>\n",
       "      <th>Metabolic pathways</th>\n",
       "      <td>6</td>\n",
       "    </tr>\n",
       "    <tr>\n",
       "      <th>Calcium signaling pathway</th>\n",
       "      <td>6</td>\n",
       "    </tr>\n",
       "    <tr>\n",
       "      <th>Influenza A</th>\n",
       "      <td>6</td>\n",
       "    </tr>\n",
       "    <tr>\n",
       "      <th>Chagas disease</th>\n",
       "      <td>6</td>\n",
       "    </tr>\n",
       "    <tr>\n",
       "      <th>Thyroid cancer</th>\n",
       "      <td>6</td>\n",
       "    </tr>\n",
       "    <tr>\n",
       "      <th>Autophagy - animal</th>\n",
       "      <td>6</td>\n",
       "    </tr>\n",
       "    <tr>\n",
       "      <th>Apoptosis</th>\n",
       "      <td>6</td>\n",
       "    </tr>\n",
       "    <tr>\n",
       "      <th>Insulin signaling pathway</th>\n",
       "      <td>6</td>\n",
       "    </tr>\n",
       "    <tr>\n",
       "      <th>Small cell lung cancer</th>\n",
       "      <td>6</td>\n",
       "    </tr>\n",
       "    <tr>\n",
       "      <th>Homologous recombination</th>\n",
       "      <td>6</td>\n",
       "    </tr>\n",
       "    <tr>\n",
       "      <th>Lipid and atherosclerosis</th>\n",
       "      <td>5</td>\n",
       "    </tr>\n",
       "    <tr>\n",
       "      <th>Longevity regulating pathway</th>\n",
       "      <td>5</td>\n",
       "    </tr>\n",
       "    <tr>\n",
       "      <th>Osteoclast differentiation</th>\n",
       "      <td>5</td>\n",
       "    </tr>\n",
       "    <tr>\n",
       "      <th>Measles</th>\n",
       "      <td>5</td>\n",
       "    </tr>\n",
       "    <tr>\n",
       "      <th>Ubiquitin mediated proteolysis</th>\n",
       "      <td>5</td>\n",
       "    </tr>\n",
       "    <tr>\n",
       "      <th>Fluid shear stress and atherosclerosis</th>\n",
       "      <td>5</td>\n",
       "    </tr>\n",
       "    <tr>\n",
       "      <th>Parathyroid hormone synthesis, secretion and action</th>\n",
       "      <td>5</td>\n",
       "    </tr>\n",
       "    <tr>\n",
       "      <th>Thermogenesis</th>\n",
       "      <td>5</td>\n",
       "    </tr>\n",
       "    <tr>\n",
       "      <th>Shigellosis</th>\n",
       "      <td>5</td>\n",
       "    </tr>\n",
       "    <tr>\n",
       "      <th>PD-L1 expression and PD-1 checkpoint pathway in cancer</th>\n",
       "      <td>5</td>\n",
       "    </tr>\n",
       "    <tr>\n",
       "      <th>Sphingolipid signaling pathway</th>\n",
       "      <td>5</td>\n",
       "    </tr>\n",
       "    <tr>\n",
       "      <th>Acute myeloid leukemia</th>\n",
       "      <td>5</td>\n",
       "    </tr>\n",
       "    <tr>\n",
       "      <th>Human immunodeficiency virus 1 infection</th>\n",
       "      <td>5</td>\n",
       "    </tr>\n",
       "    <tr>\n",
       "      <th>Growth hormone synthesis, secretion and action</th>\n",
       "      <td>5</td>\n",
       "    </tr>\n",
       "    <tr>\n",
       "      <th>Bacterial invasion of epithelial cells</th>\n",
       "      <td>4</td>\n",
       "    </tr>\n",
       "    <tr>\n",
       "      <th>C-type lectin receptor signaling pathway</th>\n",
       "      <td>4</td>\n",
       "    </tr>\n",
       "    <tr>\n",
       "      <th>Non-alcoholic fatty liver disease</th>\n",
       "      <td>4</td>\n",
       "    </tr>\n",
       "    <tr>\n",
       "      <th>Yersinia infection</th>\n",
       "      <td>4</td>\n",
       "    </tr>\n",
       "    <tr>\n",
       "      <th>Toll-like receptor signaling pathway</th>\n",
       "      <td>4</td>\n",
       "    </tr>\n",
       "    <tr>\n",
       "      <th>Tight junction</th>\n",
       "      <td>4</td>\n",
       "    </tr>\n",
       "    <tr>\n",
       "      <th>Parkinson disease</th>\n",
       "      <td>4</td>\n",
       "    </tr>\n",
       "    <tr>\n",
       "      <th>AMPK signaling pathway</th>\n",
       "      <td>4</td>\n",
       "    </tr>\n",
       "    <tr>\n",
       "      <th>Natural killer cell mediated cytotoxicity</th>\n",
       "      <td>4</td>\n",
       "    </tr>\n",
       "    <tr>\n",
       "      <th>Prion disease</th>\n",
       "      <td>4</td>\n",
       "    </tr>\n",
       "    <tr>\n",
       "      <th>Progesterone-mediated oocyte maturation</th>\n",
       "      <td>4</td>\n",
       "    </tr>\n",
       "    <tr>\n",
       "      <th>TNF signaling pathway</th>\n",
       "      <td>4</td>\n",
       "    </tr>\n",
       "    <tr>\n",
       "      <th>Gap junction</th>\n",
       "      <td>4</td>\n",
       "    </tr>\n",
       "    <tr>\n",
       "      <th>Salmonella infection</th>\n",
       "      <td>4</td>\n",
       "    </tr>\n",
       "    <tr>\n",
       "      <th>Fc epsilon RI signaling pathway</th>\n",
       "      <td>4</td>\n",
       "    </tr>\n",
       "    <tr>\n",
       "      <th>Tuberculosis</th>\n",
       "      <td>4</td>\n",
       "    </tr>\n",
       "    <tr>\n",
       "      <th>Mismatch repair</th>\n",
       "      <td>4</td>\n",
       "    </tr>\n",
       "    <tr>\n",
       "      <th>Chemokine signaling pathway</th>\n",
       "      <td>4</td>\n",
       "    </tr>\n",
       "    <tr>\n",
       "      <th>Melanogenesis</th>\n",
       "      <td>4</td>\n",
       "    </tr>\n",
       "    <tr>\n",
       "      <th>Long-term potentiation</th>\n",
       "      <td>4</td>\n",
       "    </tr>\n",
       "    <tr>\n",
       "      <th>Inflammatory bowel disease</th>\n",
       "      <td>3</td>\n",
       "    </tr>\n",
       "    <tr>\n",
       "      <th>Nucleotide excision repair</th>\n",
       "      <td>3</td>\n",
       "    </tr>\n",
       "    <tr>\n",
       "      <th>GnRH signaling pathway</th>\n",
       "      <td>3</td>\n",
       "    </tr>\n",
       "    <tr>\n",
       "      <th>Leukocyte transendothelial migration</th>\n",
       "      <td>3</td>\n",
       "    </tr>\n",
       "    <tr>\n",
       "      <th>Vascular smooth muscle contraction</th>\n",
       "      <td>3</td>\n",
       "    </tr>\n",
       "    <tr>\n",
       "      <th>Pathogenic Escherichia coli infection</th>\n",
       "      <td>3</td>\n",
       "    </tr>\n",
       "    <tr>\n",
       "      <th>Epithelial cell signaling in Helicobacter pylori infection</th>\n",
       "      <td>3</td>\n",
       "    </tr>\n",
       "    <tr>\n",
       "      <th>B cell receptor signaling pathway</th>\n",
       "      <td>3</td>\n",
       "    </tr>\n",
       "    <tr>\n",
       "      <th>cGMP-PKG signaling pathway</th>\n",
       "      <td>3</td>\n",
       "    </tr>\n",
       "    <tr>\n",
       "      <th>Oxytocin signaling pathway</th>\n",
       "      <td>3</td>\n",
       "    </tr>\n",
       "    <tr>\n",
       "      <th>Axon guidance</th>\n",
       "      <td>3</td>\n",
       "    </tr>\n",
       "    <tr>\n",
       "      <th>Platelet activation</th>\n",
       "      <td>3</td>\n",
       "    </tr>\n",
       "    <tr>\n",
       "      <th>Notch signaling pathway</th>\n",
       "      <td>3</td>\n",
       "    </tr>\n",
       "    <tr>\n",
       "      <th>Chemical carcinogenesis - receptor activation</th>\n",
       "      <td>3</td>\n",
       "    </tr>\n",
       "    <tr>\n",
       "      <th>Estrogen signaling pathway</th>\n",
       "      <td>3</td>\n",
       "    </tr>\n",
       "    <tr>\n",
       "      <th>Carbon metabolism</th>\n",
       "      <td>3</td>\n",
       "    </tr>\n",
       "    <tr>\n",
       "      <th>Insulin resistance</th>\n",
       "      <td>3</td>\n",
       "    </tr>\n",
       "    <tr>\n",
       "      <th>T cell receptor signaling pathway</th>\n",
       "      <td>3</td>\n",
       "    </tr>\n",
       "    <tr>\n",
       "      <th>Citrate cycle (TCA cycle)</th>\n",
       "      <td>3</td>\n",
       "    </tr>\n",
       "    <tr>\n",
       "      <th>Amyotrophic lateral sclerosis</th>\n",
       "      <td>3</td>\n",
       "    </tr>\n",
       "    <tr>\n",
       "      <th>Basal cell carcinoma</th>\n",
       "      <td>2</td>\n",
       "    </tr>\n",
       "    <tr>\n",
       "      <th>Th1 and Th2 cell differentiation</th>\n",
       "      <td>2</td>\n",
       "    </tr>\n",
       "    <tr>\n",
       "      <th>Prolactin signaling pathway</th>\n",
       "      <td>2</td>\n",
       "    </tr>\n",
       "    <tr>\n",
       "      <th>Alcoholic liver disease</th>\n",
       "      <td>2</td>\n",
       "    </tr>\n",
       "    <tr>\n",
       "      <th>Serotonergic synapse</th>\n",
       "      <td>2</td>\n",
       "    </tr>\n",
       "    <tr>\n",
       "      <th>Adipocytokine signaling pathway</th>\n",
       "      <td>2</td>\n",
       "    </tr>\n",
       "    <tr>\n",
       "      <th>Fc gamma R-mediated phagocytosis</th>\n",
       "      <td>2</td>\n",
       "    </tr>\n",
       "    <tr>\n",
       "      <th>Glucagon signaling pathway</th>\n",
       "      <td>2</td>\n",
       "    </tr>\n",
       "    <tr>\n",
       "      <th>Coronavirus disease - COVID-19</th>\n",
       "      <td>2</td>\n",
       "    </tr>\n",
       "    <tr>\n",
       "      <th>Phosphatidylinositol signaling system</th>\n",
       "      <td>2</td>\n",
       "    </tr>\n",
       "    <tr>\n",
       "      <th>Oocyte meiosis</th>\n",
       "      <td>2</td>\n",
       "    </tr>\n",
       "    <tr>\n",
       "      <th>NF-kappa B signaling pathway</th>\n",
       "      <td>2</td>\n",
       "    </tr>\n",
       "    <tr>\n",
       "      <th>NOD-like receptor signaling pathway</th>\n",
       "      <td>2</td>\n",
       "    </tr>\n",
       "    <tr>\n",
       "      <th>Cholinergic synapse</th>\n",
       "      <td>2</td>\n",
       "    </tr>\n",
       "    <tr>\n",
       "      <th>Neutrophil extracellular trap formation</th>\n",
       "      <td>2</td>\n",
       "    </tr>\n",
       "    <tr>\n",
       "      <th>Alcoholism</th>\n",
       "      <td>2</td>\n",
       "    </tr>\n",
       "    <tr>\n",
       "      <th>GnRH secretion</th>\n",
       "      <td>2</td>\n",
       "    </tr>\n",
       "    <tr>\n",
       "      <th>Lysine degradation</th>\n",
       "      <td>2</td>\n",
       "    </tr>\n",
       "    <tr>\n",
       "      <th>Inflammatory mediator regulation of TRP channels</th>\n",
       "      <td>2</td>\n",
       "    </tr>\n",
       "    <tr>\n",
       "      <th>Oxidative phosphorylation</th>\n",
       "      <td>2</td>\n",
       "    </tr>\n",
       "    <tr>\n",
       "      <th>VEGF signaling pathway</th>\n",
       "      <td>2</td>\n",
       "    </tr>\n",
       "    <tr>\n",
       "      <th>Hippo signaling pathway - multiple species</th>\n",
       "      <td>2</td>\n",
       "    </tr>\n",
       "    <tr>\n",
       "      <th>Cytokine-cytokine receptor interaction</th>\n",
       "      <td>2</td>\n",
       "    </tr>\n",
       "    <tr>\n",
       "      <th>Long-term depression</th>\n",
       "      <td>2</td>\n",
       "    </tr>\n",
       "    <tr>\n",
       "      <th>Toxoplasmosis</th>\n",
       "      <td>1</td>\n",
       "    </tr>\n",
       "    <tr>\n",
       "      <th>Amoebiasis</th>\n",
       "      <td>1</td>\n",
       "    </tr>\n",
       "    <tr>\n",
       "      <th>Viral myocarditis</th>\n",
       "      <td>1</td>\n",
       "    </tr>\n",
       "    <tr>\n",
       "      <th>Type II diabetes mellitus</th>\n",
       "      <td>1</td>\n",
       "    </tr>\n",
       "    <tr>\n",
       "      <th>Spliceosome</th>\n",
       "      <td>1</td>\n",
       "    </tr>\n",
       "    <tr>\n",
       "      <th>Aldosterone-regulated sodium reabsorption</th>\n",
       "      <td>1</td>\n",
       "    </tr>\n",
       "    <tr>\n",
       "      <th>Ferroptosis</th>\n",
       "      <td>1</td>\n",
       "    </tr>\n",
       "    <tr>\n",
       "      <th>Spinocerebellar ataxia</th>\n",
       "      <td>1</td>\n",
       "    </tr>\n",
       "    <tr>\n",
       "      <th>Antigen processing and presentation</th>\n",
       "      <td>1</td>\n",
       "    </tr>\n",
       "    <tr>\n",
       "      <th>Glutathione metabolism</th>\n",
       "      <td>1</td>\n",
       "    </tr>\n",
       "    <tr>\n",
       "      <th>Hedgehog signaling pathway</th>\n",
       "      <td>1</td>\n",
       "    </tr>\n",
       "    <tr>\n",
       "      <th>Hematopoietic cell lineage</th>\n",
       "      <td>1</td>\n",
       "    </tr>\n",
       "    <tr>\n",
       "      <th>DNA replication</th>\n",
       "      <td>1</td>\n",
       "    </tr>\n",
       "    <tr>\n",
       "      <th>IL-17 signaling pathway</th>\n",
       "      <td>1</td>\n",
       "    </tr>\n",
       "    <tr>\n",
       "      <th>Inositol phosphate metabolism</th>\n",
       "      <td>1</td>\n",
       "    </tr>\n",
       "    <tr>\n",
       "      <th>Cell adhesion molecules</th>\n",
       "      <td>1</td>\n",
       "    </tr>\n",
       "    <tr>\n",
       "      <th>Legionellosis</th>\n",
       "      <td>1</td>\n",
       "    </tr>\n",
       "    <tr>\n",
       "      <th>Longevity regulating pathway - multiple species</th>\n",
       "      <td>1</td>\n",
       "    </tr>\n",
       "    <tr>\n",
       "      <th>Carbohydrate digestion and absorption</th>\n",
       "      <td>1</td>\n",
       "    </tr>\n",
       "    <tr>\n",
       "      <th>Mitophagy - animal</th>\n",
       "      <td>1</td>\n",
       "    </tr>\n",
       "    <tr>\n",
       "      <th>Necroptosis</th>\n",
       "      <td>1</td>\n",
       "    </tr>\n",
       "    <tr>\n",
       "      <th>Non-homologous end-joining</th>\n",
       "      <td>1</td>\n",
       "    </tr>\n",
       "    <tr>\n",
       "      <th>Biosynthesis of amino acids</th>\n",
       "      <td>1</td>\n",
       "    </tr>\n",
       "    <tr>\n",
       "      <th>Base excision repair</th>\n",
       "      <td>1</td>\n",
       "    </tr>\n",
       "    <tr>\n",
       "      <th>Pancreatic secretion</th>\n",
       "      <td>1</td>\n",
       "    </tr>\n",
       "    <tr>\n",
       "      <th>Basal transcription factors</th>\n",
       "      <td>1</td>\n",
       "    </tr>\n",
       "    <tr>\n",
       "      <th>Peroxisome</th>\n",
       "      <td>1</td>\n",
       "    </tr>\n",
       "    <tr>\n",
       "      <th>Pertussis</th>\n",
       "      <td>1</td>\n",
       "    </tr>\n",
       "    <tr>\n",
       "      <th>Primary immunodeficiency</th>\n",
       "      <td>1</td>\n",
       "    </tr>\n",
       "    <tr>\n",
       "      <th>RIG-I-like receptor signaling pathway</th>\n",
       "      <td>1</td>\n",
       "    </tr>\n",
       "    <tr>\n",
       "      <th>Apoptosis - multiple species</th>\n",
       "      <td>1</td>\n",
       "    </tr>\n",
       "    <tr>\n",
       "      <th>Regulation of lipolysis in adipocytes</th>\n",
       "      <td>1</td>\n",
       "    </tr>\n",
       "    <tr>\n",
       "      <th>2-Oxocarboxylic acid metabolism</th>\n",
       "      <td>1</td>\n",
       "    </tr>\n",
       "  </tbody>\n",
       "</table>\n",
       "</div>"
      ],
      "text/plain": [
       "                                                    gene\n",
       "pathway                                                 \n",
       "Pathways in cancer                                    37\n",
       "Human T-cell leukemia virus 1 infection               19\n",
       "MicroRNAs in cancer                                   19\n",
       "Hepatocellular carcinoma                              18\n",
       "Gastric cancer                                        17\n",
       "Human papillomavirus infection                        17\n",
       "Cellular senescence                                   16\n",
       "PI3K-Akt signaling pathway                            16\n",
       "FoxO signaling pathway                                15\n",
       "Colorectal cancer                                     15\n",
       "Chronic myeloid leukemia                              14\n",
       "Pancreatic cancer                                     14\n",
       "Breast cancer                                         13\n",
       "MAPK signaling pathway                                13\n",
       "Hepatitis B                                           12\n",
       "Prostate cancer                                       12\n",
       "Human cytomegalovirus infection                       12\n",
       "Central carbon metabolism in cancer                   12\n",
       "Cell cycle                                            12\n",
       "Ras signaling pathway                                 11\n",
       "Melanoma                                              11\n",
       "Platinum drug resistance                              10\n",
       "Phospholipase D signaling pathway                     10\n",
       "Glioma                                                10\n",
       "Proteoglycans in cancer                               10\n",
       "Viral carcinogenesis                                  10\n",
       "Adherens junction                                     10\n",
       "Chemical carcinogenesis - reactive oxygen species     10\n",
       "Endometrial cancer                                    10\n",
       "EGFR tyrosine kinase inhibitor resistance              9\n",
       "Endocrine resistance                                   9\n",
       "Hippo signaling pathway                                9\n",
       "Transcriptional misregulation in cancer                9\n",
       "Cushing syndrome                                       9\n",
       "TGF-beta signaling pathway                             9\n",
       "Non-small cell lung cancer                             9\n",
       "Rap1 signaling pathway                                 9\n",
       "Focal adhesion                                         9\n",
       "Endocytosis                                            8\n",
       "HIF-1 signaling pathway                                8\n",
       "Epstein-Barr virus infection                           8\n",
       "ErbB signaling pathway                                 8\n",
       "mTOR signaling pathway                                 8\n",
       "Diabetic cardiomyopathy                                8\n",
       "Regulation of actin cytoskeleton                       8\n",
       "Herpes simplex virus 1 infection                       8\n",
       "Kaposi sarcoma-associated herpesvirus infection        8\n",
       "p53 signaling pathway                                  8\n",
       "Hepatitis C                                            7\n",
       "cAMP signaling pathway                                 7\n",
       "Wnt signaling pathway                                  7\n",
       "AGE-RAGE signaling pathway in diabetic complica...     7\n",
       "Thyroid hormone signaling pathway                      7\n",
       "Th17 cell differentiation                              7\n",
       "Neurotrophin signaling pathway                         7\n",
       "Signaling pathways regulating pluripotency of s...     7\n",
       "Renal cell carcinoma                                   7\n",
       "Relaxin signaling pathway                              7\n",
       "JAK-STAT signaling pathway                             7\n",
       "Apelin signaling pathway                               7\n",
       "Fanconi anemia pathway                                 7\n",
       "Bladder cancer                                         7\n",
       "Choline metabolism in cancer                           7\n",
       "Alzheimer disease                                      7\n",
       "Huntington disease                                     6\n",
       "Pathways of neurodegeneration - multiple diseases      6\n",
       "Metabolic pathways                                     6\n",
       "Calcium signaling pathway                              6\n",
       "Influenza A                                            6\n",
       "Chagas disease                                         6\n",
       "Thyroid cancer                                         6\n",
       "Autophagy - animal                                     6\n",
       "Apoptosis                                              6\n",
       "Insulin signaling pathway                              6\n",
       "Small cell lung cancer                                 6\n",
       "Homologous recombination                               6\n",
       "Lipid and atherosclerosis                              5\n",
       "Longevity regulating pathway                           5\n",
       "Osteoclast differentiation                             5\n",
       "Measles                                                5\n",
       "Ubiquitin mediated proteolysis                         5\n",
       "Fluid shear stress and atherosclerosis                 5\n",
       "Parathyroid hormone synthesis, secretion and ac...     5\n",
       "Thermogenesis                                          5\n",
       "Shigellosis                                            5\n",
       "PD-L1 expression and PD-1 checkpoint pathway in...     5\n",
       "Sphingolipid signaling pathway                         5\n",
       "Acute myeloid leukemia                                 5\n",
       "Human immunodeficiency virus 1 infection               5\n",
       "Growth hormone synthesis, secretion and action         5\n",
       "Bacterial invasion of epithelial cells                 4\n",
       "C-type lectin receptor signaling pathway               4\n",
       "Non-alcoholic fatty liver disease                      4\n",
       "Yersinia infection                                     4\n",
       "Toll-like receptor signaling pathway                   4\n",
       "Tight junction                                         4\n",
       "Parkinson disease                                      4\n",
       "AMPK signaling pathway                                 4\n",
       "Natural killer cell mediated cytotoxicity              4\n",
       "Prion disease                                          4\n",
       "Progesterone-mediated oocyte maturation                4\n",
       "TNF signaling pathway                                  4\n",
       "Gap junction                                           4\n",
       "Salmonella infection                                   4\n",
       "Fc epsilon RI signaling pathway                        4\n",
       "Tuberculosis                                           4\n",
       "Mismatch repair                                        4\n",
       "Chemokine signaling pathway                            4\n",
       "Melanogenesis                                          4\n",
       "Long-term potentiation                                 4\n",
       "Inflammatory bowel disease                             3\n",
       "Nucleotide excision repair                             3\n",
       "GnRH signaling pathway                                 3\n",
       "Leukocyte transendothelial migration                   3\n",
       "Vascular smooth muscle contraction                     3\n",
       "Pathogenic Escherichia coli infection                  3\n",
       "Epithelial cell signaling in Helicobacter pylor...     3\n",
       "B cell receptor signaling pathway                      3\n",
       "cGMP-PKG signaling pathway                             3\n",
       "Oxytocin signaling pathway                             3\n",
       "Axon guidance                                          3\n",
       "Platelet activation                                    3\n",
       "Notch signaling pathway                                3\n",
       "Chemical carcinogenesis - receptor activation          3\n",
       "Estrogen signaling pathway                             3\n",
       "Carbon metabolism                                      3\n",
       "Insulin resistance                                     3\n",
       "T cell receptor signaling pathway                      3\n",
       "Citrate cycle (TCA cycle)                              3\n",
       "Amyotrophic lateral sclerosis                          3\n",
       "Basal cell carcinoma                                   2\n",
       "Th1 and Th2 cell differentiation                       2\n",
       "Prolactin signaling pathway                            2\n",
       "Alcoholic liver disease                                2\n",
       "Serotonergic synapse                                   2\n",
       "Adipocytokine signaling pathway                        2\n",
       "Fc gamma R-mediated phagocytosis                       2\n",
       "Glucagon signaling pathway                             2\n",
       "Coronavirus disease - COVID-19                         2\n",
       "Phosphatidylinositol signaling system                  2\n",
       "Oocyte meiosis                                         2\n",
       "NF-kappa B signaling pathway                           2\n",
       "NOD-like receptor signaling pathway                    2\n",
       "Cholinergic synapse                                    2\n",
       "Neutrophil extracellular trap formation                2\n",
       "Alcoholism                                             2\n",
       "GnRH secretion                                         2\n",
       "Lysine degradation                                     2\n",
       "Inflammatory mediator regulation of TRP channels       2\n",
       "Oxidative phosphorylation                              2\n",
       "VEGF signaling pathway                                 2\n",
       "Hippo signaling pathway - multiple species             2\n",
       "Cytokine-cytokine receptor interaction                 2\n",
       "Long-term depression                                   2\n",
       "Toxoplasmosis                                          1\n",
       "Amoebiasis                                             1\n",
       "Viral myocarditis                                      1\n",
       "Type II diabetes mellitus                              1\n",
       "Spliceosome                                            1\n",
       "Aldosterone-regulated sodium reabsorption              1\n",
       "Ferroptosis                                            1\n",
       "Spinocerebellar ataxia                                 1\n",
       "Antigen processing and presentation                    1\n",
       "Glutathione metabolism                                 1\n",
       "Hedgehog signaling pathway                             1\n",
       "Hematopoietic cell lineage                             1\n",
       "DNA replication                                        1\n",
       "IL-17 signaling pathway                                1\n",
       "Inositol phosphate metabolism                          1\n",
       "Cell adhesion molecules                                1\n",
       "Legionellosis                                          1\n",
       "Longevity regulating pathway - multiple species        1\n",
       "Carbohydrate digestion and absorption                  1\n",
       "Mitophagy - animal                                     1\n",
       "Necroptosis                                            1\n",
       "Non-homologous end-joining                             1\n",
       "Biosynthesis of amino acids                            1\n",
       "Base excision repair                                   1\n",
       "Pancreatic secretion                                   1\n",
       "Basal transcription factors                            1\n",
       "Peroxisome                                             1\n",
       "Pertussis                                              1\n",
       "Primary immunodeficiency                               1\n",
       "RIG-I-like receptor signaling pathway                  1\n",
       "Apoptosis - multiple species                           1\n",
       "Regulation of lipolysis in adipocytes                  1\n",
       "2-Oxocarboxylic acid metabolism                        1"
      ]
     },
     "execution_count": 52,
     "metadata": {},
     "output_type": "execute_result"
    }
   ],
   "source": [
    "class4_gene_pathway.groupby('pathway').count().sort_values('gene',ascending=False)"
   ]
  },
  {
   "cell_type": "code",
   "execution_count": null,
   "metadata": {},
   "outputs": [],
   "source": [
    "import networkx as nx"
   ]
  },
  {
   "cell_type": "code",
   "execution_count": null,
   "metadata": {},
   "outputs": [],
   "source": [
    "print(plt.rcParams.get('figure.figsize'))"
   ]
  },
  {
   "cell_type": "code",
   "execution_count": null,
   "metadata": {},
   "outputs": [],
   "source": [
    "plt.rcParams[\"figure.figsize\"] = [12.0,10.0]"
   ]
  },
  {
   "cell_type": "code",
   "execution_count": null,
   "metadata": {},
   "outputs": [],
   "source": [
    "G = nx.from_pandas_edgelist(gene_pathway,source=\"gene\",target=\"pathway\")"
   ]
  },
  {
   "cell_type": "code",
   "execution_count": null,
   "metadata": {},
   "outputs": [],
   "source": [
    "nx.draw_networkx(G,alpha=0.6)"
   ]
  },
  {
   "cell_type": "raw",
   "metadata": {},
   "source": []
  },
  {
   "cell_type": "markdown",
   "metadata": {},
   "source": [
    "### <font color='green'> Let us study the mutations of BRCA1, the most highly mutated gene with respect to the classification</font>"
   ]
  },
  {
   "cell_type": "code",
   "execution_count": null,
   "metadata": {},
   "outputs": [],
   "source": [
    "train_df[train_df['Gene'] == 'BRCA1']['Variation'].nunique()"
   ]
  },
  {
   "cell_type": "code",
   "execution_count": null,
   "metadata": {},
   "outputs": [],
   "source": [
    "train_df[train_df['Gene'] == 'BRCA1']['Class'].nunique()"
   ]
  },
  {
   "cell_type": "code",
   "execution_count": null,
   "metadata": {},
   "outputs": [],
   "source": [
    "train_df[train_df['Gene'] == 'BRCA1'].groupby('Class')['Variation'].count()"
   ]
  },
  {
   "cell_type": "markdown",
   "metadata": {},
   "source": [
    "### <font color='green'> 101 mutations (Variations) are classified into 5 classes with most mutations in class 5 and least mutations in class 3</font>"
   ]
  },
  {
   "cell_type": "code",
   "execution_count": null,
   "metadata": {},
   "outputs": [],
   "source": [
    "class_5=train_df[(train_df['Gene'] == 'BRCA1') & (train_df['Class']== 5)]\n",
    "class_5['Text']=class_5['Text'].map(lambda x:x[:80])"
   ]
  },
  {
   "cell_type": "code",
   "execution_count": null,
   "metadata": {},
   "outputs": [],
   "source": [
    "class_5.reset_index(inplace=True,drop=True)"
   ]
  },
  {
   "cell_type": "code",
   "execution_count": null,
   "metadata": {},
   "outputs": [],
   "source": [
    "class_5"
   ]
  },
  {
   "cell_type": "code",
   "execution_count": null,
   "metadata": {},
   "outputs": [],
   "source": [
    "class_5.groupby(['Text','Gene'],sort=False)['Variation'].count().reset_index()"
   ]
  },
  {
   "cell_type": "markdown",
   "metadata": {},
   "source": [
    "### <font style=\"font-size:18px;font-family:arial;color:green;text-indent:100px;line-height:0.8;word-spacing:10px\">What is the relationship of the enlisted mutations (Variation) of a gene and the corresponding 'Text' ? For e.g, for mutations of BCRA1, there are 36 unique mutations assigned to class 5 and the above 10 texts are the basis for it</font>"
   ]
  },
  {
   "cell_type": "code",
   "execution_count": null,
   "metadata": {},
   "outputs": [],
   "source": []
  },
  {
   "cell_type": "code",
   "execution_count": null,
   "metadata": {},
   "outputs": [],
   "source": [
    "train_df.isna().sum()"
   ]
  },
  {
   "cell_type": "code",
   "execution_count": null,
   "metadata": {},
   "outputs": [],
   "source": [
    "train_df[train_df['Text'].map(lambda x:not isinstance(x,str))]"
   ]
  },
  {
   "cell_type": "code",
   "execution_count": null,
   "metadata": {},
   "outputs": [],
   "source": [
    "train_df.dropna(inplace=True)"
   ]
  },
  {
   "cell_type": "code",
   "execution_count": null,
   "metadata": {},
   "outputs": [],
   "source": [
    "from sklearn.model_selection import train_test_split"
   ]
  },
  {
   "cell_type": "code",
   "execution_count": null,
   "metadata": {},
   "outputs": [],
   "source": [
    "y_train=train_df['Class']\n",
    "X_train=train_df.drop('Class',axis=1)\n",
    "train_df,validation_df,y_train,y_validation=train_test_split(X_train,y_train,test_size=0.3,stratify=y_train)"
   ]
  },
  {
   "cell_type": "code",
   "execution_count": null,
   "metadata": {},
   "outputs": [],
   "source": [
    "train_df.shape,y_train.shape"
   ]
  },
  {
   "cell_type": "code",
   "execution_count": null,
   "metadata": {},
   "outputs": [],
   "source": [
    "set(y_train.tolist())"
   ]
  },
  {
   "cell_type": "code",
   "execution_count": null,
   "metadata": {},
   "outputs": [],
   "source": [
    "validation_df.shape,y_validation.shape"
   ]
  },
  {
   "cell_type": "code",
   "execution_count": null,
   "metadata": {},
   "outputs": [],
   "source": [
    "set(y_validation.tolist())"
   ]
  },
  {
   "cell_type": "markdown",
   "metadata": {},
   "source": [
    "### <font color='green'>analyzing the train text data</font>"
   ]
  },
  {
   "cell_type": "markdown",
   "metadata": {},
   "source": [
    "[link to destination](#destination)"
   ]
  },
  {
   "cell_type": "code",
   "execution_count": null,
   "metadata": {
    "colab": {
     "base_uri": "https://localhost:8080/",
     "height": 38
    },
    "executionInfo": {
     "elapsed": 98,
     "status": "ok",
     "timestamp": 1638286184867,
     "user": {
      "displayName": "Anubrata Das",
      "photoUrl": "https://lh3.googleusercontent.com/a-/AOh14GiI2340pPpSj6e4aG_4urL4HRwW3MRXEf5aoo2_QA=s64",
      "userId": "08781375266004215524"
     },
     "user_tz": -330
    },
    "id": "9SoN9RkCag-o",
    "outputId": "7f64e0fd-3acd-42a0-9d80-2dd56677fb44"
   },
   "outputs": [],
   "source": [
    "import string\n",
    "string.punctuation"
   ]
  },
  {
   "cell_type": "code",
   "execution_count": null,
   "metadata": {
    "executionInfo": {
     "elapsed": 90,
     "status": "ok",
     "timestamp": 1638286184868,
     "user": {
      "displayName": "Anubrata Das",
      "photoUrl": "https://lh3.googleusercontent.com/a-/AOh14GiI2340pPpSj6e4aG_4urL4HRwW3MRXEf5aoo2_QA=s64",
      "userId": "08781375266004215524"
     },
     "user_tz": -330
    },
    "id": "Zoqhi_AKamax"
   },
   "outputs": [],
   "source": [
    "revised_punctuation='!\"#$%&\\'()*+,./:;<=>?@[\\\\]^_`{|}~'"
   ]
  },
  {
   "cell_type": "code",
   "execution_count": null,
   "metadata": {},
   "outputs": [],
   "source": [
    "revised_punctuation"
   ]
  },
  {
   "cell_type": "code",
   "execution_count": null,
   "metadata": {},
   "outputs": [],
   "source": [
    "#!pip install nltk"
   ]
  },
  {
   "cell_type": "code",
   "execution_count": null,
   "metadata": {
    "executionInfo": {
     "elapsed": 92,
     "status": "ok",
     "timestamp": 1638286184873,
     "user": {
      "displayName": "Anubrata Das",
      "photoUrl": "https://lh3.googleusercontent.com/a-/AOh14GiI2340pPpSj6e4aG_4urL4HRwW3MRXEf5aoo2_QA=s64",
      "userId": "08781375266004215524"
     },
     "user_tz": -330
    },
    "id": "UoSJBAQWis7w"
   },
   "outputs": [],
   "source": [
    "import nltk\n",
    "nltk.download('words')\n",
    "from nltk.corpus import words\n",
    "words=nltk.corpus.words.words()"
   ]
  },
  {
   "cell_type": "code",
   "execution_count": null,
   "metadata": {},
   "outputs": [],
   "source": [
    "len(set(words))"
   ]
  },
  {
   "cell_type": "code",
   "execution_count": null,
   "metadata": {},
   "outputs": [],
   "source": [
    "nltk_words=set(words)"
   ]
  },
  {
   "cell_type": "code",
   "execution_count": null,
   "metadata": {
    "executionInfo": {
     "elapsed": 90,
     "status": "ok",
     "timestamp": 1638286184874,
     "user": {
      "displayName": "Anubrata Das",
      "photoUrl": "https://lh3.googleusercontent.com/a-/AOh14GiI2340pPpSj6e4aG_4urL4HRwW3MRXEf5aoo2_QA=s64",
      "userId": "08781375266004215524"
     },
     "user_tz": -330
    },
    "id": "dZa3dSo_KOra"
   },
   "outputs": [],
   "source": [
    "def cleanse_data(data):        \n",
    "    if isinstance(data,str):\n",
    "        no_punctuation = [char for char in data.replace('\\n',' ') if char not in revised_punctuation]\n",
    "        no_punctuation_txt = ''.join(no_punctuation)                   \n",
    "        return no_punctuation_txt\n",
    "    else:\n",
    "        return \"NA\""
   ]
  },
  {
   "cell_type": "code",
   "execution_count": null,
   "metadata": {},
   "outputs": [],
   "source": [
    "def reduce_words(data):\n",
    "    data = data.split()\n",
    "    words = [word for word in data if word not in nltk_words]\n",
    "    text = \" \".join(words)\n",
    "    return text    "
   ]
  },
  {
   "cell_type": "code",
   "execution_count": null,
   "metadata": {},
   "outputs": [],
   "source": [
    "def word_count(text):\n",
    "    text_lst=text.split()\n",
    "    vector = [text_lst.count(str(word)) for word in text_lst]\n",
    "    return vector[:300]"
   ]
  },
  {
   "cell_type": "code",
   "execution_count": null,
   "metadata": {},
   "outputs": [],
   "source": [
    "from nltk.probability import FreqDist"
   ]
  },
  {
   "cell_type": "markdown",
   "metadata": {
    "id": "eHrZ7Ae4odHg"
   },
   "source": [
    "we have obtained the frequency distribution of words using freqdist"
   ]
  },
  {
   "cell_type": "code",
   "execution_count": null,
   "metadata": {},
   "outputs": [],
   "source": [
    "def freq_dist(data):\n",
    "    data=data.split(\" \")\n",
    "    freq=FreqDist(data) # gets word frequency\n",
    "    freq=sorted(freq.items(),key=lambda x:x[1], reverse=True) # sorts words from highest to lowest frequency\n",
    "    return [item[1] for item in freq][:300] # returns a fixed length of 300 words"
   ]
  },
  {
   "cell_type": "code",
   "execution_count": null,
   "metadata": {},
   "outputs": [],
   "source": [
    "# implementing bag of words"
   ]
  },
  {
   "cell_type": "code",
   "execution_count": null,
   "metadata": {},
   "outputs": [],
   "source": [
    "from sklearn.feature_extraction.text import CountVectorizer"
   ]
  },
  {
   "cell_type": "code",
   "execution_count": null,
   "metadata": {},
   "outputs": [],
   "source": [
    "bow_vectorizer = CountVectorizer(stop_words='english',max_features=1600)"
   ]
  },
  {
   "cell_type": "code",
   "execution_count": null,
   "metadata": {},
   "outputs": [],
   "source": [
    "# implementing tf-idf"
   ]
  },
  {
   "cell_type": "code",
   "execution_count": null,
   "metadata": {},
   "outputs": [],
   "source": [
    "from sklearn.feature_extraction.text import TfidfVectorizer"
   ]
  },
  {
   "cell_type": "code",
   "execution_count": null,
   "metadata": {},
   "outputs": [],
   "source": [
    "tfidf_vectorizer = TfidfVectorizer(\n",
    "    min_df=1, max_features=1600, strip_accents='unicode',lowercase =True,\n",
    "    analyzer='word', token_pattern=r'\\w+', ngram_range=(1, 3), use_idf=True, \n",
    "    smooth_idf=True, sublinear_tf=True, stop_words = 'english')"
   ]
  },
  {
   "cell_type": "code",
   "execution_count": null,
   "metadata": {},
   "outputs": [],
   "source": [
    "# https://melaniewalsh.github.io/Intro-Cultural-Analytics/05-Text-Analysis/03-TF-IDF-Scikit-Learn.html\n",
    "# https://www.datacamp.com/community/tutorials/understanding-logistic-regression-python\n",
    "# https://machinelearningmastery.com/multinomial-logistic-regression-with-python/\n",
    "# https://www.kaggle.com/elemento/personalizedmedicine-rct"
   ]
  },
  {
   "cell_type": "code",
   "execution_count": null,
   "metadata": {},
   "outputs": [],
   "source": [
    "from sklearn.linear_model import LogisticRegression"
   ]
  },
  {
   "cell_type": "code",
   "execution_count": null,
   "metadata": {},
   "outputs": [],
   "source": [
    "from sklearn.metrics import log_loss"
   ]
  },
  {
   "cell_type": "code",
   "execution_count": null,
   "metadata": {},
   "outputs": [],
   "source": [
    "# define the multinomial logistic regression model\n",
    "bow_model = LogisticRegression(multi_class='multinomial', solver='lbfgs')\n",
    "tfidf_model = LogisticRegression(multi_class='multinomial', solver='lbfgs')"
   ]
  },
  {
   "cell_type": "markdown",
   "metadata": {},
   "source": [
    "<a id=\"train_data\" style=\"font-size:22px\">model train text sample data</a>"
   ]
  },
  {
   "cell_type": "markdown",
   "metadata": {},
   "source": [
    "[Beginning of Notebook](#top)"
   ]
  },
  {
   "cell_type": "markdown",
   "metadata": {},
   "source": [
    "#### text preprocessing"
   ]
  },
  {
   "cell_type": "code",
   "execution_count": null,
   "metadata": {},
   "outputs": [],
   "source": [
    "# remove punctuation\n",
    "train_df['cleaned_text'] = train_df['Text'].progress_map(cleanse_data,na_action='ignore')"
   ]
  },
  {
   "cell_type": "code",
   "execution_count": null,
   "metadata": {},
   "outputs": [],
   "source": [
    "# filtering all common english words\n",
    "train_df['cleaned_text'] = train_df['cleaned_text'].progress_map(reduce_words,na_action='ignore')"
   ]
  },
  {
   "cell_type": "code",
   "execution_count": null,
   "metadata": {},
   "outputs": [],
   "source": [
    "train_df['Text_len'] = train_df['Text'].map(lambda x:len(str(x)))\n",
    "train_df['cleaned_text_len'] = train_df['cleaned_text'].map(lambda x:len(str(x)))"
   ]
  },
  {
   "cell_type": "code",
   "execution_count": null,
   "metadata": {},
   "outputs": [],
   "source": []
  },
  {
   "cell_type": "code",
   "execution_count": null,
   "metadata": {},
   "outputs": [],
   "source": [
    "train_df.head()"
   ]
  },
  {
   "cell_type": "markdown",
   "metadata": {},
   "source": [
    "### <font color='green'>converting text to numbers</font>"
   ]
  },
  {
   "cell_type": "code",
   "execution_count": null,
   "metadata": {},
   "outputs": [],
   "source": [
    "train_df_corpus = train_df['cleaned_text'].tolist()"
   ]
  },
  {
   "cell_type": "markdown",
   "metadata": {},
   "source": [
    "#### bag of words transformation"
   ]
  },
  {
   "cell_type": "code",
   "execution_count": null,
   "metadata": {},
   "outputs": [],
   "source": [
    "bow_vectorizer.fit(train_df_corpus)"
   ]
  },
  {
   "cell_type": "code",
   "execution_count": null,
   "metadata": {},
   "outputs": [],
   "source": [
    "train_df_counts= bow_vectorizer.transform(train_df_corpus)"
   ]
  },
  {
   "cell_type": "code",
   "execution_count": null,
   "metadata": {},
   "outputs": [],
   "source": [
    "print(\"Vocabulary: \", bow_vectorizer.vocabulary_)"
   ]
  },
  {
   "cell_type": "code",
   "execution_count": null,
   "metadata": {},
   "outputs": [],
   "source": [
    "train_df_counts.shape"
   ]
  },
  {
   "cell_type": "code",
   "execution_count": null,
   "metadata": {},
   "outputs": [],
   "source": [
    "train_df_counts"
   ]
  },
  {
   "cell_type": "code",
   "execution_count": null,
   "metadata": {},
   "outputs": [],
   "source": [
    "X_train_bow = train_df_counts.todense()"
   ]
  },
  {
   "cell_type": "code",
   "execution_count": null,
   "metadata": {},
   "outputs": [],
   "source": [
    "X_train_bow.shape"
   ]
  },
  {
   "cell_type": "code",
   "execution_count": null,
   "metadata": {},
   "outputs": [],
   "source": [
    "X_train_bow"
   ]
  },
  {
   "cell_type": "markdown",
   "metadata": {},
   "source": [
    "#### tfidf transformation"
   ]
  },
  {
   "cell_type": "code",
   "execution_count": null,
   "metadata": {},
   "outputs": [],
   "source": [
    "tfidf_vectorizer.fit(train_df_corpus)"
   ]
  },
  {
   "cell_type": "code",
   "execution_count": null,
   "metadata": {},
   "outputs": [],
   "source": [
    "X_train_tfidf = tfidf_vectorizer.transform(train_df_corpus)\n",
    "X_train_tfidf = X_train_tfidf.toarray()"
   ]
  },
  {
   "cell_type": "code",
   "execution_count": null,
   "metadata": {},
   "outputs": [],
   "source": [
    "X_train_tfidf.shape"
   ]
  },
  {
   "cell_type": "code",
   "execution_count": null,
   "metadata": {},
   "outputs": [],
   "source": [
    "X_train_tfidf"
   ]
  },
  {
   "cell_type": "markdown",
   "metadata": {},
   "source": [
    "### <font color='green'>creating baseline metrics using hard coded predicted values</font>"
   ]
  },
  {
   "cell_type": "code",
   "execution_count": null,
   "metadata": {},
   "outputs": [],
   "source": [
    "from numpy import random"
   ]
  },
  {
   "cell_type": "code",
   "execution_count": null,
   "metadata": {},
   "outputs": [],
   "source": [
    "# create a dummy y value for getting the baseline accuracy\n",
    "y_dummy_1 = random.rand(926,9)"
   ]
  },
  {
   "cell_type": "code",
   "execution_count": null,
   "metadata": {},
   "outputs": [],
   "source": [
    "#y_dummy"
   ]
  },
  {
   "cell_type": "code",
   "execution_count": null,
   "metadata": {},
   "outputs": [],
   "source": [
    "y_train.head()"
   ]
  },
  {
   "cell_type": "code",
   "execution_count": null,
   "metadata": {},
   "outputs": [],
   "source": [
    "y_dummy_1[0,:]"
   ]
  },
  {
   "cell_type": "code",
   "execution_count": null,
   "metadata": {},
   "outputs": [],
   "source": [
    "# baseline loss metric value, random y values\n",
    "log_loss(y_train,y_dummy_1)"
   ]
  },
  {
   "cell_type": "code",
   "execution_count": null,
   "metadata": {},
   "outputs": [],
   "source": [
    "y_dummy_2=np.zeros((926,9),dtype='float')"
   ]
  },
  {
   "cell_type": "code",
   "execution_count": null,
   "metadata": {},
   "outputs": [],
   "source": [
    "y_dummy_2[0,:]"
   ]
  },
  {
   "cell_type": "code",
   "execution_count": null,
   "metadata": {},
   "outputs": [],
   "source": [
    "# baseline loss metric value, all probabilites for y set to zero\n",
    "log_loss(y_train,y_dummy_2)"
   ]
  },
  {
   "cell_type": "code",
   "execution_count": null,
   "metadata": {},
   "outputs": [],
   "source": [
    "# baseline loss metric value, all probabilites for y set to 0.4\n",
    "y_dummy_3=np.full((926,9),0.4,dtype='float')"
   ]
  },
  {
   "cell_type": "code",
   "execution_count": null,
   "metadata": {},
   "outputs": [],
   "source": [
    "y_dummy_3[0,:]"
   ]
  },
  {
   "cell_type": "code",
   "execution_count": null,
   "metadata": {},
   "outputs": [],
   "source": [
    "log_loss(y_train,y_dummy_3)"
   ]
  },
  {
   "cell_type": "code",
   "execution_count": null,
   "metadata": {},
   "outputs": [],
   "source": [
    "y_dummy_4=np.zeros((926,9),dtype='float')"
   ]
  },
  {
   "cell_type": "code",
   "execution_count": null,
   "metadata": {},
   "outputs": [],
   "source": [
    "y_dummy_4[:,0]=1.0"
   ]
  },
  {
   "cell_type": "code",
   "execution_count": null,
   "metadata": {},
   "outputs": [],
   "source": [
    "y_dummy_4[0,:]"
   ]
  },
  {
   "cell_type": "code",
   "execution_count": null,
   "metadata": {},
   "outputs": [],
   "source": [
    "# baseline loss metric value,probability at index 1 set to 1.0 for all y\n",
    "log_loss(y_train,y_dummy_4) "
   ]
  },
  {
   "cell_type": "code",
   "execution_count": null,
   "metadata": {},
   "outputs": [],
   "source": [
    "# baseline loss metric value,probability at random indices set to 1.0 for all y\n",
    "y_dummy_5=np.zeros((926,9),dtype='float')\n",
    "count=0\n",
    "for x in X_train_bow:\n",
    "    new_y_val=np.random.randint(0,9)\n",
    "    y_dummy_5[count,new_y_val]=1.    \n",
    "    count=count+1  "
   ]
  },
  {
   "cell_type": "code",
   "execution_count": null,
   "metadata": {},
   "outputs": [],
   "source": [
    "y_dummy_5[0,:]"
   ]
  },
  {
   "cell_type": "code",
   "execution_count": null,
   "metadata": {},
   "outputs": [],
   "source": [
    "log_loss(y_train,y_dummy_5)"
   ]
  },
  {
   "cell_type": "code",
   "execution_count": null,
   "metadata": {},
   "outputs": [],
   "source": [
    "# baseline loss metric value,probability at random indices set to 1.0 for all y\n",
    "def get_dummy(train_df):\n",
    "    y_dummy_5=np.zeros((926,9),dtype='float') # creating the probability matrix for y values\n",
    "    count=0\n",
    "    for x in train_df:                        # iterating through the training dataset\n",
    "        new_y_val=np.random.randint(0,9)      # creating random values for substituting index values\n",
    "        y_dummy_5[count,new_y_val]=1.         # setting the random index value as 1.0\n",
    "        count=count+1  \n",
    "    return y_dummy_5    "
   ]
  },
  {
   "cell_type": "code",
   "execution_count": null,
   "metadata": {},
   "outputs": [],
   "source": [
    "def simulate_dummy(train_df,y_train):    \n",
    "    for i in range(10):\n",
    "        y_dummy=get_dummy(train_df)\n",
    "        print(log_loss(y_train,y_dummy))"
   ]
  },
  {
   "cell_type": "code",
   "execution_count": null,
   "metadata": {},
   "outputs": [],
   "source": [
    "simulate_dummy(train_df,y_train)"
   ]
  },
  {
   "cell_type": "code",
   "execution_count": null,
   "metadata": {},
   "outputs": [],
   "source": [
    "pd.DataFrame({\"substitutions\":[\"random\",\"all zero\",\"all 0.4\",\"index 1\",\"random index\"],\"log_loss\":[2.49,2.19,2.19,28.59,2.4]})"
   ]
  },
  {
   "cell_type": "markdown",
   "metadata": {},
   "source": [
    "### <font style=\"font-size:18px;font-family:arial;color:green;text-indent:100px;line-height:0.8;word-spacing:10px\">Thus the lowermost limit for log loss score for an inaccurate model returns a value of 2.4 and hence our models should return better scores</font> "
   ]
  },
  {
   "cell_type": "markdown",
   "metadata": {},
   "source": [
    "### <font color='blue'>Logistic Regression Model</font>"
   ]
  },
  {
   "cell_type": "code",
   "execution_count": null,
   "metadata": {},
   "outputs": [],
   "source": [
    "from sklearn.metrics import accuracy_score"
   ]
  },
  {
   "cell_type": "markdown",
   "metadata": {},
   "source": [
    "#### <font color='blue'>Logistic Regression with bag of words transformation</font>"
   ]
  },
  {
   "cell_type": "code",
   "execution_count": null,
   "metadata": {},
   "outputs": [],
   "source": [
    "bow_model.fit(X_train_bow,y_train)"
   ]
  },
  {
   "cell_type": "code",
   "execution_count": null,
   "metadata": {},
   "outputs": [],
   "source": [
    "sorted(bow_model.coef_.tolist()[0])[:5]"
   ]
  },
  {
   "cell_type": "code",
   "execution_count": null,
   "metadata": {},
   "outputs": [],
   "source": [
    "bow_model.classes_"
   ]
  },
  {
   "cell_type": "code",
   "execution_count": null,
   "metadata": {},
   "outputs": [],
   "source": [
    "bow_model.n_features_in_"
   ]
  },
  {
   "cell_type": "code",
   "execution_count": null,
   "metadata": {},
   "outputs": [],
   "source": [
    "bow_model.intercept_"
   ]
  },
  {
   "cell_type": "code",
   "execution_count": null,
   "metadata": {},
   "outputs": [],
   "source": [
    "set(y_train.tolist())"
   ]
  },
  {
   "cell_type": "code",
   "execution_count": null,
   "metadata": {},
   "outputs": [],
   "source": [
    "y_pred_train_bow = bow_model.predict_proba(X_train_bow)"
   ]
  },
  {
   "cell_type": "code",
   "execution_count": null,
   "metadata": {},
   "outputs": [],
   "source": [
    "y_pred_train_bow2=bow_model.predict(X_train_bow)"
   ]
  },
  {
   "cell_type": "markdown",
   "metadata": {},
   "source": [
    "#### <font color='purple'>scoring the prediction using multiple scoring metrics</font>"
   ]
  },
  {
   "cell_type": "code",
   "execution_count": null,
   "metadata": {},
   "outputs": [],
   "source": [
    "log_loss(y_train,y_pred_train_bow)"
   ]
  },
  {
   "cell_type": "code",
   "execution_count": null,
   "metadata": {},
   "outputs": [],
   "source": [
    "from sklearn.metrics import classification_report"
   ]
  },
  {
   "cell_type": "code",
   "execution_count": null,
   "metadata": {},
   "outputs": [],
   "source": [
    "target_names=['class 1','class 2','class 3','class 4','class 5','class 6','class 7','class 8','class 9']"
   ]
  },
  {
   "cell_type": "code",
   "execution_count": null,
   "metadata": {},
   "outputs": [],
   "source": [
    "print(classification_report(y_train, y_pred_train_bow2, target_names=target_names))"
   ]
  },
  {
   "cell_type": "code",
   "execution_count": null,
   "metadata": {},
   "outputs": [],
   "source": [
    "from sklearn.metrics import plot_confusion_matrix"
   ]
  },
  {
   "cell_type": "code",
   "execution_count": null,
   "metadata": {},
   "outputs": [],
   "source": [
    "plot_confusion_matrix(bow_model, X_train_bow, y_train)"
   ]
  },
  {
   "cell_type": "markdown",
   "metadata": {},
   "source": [
    "#### <font color='blue'>Logistic Regression with tfidf transformation</font>"
   ]
  },
  {
   "cell_type": "code",
   "execution_count": null,
   "metadata": {},
   "outputs": [],
   "source": [
    "tfidf_model.fit(X_train_tfidf,y_train)"
   ]
  },
  {
   "cell_type": "code",
   "execution_count": null,
   "metadata": {},
   "outputs": [],
   "source": [
    "sorted(tfidf_model.coef_.tolist()[0])[:5]"
   ]
  },
  {
   "cell_type": "code",
   "execution_count": null,
   "metadata": {},
   "outputs": [],
   "source": [
    "tfidf_model.classes_"
   ]
  },
  {
   "cell_type": "code",
   "execution_count": null,
   "metadata": {},
   "outputs": [],
   "source": [
    "tfidf_model.n_features_in_"
   ]
  },
  {
   "cell_type": "code",
   "execution_count": null,
   "metadata": {},
   "outputs": [],
   "source": [
    "tfidf_model.intercept_"
   ]
  },
  {
   "cell_type": "code",
   "execution_count": null,
   "metadata": {},
   "outputs": [],
   "source": [
    "y_pred_train_tfidf = tfidf_model.predict_proba(X_train_tfidf)"
   ]
  },
  {
   "cell_type": "code",
   "execution_count": null,
   "metadata": {},
   "outputs": [],
   "source": [
    "y_pred_train_tfidf2 = tfidf_model.predict(X_train_tfidf)"
   ]
  },
  {
   "cell_type": "markdown",
   "metadata": {},
   "source": [
    "#### <font color='purple'>scoring the prediction using multiple scoring metrics</font>"
   ]
  },
  {
   "cell_type": "code",
   "execution_count": null,
   "metadata": {},
   "outputs": [],
   "source": [
    "log_loss(y_train,y_pred_train_tfidf)"
   ]
  },
  {
   "cell_type": "code",
   "execution_count": null,
   "metadata": {},
   "outputs": [],
   "source": [
    "print(classification_report(y_train, y_pred_train_tfidf2, target_names=target_names))"
   ]
  },
  {
   "cell_type": "code",
   "execution_count": null,
   "metadata": {},
   "outputs": [],
   "source": [
    "plot_confusion_matrix(tfidf_model, X_train_bow, y_train)"
   ]
  },
  {
   "cell_type": "markdown",
   "metadata": {},
   "source": [
    "### <font color='blue'> Multinomial Naive Bayes Model<font>"
   ]
  },
  {
   "cell_type": "code",
   "execution_count": null,
   "metadata": {},
   "outputs": [],
   "source": [
    "from sklearn.naive_bayes import MultinomialNB"
   ]
  },
  {
   "cell_type": "markdown",
   "metadata": {},
   "source": [
    "#### <font color='purple'>bag of words transformation</font>"
   ]
  },
  {
   "cell_type": "code",
   "execution_count": null,
   "metadata": {},
   "outputs": [],
   "source": [
    "NB_clf=MultinomialNB()"
   ]
  },
  {
   "cell_type": "code",
   "execution_count": null,
   "metadata": {},
   "outputs": [],
   "source": [
    "NB_clf.fit(X_train_bow,y_train)"
   ]
  },
  {
   "cell_type": "code",
   "execution_count": null,
   "metadata": {},
   "outputs": [],
   "source": [
    "NB_clf.class_count_"
   ]
  },
  {
   "cell_type": "code",
   "execution_count": null,
   "metadata": {},
   "outputs": [],
   "source": [
    "y_pred_train_NB=NB_clf.predict_proba(X_train_bow)"
   ]
  },
  {
   "cell_type": "code",
   "execution_count": null,
   "metadata": {},
   "outputs": [],
   "source": [
    "y_pred_train_NB2=NB_clf.predict(X_train_bow)"
   ]
  },
  {
   "cell_type": "markdown",
   "metadata": {},
   "source": [
    "#### <font color='purple'>scoring the prediction using multiple scoring metrics</font>"
   ]
  },
  {
   "cell_type": "code",
   "execution_count": null,
   "metadata": {},
   "outputs": [],
   "source": [
    "log_loss(y_train,y_pred_train_NB)"
   ]
  },
  {
   "cell_type": "code",
   "execution_count": null,
   "metadata": {},
   "outputs": [],
   "source": [
    "print(classification_report(y_train, y_pred_train_NB2, target_names=target_names))"
   ]
  },
  {
   "cell_type": "code",
   "execution_count": null,
   "metadata": {},
   "outputs": [],
   "source": [
    "plot_confusion_matrix(NB_clf, X_train_bow, y_train)"
   ]
  },
  {
   "cell_type": "code",
   "execution_count": null,
   "metadata": {},
   "outputs": [],
   "source": []
  },
  {
   "cell_type": "markdown",
   "metadata": {},
   "source": [
    "### Validation dataset"
   ]
  },
  {
   "cell_type": "code",
   "execution_count": null,
   "metadata": {},
   "outputs": [],
   "source": [
    "validation_df.shape,y_validation.shape"
   ]
  },
  {
   "cell_type": "code",
   "execution_count": null,
   "metadata": {},
   "outputs": [],
   "source": [
    "validation_df.head()"
   ]
  },
  {
   "cell_type": "markdown",
   "metadata": {},
   "source": [
    "#### text processing of validation data"
   ]
  },
  {
   "cell_type": "code",
   "execution_count": null,
   "metadata": {},
   "outputs": [],
   "source": []
  },
  {
   "cell_type": "code",
   "execution_count": null,
   "metadata": {},
   "outputs": [],
   "source": [
    "# remove punctuation\n",
    "validation_df['cleaned_text'] = validation_df['Text'].progress_map(cleanse_data,na_action='ignore')"
   ]
  },
  {
   "cell_type": "code",
   "execution_count": null,
   "metadata": {},
   "outputs": [],
   "source": [
    "# filtering all common english words\n",
    "validation_df['cleaned_text'] = validation_df['cleaned_text'].progress_map(reduce_words,na_action='ignore')"
   ]
  },
  {
   "cell_type": "code",
   "execution_count": null,
   "metadata": {},
   "outputs": [],
   "source": [
    "validation_df['Text_len'] = validation_df['Text'].map(lambda x:len(str(x)))\n",
    "validation_df['cleaned_text_len'] = validation_df['cleaned_text'].map(lambda x:len(str(x)))"
   ]
  },
  {
   "cell_type": "code",
   "execution_count": null,
   "metadata": {},
   "outputs": [],
   "source": [
    "validation_df.head()"
   ]
  },
  {
   "cell_type": "code",
   "execution_count": null,
   "metadata": {},
   "outputs": [],
   "source": [
    "validation_df_corpus = validation_df['cleaned_text'].tolist()"
   ]
  },
  {
   "cell_type": "markdown",
   "metadata": {},
   "source": [
    "##### Bag of words transformation"
   ]
  },
  {
   "cell_type": "code",
   "execution_count": null,
   "metadata": {},
   "outputs": [],
   "source": [
    "validation_df_counts= bow_vectorizer.transform(validation_df_corpus)"
   ]
  },
  {
   "cell_type": "code",
   "execution_count": null,
   "metadata": {},
   "outputs": [],
   "source": [
    "validation_df_counts.shape"
   ]
  },
  {
   "cell_type": "code",
   "execution_count": null,
   "metadata": {},
   "outputs": [],
   "source": [
    "X_validation_bow = validation_df_counts.todense()"
   ]
  },
  {
   "cell_type": "code",
   "execution_count": null,
   "metadata": {},
   "outputs": [],
   "source": [
    "X_validation_bow.shape"
   ]
  },
  {
   "cell_type": "code",
   "execution_count": null,
   "metadata": {},
   "outputs": [],
   "source": [
    "X_validation_bow[0]"
   ]
  },
  {
   "cell_type": "code",
   "execution_count": null,
   "metadata": {},
   "outputs": [],
   "source": [
    "y_pred_validation_bow = bow_model.predict_proba(X_validation_bow)"
   ]
  },
  {
   "cell_type": "code",
   "execution_count": null,
   "metadata": {},
   "outputs": [],
   "source": [
    "y_pred_validation_bow2 = bow_model.predict(X_validation_bow)"
   ]
  },
  {
   "cell_type": "markdown",
   "metadata": {},
   "source": [
    "#### <font color='purple'>scoring the prediction using multiple scoring metrics</font>"
   ]
  },
  {
   "cell_type": "code",
   "execution_count": null,
   "metadata": {},
   "outputs": [],
   "source": [
    "set(y_validation.tolist())"
   ]
  },
  {
   "cell_type": "code",
   "execution_count": null,
   "metadata": {},
   "outputs": [],
   "source": [
    "log_loss(y_validation,y_pred_validation_bow)"
   ]
  },
  {
   "cell_type": "code",
   "execution_count": null,
   "metadata": {},
   "outputs": [],
   "source": [
    "print(classification_report(y_validation, y_pred_validation_bow2, target_names=target_names))"
   ]
  },
  {
   "cell_type": "code",
   "execution_count": null,
   "metadata": {},
   "outputs": [],
   "source": [
    "plot_confusion_matrix(bow_model, X_validation_bow, y_validation)"
   ]
  },
  {
   "cell_type": "markdown",
   "metadata": {},
   "source": [
    "##### TFIDF transformation"
   ]
  },
  {
   "cell_type": "code",
   "execution_count": null,
   "metadata": {},
   "outputs": [],
   "source": [
    "X_validate_tfidf = tfidf_vectorizer.transform(validation_df_corpus)"
   ]
  },
  {
   "cell_type": "code",
   "execution_count": null,
   "metadata": {},
   "outputs": [],
   "source": [
    "X_validate_tfidf = X_validate_tfidf.toarray()"
   ]
  },
  {
   "cell_type": "code",
   "execution_count": null,
   "metadata": {},
   "outputs": [],
   "source": [
    "y_pred_validate_tfidf = tfidf_model.predict_proba(X_validate_tfidf)"
   ]
  },
  {
   "cell_type": "code",
   "execution_count": null,
   "metadata": {},
   "outputs": [],
   "source": [
    "y_pred_validate_tfidf2 = tfidf_model.predict(X_validate_tfidf)"
   ]
  },
  {
   "cell_type": "markdown",
   "metadata": {},
   "source": [
    "#### <font color='purple'>scoring the prediction using multiple scoring metrics</font>"
   ]
  },
  {
   "cell_type": "code",
   "execution_count": null,
   "metadata": {},
   "outputs": [],
   "source": [
    "log_loss(y_validation,y_pred_validate_tfidf)"
   ]
  },
  {
   "cell_type": "code",
   "execution_count": null,
   "metadata": {},
   "outputs": [],
   "source": [
    "print(classification_report(y_validation, y_pred_validate_tfidf2, target_names=target_names))"
   ]
  },
  {
   "cell_type": "code",
   "execution_count": null,
   "metadata": {},
   "outputs": [],
   "source": [
    "plot_confusion_matrix(tfidf_model, X_validate_tfidf, y_validation)"
   ]
  },
  {
   "cell_type": "code",
   "execution_count": null,
   "metadata": {},
   "outputs": [],
   "source": []
  },
  {
   "cell_type": "code",
   "execution_count": null,
   "metadata": {},
   "outputs": [],
   "source": []
  },
  {
   "cell_type": "markdown",
   "metadata": {},
   "source": [
    "#### handling the test text sample data"
   ]
  },
  {
   "cell_type": "code",
   "execution_count": null,
   "metadata": {},
   "outputs": [],
   "source": [
    "#test_text_df.sort_values(['ID']).head()"
   ]
  },
  {
   "cell_type": "code",
   "execution_count": null,
   "metadata": {},
   "outputs": [],
   "source": [
    "#test_text_df.shape"
   ]
  },
  {
   "cell_type": "code",
   "execution_count": null,
   "metadata": {},
   "outputs": [],
   "source": [
    "#test_text_df['cleaned_text'] = test_text_df['Text'].map(cleanse_data,na_action='ignore')"
   ]
  },
  {
   "cell_type": "code",
   "execution_count": null,
   "metadata": {},
   "outputs": [],
   "source": [
    "#test_text_df['cleaned_text'] = test_text_df['cleaned_text'].map(reduce_words)"
   ]
  },
  {
   "cell_type": "code",
   "execution_count": null,
   "metadata": {},
   "outputs": [],
   "source": [
    "#test_text_df['cleaned_text_vector'] = test_text_df['cleaned_text'].map(word_count)"
   ]
  },
  {
   "cell_type": "code",
   "execution_count": null,
   "metadata": {},
   "outputs": [],
   "source": [
    "#test_text_df['sorted_cleaned_text_vector'] = test_text_df['cleaned_text'].progress_map(freq_dist)"
   ]
  },
  {
   "cell_type": "code",
   "execution_count": null,
   "metadata": {},
   "outputs": [],
   "source": [
    "#test_text_df = test_text_df.drop(['Text'],axis=1)"
   ]
  },
  {
   "cell_type": "code",
   "execution_count": null,
   "metadata": {},
   "outputs": [],
   "source": [
    "#test_text_df.head()"
   ]
  },
  {
   "cell_type": "code",
   "execution_count": null,
   "metadata": {},
   "outputs": [],
   "source": [
    "# get the text samples as list\n",
    "#test_corpus = test_text_df['cleaned_text'].tolist()"
   ]
  },
  {
   "cell_type": "code",
   "execution_count": null,
   "metadata": {},
   "outputs": [],
   "source": [
    "# transform the test case to get bag of words\n",
    "#test_bag_of_words_train = bow_vectorizer.fit_transform(test_corpus)"
   ]
  },
  {
   "cell_type": "code",
   "execution_count": null,
   "metadata": {},
   "outputs": [],
   "source": [
    "# convert the dictionary to an array\n",
    "#test_bag_of_words_array = test_bag_of_words_train.toarray()"
   ]
  },
  {
   "cell_type": "code",
   "execution_count": null,
   "metadata": {},
   "outputs": [],
   "source": [
    "#test_bag_of_words_array.shape"
   ]
  },
  {
   "cell_type": "code",
   "execution_count": null,
   "metadata": {},
   "outputs": [],
   "source": [
    "# predict test using bag of word model\n",
    "#y_pred_test_bow = bow_model.predict_proba(test_bag_of_words_array)"
   ]
  },
  {
   "cell_type": "code",
   "execution_count": null,
   "metadata": {},
   "outputs": [],
   "source": [
    "#y_pred_test_bow[0]"
   ]
  },
  {
   "cell_type": "code",
   "execution_count": null,
   "metadata": {},
   "outputs": [],
   "source": [
    "#y_pred_test_df = pd.DataFrame(y_pred_test_bow)"
   ]
  },
  {
   "cell_type": "code",
   "execution_count": null,
   "metadata": {},
   "outputs": [],
   "source": [
    "#test_text_df['ID'].shape"
   ]
  },
  {
   "cell_type": "code",
   "execution_count": null,
   "metadata": {},
   "outputs": [],
   "source": [
    "#y_pred_test_df['ID']= test_text_df['ID'].reset_index(drop=True)"
   ]
  },
  {
   "cell_type": "code",
   "execution_count": null,
   "metadata": {},
   "outputs": [],
   "source": [
    "#y_pred_test_df.head()"
   ]
  },
  {
   "cell_type": "code",
   "execution_count": null,
   "metadata": {},
   "outputs": [],
   "source": []
  },
  {
   "cell_type": "code",
   "execution_count": null,
   "metadata": {},
   "outputs": [],
   "source": [
    "# predict test using tfidf model\n",
    "#y_pred_test_tfidf = tfidf_model.predict_proba(test_bag_of_words_array)"
   ]
  },
  {
   "cell_type": "code",
   "execution_count": null,
   "metadata": {},
   "outputs": [],
   "source": [
    "stage2_test_text_df = pd.read_csv('stage2_test_text.csv', sep=\"\\|\\|\", encoding=\"utf-8\",engine=\"python\", skiprows=1, names=[\"ID\", \"Text\"])\n"
   ]
  },
  {
   "cell_type": "code",
   "execution_count": null,
   "metadata": {},
   "outputs": [],
   "source": [
    "stage2_test_text_df.shape"
   ]
  },
  {
   "cell_type": "code",
   "execution_count": null,
   "metadata": {},
   "outputs": [],
   "source": [
    "stage2_test_text_df['cleaned_text'] = stage2_test_text_df['Text'].progress_map(cleanse_data,na_action='ignore')"
   ]
  },
  {
   "cell_type": "code",
   "execution_count": null,
   "metadata": {},
   "outputs": [],
   "source": [
    "stage2_test_text_df['cleaned_text'] = stage2_test_text_df['cleaned_text'].progress_map(reduce_words)"
   ]
  },
  {
   "cell_type": "code",
   "execution_count": null,
   "metadata": {},
   "outputs": [],
   "source": [
    "stage2_test_text_df.shape"
   ]
  },
  {
   "cell_type": "code",
   "execution_count": null,
   "metadata": {},
   "outputs": [],
   "source": [
    "stage2_cleaned_view =pd.DataFrame({\"Text\":stage2_test_text_df['Text'].progress_map(lambda x:len(x)),\"cleaned_text\":stage2_test_text_df['cleaned_text'].map(lambda x:len(x))})\n",
    "stage2_cleaned_view.head()"
   ]
  },
  {
   "cell_type": "code",
   "execution_count": null,
   "metadata": {},
   "outputs": [],
   "source": [
    "stage2_test_corpus = stage2_test_text_df['cleaned_text'].tolist()"
   ]
  },
  {
   "cell_type": "code",
   "execution_count": null,
   "metadata": {},
   "outputs": [],
   "source": [
    "#X_stage2_test = bow_vectorizer.fit_transform(stage2_test_corpus).toarray()"
   ]
  },
  {
   "cell_type": "code",
   "execution_count": null,
   "metadata": {},
   "outputs": [],
   "source": [
    "X_stage2_test = tfidf_vectorizer.fit_transform(stage2_test_corpus).toarray()"
   ]
  },
  {
   "cell_type": "code",
   "execution_count": null,
   "metadata": {},
   "outputs": [],
   "source": [
    "X_stage2_test.shape"
   ]
  },
  {
   "cell_type": "code",
   "execution_count": null,
   "metadata": {},
   "outputs": [],
   "source": [
    "y_pred_stage2 = tfidf_model.predict_proba(X_stage2_test)"
   ]
  },
  {
   "cell_type": "code",
   "execution_count": null,
   "metadata": {},
   "outputs": [],
   "source": [
    "y_pred_stage2.shape"
   ]
  },
  {
   "cell_type": "code",
   "execution_count": null,
   "metadata": {},
   "outputs": [],
   "source": [
    "y_pred_stage2_df = pd.DataFrame(y_pred_stage2)"
   ]
  },
  {
   "cell_type": "code",
   "execution_count": null,
   "metadata": {},
   "outputs": [],
   "source": []
  },
  {
   "cell_type": "code",
   "execution_count": null,
   "metadata": {},
   "outputs": [],
   "source": [
    "y_pred_stage2_df['ID']=stage2_test_text_df['ID']"
   ]
  },
  {
   "cell_type": "code",
   "execution_count": null,
   "metadata": {},
   "outputs": [],
   "source": [
    "y_pred_stage2_df.columns"
   ]
  },
  {
   "cell_type": "code",
   "execution_count": null,
   "metadata": {},
   "outputs": [],
   "source": [
    "y_pred_stage2_df.columns = ['class1','class2','class3','class4','class5','class6','class7','class8','class9','ID']"
   ]
  },
  {
   "cell_type": "code",
   "execution_count": null,
   "metadata": {},
   "outputs": [],
   "source": [
    "y_pred_stage2_df=y_pred_stage2_df[['ID','class1','class2','class3','class4','class5','class6','class7','class8','class9']]"
   ]
  },
  {
   "cell_type": "code",
   "execution_count": null,
   "metadata": {},
   "outputs": [],
   "source": [
    "y_pred_stage2_df.head()"
   ]
  },
  {
   "cell_type": "code",
   "execution_count": null,
   "metadata": {},
   "outputs": [],
   "source": [
    "y_pred_stage2_df.to_csv(\"y_pred_stage2.csv\",index=False)"
   ]
  },
  {
   "cell_type": "code",
   "execution_count": null,
   "metadata": {},
   "outputs": [],
   "source": [
    "df=pd.DataFrame(columns=[\"Gene\",\"Class\",\"Variation\",\"cleaned_text\",\"cleaned_freq\"])\n",
    "for i in range(19):    \n",
    "    df_new=class_9[class_9['cleaned_text'] == class_9['cleaned_text'].unique()[i]]\n",
    "    df=pd.concat([df,df_new])"
   ]
  },
  {
   "cell_type": "markdown",
   "metadata": {
    "id": "mb62K9H8oIy6"
   },
   "source": [
    "we have sorted the frequency dictionary based on values using the key parameter of sorted and higher values first using reverse"
   ]
  },
  {
   "cell_type": "code",
   "execution_count": null,
   "metadata": {
    "colab": {
     "base_uri": "https://localhost:8080/"
    },
    "executionInfo": {
     "elapsed": 14,
     "status": "ok",
     "timestamp": 1638286210767,
     "user": {
      "displayName": "Anubrata Das",
      "photoUrl": "https://lh3.googleusercontent.com/a-/AOh14GiI2340pPpSj6e4aG_4urL4HRwW3MRXEf5aoo2_QA=s64",
      "userId": "08781375266004215524"
     },
     "user_tz": -330
    },
    "id": "wae37kXdUT8k",
    "outputId": "aacd0478-e911-439f-8dd0-3d9b78a7a732"
   },
   "outputs": [],
   "source": [
    "sorted(test_dic.items(),key=lambda x:x[1], reverse=True)"
   ]
  },
  {
   "cell_type": "code",
   "execution_count": null,
   "metadata": {
    "id": "kAxcpzU4_mzu"
   },
   "outputs": [],
   "source": [
    "for i in range(10):\n",
    "    print(scan_data1[i])"
   ]
  },
  {
   "cell_type": "code",
   "execution_count": null,
   "metadata": {
    "id": "9XgD9sY_14Jw"
   },
   "outputs": [],
   "source": [
    "cd /content"
   ]
  },
  {
   "cell_type": "code",
   "execution_count": null,
   "metadata": {
    "id": "oLbahHJ__mzv"
   },
   "outputs": [],
   "source": [
    "pa_tree=ET.parse('pa2021.xml')"
   ]
  },
  {
   "cell_type": "code",
   "execution_count": null,
   "metadata": {
    "id": "spN5n9H3_mzv"
   },
   "outputs": [],
   "source": [
    "root=pa_tree.getroot()"
   ]
  },
  {
   "cell_type": "code",
   "execution_count": null,
   "metadata": {
    "id": "kQR8pY9UXBs-"
   },
   "outputs": [],
   "source": [
    "# for child in root:\n",
    "#   print(child.tag)"
   ]
  },
  {
   "cell_type": "code",
   "execution_count": null,
   "metadata": {
    "id": "63RIRzTV_mzv"
   },
   "outputs": [],
   "source": [
    "for element_1 in root:\n",
    "  #print(\"---------level_1-----------\")\n",
    "  #print(element_1.tag)\n",
    "  \n",
    "  for element_2 in element_1:\n",
    "    #print(\"---------level_2-----------\")\n",
    "    #print(\"    \"+element_2.tag,\" \",element_2.text)\n",
    "    \n",
    "    for element_3 in element_2:\n",
    "      #print(\"---------level_3-----------\")\n",
    "      #print(\"        \"+element_3.tag,\" \",element_3.text)\n",
    "      \n",
    "      for element_4 in element_3:\n",
    "        #print(\"---------level_4-----------\")\n",
    "        if element_4.tag==\"String\":\n",
    "          print(\"                   \"+element_4.tag,\" \",element_4.text)\n",
    "          \n",
    "  #break\n",
    "    "
   ]
  },
  {
   "cell_type": "code",
   "execution_count": null,
   "metadata": {
    "id": "M-j6NieYFoZn"
   },
   "outputs": [],
   "source": [
    "len(root)"
   ]
  },
  {
   "cell_type": "code",
   "execution_count": null,
   "metadata": {
    "id": "c2Li5HlGGwOR"
   },
   "outputs": [],
   "source": [
    "desc_tree=ET.parse('desc2021.xml')"
   ]
  },
  {
   "cell_type": "code",
   "execution_count": null,
   "metadata": {
    "id": "IIWEN3P3XfG4"
   },
   "outputs": [],
   "source": [
    "desc_root=desc_tree.getroot()"
   ]
  },
  {
   "cell_type": "code",
   "execution_count": null,
   "metadata": {
    "id": "dVaFVNDdYSxK"
   },
   "outputs": [],
   "source": [
    "len(desc_root)"
   ]
  },
  {
   "cell_type": "code",
   "execution_count": null,
   "metadata": {
    "id": "9Q4uNx0xYq8f"
   },
   "outputs": [],
   "source": [
    "term_description=[]\n",
    "for element_1 in desc_root:\n",
    "  #print(\"-------level_1----------\")\n",
    "  #print(element_1.tag,\" \",element_1.text)\n",
    "  for element_2 in element_1:\n",
    "    #print(\"    ----------level_2----------\")\n",
    "    #print(\"    \"+element_2.tag,\" \",element_2.text)\n",
    "    for element_3 in element_2:\n",
    "      if element_3.tag=='String':\n",
    "        #print(\"        ---------level_3--------\")\n",
    "        #print(\"        \"+element_3.tag,\" \",element_3.text)\n",
    "        term_description.append(element_3.text)\n",
    "\n",
    "  #break"
   ]
  },
  {
   "cell_type": "code",
   "execution_count": null,
   "metadata": {
    "id": "WG6OyuDhZOdW"
   },
   "outputs": [],
   "source": [
    "len(term_description)"
   ]
  },
  {
   "cell_type": "code",
   "execution_count": null,
   "metadata": {
    "id": "yhUEtiIrt4B5"
   },
   "outputs": [],
   "source": [
    "term_description[:10]"
   ]
  },
  {
   "cell_type": "code",
   "execution_count": null,
   "metadata": {
    "id": "DFCAtPHEuIG_"
   },
   "outputs": [],
   "source": [
    "import csv \n",
    "with open('term_description.csv', 'w') as f: \n",
    "    write = csv.writer(f) \n",
    "    write.writerow(term_description) \n",
    "    "
   ]
  },
  {
   "cell_type": "markdown",
   "metadata": {
    "id": "F11LgeASJSYc"
   },
   "source": [
    "There are 2 ways to remove punctuation. one is to use the string library punctuation module on the text before tokenization, the other is to use the nltk.punct library"
   ]
  },
  {
   "cell_type": "code",
   "execution_count": null,
   "metadata": {
    "id": "bzJtTxhvvlSb"
   },
   "outputs": [],
   "source": [
    "len(scan_data1[1])"
   ]
  },
  {
   "cell_type": "code",
   "execution_count": null,
   "metadata": {
    "id": "EKL7Av16DsWV"
   },
   "outputs": [],
   "source": [
    "#nltk.word_tokenize(scan_data1[1])"
   ]
  },
  {
   "cell_type": "code",
   "execution_count": null,
   "metadata": {
    "id": "6n8-IUY8D_g2"
   },
   "outputs": [],
   "source": [
    "# import string punctuation\n",
    "import string\n",
    "string.punctuation"
   ]
  },
  {
   "cell_type": "code",
   "execution_count": null,
   "metadata": {
    "id": "vXDy9X6cH_nh"
   },
   "outputs": [],
   "source": []
  },
  {
   "cell_type": "code",
   "execution_count": null,
   "metadata": {
    "id": "YTposSf5IPM2"
   },
   "outputs": [],
   "source": [
    "len(cleanup_text(scan_data1[1]))"
   ]
  },
  {
   "cell_type": "code",
   "execution_count": null,
   "metadata": {
    "id": "xoBpboDfIZjm"
   },
   "outputs": [],
   "source": [
    "scan_data"
   ]
  }
 ],
 "metadata": {
  "colab": {
   "name": "jovian-ml-project.ipynb",
   "version": ""
  },
  "kernelspec": {
   "display_name": "Python 3",
   "language": "python",
   "name": "python3"
  },
  "language_info": {
   "codemirror_mode": {
    "name": "ipython",
    "version": 3
   },
   "file_extension": ".py",
   "mimetype": "text/x-python",
   "name": "python",
   "nbconvert_exporter": "python",
   "pygments_lexer": "ipython3",
   "version": "3.7.6"
  }
 },
 "nbformat": 4,
 "nbformat_minor": 1
}
