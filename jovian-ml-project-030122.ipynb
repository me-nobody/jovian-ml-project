{
 "cells": [
  {
   "cell_type": "markdown",
   "metadata": {
    "id": "z4XIJ7_c_mzW"
   },
   "source": [
    "# Classification of Cancer associated Mutations from Literature using Machine Learning\n",
    "\n",
    "Use the \"Run\" button to execute the code."
   ]
  },
  {
   "cell_type": "code",
   "execution_count": 1,
   "metadata": {
    "executionInfo": {
     "elapsed": 2553,
     "status": "ok",
     "timestamp": 1638285773553,
     "user": {
      "displayName": "Anubrata Das",
      "photoUrl": "https://lh3.googleusercontent.com/a-/AOh14GiI2340pPpSj6e4aG_4urL4HRwW3MRXEf5aoo2_QA=s64",
      "userId": "08781375266004215524"
     },
     "user_tz": -330
    },
    "id": "6jgqXjvi_mzZ"
   },
   "outputs": [
    {
     "name": "stdout",
     "output_type": "stream",
     "text": [
      "Note: you may need to restart the kernel to use updated packages.\n"
     ]
    },
    {
     "name": "stderr",
     "output_type": "stream",
     "text": [
      "WARNING: Value for scheme.headers does not match. Please report this to <https://github.com/pypa/pip/issues/9617>\n",
      "distutils: C:\\Users\\anubr\\anaconda3\\Include\\UNKNOWN\n",
      "sysconfig: C:\\Users\\anubr\\anaconda3\\Include\n",
      "WARNING: Additional context:\n",
      "user = False\n",
      "home = None\n",
      "root = None\n",
      "prefix = None\n",
      "WARNING: Value for scheme.headers does not match. Please report this to <https://github.com/pypa/pip/issues/9617>\n",
      "distutils: C:\\Users\\anubr\\anaconda3\\Include\\UNKNOWN\n",
      "sysconfig: C:\\Users\\anubr\\anaconda3\\Include\n",
      "WARNING: Additional context:\n",
      "user = False\n",
      "home = None\n",
      "root = None\n",
      "prefix = None\n"
     ]
    }
   ],
   "source": [
    "pip install jovian --upgrade --quiet"
   ]
  },
  {
   "cell_type": "code",
   "execution_count": null,
   "metadata": {
    "executionInfo": {
     "elapsed": 47,
     "status": "ok",
     "timestamp": 1638285773553,
     "user": {
      "displayName": "Anubrata Das",
      "photoUrl": "https://lh3.googleusercontent.com/a-/AOh14GiI2340pPpSj6e4aG_4urL4HRwW3MRXEf5aoo2_QA=s64",
      "userId": "08781375266004215524"
     },
     "user_tz": -330
    },
    "id": "BcrwI4VL_mze"
   },
   "outputs": [],
   "source": []
  },
  {
   "cell_type": "code",
   "execution_count": 2,
   "metadata": {
    "colab": {
     "base_uri": "https://localhost:8080/",
     "height": 125
    },
    "executionInfo": {
     "elapsed": 9427,
     "status": "ok",
     "timestamp": 1638285782935,
     "user": {
      "displayName": "Anubrata Das",
      "photoUrl": "https://lh3.googleusercontent.com/a-/AOh14GiI2340pPpSj6e4aG_4urL4HRwW3MRXEf5aoo2_QA=s64",
      "userId": "08781375266004215524"
     },
     "user_tz": -330
    },
    "id": "7gTXlkwu_mzf",
    "outputId": "3c4f1679-22fc-496e-bbd7-ce778f5dc86a"
   },
   "outputs": [
    {
     "data": {
      "application/javascript": [
       "window.require && require([\"base/js/namespace\"],function(Jupyter){Jupyter.notebook.save_checkpoint()})"
      ],
      "text/plain": [
       "<IPython.core.display.Javascript object>"
      ]
     },
     "metadata": {},
     "output_type": "display_data"
    },
    {
     "name": "stdout",
     "output_type": "stream",
     "text": [
      "[jovian] Updating notebook \"anubratadas/classification-of-cancer-mutations\" on https://jovian.ai/\n",
      "[jovian] Committed successfully! https://jovian.ai/anubratadas/classification-of-cancer-mutations\n"
     ]
    },
    {
     "data": {
      "text/plain": [
       "'https://jovian.ai/anubratadas/classification-of-cancer-mutations'"
      ]
     },
     "execution_count": 2,
     "metadata": {},
     "output_type": "execute_result"
    }
   ],
   "source": [
    "# Execute this to save new versions of the notebook\n",
    "jovian.commit(project=\"jovian-ml-project-030122\",filename=\"jovian-ml-project-030122\")"
   ]
  },
  {
   "cell_type": "markdown",
   "metadata": {},
   "source": [
    "### <font color='green'>Import the essential libraries</font>"
   ]
  },
  {
   "cell_type": "code",
   "execution_count": 3,
   "metadata": {
    "executionInfo": {
     "elapsed": 13,
     "status": "ok",
     "timestamp": 1638285789225,
     "user": {
      "displayName": "Anubrata Das",
      "photoUrl": "https://lh3.googleusercontent.com/a-/AOh14GiI2340pPpSj6e4aG_4urL4HRwW3MRXEf5aoo2_QA=s64",
      "userId": "08781375266004215524"
     },
     "user_tz": -330
    },
    "id": "AEM-Rd_A_mzj"
   },
   "outputs": [],
   "source": [
    "import jovian\n",
    "import pandas as pd\n",
    "import numpy as np\n",
    "import requests\n",
    "import xml.etree.ElementTree as ET\n",
    "import time\n",
    "import re\n",
    "from tqdm import tqdm\n",
    "%matplotlib inline"
   ]
  },
  {
   "cell_type": "code",
   "execution_count": 4,
   "metadata": {
    "executionInfo": {
     "elapsed": 12,
     "status": "ok",
     "timestamp": 1638285789226,
     "user": {
      "displayName": "Anubrata Das",
      "photoUrl": "https://lh3.googleusercontent.com/a-/AOh14GiI2340pPpSj6e4aG_4urL4HRwW3MRXEf5aoo2_QA=s64",
      "userId": "08781375266004215524"
     },
     "user_tz": -330
    },
    "id": "lv5xwSHT_mzk"
   },
   "outputs": [],
   "source": [
    "pd.set_option('display.max_columns', None)\n",
    "pd.set_option('display.max_rows', None)\n",
    "import warnings\n",
    "warnings.simplefilter(action='ignore')"
   ]
  },
  {
   "cell_type": "code",
   "execution_count": 5,
   "metadata": {},
   "outputs": [],
   "source": [
    "import seaborn as sns\n",
    "import matplotlib\n",
    "import matplotlib.pyplot as plt\n",
    "%matplotlib inline\n",
    "sns.set_style('darkgrid')\n",
    "matplotlib.rcParams['font.size'] = 14\n",
    "matplotlib.rcParams['figure.figsize'] = (9, 5)\n",
    "matplotlib.rcParams['figure.facecolor'] = '#00000000'"
   ]
  },
  {
   "cell_type": "code",
   "execution_count": 6,
   "metadata": {},
   "outputs": [],
   "source": [
    "tqdm.pandas(desc=\"progress bar\")"
   ]
  },
  {
   "cell_type": "markdown",
   "metadata": {},
   "source": [
    " ### <font style=\"font-size:18px;font-family:arial;color:green;text-indent:100px;line-height: 0.8;word-spacing: 10px\"> A cancerous tissue can have thousands of genetic mutations (Variations), which are discovered using genome sequencing. But the challenge is distinguishing the mutations that contribute to tumor growth (drivers) from the neutral mutations (passengers). Currently this interpretation of genetic mutations is being done manually. This is a very time-consuming task where a clinical pathologist has to manually review and classify every single genetic mutation based on evidence from text-based clinical literature. For this competition MSKCC is making available an expert-annotated knowledge base where world-class researchers and oncologists have manually annotated thousands of mutations. MSKCC intends the Data scientist to develop a Machine Learning algorithm that, using this knowledge base as a baseline, automatically classifies genetic variations.</font>"
   ]
  },
  {
   "cell_type": "markdown",
   "metadata": {},
   "source": [
    "<a id='top'>**Beginning of Notebook**</a>"
   ]
  },
  {
   "cell_type": "markdown",
   "metadata": {},
   "source": [
    "[model train text data](#train_data)"
   ]
  },
  {
   "cell_type": "markdown",
   "metadata": {},
   "source": [
    "### <font color='green'>Exploratory Data Analysis</font>"
   ]
  },
  {
   "cell_type": "markdown",
   "metadata": {},
   "source": [
    "###  references\n",
    "  - https://github.com/ghostintheshellarise/2021HackForRare\n",
    "  - https://widdowquinn.github.io/2018-03-06-ibioic/02-sequence_databases/09-KEGG_programming.html\n",
    "  - https://bioservices.readthedocs.io/en/master/kegg_tutorial.html\n",
    "  - https://bioservices.readthedocs.io/en/master/index.html"
   ]
  },
  {
   "cell_type": "markdown",
   "metadata": {},
   "source": [
    "#### train data"
   ]
  },
  {
   "cell_type": "code",
   "execution_count": 7,
   "metadata": {},
   "outputs": [],
   "source": [
    "train_text_df = pd.read_csv('training_text.zip', sep=\"\\|\\|\", encoding=\"utf-8\",engine=\"python\", skiprows=1, names=[\"ID\", \"Text\"],compression='zip')"
   ]
  },
  {
   "cell_type": "code",
   "execution_count": 8,
   "metadata": {},
   "outputs": [],
   "source": [
    "train_variant_df = pd.read_csv('training_variants.zip',compression='zip')"
   ]
  },
  {
   "cell_type": "code",
   "execution_count": 9,
   "metadata": {},
   "outputs": [
    {
     "data": {
      "text/plain": [
       "((3321, 2), (3321, 4))"
      ]
     },
     "execution_count": 9,
     "metadata": {},
     "output_type": "execute_result"
    }
   ],
   "source": [
    "train_text_df.shape, train_variant_df.shape"
   ]
  },
  {
   "cell_type": "code",
   "execution_count": 10,
   "metadata": {},
   "outputs": [
    {
     "data": {
      "text/plain": [
       "(Index(['ID', 'Text'], dtype='object'),\n",
       " Index(['ID', 'Gene', 'Variation', 'Class'], dtype='object'))"
      ]
     },
     "execution_count": 10,
     "metadata": {},
     "output_type": "execute_result"
    }
   ],
   "source": [
    "train_text_df.columns, train_variant_df.columns"
   ]
  },
  {
   "cell_type": "code",
   "execution_count": 11,
   "metadata": {},
   "outputs": [],
   "source": [
    "# merging the text and variation data\n",
    "train_df = pd.merge(train_variant_df,train_text_df,on='ID')"
   ]
  },
  {
   "cell_type": "code",
   "execution_count": 12,
   "metadata": {},
   "outputs": [
    {
     "data": {
      "text/html": [
       "<div>\n",
       "<style scoped>\n",
       "    .dataframe tbody tr th:only-of-type {\n",
       "        vertical-align: middle;\n",
       "    }\n",
       "\n",
       "    .dataframe tbody tr th {\n",
       "        vertical-align: top;\n",
       "    }\n",
       "\n",
       "    .dataframe thead th {\n",
       "        text-align: right;\n",
       "    }\n",
       "</style>\n",
       "<table border=\"1\" class=\"dataframe\">\n",
       "  <thead>\n",
       "    <tr style=\"text-align: right;\">\n",
       "      <th></th>\n",
       "      <th>ID</th>\n",
       "      <th>Text</th>\n",
       "    </tr>\n",
       "  </thead>\n",
       "  <tbody>\n",
       "    <tr>\n",
       "      <th>0</th>\n",
       "      <td>0</td>\n",
       "      <td>Cyclin-dependent kinases (CDKs) regulate a var...</td>\n",
       "    </tr>\n",
       "    <tr>\n",
       "      <th>1</th>\n",
       "      <td>1</td>\n",
       "      <td>Abstract Background  Non-small cell lung canc...</td>\n",
       "    </tr>\n",
       "    <tr>\n",
       "      <th>2</th>\n",
       "      <td>2</td>\n",
       "      <td>Abstract Background  Non-small cell lung canc...</td>\n",
       "    </tr>\n",
       "    <tr>\n",
       "      <th>3</th>\n",
       "      <td>3</td>\n",
       "      <td>Recent evidence has demonstrated that acquired...</td>\n",
       "    </tr>\n",
       "  </tbody>\n",
       "</table>\n",
       "</div>"
      ],
      "text/plain": [
       "   ID                                               Text\n",
       "0   0  Cyclin-dependent kinases (CDKs) regulate a var...\n",
       "1   1   Abstract Background  Non-small cell lung canc...\n",
       "2   2   Abstract Background  Non-small cell lung canc...\n",
       "3   3  Recent evidence has demonstrated that acquired..."
      ]
     },
     "execution_count": 12,
     "metadata": {},
     "output_type": "execute_result"
    }
   ],
   "source": [
    "train_text_df.head(n=4)"
   ]
  },
  {
   "cell_type": "code",
   "execution_count": 13,
   "metadata": {},
   "outputs": [
    {
     "data": {
      "text/html": [
       "<div>\n",
       "<style scoped>\n",
       "    .dataframe tbody tr th:only-of-type {\n",
       "        vertical-align: middle;\n",
       "    }\n",
       "\n",
       "    .dataframe tbody tr th {\n",
       "        vertical-align: top;\n",
       "    }\n",
       "\n",
       "    .dataframe thead th {\n",
       "        text-align: right;\n",
       "    }\n",
       "</style>\n",
       "<table border=\"1\" class=\"dataframe\">\n",
       "  <thead>\n",
       "    <tr style=\"text-align: right;\">\n",
       "      <th></th>\n",
       "      <th>ID</th>\n",
       "      <th>Gene</th>\n",
       "      <th>Variation</th>\n",
       "      <th>Class</th>\n",
       "    </tr>\n",
       "  </thead>\n",
       "  <tbody>\n",
       "    <tr>\n",
       "      <th>0</th>\n",
       "      <td>0</td>\n",
       "      <td>FAM58A</td>\n",
       "      <td>Truncating Mutations</td>\n",
       "      <td>1</td>\n",
       "    </tr>\n",
       "    <tr>\n",
       "      <th>1</th>\n",
       "      <td>1</td>\n",
       "      <td>CBL</td>\n",
       "      <td>W802*</td>\n",
       "      <td>2</td>\n",
       "    </tr>\n",
       "    <tr>\n",
       "      <th>2</th>\n",
       "      <td>2</td>\n",
       "      <td>CBL</td>\n",
       "      <td>Q249E</td>\n",
       "      <td>2</td>\n",
       "    </tr>\n",
       "    <tr>\n",
       "      <th>3</th>\n",
       "      <td>3</td>\n",
       "      <td>CBL</td>\n",
       "      <td>N454D</td>\n",
       "      <td>3</td>\n",
       "    </tr>\n",
       "    <tr>\n",
       "      <th>4</th>\n",
       "      <td>4</td>\n",
       "      <td>CBL</td>\n",
       "      <td>L399V</td>\n",
       "      <td>4</td>\n",
       "    </tr>\n",
       "  </tbody>\n",
       "</table>\n",
       "</div>"
      ],
      "text/plain": [
       "   ID    Gene             Variation  Class\n",
       "0   0  FAM58A  Truncating Mutations      1\n",
       "1   1     CBL                 W802*      2\n",
       "2   2     CBL                 Q249E      2\n",
       "3   3     CBL                 N454D      3\n",
       "4   4     CBL                 L399V      4"
      ]
     },
     "execution_count": 13,
     "metadata": {},
     "output_type": "execute_result"
    }
   ],
   "source": [
    "train_variant_df.head()"
   ]
  },
  {
   "cell_type": "code",
   "execution_count": 14,
   "metadata": {},
   "outputs": [
    {
     "data": {
      "text/plain": [
       "(3321, 5)"
      ]
     },
     "execution_count": 14,
     "metadata": {},
     "output_type": "execute_result"
    }
   ],
   "source": [
    "train_df.shape"
   ]
  },
  {
   "cell_type": "code",
   "execution_count": 15,
   "metadata": {},
   "outputs": [],
   "source": [
    "# taking a sample of the dataset\n",
    "#train_df = train_df.sample(frac=0.6,random_state=222)"
   ]
  },
  {
   "cell_type": "markdown",
   "metadata": {},
   "source": [
    "We have taken a sample of the training data"
   ]
  },
  {
   "cell_type": "code",
   "execution_count": 16,
   "metadata": {},
   "outputs": [
    {
     "data": {
      "text/html": [
       "<div>\n",
       "<style scoped>\n",
       "    .dataframe tbody tr th:only-of-type {\n",
       "        vertical-align: middle;\n",
       "    }\n",
       "\n",
       "    .dataframe tbody tr th {\n",
       "        vertical-align: top;\n",
       "    }\n",
       "\n",
       "    .dataframe thead th {\n",
       "        text-align: right;\n",
       "    }\n",
       "</style>\n",
       "<table border=\"1\" class=\"dataframe\">\n",
       "  <thead>\n",
       "    <tr style=\"text-align: right;\">\n",
       "      <th></th>\n",
       "      <th>ID</th>\n",
       "      <th>Gene</th>\n",
       "      <th>Variation</th>\n",
       "      <th>Class</th>\n",
       "      <th>Text</th>\n",
       "    </tr>\n",
       "  </thead>\n",
       "  <tbody>\n",
       "    <tr>\n",
       "      <th>0</th>\n",
       "      <td>0</td>\n",
       "      <td>FAM58A</td>\n",
       "      <td>Truncating Mutations</td>\n",
       "      <td>1</td>\n",
       "      <td>Cyclin-dependent kinases (CDKs) regulate a var...</td>\n",
       "    </tr>\n",
       "    <tr>\n",
       "      <th>1</th>\n",
       "      <td>1</td>\n",
       "      <td>CBL</td>\n",
       "      <td>W802*</td>\n",
       "      <td>2</td>\n",
       "      <td>Abstract Background  Non-small cell lung canc...</td>\n",
       "    </tr>\n",
       "    <tr>\n",
       "      <th>2</th>\n",
       "      <td>2</td>\n",
       "      <td>CBL</td>\n",
       "      <td>Q249E</td>\n",
       "      <td>2</td>\n",
       "      <td>Abstract Background  Non-small cell lung canc...</td>\n",
       "    </tr>\n",
       "    <tr>\n",
       "      <th>3</th>\n",
       "      <td>3</td>\n",
       "      <td>CBL</td>\n",
       "      <td>N454D</td>\n",
       "      <td>3</td>\n",
       "      <td>Recent evidence has demonstrated that acquired...</td>\n",
       "    </tr>\n",
       "    <tr>\n",
       "      <th>4</th>\n",
       "      <td>4</td>\n",
       "      <td>CBL</td>\n",
       "      <td>L399V</td>\n",
       "      <td>4</td>\n",
       "      <td>Oncogenic mutations in the monomeric Casitas B...</td>\n",
       "    </tr>\n",
       "  </tbody>\n",
       "</table>\n",
       "</div>"
      ],
      "text/plain": [
       "   ID    Gene             Variation  Class  \\\n",
       "0   0  FAM58A  Truncating Mutations      1   \n",
       "1   1     CBL                 W802*      2   \n",
       "2   2     CBL                 Q249E      2   \n",
       "3   3     CBL                 N454D      3   \n",
       "4   4     CBL                 L399V      4   \n",
       "\n",
       "                                                Text  \n",
       "0  Cyclin-dependent kinases (CDKs) regulate a var...  \n",
       "1   Abstract Background  Non-small cell lung canc...  \n",
       "2   Abstract Background  Non-small cell lung canc...  \n",
       "3  Recent evidence has demonstrated that acquired...  \n",
       "4  Oncogenic mutations in the monomeric Casitas B...  "
      ]
     },
     "execution_count": 16,
     "metadata": {},
     "output_type": "execute_result"
    }
   ],
   "source": [
    "train_df.head()"
   ]
  },
  {
   "cell_type": "markdown",
   "metadata": {},
   "source": [
    "![](https://imgur.com/kO8UAXb.png)"
   ]
  },
  {
   "cell_type": "markdown",
   "metadata": {},
   "source": [
    "image courtesy http://igbiologyy.blogspot.com/2014/03/chromosomes-dna-genes-and-alleles.html"
   ]
  },
  {
   "cell_type": "markdown",
   "metadata": {},
   "source": [
    "### <font style=\"font-size:18px;font-family:arial;color:green;text-indent:100px;line-height: 0.8;word-spacing: 10px\"><i>Gene</i> is a stretch of DNA encoding a specific functional molecule, a protein. Variation is <i>Mutation</i>,  which occurs in the gene and changes the function of the protein. Proteins are made up of 20 amino acids and these are designated by the following alphabets; A,R,N,D,C,Q,E,G,H,I,L,K,M,F,P,S,T,W,Y and V. In the variation column, the first alphabet is the orginal amino acid, the number is the physical position in the gene where the change has occured and the last alphabet is the changed amino acid. The Text dataset contains the information for the Gene, the Variation and the Class column in the variants dataset. The 2 datasets are linked by the common ID column</font>"
   ]
  },
  {
   "cell_type": "markdown",
   "metadata": {},
   "source": [
    "### The distribution of mutations per gene in the dataset"
   ]
  },
  {
   "cell_type": "code",
   "execution_count": 17,
   "metadata": {},
   "outputs": [],
   "source": [
    "mutation_pattern=train_df.groupby(['Gene'])[['Variation']].aggregate(\"count\").sort_values(\"Variation\",ascending=False)"
   ]
  },
  {
   "cell_type": "code",
   "execution_count": 18,
   "metadata": {},
   "outputs": [
    {
     "data": {
      "image/png": "[encoded data removed]",
      "text/plain": [
       "<Figure size 648x360 with 1 Axes>"
      ]
     },
     "metadata": {
      "needs_background": "light"
     },
     "output_type": "display_data"
    }
   ],
   "source": [
    "mutation_pattern[['Variation']].boxplot(vert=False);\n",
    "plt.title(\"The number of mutations per gene\");"
   ]
  },
  {
   "cell_type": "code",
   "execution_count": 19,
   "metadata": {},
   "outputs": [
    {
     "data": {
      "text/plain": [
       "(264, 1)"
      ]
     },
     "execution_count": 19,
     "metadata": {},
     "output_type": "execute_result"
    }
   ],
   "source": [
    "mutation_pattern.shape"
   ]
  },
  {
   "cell_type": "code",
   "execution_count": 20,
   "metadata": {},
   "outputs": [
    {
     "data": {
      "text/plain": [
       "4.0"
      ]
     },
     "execution_count": 20,
     "metadata": {},
     "output_type": "execute_result"
    }
   ],
   "source": [
    "mutation_pattern['Variation'].median()"
   ]
  },
  {
   "cell_type": "code",
   "execution_count": 21,
   "metadata": {},
   "outputs": [
    {
     "data": {
      "text/plain": [
       "0    1\n",
       "dtype: int64"
      ]
     },
     "execution_count": 21,
     "metadata": {},
     "output_type": "execute_result"
    }
   ],
   "source": [
    "mutation_pattern['Variation'].mode()"
   ]
  },
  {
   "cell_type": "code",
   "execution_count": 22,
   "metadata": {},
   "outputs": [],
   "source": [
    "from scipy.special import factorial\n",
    "\n",
    "def poisson(k, lamb):\n",
    "    \"\"\"poisson pdf, parameter lamb is the fit parameter\"\"\"\n",
    "    return (lamb**k/factorial(k)) * np.exp(-lamb)"
   ]
  },
  {
   "cell_type": "code",
   "execution_count": 23,
   "metadata": {},
   "outputs": [],
   "source": [
    "lamb=mutation_pattern['Variation'].mean()"
   ]
  },
  {
   "cell_type": "code",
   "execution_count": 24,
   "metadata": {},
   "outputs": [],
   "source": [
    "k=mutation_pattern['Variation'].to_numpy()"
   ]
  },
  {
   "cell_type": "code",
   "execution_count": 25,
   "metadata": {},
   "outputs": [],
   "source": [
    "k=np.sort(k)"
   ]
  },
  {
   "cell_type": "code",
   "execution_count": 26,
   "metadata": {},
   "outputs": [],
   "source": [
    "y=poisson(k,lamb)"
   ]
  },
  {
   "cell_type": "code",
   "execution_count": 27,
   "metadata": {},
   "outputs": [
    {
     "data": {
      "image/png": "[encoded data removed]",
      "text/plain": [
       "<Figure size 648x360 with 2 Axes>"
      ]
     },
     "metadata": {
      "needs_background": "light"
     },
     "output_type": "display_data"
    }
   ],
   "source": [
    "plt.subplot(1,2,1)\n",
    "mutation_pattern['Variation'].plot.density();\n",
    "plt.title(\"density plot of distribution of mutations\")\n",
    "plt.subplot(1,2,2)\n",
    "plt.plot(k,y);\n",
    "plt.title(\"poisson fit of distribution of mutations\")\n",
    "plt.tight_layout()"
   ]
  },
  {
   "cell_type": "code",
   "execution_count": 28,
   "metadata": {},
   "outputs": [],
   "source": [
    "mutated_genes=train_df['Gene'].to_list()"
   ]
  },
  {
   "cell_type": "markdown",
   "metadata": {},
   "source": [
    "### <font style=\"font-size:18px;font-family:arial;color:blue;text-indent:100px;line-height: 0.8;word-spacing: 10px\"> Mutation acquisition is a rare event. The Poisson distribution is used to describe the distribution of rare events in a large population. For example, at any particular time, there is a certain probability that a particular cell within a large population of cells will acquire a mutation.                                                                                   -Frank H. Stephenson, in Calculations for Molecular Biology and Biotechnology (Second Edition), 2010. The distribution of mutations per gene in this dataset follows the usual pattern of Poisson distribution seen in general for mutations. 3321 mutations, or variations, are distributed in 195 genes. 14 genes have more than 20 mutations, which are often classified in different classes. It would be worthwhile to investigate, why certain mutations are classified in certain specific classes </font>"
   ]
  },
  {
   "cell_type": "markdown",
   "metadata": {},
   "source": [
    "### <font color='green'>The distribution of classes in the dataset </font>"
   ]
  },
  {
   "cell_type": "code",
   "execution_count": 29,
   "metadata": {},
   "outputs": [
    {
     "data": {
      "image/png": "[encoded data removed]",
      "text/plain": [
       "<Figure size 648x360 with 1 Axes>"
      ]
     },
     "metadata": {
      "needs_background": "light"
     },
     "output_type": "display_data"
    }
   ],
   "source": [
    "train_df.value_counts('Class').plot(kind='bar');\n",
    "plt.title(\"Distribution of classes in the data\");"
   ]
  },
  {
   "cell_type": "markdown",
   "metadata": {},
   "source": [
    "### <font color='blue'>The mutations are distributed into 9 classes, from class 1 to class 9.The distribution of the classes is imbalanced </font>"
   ]
  },
  {
   "cell_type": "code",
   "execution_count": 30,
   "metadata": {},
   "outputs": [
    {
     "data": {
      "text/plain": [
       "12"
      ]
     },
     "execution_count": 30,
     "metadata": {},
     "output_type": "execute_result"
    }
   ],
   "source": [
    "train_df[train_df['Class']==8]['Gene'].nunique()"
   ]
  },
  {
   "cell_type": "code",
   "execution_count": 31,
   "metadata": {},
   "outputs": [
    {
     "data": {
      "text/plain": [
       "108"
      ]
     },
     "execution_count": 31,
     "metadata": {},
     "output_type": "execute_result"
    }
   ],
   "source": [
    "train_df[train_df['Class']==7]['Gene'].nunique()"
   ]
  },
  {
   "cell_type": "code",
   "execution_count": 33,
   "metadata": {},
   "outputs": [
    {
     "data": {
      "text/plain": [
       "142"
      ]
     },
     "execution_count": 33,
     "metadata": {},
     "output_type": "execute_result"
    }
   ],
   "source": [
    "train_df[train_df['Class']==1]['Gene'].nunique()"
   ]
  },
  {
   "cell_type": "markdown",
   "metadata": {},
   "source": [
    "### <font color=\"blue\"> The largest class, class 7, has 108 genes which is almost half of all the mutated genes, while class 8, the smallest class has 12 genes. Let us see if all genes in class 7 have the same number of mutations per gene </font>"
   ]
  },
  {
   "cell_type": "code",
   "execution_count": 39,
   "metadata": {},
   "outputs": [],
   "source": [
    "test_variant_df=pd.read_csv('test_variants.zip',compression='zip')"
   ]
  },
  {
   "cell_type": "code",
   "execution_count": 38,
   "metadata": {},
   "outputs": [
    {
     "data": {
      "text/html": [
       "<div>\n",
       "<style scoped>\n",
       "    .dataframe tbody tr th:only-of-type {\n",
       "        vertical-align: middle;\n",
       "    }\n",
       "\n",
       "    .dataframe tbody tr th {\n",
       "        vertical-align: top;\n",
       "    }\n",
       "\n",
       "    .dataframe thead th {\n",
       "        text-align: right;\n",
       "    }\n",
       "</style>\n",
       "<table border=\"1\" class=\"dataframe\">\n",
       "  <thead>\n",
       "    <tr style=\"text-align: right;\">\n",
       "      <th></th>\n",
       "      <th>ID</th>\n",
       "      <th>Gene</th>\n",
       "      <th>Variation</th>\n",
       "      <th>Class</th>\n",
       "    </tr>\n",
       "  </thead>\n",
       "  <tbody>\n",
       "    <tr>\n",
       "      <th>0</th>\n",
       "      <td>0</td>\n",
       "      <td>FAM58A</td>\n",
       "      <td>Truncating Mutations</td>\n",
       "      <td>1</td>\n",
       "    </tr>\n",
       "    <tr>\n",
       "      <th>1</th>\n",
       "      <td>1</td>\n",
       "      <td>CBL</td>\n",
       "      <td>W802*</td>\n",
       "      <td>2</td>\n",
       "    </tr>\n",
       "    <tr>\n",
       "      <th>2</th>\n",
       "      <td>2</td>\n",
       "      <td>CBL</td>\n",
       "      <td>Q249E</td>\n",
       "      <td>2</td>\n",
       "    </tr>\n",
       "    <tr>\n",
       "      <th>3</th>\n",
       "      <td>3</td>\n",
       "      <td>CBL</td>\n",
       "      <td>N454D</td>\n",
       "      <td>3</td>\n",
       "    </tr>\n",
       "    <tr>\n",
       "      <th>4</th>\n",
       "      <td>4</td>\n",
       "      <td>CBL</td>\n",
       "      <td>L399V</td>\n",
       "      <td>4</td>\n",
       "    </tr>\n",
       "  </tbody>\n",
       "</table>\n",
       "</div>"
      ],
      "text/plain": [
       "   ID    Gene             Variation  Class\n",
       "0   0  FAM58A  Truncating Mutations      1\n",
       "1   1     CBL                 W802*      2\n",
       "2   2     CBL                 Q249E      2\n",
       "3   3     CBL                 N454D      3\n",
       "4   4     CBL                 L399V      4"
      ]
     },
     "execution_count": 38,
     "metadata": {},
     "output_type": "execute_result"
    }
   ],
   "source": [
    "train_variant_df.head()"
   ]
  },
  {
   "cell_type": "markdown",
   "metadata": {},
   "source": [
    "#### <font color='blue'>Are the position of the mutations for a gene in the train and test datasets same ? </font>"
   ]
  },
  {
   "cell_type": "code",
   "execution_count": 44,
   "metadata": {},
   "outputs": [],
   "source": [
    "compare_train_test_variant=pd.merge(train_variant_df,test_variant_df,how='outer',left_on='Gene',right_on='Gene')"
   ]
  },
  {
   "cell_type": "code",
   "execution_count": 45,
   "metadata": {},
   "outputs": [
    {
     "data": {
      "text/html": [
       "<div>\n",
       "<style scoped>\n",
       "    .dataframe tbody tr th:only-of-type {\n",
       "        vertical-align: middle;\n",
       "    }\n",
       "\n",
       "    .dataframe tbody tr th {\n",
       "        vertical-align: top;\n",
       "    }\n",
       "\n",
       "    .dataframe thead th {\n",
       "        text-align: right;\n",
       "    }\n",
       "</style>\n",
       "<table border=\"1\" class=\"dataframe\">\n",
       "  <thead>\n",
       "    <tr style=\"text-align: right;\">\n",
       "      <th></th>\n",
       "      <th>ID_x</th>\n",
       "      <th>Gene</th>\n",
       "      <th>Variation_x</th>\n",
       "      <th>Class</th>\n",
       "      <th>ID_y</th>\n",
       "      <th>Variation_y</th>\n",
       "    </tr>\n",
       "  </thead>\n",
       "  <tbody>\n",
       "    <tr>\n",
       "      <th>1</th>\n",
       "      <td>1.0</td>\n",
       "      <td>CBL</td>\n",
       "      <td>W802*</td>\n",
       "      <td>2.0</td>\n",
       "      <td>1189.0</td>\n",
       "      <td>H398Q</td>\n",
       "    </tr>\n",
       "    <tr>\n",
       "      <th>2</th>\n",
       "      <td>1.0</td>\n",
       "      <td>CBL</td>\n",
       "      <td>W802*</td>\n",
       "      <td>2.0</td>\n",
       "      <td>4636.0</td>\n",
       "      <td>S80N</td>\n",
       "    </tr>\n",
       "    <tr>\n",
       "      <th>3</th>\n",
       "      <td>2.0</td>\n",
       "      <td>CBL</td>\n",
       "      <td>Q249E</td>\n",
       "      <td>2.0</td>\n",
       "      <td>1189.0</td>\n",
       "      <td>H398Q</td>\n",
       "    </tr>\n",
       "    <tr>\n",
       "      <th>4</th>\n",
       "      <td>2.0</td>\n",
       "      <td>CBL</td>\n",
       "      <td>Q249E</td>\n",
       "      <td>2.0</td>\n",
       "      <td>4636.0</td>\n",
       "      <td>S80N</td>\n",
       "    </tr>\n",
       "    <tr>\n",
       "      <th>5</th>\n",
       "      <td>3.0</td>\n",
       "      <td>CBL</td>\n",
       "      <td>N454D</td>\n",
       "      <td>3.0</td>\n",
       "      <td>1189.0</td>\n",
       "      <td>H398Q</td>\n",
       "    </tr>\n",
       "    <tr>\n",
       "      <th>6</th>\n",
       "      <td>3.0</td>\n",
       "      <td>CBL</td>\n",
       "      <td>N454D</td>\n",
       "      <td>3.0</td>\n",
       "      <td>4636.0</td>\n",
       "      <td>S80N</td>\n",
       "    </tr>\n",
       "    <tr>\n",
       "      <th>7</th>\n",
       "      <td>4.0</td>\n",
       "      <td>CBL</td>\n",
       "      <td>L399V</td>\n",
       "      <td>4.0</td>\n",
       "      <td>1189.0</td>\n",
       "      <td>H398Q</td>\n",
       "    </tr>\n",
       "    <tr>\n",
       "      <th>8</th>\n",
       "      <td>4.0</td>\n",
       "      <td>CBL</td>\n",
       "      <td>L399V</td>\n",
       "      <td>4.0</td>\n",
       "      <td>4636.0</td>\n",
       "      <td>S80N</td>\n",
       "    </tr>\n",
       "    <tr>\n",
       "      <th>9</th>\n",
       "      <td>5.0</td>\n",
       "      <td>CBL</td>\n",
       "      <td>V391I</td>\n",
       "      <td>4.0</td>\n",
       "      <td>1189.0</td>\n",
       "      <td>H398Q</td>\n",
       "    </tr>\n",
       "    <tr>\n",
       "      <th>10</th>\n",
       "      <td>5.0</td>\n",
       "      <td>CBL</td>\n",
       "      <td>V391I</td>\n",
       "      <td>4.0</td>\n",
       "      <td>4636.0</td>\n",
       "      <td>S80N</td>\n",
       "    </tr>\n",
       "    <tr>\n",
       "      <th>11</th>\n",
       "      <td>6.0</td>\n",
       "      <td>CBL</td>\n",
       "      <td>V430M</td>\n",
       "      <td>5.0</td>\n",
       "      <td>1189.0</td>\n",
       "      <td>H398Q</td>\n",
       "    </tr>\n",
       "    <tr>\n",
       "      <th>12</th>\n",
       "      <td>6.0</td>\n",
       "      <td>CBL</td>\n",
       "      <td>V430M</td>\n",
       "      <td>5.0</td>\n",
       "      <td>4636.0</td>\n",
       "      <td>S80N</td>\n",
       "    </tr>\n",
       "    <tr>\n",
       "      <th>13</th>\n",
       "      <td>7.0</td>\n",
       "      <td>CBL</td>\n",
       "      <td>Deletion</td>\n",
       "      <td>1.0</td>\n",
       "      <td>1189.0</td>\n",
       "      <td>H398Q</td>\n",
       "    </tr>\n",
       "    <tr>\n",
       "      <th>14</th>\n",
       "      <td>7.0</td>\n",
       "      <td>CBL</td>\n",
       "      <td>Deletion</td>\n",
       "      <td>1.0</td>\n",
       "      <td>4636.0</td>\n",
       "      <td>S80N</td>\n",
       "    </tr>\n",
       "    <tr>\n",
       "      <th>15</th>\n",
       "      <td>8.0</td>\n",
       "      <td>CBL</td>\n",
       "      <td>Y371H</td>\n",
       "      <td>4.0</td>\n",
       "      <td>1189.0</td>\n",
       "      <td>H398Q</td>\n",
       "    </tr>\n",
       "    <tr>\n",
       "      <th>16</th>\n",
       "      <td>8.0</td>\n",
       "      <td>CBL</td>\n",
       "      <td>Y371H</td>\n",
       "      <td>4.0</td>\n",
       "      <td>4636.0</td>\n",
       "      <td>S80N</td>\n",
       "    </tr>\n",
       "    <tr>\n",
       "      <th>17</th>\n",
       "      <td>9.0</td>\n",
       "      <td>CBL</td>\n",
       "      <td>C384R</td>\n",
       "      <td>4.0</td>\n",
       "      <td>1189.0</td>\n",
       "      <td>H398Q</td>\n",
       "    </tr>\n",
       "    <tr>\n",
       "      <th>18</th>\n",
       "      <td>9.0</td>\n",
       "      <td>CBL</td>\n",
       "      <td>C384R</td>\n",
       "      <td>4.0</td>\n",
       "      <td>4636.0</td>\n",
       "      <td>S80N</td>\n",
       "    </tr>\n",
       "    <tr>\n",
       "      <th>19</th>\n",
       "      <td>10.0</td>\n",
       "      <td>CBL</td>\n",
       "      <td>P395A</td>\n",
       "      <td>4.0</td>\n",
       "      <td>1189.0</td>\n",
       "      <td>H398Q</td>\n",
       "    </tr>\n",
       "    <tr>\n",
       "      <th>20</th>\n",
       "      <td>10.0</td>\n",
       "      <td>CBL</td>\n",
       "      <td>P395A</td>\n",
       "      <td>4.0</td>\n",
       "      <td>4636.0</td>\n",
       "      <td>S80N</td>\n",
       "    </tr>\n",
       "    <tr>\n",
       "      <th>21</th>\n",
       "      <td>11.0</td>\n",
       "      <td>CBL</td>\n",
       "      <td>K382E</td>\n",
       "      <td>4.0</td>\n",
       "      <td>1189.0</td>\n",
       "      <td>H398Q</td>\n",
       "    </tr>\n",
       "    <tr>\n",
       "      <th>22</th>\n",
       "      <td>11.0</td>\n",
       "      <td>CBL</td>\n",
       "      <td>K382E</td>\n",
       "      <td>4.0</td>\n",
       "      <td>4636.0</td>\n",
       "      <td>S80N</td>\n",
       "    </tr>\n",
       "    <tr>\n",
       "      <th>23</th>\n",
       "      <td>12.0</td>\n",
       "      <td>CBL</td>\n",
       "      <td>R420Q</td>\n",
       "      <td>4.0</td>\n",
       "      <td>1189.0</td>\n",
       "      <td>H398Q</td>\n",
       "    </tr>\n",
       "    <tr>\n",
       "      <th>24</th>\n",
       "      <td>12.0</td>\n",
       "      <td>CBL</td>\n",
       "      <td>R420Q</td>\n",
       "      <td>4.0</td>\n",
       "      <td>4636.0</td>\n",
       "      <td>S80N</td>\n",
       "    </tr>\n",
       "    <tr>\n",
       "      <th>25</th>\n",
       "      <td>13.0</td>\n",
       "      <td>CBL</td>\n",
       "      <td>C381A</td>\n",
       "      <td>4.0</td>\n",
       "      <td>1189.0</td>\n",
       "      <td>H398Q</td>\n",
       "    </tr>\n",
       "    <tr>\n",
       "      <th>26</th>\n",
       "      <td>13.0</td>\n",
       "      <td>CBL</td>\n",
       "      <td>C381A</td>\n",
       "      <td>4.0</td>\n",
       "      <td>4636.0</td>\n",
       "      <td>S80N</td>\n",
       "    </tr>\n",
       "    <tr>\n",
       "      <th>27</th>\n",
       "      <td>14.0</td>\n",
       "      <td>CBL</td>\n",
       "      <td>P428L</td>\n",
       "      <td>5.0</td>\n",
       "      <td>1189.0</td>\n",
       "      <td>H398Q</td>\n",
       "    </tr>\n",
       "    <tr>\n",
       "      <th>28</th>\n",
       "      <td>14.0</td>\n",
       "      <td>CBL</td>\n",
       "      <td>P428L</td>\n",
       "      <td>5.0</td>\n",
       "      <td>4636.0</td>\n",
       "      <td>S80N</td>\n",
       "    </tr>\n",
       "    <tr>\n",
       "      <th>29</th>\n",
       "      <td>15.0</td>\n",
       "      <td>CBL</td>\n",
       "      <td>D390Y</td>\n",
       "      <td>4.0</td>\n",
       "      <td>1189.0</td>\n",
       "      <td>H398Q</td>\n",
       "    </tr>\n",
       "    <tr>\n",
       "      <th>30</th>\n",
       "      <td>15.0</td>\n",
       "      <td>CBL</td>\n",
       "      <td>D390Y</td>\n",
       "      <td>4.0</td>\n",
       "      <td>4636.0</td>\n",
       "      <td>S80N</td>\n",
       "    </tr>\n",
       "    <tr>\n",
       "      <th>31</th>\n",
       "      <td>16.0</td>\n",
       "      <td>CBL</td>\n",
       "      <td>Truncating Mutations</td>\n",
       "      <td>1.0</td>\n",
       "      <td>1189.0</td>\n",
       "      <td>H398Q</td>\n",
       "    </tr>\n",
       "    <tr>\n",
       "      <th>32</th>\n",
       "      <td>16.0</td>\n",
       "      <td>CBL</td>\n",
       "      <td>Truncating Mutations</td>\n",
       "      <td>1.0</td>\n",
       "      <td>4636.0</td>\n",
       "      <td>S80N</td>\n",
       "    </tr>\n",
       "    <tr>\n",
       "      <th>33</th>\n",
       "      <td>17.0</td>\n",
       "      <td>CBL</td>\n",
       "      <td>Q367P</td>\n",
       "      <td>4.0</td>\n",
       "      <td>1189.0</td>\n",
       "      <td>H398Q</td>\n",
       "    </tr>\n",
       "    <tr>\n",
       "      <th>34</th>\n",
       "      <td>17.0</td>\n",
       "      <td>CBL</td>\n",
       "      <td>Q367P</td>\n",
       "      <td>4.0</td>\n",
       "      <td>4636.0</td>\n",
       "      <td>S80N</td>\n",
       "    </tr>\n",
       "    <tr>\n",
       "      <th>35</th>\n",
       "      <td>18.0</td>\n",
       "      <td>CBL</td>\n",
       "      <td>M374V</td>\n",
       "      <td>5.0</td>\n",
       "      <td>1189.0</td>\n",
       "      <td>H398Q</td>\n",
       "    </tr>\n",
       "    <tr>\n",
       "      <th>36</th>\n",
       "      <td>18.0</td>\n",
       "      <td>CBL</td>\n",
       "      <td>M374V</td>\n",
       "      <td>5.0</td>\n",
       "      <td>4636.0</td>\n",
       "      <td>S80N</td>\n",
       "    </tr>\n",
       "    <tr>\n",
       "      <th>37</th>\n",
       "      <td>19.0</td>\n",
       "      <td>CBL</td>\n",
       "      <td>Y371S</td>\n",
       "      <td>4.0</td>\n",
       "      <td>1189.0</td>\n",
       "      <td>H398Q</td>\n",
       "    </tr>\n",
       "    <tr>\n",
       "      <th>38</th>\n",
       "      <td>19.0</td>\n",
       "      <td>CBL</td>\n",
       "      <td>Y371S</td>\n",
       "      <td>4.0</td>\n",
       "      <td>4636.0</td>\n",
       "      <td>S80N</td>\n",
       "    </tr>\n",
       "    <tr>\n",
       "      <th>39</th>\n",
       "      <td>20.0</td>\n",
       "      <td>CBL</td>\n",
       "      <td>H94Y</td>\n",
       "      <td>6.0</td>\n",
       "      <td>1189.0</td>\n",
       "      <td>H398Q</td>\n",
       "    </tr>\n",
       "    <tr>\n",
       "      <th>40</th>\n",
       "      <td>20.0</td>\n",
       "      <td>CBL</td>\n",
       "      <td>H94Y</td>\n",
       "      <td>6.0</td>\n",
       "      <td>4636.0</td>\n",
       "      <td>S80N</td>\n",
       "    </tr>\n",
       "    <tr>\n",
       "      <th>41</th>\n",
       "      <td>21.0</td>\n",
       "      <td>CBL</td>\n",
       "      <td>C396R</td>\n",
       "      <td>4.0</td>\n",
       "      <td>1189.0</td>\n",
       "      <td>H398Q</td>\n",
       "    </tr>\n",
       "    <tr>\n",
       "      <th>42</th>\n",
       "      <td>21.0</td>\n",
       "      <td>CBL</td>\n",
       "      <td>C396R</td>\n",
       "      <td>4.0</td>\n",
       "      <td>4636.0</td>\n",
       "      <td>S80N</td>\n",
       "    </tr>\n",
       "    <tr>\n",
       "      <th>43</th>\n",
       "      <td>22.0</td>\n",
       "      <td>CBL</td>\n",
       "      <td>G375P</td>\n",
       "      <td>4.0</td>\n",
       "      <td>1189.0</td>\n",
       "      <td>H398Q</td>\n",
       "    </tr>\n",
       "    <tr>\n",
       "      <th>44</th>\n",
       "      <td>22.0</td>\n",
       "      <td>CBL</td>\n",
       "      <td>G375P</td>\n",
       "      <td>4.0</td>\n",
       "      <td>4636.0</td>\n",
       "      <td>S80N</td>\n",
       "    </tr>\n",
       "    <tr>\n",
       "      <th>45</th>\n",
       "      <td>23.0</td>\n",
       "      <td>CBL</td>\n",
       "      <td>S376F</td>\n",
       "      <td>4.0</td>\n",
       "      <td>1189.0</td>\n",
       "      <td>H398Q</td>\n",
       "    </tr>\n",
       "    <tr>\n",
       "      <th>46</th>\n",
       "      <td>23.0</td>\n",
       "      <td>CBL</td>\n",
       "      <td>S376F</td>\n",
       "      <td>4.0</td>\n",
       "      <td>4636.0</td>\n",
       "      <td>S80N</td>\n",
       "    </tr>\n",
       "    <tr>\n",
       "      <th>47</th>\n",
       "      <td>24.0</td>\n",
       "      <td>CBL</td>\n",
       "      <td>P417A</td>\n",
       "      <td>4.0</td>\n",
       "      <td>1189.0</td>\n",
       "      <td>H398Q</td>\n",
       "    </tr>\n",
       "    <tr>\n",
       "      <th>48</th>\n",
       "      <td>24.0</td>\n",
       "      <td>CBL</td>\n",
       "      <td>P417A</td>\n",
       "      <td>4.0</td>\n",
       "      <td>4636.0</td>\n",
       "      <td>S80N</td>\n",
       "    </tr>\n",
       "    <tr>\n",
       "      <th>49</th>\n",
       "      <td>25.0</td>\n",
       "      <td>CBL</td>\n",
       "      <td>H398Y</td>\n",
       "      <td>4.0</td>\n",
       "      <td>1189.0</td>\n",
       "      <td>H398Q</td>\n",
       "    </tr>\n",
       "    <tr>\n",
       "      <th>50</th>\n",
       "      <td>25.0</td>\n",
       "      <td>CBL</td>\n",
       "      <td>H398Y</td>\n",
       "      <td>4.0</td>\n",
       "      <td>4636.0</td>\n",
       "      <td>S80N</td>\n",
       "    </tr>\n",
       "  </tbody>\n",
       "</table>\n",
       "</div>"
      ],
      "text/plain": [
       "    ID_x Gene           Variation_x  Class    ID_y Variation_y\n",
       "1    1.0  CBL                 W802*    2.0  1189.0       H398Q\n",
       "2    1.0  CBL                 W802*    2.0  4636.0        S80N\n",
       "3    2.0  CBL                 Q249E    2.0  1189.0       H398Q\n",
       "4    2.0  CBL                 Q249E    2.0  4636.0        S80N\n",
       "5    3.0  CBL                 N454D    3.0  1189.0       H398Q\n",
       "6    3.0  CBL                 N454D    3.0  4636.0        S80N\n",
       "7    4.0  CBL                 L399V    4.0  1189.0       H398Q\n",
       "8    4.0  CBL                 L399V    4.0  4636.0        S80N\n",
       "9    5.0  CBL                 V391I    4.0  1189.0       H398Q\n",
       "10   5.0  CBL                 V391I    4.0  4636.0        S80N\n",
       "11   6.0  CBL                 V430M    5.0  1189.0       H398Q\n",
       "12   6.0  CBL                 V430M    5.0  4636.0        S80N\n",
       "13   7.0  CBL              Deletion    1.0  1189.0       H398Q\n",
       "14   7.0  CBL              Deletion    1.0  4636.0        S80N\n",
       "15   8.0  CBL                 Y371H    4.0  1189.0       H398Q\n",
       "16   8.0  CBL                 Y371H    4.0  4636.0        S80N\n",
       "17   9.0  CBL                 C384R    4.0  1189.0       H398Q\n",
       "18   9.0  CBL                 C384R    4.0  4636.0        S80N\n",
       "19  10.0  CBL                 P395A    4.0  1189.0       H398Q\n",
       "20  10.0  CBL                 P395A    4.0  4636.0        S80N\n",
       "21  11.0  CBL                 K382E    4.0  1189.0       H398Q\n",
       "22  11.0  CBL                 K382E    4.0  4636.0        S80N\n",
       "23  12.0  CBL                 R420Q    4.0  1189.0       H398Q\n",
       "24  12.0  CBL                 R420Q    4.0  4636.0        S80N\n",
       "25  13.0  CBL                 C381A    4.0  1189.0       H398Q\n",
       "26  13.0  CBL                 C381A    4.0  4636.0        S80N\n",
       "27  14.0  CBL                 P428L    5.0  1189.0       H398Q\n",
       "28  14.0  CBL                 P428L    5.0  4636.0        S80N\n",
       "29  15.0  CBL                 D390Y    4.0  1189.0       H398Q\n",
       "30  15.0  CBL                 D390Y    4.0  4636.0        S80N\n",
       "31  16.0  CBL  Truncating Mutations    1.0  1189.0       H398Q\n",
       "32  16.0  CBL  Truncating Mutations    1.0  4636.0        S80N\n",
       "33  17.0  CBL                 Q367P    4.0  1189.0       H398Q\n",
       "34  17.0  CBL                 Q367P    4.0  4636.0        S80N\n",
       "35  18.0  CBL                 M374V    5.0  1189.0       H398Q\n",
       "36  18.0  CBL                 M374V    5.0  4636.0        S80N\n",
       "37  19.0  CBL                 Y371S    4.0  1189.0       H398Q\n",
       "38  19.0  CBL                 Y371S    4.0  4636.0        S80N\n",
       "39  20.0  CBL                  H94Y    6.0  1189.0       H398Q\n",
       "40  20.0  CBL                  H94Y    6.0  4636.0        S80N\n",
       "41  21.0  CBL                 C396R    4.0  1189.0       H398Q\n",
       "42  21.0  CBL                 C396R    4.0  4636.0        S80N\n",
       "43  22.0  CBL                 G375P    4.0  1189.0       H398Q\n",
       "44  22.0  CBL                 G375P    4.0  4636.0        S80N\n",
       "45  23.0  CBL                 S376F    4.0  1189.0       H398Q\n",
       "46  23.0  CBL                 S376F    4.0  4636.0        S80N\n",
       "47  24.0  CBL                 P417A    4.0  1189.0       H398Q\n",
       "48  24.0  CBL                 P417A    4.0  4636.0        S80N\n",
       "49  25.0  CBL                 H398Y    4.0  1189.0       H398Q\n",
       "50  25.0  CBL                 H398Y    4.0  4636.0        S80N"
      ]
     },
     "execution_count": 45,
     "metadata": {},
     "output_type": "execute_result"
    }
   ],
   "source": [
    "compare_train_test_variant[compare_train_test_variant['Gene']=='CBL']"
   ]
  },
  {
   "cell_type": "markdown",
   "metadata": {},
   "source": [
    "#### <font color='blue'> The position and nature of mutations in the train and test dataset are different,and hence, we cannot transfer the class annotation directly from train to text </font>"
   ]
  },
  {
   "cell_type": "code",
   "execution_count": 63,
   "metadata": {},
   "outputs": [
    {
     "data": {
      "image/png": "[encoded data removed]",
      "text/plain": [
       "<Figure size 648x360 with 1 Axes>"
      ]
     },
     "metadata": {
      "needs_background": "light"
     },
     "output_type": "display_data"
    }
   ],
   "source": [
    "train_df[train_df['Class']==7].groupby('Gene')[['Variation']].count().boxplot(vert=False);"
   ]
  },
  {
   "cell_type": "code",
   "execution_count": 69,
   "metadata": {},
   "outputs": [
    {
     "data": {
      "text/plain": [
       "889"
      ]
     },
     "execution_count": 69,
     "metadata": {},
     "output_type": "execute_result"
    }
   ],
   "source": [
    "train_df[train_df['Class']==7]['Variation'].nunique()"
   ]
  },
  {
   "cell_type": "code",
   "execution_count": 47,
   "metadata": {},
   "outputs": [],
   "source": [
    "def gene_class(i):\n",
    "    return train_df[train_df['Class']==i]['Gene'].drop_duplicates().tolist()"
   ]
  },
  {
   "cell_type": "code",
   "execution_count": 81,
   "metadata": {},
   "outputs": [],
   "source": [
    "class_gene_list=[]\n",
    "for i in range(1,10):\n",
    "    var_name='class'+str(i)+\"_genes\"\n",
    "    var_name=gene_class(i)\n",
    "    class_gene_list.append(var_name)    "
   ]
  },
  {
   "cell_type": "markdown",
   "metadata": {},
   "source": [
    "### <font color='blue'> The pattern of mutations per gene, is same as the overall dataset and hence,no obvious numerical pattern is present in classifying the mutations in class 7. Let us furthere explore a few other possibilites for the classification </font>"
   ]
  },
  {
   "cell_type": "markdown",
   "metadata": {},
   "source": [
    "### <font color='green'>The Signalling Pathways in Cancer</font>"
   ]
  },
  {
   "cell_type": "markdown",
   "metadata": {},
   "source": [
    "![](https://i.imgur.com/yk4ib0M.jpg)"
   ]
  },
  {
   "cell_type": "markdown",
   "metadata": {},
   "source": [
    "### <font color='blue'> Proteins encoded by respective genes, function together in elaborate sequences called <i>Pathways<i> ,to create the final outcome. For cancer, the sequence mostly starts with a signal outside the cell. Proteins called receptors recieve the signal, and pass it on to a sequence of other proteins downstream,finally to a protein called Transcription Activator, which then switches other genes on and off to make the cancer cell survive and proliferate. Here, we will attempt to see, if the classification is based on these pathways, and we will test class 7 as an example </font>"
   ]
  },
  {
   "cell_type": "markdown",
   "metadata": {},
   "source": [
    "### Pathwy analysis with Bioservices library and KEGG Database"
   ]
  },
  {
   "cell_type": "code",
   "execution_count": 73,
   "metadata": {},
   "outputs": [],
   "source": [
    "#!pip install bioservices"
   ]
  },
  {
   "cell_type": "markdown",
   "metadata": {},
   "source": [
    "Bioservices is a Python package that provides access to many Bioinformatices Web Services (e.g., UniProt) and a framework to easily implement Web Services wrappers (based on WSDL/SOAP or REST protocols)"
   ]
  },
  {
   "cell_type": "code",
   "execution_count": 51,
   "metadata": {},
   "outputs": [],
   "source": [
    "from Bio.KEGG import REST\n",
    "from bioservices.kegg import KEGG\n",
    "#from collections import deque\n",
    "import networkx as nx\n",
    "from IPython.display import Image\n",
    "import time\n",
    "import re"
   ]
  },
  {
   "cell_type": "markdown",
   "metadata": {},
   "source": [
    "#### <font color ='blue'>KEGG PATHWAY is a collection of manually drawn pathway maps representing our knowledge of the molecular interaction, reaction and relation networks for:\n",
    "1. Metabolism\n",
    "    Global/overview   Carbohydrate   Energy   Lipid   Nucleotide   Amino acid   Other amino   Glycan\n",
    "    Cofactor/vitamin   Terpenoid/PK   Other secondary metabolite   Xenobiotics   Chemical structure\n",
    "2. Genetic Information Processing\n",
    "3. Environmental Information Processing\n",
    "4. Cellular Processes\n",
    "5. Organismal Systems\n",
    "6. Human Diseases\n",
    "7. Drug Development\n",
    "</font>    "
   ]
  },
  {
   "cell_type": "code",
   "execution_count": 52,
   "metadata": {},
   "outputs": [],
   "source": [
    "kegg_obj=KEGG()"
   ]
  },
  {
   "cell_type": "markdown",
   "metadata": {},
   "source": [
    "#### the get method gets the data pertainng to ALK gene *'ALK') for humans ('hsa') from the KEGG database"
   ]
  },
  {
   "cell_type": "code",
   "execution_count": 53,
   "metadata": {},
   "outputs": [
    {
     "name": "stdout",
     "output_type": "stream",
     "text": [
      "ENTRY       238               CDS       T01001\n",
      "SYMBOL      ALK, ALK1, CD246, NBLST3\n",
      "NAME        (RefSeq) ALK receptor tyrosine kinase\n",
      "ORTHOLOGY   K05119  anaplastic lymphoma kinase [EC:2.7.10.1]\n",
      "ORGANISM    hsa  Homo sapiens (human)\n",
      "PATHWAY     hsa05200  Pathways in cancer\n",
      "            hsa05223  Non-small cell lung cancer\n",
      "            hsa05235  PD-L1 expression and PD-1 checkpoint pathway in cancer\n",
      "NETWORK     nt06210  ERK signaling\n",
      "            nt06214  PI3K signaling\n",
      "            nt06219  JAK-STAT signaling\n",
      "            nt06220  Calcium signaling\n",
      "            nt06266  Non-small cell lung cancer\n",
      "  ELEMENT   N00007  EML4-ALK fusion kinase to RAS-ERK signaling pathway\n",
      "            N00025  EML4-ALK fusion kinase to PLCG-ERK signaling pathway\n",
      "            N00047  EML4-ALK fusion kinase to PI3K signaling pathway\n",
      "            N00105  EML4-ALK fusion kinase to Jak-STAT signaling pathway\n",
      "            N10003  First-generation tyrosine kinase inhibitor to ALK fusion\n",
      "            N10004  Second/third-generation tyrosine kinase inhibitor to ALK fusion\n",
      "DISEASE     H00014  Non-small cell lung cancer\n",
      "            H00043  Neuroblastoma\n",
      "            H01601  Anaplastic large-cell lymphoma\n",
      "            H01892  Peripheral T cell lymphoma\n",
      "DRUG_TARGET Alectinib (DG01625): D10450<JP/US> D10542\n",
      "            Brigatinib: D10866<JP/US>\n",
      "            Ceritinib: D10551<JP/US>\n",
      "            Crizotinib: D09731<JP/US>\n",
      "            Ensartinib (DG02996): D11346 D11356\n",
      "            Entrectinib: D10926<JP/US>\n",
      "            Lorlatinib: D11012<JP/US> D11012<JP/US>\n",
      "            Repotrectinib: D11454\n",
      "BRITE       KEGG Orthology (KO) [BR:hsa00001]\n",
      "             09160 Human Diseases\n",
      "              09161 Cancer: overview\n",
      "               05200 Pathways in cancer\n",
      "                238 (ALK)\n",
      "               05235 PD-L1 expression and PD-1 checkpoint pathway in cancer\n",
      "                238 (ALK)\n",
      "              09162 Cancer: specific types\n",
      "               05223 Non-small cell lung cancer\n",
      "                238 (ALK)\n",
      "             09180 Brite Hierarchies\n",
      "              09181 Protein families: metabolism\n",
      "               01001 Protein kinases [BR:hsa01001]\n",
      "                238 (ALK)\n",
      "              09183 Protein families: signaling and cellular processes\n",
      "               04090 CD molecules [BR:hsa04090]\n",
      "                238 (ALK)\n",
      "            Enzymes [BR:hsa01000]\n",
      "             2. Transferases\n",
      "              2.7  Transferring phosphorus-containing groups\n",
      "               2.7.10  Protein-tyrosine kinases\n",
      "                2.7.10.1  receptor protein-tyrosine kinase\n",
      "                 238 (ALK)\n",
      "            Protein kinases [BR:hsa01001]\n",
      "             Receptor tyrosine kinases (RTK)\n",
      "              ALK family\n",
      "               238 (ALK)\n",
      "            CD molecules [BR:hsa04090]\n",
      "             Proteins\n",
      "              238 (ALK)\n",
      "POSITION    2:complement(29190992..29921589)\n",
      "MOTIF       Pfam: PK_Tyr_Ser-Thr Pkinase MAM Gly_rich Ldl_recept_a FXa_inhibition\n",
      "DBLINKS     NCBI-GeneID: 238\n",
      "            NCBI-ProteinID: NP_004295\n",
      "            OMIM: 105590\n",
      "            HGNC: 427\n",
      "            Ensembl: ENSG00000171094\n",
      "            Vega: OTTHUMG00000152034\n",
      "            Pharos: Q9UM73(Tclin)\n",
      "            UniProt: Q9UM73 B6D4Y2\n",
      "            PDB: 2KUP 2KUQ 2XB7 2XBA 2XP2 2YFX 2YHV 2YJR 2YJS 2YS5 2YT2 3AOX 3L9P 3LCS 3LCT 4ANL 4ANQ 4ANS 4CCB 4CCU 4CD0 4CLI 4CLJ 4CMO 4CMT 4CMU 4CNH 4CTB 4CTC 4DCE 4FNW 4FNX 4FNY 4FNZ 4FOB 4FOC 4FOD 4JOA 4MKC 4TT7 4Z55 5A9U 5AA8 5AA9 5AAA 5AAB 5AAC 5FTO 5FTQ 5IMX 5IUG 5IUH 5IUI 5KZ0 5VZ5 6AT9 6CDT 6E0R 6EBW 6EDL 6MX8 7BTT 7JY4 7JYR 7JYS 7JYT\n",
      "AASEQ       1620\n",
      "            MGAIGLLWLLPLLLSTAAVGSGMGTGQRAGSPAAGPPLQPREPLSYSRLQRKSLAVDFVV\n",
      "            PSLFRVYARDLLLPPSSSELKAGRPEARGSLALDCAPLLRLLGPAPGVSWTAGSPAPAEA\n",
      "            RTLSRVLKGGSVRKLRRAKQLVLELGEEAILEGCVGPPGEAAVGLLQFNLSELFSWWIRQ\n",
      "            GEGRLRIRLMPEKKASEVGREGRLSAAIRASQPRLLFQIFGTGHSSLESPTNMPSPSPDY\n",
      "            FTWNLTWIMKDSFPFLSHRSRYGLECSFDFPCELEYSPPLHDLRNQSWSWRRIPSEEASQ\n",
      "            MDLLDGPGAERSKEMPRGSFLLLNTSADSKHTILSPWMRSSSEHCTLAVSVHRHLQPSGR\n",
      "            YIAQLLPHNEAAREILLMPTPGKHGWTVLQGRIGRPDNPFRVALEYISSGNRSLSAVDFF\n",
      "            ALKNCSEGTSPGSKMALQSSFTCWNGTVLQLGQACDFHQDCAQGEDESQMCRKLPVGFYC\n",
      "            NFEDGFCGWTQGTLSPHTPQWQVRTLKDARFQDHQDHALLLSTTDVPASESATVTSATFP\n",
      "            APIKSSPCELRMSWLIRGVLRGNVSLVLVENKTGKEQGRMVWHVAAYEGLSLWQWMVLPL\n",
      "            LDVSDRFWLQMVAWWGQGSRAIVAFDNISISLDCYLTISGEDKILQNTAPKSRNLFERNP\n",
      "            NKELKPGENSPRQTPIFDPTVHWLFTTCGASGPHGPTQAQCNNAYQNSNLSVEVGSEGPL\n",
      "            KGIQIWKVPATDTYSISGYGAAGGKGGKNTMMRSHGVSVLGIFNLEKDDMLYILVGQQGE\n",
      "            DACPSTNQLIQKVCIGENNVIEEEIRVNRSVHEWAGGGGGGGGATYVFKMKDGVPVPLII\n",
      "            AAGGGGRAYGAKTDTFHPERLENNSSVLGLNGNSGAAGGGGGWNDNTSLLWAGKSLQEGA\n",
      "            TGGHSCPQAMKKWGWETRGGFGGGGGGCSSGGGGGGYIGGNAASNNDPEMDGEDGVSFIS\n",
      "            PLGILYTPALKVMEGHGEVNIKHYLNCSHCEVDECHMDPESHKVICFCDHGTVLAEDGVS\n",
      "            CIVSPTPEPHLPLSLILSVVTSALVAALVLAFSGIMIVYRRKHQELQAMQMELQSPEYKL\n",
      "            SKLRTSTIMTDYNPNYCFAGKTSSISDLKEVPRKNITLIRGLGHGAFGEVYEGQVSGMPN\n",
      "            DPSPLQVAVKTLPEVCSEQDELDFLMEALIISKFNHQNIVRCIGVSLQSLPRFILLELMA\n",
      "            GGDLKSFLRETRPRPSQPSSLAMLDLLHVARDIACGCQYLEENHFIHRDIAARNCLLTCP\n",
      "            GPGRVAKIGDFGMARDIYRASYYRKGGCAMLPVKWMPPEAFMEGIFTSKTDTWSFGVLLW\n",
      "            EIFSLGYMPYPSKSNQEVLEFVTSGGRMDPPKNCPGPVYRIMTQCWQHQPEDRPNFAIIL\n",
      "            ERIEYCTQDPDVINTALPIEYGPLVEEEEKVPVRPKDPEGVPPLLVSQQAKREEERSPAA\n",
      "            PPPLPTTSSGKAAKKPTAAEISVRVPRGPAVEGGHVNMAFSQSNPPSELHKVHGSRNKPT\n",
      "            SLWNPTYGSWFTEKPTKKNNPIAKKEPHDRGNLGLEGSCTVPPNVATGRLPGASLLLEPS\n",
      "            SLTANMKEVPLFRLRHFPCGNVNYGYQQQGLPLEAATAPGAGHYEDTILKSKNSMNQPGP\n",
      "NTSEQ       4863\n",
      "            atgggagccatcgggctcctgtggctcctgccgctgctgctttccacggcagctgtgggc\n",
      "            tccgggatggggaccggccagcgcgcgggctccccagctgcggggccgccgctgcagccc\n",
      "            cgggagccactcagctactcgcgcctgcagaggaagagtctggcagttgacttcgtggtg\n",
      "            ccctcgctcttccgtgtctacgcccgggacctactgctgccaccatcctcctcggagctg\n",
      "            aaggctggcaggcccgaggcccgcggctcgctagctctggactgcgccccgctgctcagg\n",
      "            ttgctggggccggcgccgggggtctcctggaccgccggttcaccagccccggcagaggcc\n",
      "            cggacgctgtccagggtgctgaagggcggctccgtgcgcaagctccggcgtgccaagcag\n",
      "            ttggtgctggagctgggcgaggaggcgatcttggagggttgcgtcgggccccccggggag\n",
      "            gcggctgtggggctgctccagttcaatctcagcgagctgttcagttggtggattcgccaa\n",
      "            ggcgaagggcgactgaggatccgcctgatgcccgagaagaaggcgtcggaagtgggcaga\n",
      "            gagggaaggctgtccgcggcaattcgcgcctcccagccccgccttctcttccagatcttc\n",
      "            gggactggtcatagctccttggaatcaccaacaaacatgccttctccttctcctgattat\n",
      "            tttacatggaatctcacctggataatgaaagactccttccctttcctgtctcatcgcagc\n",
      "            cgatatggtctggagtgcagctttgacttcccctgtgagctggagtattcccctccactg\n",
      "            catgacctcaggaaccagagctggtcctggcgccgcatcccctccgaggaggcctcccag\n",
      "            atggacttgctggatgggcctggggcagagcgttctaaggagatgcccagaggctccttt\n",
      "            ctccttctcaacacctcagctgactccaagcacaccatcctgagtccgtggatgaggagc\n",
      "            agcagtgagcactgcacactggccgtctcggtgcacaggcacctgcagccctctggaagg\n",
      "            tacattgcccagctgctgccccacaacgaggctgcaagagagatcctcctgatgcccact\n",
      "            ccagggaagcatggttggacagtgctccagggaagaatcgggcgtccagacaacccattt\n",
      "            cgagtggccctggaatacatctccagtggaaaccgcagcttgtctgcagtggacttcttt\n",
      "            gccctgaagaactgcagtgaaggaacatccccaggctccaagatggccctgcagagctcc\n",
      "            ttcacttgttggaatgggacagtcctccagcttgggcaggcctgtgacttccaccaggac\n",
      "            tgtgcccagggagaagatgagagccagatgtgccggaaactgcctgtgggtttttactgc\n",
      "            aactttgaagatggcttctgtggctggacccaaggcacactgtcaccccacactcctcaa\n",
      "            tggcaggtcaggaccctaaaggatgcccggttccaggaccaccaagaccatgctctattg\n",
      "            ctcagtaccactgatgtccccgcttctgaaagtgctacagtgaccagtgctacgtttcct\n",
      "            gcaccgatcaagagctctccatgtgagctccgaatgtcctggctcattcgtggagtcttg\n",
      "            aggggaaacgtgtccttggtgctagtggagaacaaaaccgggaaggagcaaggcaggatg\n",
      "            gtctggcatgtcgccgcctatgaaggcttgagcctgtggcagtggatggtgttgcctctc\n",
      "            ctcgatgtgtctgacaggttctggctgcagatggtcgcatggtggggacaaggatccaga\n",
      "            gccatcgtggcttttgacaatatctccatcagcctggactgctacctcaccattagcgga\n",
      "            gaggacaagatcctgcagaatacagcacccaaatcaagaaacctgtttgagagaaaccca\n",
      "            aacaaggagctgaaacccggggaaaattcaccaagacagacccccatctttgaccctaca\n",
      "            gttcattggctgttcaccacatgtggggccagcgggccccatggccccacccaggcacag\n",
      "            tgcaacaacgcctaccagaactccaacctgagcgtggaggtggggagcgagggccccctg\n",
      "            aaaggcatccagatctggaaggtgccagccaccgacacctacagcatctcgggctacgga\n",
      "            gctgctggcgggaaaggcgggaagaacaccatgatgcggtcccacggcgtgtctgtgctg\n",
      "            ggcatcttcaacctggagaaggatgacatgctgtacatcctggttgggcagcagggagag\n",
      "            gacgcctgccccagtacaaaccagttaatccagaaagtctgcattggagagaacaatgtg\n",
      "            atagaagaagaaatccgtgtgaacagaagcgtgcatgagtgggcaggaggcggaggagga\n",
      "            gggggtggagccacctacgtatttaagatgaaggatggagtgccggtgcccctgatcatt\n",
      "            gcagccggaggtggtggcagggcctacggggccaagacagacacgttccacccagagaga\n",
      "            ctggagaataactcctcggttctagggctaaacggcaattccggagccgcaggtggtgga\n",
      "            ggtggctggaatgataacacttccttgctctgggccggaaaatctttgcaggagggtgcc\n",
      "            accggaggacattcctgcccccaggccatgaagaagtgggggtgggagacaagagggggt\n",
      "            ttcggagggggtggaggggggtgctcctcaggtggaggaggcggaggatatataggcggc\n",
      "            aatgcagcctcaaacaatgaccccgaaatggatggggaagatggggtttccttcatcagt\n",
      "            ccactgggcatcctgtacaccccagctttaaaagtgatggaaggccacggggaagtgaat\n",
      "            attaagcattatctaaactgcagtcactgtgaggtagacgaatgtcacatggaccctgaa\n",
      "            agccacaaggtcatctgcttctgtgaccacgggacggtgctggctgaggatggcgtctcc\n",
      "            tgcattgtgtcacccaccccggagccacacctgccactctcgctgatcctctctgtggtg\n",
      "            acctctgccctcgtggccgccctggtcctggctttctccggcatcatgattgtgtaccgc\n",
      "            cggaagcaccaggagctgcaagccatgcagatggagctgcagagccctgagtacaagctg\n",
      "            agcaagctccgcacctcgaccatcatgaccgactacaaccccaactactgctttgctggc\n",
      "            aagacctcctccatcagtgacctgaaggaggtgccgcggaaaaacatcaccctcattcgg\n",
      "            ggtctgggccatggcgcctttggggaggtgtatgaaggccaggtgtccggaatgcccaac\n",
      "            gacccaagccccctgcaagtggctgtgaagacgctgcctgaagtgtgctctgaacaggac\n",
      "            gaactggatttcctcatggaagccctgatcatcagcaaattcaaccaccagaacattgtt\n",
      "            cgctgcattggggtgagcctgcaatccctgccccggttcatcctgctggagctcatggcg\n",
      "            gggggagacctcaagtccttcctccgagagacccgccctcgcccgagccagccctcctcc\n",
      "            ctggccatgctggaccttctgcacgtggctcgggacattgcctgtggctgtcagtatttg\n",
      "            gaggaaaaccacttcatccaccgagacattgctgccagaaactgcctcttgacctgtcca\n",
      "            ggccctggaagagtggccaagattggagacttcgggatggcccgagacatctacagggcg\n",
      "            agctactatagaaagggaggctgtgccatgctgccagttaagtggatgcccccagaggcc\n",
      "            ttcatggaaggaatattcacttctaaaacagacacatggtcctttggagtgctgctatgg\n",
      "            gaaatcttttctcttggatatatgccataccccagcaaaagcaaccaggaagttctggag\n",
      "            tttgtcaccagtggaggccggatggacccacccaagaactgccctgggcctgtataccgg\n",
      "            ataatgactcagtgctggcaacatcagcctgaagacaggcccaactttgccatcattttg\n",
      "            gagaggattgaatactgcacccaggacccggatgtaatcaacaccgctttgccgatagaa\n",
      "            tatggtccacttgtggaagaggaagagaaagtgcctgtgaggcccaaggaccctgagggg\n",
      "            gttcctcctctcctggtctctcaacaggcaaaacgggaggaggagcgcagcccagctgcc\n",
      "            ccaccacctctgcctaccacctcctctggcaaggctgcaaagaaacccacagctgcagag\n",
      "            atctctgttcgagtccctagagggccggccgtggaagggggacacgtgaatatggcattc\n",
      "            tctcagtccaaccctccttcggagttgcacaaggtccacggatccagaaacaagcccacc\n",
      "            agcttgtggaacccaacgtacggctcctggtttacagagaaacccaccaaaaagaataat\n",
      "            cctatagcaaagaaggagccacacgacaggggtaacctggggctggagggaagctgtact\n",
      "            gtcccacctaacgttgcaactgggagacttccgggggcctcactgctcctagagccctct\n",
      "            tcgctgactgccaatatgaaggaggtacctctgttcaggctacgtcacttcccttgtggg\n",
      "            aatgtcaattacggctaccagcaacagggcttgcccttagaagccgctactgcccctgga\n",
      "            gctggtcattacgaggataccattctgaaaagcaagaatagcatgaaccagcctgggccc\n",
      "            tga\n",
      "///\n",
      "\n"
     ]
    }
   ],
   "source": [
    "print(kegg_obj.get(\"hsa:ALK\"))"
   ]
  },
  {
   "cell_type": "markdown",
   "metadata": {},
   "source": [
    "#### get the list of all human genes from the KEGG Database and use re module to extract gene name"
   ]
  },
  {
   "cell_type": "code",
   "execution_count": 54,
   "metadata": {},
   "outputs": [],
   "source": [
    "human_gene_list=kegg_obj.list('hsa')"
   ]
  },
  {
   "cell_type": "code",
   "execution_count": 55,
   "metadata": {},
   "outputs": [],
   "source": [
    "human_gene_list=human_gene_list.split('\\n')"
   ]
  },
  {
   "cell_type": "code",
   "execution_count": 56,
   "metadata": {},
   "outputs": [
    {
     "data": {
      "text/plain": [
       "'hsa:100616498\\tMIR378E, mir-378e; microRNA 378e'"
      ]
     },
     "execution_count": 56,
     "metadata": {},
     "output_type": "execute_result"
    }
   ],
   "source": [
    "human_gene_list[0]"
   ]
  },
  {
   "cell_type": "code",
   "execution_count": 83,
   "metadata": {},
   "outputs": [
    {
     "data": {
      "text/plain": [
       "'hsa:100616498,MIR378E, mir-378e, microRNA 378e'"
      ]
     },
     "execution_count": 83,
     "metadata": {},
     "output_type": "execute_result"
    }
   ],
   "source": [
    "re.sub('[\\t;]',',',human_gene_list[0])"
   ]
  },
  {
   "cell_type": "code",
   "execution_count": 84,
   "metadata": {},
   "outputs": [
    {
     "data": {
      "text/plain": [
       "'MIR378E'"
      ]
     },
     "execution_count": 84,
     "metadata": {},
     "output_type": "execute_result"
    }
   ],
   "source": [
    "re.search('\\t\\w+','hsa:100616498\\tMIR378E, mir-378e; microRNA 378e').group()[1:]"
   ]
  },
  {
   "cell_type": "code",
   "execution_count": 78,
   "metadata": {},
   "outputs": [],
   "source": [
    "def get_kegg_indices(human_gene_list):\n",
    "    \"\"\" this function gets the gene name and KEGG Database IDs\"\"\"\n",
    "    gene_kegg_id_dict={}\n",
    "    for item in human_gene_list:\n",
    "        try:\n",
    "            kegg_id=re.search('^\\w+:\\w+',item).group()\n",
    "        except:\n",
    "            kegg_id='no_entry'\n",
    "        try:\n",
    "            gene=re.search('\\t\\w+',item).group()[1:]\n",
    "        except:\n",
    "            gene='no_gene'            \n",
    "        gene_kegg_id_dict[gene]=kegg_id\n",
    "    return gene_kegg_id_dict    "
   ]
  },
  {
   "cell_type": "code",
   "execution_count": 77,
   "metadata": {},
   "outputs": [],
   "source": [
    "def map_mutation_kegg(mutated_genes,human_gene_list):\n",
    "    \"\"\"this function maps the mutated genes to KEGG Database IDs\"\"\"\n",
    "    print(\"mutated genes in class\",len(mutated_genes))\n",
    "    print(\"genes in KEGG Database \",len(human_gene_list))\n",
    "    mut_gene_kegg=[]\n",
    "    kegg_gene_dict=get_kegg_indices(human_gene_list)\n",
    "    for mut_gene in mutated_genes:\n",
    "        if mut_gene in kegg_gene_dict:\n",
    "            gene_tup=(mut_gene,kegg_gene_dict[mut_gene])\n",
    "            mut_gene_kegg.append(gene_tup)\n",
    "    return mut_gene_kegg        "
   ]
  },
  {
   "cell_type": "markdown",
   "metadata": {},
   "source": [
    "#### get the KEGG gene IDs for mutated genes for class 7"
   ]
  },
  {
   "cell_type": "code",
   "execution_count": 55,
   "metadata": {},
   "outputs": [
    {
     "name": "stdout",
     "output_type": "stream",
     "text": [
      "mutated genes in class 108\n",
      "genes in KEGG Database  22232\n"
     ]
    }
   ],
   "source": [
    "#class_7_mutated_kegg=map_mutation_kegg(class_7_genes,human_gene_list)"
   ]
  },
  {
   "cell_type": "code",
   "execution_count": 83,
   "metadata": {},
   "outputs": [],
   "source": [
    "def df_gene_pathway(mutated_genes):    \n",
    "    \"\"\"this function maps the pathways from KEGG Database to the mutated genes\"\"\"\n",
    "    df_gene_pathway=pd.DataFrame(columns=[\"gene\",\"pathway\"])\n",
    "    for gene in tqdm(mutated_genes):    \n",
    "        try:\n",
    "            pathway_origin=kegg_obj.get_pathway_by_gene(gene,\"hsa\")\n",
    "            pathway_list=list(set(pathway_origin.keys()))\n",
    "            for pathway in pathway_list:\n",
    "                path_obj=kegg_obj.get(pathway)\n",
    "                path_name=kegg_obj.parse(path_obj)['NAME'][0]          # get the name of the pathway \n",
    "                path_name=re.sub(' -\\s\\w*\\s\\w*\\s\\(\\w*\\)',\"\",path_name) # remove the trailing text after hyphen\n",
    "                df_gene_pathway=df_gene_pathway.append({\"pathway\":path_name,\"gene\":gene},ignore_index=True)\n",
    "        except:\n",
    "            print(\"no data for \",gene)\n",
    "    return df_gene_pathway       "
   ]
  },
  {
   "cell_type": "code",
   "execution_count": 85,
   "metadata": {},
   "outputs": [],
   "source": [
    "def gene_pathway_csv(class_gene_list,human_gene_list):\n",
    "    \"\"\"this function maps all pathways to all genes in each class\"\"\"\n",
    "    for i in range(10):\n",
    "        class_mutated_kegg=map_mutation_kegg(class_gene_list[i],human_gene_list)\n",
    "        class_gene_pathway=df_gene_pathway(class_gene_list[i])\n",
    "        class_gene_pathway.drop_duplicates(inplace=True)\n",
    "        file_name='class'+str(i+1)+\"_gene_pathway.csv\"\n",
    "        class_gene_pathway.to_csv(file_name,header=True,index=False)    \n",
    "    for file in os.listdir():\n",
    "        if '.csv' in file:\n",
    "            print(file)"
   ]
  },
  {
   "cell_type": "code",
   "execution_count": 86,
   "metadata": {},
   "outputs": [
    {
     "name": "stderr",
     "output_type": "stream",
     "text": [
      "\r",
      "  0%|          | 0/142 [00:00<?, ?it/s]"
     ]
    },
    {
     "name": "stdout",
     "output_type": "stream",
     "text": [
      "mutated genes in class 142\n",
      "genes in KEGG Database  22232\n"
     ]
    },
    {
     "name": "stderr",
     "output_type": "stream",
     "text": [
      "\u001b[33mWARNING [bioservices:KEGG:119]: \u001b[0m \u001b[34mstatus is not ok with Not Found\u001b[0m\n",
      "\u001b[33mWARNING [bioservices:KEGG:119]: \u001b[0m \u001b[34mCould not parse the entry correctly.\u001b[0m\n",
      "  1%|          | 1/142 [00:00<01:15,  1.88it/s]"
     ]
    },
    {
     "name": "stdout",
     "output_type": "stream",
     "text": [
      "no data for  FAM58A\n"
     ]
    },
    {
     "name": "stderr",
     "output_type": "stream",
     "text": [
      "\u001b[33mWARNING [bioservices:keggparser:119]: \u001b[0m \u001b[34mFound keyword SYMBOL, which has not special\n",
      "    parsing for now. please report this issue with the KEGG \n",
      "    identifier (867               CDS       T01001) into github.com/bioservices. Thanks T.C.\u001b[0m\n",
      "  1%|▏         | 2/142 [00:03<04:58,  2.13s/it]\u001b[33mWARNING [bioservices:keggparser:119]: \u001b[0m \u001b[34mFound keyword SYMBOL, which has not special\n",
      "    parsing for now. please report this issue with the KEGG \n",
      "    identifier (23405             CDS       T01001) into github.com/bioservices. Thanks T.C.\u001b[0m\n",
      "  2%|▏         | 3/142 [00:04<03:24,  1.47s/it]\u001b[33mWARNING [bioservices:keggparser:119]: \u001b[0m \u001b[34mFound keyword SYMBOL, which has not special\n",
      "    parsing for now. please report this issue with the KEGG \n",
      "    identifier (11122             CDS       T01001) into github.com/bioservices. Thanks T.C.\u001b[0m\n",
      "  3%|▎         | 4/142 [00:04<02:13,  1.04it/s]"
     ]
    },
    {
     "name": "stdout",
     "output_type": "stream",
     "text": [
      "no data for  PTPRT\n"
     ]
    },
    {
     "name": "stderr",
     "output_type": "stream",
     "text": [
      "\u001b[33mWARNING [bioservices:keggparser:119]: \u001b[0m \u001b[34mFound keyword SYMBOL, which has not special\n",
      "    parsing for now. please report this issue with the KEGG \n",
      "    identifier (55164             CDS       T01001) into github.com/bioservices. Thanks T.C.\u001b[0m\n",
      "  4%|▎         | 5/142 [00:05<01:41,  1.35it/s]\u001b[33mWARNING [bioservices:keggparser:119]: \u001b[0m \u001b[34mFound keyword SYMBOL, which has not special\n",
      "    parsing for now. please report this issue with the KEGG \n",
      "    identifier (10111             CDS       T01001) into github.com/bioservices. Thanks T.C.\u001b[0m\n"
     ]
    },
    {
     "name": "stdout",
     "output_type": "stream",
     "text": [
      "no data for  SHQ1\n"
     ]
    },
    {
     "name": "stderr",
     "output_type": "stream",
     "text": [
      "  4%|▍         | 6/142 [00:06<01:55,  1.17it/s]\u001b[33mWARNING [bioservices:keggparser:119]: \u001b[0m \u001b[34mFound keyword SYMBOL, which has not special\n",
      "    parsing for now. please report this issue with the KEGG \n",
      "    identifier (23429             CDS       T01001) into github.com/bioservices. Thanks T.C.\u001b[0m\n",
      "  5%|▍         | 7/142 [00:06<01:32,  1.47it/s]\u001b[33mWARNING [bioservices:keggparser:119]: \u001b[0m \u001b[34mFound keyword SYMBOL, which has not special\n",
      "    parsing for now. please report this issue with the KEGG \n",
      "    identifier (7046              CDS       T01001) into github.com/bioservices. Thanks T.C.\u001b[0m\n"
     ]
    },
    {
     "name": "stdout",
     "output_type": "stream",
     "text": [
      "no data for  RYBP\n"
     ]
    },
    {
     "name": "stderr",
     "output_type": "stream",
     "text": [
      "  6%|▌         | 8/142 [00:14<06:53,  3.09s/it]\u001b[33mWARNING [bioservices:keggparser:119]: \u001b[0m \u001b[34mFound keyword SYMBOL, which has not special\n",
      "    parsing for now. please report this issue with the KEGG \n",
      "    identifier (7048              CDS       T01001) into github.com/bioservices. Thanks T.C.\u001b[0m\n",
      "  6%|▋         | 9/142 [00:24<11:33,  5.21s/it]\u001b[33mWARNING [bioservices:keggparser:119]: \u001b[0m \u001b[34mFound keyword SYMBOL, which has not special\n",
      "    parsing for now. please report this issue with the KEGG \n",
      "    identifier (2956              CDS       T01001) into github.com/bioservices. Thanks T.C.\u001b[0m\n",
      "  7%|▋         | 10/142 [00:26<09:25,  4.28s/it]\u001b[33mWARNING [bioservices:keggparser:119]: \u001b[0m \u001b[34mFound keyword SYMBOL, which has not special\n",
      "    parsing for now. please report this issue with the KEGG \n",
      "    identifier (8085              CDS       T01001) into github.com/bioservices. Thanks T.C.\u001b[0m\n",
      "  8%|▊         | 11/142 [00:28<07:22,  3.38s/it]\u001b[33mWARNING [bioservices:keggparser:119]: \u001b[0m \u001b[34mFound keyword SYMBOL, which has not special\n",
      "    parsing for now. please report this issue with the KEGG \n",
      "    identifier (55193             CDS       T01001) into github.com/bioservices. Thanks T.C.\u001b[0m\n",
      "  8%|▊         | 12/142 [00:28<05:33,  2.57s/it]\u001b[33mWARNING [bioservices:keggparser:119]: \u001b[0m \u001b[34mFound keyword SYMBOL, which has not special\n",
      "    parsing for now. please report this issue with the KEGG \n",
      "    identifier (1956              CDS       T01001) into github.com/bioservices. Thanks T.C.\u001b[0m\n",
      "  9%|▉         | 13/142 [00:45<14:50,  6.90s/it]\u001b[33mWARNING [bioservices:keggparser:119]: \u001b[0m \u001b[34mFound keyword SYMBOL, which has not special\n",
      "    parsing for now. please report this issue with the KEGG \n",
      "    identifier (196528            CDS       T01001) into github.com/bioservices. Thanks T.C.\u001b[0m\n",
      " 10%|▉         | 14/142 [00:46<10:44,  5.03s/it]\u001b[33mWARNING [bioservices:KEGG:119]: \u001b[0m \u001b[34mstatus is not ok with Not Found\u001b[0m\n",
      "\u001b[33mWARNING [bioservices:KEGG:119]: \u001b[0m \u001b[34mCould not parse the entry correctly.\u001b[0m\n",
      " 11%|█         | 15/142 [00:46<07:33,  3.57s/it]"
     ]
    },
    {
     "name": "stdout",
     "output_type": "stream",
     "text": [
      "no data for  HIST1H1C\n"
     ]
    },
    {
     "name": "stderr",
     "output_type": "stream",
     "text": [
      "\u001b[33mWARNING [bioservices:keggparser:119]: \u001b[0m \u001b[34mFound keyword SYMBOL, which has not special\n",
      "    parsing for now. please report this issue with the KEGG \n",
      "    identifier (54206             CDS       T01001) into github.com/bioservices. Thanks T.C.\u001b[0m\n",
      " 11%|█▏        | 16/142 [00:46<05:28,  2.60s/it]\u001b[33mWARNING [bioservices:keggparser:119]: \u001b[0m \u001b[34mFound keyword SYMBOL, which has not special\n",
      "    parsing for now. please report this issue with the KEGG \n",
      "    identifier (11200             CDS       T01001) into github.com/bioservices. Thanks T.C.\u001b[0m\n"
     ]
    },
    {
     "name": "stdout",
     "output_type": "stream",
     "text": [
      "no data for  ERRFI1\n"
     ]
    },
    {
     "name": "stderr",
     "output_type": "stream",
     "text": [
      " 12%|█▏        | 17/142 [00:48<04:52,  2.34s/it]\u001b[33mWARNING [bioservices:keggparser:119]: \u001b[0m \u001b[34mFound keyword SYMBOL, which has not special\n",
      "    parsing for now. please report this issue with the KEGG \n",
      "    identifier (1999              CDS       T01001) into github.com/bioservices. Thanks T.C.\u001b[0m\n",
      " 13%|█▎        | 18/142 [00:48<03:35,  1.74s/it]"
     ]
    },
    {
     "name": "stdout",
     "output_type": "stream",
     "text": [
      "no data for  ELF3\n"
     ]
    },
    {
     "name": "stderr",
     "output_type": "stream",
     "text": [
      "\u001b[33mWARNING [bioservices:keggparser:119]: \u001b[0m \u001b[34mFound keyword SYMBOL, which has not special\n",
      "    parsing for now. please report this issue with the KEGG \n",
      "    identifier (55252             CDS       T01001) into github.com/bioservices. Thanks T.C.\u001b[0m\n",
      " 13%|█▎        | 19/142 [00:49<02:38,  1.29s/it]"
     ]
    },
    {
     "name": "stdout",
     "output_type": "stream",
     "text": [
      "no data for  ASXL2\n"
     ]
    },
    {
     "name": "stderr",
     "output_type": "stream",
     "text": [
      "\u001b[33mWARNING [bioservices:keggparser:119]: \u001b[0m \u001b[34mFound keyword SYMBOL, which has not special\n",
      "    parsing for now. please report this issue with the KEGG \n",
      "    identifier (999               CDS       T01001) into github.com/bioservices. Thanks T.C.\u001b[0m\n",
      " 14%|█▍        | 20/142 [00:53<04:26,  2.18s/it]\u001b[33mWARNING [bioservices:keggparser:119]: \u001b[0m \u001b[34mFound keyword SYMBOL, which has not special\n",
      "    parsing for now. please report this issue with the KEGG \n",
      "    identifier (2033              CDS       T01001) into github.com/bioservices. Thanks T.C.\u001b[0m\n",
      " 15%|█▍        | 21/142 [01:02<08:45,  4.34s/it]\u001b[33mWARNING [bioservices:keggparser:119]: \u001b[0m \u001b[34mFound keyword SYMBOL, which has not special\n",
      "    parsing for now. please report this issue with the KEGG \n",
      "    identifier (7157              CDS       T01001) into github.com/bioservices. Thanks T.C.\u001b[0m\n",
      " 15%|█▌        | 22/142 [01:19<16:19,  8.17s/it]\u001b[33mWARNING [bioservices:keggparser:119]: \u001b[0m \u001b[34mFound keyword SYMBOL, which has not special\n",
      "    parsing for now. please report this issue with the KEGG \n",
      "    identifier (7158              CDS       T01001) into github.com/bioservices. Thanks T.C.\u001b[0m\n",
      " 16%|█▌        | 23/142 [01:20<11:45,  5.93s/it]\u001b[33mWARNING [bioservices:keggparser:119]: \u001b[0m \u001b[34mFound keyword SYMBOL, which has not special\n",
      "    parsing for now. please report this issue with the KEGG \n",
      "    identifier (4087              CDS       T01001) into github.com/bioservices. Thanks T.C.\u001b[0m\n",
      " 17%|█▋        | 24/142 [01:27<12:25,  6.32s/it]\u001b[33mWARNING [bioservices:keggparser:119]: \u001b[0m \u001b[34mFound keyword SYMBOL, which has not special\n",
      "    parsing for now. please report this issue with the KEGG \n",
      "    identifier (4088              CDS       T01001) into github.com/bioservices. Thanks T.C.\u001b[0m\n",
      " 18%|█▊        | 25/142 [01:35<13:13,  6.78s/it]\u001b[33mWARNING [bioservices:keggparser:119]: \u001b[0m \u001b[34mFound keyword SYMBOL, which has not special\n",
      "    parsing for now. please report this issue with the KEGG \n",
      "    identifier (4089              CDS       T01001) into github.com/bioservices. Thanks T.C.\u001b[0m\n",
      " 18%|█▊        | 26/142 [01:42<13:06,  6.78s/it]\u001b[33mWARNING [bioservices:keggparser:119]: \u001b[0m \u001b[34mFound keyword SYMBOL, which has not special\n",
      "    parsing for now. please report this issue with the KEGG \n",
      "    identifier (55294             CDS       T01001) into github.com/bioservices. Thanks T.C.\u001b[0m\n",
      " 19%|█▉        | 27/142 [01:43<09:24,  4.91s/it]\u001b[33mWARNING [bioservices:keggparser:119]: \u001b[0m \u001b[34mFound keyword SYMBOL, which has not special\n",
      "    parsing for now. please report this issue with the KEGG \n",
      "    identifier (1026              CDS       T01001) into github.com/bioservices. Thanks T.C.\u001b[0m\n",
      " 20%|█▉        | 28/142 [01:57<14:37,  7.70s/it]\u001b[33mWARNING [bioservices:keggparser:119]: \u001b[0m \u001b[34mFound keyword SYMBOL, which has not special\n",
      "    parsing for now. please report this issue with the KEGG \n",
      "    identifier (1027              CDS       T01001) into github.com/bioservices. Thanks T.C.\u001b[0m\n",
      " 20%|██        | 29/142 [02:06<15:08,  8.04s/it]\u001b[33mWARNING [bioservices:keggparser:119]: \u001b[0m \u001b[34mFound keyword SYMBOL, which has not special\n",
      "    parsing for now. please report this issue with the KEGG \n",
      "    identifier (1029              CDS       T01001) into github.com/bioservices. Thanks T.C.\u001b[0m\n",
      " 21%|██        | 30/142 [02:12<14:06,  7.56s/it]\u001b[33mWARNING [bioservices:keggparser:119]: \u001b[0m \u001b[34mFound keyword SYMBOL, which has not special\n",
      "    parsing for now. please report this issue with the KEGG \n",
      "    identifier (1030              CDS       T01001) into github.com/bioservices. Thanks T.C.\u001b[0m\n",
      " 22%|██▏       | 31/142 [02:16<12:09,  6.57s/it]\u001b[33mWARNING [bioservices:keggparser:119]: \u001b[0m \u001b[34mFound keyword SYMBOL, which has not special\n",
      "    parsing for now. please report this issue with the KEGG \n",
      "    identifier (1031              CDS       T01001) into github.com/bioservices. Thanks T.C.\u001b[0m\n",
      " 23%|██▎       | 32/142 [02:18<09:33,  5.21s/it]\u001b[33mWARNING [bioservices:keggparser:119]: \u001b[0m \u001b[34mFound keyword SYMBOL, which has not special\n",
      "    parsing for now. please report this issue with the KEGG \n",
      "    identifier (171023            CDS       T01001) into github.com/bioservices. Thanks T.C.\u001b[0m\n",
      " 23%|██▎       | 33/142 [02:19<06:44,  3.71s/it]"
     ]
    },
    {
     "name": "stdout",
     "output_type": "stream",
     "text": [
      "no data for  ASXL1\n"
     ]
    },
    {
     "name": "stderr",
     "output_type": "stream",
     "text": [
      "\u001b[33mWARNING [bioservices:keggparser:119]: \u001b[0m \u001b[34mFound keyword SYMBOL, which has not special\n",
      "    parsing for now. please report this issue with the KEGG \n",
      "    identifier (2064              CDS       T01001) into github.com/bioservices. Thanks T.C.\u001b[0m\n",
      " 24%|██▍       | 34/142 [02:26<08:45,  4.87s/it]\u001b[33mWARNING [bioservices:keggparser:119]: \u001b[0m \u001b[34mFound keyword SYMBOL, which has not special\n",
      "    parsing for now. please report this issue with the KEGG \n",
      "    identifier (2068              CDS       T01001) into github.com/bioservices. Thanks T.C.\u001b[0m\n",
      " 25%|██▍       | 35/142 [02:27<06:27,  3.62s/it]\u001b[33mWARNING [bioservices:keggparser:119]: \u001b[0m \u001b[34mFound keyword SYMBOL, which has not special\n",
      "    parsing for now. please report this issue with the KEGG \n",
      "    identifier (83990             CDS       T01001) into github.com/bioservices. Thanks T.C.\u001b[0m\n",
      " 25%|██▌       | 36/142 [02:28<04:56,  2.80s/it]\u001b[33mWARNING [bioservices:keggparser:119]: \u001b[0m \u001b[34mFound keyword SYMBOL, which has not special\n",
      "    parsing for now. please report this issue with the KEGG \n",
      "    identifier (2071              CDS       T01001) into github.com/bioservices. Thanks T.C.\u001b[0m\n",
      " 26%|██▌       | 37/142 [02:28<03:48,  2.18s/it]\u001b[33mWARNING [bioservices:keggparser:119]: \u001b[0m \u001b[34mFound keyword SYMBOL, which has not special\n",
      "    parsing for now. please report this issue with the KEGG \n",
      "    identifier (2072              CDS       T01001) into github.com/bioservices. Thanks T.C.\u001b[0m\n",
      " 27%|██▋       | 38/142 [02:29<03:05,  1.78s/it]\u001b[33mWARNING [bioservices:keggparser:119]: \u001b[0m \u001b[34mFound keyword SYMBOL, which has not special\n",
      "    parsing for now. please report this issue with the KEGG \n",
      "    identifier (1050              CDS       T01001) into github.com/bioservices. Thanks T.C.\u001b[0m\n",
      " 27%|██▋       | 39/142 [02:31<03:06,  1.81s/it]\u001b[33mWARNING [bioservices:keggparser:119]: \u001b[0m \u001b[34mFound keyword SYMBOL, which has not special\n",
      "    parsing for now. please report this issue with the KEGG \n",
      "    identifier (3105              CDS       T01001) into github.com/bioservices. Thanks T.C.\u001b[0m\n",
      " 28%|██▊       | 40/142 [02:37<05:23,  3.17s/it]\u001b[33mWARNING [bioservices:keggparser:119]: \u001b[0m \u001b[34mFound keyword SYMBOL, which has not special\n",
      "    parsing for now. please report this issue with the KEGG \n",
      "    identifier (3106              CDS       T01001) into github.com/bioservices. Thanks T.C.\u001b[0m\n",
      " 29%|██▉       | 41/142 [02:44<07:06,  4.22s/it]\u001b[33mWARNING [bioservices:keggparser:119]: \u001b[0m \u001b[34mFound keyword SYMBOL, which has not special\n",
      "    parsing for now. please report this issue with the KEGG \n",
      "    identifier (5156              CDS       T01001) into github.com/bioservices. Thanks T.C.\u001b[0m\n",
      " 30%|██▉       | 42/142 [02:51<08:30,  5.11s/it]\u001b[33mWARNING [bioservices:keggparser:119]: \u001b[0m \u001b[34mFound keyword SYMBOL, which has not special\n",
      "    parsing for now. please report this issue with the KEGG \n",
      "    identifier (5159              CDS       T01001) into github.com/bioservices. Thanks T.C.\u001b[0m\n",
      " 30%|███       | 43/142 [02:58<09:17,  5.63s/it]\u001b[33mWARNING [bioservices:keggparser:119]: \u001b[0m \u001b[34mFound keyword SYMBOL, which has not special\n",
      "    parsing for now. please report this issue with the KEGG \n",
      "    identifier (8241              CDS       T01001) into github.com/bioservices. Thanks T.C.\u001b[0m\n",
      " 31%|███       | 44/142 [02:58<06:32,  4.00s/it]"
     ]
    },
    {
     "name": "stdout",
     "output_type": "stream",
     "text": [
      "no data for  RBM10\n"
     ]
    },
    {
     "name": "stderr",
     "output_type": "stream",
     "text": [
      "\u001b[33mWARNING [bioservices:keggparser:119]: \u001b[0m \u001b[34mFound keyword SYMBOL, which has not special\n",
      "    parsing for now. please report this issue with the KEGG \n",
      "    identifier (2120              CDS       T01001) into github.com/bioservices. Thanks T.C.\u001b[0m\n",
      " 32%|███▏      | 45/142 [02:59<04:51,  3.01s/it]\u001b[33mWARNING [bioservices:keggparser:119]: \u001b[0m \u001b[34mFound keyword SYMBOL, which has not special\n",
      "    parsing for now. please report this issue with the KEGG \n",
      "    identifier (7248              CDS       T01001) into github.com/bioservices. Thanks T.C.\u001b[0m\n",
      " 32%|███▏      | 46/142 [03:04<05:43,  3.58s/it]\u001b[33mWARNING [bioservices:keggparser:119]: \u001b[0m \u001b[34mFound keyword SYMBOL, which has not special\n",
      "    parsing for now. please report this issue with the KEGG \n",
      "    identifier (7249              CDS       T01001) into github.com/bioservices. Thanks T.C.\u001b[0m\n",
      " 33%|███▎      | 47/142 [03:10<06:40,  4.22s/it]\u001b[33mWARNING [bioservices:keggparser:119]: \u001b[0m \u001b[34mFound keyword SYMBOL, which has not special\n",
      "    parsing for now. please report this issue with the KEGG \n",
      "    identifier (3169              CDS       T01001) into github.com/bioservices. Thanks T.C.\u001b[0m\n",
      " 34%|███▍      | 48/142 [03:10<04:42,  3.01s/it]"
     ]
    },
    {
     "name": "stdout",
     "output_type": "stream",
     "text": [
      "no data for  FOXA1\n"
     ]
    },
    {
     "name": "stderr",
     "output_type": "stream",
     "text": [
      "\u001b[33mWARNING [bioservices:keggparser:119]: \u001b[0m \u001b[34mFound keyword SYMBOL, which has not special\n",
      "    parsing for now. please report this issue with the KEGG \n",
      "    identifier (8289              CDS       T01001) into github.com/bioservices. Thanks T.C.\u001b[0m\n",
      " 35%|███▍      | 49/142 [03:11<03:49,  2.47s/it]\u001b[33mWARNING [bioservices:keggparser:119]: \u001b[0m \u001b[34mFound keyword SYMBOL, which has not special\n",
      "    parsing for now. please report this issue with the KEGG \n",
      "    identifier (4214              CDS       T01001) into github.com/bioservices. Thanks T.C.\u001b[0m\n",
      " 35%|███▌      | 50/142 [03:14<04:05,  2.67s/it]\u001b[33mWARNING [bioservices:keggparser:119]: \u001b[0m \u001b[34mFound keyword SYMBOL, which has not special\n",
      "    parsing for now. please report this issue with the KEGG \n",
      "    identifier (8312              CDS       T01001) into github.com/bioservices. Thanks T.C.\u001b[0m\n",
      " 36%|███▌      | 51/142 [03:20<05:20,  3.52s/it]\u001b[33mWARNING [bioservices:keggparser:119]: \u001b[0m \u001b[34mFound keyword SYMBOL, which has not special\n",
      "    parsing for now. please report this issue with the KEGG \n",
      "    identifier (8314              CDS       T01001) into github.com/bioservices. Thanks T.C.\u001b[0m\n",
      " 37%|███▋      | 52/142 [03:20<03:47,  2.53s/it]"
     ]
    },
    {
     "name": "stdout",
     "output_type": "stream",
     "text": [
      "no data for  BAP1\n"
     ]
    },
    {
     "name": "stderr",
     "output_type": "stream",
     "text": [
      "\u001b[33mWARNING [bioservices:keggparser:119]: \u001b[0m \u001b[34mFound keyword SYMBOL, which has not special\n",
      "    parsing for now. please report this issue with the KEGG \n",
      "    identifier (2175              CDS       T01001) into github.com/bioservices. Thanks T.C.\u001b[0m\n",
      " 37%|███▋      | 53/142 [03:20<02:51,  1.93s/it]\u001b[33mWARNING [bioservices:keggparser:119]: \u001b[0m \u001b[34mFound keyword SYMBOL, which has not special\n",
      "    parsing for now. please report this issue with the KEGG \n",
      "    identifier (2176              CDS       T01001) into github.com/bioservices. Thanks T.C.\u001b[0m\n",
      " 38%|███▊      | 54/142 [03:21<02:12,  1.51s/it]\u001b[33mWARNING [bioservices:keggparser:119]: \u001b[0m \u001b[34mFound keyword SYMBOL, which has not special\n",
      "    parsing for now. please report this issue with the KEGG \n",
      "    identifier (58508             CDS       T01001) into github.com/bioservices. Thanks T.C.\u001b[0m\n",
      " 39%|███▊      | 55/142 [03:22<01:57,  1.35s/it]\u001b[33mWARNING [bioservices:keggparser:119]: \u001b[0m \u001b[34mFound keyword SYMBOL, which has not special\n",
      "    parsing for now. please report this issue with the KEGG \n",
      "    identifier (2195              CDS       T01001) into github.com/bioservices. Thanks T.C.\u001b[0m\n",
      " 39%|███▉      | 56/142 [03:22<01:29,  1.04s/it]"
     ]
    },
    {
     "name": "stdout",
     "output_type": "stream",
     "text": [
      "no data for  FAT1\n"
     ]
    },
    {
     "name": "stderr",
     "output_type": "stream",
     "text": [
      "\u001b[33mWARNING [bioservices:keggparser:119]: \u001b[0m \u001b[34mFound keyword SYMBOL, which has not special\n",
      "    parsing for now. please report this issue with the KEGG \n",
      "    identifier (57492             CDS       T01001) into github.com/bioservices. Thanks T.C.\u001b[0m\n",
      " 40%|████      | 57/142 [03:23<01:28,  1.04s/it]\u001b[33mWARNING [bioservices:keggparser:119]: \u001b[0m \u001b[34mFound keyword SYMBOL, which has not special\n",
      "    parsing for now. please report this issue with the KEGG \n",
      "    identifier (5292              CDS       T01001) into github.com/bioservices. Thanks T.C.\u001b[0m\n",
      " 41%|████      | 58/142 [03:25<01:52,  1.34s/it]\u001b[33mWARNING [bioservices:keggparser:119]: \u001b[0m \u001b[34mFound keyword SYMBOL, which has not special\n",
      "    parsing for now. please report this issue with the KEGG \n",
      "    identifier (5295              CDS       T01001) into github.com/bioservices. Thanks T.C.\u001b[0m\n",
      " 42%|████▏     | 59/142 [04:01<15:56, 11.52s/it]\u001b[33mWARNING [bioservices:keggparser:119]: \u001b[0m \u001b[34mFound keyword SYMBOL, which has not special\n",
      "    parsing for now. please report this issue with the KEGG \n",
      "    identifier (5296              CDS       T01001) into github.com/bioservices. Thanks T.C.\u001b[0m\n",
      " 42%|████▏     | 60/142 [04:37<25:55, 18.97s/it]\u001b[33mWARNING [bioservices:keggparser:119]: \u001b[0m \u001b[34mFound keyword SYMBOL, which has not special\n",
      "    parsing for now. please report this issue with the KEGG \n",
      "    identifier (84159             CDS       T01001) into github.com/bioservices. Thanks T.C.\u001b[0m\n",
      " 43%|████▎     | 61/142 [04:37<18:00, 13.34s/it]"
     ]
    },
    {
     "name": "stdout",
     "output_type": "stream",
     "text": [
      "no data for  ARID5B\n"
     ]
    },
    {
     "name": "stderr",
     "output_type": "stream",
     "text": [
      "\u001b[33mWARNING [bioservices:keggparser:119]: \u001b[0m \u001b[34mFound keyword SYMBOL, which has not special\n",
      "    parsing for now. please report this issue with the KEGG \n",
      "    identifier (4292              CDS       T01001) into github.com/bioservices. Thanks T.C.\u001b[0m\n",
      " 44%|████▎     | 62/142 [04:40<13:29, 10.12s/it]\u001b[33mWARNING [bioservices:keggparser:119]: \u001b[0m \u001b[34mFound keyword SYMBOL, which has not special\n",
      "    parsing for now. please report this issue with the KEGG \n",
      "    identifier (4297              CDS       T01001) into github.com/bioservices. Thanks T.C.\u001b[0m\n",
      " 44%|████▍     | 63/142 [04:42<10:00,  7.60s/it]\u001b[33mWARNING [bioservices:keggparser:119]: \u001b[0m \u001b[34mFound keyword SYMBOL, which has not special\n",
      "    parsing for now. please report this issue with the KEGG \n",
      "    identifier (2260              CDS       T01001) into github.com/bioservices. Thanks T.C.\u001b[0m\n",
      " 45%|████▌     | 64/142 [04:47<09:12,  7.09s/it]\u001b[33mWARNING [bioservices:keggparser:119]: \u001b[0m \u001b[34mFound keyword SYMBOL, which has not special\n",
      "    parsing for now. please report this issue with the KEGG \n",
      "    identifier (2261              CDS       T01001) into github.com/bioservices. Thanks T.C.\u001b[0m\n",
      " 46%|████▌     | 65/142 [04:53<08:22,  6.52s/it]\u001b[33mWARNING [bioservices:keggparser:119]: \u001b[0m \u001b[34mFound keyword SYMBOL, which has not special\n",
      "    parsing for now. please report this issue with the KEGG \n",
      "    identifier (8405              CDS       T01001) into github.com/bioservices. Thanks T.C.\u001b[0m\n",
      " 46%|████▋     | 66/142 [04:53<05:58,  4.72s/it]\u001b[33mWARNING [bioservices:keggparser:119]: \u001b[0m \u001b[34mFound keyword SYMBOL, which has not special\n",
      "    parsing for now. please report this issue with the KEGG \n",
      "    identifier (2263              CDS       T01001) into github.com/bioservices. Thanks T.C.\u001b[0m\n",
      " 47%|████▋     | 67/142 [04:58<05:59,  4.80s/it]\u001b[33mWARNING [bioservices:keggparser:119]: \u001b[0m \u001b[34mFound keyword SYMBOL, which has not special\n",
      "    parsing for now. please report this issue with the KEGG \n",
      "    identifier (7403              CDS       T01001) into github.com/bioservices. Thanks T.C.\u001b[0m\n",
      " 48%|████▊     | 68/142 [04:59<04:23,  3.57s/it]\u001b[33mWARNING [bioservices:keggparser:119]: \u001b[0m \u001b[34mFound keyword SYMBOL, which has not special\n",
      "    parsing for now. please report this issue with the KEGG \n",
      "    identifier (10498             CDS       T01001) into github.com/bioservices. Thanks T.C.\u001b[0m\n",
      " 49%|████▊     | 69/142 [04:59<03:14,  2.66s/it]\u001b[33mWARNING [bioservices:keggparser:119]: \u001b[0m \u001b[34mFound keyword SYMBOL, which has not special\n",
      "    parsing for now. please report this issue with the KEGG \n",
      "    identifier (2308              CDS       T01001) into github.com/bioservices. Thanks T.C.\u001b[0m\n",
      " 49%|████▉     | 70/142 [05:05<04:21,  3.63s/it]\u001b[33mWARNING [bioservices:keggparser:119]: \u001b[0m \u001b[34mFound keyword SYMBOL, which has not special\n",
      "    parsing for now. please report this issue with the KEGG \n",
      "    identifier (7428              CDS       T01001) into github.com/bioservices. Thanks T.C.\u001b[0m\n",
      " 50%|█████     | 71/142 [05:07<03:34,  3.02s/it]\u001b[33mWARNING [bioservices:keggparser:119]: \u001b[0m \u001b[34mFound keyword SYMBOL, which has not special\n",
      "    parsing for now. please report this issue with the KEGG \n",
      "    identifier (6416              CDS       T01001) into github.com/bioservices. Thanks T.C.\u001b[0m\n",
      " 51%|█████     | 72/142 [05:14<04:59,  4.28s/it]\u001b[33mWARNING [bioservices:keggparser:119]: \u001b[0m \u001b[34mFound keyword SYMBOL, which has not special\n",
      "    parsing for now. please report this issue with the KEGG \n",
      "    identifier (2322              CDS       T01001) into github.com/bioservices. Thanks T.C.\u001b[0m\n",
      " 51%|█████▏    | 73/142 [05:18<04:37,  4.02s/it]\u001b[33mWARNING [bioservices:keggparser:119]: \u001b[0m \u001b[34mFound keyword SYMBOL, which has not special\n",
      "    parsing for now. please report this issue with the KEGG \n",
      "    identifier (5395              CDS       T01001) into github.com/bioservices. Thanks T.C.\u001b[0m\n",
      " 52%|█████▏    | 74/142 [05:18<03:27,  3.05s/it]\u001b[33mWARNING [bioservices:keggparser:119]: \u001b[0m \u001b[34mFound keyword SYMBOL, which has not special\n",
      "    parsing for now. please report this issue with the KEGG \n",
      "    identifier (5426              CDS       T01001) into github.com/bioservices. Thanks T.C.\u001b[0m\n",
      " 53%|█████▎    | 75/142 [05:19<02:44,  2.45s/it]\u001b[33mWARNING [bioservices:keggparser:119]: \u001b[0m \u001b[34mFound keyword SYMBOL, which has not special\n",
      "    parsing for now. please report this issue with the KEGG \n",
      "    identifier (90417             CDS       T01001) into github.com/bioservices. Thanks T.C.\u001b[0m\n",
      " 54%|█████▎    | 76/142 [05:20<01:58,  1.80s/it]"
     ]
    },
    {
     "name": "stdout",
     "output_type": "stream",
     "text": [
      "no data for  KNSTRN\n"
     ]
    },
    {
     "name": "stderr",
     "output_type": "stream",
     "text": [
      "\u001b[33mWARNING [bioservices:keggparser:119]: \u001b[0m \u001b[34mFound keyword SYMBOL, which has not special\n",
      "    parsing for now. please report this issue with the KEGG \n",
      "    identifier (8503              CDS       T01001) into github.com/bioservices. Thanks T.C.\u001b[0m\n",
      " 54%|█████▍    | 77/142 [05:56<13:20, 12.31s/it]\u001b[33mWARNING [bioservices:keggparser:119]: \u001b[0m \u001b[34mFound keyword SYMBOL, which has not special\n",
      "    parsing for now. please report this issue with the KEGG \n",
      "    identifier (324               CDS       T01001) into github.com/bioservices. Thanks T.C.\u001b[0m\n",
      " 55%|█████▍    | 78/142 [06:03<11:10, 10.48s/it]\u001b[33mWARNING [bioservices:keggparser:119]: \u001b[0m \u001b[34mFound keyword SYMBOL, which has not special\n",
      "    parsing for now. please report this issue with the KEGG \n",
      "    identifier (4436              CDS       T01001) into github.com/bioservices. Thanks T.C.\u001b[0m\n",
      " 56%|█████▌    | 79/142 [06:06<08:49,  8.40s/it]\u001b[33mWARNING [bioservices:keggparser:119]: \u001b[0m \u001b[34mFound keyword SYMBOL, which has not special\n",
      "    parsing for now. please report this issue with the KEGG \n",
      "    identifier (7516              CDS       T01001) into github.com/bioservices. Thanks T.C.\u001b[0m\n",
      " 56%|█████▋    | 80/142 [06:07<06:14,  6.04s/it]\u001b[33mWARNING [bioservices:keggparser:119]: \u001b[0m \u001b[34mFound keyword SYMBOL, which has not special\n",
      "    parsing for now. please report this issue with the KEGG \n",
      "    identifier (1387              CDS       T01001) into github.com/bioservices. Thanks T.C.\u001b[0m\n",
      " 57%|█████▋    | 81/142 [06:17<07:23,  7.27s/it]\u001b[33mWARNING [bioservices:keggparser:119]: \u001b[0m \u001b[34mFound keyword SYMBOL, which has not special\n",
      "    parsing for now. please report this issue with the KEGG \n",
      "    identifier (367               CDS       T01001) into github.com/bioservices. Thanks T.C.\u001b[0m\n",
      " 58%|█████▊    | 82/142 [06:19<05:38,  5.65s/it]\u001b[33mWARNING [bioservices:keggparser:119]: \u001b[0m \u001b[34mFound keyword SYMBOL, which has not special\n",
      "    parsing for now. please report this issue with the KEGG \n",
      "    identifier (387               CDS       T01001) into github.com/bioservices. Thanks T.C.\u001b[0m\n",
      " 58%|█████▊    | 83/142 [06:34<08:14,  8.38s/it]\u001b[33mWARNING [bioservices:keggparser:119]: \u001b[0m \u001b[34mFound keyword SYMBOL, which has not special\n",
      "    parsing for now. please report this issue with the KEGG \n",
      "    identifier (9611              CDS       T01001) into github.com/bioservices. Thanks T.C.\u001b[0m\n",
      " 59%|█████▉    | 84/142 [06:35<06:02,  6.24s/it]\u001b[33mWARNING [bioservices:keggparser:119]: \u001b[0m \u001b[34mFound keyword SYMBOL, which has not special\n",
      "    parsing for now. please report this issue with the KEGG \n",
      "    identifier (5518              CDS       T01001) into github.com/bioservices. Thanks T.C.\u001b[0m\n",
      " 60%|█████▉    | 85/142 [06:40<05:34,  5.86s/it]\u001b[33mWARNING [bioservices:keggparser:119]: \u001b[0m \u001b[34mFound keyword SYMBOL, which has not special\n",
      "    parsing for now. please report this issue with the KEGG \n",
      "    identifier (29072             CDS       T01001) into github.com/bioservices. Thanks T.C.\u001b[0m\n",
      " 61%|██████    | 86/142 [06:41<04:02,  4.33s/it]\u001b[33mWARNING [bioservices:keggparser:119]: \u001b[0m \u001b[34mFound keyword SYMBOL, which has not special\n",
      "    parsing for now. please report this issue with the KEGG \n",
      "    identifier (3480              CDS       T01001) into github.com/bioservices. Thanks T.C.\u001b[0m\n",
      " 61%|██████▏   | 87/142 [06:53<06:09,  6.72s/it]\u001b[33mWARNING [bioservices:keggparser:119]: \u001b[0m \u001b[34mFound keyword SYMBOL, which has not special\n",
      "    parsing for now. please report this issue with the KEGG \n",
      "    identifier (10664             CDS       T01001) into github.com/bioservices. Thanks T.C.\u001b[0m\n",
      " 62%|██████▏   | 88/142 [06:53<04:16,  4.76s/it]"
     ]
    },
    {
     "name": "stdout",
     "output_type": "stream",
     "text": [
      "no data for  CTCF\n"
     ]
    },
    {
     "name": "stderr",
     "output_type": "stream",
     "text": [
      "\u001b[33mWARNING [bioservices:keggparser:119]: \u001b[0m \u001b[34mFound keyword SYMBOL, which has not special\n",
      "    parsing for now. please report this issue with the KEGG \n",
      "    identifier (80312             CDS       T01001) into github.com/bioservices. Thanks T.C.\u001b[0m\n",
      " 63%|██████▎   | 89/142 [06:53<03:02,  3.44s/it]"
     ]
    },
    {
     "name": "stdout",
     "output_type": "stream",
     "text": [
      "no data for  TET1\n"
     ]
    },
    {
     "name": "stderr",
     "output_type": "stream",
     "text": [
      "\u001b[33mWARNING [bioservices:keggparser:119]: \u001b[0m \u001b[34mFound keyword SYMBOL, which has not special\n",
      "    parsing for now. please report this issue with the KEGG \n",
      "    identifier (6597              CDS       T01001) into github.com/bioservices. Thanks T.C.\u001b[0m\n",
      " 63%|██████▎   | 90/142 [06:55<02:26,  2.83s/it]\u001b[33mWARNING [bioservices:keggparser:119]: \u001b[0m \u001b[34mFound keyword SYMBOL, which has not special\n",
      "    parsing for now. please report this issue with the KEGG \n",
      "    identifier (6598              CDS       T01001) into github.com/bioservices. Thanks T.C.\u001b[0m\n",
      " 64%|██████▍   | 91/142 [06:56<01:57,  2.30s/it]\u001b[33mWARNING [bioservices:keggparser:119]: \u001b[0m \u001b[34mFound keyword SYMBOL, which has not special\n",
      "    parsing for now. please report this issue with the KEGG \n",
      "    identifier (27086             CDS       T01001) into github.com/bioservices. Thanks T.C.\u001b[0m\n",
      " 65%|██████▍   | 92/142 [06:57<01:30,  1.82s/it]\u001b[33mWARNING [bioservices:keggparser:119]: \u001b[0m \u001b[34mFound keyword SYMBOL, which has not special\n",
      "    parsing for now. please report this issue with the KEGG \n",
      "    identifier (1493              CDS       T01001) into github.com/bioservices. Thanks T.C.\u001b[0m\n",
      " 65%|██████▌   | 93/142 [06:58<01:27,  1.79s/it]\u001b[33mWARNING [bioservices:keggparser:119]: \u001b[0m \u001b[34mFound keyword SYMBOL, which has not special\n",
      "    parsing for now. please report this issue with the KEGG \n",
      "    identifier (472               CDS       T01001) into github.com/bioservices. Thanks T.C.\u001b[0m\n",
      " 66%|██████▌   | 94/142 [07:03<02:13,  2.79s/it]\u001b[33mWARNING [bioservices:keggparser:119]: \u001b[0m \u001b[34mFound keyword SYMBOL, which has not special\n",
      "    parsing for now. please report this issue with the KEGG \n",
      "    identifier (9688              CDS       T01001) into github.com/bioservices. Thanks T.C.\u001b[0m\n",
      " 67%|██████▋   | 95/142 [07:04<01:44,  2.22s/it]\u001b[33mWARNING [bioservices:keggparser:119]: \u001b[0m \u001b[34mFound keyword SYMBOL, which has not special\n",
      "    parsing for now. please report this issue with the KEGG \n",
      "    identifier (10735             CDS       T01001) into github.com/bioservices. Thanks T.C.\u001b[0m\n",
      " 68%|██████▊   | 96/142 [07:05<01:21,  1.76s/it]\u001b[33mWARNING [bioservices:keggparser:119]: \u001b[0m \u001b[34mFound keyword SYMBOL, which has not special\n",
      "    parsing for now. please report this issue with the KEGG \n",
      "    identifier (6662              CDS       T01001) into github.com/bioservices. Thanks T.C.\u001b[0m\n",
      " 68%|██████▊   | 97/142 [07:06<01:05,  1.45s/it]\u001b[33mWARNING [bioservices:keggparser:119]: \u001b[0m \u001b[34mFound keyword SYMBOL, which has not special\n",
      "    parsing for now. please report this issue with the KEGG \n",
      "    identifier (54790             CDS       T01001) into github.com/bioservices. Thanks T.C.\u001b[0m\n",
      " 69%|██████▉   | 98/142 [07:06<00:47,  1.08s/it]"
     ]
    },
    {
     "name": "stdout",
     "output_type": "stream",
     "text": [
      "no data for  TET2\n"
     ]
    },
    {
     "name": "stderr",
     "output_type": "stream",
     "text": [
      "\u001b[33mWARNING [bioservices:keggparser:119]: \u001b[0m \u001b[34mFound keyword SYMBOL, which has not special\n",
      "    parsing for now. please report this issue with the KEGG \n",
      "    identifier (27161             CDS       T01001) into github.com/bioservices. Thanks T.C.\u001b[0m\n",
      " 70%|██████▉   | 99/142 [07:06<00:36,  1.17it/s]"
     ]
    },
    {
     "name": "stdout",
     "output_type": "stream",
     "text": [
      "no data for  AGO2\n"
     ]
    },
    {
     "name": "stderr",
     "output_type": "stream",
     "text": [
      "\u001b[33mWARNING [bioservices:keggparser:119]: \u001b[0m \u001b[34mFound keyword SYMBOL, which has not special\n",
      "    parsing for now. please report this issue with the KEGG \n",
      "    identifier (545               CDS       T01001) into github.com/bioservices. Thanks T.C.\u001b[0m\n",
      " 70%|███████   | 100/142 [07:09<00:58,  1.40s/it]\u001b[33mWARNING [bioservices:keggparser:119]: \u001b[0m \u001b[34mFound keyword SYMBOL, which has not special\n",
      "    parsing for now. please report this issue with the KEGG \n",
      "    identifier (546               CDS       T01001) into github.com/bioservices. Thanks T.C.\u001b[0m\n",
      " 71%|███████   | 101/142 [07:09<00:42,  1.04s/it]"
     ]
    },
    {
     "name": "stdout",
     "output_type": "stream",
     "text": [
      "no data for  ATRX\n"
     ]
    },
    {
     "name": "stderr",
     "output_type": "stream",
     "text": [
      "\u001b[33mWARNING [bioservices:keggparser:119]: \u001b[0m \u001b[34mFound keyword SYMBOL, which has not special\n",
      "    parsing for now. please report this issue with the KEGG \n",
      "    identifier (51755             CDS       T01001) into github.com/bioservices. Thanks T.C.\u001b[0m\n",
      " 72%|███████▏  | 102/142 [07:09<00:33,  1.20it/s]\u001b[33mWARNING [bioservices:keggparser:119]: \u001b[0m \u001b[34mFound keyword SYMBOL, which has not special\n",
      "    parsing for now. please report this issue with the KEGG \n",
      "    identifier (567               CDS       T01001) into github.com/bioservices. Thanks T.C.\u001b[0m\n"
     ]
    },
    {
     "name": "stdout",
     "output_type": "stream",
     "text": [
      "no data for  CDK12\n"
     ]
    },
    {
     "name": "stderr",
     "output_type": "stream",
     "text": [
      " 73%|███████▎  | 103/142 [07:12<00:51,  1.33s/it]\u001b[33mWARNING [bioservices:keggparser:119]: \u001b[0m \u001b[34mFound keyword SYMBOL, which has not special\n",
      "    parsing for now. please report this issue with the KEGG \n",
      "    identifier (2625              CDS       T01001) into github.com/bioservices. Thanks T.C.\u001b[0m\n",
      " 73%|███████▎  | 104/142 [07:13<00:53,  1.41s/it]\u001b[33mWARNING [bioservices:keggparser:119]: \u001b[0m \u001b[34mFound keyword SYMBOL, which has not special\n",
      "    parsing for now. please report this issue with the KEGG \n",
      "    identifier (580               CDS       T01001) into github.com/bioservices. Thanks T.C.\u001b[0m\n",
      " 74%|███████▍  | 105/142 [07:14<00:42,  1.15s/it]\u001b[33mWARNING [bioservices:keggparser:119]: \u001b[0m \u001b[34mFound keyword SYMBOL, which has not special\n",
      "    parsing for now. please report this issue with the KEGG \n",
      "    identifier (9817              CDS       T01001) into github.com/bioservices. Thanks T.C.\u001b[0m\n",
      " 75%|███████▍  | 106/142 [07:17<00:57,  1.59s/it]\u001b[33mWARNING [bioservices:keggparser:119]: \u001b[0m \u001b[34mFound keyword SYMBOL, which has not special\n",
      "    parsing for now. please report this issue with the KEGG \n",
      "    identifier (5727              CDS       T01001) into github.com/bioservices. Thanks T.C.\u001b[0m\n",
      " 75%|███████▌  | 107/142 [07:19<01:06,  1.90s/it]\u001b[33mWARNING [bioservices:keggparser:119]: \u001b[0m \u001b[34mFound keyword SYMBOL, which has not special\n",
      "    parsing for now. please report this issue with the KEGG \n",
      "    identifier (5728              CDS       T01001) into github.com/bioservices. Thanks T.C.\u001b[0m\n",
      " 76%|███████▌  | 108/142 [07:30<02:33,  4.53s/it]\u001b[33mWARNING [bioservices:keggparser:119]: \u001b[0m \u001b[34mFound keyword SYMBOL, which has not special\n",
      "    parsing for now. please report this issue with the KEGG \n",
      "    identifier (54880             CDS       T01001) into github.com/bioservices. Thanks T.C.\u001b[0m\n",
      " 77%|███████▋  | 109/142 [07:30<01:46,  3.24s/it]"
     ]
    },
    {
     "name": "stdout",
     "output_type": "stream",
     "text": [
      "no data for  BCOR\n"
     ]
    },
    {
     "name": "stderr",
     "output_type": "stream",
     "text": [
      "\u001b[33mWARNING [bioservices:keggparser:119]: \u001b[0m \u001b[34mFound keyword SYMBOL, which has not special\n",
      "    parsing for now. please report this issue with the KEGG \n",
      "    identifier (54894             CDS       T01001) into github.com/bioservices. Thanks T.C.\u001b[0m\n",
      " 77%|███████▋  | 110/142 [07:31<01:19,  2.47s/it]\u001b[33mWARNING [bioservices:keggparser:119]: \u001b[0m \u001b[34mFound keyword SYMBOL, which has not special\n",
      "    parsing for now. please report this issue with the KEGG \n",
      "    identifier (23152             CDS       T01001) into github.com/bioservices. Thanks T.C.\u001b[0m\n",
      " 78%|███████▊  | 111/142 [07:32<01:00,  1.94s/it]\u001b[33mWARNING [bioservices:keggparser:119]: \u001b[0m \u001b[34mFound keyword SYMBOL, which has not special\n",
      "    parsing for now. please report this issue with the KEGG \n",
      "    identifier (8821              CDS       T01001) into github.com/bioservices. Thanks T.C.\u001b[0m\n",
      " 79%|███████▉  | 112/142 [07:33<00:50,  1.68s/it]\u001b[33mWARNING [bioservices:keggparser:119]: \u001b[0m \u001b[34mFound keyword SYMBOL, which has not special\n",
      "    parsing for now. please report this issue with the KEGG \n",
      "    identifier (639               CDS       T01001) into github.com/bioservices. Thanks T.C.\u001b[0m\n",
      " 80%|███████▉  | 113/142 [07:33<00:35,  1.24s/it]"
     ]
    },
    {
     "name": "stdout",
     "output_type": "stream",
     "text": [
      "no data for  PRDM1\n"
     ]
    },
    {
     "name": "stderr",
     "output_type": "stream",
     "text": [
      "\u001b[33mWARNING [bioservices:keggparser:119]: \u001b[0m \u001b[34mFound keyword SYMBOL, which has not special\n",
      "    parsing for now. please report this issue with the KEGG \n",
      "    identifier (3716              CDS       T01001) into github.com/bioservices. Thanks T.C.\u001b[0m\n",
      " 80%|████████  | 114/142 [07:43<01:51,  3.97s/it]\u001b[33mWARNING [bioservices:keggparser:119]: \u001b[0m \u001b[34mFound keyword SYMBOL, which has not special\n",
      "    parsing for now. please report this issue with the KEGG \n",
      "    identifier (6794              CDS       T01001) into github.com/bioservices. Thanks T.C.\u001b[0m\n",
      " 81%|████████  | 115/142 [07:47<01:42,  3.78s/it]\u001b[33mWARNING [bioservices:keggparser:119]: \u001b[0m \u001b[34mFound keyword SYMBOL, which has not special\n",
      "    parsing for now. please report this issue with the KEGG \n",
      "    identifier (5781              CDS       T01001) into github.com/bioservices. Thanks T.C.\u001b[0m\n",
      " 82%|████████▏ | 116/142 [07:53<01:58,  4.55s/it]\u001b[33mWARNING [bioservices:keggparser:119]: \u001b[0m \u001b[34mFound keyword SYMBOL, which has not special\n",
      "    parsing for now. please report this issue with the KEGG \n",
      "    identifier (4763              CDS       T01001) into github.com/bioservices. Thanks T.C.\u001b[0m\n",
      " 82%|████████▏ | 117/142 [07:54<01:28,  3.56s/it]\u001b[33mWARNING [bioservices:keggparser:119]: \u001b[0m \u001b[34mFound keyword SYMBOL, which has not special\n",
      "    parsing for now. please report this issue with the KEGG \n",
      "    identifier (5789              CDS       T01001) into github.com/bioservices. Thanks T.C.\u001b[0m\n",
      " 83%|████████▎ | 118/142 [07:54<01:02,  2.59s/it]"
     ]
    },
    {
     "name": "stdout",
     "output_type": "stream",
     "text": [
      "no data for  PTPRD\n"
     ]
    },
    {
     "name": "stderr",
     "output_type": "stream",
     "text": [
      "\u001b[33mWARNING [bioservices:keggparser:119]: \u001b[0m \u001b[34mFound keyword SYMBOL, which has not special\n",
      "    parsing for now. please report this issue with the KEGG \n",
      "    identifier (672               CDS       T01001) into github.com/bioservices. Thanks T.C.\u001b[0m\n",
      " 84%|████████▍ | 119/142 [07:57<00:58,  2.56s/it]\u001b[33mWARNING [bioservices:keggparser:119]: \u001b[0m \u001b[34mFound keyword SYMBOL, which has not special\n",
      "    parsing for now. please report this issue with the KEGG \n",
      "    identifier (675               CDS       T01001) into github.com/bioservices. Thanks T.C.\u001b[0m\n",
      " 85%|████████▍ | 120/142 [07:59<00:55,  2.51s/it]\u001b[33mWARNING [bioservices:keggparser:119]: \u001b[0m \u001b[34mFound keyword SYMBOL, which has not special\n",
      "    parsing for now. please report this issue with the KEGG \n",
      "    identifier (4771              CDS       T01001) into github.com/bioservices. Thanks T.C.\u001b[0m\n",
      " 85%|████████▌ | 121/142 [08:01<00:44,  2.13s/it]\u001b[33mWARNING [bioservices:keggparser:119]: \u001b[0m \u001b[34mFound keyword SYMBOL, which has not special\n",
      "    parsing for now. please report this issue with the KEGG \n",
      "    identifier (2735              CDS       T01001) into github.com/bioservices. Thanks T.C.\u001b[0m\n",
      " 86%|████████▌ | 122/142 [08:02<00:40,  2.02s/it]\u001b[33mWARNING [bioservices:keggparser:119]: \u001b[0m \u001b[34mFound keyword SYMBOL, which has not special\n",
      "    parsing for now. please report this issue with the KEGG \n",
      "    identifier (8880              CDS       T01001) into github.com/bioservices. Thanks T.C.\u001b[0m\n",
      " 87%|████████▋ | 123/142 [08:03<00:28,  1.47s/it]"
     ]
    },
    {
     "name": "stdout",
     "output_type": "stream",
     "text": [
      "no data for  FUBP1\n"
     ]
    },
    {
     "name": "stderr",
     "output_type": "stream",
     "text": [
      "\u001b[33mWARNING [bioservices:keggparser:119]: \u001b[0m \u001b[34mFound keyword SYMBOL, which has not special\n",
      "    parsing for now. please report this issue with the KEGG \n",
      "    identifier (8915              CDS       T01001) into github.com/bioservices. Thanks T.C.\u001b[0m\n",
      " 87%|████████▋ | 124/142 [08:05<00:31,  1.73s/it]\u001b[33mWARNING [bioservices:keggparser:119]: \u001b[0m \u001b[34mFound keyword SYMBOL, which has not special\n",
      "    parsing for now. please report this issue with the KEGG \n",
      "    identifier (23269             CDS       T01001) into github.com/bioservices. Thanks T.C.\u001b[0m\n",
      " 88%|████████▊ | 125/142 [08:05<00:21,  1.28s/it]"
     ]
    },
    {
     "name": "stdout",
     "output_type": "stream",
     "text": [
      "no data for  MGA\n"
     ]
    },
    {
     "name": "stderr",
     "output_type": "stream",
     "text": [
      "\u001b[33mWARNING [bioservices:keggparser:119]: \u001b[0m \u001b[34mFound keyword SYMBOL, which has not special\n",
      "    parsing for now. please report this issue with the KEGG \n",
      "    identifier (9968              CDS       T01001) into github.com/bioservices. Thanks T.C.\u001b[0m\n",
      " 89%|████████▊ | 126/142 [08:06<00:17,  1.10s/it]\u001b[33mWARNING [bioservices:keggparser:119]: \u001b[0m \u001b[34mFound keyword SYMBOL, which has not special\n",
      "    parsing for now. please report this issue with the KEGG \n",
      "    identifier (4851              CDS       T01001) into github.com/bioservices. Thanks T.C.\u001b[0m\n",
      " 89%|████████▉ | 127/142 [08:09<00:28,  1.88s/it]\u001b[33mWARNING [bioservices:keggparser:119]: \u001b[0m \u001b[34mFound keyword SYMBOL, which has not special\n",
      "    parsing for now. please report this issue with the KEGG \n",
      "    identifier (4853              CDS       T01001) into github.com/bioservices. Thanks T.C.\u001b[0m\n",
      " 90%|█████████ | 128/142 [08:13<00:33,  2.36s/it]\u001b[33mWARNING [bioservices:keggparser:119]: \u001b[0m \u001b[34mFound keyword SYMBOL, which has not special\n",
      "    parsing for now. please report this issue with the KEGG \n",
      "    identifier (1788              CDS       T01001) into github.com/bioservices. Thanks T.C.\u001b[0m\n",
      " 91%|█████████ | 129/142 [08:14<00:25,  1.99s/it]\u001b[33mWARNING [bioservices:keggparser:119]: \u001b[0m \u001b[34mFound keyword SYMBOL, which has not special\n",
      "    parsing for now. please report this issue with the KEGG \n",
      "    identifier (5885              CDS       T01001) into github.com/bioservices. Thanks T.C.\u001b[0m\n",
      " 92%|█████████▏| 130/142 [08:15<00:19,  1.61s/it]\u001b[33mWARNING [bioservices:keggparser:119]: \u001b[0m \u001b[34mFound keyword SYMBOL, which has not special\n",
      "    parsing for now. please report this issue with the KEGG \n",
      "    identifier (5889              CDS       T01001) into github.com/bioservices. Thanks T.C.\u001b[0m\n",
      " 92%|█████████▏| 131/142 [08:16<00:14,  1.34s/it]\u001b[33mWARNING [bioservices:keggparser:119]: \u001b[0m \u001b[34mFound keyword SYMBOL, which has not special\n",
      "    parsing for now. please report this issue with the KEGG \n",
      "    identifier (5892              CDS       T01001) into github.com/bioservices. Thanks T.C.\u001b[0m\n",
      " 93%|█████████▎| 132/142 [08:16<00:11,  1.10s/it]\u001b[33mWARNING [bioservices:keggparser:119]: \u001b[0m \u001b[34mFound keyword SYMBOL, which has not special\n",
      "    parsing for now. please report this issue with the KEGG \n",
      "    identifier (4869              CDS       T01001) into github.com/bioservices. Thanks T.C.\u001b[0m\n",
      " 94%|█████████▎| 133/142 [08:16<00:07,  1.15it/s]\u001b[33mWARNING [bioservices:keggparser:119]: \u001b[0m \u001b[34mFound keyword SYMBOL, which has not special\n",
      "    parsing for now. please report this issue with the KEGG \n",
      "    identifier (6927              CDS       T01001) into github.com/bioservices. Thanks T.C.\u001b[0m\n"
     ]
    },
    {
     "name": "stdout",
     "output_type": "stream",
     "text": [
      "no data for  NPM1\n"
     ]
    },
    {
     "name": "stderr",
     "output_type": "stream",
     "text": [
      " 94%|█████████▍| 134/142 [08:17<00:06,  1.29it/s]\u001b[33mWARNING [bioservices:keggparser:119]: \u001b[0m \u001b[34mFound keyword SYMBOL, which has not special\n",
      "    parsing for now. please report this issue with the KEGG \n",
      "    identifier (6934              CDS       T01001) into github.com/bioservices. Thanks T.C.\u001b[0m\n",
      " 95%|█████████▌| 135/142 [08:24<00:18,  2.71s/it]\u001b[33mWARNING [bioservices:keggparser:119]: \u001b[0m \u001b[34mFound keyword SYMBOL, which has not special\n",
      "    parsing for now. please report this issue with the KEGG \n",
      "    identifier (5921              CDS       T01001) into github.com/bioservices. Thanks T.C.\u001b[0m\n",
      " 96%|█████████▌| 136/142 [08:26<00:13,  2.33s/it]\u001b[33mWARNING [bioservices:keggparser:119]: \u001b[0m \u001b[34mFound keyword SYMBOL, which has not special\n",
      "    parsing for now. please report this issue with the KEGG \n",
      "    identifier (10018             CDS       T01001) into github.com/bioservices. Thanks T.C.\u001b[0m\n",
      " 96%|█████████▋| 137/142 [08:30<00:14,  2.85s/it]\u001b[33mWARNING [bioservices:keggparser:119]: \u001b[0m \u001b[34mFound keyword SYMBOL, which has not special\n",
      "    parsing for now. please report this issue with the KEGG \n",
      "    identifier (5925              CDS       T01001) into github.com/bioservices. Thanks T.C.\u001b[0m\n",
      " 97%|█████████▋| 138/142 [08:39<00:18,  4.74s/it]\u001b[33mWARNING [bioservices:keggparser:119]: \u001b[0m \u001b[34mFound keyword SYMBOL, which has not special\n",
      "    parsing for now. please report this issue with the KEGG \n",
      "    identifier (4915              CDS       T01001) into github.com/bioservices. Thanks T.C.\u001b[0m\n",
      " 98%|█████████▊| 139/142 [08:41<00:12,  4.04s/it]\u001b[33mWARNING [bioservices:keggparser:119]: \u001b[0m \u001b[34mFound keyword SYMBOL, which has not special\n",
      "    parsing for now. please report this issue with the KEGG \n",
      "    identifier (841               CDS       T01001) into github.com/bioservices. Thanks T.C.\u001b[0m\n",
      " 99%|█████████▊| 140/142 [08:54<00:13,  6.67s/it]\u001b[33mWARNING [bioservices:keggparser:119]: \u001b[0m \u001b[34mFound keyword SYMBOL, which has not special\n",
      "    parsing for now. please report this issue with the KEGG \n",
      "    identifier (5979              CDS       T01001) into github.com/bioservices. Thanks T.C.\u001b[0m\n",
      " 99%|█████████▉| 141/142 [08:56<00:05,  5.28s/it]\u001b[33mWARNING [bioservices:keggparser:119]: \u001b[0m \u001b[34mFound keyword SYMBOL, which has not special\n",
      "    parsing for now. please report this issue with the KEGG \n",
      "    identifier (861               CDS       T01001) into github.com/bioservices. Thanks T.C.\u001b[0m\n",
      "100%|██████████| 142/142 [08:58<00:00,  3.80s/it]\n",
      "  0%|          | 0/96 [00:00<?, ?it/s]"
     ]
    },
    {
     "name": "stdout",
     "output_type": "stream",
     "text": [
      "mutated genes in class 96\n",
      "genes in KEGG Database  22232\n"
     ]
    },
    {
     "name": "stderr",
     "output_type": "stream",
     "text": [
      "\u001b[33mWARNING [bioservices:keggparser:119]: \u001b[0m \u001b[34mFound keyword SYMBOL, which has not special\n",
      "    parsing for now. please report this issue with the KEGG \n",
      "    identifier (867               CDS       T01001) into github.com/bioservices. Thanks T.C.\u001b[0m\n",
      "  1%|          | 1/96 [00:03<05:08,  3.25s/it]\u001b[33mWARNING [bioservices:keggparser:119]: \u001b[0m \u001b[34mFound keyword SYMBOL, which has not special\n",
      "    parsing for now. please report this issue with the KEGG \n",
      "    identifier (7015              CDS       T01001) into github.com/bioservices. Thanks T.C.\u001b[0m\n",
      "  2%|▏         | 2/96 [00:05<04:16,  2.73s/it]\u001b[33mWARNING [bioservices:keggparser:119]: \u001b[0m \u001b[34mFound keyword SYMBOL, which has not special\n",
      "    parsing for now. please report this issue with the KEGG \n",
      "    identifier (894               CDS       T01001) into github.com/bioservices. Thanks T.C.\u001b[0m\n",
      "  3%|▎         | 3/96 [00:12<07:26,  4.80s/it]\u001b[33mWARNING [bioservices:keggparser:119]: \u001b[0m \u001b[34mFound keyword SYMBOL, which has not special\n",
      "    parsing for now. please report this issue with the KEGG \n",
      "    identifier (896               CDS       T01001) into github.com/bioservices. Thanks T.C.\u001b[0m\n",
      "  4%|▍         | 4/96 [00:19<08:23,  5.48s/it]\u001b[33mWARNING [bioservices:keggparser:119]: \u001b[0m \u001b[34mFound keyword SYMBOL, which has not special\n",
      "    parsing for now. please report this issue with the KEGG \n",
      "    identifier (6016              CDS       T01001) into github.com/bioservices. Thanks T.C.\u001b[0m\n",
      "  5%|▌         | 5/96 [00:19<05:25,  3.57s/it]"
     ]
    },
    {
     "name": "stdout",
     "output_type": "stream",
     "text": [
      "no data for  RIT1\n"
     ]
    },
    {
     "name": "stderr",
     "output_type": "stream",
     "text": [
      "\u001b[33mWARNING [bioservices:keggparser:119]: \u001b[0m \u001b[34mFound keyword SYMBOL, which has not special\n",
      "    parsing for now. please report this issue with the KEGG \n",
      "    identifier (7048              CDS       T01001) into github.com/bioservices. Thanks T.C.\u001b[0m\n",
      "  6%|▋         | 6/96 [00:28<07:50,  5.23s/it]\u001b[33mWARNING [bioservices:keggparser:119]: \u001b[0m \u001b[34mFound keyword SYMBOL, which has not special\n",
      "    parsing for now. please report this issue with the KEGG \n",
      "    identifier (1956              CDS       T01001) into github.com/bioservices. Thanks T.C.\u001b[0m\n",
      "  7%|▋         | 7/96 [00:52<17:04, 11.51s/it]\u001b[33mWARNING [bioservices:keggparser:119]: \u001b[0m \u001b[34mFound keyword SYMBOL, which has not special\n",
      "    parsing for now. please report this issue with the KEGG \n",
      "    identifier (7080              CDS       T01001) into github.com/bioservices. Thanks T.C.\u001b[0m\n",
      "  8%|▊         | 8/96 [00:52<11:42,  7.98s/it]"
     ]
    },
    {
     "name": "stdout",
     "output_type": "stream",
     "text": [
      "no data for  NKX2-1\n"
     ]
    },
    {
     "name": "stderr",
     "output_type": "stream",
     "text": [
      "\u001b[33mWARNING [bioservices:keggparser:119]: \u001b[0m \u001b[34mFound keyword SYMBOL, which has not special\n",
      "    parsing for now. please report this issue with the KEGG \n",
      "    identifier (7113              CDS       T01001) into github.com/bioservices. Thanks T.C.\u001b[0m\n",
      "  9%|▉         | 9/96 [00:54<08:49,  6.09s/it]\u001b[33mWARNING [bioservices:keggparser:119]: \u001b[0m \u001b[34mFound keyword SYMBOL, which has not special\n",
      "    parsing for now. please report this issue with the KEGG \n",
      "    identifier (6098              CDS       T01001) into github.com/bioservices. Thanks T.C.\u001b[0m\n",
      " 10%|█         | 10/96 [00:55<06:14,  4.35s/it]"
     ]
    },
    {
     "name": "stdout",
     "output_type": "stream",
     "text": [
      "no data for  ROS1\n"
     ]
    },
    {
     "name": "stderr",
     "output_type": "stream",
     "text": [
      "\u001b[33mWARNING [bioservices:keggparser:119]: \u001b[0m \u001b[34mFound keyword SYMBOL, which has not special\n",
      "    parsing for now. please report this issue with the KEGG \n",
      "    identifier (2033              CDS       T01001) into github.com/bioservices. Thanks T.C.\u001b[0m\n",
      " 11%|█▏        | 11/96 [01:08<09:53,  6.98s/it]\u001b[33mWARNING [bioservices:keggparser:119]: \u001b[0m \u001b[34mFound keyword SYMBOL, which has not special\n",
      "    parsing for now. please report this issue with the KEGG \n",
      "    identifier (2034              CDS       T01001) into github.com/bioservices. Thanks T.C.\u001b[0m\n",
      " 12%|█▎        | 12/96 [01:09<07:31,  5.38s/it]\u001b[33mWARNING [bioservices:keggparser:119]: \u001b[0m \u001b[34mFound keyword SYMBOL, which has not special\n",
      "    parsing for now. please report this issue with the KEGG \n",
      "    identifier (7157              CDS       T01001) into github.com/bioservices. Thanks T.C.\u001b[0m\n",
      " 14%|█▎        | 13/96 [01:39<17:22, 12.56s/it]\u001b[33mWARNING [bioservices:keggparser:119]: \u001b[0m \u001b[34mFound keyword SYMBOL, which has not special\n",
      "    parsing for now. please report this issue with the KEGG \n",
      "    identifier (9212              CDS       T01001) into github.com/bioservices. Thanks T.C.\u001b[0m\n",
      " 15%|█▍        | 14/96 [01:39<12:05,  8.85s/it]"
     ]
    },
    {
     "name": "stdout",
     "output_type": "stream",
     "text": [
      "no data for  AURKB\n"
     ]
    },
    {
     "name": "stderr",
     "output_type": "stream",
     "text": [
      "\u001b[33mWARNING [bioservices:keggparser:119]: \u001b[0m \u001b[34mFound keyword SYMBOL, which has not special\n",
      "    parsing for now. please report this issue with the KEGG \n",
      "    identifier (55294             CDS       T01001) into github.com/bioservices. Thanks T.C.\u001b[0m\n",
      " 16%|█▌        | 15/96 [01:40<08:40,  6.42s/it]\u001b[33mWARNING [bioservices:keggparser:119]: \u001b[0m \u001b[34mFound keyword SYMBOL, which has not special\n",
      "    parsing for now. please report this issue with the KEGG \n",
      "    identifier (2064              CDS       T01001) into github.com/bioservices. Thanks T.C.\u001b[0m\n",
      " 17%|█▋        | 16/96 [01:50<10:13,  7.67s/it]\u001b[33mWARNING [bioservices:keggparser:119]: \u001b[0m \u001b[34mFound keyword SYMBOL, which has not special\n",
      "    parsing for now. please report this issue with the KEGG \n",
      "    identifier (2066              CDS       T01001) into github.com/bioservices. Thanks T.C.\u001b[0m\n",
      " 18%|█▊        | 17/96 [01:54<08:43,  6.63s/it]\u001b[33mWARNING [bioservices:keggparser:119]: \u001b[0m \u001b[34mFound keyword SYMBOL, which has not special\n",
      "    parsing for now. please report this issue with the KEGG \n",
      "    identifier (2068              CDS       T01001) into github.com/bioservices. Thanks T.C.\u001b[0m\n",
      " 19%|█▉        | 18/96 [01:56<06:36,  5.08s/it]\u001b[33mWARNING [bioservices:keggparser:119]: \u001b[0m \u001b[34mFound keyword SYMBOL, which has not special\n",
      "    parsing for now. please report this issue with the KEGG \n",
      "    identifier (25                CDS       T01001) into github.com/bioservices. Thanks T.C.\u001b[0m\n",
      " 20%|█▉        | 19/96 [02:03<07:16,  5.67s/it]\u001b[33mWARNING [bioservices:keggparser:119]: \u001b[0m \u001b[34mFound keyword SYMBOL, which has not special\n",
      "    parsing for now. please report this issue with the KEGG \n",
      "    identifier (2078              CDS       T01001) into github.com/bioservices. Thanks T.C.\u001b[0m\n",
      " 21%|██        | 20/96 [02:04<05:29,  4.34s/it]\u001b[33mWARNING [bioservices:keggparser:119]: \u001b[0m \u001b[34mFound keyword SYMBOL, which has not special\n",
      "    parsing for now. please report this issue with the KEGG \n",
      "    identifier (5156              CDS       T01001) into github.com/bioservices. Thanks T.C.\u001b[0m\n",
      " 22%|██▏       | 21/96 [02:14<07:25,  5.94s/it]\u001b[33mWARNING [bioservices:keggparser:119]: \u001b[0m \u001b[34mFound keyword SYMBOL, which has not special\n",
      "    parsing for now. please report this issue with the KEGG \n",
      "    identifier (5159              CDS       T01001) into github.com/bioservices. Thanks T.C.\u001b[0m\n",
      " 23%|██▎       | 22/96 [02:24<09:02,  7.34s/it]\u001b[33mWARNING [bioservices:keggparser:119]: \u001b[0m \u001b[34mFound keyword SYMBOL, which has not special\n",
      "    parsing for now. please report this issue with the KEGG \n",
      "    identifier (8242              CDS       T01001) into github.com/bioservices. Thanks T.C.\u001b[0m\n",
      " 24%|██▍       | 23/96 [02:25<06:20,  5.22s/it]"
     ]
    },
    {
     "name": "stdout",
     "output_type": "stream",
     "text": [
      "no data for  KDM5C\n"
     ]
    },
    {
     "name": "stderr",
     "output_type": "stream",
     "text": [
      "\u001b[33mWARNING [bioservices:keggparser:119]: \u001b[0m \u001b[34mFound keyword SYMBOL, which has not special\n",
      "    parsing for now. please report this issue with the KEGG \n",
      "    identifier (2099              CDS       T01001) into github.com/bioservices. Thanks T.C.\u001b[0m\n",
      " 25%|██▌       | 24/96 [02:31<06:36,  5.50s/it]\u001b[33mWARNING [bioservices:keggparser:119]: \u001b[0m \u001b[34mFound keyword SYMBOL, which has not special\n",
      "    parsing for now. please report this issue with the KEGG \n",
      "    identifier (2115              CDS       T01001) into github.com/bioservices. Thanks T.C.\u001b[0m\n",
      " 26%|██▌       | 25/96 [02:32<04:50,  4.10s/it]\u001b[33mWARNING [bioservices:keggparser:119]: \u001b[0m \u001b[34mFound keyword SYMBOL, which has not special\n",
      "    parsing for now. please report this issue with the KEGG \n",
      "    identifier (2120              CDS       T01001) into github.com/bioservices. Thanks T.C.\u001b[0m\n",
      " 27%|██▋       | 26/96 [02:33<03:39,  3.14s/it]\u001b[33mWARNING [bioservices:keggparser:119]: \u001b[0m \u001b[34mFound keyword SYMBOL, which has not special\n",
      "    parsing for now. please report this issue with the KEGG \n",
      "    identifier (2130              CDS       T01001) into github.com/bioservices. Thanks T.C.\u001b[0m\n",
      " 28%|██▊       | 27/96 [02:33<02:50,  2.47s/it]\u001b[33mWARNING [bioservices:keggparser:119]: \u001b[0m \u001b[34mFound keyword SYMBOL, which has not special\n",
      "    parsing for now. please report this issue with the KEGG \n",
      "    identifier (90                CDS       T01001) into github.com/bioservices. Thanks T.C.\u001b[0m\n",
      " 29%|██▉       | 28/96 [02:36<02:45,  2.44s/it]\u001b[33mWARNING [bioservices:keggparser:119]: \u001b[0m \u001b[34mFound keyword SYMBOL, which has not special\n",
      "    parsing for now. please report this issue with the KEGG \n",
      "    identifier (3169              CDS       T01001) into github.com/bioservices. Thanks T.C.\u001b[0m\n",
      " 30%|███       | 29/96 [02:37<02:14,  2.01s/it]"
     ]
    },
    {
     "name": "stdout",
     "output_type": "stream",
     "text": [
      "no data for  FOXA1\n"
     ]
    },
    {
     "name": "stderr",
     "output_type": "stream",
     "text": [
      "\u001b[33mWARNING [bioservices:keggparser:119]: \u001b[0m \u001b[34mFound keyword SYMBOL, which has not special\n",
      "    parsing for now. please report this issue with the KEGG \n",
      "    identifier (9314              CDS       T01001) into github.com/bioservices. Thanks T.C.\u001b[0m\n",
      " 31%|███▏      | 30/96 [02:38<01:58,  1.79s/it]\u001b[33mWARNING [bioservices:keggparser:119]: \u001b[0m \u001b[34mFound keyword SYMBOL, which has not special\n",
      "    parsing for now. please report this issue with the KEGG \n",
      "    identifier (4233              CDS       T01001) into github.com/bioservices. Thanks T.C.\u001b[0m\n",
      " 32%|███▏      | 31/96 [02:50<05:11,  4.78s/it]\u001b[33mWARNING [bioservices:keggparser:119]: \u001b[0m \u001b[34mFound keyword SYMBOL, which has not special\n",
      "    parsing for now. please report this issue with the KEGG \n",
      "    identifier (5290              CDS       T01001) into github.com/bioservices. Thanks T.C.\u001b[0m\n",
      " 33%|███▎      | 32/96 [03:37<18:43, 17.56s/it]\u001b[33mWARNING [bioservices:keggparser:119]: \u001b[0m \u001b[34mFound keyword SYMBOL, which has not special\n",
      "    parsing for now. please report this issue with the KEGG \n",
      "    identifier (5291              CDS       T01001) into github.com/bioservices. Thanks T.C.\u001b[0m\n",
      " 34%|███▍      | 33/96 [04:28<28:44, 27.37s/it]\u001b[33mWARNING [bioservices:keggparser:119]: \u001b[0m \u001b[34mFound keyword SYMBOL, which has not special\n",
      "    parsing for now. please report this issue with the KEGG \n",
      "    identifier (5292              CDS       T01001) into github.com/bioservices. Thanks T.C.\u001b[0m\n",
      " 35%|███▌      | 34/96 [04:30<20:40, 20.01s/it]\u001b[33mWARNING [bioservices:keggparser:119]: \u001b[0m \u001b[34mFound keyword SYMBOL, which has not special\n",
      "    parsing for now. please report this issue with the KEGG \n",
      "    identifier (10413             CDS       T01001) into github.com/bioservices. Thanks T.C.\u001b[0m\n",
      " 36%|███▋      | 35/96 [04:32<14:35, 14.36s/it]\u001b[33mWARNING [bioservices:keggparser:119]: \u001b[0m \u001b[34mFound keyword SYMBOL, which has not special\n",
      "    parsing for now. please report this issue with the KEGG \n",
      "    identifier (5296              CDS       T01001) into github.com/bioservices. Thanks T.C.\u001b[0m\n",
      " 38%|███▊      | 36/96 [05:15<23:04, 23.07s/it]\u001b[33mWARNING [bioservices:keggparser:119]: \u001b[0m \u001b[34mFound keyword SYMBOL, which has not special\n",
      "    parsing for now. please report this issue with the KEGG \n",
      "    identifier (3265              CDS       T01001) into github.com/bioservices. Thanks T.C.\u001b[0m\n",
      " 39%|███▊      | 37/96 [05:58<28:33, 29.04s/it]\u001b[33mWARNING [bioservices:keggparser:119]: \u001b[0m \u001b[34mFound keyword SYMBOL, which has not special\n",
      "    parsing for now. please report this issue with the KEGG \n",
      "    identifier (4297              CDS       T01001) into github.com/bioservices. Thanks T.C.\u001b[0m\n",
      " 40%|███▉      | 38/96 [06:00<20:13, 20.92s/it]\u001b[33mWARNING [bioservices:keggparser:119]: \u001b[0m \u001b[34mFound keyword SYMBOL, which has not special\n",
      "    parsing for now. please report this issue with the KEGG \n",
      "    identifier (207               CDS       T01001) into github.com/bioservices. Thanks T.C.\u001b[0m\n",
      " 41%|████      | 39/96 [06:53<29:01, 30.55s/it]\u001b[33mWARNING [bioservices:keggparser:119]: \u001b[0m \u001b[34mFound keyword SYMBOL, which has not special\n",
      "    parsing for now. please report this issue with the KEGG \n",
      "    identifier (208               CDS       T01001) into github.com/bioservices. Thanks T.C.\u001b[0m\n",
      " 42%|████▏     | 40/96 [07:26<29:21, 31.45s/it]\u001b[33mWARNING [bioservices:keggparser:119]: \u001b[0m \u001b[34mFound keyword SYMBOL, which has not special\n",
      "    parsing for now. please report this issue with the KEGG \n",
      "    identifier (2260              CDS       T01001) into github.com/bioservices. Thanks T.C.\u001b[0m\n",
      " 43%|████▎     | 41/96 [07:33<22:06, 24.12s/it]\u001b[33mWARNING [bioservices:keggparser:119]: \u001b[0m \u001b[34mFound keyword SYMBOL, which has not special\n",
      "    parsing for now. please report this issue with the KEGG \n",
      "    identifier (2261              CDS       T01001) into github.com/bioservices. Thanks T.C.\u001b[0m\n",
      " 44%|████▍     | 42/96 [07:40<16:51, 18.73s/it]\u001b[33mWARNING [bioservices:keggparser:119]: \u001b[0m \u001b[34mFound keyword SYMBOL, which has not special\n",
      "    parsing for now. please report this issue with the KEGG \n",
      "    identifier (2263              CDS       T01001) into github.com/bioservices. Thanks T.C.\u001b[0m\n",
      " 45%|████▍     | 43/96 [07:47<13:30, 15.29s/it]\u001b[33mWARNING [bioservices:keggparser:119]: \u001b[0m \u001b[34mFound keyword SYMBOL, which has not special\n",
      "    parsing for now. please report this issue with the KEGG \n",
      "    identifier (238               CDS       T01001) into github.com/bioservices. Thanks T.C.\u001b[0m\n",
      " 46%|████▌     | 44/96 [07:49<09:45, 11.25s/it]\u001b[33mWARNING [bioservices:keggparser:119]: \u001b[0m \u001b[34mFound keyword SYMBOL, which has not special\n",
      "    parsing for now. please report this issue with the KEGG \n",
      "    identifier (4352              CDS       T01001) into github.com/bioservices. Thanks T.C.\u001b[0m\n",
      " 47%|████▋     | 45/96 [07:50<07:05,  8.34s/it]\u001b[33mWARNING [bioservices:keggparser:119]: \u001b[0m \u001b[34mFound keyword SYMBOL, which has not special\n",
      "    parsing for now. please report this issue with the KEGG \n",
      "    identifier (6416              CDS       T01001) into github.com/bioservices. Thanks T.C.\u001b[0m\n",
      " 48%|████▊     | 46/96 [08:01<07:28,  8.97s/it]\u001b[33mWARNING [bioservices:keggparser:119]: \u001b[0m \u001b[34mFound keyword SYMBOL, which has not special\n",
      "    parsing for now. please report this issue with the KEGG \n",
      "    identifier (2322              CDS       T01001) into github.com/bioservices. Thanks T.C.\u001b[0m\n",
      " 49%|████▉     | 47/96 [08:06<06:20,  7.76s/it]\u001b[33mWARNING [bioservices:keggparser:119]: \u001b[0m \u001b[34mFound keyword SYMBOL, which has not special\n",
      "    parsing for now. please report this issue with the KEGG \n",
      "    identifier (7514              CDS       T01001) into github.com/bioservices. Thanks T.C.\u001b[0m\n",
      " 50%|█████     | 48/96 [08:08<04:56,  6.18s/it]\u001b[33mWARNING [bioservices:keggparser:119]: \u001b[0m \u001b[34mFound keyword SYMBOL, which has not special\n",
      "    parsing for now. please report this issue with the KEGG \n",
      "    identifier (367               CDS       T01001) into github.com/bioservices. Thanks T.C.\u001b[0m\n",
      " 51%|█████     | 49/96 [08:11<04:03,  5.18s/it]\u001b[33mWARNING [bioservices:keggparser:119]: \u001b[0m \u001b[34mFound keyword SYMBOL, which has not special\n",
      "    parsing for now. please report this issue with the KEGG \n",
      "    identifier (369               CDS       T01001) into github.com/bioservices. Thanks T.C.\u001b[0m\n",
      " 52%|█████▏    | 50/96 [08:28<06:47,  8.86s/it]\u001b[33mWARNING [bioservices:keggparser:119]: \u001b[0m \u001b[34mFound keyword SYMBOL, which has not special\n",
      "    parsing for now. please report this issue with the KEGG \n",
      "    identifier (387               CDS       T01001) into github.com/bioservices. Thanks T.C.\u001b[0m\n",
      " 53%|█████▎    | 51/96 [08:47<08:56, 11.92s/it]\u001b[33mWARNING [bioservices:keggparser:119]: \u001b[0m \u001b[34mFound keyword SYMBOL, which has not special\n",
      "    parsing for now. please report this issue with the KEGG \n",
      "    identifier (3480              CDS       T01001) into github.com/bioservices. Thanks T.C.\u001b[0m\n",
      " 54%|█████▍    | 52/96 [09:01<09:09, 12.50s/it]\u001b[33mWARNING [bioservices:keggparser:119]: \u001b[0m \u001b[34mFound keyword SYMBOL, which has not special\n",
      "    parsing for now. please report this issue with the KEGG \n",
      "    identifier (9641              CDS       T01001) into github.com/bioservices. Thanks T.C.\u001b[0m\n",
      " 55%|█████▌    | 53/96 [09:10<08:02, 11.21s/it]\u001b[33mWARNING [bioservices:keggparser:119]: \u001b[0m \u001b[34mFound keyword SYMBOL, which has not special\n",
      "    parsing for now. please report this issue with the KEGG \n",
      "    identifier (2475              CDS       T01001) into github.com/bioservices. Thanks T.C.\u001b[0m\n",
      " 56%|█████▋    | 54/96 [09:32<10:11, 14.56s/it]\u001b[33mWARNING [bioservices:keggparser:119]: \u001b[0m \u001b[34mFound keyword SYMBOL, which has not special\n",
      "    parsing for now. please report this issue with the KEGG \n",
      "    identifier (6608              CDS       T01001) into github.com/bioservices. Thanks T.C.\u001b[0m\n",
      " 57%|█████▋    | 55/96 [09:35<07:38, 11.19s/it]\u001b[33mWARNING [bioservices:keggparser:119]: \u001b[0m \u001b[34mFound keyword SYMBOL, which has not special\n",
      "    parsing for now. please report this issue with the KEGG \n",
      "    identifier (84433             CDS       T01001) into github.com/bioservices. Thanks T.C.\u001b[0m\n",
      " 58%|█████▊    | 56/96 [09:37<05:32,  8.32s/it]\u001b[33mWARNING [bioservices:keggparser:119]: \u001b[0m \u001b[34mFound keyword SYMBOL, which has not special\n",
      "    parsing for now. please report this issue with the KEGG \n",
      "    identifier (100271849         CDS       T01001) into github.com/bioservices. Thanks T.C.\u001b[0m\n"
     ]
    },
    {
     "name": "stderr",
     "output_type": "stream",
     "text": [
      " 59%|█████▉    | 57/96 [09:38<04:02,  6.23s/it]\u001b[33mWARNING [bioservices:keggparser:119]: \u001b[0m \u001b[34mFound keyword SYMBOL, which has not special\n",
      "    parsing for now. please report this issue with the KEGG \n",
      "    identifier (1499              CDS       T01001) into github.com/bioservices. Thanks T.C.\u001b[0m\n",
      " 60%|██████    | 58/96 [09:52<05:18,  8.37s/it]\u001b[33mWARNING [bioservices:keggparser:119]: \u001b[0m \u001b[34mFound keyword SYMBOL, which has not special\n",
      "    parsing for now. please report this issue with the KEGG \n",
      "    identifier (5604              CDS       T01001) into github.com/bioservices. Thanks T.C.\u001b[0m\n",
      " 61%|██████▏   | 59/96 [10:32<11:01, 17.87s/it]\u001b[33mWARNING [bioservices:keggparser:119]: \u001b[0m \u001b[34mFound keyword SYMBOL, which has not special\n",
      "    parsing for now. please report this issue with the KEGG \n",
      "    identifier (5605              CDS       T01001) into github.com/bioservices. Thanks T.C.\u001b[0m\n",
      " 62%|██████▎   | 60/96 [11:06<13:45, 22.92s/it]\u001b[33mWARNING [bioservices:keggparser:119]: \u001b[0m \u001b[34mFound keyword SYMBOL, which has not special\n",
      "    parsing for now. please report this issue with the KEGG \n",
      "    identifier (6654              CDS       T01001) into github.com/bioservices. Thanks T.C.\u001b[0m\n",
      " 64%|██████▎   | 61/96 [11:34<14:07, 24.22s/it]\u001b[33mWARNING [bioservices:keggparser:119]: \u001b[0m \u001b[34mFound keyword SYMBOL, which has not special\n",
      "    parsing for now. please report this issue with the KEGG \n",
      "    identifier (4609              CDS       T01001) into github.com/bioservices. Thanks T.C.\u001b[0m\n",
      " 65%|██████▍   | 62/96 [11:53<12:57, 22.88s/it]\u001b[33mWARNING [bioservices:keggparser:119]: \u001b[0m \u001b[34mFound keyword SYMBOL, which has not special\n",
      "    parsing for now. please report this issue with the KEGG \n",
      "    identifier (4613              CDS       T01001) into github.com/bioservices. Thanks T.C.\u001b[0m\n",
      " 66%|██████▌   | 63/96 [11:54<08:57, 16.29s/it]\u001b[33mWARNING [bioservices:keggparser:119]: \u001b[0m \u001b[34mFound keyword SYMBOL, which has not special\n",
      "    parsing for now. please report this issue with the KEGG \n",
      "    identifier (27161             CDS       T01001) into github.com/bioservices. Thanks T.C.\u001b[0m\n",
      " 67%|██████▋   | 64/96 [11:55<06:07, 11.49s/it]"
     ]
    },
    {
     "name": "stdout",
     "output_type": "stream",
     "text": [
      "no data for  AGO2\n"
     ]
    },
    {
     "name": "stderr",
     "output_type": "stream",
     "text": [
      "\u001b[33mWARNING [bioservices:keggparser:119]: \u001b[0m \u001b[34mFound keyword SYMBOL, which has not special\n",
      "    parsing for now. please report this issue with the KEGG \n",
      "    identifier (558               CDS       T01001) into github.com/bioservices. Thanks T.C.\u001b[0m\n",
      " 68%|██████▊   | 65/96 [11:55<04:15,  8.24s/it]\u001b[33mWARNING [bioservices:keggparser:119]: \u001b[0m \u001b[34mFound keyword SYMBOL, which has not special\n",
      "    parsing for now. please report this issue with the KEGG \n",
      "    identifier (4654              CDS       T01001) into github.com/bioservices. Thanks T.C.\u001b[0m\n",
      " 69%|██████▉   | 66/96 [11:56<03:03,  6.10s/it]\u001b[33mWARNING [bioservices:keggparser:119]: \u001b[0m \u001b[34mFound keyword SYMBOL, which has not special\n",
      "    parsing for now. please report this issue with the KEGG \n",
      "    identifier (6714              CDS       T01001) into github.com/bioservices. Thanks T.C.\u001b[0m\n",
      " 70%|██████▉   | 67/96 [12:19<05:17, 10.96s/it]\u001b[33mWARNING [bioservices:keggparser:119]: \u001b[0m \u001b[34mFound keyword SYMBOL, which has not special\n",
      "    parsing for now. please report this issue with the KEGG \n",
      "    identifier (2625              CDS       T01001) into github.com/bioservices. Thanks T.C.\u001b[0m\n",
      " 71%|███████   | 68/96 [12:22<04:00,  8.59s/it]\u001b[33mWARNING [bioservices:keggparser:119]: \u001b[0m \u001b[34mFound keyword SYMBOL, which has not special\n",
      "    parsing for now. please report this issue with the KEGG \n",
      "    identifier (595               CDS       T01001) into github.com/bioservices. Thanks T.C.\u001b[0m\n",
      " 72%|███████▏  | 69/96 [12:45<05:50, 12.98s/it]\u001b[33mWARNING [bioservices:keggparser:119]: \u001b[0m \u001b[34mFound keyword SYMBOL, which has not special\n",
      "    parsing for now. please report this issue with the KEGG \n",
      "    identifier (6774              CDS       T01001) into github.com/bioservices. Thanks T.C.\u001b[0m\n",
      " 73%|███████▎  | 70/96 [12:56<05:21, 12.35s/it]\u001b[33mWARNING [bioservices:keggparser:119]: \u001b[0m \u001b[34mFound keyword SYMBOL, which has not special\n",
      "    parsing for now. please report this issue with the KEGG \n",
      "    identifier (3717              CDS       T01001) into github.com/bioservices. Thanks T.C.\u001b[0m\n",
      " 74%|███████▍  | 71/96 [13:04<04:37, 11.10s/it]\u001b[33mWARNING [bioservices:keggparser:119]: \u001b[0m \u001b[34mFound keyword SYMBOL, which has not special\n",
      "    parsing for now. please report this issue with the KEGG \n",
      "    identifier (5781              CDS       T01001) into github.com/bioservices. Thanks T.C.\u001b[0m\n",
      " 75%|███████▌  | 72/96 [13:10<03:50,  9.60s/it]\u001b[33mWARNING [bioservices:keggparser:119]: \u001b[0m \u001b[34mFound keyword SYMBOL, which has not special\n",
      "    parsing for now. please report this issue with the KEGG \n",
      "    identifier (673               CDS       T01001) into github.com/bioservices. Thanks T.C.\u001b[0m\n",
      " 76%|███████▌  | 73/96 [13:25<04:20, 11.33s/it]\u001b[33mWARNING [bioservices:keggparser:119]: \u001b[0m \u001b[34mFound keyword SYMBOL, which has not special\n",
      "    parsing for now. please report this issue with the KEGG \n",
      "    identifier (4780              CDS       T01001) into github.com/bioservices. Thanks T.C.\u001b[0m\n",
      " 77%|███████▋  | 74/96 [13:28<03:13,  8.78s/it]\u001b[33mWARNING [bioservices:keggparser:119]: \u001b[0m \u001b[34mFound keyword SYMBOL, which has not special\n",
      "    parsing for now. please report this issue with the KEGG \n",
      "    identifier (695               CDS       T01001) into github.com/bioservices. Thanks T.C.\u001b[0m\n",
      " 78%|███████▊  | 75/96 [13:31<02:24,  6.87s/it]\u001b[33mWARNING [bioservices:keggparser:119]: \u001b[0m \u001b[34mFound keyword SYMBOL, which has not special\n",
      "    parsing for now. please report this issue with the KEGG \n",
      "    identifier (4792              CDS       T01001) into github.com/bioservices. Thanks T.C.\u001b[0m\n",
      " 79%|███████▉  | 76/96 [13:47<03:13,  9.68s/it]\u001b[33mWARNING [bioservices:keggparser:119]: \u001b[0m \u001b[34mFound keyword SYMBOL, which has not special\n",
      "    parsing for now. please report this issue with the KEGG \n",
      "    identifier (3791              CDS       T01001) into github.com/bioservices. Thanks T.C.\u001b[0m\n",
      " 80%|████████  | 77/96 [13:51<02:29,  7.89s/it]\u001b[33mWARNING [bioservices:keggparser:119]: \u001b[0m \u001b[34mFound keyword SYMBOL, which has not special\n",
      "    parsing for now. please report this issue with the KEGG \n",
      "    identifier (2778              CDS       T01001) into github.com/bioservices. Thanks T.C.\u001b[0m\n",
      " 81%|████████▏ | 78/96 [14:08<03:11, 10.67s/it]\u001b[33mWARNING [bioservices:keggparser:119]: \u001b[0m \u001b[34mFound keyword SYMBOL, which has not special\n",
      "    parsing for now. please report this issue with the KEGG \n",
      "    identifier (3815              CDS       T01001) into github.com/bioservices. Thanks T.C.\u001b[0m\n",
      " 82%|████████▏ | 79/96 [14:12<02:28,  8.71s/it]\u001b[33mWARNING [bioservices:keggparser:119]: \u001b[0m \u001b[34mFound keyword SYMBOL, which has not special\n",
      "    parsing for now. please report this issue with the KEGG \n",
      "    identifier (9965              CDS       T01001) into github.com/bioservices. Thanks T.C.\u001b[0m\n",
      " 83%|████████▎ | 80/96 [14:17<02:01,  7.62s/it]\u001b[33mWARNING [bioservices:keggparser:119]: \u001b[0m \u001b[34mFound keyword SYMBOL, which has not special\n",
      "    parsing for now. please report this issue with the KEGG \n",
      "    identifier (9968              CDS       T01001) into github.com/bioservices. Thanks T.C.\u001b[0m\n",
      " 84%|████████▍ | 81/96 [14:18<01:25,  5.69s/it]\u001b[33mWARNING [bioservices:keggparser:119]: \u001b[0m \u001b[34mFound keyword SYMBOL, which has not special\n",
      "    parsing for now. please report this issue with the KEGG \n",
      "    identifier (4851              CDS       T01001) into github.com/bioservices. Thanks T.C.\u001b[0m\n",
      " 85%|████████▌ | 82/96 [14:23<01:17,  5.54s/it]\u001b[33mWARNING [bioservices:keggparser:119]: \u001b[0m \u001b[34mFound keyword SYMBOL, which has not special\n",
      "    parsing for now. please report this issue with the KEGG \n",
      "    identifier (4853              CDS       T01001) into github.com/bioservices. Thanks T.C.\u001b[0m\n",
      " 86%|████████▋ | 83/96 [14:28<01:07,  5.18s/it]\u001b[33mWARNING [bioservices:keggparser:119]: \u001b[0m \u001b[34mFound keyword SYMBOL, which has not special\n",
      "    parsing for now. please report this issue with the KEGG \n",
      "    identifier (1788              CDS       T01001) into github.com/bioservices. Thanks T.C.\u001b[0m\n",
      " 88%|████████▊ | 84/96 [14:30<00:50,  4.25s/it]\u001b[33mWARNING [bioservices:keggparser:119]: \u001b[0m \u001b[34mFound keyword SYMBOL, which has not special\n",
      "    parsing for now. please report this issue with the KEGG \n",
      "    identifier (1789              CDS       T01001) into github.com/bioservices. Thanks T.C.\u001b[0m\n",
      " 89%|████████▊ | 85/96 [14:32<00:39,  3.60s/it]\u001b[33mWARNING [bioservices:keggparser:119]: \u001b[0m \u001b[34mFound keyword SYMBOL, which has not special\n",
      "    parsing for now. please report this issue with the KEGG \n",
      "    identifier (3845              CDS       T01001) into github.com/bioservices. Thanks T.C.\u001b[0m\n",
      " 90%|████████▉ | 86/96 [15:24<03:00, 18.03s/it]\u001b[33mWARNING [bioservices:keggparser:119]: \u001b[0m \u001b[34mFound keyword SYMBOL, which has not special\n",
      "    parsing for now. please report this issue with the KEGG \n",
      "    identifier (5894              CDS       T01001) into github.com/bioservices. Thanks T.C.\u001b[0m\n",
      " 91%|█████████ | 87/96 [16:12<04:03, 27.09s/it]\u001b[33mWARNING [bioservices:keggparser:119]: \u001b[0m \u001b[34mFound keyword SYMBOL, which has not special\n",
      "    parsing for now. please report this issue with the KEGG \n",
      "    identifier (10000             CDS       T01001) into github.com/bioservices. Thanks T.C.\u001b[0m\n",
      " 92%|█████████▏| 88/96 [17:01<04:29, 33.64s/it]\u001b[33mWARNING [bioservices:keggparser:119]: \u001b[0m \u001b[34mFound keyword SYMBOL, which has not special\n",
      "    parsing for now. please report this issue with the KEGG \n",
      "    identifier (4893              CDS       T01001) into github.com/bioservices. Thanks T.C.\u001b[0m\n",
      " 93%|█████████▎| 89/96 [17:29<03:44, 32.07s/it]\u001b[33mWARNING [bioservices:keggparser:119]: \u001b[0m \u001b[34mFound keyword SYMBOL, which has not special\n",
      "    parsing for now. please report this issue with the KEGG \n",
      "    identifier (5927              CDS       T01001) into github.com/bioservices. Thanks T.C.\u001b[0m\n",
      " 94%|█████████▍| 90/96 [17:29<02:15, 22.50s/it]"
     ]
    },
    {
     "name": "stdout",
     "output_type": "stream",
     "text": [
      "no data for  KDM5A\n"
     ]
    },
    {
     "name": "stderr",
     "output_type": "stream",
     "text": [
      "\u001b[33mWARNING [bioservices:keggparser:119]: \u001b[0m \u001b[34mFound keyword SYMBOL, which has not special\n",
      "    parsing for now. please report this issue with the KEGG \n",
      "    identifier (4914              CDS       T01001) into github.com/bioservices. Thanks T.C.\u001b[0m\n",
      " 95%|█████████▍| 91/96 [17:33<01:24, 17.00s/it]\u001b[33mWARNING [bioservices:keggparser:119]: \u001b[0m \u001b[34mFound keyword SYMBOL, which has not special\n",
      "    parsing for now. please report this issue with the KEGG \n",
      "    identifier (4915              CDS       T01001) into github.com/bioservices. Thanks T.C.\u001b[0m\n",
      " 96%|█████████▌| 92/96 [17:36<00:50, 12.62s/it]\u001b[33mWARNING [bioservices:keggparser:119]: \u001b[0m \u001b[34mFound keyword SYMBOL, which has not special\n",
      "    parsing for now. please report this issue with the KEGG \n",
      "    identifier (4916              CDS       T01001) into github.com/bioservices. Thanks T.C.\u001b[0m\n",
      " 97%|█████████▋| 93/96 [17:37<00:27,  9.20s/it]\u001b[33mWARNING [bioservices:keggparser:119]: \u001b[0m \u001b[34mFound keyword SYMBOL, which has not special\n",
      "    parsing for now. please report this issue with the KEGG \n",
      "    identifier (4921              CDS       T01001) into github.com/bioservices. Thanks T.C.\u001b[0m\n",
      " 98%|█████████▊| 94/96 [17:37<00:12,  6.50s/it]"
     ]
    },
    {
     "name": "stdout",
     "output_type": "stream",
     "text": [
      "no data for  DDR2\n"
     ]
    },
    {
     "name": "stderr",
     "output_type": "stream",
     "text": [
      "\u001b[33mWARNING [bioservices:keggparser:119]: \u001b[0m \u001b[34mFound keyword SYMBOL, which has not special\n",
      "    parsing for now. please report this issue with the KEGG \n",
      "    identifier (64324             CDS       T01001) into github.com/bioservices. Thanks T.C.\u001b[0m\n",
      " 99%|█████████▉| 95/96 [17:38<00:04,  4.82s/it]\u001b[33mWARNING [bioservices:keggparser:119]: \u001b[0m \u001b[34mFound keyword SYMBOL, which has not special\n",
      "    parsing for now. please report this issue with the KEGG \n",
      "    identifier (5979              CDS       T01001) into github.com/bioservices. Thanks T.C.\u001b[0m\n",
      "100%|██████████| 96/96 [17:40<00:00, 11.05s/it]\n",
      "  0%|          | 0/26 [00:00<?, ?it/s]"
     ]
    },
    {
     "name": "stdout",
     "output_type": "stream",
     "text": [
      "mutated genes in class 26\n",
      "genes in KEGG Database  22232\n"
     ]
    },
    {
     "name": "stderr",
     "output_type": "stream",
     "text": [
      "\u001b[33mWARNING [bioservices:keggparser:119]: \u001b[0m \u001b[34mFound keyword SYMBOL, which has not special\n",
      "    parsing for now. please report this issue with the KEGG \n",
      "    identifier (867               CDS       T01001) into github.com/bioservices. Thanks T.C.\u001b[0m\n",
      "  4%|▍         | 1/26 [00:03<01:17,  3.10s/it]\u001b[33mWARNING [bioservices:keggparser:119]: \u001b[0m \u001b[34mFound keyword SYMBOL, which has not special\n",
      "    parsing for now. please report this issue with the KEGG \n",
      "    identifier (1956              CDS       T01001) into github.com/bioservices. Thanks T.C.\u001b[0m\n",
      "  8%|▊         | 2/26 [00:19<04:25, 11.05s/it]\u001b[33mWARNING [bioservices:keggparser:119]: \u001b[0m \u001b[34mFound keyword SYMBOL, which has not special\n",
      "    parsing for now. please report this issue with the KEGG \n",
      "    identifier (11200             CDS       T01001) into github.com/bioservices. Thanks T.C.\u001b[0m\n",
      " 12%|█▏        | 3/26 [00:21<02:34,  6.73s/it]\u001b[33mWARNING [bioservices:keggparser:119]: \u001b[0m \u001b[34mFound keyword SYMBOL, which has not special\n",
      "    parsing for now. please report this issue with the KEGG \n",
      "    identifier (7113              CDS       T01001) into github.com/bioservices. Thanks T.C.\u001b[0m\n",
      " 15%|█▌        | 4/26 [00:23<01:45,  4.78s/it]\u001b[33mWARNING [bioservices:keggparser:119]: \u001b[0m \u001b[34mFound keyword SYMBOL, which has not special\n",
      "    parsing for now. please report this issue with the KEGG \n",
      "    identifier (7157              CDS       T01001) into github.com/bioservices. Thanks T.C.\u001b[0m\n",
      " 19%|█▉        | 5/26 [00:42<03:28,  9.94s/it]\u001b[33mWARNING [bioservices:keggparser:119]: \u001b[0m \u001b[34mFound keyword SYMBOL, which has not special\n",
      "    parsing for now. please report this issue with the KEGG \n",
      "    identifier (4088              CDS       T01001) into github.com/bioservices. Thanks T.C.\u001b[0m\n",
      " 23%|██▎       | 6/26 [00:50<03:07,  9.37s/it]\u001b[33mWARNING [bioservices:keggparser:119]: \u001b[0m \u001b[34mFound keyword SYMBOL, which has not special\n",
      "    parsing for now. please report this issue with the KEGG \n",
      "    identifier (55294             CDS       T01001) into github.com/bioservices. Thanks T.C.\u001b[0m\n",
      " 27%|██▋       | 7/26 [00:50<02:03,  6.48s/it]\u001b[33mWARNING [bioservices:keggparser:119]: \u001b[0m \u001b[34mFound keyword SYMBOL, which has not special\n",
      "    parsing for now. please report this issue with the KEGG \n",
      "    identifier (2066              CDS       T01001) into github.com/bioservices. Thanks T.C.\u001b[0m\n",
      " 31%|███       | 8/26 [00:53<01:34,  5.23s/it]\u001b[33mWARNING [bioservices:keggparser:119]: \u001b[0m \u001b[34mFound keyword SYMBOL, which has not special\n",
      "    parsing for now. please report this issue with the KEGG \n",
      "    identifier (5156              CDS       T01001) into github.com/bioservices. Thanks T.C.\u001b[0m\n",
      " 35%|███▍      | 9/26 [01:00<01:40,  5.89s/it]\u001b[33mWARNING [bioservices:keggparser:119]: \u001b[0m \u001b[34mFound keyword SYMBOL, which has not special\n",
      "    parsing for now. please report this issue with the KEGG \n",
      "    identifier (2099              CDS       T01001) into github.com/bioservices. Thanks T.C.\u001b[0m\n",
      " 38%|███▊      | 10/26 [01:04<01:22,  5.18s/it]\u001b[33mWARNING [bioservices:keggparser:119]: \u001b[0m \u001b[34mFound keyword SYMBOL, which has not special\n",
      "    parsing for now. please report this issue with the KEGG \n",
      "    identifier (7248              CDS       T01001) into github.com/bioservices. Thanks T.C.\u001b[0m\n",
      " 42%|████▏     | 11/26 [01:09<01:16,  5.12s/it]\u001b[33mWARNING [bioservices:keggparser:119]: \u001b[0m \u001b[34mFound keyword SYMBOL, which has not special\n",
      "    parsing for now. please report this issue with the KEGG \n",
      "    identifier (207               CDS       T01001) into github.com/bioservices. Thanks T.C.\u001b[0m\n",
      " 46%|████▌     | 12/26 [01:44<03:19, 14.25s/it]\u001b[33mWARNING [bioservices:keggparser:119]: \u001b[0m \u001b[34mFound keyword SYMBOL, which has not special\n",
      "    parsing for now. please report this issue with the KEGG \n",
      "    identifier (238               CDS       T01001) into github.com/bioservices. Thanks T.C.\u001b[0m\n",
      " 50%|█████     | 13/26 [01:46<02:15, 10.43s/it]\u001b[33mWARNING [bioservices:keggparser:119]: \u001b[0m \u001b[34mFound keyword SYMBOL, which has not special\n",
      "    parsing for now. please report this issue with the KEGG \n",
      "    identifier (2322              CDS       T01001) into github.com/bioservices. Thanks T.C.\u001b[0m\n",
      " 54%|█████▍    | 14/26 [01:50<01:41,  8.49s/it]\u001b[33mWARNING [bioservices:keggparser:119]: \u001b[0m \u001b[34mFound keyword SYMBOL, which has not special\n",
      "    parsing for now. please report this issue with the KEGG \n",
      "    identifier (5395              CDS       T01001) into github.com/bioservices. Thanks T.C.\u001b[0m\n",
      " 58%|█████▊    | 15/26 [01:50<01:07,  6.15s/it]\u001b[33mWARNING [bioservices:keggparser:119]: \u001b[0m \u001b[34mFound keyword SYMBOL, which has not special\n",
      "    parsing for now. please report this issue with the KEGG \n",
      "    identifier (2475              CDS       T01001) into github.com/bioservices. Thanks T.C.\u001b[0m\n",
      " 62%|██████▏   | 16/26 [02:09<01:39,  9.96s/it]\u001b[33mWARNING [bioservices:keggparser:119]: \u001b[0m \u001b[34mFound keyword SYMBOL, which has not special\n",
      "    parsing for now. please report this issue with the KEGG \n",
      "    identifier (9688              CDS       T01001) into github.com/bioservices. Thanks T.C.\u001b[0m\n",
      " 65%|██████▌   | 17/26 [02:10<01:05,  7.23s/it]\u001b[33mWARNING [bioservices:keggparser:119]: \u001b[0m \u001b[34mFound keyword SYMBOL, which has not special\n",
      "    parsing for now. please report this issue with the KEGG \n",
      "    identifier (6662              CDS       T01001) into github.com/bioservices. Thanks T.C.\u001b[0m\n",
      " 69%|██████▉   | 18/26 [02:11<00:42,  5.26s/it]\u001b[33mWARNING [bioservices:keggparser:119]: \u001b[0m \u001b[34mFound keyword SYMBOL, which has not special\n",
      "    parsing for now. please report this issue with the KEGG \n",
      "    identifier (5728              CDS       T01001) into github.com/bioservices. Thanks T.C.\u001b[0m\n",
      " 73%|███████▎  | 19/26 [02:21<00:46,  6.69s/it]\u001b[33mWARNING [bioservices:keggparser:119]: \u001b[0m \u001b[34mFound keyword SYMBOL, which has not special\n",
      "    parsing for now. please report this issue with the KEGG \n",
      "    identifier (672               CDS       T01001) into github.com/bioservices. Thanks T.C.\u001b[0m\n",
      " 77%|███████▋  | 20/26 [02:23<00:32,  5.42s/it]\u001b[33mWARNING [bioservices:keggparser:119]: \u001b[0m \u001b[34mFound keyword SYMBOL, which has not special\n",
      "    parsing for now. please report this issue with the KEGG \n",
      "    identifier (673               CDS       T01001) into github.com/bioservices. Thanks T.C.\u001b[0m\n",
      " 81%|████████  | 21/26 [02:38<00:41,  8.32s/it]\u001b[33mWARNING [bioservices:keggparser:119]: \u001b[0m \u001b[34mFound keyword SYMBOL, which has not special\n",
      "    parsing for now. please report this issue with the KEGG \n",
      "    identifier (3815              CDS       T01001) into github.com/bioservices. Thanks T.C.\u001b[0m\n",
      " 85%|████████▍ | 22/26 [02:43<00:28,  7.06s/it]\u001b[33mWARNING [bioservices:keggparser:119]: \u001b[0m \u001b[34mFound keyword SYMBOL, which has not special\n",
      "    parsing for now. please report this issue with the KEGG \n",
      "    identifier (5889              CDS       T01001) into github.com/bioservices. Thanks T.C.\u001b[0m\n",
      " 88%|████████▊ | 23/26 [02:43<00:15,  5.16s/it]\u001b[33mWARNING [bioservices:keggparser:119]: \u001b[0m \u001b[34mFound keyword SYMBOL, which has not special\n",
      "    parsing for now. please report this issue with the KEGG \n",
      "    identifier (3845              CDS       T01001) into github.com/bioservices. Thanks T.C.\u001b[0m\n",
      " 92%|█████████▏| 24/26 [03:12<00:24, 12.10s/it]\u001b[33mWARNING [bioservices:keggparser:119]: \u001b[0m \u001b[34mFound keyword SYMBOL, which has not special\n",
      "    parsing for now. please report this issue with the KEGG \n",
      "    identifier (6927              CDS       T01001) into github.com/bioservices. Thanks T.C.\u001b[0m\n",
      " 96%|█████████▌| 25/26 [03:12<00:08,  8.64s/it]\u001b[33mWARNING [bioservices:keggparser:119]: \u001b[0m \u001b[34mFound keyword SYMBOL, which has not special\n",
      "    parsing for now. please report this issue with the KEGG \n",
      "    identifier (841               CDS       T01001) into github.com/bioservices. Thanks T.C.\u001b[0m\n",
      "100%|██████████| 26/26 [03:24<00:00,  7.88s/it]\n",
      "  0%|          | 0/92 [00:00<?, ?it/s]"
     ]
    },
    {
     "name": "stdout",
     "output_type": "stream",
     "text": [
      "mutated genes in class 92\n",
      "genes in KEGG Database  22232\n"
     ]
    },
    {
     "name": "stderr",
     "output_type": "stream",
     "text": [
      "\u001b[33mWARNING [bioservices:keggparser:119]: \u001b[0m \u001b[34mFound keyword SYMBOL, which has not special\n",
      "    parsing for now. please report this issue with the KEGG \n",
      "    identifier (867               CDS       T01001) into github.com/bioservices. Thanks T.C.\u001b[0m\n",
      "  1%|          | 1/92 [00:03<04:38,  3.06s/it]\u001b[33mWARNING [bioservices:keggparser:119]: \u001b[0m \u001b[34mFound keyword SYMBOL, which has not special\n",
      "    parsing for now. please report this issue with the KEGG \n",
      "    identifier (8036              CDS       T01001) into github.com/bioservices. Thanks T.C.\u001b[0m\n",
      "  2%|▏         | 2/92 [00:03<02:29,  1.66s/it]\u001b[33mWARNING [bioservices:keggparser:119]: \u001b[0m \u001b[34mFound keyword SYMBOL, which has not special\n",
      "    parsing for now. please report this issue with the KEGG \n",
      "    identifier (7015              CDS       T01001) into github.com/bioservices. Thanks T.C.\u001b[0m\n",
      "  3%|▎         | 3/92 [00:05<02:49,  1.90s/it]\u001b[33mWARNING [bioservices:keggparser:119]: \u001b[0m \u001b[34mFound keyword SYMBOL, which has not special\n",
      "    parsing for now. please report this issue with the KEGG \n",
      "    identifier (23405             CDS       T01001) into github.com/bioservices. Thanks T.C.\u001b[0m\n",
      "  4%|▍         | 4/92 [00:06<02:05,  1.42s/it]\u001b[33mWARNING [bioservices:keggparser:119]: \u001b[0m \u001b[34mFound keyword SYMBOL, which has not special\n",
      "    parsing for now. please report this issue with the KEGG \n",
      "    identifier (11122             CDS       T01001) into github.com/bioservices. Thanks T.C.\u001b[0m\n",
      "  5%|▌         | 5/92 [00:06<01:24,  1.03it/s]"
     ]
    },
    {
     "name": "stdout",
     "output_type": "stream",
     "text": [
      "no data for  PTPRT\n"
     ]
    },
    {
     "name": "stderr",
     "output_type": "stream",
     "text": [
      "\u001b[33mWARNING [bioservices:keggparser:119]: \u001b[0m \u001b[34mFound keyword SYMBOL, which has not special\n",
      "    parsing for now. please report this issue with the KEGG \n",
      "    identifier (10111             CDS       T01001) into github.com/bioservices. Thanks T.C.\u001b[0m\n",
      "  7%|▋         | 6/92 [00:08<01:30,  1.05s/it]\u001b[33mWARNING [bioservices:keggparser:119]: \u001b[0m \u001b[34mFound keyword SYMBOL, which has not special\n",
      "    parsing for now. please report this issue with the KEGG \n",
      "    identifier (7046              CDS       T01001) into github.com/bioservices. Thanks T.C.\u001b[0m\n",
      "  8%|▊         | 7/92 [00:16<04:58,  3.52s/it]\u001b[33mWARNING [bioservices:keggparser:119]: \u001b[0m \u001b[34mFound keyword SYMBOL, which has not special\n",
      "    parsing for now. please report this issue with the KEGG \n",
      "    identifier (7048              CDS       T01001) into github.com/bioservices. Thanks T.C.\u001b[0m\n",
      "  9%|▊         | 8/92 [00:25<07:09,  5.11s/it]\u001b[33mWARNING [bioservices:keggparser:119]: \u001b[0m \u001b[34mFound keyword SYMBOL, which has not special\n",
      "    parsing for now. please report this issue with the KEGG \n",
      "    identifier (2956              CDS       T01001) into github.com/bioservices. Thanks T.C.\u001b[0m\n",
      " 10%|▉         | 9/92 [00:26<05:31,  3.99s/it]\u001b[33mWARNING [bioservices:keggparser:119]: \u001b[0m \u001b[34mFound keyword SYMBOL, which has not special\n",
      "    parsing for now. please report this issue with the KEGG \n",
      "    identifier (9113              CDS       T01001) into github.com/bioservices. Thanks T.C.\u001b[0m\n",
      " 11%|█         | 10/92 [00:28<04:23,  3.21s/it]\u001b[33mWARNING [bioservices:keggparser:119]: \u001b[0m \u001b[34mFound keyword SYMBOL, which has not special\n",
      "    parsing for now. please report this issue with the KEGG \n",
      "    identifier (55193             CDS       T01001) into github.com/bioservices. Thanks T.C.\u001b[0m\n",
      " 12%|█▏        | 11/92 [00:29<03:25,  2.53s/it]\u001b[33mWARNING [bioservices:keggparser:119]: \u001b[0m \u001b[34mFound keyword SYMBOL, which has not special\n",
      "    parsing for now. please report this issue with the KEGG \n",
      "    identifier (26524             CDS       T01001) into github.com/bioservices. Thanks T.C.\u001b[0m\n",
      " 13%|█▎        | 12/92 [00:29<02:41,  2.02s/it]\u001b[33mWARNING [bioservices:keggparser:119]: \u001b[0m \u001b[34mFound keyword SYMBOL, which has not special\n",
      "    parsing for now. please report this issue with the KEGG \n",
      "    identifier (1956              CDS       T01001) into github.com/bioservices. Thanks T.C.\u001b[0m\n",
      " 14%|█▍        | 13/92 [00:47<08:39,  6.58s/it]\u001b[33mWARNING [bioservices:keggparser:119]: \u001b[0m \u001b[34mFound keyword SYMBOL, which has not special\n",
      "    parsing for now. please report this issue with the KEGG \n",
      "    identifier (11200             CDS       T01001) into github.com/bioservices. Thanks T.C.\u001b[0m\n",
      " 15%|█▌        | 14/92 [00:48<06:38,  5.12s/it]\u001b[33mWARNING [bioservices:keggparser:119]: \u001b[0m \u001b[34mFound keyword SYMBOL, which has not special\n",
      "    parsing for now. please report this issue with the KEGG \n",
      "    identifier (999               CDS       T01001) into github.com/bioservices. Thanks T.C.\u001b[0m\n",
      " 16%|█▋        | 15/92 [00:53<06:22,  4.96s/it]\u001b[33mWARNING [bioservices:keggparser:119]: \u001b[0m \u001b[34mFound keyword SYMBOL, which has not special\n",
      "    parsing for now. please report this issue with the KEGG \n",
      "    identifier (4072              CDS       T01001) into github.com/bioservices. Thanks T.C.\u001b[0m\n",
      " 17%|█▋        | 16/92 [00:53<04:31,  3.58s/it]"
     ]
    },
    {
     "name": "stdout",
     "output_type": "stream",
     "text": [
      "no data for  EPCAM\n"
     ]
    },
    {
     "name": "stderr",
     "output_type": "stream",
     "text": [
      "\u001b[33mWARNING [bioservices:keggparser:119]: \u001b[0m \u001b[34mFound keyword SYMBOL, which has not special\n",
      "    parsing for now. please report this issue with the KEGG \n",
      "    identifier (2033              CDS       T01001) into github.com/bioservices. Thanks T.C.\u001b[0m\n",
      " 18%|█▊        | 17/92 [01:06<08:00,  6.40s/it]\u001b[33mWARNING [bioservices:keggparser:119]: \u001b[0m \u001b[34mFound keyword SYMBOL, which has not special\n",
      "    parsing for now. please report this issue with the KEGG \n",
      "    identifier (7157              CDS       T01001) into github.com/bioservices. Thanks T.C.\u001b[0m\n",
      " 20%|█▉        | 18/92 [01:36<16:36, 13.47s/it]\u001b[33mWARNING [bioservices:keggparser:119]: \u001b[0m \u001b[34mFound keyword SYMBOL, which has not special\n",
      "    parsing for now. please report this issue with the KEGG \n",
      "    identifier (4087              CDS       T01001) into github.com/bioservices. Thanks T.C.\u001b[0m\n",
      " 21%|██        | 19/92 [01:47<15:19, 12.59s/it]\u001b[33mWARNING [bioservices:keggparser:119]: \u001b[0m \u001b[34mFound keyword SYMBOL, which has not special\n",
      "    parsing for now. please report this issue with the KEGG \n",
      "    identifier (4088              CDS       T01001) into github.com/bioservices. Thanks T.C.\u001b[0m\n",
      " 22%|██▏       | 20/92 [01:59<15:07, 12.60s/it]\u001b[33mWARNING [bioservices:keggparser:119]: \u001b[0m \u001b[34mFound keyword SYMBOL, which has not special\n",
      "    parsing for now. please report this issue with the KEGG \n",
      "    identifier (4089              CDS       T01001) into github.com/bioservices. Thanks T.C.\u001b[0m\n",
      " 23%|██▎       | 21/92 [02:09<13:43, 11.60s/it]\u001b[33mWARNING [bioservices:keggparser:119]: \u001b[0m \u001b[34mFound keyword SYMBOL, which has not special\n",
      "    parsing for now. please report this issue with the KEGG \n",
      "    identifier (1021              CDS       T01001) into github.com/bioservices. Thanks T.C.\u001b[0m\n",
      " 24%|██▍       | 22/92 [02:20<13:27, 11.53s/it]\u001b[33mWARNING [bioservices:keggparser:119]: \u001b[0m \u001b[34mFound keyword SYMBOL, which has not special\n",
      "    parsing for now. please report this issue with the KEGG \n",
      "    identifier (55294             CDS       T01001) into github.com/bioservices. Thanks T.C.\u001b[0m\n",
      " 25%|██▌       | 23/92 [02:21<09:30,  8.27s/it]\u001b[33mWARNING [bioservices:keggparser:119]: \u001b[0m \u001b[34mFound keyword SYMBOL, which has not special\n",
      "    parsing for now. please report this issue with the KEGG \n",
      "    identifier (1027              CDS       T01001) into github.com/bioservices. Thanks T.C.\u001b[0m\n",
      " 26%|██▌       | 24/92 [02:29<09:25,  8.31s/it]\u001b[33mWARNING [bioservices:keggparser:119]: \u001b[0m \u001b[34mFound keyword SYMBOL, which has not special\n",
      "    parsing for now. please report this issue with the KEGG \n",
      "    identifier (1029              CDS       T01001) into github.com/bioservices. Thanks T.C.\u001b[0m\n",
      " 27%|██▋       | 25/92 [02:38<09:38,  8.63s/it]\u001b[33mWARNING [bioservices:keggparser:119]: \u001b[0m \u001b[34mFound keyword SYMBOL, which has not special\n",
      "    parsing for now. please report this issue with the KEGG \n",
      "    identifier (1030              CDS       T01001) into github.com/bioservices. Thanks T.C.\u001b[0m\n",
      " 28%|██▊       | 26/92 [02:44<08:21,  7.60s/it]\u001b[33mWARNING [bioservices:keggparser:119]: \u001b[0m \u001b[34mFound keyword SYMBOL, which has not special\n",
      "    parsing for now. please report this issue with the KEGG \n",
      "    identifier (2064              CDS       T01001) into github.com/bioservices. Thanks T.C.\u001b[0m\n",
      " 29%|██▉       | 27/92 [02:54<09:05,  8.39s/it]\u001b[33mWARNING [bioservices:keggparser:119]: \u001b[0m \u001b[34mFound keyword SYMBOL, which has not special\n",
      "    parsing for now. please report this issue with the KEGG \n",
      "    identifier (83990             CDS       T01001) into github.com/bioservices. Thanks T.C.\u001b[0m\n",
      " 30%|███       | 28/92 [02:55<06:40,  6.26s/it]\u001b[33mWARNING [bioservices:keggparser:119]: \u001b[0m \u001b[34mFound keyword SYMBOL, which has not special\n",
      "    parsing for now. please report this issue with the KEGG \n",
      "    identifier (2071              CDS       T01001) into github.com/bioservices. Thanks T.C.\u001b[0m\n",
      " 32%|███▏      | 29/92 [02:57<05:03,  4.81s/it]\u001b[33mWARNING [bioservices:keggparser:119]: \u001b[0m \u001b[34mFound keyword SYMBOL, which has not special\n",
      "    parsing for now. please report this issue with the KEGG \n",
      "    identifier (2072              CDS       T01001) into github.com/bioservices. Thanks T.C.\u001b[0m\n",
      " 33%|███▎      | 30/92 [02:57<03:46,  3.66s/it]\u001b[33mWARNING [bioservices:keggparser:119]: \u001b[0m \u001b[34mFound keyword SYMBOL, which has not special\n",
      "    parsing for now. please report this issue with the KEGG \n",
      "    identifier (5156              CDS       T01001) into github.com/bioservices. Thanks T.C.\u001b[0m\n",
      " 34%|███▎      | 31/92 [03:06<05:17,  5.21s/it]\u001b[33mWARNING [bioservices:keggparser:119]: \u001b[0m \u001b[34mFound keyword SYMBOL, which has not special\n",
      "    parsing for now. please report this issue with the KEGG \n",
      "    identifier (5159              CDS       T01001) into github.com/bioservices. Thanks T.C.\u001b[0m\n",
      " 35%|███▍      | 32/92 [03:16<06:28,  6.47s/it]\u001b[33mWARNING [bioservices:keggparser:119]: \u001b[0m \u001b[34mFound keyword SYMBOL, which has not special\n",
      "    parsing for now. please report this issue with the KEGG \n",
      "    identifier (8241              CDS       T01001) into github.com/bioservices. Thanks T.C.\u001b[0m\n",
      " 36%|███▌      | 33/92 [03:16<04:37,  4.70s/it]"
     ]
    },
    {
     "name": "stdout",
     "output_type": "stream",
     "text": [
      "no data for  RBM10\n"
     ]
    },
    {
     "name": "stderr",
     "output_type": "stream",
     "text": [
      "\u001b[33mWARNING [bioservices:keggparser:119]: \u001b[0m \u001b[34mFound keyword SYMBOL, which has not special\n",
      "    parsing for now. please report this issue with the KEGG \n",
      "    identifier (8242              CDS       T01001) into github.com/bioservices. Thanks T.C.\u001b[0m\n",
      " 37%|███▋      | 34/92 [03:17<03:21,  3.47s/it]"
     ]
    },
    {
     "name": "stdout",
     "output_type": "stream",
     "text": [
      "no data for  KDM5C\n"
     ]
    },
    {
     "name": "stderr",
     "output_type": "stream",
     "text": [
      "\u001b[33mWARNING [bioservices:keggparser:119]: \u001b[0m \u001b[34mFound keyword SYMBOL, which has not special\n",
      "    parsing for now. please report this issue with the KEGG \n",
      "    identifier (2120              CDS       T01001) into github.com/bioservices. Thanks T.C.\u001b[0m\n",
      " 38%|███▊      | 35/92 [03:18<02:33,  2.70s/it]\u001b[33mWARNING [bioservices:keggparser:119]: \u001b[0m \u001b[34mFound keyword SYMBOL, which has not special\n",
      "    parsing for now. please report this issue with the KEGG \n",
      "    identifier (7248              CDS       T01001) into github.com/bioservices. Thanks T.C.\u001b[0m\n",
      " 39%|███▉      | 36/92 [03:24<03:28,  3.72s/it]\u001b[33mWARNING [bioservices:keggparser:119]: \u001b[0m \u001b[34mFound keyword SYMBOL, which has not special\n",
      "    parsing for now. please report this issue with the KEGG \n",
      "    identifier (10320             CDS       T01001) into github.com/bioservices. Thanks T.C.\u001b[0m\n",
      " 40%|████      | 37/92 [03:24<02:29,  2.72s/it]"
     ]
    },
    {
     "name": "stdout",
     "output_type": "stream",
     "text": [
      "no data for  IKZF1\n"
     ]
    },
    {
     "name": "stderr",
     "output_type": "stream",
     "text": [
      "\u001b[33mWARNING [bioservices:keggparser:119]: \u001b[0m \u001b[34mFound keyword SYMBOL, which has not special\n",
      "    parsing for now. please report this issue with the KEGG \n",
      "    identifier (7249              CDS       T01001) into github.com/bioservices. Thanks T.C.\u001b[0m\n",
      " 41%|████▏     | 38/92 [03:31<03:31,  3.92s/it]\u001b[33mWARNING [bioservices:keggparser:119]: \u001b[0m \u001b[34mFound keyword SYMBOL, which has not special\n",
      "    parsing for now. please report this issue with the KEGG \n",
      "    identifier (8314              CDS       T01001) into github.com/bioservices. Thanks T.C.\u001b[0m\n",
      " 42%|████▏     | 39/92 [03:31<02:28,  2.81s/it]"
     ]
    },
    {
     "name": "stdout",
     "output_type": "stream",
     "text": [
      "no data for  BAP1\n"
     ]
    },
    {
     "name": "stderr",
     "output_type": "stream",
     "text": [
      "\u001b[33mWARNING [bioservices:keggparser:119]: \u001b[0m \u001b[34mFound keyword SYMBOL, which has not special\n",
      "    parsing for now. please report this issue with the KEGG \n",
      "    identifier (4221              CDS       T01001) into github.com/bioservices. Thanks T.C.\u001b[0m\n",
      " 43%|████▎     | 40/92 [03:33<02:05,  2.42s/it]\u001b[33mWARNING [bioservices:keggparser:119]: \u001b[0m \u001b[34mFound keyword SYMBOL, which has not special\n",
      "    parsing for now. please report this issue with the KEGG \n",
      "    identifier (2175              CDS       T01001) into github.com/bioservices. Thanks T.C.\u001b[0m\n",
      " 45%|████▍     | 41/92 [03:33<01:35,  1.87s/it]\u001b[33mWARNING [bioservices:keggparser:119]: \u001b[0m \u001b[34mFound keyword SYMBOL, which has not special\n",
      "    parsing for now. please report this issue with the KEGG \n",
      "    identifier (58508             CDS       T01001) into github.com/bioservices. Thanks T.C.\u001b[0m\n",
      " 46%|████▌     | 42/92 [03:35<01:23,  1.66s/it]\u001b[33mWARNING [bioservices:keggparser:119]: \u001b[0m \u001b[34mFound keyword SYMBOL, which has not special\n",
      "    parsing for now. please report this issue with the KEGG \n",
      "    identifier (2195              CDS       T01001) into github.com/bioservices. Thanks T.C.\u001b[0m\n",
      " 47%|████▋     | 43/92 [03:35<01:02,  1.27s/it]"
     ]
    },
    {
     "name": "stdout",
     "output_type": "stream",
     "text": [
      "no data for  FAT1\n"
     ]
    },
    {
     "name": "stderr",
     "output_type": "stream",
     "text": [
      "\u001b[33mWARNING [bioservices:keggparser:119]: \u001b[0m \u001b[34mFound keyword SYMBOL, which has not special\n",
      "    parsing for now. please report this issue with the KEGG \n",
      "    identifier (5295              CDS       T01001) into github.com/bioservices. Thanks T.C.\u001b[0m\n",
      " 48%|████▊     | 44/92 [04:27<13:09, 16.45s/it]\u001b[33mWARNING [bioservices:keggparser:119]: \u001b[0m \u001b[34mFound keyword SYMBOL, which has not special\n",
      "    parsing for now. please report this issue with the KEGG \n",
      "    identifier (4292              CDS       T01001) into github.com/bioservices. Thanks T.C.\u001b[0m\n",
      " 49%|████▉     | 45/92 [04:31<10:02, 12.83s/it]\u001b[33mWARNING [bioservices:keggparser:119]: \u001b[0m \u001b[34mFound keyword SYMBOL, which has not special\n",
      "    parsing for now. please report this issue with the KEGG \n",
      "    identifier (8405              CDS       T01001) into github.com/bioservices. Thanks T.C.\u001b[0m\n",
      " 50%|█████     | 46/92 [04:32<07:05,  9.25s/it]\u001b[33mWARNING [bioservices:keggparser:119]: \u001b[0m \u001b[34mFound keyword SYMBOL, which has not special\n",
      "    parsing for now. please report this issue with the KEGG \n",
      "    identifier (6390              CDS       T01001) into github.com/bioservices. Thanks T.C.\u001b[0m\n",
      " 51%|█████     | 47/92 [04:39<06:20,  8.45s/it]\u001b[33mWARNING [bioservices:keggparser:119]: \u001b[0m \u001b[34mFound keyword SYMBOL, which has not special\n",
      "    parsing for now. please report this issue with the KEGG \n",
      "    identifier (8438              CDS       T01001) into github.com/bioservices. Thanks T.C.\u001b[0m\n",
      " 52%|█████▏    | 48/92 [04:39<04:30,  6.14s/it]\u001b[33mWARNING [bioservices:keggparser:119]: \u001b[0m \u001b[34mFound keyword SYMBOL, which has not special\n",
      "    parsing for now. please report this issue with the KEGG \n",
      "    identifier (6391              CDS       T01001) into github.com/bioservices. Thanks T.C.\u001b[0m\n",
      " 53%|█████▎    | 49/92 [04:46<04:35,  6.40s/it]\u001b[33mWARNING [bioservices:keggparser:119]: \u001b[0m \u001b[34mFound keyword SYMBOL, which has not special\n",
      "    parsing for now. please report this issue with the KEGG \n",
      "    identifier (5378              CDS       T01001) into github.com/bioservices. Thanks T.C.\u001b[0m\n",
      " 54%|█████▍    | 50/92 [04:47<03:10,  4.55s/it]"
     ]
    },
    {
     "name": "stdout",
     "output_type": "stream",
     "text": [
      "no data for  PMS1\n"
     ]
    },
    {
     "name": "stderr",
     "output_type": "stream",
     "text": [
      "\u001b[33mWARNING [bioservices:keggparser:119]: \u001b[0m \u001b[34mFound keyword SYMBOL, which has not special\n",
      "    parsing for now. please report this issue with the KEGG \n",
      "    identifier (7428              CDS       T01001) into github.com/bioservices. Thanks T.C.\u001b[0m\n",
      " 55%|█████▌    | 51/92 [04:49<02:42,  3.96s/it]\u001b[33mWARNING [bioservices:keggparser:119]: \u001b[0m \u001b[34mFound keyword SYMBOL, which has not special\n",
      "    parsing for now. please report this issue with the KEGG \n",
      "    identifier (6416              CDS       T01001) into github.com/bioservices. Thanks T.C.\u001b[0m\n",
      " 57%|█████▋    | 52/92 [05:00<04:03,  6.09s/it]\u001b[33mWARNING [bioservices:keggparser:119]: \u001b[0m \u001b[34mFound keyword SYMBOL, which has not special\n",
      "    parsing for now. please report this issue with the KEGG \n",
      "    identifier (5395              CDS       T01001) into github.com/bioservices. Thanks T.C.\u001b[0m\n",
      " 58%|█████▊    | 53/92 [05:01<02:59,  4.59s/it]\u001b[33mWARNING [bioservices:keggparser:119]: \u001b[0m \u001b[34mFound keyword SYMBOL, which has not special\n",
      "    parsing for now. please report this issue with the KEGG \n",
      "    identifier (6427              CDS       T01001) into github.com/bioservices. Thanks T.C.\u001b[0m\n",
      " 59%|█████▊    | 54/92 [05:04<02:28,  3.92s/it]\u001b[33mWARNING [bioservices:keggparser:119]: \u001b[0m \u001b[34mFound keyword SYMBOL, which has not special\n",
      "    parsing for now. please report this issue with the KEGG \n",
      "    identifier (5426              CDS       T01001) into github.com/bioservices. Thanks T.C.\u001b[0m\n",
      " 60%|█████▉    | 55/92 [05:05<02:00,  3.27s/it]\u001b[33mWARNING [bioservices:keggparser:119]: \u001b[0m \u001b[34mFound keyword SYMBOL, which has not special\n",
      "    parsing for now. please report this issue with the KEGG \n",
      "    identifier (90417             CDS       T01001) into github.com/bioservices. Thanks T.C.\u001b[0m\n",
      " 61%|██████    | 56/92 [05:06<01:24,  2.36s/it]"
     ]
    },
    {
     "name": "stdout",
     "output_type": "stream",
     "text": [
      "no data for  KNSTRN\n"
     ]
    },
    {
     "name": "stderr",
     "output_type": "stream",
     "text": [
      "\u001b[33mWARNING [bioservices:keggparser:119]: \u001b[0m \u001b[34mFound keyword SYMBOL, which has not special\n",
      "    parsing for now. please report this issue with the KEGG \n",
      "    identifier (324               CDS       T01001) into github.com/bioservices. Thanks T.C.\u001b[0m\n",
      " 62%|██████▏   | 57/92 [05:15<02:32,  4.35s/it]\u001b[33mWARNING [bioservices:keggparser:119]: \u001b[0m \u001b[34mFound keyword SYMBOL, which has not special\n",
      "    parsing for now. please report this issue with the KEGG \n",
      "    identifier (4436              CDS       T01001) into github.com/bioservices. Thanks T.C.\u001b[0m\n",
      " 63%|██████▎   | 58/92 [05:17<02:08,  3.77s/it]\u001b[33mWARNING [bioservices:keggparser:119]: \u001b[0m \u001b[34mFound keyword SYMBOL, which has not special\n",
      "    parsing for now. please report this issue with the KEGG \n",
      "    identifier (3417              CDS       T01001) into github.com/bioservices. Thanks T.C.\u001b[0m\n",
      " 64%|██████▍   | 59/92 [05:21<02:04,  3.76s/it]\u001b[33mWARNING [bioservices:keggparser:119]: \u001b[0m \u001b[34mFound keyword SYMBOL, which has not special\n",
      "    parsing for now. please report this issue with the KEGG \n",
      "    identifier (1387              CDS       T01001) into github.com/bioservices. Thanks T.C.\u001b[0m\n",
      " 65%|██████▌   | 60/92 [05:36<03:50,  7.21s/it]\u001b[33mWARNING [bioservices:keggparser:119]: \u001b[0m \u001b[34mFound keyword SYMBOL, which has not special\n",
      "    parsing for now. please report this issue with the KEGG \n",
      "    identifier (387               CDS       T01001) into github.com/bioservices. Thanks T.C.\u001b[0m\n",
      " 66%|██████▋   | 61/92 [06:01<06:28, 12.52s/it]\u001b[33mWARNING [bioservices:keggparser:119]: \u001b[0m \u001b[34mFound keyword SYMBOL, which has not special\n",
      "    parsing for now. please report this issue with the KEGG \n",
      "    identifier (29072             CDS       T01001) into github.com/bioservices. Thanks T.C.\u001b[0m\n",
      " 67%|██████▋   | 62/92 [06:03<04:44,  9.49s/it]\u001b[33mWARNING [bioservices:keggparser:119]: \u001b[0m \u001b[34mFound keyword SYMBOL, which has not special\n",
      "    parsing for now. please report this issue with the KEGG \n",
      "    identifier (5537              CDS       T01001) into github.com/bioservices. Thanks T.C.\u001b[0m\n",
      " 68%|██████▊   | 63/92 [06:04<03:22,  6.97s/it]"
     ]
    },
    {
     "name": "stdout",
     "output_type": "stream",
     "text": [
      "no data for  PPP6C\n"
     ]
    },
    {
     "name": "stderr",
     "output_type": "stream",
     "text": [
      "\u001b[33mWARNING [bioservices:keggparser:119]: \u001b[0m \u001b[34mFound keyword SYMBOL, which has not special\n",
      "    parsing for now. please report this issue with the KEGG \n",
      "    identifier (6597              CDS       T01001) into github.com/bioservices. Thanks T.C.\u001b[0m\n",
      " 70%|██████▉   | 64/92 [06:08<02:45,  5.93s/it]\u001b[33mWARNING [bioservices:keggparser:119]: \u001b[0m \u001b[34mFound keyword SYMBOL, which has not special\n",
      "    parsing for now. please report this issue with the KEGG \n",
      "    identifier (100271849         CDS       T01001) into github.com/bioservices. Thanks T.C.\u001b[0m\n",
      " 71%|███████   | 65/92 [06:10<02:07,  4.72s/it]\u001b[33mWARNING [bioservices:keggparser:119]: \u001b[0m \u001b[34mFound keyword SYMBOL, which has not special\n",
      "    parsing for now. please report this issue with the KEGG \n",
      "    identifier (472               CDS       T01001) into github.com/bioservices. Thanks T.C.\u001b[0m\n",
      " 72%|███████▏  | 66/92 [06:19<02:40,  6.17s/it]\u001b[33mWARNING [bioservices:keggparser:119]: \u001b[0m \u001b[34mFound keyword SYMBOL, which has not special\n",
      "    parsing for now. please report this issue with the KEGG \n",
      "    identifier (5604              CDS       T01001) into github.com/bioservices. Thanks T.C.\u001b[0m\n",
      " 73%|███████▎  | 67/92 [07:11<08:12, 19.71s/it]\u001b[33mWARNING [bioservices:keggparser:119]: \u001b[0m \u001b[34mFound keyword SYMBOL, which has not special\n",
      "    parsing for now. please report this issue with the KEGG \n",
      "    identifier (6662              CDS       T01001) into github.com/bioservices. Thanks T.C.\u001b[0m\n",
      " 74%|███████▍  | 68/92 [07:12<05:41, 14.24s/it]\u001b[33mWARNING [bioservices:keggparser:119]: \u001b[0m \u001b[34mFound keyword SYMBOL, which has not special\n",
      "    parsing for now. please report this issue with the KEGG \n",
      "    identifier (54790             CDS       T01001) into github.com/bioservices. Thanks T.C.\u001b[0m\n",
      " 75%|███████▌  | 69/92 [07:12<03:50, 10.03s/it]"
     ]
    },
    {
     "name": "stdout",
     "output_type": "stream",
     "text": [
      "no data for  TET2\n"
     ]
    },
    {
     "name": "stderr",
     "output_type": "stream",
     "text": [
      "\u001b[33mWARNING [bioservices:keggparser:119]: \u001b[0m \u001b[34mFound keyword SYMBOL, which has not special\n",
      "    parsing for now. please report this issue with the KEGG \n",
      "    identifier (51755             CDS       T01001) into github.com/bioservices. Thanks T.C.\u001b[0m\n",
      " 76%|███████▌  | 70/92 [07:13<02:38,  7.20s/it]"
     ]
    },
    {
     "name": "stdout",
     "output_type": "stream",
     "text": [
      "no data for  CDK12\n"
     ]
    },
    {
     "name": "stderr",
     "output_type": "stream",
     "text": [
      "\u001b[33mWARNING [bioservices:keggparser:119]: \u001b[0m \u001b[34mFound keyword SYMBOL, which has not special\n",
      "    parsing for now. please report this issue with the KEGG \n",
      "    identifier (567               CDS       T01001) into github.com/bioservices. Thanks T.C.\u001b[0m\n",
      " 77%|███████▋  | 71/92 [07:16<02:07,  6.07s/it]\u001b[33mWARNING [bioservices:keggparser:119]: \u001b[0m \u001b[34mFound keyword SYMBOL, which has not special\n",
      "    parsing for now. please report this issue with the KEGG \n",
      "    identifier (2625              CDS       T01001) into github.com/bioservices. Thanks T.C.\u001b[0m\n",
      " 78%|███████▊  | 72/92 [07:19<01:37,  4.87s/it]\u001b[33mWARNING [bioservices:keggparser:119]: \u001b[0m \u001b[34mFound keyword SYMBOL, which has not special\n",
      "    parsing for now. please report this issue with the KEGG \n",
      "    identifier (9817              CDS       T01001) into github.com/bioservices. Thanks T.C.\u001b[0m\n",
      " 79%|███████▉  | 73/92 [07:22<01:23,  4.38s/it]\u001b[33mWARNING [bioservices:keggparser:119]: \u001b[0m \u001b[34mFound keyword SYMBOL, which has not special\n",
      "    parsing for now. please report this issue with the KEGG \n",
      "    identifier (5728              CDS       T01001) into github.com/bioservices. Thanks T.C.\u001b[0m\n",
      " 80%|████████  | 74/92 [07:31<01:45,  5.88s/it]\u001b[33mWARNING [bioservices:keggparser:119]: \u001b[0m \u001b[34mFound keyword SYMBOL, which has not special\n",
      "    parsing for now. please report this issue with the KEGG \n",
      "    identifier (639               CDS       T01001) into github.com/bioservices. Thanks T.C.\u001b[0m\n",
      " 82%|████████▏ | 75/92 [07:31<01:10,  4.17s/it]"
     ]
    },
    {
     "name": "stdout",
     "output_type": "stream",
     "text": [
      "no data for  PRDM1\n"
     ]
    },
    {
     "name": "stderr",
     "output_type": "stream",
     "text": [
      "\u001b[33mWARNING [bioservices:keggparser:119]: \u001b[0m \u001b[34mFound keyword SYMBOL, which has not special\n",
      "    parsing for now. please report this issue with the KEGG \n",
      "    identifier (6790              CDS       T01001) into github.com/bioservices. Thanks T.C.\u001b[0m\n",
      " 83%|████████▎ | 76/92 [07:32<00:50,  3.18s/it]\u001b[33mWARNING [bioservices:keggparser:119]: \u001b[0m \u001b[34mFound keyword SYMBOL, which has not special\n",
      "    parsing for now. please report this issue with the KEGG \n",
      "    identifier (6794              CDS       T01001) into github.com/bioservices. Thanks T.C.\u001b[0m\n",
      " 84%|████████▎ | 77/92 [07:37<00:55,  3.70s/it]\u001b[33mWARNING [bioservices:keggparser:119]: \u001b[0m \u001b[34mFound keyword SYMBOL, which has not special\n",
      "    parsing for now. please report this issue with the KEGG \n",
      "    identifier (5781              CDS       T01001) into github.com/bioservices. Thanks T.C.\u001b[0m\n",
      " 85%|████████▍ | 78/92 [07:45<01:08,  4.90s/it]\u001b[33mWARNING [bioservices:keggparser:119]: \u001b[0m \u001b[34mFound keyword SYMBOL, which has not special\n",
      "    parsing for now. please report this issue with the KEGG \n",
      "    identifier (4763              CDS       T01001) into github.com/bioservices. Thanks T.C.\u001b[0m\n",
      " 86%|████████▌ | 79/92 [07:46<00:50,  3.86s/it]\u001b[33mWARNING [bioservices:keggparser:119]: \u001b[0m \u001b[34mFound keyword SYMBOL, which has not special\n",
      "    parsing for now. please report this issue with the KEGG \n",
      "    identifier (668               CDS       T01001) into github.com/bioservices. Thanks T.C.\u001b[0m\n",
      " 87%|████████▋ | 80/92 [07:47<00:34,  2.84s/it]"
     ]
    },
    {
     "name": "stdout",
     "output_type": "stream",
     "text": [
      "no data for  FOXL2\n"
     ]
    },
    {
     "name": "stderr",
     "output_type": "stream",
     "text": [
      "\u001b[33mWARNING [bioservices:keggparser:119]: \u001b[0m \u001b[34mFound keyword SYMBOL, which has not special\n",
      "    parsing for now. please report this issue with the KEGG \n",
      "    identifier (5789              CDS       T01001) into github.com/bioservices. Thanks T.C.\u001b[0m\n",
      " 88%|████████▊ | 81/92 [07:47<00:22,  2.05s/it]"
     ]
    },
    {
     "name": "stdout",
     "output_type": "stream",
     "text": [
      "no data for  PTPRD\n"
     ]
    },
    {
     "name": "stderr",
     "output_type": "stream",
     "text": [
      "\u001b[33mWARNING [bioservices:keggparser:119]: \u001b[0m \u001b[34mFound keyword SYMBOL, which has not special\n",
      "    parsing for now. please report this issue with the KEGG \n",
      "    identifier (672               CDS       T01001) into github.com/bioservices. Thanks T.C.\u001b[0m\n",
      " 89%|████████▉ | 82/92 [07:51<00:26,  2.69s/it]\u001b[33mWARNING [bioservices:keggparser:119]: \u001b[0m \u001b[34mFound keyword SYMBOL, which has not special\n",
      "    parsing for now. please report this issue with the KEGG \n",
      "    identifier (673               CDS       T01001) into github.com/bioservices. Thanks T.C.\u001b[0m\n",
      " 90%|█████████ | 83/92 [08:15<01:21,  9.06s/it]\u001b[33mWARNING [bioservices:keggparser:119]: \u001b[0m \u001b[34mFound keyword SYMBOL, which has not special\n",
      "    parsing for now. please report this issue with the KEGG \n",
      "    identifier (675               CDS       T01001) into github.com/bioservices. Thanks T.C.\u001b[0m\n",
      " 91%|█████████▏| 84/92 [08:18<00:58,  7.29s/it]\u001b[33mWARNING [bioservices:keggparser:119]: \u001b[0m \u001b[34mFound keyword SYMBOL, which has not special\n",
      "    parsing for now. please report this issue with the KEGG \n",
      "    identifier (695               CDS       T01001) into github.com/bioservices. Thanks T.C.\u001b[0m\n",
      " 92%|█████████▏| 85/92 [08:23<00:45,  6.52s/it]\u001b[33mWARNING [bioservices:keggparser:119]: \u001b[0m \u001b[34mFound keyword SYMBOL, which has not special\n",
      "    parsing for now. please report this issue with the KEGG \n",
      "    identifier (3815              CDS       T01001) into github.com/bioservices. Thanks T.C.\u001b[0m\n",
      " 93%|█████████▎| 86/92 [08:30<00:39,  6.63s/it]\u001b[33mWARNING [bioservices:keggparser:119]: \u001b[0m \u001b[34mFound keyword SYMBOL, which has not special\n",
      "    parsing for now. please report this issue with the KEGG \n",
      "    identifier (4851              CDS       T01001) into github.com/bioservices. Thanks T.C.\u001b[0m\n",
      " 95%|█████████▍| 87/92 [08:34<00:29,  5.97s/it]\u001b[33mWARNING [bioservices:keggparser:119]: \u001b[0m \u001b[34mFound keyword SYMBOL, which has not special\n",
      "    parsing for now. please report this issue with the KEGG \n",
      "    identifier (6929              CDS       T01001) into github.com/bioservices. Thanks T.C.\u001b[0m\n",
      " 96%|█████████▌| 88/92 [08:37<00:19,  4.91s/it]\u001b[33mWARNING [bioservices:keggparser:119]: \u001b[0m \u001b[34mFound keyword SYMBOL, which has not special\n",
      "    parsing for now. please report this issue with the KEGG \n",
      "    identifier (4914              CDS       T01001) into github.com/bioservices. Thanks T.C.\u001b[0m\n",
      " 97%|█████████▋| 89/92 [08:42<00:15,  5.03s/it]\u001b[33mWARNING [bioservices:keggparser:119]: \u001b[0m \u001b[34mFound keyword SYMBOL, which has not special\n",
      "    parsing for now. please report this issue with the KEGG \n",
      "    identifier (841               CDS       T01001) into github.com/bioservices. Thanks T.C.\u001b[0m\n",
      " 98%|█████████▊| 90/92 [08:58<00:16,  8.45s/it]\u001b[33mWARNING [bioservices:keggparser:119]: \u001b[0m \u001b[34mFound keyword SYMBOL, which has not special\n",
      "    parsing for now. please report this issue with the KEGG \n",
      "    identifier (5979              CDS       T01001) into github.com/bioservices. Thanks T.C.\u001b[0m\n",
      " 99%|█████████▉| 91/92 [09:02<00:06,  6.99s/it]\u001b[33mWARNING [bioservices:keggparser:119]: \u001b[0m \u001b[34mFound keyword SYMBOL, which has not special\n",
      "    parsing for now. please report this issue with the KEGG \n",
      "    identifier (861               CDS       T01001) into github.com/bioservices. Thanks T.C.\u001b[0m\n",
      "100%|██████████| 92/92 [09:05<00:00,  5.93s/it]\n",
      "  0%|          | 0/48 [00:00<?, ?it/s]"
     ]
    },
    {
     "name": "stdout",
     "output_type": "stream",
     "text": [
      "mutated genes in class 48\n",
      "genes in KEGG Database  22232\n"
     ]
    },
    {
     "name": "stderr",
     "output_type": "stream",
     "text": [
      "\u001b[33mWARNING [bioservices:keggparser:119]: \u001b[0m \u001b[34mFound keyword SYMBOL, which has not special\n",
      "    parsing for now. please report this issue with the KEGG \n",
      "    identifier (867               CDS       T01001) into github.com/bioservices. Thanks T.C.\u001b[0m\n",
      "  2%|▏         | 1/48 [00:03<02:51,  3.65s/it]\u001b[33mWARNING [bioservices:keggparser:119]: \u001b[0m \u001b[34mFound keyword SYMBOL, which has not special\n",
      "    parsing for now. please report this issue with the KEGG \n",
      "    identifier (2956              CDS       T01001) into github.com/bioservices. Thanks T.C.\u001b[0m\n",
      "  4%|▍         | 2/48 [00:06<02:28,  3.23s/it]\u001b[33mWARNING [bioservices:keggparser:119]: \u001b[0m \u001b[34mFound keyword SYMBOL, which has not special\n",
      "    parsing for now. please report this issue with the KEGG \n",
      "    identifier (1956              CDS       T01001) into github.com/bioservices. Thanks T.C.\u001b[0m\n",
      "  6%|▋         | 3/48 [00:28<08:51, 11.80s/it]\u001b[33mWARNING [bioservices:keggparser:119]: \u001b[0m \u001b[34mFound keyword SYMBOL, which has not special\n",
      "    parsing for now. please report this issue with the KEGG \n",
      "    identifier (1999              CDS       T01001) into github.com/bioservices. Thanks T.C.\u001b[0m\n",
      "  8%|▊         | 4/48 [00:28<05:20,  7.28s/it]"
     ]
    },
    {
     "name": "stdout",
     "output_type": "stream",
     "text": [
      "no data for  ELF3\n"
     ]
    },
    {
     "name": "stderr",
     "output_type": "stream",
     "text": [
      "\u001b[33mWARNING [bioservices:keggparser:119]: \u001b[0m \u001b[34mFound keyword SYMBOL, which has not special\n",
      "    parsing for now. please report this issue with the KEGG \n",
      "    identifier (7157              CDS       T01001) into github.com/bioservices. Thanks T.C.\u001b[0m\n",
      " 10%|█         | 5/48 [00:51<09:13, 12.87s/it]\u001b[33mWARNING [bioservices:keggparser:119]: \u001b[0m \u001b[34mFound keyword SYMBOL, which has not special\n",
      "    parsing for now. please report this issue with the KEGG \n",
      "    identifier (4087              CDS       T01001) into github.com/bioservices. Thanks T.C.\u001b[0m\n",
      " 12%|█▎        | 6/48 [01:00<08:03, 11.51s/it]\u001b[33mWARNING [bioservices:keggparser:119]: \u001b[0m \u001b[34mFound keyword SYMBOL, which has not special\n",
      "    parsing for now. please report this issue with the KEGG \n",
      "    identifier (4089              CDS       T01001) into github.com/bioservices. Thanks T.C.\u001b[0m\n",
      " 15%|█▍        | 7/48 [01:09<07:14, 10.59s/it]\u001b[33mWARNING [bioservices:keggparser:119]: \u001b[0m \u001b[34mFound keyword SYMBOL, which has not special\n",
      "    parsing for now. please report this issue with the KEGG \n",
      "    identifier (55294             CDS       T01001) into github.com/bioservices. Thanks T.C.\u001b[0m\n",
      " 17%|█▋        | 8/48 [01:09<04:56,  7.42s/it]\u001b[33mWARNING [bioservices:keggparser:119]: \u001b[0m \u001b[34mFound keyword SYMBOL, which has not special\n",
      "    parsing for now. please report this issue with the KEGG \n",
      "    identifier (2064              CDS       T01001) into github.com/bioservices. Thanks T.C.\u001b[0m\n",
      " 19%|█▉        | 9/48 [01:19<05:15,  8.09s/it]\u001b[33mWARNING [bioservices:keggparser:119]: \u001b[0m \u001b[34mFound keyword SYMBOL, which has not special\n",
      "    parsing for now. please report this issue with the KEGG \n",
      "    identifier (2065              CDS       T01001) into github.com/bioservices. Thanks T.C.\u001b[0m\n",
      " 21%|██        | 10/48 [01:23<04:14,  6.69s/it]\u001b[33mWARNING [bioservices:keggparser:119]: \u001b[0m \u001b[34mFound keyword SYMBOL, which has not special\n",
      "    parsing for now. please report this issue with the KEGG \n",
      "    identifier (2068              CDS       T01001) into github.com/bioservices. Thanks T.C.\u001b[0m\n",
      " 23%|██▎       | 11/48 [01:23<03:02,  4.92s/it]\u001b[33mWARNING [bioservices:keggparser:119]: \u001b[0m \u001b[34mFound keyword SYMBOL, which has not special\n",
      "    parsing for now. please report this issue with the KEGG \n",
      "    identifier (5156              CDS       T01001) into github.com/bioservices. Thanks T.C.\u001b[0m\n",
      " 25%|██▌       | 12/48 [01:32<03:36,  6.01s/it]\u001b[33mWARNING [bioservices:keggparser:119]: \u001b[0m \u001b[34mFound keyword SYMBOL, which has not special\n",
      "    parsing for now. please report this issue with the KEGG \n",
      "    identifier (7248              CDS       T01001) into github.com/bioservices. Thanks T.C.\u001b[0m\n",
      " 27%|██▋       | 13/48 [01:37<03:21,  5.75s/it]\u001b[33mWARNING [bioservices:keggparser:119]: \u001b[0m \u001b[34mFound keyword SYMBOL, which has not special\n",
      "    parsing for now. please report this issue with the KEGG \n",
      "    identifier (4214              CDS       T01001) into github.com/bioservices. Thanks T.C.\u001b[0m\n",
      " 29%|██▉       | 14/48 [01:41<02:59,  5.28s/it]\u001b[33mWARNING [bioservices:keggparser:119]: \u001b[0m \u001b[34mFound keyword SYMBOL, which has not special\n",
      "    parsing for now. please report this issue with the KEGG \n",
      "    identifier (58508             CDS       T01001) into github.com/bioservices. Thanks T.C.\u001b[0m\n",
      " 31%|███▏      | 15/48 [01:42<02:13,  4.04s/it]\u001b[33mWARNING [bioservices:keggparser:119]: \u001b[0m \u001b[34mFound keyword SYMBOL, which has not special\n",
      "    parsing for now. please report this issue with the KEGG \n",
      "    identifier (5290              CDS       T01001) into github.com/bioservices. Thanks T.C.\u001b[0m\n",
      " 33%|███▎      | 16/48 [02:29<09:00, 16.90s/it]\u001b[33mWARNING [bioservices:keggparser:119]: \u001b[0m \u001b[34mFound keyword SYMBOL, which has not special\n",
      "    parsing for now. please report this issue with the KEGG \n",
      "    identifier (5292              CDS       T01001) into github.com/bioservices. Thanks T.C.\u001b[0m\n",
      " 35%|███▌      | 17/48 [02:32<06:35, 12.77s/it]\u001b[33mWARNING [bioservices:keggparser:119]: \u001b[0m \u001b[34mFound keyword SYMBOL, which has not special\n",
      "    parsing for now. please report this issue with the KEGG \n",
      "    identifier (5296              CDS       T01001) into github.com/bioservices. Thanks T.C.\u001b[0m\n",
      " 38%|███▊      | 18/48 [03:19<11:27, 22.92s/it]\u001b[33mWARNING [bioservices:keggparser:119]: \u001b[0m \u001b[34mFound keyword SYMBOL, which has not special\n",
      "    parsing for now. please report this issue with the KEGG \n",
      "    identifier (4292              CDS       T01001) into github.com/bioservices. Thanks T.C.\u001b[0m\n",
      " 40%|███▉      | 19/48 [03:23<08:17, 17.14s/it]\u001b[33mWARNING [bioservices:keggparser:119]: \u001b[0m \u001b[34mFound keyword SYMBOL, which has not special\n",
      "    parsing for now. please report this issue with the KEGG \n",
      "    identifier (207               CDS       T01001) into github.com/bioservices. Thanks T.C.\u001b[0m\n",
      " 42%|████▏     | 20/48 [04:03<11:12, 24.01s/it]\u001b[33mWARNING [bioservices:keggparser:119]: \u001b[0m \u001b[34mFound keyword SYMBOL, which has not special\n",
      "    parsing for now. please report this issue with the KEGG \n",
      "    identifier (2260              CDS       T01001) into github.com/bioservices. Thanks T.C.\u001b[0m\n",
      " 44%|████▍     | 21/48 [04:11<08:45, 19.45s/it]\u001b[33mWARNING [bioservices:keggparser:119]: \u001b[0m \u001b[34mFound keyword SYMBOL, which has not special\n",
      "    parsing for now. please report this issue with the KEGG \n",
      "    identifier (2261              CDS       T01001) into github.com/bioservices. Thanks T.C.\u001b[0m\n",
      " 46%|████▌     | 22/48 [04:19<06:50, 15.78s/it]\u001b[33mWARNING [bioservices:keggparser:119]: \u001b[0m \u001b[34mFound keyword SYMBOL, which has not special\n",
      "    parsing for now. please report this issue with the KEGG \n",
      "    identifier (2263              CDS       T01001) into github.com/bioservices. Thanks T.C.\u001b[0m\n",
      " 48%|████▊     | 23/48 [04:26<05:28, 13.14s/it]\u001b[33mWARNING [bioservices:keggparser:119]: \u001b[0m \u001b[34mFound keyword SYMBOL, which has not special\n",
      "    parsing for now. please report this issue with the KEGG \n",
      "    identifier (238               CDS       T01001) into github.com/bioservices. Thanks T.C.\u001b[0m\n",
      " 50%|█████     | 24/48 [04:27<03:52,  9.71s/it]\u001b[33mWARNING [bioservices:keggparser:119]: \u001b[0m \u001b[34mFound keyword SYMBOL, which has not special\n",
      "    parsing for now. please report this issue with the KEGG \n",
      "    identifier (7428              CDS       T01001) into github.com/bioservices. Thanks T.C.\u001b[0m\n",
      " 52%|█████▏    | 25/48 [04:30<02:51,  7.47s/it]\u001b[33mWARNING [bioservices:keggparser:119]: \u001b[0m \u001b[34mFound keyword SYMBOL, which has not special\n",
      "    parsing for now. please report this issue with the KEGG \n",
      "    identifier (5395              CDS       T01001) into github.com/bioservices. Thanks T.C.\u001b[0m\n",
      " 54%|█████▍    | 26/48 [04:31<02:01,  5.53s/it]\u001b[33mWARNING [bioservices:keggparser:119]: \u001b[0m \u001b[34mFound keyword SYMBOL, which has not special\n",
      "    parsing for now. please report this issue with the KEGG \n",
      "    identifier (4436              CDS       T01001) into github.com/bioservices. Thanks T.C.\u001b[0m\n",
      " 56%|█████▋    | 27/48 [04:33<01:35,  4.57s/it]\u001b[33mWARNING [bioservices:keggparser:119]: \u001b[0m \u001b[34mFound keyword SYMBOL, which has not special\n",
      "    parsing for now. please report this issue with the KEGG \n",
      "    identifier (3417              CDS       T01001) into github.com/bioservices. Thanks T.C.\u001b[0m\n",
      " 58%|█████▊    | 28/48 [04:37<01:26,  4.34s/it]\u001b[33mWARNING [bioservices:keggparser:119]: \u001b[0m \u001b[34mFound keyword SYMBOL, which has not special\n",
      "    parsing for now. please report this issue with the KEGG \n",
      "    identifier (1387              CDS       T01001) into github.com/bioservices. Thanks T.C.\u001b[0m\n",
      " 60%|██████    | 29/48 [04:50<02:14,  7.09s/it]\u001b[33mWARNING [bioservices:keggparser:119]: \u001b[0m \u001b[34mFound keyword SYMBOL, which has not special\n",
      "    parsing for now. please report this issue with the KEGG \n",
      "    identifier (367               CDS       T01001) into github.com/bioservices. Thanks T.C.\u001b[0m\n",
      " 62%|██████▎   | 30/48 [04:52<01:39,  5.55s/it]\u001b[33mWARNING [bioservices:keggparser:119]: \u001b[0m \u001b[34mFound keyword SYMBOL, which has not special\n",
      "    parsing for now. please report this issue with the KEGG \n",
      "    identifier (2475              CDS       T01001) into github.com/bioservices. Thanks T.C.\u001b[0m\n",
      " 65%|██████▍   | 31/48 [05:15<03:01, 10.69s/it]\u001b[33mWARNING [bioservices:keggparser:119]: \u001b[0m \u001b[34mFound keyword SYMBOL, which has not special\n",
      "    parsing for now. please report this issue with the KEGG \n",
      "    identifier (6608              CDS       T01001) into github.com/bioservices. Thanks T.C.\u001b[0m\n"
     ]
    },
    {
     "name": "stderr",
     "output_type": "stream",
     "text": [
      " 67%|██████▋   | 32/48 [05:18<02:14,  8.38s/it]\u001b[33mWARNING [bioservices:keggparser:119]: \u001b[0m \u001b[34mFound keyword SYMBOL, which has not special\n",
      "    parsing for now. please report this issue with the KEGG \n",
      "    identifier (472               CDS       T01001) into github.com/bioservices. Thanks T.C.\u001b[0m\n",
      " 69%|██████▉   | 33/48 [05:24<01:54,  7.65s/it]\u001b[33mWARNING [bioservices:keggparser:119]: \u001b[0m \u001b[34mFound keyword SYMBOL, which has not special\n",
      "    parsing for now. please report this issue with the KEGG \n",
      "    identifier (5604              CDS       T01001) into github.com/bioservices. Thanks T.C.\u001b[0m\n",
      " 71%|███████   | 34/48 [06:00<03:46, 16.15s/it]\u001b[33mWARNING [bioservices:keggparser:119]: \u001b[0m \u001b[34mFound keyword SYMBOL, which has not special\n",
      "    parsing for now. please report this issue with the KEGG \n",
      "    identifier (54790             CDS       T01001) into github.com/bioservices. Thanks T.C.\u001b[0m\n",
      " 73%|███████▎  | 35/48 [06:00<02:27, 11.36s/it]"
     ]
    },
    {
     "name": "stdout",
     "output_type": "stream",
     "text": [
      "no data for  TET2\n"
     ]
    },
    {
     "name": "stderr",
     "output_type": "stream",
     "text": [
      "\u001b[33mWARNING [bioservices:keggparser:119]: \u001b[0m \u001b[34mFound keyword SYMBOL, which has not special\n",
      "    parsing for now. please report this issue with the KEGG \n",
      "    identifier (51755             CDS       T01001) into github.com/bioservices. Thanks T.C.\u001b[0m\n",
      " 75%|███████▌  | 36/48 [06:00<01:36,  8.05s/it]"
     ]
    },
    {
     "name": "stdout",
     "output_type": "stream",
     "text": [
      "no data for  CDK12\n"
     ]
    },
    {
     "name": "stderr",
     "output_type": "stream",
     "text": [
      "\u001b[33mWARNING [bioservices:keggparser:119]: \u001b[0m \u001b[34mFound keyword SYMBOL, which has not special\n",
      "    parsing for now. please report this issue with the KEGG \n",
      "    identifier (5727              CDS       T01001) into github.com/bioservices. Thanks T.C.\u001b[0m\n",
      " 77%|███████▋  | 37/48 [06:03<01:11,  6.47s/it]\u001b[33mWARNING [bioservices:keggparser:119]: \u001b[0m \u001b[34mFound keyword SYMBOL, which has not special\n",
      "    parsing for now. please report this issue with the KEGG \n",
      "    identifier (5728              CDS       T01001) into github.com/bioservices. Thanks T.C.\u001b[0m\n",
      " 79%|███████▉  | 38/48 [06:15<01:20,  8.01s/it]\u001b[33mWARNING [bioservices:keggparser:119]: \u001b[0m \u001b[34mFound keyword SYMBOL, which has not special\n",
      "    parsing for now. please report this issue with the KEGG \n",
      "    identifier (6794              CDS       T01001) into github.com/bioservices. Thanks T.C.\u001b[0m\n",
      " 81%|████████▏ | 39/48 [06:19<01:01,  6.81s/it]\u001b[33mWARNING [bioservices:keggparser:119]: \u001b[0m \u001b[34mFound keyword SYMBOL, which has not special\n",
      "    parsing for now. please report this issue with the KEGG \n",
      "    identifier (672               CDS       T01001) into github.com/bioservices. Thanks T.C.\u001b[0m\n",
      " 83%|████████▎ | 40/48 [06:22<00:46,  5.79s/it]\u001b[33mWARNING [bioservices:keggparser:119]: \u001b[0m \u001b[34mFound keyword SYMBOL, which has not special\n",
      "    parsing for now. please report this issue with the KEGG \n",
      "    identifier (673               CDS       T01001) into github.com/bioservices. Thanks T.C.\u001b[0m\n",
      " 85%|████████▌ | 41/48 [06:44<01:13, 10.52s/it]\u001b[33mWARNING [bioservices:keggparser:119]: \u001b[0m \u001b[34mFound keyword SYMBOL, which has not special\n",
      "    parsing for now. please report this issue with the KEGG \n",
      "    identifier (675               CDS       T01001) into github.com/bioservices. Thanks T.C.\u001b[0m\n",
      " 88%|████████▊ | 42/48 [06:46<00:48,  8.16s/it]\u001b[33mWARNING [bioservices:keggparser:119]: \u001b[0m \u001b[34mFound keyword SYMBOL, which has not special\n",
      "    parsing for now. please report this issue with the KEGG \n",
      "    identifier (4771              CDS       T01001) into github.com/bioservices. Thanks T.C.\u001b[0m\n",
      " 90%|████████▉ | 43/48 [06:48<00:30,  6.15s/it]\u001b[33mWARNING [bioservices:keggparser:119]: \u001b[0m \u001b[34mFound keyword SYMBOL, which has not special\n",
      "    parsing for now. please report this issue with the KEGG \n",
      "    identifier (4851              CDS       T01001) into github.com/bioservices. Thanks T.C.\u001b[0m\n",
      " 92%|█████████▏| 44/48 [06:53<00:23,  5.77s/it]\u001b[33mWARNING [bioservices:keggparser:119]: \u001b[0m \u001b[34mFound keyword SYMBOL, which has not special\n",
      "    parsing for now. please report this issue with the KEGG \n",
      "    identifier (3845              CDS       T01001) into github.com/bioservices. Thanks T.C.\u001b[0m\n",
      " 94%|█████████▍| 45/48 [07:32<00:47, 15.83s/it]\u001b[33mWARNING [bioservices:keggparser:119]: \u001b[0m \u001b[34mFound keyword SYMBOL, which has not special\n",
      "    parsing for now. please report this issue with the KEGG \n",
      "    identifier (5925              CDS       T01001) into github.com/bioservices. Thanks T.C.\u001b[0m\n",
      " 96%|█████████▌| 46/48 [07:45<00:29, 14.86s/it]\u001b[33mWARNING [bioservices:keggparser:119]: \u001b[0m \u001b[34mFound keyword SYMBOL, which has not special\n",
      "    parsing for now. please report this issue with the KEGG \n",
      "    identifier (4915              CDS       T01001) into github.com/bioservices. Thanks T.C.\u001b[0m\n",
      " 98%|█████████▊| 47/48 [07:48<00:11, 11.42s/it]\u001b[33mWARNING [bioservices:keggparser:119]: \u001b[0m \u001b[34mFound keyword SYMBOL, which has not special\n",
      "    parsing for now. please report this issue with the KEGG \n",
      "    identifier (5979              CDS       T01001) into github.com/bioservices. Thanks T.C.\u001b[0m\n",
      "100%|██████████| 48/48 [07:51<00:00,  9.82s/it]\n",
      "  0%|          | 0/56 [00:00<?, ?it/s]"
     ]
    },
    {
     "name": "stdout",
     "output_type": "stream",
     "text": [
      "mutated genes in class 56\n",
      "genes in KEGG Database  22232\n"
     ]
    },
    {
     "name": "stderr",
     "output_type": "stream",
     "text": [
      "\u001b[33mWARNING [bioservices:keggparser:119]: \u001b[0m \u001b[34mFound keyword SYMBOL, which has not special\n",
      "    parsing for now. please report this issue with the KEGG \n",
      "    identifier (867               CDS       T01001) into github.com/bioservices. Thanks T.C.\u001b[0m\n",
      "  2%|▏         | 1/56 [00:03<03:21,  3.66s/it]\u001b[33mWARNING [bioservices:keggparser:119]: \u001b[0m \u001b[34mFound keyword SYMBOL, which has not special\n",
      "    parsing for now. please report this issue with the KEGG \n",
      "    identifier (1956              CDS       T01001) into github.com/bioservices. Thanks T.C.\u001b[0m\n",
      "  4%|▎         | 2/56 [00:24<12:30, 13.90s/it]\u001b[33mWARNING [bioservices:keggparser:119]: \u001b[0m \u001b[34mFound keyword SYMBOL, which has not special\n",
      "    parsing for now. please report this issue with the KEGG \n",
      "    identifier (11200             CDS       T01001) into github.com/bioservices. Thanks T.C.\u001b[0m\n",
      "  5%|▌         | 3/56 [00:26<07:24,  8.38s/it]\u001b[33mWARNING [bioservices:keggparser:119]: \u001b[0m \u001b[34mFound keyword SYMBOL, which has not special\n",
      "    parsing for now. please report this issue with the KEGG \n",
      "    identifier (6098              CDS       T01001) into github.com/bioservices. Thanks T.C.\u001b[0m\n",
      "  7%|▋         | 4/56 [00:26<04:31,  5.23s/it]\u001b[33mWARNING [bioservices:keggparser:119]: \u001b[0m \u001b[34mFound keyword SYMBOL, which has not special\n",
      "    parsing for now. please report this issue with the KEGG \n",
      "    identifier (7157              CDS       T01001) into github.com/bioservices. Thanks T.C.\u001b[0m\n"
     ]
    },
    {
     "name": "stdout",
     "output_type": "stream",
     "text": [
      "no data for  ROS1\n"
     ]
    },
    {
     "name": "stderr",
     "output_type": "stream",
     "text": [
      "  9%|▉         | 5/56 [00:49<09:46, 11.51s/it]\u001b[33mWARNING [bioservices:keggparser:119]: \u001b[0m \u001b[34mFound keyword SYMBOL, which has not special\n",
      "    parsing for now. please report this issue with the KEGG \n",
      "    identifier (4087              CDS       T01001) into github.com/bioservices. Thanks T.C.\u001b[0m\n",
      " 11%|█         | 6/56 [00:57<08:28, 10.17s/it]\u001b[33mWARNING [bioservices:keggparser:119]: \u001b[0m \u001b[34mFound keyword SYMBOL, which has not special\n",
      "    parsing for now. please report this issue with the KEGG \n",
      "    identifier (4089              CDS       T01001) into github.com/bioservices. Thanks T.C.\u001b[0m\n",
      " 12%|█▎        | 7/56 [01:03<07:15,  8.89s/it]\u001b[33mWARNING [bioservices:keggparser:119]: \u001b[0m \u001b[34mFound keyword SYMBOL, which has not special\n",
      "    parsing for now. please report this issue with the KEGG \n",
      "    identifier (1026              CDS       T01001) into github.com/bioservices. Thanks T.C.\u001b[0m\n",
      " 14%|█▍        | 8/56 [01:16<08:17, 10.37s/it]\u001b[33mWARNING [bioservices:keggparser:119]: \u001b[0m \u001b[34mFound keyword SYMBOL, which has not special\n",
      "    parsing for now. please report this issue with the KEGG \n",
      "    identifier (1027              CDS       T01001) into github.com/bioservices. Thanks T.C.\u001b[0m\n",
      " 16%|█▌        | 9/56 [01:24<07:18,  9.33s/it]\u001b[33mWARNING [bioservices:keggparser:119]: \u001b[0m \u001b[34mFound keyword SYMBOL, which has not special\n",
      "    parsing for now. please report this issue with the KEGG \n",
      "    identifier (1029              CDS       T01001) into github.com/bioservices. Thanks T.C.\u001b[0m\n",
      " 18%|█▊        | 10/56 [01:30<06:29,  8.47s/it]\u001b[33mWARNING [bioservices:keggparser:119]: \u001b[0m \u001b[34mFound keyword SYMBOL, which has not special\n",
      "    parsing for now. please report this issue with the KEGG \n",
      "    identifier (2064              CDS       T01001) into github.com/bioservices. Thanks T.C.\u001b[0m\n",
      " 20%|█▉        | 11/56 [01:37<06:05,  8.12s/it]\u001b[33mWARNING [bioservices:keggparser:119]: \u001b[0m \u001b[34mFound keyword SYMBOL, which has not special\n",
      "    parsing for now. please report this issue with the KEGG \n",
      "    identifier (2065              CDS       T01001) into github.com/bioservices. Thanks T.C.\u001b[0m\n",
      " 21%|██▏       | 12/56 [01:40<04:45,  6.49s/it]\u001b[33mWARNING [bioservices:keggparser:119]: \u001b[0m \u001b[34mFound keyword SYMBOL, which has not special\n",
      "    parsing for now. please report this issue with the KEGG \n",
      "    identifier (2066              CDS       T01001) into github.com/bioservices. Thanks T.C.\u001b[0m\n",
      " 23%|██▎       | 13/56 [01:42<03:44,  5.23s/it]\u001b[33mWARNING [bioservices:keggparser:119]: \u001b[0m \u001b[34mFound keyword SYMBOL, which has not special\n",
      "    parsing for now. please report this issue with the KEGG \n",
      "    identifier (83990             CDS       T01001) into github.com/bioservices. Thanks T.C.\u001b[0m\n",
      " 25%|██▌       | 14/56 [01:43<02:42,  3.86s/it]\u001b[33mWARNING [bioservices:keggparser:119]: \u001b[0m \u001b[34mFound keyword SYMBOL, which has not special\n",
      "    parsing for now. please report this issue with the KEGG \n",
      "    identifier (5159              CDS       T01001) into github.com/bioservices. Thanks T.C.\u001b[0m\n",
      " 27%|██▋       | 15/56 [01:50<03:13,  4.71s/it]\u001b[33mWARNING [bioservices:keggparser:119]: \u001b[0m \u001b[34mFound keyword SYMBOL, which has not special\n",
      "    parsing for now. please report this issue with the KEGG \n",
      "    identifier (6256              CDS       T01001) into github.com/bioservices. Thanks T.C.\u001b[0m\n",
      " 29%|██▊       | 16/56 [01:56<03:28,  5.21s/it]\u001b[33mWARNING [bioservices:keggparser:119]: \u001b[0m \u001b[34mFound keyword SYMBOL, which has not special\n",
      "    parsing for now. please report this issue with the KEGG \n",
      "    identifier (4214              CDS       T01001) into github.com/bioservices. Thanks T.C.\u001b[0m\n",
      " 30%|███       | 17/56 [01:59<02:58,  4.57s/it]\u001b[33mWARNING [bioservices:keggparser:119]: \u001b[0m \u001b[34mFound keyword SYMBOL, which has not special\n",
      "    parsing for now. please report this issue with the KEGG \n",
      "    identifier (4233              CDS       T01001) into github.com/bioservices. Thanks T.C.\u001b[0m\n",
      " 32%|███▏      | 18/56 [02:08<03:39,  5.77s/it]\u001b[33mWARNING [bioservices:keggparser:119]: \u001b[0m \u001b[34mFound keyword SYMBOL, which has not special\n",
      "    parsing for now. please report this issue with the KEGG \n",
      "    identifier (5290              CDS       T01001) into github.com/bioservices. Thanks T.C.\u001b[0m\n",
      " 34%|███▍      | 19/56 [02:52<10:38, 17.25s/it]\u001b[33mWARNING [bioservices:keggparser:119]: \u001b[0m \u001b[34mFound keyword SYMBOL, which has not special\n",
      "    parsing for now. please report this issue with the KEGG \n",
      "    identifier (5292              CDS       T01001) into github.com/bioservices. Thanks T.C.\u001b[0m\n",
      " 36%|███▌      | 20/56 [02:58<08:18, 13.86s/it]\u001b[33mWARNING [bioservices:keggparser:119]: \u001b[0m \u001b[34mFound keyword SYMBOL, which has not special\n",
      "    parsing for now. please report this issue with the KEGG \n",
      "    identifier (5296              CDS       T01001) into github.com/bioservices. Thanks T.C.\u001b[0m\n",
      " 38%|███▊      | 21/56 [04:14<18:56, 32.46s/it]\u001b[33mWARNING [bioservices:keggparser:119]: \u001b[0m \u001b[34mFound keyword SYMBOL, which has not special\n",
      "    parsing for now. please report this issue with the KEGG \n",
      "    identifier (4292              CDS       T01001) into github.com/bioservices. Thanks T.C.\u001b[0m\n",
      " 39%|███▉      | 22/56 [04:17<13:31, 23.86s/it]\u001b[33mWARNING [bioservices:keggparser:119]: \u001b[0m \u001b[34mFound keyword SYMBOL, which has not special\n",
      "    parsing for now. please report this issue with the KEGG \n",
      "    identifier (2248              CDS       T01001) into github.com/bioservices. Thanks T.C.\u001b[0m\n",
      " 41%|████      | 23/56 [04:25<10:29, 19.08s/it]\u001b[33mWARNING [bioservices:keggparser:119]: \u001b[0m \u001b[34mFound keyword SYMBOL, which has not special\n",
      "    parsing for now. please report this issue with the KEGG \n",
      "    identifier (2249              CDS       T01001) into github.com/bioservices. Thanks T.C.\u001b[0m\n",
      " 43%|████▎     | 24/56 [04:32<08:08, 15.25s/it]\u001b[33mWARNING [bioservices:keggparser:119]: \u001b[0m \u001b[34mFound keyword SYMBOL, which has not special\n",
      "    parsing for now. please report this issue with the KEGG \n",
      "    identifier (4297              CDS       T01001) into github.com/bioservices. Thanks T.C.\u001b[0m\n",
      " 45%|████▍     | 25/56 [04:33<05:47, 11.21s/it]\u001b[33mWARNING [bioservices:keggparser:119]: \u001b[0m \u001b[34mFound keyword SYMBOL, which has not special\n",
      "    parsing for now. please report this issue with the KEGG \n",
      "    identifier (2261              CDS       T01001) into github.com/bioservices. Thanks T.C.\u001b[0m\n",
      " 46%|████▋     | 26/56 [04:42<05:13, 10.44s/it]\u001b[33mWARNING [bioservices:keggparser:119]: \u001b[0m \u001b[34mFound keyword SYMBOL, which has not special\n",
      "    parsing for now. please report this issue with the KEGG \n",
      "    identifier (2263              CDS       T01001) into github.com/bioservices. Thanks T.C.\u001b[0m\n",
      " 48%|████▊     | 27/56 [04:50<04:36,  9.55s/it]\u001b[33mWARNING [bioservices:keggparser:119]: \u001b[0m \u001b[34mFound keyword SYMBOL, which has not special\n",
      "    parsing for now. please report this issue with the KEGG \n",
      "    identifier (7428              CDS       T01001) into github.com/bioservices. Thanks T.C.\u001b[0m\n",
      " 50%|█████     | 28/56 [04:51<03:22,  7.22s/it]\u001b[33mWARNING [bioservices:keggparser:119]: \u001b[0m \u001b[34mFound keyword SYMBOL, which has not special\n",
      "    parsing for now. please report this issue with the KEGG \n",
      "    identifier (2321              CDS       T01001) into github.com/bioservices. Thanks T.C.\u001b[0m\n",
      " 52%|█████▏    | 29/56 [04:57<02:59,  6.65s/it]\u001b[33mWARNING [bioservices:keggparser:119]: \u001b[0m \u001b[34mFound keyword SYMBOL, which has not special\n",
      "    parsing for now. please report this issue with the KEGG \n",
      "    identifier (4436              CDS       T01001) into github.com/bioservices. Thanks T.C.\u001b[0m\n",
      " 54%|█████▎    | 30/56 [04:58<02:15,  5.19s/it]\u001b[33mWARNING [bioservices:keggparser:119]: \u001b[0m \u001b[34mFound keyword SYMBOL, which has not special\n",
      "    parsing for now. please report this issue with the KEGG \n",
      "    identifier (7514              CDS       T01001) into github.com/bioservices. Thanks T.C.\u001b[0m\n",
      " 55%|█████▌    | 31/56 [05:01<01:46,  4.27s/it]\u001b[33mWARNING [bioservices:keggparser:119]: \u001b[0m \u001b[34mFound keyword SYMBOL, which has not special\n",
      "    parsing for now. please report this issue with the KEGG \n",
      "    identifier (367               CDS       T01001) into github.com/bioservices. Thanks T.C.\u001b[0m\n"
     ]
    },
    {
     "name": "stderr",
     "output_type": "stream",
     "text": [
      " 57%|█████▋    | 32/56 [05:03<01:27,  3.63s/it]\u001b[33mWARNING [bioservices:keggparser:119]: \u001b[0m \u001b[34mFound keyword SYMBOL, which has not special\n",
      "    parsing for now. please report this issue with the KEGG \n",
      "    identifier (5518              CDS       T01001) into github.com/bioservices. Thanks T.C.\u001b[0m\n",
      " 59%|█████▉    | 33/56 [05:09<01:44,  4.55s/it]\u001b[33mWARNING [bioservices:keggparser:119]: \u001b[0m \u001b[34mFound keyword SYMBOL, which has not special\n",
      "    parsing for now. please report this issue with the KEGG \n",
      "    identifier (6608              CDS       T01001) into github.com/bioservices. Thanks T.C.\u001b[0m\n",
      " 61%|██████    | 34/56 [05:12<01:28,  4.04s/it]\u001b[33mWARNING [bioservices:keggparser:119]: \u001b[0m \u001b[34mFound keyword SYMBOL, which has not special\n",
      "    parsing for now. please report this issue with the KEGG \n",
      "    identifier (5604              CDS       T01001) into github.com/bioservices. Thanks T.C.\u001b[0m\n",
      " 62%|██████▎   | 35/56 [05:53<05:13, 14.92s/it]\u001b[33mWARNING [bioservices:keggparser:119]: \u001b[0m \u001b[34mFound keyword SYMBOL, which has not special\n",
      "    parsing for now. please report this issue with the KEGG \n",
      "    identifier (5605              CDS       T01001) into github.com/bioservices. Thanks T.C.\u001b[0m\n",
      " 64%|██████▍   | 36/56 [06:34<07:38, 22.93s/it]\u001b[33mWARNING [bioservices:keggparser:119]: \u001b[0m \u001b[34mFound keyword SYMBOL, which has not special\n",
      "    parsing for now. please report this issue with the KEGG \n",
      "    identifier (4609              CDS       T01001) into github.com/bioservices. Thanks T.C.\u001b[0m\n",
      " 66%|██████▌   | 37/56 [06:49<06:31, 20.61s/it]\u001b[33mWARNING [bioservices:keggparser:119]: \u001b[0m \u001b[34mFound keyword SYMBOL, which has not special\n",
      "    parsing for now. please report this issue with the KEGG \n",
      "    identifier (54790             CDS       T01001) into github.com/bioservices. Thanks T.C.\u001b[0m\n",
      " 68%|██████▊   | 38/56 [06:50<04:22, 14.58s/it]"
     ]
    },
    {
     "name": "stdout",
     "output_type": "stream",
     "text": [
      "no data for  TET2\n"
     ]
    },
    {
     "name": "stderr",
     "output_type": "stream",
     "text": [
      "\u001b[33mWARNING [bioservices:keggparser:119]: \u001b[0m \u001b[34mFound keyword SYMBOL, which has not special\n",
      "    parsing for now. please report this issue with the KEGG \n",
      "    identifier (9757              CDS       T01001) into github.com/bioservices. Thanks T.C.\u001b[0m\n",
      " 70%|██████▉   | 39/56 [06:51<02:58, 10.52s/it]\u001b[33mWARNING [bioservices:KEGG:119]: \u001b[0m \u001b[34mstatus is not ok with Not Found\u001b[0m\n",
      "\u001b[33mWARNING [bioservices:KEGG:119]: \u001b[0m \u001b[34mCould not parse the entry correctly.\u001b[0m\n",
      " 71%|███████▏  | 40/56 [06:51<01:58,  7.42s/it]"
     ]
    },
    {
     "name": "stdout",
     "output_type": "stream",
     "text": [
      "no data for  WHSC1L1\n"
     ]
    },
    {
     "name": "stderr",
     "output_type": "stream",
     "text": [
      "\u001b[33mWARNING [bioservices:keggparser:119]: \u001b[0m \u001b[34mFound keyword SYMBOL, which has not special\n",
      "    parsing for now. please report this issue with the KEGG \n",
      "    identifier (3717              CDS       T01001) into github.com/bioservices. Thanks T.C.\u001b[0m\n",
      " 73%|███████▎  | 41/56 [07:02<02:05,  8.36s/it]\u001b[33mWARNING [bioservices:keggparser:119]: \u001b[0m \u001b[34mFound keyword SYMBOL, which has not special\n",
      "    parsing for now. please report this issue with the KEGG \n",
      "    identifier (5781              CDS       T01001) into github.com/bioservices. Thanks T.C.\u001b[0m\n",
      " 75%|███████▌  | 42/56 [07:10<01:58,  8.48s/it]\u001b[33mWARNING [bioservices:keggparser:119]: \u001b[0m \u001b[34mFound keyword SYMBOL, which has not special\n",
      "    parsing for now. please report this issue with the KEGG \n",
      "    identifier (668               CDS       T01001) into github.com/bioservices. Thanks T.C.\u001b[0m\n",
      " 77%|███████▋  | 43/56 [07:11<01:19,  6.11s/it]"
     ]
    },
    {
     "name": "stdout",
     "output_type": "stream",
     "text": [
      "no data for  FOXL2\n"
     ]
    },
    {
     "name": "stderr",
     "output_type": "stream",
     "text": [
      "\u001b[33mWARNING [bioservices:keggparser:119]: \u001b[0m \u001b[34mFound keyword SYMBOL, which has not special\n",
      "    parsing for now. please report this issue with the KEGG \n",
      "    identifier (672               CDS       T01001) into github.com/bioservices. Thanks T.C.\u001b[0m\n",
      " 79%|███████▊  | 44/56 [07:16<01:10,  5.85s/it]\u001b[33mWARNING [bioservices:keggparser:119]: \u001b[0m \u001b[34mFound keyword SYMBOL, which has not special\n",
      "    parsing for now. please report this issue with the KEGG \n",
      "    identifier (673               CDS       T01001) into github.com/bioservices. Thanks T.C.\u001b[0m\n",
      " 80%|████████  | 45/56 [07:38<01:58, 10.73s/it]\u001b[33mWARNING [bioservices:keggparser:119]: \u001b[0m \u001b[34mFound keyword SYMBOL, which has not special\n",
      "    parsing for now. please report this issue with the KEGG \n",
      "    identifier (675               CDS       T01001) into github.com/bioservices. Thanks T.C.\u001b[0m\n",
      " 82%|████████▏ | 46/56 [07:42<01:24,  8.47s/it]\u001b[33mWARNING [bioservices:keggparser:119]: \u001b[0m \u001b[34mFound keyword SYMBOL, which has not special\n",
      "    parsing for now. please report this issue with the KEGG \n",
      "    identifier (4771              CDS       T01001) into github.com/bioservices. Thanks T.C.\u001b[0m\n",
      " 84%|████████▍ | 47/56 [07:43<00:57,  6.43s/it]\u001b[33mWARNING [bioservices:keggparser:119]: \u001b[0m \u001b[34mFound keyword SYMBOL, which has not special\n",
      "    parsing for now. please report this issue with the KEGG \n",
      "    identifier (3791              CDS       T01001) into github.com/bioservices. Thanks T.C.\u001b[0m\n",
      " 86%|████████▌ | 48/56 [07:48<00:46,  5.84s/it]\u001b[33mWARNING [bioservices:keggparser:119]: \u001b[0m \u001b[34mFound keyword SYMBOL, which has not special\n",
      "    parsing for now. please report this issue with the KEGG \n",
      "    identifier (3815              CDS       T01001) into github.com/bioservices. Thanks T.C.\u001b[0m\n",
      " 88%|████████▊ | 49/56 [07:53<00:40,  5.72s/it]\u001b[33mWARNING [bioservices:keggparser:119]: \u001b[0m \u001b[34mFound keyword SYMBOL, which has not special\n",
      "    parsing for now. please report this issue with the KEGG \n",
      "    identifier (3845              CDS       T01001) into github.com/bioservices. Thanks T.C.\u001b[0m\n",
      " 89%|████████▉ | 50/56 [08:35<01:39, 16.51s/it]\u001b[33mWARNING [bioservices:keggparser:119]: \u001b[0m \u001b[34mFound keyword SYMBOL, which has not special\n",
      "    parsing for now. please report this issue with the KEGG \n",
      "    identifier (5914              CDS       T01001) into github.com/bioservices. Thanks T.C.\u001b[0m\n",
      " 91%|█████████ | 51/56 [08:38<01:02, 12.45s/it]\u001b[33mWARNING [bioservices:keggparser:119]: \u001b[0m \u001b[34mFound keyword SYMBOL, which has not special\n",
      "    parsing for now. please report this issue with the KEGG \n",
      "    identifier (4893              CDS       T01001) into github.com/bioservices. Thanks T.C.\u001b[0m\n",
      " 93%|█████████▎| 52/56 [09:07<01:09, 17.48s/it]\u001b[33mWARNING [bioservices:keggparser:119]: \u001b[0m \u001b[34mFound keyword SYMBOL, which has not special\n",
      "    parsing for now. please report this issue with the KEGG \n",
      "    identifier (5925              CDS       T01001) into github.com/bioservices. Thanks T.C.\u001b[0m\n",
      " 95%|█████████▍| 53/56 [09:16<00:44, 14.97s/it]\u001b[33mWARNING [bioservices:keggparser:119]: \u001b[0m \u001b[34mFound keyword SYMBOL, which has not special\n",
      "    parsing for now. please report this issue with the KEGG \n",
      "    identifier (1846              CDS       T01001) into github.com/bioservices. Thanks T.C.\u001b[0m\n",
      " 96%|█████████▋| 54/56 [09:17<00:21, 10.75s/it]\u001b[33mWARNING [bioservices:keggparser:119]: \u001b[0m \u001b[34mFound keyword SYMBOL, which has not special\n",
      "    parsing for now. please report this issue with the KEGG \n",
      "    identifier (4921              CDS       T01001) into github.com/bioservices. Thanks T.C.\u001b[0m\n",
      " 98%|█████████▊| 55/56 [09:17<00:07,  7.58s/it]"
     ]
    },
    {
     "name": "stdout",
     "output_type": "stream",
     "text": [
      "no data for  DDR2\n"
     ]
    },
    {
     "name": "stderr",
     "output_type": "stream",
     "text": [
      "\u001b[33mWARNING [bioservices:keggparser:119]: \u001b[0m \u001b[34mFound keyword SYMBOL, which has not special\n",
      "    parsing for now. please report this issue with the KEGG \n",
      "    identifier (861               CDS       T01001) into github.com/bioservices. Thanks T.C.\u001b[0m\n",
      "100%|██████████| 56/56 [09:20<00:00, 10.00s/it]\n",
      "  0%|          | 0/108 [00:00<?, ?it/s]"
     ]
    },
    {
     "name": "stdout",
     "output_type": "stream",
     "text": [
      "mutated genes in class 108\n",
      "genes in KEGG Database  22232\n"
     ]
    },
    {
     "name": "stderr",
     "output_type": "stream",
     "text": [
      "\u001b[33mWARNING [bioservices:keggparser:119]: \u001b[0m \u001b[34mFound keyword SYMBOL, which has not special\n",
      "    parsing for now. please report this issue with the KEGG \n",
      "    identifier (7015              CDS       T01001) into github.com/bioservices. Thanks T.C.\u001b[0m\n",
      "  1%|          | 1/108 [00:02<04:14,  2.38s/it]\u001b[33mWARNING [bioservices:keggparser:119]: \u001b[0m \u001b[34mFound keyword SYMBOL, which has not special\n",
      "    parsing for now. please report this issue with the KEGG \n",
      "    identifier (6009              CDS       T01001) into github.com/bioservices. Thanks T.C.\u001b[0m\n",
      "  2%|▏         | 2/108 [00:07<07:06,  4.02s/it]\u001b[33mWARNING [bioservices:keggparser:119]: \u001b[0m \u001b[34mFound keyword SYMBOL, which has not special\n",
      "    parsing for now. please report this issue with the KEGG \n",
      "    identifier (896               CDS       T01001) into github.com/bioservices. Thanks T.C.\u001b[0m\n",
      "  3%|▎         | 3/108 [00:14<09:16,  5.30s/it]\u001b[33mWARNING [bioservices:keggparser:119]: \u001b[0m \u001b[34mFound keyword SYMBOL, which has not special\n",
      "    parsing for now. please report this issue with the KEGG \n",
      "    identifier (6016              CDS       T01001) into github.com/bioservices. Thanks T.C.\u001b[0m\n",
      "  4%|▎         | 4/108 [00:14<05:41,  3.28s/it]"
     ]
    },
    {
     "name": "stdout",
     "output_type": "stream",
     "text": [
      "no data for  RIT1\n"
     ]
    },
    {
     "name": "stderr",
     "output_type": "stream",
     "text": [
      "\u001b[33mWARNING [bioservices:keggparser:119]: \u001b[0m \u001b[34mFound keyword SYMBOL, which has not special\n",
      "    parsing for now. please report this issue with the KEGG \n",
      "    identifier (898               CDS       T01001) into github.com/bioservices. Thanks T.C.\u001b[0m\n",
      "  5%|▍         | 5/108 [00:20<07:35,  4.42s/it]\u001b[33mWARNING [bioservices:keggparser:119]: \u001b[0m \u001b[34mFound keyword SYMBOL, which has not special\n",
      "    parsing for now. please report this issue with the KEGG \n",
      "    identifier (1956              CDS       T01001) into github.com/bioservices. Thanks T.C.\u001b[0m\n",
      "  6%|▌         | 6/108 [00:38<15:03,  8.86s/it]\u001b[33mWARNING [bioservices:keggparser:119]: \u001b[0m \u001b[34mFound keyword SYMBOL, which has not special\n",
      "    parsing for now. please report this issue with the KEGG \n",
      "    identifier (7080              CDS       T01001) into github.com/bioservices. Thanks T.C.\u001b[0m\n",
      "  6%|▋         | 7/108 [00:38<10:08,  6.02s/it]"
     ]
    },
    {
     "name": "stdout",
     "output_type": "stream",
     "text": [
      "no data for  NKX2-1\n"
     ]
    },
    {
     "name": "stderr",
     "output_type": "stream",
     "text": [
      "\u001b[33mWARNING [bioservices:keggparser:119]: \u001b[0m \u001b[34mFound keyword SYMBOL, which has not special\n",
      "    parsing for now. please report this issue with the KEGG \n",
      "    identifier (1964              CDS       T01001) into github.com/bioservices. Thanks T.C.\u001b[0m\n",
      "  7%|▋         | 8/108 [00:38<07:01,  4.21s/it]\u001b[33mWARNING [bioservices:keggparser:119]: \u001b[0m \u001b[34mFound keyword SYMBOL, which has not special\n",
      "    parsing for now. please report this issue with the KEGG \n",
      "    identifier (23476             CDS       T01001) into github.com/bioservices. Thanks T.C.\u001b[0m\n"
     ]
    },
    {
     "name": "stdout",
     "output_type": "stream",
     "text": [
      "no data for  EIF1AX\n"
     ]
    },
    {
     "name": "stderr",
     "output_type": "stream",
     "text": [
      "\r",
      "  8%|▊         | 9/108 [00:39<04:52,  2.95s/it]"
     ]
    },
    {
     "name": "stdout",
     "output_type": "stream",
     "text": [
      "no data for  BRD4\n"
     ]
    },
    {
     "name": "stderr",
     "output_type": "stream",
     "text": [
      "\u001b[33mWARNING [bioservices:keggparser:119]: \u001b[0m \u001b[34mFound keyword SYMBOL, which has not special\n",
      "    parsing for now. please report this issue with the KEGG \n",
      "    identifier (5058              CDS       T01001) into github.com/bioservices. Thanks T.C.\u001b[0m\n",
      "  9%|▉         | 10/108 [00:45<06:43,  4.12s/it]\u001b[33mWARNING [bioservices:keggparser:119]: \u001b[0m \u001b[34mFound keyword SYMBOL, which has not special\n",
      "    parsing for now. please report this issue with the KEGG \n",
      "    identifier (7113              CDS       T01001) into github.com/bioservices. Thanks T.C.\u001b[0m\n",
      " 10%|█         | 11/108 [00:48<05:47,  3.59s/it]\u001b[33mWARNING [bioservices:keggparser:119]: \u001b[0m \u001b[34mFound keyword SYMBOL, which has not special\n",
      "    parsing for now. please report this issue with the KEGG \n",
      "    identifier (6098              CDS       T01001) into github.com/bioservices. Thanks T.C.\u001b[0m\n",
      " 11%|█         | 12/108 [00:48<04:04,  2.55s/it]"
     ]
    },
    {
     "name": "stdout",
     "output_type": "stream",
     "text": [
      "no data for  ROS1\n"
     ]
    },
    {
     "name": "stderr",
     "output_type": "stream",
     "text": [
      "\u001b[33mWARNING [bioservices:keggparser:119]: \u001b[0m \u001b[34mFound keyword SYMBOL, which has not special\n",
      "    parsing for now. please report this issue with the KEGG \n",
      "    identifier (2033              CDS       T01001) into github.com/bioservices. Thanks T.C.\u001b[0m\n",
      " 12%|█▏        | 13/108 [00:58<07:23,  4.67s/it]\u001b[33mWARNING [bioservices:keggparser:119]: \u001b[0m \u001b[34mFound keyword SYMBOL, which has not special\n",
      "    parsing for now. please report this issue with the KEGG \n",
      "    identifier (1019              CDS       T01001) into github.com/bioservices. Thanks T.C.\u001b[0m\n",
      " 13%|█▎        | 14/108 [01:08<09:54,  6.32s/it]\u001b[33mWARNING [bioservices:keggparser:119]: \u001b[0m \u001b[34mFound keyword SYMBOL, which has not special\n",
      "    parsing for now. please report this issue with the KEGG \n",
      "    identifier (1021              CDS       T01001) into github.com/bioservices. Thanks T.C.\u001b[0m\n",
      " 14%|█▍        | 15/108 [01:16<10:41,  6.89s/it]\u001b[33mWARNING [bioservices:keggparser:119]: \u001b[0m \u001b[34mFound keyword SYMBOL, which has not special\n",
      "    parsing for now. please report this issue with the KEGG \n",
      "    identifier (1024              CDS       T01001) into github.com/bioservices. Thanks T.C.\u001b[0m\n",
      " 15%|█▍        | 16/108 [01:16<07:28,  4.88s/it]"
     ]
    },
    {
     "name": "stdout",
     "output_type": "stream",
     "text": [
      "no data for  CDK8\n"
     ]
    },
    {
     "name": "stderr",
     "output_type": "stream",
     "text": [
      "\u001b[33mWARNING [bioservices:keggparser:119]: \u001b[0m \u001b[34mFound keyword SYMBOL, which has not special\n",
      "    parsing for now. please report this issue with the KEGG \n",
      "    identifier (2064              CDS       T01001) into github.com/bioservices. Thanks T.C.\u001b[0m\n",
      " 16%|█▌        | 17/108 [01:23<08:32,  5.63s/it]\u001b[33mWARNING [bioservices:keggparser:119]: \u001b[0m \u001b[34mFound keyword SYMBOL, which has not special\n",
      "    parsing for now. please report this issue with the KEGG \n",
      "    identifier (2065              CDS       T01001) into github.com/bioservices. Thanks T.C.\u001b[0m\n",
      " 17%|█▋        | 18/108 [01:26<07:11,  4.79s/it]\u001b[33mWARNING [bioservices:keggparser:119]: \u001b[0m \u001b[34mFound keyword SYMBOL, which has not special\n",
      "    parsing for now. please report this issue with the KEGG \n",
      "    identifier (2066              CDS       T01001) into github.com/bioservices. Thanks T.C.\u001b[0m\n",
      " 18%|█▊        | 19/108 [01:29<06:00,  4.05s/it]\u001b[33mWARNING [bioservices:keggparser:119]: \u001b[0m \u001b[34mFound keyword SYMBOL, which has not special\n",
      "    parsing for now. please report this issue with the KEGG \n",
      "    identifier (25                CDS       T01001) into github.com/bioservices. Thanks T.C.\u001b[0m\n",
      " 19%|█▊        | 20/108 [01:33<06:04,  4.15s/it]\u001b[33mWARNING [bioservices:keggparser:119]: \u001b[0m \u001b[34mFound keyword SYMBOL, which has not special\n",
      "    parsing for now. please report this issue with the KEGG \n",
      "    identifier (2078              CDS       T01001) into github.com/bioservices. Thanks T.C.\u001b[0m\n",
      " 19%|█▉        | 21/108 [01:34<04:34,  3.16s/it]\u001b[33mWARNING [bioservices:keggparser:119]: \u001b[0m \u001b[34mFound keyword SYMBOL, which has not special\n",
      "    parsing for now. please report this issue with the KEGG \n",
      "    identifier (5156              CDS       T01001) into github.com/bioservices. Thanks T.C.\u001b[0m\n",
      " 20%|██        | 22/108 [01:41<06:11,  4.32s/it]\u001b[33mWARNING [bioservices:keggparser:119]: \u001b[0m \u001b[34mFound keyword SYMBOL, which has not special\n",
      "    parsing for now. please report this issue with the KEGG \n",
      "    identifier (5159              CDS       T01001) into github.com/bioservices. Thanks T.C.\u001b[0m\n",
      " 21%|██▏       | 23/108 [01:48<07:21,  5.20s/it]\u001b[33mWARNING [bioservices:keggparser:119]: \u001b[0m \u001b[34mFound keyword SYMBOL, which has not special\n",
      "    parsing for now. please report this issue with the KEGG \n",
      "    identifier (2099              CDS       T01001) into github.com/bioservices. Thanks T.C.\u001b[0m\n",
      " 22%|██▏       | 24/108 [01:51<06:30,  4.65s/it]\u001b[33mWARNING [bioservices:keggparser:119]: \u001b[0m \u001b[34mFound keyword SYMBOL, which has not special\n",
      "    parsing for now. please report this issue with the KEGG \n",
      "    identifier (2115              CDS       T01001) into github.com/bioservices. Thanks T.C.\u001b[0m\n",
      " 23%|██▎       | 25/108 [01:52<04:46,  3.45s/it]\u001b[33mWARNING [bioservices:keggparser:119]: \u001b[0m \u001b[34mFound keyword SYMBOL, which has not special\n",
      "    parsing for now. please report this issue with the KEGG \n",
      "    identifier (2120              CDS       T01001) into github.com/bioservices. Thanks T.C.\u001b[0m\n",
      " 24%|██▍       | 26/108 [01:53<03:34,  2.62s/it]\u001b[33mWARNING [bioservices:keggparser:119]: \u001b[0m \u001b[34mFound keyword SYMBOL, which has not special\n",
      "    parsing for now. please report this issue with the KEGG \n",
      "    identifier (7249              CDS       T01001) into github.com/bioservices. Thanks T.C.\u001b[0m\n",
      " 25%|██▌       | 27/108 [01:58<04:37,  3.43s/it]\u001b[33mWARNING [bioservices:keggparser:119]: \u001b[0m \u001b[34mFound keyword SYMBOL, which has not special\n",
      "    parsing for now. please report this issue with the KEGG \n",
      "    identifier (2130              CDS       T01001) into github.com/bioservices. Thanks T.C.\u001b[0m\n",
      " 26%|██▌       | 28/108 [01:59<03:27,  2.60s/it]\u001b[33mWARNING [bioservices:keggparser:119]: \u001b[0m \u001b[34mFound keyword SYMBOL, which has not special\n",
      "    parsing for now. please report this issue with the KEGG \n",
      "    identifier (90                CDS       T01001) into github.com/bioservices. Thanks T.C.\u001b[0m\n",
      " 27%|██▋       | 29/108 [02:00<02:59,  2.27s/it]\u001b[33mWARNING [bioservices:keggparser:119]: \u001b[0m \u001b[34mFound keyword SYMBOL, which has not special\n",
      "    parsing for now. please report this issue with the KEGG \n",
      "    identifier (3169              CDS       T01001) into github.com/bioservices. Thanks T.C.\u001b[0m\n",
      " 28%|██▊       | 30/108 [02:01<02:11,  1.69s/it]\u001b[33mWARNING [bioservices:keggparser:119]: \u001b[0m \u001b[34mFound keyword SYMBOL, which has not special\n",
      "    parsing for now. please report this issue with the KEGG \n",
      "    identifier (4193              CDS       T01001) into github.com/bioservices. Thanks T.C.\u001b[0m\n"
     ]
    },
    {
     "name": "stdout",
     "output_type": "stream",
     "text": [
      "no data for  FOXA1\n"
     ]
    },
    {
     "name": "stderr",
     "output_type": "stream",
     "text": [
      " 29%|██▊       | 31/108 [02:09<04:47,  3.73s/it]\u001b[33mWARNING [bioservices:keggparser:119]: \u001b[0m \u001b[34mFound keyword SYMBOL, which has not special\n",
      "    parsing for now. please report this issue with the KEGG \n",
      "    identifier (2146              CDS       T01001) into github.com/bioservices. Thanks T.C.\u001b[0m\n",
      " 30%|██▉       | 32/108 [02:10<03:45,  2.97s/it]\u001b[33mWARNING [bioservices:keggparser:119]: \u001b[0m \u001b[34mFound keyword SYMBOL, which has not special\n",
      "    parsing for now. please report this issue with the KEGG \n",
      "    identifier (4194              CDS       T01001) into github.com/bioservices. Thanks T.C.\u001b[0m\n",
      " 31%|███       | 33/108 [02:11<02:55,  2.33s/it]\u001b[33mWARNING [bioservices:keggparser:119]: \u001b[0m \u001b[34mFound keyword SYMBOL, which has not special\n",
      "    parsing for now. please report this issue with the KEGG \n",
      "    identifier (4233              CDS       T01001) into github.com/bioservices. Thanks T.C.\u001b[0m\n",
      " 31%|███▏      | 34/108 [02:19<04:58,  4.03s/it]\u001b[33mWARNING [bioservices:keggparser:119]: \u001b[0m \u001b[34mFound keyword SYMBOL, which has not special\n",
      "    parsing for now. please report this issue with the KEGG \n",
      "    identifier (5290              CDS       T01001) into github.com/bioservices. Thanks T.C.\u001b[0m\n",
      " 32%|███▏      | 35/108 [02:54<16:04, 13.21s/it]\u001b[33mWARNING [bioservices:keggparser:119]: \u001b[0m \u001b[34mFound keyword SYMBOL, which has not special\n",
      "    parsing for now. please report this issue with the KEGG \n",
      "    identifier (5291              CDS       T01001) into github.com/bioservices. Thanks T.C.\u001b[0m\n",
      " 33%|███▎      | 36/108 [03:30<24:00, 20.01s/it]\u001b[33mWARNING [bioservices:keggparser:119]: \u001b[0m \u001b[34mFound keyword SYMBOL, which has not special\n",
      "    parsing for now. please report this issue with the KEGG \n",
      "    identifier (5293              CDS       T01001) into github.com/bioservices. Thanks T.C.\u001b[0m\n",
      " 34%|███▍      | 37/108 [04:07<29:39, 25.07s/it]\u001b[33mWARNING [bioservices:keggparser:119]: \u001b[0m \u001b[34mFound keyword SYMBOL, which has not special\n",
      "    parsing for now. please report this issue with the KEGG \n",
      "    identifier (10413             CDS       T01001) into github.com/bioservices. Thanks T.C.\u001b[0m\n",
      " 35%|███▌      | 38/108 [04:08<20:53, 17.90s/it]\u001b[33mWARNING [bioservices:keggparser:119]: \u001b[0m \u001b[34mFound keyword SYMBOL, which has not special\n",
      "    parsing for now. please report this issue with the KEGG \n",
      "    identifier (5296              CDS       T01001) into github.com/bioservices. Thanks T.C.\u001b[0m\n",
      " 36%|███▌      | 39/108 [04:43<26:27, 23.00s/it]\u001b[33mWARNING [bioservices:keggparser:119]: \u001b[0m \u001b[34mFound keyword SYMBOL, which has not special\n",
      "    parsing for now. please report this issue with the KEGG \n",
      "    identifier (3265              CDS       T01001) into github.com/bioservices. Thanks T.C.\u001b[0m\n",
      " 37%|███▋      | 40/108 [05:11<27:51, 24.57s/it]\u001b[33mWARNING [bioservices:keggparser:119]: \u001b[0m \u001b[34mFound keyword SYMBOL, which has not special\n",
      "    parsing for now. please report this issue with the KEGG \n",
      "    identifier (207               CDS       T01001) into github.com/bioservices. Thanks T.C.\u001b[0m\n",
      " 38%|███▊      | 41/108 [05:44<30:14, 27.09s/it]\u001b[33mWARNING [bioservices:keggparser:119]: \u001b[0m \u001b[34mFound keyword SYMBOL, which has not special\n",
      "    parsing for now. please report this issue with the KEGG \n",
      "    identifier (208               CDS       T01001) into github.com/bioservices. Thanks T.C.\u001b[0m\n",
      " 39%|███▉      | 42/108 [06:18<32:06, 29.19s/it]\u001b[33mWARNING [bioservices:keggparser:119]: \u001b[0m \u001b[34mFound keyword SYMBOL, which has not special\n",
      "    parsing for now. please report this issue with the KEGG \n",
      "    identifier (2260              CDS       T01001) into github.com/bioservices. Thanks T.C.\u001b[0m\n",
      " 40%|███▉      | 43/108 [06:24<23:59, 22.15s/it]\u001b[33mWARNING [bioservices:keggparser:119]: \u001b[0m \u001b[34mFound keyword SYMBOL, which has not special\n",
      "    parsing for now. please report this issue with the KEGG \n",
      "    identifier (2261              CDS       T01001) into github.com/bioservices. Thanks T.C.\u001b[0m\n",
      " 41%|████      | 44/108 [06:29<18:08, 17.01s/it]\u001b[33mWARNING [bioservices:keggparser:119]: \u001b[0m \u001b[34mFound keyword SYMBOL, which has not special\n",
      "    parsing for now. please report this issue with the KEGG \n",
      "    identifier (2263              CDS       T01001) into github.com/bioservices. Thanks T.C.\u001b[0m\n",
      " 42%|████▏     | 45/108 [06:34<14:03, 13.39s/it]\u001b[33mWARNING [bioservices:keggparser:119]: \u001b[0m \u001b[34mFound keyword SYMBOL, which has not special\n",
      "    parsing for now. please report this issue with the KEGG \n",
      "    identifier (2264              CDS       T01001) into github.com/bioservices. Thanks T.C.\u001b[0m\n",
      " 43%|████▎     | 46/108 [06:37<10:47, 10.44s/it]\u001b[33mWARNING [bioservices:keggparser:119]: \u001b[0m \u001b[34mFound keyword SYMBOL, which has not special\n",
      "    parsing for now. please report this issue with the KEGG \n",
      "    identifier (238               CDS       T01001) into github.com/bioservices. Thanks T.C.\u001b[0m\n",
      " 44%|████▎     | 47/108 [06:39<07:53,  7.76s/it]\u001b[33mWARNING [bioservices:keggparser:119]: \u001b[0m \u001b[34mFound keyword SYMBOL, which has not special\n",
      "    parsing for now. please report this issue with the KEGG \n",
      "    identifier (7422              CDS       T01001) into github.com/bioservices. Thanks T.C.\u001b[0m\n",
      " 44%|████▍     | 48/108 [06:47<07:54,  7.92s/it]\u001b[33mWARNING [bioservices:keggparser:119]: \u001b[0m \u001b[34mFound keyword SYMBOL, which has not special\n",
      "    parsing for now. please report this issue with the KEGG \n",
      "    identifier (4352              CDS       T01001) into github.com/bioservices. Thanks T.C.\u001b[0m\n",
      " 45%|████▌     | 49/108 [06:48<05:44,  5.85s/it]\u001b[33mWARNING [bioservices:keggparser:119]: \u001b[0m \u001b[34mFound keyword SYMBOL, which has not special\n",
      "    parsing for now. please report this issue with the KEGG \n",
      "    identifier (22800             CDS       T01001) into github.com/bioservices. Thanks T.C.\u001b[0m\n",
      " 46%|████▋     | 50/108 [06:52<05:09,  5.33s/it]\u001b[33mWARNING [bioservices:keggparser:119]: \u001b[0m \u001b[34mFound keyword SYMBOL, which has not special\n",
      "    parsing for now. please report this issue with the KEGG \n",
      "    identifier (2322              CDS       T01001) into github.com/bioservices. Thanks T.C.\u001b[0m\n",
      " 47%|████▋     | 51/108 [06:55<04:25,  4.66s/it]\u001b[33mWARNING [bioservices:KEGG:119]: \u001b[0m \u001b[34mstatus is not ok with Not Found\u001b[0m\n",
      "\u001b[33mWARNING [bioservices:KEGG:119]: \u001b[0m \u001b[34mCould not parse the entry correctly.\u001b[0m\n",
      " 48%|████▊     | 52/108 [06:56<03:08,  3.36s/it]"
     ]
    },
    {
     "name": "stdout",
     "output_type": "stream",
     "text": [
      "no data for  WHSC1\n"
     ]
    },
    {
     "name": "stderr",
     "output_type": "stream",
     "text": [
      "\u001b[33mWARNING [bioservices:keggparser:119]: \u001b[0m \u001b[34mFound keyword SYMBOL, which has not special\n",
      "    parsing for now. please report this issue with the KEGG \n",
      "    identifier (8493              CDS       T01001) into github.com/bioservices. Thanks T.C.\u001b[0m\n",
      " 49%|████▉     | 53/108 [06:56<02:18,  2.51s/it]\u001b[33mWARNING [bioservices:keggparser:119]: \u001b[0m \u001b[34mFound keyword SYMBOL, which has not special\n",
      "    parsing for now. please report this issue with the KEGG \n",
      "    identifier (253260            CDS       T01001) into github.com/bioservices. Thanks T.C.\u001b[0m\n",
      " 50%|█████     | 54/108 [06:57<01:45,  1.96s/it]\u001b[33mWARNING [bioservices:keggparser:119]: \u001b[0m \u001b[34mFound keyword SYMBOL, which has not special\n",
      "    parsing for now. please report this issue with the KEGG \n",
      "    identifier (3417              CDS       T01001) into github.com/bioservices. Thanks T.C.\u001b[0m\n",
      " 51%|█████     | 55/108 [06:59<01:49,  2.06s/it]\u001b[33mWARNING [bioservices:keggparser:119]: \u001b[0m \u001b[34mFound keyword SYMBOL, which has not special\n",
      "    parsing for now. please report this issue with the KEGG \n",
      "    identifier (367               CDS       T01001) into github.com/bioservices. Thanks T.C.\u001b[0m\n",
      " 52%|█████▏    | 56/108 [07:01<01:42,  1.97s/it]\u001b[33mWARNING [bioservices:keggparser:119]: \u001b[0m \u001b[34mFound keyword SYMBOL, which has not special\n",
      "    parsing for now. please report this issue with the KEGG \n",
      "    identifier (369               CDS       T01001) into github.com/bioservices. Thanks T.C.\u001b[0m\n",
      " 53%|█████▎    | 57/108 [07:13<04:21,  5.12s/it]\u001b[33mWARNING [bioservices:keggparser:119]: \u001b[0m \u001b[34mFound keyword SYMBOL, which has not special\n",
      "    parsing for now. please report this issue with the KEGG \n",
      "    identifier (387               CDS       T01001) into github.com/bioservices. Thanks T.C.\u001b[0m\n",
      " 54%|█████▎    | 58/108 [07:28<06:36,  7.93s/it]\u001b[33mWARNING [bioservices:keggparser:119]: \u001b[0m \u001b[34mFound keyword SYMBOL, which has not special\n",
      "    parsing for now. please report this issue with the KEGG \n",
      "    identifier (5518              CDS       T01001) into github.com/bioservices. Thanks T.C.\u001b[0m\n",
      " 55%|█████▍    | 59/108 [07:33<05:47,  7.09s/it]\u001b[33mWARNING [bioservices:keggparser:119]: \u001b[0m \u001b[34mFound keyword SYMBOL, which has not special\n",
      "    parsing for now. please report this issue with the KEGG \n",
      "    identifier (2475              CDS       T01001) into github.com/bioservices. Thanks T.C.\u001b[0m\n",
      " 56%|█████▌    | 60/108 [07:52<08:29, 10.61s/it]\u001b[33mWARNING [bioservices:keggparser:119]: \u001b[0m \u001b[34mFound keyword SYMBOL, which has not special\n",
      "    parsing for now. please report this issue with the KEGG \n",
      "    identifier (80312             CDS       T01001) into github.com/bioservices. Thanks T.C.\u001b[0m\n",
      " 56%|█████▋    | 61/108 [07:52<05:51,  7.48s/it]"
     ]
    },
    {
     "name": "stdout",
     "output_type": "stream",
     "text": [
      "no data for  TET1\n"
     ]
    },
    {
     "name": "stderr",
     "output_type": "stream",
     "text": [
      "\u001b[33mWARNING [bioservices:keggparser:119]: \u001b[0m \u001b[34mFound keyword SYMBOL, which has not special\n",
      "    parsing for now. please report this issue with the KEGG \n",
      "    identifier (6608              CDS       T01001) into github.com/bioservices. Thanks T.C.\u001b[0m\n",
      " 57%|█████▋    | 62/108 [07:54<04:30,  5.89s/it]\u001b[33mWARNING [bioservices:keggparser:119]: \u001b[0m \u001b[34mFound keyword SYMBOL, which has not special\n",
      "    parsing for now. please report this issue with the KEGG \n",
      "    identifier (84433             CDS       T01001) into github.com/bioservices. Thanks T.C.\u001b[0m\n",
      " 58%|█████▊    | 63/108 [07:55<03:21,  4.48s/it]\u001b[33mWARNING [bioservices:keggparser:119]: \u001b[0m \u001b[34mFound keyword SYMBOL, which has not special\n",
      "    parsing for now. please report this issue with the KEGG \n",
      "    identifier (100271849         CDS       T01001) into github.com/bioservices. Thanks T.C.\u001b[0m\n",
      " 59%|█████▉    | 64/108 [07:56<02:32,  3.46s/it]\u001b[33mWARNING [bioservices:keggparser:119]: \u001b[0m \u001b[34mFound keyword SYMBOL, which has not special\n",
      "    parsing for now. please report this issue with the KEGG \n",
      "    identifier (5594              CDS       T01001) into github.com/bioservices. Thanks T.C.\u001b[0m\n",
      " 60%|██████    | 65/108 [08:36<10:12, 14.25s/it]\u001b[33mWARNING [bioservices:keggparser:119]: \u001b[0m \u001b[34mFound keyword SYMBOL, which has not special\n",
      "    parsing for now. please report this issue with the KEGG \n",
      "    identifier (1499              CDS       T01001) into github.com/bioservices. Thanks T.C.\u001b[0m\n",
      " 61%|██████    | 66/108 [08:47<09:18, 13.30s/it]\u001b[33mWARNING [bioservices:keggparser:119]: \u001b[0m \u001b[34mFound keyword SYMBOL, which has not special\n",
      "    parsing for now. please report this issue with the KEGG \n",
      "    identifier (5604              CDS       T01001) into github.com/bioservices. Thanks T.C.\u001b[0m\n",
      " 62%|██████▏   | 67/108 [09:17<12:27, 18.24s/it]\u001b[33mWARNING [bioservices:keggparser:119]: \u001b[0m \u001b[34mFound keyword SYMBOL, which has not special\n",
      "    parsing for now. please report this issue with the KEGG \n",
      "    identifier (5605              CDS       T01001) into github.com/bioservices. Thanks T.C.\u001b[0m\n",
      " 63%|██████▎   | 68/108 [09:42<13:39, 20.48s/it]\u001b[33mWARNING [bioservices:keggparser:119]: \u001b[0m \u001b[34mFound keyword SYMBOL, which has not special\n",
      "    parsing for now. please report this issue with the KEGG \n",
      "    identifier (3575              CDS       T01001) into github.com/bioservices. Thanks T.C.\u001b[0m\n",
      " 64%|██████▍   | 69/108 [09:45<09:52, 15.19s/it]\u001b[33mWARNING [bioservices:keggparser:119]: \u001b[0m \u001b[34mFound keyword SYMBOL, which has not special\n",
      "    parsing for now. please report this issue with the KEGG \n",
      "    identifier (6654              CDS       T01001) into github.com/bioservices. Thanks T.C.\u001b[0m\n",
      " 65%|██████▍   | 70/108 [10:02<09:56, 15.70s/it]\u001b[33mWARNING [bioservices:keggparser:119]: \u001b[0m \u001b[34mFound keyword SYMBOL, which has not special\n",
      "    parsing for now. please report this issue with the KEGG \n",
      "    identifier (4609              CDS       T01001) into github.com/bioservices. Thanks T.C.\u001b[0m\n",
      " 66%|██████▌   | 71/108 [10:13<08:52, 14.40s/it]\u001b[33mWARNING [bioservices:keggparser:119]: \u001b[0m \u001b[34mFound keyword SYMBOL, which has not special\n",
      "    parsing for now. please report this issue with the KEGG \n",
      "    identifier (4613              CDS       T01001) into github.com/bioservices. Thanks T.C.\u001b[0m\n",
      " 67%|██████▋   | 72/108 [10:14<06:10, 10.29s/it]\u001b[33mWARNING [bioservices:keggparser:119]: \u001b[0m \u001b[34mFound keyword SYMBOL, which has not special\n",
      "    parsing for now. please report this issue with the KEGG \n",
      "    identifier (6662              CDS       T01001) into github.com/bioservices. Thanks T.C.\u001b[0m\n",
      " 68%|██████▊   | 73/108 [10:15<04:19,  7.41s/it]\u001b[33mWARNING [bioservices:keggparser:119]: \u001b[0m \u001b[34mFound keyword SYMBOL, which has not special\n",
      "    parsing for now. please report this issue with the KEGG \n",
      "    identifier (4615              CDS       T01001) into github.com/bioservices. Thanks T.C.\u001b[0m\n",
      " 69%|██████▊   | 74/108 [10:24<04:30,  7.96s/it]\u001b[33mWARNING [bioservices:keggparser:119]: \u001b[0m \u001b[34mFound keyword SYMBOL, which has not special\n",
      "    parsing for now. please report this issue with the KEGG \n",
      "    identifier (6714              CDS       T01001) into github.com/bioservices. Thanks T.C.\u001b[0m\n",
      " 69%|██████▉   | 75/108 [10:38<05:25,  9.86s/it]\u001b[33mWARNING [bioservices:keggparser:119]: \u001b[0m \u001b[34mFound keyword SYMBOL, which has not special\n",
      "    parsing for now. please report this issue with the KEGG \n",
      "    identifier (595               CDS       T01001) into github.com/bioservices. Thanks T.C.\u001b[0m\n",
      " 70%|███████   | 76/108 [10:56<06:25, 12.05s/it]\u001b[33mWARNING [bioservices:keggparser:119]: \u001b[0m \u001b[34mFound keyword SYMBOL, which has not special\n",
      "    parsing for now. please report this issue with the KEGG \n",
      "    identifier (596               CDS       T01001) into github.com/bioservices. Thanks T.C.\u001b[0m\n",
      " 71%|███████▏  | 77/108 [11:10<06:40, 12.91s/it]\u001b[33mWARNING [bioservices:keggparser:119]: \u001b[0m \u001b[34mFound keyword SYMBOL, which has not special\n",
      "    parsing for now. please report this issue with the KEGG \n",
      "    identifier (5728              CDS       T01001) into github.com/bioservices. Thanks T.C.\u001b[0m\n",
      " 72%|███████▏  | 78/108 [11:20<05:59, 11.97s/it]\u001b[33mWARNING [bioservices:keggparser:119]: \u001b[0m \u001b[34mFound keyword SYMBOL, which has not special\n",
      "    parsing for now. please report this issue with the KEGG \n",
      "    identifier (6774              CDS       T01001) into github.com/bioservices. Thanks T.C.\u001b[0m\n",
      " 73%|███████▎  | 79/108 [11:31<05:38, 11.66s/it]\u001b[33mWARNING [bioservices:keggparser:119]: \u001b[0m \u001b[34mFound keyword SYMBOL, which has not special\n",
      "    parsing for now. please report this issue with the KEGG \n",
      "    identifier (3716              CDS       T01001) into github.com/bioservices. Thanks T.C.\u001b[0m\n",
      " 74%|███████▍  | 80/108 [11:41<05:09, 11.05s/it]\u001b[33mWARNING [bioservices:keggparser:119]: \u001b[0m \u001b[34mFound keyword SYMBOL, which has not special\n",
      "    parsing for now. please report this issue with the KEGG \n",
      "    identifier (3717              CDS       T01001) into github.com/bioservices. Thanks T.C.\u001b[0m\n",
      " 75%|███████▌  | 81/108 [11:49<04:39, 10.35s/it]\u001b[33mWARNING [bioservices:keggparser:119]: \u001b[0m \u001b[34mFound keyword SYMBOL, which has not special\n",
      "    parsing for now. please report this issue with the KEGG \n",
      "    identifier (6790              CDS       T01001) into github.com/bioservices. Thanks T.C.\u001b[0m\n",
      " 76%|███████▌  | 82/108 [11:50<03:15,  7.50s/it]\u001b[33mWARNING [bioservices:keggparser:119]: \u001b[0m \u001b[34mFound keyword SYMBOL, which has not special\n",
      "    parsing for now. please report this issue with the KEGG \n",
      "    identifier (3725              CDS       T01001) into github.com/bioservices. Thanks T.C.\u001b[0m\n",
      " 77%|███████▋  | 83/108 [12:09<04:31, 10.87s/it]\u001b[33mWARNING [bioservices:keggparser:119]: \u001b[0m \u001b[34mFound keyword SYMBOL, which has not special\n",
      "    parsing for now. please report this issue with the KEGG \n",
      "    identifier (5781              CDS       T01001) into github.com/bioservices. Thanks T.C.\u001b[0m\n",
      " 78%|███████▊  | 84/108 [12:15<03:45,  9.40s/it]\u001b[33mWARNING [bioservices:keggparser:119]: \u001b[0m \u001b[34mFound keyword SYMBOL, which has not special\n",
      "    parsing for now. please report this issue with the KEGG \n",
      "    identifier (673               CDS       T01001) into github.com/bioservices. Thanks T.C.\u001b[0m\n",
      " 79%|███████▊  | 85/108 [12:30<04:14, 11.08s/it]\u001b[33mWARNING [bioservices:keggparser:119]: \u001b[0m \u001b[34mFound keyword SYMBOL, which has not special\n",
      "    parsing for now. please report this issue with the KEGG \n",
      "    identifier (7849              CDS       T01001) into github.com/bioservices. Thanks T.C.\u001b[0m\n",
      " 80%|███████▉  | 86/108 [12:32<03:01,  8.26s/it]\u001b[33mWARNING [bioservices:keggparser:119]: \u001b[0m \u001b[34mFound keyword SYMBOL, which has not special\n",
      "    parsing for now. please report this issue with the KEGG \n",
      "    identifier (4780              CDS       T01001) into github.com/bioservices. Thanks T.C.\u001b[0m\n",
      " 81%|████████  | 87/108 [12:35<02:19,  6.63s/it]\u001b[33mWARNING [bioservices:keggparser:119]: \u001b[0m \u001b[34mFound keyword SYMBOL, which has not special\n",
      "    parsing for now. please report this issue with the KEGG \n",
      "    identifier (695               CDS       T01001) into github.com/bioservices. Thanks T.C.\u001b[0m\n",
      " 81%|████████▏ | 88/108 [12:37<01:47,  5.36s/it]\u001b[33mWARNING [bioservices:keggparser:119]: \u001b[0m \u001b[34mFound keyword SYMBOL, which has not special\n",
      "    parsing for now. please report this issue with the KEGG \n",
      "    identifier (4792              CDS       T01001) into github.com/bioservices. Thanks T.C.\u001b[0m\n"
     ]
    },
    {
     "name": "stderr",
     "output_type": "stream",
     "text": [
      " 82%|████████▏ | 89/108 [12:53<02:44,  8.67s/it]\u001b[33mWARNING [bioservices:keggparser:119]: \u001b[0m \u001b[34mFound keyword SYMBOL, which has not special\n",
      "    parsing for now. please report this issue with the KEGG \n",
      "    identifier (2767              CDS       T01001) into github.com/bioservices. Thanks T.C.\u001b[0m\n",
      " 83%|████████▎ | 90/108 [13:00<02:25,  8.08s/it]\u001b[33mWARNING [bioservices:keggparser:119]: \u001b[0m \u001b[34mFound keyword SYMBOL, which has not special\n",
      "    parsing for now. please report this issue with the KEGG \n",
      "    identifier (3791              CDS       T01001) into github.com/bioservices. Thanks T.C.\u001b[0m\n",
      " 84%|████████▍ | 91/108 [13:04<01:55,  6.79s/it]\u001b[33mWARNING [bioservices:keggparser:119]: \u001b[0m \u001b[34mFound keyword SYMBOL, which has not special\n",
      "    parsing for now. please report this issue with the KEGG \n",
      "    identifier (2776              CDS       T01001) into github.com/bioservices. Thanks T.C.\u001b[0m\n",
      " 85%|████████▌ | 92/108 [13:20<02:33,  9.58s/it]\u001b[33mWARNING [bioservices:keggparser:119]: \u001b[0m \u001b[34mFound keyword SYMBOL, which has not special\n",
      "    parsing for now. please report this issue with the KEGG \n",
      "    identifier (2778              CDS       T01001) into github.com/bioservices. Thanks T.C.\u001b[0m\n",
      " 86%|████████▌ | 93/108 [13:37<02:55, 11.73s/it]\u001b[33mWARNING [bioservices:keggparser:119]: \u001b[0m \u001b[34mFound keyword SYMBOL, which has not special\n",
      "    parsing for now. please report this issue with the KEGG \n",
      "    identifier (3815              CDS       T01001) into github.com/bioservices. Thanks T.C.\u001b[0m\n",
      " 87%|████████▋ | 94/108 [13:41<02:11,  9.39s/it]\u001b[33mWARNING [bioservices:keggparser:119]: \u001b[0m \u001b[34mFound keyword SYMBOL, which has not special\n",
      "    parsing for now. please report this issue with the KEGG \n",
      "    identifier (9968              CDS       T01001) into github.com/bioservices. Thanks T.C.\u001b[0m\n",
      " 88%|████████▊ | 95/108 [13:41<01:27,  6.73s/it]\u001b[33mWARNING [bioservices:keggparser:119]: \u001b[0m \u001b[34mFound keyword SYMBOL, which has not special\n",
      "    parsing for now. please report this issue with the KEGG \n",
      "    identifier (4851              CDS       T01001) into github.com/bioservices. Thanks T.C.\u001b[0m\n",
      " 89%|████████▉ | 96/108 [13:45<01:08,  5.73s/it]\u001b[33mWARNING [bioservices:keggparser:119]: \u001b[0m \u001b[34mFound keyword SYMBOL, which has not special\n",
      "    parsing for now. please report this issue with the KEGG \n",
      "    identifier (5879              CDS       T01001) into github.com/bioservices. Thanks T.C.\u001b[0m\n",
      " 90%|████████▉ | 97/108 [14:02<01:41,  9.21s/it]\u001b[33mWARNING [bioservices:keggparser:119]: \u001b[0m \u001b[34mFound keyword SYMBOL, which has not special\n",
      "    parsing for now. please report this issue with the KEGG \n",
      "    identifier (3845              CDS       T01001) into github.com/bioservices. Thanks T.C.\u001b[0m\n",
      " 91%|█████████ | 98/108 [14:30<02:29, 14.93s/it]\u001b[33mWARNING [bioservices:keggparser:119]: \u001b[0m \u001b[34mFound keyword SYMBOL, which has not special\n",
      "    parsing for now. please report this issue with the KEGG \n",
      "    identifier (5894              CDS       T01001) into github.com/bioservices. Thanks T.C.\u001b[0m\n",
      " 92%|█████████▏| 99/108 [14:58<02:49, 18.83s/it]\u001b[33mWARNING [bioservices:keggparser:119]: \u001b[0m \u001b[34mFound keyword SYMBOL, which has not special\n",
      "    parsing for now. please report this issue with the KEGG \n",
      "    identifier (11021             CDS       T01001) into github.com/bioservices. Thanks T.C.\u001b[0m\n",
      " 93%|█████████▎| 100/108 [14:59<01:47, 13.38s/it]\u001b[33mWARNING [bioservices:keggparser:119]: \u001b[0m \u001b[34mFound keyword SYMBOL, which has not special\n",
      "    parsing for now. please report this issue with the KEGG \n",
      "    identifier (10000             CDS       T01001) into github.com/bioservices. Thanks T.C.\u001b[0m\n",
      " 94%|█████████▎| 101/108 [15:32<02:14, 19.22s/it]\u001b[33mWARNING [bioservices:keggparser:119]: \u001b[0m \u001b[34mFound keyword SYMBOL, which has not special\n",
      "    parsing for now. please report this issue with the KEGG \n",
      "    identifier (4893              CDS       T01001) into github.com/bioservices. Thanks T.C.\u001b[0m\n",
      " 94%|█████████▍| 102/108 [15:58<02:08, 21.37s/it]\u001b[33mWARNING [bioservices:keggparser:119]: \u001b[0m \u001b[34mFound keyword SYMBOL, which has not special\n",
      "    parsing for now. please report this issue with the KEGG \n",
      "    identifier (4914              CDS       T01001) into github.com/bioservices. Thanks T.C.\u001b[0m\n",
      " 95%|█████████▌| 103/108 [16:02<01:20, 16.19s/it]\u001b[33mWARNING [bioservices:keggparser:119]: \u001b[0m \u001b[34mFound keyword SYMBOL, which has not special\n",
      "    parsing for now. please report this issue with the KEGG \n",
      "    identifier (4916              CDS       T01001) into github.com/bioservices. Thanks T.C.\u001b[0m\n",
      " 96%|█████████▋| 104/108 [16:03<00:46, 11.70s/it]\u001b[33mWARNING [bioservices:keggparser:119]: \u001b[0m \u001b[34mFound keyword SYMBOL, which has not special\n",
      "    parsing for now. please report this issue with the KEGG \n",
      "    identifier (4921              CDS       T01001) into github.com/bioservices. Thanks T.C.\u001b[0m\n",
      " 97%|█████████▋| 105/108 [16:03<00:24,  8.24s/it]"
     ]
    },
    {
     "name": "stdout",
     "output_type": "stream",
     "text": [
      "no data for  DDR2\n"
     ]
    },
    {
     "name": "stderr",
     "output_type": "stream",
     "text": [
      "\u001b[33mWARNING [bioservices:keggparser:119]: \u001b[0m \u001b[34mFound keyword SYMBOL, which has not special\n",
      "    parsing for now. please report this issue with the KEGG \n",
      "    identifier (841               CDS       T01001) into github.com/bioservices. Thanks T.C.\u001b[0m\n",
      " 98%|█████████▊| 106/108 [16:16<00:19,  9.52s/it]\u001b[33mWARNING [bioservices:keggparser:119]: \u001b[0m \u001b[34mFound keyword SYMBOL, which has not special\n",
      "    parsing for now. please report this issue with the KEGG \n",
      "    identifier (5979              CDS       T01001) into github.com/bioservices. Thanks T.C.\u001b[0m\n",
      " 99%|█████████▉| 107/108 [16:18<00:07,  7.27s/it]\u001b[33mWARNING [bioservices:keggparser:119]: \u001b[0m \u001b[34mFound keyword SYMBOL, which has not special\n",
      "    parsing for now. please report this issue with the KEGG \n",
      "    identifier (861               CDS       T01001) into github.com/bioservices. Thanks T.C.\u001b[0m\n",
      "100%|██████████| 108/108 [16:20<00:00,  9.08s/it]\n",
      "  0%|          | 0/12 [00:00<?, ?it/s]"
     ]
    },
    {
     "name": "stdout",
     "output_type": "stream",
     "text": [
      "mutated genes in class 12\n",
      "genes in KEGG Database  22232\n"
     ]
    },
    {
     "name": "stderr",
     "output_type": "stream",
     "text": [
      "\u001b[33mWARNING [bioservices:keggparser:119]: \u001b[0m \u001b[34mFound keyword SYMBOL, which has not special\n",
      "    parsing for now. please report this issue with the KEGG \n",
      "    identifier (23451             CDS       T01001) into github.com/bioservices. Thanks T.C.\u001b[0m\n",
      "  8%|▊         | 1/12 [00:00<00:05,  1.93it/s]\u001b[33mWARNING [bioservices:keggparser:119]: \u001b[0m \u001b[34mFound keyword SYMBOL, which has not special\n",
      "    parsing for now. please report this issue with the KEGG \n",
      "    identifier (1956              CDS       T01001) into github.com/bioservices. Thanks T.C.\u001b[0m\n",
      " 17%|█▋        | 2/12 [00:16<01:36,  9.60s/it]\u001b[33mWARNING [bioservices:KEGG:119]: \u001b[0m \u001b[34mstatus is not ok with Not Found\u001b[0m\n",
      "\u001b[33mWARNING [bioservices:KEGG:119]: \u001b[0m \u001b[34mCould not parse the entry correctly.\u001b[0m\n",
      " 25%|██▌       | 3/12 [00:16<00:47,  5.30s/it]"
     ]
    },
    {
     "name": "stdout",
     "output_type": "stream",
     "text": [
      "no data for  H3F3A\n"
     ]
    },
    {
     "name": "stderr",
     "output_type": "stream",
     "text": [
      "\u001b[33mWARNING [bioservices:keggparser:119]: \u001b[0m \u001b[34mFound keyword SYMBOL, which has not special\n",
      "    parsing for now. please report this issue with the KEGG \n",
      "    identifier (2064              CDS       T01001) into github.com/bioservices. Thanks T.C.\u001b[0m\n",
      " 33%|███▎      | 4/12 [00:24<00:49,  6.16s/it]\u001b[33mWARNING [bioservices:keggparser:119]: \u001b[0m \u001b[34mFound keyword SYMBOL, which has not special\n",
      "    parsing for now. please report this issue with the KEGG \n",
      "    identifier (207               CDS       T01001) into github.com/bioservices. Thanks T.C.\u001b[0m\n",
      " 42%|████▏     | 5/12 [00:56<01:50, 15.78s/it]\u001b[33mWARNING [bioservices:keggparser:119]: \u001b[0m \u001b[34mFound keyword SYMBOL, which has not special\n",
      "    parsing for now. please report this issue with the KEGG \n",
      "    identifier (3417              CDS       T01001) into github.com/bioservices. Thanks T.C.\u001b[0m\n",
      " 50%|█████     | 6/12 [00:59<01:07, 11.26s/it]\u001b[33mWARNING [bioservices:keggparser:119]: \u001b[0m \u001b[34mFound keyword SYMBOL, which has not special\n",
      "    parsing for now. please report this issue with the KEGG \n",
      "    identifier (3418              CDS       T01001) into github.com/bioservices. Thanks T.C.\u001b[0m\n",
      " 58%|█████▊    | 7/12 [01:01<00:41,  8.32s/it]\u001b[33mWARNING [bioservices:keggparser:119]: \u001b[0m \u001b[34mFound keyword SYMBOL, which has not special\n",
      "    parsing for now. please report this issue with the KEGG \n",
      "    identifier (387               CDS       T01001) into github.com/bioservices. Thanks T.C.\u001b[0m\n",
      " 67%|██████▋   | 8/12 [01:16<00:40, 10.22s/it]\u001b[33mWARNING [bioservices:keggparser:119]: \u001b[0m \u001b[34mFound keyword SYMBOL, which has not special\n",
      "    parsing for now. please report this issue with the KEGG \n",
      "    identifier (54880             CDS       T01001) into github.com/bioservices. Thanks T.C.\u001b[0m\n",
      " 75%|███████▌  | 9/12 [01:16<00:21,  7.09s/it]"
     ]
    },
    {
     "name": "stdout",
     "output_type": "stream",
     "text": [
      "no data for  BCOR\n"
     ]
    },
    {
     "name": "stderr",
     "output_type": "stream",
     "text": [
      "\u001b[33mWARNING [bioservices:keggparser:119]: \u001b[0m \u001b[34mFound keyword SYMBOL, which has not special\n",
      "    parsing for now. please report this issue with the KEGG \n",
      "    identifier (5781              CDS       T01001) into github.com/bioservices. Thanks T.C.\u001b[0m\n",
      " 83%|████████▎ | 10/12 [01:22<00:13,  6.93s/it]\u001b[33mWARNING [bioservices:keggparser:119]: \u001b[0m \u001b[34mFound keyword SYMBOL, which has not special\n",
      "    parsing for now. please report this issue with the KEGG \n",
      "    identifier (1789              CDS       T01001) into github.com/bioservices. Thanks T.C.\u001b[0m\n",
      " 92%|█████████▏| 11/12 [01:24<00:05,  5.21s/it]\u001b[33mWARNING [bioservices:keggparser:119]: \u001b[0m \u001b[34mFound keyword SYMBOL, which has not special\n",
      "    parsing for now. please report this issue with the KEGG \n",
      "    identifier (5890              CDS       T01001) into github.com/bioservices. Thanks T.C.\u001b[0m\n",
      "100%|██████████| 12/12 [01:24<00:00,  7.05s/it]\n",
      "  0%|          | 0/10 [00:00<?, ?it/s]"
     ]
    },
    {
     "name": "stdout",
     "output_type": "stream",
     "text": [
      "mutated genes in class 10\n",
      "genes in KEGG Database  22232\n"
     ]
    },
    {
     "name": "stderr",
     "output_type": "stream",
     "text": [
      "\u001b[33mWARNING [bioservices:keggparser:119]: \u001b[0m \u001b[34mFound keyword SYMBOL, which has not special\n",
      "    parsing for now. please report this issue with the KEGG \n",
      "    identifier (23451             CDS       T01001) into github.com/bioservices. Thanks T.C.\u001b[0m\n",
      " 10%|█         | 1/10 [00:00<00:04,  1.90it/s]\u001b[33mWARNING [bioservices:keggparser:119]: \u001b[0m \u001b[34mFound keyword SYMBOL, which has not special\n",
      "    parsing for now. please report this issue with the KEGG \n",
      "    identifier (7157              CDS       T01001) into github.com/bioservices. Thanks T.C.\u001b[0m\n",
      " 20%|██        | 2/10 [00:18<01:26, 10.78s/it]\u001b[33mWARNING [bioservices:keggparser:119]: \u001b[0m \u001b[34mFound keyword SYMBOL, which has not special\n",
      "    parsing for now. please report this issue with the KEGG \n",
      "    identifier (2146              CDS       T01001) into github.com/bioservices. Thanks T.C.\u001b[0m\n",
      " 30%|███       | 3/10 [00:19<00:44,  6.39s/it]\u001b[33mWARNING [bioservices:keggparser:119]: \u001b[0m \u001b[34mFound keyword SYMBOL, which has not special\n",
      "    parsing for now. please report this issue with the KEGG \n",
      "    identifier (7307              CDS       T01001) into github.com/bioservices. Thanks T.C.\u001b[0m\n",
      " 40%|████      | 4/10 [00:20<00:25,  4.26s/it]\u001b[33mWARNING [bioservices:keggparser:119]: \u001b[0m \u001b[34mFound keyword SYMBOL, which has not special\n",
      "    parsing for now. please report this issue with the KEGG \n",
      "    identifier (208               CDS       T01001) into github.com/bioservices. Thanks T.C.\u001b[0m\n",
      " 50%|█████     | 5/10 [00:53<01:13, 14.61s/it]\u001b[33mWARNING [bioservices:keggparser:119]: \u001b[0m \u001b[34mFound keyword SYMBOL, which has not special\n",
      "    parsing for now. please report this issue with the KEGG \n",
      "    identifier (3417              CDS       T01001) into github.com/bioservices. Thanks T.C.\u001b[0m\n",
      " 60%|██████    | 6/10 [00:55<00:41, 10.41s/it]\u001b[33mWARNING [bioservices:keggparser:119]: \u001b[0m \u001b[34mFound keyword SYMBOL, which has not special\n",
      "    parsing for now. please report this issue with the KEGG \n",
      "    identifier (3418              CDS       T01001) into github.com/bioservices. Thanks T.C.\u001b[0m\n",
      " 70%|███████   | 7/10 [00:58<00:23,  7.79s/it]\u001b[33mWARNING [bioservices:keggparser:119]: \u001b[0m \u001b[34mFound keyword SYMBOL, which has not special\n",
      "    parsing for now. please report this issue with the KEGG \n",
      "    identifier (10664             CDS       T01001) into github.com/bioservices. Thanks T.C.\u001b[0m\n",
      " 80%|████████  | 8/10 [00:58<00:10,  5.37s/it]"
     ]
    },
    {
     "name": "stdout",
     "output_type": "stream",
     "text": [
      "no data for  CTCF\n"
     ]
    },
    {
     "name": "stderr",
     "output_type": "stream",
     "text": [
      "\u001b[33mWARNING [bioservices:keggparser:119]: \u001b[0m \u001b[34mFound keyword SYMBOL, which has not special\n",
      "    parsing for now. please report this issue with the KEGG \n",
      "    identifier (23152             CDS       T01001) into github.com/bioservices. Thanks T.C.\u001b[0m\n",
      " 90%|█████████ | 9/10 [00:59<00:03,  3.90s/it]\u001b[33mWARNING [bioservices:keggparser:119]: \u001b[0m \u001b[34mFound keyword SYMBOL, which has not special\n",
      "    parsing for now. please report this issue with the KEGG \n",
      "    identifier (9968              CDS       T01001) into github.com/bioservices. Thanks T.C.\u001b[0m\n",
      "100%|██████████| 10/10 [00:59<00:00,  5.98s/it]\n"
     ]
    },
    {
     "ename": "IndexError",
     "evalue": "list index out of range",
     "output_type": "error",
     "traceback": [
      "\u001b[1;31m---------------------------------------------------------------------------\u001b[0m",
      "\u001b[1;31mIndexError\u001b[0m                                Traceback (most recent call last)",
      "\u001b[1;32m<ipython-input-86-f66416516f31>\u001b[0m in \u001b[0;36m<module>\u001b[1;34m\u001b[0m\n\u001b[1;32m----> 1\u001b[1;33m \u001b[0mgene_pathway_csv\u001b[0m\u001b[1;33m(\u001b[0m\u001b[0mclass_gene_list\u001b[0m\u001b[1;33m,\u001b[0m\u001b[0mhuman_gene_list\u001b[0m\u001b[1;33m)\u001b[0m\u001b[1;33m\u001b[0m\u001b[1;33m\u001b[0m\u001b[0m\n\u001b[0m",
      "\u001b[1;32m<ipython-input-85-143034e8879b>\u001b[0m in \u001b[0;36mgene_pathway_csv\u001b[1;34m(class_gene_list, human_gene_list)\u001b[0m\n\u001b[0;32m      2\u001b[0m     \u001b[1;34m\"\"\"this function maps all pathways to all genes in each class\"\"\"\u001b[0m\u001b[1;33m\u001b[0m\u001b[1;33m\u001b[0m\u001b[0m\n\u001b[0;32m      3\u001b[0m     \u001b[1;32mfor\u001b[0m \u001b[0mi\u001b[0m \u001b[1;32min\u001b[0m \u001b[0mrange\u001b[0m\u001b[1;33m(\u001b[0m\u001b[1;36m10\u001b[0m\u001b[1;33m)\u001b[0m\u001b[1;33m:\u001b[0m\u001b[1;33m\u001b[0m\u001b[1;33m\u001b[0m\u001b[0m\n\u001b[1;32m----> 4\u001b[1;33m         \u001b[0mclass_mutated_kegg\u001b[0m\u001b[1;33m=\u001b[0m\u001b[0mmap_mutation_kegg\u001b[0m\u001b[1;33m(\u001b[0m\u001b[0mclass_gene_list\u001b[0m\u001b[1;33m[\u001b[0m\u001b[0mi\u001b[0m\u001b[1;33m]\u001b[0m\u001b[1;33m,\u001b[0m\u001b[0mhuman_gene_list\u001b[0m\u001b[1;33m)\u001b[0m\u001b[1;33m\u001b[0m\u001b[1;33m\u001b[0m\u001b[0m\n\u001b[0m\u001b[0;32m      5\u001b[0m         \u001b[0mclass_gene_pathway\u001b[0m\u001b[1;33m=\u001b[0m\u001b[0mdf_gene_pathway\u001b[0m\u001b[1;33m(\u001b[0m\u001b[0mclass_gene_list\u001b[0m\u001b[1;33m[\u001b[0m\u001b[0mi\u001b[0m\u001b[1;33m]\u001b[0m\u001b[1;33m)\u001b[0m\u001b[1;33m\u001b[0m\u001b[1;33m\u001b[0m\u001b[0m\n\u001b[0;32m      6\u001b[0m         \u001b[0mclass_gene_pathway\u001b[0m\u001b[1;33m.\u001b[0m\u001b[0mdrop_duplicates\u001b[0m\u001b[1;33m(\u001b[0m\u001b[0minplace\u001b[0m\u001b[1;33m=\u001b[0m\u001b[1;32mTrue\u001b[0m\u001b[1;33m)\u001b[0m\u001b[1;33m\u001b[0m\u001b[1;33m\u001b[0m\u001b[0m\n",
      "\u001b[1;31mIndexError\u001b[0m: list index out of range"
     ]
    }
   ],
   "source": [
    "gene_pathway_csv(class_gene_list,human_gene_list)"
   ]
  },
  {
   "cell_type": "code",
   "execution_count": 60,
   "metadata": {},
   "outputs": [],
   "source": [
    "#class7_gene_pathway=df_gene_pathway(class_7_genes)"
   ]
  },
  {
   "cell_type": "code",
   "execution_count": 40,
   "metadata": {},
   "outputs": [
    {
     "data": {
      "text/html": [
       "<div>\n",
       "<style scoped>\n",
       "    .dataframe tbody tr th:only-of-type {\n",
       "        vertical-align: middle;\n",
       "    }\n",
       "\n",
       "    .dataframe tbody tr th {\n",
       "        vertical-align: top;\n",
       "    }\n",
       "\n",
       "    .dataframe thead th {\n",
       "        text-align: right;\n",
       "    }\n",
       "</style>\n",
       "<table border=\"1\" class=\"dataframe\">\n",
       "  <thead>\n",
       "    <tr style=\"text-align: right;\">\n",
       "      <th></th>\n",
       "      <th>gene</th>\n",
       "      <th>pathway</th>\n",
       "    </tr>\n",
       "  </thead>\n",
       "  <tbody>\n",
       "    <tr>\n",
       "      <th>0</th>\n",
       "      <td>TERT</td>\n",
       "      <td>Gastric cancer</td>\n",
       "    </tr>\n",
       "    <tr>\n",
       "      <th>1</th>\n",
       "      <td>TERT</td>\n",
       "      <td>Pathways in cancer</td>\n",
       "    </tr>\n",
       "    <tr>\n",
       "      <th>2</th>\n",
       "      <td>TERT</td>\n",
       "      <td>Human papillomavirus infection</td>\n",
       "    </tr>\n",
       "    <tr>\n",
       "      <th>3</th>\n",
       "      <td>TERT</td>\n",
       "      <td>Human T-cell leukemia virus 1 infection</td>\n",
       "    </tr>\n",
       "    <tr>\n",
       "      <th>4</th>\n",
       "      <td>TERT</td>\n",
       "      <td>Hepatocellular carcinoma</td>\n",
       "    </tr>\n",
       "  </tbody>\n",
       "</table>\n",
       "</div>"
      ],
      "text/plain": [
       "   gene                                  pathway\n",
       "0  TERT                           Gastric cancer\n",
       "1  TERT                       Pathways in cancer\n",
       "2  TERT           Human papillomavirus infection\n",
       "3  TERT  Human T-cell leukemia virus 1 infection\n",
       "4  TERT                 Hepatocellular carcinoma"
      ]
     },
     "execution_count": 40,
     "metadata": {},
     "output_type": "execute_result"
    }
   ],
   "source": [
    "#class7_gene_pathway.head()"
   ]
  },
  {
   "cell_type": "code",
   "execution_count": 41,
   "metadata": {},
   "outputs": [],
   "source": [
    "#class7_gene_pathway.drop_duplicates(inplace=True)"
   ]
  },
  {
   "cell_type": "code",
   "execution_count": 42,
   "metadata": {},
   "outputs": [
    {
     "data": {
      "text/plain": [
       "(2814, 2)"
      ]
     },
     "execution_count": 42,
     "metadata": {},
     "output_type": "execute_result"
    }
   ],
   "source": [
    "#class7_gene_pathway.shape"
   ]
  },
  {
   "cell_type": "code",
   "execution_count": 43,
   "metadata": {},
   "outputs": [],
   "source": [
    "#class7_gene_pathway.to_csv('class7_gene_pathway.csv',header=True,index=False)"
   ]
  },
  {
   "cell_type": "code",
   "execution_count": 44,
   "metadata": {},
   "outputs": [],
   "source": [
    "#class7_gene_pathway=pd.read_csv(\"class7_gene_pathway.csv\")"
   ]
  },
  {
   "cell_type": "code",
   "execution_count": 45,
   "metadata": {},
   "outputs": [
    {
     "data": {
      "text/html": [
       "<div>\n",
       "<style scoped>\n",
       "    .dataframe tbody tr th:only-of-type {\n",
       "        vertical-align: middle;\n",
       "    }\n",
       "\n",
       "    .dataframe tbody tr th {\n",
       "        vertical-align: top;\n",
       "    }\n",
       "\n",
       "    .dataframe thead th {\n",
       "        text-align: right;\n",
       "    }\n",
       "</style>\n",
       "<table border=\"1\" class=\"dataframe\">\n",
       "  <thead>\n",
       "    <tr style=\"text-align: right;\">\n",
       "      <th></th>\n",
       "      <th>gene</th>\n",
       "    </tr>\n",
       "    <tr>\n",
       "      <th>pathway</th>\n",
       "      <th></th>\n",
       "    </tr>\n",
       "  </thead>\n",
       "  <tbody>\n",
       "    <tr>\n",
       "      <th>Pathways in cancer</th>\n",
       "      <td>65</td>\n",
       "    </tr>\n",
       "    <tr>\n",
       "      <th>PI3K-Akt signaling pathway</th>\n",
       "      <td>48</td>\n",
       "    </tr>\n",
       "    <tr>\n",
       "      <th>Proteoglycans in cancer</th>\n",
       "      <td>39</td>\n",
       "    </tr>\n",
       "    <tr>\n",
       "      <th>Human cytomegalovirus infection</th>\n",
       "      <td>37</td>\n",
       "    </tr>\n",
       "    <tr>\n",
       "      <th>Human papillomavirus infection</th>\n",
       "      <td>36</td>\n",
       "    </tr>\n",
       "    <tr>\n",
       "      <th>Prostate cancer</th>\n",
       "      <td>35</td>\n",
       "    </tr>\n",
       "    <tr>\n",
       "      <th>MAPK signaling pathway</th>\n",
       "      <td>35</td>\n",
       "    </tr>\n",
       "    <tr>\n",
       "      <th>MicroRNAs in cancer</th>\n",
       "      <td>35</td>\n",
       "    </tr>\n",
       "    <tr>\n",
       "      <th>Ras signaling pathway</th>\n",
       "      <td>34</td>\n",
       "    </tr>\n",
       "    <tr>\n",
       "      <th>EGFR tyrosine kinase inhibitor resistance</th>\n",
       "      <td>34</td>\n",
       "    </tr>\n",
       "    <tr>\n",
       "      <th>Rap1 signaling pathway</th>\n",
       "      <td>32</td>\n",
       "    </tr>\n",
       "    <tr>\n",
       "      <th>Breast cancer</th>\n",
       "      <td>31</td>\n",
       "    </tr>\n",
       "    <tr>\n",
       "      <th>Central carbon metabolism in cancer</th>\n",
       "      <td>31</td>\n",
       "    </tr>\n",
       "    <tr>\n",
       "      <th>Kaposi sarcoma-associated herpesvirus infection</th>\n",
       "      <td>30</td>\n",
       "    </tr>\n",
       "    <tr>\n",
       "      <th>Focal adhesion</th>\n",
       "      <td>30</td>\n",
       "    </tr>\n",
       "    <tr>\n",
       "      <th>Hepatitis B</th>\n",
       "      <td>29</td>\n",
       "    </tr>\n",
       "    <tr>\n",
       "      <th>Endocrine resistance</th>\n",
       "      <td>29</td>\n",
       "    </tr>\n",
       "    <tr>\n",
       "      <th>Chemical carcinogenesis - receptor activation</th>\n",
       "      <td>29</td>\n",
       "    </tr>\n",
       "    <tr>\n",
       "      <th>Gastric cancer</th>\n",
       "      <td>28</td>\n",
       "    </tr>\n",
       "    <tr>\n",
       "      <th>Hepatocellular carcinoma</th>\n",
       "      <td>28</td>\n",
       "    </tr>\n",
       "    <tr>\n",
       "      <th>Chemical carcinogenesis - reactive oxygen species</th>\n",
       "      <td>28</td>\n",
       "    </tr>\n",
       "    <tr>\n",
       "      <th>Hepatitis C</th>\n",
       "      <td>28</td>\n",
       "    </tr>\n",
       "    <tr>\n",
       "      <th>ErbB signaling pathway</th>\n",
       "      <td>27</td>\n",
       "    </tr>\n",
       "    <tr>\n",
       "      <th>Cellular senescence</th>\n",
       "      <td>26</td>\n",
       "    </tr>\n",
       "    <tr>\n",
       "      <th>Phospholipase D signaling pathway</th>\n",
       "      <td>26</td>\n",
       "    </tr>\n",
       "    <tr>\n",
       "      <th>Colorectal cancer</th>\n",
       "      <td>26</td>\n",
       "    </tr>\n",
       "    <tr>\n",
       "      <th>Glioma</th>\n",
       "      <td>26</td>\n",
       "    </tr>\n",
       "    <tr>\n",
       "      <th>Non-small cell lung cancer</th>\n",
       "      <td>26</td>\n",
       "    </tr>\n",
       "    <tr>\n",
       "      <th>Chronic myeloid leukemia</th>\n",
       "      <td>26</td>\n",
       "    </tr>\n",
       "    <tr>\n",
       "      <th>Regulation of actin cytoskeleton</th>\n",
       "      <td>26</td>\n",
       "    </tr>\n",
       "    <tr>\n",
       "      <th>Thyroid hormone signaling pathway</th>\n",
       "      <td>26</td>\n",
       "    </tr>\n",
       "    <tr>\n",
       "      <th>Melanoma</th>\n",
       "      <td>26</td>\n",
       "    </tr>\n",
       "    <tr>\n",
       "      <th>JAK-STAT signaling pathway</th>\n",
       "      <td>25</td>\n",
       "    </tr>\n",
       "    <tr>\n",
       "      <th>PD-L1 expression and PD-1 checkpoint pathway in cancer</th>\n",
       "      <td>25</td>\n",
       "    </tr>\n",
       "    <tr>\n",
       "      <th>Neurotrophin signaling pathway</th>\n",
       "      <td>25</td>\n",
       "    </tr>\n",
       "    <tr>\n",
       "      <th>Acute myeloid leukemia</th>\n",
       "      <td>24</td>\n",
       "    </tr>\n",
       "    <tr>\n",
       "      <th>Renal cell carcinoma</th>\n",
       "      <td>24</td>\n",
       "    </tr>\n",
       "    <tr>\n",
       "      <th>Human immunodeficiency virus 1 infection</th>\n",
       "      <td>24</td>\n",
       "    </tr>\n",
       "    <tr>\n",
       "      <th>Signaling pathways regulating pluripotency of stem cells</th>\n",
       "      <td>24</td>\n",
       "    </tr>\n",
       "    <tr>\n",
       "      <th>Human T-cell leukemia virus 1 infection</th>\n",
       "      <td>24</td>\n",
       "    </tr>\n",
       "    <tr>\n",
       "      <th>FoxO signaling pathway</th>\n",
       "      <td>24</td>\n",
       "    </tr>\n",
       "    <tr>\n",
       "      <th>Viral carcinogenesis</th>\n",
       "      <td>23</td>\n",
       "    </tr>\n",
       "    <tr>\n",
       "      <th>Pancreatic cancer</th>\n",
       "      <td>23</td>\n",
       "    </tr>\n",
       "    <tr>\n",
       "      <th>Choline metabolism in cancer</th>\n",
       "      <td>23</td>\n",
       "    </tr>\n",
       "    <tr>\n",
       "      <th>Chemokine signaling pathway</th>\n",
       "      <td>23</td>\n",
       "    </tr>\n",
       "    <tr>\n",
       "      <th>Endometrial cancer</th>\n",
       "      <td>23</td>\n",
       "    </tr>\n",
       "    <tr>\n",
       "      <th>Epstein-Barr virus infection</th>\n",
       "      <td>23</td>\n",
       "    </tr>\n",
       "    <tr>\n",
       "      <th>mTOR signaling pathway</th>\n",
       "      <td>22</td>\n",
       "    </tr>\n",
       "    <tr>\n",
       "      <th>Growth hormone synthesis, secretion and action</th>\n",
       "      <td>22</td>\n",
       "    </tr>\n",
       "    <tr>\n",
       "      <th>Estrogen signaling pathway</th>\n",
       "      <td>22</td>\n",
       "    </tr>\n",
       "    <tr>\n",
       "      <th>Lipid and atherosclerosis</th>\n",
       "      <td>22</td>\n",
       "    </tr>\n",
       "    <tr>\n",
       "      <th>cAMP signaling pathway</th>\n",
       "      <td>21</td>\n",
       "    </tr>\n",
       "    <tr>\n",
       "      <th>Influenza A</th>\n",
       "      <td>21</td>\n",
       "    </tr>\n",
       "    <tr>\n",
       "      <th>C-type lectin receptor signaling pathway</th>\n",
       "      <td>21</td>\n",
       "    </tr>\n",
       "    <tr>\n",
       "      <th>Salmonella infection</th>\n",
       "      <td>21</td>\n",
       "    </tr>\n",
       "    <tr>\n",
       "      <th>Relaxin signaling pathway</th>\n",
       "      <td>21</td>\n",
       "    </tr>\n",
       "    <tr>\n",
       "      <th>T cell receptor signaling pathway</th>\n",
       "      <td>21</td>\n",
       "    </tr>\n",
       "    <tr>\n",
       "      <th>Insulin signaling pathway</th>\n",
       "      <td>20</td>\n",
       "    </tr>\n",
       "    <tr>\n",
       "      <th>Alzheimer disease</th>\n",
       "      <td>20</td>\n",
       "    </tr>\n",
       "    <tr>\n",
       "      <th>Prolactin signaling pathway</th>\n",
       "      <td>20</td>\n",
       "    </tr>\n",
       "    <tr>\n",
       "      <th>Sphingolipid signaling pathway</th>\n",
       "      <td>20</td>\n",
       "    </tr>\n",
       "    <tr>\n",
       "      <th>Autophagy - animal</th>\n",
       "      <td>20</td>\n",
       "    </tr>\n",
       "    <tr>\n",
       "      <th>B cell receptor signaling pathway</th>\n",
       "      <td>20</td>\n",
       "    </tr>\n",
       "    <tr>\n",
       "      <th>Measles</th>\n",
       "      <td>19</td>\n",
       "    </tr>\n",
       "    <tr>\n",
       "      <th>AGE-RAGE signaling pathway in diabetic complications</th>\n",
       "      <td>19</td>\n",
       "    </tr>\n",
       "    <tr>\n",
       "      <th>Apoptosis</th>\n",
       "      <td>19</td>\n",
       "    </tr>\n",
       "    <tr>\n",
       "      <th>Calcium signaling pathway</th>\n",
       "      <td>19</td>\n",
       "    </tr>\n",
       "    <tr>\n",
       "      <th>Bladder cancer</th>\n",
       "      <td>18</td>\n",
       "    </tr>\n",
       "    <tr>\n",
       "      <th>VEGF signaling pathway</th>\n",
       "      <td>18</td>\n",
       "    </tr>\n",
       "    <tr>\n",
       "      <th>Herpes simplex virus 1 infection</th>\n",
       "      <td>18</td>\n",
       "    </tr>\n",
       "    <tr>\n",
       "      <th>Shigellosis</th>\n",
       "      <td>18</td>\n",
       "    </tr>\n",
       "    <tr>\n",
       "      <th>Natural killer cell mediated cytotoxicity</th>\n",
       "      <td>17</td>\n",
       "    </tr>\n",
       "    <tr>\n",
       "      <th>Yersinia infection</th>\n",
       "      <td>17</td>\n",
       "    </tr>\n",
       "    <tr>\n",
       "      <th>Axon guidance</th>\n",
       "      <td>17</td>\n",
       "    </tr>\n",
       "    <tr>\n",
       "      <th>HIF-1 signaling pathway</th>\n",
       "      <td>17</td>\n",
       "    </tr>\n",
       "    <tr>\n",
       "      <th>Fc epsilon RI signaling pathway</th>\n",
       "      <td>17</td>\n",
       "    </tr>\n",
       "    <tr>\n",
       "      <th>Fluid shear stress and atherosclerosis</th>\n",
       "      <td>17</td>\n",
       "    </tr>\n",
       "    <tr>\n",
       "      <th>Cholinergic synapse</th>\n",
       "      <td>16</td>\n",
       "    </tr>\n",
       "    <tr>\n",
       "      <th>GnRH secretion</th>\n",
       "      <td>16</td>\n",
       "    </tr>\n",
       "    <tr>\n",
       "      <th>Chagas disease</th>\n",
       "      <td>16</td>\n",
       "    </tr>\n",
       "    <tr>\n",
       "      <th>Small cell lung cancer</th>\n",
       "      <td>15</td>\n",
       "    </tr>\n",
       "    <tr>\n",
       "      <th>Apelin signaling pathway</th>\n",
       "      <td>15</td>\n",
       "    </tr>\n",
       "    <tr>\n",
       "      <th>Pathways of neurodegeneration - multiple diseases</th>\n",
       "      <td>15</td>\n",
       "    </tr>\n",
       "    <tr>\n",
       "      <th>Gap junction</th>\n",
       "      <td>15</td>\n",
       "    </tr>\n",
       "    <tr>\n",
       "      <th>Toll-like receptor signaling pathway</th>\n",
       "      <td>15</td>\n",
       "    </tr>\n",
       "    <tr>\n",
       "      <th>Oxytocin signaling pathway</th>\n",
       "      <td>14</td>\n",
       "    </tr>\n",
       "    <tr>\n",
       "      <th>Osteoclast differentiation</th>\n",
       "      <td>14</td>\n",
       "    </tr>\n",
       "    <tr>\n",
       "      <th>Neutrophil extracellular trap formation</th>\n",
       "      <td>14</td>\n",
       "    </tr>\n",
       "    <tr>\n",
       "      <th>Progesterone-mediated oocyte maturation</th>\n",
       "      <td>14</td>\n",
       "    </tr>\n",
       "    <tr>\n",
       "      <th>GnRH signaling pathway</th>\n",
       "      <td>14</td>\n",
       "    </tr>\n",
       "    <tr>\n",
       "      <th>Tuberculosis</th>\n",
       "      <td>13</td>\n",
       "    </tr>\n",
       "    <tr>\n",
       "      <th>Transcriptional misregulation in cancer</th>\n",
       "      <td>13</td>\n",
       "    </tr>\n",
       "    <tr>\n",
       "      <th>Long-term depression</th>\n",
       "      <td>13</td>\n",
       "    </tr>\n",
       "    <tr>\n",
       "      <th>Longevity regulating pathway</th>\n",
       "      <td>13</td>\n",
       "    </tr>\n",
       "    <tr>\n",
       "      <th>Cushing syndrome</th>\n",
       "      <td>13</td>\n",
       "    </tr>\n",
       "    <tr>\n",
       "      <th>Thyroid cancer</th>\n",
       "      <td>13</td>\n",
       "    </tr>\n",
       "    <tr>\n",
       "      <th>Platelet activation</th>\n",
       "      <td>13</td>\n",
       "    </tr>\n",
       "    <tr>\n",
       "      <th>TNF signaling pathway</th>\n",
       "      <td>12</td>\n",
       "    </tr>\n",
       "    <tr>\n",
       "      <th>Parathyroid hormone synthesis, secretion and action</th>\n",
       "      <td>12</td>\n",
       "    </tr>\n",
       "    <tr>\n",
       "      <th>Platinum drug resistance</th>\n",
       "      <td>12</td>\n",
       "    </tr>\n",
       "    <tr>\n",
       "      <th>Melanogenesis</th>\n",
       "      <td>12</td>\n",
       "    </tr>\n",
       "    <tr>\n",
       "      <th>p53 signaling pathway</th>\n",
       "      <td>12</td>\n",
       "    </tr>\n",
       "    <tr>\n",
       "      <th>Coronavirus disease - COVID-19</th>\n",
       "      <td>12</td>\n",
       "    </tr>\n",
       "    <tr>\n",
       "      <th>AMPK signaling pathway</th>\n",
       "      <td>12</td>\n",
       "    </tr>\n",
       "    <tr>\n",
       "      <th>Insulin resistance</th>\n",
       "      <td>12</td>\n",
       "    </tr>\n",
       "    <tr>\n",
       "      <th>Fc gamma R-mediated phagocytosis</th>\n",
       "      <td>12</td>\n",
       "    </tr>\n",
       "    <tr>\n",
       "      <th>Pathogenic Escherichia coli infection</th>\n",
       "      <td>11</td>\n",
       "    </tr>\n",
       "    <tr>\n",
       "      <th>cGMP-PKG signaling pathway</th>\n",
       "      <td>11</td>\n",
       "    </tr>\n",
       "    <tr>\n",
       "      <th>Long-term potentiation</th>\n",
       "      <td>11</td>\n",
       "    </tr>\n",
       "    <tr>\n",
       "      <th>Longevity regulating pathway - multiple species</th>\n",
       "      <td>11</td>\n",
       "    </tr>\n",
       "    <tr>\n",
       "      <th>Toxoplasmosis</th>\n",
       "      <td>11</td>\n",
       "    </tr>\n",
       "    <tr>\n",
       "      <th>Vascular smooth muscle contraction</th>\n",
       "      <td>10</td>\n",
       "    </tr>\n",
       "    <tr>\n",
       "      <th>Serotonergic synapse</th>\n",
       "      <td>10</td>\n",
       "    </tr>\n",
       "    <tr>\n",
       "      <th>Diabetic cardiomyopathy</th>\n",
       "      <td>10</td>\n",
       "    </tr>\n",
       "    <tr>\n",
       "      <th>Endocytosis</th>\n",
       "      <td>10</td>\n",
       "    </tr>\n",
       "    <tr>\n",
       "      <th>Non-alcoholic fatty liver disease</th>\n",
       "      <td>10</td>\n",
       "    </tr>\n",
       "    <tr>\n",
       "      <th>Alcoholism</th>\n",
       "      <td>10</td>\n",
       "    </tr>\n",
       "    <tr>\n",
       "      <th>Adherens junction</th>\n",
       "      <td>10</td>\n",
       "    </tr>\n",
       "    <tr>\n",
       "      <th>Thermogenesis</th>\n",
       "      <td>9</td>\n",
       "    </tr>\n",
       "    <tr>\n",
       "      <th>Bacterial invasion of epithelial cells</th>\n",
       "      <td>9</td>\n",
       "    </tr>\n",
       "    <tr>\n",
       "      <th>Cell cycle</th>\n",
       "      <td>9</td>\n",
       "    </tr>\n",
       "    <tr>\n",
       "      <th>Tight junction</th>\n",
       "      <td>9</td>\n",
       "    </tr>\n",
       "    <tr>\n",
       "      <th>Spinocerebellar ataxia</th>\n",
       "      <td>9</td>\n",
       "    </tr>\n",
       "    <tr>\n",
       "      <th>Alcoholic liver disease</th>\n",
       "      <td>8</td>\n",
       "    </tr>\n",
       "    <tr>\n",
       "      <th>Th17 cell differentiation</th>\n",
       "      <td>8</td>\n",
       "    </tr>\n",
       "    <tr>\n",
       "      <th>Adipocytokine signaling pathway</th>\n",
       "      <td>8</td>\n",
       "    </tr>\n",
       "    <tr>\n",
       "      <th>Epithelial cell signaling in Helicobacter pylori infection</th>\n",
       "      <td>8</td>\n",
       "    </tr>\n",
       "    <tr>\n",
       "      <th>Inflammatory mediator regulation of TRP channels</th>\n",
       "      <td>8</td>\n",
       "    </tr>\n",
       "    <tr>\n",
       "      <th>NOD-like receptor signaling pathway</th>\n",
       "      <td>8</td>\n",
       "    </tr>\n",
       "    <tr>\n",
       "      <th>Wnt signaling pathway</th>\n",
       "      <td>8</td>\n",
       "    </tr>\n",
       "    <tr>\n",
       "      <th>Adrenergic signaling in cardiomyocytes</th>\n",
       "      <td>8</td>\n",
       "    </tr>\n",
       "    <tr>\n",
       "      <th>Regulation of lipolysis in adipocytes</th>\n",
       "      <td>8</td>\n",
       "    </tr>\n",
       "    <tr>\n",
       "      <th>Leukocyte transendothelial migration</th>\n",
       "      <td>8</td>\n",
       "    </tr>\n",
       "    <tr>\n",
       "      <th>Amoebiasis</th>\n",
       "      <td>7</td>\n",
       "    </tr>\n",
       "    <tr>\n",
       "      <th>Carbohydrate digestion and absorption</th>\n",
       "      <td>7</td>\n",
       "    </tr>\n",
       "    <tr>\n",
       "      <th>Prion disease</th>\n",
       "      <td>7</td>\n",
       "    </tr>\n",
       "    <tr>\n",
       "      <th>Th1 and Th2 cell differentiation</th>\n",
       "      <td>6</td>\n",
       "    </tr>\n",
       "    <tr>\n",
       "      <th>Aldosterone-regulated sodium reabsorption</th>\n",
       "      <td>6</td>\n",
       "    </tr>\n",
       "    <tr>\n",
       "      <th>Leishmaniasis</th>\n",
       "      <td>6</td>\n",
       "    </tr>\n",
       "    <tr>\n",
       "      <th>TGF-beta signaling pathway</th>\n",
       "      <td>6</td>\n",
       "    </tr>\n",
       "    <tr>\n",
       "      <th>Hippo signaling pathway</th>\n",
       "      <td>6</td>\n",
       "    </tr>\n",
       "    <tr>\n",
       "      <th>Dopaminergic synapse</th>\n",
       "      <td>6</td>\n",
       "    </tr>\n",
       "    <tr>\n",
       "      <th>Oocyte meiosis</th>\n",
       "      <td>6</td>\n",
       "    </tr>\n",
       "    <tr>\n",
       "      <th>Metabolic pathways</th>\n",
       "      <td>6</td>\n",
       "    </tr>\n",
       "    <tr>\n",
       "      <th>Mitophagy - animal</th>\n",
       "      <td>6</td>\n",
       "    </tr>\n",
       "    <tr>\n",
       "      <th>Type II diabetes mellitus</th>\n",
       "      <td>6</td>\n",
       "    </tr>\n",
       "    <tr>\n",
       "      <th>Glucagon signaling pathway</th>\n",
       "      <td>6</td>\n",
       "    </tr>\n",
       "    <tr>\n",
       "      <th>Phosphatidylinositol signaling system</th>\n",
       "      <td>5</td>\n",
       "    </tr>\n",
       "    <tr>\n",
       "      <th>Necroptosis</th>\n",
       "      <td>5</td>\n",
       "    </tr>\n",
       "    <tr>\n",
       "      <th>NF-kappa B signaling pathway</th>\n",
       "      <td>5</td>\n",
       "    </tr>\n",
       "    <tr>\n",
       "      <th>Pertussis</th>\n",
       "      <td>4</td>\n",
       "    </tr>\n",
       "    <tr>\n",
       "      <th>Huntington disease</th>\n",
       "      <td>4</td>\n",
       "    </tr>\n",
       "    <tr>\n",
       "      <th>Pancreatic secretion</th>\n",
       "      <td>4</td>\n",
       "    </tr>\n",
       "    <tr>\n",
       "      <th>Amyotrophic lateral sclerosis</th>\n",
       "      <td>4</td>\n",
       "    </tr>\n",
       "    <tr>\n",
       "      <th>IL-17 signaling pathway</th>\n",
       "      <td>4</td>\n",
       "    </tr>\n",
       "    <tr>\n",
       "      <th>Inositol phosphate metabolism</th>\n",
       "      <td>4</td>\n",
       "    </tr>\n",
       "    <tr>\n",
       "      <th>Viral myocarditis</th>\n",
       "      <td>4</td>\n",
       "    </tr>\n",
       "    <tr>\n",
       "      <th>Aldosterone synthesis and secretion</th>\n",
       "      <td>3</td>\n",
       "    </tr>\n",
       "    <tr>\n",
       "      <th>Thyroid hormone synthesis</th>\n",
       "      <td>3</td>\n",
       "    </tr>\n",
       "    <tr>\n",
       "      <th>Insulin secretion</th>\n",
       "      <td>3</td>\n",
       "    </tr>\n",
       "    <tr>\n",
       "      <th>Circadian entrainment</th>\n",
       "      <td>3</td>\n",
       "    </tr>\n",
       "    <tr>\n",
       "      <th>Glutamatergic synapse</th>\n",
       "      <td>3</td>\n",
       "    </tr>\n",
       "    <tr>\n",
       "      <th>Legionellosis</th>\n",
       "      <td>3</td>\n",
       "    </tr>\n",
       "    <tr>\n",
       "      <th>Endocrine and other factor-regulated calcium reabsorption</th>\n",
       "      <td>3</td>\n",
       "    </tr>\n",
       "    <tr>\n",
       "      <th>Hedgehog signaling pathway</th>\n",
       "      <td>3</td>\n",
       "    </tr>\n",
       "    <tr>\n",
       "      <th>Hematopoietic cell lineage</th>\n",
       "      <td>3</td>\n",
       "    </tr>\n",
       "    <tr>\n",
       "      <th>Cytokine-cytokine receptor interaction</th>\n",
       "      <td>3</td>\n",
       "    </tr>\n",
       "    <tr>\n",
       "      <th>Cortisol synthesis and secretion</th>\n",
       "      <td>3</td>\n",
       "    </tr>\n",
       "    <tr>\n",
       "      <th>RIG-I-like receptor signaling pathway</th>\n",
       "      <td>2</td>\n",
       "    </tr>\n",
       "    <tr>\n",
       "      <th>Apoptosis - multiple species</th>\n",
       "      <td>2</td>\n",
       "    </tr>\n",
       "    <tr>\n",
       "      <th>Gastric acid secretion</th>\n",
       "      <td>2</td>\n",
       "    </tr>\n",
       "    <tr>\n",
       "      <th>Notch signaling pathway</th>\n",
       "      <td>2</td>\n",
       "    </tr>\n",
       "    <tr>\n",
       "      <th>Parkinson disease</th>\n",
       "      <td>2</td>\n",
       "    </tr>\n",
       "    <tr>\n",
       "      <th>Hippo signaling pathway - multiple species</th>\n",
       "      <td>2</td>\n",
       "    </tr>\n",
       "    <tr>\n",
       "      <th>Amphetamine addiction</th>\n",
       "      <td>2</td>\n",
       "    </tr>\n",
       "    <tr>\n",
       "      <th>Primary immunodeficiency</th>\n",
       "      <td>2</td>\n",
       "    </tr>\n",
       "    <tr>\n",
       "      <th>Malaria</th>\n",
       "      <td>2</td>\n",
       "    </tr>\n",
       "    <tr>\n",
       "      <th>Cocaine addiction</th>\n",
       "      <td>2</td>\n",
       "    </tr>\n",
       "    <tr>\n",
       "      <th>Inflammatory bowel disease</th>\n",
       "      <td>2</td>\n",
       "    </tr>\n",
       "    <tr>\n",
       "      <th>Basal cell carcinoma</th>\n",
       "      <td>2</td>\n",
       "    </tr>\n",
       "    <tr>\n",
       "      <th>Salivary secretion</th>\n",
       "      <td>2</td>\n",
       "    </tr>\n",
       "    <tr>\n",
       "      <th>Rheumatoid arthritis</th>\n",
       "      <td>2</td>\n",
       "    </tr>\n",
       "    <tr>\n",
       "      <th>Retrograde endocannabinoid signaling</th>\n",
       "      <td>2</td>\n",
       "    </tr>\n",
       "    <tr>\n",
       "      <th>Renin secretion</th>\n",
       "      <td>2</td>\n",
       "    </tr>\n",
       "    <tr>\n",
       "      <th>Protein processing in endoplasmic reticulum</th>\n",
       "      <td>2</td>\n",
       "    </tr>\n",
       "    <tr>\n",
       "      <th>African trypanosomiasis</th>\n",
       "      <td>2</td>\n",
       "    </tr>\n",
       "    <tr>\n",
       "      <th>Ubiquitin mediated proteolysis</th>\n",
       "      <td>1</td>\n",
       "    </tr>\n",
       "    <tr>\n",
       "      <th>Lysine degradation</th>\n",
       "      <td>1</td>\n",
       "    </tr>\n",
       "    <tr>\n",
       "      <th>Vibrio cholerae infection</th>\n",
       "      <td>1</td>\n",
       "    </tr>\n",
       "    <tr>\n",
       "      <th>Vasopressin-regulated water reabsorption</th>\n",
       "      <td>1</td>\n",
       "    </tr>\n",
       "    <tr>\n",
       "      <th>Morphine addiction</th>\n",
       "      <td>1</td>\n",
       "    </tr>\n",
       "    <tr>\n",
       "      <th>mRNA surveillance pathway</th>\n",
       "      <td>1</td>\n",
       "    </tr>\n",
       "    <tr>\n",
       "      <th>Dilated cardiomyopathy</th>\n",
       "      <td>1</td>\n",
       "    </tr>\n",
       "    <tr>\n",
       "      <th>Glutathione metabolism</th>\n",
       "      <td>1</td>\n",
       "    </tr>\n",
       "    <tr>\n",
       "      <th>GABAergic synapse</th>\n",
       "      <td>1</td>\n",
       "    </tr>\n",
       "    <tr>\n",
       "      <th>Ovarian steroidogenesis</th>\n",
       "      <td>1</td>\n",
       "    </tr>\n",
       "    <tr>\n",
       "      <th>Carbon metabolism</th>\n",
       "      <td>1</td>\n",
       "    </tr>\n",
       "    <tr>\n",
       "      <th>Peroxisome</th>\n",
       "      <td>1</td>\n",
       "    </tr>\n",
       "    <tr>\n",
       "      <th>Phagosome</th>\n",
       "      <td>1</td>\n",
       "    </tr>\n",
       "    <tr>\n",
       "      <th>Cytosolic DNA-sensing pathway</th>\n",
       "      <td>1</td>\n",
       "    </tr>\n",
       "    <tr>\n",
       "      <th>Arrhythmogenic right ventricular cardiomyopathy</th>\n",
       "      <td>1</td>\n",
       "    </tr>\n",
       "    <tr>\n",
       "      <th>Autophagy - other</th>\n",
       "      <td>1</td>\n",
       "    </tr>\n",
       "    <tr>\n",
       "      <th>Citrate cycle (TCA cycle)</th>\n",
       "      <td>1</td>\n",
       "    </tr>\n",
       "    <tr>\n",
       "      <th>Bile secretion</th>\n",
       "      <td>1</td>\n",
       "    </tr>\n",
       "    <tr>\n",
       "      <th>Biosynthesis of amino acids</th>\n",
       "      <td>1</td>\n",
       "    </tr>\n",
       "    <tr>\n",
       "      <th>2-Oxocarboxylic acid metabolism</th>\n",
       "      <td>1</td>\n",
       "    </tr>\n",
       "  </tbody>\n",
       "</table>\n",
       "</div>"
      ],
      "text/plain": [
       "                                                    gene\n",
       "pathway                                                 \n",
       "Pathways in cancer                                    65\n",
       "PI3K-Akt signaling pathway                            48\n",
       "Proteoglycans in cancer                               39\n",
       "Human cytomegalovirus infection                       37\n",
       "Human papillomavirus infection                        36\n",
       "Prostate cancer                                       35\n",
       "MAPK signaling pathway                                35\n",
       "MicroRNAs in cancer                                   35\n",
       "Ras signaling pathway                                 34\n",
       "EGFR tyrosine kinase inhibitor resistance             34\n",
       "Rap1 signaling pathway                                32\n",
       "Breast cancer                                         31\n",
       "Central carbon metabolism in cancer                   31\n",
       "Kaposi sarcoma-associated herpesvirus infection       30\n",
       "Focal adhesion                                        30\n",
       "Hepatitis B                                           29\n",
       "Endocrine resistance                                  29\n",
       "Chemical carcinogenesis - receptor activation         29\n",
       "Gastric cancer                                        28\n",
       "Hepatocellular carcinoma                              28\n",
       "Chemical carcinogenesis - reactive oxygen species     28\n",
       "Hepatitis C                                           28\n",
       "ErbB signaling pathway                                27\n",
       "Cellular senescence                                   26\n",
       "Phospholipase D signaling pathway                     26\n",
       "Colorectal cancer                                     26\n",
       "Glioma                                                26\n",
       "Non-small cell lung cancer                            26\n",
       "Chronic myeloid leukemia                              26\n",
       "Regulation of actin cytoskeleton                      26\n",
       "Thyroid hormone signaling pathway                     26\n",
       "Melanoma                                              26\n",
       "JAK-STAT signaling pathway                            25\n",
       "PD-L1 expression and PD-1 checkpoint pathway in...    25\n",
       "Neurotrophin signaling pathway                        25\n",
       "Acute myeloid leukemia                                24\n",
       "Renal cell carcinoma                                  24\n",
       "Human immunodeficiency virus 1 infection              24\n",
       "Signaling pathways regulating pluripotency of s...    24\n",
       "Human T-cell leukemia virus 1 infection               24\n",
       "FoxO signaling pathway                                24\n",
       "Viral carcinogenesis                                  23\n",
       "Pancreatic cancer                                     23\n",
       "Choline metabolism in cancer                          23\n",
       "Chemokine signaling pathway                           23\n",
       "Endometrial cancer                                    23\n",
       "Epstein-Barr virus infection                          23\n",
       "mTOR signaling pathway                                22\n",
       "Growth hormone synthesis, secretion and action        22\n",
       "Estrogen signaling pathway                            22\n",
       "Lipid and atherosclerosis                             22\n",
       "cAMP signaling pathway                                21\n",
       "Influenza A                                           21\n",
       "C-type lectin receptor signaling pathway              21\n",
       "Salmonella infection                                  21\n",
       "Relaxin signaling pathway                             21\n",
       "T cell receptor signaling pathway                     21\n",
       "Insulin signaling pathway                             20\n",
       "Alzheimer disease                                     20\n",
       "Prolactin signaling pathway                           20\n",
       "Sphingolipid signaling pathway                        20\n",
       "Autophagy - animal                                    20\n",
       "B cell receptor signaling pathway                     20\n",
       "Measles                                               19\n",
       "AGE-RAGE signaling pathway in diabetic complica...    19\n",
       "Apoptosis                                             19\n",
       "Calcium signaling pathway                             19\n",
       "Bladder cancer                                        18\n",
       "VEGF signaling pathway                                18\n",
       "Herpes simplex virus 1 infection                      18\n",
       "Shigellosis                                           18\n",
       "Natural killer cell mediated cytotoxicity             17\n",
       "Yersinia infection                                    17\n",
       "Axon guidance                                         17\n",
       "HIF-1 signaling pathway                               17\n",
       "Fc epsilon RI signaling pathway                       17\n",
       "Fluid shear stress and atherosclerosis                17\n",
       "Cholinergic synapse                                   16\n",
       "GnRH secretion                                        16\n",
       "Chagas disease                                        16\n",
       "Small cell lung cancer                                15\n",
       "Apelin signaling pathway                              15\n",
       "Pathways of neurodegeneration - multiple diseases     15\n",
       "Gap junction                                          15\n",
       "Toll-like receptor signaling pathway                  15\n",
       "Oxytocin signaling pathway                            14\n",
       "Osteoclast differentiation                            14\n",
       "Neutrophil extracellular trap formation               14\n",
       "Progesterone-mediated oocyte maturation               14\n",
       "GnRH signaling pathway                                14\n",
       "Tuberculosis                                          13\n",
       "Transcriptional misregulation in cancer               13\n",
       "Long-term depression                                  13\n",
       "Longevity regulating pathway                          13\n",
       "Cushing syndrome                                      13\n",
       "Thyroid cancer                                        13\n",
       "Platelet activation                                   13\n",
       "TNF signaling pathway                                 12\n",
       "Parathyroid hormone synthesis, secretion and ac...    12\n",
       "Platinum drug resistance                              12\n",
       "Melanogenesis                                         12\n",
       "p53 signaling pathway                                 12\n",
       "Coronavirus disease - COVID-19                        12\n",
       "AMPK signaling pathway                                12\n",
       "Insulin resistance                                    12\n",
       "Fc gamma R-mediated phagocytosis                      12\n",
       "Pathogenic Escherichia coli infection                 11\n",
       "cGMP-PKG signaling pathway                            11\n",
       "Long-term potentiation                                11\n",
       "Longevity regulating pathway - multiple species       11\n",
       "Toxoplasmosis                                         11\n",
       "Vascular smooth muscle contraction                    10\n",
       "Serotonergic synapse                                  10\n",
       "Diabetic cardiomyopathy                               10\n",
       "Endocytosis                                           10\n",
       "Non-alcoholic fatty liver disease                     10\n",
       "Alcoholism                                            10\n",
       "Adherens junction                                     10\n",
       "Thermogenesis                                          9\n",
       "Bacterial invasion of epithelial cells                 9\n",
       "Cell cycle                                             9\n",
       "Tight junction                                         9\n",
       "Spinocerebellar ataxia                                 9\n",
       "Alcoholic liver disease                                8\n",
       "Th17 cell differentiation                              8\n",
       "Adipocytokine signaling pathway                        8\n",
       "Epithelial cell signaling in Helicobacter pylor...     8\n",
       "Inflammatory mediator regulation of TRP channels       8\n",
       "NOD-like receptor signaling pathway                    8\n",
       "Wnt signaling pathway                                  8\n",
       "Adrenergic signaling in cardiomyocytes                 8\n",
       "Regulation of lipolysis in adipocytes                  8\n",
       "Leukocyte transendothelial migration                   8\n",
       "Amoebiasis                                             7\n",
       "Carbohydrate digestion and absorption                  7\n",
       "Prion disease                                          7\n",
       "Th1 and Th2 cell differentiation                       6\n",
       "Aldosterone-regulated sodium reabsorption              6\n",
       "Leishmaniasis                                          6\n",
       "TGF-beta signaling pathway                             6\n",
       "Hippo signaling pathway                                6\n",
       "Dopaminergic synapse                                   6\n",
       "Oocyte meiosis                                         6\n",
       "Metabolic pathways                                     6\n",
       "Mitophagy - animal                                     6\n",
       "Type II diabetes mellitus                              6\n",
       "Glucagon signaling pathway                             6\n",
       "Phosphatidylinositol signaling system                  5\n",
       "Necroptosis                                            5\n",
       "NF-kappa B signaling pathway                           5\n",
       "Pertussis                                              4\n",
       "Huntington disease                                     4\n",
       "Pancreatic secretion                                   4\n",
       "Amyotrophic lateral sclerosis                          4\n",
       "IL-17 signaling pathway                                4\n",
       "Inositol phosphate metabolism                          4\n",
       "Viral myocarditis                                      4\n",
       "Aldosterone synthesis and secretion                    3\n",
       "Thyroid hormone synthesis                              3\n",
       "Insulin secretion                                      3\n",
       "Circadian entrainment                                  3\n",
       "Glutamatergic synapse                                  3\n",
       "Legionellosis                                          3\n",
       "Endocrine and other factor-regulated calcium re...     3\n",
       "Hedgehog signaling pathway                             3\n",
       "Hematopoietic cell lineage                             3\n",
       "Cytokine-cytokine receptor interaction                 3\n",
       "Cortisol synthesis and secretion                       3\n",
       "RIG-I-like receptor signaling pathway                  2\n",
       "Apoptosis - multiple species                           2\n",
       "Gastric acid secretion                                 2\n",
       "Notch signaling pathway                                2\n",
       "Parkinson disease                                      2\n",
       "Hippo signaling pathway - multiple species             2\n",
       "Amphetamine addiction                                  2\n",
       "Primary immunodeficiency                               2\n",
       "Malaria                                                2\n",
       "Cocaine addiction                                      2\n",
       "Inflammatory bowel disease                             2\n",
       "Basal cell carcinoma                                   2\n",
       "Salivary secretion                                     2\n",
       "Rheumatoid arthritis                                   2\n",
       "Retrograde endocannabinoid signaling                   2\n",
       "Renin secretion                                        2\n",
       "Protein processing in endoplasmic reticulum            2\n",
       "African trypanosomiasis                                2\n",
       "Ubiquitin mediated proteolysis                         1\n",
       "Lysine degradation                                     1\n",
       "Vibrio cholerae infection                              1\n",
       "Vasopressin-regulated water reabsorption               1\n",
       "Morphine addiction                                     1\n",
       "mRNA surveillance pathway                              1\n",
       "Dilated cardiomyopathy                                 1\n",
       "Glutathione metabolism                                 1\n",
       "GABAergic synapse                                      1\n",
       "Ovarian steroidogenesis                                1\n",
       "Carbon metabolism                                      1\n",
       "Peroxisome                                             1\n",
       "Phagosome                                              1\n",
       "Cytosolic DNA-sensing pathway                          1\n",
       "Arrhythmogenic right ventricular cardiomyopathy        1\n",
       "Autophagy - other                                      1\n",
       "Citrate cycle (TCA cycle)                              1\n",
       "Bile secretion                                         1\n",
       "Biosynthesis of amino acids                            1\n",
       "2-Oxocarboxylic acid metabolism                        1"
      ]
     },
     "execution_count": 45,
     "metadata": {},
     "output_type": "execute_result"
    }
   ],
   "source": [
    "#class7_gene_pathway.groupby('pathway').count().sort_values('gene',ascending=False)"
   ]
  },
  {
   "cell_type": "code",
   "execution_count": 56,
   "metadata": {},
   "outputs": [
    {
     "name": "stdout",
     "output_type": "stream",
     "text": [
      "mutated genes in class 92\n",
      "genes in KEGG Database  22232\n"
     ]
    }
   ],
   "source": [
    "class_4_mutated_kegg=map_mutation_kegg(class_4_genes,human_gene_list)"
   ]
  },
  {
   "cell_type": "code",
   "execution_count": 62,
   "metadata": {
    "scrolled": false
   },
   "outputs": [],
   "source": [
    "class4_gene_pathway=df_gene_pathway(class_4_genes)"
   ]
  },
  {
   "cell_type": "code",
   "execution_count": 50,
   "metadata": {},
   "outputs": [],
   "source": [
    "class4_gene_pathway.drop_duplicates(inplace=True)"
   ]
  },
  {
   "cell_type": "code",
   "execution_count": 51,
   "metadata": {},
   "outputs": [],
   "source": [
    "class4_gene_pathway.to_csv('class4_gene_pathway.csv',header=True,index=False)"
   ]
  },
  {
   "cell_type": "code",
   "execution_count": 52,
   "metadata": {},
   "outputs": [
    {
     "data": {
      "text/html": [
       "<div>\n",
       "<style scoped>\n",
       "    .dataframe tbody tr th:only-of-type {\n",
       "        vertical-align: middle;\n",
       "    }\n",
       "\n",
       "    .dataframe tbody tr th {\n",
       "        vertical-align: top;\n",
       "    }\n",
       "\n",
       "    .dataframe thead th {\n",
       "        text-align: right;\n",
       "    }\n",
       "</style>\n",
       "<table border=\"1\" class=\"dataframe\">\n",
       "  <thead>\n",
       "    <tr style=\"text-align: right;\">\n",
       "      <th></th>\n",
       "      <th>gene</th>\n",
       "    </tr>\n",
       "    <tr>\n",
       "      <th>pathway</th>\n",
       "      <th></th>\n",
       "    </tr>\n",
       "  </thead>\n",
       "  <tbody>\n",
       "    <tr>\n",
       "      <th>Pathways in cancer</th>\n",
       "      <td>37</td>\n",
       "    </tr>\n",
       "    <tr>\n",
       "      <th>Human T-cell leukemia virus 1 infection</th>\n",
       "      <td>19</td>\n",
       "    </tr>\n",
       "    <tr>\n",
       "      <th>MicroRNAs in cancer</th>\n",
       "      <td>19</td>\n",
       "    </tr>\n",
       "    <tr>\n",
       "      <th>Hepatocellular carcinoma</th>\n",
       "      <td>18</td>\n",
       "    </tr>\n",
       "    <tr>\n",
       "      <th>Gastric cancer</th>\n",
       "      <td>17</td>\n",
       "    </tr>\n",
       "    <tr>\n",
       "      <th>Human papillomavirus infection</th>\n",
       "      <td>17</td>\n",
       "    </tr>\n",
       "    <tr>\n",
       "      <th>Cellular senescence</th>\n",
       "      <td>16</td>\n",
       "    </tr>\n",
       "    <tr>\n",
       "      <th>PI3K-Akt signaling pathway</th>\n",
       "      <td>16</td>\n",
       "    </tr>\n",
       "    <tr>\n",
       "      <th>FoxO signaling pathway</th>\n",
       "      <td>15</td>\n",
       "    </tr>\n",
       "    <tr>\n",
       "      <th>Colorectal cancer</th>\n",
       "      <td>15</td>\n",
       "    </tr>\n",
       "    <tr>\n",
       "      <th>Chronic myeloid leukemia</th>\n",
       "      <td>14</td>\n",
       "    </tr>\n",
       "    <tr>\n",
       "      <th>Pancreatic cancer</th>\n",
       "      <td>14</td>\n",
       "    </tr>\n",
       "    <tr>\n",
       "      <th>Breast cancer</th>\n",
       "      <td>13</td>\n",
       "    </tr>\n",
       "    <tr>\n",
       "      <th>MAPK signaling pathway</th>\n",
       "      <td>13</td>\n",
       "    </tr>\n",
       "    <tr>\n",
       "      <th>Hepatitis B</th>\n",
       "      <td>12</td>\n",
       "    </tr>\n",
       "    <tr>\n",
       "      <th>Prostate cancer</th>\n",
       "      <td>12</td>\n",
       "    </tr>\n",
       "    <tr>\n",
       "      <th>Human cytomegalovirus infection</th>\n",
       "      <td>12</td>\n",
       "    </tr>\n",
       "    <tr>\n",
       "      <th>Central carbon metabolism in cancer</th>\n",
       "      <td>12</td>\n",
       "    </tr>\n",
       "    <tr>\n",
       "      <th>Cell cycle</th>\n",
       "      <td>12</td>\n",
       "    </tr>\n",
       "    <tr>\n",
       "      <th>Ras signaling pathway</th>\n",
       "      <td>11</td>\n",
       "    </tr>\n",
       "    <tr>\n",
       "      <th>Melanoma</th>\n",
       "      <td>11</td>\n",
       "    </tr>\n",
       "    <tr>\n",
       "      <th>Platinum drug resistance</th>\n",
       "      <td>10</td>\n",
       "    </tr>\n",
       "    <tr>\n",
       "      <th>Phospholipase D signaling pathway</th>\n",
       "      <td>10</td>\n",
       "    </tr>\n",
       "    <tr>\n",
       "      <th>Glioma</th>\n",
       "      <td>10</td>\n",
       "    </tr>\n",
       "    <tr>\n",
       "      <th>Proteoglycans in cancer</th>\n",
       "      <td>10</td>\n",
       "    </tr>\n",
       "    <tr>\n",
       "      <th>Viral carcinogenesis</th>\n",
       "      <td>10</td>\n",
       "    </tr>\n",
       "    <tr>\n",
       "      <th>Adherens junction</th>\n",
       "      <td>10</td>\n",
       "    </tr>\n",
       "    <tr>\n",
       "      <th>Chemical carcinogenesis - reactive oxygen species</th>\n",
       "      <td>10</td>\n",
       "    </tr>\n",
       "    <tr>\n",
       "      <th>Endometrial cancer</th>\n",
       "      <td>10</td>\n",
       "    </tr>\n",
       "    <tr>\n",
       "      <th>EGFR tyrosine kinase inhibitor resistance</th>\n",
       "      <td>9</td>\n",
       "    </tr>\n",
       "    <tr>\n",
       "      <th>Endocrine resistance</th>\n",
       "      <td>9</td>\n",
       "    </tr>\n",
       "    <tr>\n",
       "      <th>Hippo signaling pathway</th>\n",
       "      <td>9</td>\n",
       "    </tr>\n",
       "    <tr>\n",
       "      <th>Transcriptional misregulation in cancer</th>\n",
       "      <td>9</td>\n",
       "    </tr>\n",
       "    <tr>\n",
       "      <th>Cushing syndrome</th>\n",
       "      <td>9</td>\n",
       "    </tr>\n",
       "    <tr>\n",
       "      <th>TGF-beta signaling pathway</th>\n",
       "      <td>9</td>\n",
       "    </tr>\n",
       "    <tr>\n",
       "      <th>Non-small cell lung cancer</th>\n",
       "      <td>9</td>\n",
       "    </tr>\n",
       "    <tr>\n",
       "      <th>Rap1 signaling pathway</th>\n",
       "      <td>9</td>\n",
       "    </tr>\n",
       "    <tr>\n",
       "      <th>Focal adhesion</th>\n",
       "      <td>9</td>\n",
       "    </tr>\n",
       "    <tr>\n",
       "      <th>Endocytosis</th>\n",
       "      <td>8</td>\n",
       "    </tr>\n",
       "    <tr>\n",
       "      <th>HIF-1 signaling pathway</th>\n",
       "      <td>8</td>\n",
       "    </tr>\n",
       "    <tr>\n",
       "      <th>Epstein-Barr virus infection</th>\n",
       "      <td>8</td>\n",
       "    </tr>\n",
       "    <tr>\n",
       "      <th>ErbB signaling pathway</th>\n",
       "      <td>8</td>\n",
       "    </tr>\n",
       "    <tr>\n",
       "      <th>mTOR signaling pathway</th>\n",
       "      <td>8</td>\n",
       "    </tr>\n",
       "    <tr>\n",
       "      <th>Diabetic cardiomyopathy</th>\n",
       "      <td>8</td>\n",
       "    </tr>\n",
       "    <tr>\n",
       "      <th>Regulation of actin cytoskeleton</th>\n",
       "      <td>8</td>\n",
       "    </tr>\n",
       "    <tr>\n",
       "      <th>Herpes simplex virus 1 infection</th>\n",
       "      <td>8</td>\n",
       "    </tr>\n",
       "    <tr>\n",
       "      <th>Kaposi sarcoma-associated herpesvirus infection</th>\n",
       "      <td>8</td>\n",
       "    </tr>\n",
       "    <tr>\n",
       "      <th>p53 signaling pathway</th>\n",
       "      <td>8</td>\n",
       "    </tr>\n",
       "    <tr>\n",
       "      <th>Hepatitis C</th>\n",
       "      <td>7</td>\n",
       "    </tr>\n",
       "    <tr>\n",
       "      <th>cAMP signaling pathway</th>\n",
       "      <td>7</td>\n",
       "    </tr>\n",
       "    <tr>\n",
       "      <th>Wnt signaling pathway</th>\n",
       "      <td>7</td>\n",
       "    </tr>\n",
       "    <tr>\n",
       "      <th>AGE-RAGE signaling pathway in diabetic complications</th>\n",
       "      <td>7</td>\n",
       "    </tr>\n",
       "    <tr>\n",
       "      <th>Thyroid hormone signaling pathway</th>\n",
       "      <td>7</td>\n",
       "    </tr>\n",
       "    <tr>\n",
       "      <th>Th17 cell differentiation</th>\n",
       "      <td>7</td>\n",
       "    </tr>\n",
       "    <tr>\n",
       "      <th>Neurotrophin signaling pathway</th>\n",
       "      <td>7</td>\n",
       "    </tr>\n",
       "    <tr>\n",
       "      <th>Signaling pathways regulating pluripotency of stem cells</th>\n",
       "      <td>7</td>\n",
       "    </tr>\n",
       "    <tr>\n",
       "      <th>Renal cell carcinoma</th>\n",
       "      <td>7</td>\n",
       "    </tr>\n",
       "    <tr>\n",
       "      <th>Relaxin signaling pathway</th>\n",
       "      <td>7</td>\n",
       "    </tr>\n",
       "    <tr>\n",
       "      <th>JAK-STAT signaling pathway</th>\n",
       "      <td>7</td>\n",
       "    </tr>\n",
       "    <tr>\n",
       "      <th>Apelin signaling pathway</th>\n",
       "      <td>7</td>\n",
       "    </tr>\n",
       "    <tr>\n",
       "      <th>Fanconi anemia pathway</th>\n",
       "      <td>7</td>\n",
       "    </tr>\n",
       "    <tr>\n",
       "      <th>Bladder cancer</th>\n",
       "      <td>7</td>\n",
       "    </tr>\n",
       "    <tr>\n",
       "      <th>Choline metabolism in cancer</th>\n",
       "      <td>7</td>\n",
       "    </tr>\n",
       "    <tr>\n",
       "      <th>Alzheimer disease</th>\n",
       "      <td>7</td>\n",
       "    </tr>\n",
       "    <tr>\n",
       "      <th>Huntington disease</th>\n",
       "      <td>6</td>\n",
       "    </tr>\n",
       "    <tr>\n",
       "      <th>Pathways of neurodegeneration - multiple diseases</th>\n",
       "      <td>6</td>\n",
       "    </tr>\n",
       "    <tr>\n",
       "      <th>Metabolic pathways</th>\n",
       "      <td>6</td>\n",
       "    </tr>\n",
       "    <tr>\n",
       "      <th>Calcium signaling pathway</th>\n",
       "      <td>6</td>\n",
       "    </tr>\n",
       "    <tr>\n",
       "      <th>Influenza A</th>\n",
       "      <td>6</td>\n",
       "    </tr>\n",
       "    <tr>\n",
       "      <th>Chagas disease</th>\n",
       "      <td>6</td>\n",
       "    </tr>\n",
       "    <tr>\n",
       "      <th>Thyroid cancer</th>\n",
       "      <td>6</td>\n",
       "    </tr>\n",
       "    <tr>\n",
       "      <th>Autophagy - animal</th>\n",
       "      <td>6</td>\n",
       "    </tr>\n",
       "    <tr>\n",
       "      <th>Apoptosis</th>\n",
       "      <td>6</td>\n",
       "    </tr>\n",
       "    <tr>\n",
       "      <th>Insulin signaling pathway</th>\n",
       "      <td>6</td>\n",
       "    </tr>\n",
       "    <tr>\n",
       "      <th>Small cell lung cancer</th>\n",
       "      <td>6</td>\n",
       "    </tr>\n",
       "    <tr>\n",
       "      <th>Homologous recombination</th>\n",
       "      <td>6</td>\n",
       "    </tr>\n",
       "    <tr>\n",
       "      <th>Lipid and atherosclerosis</th>\n",
       "      <td>5</td>\n",
       "    </tr>\n",
       "    <tr>\n",
       "      <th>Longevity regulating pathway</th>\n",
       "      <td>5</td>\n",
       "    </tr>\n",
       "    <tr>\n",
       "      <th>Osteoclast differentiation</th>\n",
       "      <td>5</td>\n",
       "    </tr>\n",
       "    <tr>\n",
       "      <th>Measles</th>\n",
       "      <td>5</td>\n",
       "    </tr>\n",
       "    <tr>\n",
       "      <th>Ubiquitin mediated proteolysis</th>\n",
       "      <td>5</td>\n",
       "    </tr>\n",
       "    <tr>\n",
       "      <th>Fluid shear stress and atherosclerosis</th>\n",
       "      <td>5</td>\n",
       "    </tr>\n",
       "    <tr>\n",
       "      <th>Parathyroid hormone synthesis, secretion and action</th>\n",
       "      <td>5</td>\n",
       "    </tr>\n",
       "    <tr>\n",
       "      <th>Thermogenesis</th>\n",
       "      <td>5</td>\n",
       "    </tr>\n",
       "    <tr>\n",
       "      <th>Shigellosis</th>\n",
       "      <td>5</td>\n",
       "    </tr>\n",
       "    <tr>\n",
       "      <th>PD-L1 expression and PD-1 checkpoint pathway in cancer</th>\n",
       "      <td>5</td>\n",
       "    </tr>\n",
       "    <tr>\n",
       "      <th>Sphingolipid signaling pathway</th>\n",
       "      <td>5</td>\n",
       "    </tr>\n",
       "    <tr>\n",
       "      <th>Acute myeloid leukemia</th>\n",
       "      <td>5</td>\n",
       "    </tr>\n",
       "    <tr>\n",
       "      <th>Human immunodeficiency virus 1 infection</th>\n",
       "      <td>5</td>\n",
       "    </tr>\n",
       "    <tr>\n",
       "      <th>Growth hormone synthesis, secretion and action</th>\n",
       "      <td>5</td>\n",
       "    </tr>\n",
       "    <tr>\n",
       "      <th>Bacterial invasion of epithelial cells</th>\n",
       "      <td>4</td>\n",
       "    </tr>\n",
       "    <tr>\n",
       "      <th>C-type lectin receptor signaling pathway</th>\n",
       "      <td>4</td>\n",
       "    </tr>\n",
       "    <tr>\n",
       "      <th>Non-alcoholic fatty liver disease</th>\n",
       "      <td>4</td>\n",
       "    </tr>\n",
       "    <tr>\n",
       "      <th>Yersinia infection</th>\n",
       "      <td>4</td>\n",
       "    </tr>\n",
       "    <tr>\n",
       "      <th>Toll-like receptor signaling pathway</th>\n",
       "      <td>4</td>\n",
       "    </tr>\n",
       "    <tr>\n",
       "      <th>Tight junction</th>\n",
       "      <td>4</td>\n",
       "    </tr>\n",
       "    <tr>\n",
       "      <th>Parkinson disease</th>\n",
       "      <td>4</td>\n",
       "    </tr>\n",
       "    <tr>\n",
       "      <th>AMPK signaling pathway</th>\n",
       "      <td>4</td>\n",
       "    </tr>\n",
       "    <tr>\n",
       "      <th>Natural killer cell mediated cytotoxicity</th>\n",
       "      <td>4</td>\n",
       "    </tr>\n",
       "    <tr>\n",
       "      <th>Prion disease</th>\n",
       "      <td>4</td>\n",
       "    </tr>\n",
       "    <tr>\n",
       "      <th>Progesterone-mediated oocyte maturation</th>\n",
       "      <td>4</td>\n",
       "    </tr>\n",
       "    <tr>\n",
       "      <th>TNF signaling pathway</th>\n",
       "      <td>4</td>\n",
       "    </tr>\n",
       "    <tr>\n",
       "      <th>Gap junction</th>\n",
       "      <td>4</td>\n",
       "    </tr>\n",
       "    <tr>\n",
       "      <th>Salmonella infection</th>\n",
       "      <td>4</td>\n",
       "    </tr>\n",
       "    <tr>\n",
       "      <th>Fc epsilon RI signaling pathway</th>\n",
       "      <td>4</td>\n",
       "    </tr>\n",
       "    <tr>\n",
       "      <th>Tuberculosis</th>\n",
       "      <td>4</td>\n",
       "    </tr>\n",
       "    <tr>\n",
       "      <th>Mismatch repair</th>\n",
       "      <td>4</td>\n",
       "    </tr>\n",
       "    <tr>\n",
       "      <th>Chemokine signaling pathway</th>\n",
       "      <td>4</td>\n",
       "    </tr>\n",
       "    <tr>\n",
       "      <th>Melanogenesis</th>\n",
       "      <td>4</td>\n",
       "    </tr>\n",
       "    <tr>\n",
       "      <th>Long-term potentiation</th>\n",
       "      <td>4</td>\n",
       "    </tr>\n",
       "    <tr>\n",
       "      <th>Inflammatory bowel disease</th>\n",
       "      <td>3</td>\n",
       "    </tr>\n",
       "    <tr>\n",
       "      <th>Nucleotide excision repair</th>\n",
       "      <td>3</td>\n",
       "    </tr>\n",
       "    <tr>\n",
       "      <th>GnRH signaling pathway</th>\n",
       "      <td>3</td>\n",
       "    </tr>\n",
       "    <tr>\n",
       "      <th>Leukocyte transendothelial migration</th>\n",
       "      <td>3</td>\n",
       "    </tr>\n",
       "    <tr>\n",
       "      <th>Vascular smooth muscle contraction</th>\n",
       "      <td>3</td>\n",
       "    </tr>\n",
       "    <tr>\n",
       "      <th>Pathogenic Escherichia coli infection</th>\n",
       "      <td>3</td>\n",
       "    </tr>\n",
       "    <tr>\n",
       "      <th>Epithelial cell signaling in Helicobacter pylori infection</th>\n",
       "      <td>3</td>\n",
       "    </tr>\n",
       "    <tr>\n",
       "      <th>B cell receptor signaling pathway</th>\n",
       "      <td>3</td>\n",
       "    </tr>\n",
       "    <tr>\n",
       "      <th>cGMP-PKG signaling pathway</th>\n",
       "      <td>3</td>\n",
       "    </tr>\n",
       "    <tr>\n",
       "      <th>Oxytocin signaling pathway</th>\n",
       "      <td>3</td>\n",
       "    </tr>\n",
       "    <tr>\n",
       "      <th>Axon guidance</th>\n",
       "      <td>3</td>\n",
       "    </tr>\n",
       "    <tr>\n",
       "      <th>Platelet activation</th>\n",
       "      <td>3</td>\n",
       "    </tr>\n",
       "    <tr>\n",
       "      <th>Notch signaling pathway</th>\n",
       "      <td>3</td>\n",
       "    </tr>\n",
       "    <tr>\n",
       "      <th>Chemical carcinogenesis - receptor activation</th>\n",
       "      <td>3</td>\n",
       "    </tr>\n",
       "    <tr>\n",
       "      <th>Estrogen signaling pathway</th>\n",
       "      <td>3</td>\n",
       "    </tr>\n",
       "    <tr>\n",
       "      <th>Carbon metabolism</th>\n",
       "      <td>3</td>\n",
       "    </tr>\n",
       "    <tr>\n",
       "      <th>Insulin resistance</th>\n",
       "      <td>3</td>\n",
       "    </tr>\n",
       "    <tr>\n",
       "      <th>T cell receptor signaling pathway</th>\n",
       "      <td>3</td>\n",
       "    </tr>\n",
       "    <tr>\n",
       "      <th>Citrate cycle (TCA cycle)</th>\n",
       "      <td>3</td>\n",
       "    </tr>\n",
       "    <tr>\n",
       "      <th>Amyotrophic lateral sclerosis</th>\n",
       "      <td>3</td>\n",
       "    </tr>\n",
       "    <tr>\n",
       "      <th>Basal cell carcinoma</th>\n",
       "      <td>2</td>\n",
       "    </tr>\n",
       "    <tr>\n",
       "      <th>Th1 and Th2 cell differentiation</th>\n",
       "      <td>2</td>\n",
       "    </tr>\n",
       "    <tr>\n",
       "      <th>Prolactin signaling pathway</th>\n",
       "      <td>2</td>\n",
       "    </tr>\n",
       "    <tr>\n",
       "      <th>Alcoholic liver disease</th>\n",
       "      <td>2</td>\n",
       "    </tr>\n",
       "    <tr>\n",
       "      <th>Serotonergic synapse</th>\n",
       "      <td>2</td>\n",
       "    </tr>\n",
       "    <tr>\n",
       "      <th>Adipocytokine signaling pathway</th>\n",
       "      <td>2</td>\n",
       "    </tr>\n",
       "    <tr>\n",
       "      <th>Fc gamma R-mediated phagocytosis</th>\n",
       "      <td>2</td>\n",
       "    </tr>\n",
       "    <tr>\n",
       "      <th>Glucagon signaling pathway</th>\n",
       "      <td>2</td>\n",
       "    </tr>\n",
       "    <tr>\n",
       "      <th>Coronavirus disease - COVID-19</th>\n",
       "      <td>2</td>\n",
       "    </tr>\n",
       "    <tr>\n",
       "      <th>Phosphatidylinositol signaling system</th>\n",
       "      <td>2</td>\n",
       "    </tr>\n",
       "    <tr>\n",
       "      <th>Oocyte meiosis</th>\n",
       "      <td>2</td>\n",
       "    </tr>\n",
       "    <tr>\n",
       "      <th>NF-kappa B signaling pathway</th>\n",
       "      <td>2</td>\n",
       "    </tr>\n",
       "    <tr>\n",
       "      <th>NOD-like receptor signaling pathway</th>\n",
       "      <td>2</td>\n",
       "    </tr>\n",
       "    <tr>\n",
       "      <th>Cholinergic synapse</th>\n",
       "      <td>2</td>\n",
       "    </tr>\n",
       "    <tr>\n",
       "      <th>Neutrophil extracellular trap formation</th>\n",
       "      <td>2</td>\n",
       "    </tr>\n",
       "    <tr>\n",
       "      <th>Alcoholism</th>\n",
       "      <td>2</td>\n",
       "    </tr>\n",
       "    <tr>\n",
       "      <th>GnRH secretion</th>\n",
       "      <td>2</td>\n",
       "    </tr>\n",
       "    <tr>\n",
       "      <th>Lysine degradation</th>\n",
       "      <td>2</td>\n",
       "    </tr>\n",
       "    <tr>\n",
       "      <th>Inflammatory mediator regulation of TRP channels</th>\n",
       "      <td>2</td>\n",
       "    </tr>\n",
       "    <tr>\n",
       "      <th>Oxidative phosphorylation</th>\n",
       "      <td>2</td>\n",
       "    </tr>\n",
       "    <tr>\n",
       "      <th>VEGF signaling pathway</th>\n",
       "      <td>2</td>\n",
       "    </tr>\n",
       "    <tr>\n",
       "      <th>Hippo signaling pathway - multiple species</th>\n",
       "      <td>2</td>\n",
       "    </tr>\n",
       "    <tr>\n",
       "      <th>Cytokine-cytokine receptor interaction</th>\n",
       "      <td>2</td>\n",
       "    </tr>\n",
       "    <tr>\n",
       "      <th>Long-term depression</th>\n",
       "      <td>2</td>\n",
       "    </tr>\n",
       "    <tr>\n",
       "      <th>Toxoplasmosis</th>\n",
       "      <td>1</td>\n",
       "    </tr>\n",
       "    <tr>\n",
       "      <th>Amoebiasis</th>\n",
       "      <td>1</td>\n",
       "    </tr>\n",
       "    <tr>\n",
       "      <th>Viral myocarditis</th>\n",
       "      <td>1</td>\n",
       "    </tr>\n",
       "    <tr>\n",
       "      <th>Type II diabetes mellitus</th>\n",
       "      <td>1</td>\n",
       "    </tr>\n",
       "    <tr>\n",
       "      <th>Spliceosome</th>\n",
       "      <td>1</td>\n",
       "    </tr>\n",
       "    <tr>\n",
       "      <th>Aldosterone-regulated sodium reabsorption</th>\n",
       "      <td>1</td>\n",
       "    </tr>\n",
       "    <tr>\n",
       "      <th>Ferroptosis</th>\n",
       "      <td>1</td>\n",
       "    </tr>\n",
       "    <tr>\n",
       "      <th>Spinocerebellar ataxia</th>\n",
       "      <td>1</td>\n",
       "    </tr>\n",
       "    <tr>\n",
       "      <th>Antigen processing and presentation</th>\n",
       "      <td>1</td>\n",
       "    </tr>\n",
       "    <tr>\n",
       "      <th>Glutathione metabolism</th>\n",
       "      <td>1</td>\n",
       "    </tr>\n",
       "    <tr>\n",
       "      <th>Hedgehog signaling pathway</th>\n",
       "      <td>1</td>\n",
       "    </tr>\n",
       "    <tr>\n",
       "      <th>Hematopoietic cell lineage</th>\n",
       "      <td>1</td>\n",
       "    </tr>\n",
       "    <tr>\n",
       "      <th>DNA replication</th>\n",
       "      <td>1</td>\n",
       "    </tr>\n",
       "    <tr>\n",
       "      <th>IL-17 signaling pathway</th>\n",
       "      <td>1</td>\n",
       "    </tr>\n",
       "    <tr>\n",
       "      <th>Inositol phosphate metabolism</th>\n",
       "      <td>1</td>\n",
       "    </tr>\n",
       "    <tr>\n",
       "      <th>Cell adhesion molecules</th>\n",
       "      <td>1</td>\n",
       "    </tr>\n",
       "    <tr>\n",
       "      <th>Legionellosis</th>\n",
       "      <td>1</td>\n",
       "    </tr>\n",
       "    <tr>\n",
       "      <th>Longevity regulating pathway - multiple species</th>\n",
       "      <td>1</td>\n",
       "    </tr>\n",
       "    <tr>\n",
       "      <th>Carbohydrate digestion and absorption</th>\n",
       "      <td>1</td>\n",
       "    </tr>\n",
       "    <tr>\n",
       "      <th>Mitophagy - animal</th>\n",
       "      <td>1</td>\n",
       "    </tr>\n",
       "    <tr>\n",
       "      <th>Necroptosis</th>\n",
       "      <td>1</td>\n",
       "    </tr>\n",
       "    <tr>\n",
       "      <th>Non-homologous end-joining</th>\n",
       "      <td>1</td>\n",
       "    </tr>\n",
       "    <tr>\n",
       "      <th>Biosynthesis of amino acids</th>\n",
       "      <td>1</td>\n",
       "    </tr>\n",
       "    <tr>\n",
       "      <th>Base excision repair</th>\n",
       "      <td>1</td>\n",
       "    </tr>\n",
       "    <tr>\n",
       "      <th>Pancreatic secretion</th>\n",
       "      <td>1</td>\n",
       "    </tr>\n",
       "    <tr>\n",
       "      <th>Basal transcription factors</th>\n",
       "      <td>1</td>\n",
       "    </tr>\n",
       "    <tr>\n",
       "      <th>Peroxisome</th>\n",
       "      <td>1</td>\n",
       "    </tr>\n",
       "    <tr>\n",
       "      <th>Pertussis</th>\n",
       "      <td>1</td>\n",
       "    </tr>\n",
       "    <tr>\n",
       "      <th>Primary immunodeficiency</th>\n",
       "      <td>1</td>\n",
       "    </tr>\n",
       "    <tr>\n",
       "      <th>RIG-I-like receptor signaling pathway</th>\n",
       "      <td>1</td>\n",
       "    </tr>\n",
       "    <tr>\n",
       "      <th>Apoptosis - multiple species</th>\n",
       "      <td>1</td>\n",
       "    </tr>\n",
       "    <tr>\n",
       "      <th>Regulation of lipolysis in adipocytes</th>\n",
       "      <td>1</td>\n",
       "    </tr>\n",
       "    <tr>\n",
       "      <th>2-Oxocarboxylic acid metabolism</th>\n",
       "      <td>1</td>\n",
       "    </tr>\n",
       "  </tbody>\n",
       "</table>\n",
       "</div>"
      ],
      "text/plain": [
       "                                                    gene\n",
       "pathway                                                 \n",
       "Pathways in cancer                                    37\n",
       "Human T-cell leukemia virus 1 infection               19\n",
       "MicroRNAs in cancer                                   19\n",
       "Hepatocellular carcinoma                              18\n",
       "Gastric cancer                                        17\n",
       "Human papillomavirus infection                        17\n",
       "Cellular senescence                                   16\n",
       "PI3K-Akt signaling pathway                            16\n",
       "FoxO signaling pathway                                15\n",
       "Colorectal cancer                                     15\n",
       "Chronic myeloid leukemia                              14\n",
       "Pancreatic cancer                                     14\n",
       "Breast cancer                                         13\n",
       "MAPK signaling pathway                                13\n",
       "Hepatitis B                                           12\n",
       "Prostate cancer                                       12\n",
       "Human cytomegalovirus infection                       12\n",
       "Central carbon metabolism in cancer                   12\n",
       "Cell cycle                                            12\n",
       "Ras signaling pathway                                 11\n",
       "Melanoma                                              11\n",
       "Platinum drug resistance                              10\n",
       "Phospholipase D signaling pathway                     10\n",
       "Glioma                                                10\n",
       "Proteoglycans in cancer                               10\n",
       "Viral carcinogenesis                                  10\n",
       "Adherens junction                                     10\n",
       "Chemical carcinogenesis - reactive oxygen species     10\n",
       "Endometrial cancer                                    10\n",
       "EGFR tyrosine kinase inhibitor resistance              9\n",
       "Endocrine resistance                                   9\n",
       "Hippo signaling pathway                                9\n",
       "Transcriptional misregulation in cancer                9\n",
       "Cushing syndrome                                       9\n",
       "TGF-beta signaling pathway                             9\n",
       "Non-small cell lung cancer                             9\n",
       "Rap1 signaling pathway                                 9\n",
       "Focal adhesion                                         9\n",
       "Endocytosis                                            8\n",
       "HIF-1 signaling pathway                                8\n",
       "Epstein-Barr virus infection                           8\n",
       "ErbB signaling pathway                                 8\n",
       "mTOR signaling pathway                                 8\n",
       "Diabetic cardiomyopathy                                8\n",
       "Regulation of actin cytoskeleton                       8\n",
       "Herpes simplex virus 1 infection                       8\n",
       "Kaposi sarcoma-associated herpesvirus infection        8\n",
       "p53 signaling pathway                                  8\n",
       "Hepatitis C                                            7\n",
       "cAMP signaling pathway                                 7\n",
       "Wnt signaling pathway                                  7\n",
       "AGE-RAGE signaling pathway in diabetic complica...     7\n",
       "Thyroid hormone signaling pathway                      7\n",
       "Th17 cell differentiation                              7\n",
       "Neurotrophin signaling pathway                         7\n",
       "Signaling pathways regulating pluripotency of s...     7\n",
       "Renal cell carcinoma                                   7\n",
       "Relaxin signaling pathway                              7\n",
       "JAK-STAT signaling pathway                             7\n",
       "Apelin signaling pathway                               7\n",
       "Fanconi anemia pathway                                 7\n",
       "Bladder cancer                                         7\n",
       "Choline metabolism in cancer                           7\n",
       "Alzheimer disease                                      7\n",
       "Huntington disease                                     6\n",
       "Pathways of neurodegeneration - multiple diseases      6\n",
       "Metabolic pathways                                     6\n",
       "Calcium signaling pathway                              6\n",
       "Influenza A                                            6\n",
       "Chagas disease                                         6\n",
       "Thyroid cancer                                         6\n",
       "Autophagy - animal                                     6\n",
       "Apoptosis                                              6\n",
       "Insulin signaling pathway                              6\n",
       "Small cell lung cancer                                 6\n",
       "Homologous recombination                               6\n",
       "Lipid and atherosclerosis                              5\n",
       "Longevity regulating pathway                           5\n",
       "Osteoclast differentiation                             5\n",
       "Measles                                                5\n",
       "Ubiquitin mediated proteolysis                         5\n",
       "Fluid shear stress and atherosclerosis                 5\n",
       "Parathyroid hormone synthesis, secretion and ac...     5\n",
       "Thermogenesis                                          5\n",
       "Shigellosis                                            5\n",
       "PD-L1 expression and PD-1 checkpoint pathway in...     5\n",
       "Sphingolipid signaling pathway                         5\n",
       "Acute myeloid leukemia                                 5\n",
       "Human immunodeficiency virus 1 infection               5\n",
       "Growth hormone synthesis, secretion and action         5\n",
       "Bacterial invasion of epithelial cells                 4\n",
       "C-type lectin receptor signaling pathway               4\n",
       "Non-alcoholic fatty liver disease                      4\n",
       "Yersinia infection                                     4\n",
       "Toll-like receptor signaling pathway                   4\n",
       "Tight junction                                         4\n",
       "Parkinson disease                                      4\n",
       "AMPK signaling pathway                                 4\n",
       "Natural killer cell mediated cytotoxicity              4\n",
       "Prion disease                                          4\n",
       "Progesterone-mediated oocyte maturation                4\n",
       "TNF signaling pathway                                  4\n",
       "Gap junction                                           4\n",
       "Salmonella infection                                   4\n",
       "Fc epsilon RI signaling pathway                        4\n",
       "Tuberculosis                                           4\n",
       "Mismatch repair                                        4\n",
       "Chemokine signaling pathway                            4\n",
       "Melanogenesis                                          4\n",
       "Long-term potentiation                                 4\n",
       "Inflammatory bowel disease                             3\n",
       "Nucleotide excision repair                             3\n",
       "GnRH signaling pathway                                 3\n",
       "Leukocyte transendothelial migration                   3\n",
       "Vascular smooth muscle contraction                     3\n",
       "Pathogenic Escherichia coli infection                  3\n",
       "Epithelial cell signaling in Helicobacter pylor...     3\n",
       "B cell receptor signaling pathway                      3\n",
       "cGMP-PKG signaling pathway                             3\n",
       "Oxytocin signaling pathway                             3\n",
       "Axon guidance                                          3\n",
       "Platelet activation                                    3\n",
       "Notch signaling pathway                                3\n",
       "Chemical carcinogenesis - receptor activation          3\n",
       "Estrogen signaling pathway                             3\n",
       "Carbon metabolism                                      3\n",
       "Insulin resistance                                     3\n",
       "T cell receptor signaling pathway                      3\n",
       "Citrate cycle (TCA cycle)                              3\n",
       "Amyotrophic lateral sclerosis                          3\n",
       "Basal cell carcinoma                                   2\n",
       "Th1 and Th2 cell differentiation                       2\n",
       "Prolactin signaling pathway                            2\n",
       "Alcoholic liver disease                                2\n",
       "Serotonergic synapse                                   2\n",
       "Adipocytokine signaling pathway                        2\n",
       "Fc gamma R-mediated phagocytosis                       2\n",
       "Glucagon signaling pathway                             2\n",
       "Coronavirus disease - COVID-19                         2\n",
       "Phosphatidylinositol signaling system                  2\n",
       "Oocyte meiosis                                         2\n",
       "NF-kappa B signaling pathway                           2\n",
       "NOD-like receptor signaling pathway                    2\n",
       "Cholinergic synapse                                    2\n",
       "Neutrophil extracellular trap formation                2\n",
       "Alcoholism                                             2\n",
       "GnRH secretion                                         2\n",
       "Lysine degradation                                     2\n",
       "Inflammatory mediator regulation of TRP channels       2\n",
       "Oxidative phosphorylation                              2\n",
       "VEGF signaling pathway                                 2\n",
       "Hippo signaling pathway - multiple species             2\n",
       "Cytokine-cytokine receptor interaction                 2\n",
       "Long-term depression                                   2\n",
       "Toxoplasmosis                                          1\n",
       "Amoebiasis                                             1\n",
       "Viral myocarditis                                      1\n",
       "Type II diabetes mellitus                              1\n",
       "Spliceosome                                            1\n",
       "Aldosterone-regulated sodium reabsorption              1\n",
       "Ferroptosis                                            1\n",
       "Spinocerebellar ataxia                                 1\n",
       "Antigen processing and presentation                    1\n",
       "Glutathione metabolism                                 1\n",
       "Hedgehog signaling pathway                             1\n",
       "Hematopoietic cell lineage                             1\n",
       "DNA replication                                        1\n",
       "IL-17 signaling pathway                                1\n",
       "Inositol phosphate metabolism                          1\n",
       "Cell adhesion molecules                                1\n",
       "Legionellosis                                          1\n",
       "Longevity regulating pathway - multiple species        1\n",
       "Carbohydrate digestion and absorption                  1\n",
       "Mitophagy - animal                                     1\n",
       "Necroptosis                                            1\n",
       "Non-homologous end-joining                             1\n",
       "Biosynthesis of amino acids                            1\n",
       "Base excision repair                                   1\n",
       "Pancreatic secretion                                   1\n",
       "Basal transcription factors                            1\n",
       "Peroxisome                                             1\n",
       "Pertussis                                              1\n",
       "Primary immunodeficiency                               1\n",
       "RIG-I-like receptor signaling pathway                  1\n",
       "Apoptosis - multiple species                           1\n",
       "Regulation of lipolysis in adipocytes                  1\n",
       "2-Oxocarboxylic acid metabolism                        1"
      ]
     },
     "execution_count": 52,
     "metadata": {},
     "output_type": "execute_result"
    }
   ],
   "source": [
    "class4_gene_pathway.groupby('pathway').count().sort_values('gene',ascending=False)"
   ]
  },
  {
   "cell_type": "code",
   "execution_count": 64,
   "metadata": {},
   "outputs": [
    {
     "name": "stdout",
     "output_type": "stream",
     "text": [
      "0\n",
      "1\n",
      "2\n",
      "3\n",
      "4\n",
      "5\n",
      "6\n",
      "7\n",
      "8\n",
      "9\n"
     ]
    }
   ],
   "source": [
    "for i in range(10):\n",
    "    print(i)"
   ]
  },
  {
   "cell_type": "code",
   "execution_count": 75,
   "metadata": {},
   "outputs": [],
   "source": []
  },
  {
   "cell_type": "code",
   "execution_count": 76,
   "metadata": {},
   "outputs": [
    {
     "ename": "NameError",
     "evalue": "name 'map_mutation_kegg' is not defined",
     "output_type": "error",
     "traceback": [
      "\u001b[1;31m---------------------------------------------------------------------------\u001b[0m",
      "\u001b[1;31mNameError\u001b[0m                                 Traceback (most recent call last)",
      "\u001b[1;32m<ipython-input-76-f66416516f31>\u001b[0m in \u001b[0;36m<module>\u001b[1;34m\u001b[0m\n\u001b[1;32m----> 1\u001b[1;33m \u001b[0mgene_pathway_csv\u001b[0m\u001b[1;33m(\u001b[0m\u001b[0mclass_gene_list\u001b[0m\u001b[1;33m,\u001b[0m\u001b[0mhuman_gene_list\u001b[0m\u001b[1;33m)\u001b[0m\u001b[1;33m\u001b[0m\u001b[1;33m\u001b[0m\u001b[0m\n\u001b[0m",
      "\u001b[1;32m<ipython-input-75-b360895bb4c6>\u001b[0m in \u001b[0;36mgene_pathway_csv\u001b[1;34m(class_gene_list, human_gene_list)\u001b[0m\n\u001b[0;32m      1\u001b[0m \u001b[1;32mdef\u001b[0m \u001b[0mgene_pathway_csv\u001b[0m\u001b[1;33m(\u001b[0m\u001b[0mclass_gene_list\u001b[0m\u001b[1;33m,\u001b[0m\u001b[0mhuman_gene_list\u001b[0m\u001b[1;33m)\u001b[0m\u001b[1;33m:\u001b[0m\u001b[1;33m\u001b[0m\u001b[1;33m\u001b[0m\u001b[0m\n\u001b[0;32m      2\u001b[0m     \u001b[1;32mfor\u001b[0m \u001b[0mi\u001b[0m \u001b[1;32min\u001b[0m \u001b[0mrange\u001b[0m\u001b[1;33m(\u001b[0m\u001b[1;36m10\u001b[0m\u001b[1;33m)\u001b[0m\u001b[1;33m:\u001b[0m\u001b[1;33m\u001b[0m\u001b[1;33m\u001b[0m\u001b[0m\n\u001b[1;32m----> 3\u001b[1;33m         \u001b[0mclass_mutated_kegg\u001b[0m\u001b[1;33m=\u001b[0m\u001b[0mmap_mutation_kegg\u001b[0m\u001b[1;33m(\u001b[0m\u001b[0mclass_gene_list\u001b[0m\u001b[1;33m[\u001b[0m\u001b[0mi\u001b[0m\u001b[1;33m]\u001b[0m\u001b[1;33m,\u001b[0m\u001b[0mhuman_gene_list\u001b[0m\u001b[1;33m)\u001b[0m\u001b[1;33m\u001b[0m\u001b[1;33m\u001b[0m\u001b[0m\n\u001b[0m\u001b[0;32m      4\u001b[0m         \u001b[0mclass_gene_pathway\u001b[0m\u001b[1;33m=\u001b[0m\u001b[0mdf_gene_pathway\u001b[0m\u001b[1;33m(\u001b[0m\u001b[0mitem\u001b[0m\u001b[1;33m)\u001b[0m\u001b[1;33m\u001b[0m\u001b[1;33m\u001b[0m\u001b[0m\n\u001b[0;32m      5\u001b[0m         \u001b[0mclass_gene_pathway\u001b[0m\u001b[1;33m.\u001b[0m\u001b[0mdrop_duplicates\u001b[0m\u001b[1;33m(\u001b[0m\u001b[0minplace\u001b[0m\u001b[1;33m=\u001b[0m\u001b[1;32mTrue\u001b[0m\u001b[1;33m)\u001b[0m\u001b[1;33m\u001b[0m\u001b[1;33m\u001b[0m\u001b[0m\n",
      "\u001b[1;31mNameError\u001b[0m: name 'map_mutation_kegg' is not defined"
     ]
    }
   ],
   "source": []
  },
  {
   "cell_type": "code",
   "execution_count": 59,
   "metadata": {},
   "outputs": [
    {
     "name": "stdout",
     "output_type": "stream",
     "text": [
      "mutated genes in class 142\n",
      "genes in KEGG Database  22232\n"
     ]
    }
   ],
   "source": [
    "class_1_mutated_kegg=map_mutation_kegg(class_1_genes,human_gene_list)"
   ]
  },
  {
   "cell_type": "code",
   "execution_count": 64,
   "metadata": {},
   "outputs": [],
   "source": [
    "class1_gene_pathway=df_gene_pathway(class_1_genes)"
   ]
  },
  {
   "cell_type": "code",
   "execution_count": 65,
   "metadata": {},
   "outputs": [],
   "source": [
    "class1_gene_pathway.drop_duplicates(inplace=True)"
   ]
  },
  {
   "cell_type": "code",
   "execution_count": 66,
   "metadata": {},
   "outputs": [],
   "source": [
    "class1_gene_pathway.to_csv('class1_gene_pathway.csv',header=True,index=False)"
   ]
  },
  {
   "cell_type": "code",
   "execution_count": 69,
   "metadata": {},
   "outputs": [
    {
     "data": {
      "text/html": [
       "<div>\n",
       "<style scoped>\n",
       "    .dataframe tbody tr th:only-of-type {\n",
       "        vertical-align: middle;\n",
       "    }\n",
       "\n",
       "    .dataframe tbody tr th {\n",
       "        vertical-align: top;\n",
       "    }\n",
       "\n",
       "    .dataframe thead th {\n",
       "        text-align: right;\n",
       "    }\n",
       "</style>\n",
       "<table border=\"1\" class=\"dataframe\">\n",
       "  <thead>\n",
       "    <tr style=\"text-align: right;\">\n",
       "      <th></th>\n",
       "      <th>gene</th>\n",
       "    </tr>\n",
       "    <tr>\n",
       "      <th>pathway</th>\n",
       "      <th></th>\n",
       "    </tr>\n",
       "  </thead>\n",
       "  <tbody>\n",
       "    <tr>\n",
       "      <th>Pathways in cancer</th>\n",
       "      <td>51</td>\n",
       "    </tr>\n",
       "    <tr>\n",
       "      <th>Human papillomavirus infection</th>\n",
       "      <td>27</td>\n",
       "    </tr>\n",
       "    <tr>\n",
       "      <th>Human T-cell leukemia virus 1 infection</th>\n",
       "      <td>26</td>\n",
       "    </tr>\n",
       "    <tr>\n",
       "      <th>MicroRNAs in cancer</th>\n",
       "      <td>26</td>\n",
       "    </tr>\n",
       "    <tr>\n",
       "      <th>Hepatocellular carcinoma</th>\n",
       "      <td>25</td>\n",
       "    </tr>\n",
       "    <tr>\n",
       "      <th>PI3K-Akt signaling pathway</th>\n",
       "      <td>24</td>\n",
       "    </tr>\n",
       "    <tr>\n",
       "      <th>Cellular senescence</th>\n",
       "      <td>22</td>\n",
       "    </tr>\n",
       "    <tr>\n",
       "      <th>Gastric cancer</th>\n",
       "      <td>21</td>\n",
       "    </tr>\n",
       "    <tr>\n",
       "      <th>Prostate cancer</th>\n",
       "      <td>20</td>\n",
       "    </tr>\n",
       "    <tr>\n",
       "      <th>Colorectal cancer</th>\n",
       "      <td>19</td>\n",
       "    </tr>\n",
       "    <tr>\n",
       "      <th>FoxO signaling pathway</th>\n",
       "      <td>19</td>\n",
       "    </tr>\n",
       "    <tr>\n",
       "      <th>Breast cancer</th>\n",
       "      <td>18</td>\n",
       "    </tr>\n",
       "    <tr>\n",
       "      <th>MAPK signaling pathway</th>\n",
       "      <td>17</td>\n",
       "    </tr>\n",
       "    <tr>\n",
       "      <th>Human cytomegalovirus infection</th>\n",
       "      <td>17</td>\n",
       "    </tr>\n",
       "    <tr>\n",
       "      <th>Cell cycle</th>\n",
       "      <td>17</td>\n",
       "    </tr>\n",
       "    <tr>\n",
       "      <th>Pancreatic cancer</th>\n",
       "      <td>16</td>\n",
       "    </tr>\n",
       "    <tr>\n",
       "      <th>Ras signaling pathway</th>\n",
       "      <td>16</td>\n",
       "    </tr>\n",
       "    <tr>\n",
       "      <th>Endocrine resistance</th>\n",
       "      <td>16</td>\n",
       "    </tr>\n",
       "    <tr>\n",
       "      <th>Viral carcinogenesis</th>\n",
       "      <td>16</td>\n",
       "    </tr>\n",
       "    <tr>\n",
       "      <th>Hepatitis B</th>\n",
       "      <td>16</td>\n",
       "    </tr>\n",
       "    <tr>\n",
       "      <th>Chronic myeloid leukemia</th>\n",
       "      <td>15</td>\n",
       "    </tr>\n",
       "    <tr>\n",
       "      <th>Transcriptional misregulation in cancer</th>\n",
       "      <td>15</td>\n",
       "    </tr>\n",
       "    <tr>\n",
       "      <th>Kaposi sarcoma-associated herpesvirus infection</th>\n",
       "      <td>14</td>\n",
       "    </tr>\n",
       "    <tr>\n",
       "      <th>Melanoma</th>\n",
       "      <td>14</td>\n",
       "    </tr>\n",
       "    <tr>\n",
       "      <th>EGFR tyrosine kinase inhibitor resistance</th>\n",
       "      <td>14</td>\n",
       "    </tr>\n",
       "    <tr>\n",
       "      <th>Proteoglycans in cancer</th>\n",
       "      <td>14</td>\n",
       "    </tr>\n",
       "    <tr>\n",
       "      <th>Epstein-Barr virus infection</th>\n",
       "      <td>14</td>\n",
       "    </tr>\n",
       "    <tr>\n",
       "      <th>Central carbon metabolism in cancer</th>\n",
       "      <td>14</td>\n",
       "    </tr>\n",
       "    <tr>\n",
       "      <th>Adherens junction</th>\n",
       "      <td>13</td>\n",
       "    </tr>\n",
       "    <tr>\n",
       "      <th>Endocytosis</th>\n",
       "      <td>13</td>\n",
       "    </tr>\n",
       "    <tr>\n",
       "      <th>Endometrial cancer</th>\n",
       "      <td>13</td>\n",
       "    </tr>\n",
       "    <tr>\n",
       "      <th>Signaling pathways regulating pluripotency of stem cells</th>\n",
       "      <td>13</td>\n",
       "    </tr>\n",
       "    <tr>\n",
       "      <th>Platinum drug resistance</th>\n",
       "      <td>13</td>\n",
       "    </tr>\n",
       "    <tr>\n",
       "      <th>Thyroid hormone signaling pathway</th>\n",
       "      <td>12</td>\n",
       "    </tr>\n",
       "    <tr>\n",
       "      <th>Glioma</th>\n",
       "      <td>12</td>\n",
       "    </tr>\n",
       "    <tr>\n",
       "      <th>Rap1 signaling pathway</th>\n",
       "      <td>12</td>\n",
       "    </tr>\n",
       "    <tr>\n",
       "      <th>Herpes simplex virus 1 infection</th>\n",
       "      <td>12</td>\n",
       "    </tr>\n",
       "    <tr>\n",
       "      <th>Cushing syndrome</th>\n",
       "      <td>12</td>\n",
       "    </tr>\n",
       "    <tr>\n",
       "      <th>JAK-STAT signaling pathway</th>\n",
       "      <td>12</td>\n",
       "    </tr>\n",
       "    <tr>\n",
       "      <th>Regulation of actin cytoskeleton</th>\n",
       "      <td>11</td>\n",
       "    </tr>\n",
       "    <tr>\n",
       "      <th>HIF-1 signaling pathway</th>\n",
       "      <td>11</td>\n",
       "    </tr>\n",
       "    <tr>\n",
       "      <th>Hippo signaling pathway</th>\n",
       "      <td>11</td>\n",
       "    </tr>\n",
       "    <tr>\n",
       "      <th>AGE-RAGE signaling pathway in diabetic complications</th>\n",
       "      <td>11</td>\n",
       "    </tr>\n",
       "    <tr>\n",
       "      <th>Fanconi anemia pathway</th>\n",
       "      <td>10</td>\n",
       "    </tr>\n",
       "    <tr>\n",
       "      <th>Wnt signaling pathway</th>\n",
       "      <td>10</td>\n",
       "    </tr>\n",
       "    <tr>\n",
       "      <th>Non-small cell lung cancer</th>\n",
       "      <td>10</td>\n",
       "    </tr>\n",
       "    <tr>\n",
       "      <th>Hepatitis C</th>\n",
       "      <td>10</td>\n",
       "    </tr>\n",
       "    <tr>\n",
       "      <th>Phospholipase D signaling pathway</th>\n",
       "      <td>10</td>\n",
       "    </tr>\n",
       "    <tr>\n",
       "      <th>Focal adhesion</th>\n",
       "      <td>10</td>\n",
       "    </tr>\n",
       "    <tr>\n",
       "      <th>TGF-beta signaling pathway</th>\n",
       "      <td>10</td>\n",
       "    </tr>\n",
       "    <tr>\n",
       "      <th>p53 signaling pathway</th>\n",
       "      <td>9</td>\n",
       "    </tr>\n",
       "    <tr>\n",
       "      <th>AMPK signaling pathway</th>\n",
       "      <td>9</td>\n",
       "    </tr>\n",
       "    <tr>\n",
       "      <th>Longevity regulating pathway</th>\n",
       "      <td>9</td>\n",
       "    </tr>\n",
       "    <tr>\n",
       "      <th>Human immunodeficiency virus 1 infection</th>\n",
       "      <td>9</td>\n",
       "    </tr>\n",
       "    <tr>\n",
       "      <th>Homologous recombination</th>\n",
       "      <td>9</td>\n",
       "    </tr>\n",
       "    <tr>\n",
       "      <th>Calcium signaling pathway</th>\n",
       "      <td>9</td>\n",
       "    </tr>\n",
       "    <tr>\n",
       "      <th>Small cell lung cancer</th>\n",
       "      <td>9</td>\n",
       "    </tr>\n",
       "    <tr>\n",
       "      <th>Shigellosis</th>\n",
       "      <td>9</td>\n",
       "    </tr>\n",
       "    <tr>\n",
       "      <th>mTOR signaling pathway</th>\n",
       "      <td>9</td>\n",
       "    </tr>\n",
       "    <tr>\n",
       "      <th>ErbB signaling pathway</th>\n",
       "      <td>9</td>\n",
       "    </tr>\n",
       "    <tr>\n",
       "      <th>cAMP signaling pathway</th>\n",
       "      <td>9</td>\n",
       "    </tr>\n",
       "    <tr>\n",
       "      <th>Chagas disease</th>\n",
       "      <td>9</td>\n",
       "    </tr>\n",
       "    <tr>\n",
       "      <th>Bladder cancer</th>\n",
       "      <td>8</td>\n",
       "    </tr>\n",
       "    <tr>\n",
       "      <th>Renal cell carcinoma</th>\n",
       "      <td>8</td>\n",
       "    </tr>\n",
       "    <tr>\n",
       "      <th>Diabetic cardiomyopathy</th>\n",
       "      <td>8</td>\n",
       "    </tr>\n",
       "    <tr>\n",
       "      <th>Neurotrophin signaling pathway</th>\n",
       "      <td>8</td>\n",
       "    </tr>\n",
       "    <tr>\n",
       "      <th>Acute myeloid leukemia</th>\n",
       "      <td>8</td>\n",
       "    </tr>\n",
       "    <tr>\n",
       "      <th>Choline metabolism in cancer</th>\n",
       "      <td>8</td>\n",
       "    </tr>\n",
       "    <tr>\n",
       "      <th>Relaxin signaling pathway</th>\n",
       "      <td>8</td>\n",
       "    </tr>\n",
       "    <tr>\n",
       "      <th>Autophagy - animal</th>\n",
       "      <td>8</td>\n",
       "    </tr>\n",
       "    <tr>\n",
       "      <th>Chemical carcinogenesis - reactive oxygen species</th>\n",
       "      <td>8</td>\n",
       "    </tr>\n",
       "    <tr>\n",
       "      <th>Th17 cell differentiation</th>\n",
       "      <td>8</td>\n",
       "    </tr>\n",
       "    <tr>\n",
       "      <th>Insulin signaling pathway</th>\n",
       "      <td>7</td>\n",
       "    </tr>\n",
       "    <tr>\n",
       "      <th>Influenza A</th>\n",
       "      <td>7</td>\n",
       "    </tr>\n",
       "    <tr>\n",
       "      <th>Lipid and atherosclerosis</th>\n",
       "      <td>7</td>\n",
       "    </tr>\n",
       "    <tr>\n",
       "      <th>Fluid shear stress and atherosclerosis</th>\n",
       "      <td>7</td>\n",
       "    </tr>\n",
       "    <tr>\n",
       "      <th>Measles</th>\n",
       "      <td>7</td>\n",
       "    </tr>\n",
       "    <tr>\n",
       "      <th>Metabolic pathways</th>\n",
       "      <td>7</td>\n",
       "    </tr>\n",
       "    <tr>\n",
       "      <th>Axon guidance</th>\n",
       "      <td>7</td>\n",
       "    </tr>\n",
       "    <tr>\n",
       "      <th>Sphingolipid signaling pathway</th>\n",
       "      <td>7</td>\n",
       "    </tr>\n",
       "    <tr>\n",
       "      <th>Tight junction</th>\n",
       "      <td>7</td>\n",
       "    </tr>\n",
       "    <tr>\n",
       "      <th>Basal cell carcinoma</th>\n",
       "      <td>7</td>\n",
       "    </tr>\n",
       "    <tr>\n",
       "      <th>PD-L1 expression and PD-1 checkpoint pathway in cancer</th>\n",
       "      <td>7</td>\n",
       "    </tr>\n",
       "    <tr>\n",
       "      <th>Thermogenesis</th>\n",
       "      <td>7</td>\n",
       "    </tr>\n",
       "    <tr>\n",
       "      <th>Apoptosis</th>\n",
       "      <td>7</td>\n",
       "    </tr>\n",
       "    <tr>\n",
       "      <th>Chemical carcinogenesis - receptor activation</th>\n",
       "      <td>7</td>\n",
       "    </tr>\n",
       "    <tr>\n",
       "      <th>C-type lectin receptor signaling pathway</th>\n",
       "      <td>7</td>\n",
       "    </tr>\n",
       "    <tr>\n",
       "      <th>Growth hormone synthesis, secretion and action</th>\n",
       "      <td>7</td>\n",
       "    </tr>\n",
       "    <tr>\n",
       "      <th>Alzheimer disease</th>\n",
       "      <td>6</td>\n",
       "    </tr>\n",
       "    <tr>\n",
       "      <th>Non-alcoholic fatty liver disease</th>\n",
       "      <td>6</td>\n",
       "    </tr>\n",
       "    <tr>\n",
       "      <th>Osteoclast differentiation</th>\n",
       "      <td>6</td>\n",
       "    </tr>\n",
       "    <tr>\n",
       "      <th>T cell receptor signaling pathway</th>\n",
       "      <td>6</td>\n",
       "    </tr>\n",
       "    <tr>\n",
       "      <th>Ubiquitin mediated proteolysis</th>\n",
       "      <td>6</td>\n",
       "    </tr>\n",
       "    <tr>\n",
       "      <th>Tuberculosis</th>\n",
       "      <td>6</td>\n",
       "    </tr>\n",
       "    <tr>\n",
       "      <th>Natural killer cell mediated cytotoxicity</th>\n",
       "      <td>6</td>\n",
       "    </tr>\n",
       "    <tr>\n",
       "      <th>Insulin resistance</th>\n",
       "      <td>6</td>\n",
       "    </tr>\n",
       "    <tr>\n",
       "      <th>Bacterial invasion of epithelial cells</th>\n",
       "      <td>6</td>\n",
       "    </tr>\n",
       "    <tr>\n",
       "      <th>Yersinia infection</th>\n",
       "      <td>5</td>\n",
       "    </tr>\n",
       "    <tr>\n",
       "      <th>Toll-like receptor signaling pathway</th>\n",
       "      <td>5</td>\n",
       "    </tr>\n",
       "    <tr>\n",
       "      <th>Thyroid cancer</th>\n",
       "      <td>5</td>\n",
       "    </tr>\n",
       "    <tr>\n",
       "      <th>TNF signaling pathway</th>\n",
       "      <td>5</td>\n",
       "    </tr>\n",
       "    <tr>\n",
       "      <th>Phosphatidylinositol signaling system</th>\n",
       "      <td>5</td>\n",
       "    </tr>\n",
       "    <tr>\n",
       "      <th>Parathyroid hormone synthesis, secretion and action</th>\n",
       "      <td>5</td>\n",
       "    </tr>\n",
       "    <tr>\n",
       "      <th>Apelin signaling pathway</th>\n",
       "      <td>5</td>\n",
       "    </tr>\n",
       "    <tr>\n",
       "      <th>Coronavirus disease - COVID-19</th>\n",
       "      <td>5</td>\n",
       "    </tr>\n",
       "    <tr>\n",
       "      <th>Leukocyte transendothelial migration</th>\n",
       "      <td>5</td>\n",
       "    </tr>\n",
       "    <tr>\n",
       "      <th>Longevity regulating pathway - multiple species</th>\n",
       "      <td>5</td>\n",
       "    </tr>\n",
       "    <tr>\n",
       "      <th>Lysine degradation</th>\n",
       "      <td>4</td>\n",
       "    </tr>\n",
       "    <tr>\n",
       "      <th>B cell receptor signaling pathway</th>\n",
       "      <td>4</td>\n",
       "    </tr>\n",
       "    <tr>\n",
       "      <th>Progesterone-mediated oocyte maturation</th>\n",
       "      <td>4</td>\n",
       "    </tr>\n",
       "    <tr>\n",
       "      <th>Salmonella infection</th>\n",
       "      <td>4</td>\n",
       "    </tr>\n",
       "    <tr>\n",
       "      <th>Alcoholic liver disease</th>\n",
       "      <td>4</td>\n",
       "    </tr>\n",
       "    <tr>\n",
       "      <th>Nucleotide excision repair</th>\n",
       "      <td>4</td>\n",
       "    </tr>\n",
       "    <tr>\n",
       "      <th>Spinocerebellar ataxia</th>\n",
       "      <td>4</td>\n",
       "    </tr>\n",
       "    <tr>\n",
       "      <th>Notch signaling pathway</th>\n",
       "      <td>4</td>\n",
       "    </tr>\n",
       "    <tr>\n",
       "      <th>Cell adhesion molecules</th>\n",
       "      <td>4</td>\n",
       "    </tr>\n",
       "    <tr>\n",
       "      <th>Platelet activation</th>\n",
       "      <td>4</td>\n",
       "    </tr>\n",
       "    <tr>\n",
       "      <th>Th1 and Th2 cell differentiation</th>\n",
       "      <td>4</td>\n",
       "    </tr>\n",
       "    <tr>\n",
       "      <th>Prion disease</th>\n",
       "      <td>4</td>\n",
       "    </tr>\n",
       "    <tr>\n",
       "      <th>Chemokine signaling pathway</th>\n",
       "      <td>4</td>\n",
       "    </tr>\n",
       "    <tr>\n",
       "      <th>NOD-like receptor signaling pathway</th>\n",
       "      <td>4</td>\n",
       "    </tr>\n",
       "    <tr>\n",
       "      <th>Estrogen signaling pathway</th>\n",
       "      <td>4</td>\n",
       "    </tr>\n",
       "    <tr>\n",
       "      <th>Mismatch repair</th>\n",
       "      <td>4</td>\n",
       "    </tr>\n",
       "    <tr>\n",
       "      <th>Huntington disease</th>\n",
       "      <td>4</td>\n",
       "    </tr>\n",
       "    <tr>\n",
       "      <th>Fc epsilon RI signaling pathway</th>\n",
       "      <td>4</td>\n",
       "    </tr>\n",
       "    <tr>\n",
       "      <th>GnRH secretion</th>\n",
       "      <td>3</td>\n",
       "    </tr>\n",
       "    <tr>\n",
       "      <th>Viral myocarditis</th>\n",
       "      <td>3</td>\n",
       "    </tr>\n",
       "    <tr>\n",
       "      <th>Autoimmune thyroid disease</th>\n",
       "      <td>3</td>\n",
       "    </tr>\n",
       "    <tr>\n",
       "      <th>Amoebiasis</th>\n",
       "      <td>3</td>\n",
       "    </tr>\n",
       "    <tr>\n",
       "      <th>Aldosterone-regulated sodium reabsorption</th>\n",
       "      <td>3</td>\n",
       "    </tr>\n",
       "    <tr>\n",
       "      <th>Regulation of lipolysis in adipocytes</th>\n",
       "      <td>3</td>\n",
       "    </tr>\n",
       "    <tr>\n",
       "      <th>GnRH signaling pathway</th>\n",
       "      <td>3</td>\n",
       "    </tr>\n",
       "    <tr>\n",
       "      <th>Fc gamma R-mediated phagocytosis</th>\n",
       "      <td>3</td>\n",
       "    </tr>\n",
       "    <tr>\n",
       "      <th>VEGF signaling pathway</th>\n",
       "      <td>3</td>\n",
       "    </tr>\n",
       "    <tr>\n",
       "      <th>Glucagon signaling pathway</th>\n",
       "      <td>3</td>\n",
       "    </tr>\n",
       "    <tr>\n",
       "      <th>Carbohydrate digestion and absorption</th>\n",
       "      <td>3</td>\n",
       "    </tr>\n",
       "    <tr>\n",
       "      <th>Gap junction</th>\n",
       "      <td>3</td>\n",
       "    </tr>\n",
       "    <tr>\n",
       "      <th>Type II diabetes mellitus</th>\n",
       "      <td>3</td>\n",
       "    </tr>\n",
       "    <tr>\n",
       "      <th>Epithelial cell signaling in Helicobacter pylori infection</th>\n",
       "      <td>3</td>\n",
       "    </tr>\n",
       "    <tr>\n",
       "      <th>Inflammatory mediator regulation of TRP channels</th>\n",
       "      <td>3</td>\n",
       "    </tr>\n",
       "    <tr>\n",
       "      <th>Prolactin signaling pathway</th>\n",
       "      <td>3</td>\n",
       "    </tr>\n",
       "    <tr>\n",
       "      <th>Hedgehog signaling pathway</th>\n",
       "      <td>3</td>\n",
       "    </tr>\n",
       "    <tr>\n",
       "      <th>Cholinergic synapse</th>\n",
       "      <td>3</td>\n",
       "    </tr>\n",
       "    <tr>\n",
       "      <th>Oocyte meiosis</th>\n",
       "      <td>3</td>\n",
       "    </tr>\n",
       "    <tr>\n",
       "      <th>Melanogenesis</th>\n",
       "      <td>3</td>\n",
       "    </tr>\n",
       "    <tr>\n",
       "      <th>Pathways of neurodegeneration - multiple diseases</th>\n",
       "      <td>3</td>\n",
       "    </tr>\n",
       "    <tr>\n",
       "      <th>Antigen processing and presentation</th>\n",
       "      <td>3</td>\n",
       "    </tr>\n",
       "    <tr>\n",
       "      <th>Pathogenic Escherichia coli infection</th>\n",
       "      <td>3</td>\n",
       "    </tr>\n",
       "    <tr>\n",
       "      <th>Inflammatory bowel disease</th>\n",
       "      <td>3</td>\n",
       "    </tr>\n",
       "    <tr>\n",
       "      <th>Oxytocin signaling pathway</th>\n",
       "      <td>3</td>\n",
       "    </tr>\n",
       "    <tr>\n",
       "      <th>Neutrophil extracellular trap formation</th>\n",
       "      <td>3</td>\n",
       "    </tr>\n",
       "    <tr>\n",
       "      <th>Long-term depression</th>\n",
       "      <td>2</td>\n",
       "    </tr>\n",
       "    <tr>\n",
       "      <th>Necroptosis</th>\n",
       "      <td>2</td>\n",
       "    </tr>\n",
       "    <tr>\n",
       "      <th>Adipocytokine signaling pathway</th>\n",
       "      <td>2</td>\n",
       "    </tr>\n",
       "    <tr>\n",
       "      <th>NF-kappa B signaling pathway</th>\n",
       "      <td>2</td>\n",
       "    </tr>\n",
       "    <tr>\n",
       "      <th>Toxoplasmosis</th>\n",
       "      <td>2</td>\n",
       "    </tr>\n",
       "    <tr>\n",
       "      <th>Apoptosis - multiple species</th>\n",
       "      <td>2</td>\n",
       "    </tr>\n",
       "    <tr>\n",
       "      <th>Type I diabetes mellitus</th>\n",
       "      <td>2</td>\n",
       "    </tr>\n",
       "    <tr>\n",
       "      <th>Cytokine-cytokine receptor interaction</th>\n",
       "      <td>2</td>\n",
       "    </tr>\n",
       "    <tr>\n",
       "      <th>Basal transcription factors</th>\n",
       "      <td>2</td>\n",
       "    </tr>\n",
       "    <tr>\n",
       "      <th>Phagosome</th>\n",
       "      <td>2</td>\n",
       "    </tr>\n",
       "    <tr>\n",
       "      <th>Graft-versus-host disease</th>\n",
       "      <td>2</td>\n",
       "    </tr>\n",
       "    <tr>\n",
       "      <th>Inositol phosphate metabolism</th>\n",
       "      <td>2</td>\n",
       "    </tr>\n",
       "    <tr>\n",
       "      <th>Parkinson disease</th>\n",
       "      <td>2</td>\n",
       "    </tr>\n",
       "    <tr>\n",
       "      <th>RIG-I-like receptor signaling pathway</th>\n",
       "      <td>2</td>\n",
       "    </tr>\n",
       "    <tr>\n",
       "      <th>Allograft rejection</th>\n",
       "      <td>2</td>\n",
       "    </tr>\n",
       "    <tr>\n",
       "      <th>Long-term potentiation</th>\n",
       "      <td>2</td>\n",
       "    </tr>\n",
       "    <tr>\n",
       "      <th>Amyotrophic lateral sclerosis</th>\n",
       "      <td>2</td>\n",
       "    </tr>\n",
       "    <tr>\n",
       "      <th>Legionellosis</th>\n",
       "      <td>1</td>\n",
       "    </tr>\n",
       "    <tr>\n",
       "      <th>DNA replication</th>\n",
       "      <td>1</td>\n",
       "    </tr>\n",
       "    <tr>\n",
       "      <th>Maturity onset diabetes of the young</th>\n",
       "      <td>1</td>\n",
       "    </tr>\n",
       "    <tr>\n",
       "      <th>Arrhythmogenic right ventricular cardiomyopathy</th>\n",
       "      <td>1</td>\n",
       "    </tr>\n",
       "    <tr>\n",
       "      <th>cGMP-PKG signaling pathway</th>\n",
       "      <td>1</td>\n",
       "    </tr>\n",
       "    <tr>\n",
       "      <th>Dopaminergic synapse</th>\n",
       "      <td>1</td>\n",
       "    </tr>\n",
       "    <tr>\n",
       "      <th>Vascular smooth muscle contraction</th>\n",
       "      <td>1</td>\n",
       "    </tr>\n",
       "    <tr>\n",
       "      <th>IL-17 signaling pathway</th>\n",
       "      <td>1</td>\n",
       "    </tr>\n",
       "    <tr>\n",
       "      <th>mRNA surveillance pathway</th>\n",
       "      <td>1</td>\n",
       "    </tr>\n",
       "    <tr>\n",
       "      <th>Pertussis</th>\n",
       "      <td>1</td>\n",
       "    </tr>\n",
       "    <tr>\n",
       "      <th>Cysteine and methionine metabolism</th>\n",
       "      <td>1</td>\n",
       "    </tr>\n",
       "    <tr>\n",
       "      <th>Ovarian steroidogenesis</th>\n",
       "      <td>1</td>\n",
       "    </tr>\n",
       "    <tr>\n",
       "      <th>Base excision repair</th>\n",
       "      <td>1</td>\n",
       "    </tr>\n",
       "    <tr>\n",
       "      <th>Leishmaniasis</th>\n",
       "      <td>1</td>\n",
       "    </tr>\n",
       "    <tr>\n",
       "      <th>Mitophagy - animal</th>\n",
       "      <td>1</td>\n",
       "    </tr>\n",
       "    <tr>\n",
       "      <th>Adrenergic signaling in cardiomyocytes</th>\n",
       "      <td>1</td>\n",
       "    </tr>\n",
       "    <tr>\n",
       "      <th>Alcoholism</th>\n",
       "      <td>1</td>\n",
       "    </tr>\n",
       "    <tr>\n",
       "      <th>Pancreatic secretion</th>\n",
       "      <td>1</td>\n",
       "    </tr>\n",
       "    <tr>\n",
       "      <th>Non-homologous end-joining</th>\n",
       "      <td>1</td>\n",
       "    </tr>\n",
       "    <tr>\n",
       "      <th>Hematopoietic cell lineage</th>\n",
       "      <td>1</td>\n",
       "    </tr>\n",
       "    <tr>\n",
       "      <th>Hippo signaling pathway - multiple species</th>\n",
       "      <td>1</td>\n",
       "    </tr>\n",
       "    <tr>\n",
       "      <th>Nucleocytoplasmic transport</th>\n",
       "      <td>1</td>\n",
       "    </tr>\n",
       "    <tr>\n",
       "      <th>Rheumatoid arthritis</th>\n",
       "      <td>1</td>\n",
       "    </tr>\n",
       "    <tr>\n",
       "      <th>Ferroptosis</th>\n",
       "      <td>1</td>\n",
       "    </tr>\n",
       "  </tbody>\n",
       "</table>\n",
       "</div>"
      ],
      "text/plain": [
       "                                                    gene\n",
       "pathway                                                 \n",
       "Pathways in cancer                                    51\n",
       "Human papillomavirus infection                        27\n",
       "Human T-cell leukemia virus 1 infection               26\n",
       "MicroRNAs in cancer                                   26\n",
       "Hepatocellular carcinoma                              25\n",
       "PI3K-Akt signaling pathway                            24\n",
       "Cellular senescence                                   22\n",
       "Gastric cancer                                        21\n",
       "Prostate cancer                                       20\n",
       "Colorectal cancer                                     19\n",
       "FoxO signaling pathway                                19\n",
       "Breast cancer                                         18\n",
       "MAPK signaling pathway                                17\n",
       "Human cytomegalovirus infection                       17\n",
       "Cell cycle                                            17\n",
       "Pancreatic cancer                                     16\n",
       "Ras signaling pathway                                 16\n",
       "Endocrine resistance                                  16\n",
       "Viral carcinogenesis                                  16\n",
       "Hepatitis B                                           16\n",
       "Chronic myeloid leukemia                              15\n",
       "Transcriptional misregulation in cancer               15\n",
       "Kaposi sarcoma-associated herpesvirus infection       14\n",
       "Melanoma                                              14\n",
       "EGFR tyrosine kinase inhibitor resistance             14\n",
       "Proteoglycans in cancer                               14\n",
       "Epstein-Barr virus infection                          14\n",
       "Central carbon metabolism in cancer                   14\n",
       "Adherens junction                                     13\n",
       "Endocytosis                                           13\n",
       "Endometrial cancer                                    13\n",
       "Signaling pathways regulating pluripotency of s...    13\n",
       "Platinum drug resistance                              13\n",
       "Thyroid hormone signaling pathway                     12\n",
       "Glioma                                                12\n",
       "Rap1 signaling pathway                                12\n",
       "Herpes simplex virus 1 infection                      12\n",
       "Cushing syndrome                                      12\n",
       "JAK-STAT signaling pathway                            12\n",
       "Regulation of actin cytoskeleton                      11\n",
       "HIF-1 signaling pathway                               11\n",
       "Hippo signaling pathway                               11\n",
       "AGE-RAGE signaling pathway in diabetic complica...    11\n",
       "Fanconi anemia pathway                                10\n",
       "Wnt signaling pathway                                 10\n",
       "Non-small cell lung cancer                            10\n",
       "Hepatitis C                                           10\n",
       "Phospholipase D signaling pathway                     10\n",
       "Focal adhesion                                        10\n",
       "TGF-beta signaling pathway                            10\n",
       "p53 signaling pathway                                  9\n",
       "AMPK signaling pathway                                 9\n",
       "Longevity regulating pathway                           9\n",
       "Human immunodeficiency virus 1 infection               9\n",
       "Homologous recombination                               9\n",
       "Calcium signaling pathway                              9\n",
       "Small cell lung cancer                                 9\n",
       "Shigellosis                                            9\n",
       "mTOR signaling pathway                                 9\n",
       "ErbB signaling pathway                                 9\n",
       "cAMP signaling pathway                                 9\n",
       "Chagas disease                                         9\n",
       "Bladder cancer                                         8\n",
       "Renal cell carcinoma                                   8\n",
       "Diabetic cardiomyopathy                                8\n",
       "Neurotrophin signaling pathway                         8\n",
       "Acute myeloid leukemia                                 8\n",
       "Choline metabolism in cancer                           8\n",
       "Relaxin signaling pathway                              8\n",
       "Autophagy - animal                                     8\n",
       "Chemical carcinogenesis - reactive oxygen species      8\n",
       "Th17 cell differentiation                              8\n",
       "Insulin signaling pathway                              7\n",
       "Influenza A                                            7\n",
       "Lipid and atherosclerosis                              7\n",
       "Fluid shear stress and atherosclerosis                 7\n",
       "Measles                                                7\n",
       "Metabolic pathways                                     7\n",
       "Axon guidance                                          7\n",
       "Sphingolipid signaling pathway                         7\n",
       "Tight junction                                         7\n",
       "Basal cell carcinoma                                   7\n",
       "PD-L1 expression and PD-1 checkpoint pathway in...     7\n",
       "Thermogenesis                                          7\n",
       "Apoptosis                                              7\n",
       "Chemical carcinogenesis - receptor activation          7\n",
       "C-type lectin receptor signaling pathway               7\n",
       "Growth hormone synthesis, secretion and action         7\n",
       "Alzheimer disease                                      6\n",
       "Non-alcoholic fatty liver disease                      6\n",
       "Osteoclast differentiation                             6\n",
       "T cell receptor signaling pathway                      6\n",
       "Ubiquitin mediated proteolysis                         6\n",
       "Tuberculosis                                           6\n",
       "Natural killer cell mediated cytotoxicity              6\n",
       "Insulin resistance                                     6\n",
       "Bacterial invasion of epithelial cells                 6\n",
       "Yersinia infection                                     5\n",
       "Toll-like receptor signaling pathway                   5\n",
       "Thyroid cancer                                         5\n",
       "TNF signaling pathway                                  5\n",
       "Phosphatidylinositol signaling system                  5\n",
       "Parathyroid hormone synthesis, secretion and ac...     5\n",
       "Apelin signaling pathway                               5\n",
       "Coronavirus disease - COVID-19                         5\n",
       "Leukocyte transendothelial migration                   5\n",
       "Longevity regulating pathway - multiple species        5\n",
       "Lysine degradation                                     4\n",
       "B cell receptor signaling pathway                      4\n",
       "Progesterone-mediated oocyte maturation                4\n",
       "Salmonella infection                                   4\n",
       "Alcoholic liver disease                                4\n",
       "Nucleotide excision repair                             4\n",
       "Spinocerebellar ataxia                                 4\n",
       "Notch signaling pathway                                4\n",
       "Cell adhesion molecules                                4\n",
       "Platelet activation                                    4\n",
       "Th1 and Th2 cell differentiation                       4\n",
       "Prion disease                                          4\n",
       "Chemokine signaling pathway                            4\n",
       "NOD-like receptor signaling pathway                    4\n",
       "Estrogen signaling pathway                             4\n",
       "Mismatch repair                                        4\n",
       "Huntington disease                                     4\n",
       "Fc epsilon RI signaling pathway                        4\n",
       "GnRH secretion                                         3\n",
       "Viral myocarditis                                      3\n",
       "Autoimmune thyroid disease                             3\n",
       "Amoebiasis                                             3\n",
       "Aldosterone-regulated sodium reabsorption              3\n",
       "Regulation of lipolysis in adipocytes                  3\n",
       "GnRH signaling pathway                                 3\n",
       "Fc gamma R-mediated phagocytosis                       3\n",
       "VEGF signaling pathway                                 3\n",
       "Glucagon signaling pathway                             3\n",
       "Carbohydrate digestion and absorption                  3\n",
       "Gap junction                                           3\n",
       "Type II diabetes mellitus                              3\n",
       "Epithelial cell signaling in Helicobacter pylor...     3\n",
       "Inflammatory mediator regulation of TRP channels       3\n",
       "Prolactin signaling pathway                            3\n",
       "Hedgehog signaling pathway                             3\n",
       "Cholinergic synapse                                    3\n",
       "Oocyte meiosis                                         3\n",
       "Melanogenesis                                          3\n",
       "Pathways of neurodegeneration - multiple diseases      3\n",
       "Antigen processing and presentation                    3\n",
       "Pathogenic Escherichia coli infection                  3\n",
       "Inflammatory bowel disease                             3\n",
       "Oxytocin signaling pathway                             3\n",
       "Neutrophil extracellular trap formation                3\n",
       "Long-term depression                                   2\n",
       "Necroptosis                                            2\n",
       "Adipocytokine signaling pathway                        2\n",
       "NF-kappa B signaling pathway                           2\n",
       "Toxoplasmosis                                          2\n",
       "Apoptosis - multiple species                           2\n",
       "Type I diabetes mellitus                               2\n",
       "Cytokine-cytokine receptor interaction                 2\n",
       "Basal transcription factors                            2\n",
       "Phagosome                                              2\n",
       "Graft-versus-host disease                              2\n",
       "Inositol phosphate metabolism                          2\n",
       "Parkinson disease                                      2\n",
       "RIG-I-like receptor signaling pathway                  2\n",
       "Allograft rejection                                    2\n",
       "Long-term potentiation                                 2\n",
       "Amyotrophic lateral sclerosis                          2\n",
       "Legionellosis                                          1\n",
       "DNA replication                                        1\n",
       "Maturity onset diabetes of the young                   1\n",
       "Arrhythmogenic right ventricular cardiomyopathy        1\n",
       "cGMP-PKG signaling pathway                             1\n",
       "Dopaminergic synapse                                   1\n",
       "Vascular smooth muscle contraction                     1\n",
       "IL-17 signaling pathway                                1\n",
       "mRNA surveillance pathway                              1\n",
       "Pertussis                                              1\n",
       "Cysteine and methionine metabolism                     1\n",
       "Ovarian steroidogenesis                                1\n",
       "Base excision repair                                   1\n",
       "Leishmaniasis                                          1\n",
       "Mitophagy - animal                                     1\n",
       "Adrenergic signaling in cardiomyocytes                 1\n",
       "Alcoholism                                             1\n",
       "Pancreatic secretion                                   1\n",
       "Non-homologous end-joining                             1\n",
       "Hematopoietic cell lineage                             1\n",
       "Hippo signaling pathway - multiple species             1\n",
       "Nucleocytoplasmic transport                            1\n",
       "Rheumatoid arthritis                                   1\n",
       "Ferroptosis                                            1"
      ]
     },
     "execution_count": 69,
     "metadata": {},
     "output_type": "execute_result"
    }
   ],
   "source": [
    "class1_gene_pathway.groupby('pathway').count().sort_values('gene',ascending=False)"
   ]
  },
  {
   "cell_type": "code",
   "execution_count": null,
   "metadata": {},
   "outputs": [],
   "source": [
    "class_2_mutated_kegg=map_mutation_kegg(class_2_genes,human_gene_list)"
   ]
  },
  {
   "cell_type": "code",
   "execution_count": null,
   "metadata": {},
   "outputs": [],
   "source": []
  },
  {
   "cell_type": "code",
   "execution_count": null,
   "metadata": {},
   "outputs": [],
   "source": [
    "import networkx as nx"
   ]
  },
  {
   "cell_type": "code",
   "execution_count": null,
   "metadata": {},
   "outputs": [],
   "source": []
  },
  {
   "cell_type": "code",
   "execution_count": null,
   "metadata": {},
   "outputs": [],
   "source": [
    "print(plt.rcParams.get('figure.figsize'))"
   ]
  },
  {
   "cell_type": "code",
   "execution_count": null,
   "metadata": {},
   "outputs": [],
   "source": [
    "plt.rcParams[\"figure.figsize\"] = [12.0,10.0]"
   ]
  },
  {
   "cell_type": "code",
   "execution_count": null,
   "metadata": {},
   "outputs": [],
   "source": [
    "G = nx.from_pandas_edgelist(gene_pathway,source=\"gene\",target=\"pathway\")"
   ]
  },
  {
   "cell_type": "code",
   "execution_count": null,
   "metadata": {},
   "outputs": [],
   "source": [
    "nx.draw_networkx(G,alpha=0.6)"
   ]
  },
  {
   "cell_type": "raw",
   "metadata": {},
   "source": []
  },
  {
   "cell_type": "markdown",
   "metadata": {},
   "source": [
    "### <font color='green'> Let us study the mutations of BRCA1, the most highly mutated gene with respect to the classification</font>"
   ]
  },
  {
   "cell_type": "code",
   "execution_count": null,
   "metadata": {},
   "outputs": [],
   "source": [
    "train_df[train_df['Gene'] == 'BRCA1']['Variation'].nunique()"
   ]
  },
  {
   "cell_type": "code",
   "execution_count": null,
   "metadata": {},
   "outputs": [],
   "source": [
    "train_df[train_df['Gene'] == 'BRCA1']['Class'].nunique()"
   ]
  },
  {
   "cell_type": "code",
   "execution_count": null,
   "metadata": {},
   "outputs": [],
   "source": [
    "train_df[train_df['Gene'] == 'BRCA1'].groupby('Class')['Variation'].count()"
   ]
  },
  {
   "cell_type": "markdown",
   "metadata": {},
   "source": [
    "### <font color='green'> 101 mutations (Variations) are classified into 5 classes with most mutations in class 5 and least mutations in class 3</font>"
   ]
  },
  {
   "cell_type": "code",
   "execution_count": null,
   "metadata": {},
   "outputs": [],
   "source": [
    "class_5=train_df[(train_df['Gene'] == 'BRCA1') & (train_df['Class']== 5)]\n",
    "class_5['Text']=class_5['Text'].map(lambda x:x[:80])"
   ]
  },
  {
   "cell_type": "code",
   "execution_count": null,
   "metadata": {},
   "outputs": [],
   "source": [
    "class_5.reset_index(inplace=True,drop=True)"
   ]
  },
  {
   "cell_type": "code",
   "execution_count": null,
   "metadata": {},
   "outputs": [],
   "source": [
    "class_5"
   ]
  },
  {
   "cell_type": "code",
   "execution_count": null,
   "metadata": {},
   "outputs": [],
   "source": [
    "class_5.groupby(['Text','Gene'],sort=False)['Variation'].count().reset_index()"
   ]
  },
  {
   "cell_type": "markdown",
   "metadata": {},
   "source": [
    "### <font style=\"font-size:18px;font-family:arial;color:green;text-indent:100px;line-height:0.8;word-spacing:10px\">What is the relationship of the enlisted mutations (Variation) of a gene and the corresponding 'Text' ? For e.g, for mutations of BCRA1, there are 36 unique mutations assigned to class 5 and the above 10 texts are the basis for it</font>"
   ]
  },
  {
   "cell_type": "code",
   "execution_count": null,
   "metadata": {},
   "outputs": [],
   "source": []
  },
  {
   "cell_type": "code",
   "execution_count": null,
   "metadata": {},
   "outputs": [],
   "source": [
    "train_df.isna().sum()"
   ]
  },
  {
   "cell_type": "code",
   "execution_count": null,
   "metadata": {},
   "outputs": [],
   "source": [
    "train_df[train_df['Text'].map(lambda x:not isinstance(x,str))]"
   ]
  },
  {
   "cell_type": "code",
   "execution_count": null,
   "metadata": {},
   "outputs": [],
   "source": [
    "train_df.dropna(inplace=True)"
   ]
  },
  {
   "cell_type": "code",
   "execution_count": null,
   "metadata": {},
   "outputs": [],
   "source": [
    "from sklearn.model_selection import train_test_split"
   ]
  },
  {
   "cell_type": "code",
   "execution_count": null,
   "metadata": {},
   "outputs": [],
   "source": [
    "y_train=train_df['Class']\n",
    "X_train=train_df.drop('Class',axis=1)\n",
    "train_df,validation_df,y_train,y_validation=train_test_split(X_train,y_train,test_size=0.3,stratify=y_train)"
   ]
  },
  {
   "cell_type": "code",
   "execution_count": null,
   "metadata": {},
   "outputs": [],
   "source": [
    "train_df.shape,y_train.shape"
   ]
  },
  {
   "cell_type": "code",
   "execution_count": null,
   "metadata": {},
   "outputs": [],
   "source": [
    "set(y_train.tolist())"
   ]
  },
  {
   "cell_type": "code",
   "execution_count": null,
   "metadata": {},
   "outputs": [],
   "source": [
    "validation_df.shape,y_validation.shape"
   ]
  },
  {
   "cell_type": "code",
   "execution_count": null,
   "metadata": {},
   "outputs": [],
   "source": [
    "set(y_validation.tolist())"
   ]
  },
  {
   "cell_type": "markdown",
   "metadata": {},
   "source": [
    "### <font color='green'>analyzing the train text data</font>"
   ]
  },
  {
   "cell_type": "markdown",
   "metadata": {},
   "source": [
    "[link to destination](#destination)"
   ]
  },
  {
   "cell_type": "code",
   "execution_count": null,
   "metadata": {
    "colab": {
     "base_uri": "https://localhost:8080/",
     "height": 38
    },
    "executionInfo": {
     "elapsed": 98,
     "status": "ok",
     "timestamp": 1638286184867,
     "user": {
      "displayName": "Anubrata Das",
      "photoUrl": "https://lh3.googleusercontent.com/a-/AOh14GiI2340pPpSj6e4aG_4urL4HRwW3MRXEf5aoo2_QA=s64",
      "userId": "08781375266004215524"
     },
     "user_tz": -330
    },
    "id": "9SoN9RkCag-o",
    "outputId": "7f64e0fd-3acd-42a0-9d80-2dd56677fb44"
   },
   "outputs": [],
   "source": [
    "import string\n",
    "string.punctuation"
   ]
  },
  {
   "cell_type": "code",
   "execution_count": null,
   "metadata": {
    "executionInfo": {
     "elapsed": 90,
     "status": "ok",
     "timestamp": 1638286184868,
     "user": {
      "displayName": "Anubrata Das",
      "photoUrl": "https://lh3.googleusercontent.com/a-/AOh14GiI2340pPpSj6e4aG_4urL4HRwW3MRXEf5aoo2_QA=s64",
      "userId": "08781375266004215524"
     },
     "user_tz": -330
    },
    "id": "Zoqhi_AKamax"
   },
   "outputs": [],
   "source": [
    "revised_punctuation='!\"#$%&\\'()*+,./:;<=>?@[\\\\]^_`{|}~'"
   ]
  },
  {
   "cell_type": "code",
   "execution_count": null,
   "metadata": {},
   "outputs": [],
   "source": [
    "revised_punctuation"
   ]
  },
  {
   "cell_type": "code",
   "execution_count": null,
   "metadata": {},
   "outputs": [],
   "source": [
    "#!pip install nltk"
   ]
  },
  {
   "cell_type": "code",
   "execution_count": null,
   "metadata": {
    "executionInfo": {
     "elapsed": 92,
     "status": "ok",
     "timestamp": 1638286184873,
     "user": {
      "displayName": "Anubrata Das",
      "photoUrl": "https://lh3.googleusercontent.com/a-/AOh14GiI2340pPpSj6e4aG_4urL4HRwW3MRXEf5aoo2_QA=s64",
      "userId": "08781375266004215524"
     },
     "user_tz": -330
    },
    "id": "UoSJBAQWis7w"
   },
   "outputs": [],
   "source": [
    "import nltk\n",
    "nltk.download('words')\n",
    "from nltk.corpus import words\n",
    "words=nltk.corpus.words.words()"
   ]
  },
  {
   "cell_type": "code",
   "execution_count": null,
   "metadata": {},
   "outputs": [],
   "source": [
    "len(set(words))"
   ]
  },
  {
   "cell_type": "code",
   "execution_count": null,
   "metadata": {},
   "outputs": [],
   "source": [
    "nltk_words=set(words)"
   ]
  },
  {
   "cell_type": "code",
   "execution_count": null,
   "metadata": {
    "executionInfo": {
     "elapsed": 90,
     "status": "ok",
     "timestamp": 1638286184874,
     "user": {
      "displayName": "Anubrata Das",
      "photoUrl": "https://lh3.googleusercontent.com/a-/AOh14GiI2340pPpSj6e4aG_4urL4HRwW3MRXEf5aoo2_QA=s64",
      "userId": "08781375266004215524"
     },
     "user_tz": -330
    },
    "id": "dZa3dSo_KOra"
   },
   "outputs": [],
   "source": [
    "def cleanse_data(data):        \n",
    "    if isinstance(data,str):\n",
    "        no_punctuation = [char for char in data.replace('\\n',' ') if char not in revised_punctuation]\n",
    "        no_punctuation_txt = ''.join(no_punctuation)                   \n",
    "        return no_punctuation_txt\n",
    "    else:\n",
    "        return \"NA\""
   ]
  },
  {
   "cell_type": "code",
   "execution_count": null,
   "metadata": {},
   "outputs": [],
   "source": [
    "def reduce_words(data):\n",
    "    data = data.split()\n",
    "    words = [word for word in data if word not in nltk_words]\n",
    "    text = \" \".join(words)\n",
    "    return text    "
   ]
  },
  {
   "cell_type": "code",
   "execution_count": null,
   "metadata": {},
   "outputs": [],
   "source": [
    "def word_count(text):\n",
    "    text_lst=text.split()\n",
    "    vector = [text_lst.count(str(word)) for word in text_lst]\n",
    "    return vector[:300]"
   ]
  },
  {
   "cell_type": "code",
   "execution_count": null,
   "metadata": {},
   "outputs": [],
   "source": [
    "from nltk.probability import FreqDist"
   ]
  },
  {
   "cell_type": "markdown",
   "metadata": {
    "id": "eHrZ7Ae4odHg"
   },
   "source": [
    "we have obtained the frequency distribution of words using freqdist"
   ]
  },
  {
   "cell_type": "code",
   "execution_count": null,
   "metadata": {},
   "outputs": [],
   "source": [
    "def freq_dist(data):\n",
    "    data=data.split(\" \")\n",
    "    freq=FreqDist(data) # gets word frequency\n",
    "    freq=sorted(freq.items(),key=lambda x:x[1], reverse=True) # sorts words from highest to lowest frequency\n",
    "    return [item[1] for item in freq][:300] # returns a fixed length of 300 words"
   ]
  },
  {
   "cell_type": "code",
   "execution_count": null,
   "metadata": {},
   "outputs": [],
   "source": [
    "# implementing bag of words"
   ]
  },
  {
   "cell_type": "code",
   "execution_count": null,
   "metadata": {},
   "outputs": [],
   "source": [
    "from sklearn.feature_extraction.text import CountVectorizer"
   ]
  },
  {
   "cell_type": "code",
   "execution_count": null,
   "metadata": {},
   "outputs": [],
   "source": [
    "bow_vectorizer = CountVectorizer(stop_words='english',max_features=1600)"
   ]
  },
  {
   "cell_type": "code",
   "execution_count": null,
   "metadata": {},
   "outputs": [],
   "source": [
    "# implementing tf-idf"
   ]
  },
  {
   "cell_type": "code",
   "execution_count": null,
   "metadata": {},
   "outputs": [],
   "source": [
    "from sklearn.feature_extraction.text import TfidfVectorizer"
   ]
  },
  {
   "cell_type": "code",
   "execution_count": null,
   "metadata": {},
   "outputs": [],
   "source": [
    "tfidf_vectorizer = TfidfVectorizer(\n",
    "    min_df=1, max_features=1600, strip_accents='unicode',lowercase =True,\n",
    "    analyzer='word', token_pattern=r'\\w+', ngram_range=(1, 3), use_idf=True, \n",
    "    smooth_idf=True, sublinear_tf=True, stop_words = 'english')"
   ]
  },
  {
   "cell_type": "code",
   "execution_count": null,
   "metadata": {},
   "outputs": [],
   "source": [
    "# https://melaniewalsh.github.io/Intro-Cultural-Analytics/05-Text-Analysis/03-TF-IDF-Scikit-Learn.html\n",
    "# https://www.datacamp.com/community/tutorials/understanding-logistic-regression-python\n",
    "# https://machinelearningmastery.com/multinomial-logistic-regression-with-python/\n",
    "# https://www.kaggle.com/elemento/personalizedmedicine-rct"
   ]
  },
  {
   "cell_type": "code",
   "execution_count": null,
   "metadata": {},
   "outputs": [],
   "source": [
    "from sklearn.linear_model import LogisticRegression"
   ]
  },
  {
   "cell_type": "code",
   "execution_count": null,
   "metadata": {},
   "outputs": [],
   "source": [
    "from sklearn.metrics import log_loss"
   ]
  },
  {
   "cell_type": "code",
   "execution_count": null,
   "metadata": {},
   "outputs": [],
   "source": [
    "# define the multinomial logistic regression model\n",
    "bow_model = LogisticRegression(multi_class='multinomial', solver='lbfgs')\n",
    "tfidf_model = LogisticRegression(multi_class='multinomial', solver='lbfgs')"
   ]
  },
  {
   "cell_type": "markdown",
   "metadata": {},
   "source": [
    "<a id=\"train_data\" style=\"font-size:22px\">model train text sample data</a>"
   ]
  },
  {
   "cell_type": "markdown",
   "metadata": {},
   "source": [
    "[Beginning of Notebook](#top)"
   ]
  },
  {
   "cell_type": "markdown",
   "metadata": {},
   "source": [
    "#### text preprocessing"
   ]
  },
  {
   "cell_type": "code",
   "execution_count": null,
   "metadata": {},
   "outputs": [],
   "source": [
    "# remove punctuation\n",
    "train_df['cleaned_text'] = train_df['Text'].progress_map(cleanse_data,na_action='ignore')"
   ]
  },
  {
   "cell_type": "code",
   "execution_count": null,
   "metadata": {},
   "outputs": [],
   "source": [
    "# filtering all common english words\n",
    "train_df['cleaned_text'] = train_df['cleaned_text'].progress_map(reduce_words,na_action='ignore')"
   ]
  },
  {
   "cell_type": "code",
   "execution_count": null,
   "metadata": {},
   "outputs": [],
   "source": [
    "train_df['Text_len'] = train_df['Text'].map(lambda x:len(str(x)))\n",
    "train_df['cleaned_text_len'] = train_df['cleaned_text'].map(lambda x:len(str(x)))"
   ]
  },
  {
   "cell_type": "code",
   "execution_count": null,
   "metadata": {},
   "outputs": [],
   "source": []
  },
  {
   "cell_type": "code",
   "execution_count": null,
   "metadata": {},
   "outputs": [],
   "source": [
    "train_df.head()"
   ]
  },
  {
   "cell_type": "markdown",
   "metadata": {},
   "source": [
    "### <font color='green'>converting text to numbers</font>"
   ]
  },
  {
   "cell_type": "code",
   "execution_count": null,
   "metadata": {},
   "outputs": [],
   "source": [
    "train_df_corpus = train_df['cleaned_text'].tolist()"
   ]
  },
  {
   "cell_type": "markdown",
   "metadata": {},
   "source": [
    "#### bag of words transformation"
   ]
  },
  {
   "cell_type": "code",
   "execution_count": null,
   "metadata": {},
   "outputs": [],
   "source": [
    "bow_vectorizer.fit(train_df_corpus)"
   ]
  },
  {
   "cell_type": "code",
   "execution_count": null,
   "metadata": {},
   "outputs": [],
   "source": [
    "train_df_counts= bow_vectorizer.transform(train_df_corpus)"
   ]
  },
  {
   "cell_type": "code",
   "execution_count": null,
   "metadata": {},
   "outputs": [],
   "source": [
    "print(\"Vocabulary: \", bow_vectorizer.vocabulary_)"
   ]
  },
  {
   "cell_type": "code",
   "execution_count": null,
   "metadata": {},
   "outputs": [],
   "source": [
    "train_df_counts.shape"
   ]
  },
  {
   "cell_type": "code",
   "execution_count": null,
   "metadata": {},
   "outputs": [],
   "source": [
    "train_df_counts"
   ]
  },
  {
   "cell_type": "code",
   "execution_count": null,
   "metadata": {},
   "outputs": [],
   "source": [
    "X_train_bow = train_df_counts.todense()"
   ]
  },
  {
   "cell_type": "code",
   "execution_count": null,
   "metadata": {},
   "outputs": [],
   "source": [
    "X_train_bow.shape"
   ]
  },
  {
   "cell_type": "code",
   "execution_count": null,
   "metadata": {},
   "outputs": [],
   "source": [
    "X_train_bow"
   ]
  },
  {
   "cell_type": "markdown",
   "metadata": {},
   "source": [
    "#### tfidf transformation"
   ]
  },
  {
   "cell_type": "code",
   "execution_count": null,
   "metadata": {},
   "outputs": [],
   "source": [
    "tfidf_vectorizer.fit(train_df_corpus)"
   ]
  },
  {
   "cell_type": "code",
   "execution_count": null,
   "metadata": {},
   "outputs": [],
   "source": [
    "X_train_tfidf = tfidf_vectorizer.transform(train_df_corpus)\n",
    "X_train_tfidf = X_train_tfidf.toarray()"
   ]
  },
  {
   "cell_type": "code",
   "execution_count": null,
   "metadata": {},
   "outputs": [],
   "source": [
    "X_train_tfidf.shape"
   ]
  },
  {
   "cell_type": "code",
   "execution_count": null,
   "metadata": {},
   "outputs": [],
   "source": [
    "X_train_tfidf"
   ]
  },
  {
   "cell_type": "markdown",
   "metadata": {},
   "source": [
    "### <font color='green'>creating baseline metrics using hard coded predicted values</font>"
   ]
  },
  {
   "cell_type": "code",
   "execution_count": null,
   "metadata": {},
   "outputs": [],
   "source": [
    "from numpy import random"
   ]
  },
  {
   "cell_type": "code",
   "execution_count": null,
   "metadata": {},
   "outputs": [],
   "source": [
    "# create a dummy y value for getting the baseline accuracy\n",
    "y_dummy_1 = random.rand(926,9)"
   ]
  },
  {
   "cell_type": "code",
   "execution_count": null,
   "metadata": {},
   "outputs": [],
   "source": [
    "#y_dummy"
   ]
  },
  {
   "cell_type": "code",
   "execution_count": null,
   "metadata": {},
   "outputs": [],
   "source": [
    "y_train.head()"
   ]
  },
  {
   "cell_type": "code",
   "execution_count": null,
   "metadata": {},
   "outputs": [],
   "source": [
    "y_dummy_1[0,:]"
   ]
  },
  {
   "cell_type": "code",
   "execution_count": null,
   "metadata": {},
   "outputs": [],
   "source": [
    "# baseline loss metric value, random y values\n",
    "log_loss(y_train,y_dummy_1)"
   ]
  },
  {
   "cell_type": "code",
   "execution_count": null,
   "metadata": {},
   "outputs": [],
   "source": [
    "y_dummy_2=np.zeros((926,9),dtype='float')"
   ]
  },
  {
   "cell_type": "code",
   "execution_count": null,
   "metadata": {},
   "outputs": [],
   "source": [
    "y_dummy_2[0,:]"
   ]
  },
  {
   "cell_type": "code",
   "execution_count": null,
   "metadata": {},
   "outputs": [],
   "source": [
    "# baseline loss metric value, all probabilites for y set to zero\n",
    "log_loss(y_train,y_dummy_2)"
   ]
  },
  {
   "cell_type": "code",
   "execution_count": null,
   "metadata": {},
   "outputs": [],
   "source": [
    "# baseline loss metric value, all probabilites for y set to 0.4\n",
    "y_dummy_3=np.full((926,9),0.4,dtype='float')"
   ]
  },
  {
   "cell_type": "code",
   "execution_count": null,
   "metadata": {},
   "outputs": [],
   "source": [
    "y_dummy_3[0,:]"
   ]
  },
  {
   "cell_type": "code",
   "execution_count": null,
   "metadata": {},
   "outputs": [],
   "source": [
    "log_loss(y_train,y_dummy_3)"
   ]
  },
  {
   "cell_type": "code",
   "execution_count": null,
   "metadata": {},
   "outputs": [],
   "source": [
    "y_dummy_4=np.zeros((926,9),dtype='float')"
   ]
  },
  {
   "cell_type": "code",
   "execution_count": null,
   "metadata": {},
   "outputs": [],
   "source": [
    "y_dummy_4[:,0]=1.0"
   ]
  },
  {
   "cell_type": "code",
   "execution_count": null,
   "metadata": {},
   "outputs": [],
   "source": [
    "y_dummy_4[0,:]"
   ]
  },
  {
   "cell_type": "code",
   "execution_count": null,
   "metadata": {},
   "outputs": [],
   "source": [
    "# baseline loss metric value,probability at index 1 set to 1.0 for all y\n",
    "log_loss(y_train,y_dummy_4) "
   ]
  },
  {
   "cell_type": "code",
   "execution_count": null,
   "metadata": {},
   "outputs": [],
   "source": [
    "# baseline loss metric value,probability at random indices set to 1.0 for all y\n",
    "y_dummy_5=np.zeros((926,9),dtype='float')\n",
    "count=0\n",
    "for x in X_train_bow:\n",
    "    new_y_val=np.random.randint(0,9)\n",
    "    y_dummy_5[count,new_y_val]=1.    \n",
    "    count=count+1  "
   ]
  },
  {
   "cell_type": "code",
   "execution_count": null,
   "metadata": {},
   "outputs": [],
   "source": [
    "y_dummy_5[0,:]"
   ]
  },
  {
   "cell_type": "code",
   "execution_count": null,
   "metadata": {},
   "outputs": [],
   "source": [
    "log_loss(y_train,y_dummy_5)"
   ]
  },
  {
   "cell_type": "code",
   "execution_count": null,
   "metadata": {},
   "outputs": [],
   "source": [
    "# baseline loss metric value,probability at random indices set to 1.0 for all y\n",
    "def get_dummy(train_df):\n",
    "    y_dummy_5=np.zeros((926,9),dtype='float') # creating the probability matrix for y values\n",
    "    count=0\n",
    "    for x in train_df:                        # iterating through the training dataset\n",
    "        new_y_val=np.random.randint(0,9)      # creating random values for substituting index values\n",
    "        y_dummy_5[count,new_y_val]=1.         # setting the random index value as 1.0\n",
    "        count=count+1  \n",
    "    return y_dummy_5    "
   ]
  },
  {
   "cell_type": "code",
   "execution_count": null,
   "metadata": {},
   "outputs": [],
   "source": [
    "def simulate_dummy(train_df,y_train):    \n",
    "    for i in range(10):\n",
    "        y_dummy=get_dummy(train_df)\n",
    "        print(log_loss(y_train,y_dummy))"
   ]
  },
  {
   "cell_type": "code",
   "execution_count": null,
   "metadata": {},
   "outputs": [],
   "source": [
    "simulate_dummy(train_df,y_train)"
   ]
  },
  {
   "cell_type": "code",
   "execution_count": null,
   "metadata": {},
   "outputs": [],
   "source": [
    "pd.DataFrame({\"substitutions\":[\"random\",\"all zero\",\"all 0.4\",\"index 1\",\"random index\"],\"log_loss\":[2.49,2.19,2.19,28.59,2.4]})"
   ]
  },
  {
   "cell_type": "markdown",
   "metadata": {},
   "source": [
    "### <font style=\"font-size:18px;font-family:arial;color:green;text-indent:100px;line-height:0.8;word-spacing:10px\">Thus the lowermost limit for log loss score for an inaccurate model returns a value of 2.4 and hence our models should return better scores</font> "
   ]
  },
  {
   "cell_type": "markdown",
   "metadata": {},
   "source": [
    "### <font color='blue'>Logistic Regression Model</font>"
   ]
  },
  {
   "cell_type": "code",
   "execution_count": null,
   "metadata": {},
   "outputs": [],
   "source": [
    "from sklearn.metrics import accuracy_score"
   ]
  },
  {
   "cell_type": "markdown",
   "metadata": {},
   "source": [
    "#### <font color='blue'>Logistic Regression with bag of words transformation</font>"
   ]
  },
  {
   "cell_type": "code",
   "execution_count": null,
   "metadata": {},
   "outputs": [],
   "source": [
    "bow_model.fit(X_train_bow,y_train)"
   ]
  },
  {
   "cell_type": "code",
   "execution_count": null,
   "metadata": {},
   "outputs": [],
   "source": [
    "sorted(bow_model.coef_.tolist()[0])[:5]"
   ]
  },
  {
   "cell_type": "code",
   "execution_count": null,
   "metadata": {},
   "outputs": [],
   "source": [
    "bow_model.classes_"
   ]
  },
  {
   "cell_type": "code",
   "execution_count": null,
   "metadata": {},
   "outputs": [],
   "source": [
    "bow_model.n_features_in_"
   ]
  },
  {
   "cell_type": "code",
   "execution_count": null,
   "metadata": {},
   "outputs": [],
   "source": [
    "bow_model.intercept_"
   ]
  },
  {
   "cell_type": "code",
   "execution_count": null,
   "metadata": {},
   "outputs": [],
   "source": [
    "set(y_train.tolist())"
   ]
  },
  {
   "cell_type": "code",
   "execution_count": null,
   "metadata": {},
   "outputs": [],
   "source": [
    "y_pred_train_bow = bow_model.predict_proba(X_train_bow)"
   ]
  },
  {
   "cell_type": "code",
   "execution_count": null,
   "metadata": {},
   "outputs": [],
   "source": [
    "y_pred_train_bow2=bow_model.predict(X_train_bow)"
   ]
  },
  {
   "cell_type": "markdown",
   "metadata": {},
   "source": [
    "#### <font color='purple'>scoring the prediction using multiple scoring metrics</font>"
   ]
  },
  {
   "cell_type": "code",
   "execution_count": null,
   "metadata": {},
   "outputs": [],
   "source": [
    "log_loss(y_train,y_pred_train_bow)"
   ]
  },
  {
   "cell_type": "code",
   "execution_count": null,
   "metadata": {},
   "outputs": [],
   "source": [
    "from sklearn.metrics import classification_report"
   ]
  },
  {
   "cell_type": "code",
   "execution_count": null,
   "metadata": {},
   "outputs": [],
   "source": [
    "target_names=['class 1','class 2','class 3','class 4','class 5','class 6','class 7','class 8','class 9']"
   ]
  },
  {
   "cell_type": "code",
   "execution_count": null,
   "metadata": {},
   "outputs": [],
   "source": [
    "print(classification_report(y_train, y_pred_train_bow2, target_names=target_names))"
   ]
  },
  {
   "cell_type": "code",
   "execution_count": null,
   "metadata": {},
   "outputs": [],
   "source": [
    "from sklearn.metrics import plot_confusion_matrix"
   ]
  },
  {
   "cell_type": "code",
   "execution_count": null,
   "metadata": {},
   "outputs": [],
   "source": [
    "plot_confusion_matrix(bow_model, X_train_bow, y_train)"
   ]
  },
  {
   "cell_type": "markdown",
   "metadata": {},
   "source": [
    "#### <font color='blue'>Logistic Regression with tfidf transformation</font>"
   ]
  },
  {
   "cell_type": "code",
   "execution_count": null,
   "metadata": {},
   "outputs": [],
   "source": [
    "tfidf_model.fit(X_train_tfidf,y_train)"
   ]
  },
  {
   "cell_type": "code",
   "execution_count": null,
   "metadata": {},
   "outputs": [],
   "source": [
    "sorted(tfidf_model.coef_.tolist()[0])[:5]"
   ]
  },
  {
   "cell_type": "code",
   "execution_count": null,
   "metadata": {},
   "outputs": [],
   "source": [
    "tfidf_model.classes_"
   ]
  },
  {
   "cell_type": "code",
   "execution_count": null,
   "metadata": {},
   "outputs": [],
   "source": [
    "tfidf_model.n_features_in_"
   ]
  },
  {
   "cell_type": "code",
   "execution_count": null,
   "metadata": {},
   "outputs": [],
   "source": [
    "tfidf_model.intercept_"
   ]
  },
  {
   "cell_type": "code",
   "execution_count": null,
   "metadata": {},
   "outputs": [],
   "source": [
    "y_pred_train_tfidf = tfidf_model.predict_proba(X_train_tfidf)"
   ]
  },
  {
   "cell_type": "code",
   "execution_count": null,
   "metadata": {},
   "outputs": [],
   "source": [
    "y_pred_train_tfidf2 = tfidf_model.predict(X_train_tfidf)"
   ]
  },
  {
   "cell_type": "markdown",
   "metadata": {},
   "source": [
    "#### <font color='purple'>scoring the prediction using multiple scoring metrics</font>"
   ]
  },
  {
   "cell_type": "code",
   "execution_count": null,
   "metadata": {},
   "outputs": [],
   "source": [
    "log_loss(y_train,y_pred_train_tfidf)"
   ]
  },
  {
   "cell_type": "code",
   "execution_count": null,
   "metadata": {},
   "outputs": [],
   "source": [
    "print(classification_report(y_train, y_pred_train_tfidf2, target_names=target_names))"
   ]
  },
  {
   "cell_type": "code",
   "execution_count": null,
   "metadata": {},
   "outputs": [],
   "source": [
    "plot_confusion_matrix(tfidf_model, X_train_bow, y_train)"
   ]
  },
  {
   "cell_type": "markdown",
   "metadata": {},
   "source": [
    "### <font color='blue'> Multinomial Naive Bayes Model<font>"
   ]
  },
  {
   "cell_type": "code",
   "execution_count": null,
   "metadata": {},
   "outputs": [],
   "source": [
    "from sklearn.naive_bayes import MultinomialNB"
   ]
  },
  {
   "cell_type": "markdown",
   "metadata": {},
   "source": [
    "#### <font color='purple'>bag of words transformation</font>"
   ]
  },
  {
   "cell_type": "code",
   "execution_count": null,
   "metadata": {},
   "outputs": [],
   "source": [
    "NB_clf=MultinomialNB()"
   ]
  },
  {
   "cell_type": "code",
   "execution_count": null,
   "metadata": {},
   "outputs": [],
   "source": [
    "NB_clf.fit(X_train_bow,y_train)"
   ]
  },
  {
   "cell_type": "code",
   "execution_count": null,
   "metadata": {},
   "outputs": [],
   "source": [
    "NB_clf.class_count_"
   ]
  },
  {
   "cell_type": "code",
   "execution_count": null,
   "metadata": {},
   "outputs": [],
   "source": [
    "y_pred_train_NB=NB_clf.predict_proba(X_train_bow)"
   ]
  },
  {
   "cell_type": "code",
   "execution_count": null,
   "metadata": {},
   "outputs": [],
   "source": [
    "y_pred_train_NB2=NB_clf.predict(X_train_bow)"
   ]
  },
  {
   "cell_type": "markdown",
   "metadata": {},
   "source": [
    "#### <font color='purple'>scoring the prediction using multiple scoring metrics</font>"
   ]
  },
  {
   "cell_type": "code",
   "execution_count": null,
   "metadata": {},
   "outputs": [],
   "source": [
    "log_loss(y_train,y_pred_train_NB)"
   ]
  },
  {
   "cell_type": "code",
   "execution_count": null,
   "metadata": {},
   "outputs": [],
   "source": [
    "print(classification_report(y_train, y_pred_train_NB2, target_names=target_names))"
   ]
  },
  {
   "cell_type": "code",
   "execution_count": null,
   "metadata": {},
   "outputs": [],
   "source": [
    "plot_confusion_matrix(NB_clf, X_train_bow, y_train)"
   ]
  },
  {
   "cell_type": "code",
   "execution_count": null,
   "metadata": {},
   "outputs": [],
   "source": []
  },
  {
   "cell_type": "markdown",
   "metadata": {},
   "source": [
    "### Validation dataset"
   ]
  },
  {
   "cell_type": "code",
   "execution_count": null,
   "metadata": {},
   "outputs": [],
   "source": [
    "validation_df.shape,y_validation.shape"
   ]
  },
  {
   "cell_type": "code",
   "execution_count": null,
   "metadata": {},
   "outputs": [],
   "source": [
    "validation_df.head()"
   ]
  },
  {
   "cell_type": "markdown",
   "metadata": {},
   "source": [
    "#### text processing of validation data"
   ]
  },
  {
   "cell_type": "code",
   "execution_count": null,
   "metadata": {},
   "outputs": [],
   "source": []
  },
  {
   "cell_type": "code",
   "execution_count": null,
   "metadata": {},
   "outputs": [],
   "source": [
    "# remove punctuation\n",
    "validation_df['cleaned_text'] = validation_df['Text'].progress_map(cleanse_data,na_action='ignore')"
   ]
  },
  {
   "cell_type": "code",
   "execution_count": null,
   "metadata": {},
   "outputs": [],
   "source": [
    "# filtering all common english words\n",
    "validation_df['cleaned_text'] = validation_df['cleaned_text'].progress_map(reduce_words,na_action='ignore')"
   ]
  },
  {
   "cell_type": "code",
   "execution_count": null,
   "metadata": {},
   "outputs": [],
   "source": [
    "validation_df['Text_len'] = validation_df['Text'].map(lambda x:len(str(x)))\n",
    "validation_df['cleaned_text_len'] = validation_df['cleaned_text'].map(lambda x:len(str(x)))"
   ]
  },
  {
   "cell_type": "code",
   "execution_count": null,
   "metadata": {},
   "outputs": [],
   "source": [
    "validation_df.head()"
   ]
  },
  {
   "cell_type": "code",
   "execution_count": null,
   "metadata": {},
   "outputs": [],
   "source": [
    "validation_df_corpus = validation_df['cleaned_text'].tolist()"
   ]
  },
  {
   "cell_type": "markdown",
   "metadata": {},
   "source": [
    "##### Bag of words transformation"
   ]
  },
  {
   "cell_type": "code",
   "execution_count": null,
   "metadata": {},
   "outputs": [],
   "source": [
    "validation_df_counts= bow_vectorizer.transform(validation_df_corpus)"
   ]
  },
  {
   "cell_type": "code",
   "execution_count": null,
   "metadata": {},
   "outputs": [],
   "source": [
    "validation_df_counts.shape"
   ]
  },
  {
   "cell_type": "code",
   "execution_count": null,
   "metadata": {},
   "outputs": [],
   "source": [
    "X_validation_bow = validation_df_counts.todense()"
   ]
  },
  {
   "cell_type": "code",
   "execution_count": null,
   "metadata": {},
   "outputs": [],
   "source": [
    "X_validation_bow.shape"
   ]
  },
  {
   "cell_type": "code",
   "execution_count": null,
   "metadata": {},
   "outputs": [],
   "source": [
    "X_validation_bow[0]"
   ]
  },
  {
   "cell_type": "code",
   "execution_count": null,
   "metadata": {},
   "outputs": [],
   "source": [
    "y_pred_validation_bow = bow_model.predict_proba(X_validation_bow)"
   ]
  },
  {
   "cell_type": "code",
   "execution_count": null,
   "metadata": {},
   "outputs": [],
   "source": [
    "y_pred_validation_bow2 = bow_model.predict(X_validation_bow)"
   ]
  },
  {
   "cell_type": "markdown",
   "metadata": {},
   "source": [
    "#### <font color='purple'>scoring the prediction using multiple scoring metrics</font>"
   ]
  },
  {
   "cell_type": "code",
   "execution_count": null,
   "metadata": {},
   "outputs": [],
   "source": [
    "set(y_validation.tolist())"
   ]
  },
  {
   "cell_type": "code",
   "execution_count": null,
   "metadata": {},
   "outputs": [],
   "source": [
    "log_loss(y_validation,y_pred_validation_bow)"
   ]
  },
  {
   "cell_type": "code",
   "execution_count": null,
   "metadata": {},
   "outputs": [],
   "source": [
    "print(classification_report(y_validation, y_pred_validation_bow2, target_names=target_names))"
   ]
  },
  {
   "cell_type": "code",
   "execution_count": null,
   "metadata": {},
   "outputs": [],
   "source": [
    "plot_confusion_matrix(bow_model, X_validation_bow, y_validation)"
   ]
  },
  {
   "cell_type": "markdown",
   "metadata": {},
   "source": [
    "##### TFIDF transformation"
   ]
  },
  {
   "cell_type": "code",
   "execution_count": null,
   "metadata": {},
   "outputs": [],
   "source": [
    "X_validate_tfidf = tfidf_vectorizer.transform(validation_df_corpus)"
   ]
  },
  {
   "cell_type": "code",
   "execution_count": null,
   "metadata": {},
   "outputs": [],
   "source": [
    "X_validate_tfidf = X_validate_tfidf.toarray()"
   ]
  },
  {
   "cell_type": "code",
   "execution_count": null,
   "metadata": {},
   "outputs": [],
   "source": [
    "y_pred_validate_tfidf = tfidf_model.predict_proba(X_validate_tfidf)"
   ]
  },
  {
   "cell_type": "code",
   "execution_count": null,
   "metadata": {},
   "outputs": [],
   "source": [
    "y_pred_validate_tfidf2 = tfidf_model.predict(X_validate_tfidf)"
   ]
  },
  {
   "cell_type": "markdown",
   "metadata": {},
   "source": [
    "#### <font color='purple'>scoring the prediction using multiple scoring metrics</font>"
   ]
  },
  {
   "cell_type": "code",
   "execution_count": null,
   "metadata": {},
   "outputs": [],
   "source": [
    "log_loss(y_validation,y_pred_validate_tfidf)"
   ]
  },
  {
   "cell_type": "code",
   "execution_count": null,
   "metadata": {},
   "outputs": [],
   "source": [
    "print(classification_report(y_validation, y_pred_validate_tfidf2, target_names=target_names))"
   ]
  },
  {
   "cell_type": "code",
   "execution_count": null,
   "metadata": {},
   "outputs": [],
   "source": [
    "plot_confusion_matrix(tfidf_model, X_validate_tfidf, y_validation)"
   ]
  },
  {
   "cell_type": "code",
   "execution_count": null,
   "metadata": {},
   "outputs": [],
   "source": []
  },
  {
   "cell_type": "code",
   "execution_count": null,
   "metadata": {},
   "outputs": [],
   "source": []
  },
  {
   "cell_type": "markdown",
   "metadata": {},
   "source": [
    "#### handling the test text sample data"
   ]
  },
  {
   "cell_type": "code",
   "execution_count": null,
   "metadata": {},
   "outputs": [],
   "source": [
    "#test_text_df.sort_values(['ID']).head()"
   ]
  },
  {
   "cell_type": "code",
   "execution_count": null,
   "metadata": {},
   "outputs": [],
   "source": [
    "#test_text_df.shape"
   ]
  },
  {
   "cell_type": "code",
   "execution_count": null,
   "metadata": {},
   "outputs": [],
   "source": [
    "#test_text_df['cleaned_text'] = test_text_df['Text'].map(cleanse_data,na_action='ignore')"
   ]
  },
  {
   "cell_type": "code",
   "execution_count": null,
   "metadata": {},
   "outputs": [],
   "source": [
    "#test_text_df['cleaned_text'] = test_text_df['cleaned_text'].map(reduce_words)"
   ]
  },
  {
   "cell_type": "code",
   "execution_count": null,
   "metadata": {},
   "outputs": [],
   "source": [
    "#test_text_df['cleaned_text_vector'] = test_text_df['cleaned_text'].map(word_count)"
   ]
  },
  {
   "cell_type": "code",
   "execution_count": null,
   "metadata": {},
   "outputs": [],
   "source": [
    "#test_text_df['sorted_cleaned_text_vector'] = test_text_df['cleaned_text'].progress_map(freq_dist)"
   ]
  },
  {
   "cell_type": "code",
   "execution_count": null,
   "metadata": {},
   "outputs": [],
   "source": [
    "#test_text_df = test_text_df.drop(['Text'],axis=1)"
   ]
  },
  {
   "cell_type": "code",
   "execution_count": null,
   "metadata": {},
   "outputs": [],
   "source": [
    "#test_text_df.head()"
   ]
  },
  {
   "cell_type": "code",
   "execution_count": null,
   "metadata": {},
   "outputs": [],
   "source": [
    "# get the text samples as list\n",
    "#test_corpus = test_text_df['cleaned_text'].tolist()"
   ]
  },
  {
   "cell_type": "code",
   "execution_count": null,
   "metadata": {},
   "outputs": [],
   "source": [
    "# transform the test case to get bag of words\n",
    "#test_bag_of_words_train = bow_vectorizer.fit_transform(test_corpus)"
   ]
  },
  {
   "cell_type": "code",
   "execution_count": null,
   "metadata": {},
   "outputs": [],
   "source": [
    "# convert the dictionary to an array\n",
    "#test_bag_of_words_array = test_bag_of_words_train.toarray()"
   ]
  },
  {
   "cell_type": "code",
   "execution_count": null,
   "metadata": {},
   "outputs": [],
   "source": [
    "#test_bag_of_words_array.shape"
   ]
  },
  {
   "cell_type": "code",
   "execution_count": null,
   "metadata": {},
   "outputs": [],
   "source": [
    "# predict test using bag of word model\n",
    "#y_pred_test_bow = bow_model.predict_proba(test_bag_of_words_array)"
   ]
  },
  {
   "cell_type": "code",
   "execution_count": null,
   "metadata": {},
   "outputs": [],
   "source": [
    "#y_pred_test_bow[0]"
   ]
  },
  {
   "cell_type": "code",
   "execution_count": null,
   "metadata": {},
   "outputs": [],
   "source": [
    "#y_pred_test_df = pd.DataFrame(y_pred_test_bow)"
   ]
  },
  {
   "cell_type": "code",
   "execution_count": null,
   "metadata": {},
   "outputs": [],
   "source": [
    "#test_text_df['ID'].shape"
   ]
  },
  {
   "cell_type": "code",
   "execution_count": null,
   "metadata": {},
   "outputs": [],
   "source": [
    "#y_pred_test_df['ID']= test_text_df['ID'].reset_index(drop=True)"
   ]
  },
  {
   "cell_type": "code",
   "execution_count": null,
   "metadata": {},
   "outputs": [],
   "source": [
    "#y_pred_test_df.head()"
   ]
  },
  {
   "cell_type": "code",
   "execution_count": null,
   "metadata": {},
   "outputs": [],
   "source": []
  },
  {
   "cell_type": "code",
   "execution_count": null,
   "metadata": {},
   "outputs": [],
   "source": [
    "# predict test using tfidf model\n",
    "#y_pred_test_tfidf = tfidf_model.predict_proba(test_bag_of_words_array)"
   ]
  },
  {
   "cell_type": "code",
   "execution_count": null,
   "metadata": {},
   "outputs": [],
   "source": [
    "stage2_test_text_df = pd.read_csv('stage2_test_text.csv', sep=\"\\|\\|\", encoding=\"utf-8\",engine=\"python\", skiprows=1, names=[\"ID\", \"Text\"])\n"
   ]
  },
  {
   "cell_type": "code",
   "execution_count": null,
   "metadata": {},
   "outputs": [],
   "source": [
    "stage2_test_text_df.shape"
   ]
  },
  {
   "cell_type": "code",
   "execution_count": null,
   "metadata": {},
   "outputs": [],
   "source": [
    "stage2_test_text_df['cleaned_text'] = stage2_test_text_df['Text'].progress_map(cleanse_data,na_action='ignore')"
   ]
  },
  {
   "cell_type": "code",
   "execution_count": null,
   "metadata": {},
   "outputs": [],
   "source": [
    "stage2_test_text_df['cleaned_text'] = stage2_test_text_df['cleaned_text'].progress_map(reduce_words)"
   ]
  },
  {
   "cell_type": "code",
   "execution_count": null,
   "metadata": {},
   "outputs": [],
   "source": [
    "stage2_test_text_df.shape"
   ]
  },
  {
   "cell_type": "code",
   "execution_count": null,
   "metadata": {},
   "outputs": [],
   "source": [
    "stage2_cleaned_view =pd.DataFrame({\"Text\":stage2_test_text_df['Text'].progress_map(lambda x:len(x)),\"cleaned_text\":stage2_test_text_df['cleaned_text'].map(lambda x:len(x))})\n",
    "stage2_cleaned_view.head()"
   ]
  },
  {
   "cell_type": "code",
   "execution_count": null,
   "metadata": {},
   "outputs": [],
   "source": [
    "stage2_test_corpus = stage2_test_text_df['cleaned_text'].tolist()"
   ]
  },
  {
   "cell_type": "code",
   "execution_count": null,
   "metadata": {},
   "outputs": [],
   "source": [
    "#X_stage2_test = bow_vectorizer.fit_transform(stage2_test_corpus).toarray()"
   ]
  },
  {
   "cell_type": "code",
   "execution_count": null,
   "metadata": {},
   "outputs": [],
   "source": [
    "X_stage2_test = tfidf_vectorizer.fit_transform(stage2_test_corpus).toarray()"
   ]
  },
  {
   "cell_type": "code",
   "execution_count": null,
   "metadata": {},
   "outputs": [],
   "source": [
    "X_stage2_test.shape"
   ]
  },
  {
   "cell_type": "code",
   "execution_count": null,
   "metadata": {},
   "outputs": [],
   "source": [
    "y_pred_stage2 = tfidf_model.predict_proba(X_stage2_test)"
   ]
  },
  {
   "cell_type": "code",
   "execution_count": null,
   "metadata": {},
   "outputs": [],
   "source": [
    "y_pred_stage2.shape"
   ]
  },
  {
   "cell_type": "code",
   "execution_count": null,
   "metadata": {},
   "outputs": [],
   "source": [
    "y_pred_stage2_df = pd.DataFrame(y_pred_stage2)"
   ]
  },
  {
   "cell_type": "code",
   "execution_count": null,
   "metadata": {},
   "outputs": [],
   "source": []
  },
  {
   "cell_type": "code",
   "execution_count": null,
   "metadata": {},
   "outputs": [],
   "source": [
    "y_pred_stage2_df['ID']=stage2_test_text_df['ID']"
   ]
  },
  {
   "cell_type": "code",
   "execution_count": null,
   "metadata": {},
   "outputs": [],
   "source": [
    "y_pred_stage2_df.columns"
   ]
  },
  {
   "cell_type": "code",
   "execution_count": null,
   "metadata": {},
   "outputs": [],
   "source": [
    "y_pred_stage2_df.columns = ['class1','class2','class3','class4','class5','class6','class7','class8','class9','ID']"
   ]
  },
  {
   "cell_type": "code",
   "execution_count": null,
   "metadata": {},
   "outputs": [],
   "source": [
    "y_pred_stage2_df=y_pred_stage2_df[['ID','class1','class2','class3','class4','class5','class6','class7','class8','class9']]"
   ]
  },
  {
   "cell_type": "code",
   "execution_count": null,
   "metadata": {},
   "outputs": [],
   "source": [
    "y_pred_stage2_df.head()"
   ]
  },
  {
   "cell_type": "code",
   "execution_count": null,
   "metadata": {},
   "outputs": [],
   "source": [
    "y_pred_stage2_df.to_csv(\"y_pred_stage2.csv\",index=False)"
   ]
  },
  {
   "cell_type": "code",
   "execution_count": null,
   "metadata": {},
   "outputs": [],
   "source": [
    "df=pd.DataFrame(columns=[\"Gene\",\"Class\",\"Variation\",\"cleaned_text\",\"cleaned_freq\"])\n",
    "for i in range(19):    \n",
    "    df_new=class_9[class_9['cleaned_text'] == class_9['cleaned_text'].unique()[i]]\n",
    "    df=pd.concat([df,df_new])"
   ]
  },
  {
   "cell_type": "markdown",
   "metadata": {
    "id": "mb62K9H8oIy6"
   },
   "source": [
    "we have sorted the frequency dictionary based on values using the key parameter of sorted and higher values first using reverse"
   ]
  },
  {
   "cell_type": "code",
   "execution_count": null,
   "metadata": {
    "colab": {
     "base_uri": "https://localhost:8080/"
    },
    "executionInfo": {
     "elapsed": 14,
     "status": "ok",
     "timestamp": 1638286210767,
     "user": {
      "displayName": "Anubrata Das",
      "photoUrl": "https://lh3.googleusercontent.com/a-/AOh14GiI2340pPpSj6e4aG_4urL4HRwW3MRXEf5aoo2_QA=s64",
      "userId": "08781375266004215524"
     },
     "user_tz": -330
    },
    "id": "wae37kXdUT8k",
    "outputId": "aacd0478-e911-439f-8dd0-3d9b78a7a732"
   },
   "outputs": [],
   "source": [
    "sorted(test_dic.items(),key=lambda x:x[1], reverse=True)"
   ]
  },
  {
   "cell_type": "code",
   "execution_count": null,
   "metadata": {
    "id": "kAxcpzU4_mzu"
   },
   "outputs": [],
   "source": [
    "for i in range(10):\n",
    "    print(scan_data1[i])"
   ]
  },
  {
   "cell_type": "code",
   "execution_count": null,
   "metadata": {
    "id": "9XgD9sY_14Jw"
   },
   "outputs": [],
   "source": [
    "cd /content"
   ]
  },
  {
   "cell_type": "code",
   "execution_count": null,
   "metadata": {
    "id": "oLbahHJ__mzv"
   },
   "outputs": [],
   "source": [
    "pa_tree=ET.parse('pa2021.xml')"
   ]
  },
  {
   "cell_type": "code",
   "execution_count": null,
   "metadata": {
    "id": "spN5n9H3_mzv"
   },
   "outputs": [],
   "source": [
    "root=pa_tree.getroot()"
   ]
  },
  {
   "cell_type": "code",
   "execution_count": null,
   "metadata": {
    "id": "kQR8pY9UXBs-"
   },
   "outputs": [],
   "source": [
    "# for child in root:\n",
    "#   print(child.tag)"
   ]
  },
  {
   "cell_type": "code",
   "execution_count": null,
   "metadata": {
    "id": "63RIRzTV_mzv"
   },
   "outputs": [],
   "source": [
    "for element_1 in root:\n",
    "  #print(\"---------level_1-----------\")\n",
    "  #print(element_1.tag)\n",
    "  \n",
    "  for element_2 in element_1:\n",
    "    #print(\"---------level_2-----------\")\n",
    "    #print(\"    \"+element_2.tag,\" \",element_2.text)\n",
    "    \n",
    "    for element_3 in element_2:\n",
    "      #print(\"---------level_3-----------\")\n",
    "      #print(\"        \"+element_3.tag,\" \",element_3.text)\n",
    "      \n",
    "      for element_4 in element_3:\n",
    "        #print(\"---------level_4-----------\")\n",
    "        if element_4.tag==\"String\":\n",
    "          print(\"                   \"+element_4.tag,\" \",element_4.text)\n",
    "          \n",
    "  #break\n",
    "    "
   ]
  },
  {
   "cell_type": "code",
   "execution_count": null,
   "metadata": {
    "id": "M-j6NieYFoZn"
   },
   "outputs": [],
   "source": [
    "len(root)"
   ]
  },
  {
   "cell_type": "code",
   "execution_count": null,
   "metadata": {
    "id": "c2Li5HlGGwOR"
   },
   "outputs": [],
   "source": [
    "desc_tree=ET.parse('desc2021.xml')"
   ]
  },
  {
   "cell_type": "code",
   "execution_count": null,
   "metadata": {
    "id": "IIWEN3P3XfG4"
   },
   "outputs": [],
   "source": [
    "desc_root=desc_tree.getroot()"
   ]
  },
  {
   "cell_type": "code",
   "execution_count": null,
   "metadata": {
    "id": "dVaFVNDdYSxK"
   },
   "outputs": [],
   "source": [
    "len(desc_root)"
   ]
  },
  {
   "cell_type": "code",
   "execution_count": null,
   "metadata": {
    "id": "9Q4uNx0xYq8f"
   },
   "outputs": [],
   "source": [
    "term_description=[]\n",
    "for element_1 in desc_root:\n",
    "  #print(\"-------level_1----------\")\n",
    "  #print(element_1.tag,\" \",element_1.text)\n",
    "  for element_2 in element_1:\n",
    "    #print(\"    ----------level_2----------\")\n",
    "    #print(\"    \"+element_2.tag,\" \",element_2.text)\n",
    "    for element_3 in element_2:\n",
    "      if element_3.tag=='String':\n",
    "        #print(\"        ---------level_3--------\")\n",
    "        #print(\"        \"+element_3.tag,\" \",element_3.text)\n",
    "        term_description.append(element_3.text)\n",
    "\n",
    "  #break"
   ]
  },
  {
   "cell_type": "code",
   "execution_count": null,
   "metadata": {
    "id": "WG6OyuDhZOdW"
   },
   "outputs": [],
   "source": [
    "len(term_description)"
   ]
  },
  {
   "cell_type": "code",
   "execution_count": null,
   "metadata": {
    "id": "yhUEtiIrt4B5"
   },
   "outputs": [],
   "source": [
    "term_description[:10]"
   ]
  },
  {
   "cell_type": "code",
   "execution_count": null,
   "metadata": {
    "id": "DFCAtPHEuIG_"
   },
   "outputs": [],
   "source": [
    "import csv \n",
    "with open('term_description.csv', 'w') as f: \n",
    "    write = csv.writer(f) \n",
    "    write.writerow(term_description) \n",
    "    "
   ]
  },
  {
   "cell_type": "markdown",
   "metadata": {
    "id": "F11LgeASJSYc"
   },
   "source": [
    "There are 2 ways to remove punctuation. one is to use the string library punctuation module on the text before tokenization, the other is to use the nltk.punct library"
   ]
  },
  {
   "cell_type": "code",
   "execution_count": null,
   "metadata": {
    "id": "bzJtTxhvvlSb"
   },
   "outputs": [],
   "source": [
    "len(scan_data1[1])"
   ]
  },
  {
   "cell_type": "code",
   "execution_count": null,
   "metadata": {
    "id": "EKL7Av16DsWV"
   },
   "outputs": [],
   "source": [
    "#nltk.word_tokenize(scan_data1[1])"
   ]
  },
  {
   "cell_type": "code",
   "execution_count": null,
   "metadata": {
    "id": "6n8-IUY8D_g2"
   },
   "outputs": [],
   "source": [
    "# import string punctuation\n",
    "import string\n",
    "string.punctuation"
   ]
  },
  {
   "cell_type": "code",
   "execution_count": null,
   "metadata": {
    "id": "vXDy9X6cH_nh"
   },
   "outputs": [],
   "source": []
  },
  {
   "cell_type": "code",
   "execution_count": null,
   "metadata": {
    "id": "YTposSf5IPM2"
   },
   "outputs": [],
   "source": [
    "len(cleanup_text(scan_data1[1]))"
   ]
  },
  {
   "cell_type": "code",
   "execution_count": null,
   "metadata": {
    "id": "xoBpboDfIZjm"
   },
   "outputs": [],
   "source": [
    "scan_data"
   ]
  }
 ],
 "metadata": {
  "colab": {
   "name": "jovian-ml-project.ipynb",
   "version": ""
  },
  "kernelspec": {
   "display_name": "Python 3",
   "language": "python",
   "name": "python3"
  },
  "language_info": {
   "codemirror_mode": {
    "name": "ipython",
    "version": 3
   },
   "file_extension": ".py",
   "mimetype": "text/x-python",
   "name": "python",
   "nbconvert_exporter": "python",
   "pygments_lexer": "ipython3",
   "version": "3.7.6"
  }
 },
 "nbformat": 4,
 "nbformat_minor": 1
}
