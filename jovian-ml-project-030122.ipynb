{
 "cells": [
  {
   "cell_type": "markdown",
   "metadata": {
    "id": "z4XIJ7_c_mzW"
   },
   "source": [
    "# Classification of Cancer associated Mutations from Literature using Machine Learning\n",
    "\n",
    "Use the \"Run\" button to execute the code."
   ]
  },
  {
   "cell_type": "code",
   "execution_count": 1,
   "metadata": {
    "executionInfo": {
     "elapsed": 2553,
     "status": "ok",
     "timestamp": 1638285773553,
     "user": {
      "displayName": "Anubrata Das",
      "photoUrl": "https://lh3.googleusercontent.com/a-/AOh14GiI2340pPpSj6e4aG_4urL4HRwW3MRXEf5aoo2_QA=s64",
      "userId": "08781375266004215524"
     },
     "user_tz": -330
    },
    "id": "6jgqXjvi_mzZ"
   },
   "outputs": [
    {
     "name": "stdout",
     "output_type": "stream",
     "text": [
      "Note: you may need to restart the kernel to use updated packages.\n"
     ]
    },
    {
     "name": "stderr",
     "output_type": "stream",
     "text": [
      "WARNING: Value for scheme.headers does not match. Please report this to <https://github.com/pypa/pip/issues/9617>\n",
      "distutils: C:\\Users\\anubr\\anaconda3\\Include\\UNKNOWN\n",
      "sysconfig: C:\\Users\\anubr\\anaconda3\\Include\n",
      "WARNING: Additional context:\n",
      "user = False\n",
      "home = None\n",
      "root = None\n",
      "prefix = None\n",
      "WARNING: Value for scheme.headers does not match. Please report this to <https://github.com/pypa/pip/issues/9617>\n",
      "distutils: C:\\Users\\anubr\\anaconda3\\Include\\UNKNOWN\n",
      "sysconfig: C:\\Users\\anubr\\anaconda3\\Include\n",
      "WARNING: Additional context:\n",
      "user = False\n",
      "home = None\n",
      "root = None\n",
      "prefix = None\n"
     ]
    }
   ],
   "source": [
    "pip install jovian --upgrade --quiet"
   ]
  },
  {
   "cell_type": "code",
   "execution_count": null,
   "metadata": {
    "executionInfo": {
     "elapsed": 47,
     "status": "ok",
     "timestamp": 1638285773553,
     "user": {
      "displayName": "Anubrata Das",
      "photoUrl": "https://lh3.googleusercontent.com/a-/AOh14GiI2340pPpSj6e4aG_4urL4HRwW3MRXEf5aoo2_QA=s64",
      "userId": "08781375266004215524"
     },
     "user_tz": -330
    },
    "id": "BcrwI4VL_mze"
   },
   "outputs": [],
   "source": []
  },
  {
   "cell_type": "code",
   "execution_count": 51,
   "metadata": {
    "colab": {
     "base_uri": "https://localhost:8080/",
     "height": 125
    },
    "executionInfo": {
     "elapsed": 9427,
     "status": "ok",
     "timestamp": 1638285782935,
     "user": {
      "displayName": "Anubrata Das",
      "photoUrl": "https://lh3.googleusercontent.com/a-/AOh14GiI2340pPpSj6e4aG_4urL4HRwW3MRXEf5aoo2_QA=s64",
      "userId": "08781375266004215524"
     },
     "user_tz": -330
    },
    "id": "7gTXlkwu_mzf",
    "outputId": "3c4f1679-22fc-496e-bbd7-ce778f5dc86a"
   },
   "outputs": [
    {
     "data": {
      "application/javascript": [
       "window.require && require([\"base/js/namespace\"],function(Jupyter){Jupyter.notebook.save_checkpoint()})"
      ],
      "text/plain": [
       "<IPython.core.display.Javascript object>"
      ]
     },
     "metadata": {},
     "output_type": "display_data"
    },
    {
     "name": "stdout",
     "output_type": "stream",
     "text": [
      "[jovian] Creating a new project \"anubratadas/jovian-ml-project-030122\"\n",
      "[jovian] Committed successfully! https://jovian.ai/anubratadas/jovian-ml-project-030122\n"
     ]
    },
    {
     "data": {
      "text/plain": [
       "'https://jovian.ai/anubratadas/jovian-ml-project-030122'"
      ]
     },
     "execution_count": 51,
     "metadata": {},
     "output_type": "execute_result"
    }
   ],
   "source": [
    "# Execute this to save new versions of the notebook\n",
    "jovian.commit(project=\"jovian-ml-project-030122\",filename=\"jovian-ml-project-030122\")"
   ]
  },
  {
   "cell_type": "markdown",
   "metadata": {},
   "source": [
    "### <font color='green'>Import the essential libraries</font>"
   ]
  },
  {
   "cell_type": "code",
   "execution_count": 3,
   "metadata": {
    "executionInfo": {
     "elapsed": 13,
     "status": "ok",
     "timestamp": 1638285789225,
     "user": {
      "displayName": "Anubrata Das",
      "photoUrl": "https://lh3.googleusercontent.com/a-/AOh14GiI2340pPpSj6e4aG_4urL4HRwW3MRXEf5aoo2_QA=s64",
      "userId": "08781375266004215524"
     },
     "user_tz": -330
    },
    "id": "AEM-Rd_A_mzj"
   },
   "outputs": [],
   "source": [
    "import jovian\n",
    "import pandas as pd\n",
    "import numpy as np\n",
    "import matplotlib.pyplot as plt\n",
    "import requests\n",
    "import xml.etree.ElementTree as ET\n",
    "import time\n",
    "import re\n",
    "from tqdm import tqdm\n",
    "%matplotlib inline"
   ]
  },
  {
   "cell_type": "code",
   "execution_count": 4,
   "metadata": {
    "executionInfo": {
     "elapsed": 12,
     "status": "ok",
     "timestamp": 1638285789226,
     "user": {
      "displayName": "Anubrata Das",
      "photoUrl": "https://lh3.googleusercontent.com/a-/AOh14GiI2340pPpSj6e4aG_4urL4HRwW3MRXEf5aoo2_QA=s64",
      "userId": "08781375266004215524"
     },
     "user_tz": -330
    },
    "id": "lv5xwSHT_mzk"
   },
   "outputs": [],
   "source": [
    "pd.set_option('display.max_columns', None)\n",
    "pd.set_option('display.max_rows', None)\n",
    "import warnings\n",
    "warnings.simplefilter(action='ignore')"
   ]
  },
  {
   "cell_type": "code",
   "execution_count": 5,
   "metadata": {},
   "outputs": [],
   "source": [
    "tqdm.pandas(desc=\"progress bar\")"
   ]
  },
  {
   "cell_type": "markdown",
   "metadata": {},
   "source": [
    " ### <font style=\"font-size:18px;font-family:arial;color:green;text-indent:100px;line-height: 0.8;word-spacing: 10px\"> A cancerous tissue can have thousands of genetic mutations (Variations), which are discovered using genome sequencing. But the challenge is distinguishing the mutations that contribute to tumor growth (drivers) from the neutral mutations (passengers). Currently this interpretation of genetic mutations is being done manually. This is a very time-consuming task where a clinical pathologist has to manually review and classify every single genetic mutation based on evidence from text-based clinical literature. For this competition MSKCC is making available an expert-annotated knowledge base where world-class researchers and oncologists have manually annotated thousands of mutations. MSKCC intends the Data scientist to develop a Machine Learning algorithm that, using this knowledge base as a baseline, automatically classifies genetic variations.</font>"
   ]
  },
  {
   "cell_type": "markdown",
   "metadata": {},
   "source": [
    "<a id='top'>**Beginning of Notebook**</a>"
   ]
  },
  {
   "cell_type": "markdown",
   "metadata": {},
   "source": [
    "[model train text data](#train_data)"
   ]
  },
  {
   "cell_type": "markdown",
   "metadata": {},
   "source": [
    "### <font color='green'>Exploratory Data Analysis</font>"
   ]
  },
  {
   "cell_type": "markdown",
   "metadata": {},
   "source": [
    "###  references\n",
    "  - https://github.com/ghostintheshellarise/2021HackForRare\n",
    "  - https://widdowquinn.github.io/2018-03-06-ibioic/02-sequence_databases/09-KEGG_programming.html\n",
    "  - https://bioservices.readthedocs.io/en/master/kegg_tutorial.html\n",
    "  - https://bioservices.readthedocs.io/en/master/index.html"
   ]
  },
  {
   "cell_type": "markdown",
   "metadata": {},
   "source": [
    "#### train data"
   ]
  },
  {
   "cell_type": "code",
   "execution_count": 6,
   "metadata": {},
   "outputs": [],
   "source": [
    "train_text_df = pd.read_csv('training_text.zip', sep=\"\\|\\|\", encoding=\"utf-8\",engine=\"python\", skiprows=1, names=[\"ID\", \"Text\"],compression='zip')"
   ]
  },
  {
   "cell_type": "code",
   "execution_count": 7,
   "metadata": {},
   "outputs": [],
   "source": [
    "train_variant_df = pd.read_csv('training_variants.zip',compression='zip')"
   ]
  },
  {
   "cell_type": "code",
   "execution_count": 8,
   "metadata": {},
   "outputs": [
    {
     "data": {
      "text/plain": [
       "((3321, 2), (3321, 4))"
      ]
     },
     "execution_count": 8,
     "metadata": {},
     "output_type": "execute_result"
    }
   ],
   "source": [
    "train_text_df.shape, train_variant_df.shape"
   ]
  },
  {
   "cell_type": "code",
   "execution_count": 9,
   "metadata": {},
   "outputs": [
    {
     "data": {
      "text/plain": [
       "(Index(['ID', 'Text'], dtype='object'),\n",
       " Index(['ID', 'Gene', 'Variation', 'Class'], dtype='object'))"
      ]
     },
     "execution_count": 9,
     "metadata": {},
     "output_type": "execute_result"
    }
   ],
   "source": [
    "train_text_df.columns, train_variant_df.columns"
   ]
  },
  {
   "cell_type": "code",
   "execution_count": 10,
   "metadata": {},
   "outputs": [],
   "source": [
    "# merging the text and variation data\n",
    "train_df = pd.merge(train_variant_df,train_text_df,on='ID')"
   ]
  },
  {
   "cell_type": "code",
   "execution_count": 11,
   "metadata": {},
   "outputs": [
    {
     "data": {
      "text/plain": [
       "(3321, 5)"
      ]
     },
     "execution_count": 11,
     "metadata": {},
     "output_type": "execute_result"
    }
   ],
   "source": [
    "train_df.shape"
   ]
  },
  {
   "cell_type": "code",
   "execution_count": 12,
   "metadata": {},
   "outputs": [],
   "source": [
    "# taking a sample of the dataset\n",
    "train_df = train_df.sample(frac=0.4,random_state=222)"
   ]
  },
  {
   "cell_type": "markdown",
   "metadata": {},
   "source": [
    "We have taken a sample of the training data"
   ]
  },
  {
   "cell_type": "code",
   "execution_count": 13,
   "metadata": {},
   "outputs": [
    {
     "data": {
      "text/html": [
       "<div>\n",
       "<style scoped>\n",
       "    .dataframe tbody tr th:only-of-type {\n",
       "        vertical-align: middle;\n",
       "    }\n",
       "\n",
       "    .dataframe tbody tr th {\n",
       "        vertical-align: top;\n",
       "    }\n",
       "\n",
       "    .dataframe thead th {\n",
       "        text-align: right;\n",
       "    }\n",
       "</style>\n",
       "<table border=\"1\" class=\"dataframe\">\n",
       "  <thead>\n",
       "    <tr style=\"text-align: right;\">\n",
       "      <th></th>\n",
       "      <th>ID</th>\n",
       "      <th>Gene</th>\n",
       "      <th>Variation</th>\n",
       "      <th>Class</th>\n",
       "      <th>Text</th>\n",
       "    </tr>\n",
       "  </thead>\n",
       "  <tbody>\n",
       "    <tr>\n",
       "      <th>1708</th>\n",
       "      <td>1708</td>\n",
       "      <td>POLE</td>\n",
       "      <td>S459del</td>\n",
       "      <td>1</td>\n",
       "      <td>Tumors with somatic mutations in the proofread...</td>\n",
       "    </tr>\n",
       "    <tr>\n",
       "      <th>2201</th>\n",
       "      <td>2201</td>\n",
       "      <td>PTEN</td>\n",
       "      <td>D92A</td>\n",
       "      <td>4</td>\n",
       "      <td>The PTEN (phosphatase and tensin homolog) phos...</td>\n",
       "    </tr>\n",
       "    <tr>\n",
       "      <th>84</th>\n",
       "      <td>84</td>\n",
       "      <td>RIT1</td>\n",
       "      <td>A77T</td>\n",
       "      <td>2</td>\n",
       "      <td>Abstract RASopathies are autosomal dominant d...</td>\n",
       "    </tr>\n",
       "    <tr>\n",
       "      <th>1985</th>\n",
       "      <td>1985</td>\n",
       "      <td>CTNNB1</td>\n",
       "      <td>I35S</td>\n",
       "      <td>7</td>\n",
       "      <td>To understand the nature and roles of mutated ...</td>\n",
       "    </tr>\n",
       "    <tr>\n",
       "      <th>2985</th>\n",
       "      <td>2985</td>\n",
       "      <td>KIT</td>\n",
       "      <td>W557R</td>\n",
       "      <td>7</td>\n",
       "      <td>Purpose: Somatic mutations that result in the ...</td>\n",
       "    </tr>\n",
       "  </tbody>\n",
       "</table>\n",
       "</div>"
      ],
      "text/plain": [
       "        ID    Gene Variation  Class  \\\n",
       "1708  1708    POLE   S459del      1   \n",
       "2201  2201    PTEN      D92A      4   \n",
       "84      84    RIT1      A77T      2   \n",
       "1985  1985  CTNNB1      I35S      7   \n",
       "2985  2985     KIT     W557R      7   \n",
       "\n",
       "                                                   Text  \n",
       "1708  Tumors with somatic mutations in the proofread...  \n",
       "2201  The PTEN (phosphatase and tensin homolog) phos...  \n",
       "84     Abstract RASopathies are autosomal dominant d...  \n",
       "1985  To understand the nature and roles of mutated ...  \n",
       "2985  Purpose: Somatic mutations that result in the ...  "
      ]
     },
     "execution_count": 13,
     "metadata": {},
     "output_type": "execute_result"
    }
   ],
   "source": [
    "train_df.head()"
   ]
  },
  {
   "cell_type": "markdown",
   "metadata": {},
   "source": [
    "### <font style=\"font-size:18px;font-family:arial;color:green;text-indent:100px;line-height: 0.8;word-spacing: 10px\"><i>Gene</i> is a stretch of DNA encoding a specific function. Variation is <i>Mutation</i>,  which changes the function. The first alphabet is the orginal amino acid, the number is the physical position in the gene where the change has occured and the last alphabet is the changed amino acid. The Text contains the information for the Gene, the Variation and the reason for the Class </font>"
   ]
  },
  {
   "cell_type": "markdown",
   "metadata": {},
   "source": [
    "#### top 10 mutated genes"
   ]
  },
  {
   "cell_type": "code",
   "execution_count": 14,
   "metadata": {},
   "outputs": [
    {
     "data": {
      "text/plain": [
       "Gene\n",
       "BRCA1     101\n",
       "TP53       69\n",
       "EGFR       56\n",
       "BRCA2      56\n",
       "PTEN       52\n",
       "KIT        45\n",
       "BRAF       40\n",
       "ALK        28\n",
       "PDGFRA     27\n",
       "ERBB2      27\n",
       "Name: Variation, dtype: int64"
      ]
     },
     "execution_count": 14,
     "metadata": {},
     "output_type": "execute_result"
    }
   ],
   "source": [
    "# top 10 mutated genes\n",
    "train_df.groupby('Gene')['Variation'].aggregate(\"count\").sort_values(ascending=False).head(n=10)"
   ]
  },
  {
   "cell_type": "code",
   "execution_count": 15,
   "metadata": {},
   "outputs": [],
   "source": [
    "mutated_genes=train_df['Gene'].to_list()"
   ]
  },
  {
   "cell_type": "markdown",
   "metadata": {},
   "source": [
    "### Importing Biopython library for pathway analysis"
   ]
  },
  {
   "cell_type": "code",
   "execution_count": 16,
   "metadata": {},
   "outputs": [],
   "source": [
    "#!pip install biopython"
   ]
  },
  {
   "cell_type": "code",
   "execution_count": 17,
   "metadata": {},
   "outputs": [],
   "source": [
    "#!pip install bioservices"
   ]
  },
  {
   "cell_type": "code",
   "execution_count": 18,
   "metadata": {},
   "outputs": [],
   "source": [
    "from Bio import SeqIO\n",
    "from Bio.KEGG import REST\n",
    "from bioservices.kegg import KEGG\n",
    "from collections import deque\n",
    "import networkx as nx\n",
    "from IPython.display import Image\n",
    "import time\n",
    "import io\n",
    "import os\n",
    "from itertools import chain"
   ]
  },
  {
   "cell_type": "code",
   "execution_count": 19,
   "metadata": {},
   "outputs": [
    {
     "name": "stdout",
     "output_type": "stream",
     "text": [
      "pathway          KEGG Pathway Database\n",
      "path             Release 101.0+/01-03, Jan 22\n",
      "                 Kanehisa Laboratories\n",
      "                 864,450 entries\n",
      "\n",
      "linked db        module\n",
      "                 ko\n",
      "                 genome\n",
      "                 <org>\n",
      "                 compound\n",
      "                 glycan\n",
      "                 reaction\n",
      "                 rclass\n",
      "                 enzyme\n",
      "                 network\n",
      "                 disease\n",
      "                 drug\n",
      "                 pubmed\n",
      "\n"
     ]
    }
   ],
   "source": [
    "print(REST.kegg_info('pathway').read())"
   ]
  },
  {
   "cell_type": "code",
   "execution_count": 20,
   "metadata": {},
   "outputs": [],
   "source": [
    "kegg_obj=KEGG()"
   ]
  },
  {
   "cell_type": "code",
   "execution_count": 21,
   "metadata": {},
   "outputs": [
    {
     "name": "stdout",
     "output_type": "stream",
     "text": [
      "ENTRY       238               CDS       T01001\n",
      "SYMBOL      ALK, ALK1, CD246, NBLST3\n",
      "NAME        (RefSeq) ALK receptor tyrosine kinase\n",
      "ORTHOLOGY   K05119  anaplastic lymphoma kinase [EC:2.7.10.1]\n",
      "ORGANISM    hsa  Homo sapiens (human)\n",
      "PATHWAY     hsa05200  Pathways in cancer\n",
      "            hsa05223  Non-small cell lung cancer\n",
      "            hsa05235  PD-L1 expression and PD-1 checkpoint pathway in cancer\n",
      "NETWORK     nt06210  ERK signaling\n",
      "            nt06214  PI3K signaling\n",
      "            nt06219  JAK-STAT signaling\n",
      "            nt06220  Calcium signaling\n",
      "            nt06266  Non-small cell lung cancer\n",
      "  ELEMENT   N00007  EML4-ALK fusion kinase to RAS-ERK signaling pathway\n",
      "            N00025  EML4-ALK fusion kinase to PLCG-ERK signaling pathway\n",
      "            N00047  EML4-ALK fusion kinase to PI3K signaling pathway\n",
      "            N00105  EML4-ALK fusion kinase to Jak-STAT signaling pathway\n",
      "            N10003  First-generation tyrosine kinase inhibitor to ALK fusion\n",
      "            N10004  Second/third-generation tyrosine kinase inhibitor to ALK fusion\n",
      "DISEASE     H00014  Non-small cell lung cancer\n",
      "            H00043  Neuroblastoma\n",
      "            H01601  Anaplastic large-cell lymphoma\n",
      "            H01892  Peripheral T cell lymphoma\n",
      "DRUG_TARGET Alectinib (DG01625): D10450<JP/US> D10542\n",
      "            Brigatinib: D10866<JP/US>\n",
      "            Ceritinib: D10551<JP/US>\n",
      "            Crizotinib: D09731<JP/US>\n",
      "            Ensartinib (DG02996): D11346 D11356\n",
      "            Entrectinib: D10926<JP/US>\n",
      "            Lorlatinib: D11012<JP/US> D11012<JP/US>\n",
      "            Repotrectinib: D11454\n",
      "BRITE       KEGG Orthology (KO) [BR:hsa00001]\n",
      "             09160 Human Diseases\n",
      "              09161 Cancer: overview\n",
      "               05200 Pathways in cancer\n",
      "                238 (ALK)\n",
      "               05235 PD-L1 expression and PD-1 checkpoint pathway in cancer\n",
      "                238 (ALK)\n",
      "              09162 Cancer: specific types\n",
      "               05223 Non-small cell lung cancer\n",
      "                238 (ALK)\n",
      "             09180 Brite Hierarchies\n",
      "              09181 Protein families: metabolism\n",
      "               01001 Protein kinases [BR:hsa01001]\n",
      "                238 (ALK)\n",
      "              09183 Protein families: signaling and cellular processes\n",
      "               04090 CD molecules [BR:hsa04090]\n",
      "                238 (ALK)\n",
      "            Enzymes [BR:hsa01000]\n",
      "             2. Transferases\n",
      "              2.7  Transferring phosphorus-containing groups\n",
      "               2.7.10  Protein-tyrosine kinases\n",
      "                2.7.10.1  receptor protein-tyrosine kinase\n",
      "                 238 (ALK)\n",
      "            Protein kinases [BR:hsa01001]\n",
      "             Receptor tyrosine kinases (RTK)\n",
      "              ALK family\n",
      "               238 (ALK)\n",
      "            CD molecules [BR:hsa04090]\n",
      "             Proteins\n",
      "              238 (ALK)\n",
      "POSITION    2:complement(29190992..29921589)\n",
      "MOTIF       Pfam: PK_Tyr_Ser-Thr Pkinase MAM Gly_rich Ldl_recept_a FXa_inhibition\n",
      "DBLINKS     NCBI-GeneID: 238\n",
      "            NCBI-ProteinID: NP_004295\n",
      "            OMIM: 105590\n",
      "            HGNC: 427\n",
      "            Ensembl: ENSG00000171094\n",
      "            Vega: OTTHUMG00000152034\n",
      "            Pharos: Q9UM73(Tclin)\n",
      "            UniProt: Q9UM73 B6D4Y2\n",
      "            PDB: 2KUP 2KUQ 2XB7 2XBA 2XP2 2YFX 2YHV 2YJR 2YJS 2YS5 2YT2 3AOX 3L9P 3LCS 3LCT 4ANL 4ANQ 4ANS 4CCB 4CCU 4CD0 4CLI 4CLJ 4CMO 4CMT 4CMU 4CNH 4CTB 4CTC 4DCE 4FNW 4FNX 4FNY 4FNZ 4FOB 4FOC 4FOD 4JOA 4MKC 4TT7 4Z55 5A9U 5AA8 5AA9 5AAA 5AAB 5AAC 5FTO 5FTQ 5IMX 5IUG 5IUH 5IUI 5KZ0 5VZ5 6AT9 6CDT 6E0R 6EBW 6EDL 6MX8 7BTT 7JY4 7JYR 7JYS 7JYT\n",
      "AASEQ       1620\n",
      "            MGAIGLLWLLPLLLSTAAVGSGMGTGQRAGSPAAGPPLQPREPLSYSRLQRKSLAVDFVV\n",
      "            PSLFRVYARDLLLPPSSSELKAGRPEARGSLALDCAPLLRLLGPAPGVSWTAGSPAPAEA\n",
      "            RTLSRVLKGGSVRKLRRAKQLVLELGEEAILEGCVGPPGEAAVGLLQFNLSELFSWWIRQ\n",
      "            GEGRLRIRLMPEKKASEVGREGRLSAAIRASQPRLLFQIFGTGHSSLESPTNMPSPSPDY\n",
      "            FTWNLTWIMKDSFPFLSHRSRYGLECSFDFPCELEYSPPLHDLRNQSWSWRRIPSEEASQ\n",
      "            MDLLDGPGAERSKEMPRGSFLLLNTSADSKHTILSPWMRSSSEHCTLAVSVHRHLQPSGR\n",
      "            YIAQLLPHNEAAREILLMPTPGKHGWTVLQGRIGRPDNPFRVALEYISSGNRSLSAVDFF\n",
      "            ALKNCSEGTSPGSKMALQSSFTCWNGTVLQLGQACDFHQDCAQGEDESQMCRKLPVGFYC\n",
      "            NFEDGFCGWTQGTLSPHTPQWQVRTLKDARFQDHQDHALLLSTTDVPASESATVTSATFP\n",
      "            APIKSSPCELRMSWLIRGVLRGNVSLVLVENKTGKEQGRMVWHVAAYEGLSLWQWMVLPL\n",
      "            LDVSDRFWLQMVAWWGQGSRAIVAFDNISISLDCYLTISGEDKILQNTAPKSRNLFERNP\n",
      "            NKELKPGENSPRQTPIFDPTVHWLFTTCGASGPHGPTQAQCNNAYQNSNLSVEVGSEGPL\n",
      "            KGIQIWKVPATDTYSISGYGAAGGKGGKNTMMRSHGVSVLGIFNLEKDDMLYILVGQQGE\n",
      "            DACPSTNQLIQKVCIGENNVIEEEIRVNRSVHEWAGGGGGGGGATYVFKMKDGVPVPLII\n",
      "            AAGGGGRAYGAKTDTFHPERLENNSSVLGLNGNSGAAGGGGGWNDNTSLLWAGKSLQEGA\n",
      "            TGGHSCPQAMKKWGWETRGGFGGGGGGCSSGGGGGGYIGGNAASNNDPEMDGEDGVSFIS\n",
      "            PLGILYTPALKVMEGHGEVNIKHYLNCSHCEVDECHMDPESHKVICFCDHGTVLAEDGVS\n",
      "            CIVSPTPEPHLPLSLILSVVTSALVAALVLAFSGIMIVYRRKHQELQAMQMELQSPEYKL\n",
      "            SKLRTSTIMTDYNPNYCFAGKTSSISDLKEVPRKNITLIRGLGHGAFGEVYEGQVSGMPN\n",
      "            DPSPLQVAVKTLPEVCSEQDELDFLMEALIISKFNHQNIVRCIGVSLQSLPRFILLELMA\n",
      "            GGDLKSFLRETRPRPSQPSSLAMLDLLHVARDIACGCQYLEENHFIHRDIAARNCLLTCP\n",
      "            GPGRVAKIGDFGMARDIYRASYYRKGGCAMLPVKWMPPEAFMEGIFTSKTDTWSFGVLLW\n",
      "            EIFSLGYMPYPSKSNQEVLEFVTSGGRMDPPKNCPGPVYRIMTQCWQHQPEDRPNFAIIL\n",
      "            ERIEYCTQDPDVINTALPIEYGPLVEEEEKVPVRPKDPEGVPPLLVSQQAKREEERSPAA\n",
      "            PPPLPTTSSGKAAKKPTAAEISVRVPRGPAVEGGHVNMAFSQSNPPSELHKVHGSRNKPT\n",
      "            SLWNPTYGSWFTEKPTKKNNPIAKKEPHDRGNLGLEGSCTVPPNVATGRLPGASLLLEPS\n",
      "            SLTANMKEVPLFRLRHFPCGNVNYGYQQQGLPLEAATAPGAGHYEDTILKSKNSMNQPGP\n",
      "NTSEQ       4863\n",
      "            atgggagccatcgggctcctgtggctcctgccgctgctgctttccacggcagctgtgggc\n",
      "            tccgggatggggaccggccagcgcgcgggctccccagctgcggggccgccgctgcagccc\n",
      "            cgggagccactcagctactcgcgcctgcagaggaagagtctggcagttgacttcgtggtg\n",
      "            ccctcgctcttccgtgtctacgcccgggacctactgctgccaccatcctcctcggagctg\n",
      "            aaggctggcaggcccgaggcccgcggctcgctagctctggactgcgccccgctgctcagg\n",
      "            ttgctggggccggcgccgggggtctcctggaccgccggttcaccagccccggcagaggcc\n",
      "            cggacgctgtccagggtgctgaagggcggctccgtgcgcaagctccggcgtgccaagcag\n",
      "            ttggtgctggagctgggcgaggaggcgatcttggagggttgcgtcgggccccccggggag\n",
      "            gcggctgtggggctgctccagttcaatctcagcgagctgttcagttggtggattcgccaa\n",
      "            ggcgaagggcgactgaggatccgcctgatgcccgagaagaaggcgtcggaagtgggcaga\n",
      "            gagggaaggctgtccgcggcaattcgcgcctcccagccccgccttctcttccagatcttc\n",
      "            gggactggtcatagctccttggaatcaccaacaaacatgccttctccttctcctgattat\n",
      "            tttacatggaatctcacctggataatgaaagactccttccctttcctgtctcatcgcagc\n",
      "            cgatatggtctggagtgcagctttgacttcccctgtgagctggagtattcccctccactg\n",
      "            catgacctcaggaaccagagctggtcctggcgccgcatcccctccgaggaggcctcccag\n",
      "            atggacttgctggatgggcctggggcagagcgttctaaggagatgcccagaggctccttt\n",
      "            ctccttctcaacacctcagctgactccaagcacaccatcctgagtccgtggatgaggagc\n",
      "            agcagtgagcactgcacactggccgtctcggtgcacaggcacctgcagccctctggaagg\n",
      "            tacattgcccagctgctgccccacaacgaggctgcaagagagatcctcctgatgcccact\n",
      "            ccagggaagcatggttggacagtgctccagggaagaatcgggcgtccagacaacccattt\n",
      "            cgagtggccctggaatacatctccagtggaaaccgcagcttgtctgcagtggacttcttt\n",
      "            gccctgaagaactgcagtgaaggaacatccccaggctccaagatggccctgcagagctcc\n",
      "            ttcacttgttggaatgggacagtcctccagcttgggcaggcctgtgacttccaccaggac\n",
      "            tgtgcccagggagaagatgagagccagatgtgccggaaactgcctgtgggtttttactgc\n",
      "            aactttgaagatggcttctgtggctggacccaaggcacactgtcaccccacactcctcaa\n",
      "            tggcaggtcaggaccctaaaggatgcccggttccaggaccaccaagaccatgctctattg\n",
      "            ctcagtaccactgatgtccccgcttctgaaagtgctacagtgaccagtgctacgtttcct\n",
      "            gcaccgatcaagagctctccatgtgagctccgaatgtcctggctcattcgtggagtcttg\n",
      "            aggggaaacgtgtccttggtgctagtggagaacaaaaccgggaaggagcaaggcaggatg\n",
      "            gtctggcatgtcgccgcctatgaaggcttgagcctgtggcagtggatggtgttgcctctc\n",
      "            ctcgatgtgtctgacaggttctggctgcagatggtcgcatggtggggacaaggatccaga\n",
      "            gccatcgtggcttttgacaatatctccatcagcctggactgctacctcaccattagcgga\n",
      "            gaggacaagatcctgcagaatacagcacccaaatcaagaaacctgtttgagagaaaccca\n",
      "            aacaaggagctgaaacccggggaaaattcaccaagacagacccccatctttgaccctaca\n",
      "            gttcattggctgttcaccacatgtggggccagcgggccccatggccccacccaggcacag\n",
      "            tgcaacaacgcctaccagaactccaacctgagcgtggaggtggggagcgagggccccctg\n",
      "            aaaggcatccagatctggaaggtgccagccaccgacacctacagcatctcgggctacgga\n",
      "            gctgctggcgggaaaggcgggaagaacaccatgatgcggtcccacggcgtgtctgtgctg\n",
      "            ggcatcttcaacctggagaaggatgacatgctgtacatcctggttgggcagcagggagag\n",
      "            gacgcctgccccagtacaaaccagttaatccagaaagtctgcattggagagaacaatgtg\n",
      "            atagaagaagaaatccgtgtgaacagaagcgtgcatgagtgggcaggaggcggaggagga\n",
      "            gggggtggagccacctacgtatttaagatgaaggatggagtgccggtgcccctgatcatt\n",
      "            gcagccggaggtggtggcagggcctacggggccaagacagacacgttccacccagagaga\n",
      "            ctggagaataactcctcggttctagggctaaacggcaattccggagccgcaggtggtgga\n",
      "            ggtggctggaatgataacacttccttgctctgggccggaaaatctttgcaggagggtgcc\n",
      "            accggaggacattcctgcccccaggccatgaagaagtgggggtgggagacaagagggggt\n",
      "            ttcggagggggtggaggggggtgctcctcaggtggaggaggcggaggatatataggcggc\n",
      "            aatgcagcctcaaacaatgaccccgaaatggatggggaagatggggtttccttcatcagt\n",
      "            ccactgggcatcctgtacaccccagctttaaaagtgatggaaggccacggggaagtgaat\n",
      "            attaagcattatctaaactgcagtcactgtgaggtagacgaatgtcacatggaccctgaa\n",
      "            agccacaaggtcatctgcttctgtgaccacgggacggtgctggctgaggatggcgtctcc\n",
      "            tgcattgtgtcacccaccccggagccacacctgccactctcgctgatcctctctgtggtg\n",
      "            acctctgccctcgtggccgccctggtcctggctttctccggcatcatgattgtgtaccgc\n",
      "            cggaagcaccaggagctgcaagccatgcagatggagctgcagagccctgagtacaagctg\n",
      "            agcaagctccgcacctcgaccatcatgaccgactacaaccccaactactgctttgctggc\n",
      "            aagacctcctccatcagtgacctgaaggaggtgccgcggaaaaacatcaccctcattcgg\n",
      "            ggtctgggccatggcgcctttggggaggtgtatgaaggccaggtgtccggaatgcccaac\n",
      "            gacccaagccccctgcaagtggctgtgaagacgctgcctgaagtgtgctctgaacaggac\n",
      "            gaactggatttcctcatggaagccctgatcatcagcaaattcaaccaccagaacattgtt\n",
      "            cgctgcattggggtgagcctgcaatccctgccccggttcatcctgctggagctcatggcg\n",
      "            gggggagacctcaagtccttcctccgagagacccgccctcgcccgagccagccctcctcc\n",
      "            ctggccatgctggaccttctgcacgtggctcgggacattgcctgtggctgtcagtatttg\n",
      "            gaggaaaaccacttcatccaccgagacattgctgccagaaactgcctcttgacctgtcca\n",
      "            ggccctggaagagtggccaagattggagacttcgggatggcccgagacatctacagggcg\n",
      "            agctactatagaaagggaggctgtgccatgctgccagttaagtggatgcccccagaggcc\n",
      "            ttcatggaaggaatattcacttctaaaacagacacatggtcctttggagtgctgctatgg\n",
      "            gaaatcttttctcttggatatatgccataccccagcaaaagcaaccaggaagttctggag\n",
      "            tttgtcaccagtggaggccggatggacccacccaagaactgccctgggcctgtataccgg\n",
      "            ataatgactcagtgctggcaacatcagcctgaagacaggcccaactttgccatcattttg\n",
      "            gagaggattgaatactgcacccaggacccggatgtaatcaacaccgctttgccgatagaa\n",
      "            tatggtccacttgtggaagaggaagagaaagtgcctgtgaggcccaaggaccctgagggg\n",
      "            gttcctcctctcctggtctctcaacaggcaaaacgggaggaggagcgcagcccagctgcc\n",
      "            ccaccacctctgcctaccacctcctctggcaaggctgcaaagaaacccacagctgcagag\n",
      "            atctctgttcgagtccctagagggccggccgtggaagggggacacgtgaatatggcattc\n",
      "            tctcagtccaaccctccttcggagttgcacaaggtccacggatccagaaacaagcccacc\n",
      "            agcttgtggaacccaacgtacggctcctggtttacagagaaacccaccaaaaagaataat\n",
      "            cctatagcaaagaaggagccacacgacaggggtaacctggggctggagggaagctgtact\n",
      "            gtcccacctaacgttgcaactgggagacttccgggggcctcactgctcctagagccctct\n",
      "            tcgctgactgccaatatgaaggaggtacctctgttcaggctacgtcacttcccttgtggg\n",
      "            aatgtcaattacggctaccagcaacagggcttgcccttagaagccgctactgcccctgga\n",
      "            gctggtcattacgaggataccattctgaaaagcaagaatagcatgaaccagcctgggccc\n",
      "            tga\n",
      "///\n",
      "\n"
     ]
    }
   ],
   "source": [
    "print(kegg_obj.get(\"hsa:ALK\"))"
   ]
  },
  {
   "cell_type": "code",
   "execution_count": 22,
   "metadata": {},
   "outputs": [
    {
     "name": "stdout",
     "output_type": "stream",
     "text": [
      "hsa:256710\tGLIPR1L1, ALKN2972, PRO7434; GLIPR1 like 1\n",
      "hsa:392636\tAGMO, TMEM195; alkylglycerol monooxygenase\n",
      "hsa:2585\tGALK2, GK2; galactokinase 2\n",
      "hsa:55331\tACER3, APHC, PHCA, PLDECO; alkaline ceramidase 3\n",
      "hsa:83795\tKCNK16, K2p16.1, TALK-1, TALK1; potassium two pore domain channel subfamily K member 1\n"
     ]
    }
   ],
   "source": [
    "print(kegg_obj.find(\"hsa\",\"ALK\")[:300])"
   ]
  },
  {
   "cell_type": "code",
   "execution_count": 23,
   "metadata": {},
   "outputs": [
    {
     "name": "stdout",
     "output_type": "stream",
     "text": [
      ">hsa:238 K05119 anaplastic lymphoma kinase [EC:2.7.10.1] | (RefSeq) ALK, ALK1, CD246, NBLST3; ALK receptor tyrosine kinase (A)\n",
      "MGAIGLLWLLPLLLSTAAVGSGMGTGQRAGSPAAGPPLQPREPLSYSRLQRKSLAVDFVV\n",
      "PSLFRVYARDLLLPPSSSELKAGRPEARGSLALDCAPLLRLLGPAPGVSWTAGSPAPAEA\n",
      "RTLSRVLKGGSVRKLRRAKQLVLELGEEAILEGCVGPPGEAAVGLLQFNLS\n"
     ]
    }
   ],
   "source": [
    "print(REST.kegg_get('hsa:ALK','aaseq').read()[:300])"
   ]
  },
  {
   "cell_type": "code",
   "execution_count": 24,
   "metadata": {},
   "outputs": [
    {
     "name": "stderr",
     "output_type": "stream",
     "text": [
      "\u001b[33mWARNING [bioservices:keggparser:119]: \u001b[0m \u001b[34mFound keyword SYMBOL, which has not special\n",
      "    parsing for now. please report this issue with the KEGG \n",
      "    identifier (238               CDS       T01001) into github.com/bioservices. Thanks T.C.\u001b[0m\n"
     ]
    },
    {
     "name": "stdout",
     "output_type": "stream",
     "text": [
      "{'hsa05200': 'Pathways in cancer', 'hsa05223': 'Non-small cell lung cancer', 'hsa05235': 'PD-L1 expression and PD-1 checkpoint pathway in cancer'}\n"
     ]
    }
   ],
   "source": [
    "print(kegg_obj.get_pathway_by_gene(\"238\",\"hsa\"))"
   ]
  },
  {
   "cell_type": "code",
   "execution_count": 25,
   "metadata": {},
   "outputs": [],
   "source": [
    "human_gene_list=kegg_obj.list('hsa')"
   ]
  },
  {
   "cell_type": "code",
   "execution_count": 26,
   "metadata": {},
   "outputs": [],
   "source": [
    "human_gene_list=human_gene_list.split('\\n')"
   ]
  },
  {
   "cell_type": "code",
   "execution_count": 27,
   "metadata": {},
   "outputs": [],
   "source": [
    "import re"
   ]
  },
  {
   "cell_type": "code",
   "execution_count": 28,
   "metadata": {},
   "outputs": [
    {
     "data": {
      "text/plain": [
       "'hsa:100616498\\tMIR378E, mir-378e; microRNA 378e'"
      ]
     },
     "execution_count": 28,
     "metadata": {},
     "output_type": "execute_result"
    }
   ],
   "source": [
    "human_gene_list[0]"
   ]
  },
  {
   "cell_type": "code",
   "execution_count": 29,
   "metadata": {},
   "outputs": [
    {
     "data": {
      "text/plain": [
       "'hsa:100616498,MIR378E, mir-378e, microRNA 378e'"
      ]
     },
     "execution_count": 29,
     "metadata": {},
     "output_type": "execute_result"
    }
   ],
   "source": [
    "re.sub('[\\t;]',',',human_gene_list[0])"
   ]
  },
  {
   "cell_type": "code",
   "execution_count": 30,
   "metadata": {},
   "outputs": [
    {
     "data": {
      "text/plain": [
       "<re.Match object; span=(0, 13), match='hsa:100616498'>"
      ]
     },
     "execution_count": 30,
     "metadata": {},
     "output_type": "execute_result"
    }
   ],
   "source": [
    "re.search('^\\w+:\\w+','hsa:100616498\\tMIR378E, mir-378e; microRNA 378e')"
   ]
  },
  {
   "cell_type": "code",
   "execution_count": 31,
   "metadata": {},
   "outputs": [
    {
     "data": {
      "text/plain": [
       "'MIR378E'"
      ]
     },
     "execution_count": 31,
     "metadata": {},
     "output_type": "execute_result"
    }
   ],
   "source": [
    "re.search('\\t\\w+','hsa:100616498\\tMIR378E, mir-378e; microRNA 378e').group()[1:]"
   ]
  },
  {
   "cell_type": "code",
   "execution_count": 32,
   "metadata": {},
   "outputs": [],
   "source": [
    "def get_kegg_indices(human_gene_list):\n",
    "    gene_kegg_id_dict={}\n",
    "    for item in human_gene_list:\n",
    "        try:\n",
    "            kegg_id=re.search('^\\w+:\\w+',item).group()\n",
    "        except:\n",
    "            kegg_id='no_entry'\n",
    "        try:\n",
    "            gene=re.search('\\t\\w+',item).group()[1:]\n",
    "        except:\n",
    "            gene='no_gene'            \n",
    "        gene_kegg_id_dict[gene]=kegg_id\n",
    "    return gene_kegg_id_dict    "
   ]
  },
  {
   "cell_type": "code",
   "execution_count": 33,
   "metadata": {},
   "outputs": [],
   "source": [
    "def map_mutation_kegg(mutated_genes,human_gene_list):\n",
    "    print(\"mutated genes\",len(mutated_genes))\n",
    "    print(\"kegg genes\",len(human_gene_list))\n",
    "    mut_gene_kegg=[]\n",
    "    kegg_gene_dict=get_kegg_indices(human_gene_list)\n",
    "    for mut_gene in mutated_genes:\n",
    "        if mut_gene in kegg_gene_dict:\n",
    "            gene_tup=(mut_gene,kegg_gene_dict[mut_gene])\n",
    "            mut_gene_kegg.append(gene_tup)\n",
    "    return mut_gene_kegg        "
   ]
  },
  {
   "cell_type": "code",
   "execution_count": 35,
   "metadata": {},
   "outputs": [
    {
     "name": "stdout",
     "output_type": "stream",
     "text": [
      "mutated genes 1328\n",
      "kegg genes 22232\n"
     ]
    }
   ],
   "source": [
    "mutated_kegg=map_mutation_kegg(mutated_genes,human_gene_list)"
   ]
  },
  {
   "cell_type": "code",
   "execution_count": null,
   "metadata": {},
   "outputs": [],
   "source": []
  },
  {
   "cell_type": "code",
   "execution_count": 37,
   "metadata": {},
   "outputs": [
    {
     "name": "stderr",
     "output_type": "stream",
     "text": [
      "\u001b[33mWARNING [bioservices:keggparser:119]: \u001b[0m \u001b[34mFound keyword SYMBOL, which has not special\n",
      "    parsing for now. please report this issue with the KEGG \n",
      "    identifier (675               CDS       T01001) into github.com/bioservices. Thanks T.C.\u001b[0m\n"
     ]
    },
    {
     "name": "stdout",
     "output_type": "stream",
     "text": [
      "{'hsa03440': 'Homologous recombination', 'hsa03460': 'Fanconi anemia pathway', 'hsa05200': 'Pathways in cancer', 'hsa05212': 'Pancreatic cancer', 'hsa05224': 'Breast cancer'}\n"
     ]
    }
   ],
   "source": [
    "print(kegg_obj.get_pathway_by_gene(\"BRCA2\",\"hsa\"))"
   ]
  },
  {
   "cell_type": "code",
   "execution_count": 48,
   "metadata": {},
   "outputs": [],
   "source": [
    "test=mutated_genes[:6]"
   ]
  },
  {
   "cell_type": "code",
   "execution_count": 57,
   "metadata": {},
   "outputs": [],
   "source": [
    "def df_gene_pathway():    \n",
    "    df_gene_pathway=pd.DataFrame(columns=[\"gene\",\"pathway\"])\n",
    "    for gene in tqdm(mutated_genes):    \n",
    "        try:\n",
    "            pathway_origin=kegg_obj.get_pathway_by_gene(gene,\"hsa\")\n",
    "            pathway_list=list(pathway_origin.keys())\n",
    "            for pathway in pathway_list:\n",
    "                df_gene_pathway=df_gene_pathway.append({\"pathway\":pathway,\"gene\":gene},ignore_index=True)\n",
    "        except:\n",
    "            print(\"no data for \",gene)\n",
    "    return df_gene_pathway       "
   ]
  },
  {
   "cell_type": "code",
   "execution_count": 58,
   "metadata": {},
   "outputs": [
    {
     "name": "stderr",
     "output_type": "stream",
     "text": [
      "  0%|          | 0/1328 [00:00<?, ?it/s]\u001b[33mWARNING [bioservices:keggparser:119]: \u001b[0m \u001b[34mFound keyword SYMBOL, which has not special\n",
      "    parsing for now. please report this issue with the KEGG \n",
      "    identifier (5426              CDS       T01001) into github.com/bioservices. Thanks T.C.\u001b[0m\n",
      "  0%|          | 1/1328 [00:01<23:53,  1.08s/it]\u001b[33mWARNING [bioservices:keggparser:119]: \u001b[0m \u001b[34mFound keyword SYMBOL, which has not special\n",
      "    parsing for now. please report this issue with the KEGG \n",
      "    identifier (5728              CDS       T01001) into github.com/bioservices. Thanks T.C.\u001b[0m\n",
      "  0%|          | 2/1328 [00:01<14:04,  1.57it/s]\u001b[33mWARNING [bioservices:keggparser:119]: \u001b[0m \u001b[34mFound keyword SYMBOL, which has not special\n",
      "    parsing for now. please report this issue with the KEGG \n",
      "    identifier (6016              CDS       T01001) into github.com/bioservices. Thanks T.C.\u001b[0m\n",
      "  0%|          | 3/1328 [00:01<09:40,  2.28it/s]"
     ]
    },
    {
     "name": "stdout",
     "output_type": "stream",
     "text": [
      "no data for  RIT1\n"
     ]
    },
    {
     "name": "stderr",
     "output_type": "stream",
     "text": [
      "\u001b[33mWARNING [bioservices:keggparser:119]: \u001b[0m \u001b[34mFound keyword SYMBOL, which has not special\n",
      "    parsing for now. please report this issue with the KEGG \n",
      "    identifier (1499              CDS       T01001) into github.com/bioservices. Thanks T.C.\u001b[0m\n",
      "  0%|          | 4/1328 [00:02<09:38,  2.29it/s]\u001b[33mWARNING [bioservices:keggparser:119]: \u001b[0m \u001b[34mFound keyword SYMBOL, which has not special\n",
      "    parsing for now. please report this issue with the KEGG \n",
      "    identifier (3815              CDS       T01001) into github.com/bioservices. Thanks T.C.\u001b[0m\n",
      "  0%|          | 5/1328 [00:02<08:09,  2.71it/s]\u001b[33mWARNING [bioservices:keggparser:119]: \u001b[0m \u001b[34mFound keyword SYMBOL, which has not special\n",
      "    parsing for now. please report this issue with the KEGG \n",
      "    identifier (567               CDS       T01001) into github.com/bioservices. Thanks T.C.\u001b[0m\n",
      "  0%|          | 6/1328 [00:02<07:48,  2.82it/s]\u001b[33mWARNING [bioservices:keggparser:119]: \u001b[0m \u001b[34mFound keyword SYMBOL, which has not special\n",
      "    parsing for now. please report this issue with the KEGG \n",
      "    identifier (5604              CDS       T01001) into github.com/bioservices. Thanks T.C.\u001b[0m\n",
      "  1%|          | 7/1328 [00:03<10:15,  2.15it/s]\u001b[33mWARNING [bioservices:keggparser:119]: \u001b[0m \u001b[34mFound keyword SYMBOL, which has not special\n",
      "    parsing for now. please report this issue with the KEGG \n",
      "    identifier (1956              CDS       T01001) into github.com/bioservices. Thanks T.C.\u001b[0m\n",
      "  1%|          | 8/1328 [00:03<10:45,  2.04it/s]\u001b[33mWARNING [bioservices:keggparser:119]: \u001b[0m \u001b[34mFound keyword SYMBOL, which has not special\n",
      "    parsing for now. please report this issue with the KEGG \n",
      "    identifier (2475              CDS       T01001) into github.com/bioservices. Thanks T.C.\u001b[0m\n",
      "  1%|          | 9/1328 [00:04<11:20,  1.94it/s]\u001b[33mWARNING [bioservices:keggparser:119]: \u001b[0m \u001b[34mFound keyword SYMBOL, which has not special\n",
      "    parsing for now. please report this issue with the KEGG \n",
      "    identifier (7428              CDS       T01001) into github.com/bioservices. Thanks T.C.\u001b[0m\n",
      "  1%|          | 10/1328 [00:04<09:12,  2.39it/s]\u001b[33mWARNING [bioservices:keggparser:119]: \u001b[0m \u001b[34mFound keyword SYMBOL, which has not special\n",
      "    parsing for now. please report this issue with the KEGG \n",
      "    identifier (5295              CDS       T01001) into github.com/bioservices. Thanks T.C.\u001b[0m\n",
      "  1%|          | 11/1328 [00:05<13:13,  1.66it/s]\u001b[33mWARNING [bioservices:keggparser:119]: \u001b[0m \u001b[34mFound keyword SYMBOL, which has not special\n",
      "    parsing for now. please report this issue with the KEGG \n",
      "    identifier (4292              CDS       T01001) into github.com/bioservices. Thanks T.C.\u001b[0m\n",
      "  1%|          | 12/1328 [00:05<10:49,  2.03it/s]\u001b[33mWARNING [bioservices:keggparser:119]: \u001b[0m \u001b[34mFound keyword SYMBOL, which has not special\n",
      "    parsing for now. please report this issue with the KEGG \n",
      "    identifier (4914              CDS       T01001) into github.com/bioservices. Thanks T.C.\u001b[0m\n",
      "  1%|          | 13/1328 [00:06<10:02,  2.18it/s]\u001b[33mWARNING [bioservices:keggparser:119]: \u001b[0m \u001b[34mFound keyword SYMBOL, which has not special\n",
      "    parsing for now. please report this issue with the KEGG \n",
      "    identifier (5290              CDS       T01001) into github.com/bioservices. Thanks T.C.\u001b[0m\n",
      "  1%|          | 14/1328 [00:07<13:12,  1.66it/s]\u001b[33mWARNING [bioservices:keggparser:119]: \u001b[0m \u001b[34mFound keyword SYMBOL, which has not special\n",
      "    parsing for now. please report this issue with the KEGG \n",
      "    identifier (675               CDS       T01001) into github.com/bioservices. Thanks T.C.\u001b[0m\n",
      "  1%|          | 15/1328 [00:07<11:34,  1.89it/s]\u001b[33mWARNING [bioservices:keggparser:119]: \u001b[0m \u001b[34mFound keyword SYMBOL, which has not special\n",
      "    parsing for now. please report this issue with the KEGG \n",
      "    identifier (2261              CDS       T01001) into github.com/bioservices. Thanks T.C.\u001b[0m\n",
      "  1%|          | 16/1328 [00:07<09:52,  2.21it/s]\u001b[33mWARNING [bioservices:keggparser:119]: \u001b[0m \u001b[34mFound keyword SYMBOL, which has not special\n",
      "    parsing for now. please report this issue with the KEGG \n",
      "    identifier (3717              CDS       T01001) into github.com/bioservices. Thanks T.C.\u001b[0m\n",
      "  1%|▏         | 17/1328 [00:08<09:23,  2.33it/s]\u001b[33mWARNING [bioservices:keggparser:119]: \u001b[0m \u001b[34mFound keyword SYMBOL, which has not special\n",
      "    parsing for now. please report this issue with the KEGG \n",
      "    identifier (5979              CDS       T01001) into github.com/bioservices. Thanks T.C.\u001b[0m\n",
      "  1%|▏         | 18/1328 [00:08<08:03,  2.71it/s]\u001b[33mWARNING [bioservices:keggparser:119]: \u001b[0m \u001b[34mFound keyword SYMBOL, which has not special\n",
      "    parsing for now. please report this issue with the KEGG \n",
      "    identifier (5728              CDS       T01001) into github.com/bioservices. Thanks T.C.\u001b[0m\n",
      "  1%|▏         | 19/1328 [00:08<08:33,  2.55it/s]\u001b[33mWARNING [bioservices:keggparser:119]: \u001b[0m \u001b[34mFound keyword SYMBOL, which has not special\n",
      "    parsing for now. please report this issue with the KEGG \n",
      "    identifier (4089              CDS       T01001) into github.com/bioservices. Thanks T.C.\u001b[0m\n",
      "  2%|▏         | 20/1328 [00:09<07:53,  2.76it/s]\u001b[33mWARNING [bioservices:keggparser:119]: \u001b[0m \u001b[34mFound keyword SYMBOL, which has not special\n",
      "    parsing for now. please report this issue with the KEGG \n",
      "    identifier (4436              CDS       T01001) into github.com/bioservices. Thanks T.C.\u001b[0m\n",
      "  2%|▏         | 21/1328 [00:09<07:34,  2.88it/s]\u001b[33mWARNING [bioservices:keggparser:119]: \u001b[0m \u001b[34mFound keyword SYMBOL, which has not special\n",
      "    parsing for now. please report this issue with the KEGG \n",
      "    identifier (7249              CDS       T01001) into github.com/bioservices. Thanks T.C.\u001b[0m\n",
      "  2%|▏         | 22/1328 [00:09<07:21,  2.96it/s]\u001b[33mWARNING [bioservices:keggparser:119]: \u001b[0m \u001b[34mFound keyword SYMBOL, which has not special\n",
      "    parsing for now. please report this issue with the KEGG \n",
      "    identifier (2064              CDS       T01001) into github.com/bioservices. Thanks T.C.\u001b[0m\n",
      "  2%|▏         | 23/1328 [00:10<07:16,  2.99it/s]\u001b[33mWARNING [bioservices:keggparser:119]: \u001b[0m \u001b[34mFound keyword SYMBOL, which has not special\n",
      "    parsing for now. please report this issue with the KEGG \n",
      "    identifier (6654              CDS       T01001) into github.com/bioservices. Thanks T.C.\u001b[0m\n",
      "  2%|▏         | 24/1328 [00:10<09:03,  2.40it/s]\u001b[33mWARNING [bioservices:keggparser:119]: \u001b[0m \u001b[34mFound keyword SYMBOL, which has not special\n",
      "    parsing for now. please report this issue with the KEGG \n",
      "    identifier (7249              CDS       T01001) into github.com/bioservices. Thanks T.C.\u001b[0m\n",
      "  2%|▏         | 25/1328 [00:11<08:10,  2.66it/s]\u001b[33mWARNING [bioservices:keggparser:119]: \u001b[0m \u001b[34mFound keyword SYMBOL, which has not special\n",
      "    parsing for now. please report this issue with the KEGG \n",
      "    identifier (10498             CDS       T01001) into github.com/bioservices. Thanks T.C.\u001b[0m\n",
      "  2%|▏         | 26/1328 [00:11<07:25,  2.92it/s]\u001b[33mWARNING [bioservices:keggparser:119]: \u001b[0m \u001b[34mFound keyword SYMBOL, which has not special\n",
      "    parsing for now. please report this issue with the KEGG \n",
      "    identifier (29072             CDS       T01001) into github.com/bioservices. Thanks T.C.\u001b[0m\n",
      "  2%|▏         | 27/1328 [00:11<07:08,  3.04it/s]\u001b[33mWARNING [bioservices:keggparser:119]: \u001b[0m \u001b[34mFound keyword SYMBOL, which has not special\n",
      "    parsing for now. please report this issue with the KEGG \n",
      "    identifier (675               CDS       T01001) into github.com/bioservices. Thanks T.C.\u001b[0m\n",
      "  2%|▏         | 28/1328 [00:12<07:46,  2.79it/s]\u001b[33mWARNING [bioservices:keggparser:119]: \u001b[0m \u001b[34mFound keyword SYMBOL, which has not special\n",
      "    parsing for now. please report this issue with the KEGG \n",
      "    identifier (4089              CDS       T01001) into github.com/bioservices. Thanks T.C.\u001b[0m\n",
      "  2%|▏         | 29/1328 [00:12<07:13,  3.00it/s]\u001b[33mWARNING [bioservices:keggparser:119]: \u001b[0m \u001b[34mFound keyword SYMBOL, which has not special\n",
      "    parsing for now. please report this issue with the KEGG \n",
      "    identifier (7157              CDS       T01001) into github.com/bioservices. Thanks T.C.\u001b[0m\n"
     ]
    },
    {
     "name": "stderr",
     "output_type": "stream",
     "text": [
      "  2%|▏         | 30/1328 [00:12<08:00,  2.70it/s]\u001b[33mWARNING [bioservices:keggparser:119]: \u001b[0m \u001b[34mFound keyword SYMBOL, which has not special\n",
      "    parsing for now. please report this issue with the KEGG \n",
      "    identifier (3815              CDS       T01001) into github.com/bioservices. Thanks T.C.\u001b[0m\n",
      "  2%|▏         | 31/1328 [00:12<07:12,  3.00it/s]\u001b[33mWARNING [bioservices:keggparser:119]: \u001b[0m \u001b[34mFound keyword SYMBOL, which has not special\n",
      "    parsing for now. please report this issue with the KEGG \n",
      "    identifier (1387              CDS       T01001) into github.com/bioservices. Thanks T.C.\u001b[0m\n",
      "  2%|▏         | 32/1328 [00:13<08:30,  2.54it/s]\u001b[33mWARNING [bioservices:keggparser:119]: \u001b[0m \u001b[34mFound keyword SYMBOL, which has not special\n",
      "    parsing for now. please report this issue with the KEGG \n",
      "    identifier (2064              CDS       T01001) into github.com/bioservices. Thanks T.C.\u001b[0m\n",
      "  2%|▏         | 33/1328 [00:13<07:45,  2.78it/s]\u001b[33mWARNING [bioservices:keggparser:119]: \u001b[0m \u001b[34mFound keyword SYMBOL, which has not special\n",
      "    parsing for now. please report this issue with the KEGG \n",
      "    identifier (672               CDS       T01001) into github.com/bioservices. Thanks T.C.\u001b[0m\n",
      "  3%|▎         | 34/1328 [00:14<07:17,  2.96it/s]\u001b[33mWARNING [bioservices:keggparser:119]: \u001b[0m \u001b[34mFound keyword SYMBOL, which has not special\n",
      "    parsing for now. please report this issue with the KEGG \n",
      "    identifier (2322              CDS       T01001) into github.com/bioservices. Thanks T.C.\u001b[0m\n",
      "  3%|▎         | 35/1328 [00:14<06:52,  3.14it/s]\u001b[33mWARNING [bioservices:keggparser:119]: \u001b[0m \u001b[34mFound keyword SYMBOL, which has not special\n",
      "    parsing for now. please report this issue with the KEGG \n",
      "    identifier (7249              CDS       T01001) into github.com/bioservices. Thanks T.C.\u001b[0m\n",
      "  3%|▎         | 36/1328 [00:14<06:56,  3.10it/s]\u001b[33mWARNING [bioservices:keggparser:119]: \u001b[0m \u001b[34mFound keyword SYMBOL, which has not special\n",
      "    parsing for now. please report this issue with the KEGG \n",
      "    identifier (4088              CDS       T01001) into github.com/bioservices. Thanks T.C.\u001b[0m\n",
      "  3%|▎         | 37/1328 [00:14<06:44,  3.19it/s]\u001b[33mWARNING [bioservices:keggparser:119]: \u001b[0m \u001b[34mFound keyword SYMBOL, which has not special\n",
      "    parsing for now. please report this issue with the KEGG \n",
      "    identifier (4292              CDS       T01001) into github.com/bioservices. Thanks T.C.\u001b[0m\n",
      "  3%|▎         | 38/1328 [00:15<06:27,  3.33it/s]\u001b[33mWARNING [bioservices:keggparser:119]: \u001b[0m \u001b[34mFound keyword SYMBOL, which has not special\n",
      "    parsing for now. please report this issue with the KEGG \n",
      "    identifier (675               CDS       T01001) into github.com/bioservices. Thanks T.C.\u001b[0m\n",
      "  3%|▎         | 39/1328 [00:15<07:18,  2.94it/s]\u001b[33mWARNING [bioservices:keggparser:119]: \u001b[0m \u001b[34mFound keyword SYMBOL, which has not special\n",
      "    parsing for now. please report this issue with the KEGG \n",
      "    identifier (9817              CDS       T01001) into github.com/bioservices. Thanks T.C.\u001b[0m\n",
      "  3%|▎         | 40/1328 [00:15<06:35,  3.26it/s]\u001b[33mWARNING [bioservices:keggparser:119]: \u001b[0m \u001b[34mFound keyword SYMBOL, which has not special\n",
      "    parsing for now. please report this issue with the KEGG \n",
      "    identifier (3845              CDS       T01001) into github.com/bioservices. Thanks T.C.\u001b[0m\n",
      "  3%|▎         | 41/1328 [00:16<09:41,  2.21it/s]\u001b[33mWARNING [bioservices:keggparser:119]: \u001b[0m \u001b[34mFound keyword SYMBOL, which has not special\n",
      "    parsing for now. please report this issue with the KEGG \n",
      "    identifier (2068              CDS       T01001) into github.com/bioservices. Thanks T.C.\u001b[0m\n",
      "  3%|▎         | 42/1328 [00:16<08:10,  2.62it/s]\u001b[33mWARNING [bioservices:keggparser:119]: \u001b[0m \u001b[34mFound keyword SYMBOL, which has not special\n",
      "    parsing for now. please report this issue with the KEGG \n",
      "    identifier (27086             CDS       T01001) into github.com/bioservices. Thanks T.C.\u001b[0m\n",
      "  3%|▎         | 43/1328 [00:17<07:48,  2.74it/s]\u001b[33mWARNING [bioservices:keggparser:119]: \u001b[0m \u001b[34mFound keyword SYMBOL, which has not special\n",
      "    parsing for now. please report this issue with the KEGG \n",
      "    identifier (3845              CDS       T01001) into github.com/bioservices. Thanks T.C.\u001b[0m\n",
      "  3%|▎         | 44/1328 [00:17<09:53,  2.16it/s]\u001b[33mWARNING [bioservices:keggparser:119]: \u001b[0m \u001b[34mFound keyword SYMBOL, which has not special\n",
      "    parsing for now. please report this issue with the KEGG \n",
      "    identifier (1029              CDS       T01001) into github.com/bioservices. Thanks T.C.\u001b[0m\n",
      "  3%|▎         | 45/1328 [00:18<08:42,  2.46it/s]\u001b[33mWARNING [bioservices:keggparser:119]: \u001b[0m \u001b[34mFound keyword SYMBOL, which has not special\n",
      "    parsing for now. please report this issue with the KEGG \n",
      "    identifier (4851              CDS       T01001) into github.com/bioservices. Thanks T.C.\u001b[0m\n",
      "  3%|▎         | 46/1328 [00:18<08:02,  2.66it/s]\u001b[33mWARNING [bioservices:keggparser:119]: \u001b[0m \u001b[34mFound keyword SYMBOL, which has not special\n",
      "    parsing for now. please report this issue with the KEGG \n",
      "    identifier (672               CDS       T01001) into github.com/bioservices. Thanks T.C.\u001b[0m\n",
      "  4%|▎         | 47/1328 [00:18<07:21,  2.90it/s]\u001b[33mWARNING [bioservices:keggparser:119]: \u001b[0m \u001b[34mFound keyword SYMBOL, which has not special\n",
      "    parsing for now. please report this issue with the KEGG \n",
      "    identifier (1956              CDS       T01001) into github.com/bioservices. Thanks T.C.\u001b[0m\n",
      "  4%|▎         | 48/1328 [00:19<09:31,  2.24it/s]\u001b[33mWARNING [bioservices:keggparser:119]: \u001b[0m \u001b[34mFound keyword SYMBOL, which has not special\n",
      "    parsing for now. please report this issue with the KEGG \n",
      "    identifier (1956              CDS       T01001) into github.com/bioservices. Thanks T.C.\u001b[0m\n",
      "  4%|▎         | 49/1328 [00:20<10:02,  2.12it/s]\u001b[33mWARNING [bioservices:keggparser:119]: \u001b[0m \u001b[34mFound keyword SYMBOL, which has not special\n",
      "    parsing for now. please report this issue with the KEGG \n",
      "    identifier (238               CDS       T01001) into github.com/bioservices. Thanks T.C.\u001b[0m\n",
      "  4%|▍         | 50/1328 [00:20<08:25,  2.53it/s]\u001b[33mWARNING [bioservices:keggparser:119]: \u001b[0m \u001b[34mFound keyword SYMBOL, which has not special\n",
      "    parsing for now. please report this issue with the KEGG \n",
      "    identifier (7249              CDS       T01001) into github.com/bioservices. Thanks T.C.\u001b[0m\n",
      "  4%|▍         | 51/1328 [00:20<08:20,  2.55it/s]\u001b[33mWARNING [bioservices:keggparser:119]: \u001b[0m \u001b[34mFound keyword SYMBOL, which has not special\n",
      "    parsing for now. please report this issue with the KEGG \n",
      "    identifier (6794              CDS       T01001) into github.com/bioservices. Thanks T.C.\u001b[0m\n",
      "  4%|▍         | 52/1328 [00:20<07:18,  2.91it/s]\u001b[33mWARNING [bioservices:keggparser:119]: \u001b[0m \u001b[34mFound keyword SYMBOL, which has not special\n",
      "    parsing for now. please report this issue with the KEGG \n",
      "    identifier (2064              CDS       T01001) into github.com/bioservices. Thanks T.C.\u001b[0m\n",
      "  4%|▍         | 53/1328 [00:21<07:39,  2.77it/s]\u001b[33mWARNING [bioservices:keggparser:119]: \u001b[0m \u001b[34mFound keyword SYMBOL, which has not special\n",
      "    parsing for now. please report this issue with the KEGG \n",
      "    identifier (2130              CDS       T01001) into github.com/bioservices. Thanks T.C.\u001b[0m\n",
      "  4%|▍         | 54/1328 [00:21<06:43,  3.16it/s]\u001b[33mWARNING [bioservices:keggparser:119]: \u001b[0m \u001b[34mFound keyword SYMBOL, which has not special\n",
      "    parsing for now. please report this issue with the KEGG \n",
      "    identifier (673               CDS       T01001) into github.com/bioservices. Thanks T.C.\u001b[0m\n",
      "  4%|▍         | 55/1328 [00:22<08:55,  2.38it/s]\u001b[33mWARNING [bioservices:keggparser:119]: \u001b[0m \u001b[34mFound keyword SYMBOL, which has not special\n",
      "    parsing for now. please report this issue with the KEGG \n",
      "    identifier (5728              CDS       T01001) into github.com/bioservices. Thanks T.C.\u001b[0m\n",
      "  4%|▍         | 56/1328 [00:22<08:13,  2.58it/s]\u001b[33mWARNING [bioservices:keggparser:119]: \u001b[0m \u001b[34mFound keyword SYMBOL, which has not special\n",
      "    parsing for now. please report this issue with the KEGG \n",
      "    identifier (1956              CDS       T01001) into github.com/bioservices. Thanks T.C.\u001b[0m\n"
     ]
    },
    {
     "name": "stderr",
     "output_type": "stream",
     "text": [
      "  4%|▍         | 57/1328 [00:23<09:27,  2.24it/s]\u001b[33mWARNING [bioservices:keggparser:119]: \u001b[0m \u001b[34mFound keyword SYMBOL, which has not special\n",
      "    parsing for now. please report this issue with the KEGG \n",
      "    identifier (6608              CDS       T01001) into github.com/bioservices. Thanks T.C.\u001b[0m\n",
      "  4%|▍         | 58/1328 [00:23<08:00,  2.64it/s]\u001b[33mWARNING [bioservices:keggparser:119]: \u001b[0m \u001b[34mFound keyword SYMBOL, which has not special\n",
      "    parsing for now. please report this issue with the KEGG \n",
      "    identifier (3815              CDS       T01001) into github.com/bioservices. Thanks T.C.\u001b[0m\n",
      "  4%|▍         | 59/1328 [00:23<08:04,  2.62it/s]\u001b[33mWARNING [bioservices:keggparser:119]: \u001b[0m \u001b[34mFound keyword SYMBOL, which has not special\n",
      "    parsing for now. please report this issue with the KEGG \n",
      "    identifier (1956              CDS       T01001) into github.com/bioservices. Thanks T.C.\u001b[0m\n",
      "  5%|▍         | 60/1328 [00:24<09:06,  2.32it/s]\u001b[33mWARNING [bioservices:keggparser:119]: \u001b[0m \u001b[34mFound keyword SYMBOL, which has not special\n",
      "    parsing for now. please report this issue with the KEGG \n",
      "    identifier (7249              CDS       T01001) into github.com/bioservices. Thanks T.C.\u001b[0m\n",
      "  5%|▍         | 61/1328 [00:24<08:02,  2.63it/s]\u001b[33mWARNING [bioservices:keggparser:119]: \u001b[0m \u001b[34mFound keyword SYMBOL, which has not special\n",
      "    parsing for now. please report this issue with the KEGG \n",
      "    identifier (2130              CDS       T01001) into github.com/bioservices. Thanks T.C.\u001b[0m\n",
      "  5%|▍         | 62/1328 [00:24<07:25,  2.84it/s]\u001b[33mWARNING [bioservices:keggparser:119]: \u001b[0m \u001b[34mFound keyword SYMBOL, which has not special\n",
      "    parsing for now. please report this issue with the KEGG \n",
      "    identifier (2068              CDS       T01001) into github.com/bioservices. Thanks T.C.\u001b[0m\n",
      "  5%|▍         | 63/1328 [00:24<06:53,  3.06it/s]\u001b[33mWARNING [bioservices:keggparser:119]: \u001b[0m \u001b[34mFound keyword SYMBOL, which has not special\n",
      "    parsing for now. please report this issue with the KEGG \n",
      "    identifier (7113              CDS       T01001) into github.com/bioservices. Thanks T.C.\u001b[0m\n",
      "  5%|▍         | 64/1328 [00:25<06:36,  3.19it/s]\u001b[33mWARNING [bioservices:keggparser:119]: \u001b[0m \u001b[34mFound keyword SYMBOL, which has not special\n",
      "    parsing for now. please report this issue with the KEGG \n",
      "    identifier (7249              CDS       T01001) into github.com/bioservices. Thanks T.C.\u001b[0m\n",
      "  5%|▍         | 65/1328 [00:25<06:40,  3.15it/s]\u001b[33mWARNING [bioservices:keggparser:119]: \u001b[0m \u001b[34mFound keyword SYMBOL, which has not special\n",
      "    parsing for now. please report this issue with the KEGG \n",
      "    identifier (5159              CDS       T01001) into github.com/bioservices. Thanks T.C.\u001b[0m\n",
      "  5%|▍         | 66/1328 [00:25<06:48,  3.09it/s]\u001b[33mWARNING [bioservices:keggparser:119]: \u001b[0m \u001b[34mFound keyword SYMBOL, which has not special\n",
      "    parsing for now. please report this issue with the KEGG \n",
      "    identifier (7249              CDS       T01001) into github.com/bioservices. Thanks T.C.\u001b[0m\n",
      "  5%|▌         | 67/1328 [00:26<06:29,  3.24it/s]\u001b[33mWARNING [bioservices:keggparser:119]: \u001b[0m \u001b[34mFound keyword SYMBOL, which has not special\n",
      "    parsing for now. please report this issue with the KEGG \n",
      "    identifier (673               CDS       T01001) into github.com/bioservices. Thanks T.C.\u001b[0m\n",
      "  5%|▌         | 68/1328 [00:26<08:22,  2.51it/s]\u001b[33mWARNING [bioservices:keggparser:119]: \u001b[0m \u001b[34mFound keyword SYMBOL, which has not special\n",
      "    parsing for now. please report this issue with the KEGG \n",
      "    identifier (9817              CDS       T01001) into github.com/bioservices. Thanks T.C.\u001b[0m\n",
      "  5%|▌         | 69/1328 [00:27<07:22,  2.85it/s]\u001b[33mWARNING [bioservices:keggparser:119]: \u001b[0m \u001b[34mFound keyword SYMBOL, which has not special\n",
      "    parsing for now. please report this issue with the KEGG \n",
      "    identifier (673               CDS       T01001) into github.com/bioservices. Thanks T.C.\u001b[0m\n",
      "  5%|▌         | 70/1328 [00:27<09:10,  2.28it/s]\u001b[33mWARNING [bioservices:keggparser:119]: \u001b[0m \u001b[34mFound keyword SYMBOL, which has not special\n",
      "    parsing for now. please report this issue with the KEGG \n",
      "    identifier (5426              CDS       T01001) into github.com/bioservices. Thanks T.C.\u001b[0m\n",
      "  5%|▌         | 71/1328 [00:27<07:44,  2.70it/s]\u001b[33mWARNING [bioservices:keggparser:119]: \u001b[0m \u001b[34mFound keyword SYMBOL, which has not special\n",
      "    parsing for now. please report this issue with the KEGG \n",
      "    identifier (208               CDS       T01001) into github.com/bioservices. Thanks T.C.\u001b[0m\n",
      "  5%|▌         | 72/1328 [00:28<11:01,  1.90it/s]\u001b[33mWARNING [bioservices:keggparser:119]: \u001b[0m \u001b[34mFound keyword SYMBOL, which has not special\n",
      "    parsing for now. please report this issue with the KEGG \n",
      "    identifier (861               CDS       T01001) into github.com/bioservices. Thanks T.C.\u001b[0m\n",
      "  5%|▌         | 73/1328 [00:29<09:02,  2.31it/s]\u001b[33mWARNING [bioservices:keggparser:119]: \u001b[0m \u001b[34mFound keyword SYMBOL, which has not special\n",
      "    parsing for now. please report this issue with the KEGG \n",
      "    identifier (6098              CDS       T01001) into github.com/bioservices. Thanks T.C.\u001b[0m\n",
      "  6%|▌         | 74/1328 [00:29<08:18,  2.51it/s]\u001b[33mWARNING [bioservices:keggparser:119]: \u001b[0m \u001b[34mFound keyword SYMBOL, which has not special\n",
      "    parsing for now. please report this issue with the KEGG \n",
      "    identifier (861               CDS       T01001) into github.com/bioservices. Thanks T.C.\u001b[0m\n"
     ]
    },
    {
     "name": "stdout",
     "output_type": "stream",
     "text": [
      "no data for  ROS1\n"
     ]
    },
    {
     "name": "stderr",
     "output_type": "stream",
     "text": [
      "  6%|▌         | 75/1328 [00:29<07:28,  2.80it/s]\u001b[33mWARNING [bioservices:keggparser:119]: \u001b[0m \u001b[34mFound keyword SYMBOL, which has not special\n",
      "    parsing for now. please report this issue with the KEGG \n",
      "    identifier (672               CDS       T01001) into github.com/bioservices. Thanks T.C.\u001b[0m\n",
      "  6%|▌         | 76/1328 [00:29<07:14,  2.88it/s]\u001b[33mWARNING [bioservices:keggparser:119]: \u001b[0m \u001b[34mFound keyword SYMBOL, which has not special\n",
      "    parsing for now. please report this issue with the KEGG \n",
      "    identifier (3815              CDS       T01001) into github.com/bioservices. Thanks T.C.\u001b[0m\n",
      "  6%|▌         | 77/1328 [00:30<06:43,  3.10it/s]\u001b[33mWARNING [bioservices:keggparser:119]: \u001b[0m \u001b[34mFound keyword SYMBOL, which has not special\n",
      "    parsing for now. please report this issue with the KEGG \n",
      "    identifier (7113              CDS       T01001) into github.com/bioservices. Thanks T.C.\u001b[0m\n",
      "  6%|▌         | 78/1328 [00:30<06:36,  3.16it/s]\u001b[33mWARNING [bioservices:keggparser:119]: \u001b[0m \u001b[34mFound keyword SYMBOL, which has not special\n",
      "    parsing for now. please report this issue with the KEGG \n",
      "    identifier (3265              CDS       T01001) into github.com/bioservices. Thanks T.C.\u001b[0m\n",
      "  6%|▌         | 79/1328 [00:31<09:03,  2.30it/s]\u001b[33mWARNING [bioservices:keggparser:119]: \u001b[0m \u001b[34mFound keyword SYMBOL, which has not special\n",
      "    parsing for now. please report this issue with the KEGG \n",
      "    identifier (7157              CDS       T01001) into github.com/bioservices. Thanks T.C.\u001b[0m\n",
      "  6%|▌         | 80/1328 [00:31<08:56,  2.33it/s]\u001b[33mWARNING [bioservices:keggparser:119]: \u001b[0m \u001b[34mFound keyword SYMBOL, which has not special\n",
      "    parsing for now. please report this issue with the KEGG \n",
      "    identifier (25                CDS       T01001) into github.com/bioservices. Thanks T.C.\u001b[0m\n",
      "  6%|▌         | 81/1328 [00:31<07:52,  2.64it/s]\u001b[33mWARNING [bioservices:keggparser:119]: \u001b[0m \u001b[34mFound keyword SYMBOL, which has not special\n",
      "    parsing for now. please report this issue with the KEGG \n",
      "    identifier (1029              CDS       T01001) into github.com/bioservices. Thanks T.C.\u001b[0m\n",
      "  6%|▌         | 82/1328 [00:32<07:45,  2.67it/s]\u001b[33mWARNING [bioservices:keggparser:119]: \u001b[0m \u001b[34mFound keyword SYMBOL, which has not special\n",
      "    parsing for now. please report this issue with the KEGG \n",
      "    identifier (5605              CDS       T01001) into github.com/bioservices. Thanks T.C.\u001b[0m\n",
      "  6%|▋         | 83/1328 [00:32<09:33,  2.17it/s]\u001b[33mWARNING [bioservices:keggparser:119]: \u001b[0m \u001b[34mFound keyword SYMBOL, which has not special\n",
      "    parsing for now. please report this issue with the KEGG \n",
      "    identifier (672               CDS       T01001) into github.com/bioservices. Thanks T.C.\u001b[0m\n",
      "  6%|▋         | 84/1328 [00:33<08:06,  2.56it/s]\u001b[33mWARNING [bioservices:keggparser:119]: \u001b[0m \u001b[34mFound keyword SYMBOL, which has not special\n",
      "    parsing for now. please report this issue with the KEGG \n",
      "    identifier (5879              CDS       T01001) into github.com/bioservices. Thanks T.C.\u001b[0m\n",
      "  6%|▋         | 85/1328 [00:33<09:08,  2.27it/s]\u001b[33mWARNING [bioservices:keggparser:119]: \u001b[0m \u001b[34mFound keyword SYMBOL, which has not special\n",
      "    parsing for now. please report this issue with the KEGG \n",
      "    identifier (2322              CDS       T01001) into github.com/bioservices. Thanks T.C.\u001b[0m\n",
      "  6%|▋         | 86/1328 [00:33<07:48,  2.65it/s]\u001b[33mWARNING [bioservices:keggparser:119]: \u001b[0m \u001b[34mFound keyword SYMBOL, which has not special\n",
      "    parsing for now. please report this issue with the KEGG \n",
      "    identifier (8405              CDS       T01001) into github.com/bioservices. Thanks T.C.\u001b[0m\n",
      "  7%|▋         | 87/1328 [00:34<07:27,  2.77it/s]\u001b[33mWARNING [bioservices:keggparser:119]: \u001b[0m \u001b[34mFound keyword SYMBOL, which has not special\n",
      "    parsing for now. please report this issue with the KEGG \n",
      "    identifier (2475              CDS       T01001) into github.com/bioservices. Thanks T.C.\u001b[0m\n",
      "  7%|▋         | 88/1328 [00:34<08:42,  2.37it/s]\u001b[33mWARNING [bioservices:keggparser:119]: \u001b[0m \u001b[34mFound keyword SYMBOL, which has not special\n",
      "    parsing for now. please report this issue with the KEGG \n",
      "    identifier (2956              CDS       T01001) into github.com/bioservices. Thanks T.C.\u001b[0m\n",
      "  7%|▋         | 89/1328 [00:35<07:32,  2.74it/s]\u001b[33mWARNING [bioservices:keggparser:119]: \u001b[0m \u001b[34mFound keyword SYMBOL, which has not special\n",
      "    parsing for now. please report this issue with the KEGG \n",
      "    identifier (3815              CDS       T01001) into github.com/bioservices. Thanks T.C.\u001b[0m\n",
      "  7%|▋         | 90/1328 [00:35<07:27,  2.77it/s]\u001b[33mWARNING [bioservices:keggparser:119]: \u001b[0m \u001b[34mFound keyword SYMBOL, which has not special\n",
      "    parsing for now. please report this issue with the KEGG \n",
      "    identifier (673               CDS       T01001) into github.com/bioservices. Thanks T.C.\u001b[0m\n",
      "  7%|▋         | 91/1328 [00:35<08:27,  2.44it/s]\u001b[33mWARNING [bioservices:keggparser:119]: \u001b[0m \u001b[34mFound keyword SYMBOL, which has not special\n",
      "    parsing for now. please report this issue with the KEGG \n",
      "    identifier (672               CDS       T01001) into github.com/bioservices. Thanks T.C.\u001b[0m\n",
      "  7%|▋         | 92/1328 [00:36<07:25,  2.77it/s]\u001b[33mWARNING [bioservices:keggparser:119]: \u001b[0m \u001b[34mFound keyword SYMBOL, which has not special\n",
      "    parsing for now. please report this issue with the KEGG \n",
      "    identifier (673               CDS       T01001) into github.com/bioservices. Thanks T.C.\u001b[0m\n",
      "  7%|▋         | 93/1328 [00:36<09:03,  2.27it/s]\u001b[33mWARNING [bioservices:keggparser:119]: \u001b[0m \u001b[34mFound keyword SYMBOL, which has not special\n",
      "    parsing for now. please report this issue with the KEGG \n",
      "    identifier (100271849         CDS       T01001) into github.com/bioservices. Thanks T.C.\u001b[0m\n",
      "  7%|▋         | 94/1328 [00:36<07:37,  2.70it/s]\u001b[33mWARNING [bioservices:keggparser:119]: \u001b[0m \u001b[34mFound keyword SYMBOL, which has not special\n",
      "    parsing for now. please report this issue with the KEGG \n",
      "    identifier (7157              CDS       T01001) into github.com/bioservices. Thanks T.C.\u001b[0m\n",
      "  7%|▋         | 95/1328 [00:37<08:42,  2.36it/s]\u001b[33mWARNING [bioservices:keggparser:119]: \u001b[0m \u001b[34mFound keyword SYMBOL, which has not special\n",
      "    parsing for now. please report this issue with the KEGG \n",
      "    identifier (1956              CDS       T01001) into github.com/bioservices. Thanks T.C.\u001b[0m\n",
      "  7%|▋         | 96/1328 [00:38<09:31,  2.16it/s]\u001b[33mWARNING [bioservices:keggparser:119]: \u001b[0m \u001b[34mFound keyword SYMBOL, which has not special\n",
      "    parsing for now. please report this issue with the KEGG \n",
      "    identifier (5728              CDS       T01001) into github.com/bioservices. Thanks T.C.\u001b[0m\n",
      "  7%|▋         | 97/1328 [00:38<08:36,  2.38it/s]\u001b[33mWARNING [bioservices:keggparser:119]: \u001b[0m \u001b[34mFound keyword SYMBOL, which has not special\n",
      "    parsing for now. please report this issue with the KEGG \n",
      "    identifier (1956              CDS       T01001) into github.com/bioservices. Thanks T.C.\u001b[0m\n",
      "  7%|▋         | 98/1328 [00:38<09:32,  2.15it/s]\u001b[33mWARNING [bioservices:keggparser:119]: \u001b[0m \u001b[34mFound keyword SYMBOL, which has not special\n",
      "    parsing for now. please report this issue with the KEGG \n",
      "    identifier (4792              CDS       T01001) into github.com/bioservices. Thanks T.C.\u001b[0m\n",
      "  7%|▋         | 99/1328 [00:39<09:09,  2.24it/s]\u001b[33mWARNING [bioservices:keggparser:119]: \u001b[0m \u001b[34mFound keyword SYMBOL, which has not special\n",
      "    parsing for now. please report this issue with the KEGG \n",
      "    identifier (4613              CDS       T01001) into github.com/bioservices. Thanks T.C.\u001b[0m\n",
      "  8%|▊         | 100/1328 [00:39<07:37,  2.69it/s]\u001b[33mWARNING [bioservices:keggparser:119]: \u001b[0m \u001b[34mFound keyword SYMBOL, which has not special\n",
      "    parsing for now. please report this issue with the KEGG \n",
      "    identifier (6794              CDS       T01001) into github.com/bioservices. Thanks T.C.\u001b[0m\n",
      "  8%|▊         | 101/1328 [00:39<07:38,  2.67it/s]\u001b[33mWARNING [bioservices:keggparser:119]: \u001b[0m \u001b[34mFound keyword SYMBOL, which has not special\n",
      "    parsing for now. please report this issue with the KEGG \n",
      "    identifier (3791              CDS       T01001) into github.com/bioservices. Thanks T.C.\u001b[0m\n"
     ]
    },
    {
     "name": "stderr",
     "output_type": "stream",
     "text": [
      "  8%|▊         | 102/1328 [00:40<07:02,  2.90it/s]\u001b[33mWARNING [bioservices:keggparser:119]: \u001b[0m \u001b[34mFound keyword SYMBOL, which has not special\n",
      "    parsing for now. please report this issue with the KEGG \n",
      "    identifier (5728              CDS       T01001) into github.com/bioservices. Thanks T.C.\u001b[0m\n",
      "  8%|▊         | 103/1328 [00:40<07:17,  2.80it/s]\u001b[33mWARNING [bioservices:keggparser:119]: \u001b[0m \u001b[34mFound keyword SYMBOL, which has not special\n",
      "    parsing for now. please report this issue with the KEGG \n",
      "    identifier (1956              CDS       T01001) into github.com/bioservices. Thanks T.C.\u001b[0m\n",
      "  8%|▊         | 104/1328 [00:41<08:27,  2.41it/s]\u001b[33mWARNING [bioservices:keggparser:119]: \u001b[0m \u001b[34mFound keyword SYMBOL, which has not special\n",
      "    parsing for now. please report this issue with the KEGG \n",
      "    identifier (54790             CDS       T01001) into github.com/bioservices. Thanks T.C.\u001b[0m\n",
      "  8%|▊         | 105/1328 [00:41<07:03,  2.89it/s]"
     ]
    },
    {
     "name": "stdout",
     "output_type": "stream",
     "text": [
      "no data for  TET2\n"
     ]
    },
    {
     "name": "stderr",
     "output_type": "stream",
     "text": [
      "\u001b[33mWARNING [bioservices:keggparser:119]: \u001b[0m \u001b[34mFound keyword SYMBOL, which has not special\n",
      "    parsing for now. please report this issue with the KEGG \n",
      "    identifier (861               CDS       T01001) into github.com/bioservices. Thanks T.C.\u001b[0m\n",
      "  8%|▊         | 106/1328 [00:41<07:22,  2.76it/s]\u001b[33mWARNING [bioservices:keggparser:119]: \u001b[0m \u001b[34mFound keyword SYMBOL, which has not special\n",
      "    parsing for now. please report this issue with the KEGG \n",
      "    identifier (54790             CDS       T01001) into github.com/bioservices. Thanks T.C.\u001b[0m\n",
      "  8%|▊         | 107/1328 [00:41<06:26,  3.16it/s]"
     ]
    },
    {
     "name": "stdout",
     "output_type": "stream",
     "text": [
      "no data for  TET2\n"
     ]
    },
    {
     "name": "stderr",
     "output_type": "stream",
     "text": [
      "\u001b[33mWARNING [bioservices:keggparser:119]: \u001b[0m \u001b[34mFound keyword SYMBOL, which has not special\n",
      "    parsing for now. please report this issue with the KEGG \n",
      "    identifier (7428              CDS       T01001) into github.com/bioservices. Thanks T.C.\u001b[0m\n",
      "  8%|▊         | 108/1328 [00:42<06:43,  3.02it/s]\u001b[33mWARNING [bioservices:keggparser:119]: \u001b[0m \u001b[34mFound keyword SYMBOL, which has not special\n",
      "    parsing for now. please report this issue with the KEGG \n",
      "    identifier (672               CDS       T01001) into github.com/bioservices. Thanks T.C.\u001b[0m\n",
      "  8%|▊         | 109/1328 [00:42<06:11,  3.28it/s]\u001b[33mWARNING [bioservices:keggparser:119]: \u001b[0m \u001b[34mFound keyword SYMBOL, which has not special\n",
      "    parsing for now. please report this issue with the KEGG \n",
      "    identifier (673               CDS       T01001) into github.com/bioservices. Thanks T.C.\u001b[0m\n",
      "  8%|▊         | 110/1328 [00:43<08:08,  2.49it/s]\u001b[33mWARNING [bioservices:keggparser:119]: \u001b[0m \u001b[34mFound keyword SYMBOL, which has not special\n",
      "    parsing for now. please report this issue with the KEGG \n",
      "    identifier (5979              CDS       T01001) into github.com/bioservices. Thanks T.C.\u001b[0m\n",
      "  8%|▊         | 111/1328 [00:43<07:04,  2.87it/s]\u001b[33mWARNING [bioservices:keggparser:119]: \u001b[0m \u001b[34mFound keyword SYMBOL, which has not special\n",
      "    parsing for now. please report this issue with the KEGG \n",
      "    identifier (7157              CDS       T01001) into github.com/bioservices. Thanks T.C.\u001b[0m\n",
      "  8%|▊         | 112/1328 [00:43<08:12,  2.47it/s]\u001b[33mWARNING [bioservices:keggparser:119]: \u001b[0m \u001b[34mFound keyword SYMBOL, which has not special\n",
      "    parsing for now. please report this issue with the KEGG \n",
      "    identifier (1999              CDS       T01001) into github.com/bioservices. Thanks T.C.\u001b[0m\n",
      "  9%|▊         | 113/1328 [00:44<06:56,  2.92it/s]"
     ]
    },
    {
     "name": "stdout",
     "output_type": "stream",
     "text": [
      "no data for  ELF3\n"
     ]
    },
    {
     "name": "stderr",
     "output_type": "stream",
     "text": [
      "\u001b[33mWARNING [bioservices:keggparser:119]: \u001b[0m \u001b[34mFound keyword SYMBOL, which has not special\n",
      "    parsing for now. please report this issue with the KEGG \n",
      "    identifier (3845              CDS       T01001) into github.com/bioservices. Thanks T.C.\u001b[0m\n",
      "  9%|▊         | 114/1328 [00:45<10:01,  2.02it/s]\u001b[33mWARNING [bioservices:keggparser:119]: \u001b[0m \u001b[34mFound keyword SYMBOL, which has not special\n",
      "    parsing for now. please report this issue with the KEGG \n",
      "    identifier (7157              CDS       T01001) into github.com/bioservices. Thanks T.C.\u001b[0m\n",
      "  9%|▊         | 115/1328 [00:45<09:33,  2.12it/s]\u001b[33mWARNING [bioservices:keggparser:119]: \u001b[0m \u001b[34mFound keyword SYMBOL, which has not special\n",
      "    parsing for now. please report this issue with the KEGG \n",
      "    identifier (5156              CDS       T01001) into github.com/bioservices. Thanks T.C.\u001b[0m\n",
      "  9%|▊         | 116/1328 [00:45<08:28,  2.38it/s]\u001b[33mWARNING [bioservices:keggparser:119]: \u001b[0m \u001b[34mFound keyword SYMBOL, which has not special\n",
      "    parsing for now. please report this issue with the KEGG \n",
      "    identifier (675               CDS       T01001) into github.com/bioservices. Thanks T.C.\u001b[0m\n",
      "  9%|▉         | 117/1328 [00:46<08:28,  2.38it/s]\u001b[33mWARNING [bioservices:keggparser:119]: \u001b[0m \u001b[34mFound keyword SYMBOL, which has not special\n",
      "    parsing for now. please report this issue with the KEGG \n",
      "    identifier (2475              CDS       T01001) into github.com/bioservices. Thanks T.C.\u001b[0m\n",
      "  9%|▉         | 118/1328 [00:46<09:35,  2.10it/s]\u001b[33mWARNING [bioservices:keggparser:119]: \u001b[0m \u001b[34mFound keyword SYMBOL, which has not special\n",
      "    parsing for now. please report this issue with the KEGG \n",
      "    identifier (5728              CDS       T01001) into github.com/bioservices. Thanks T.C.\u001b[0m\n",
      "  9%|▉         | 119/1328 [00:47<08:54,  2.26it/s]\u001b[33mWARNING [bioservices:keggparser:119]: \u001b[0m \u001b[34mFound keyword SYMBOL, which has not special\n",
      "    parsing for now. please report this issue with the KEGG \n",
      "    identifier (4851              CDS       T01001) into github.com/bioservices. Thanks T.C.\u001b[0m\n",
      "  9%|▉         | 120/1328 [00:47<07:49,  2.57it/s]\u001b[33mWARNING [bioservices:keggparser:119]: \u001b[0m \u001b[34mFound keyword SYMBOL, which has not special\n",
      "    parsing for now. please report this issue with the KEGG \n",
      "    identifier (5537              CDS       T01001) into github.com/bioservices. Thanks T.C.\u001b[0m\n",
      "  9%|▉         | 121/1328 [00:47<07:41,  2.61it/s]\u001b[33mWARNING [bioservices:keggparser:119]: \u001b[0m \u001b[34mFound keyword SYMBOL, which has not special\n",
      "    parsing for now. please report this issue with the KEGG \n",
      "    identifier (841               CDS       T01001) into github.com/bioservices. Thanks T.C.\u001b[0m\n"
     ]
    },
    {
     "name": "stdout",
     "output_type": "stream",
     "text": [
      "no data for  PPP6C\n"
     ]
    },
    {
     "name": "stderr",
     "output_type": "stream",
     "text": [
      "  9%|▉         | 122/1328 [00:48<07:56,  2.53it/s]\u001b[33mWARNING [bioservices:keggparser:119]: \u001b[0m \u001b[34mFound keyword SYMBOL, which has not special\n",
      "    parsing for now. please report this issue with the KEGG \n",
      "    identifier (675               CDS       T01001) into github.com/bioservices. Thanks T.C.\u001b[0m\n",
      "  9%|▉         | 123/1328 [00:48<07:50,  2.56it/s]\u001b[33mWARNING [bioservices:keggparser:119]: \u001b[0m \u001b[34mFound keyword SYMBOL, which has not special\n",
      "    parsing for now. please report this issue with the KEGG \n",
      "    identifier (4352              CDS       T01001) into github.com/bioservices. Thanks T.C.\u001b[0m\n",
      "  9%|▉         | 124/1328 [00:48<06:48,  2.95it/s]\u001b[33mWARNING [bioservices:keggparser:119]: \u001b[0m \u001b[34mFound keyword SYMBOL, which has not special\n",
      "    parsing for now. please report this issue with the KEGG \n",
      "    identifier (2263              CDS       T01001) into github.com/bioservices. Thanks T.C.\u001b[0m\n",
      "  9%|▉         | 125/1328 [00:49<07:11,  2.79it/s]\u001b[33mWARNING [bioservices:keggparser:119]: \u001b[0m \u001b[34mFound keyword SYMBOL, which has not special\n",
      "    parsing for now. please report this issue with the KEGG \n",
      "    identifier (369               CDS       T01001) into github.com/bioservices. Thanks T.C.\u001b[0m\n",
      "  9%|▉         | 126/1328 [00:49<07:07,  2.81it/s]\u001b[33mWARNING [bioservices:keggparser:119]: \u001b[0m \u001b[34mFound keyword SYMBOL, which has not special\n",
      "    parsing for now. please report this issue with the KEGG \n",
      "    identifier (5159              CDS       T01001) into github.com/bioservices. Thanks T.C.\u001b[0m\n",
      " 10%|▉         | 127/1328 [00:49<06:39,  3.01it/s]\u001b[33mWARNING [bioservices:keggparser:119]: \u001b[0m \u001b[34mFound keyword SYMBOL, which has not special\n",
      "    parsing for now. please report this issue with the KEGG \n",
      "    identifier (2322              CDS       T01001) into github.com/bioservices. Thanks T.C.\u001b[0m\n",
      " 10%|▉         | 128/1328 [00:50<06:28,  3.09it/s]\u001b[33mWARNING [bioservices:keggparser:119]: \u001b[0m \u001b[34mFound keyword SYMBOL, which has not special\n",
      "    parsing for now. please report this issue with the KEGG \n",
      "    identifier (3717              CDS       T01001) into github.com/bioservices. Thanks T.C.\u001b[0m\n",
      " 10%|▉         | 129/1328 [00:50<06:30,  3.07it/s]\u001b[33mWARNING [bioservices:keggparser:119]: \u001b[0m \u001b[34mFound keyword SYMBOL, which has not special\n",
      "    parsing for now. please report this issue with the KEGG \n",
      "    identifier (1029              CDS       T01001) into github.com/bioservices. Thanks T.C.\u001b[0m\n",
      " 10%|▉         | 130/1328 [00:50<06:20,  3.15it/s]\u001b[33mWARNING [bioservices:keggparser:119]: \u001b[0m \u001b[34mFound keyword SYMBOL, which has not special\n",
      "    parsing for now. please report this issue with the KEGG \n",
      "    identifier (5892              CDS       T01001) into github.com/bioservices. Thanks T.C.\u001b[0m\n",
      " 10%|▉         | 131/1328 [00:51<05:58,  3.34it/s]\u001b[33mWARNING [bioservices:keggparser:119]: \u001b[0m \u001b[34mFound keyword SYMBOL, which has not special\n",
      "    parsing for now. please report this issue with the KEGG \n",
      "    identifier (4233              CDS       T01001) into github.com/bioservices. Thanks T.C.\u001b[0m\n",
      " 10%|▉         | 132/1328 [00:51<06:29,  3.07it/s]\u001b[33mWARNING [bioservices:keggparser:119]: \u001b[0m \u001b[34mFound keyword SYMBOL, which has not special\n",
      "    parsing for now. please report this issue with the KEGG \n",
      "    identifier (7428              CDS       T01001) into github.com/bioservices. Thanks T.C.\u001b[0m\n",
      " 10%|█         | 133/1328 [00:51<05:52,  3.39it/s]\u001b[33mWARNING [bioservices:keggparser:119]: \u001b[0m \u001b[34mFound keyword SYMBOL, which has not special\n",
      "    parsing for now. please report this issue with the KEGG \n",
      "    identifier (672               CDS       T01001) into github.com/bioservices. Thanks T.C.\u001b[0m\n",
      " 10%|█         | 134/1328 [00:51<06:16,  3.17it/s]\u001b[33mWARNING [bioservices:keggparser:119]: \u001b[0m \u001b[34mFound keyword SYMBOL, which has not special\n",
      "    parsing for now. please report this issue with the KEGG \n",
      "    identifier (4771              CDS       T01001) into github.com/bioservices. Thanks T.C.\u001b[0m\n",
      " 10%|█         | 135/1328 [00:52<05:40,  3.50it/s]\u001b[33mWARNING [bioservices:keggparser:119]: \u001b[0m \u001b[34mFound keyword SYMBOL, which has not special\n",
      "    parsing for now. please report this issue with the KEGG \n",
      "    identifier (9968              CDS       T01001) into github.com/bioservices. Thanks T.C.\u001b[0m\n",
      " 10%|█         | 136/1328 [00:52<06:00,  3.30it/s]\u001b[33mWARNING [bioservices:keggparser:119]: \u001b[0m \u001b[34mFound keyword SYMBOL, which has not special\n",
      "    parsing for now. please report this issue with the KEGG \n",
      "    identifier (5604              CDS       T01001) into github.com/bioservices. Thanks T.C.\u001b[0m\n",
      " 10%|█         | 137/1328 [00:53<08:30,  2.33it/s]\u001b[33mWARNING [bioservices:keggparser:119]: \u001b[0m \u001b[34mFound keyword SYMBOL, which has not special\n",
      "    parsing for now. please report this issue with the KEGG \n",
      "    identifier (3717              CDS       T01001) into github.com/bioservices. Thanks T.C.\u001b[0m\n",
      " 10%|█         | 138/1328 [00:53<07:42,  2.57it/s]\u001b[33mWARNING [bioservices:keggparser:119]: \u001b[0m \u001b[34mFound keyword SYMBOL, which has not special\n",
      "    parsing for now. please report this issue with the KEGG \n",
      "    identifier (7046              CDS       T01001) into github.com/bioservices. Thanks T.C.\u001b[0m\n",
      " 10%|█         | 139/1328 [00:53<07:26,  2.66it/s]\u001b[33mWARNING [bioservices:keggparser:119]: \u001b[0m \u001b[34mFound keyword SYMBOL, which has not special\n",
      "    parsing for now. please report this issue with the KEGG \n",
      "    identifier (9968              CDS       T01001) into github.com/bioservices. Thanks T.C.\u001b[0m\n",
      " 11%|█         | 140/1328 [00:54<06:22,  3.11it/s]\u001b[33mWARNING [bioservices:keggparser:119]: \u001b[0m \u001b[34mFound keyword SYMBOL, which has not special\n",
      "    parsing for now. please report this issue with the KEGG \n",
      "    identifier (5604              CDS       T01001) into github.com/bioservices. Thanks T.C.\u001b[0m\n",
      " 11%|█         | 141/1328 [00:54<09:37,  2.06it/s]\u001b[33mWARNING [bioservices:keggparser:119]: \u001b[0m \u001b[34mFound keyword SYMBOL, which has not special\n",
      "    parsing for now. please report this issue with the KEGG \n",
      "    identifier (672               CDS       T01001) into github.com/bioservices. Thanks T.C.\u001b[0m\n",
      " 11%|█         | 142/1328 [00:55<08:07,  2.43it/s]\u001b[33mWARNING [bioservices:keggparser:119]: \u001b[0m \u001b[34mFound keyword SYMBOL, which has not special\n",
      "    parsing for now. please report this issue with the KEGG \n",
      "    identifier (672               CDS       T01001) into github.com/bioservices. Thanks T.C.\u001b[0m\n",
      " 11%|█         | 143/1328 [00:55<07:52,  2.51it/s]\u001b[33mWARNING [bioservices:keggparser:119]: \u001b[0m \u001b[34mFound keyword SYMBOL, which has not special\n",
      "    parsing for now. please report this issue with the KEGG \n",
      "    identifier (3815              CDS       T01001) into github.com/bioservices. Thanks T.C.\u001b[0m\n",
      " 11%|█         | 144/1328 [00:55<06:58,  2.83it/s]\u001b[33mWARNING [bioservices:keggparser:119]: \u001b[0m \u001b[34mFound keyword SYMBOL, which has not special\n",
      "    parsing for now. please report this issue with the KEGG \n",
      "    identifier (2064              CDS       T01001) into github.com/bioservices. Thanks T.C.\u001b[0m\n",
      " 11%|█         | 145/1328 [00:56<07:06,  2.77it/s]\u001b[33mWARNING [bioservices:keggparser:119]: \u001b[0m \u001b[34mFound keyword SYMBOL, which has not special\n",
      "    parsing for now. please report this issue with the KEGG \n",
      "    identifier (7428              CDS       T01001) into github.com/bioservices. Thanks T.C.\u001b[0m\n",
      " 11%|█         | 146/1328 [00:56<06:11,  3.18it/s]\u001b[33mWARNING [bioservices:keggparser:119]: \u001b[0m \u001b[34mFound keyword SYMBOL, which has not special\n",
      "    parsing for now. please report this issue with the KEGG \n",
      "    identifier (7015              CDS       T01001) into github.com/bioservices. Thanks T.C.\u001b[0m\n",
      " 11%|█         | 147/1328 [00:56<06:28,  3.04it/s]\u001b[33mWARNING [bioservices:keggparser:119]: \u001b[0m \u001b[34mFound keyword SYMBOL, which has not special\n",
      "    parsing for now. please report this issue with the KEGG \n",
      "    identifier (7428              CDS       T01001) into github.com/bioservices. Thanks T.C.\u001b[0m\n",
      " 11%|█         | 148/1328 [00:56<05:44,  3.42it/s]\u001b[33mWARNING [bioservices:keggparser:119]: \u001b[0m \u001b[34mFound keyword SYMBOL, which has not special\n",
      "    parsing for now. please report this issue with the KEGG \n",
      "    identifier (6416              CDS       T01001) into github.com/bioservices. Thanks T.C.\u001b[0m\n"
     ]
    },
    {
     "name": "stderr",
     "output_type": "stream",
     "text": [
      " 11%|█         | 149/1328 [00:57<06:32,  3.01it/s]\u001b[33mWARNING [bioservices:keggparser:119]: \u001b[0m \u001b[34mFound keyword SYMBOL, which has not special\n",
      "    parsing for now. please report this issue with the KEGG \n",
      "    identifier (2072              CDS       T01001) into github.com/bioservices. Thanks T.C.\u001b[0m\n",
      " 11%|█▏        | 150/1328 [00:57<05:49,  3.37it/s]\u001b[33mWARNING [bioservices:keggparser:119]: \u001b[0m \u001b[34mFound keyword SYMBOL, which has not special\n",
      "    parsing for now. please report this issue with the KEGG \n",
      "    identifier (4088              CDS       T01001) into github.com/bioservices. Thanks T.C.\u001b[0m\n",
      " 11%|█▏        | 151/1328 [00:58<06:31,  3.01it/s]\u001b[33mWARNING [bioservices:keggparser:119]: \u001b[0m \u001b[34mFound keyword SYMBOL, which has not special\n",
      "    parsing for now. please report this issue with the KEGG \n",
      "    identifier (7428              CDS       T01001) into github.com/bioservices. Thanks T.C.\u001b[0m\n",
      " 11%|█▏        | 152/1328 [00:58<05:50,  3.36it/s]\u001b[33mWARNING [bioservices:keggparser:119]: \u001b[0m \u001b[34mFound keyword SYMBOL, which has not special\n",
      "    parsing for now. please report this issue with the KEGG \n",
      "    identifier (672               CDS       T01001) into github.com/bioservices. Thanks T.C.\u001b[0m\n",
      " 12%|█▏        | 153/1328 [00:58<06:11,  3.16it/s]\u001b[33mWARNING [bioservices:keggparser:119]: \u001b[0m \u001b[34mFound keyword SYMBOL, which has not special\n",
      "    parsing for now. please report this issue with the KEGG \n",
      "    identifier (4921              CDS       T01001) into github.com/bioservices. Thanks T.C.\u001b[0m\n",
      " 12%|█▏        | 154/1328 [00:58<05:33,  3.53it/s]"
     ]
    },
    {
     "name": "stdout",
     "output_type": "stream",
     "text": [
      "no data for  DDR2\n"
     ]
    },
    {
     "name": "stderr",
     "output_type": "stream",
     "text": [
      "\u001b[33mWARNING [bioservices:keggparser:119]: \u001b[0m \u001b[34mFound keyword SYMBOL, which has not special\n",
      "    parsing for now. please report this issue with the KEGG \n",
      "    identifier (2099              CDS       T01001) into github.com/bioservices. Thanks T.C.\u001b[0m\n",
      " 12%|█▏        | 155/1328 [00:59<06:07,  3.19it/s]\u001b[33mWARNING [bioservices:keggparser:119]: \u001b[0m \u001b[34mFound keyword SYMBOL, which has not special\n",
      "    parsing for now. please report this issue with the KEGG \n",
      "    identifier (5518              CDS       T01001) into github.com/bioservices. Thanks T.C.\u001b[0m\n",
      " 12%|█▏        | 156/1328 [00:59<05:50,  3.34it/s]\u001b[33mWARNING [bioservices:keggparser:119]: \u001b[0m \u001b[34mFound keyword SYMBOL, which has not special\n",
      "    parsing for now. please report this issue with the KEGG \n",
      "    identifier (5537              CDS       T01001) into github.com/bioservices. Thanks T.C.\u001b[0m\n",
      " 12%|█▏        | 157/1328 [00:59<05:43,  3.41it/s]"
     ]
    },
    {
     "name": "stdout",
     "output_type": "stream",
     "text": [
      "no data for  PPP6C\n"
     ]
    },
    {
     "name": "stderr",
     "output_type": "stream",
     "text": [
      "\u001b[33mWARNING [bioservices:keggparser:119]: \u001b[0m \u001b[34mFound keyword SYMBOL, which has not special\n",
      "    parsing for now. please report this issue with the KEGG \n",
      "    identifier (5879              CDS       T01001) into github.com/bioservices. Thanks T.C.\u001b[0m\n",
      " 12%|█▏        | 158/1328 [01:00<06:48,  2.86it/s]\u001b[33mWARNING [bioservices:keggparser:119]: \u001b[0m \u001b[34mFound keyword SYMBOL, which has not special\n",
      "    parsing for now. please report this issue with the KEGG \n",
      "    identifier (57492             CDS       T01001) into github.com/bioservices. Thanks T.C.\u001b[0m\n",
      " 12%|█▏        | 159/1328 [01:00<06:06,  3.19it/s]\u001b[33mWARNING [bioservices:keggparser:119]: \u001b[0m \u001b[34mFound keyword SYMBOL, which has not special\n",
      "    parsing for now. please report this issue with the KEGG \n",
      "    identifier (6098              CDS       T01001) into github.com/bioservices. Thanks T.C.\u001b[0m\n",
      " 12%|█▏        | 160/1328 [01:00<06:06,  3.18it/s]"
     ]
    },
    {
     "name": "stdout",
     "output_type": "stream",
     "text": [
      "no data for  ROS1\n"
     ]
    },
    {
     "name": "stderr",
     "output_type": "stream",
     "text": [
      "\u001b[33mWARNING [bioservices:keggparser:119]: \u001b[0m \u001b[34mFound keyword SYMBOL, which has not special\n",
      "    parsing for now. please report this issue with the KEGG \n",
      "    identifier (7048              CDS       T01001) into github.com/bioservices. Thanks T.C.\u001b[0m\n",
      " 12%|█▏        | 161/1328 [01:01<06:09,  3.15it/s]\u001b[33mWARNING [bioservices:keggparser:119]: \u001b[0m \u001b[34mFound keyword SYMBOL, which has not special\n",
      "    parsing for now. please report this issue with the KEGG \n",
      "    identifier (3845              CDS       T01001) into github.com/bioservices. Thanks T.C.\u001b[0m\n",
      " 12%|█▏        | 162/1328 [01:01<08:31,  2.28it/s]\u001b[33mWARNING [bioservices:keggparser:119]: \u001b[0m \u001b[34mFound keyword SYMBOL, which has not special\n",
      "    parsing for now. please report this issue with the KEGG \n",
      "    identifier (2475              CDS       T01001) into github.com/bioservices. Thanks T.C.\u001b[0m\n",
      " 12%|█▏        | 163/1328 [01:02<09:59,  1.94it/s]\u001b[33mWARNING [bioservices:keggparser:119]: \u001b[0m \u001b[34mFound keyword SYMBOL, which has not special\n",
      "    parsing for now. please report this issue with the KEGG \n",
      "    identifier (23152             CDS       T01001) into github.com/bioservices. Thanks T.C.\u001b[0m\n",
      " 12%|█▏        | 164/1328 [01:02<08:13,  2.36it/s]\u001b[33mWARNING [bioservices:keggparser:119]: \u001b[0m \u001b[34mFound keyword SYMBOL, which has not special\n",
      "    parsing for now. please report this issue with the KEGG \n",
      "    identifier (567               CDS       T01001) into github.com/bioservices. Thanks T.C.\u001b[0m\n",
      " 12%|█▏        | 165/1328 [01:03<07:56,  2.44it/s]\u001b[33mWARNING [bioservices:keggparser:119]: \u001b[0m \u001b[34mFound keyword SYMBOL, which has not special\n",
      "    parsing for now. please report this issue with the KEGG \n",
      "    identifier (672               CDS       T01001) into github.com/bioservices. Thanks T.C.\u001b[0m\n",
      " 12%|█▎        | 166/1328 [01:03<06:54,  2.80it/s]\u001b[33mWARNING [bioservices:keggparser:119]: \u001b[0m \u001b[34mFound keyword SYMBOL, which has not special\n",
      "    parsing for now. please report this issue with the KEGG \n",
      "    identifier (2263              CDS       T01001) into github.com/bioservices. Thanks T.C.\u001b[0m\n",
      " 13%|█▎        | 167/1328 [01:03<06:58,  2.77it/s]\u001b[33mWARNING [bioservices:keggparser:119]: \u001b[0m \u001b[34mFound keyword SYMBOL, which has not special\n",
      "    parsing for now. please report this issue with the KEGG \n",
      "    identifier (675               CDS       T01001) into github.com/bioservices. Thanks T.C.\u001b[0m\n",
      " 13%|█▎        | 168/1328 [01:04<07:10,  2.70it/s]\u001b[33mWARNING [bioservices:keggparser:119]: \u001b[0m \u001b[34mFound keyword SYMBOL, which has not special\n",
      "    parsing for now. please report this issue with the KEGG \n",
      "    identifier (1030              CDS       T01001) into github.com/bioservices. Thanks T.C.\u001b[0m\n",
      " 13%|█▎        | 169/1328 [01:04<07:01,  2.75it/s]\u001b[33mWARNING [bioservices:keggparser:119]: \u001b[0m \u001b[34mFound keyword SYMBOL, which has not special\n",
      "    parsing for now. please report this issue with the KEGG \n",
      "    identifier (4089              CDS       T01001) into github.com/bioservices. Thanks T.C.\u001b[0m\n",
      " 13%|█▎        | 170/1328 [01:04<06:45,  2.86it/s]\u001b[33mWARNING [bioservices:keggparser:119]: \u001b[0m \u001b[34mFound keyword SYMBOL, which has not special\n",
      "    parsing for now. please report this issue with the KEGG \n",
      "    identifier (2078              CDS       T01001) into github.com/bioservices. Thanks T.C.\u001b[0m\n",
      " 13%|█▎        | 171/1328 [01:04<06:04,  3.18it/s]\u001b[33mWARNING [bioservices:keggparser:119]: \u001b[0m \u001b[34mFound keyword SYMBOL, which has not special\n",
      "    parsing for now. please report this issue with the KEGG \n",
      "    identifier (7157              CDS       T01001) into github.com/bioservices. Thanks T.C.\u001b[0m\n",
      " 13%|█▎        | 172/1328 [01:05<07:41,  2.50it/s]\u001b[33mWARNING [bioservices:keggparser:119]: \u001b[0m \u001b[34mFound keyword SYMBOL, which has not special\n",
      "    parsing for now. please report this issue with the KEGG \n",
      "    identifier (4233              CDS       T01001) into github.com/bioservices. Thanks T.C.\u001b[0m\n",
      " 13%|█▎        | 173/1328 [01:05<07:11,  2.68it/s]\u001b[33mWARNING [bioservices:keggparser:119]: \u001b[0m \u001b[34mFound keyword SYMBOL, which has not special\n",
      "    parsing for now. please report this issue with the KEGG \n",
      "    identifier (100271849         CDS       T01001) into github.com/bioservices. Thanks T.C.\u001b[0m\n",
      " 13%|█▎        | 174/1328 [01:06<06:23,  3.01it/s]\u001b[33mWARNING [bioservices:keggparser:119]: \u001b[0m \u001b[34mFound keyword SYMBOL, which has not special\n",
      "    parsing for now. please report this issue with the KEGG \n",
      "    identifier (5728              CDS       T01001) into github.com/bioservices. Thanks T.C.\u001b[0m\n",
      " 13%|█▎        | 175/1328 [01:06<07:25,  2.59it/s]\u001b[33mWARNING [bioservices:keggparser:119]: \u001b[0m \u001b[34mFound keyword SYMBOL, which has not special\n",
      "    parsing for now. please report this issue with the KEGG \n",
      "    identifier (5290              CDS       T01001) into github.com/bioservices. Thanks T.C.\u001b[0m\n",
      " 13%|█▎        | 176/1328 [01:08<13:28,  1.43it/s]\u001b[33mWARNING [bioservices:keggparser:119]: \u001b[0m \u001b[34mFound keyword SYMBOL, which has not special\n",
      "    parsing for now. please report this issue with the KEGG \n",
      "    identifier (6654              CDS       T01001) into github.com/bioservices. Thanks T.C.\u001b[0m\n",
      " 13%|█▎        | 177/1328 [01:09<14:42,  1.30it/s]\u001b[33mWARNING [bioservices:keggparser:119]: \u001b[0m \u001b[34mFound keyword SYMBOL, which has not special\n",
      "    parsing for now. please report this issue with the KEGG \n",
      "    identifier (673               CDS       T01001) into github.com/bioservices. Thanks T.C.\u001b[0m\n",
      " 13%|█▎        | 178/1328 [01:09<13:51,  1.38it/s]\u001b[33mWARNING [bioservices:keggparser:119]: \u001b[0m \u001b[34mFound keyword SYMBOL, which has not special\n",
      "    parsing for now. please report this issue with the KEGG \n",
      "    identifier (2066              CDS       T01001) into github.com/bioservices. Thanks T.C.\u001b[0m\n",
      " 13%|█▎        | 179/1328 [01:09<11:06,  1.72it/s]\u001b[33mWARNING [bioservices:keggparser:119]: \u001b[0m \u001b[34mFound keyword SYMBOL, which has not special\n",
      "    parsing for now. please report this issue with the KEGG \n",
      "    identifier (675               CDS       T01001) into github.com/bioservices. Thanks T.C.\u001b[0m\n",
      " 14%|█▎        | 180/1328 [01:10<10:30,  1.82it/s]\u001b[33mWARNING [bioservices:keggparser:119]: \u001b[0m \u001b[34mFound keyword SYMBOL, which has not special\n",
      "    parsing for now. please report this issue with the KEGG \n",
      "    identifier (7422              CDS       T01001) into github.com/bioservices. Thanks T.C.\u001b[0m\n",
      " 14%|█▎        | 181/1328 [01:10<09:25,  2.03it/s]\u001b[33mWARNING [bioservices:keggparser:119]: \u001b[0m \u001b[34mFound keyword SYMBOL, which has not special\n",
      "    parsing for now. please report this issue with the KEGG \n",
      "    identifier (7307              CDS       T01001) into github.com/bioservices. Thanks T.C.\u001b[0m\n",
      " 14%|█▎        | 182/1328 [01:10<07:51,  2.43it/s]\u001b[33mWARNING [bioservices:keggparser:119]: \u001b[0m \u001b[34mFound keyword SYMBOL, which has not special\n",
      "    parsing for now. please report this issue with the KEGG \n",
      "    identifier (672               CDS       T01001) into github.com/bioservices. Thanks T.C.\u001b[0m\n",
      " 14%|█▍        | 183/1328 [01:11<07:32,  2.53it/s]\u001b[33mWARNING [bioservices:keggparser:119]: \u001b[0m \u001b[34mFound keyword SYMBOL, which has not special\n",
      "    parsing for now. please report this issue with the KEGG \n",
      "    identifier (238               CDS       T01001) into github.com/bioservices. Thanks T.C.\u001b[0m\n",
      " 14%|█▍        | 184/1328 [01:11<06:29,  2.93it/s]\u001b[33mWARNING [bioservices:keggparser:119]: \u001b[0m \u001b[34mFound keyword SYMBOL, which has not special\n",
      "    parsing for now. please report this issue with the KEGG \n",
      "    identifier (6927              CDS       T01001) into github.com/bioservices. Thanks T.C.\u001b[0m\n",
      " 14%|█▍        | 185/1328 [01:12<08:12,  2.32it/s]\u001b[33mWARNING [bioservices:keggparser:119]: \u001b[0m \u001b[34mFound keyword SYMBOL, which has not special\n",
      "    parsing for now. please report this issue with the KEGG \n",
      "    identifier (2034              CDS       T01001) into github.com/bioservices. Thanks T.C.\u001b[0m\n",
      " 14%|█▍        | 186/1328 [01:12<08:12,  2.32it/s]\u001b[33mWARNING [bioservices:keggparser:119]: \u001b[0m \u001b[34mFound keyword SYMBOL, which has not special\n",
      "    parsing for now. please report this issue with the KEGG \n",
      "    identifier (2261              CDS       T01001) into github.com/bioservices. Thanks T.C.\u001b[0m\n"
     ]
    },
    {
     "name": "stderr",
     "output_type": "stream",
     "text": [
      " 14%|█▍        | 187/1328 [01:12<07:17,  2.61it/s]\u001b[33mWARNING [bioservices:keggparser:119]: \u001b[0m \u001b[34mFound keyword SYMBOL, which has not special\n",
      "    parsing for now. please report this issue with the KEGG \n",
      "    identifier (672               CDS       T01001) into github.com/bioservices. Thanks T.C.\u001b[0m\n",
      " 14%|█▍        | 188/1328 [01:13<07:43,  2.46it/s]\u001b[33mWARNING [bioservices:keggparser:119]: \u001b[0m \u001b[34mFound keyword SYMBOL, which has not special\n",
      "    parsing for now. please report this issue with the KEGG \n",
      "    identifier (472               CDS       T01001) into github.com/bioservices. Thanks T.C.\u001b[0m\n",
      " 14%|█▍        | 189/1328 [01:13<07:52,  2.41it/s]\u001b[33mWARNING [bioservices:keggparser:119]: \u001b[0m \u001b[34mFound keyword SYMBOL, which has not special\n",
      "    parsing for now. please report this issue with the KEGG \n",
      "    identifier (2475              CDS       T01001) into github.com/bioservices. Thanks T.C.\u001b[0m\n",
      " 14%|█▍        | 190/1328 [01:14<08:42,  2.18it/s]\u001b[33mWARNING [bioservices:keggparser:119]: \u001b[0m \u001b[34mFound keyword SYMBOL, which has not special\n",
      "    parsing for now. please report this issue with the KEGG \n",
      "    identifier (55294             CDS       T01001) into github.com/bioservices. Thanks T.C.\u001b[0m\n",
      " 14%|█▍        | 191/1328 [01:14<07:19,  2.59it/s]\u001b[33mWARNING [bioservices:keggparser:119]: \u001b[0m \u001b[34mFound keyword SYMBOL, which has not special\n",
      "    parsing for now. please report this issue with the KEGG \n",
      "    identifier (3815              CDS       T01001) into github.com/bioservices. Thanks T.C.\u001b[0m\n",
      " 14%|█▍        | 192/1328 [01:14<07:15,  2.61it/s]\u001b[33mWARNING [bioservices:keggparser:119]: \u001b[0m \u001b[34mFound keyword SYMBOL, which has not special\n",
      "    parsing for now. please report this issue with the KEGG \n",
      "    identifier (5518              CDS       T01001) into github.com/bioservices. Thanks T.C.\u001b[0m\n",
      " 15%|█▍        | 193/1328 [01:15<06:35,  2.87it/s]\u001b[33mWARNING [bioservices:keggparser:119]: \u001b[0m \u001b[34mFound keyword SYMBOL, which has not special\n",
      "    parsing for now. please report this issue with the KEGG \n",
      "    identifier (672               CDS       T01001) into github.com/bioservices. Thanks T.C.\u001b[0m\n",
      " 15%|█▍        | 194/1328 [01:15<06:21,  2.97it/s]\u001b[33mWARNING [bioservices:keggparser:119]: \u001b[0m \u001b[34mFound keyword SYMBOL, which has not special\n",
      "    parsing for now. please report this issue with the KEGG \n",
      "    identifier (3815              CDS       T01001) into github.com/bioservices. Thanks T.C.\u001b[0m\n",
      " 15%|█▍        | 195/1328 [01:15<06:05,  3.10it/s]\u001b[33mWARNING [bioservices:keggparser:119]: \u001b[0m \u001b[34mFound keyword SYMBOL, which has not special\n",
      "    parsing for now. please report this issue with the KEGG \n",
      "    identifier (208               CDS       T01001) into github.com/bioservices. Thanks T.C.\u001b[0m\n",
      " 15%|█▍        | 196/1328 [01:16<09:00,  2.09it/s]\u001b[33mWARNING [bioservices:keggparser:119]: \u001b[0m \u001b[34mFound keyword SYMBOL, which has not special\n",
      "    parsing for now. please report this issue with the KEGG \n",
      "    identifier (6662              CDS       T01001) into github.com/bioservices. Thanks T.C.\u001b[0m\n",
      " 15%|█▍        | 197/1328 [01:16<07:30,  2.51it/s]\u001b[33mWARNING [bioservices:keggparser:119]: \u001b[0m \u001b[34mFound keyword SYMBOL, which has not special\n",
      "    parsing for now. please report this issue with the KEGG \n",
      "    identifier (1956              CDS       T01001) into github.com/bioservices. Thanks T.C.\u001b[0m\n",
      " 15%|█▍        | 198/1328 [01:17<09:17,  2.03it/s]\u001b[33mWARNING [bioservices:keggparser:119]: \u001b[0m \u001b[34mFound keyword SYMBOL, which has not special\n",
      "    parsing for now. please report this issue with the KEGG \n",
      "    identifier (6654              CDS       T01001) into github.com/bioservices. Thanks T.C.\u001b[0m\n",
      " 15%|█▍        | 199/1328 [01:18<09:41,  1.94it/s]\u001b[33mWARNING [bioservices:keggparser:119]: \u001b[0m \u001b[34mFound keyword SYMBOL, which has not special\n",
      "    parsing for now. please report this issue with the KEGG \n",
      "    identifier (8314              CDS       T01001) into github.com/bioservices. Thanks T.C.\u001b[0m\n",
      " 15%|█▌        | 200/1328 [01:18<07:53,  2.38it/s]"
     ]
    },
    {
     "name": "stdout",
     "output_type": "stream",
     "text": [
      "no data for  BAP1\n"
     ]
    },
    {
     "name": "stderr",
     "output_type": "stream",
     "text": [
      "\u001b[33mWARNING [bioservices:keggparser:119]: \u001b[0m \u001b[34mFound keyword SYMBOL, which has not special\n",
      "    parsing for now. please report this issue with the KEGG \n",
      "    identifier (6098              CDS       T01001) into github.com/bioservices. Thanks T.C.\u001b[0m\n",
      " 15%|█▌        | 201/1328 [01:18<07:29,  2.51it/s]"
     ]
    },
    {
     "name": "stdout",
     "output_type": "stream",
     "text": [
      "no data for  ROS1\n"
     ]
    },
    {
     "name": "stderr",
     "output_type": "stream",
     "text": [
      "\u001b[33mWARNING [bioservices:keggparser:119]: \u001b[0m \u001b[34mFound keyword SYMBOL, which has not special\n",
      "    parsing for now. please report this issue with the KEGG \n",
      "    identifier (2064              CDS       T01001) into github.com/bioservices. Thanks T.C.\u001b[0m\n",
      " 15%|█▌        | 202/1328 [01:18<07:03,  2.66it/s]\u001b[33mWARNING [bioservices:keggparser:119]: \u001b[0m \u001b[34mFound keyword SYMBOL, which has not special\n",
      "    parsing for now. please report this issue with the KEGG \n",
      "    identifier (675               CDS       T01001) into github.com/bioservices. Thanks T.C.\u001b[0m\n",
      " 15%|█▌        | 203/1328 [01:19<07:14,  2.59it/s]\u001b[33mWARNING [bioservices:keggparser:119]: \u001b[0m \u001b[34mFound keyword SYMBOL, which has not special\n",
      "    parsing for now. please report this issue with the KEGG \n",
      "    identifier (6416              CDS       T01001) into github.com/bioservices. Thanks T.C.\u001b[0m\n",
      " 15%|█▌        | 204/1328 [01:19<06:46,  2.77it/s]\u001b[33mWARNING [bioservices:keggparser:119]: \u001b[0m \u001b[34mFound keyword SYMBOL, which has not special\n",
      "    parsing for now. please report this issue with the KEGG \n",
      "    identifier (672               CDS       T01001) into github.com/bioservices. Thanks T.C.\u001b[0m\n",
      " 15%|█▌        | 205/1328 [01:19<06:23,  2.93it/s]\u001b[33mWARNING [bioservices:keggparser:119]: \u001b[0m \u001b[34mFound keyword SYMBOL, which has not special\n",
      "    parsing for now. please report this issue with the KEGG \n",
      "    identifier (7157              CDS       T01001) into github.com/bioservices. Thanks T.C.\u001b[0m\n",
      " 16%|█▌        | 206/1328 [01:20<07:09,  2.61it/s]\u001b[33mWARNING [bioservices:keggparser:119]: \u001b[0m \u001b[34mFound keyword SYMBOL, which has not special\n",
      "    parsing for now. please report this issue with the KEGG \n",
      "    identifier (672               CDS       T01001) into github.com/bioservices. Thanks T.C.\u001b[0m\n",
      " 16%|█▌        | 207/1328 [01:20<06:26,  2.90it/s]\u001b[33mWARNING [bioservices:keggparser:119]: \u001b[0m \u001b[34mFound keyword SYMBOL, which has not special\n",
      "    parsing for now. please report this issue with the KEGG \n",
      "    identifier (7048              CDS       T01001) into github.com/bioservices. Thanks T.C.\u001b[0m\n",
      " 16%|█▌        | 208/1328 [01:21<06:43,  2.78it/s]\u001b[33mWARNING [bioservices:keggparser:119]: \u001b[0m \u001b[34mFound keyword SYMBOL, which has not special\n",
      "    parsing for now. please report this issue with the KEGG \n",
      "    identifier (4780              CDS       T01001) into github.com/bioservices. Thanks T.C.\u001b[0m\n",
      " 16%|█▌        | 209/1328 [01:21<06:03,  3.08it/s]\u001b[33mWARNING [bioservices:keggparser:119]: \u001b[0m \u001b[34mFound keyword SYMBOL, which has not special\n",
      "    parsing for now. please report this issue with the KEGG \n",
      "    identifier (2064              CDS       T01001) into github.com/bioservices. Thanks T.C.\u001b[0m\n",
      " 16%|█▌        | 210/1328 [01:21<06:41,  2.79it/s]\u001b[33mWARNING [bioservices:keggparser:119]: \u001b[0m \u001b[34mFound keyword SYMBOL, which has not special\n",
      "    parsing for now. please report this issue with the KEGG \n",
      "    identifier (207               CDS       T01001) into github.com/bioservices. Thanks T.C.\u001b[0m\n",
      " 16%|█▌        | 211/1328 [01:22<09:04,  2.05it/s]\u001b[33mWARNING [bioservices:keggparser:119]: \u001b[0m \u001b[34mFound keyword SYMBOL, which has not special\n",
      "    parsing for now. please report this issue with the KEGG \n",
      "    identifier (7157              CDS       T01001) into github.com/bioservices. Thanks T.C.\u001b[0m\n",
      " 16%|█▌        | 212/1328 [01:23<08:45,  2.13it/s]\u001b[33mWARNING [bioservices:keggparser:119]: \u001b[0m \u001b[34mFound keyword SYMBOL, which has not special\n",
      "    parsing for now. please report this issue with the KEGG \n",
      "    identifier (2475              CDS       T01001) into github.com/bioservices. Thanks T.C.\u001b[0m\n",
      " 16%|█▌        | 213/1328 [01:23<09:15,  2.01it/s]\u001b[33mWARNING [bioservices:keggparser:119]: \u001b[0m \u001b[34mFound keyword SYMBOL, which has not special\n",
      "    parsing for now. please report this issue with the KEGG \n",
      "    identifier (1788              CDS       T01001) into github.com/bioservices. Thanks T.C.\u001b[0m\n",
      " 16%|█▌        | 214/1328 [01:23<07:51,  2.36it/s]\u001b[33mWARNING [bioservices:keggparser:119]: \u001b[0m \u001b[34mFound keyword SYMBOL, which has not special\n",
      "    parsing for now. please report this issue with the KEGG \n",
      "    identifier (2261              CDS       T01001) into github.com/bioservices. Thanks T.C.\u001b[0m\n",
      " 16%|█▌        | 215/1328 [01:24<07:23,  2.51it/s]\u001b[33mWARNING [bioservices:keggparser:119]: \u001b[0m \u001b[34mFound keyword SYMBOL, which has not special\n",
      "    parsing for now. please report this issue with the KEGG \n",
      "    identifier (5295              CDS       T01001) into github.com/bioservices. Thanks T.C.\u001b[0m\n",
      " 16%|█▋        | 216/1328 [01:24<09:31,  1.95it/s]\u001b[33mWARNING [bioservices:keggparser:119]: \u001b[0m \u001b[34mFound keyword SYMBOL, which has not special\n",
      "    parsing for now. please report this issue with the KEGG \n",
      "    identifier (3480              CDS       T01001) into github.com/bioservices. Thanks T.C.\u001b[0m\n",
      " 16%|█▋        | 217/1328 [01:25<08:32,  2.17it/s]\u001b[33mWARNING [bioservices:keggparser:119]: \u001b[0m \u001b[34mFound keyword SYMBOL, which has not special\n",
      "    parsing for now. please report this issue with the KEGG \n",
      "    identifier (7157              CDS       T01001) into github.com/bioservices. Thanks T.C.\u001b[0m\n",
      " 16%|█▋        | 218/1328 [01:25<08:15,  2.24it/s]\u001b[33mWARNING [bioservices:keggparser:119]: \u001b[0m \u001b[34mFound keyword SYMBOL, which has not special\n",
      "    parsing for now. please report this issue with the KEGG \n",
      "    identifier (3815              CDS       T01001) into github.com/bioservices. Thanks T.C.\u001b[0m\n",
      " 16%|█▋        | 219/1328 [01:25<07:11,  2.57it/s]\u001b[33mWARNING [bioservices:keggparser:119]: \u001b[0m \u001b[34mFound keyword SYMBOL, which has not special\n",
      "    parsing for now. please report this issue with the KEGG \n",
      "    identifier (7157              CDS       T01001) into github.com/bioservices. Thanks T.C.\u001b[0m\n",
      " 17%|█▋        | 220/1328 [01:26<07:51,  2.35it/s]\u001b[33mWARNING [bioservices:keggparser:119]: \u001b[0m \u001b[34mFound keyword SYMBOL, which has not special\n",
      "    parsing for now. please report this issue with the KEGG \n",
      "    identifier (3717              CDS       T01001) into github.com/bioservices. Thanks T.C.\u001b[0m\n",
      " 17%|█▋        | 221/1328 [01:26<07:12,  2.56it/s]\u001b[33mWARNING [bioservices:keggparser:119]: \u001b[0m \u001b[34mFound keyword SYMBOL, which has not special\n",
      "    parsing for now. please report this issue with the KEGG \n",
      "    identifier (7157              CDS       T01001) into github.com/bioservices. Thanks T.C.\u001b[0m\n",
      " 17%|█▋        | 222/1328 [01:27<07:27,  2.47it/s]\u001b[33mWARNING [bioservices:keggparser:119]: \u001b[0m \u001b[34mFound keyword SYMBOL, which has not special\n",
      "    parsing for now. please report this issue with the KEGG \n",
      "    identifier (2322              CDS       T01001) into github.com/bioservices. Thanks T.C.\u001b[0m\n",
      " 17%|█▋        | 223/1328 [01:27<06:30,  2.83it/s]\u001b[33mWARNING [bioservices:keggparser:119]: \u001b[0m \u001b[34mFound keyword SYMBOL, which has not special\n",
      "    parsing for now. please report this issue with the KEGG \n",
      "    identifier (2064              CDS       T01001) into github.com/bioservices. Thanks T.C.\u001b[0m\n",
      " 17%|█▋        | 224/1328 [01:27<06:50,  2.69it/s]\u001b[33mWARNING [bioservices:keggparser:119]: \u001b[0m \u001b[34mFound keyword SYMBOL, which has not special\n",
      "    parsing for now. please report this issue with the KEGG \n",
      "    identifier (11200             CDS       T01001) into github.com/bioservices. Thanks T.C.\u001b[0m\n",
      " 17%|█▋        | 225/1328 [01:28<06:03,  3.03it/s]\u001b[33mWARNING [bioservices:keggparser:119]: \u001b[0m \u001b[34mFound keyword SYMBOL, which has not special\n",
      "    parsing for now. please report this issue with the KEGG \n",
      "    identifier (238               CDS       T01001) into github.com/bioservices. Thanks T.C.\u001b[0m\n",
      " 17%|█▋        | 226/1328 [01:28<06:10,  2.98it/s]\u001b[33mWARNING [bioservices:keggparser:119]: \u001b[0m \u001b[34mFound keyword SYMBOL, which has not special\n",
      "    parsing for now. please report this issue with the KEGG \n",
      "    identifier (8242              CDS       T01001) into github.com/bioservices. Thanks T.C.\u001b[0m\n",
      " 17%|█▋        | 227/1328 [01:28<05:27,  3.36it/s]"
     ]
    },
    {
     "name": "stdout",
     "output_type": "stream",
     "text": [
      "no data for  KDM5C\n"
     ]
    },
    {
     "name": "stderr",
     "output_type": "stream",
     "text": [
      "\u001b[33mWARNING [bioservices:keggparser:119]: \u001b[0m \u001b[34mFound keyword SYMBOL, which has not special\n",
      "    parsing for now. please report this issue with the KEGG \n",
      "    identifier (4089              CDS       T01001) into github.com/bioservices. Thanks T.C.\u001b[0m\n",
      " 17%|█▋        | 228/1328 [01:29<06:14,  2.94it/s]\u001b[33mWARNING [bioservices:keggparser:119]: \u001b[0m \u001b[34mFound keyword SYMBOL, which has not special\n",
      "    parsing for now. please report this issue with the KEGG \n",
      "    identifier (5290              CDS       T01001) into github.com/bioservices. Thanks T.C.\u001b[0m\n",
      " 17%|█▋        | 229/1328 [01:29<08:48,  2.08it/s]\u001b[33mWARNING [bioservices:keggparser:119]: \u001b[0m \u001b[34mFound keyword SYMBOL, which has not special\n",
      "    parsing for now. please report this issue with the KEGG \n",
      "    identifier (672               CDS       T01001) into github.com/bioservices. Thanks T.C.\u001b[0m\n",
      " 17%|█▋        | 230/1328 [01:30<07:31,  2.43it/s]\u001b[33mWARNING [bioservices:keggparser:119]: \u001b[0m \u001b[34mFound keyword SYMBOL, which has not special\n",
      "    parsing for now. please report this issue with the KEGG \n",
      "    identifier (7249              CDS       T01001) into github.com/bioservices. Thanks T.C.\u001b[0m\n",
      " 17%|█▋        | 231/1328 [01:30<07:18,  2.50it/s]\u001b[33mWARNING [bioservices:keggparser:119]: \u001b[0m \u001b[34mFound keyword SYMBOL, which has not special\n",
      "    parsing for now. please report this issue with the KEGG \n",
      "    identifier (672               CDS       T01001) into github.com/bioservices. Thanks T.C.\u001b[0m\n",
      " 17%|█▋        | 232/1328 [01:30<06:25,  2.84it/s]\u001b[33mWARNING [bioservices:keggparser:119]: \u001b[0m \u001b[34mFound keyword SYMBOL, which has not special\n",
      "    parsing for now. please report this issue with the KEGG \n",
      "    identifier (5518              CDS       T01001) into github.com/bioservices. Thanks T.C.\u001b[0m\n",
      " 18%|█▊        | 233/1328 [01:31<06:31,  2.80it/s]\u001b[33mWARNING [bioservices:keggparser:119]: \u001b[0m \u001b[34mFound keyword SYMBOL, which has not special\n",
      "    parsing for now. please report this issue with the KEGG \n",
      "    identifier (7157              CDS       T01001) into github.com/bioservices. Thanks T.C.\u001b[0m\n",
      " 18%|█▊        | 234/1328 [01:31<06:50,  2.67it/s]\u001b[33mWARNING [bioservices:keggparser:119]: \u001b[0m \u001b[34mFound keyword SYMBOL, which has not special\n",
      "    parsing for now. please report this issue with the KEGG \n",
      "    identifier (675               CDS       T01001) into github.com/bioservices. Thanks T.C.\u001b[0m\n",
      " 18%|█▊        | 235/1328 [01:31<06:59,  2.60it/s]\u001b[33mWARNING [bioservices:keggparser:119]: \u001b[0m \u001b[34mFound keyword SYMBOL, which has not special\n",
      "    parsing for now. please report this issue with the KEGG \n",
      "    identifier (4763              CDS       T01001) into github.com/bioservices. Thanks T.C.\u001b[0m\n",
      " 18%|█▊        | 236/1328 [01:32<06:10,  2.95it/s]\u001b[33mWARNING [bioservices:keggparser:119]: \u001b[0m \u001b[34mFound keyword SYMBOL, which has not special\n",
      "    parsing for now. please report this issue with the KEGG \n",
      "    identifier (673               CDS       T01001) into github.com/bioservices. Thanks T.C.\u001b[0m\n",
      " 18%|█▊        | 237/1328 [01:32<07:55,  2.30it/s]\u001b[33mWARNING [bioservices:keggparser:119]: \u001b[0m \u001b[34mFound keyword SYMBOL, which has not special\n",
      "    parsing for now. please report this issue with the KEGG \n",
      "    identifier (7157              CDS       T01001) into github.com/bioservices. Thanks T.C.\u001b[0m\n",
      " 18%|█▊        | 238/1328 [01:33<08:00,  2.27it/s]\u001b[33mWARNING [bioservices:keggparser:119]: \u001b[0m \u001b[34mFound keyword SYMBOL, which has not special\n",
      "    parsing for now. please report this issue with the KEGG \n",
      "    identifier (672               CDS       T01001) into github.com/bioservices. Thanks T.C.\u001b[0m\n",
      " 18%|█▊        | 239/1328 [01:33<06:53,  2.63it/s]\u001b[33mWARNING [bioservices:keggparser:119]: \u001b[0m \u001b[34mFound keyword SYMBOL, which has not special\n",
      "    parsing for now. please report this issue with the KEGG \n",
      "    identifier (673               CDS       T01001) into github.com/bioservices. Thanks T.C.\u001b[0m\n",
      " 18%|█▊        | 240/1328 [01:34<08:28,  2.14it/s]\u001b[33mWARNING [bioservices:keggparser:119]: \u001b[0m \u001b[34mFound keyword SYMBOL, which has not special\n",
      "    parsing for now. please report this issue with the KEGG \n",
      "    identifier (5728              CDS       T01001) into github.com/bioservices. Thanks T.C.\u001b[0m\n",
      " 18%|█▊        | 241/1328 [01:34<07:55,  2.28it/s]\u001b[33mWARNING [bioservices:keggparser:119]: \u001b[0m \u001b[34mFound keyword SYMBOL, which has not special\n",
      "    parsing for now. please report this issue with the KEGG \n",
      "    identifier (2260              CDS       T01001) into github.com/bioservices. Thanks T.C.\u001b[0m\n",
      " 18%|█▊        | 242/1328 [01:34<07:01,  2.58it/s]\u001b[33mWARNING [bioservices:keggparser:119]: \u001b[0m \u001b[34mFound keyword SYMBOL, which has not special\n",
      "    parsing for now. please report this issue with the KEGG \n",
      "    identifier (672               CDS       T01001) into github.com/bioservices. Thanks T.C.\u001b[0m\n",
      " 18%|█▊        | 243/1328 [01:35<06:32,  2.76it/s]\u001b[33mWARNING [bioservices:keggparser:119]: \u001b[0m \u001b[34mFound keyword SYMBOL, which has not special\n",
      "    parsing for now. please report this issue with the KEGG \n",
      "    identifier (7157              CDS       T01001) into github.com/bioservices. Thanks T.C.\u001b[0m\n",
      " 18%|█▊        | 244/1328 [01:35<07:01,  2.57it/s]\u001b[33mWARNING [bioservices:keggparser:119]: \u001b[0m \u001b[34mFound keyword SYMBOL, which has not special\n",
      "    parsing for now. please report this issue with the KEGG \n",
      "    identifier (4851              CDS       T01001) into github.com/bioservices. Thanks T.C.\u001b[0m\n",
      " 18%|█▊        | 245/1328 [01:35<06:19,  2.85it/s]\u001b[33mWARNING [bioservices:keggparser:119]: \u001b[0m \u001b[34mFound keyword SYMBOL, which has not special\n",
      "    parsing for now. please report this issue with the KEGG \n",
      "    identifier (7249              CDS       T01001) into github.com/bioservices. Thanks T.C.\u001b[0m\n",
      " 19%|█▊        | 246/1328 [01:36<06:19,  2.85it/s]\u001b[33mWARNING [bioservices:keggparser:119]: \u001b[0m \u001b[34mFound keyword SYMBOL, which has not special\n",
      "    parsing for now. please report this issue with the KEGG \n",
      "    identifier (5290              CDS       T01001) into github.com/bioservices. Thanks T.C.\u001b[0m\n",
      " 19%|█▊        | 247/1328 [01:37<08:46,  2.05it/s]\u001b[33mWARNING [bioservices:keggparser:119]: \u001b[0m \u001b[34mFound keyword SYMBOL, which has not special\n",
      "    parsing for now. please report this issue with the KEGG \n",
      "    identifier (1956              CDS       T01001) into github.com/bioservices. Thanks T.C.\u001b[0m\n",
      " 19%|█▊        | 248/1328 [01:37<09:02,  1.99it/s]\u001b[33mWARNING [bioservices:keggparser:119]: \u001b[0m \u001b[34mFound keyword SYMBOL, which has not special\n",
      "    parsing for now. please report this issue with the KEGG \n",
      "    identifier (23451             CDS       T01001) into github.com/bioservices. Thanks T.C.\u001b[0m\n",
      " 19%|█▉        | 249/1328 [01:37<07:25,  2.42it/s]\u001b[33mWARNING [bioservices:keggparser:119]: \u001b[0m \u001b[34mFound keyword SYMBOL, which has not special\n",
      "    parsing for now. please report this issue with the KEGG \n",
      "    identifier (7157              CDS       T01001) into github.com/bioservices. Thanks T.C.\u001b[0m\n",
      " 19%|█▉        | 250/1328 [01:38<08:09,  2.20it/s]\u001b[33mWARNING [bioservices:keggparser:119]: \u001b[0m \u001b[34mFound keyword SYMBOL, which has not special\n",
      "    parsing for now. please report this issue with the KEGG \n",
      "    identifier (6009              CDS       T01001) into github.com/bioservices. Thanks T.C.\u001b[0m\n",
      " 19%|█▉        | 251/1328 [01:38<07:04,  2.54it/s]\u001b[33mWARNING [bioservices:keggparser:119]: \u001b[0m \u001b[34mFound keyword SYMBOL, which has not special\n",
      "    parsing for now. please report this issue with the KEGG \n",
      "    identifier (7157              CDS       T01001) into github.com/bioservices. Thanks T.C.\u001b[0m\n",
      " 19%|█▉        | 252/1328 [01:39<07:44,  2.32it/s]\u001b[33mWARNING [bioservices:keggparser:119]: \u001b[0m \u001b[34mFound keyword SYMBOL, which has not special\n",
      "    parsing for now. please report this issue with the KEGG \n",
      "    identifier (4609              CDS       T01001) into github.com/bioservices. Thanks T.C.\u001b[0m\n",
      " 19%|█▉        | 253/1328 [01:39<07:18,  2.45it/s]\u001b[33mWARNING [bioservices:keggparser:119]: \u001b[0m \u001b[34mFound keyword SYMBOL, which has not special\n",
      "    parsing for now. please report this issue with the KEGG \n",
      "    identifier (2120              CDS       T01001) into github.com/bioservices. Thanks T.C.\u001b[0m\n"
     ]
    },
    {
     "name": "stderr",
     "output_type": "stream",
     "text": [
      " 19%|█▉        | 254/1328 [01:39<06:15,  2.86it/s]\u001b[33mWARNING [bioservices:keggparser:119]: \u001b[0m \u001b[34mFound keyword SYMBOL, which has not special\n",
      "    parsing for now. please report this issue with the KEGG \n",
      "    identifier (25                CDS       T01001) into github.com/bioservices. Thanks T.C.\u001b[0m\n",
      " 19%|█▉        | 255/1328 [01:40<06:32,  2.73it/s]\u001b[33mWARNING [bioservices:keggparser:119]: \u001b[0m \u001b[34mFound keyword SYMBOL, which has not special\n",
      "    parsing for now. please report this issue with the KEGG \n",
      "    identifier (672               CDS       T01001) into github.com/bioservices. Thanks T.C.\u001b[0m\n",
      " 19%|█▉        | 256/1328 [01:40<05:53,  3.03it/s]\u001b[33mWARNING [bioservices:keggparser:119]: \u001b[0m \u001b[34mFound keyword SYMBOL, which has not special\n",
      "    parsing for now. please report this issue with the KEGG \n",
      "    identifier (2175              CDS       T01001) into github.com/bioservices. Thanks T.C.\u001b[0m\n",
      " 19%|█▉        | 257/1328 [01:40<05:46,  3.09it/s]\u001b[33mWARNING [bioservices:keggparser:119]: \u001b[0m \u001b[34mFound keyword SYMBOL, which has not special\n",
      "    parsing for now. please report this issue with the KEGG \n",
      "    identifier (675               CDS       T01001) into github.com/bioservices. Thanks T.C.\u001b[0m\n",
      " 19%|█▉        | 258/1328 [01:41<06:13,  2.86it/s]\u001b[33mWARNING [bioservices:keggparser:119]: \u001b[0m \u001b[34mFound keyword SYMBOL, which has not special\n",
      "    parsing for now. please report this issue with the KEGG \n",
      "    identifier (7157              CDS       T01001) into github.com/bioservices. Thanks T.C.\u001b[0m\n",
      " 20%|█▉        | 259/1328 [01:41<06:35,  2.70it/s]\u001b[33mWARNING [bioservices:keggparser:119]: \u001b[0m \u001b[34mFound keyword SYMBOL, which has not special\n",
      "    parsing for now. please report this issue with the KEGG \n",
      "    identifier (1956              CDS       T01001) into github.com/bioservices. Thanks T.C.\u001b[0m\n",
      " 20%|█▉        | 260/1328 [01:41<07:32,  2.36it/s]\u001b[33mWARNING [bioservices:keggparser:119]: \u001b[0m \u001b[34mFound keyword SYMBOL, which has not special\n",
      "    parsing for now. please report this issue with the KEGG \n",
      "    identifier (5979              CDS       T01001) into github.com/bioservices. Thanks T.C.\u001b[0m\n",
      " 20%|█▉        | 261/1328 [01:42<06:29,  2.74it/s]\u001b[33mWARNING [bioservices:keggparser:119]: \u001b[0m \u001b[34mFound keyword SYMBOL, which has not special\n",
      "    parsing for now. please report this issue with the KEGG \n",
      "    identifier (2322              CDS       T01001) into github.com/bioservices. Thanks T.C.\u001b[0m\n",
      " 20%|█▉        | 262/1328 [01:42<06:25,  2.76it/s]\u001b[33mWARNING [bioservices:keggparser:119]: \u001b[0m \u001b[34mFound keyword SYMBOL, which has not special\n",
      "    parsing for now. please report this issue with the KEGG \n",
      "    identifier (238               CDS       T01001) into github.com/bioservices. Thanks T.C.\u001b[0m\n",
      " 20%|█▉        | 263/1328 [01:42<05:40,  3.12it/s]\u001b[33mWARNING [bioservices:keggparser:119]: \u001b[0m \u001b[34mFound keyword SYMBOL, which has not special\n",
      "    parsing for now. please report this issue with the KEGG \n",
      "    identifier (6597              CDS       T01001) into github.com/bioservices. Thanks T.C.\u001b[0m\n",
      " 20%|█▉        | 264/1328 [01:43<05:49,  3.05it/s]\u001b[33mWARNING [bioservices:KEGG:119]: \u001b[0m \u001b[34mstatus is not ok with Not Found\u001b[0m\n",
      "\u001b[33mWARNING [bioservices:KEGG:119]: \u001b[0m \u001b[34mCould not parse the entry correctly.\u001b[0m\n",
      " 20%|█▉        | 265/1328 [01:43<05:08,  3.45it/s]"
     ]
    },
    {
     "name": "stdout",
     "output_type": "stream",
     "text": [
      "no data for  FAM58A\n"
     ]
    },
    {
     "name": "stderr",
     "output_type": "stream",
     "text": [
      "\u001b[33mWARNING [bioservices:keggparser:119]: \u001b[0m \u001b[34mFound keyword SYMBOL, which has not special\n",
      "    parsing for now. please report this issue with the KEGG \n",
      "    identifier (4893              CDS       T01001) into github.com/bioservices. Thanks T.C.\u001b[0m\n",
      " 20%|██        | 266/1328 [01:44<08:08,  2.18it/s]\u001b[33mWARNING [bioservices:keggparser:119]: \u001b[0m \u001b[34mFound keyword SYMBOL, which has not special\n",
      "    parsing for now. please report this issue with the KEGG \n",
      "    identifier (23476             CDS       T01001) into github.com/bioservices. Thanks T.C.\u001b[0m\n",
      " 20%|██        | 267/1328 [01:44<06:45,  2.61it/s]"
     ]
    },
    {
     "name": "stdout",
     "output_type": "stream",
     "text": [
      "no data for  BRD4\n"
     ]
    },
    {
     "name": "stderr",
     "output_type": "stream",
     "text": [
      "\u001b[33mWARNING [bioservices:keggparser:119]: \u001b[0m \u001b[34mFound keyword SYMBOL, which has not special\n",
      "    parsing for now. please report this issue with the KEGG \n",
      "    identifier (5156              CDS       T01001) into github.com/bioservices. Thanks T.C.\u001b[0m\n",
      " 20%|██        | 268/1328 [01:44<07:04,  2.50it/s]\u001b[33mWARNING [bioservices:keggparser:119]: \u001b[0m \u001b[34mFound keyword SYMBOL, which has not special\n",
      "    parsing for now. please report this issue with the KEGG \n",
      "    identifier (5781              CDS       T01001) into github.com/bioservices. Thanks T.C.\u001b[0m\n",
      " 20%|██        | 269/1328 [01:45<06:31,  2.71it/s]\u001b[33mWARNING [bioservices:keggparser:119]: \u001b[0m \u001b[34mFound keyword SYMBOL, which has not special\n",
      "    parsing for now. please report this issue with the KEGG \n",
      "    identifier (3815              CDS       T01001) into github.com/bioservices. Thanks T.C.\u001b[0m\n",
      " 20%|██        | 270/1328 [01:45<06:06,  2.89it/s]\u001b[33mWARNING [bioservices:keggparser:119]: \u001b[0m \u001b[34mFound keyword SYMBOL, which has not special\n",
      "    parsing for now. please report this issue with the KEGG \n",
      "    identifier (3480              CDS       T01001) into github.com/bioservices. Thanks T.C.\u001b[0m\n",
      " 20%|██        | 271/1328 [01:45<06:28,  2.72it/s]\u001b[33mWARNING [bioservices:keggparser:119]: \u001b[0m \u001b[34mFound keyword SYMBOL, which has not special\n",
      "    parsing for now. please report this issue with the KEGG \n",
      "    identifier (367               CDS       T01001) into github.com/bioservices. Thanks T.C.\u001b[0m\n",
      " 20%|██        | 272/1328 [01:46<05:46,  3.05it/s]\u001b[33mWARNING [bioservices:keggparser:119]: \u001b[0m \u001b[34mFound keyword SYMBOL, which has not special\n",
      "    parsing for now. please report this issue with the KEGG \n",
      "    identifier (6597              CDS       T01001) into github.com/bioservices. Thanks T.C.\u001b[0m\n",
      " 21%|██        | 273/1328 [01:46<05:48,  3.03it/s]\u001b[33mWARNING [bioservices:keggparser:119]: \u001b[0m \u001b[34mFound keyword SYMBOL, which has not special\n",
      "    parsing for now. please report this issue with the KEGG \n",
      "    identifier (4087              CDS       T01001) into github.com/bioservices. Thanks T.C.\u001b[0m\n",
      " 21%|██        | 274/1328 [01:46<05:43,  3.07it/s]\u001b[33mWARNING [bioservices:keggparser:119]: \u001b[0m \u001b[34mFound keyword SYMBOL, which has not special\n",
      "    parsing for now. please report this issue with the KEGG \n",
      "    identifier (238               CDS       T01001) into github.com/bioservices. Thanks T.C.\u001b[0m\n",
      " 21%|██        | 275/1328 [01:46<05:22,  3.27it/s]\u001b[33mWARNING [bioservices:keggparser:119]: \u001b[0m \u001b[34mFound keyword SYMBOL, which has not special\n",
      "    parsing for now. please report this issue with the KEGG \n",
      "    identifier (7157              CDS       T01001) into github.com/bioservices. Thanks T.C.\u001b[0m\n",
      " 21%|██        | 276/1328 [01:47<06:26,  2.72it/s]\u001b[33mWARNING [bioservices:keggparser:119]: \u001b[0m \u001b[34mFound keyword SYMBOL, which has not special\n",
      "    parsing for now. please report this issue with the KEGG \n",
      "    identifier (6794              CDS       T01001) into github.com/bioservices. Thanks T.C.\u001b[0m\n",
      " 21%|██        | 277/1328 [01:47<05:46,  3.04it/s]\u001b[33mWARNING [bioservices:keggparser:119]: \u001b[0m \u001b[34mFound keyword SYMBOL, which has not special\n",
      "    parsing for now. please report this issue with the KEGG \n",
      "    identifier (207               CDS       T01001) into github.com/bioservices. Thanks T.C.\u001b[0m\n",
      " 21%|██        | 278/1328 [01:48<08:33,  2.04it/s]\u001b[33mWARNING [bioservices:keggparser:119]: \u001b[0m \u001b[34mFound keyword SYMBOL, which has not special\n",
      "    parsing for now. please report this issue with the KEGG \n",
      "    identifier (7157              CDS       T01001) into github.com/bioservices. Thanks T.C.\u001b[0m\n",
      " 21%|██        | 279/1328 [01:49<08:06,  2.16it/s]\u001b[33mWARNING [bioservices:keggparser:119]: \u001b[0m \u001b[34mFound keyword SYMBOL, which has not special\n",
      "    parsing for now. please report this issue with the KEGG \n",
      "    identifier (9968              CDS       T01001) into github.com/bioservices. Thanks T.C.\u001b[0m\n",
      " 21%|██        | 280/1328 [01:49<06:45,  2.59it/s]\u001b[33mWARNING [bioservices:keggparser:119]: \u001b[0m \u001b[34mFound keyword SYMBOL, which has not special\n",
      "    parsing for now. please report this issue with the KEGG \n",
      "    identifier (7157              CDS       T01001) into github.com/bioservices. Thanks T.C.\u001b[0m\n",
      " 21%|██        | 281/1328 [01:49<07:45,  2.25it/s]\u001b[33mWARNING [bioservices:keggparser:119]: \u001b[0m \u001b[34mFound keyword SYMBOL, which has not special\n",
      "    parsing for now. please report this issue with the KEGG \n",
      "    identifier (6098              CDS       T01001) into github.com/bioservices. Thanks T.C.\u001b[0m\n",
      " 21%|██        | 282/1328 [01:49<06:26,  2.71it/s]"
     ]
    },
    {
     "name": "stdout",
     "output_type": "stream",
     "text": [
      "no data for  ROS1\n"
     ]
    },
    {
     "name": "stderr",
     "output_type": "stream",
     "text": [
      "\u001b[33mWARNING [bioservices:keggparser:119]: \u001b[0m \u001b[34mFound keyword SYMBOL, which has not special\n",
      "    parsing for now. please report this issue with the KEGG \n",
      "    identifier (672               CDS       T01001) into github.com/bioservices. Thanks T.C.\u001b[0m\n",
      " 21%|██▏       | 283/1328 [01:50<06:27,  2.70it/s]\u001b[33mWARNING [bioservices:keggparser:119]: \u001b[0m \u001b[34mFound keyword SYMBOL, which has not special\n",
      "    parsing for now. please report this issue with the KEGG \n",
      "    identifier (675               CDS       T01001) into github.com/bioservices. Thanks T.C.\u001b[0m\n",
      " 21%|██▏       | 284/1328 [01:50<06:24,  2.72it/s]\u001b[33mWARNING [bioservices:keggparser:119]: \u001b[0m \u001b[34mFound keyword SYMBOL, which has not special\n",
      "    parsing for now. please report this issue with the KEGG \n",
      "    identifier (1956              CDS       T01001) into github.com/bioservices. Thanks T.C.\u001b[0m\n",
      " 21%|██▏       | 285/1328 [01:51<07:50,  2.22it/s]\u001b[33mWARNING [bioservices:keggparser:119]: \u001b[0m \u001b[34mFound keyword SYMBOL, which has not special\n",
      "    parsing for now. please report this issue with the KEGG \n",
      "    identifier (3815              CDS       T01001) into github.com/bioservices. Thanks T.C.\u001b[0m\n",
      " 22%|██▏       | 286/1328 [01:51<06:57,  2.50it/s]\u001b[33mWARNING [bioservices:keggparser:119]: \u001b[0m \u001b[34mFound keyword SYMBOL, which has not special\n",
      "    parsing for now. please report this issue with the KEGG \n",
      "    identifier (5979              CDS       T01001) into github.com/bioservices. Thanks T.C.\u001b[0m\n",
      " 22%|██▏       | 287/1328 [01:51<06:16,  2.76it/s]\u001b[33mWARNING [bioservices:keggparser:119]: \u001b[0m \u001b[34mFound keyword SYMBOL, which has not special\n",
      "    parsing for now. please report this issue with the KEGG \n",
      "    identifier (4088              CDS       T01001) into github.com/bioservices. Thanks T.C.\u001b[0m\n",
      " 22%|██▏       | 288/1328 [01:52<06:20,  2.73it/s]\u001b[33mWARNING [bioservices:keggparser:119]: \u001b[0m \u001b[34mFound keyword SYMBOL, which has not special\n",
      "    parsing for now. please report this issue with the KEGG \n",
      "    identifier (4088              CDS       T01001) into github.com/bioservices. Thanks T.C.\u001b[0m\n",
      " 22%|██▏       | 289/1328 [01:52<06:02,  2.87it/s]\u001b[33mWARNING [bioservices:keggparser:119]: \u001b[0m \u001b[34mFound keyword SYMBOL, which has not special\n",
      "    parsing for now. please report this issue with the KEGG \n",
      "    identifier (387               CDS       T01001) into github.com/bioservices. Thanks T.C.\u001b[0m\n",
      " 22%|██▏       | 290/1328 [01:53<06:33,  2.64it/s]\u001b[33mWARNING [bioservices:keggparser:119]: \u001b[0m \u001b[34mFound keyword SYMBOL, which has not special\n",
      "    parsing for now. please report this issue with the KEGG \n",
      "    identifier (672               CDS       T01001) into github.com/bioservices. Thanks T.C.\u001b[0m\n",
      " 22%|██▏       | 291/1328 [01:53<05:48,  2.98it/s]\u001b[33mWARNING [bioservices:keggparser:119]: \u001b[0m \u001b[34mFound keyword SYMBOL, which has not special\n",
      "    parsing for now. please report this issue with the KEGG \n",
      "    identifier (6416              CDS       T01001) into github.com/bioservices. Thanks T.C.\u001b[0m\n",
      " 22%|██▏       | 292/1328 [01:53<06:07,  2.82it/s]\u001b[33mWARNING [bioservices:keggparser:119]: \u001b[0m \u001b[34mFound keyword SYMBOL, which has not special\n",
      "    parsing for now. please report this issue with the KEGG \n",
      "    identifier (7249              CDS       T01001) into github.com/bioservices. Thanks T.C.\u001b[0m\n",
      " 22%|██▏       | 293/1328 [01:53<05:39,  3.05it/s]\u001b[33mWARNING [bioservices:keggparser:119]: \u001b[0m \u001b[34mFound keyword SYMBOL, which has not special\n",
      "    parsing for now. please report this issue with the KEGG \n",
      "    identifier (5156              CDS       T01001) into github.com/bioservices. Thanks T.C.\u001b[0m\n",
      " 22%|██▏       | 294/1328 [01:54<05:54,  2.92it/s]\u001b[33mWARNING [bioservices:keggparser:119]: \u001b[0m \u001b[34mFound keyword SYMBOL, which has not special\n",
      "    parsing for now. please report this issue with the KEGG \n",
      "    identifier (3815              CDS       T01001) into github.com/bioservices. Thanks T.C.\u001b[0m\n",
      " 22%|██▏       | 295/1328 [01:54<05:25,  3.17it/s]\u001b[33mWARNING [bioservices:keggparser:119]: \u001b[0m \u001b[34mFound keyword SYMBOL, which has not special\n",
      "    parsing for now. please report this issue with the KEGG \n",
      "    identifier (54790             CDS       T01001) into github.com/bioservices. Thanks T.C.\u001b[0m\n",
      " 22%|██▏       | 296/1328 [01:54<05:11,  3.31it/s]"
     ]
    },
    {
     "name": "stdout",
     "output_type": "stream",
     "text": [
      "no data for  TET2\n"
     ]
    },
    {
     "name": "stderr",
     "output_type": "stream",
     "text": [
      "\u001b[33mWARNING [bioservices:keggparser:119]: \u001b[0m \u001b[34mFound keyword SYMBOL, which has not special\n",
      "    parsing for now. please report this issue with the KEGG \n",
      "    identifier (7080              CDS       T01001) into github.com/bioservices. Thanks T.C.\u001b[0m\n",
      " 22%|██▏       | 297/1328 [01:55<04:58,  3.45it/s]"
     ]
    },
    {
     "name": "stdout",
     "output_type": "stream",
     "text": [
      "no data for  NKX2-1\n"
     ]
    },
    {
     "name": "stderr",
     "output_type": "stream",
     "text": [
      "\u001b[33mWARNING [bioservices:keggparser:119]: \u001b[0m \u001b[34mFound keyword SYMBOL, which has not special\n",
      "    parsing for now. please report this issue with the KEGG \n",
      "    identifier (2475              CDS       T01001) into github.com/bioservices. Thanks T.C.\u001b[0m\n",
      " 22%|██▏       | 298/1328 [01:55<06:53,  2.49it/s]\u001b[33mWARNING [bioservices:keggparser:119]: \u001b[0m \u001b[34mFound keyword SYMBOL, which has not special\n",
      "    parsing for now. please report this issue with the KEGG \n",
      "    identifier (2033              CDS       T01001) into github.com/bioservices. Thanks T.C.\u001b[0m\n",
      " 23%|██▎       | 299/1328 [01:56<07:09,  2.40it/s]\u001b[33mWARNING [bioservices:keggparser:119]: \u001b[0m \u001b[34mFound keyword SYMBOL, which has not special\n",
      "    parsing for now. please report this issue with the KEGG \n",
      "    identifier (673               CDS       T01001) into github.com/bioservices. Thanks T.C.\u001b[0m\n",
      " 23%|██▎       | 300/1328 [01:56<07:43,  2.22it/s]\u001b[33mWARNING [bioservices:keggparser:119]: \u001b[0m \u001b[34mFound keyword SYMBOL, which has not special\n",
      "    parsing for now. please report this issue with the KEGG \n",
      "    identifier (8405              CDS       T01001) into github.com/bioservices. Thanks T.C.\u001b[0m\n",
      " 23%|██▎       | 301/1328 [01:56<06:23,  2.68it/s]\u001b[33mWARNING [bioservices:keggparser:119]: \u001b[0m \u001b[34mFound keyword SYMBOL, which has not special\n",
      "    parsing for now. please report this issue with the KEGG \n",
      "    identifier (7157              CDS       T01001) into github.com/bioservices. Thanks T.C.\u001b[0m\n",
      " 23%|██▎       | 302/1328 [01:57<07:23,  2.31it/s]\u001b[33mWARNING [bioservices:keggparser:119]: \u001b[0m \u001b[34mFound keyword SYMBOL, which has not special\n",
      "    parsing for now. please report this issue with the KEGG \n",
      "    identifier (7157              CDS       T01001) into github.com/bioservices. Thanks T.C.\u001b[0m\n",
      " 23%|██▎       | 303/1328 [01:57<07:17,  2.35it/s]\u001b[33mWARNING [bioservices:keggparser:119]: \u001b[0m \u001b[34mFound keyword SYMBOL, which has not special\n",
      "    parsing for now. please report this issue with the KEGG \n",
      "    identifier (6416              CDS       T01001) into github.com/bioservices. Thanks T.C.\u001b[0m\n",
      " 23%|██▎       | 304/1328 [01:58<06:32,  2.61it/s]\u001b[33mWARNING [bioservices:keggparser:119]: \u001b[0m \u001b[34mFound keyword SYMBOL, which has not special\n",
      "    parsing for now. please report this issue with the KEGG \n",
      "    identifier (6608              CDS       T01001) into github.com/bioservices. Thanks T.C.\u001b[0m\n",
      " 23%|██▎       | 305/1328 [01:58<05:52,  2.90it/s]\u001b[33mWARNING [bioservices:keggparser:119]: \u001b[0m \u001b[34mFound keyword SYMBOL, which has not special\n",
      "    parsing for now. please report this issue with the KEGG \n",
      "    identifier (3717              CDS       T01001) into github.com/bioservices. Thanks T.C.\u001b[0m\n",
      " 23%|██▎       | 306/1328 [01:58<06:10,  2.76it/s]\u001b[33mWARNING [bioservices:keggparser:119]: \u001b[0m \u001b[34mFound keyword SYMBOL, which has not special\n",
      "    parsing for now. please report this issue with the KEGG \n",
      "    identifier (5781              CDS       T01001) into github.com/bioservices. Thanks T.C.\u001b[0m\n",
      " 23%|██▎       | 307/1328 [01:59<05:44,  2.97it/s]\u001b[33mWARNING [bioservices:keggparser:119]: \u001b[0m \u001b[34mFound keyword SYMBOL, which has not special\n",
      "    parsing for now. please report this issue with the KEGG \n",
      "    identifier (1956              CDS       T01001) into github.com/bioservices. Thanks T.C.\u001b[0m\n",
      " 23%|██▎       | 308/1328 [01:59<07:05,  2.40it/s]\u001b[33mWARNING [bioservices:keggparser:119]: \u001b[0m \u001b[34mFound keyword SYMBOL, which has not special\n",
      "    parsing for now. please report this issue with the KEGG \n",
      "    identifier (5156              CDS       T01001) into github.com/bioservices. Thanks T.C.\u001b[0m\n",
      " 23%|██▎       | 309/1328 [02:00<06:23,  2.66it/s]\u001b[33mWARNING [bioservices:keggparser:119]: \u001b[0m \u001b[34mFound keyword SYMBOL, which has not special\n",
      "    parsing for now. please report this issue with the KEGG \n",
      "    identifier (1029              CDS       T01001) into github.com/bioservices. Thanks T.C.\u001b[0m\n",
      " 23%|██▎       | 310/1328 [02:00<06:19,  2.68it/s]\u001b[33mWARNING [bioservices:keggparser:119]: \u001b[0m \u001b[34mFound keyword SYMBOL, which has not special\n",
      "    parsing for now. please report this issue with the KEGG \n",
      "    identifier (7248              CDS       T01001) into github.com/bioservices. Thanks T.C.\u001b[0m\n",
      " 23%|██▎       | 311/1328 [02:00<05:44,  2.95it/s]\u001b[33mWARNING [bioservices:keggparser:119]: \u001b[0m \u001b[34mFound keyword SYMBOL, which has not special\n",
      "    parsing for now. please report this issue with the KEGG \n",
      "    identifier (672               CDS       T01001) into github.com/bioservices. Thanks T.C.\u001b[0m\n",
      " 23%|██▎       | 312/1328 [02:00<05:37,  3.01it/s]\u001b[33mWARNING [bioservices:keggparser:119]: \u001b[0m \u001b[34mFound keyword SYMBOL, which has not special\n",
      "    parsing for now. please report this issue with the KEGG \n",
      "    identifier (675               CDS       T01001) into github.com/bioservices. Thanks T.C.\u001b[0m\n",
      " 24%|██▎       | 313/1328 [02:01<05:53,  2.87it/s]\u001b[33mWARNING [bioservices:keggparser:119]: \u001b[0m \u001b[34mFound keyword SYMBOL, which has not special\n",
      "    parsing for now. please report this issue with the KEGG \n",
      "    identifier (673               CDS       T01001) into github.com/bioservices. Thanks T.C.\u001b[0m\n",
      " 24%|██▎       | 314/1328 [02:01<06:48,  2.48it/s]\u001b[33mWARNING [bioservices:keggparser:119]: \u001b[0m \u001b[34mFound keyword SYMBOL, which has not special\n",
      "    parsing for now. please report this issue with the KEGG \n",
      "    identifier (672               CDS       T01001) into github.com/bioservices. Thanks T.C.\u001b[0m\n",
      " 24%|██▎       | 315/1328 [02:02<05:54,  2.85it/s]\u001b[33mWARNING [bioservices:keggparser:119]: \u001b[0m \u001b[34mFound keyword SYMBOL, which has not special\n",
      "    parsing for now. please report this issue with the KEGG \n",
      "    identifier (238               CDS       T01001) into github.com/bioservices. Thanks T.C.\u001b[0m\n",
      " 24%|██▍       | 316/1328 [02:02<05:49,  2.89it/s]\u001b[33mWARNING [bioservices:keggparser:119]: \u001b[0m \u001b[34mFound keyword SYMBOL, which has not special\n",
      "    parsing for now. please report this issue with the KEGG \n",
      "    identifier (3716              CDS       T01001) into github.com/bioservices. Thanks T.C.\u001b[0m\n",
      " 24%|██▍       | 317/1328 [02:02<05:39,  2.98it/s]\u001b[33mWARNING [bioservices:keggparser:119]: \u001b[0m \u001b[34mFound keyword SYMBOL, which has not special\n",
      "    parsing for now. please report this issue with the KEGG \n",
      "    identifier (80312             CDS       T01001) into github.com/bioservices. Thanks T.C.\u001b[0m\n",
      " 24%|██▍       | 318/1328 [02:02<05:02,  3.34it/s]"
     ]
    },
    {
     "name": "stdout",
     "output_type": "stream",
     "text": [
      "no data for  TET1\n"
     ]
    },
    {
     "name": "stderr",
     "output_type": "stream",
     "text": [
      "\u001b[33mWARNING [bioservices:keggparser:119]: \u001b[0m \u001b[34mFound keyword SYMBOL, which has not special\n",
      "    parsing for now. please report this issue with the KEGG \n",
      "    identifier (1493              CDS       T01001) into github.com/bioservices. Thanks T.C.\u001b[0m\n",
      " 24%|██▍       | 319/1328 [02:03<05:22,  3.13it/s]\u001b[33mWARNING [bioservices:keggparser:119]: \u001b[0m \u001b[34mFound keyword SYMBOL, which has not special\n",
      "    parsing for now. please report this issue with the KEGG \n",
      "    identifier (1956              CDS       T01001) into github.com/bioservices. Thanks T.C.\u001b[0m\n",
      " 24%|██▍       | 320/1328 [02:03<06:24,  2.62it/s]\u001b[33mWARNING [bioservices:keggparser:119]: \u001b[0m \u001b[34mFound keyword SYMBOL, which has not special\n",
      "    parsing for now. please report this issue with the KEGG \n",
      "    identifier (1029              CDS       T01001) into github.com/bioservices. Thanks T.C.\u001b[0m\n",
      " 24%|██▍       | 321/1328 [02:04<05:50,  2.87it/s]\u001b[33mWARNING [bioservices:keggparser:119]: \u001b[0m \u001b[34mFound keyword SYMBOL, which has not special\n",
      "    parsing for now. please report this issue with the KEGG \n",
      "    identifier (1956              CDS       T01001) into github.com/bioservices. Thanks T.C.\u001b[0m\n",
      " 24%|██▍       | 322/1328 [02:04<07:11,  2.33it/s]\u001b[33mWARNING [bioservices:keggparser:119]: \u001b[0m \u001b[34mFound keyword SYMBOL, which has not special\n",
      "    parsing for now. please report this issue with the KEGG \n",
      "    identifier (7249              CDS       T01001) into github.com/bioservices. Thanks T.C.\u001b[0m\n",
      " 24%|██▍       | 323/1328 [02:05<06:38,  2.52it/s]\u001b[33mWARNING [bioservices:keggparser:119]: \u001b[0m \u001b[34mFound keyword SYMBOL, which has not special\n",
      "    parsing for now. please report this issue with the KEGG \n",
      "    identifier (5290              CDS       T01001) into github.com/bioservices. Thanks T.C.\u001b[0m\n",
      " 24%|██▍       | 324/1328 [02:05<08:36,  1.94it/s]\u001b[33mWARNING [bioservices:keggparser:119]: \u001b[0m \u001b[34mFound keyword SYMBOL, which has not special\n",
      "    parsing for now. please report this issue with the KEGG \n",
      "    identifier (7157              CDS       T01001) into github.com/bioservices. Thanks T.C.\u001b[0m\n",
      " 24%|██▍       | 325/1328 [02:06<08:04,  2.07it/s]\u001b[33mWARNING [bioservices:keggparser:119]: \u001b[0m \u001b[34mFound keyword SYMBOL, which has not special\n",
      "    parsing for now. please report this issue with the KEGG \n",
      "    identifier (5604              CDS       T01001) into github.com/bioservices. Thanks T.C.\u001b[0m\n",
      " 25%|██▍       | 326/1328 [02:07<09:12,  1.81it/s]\u001b[33mWARNING [bioservices:keggparser:119]: \u001b[0m \u001b[34mFound keyword SYMBOL, which has not special\n",
      "    parsing for now. please report this issue with the KEGG \n",
      "    identifier (6390              CDS       T01001) into github.com/bioservices. Thanks T.C.\u001b[0m\n",
      " 25%|██▍       | 327/1328 [02:07<07:42,  2.16it/s]\u001b[33mWARNING [bioservices:keggparser:119]: \u001b[0m \u001b[34mFound keyword SYMBOL, which has not special\n",
      "    parsing for now. please report this issue with the KEGG \n",
      "    identifier (2175              CDS       T01001) into github.com/bioservices. Thanks T.C.\u001b[0m\n",
      " 25%|██▍       | 328/1328 [02:07<06:51,  2.43it/s]\u001b[33mWARNING [bioservices:keggparser:119]: \u001b[0m \u001b[34mFound keyword SYMBOL, which has not special\n",
      "    parsing for now. please report this issue with the KEGG \n",
      "    identifier (5290              CDS       T01001) into github.com/bioservices. Thanks T.C.\u001b[0m\n",
      " 25%|██▍       | 329/1328 [02:08<09:01,  1.84it/s]\u001b[33mWARNING [bioservices:keggparser:119]: \u001b[0m \u001b[34mFound keyword SYMBOL, which has not special\n",
      "    parsing for now. please report this issue with the KEGG \n",
      "    identifier (3845              CDS       T01001) into github.com/bioservices. Thanks T.C.\u001b[0m\n",
      " 25%|██▍       | 330/1328 [02:09<09:45,  1.70it/s]\u001b[33mWARNING [bioservices:keggparser:119]: \u001b[0m \u001b[34mFound keyword SYMBOL, which has not special\n",
      "    parsing for now. please report this issue with the KEGG \n",
      "    identifier (4851              CDS       T01001) into github.com/bioservices. Thanks T.C.\u001b[0m\n",
      " 25%|██▍       | 331/1328 [02:09<07:56,  2.09it/s]\u001b[33mWARNING [bioservices:keggparser:119]: \u001b[0m \u001b[34mFound keyword SYMBOL, which has not special\n",
      "    parsing for now. please report this issue with the KEGG \n",
      "    identifier (675               CDS       T01001) into github.com/bioservices. Thanks T.C.\u001b[0m\n",
      " 25%|██▌       | 332/1328 [02:09<07:51,  2.11it/s]\u001b[33mWARNING [bioservices:keggparser:119]: \u001b[0m \u001b[34mFound keyword SYMBOL, which has not special\n",
      "    parsing for now. please report this issue with the KEGG \n",
      "    identifier (675               CDS       T01001) into github.com/bioservices. Thanks T.C.\u001b[0m\n",
      " 25%|██▌       | 333/1328 [02:10<07:19,  2.26it/s]\u001b[33mWARNING [bioservices:keggparser:119]: \u001b[0m \u001b[34mFound keyword SYMBOL, which has not special\n",
      "    parsing for now. please report this issue with the KEGG \n",
      "    identifier (673               CDS       T01001) into github.com/bioservices. Thanks T.C.\u001b[0m\n",
      " 25%|██▌       | 334/1328 [02:10<07:44,  2.14it/s]\u001b[33mWARNING [bioservices:keggparser:119]: \u001b[0m \u001b[34mFound keyword SYMBOL, which has not special\n",
      "    parsing for now. please report this issue with the KEGG \n",
      "    identifier (5159              CDS       T01001) into github.com/bioservices. Thanks T.C.\u001b[0m\n",
      " 25%|██▌       | 335/1328 [02:10<06:48,  2.43it/s]\u001b[33mWARNING [bioservices:keggparser:119]: \u001b[0m \u001b[34mFound keyword SYMBOL, which has not special\n",
      "    parsing for now. please report this issue with the KEGG \n",
      "    identifier (672               CDS       T01001) into github.com/bioservices. Thanks T.C.\u001b[0m\n",
      " 25%|██▌       | 336/1328 [02:11<06:17,  2.63it/s]\u001b[33mWARNING [bioservices:keggparser:119]: \u001b[0m \u001b[34mFound keyword SYMBOL, which has not special\n",
      "    parsing for now. please report this issue with the KEGG \n",
      "    identifier (4893              CDS       T01001) into github.com/bioservices. Thanks T.C.\u001b[0m\n",
      " 25%|██▌       | 337/1328 [02:11<07:55,  2.09it/s]\u001b[33mWARNING [bioservices:keggparser:119]: \u001b[0m \u001b[34mFound keyword SYMBOL, which has not special\n",
      "    parsing for now. please report this issue with the KEGG \n",
      "    identifier (5728              CDS       T01001) into github.com/bioservices. Thanks T.C.\u001b[0m\n",
      " 25%|██▌       | 338/1328 [02:12<07:04,  2.33it/s]\u001b[33mWARNING [bioservices:keggparser:119]: \u001b[0m \u001b[34mFound keyword SYMBOL, which has not special\n",
      "    parsing for now. please report this issue with the KEGG \n",
      "    identifier (367               CDS       T01001) into github.com/bioservices. Thanks T.C.\u001b[0m\n",
      " 26%|██▌       | 339/1328 [02:12<06:12,  2.65it/s]\u001b[33mWARNING [bioservices:keggparser:119]: \u001b[0m \u001b[34mFound keyword SYMBOL, which has not special\n",
      "    parsing for now. please report this issue with the KEGG \n",
      "    identifier (672               CDS       T01001) into github.com/bioservices. Thanks T.C.\u001b[0m\n",
      " 26%|██▌       | 340/1328 [02:12<05:57,  2.76it/s]\u001b[33mWARNING [bioservices:keggparser:119]: \u001b[0m \u001b[34mFound keyword SYMBOL, which has not special\n",
      "    parsing for now. please report this issue with the KEGG \n",
      "    identifier (861               CDS       T01001) into github.com/bioservices. Thanks T.C.\u001b[0m\n",
      " 26%|██▌       | 341/1328 [02:13<05:21,  3.07it/s]\u001b[33mWARNING [bioservices:keggparser:119]: \u001b[0m \u001b[34mFound keyword SYMBOL, which has not special\n",
      "    parsing for now. please report this issue with the KEGG \n",
      "    identifier (1029              CDS       T01001) into github.com/bioservices. Thanks T.C.\u001b[0m\n",
      " 26%|██▌       | 342/1328 [02:13<05:36,  2.93it/s]\u001b[33mWARNING [bioservices:keggparser:119]: \u001b[0m \u001b[34mFound keyword SYMBOL, which has not special\n",
      "    parsing for now. please report this issue with the KEGG \n",
      "    identifier (2263              CDS       T01001) into github.com/bioservices. Thanks T.C.\u001b[0m\n",
      " 26%|██▌       | 343/1328 [02:13<05:13,  3.14it/s]\u001b[33mWARNING [bioservices:keggparser:119]: \u001b[0m \u001b[34mFound keyword SYMBOL, which has not special\n",
      "    parsing for now. please report this issue with the KEGG \n",
      "    identifier (7249              CDS       T01001) into github.com/bioservices. Thanks T.C.\u001b[0m\n",
      " 26%|██▌       | 344/1328 [02:14<05:14,  3.12it/s]\u001b[33mWARNING [bioservices:keggparser:119]: \u001b[0m \u001b[34mFound keyword SYMBOL, which has not special\n",
      "    parsing for now. please report this issue with the KEGG \n",
      "    identifier (25                CDS       T01001) into github.com/bioservices. Thanks T.C.\u001b[0m\n"
     ]
    },
    {
     "name": "stderr",
     "output_type": "stream",
     "text": [
      " 26%|██▌       | 345/1328 [02:14<04:55,  3.33it/s]\u001b[33mWARNING [bioservices:keggparser:119]: \u001b[0m \u001b[34mFound keyword SYMBOL, which has not special\n",
      "    parsing for now. please report this issue with the KEGG \n",
      "    identifier (55294             CDS       T01001) into github.com/bioservices. Thanks T.C.\u001b[0m\n",
      " 26%|██▌       | 346/1328 [02:14<05:03,  3.23it/s]\u001b[33mWARNING [bioservices:keggparser:119]: \u001b[0m \u001b[34mFound keyword SYMBOL, which has not special\n",
      "    parsing for now. please report this issue with the KEGG \n",
      "    identifier (3169              CDS       T01001) into github.com/bioservices. Thanks T.C.\u001b[0m\n",
      " 26%|██▌       | 347/1328 [02:14<04:29,  3.64it/s]"
     ]
    },
    {
     "name": "stdout",
     "output_type": "stream",
     "text": [
      "no data for  FOXA1\n"
     ]
    },
    {
     "name": "stderr",
     "output_type": "stream",
     "text": [
      "\u001b[33mWARNING [bioservices:keggparser:119]: \u001b[0m \u001b[34mFound keyword SYMBOL, which has not special\n",
      "    parsing for now. please report this issue with the KEGG \n",
      "    identifier (2064              CDS       T01001) into github.com/bioservices. Thanks T.C.\u001b[0m\n",
      " 26%|██▌       | 348/1328 [02:15<05:12,  3.14it/s]\u001b[33mWARNING [bioservices:keggparser:119]: \u001b[0m \u001b[34mFound keyword SYMBOL, which has not special\n",
      "    parsing for now. please report this issue with the KEGG \n",
      "    identifier (4087              CDS       T01001) into github.com/bioservices. Thanks T.C.\u001b[0m\n",
      " 26%|██▋       | 349/1328 [02:15<05:02,  3.24it/s]\u001b[33mWARNING [bioservices:keggparser:119]: \u001b[0m \u001b[34mFound keyword SYMBOL, which has not special\n",
      "    parsing for now. please report this issue with the KEGG \n",
      "    identifier (5295              CDS       T01001) into github.com/bioservices. Thanks T.C.\u001b[0m\n",
      " 26%|██▋       | 350/1328 [02:16<07:40,  2.12it/s]\u001b[33mWARNING [bioservices:keggparser:119]: \u001b[0m \u001b[34mFound keyword SYMBOL, which has not special\n",
      "    parsing for now. please report this issue with the KEGG \n",
      "    identifier (672               CDS       T01001) into github.com/bioservices. Thanks T.C.\u001b[0m\n",
      " 26%|██▋       | 351/1328 [02:16<06:26,  2.53it/s]\u001b[33mWARNING [bioservices:keggparser:119]: \u001b[0m \u001b[34mFound keyword SYMBOL, which has not special\n",
      "    parsing for now. please report this issue with the KEGG \n",
      "    identifier (7157              CDS       T01001) into github.com/bioservices. Thanks T.C.\u001b[0m\n",
      " 27%|██▋       | 352/1328 [02:17<07:07,  2.28it/s]\u001b[33mWARNING [bioservices:keggparser:119]: \u001b[0m \u001b[34mFound keyword SYMBOL, which has not special\n",
      "    parsing for now. please report this issue with the KEGG \n",
      "    identifier (3815              CDS       T01001) into github.com/bioservices. Thanks T.C.\u001b[0m\n",
      " 27%|██▋       | 353/1328 [02:17<06:05,  2.67it/s]\u001b[33mWARNING [bioservices:keggparser:119]: \u001b[0m \u001b[34mFound keyword SYMBOL, which has not special\n",
      "    parsing for now. please report this issue with the KEGG \n",
      "    identifier (2099              CDS       T01001) into github.com/bioservices. Thanks T.C.\u001b[0m\n",
      " 27%|██▋       | 354/1328 [02:17<06:01,  2.70it/s]\u001b[33mWARNING [bioservices:keggparser:119]: \u001b[0m \u001b[34mFound keyword SYMBOL, which has not special\n",
      "    parsing for now. please report this issue with the KEGG \n",
      "    identifier (672               CDS       T01001) into github.com/bioservices. Thanks T.C.\u001b[0m\n",
      " 27%|██▋       | 355/1328 [02:17<05:19,  3.05it/s]\u001b[33mWARNING [bioservices:keggparser:119]: \u001b[0m \u001b[34mFound keyword SYMBOL, which has not special\n",
      "    parsing for now. please report this issue with the KEGG \n",
      "    identifier (5728              CDS       T01001) into github.com/bioservices. Thanks T.C.\u001b[0m\n",
      " 27%|██▋       | 356/1328 [02:18<05:48,  2.79it/s]\u001b[33mWARNING [bioservices:keggparser:119]: \u001b[0m \u001b[34mFound keyword SYMBOL, which has not special\n",
      "    parsing for now. please report this issue with the KEGG \n",
      "    identifier (55294             CDS       T01001) into github.com/bioservices. Thanks T.C.\u001b[0m\n",
      " 27%|██▋       | 357/1328 [02:18<05:01,  3.22it/s]\u001b[33mWARNING [bioservices:keggparser:119]: \u001b[0m \u001b[34mFound keyword SYMBOL, which has not special\n",
      "    parsing for now. please report this issue with the KEGG \n",
      "    identifier (4851              CDS       T01001) into github.com/bioservices. Thanks T.C.\u001b[0m\n",
      " 27%|██▋       | 358/1328 [02:18<05:22,  3.00it/s]\u001b[33mWARNING [bioservices:keggparser:119]: \u001b[0m \u001b[34mFound keyword SYMBOL, which has not special\n",
      "    parsing for now. please report this issue with the KEGG \n",
      "    identifier (5728              CDS       T01001) into github.com/bioservices. Thanks T.C.\u001b[0m\n",
      " 27%|██▋       | 359/1328 [02:19<05:16,  3.06it/s]\u001b[33mWARNING [bioservices:keggparser:119]: \u001b[0m \u001b[34mFound keyword SYMBOL, which has not special\n",
      "    parsing for now. please report this issue with the KEGG \n",
      "    identifier (1956              CDS       T01001) into github.com/bioservices. Thanks T.C.\u001b[0m\n",
      " 27%|██▋       | 360/1328 [02:19<06:26,  2.50it/s]\u001b[33mWARNING [bioservices:keggparser:119]: \u001b[0m \u001b[34mFound keyword SYMBOL, which has not special\n",
      "    parsing for now. please report this issue with the KEGG \n",
      "    identifier (4869              CDS       T01001) into github.com/bioservices. Thanks T.C.\u001b[0m\n",
      " 27%|██▋       | 361/1328 [02:20<05:25,  2.97it/s]"
     ]
    },
    {
     "name": "stdout",
     "output_type": "stream",
     "text": [
      "no data for  NPM1\n"
     ]
    },
    {
     "name": "stderr",
     "output_type": "stream",
     "text": [
      "\u001b[33mWARNING [bioservices:keggparser:119]: \u001b[0m \u001b[34mFound keyword SYMBOL, which has not special\n",
      "    parsing for now. please report this issue with the KEGG \n",
      "    identifier (5728              CDS       T01001) into github.com/bioservices. Thanks T.C.\u001b[0m\n",
      " 27%|██▋       | 362/1328 [02:20<06:07,  2.63it/s]\u001b[33mWARNING [bioservices:keggparser:119]: \u001b[0m \u001b[34mFound keyword SYMBOL, which has not special\n",
      "    parsing for now. please report this issue with the KEGG \n",
      "    identifier (1956              CDS       T01001) into github.com/bioservices. Thanks T.C.\u001b[0m\n",
      " 27%|██▋       | 363/1328 [02:21<06:52,  2.34it/s]\u001b[33mWARNING [bioservices:keggparser:119]: \u001b[0m \u001b[34mFound keyword SYMBOL, which has not special\n",
      "    parsing for now. please report this issue with the KEGG \n",
      "    identifier (3815              CDS       T01001) into github.com/bioservices. Thanks T.C.\u001b[0m\n",
      " 27%|██▋       | 364/1328 [02:21<05:59,  2.68it/s]\u001b[33mWARNING [bioservices:keggparser:119]: \u001b[0m \u001b[34mFound keyword SYMBOL, which has not special\n",
      "    parsing for now. please report this issue with the KEGG \n",
      "    identifier (2068              CDS       T01001) into github.com/bioservices. Thanks T.C.\u001b[0m\n",
      " 27%|██▋       | 365/1328 [02:21<05:40,  2.83it/s]\u001b[33mWARNING [bioservices:keggparser:119]: \u001b[0m \u001b[34mFound keyword SYMBOL, which has not special\n",
      "    parsing for now. please report this issue with the KEGG \n",
      "    identifier (2475              CDS       T01001) into github.com/bioservices. Thanks T.C.\u001b[0m\n",
      " 28%|██▊       | 366/1328 [02:22<06:44,  2.38it/s]\u001b[33mWARNING [bioservices:keggparser:119]: \u001b[0m \u001b[34mFound keyword SYMBOL, which has not special\n",
      "    parsing for now. please report this issue with the KEGG \n",
      "    identifier (8405              CDS       T01001) into github.com/bioservices. Thanks T.C.\u001b[0m\n",
      " 28%|██▊       | 367/1328 [02:22<05:37,  2.85it/s]\u001b[33mWARNING [bioservices:keggparser:119]: \u001b[0m \u001b[34mFound keyword SYMBOL, which has not special\n",
      "    parsing for now. please report this issue with the KEGG \n",
      "    identifier (2248              CDS       T01001) into github.com/bioservices. Thanks T.C.\u001b[0m\n",
      " 28%|██▊       | 368/1328 [02:22<05:51,  2.73it/s]\u001b[33mWARNING [bioservices:keggparser:119]: \u001b[0m \u001b[34mFound keyword SYMBOL, which has not special\n",
      "    parsing for now. please report this issue with the KEGG \n",
      "    identifier (5727              CDS       T01001) into github.com/bioservices. Thanks T.C.\u001b[0m\n",
      " 28%|██▊       | 369/1328 [02:23<05:16,  3.03it/s]\u001b[33mWARNING [bioservices:keggparser:119]: \u001b[0m \u001b[34mFound keyword SYMBOL, which has not special\n",
      "    parsing for now. please report this issue with the KEGG \n",
      "    identifier (387               CDS       T01001) into github.com/bioservices. Thanks T.C.\u001b[0m\n",
      " 28%|██▊       | 370/1328 [02:23<05:55,  2.69it/s]\u001b[33mWARNING [bioservices:keggparser:119]: \u001b[0m \u001b[34mFound keyword SYMBOL, which has not special\n",
      "    parsing for now. please report this issue with the KEGG \n",
      "    identifier (3417              CDS       T01001) into github.com/bioservices. Thanks T.C.\u001b[0m\n",
      " 28%|██▊       | 371/1328 [02:23<05:19,  3.00it/s]\u001b[33mWARNING [bioservices:keggparser:119]: \u001b[0m \u001b[34mFound keyword SYMBOL, which has not special\n",
      "    parsing for now. please report this issue with the KEGG \n",
      "    identifier (5290              CDS       T01001) into github.com/bioservices. Thanks T.C.\u001b[0m\n",
      " 28%|██▊       | 372/1328 [02:24<09:14,  1.72it/s]\u001b[33mWARNING [bioservices:keggparser:119]: \u001b[0m \u001b[34mFound keyword SYMBOL, which has not special\n",
      "    parsing for now. please report this issue with the KEGG \n",
      "    identifier (3106              CDS       T01001) into github.com/bioservices. Thanks T.C.\u001b[0m\n",
      " 28%|██▊       | 373/1328 [02:25<07:50,  2.03it/s]\u001b[33mWARNING [bioservices:keggparser:119]: \u001b[0m \u001b[34mFound keyword SYMBOL, which has not special\n",
      "    parsing for now. please report this issue with the KEGG \n",
      "    identifier (5296              CDS       T01001) into github.com/bioservices. Thanks T.C.\u001b[0m\n",
      " 28%|██▊       | 374/1328 [02:26<09:26,  1.68it/s]\u001b[33mWARNING [bioservices:keggparser:119]: \u001b[0m \u001b[34mFound keyword SYMBOL, which has not special\n",
      "    parsing for now. please report this issue with the KEGG \n",
      "    identifier (672               CDS       T01001) into github.com/bioservices. Thanks T.C.\u001b[0m\n",
      " 28%|██▊       | 375/1328 [02:26<07:38,  2.08it/s]\u001b[33mWARNING [bioservices:keggparser:119]: \u001b[0m \u001b[34mFound keyword SYMBOL, which has not special\n",
      "    parsing for now. please report this issue with the KEGG \n",
      "    identifier (5728              CDS       T01001) into github.com/bioservices. Thanks T.C.\u001b[0m\n",
      " 28%|██▊       | 376/1328 [02:26<07:28,  2.12it/s]\u001b[33mWARNING [bioservices:keggparser:119]: \u001b[0m \u001b[34mFound keyword SYMBOL, which has not special\n",
      "    parsing for now. please report this issue with the KEGG \n",
      "    identifier (5894              CDS       T01001) into github.com/bioservices. Thanks T.C.\u001b[0m\n",
      " 28%|██▊       | 377/1328 [02:27<08:38,  1.83it/s]\u001b[33mWARNING [bioservices:keggparser:119]: \u001b[0m \u001b[34mFound keyword SYMBOL, which has not special\n",
      "    parsing for now. please report this issue with the KEGG \n",
      "    identifier (1387              CDS       T01001) into github.com/bioservices. Thanks T.C.\u001b[0m\n",
      " 28%|██▊       | 378/1328 [02:27<08:12,  1.93it/s]\u001b[33mWARNING [bioservices:keggparser:119]: \u001b[0m \u001b[34mFound keyword SYMBOL, which has not special\n",
      "    parsing for now. please report this issue with the KEGG \n",
      "    identifier (6774              CDS       T01001) into github.com/bioservices. Thanks T.C.\u001b[0m\n",
      " 29%|██▊       | 379/1328 [02:28<07:22,  2.15it/s]\u001b[33mWARNING [bioservices:keggparser:119]: \u001b[0m \u001b[34mFound keyword SYMBOL, which has not special\n",
      "    parsing for now. please report this issue with the KEGG \n",
      "    identifier (6794              CDS       T01001) into github.com/bioservices. Thanks T.C.\u001b[0m\n",
      " 29%|██▊       | 380/1328 [02:28<06:09,  2.57it/s]\u001b[33mWARNING [bioservices:keggparser:119]: \u001b[0m \u001b[34mFound keyword SYMBOL, which has not special\n",
      "    parsing for now. please report this issue with the KEGG \n",
      "    identifier (6774              CDS       T01001) into github.com/bioservices. Thanks T.C.\u001b[0m\n",
      " 29%|██▊       | 381/1328 [02:28<06:29,  2.43it/s]\u001b[33mWARNING [bioservices:keggparser:119]: \u001b[0m \u001b[34mFound keyword SYMBOL, which has not special\n",
      "    parsing for now. please report this issue with the KEGG \n",
      "    identifier (55294             CDS       T01001) into github.com/bioservices. Thanks T.C.\u001b[0m\n",
      " 29%|██▉       | 382/1328 [02:29<05:29,  2.87it/s]\u001b[33mWARNING [bioservices:keggparser:119]: \u001b[0m \u001b[34mFound keyword SYMBOL, which has not special\n",
      "    parsing for now. please report this issue with the KEGG \n",
      "    identifier (672               CDS       T01001) into github.com/bioservices. Thanks T.C.\u001b[0m\n",
      " 29%|██▉       | 383/1328 [02:29<05:39,  2.78it/s]\u001b[33mWARNING [bioservices:keggparser:119]: \u001b[0m \u001b[34mFound keyword SYMBOL, which has not special\n",
      "    parsing for now. please report this issue with the KEGG \n",
      "    identifier (84433             CDS       T01001) into github.com/bioservices. Thanks T.C.\u001b[0m\n",
      " 29%|██▉       | 384/1328 [02:29<04:55,  3.19it/s]\u001b[33mWARNING [bioservices:keggparser:119]: \u001b[0m \u001b[34mFound keyword SYMBOL, which has not special\n",
      "    parsing for now. please report this issue with the KEGG \n",
      "    identifier (695               CDS       T01001) into github.com/bioservices. Thanks T.C.\u001b[0m\n",
      " 29%|██▉       | 385/1328 [02:30<05:12,  3.01it/s]\u001b[33mWARNING [bioservices:keggparser:119]: \u001b[0m \u001b[34mFound keyword SYMBOL, which has not special\n",
      "    parsing for now. please report this issue with the KEGG \n",
      "    identifier (1029              CDS       T01001) into github.com/bioservices. Thanks T.C.\u001b[0m\n",
      " 29%|██▉       | 386/1328 [02:30<04:59,  3.14it/s]\u001b[33mWARNING [bioservices:keggparser:119]: \u001b[0m \u001b[34mFound keyword SYMBOL, which has not special\n",
      "    parsing for now. please report this issue with the KEGG \n",
      "    identifier (54880             CDS       T01001) into github.com/bioservices. Thanks T.C.\u001b[0m\n",
      " 29%|██▉       | 387/1328 [02:30<04:38,  3.38it/s]"
     ]
    },
    {
     "name": "stdout",
     "output_type": "stream",
     "text": [
      "no data for  BCOR\n"
     ]
    },
    {
     "name": "stderr",
     "output_type": "stream",
     "text": [
      "\u001b[33mWARNING [bioservices:keggparser:119]: \u001b[0m \u001b[34mFound keyword SYMBOL, which has not special\n",
      "    parsing for now. please report this issue with the KEGG \n",
      "    identifier (2261              CDS       T01001) into github.com/bioservices. Thanks T.C.\u001b[0m\n",
      " 29%|██▉       | 388/1328 [02:31<05:20,  2.93it/s]\u001b[33mWARNING [bioservices:keggparser:119]: \u001b[0m \u001b[34mFound keyword SYMBOL, which has not special\n",
      "    parsing for now. please report this issue with the KEGG \n",
      "    identifier (2065              CDS       T01001) into github.com/bioservices. Thanks T.C.\u001b[0m\n",
      " 29%|██▉       | 389/1328 [02:31<04:52,  3.21it/s]\u001b[33mWARNING [bioservices:keggparser:119]: \u001b[0m \u001b[34mFound keyword SYMBOL, which has not special\n",
      "    parsing for now. please report this issue with the KEGG \n",
      "    identifier (1029              CDS       T01001) into github.com/bioservices. Thanks T.C.\u001b[0m\n",
      " 29%|██▉       | 390/1328 [02:31<05:10,  3.02it/s]\u001b[33mWARNING [bioservices:keggparser:119]: \u001b[0m \u001b[34mFound keyword SYMBOL, which has not special\n",
      "    parsing for now. please report this issue with the KEGG \n",
      "    identifier (5604              CDS       T01001) into github.com/bioservices. Thanks T.C.\u001b[0m\n",
      " 29%|██▉       | 391/1328 [02:32<07:06,  2.20it/s]\u001b[33mWARNING [bioservices:keggparser:119]: \u001b[0m \u001b[34mFound keyword SYMBOL, which has not special\n",
      "    parsing for now. please report this issue with the KEGG \n",
      "    identifier (5156              CDS       T01001) into github.com/bioservices. Thanks T.C.\u001b[0m\n",
      " 30%|██▉       | 392/1328 [02:32<06:19,  2.47it/s]\u001b[33mWARNING [bioservices:keggparser:119]: \u001b[0m \u001b[34mFound keyword SYMBOL, which has not special\n",
      "    parsing for now. please report this issue with the KEGG \n",
      "    identifier (5728              CDS       T01001) into github.com/bioservices. Thanks T.C.\u001b[0m\n",
      " 30%|██▉       | 393/1328 [02:33<06:10,  2.52it/s]\u001b[33mWARNING [bioservices:keggparser:119]: \u001b[0m \u001b[34mFound keyword SYMBOL, which has not special\n",
      "    parsing for now. please report this issue with the KEGG \n",
      "    identifier (3815              CDS       T01001) into github.com/bioservices. Thanks T.C.\u001b[0m\n",
      " 30%|██▉       | 394/1328 [02:33<05:28,  2.85it/s]\u001b[33mWARNING [bioservices:keggparser:119]: \u001b[0m \u001b[34mFound keyword SYMBOL, which has not special\n",
      "    parsing for now. please report this issue with the KEGG \n",
      "    identifier (2322              CDS       T01001) into github.com/bioservices. Thanks T.C.\u001b[0m\n",
      " 30%|██▉       | 395/1328 [02:33<05:20,  2.91it/s]\u001b[33mWARNING [bioservices:keggparser:119]: \u001b[0m \u001b[34mFound keyword SYMBOL, which has not special\n",
      "    parsing for now. please report this issue with the KEGG \n",
      "    identifier (672               CDS       T01001) into github.com/bioservices. Thanks T.C.\u001b[0m\n",
      " 30%|██▉       | 396/1328 [02:33<04:56,  3.15it/s]\u001b[33mWARNING [bioservices:keggparser:119]: \u001b[0m \u001b[34mFound keyword SYMBOL, which has not special\n",
      "    parsing for now. please report this issue with the KEGG \n",
      "    identifier (5728              CDS       T01001) into github.com/bioservices. Thanks T.C.\u001b[0m\n",
      " 30%|██▉       | 397/1328 [02:34<05:18,  2.93it/s]\u001b[33mWARNING [bioservices:keggparser:119]: \u001b[0m \u001b[34mFound keyword SYMBOL, which has not special\n",
      "    parsing for now. please report this issue with the KEGG \n",
      "    identifier (2146              CDS       T01001) into github.com/bioservices. Thanks T.C.\u001b[0m\n",
      " 30%|██▉       | 398/1328 [02:34<04:43,  3.28it/s]\u001b[33mWARNING [bioservices:keggparser:119]: \u001b[0m \u001b[34mFound keyword SYMBOL, which has not special\n",
      "    parsing for now. please report this issue with the KEGG \n",
      "    identifier (999               CDS       T01001) into github.com/bioservices. Thanks T.C.\u001b[0m\n",
      " 30%|███       | 399/1328 [02:34<04:57,  3.13it/s]\u001b[33mWARNING [bioservices:keggparser:119]: \u001b[0m \u001b[34mFound keyword SYMBOL, which has not special\n",
      "    parsing for now. please report this issue with the KEGG \n",
      "    identifier (3717              CDS       T01001) into github.com/bioservices. Thanks T.C.\u001b[0m\n",
      " 30%|███       | 400/1328 [02:35<04:54,  3.15it/s]\u001b[33mWARNING [bioservices:keggparser:119]: \u001b[0m \u001b[34mFound keyword SYMBOL, which has not special\n",
      "    parsing for now. please report this issue with the KEGG \n",
      "    identifier (2065              CDS       T01001) into github.com/bioservices. Thanks T.C.\u001b[0m\n",
      " 30%|███       | 401/1328 [02:35<04:39,  3.32it/s]\u001b[33mWARNING [bioservices:keggparser:119]: \u001b[0m \u001b[34mFound keyword SYMBOL, which has not special\n",
      "    parsing for now. please report this issue with the KEGG \n",
      "    identifier (1956              CDS       T01001) into github.com/bioservices. Thanks T.C.\u001b[0m\n",
      " 30%|███       | 402/1328 [02:36<06:27,  2.39it/s]\u001b[33mWARNING [bioservices:keggparser:119]: \u001b[0m \u001b[34mFound keyword SYMBOL, which has not special\n",
      "    parsing for now. please report this issue with the KEGG \n",
      "    identifier (4292              CDS       T01001) into github.com/bioservices. Thanks T.C.\u001b[0m\n",
      " 30%|███       | 403/1328 [02:36<05:37,  2.74it/s]\u001b[33mWARNING [bioservices:keggparser:119]: \u001b[0m \u001b[34mFound keyword SYMBOL, which has not special\n",
      "    parsing for now. please report this issue with the KEGG \n",
      "    identifier (4089              CDS       T01001) into github.com/bioservices. Thanks T.C.\u001b[0m\n",
      " 30%|███       | 404/1328 [02:36<05:38,  2.73it/s]\u001b[33mWARNING [bioservices:keggparser:119]: \u001b[0m \u001b[34mFound keyword SYMBOL, which has not special\n",
      "    parsing for now. please report this issue with the KEGG \n",
      "    identifier (1956              CDS       T01001) into github.com/bioservices. Thanks T.C.\u001b[0m\n",
      " 30%|███       | 405/1328 [02:37<06:32,  2.35it/s]\u001b[33mWARNING [bioservices:keggparser:119]: \u001b[0m \u001b[34mFound keyword SYMBOL, which has not special\n",
      "    parsing for now. please report this issue with the KEGG \n",
      "    identifier (672               CDS       T01001) into github.com/bioservices. Thanks T.C.\u001b[0m\n",
      " 31%|███       | 406/1328 [02:37<05:38,  2.73it/s]\u001b[33mWARNING [bioservices:keggparser:119]: \u001b[0m \u001b[34mFound keyword SYMBOL, which has not special\n",
      "    parsing for now. please report this issue with the KEGG \n",
      "    identifier (894               CDS       T01001) into github.com/bioservices. Thanks T.C.\u001b[0m\n",
      " 31%|███       | 407/1328 [02:37<06:04,  2.53it/s]\u001b[33mWARNING [bioservices:keggparser:119]: \u001b[0m \u001b[34mFound keyword SYMBOL, which has not special\n",
      "    parsing for now. please report this issue with the KEGG \n",
      "    identifier (1956              CDS       T01001) into github.com/bioservices. Thanks T.C.\u001b[0m\n",
      " 31%|███       | 408/1328 [02:38<06:47,  2.26it/s]\u001b[33mWARNING [bioservices:keggparser:119]: \u001b[0m \u001b[34mFound keyword SYMBOL, which has not special\n",
      "    parsing for now. please report this issue with the KEGG \n",
      "    identifier (8085              CDS       T01001) into github.com/bioservices. Thanks T.C.\u001b[0m\n",
      " 31%|███       | 409/1328 [02:38<06:24,  2.39it/s]\u001b[33mWARNING [bioservices:keggparser:119]: \u001b[0m \u001b[34mFound keyword SYMBOL, which has not special\n",
      "    parsing for now. please report this issue with the KEGG \n",
      "    identifier (2066              CDS       T01001) into github.com/bioservices. Thanks T.C.\u001b[0m\n",
      " 31%|███       | 410/1328 [02:39<05:35,  2.74it/s]\u001b[33mWARNING [bioservices:keggparser:119]: \u001b[0m \u001b[34mFound keyword SYMBOL, which has not special\n",
      "    parsing for now. please report this issue with the KEGG \n",
      "    identifier (367               CDS       T01001) into github.com/bioservices. Thanks T.C.\u001b[0m\n",
      " 31%|███       | 411/1328 [02:39<05:23,  2.83it/s]\u001b[33mWARNING [bioservices:keggparser:119]: \u001b[0m \u001b[34mFound keyword SYMBOL, which has not special\n",
      "    parsing for now. please report this issue with the KEGG \n",
      "    identifier (5728              CDS       T01001) into github.com/bioservices. Thanks T.C.\u001b[0m\n",
      " 31%|███       | 412/1328 [02:39<05:17,  2.88it/s]\u001b[33mWARNING [bioservices:keggparser:119]: \u001b[0m \u001b[34mFound keyword SYMBOL, which has not special\n",
      "    parsing for now. please report this issue with the KEGG \n",
      "    identifier (5156              CDS       T01001) into github.com/bioservices. Thanks T.C.\u001b[0m\n",
      " 31%|███       | 413/1328 [02:40<04:56,  3.09it/s]\u001b[33mWARNING [bioservices:keggparser:119]: \u001b[0m \u001b[34mFound keyword SYMBOL, which has not special\n",
      "    parsing for now. please report this issue with the KEGG \n",
      "    identifier (5604              CDS       T01001) into github.com/bioservices. Thanks T.C.\u001b[0m\n"
     ]
    },
    {
     "name": "stderr",
     "output_type": "stream",
     "text": [
      " 31%|███       | 414/1328 [02:40<07:03,  2.16it/s]\u001b[33mWARNING [bioservices:keggparser:119]: \u001b[0m \u001b[34mFound keyword SYMBOL, which has not special\n",
      "    parsing for now. please report this issue with the KEGG \n",
      "    identifier (672               CDS       T01001) into github.com/bioservices. Thanks T.C.\u001b[0m\n",
      " 31%|███▏      | 415/1328 [02:41<06:01,  2.53it/s]\u001b[33mWARNING [bioservices:keggparser:119]: \u001b[0m \u001b[34mFound keyword SYMBOL, which has not special\n",
      "    parsing for now. please report this issue with the KEGG \n",
      "    identifier (2322              CDS       T01001) into github.com/bioservices. Thanks T.C.\u001b[0m\n",
      " 31%|███▏      | 416/1328 [02:41<05:45,  2.64it/s]\u001b[33mWARNING [bioservices:keggparser:119]: \u001b[0m \u001b[34mFound keyword SYMBOL, which has not special\n",
      "    parsing for now. please report this issue with the KEGG \n",
      "    identifier (5781              CDS       T01001) into github.com/bioservices. Thanks T.C.\u001b[0m\n",
      " 31%|███▏      | 417/1328 [02:41<05:15,  2.89it/s]\u001b[33mWARNING [bioservices:keggparser:119]: \u001b[0m \u001b[34mFound keyword SYMBOL, which has not special\n",
      "    parsing for now. please report this issue with the KEGG \n",
      "    identifier (2064              CDS       T01001) into github.com/bioservices. Thanks T.C.\u001b[0m\n",
      " 31%|███▏      | 418/1328 [02:42<05:17,  2.87it/s]\u001b[33mWARNING [bioservices:keggparser:119]: \u001b[0m \u001b[34mFound keyword SYMBOL, which has not special\n",
      "    parsing for now. please report this issue with the KEGG \n",
      "    identifier (3845              CDS       T01001) into github.com/bioservices. Thanks T.C.\u001b[0m\n",
      " 32%|███▏      | 419/1328 [02:42<06:52,  2.20it/s]\u001b[33mWARNING [bioservices:keggparser:119]: \u001b[0m \u001b[34mFound keyword SYMBOL, which has not special\n",
      "    parsing for now. please report this issue with the KEGG \n",
      "    identifier (11122             CDS       T01001) into github.com/bioservices. Thanks T.C.\u001b[0m\n",
      " 32%|███▏      | 420/1328 [02:42<05:37,  2.69it/s]"
     ]
    },
    {
     "name": "stdout",
     "output_type": "stream",
     "text": [
      "no data for  PTPRT\n"
     ]
    },
    {
     "name": "stderr",
     "output_type": "stream",
     "text": [
      "\u001b[33mWARNING [bioservices:keggparser:119]: \u001b[0m \u001b[34mFound keyword SYMBOL, which has not special\n",
      "    parsing for now. please report this issue with the KEGG \n",
      "    identifier (3815              CDS       T01001) into github.com/bioservices. Thanks T.C.\u001b[0m\n",
      " 32%|███▏      | 421/1328 [02:43<05:46,  2.62it/s]\u001b[33mWARNING [bioservices:keggparser:119]: \u001b[0m \u001b[34mFound keyword SYMBOL, which has not special\n",
      "    parsing for now. please report this issue with the KEGG \n",
      "    identifier (5156              CDS       T01001) into github.com/bioservices. Thanks T.C.\u001b[0m\n",
      " 32%|███▏      | 422/1328 [02:43<05:18,  2.84it/s]\u001b[33mWARNING [bioservices:keggparser:119]: \u001b[0m \u001b[34mFound keyword SYMBOL, which has not special\n",
      "    parsing for now. please report this issue with the KEGG \n",
      "    identifier (10664             CDS       T01001) into github.com/bioservices. Thanks T.C.\u001b[0m\n",
      " 32%|███▏      | 423/1328 [02:43<04:45,  3.17it/s]"
     ]
    },
    {
     "name": "stdout",
     "output_type": "stream",
     "text": [
      "no data for  CTCF\n"
     ]
    },
    {
     "name": "stderr",
     "output_type": "stream",
     "text": [
      "\u001b[33mWARNING [bioservices:keggparser:119]: \u001b[0m \u001b[34mFound keyword SYMBOL, which has not special\n",
      "    parsing for now. please report this issue with the KEGG \n",
      "    identifier (51755             CDS       T01001) into github.com/bioservices. Thanks T.C.\u001b[0m\n",
      " 32%|███▏      | 424/1328 [02:44<04:42,  3.20it/s]"
     ]
    },
    {
     "name": "stdout",
     "output_type": "stream",
     "text": [
      "no data for  CDK12\n"
     ]
    },
    {
     "name": "stderr",
     "output_type": "stream",
     "text": [
      "\u001b[33mWARNING [bioservices:keggparser:119]: \u001b[0m \u001b[34mFound keyword SYMBOL, which has not special\n",
      "    parsing for now. please report this issue with the KEGG \n",
      "    identifier (3265              CDS       T01001) into github.com/bioservices. Thanks T.C.\u001b[0m\n",
      " 32%|███▏      | 425/1328 [02:44<06:51,  2.20it/s]\u001b[33mWARNING [bioservices:keggparser:119]: \u001b[0m \u001b[34mFound keyword SYMBOL, which has not special\n",
      "    parsing for now. please report this issue with the KEGG \n",
      "    identifier (2065              CDS       T01001) into github.com/bioservices. Thanks T.C.\u001b[0m\n",
      " 32%|███▏      | 426/1328 [02:45<05:45,  2.61it/s]\u001b[33mWARNING [bioservices:keggparser:119]: \u001b[0m \u001b[34mFound keyword SYMBOL, which has not special\n",
      "    parsing for now. please report this issue with the KEGG \n",
      "    identifier (80312             CDS       T01001) into github.com/bioservices. Thanks T.C.\u001b[0m\n",
      " 32%|███▏      | 427/1328 [02:45<05:27,  2.75it/s]\u001b[33mWARNING [bioservices:keggparser:119]: \u001b[0m \u001b[34mFound keyword SYMBOL, which has not special\n",
      "    parsing for now. please report this issue with the KEGG \n",
      "    identifier (83990             CDS       T01001) into github.com/bioservices. Thanks T.C.\u001b[0m\n"
     ]
    },
    {
     "name": "stdout",
     "output_type": "stream",
     "text": [
      "no data for  TET1\n"
     ]
    },
    {
     "name": "stderr",
     "output_type": "stream",
     "text": [
      " 32%|███▏      | 428/1328 [02:45<04:48,  3.12it/s]\u001b[33mWARNING [bioservices:keggparser:119]: \u001b[0m \u001b[34mFound keyword SYMBOL, which has not special\n",
      "    parsing for now. please report this issue with the KEGG \n",
      "    identifier (5979              CDS       T01001) into github.com/bioservices. Thanks T.C.\u001b[0m\n",
      " 32%|███▏      | 429/1328 [02:46<04:51,  3.08it/s]\u001b[33mWARNING [bioservices:keggparser:119]: \u001b[0m \u001b[34mFound keyword SYMBOL, which has not special\n",
      "    parsing for now. please report this issue with the KEGG \n",
      "    identifier (5426              CDS       T01001) into github.com/bioservices. Thanks T.C.\u001b[0m\n",
      " 32%|███▏      | 430/1328 [02:46<04:29,  3.34it/s]\u001b[33mWARNING [bioservices:keggparser:119]: \u001b[0m \u001b[34mFound keyword SYMBOL, which has not special\n",
      "    parsing for now. please report this issue with the KEGG \n",
      "    identifier (6774              CDS       T01001) into github.com/bioservices. Thanks T.C.\u001b[0m\n",
      " 32%|███▏      | 431/1328 [02:46<05:06,  2.93it/s]\u001b[33mWARNING [bioservices:keggparser:119]: \u001b[0m \u001b[34mFound keyword SYMBOL, which has not special\n",
      "    parsing for now. please report this issue with the KEGG \n",
      "    identifier (5728              CDS       T01001) into github.com/bioservices. Thanks T.C.\u001b[0m\n",
      " 33%|███▎      | 432/1328 [02:47<05:00,  2.98it/s]\u001b[33mWARNING [bioservices:keggparser:119]: \u001b[0m \u001b[34mFound keyword SYMBOL, which has not special\n",
      "    parsing for now. please report this issue with the KEGG \n",
      "    identifier (3815              CDS       T01001) into github.com/bioservices. Thanks T.C.\u001b[0m\n",
      " 33%|███▎      | 433/1328 [02:47<04:45,  3.13it/s]\u001b[33mWARNING [bioservices:keggparser:119]: \u001b[0m \u001b[34mFound keyword SYMBOL, which has not special\n",
      "    parsing for now. please report this issue with the KEGG \n",
      "    identifier (7249              CDS       T01001) into github.com/bioservices. Thanks T.C.\u001b[0m\n",
      " 33%|███▎      | 434/1328 [02:47<04:47,  3.11it/s]\u001b[33mWARNING [bioservices:keggparser:119]: \u001b[0m \u001b[34mFound keyword SYMBOL, which has not special\n",
      "    parsing for now. please report this issue with the KEGG \n",
      "    identifier (27161             CDS       T01001) into github.com/bioservices. Thanks T.C.\u001b[0m\n",
      " 33%|███▎      | 435/1328 [02:47<04:15,  3.50it/s]"
     ]
    },
    {
     "name": "stdout",
     "output_type": "stream",
     "text": [
      "no data for  AGO2\n"
     ]
    },
    {
     "name": "stderr",
     "output_type": "stream",
     "text": [
      "\u001b[33mWARNING [bioservices:keggparser:119]: \u001b[0m \u001b[34mFound keyword SYMBOL, which has not special\n",
      "    parsing for now. please report this issue with the KEGG \n",
      "    identifier (672               CDS       T01001) into github.com/bioservices. Thanks T.C.\u001b[0m\n",
      " 33%|███▎      | 436/1328 [02:48<04:40,  3.18it/s]\u001b[33mWARNING [bioservices:keggparser:119]: \u001b[0m \u001b[34mFound keyword SYMBOL, which has not special\n",
      "    parsing for now. please report this issue with the KEGG \n",
      "    identifier (675               CDS       T01001) into github.com/bioservices. Thanks T.C.\u001b[0m\n",
      " 33%|███▎      | 437/1328 [02:48<04:57,  2.99it/s]\u001b[33mWARNING [bioservices:keggparser:119]: \u001b[0m \u001b[34mFound keyword SYMBOL, which has not special\n",
      "    parsing for now. please report this issue with the KEGG \n",
      "    identifier (672               CDS       T01001) into github.com/bioservices. Thanks T.C.\u001b[0m\n",
      " 33%|███▎      | 438/1328 [02:48<04:29,  3.30it/s]\u001b[33mWARNING [bioservices:keggparser:119]: \u001b[0m \u001b[34mFound keyword SYMBOL, which has not special\n",
      "    parsing for now. please report this issue with the KEGG \n",
      "    identifier (675               CDS       T01001) into github.com/bioservices. Thanks T.C.\u001b[0m\n",
      " 33%|███▎      | 439/1328 [02:49<05:15,  2.82it/s]\u001b[33mWARNING [bioservices:keggparser:119]: \u001b[0m \u001b[34mFound keyword SYMBOL, which has not special\n",
      "    parsing for now. please report this issue with the KEGG \n",
      "    identifier (23451             CDS       T01001) into github.com/bioservices. Thanks T.C.\u001b[0m\n",
      " 33%|███▎      | 440/1328 [02:49<04:30,  3.28it/s]\u001b[33mWARNING [bioservices:keggparser:119]: \u001b[0m \u001b[34mFound keyword SYMBOL, which has not special\n",
      "    parsing for now. please report this issue with the KEGG \n",
      "    identifier (2033              CDS       T01001) into github.com/bioservices. Thanks T.C.\u001b[0m\n",
      " 33%|███▎      | 441/1328 [02:50<05:44,  2.57it/s]\u001b[33mWARNING [bioservices:keggparser:119]: \u001b[0m \u001b[34mFound keyword SYMBOL, which has not special\n",
      "    parsing for now. please report this issue with the KEGG \n",
      "    identifier (673               CDS       T01001) into github.com/bioservices. Thanks T.C.\u001b[0m\n",
      " 33%|███▎      | 442/1328 [02:50<06:29,  2.27it/s]\u001b[33mWARNING [bioservices:keggparser:119]: \u001b[0m \u001b[34mFound keyword SYMBOL, which has not special\n",
      "    parsing for now. please report this issue with the KEGG \n",
      "    identifier (4436              CDS       T01001) into github.com/bioservices. Thanks T.C.\u001b[0m\n",
      " 33%|███▎      | 443/1328 [02:50<05:29,  2.69it/s]\u001b[33mWARNING [bioservices:keggparser:119]: \u001b[0m \u001b[34mFound keyword SYMBOL, which has not special\n",
      "    parsing for now. please report this issue with the KEGG \n",
      "    identifier (472               CDS       T01001) into github.com/bioservices. Thanks T.C.\u001b[0m\n",
      " 33%|███▎      | 444/1328 [02:51<06:08,  2.40it/s]\u001b[33mWARNING [bioservices:keggparser:119]: \u001b[0m \u001b[34mFound keyword SYMBOL, which has not special\n",
      "    parsing for now. please report this issue with the KEGG \n",
      "    identifier (7157              CDS       T01001) into github.com/bioservices. Thanks T.C.\u001b[0m\n",
      " 34%|███▎      | 445/1328 [02:51<06:02,  2.44it/s]\u001b[33mWARNING [bioservices:keggparser:119]: \u001b[0m \u001b[34mFound keyword SYMBOL, which has not special\n",
      "    parsing for now. please report this issue with the KEGG \n",
      "    identifier (673               CDS       T01001) into github.com/bioservices. Thanks T.C.\u001b[0m\n",
      " 34%|███▎      | 446/1328 [02:52<06:39,  2.21it/s]\u001b[33mWARNING [bioservices:keggparser:119]: \u001b[0m \u001b[34mFound keyword SYMBOL, which has not special\n",
      "    parsing for now. please report this issue with the KEGG \n",
      "    identifier (672               CDS       T01001) into github.com/bioservices. Thanks T.C.\u001b[0m\n",
      " 34%|███▎      | 447/1328 [02:52<05:38,  2.60it/s]\u001b[33mWARNING [bioservices:keggparser:119]: \u001b[0m \u001b[34mFound keyword SYMBOL, which has not special\n",
      "    parsing for now. please report this issue with the KEGG \n",
      "    identifier (2264              CDS       T01001) into github.com/bioservices. Thanks T.C.\u001b[0m\n",
      " 34%|███▎      | 448/1328 [02:52<05:30,  2.66it/s]\u001b[33mWARNING [bioservices:keggparser:119]: \u001b[0m \u001b[34mFound keyword SYMBOL, which has not special\n",
      "    parsing for now. please report this issue with the KEGG \n",
      "    identifier (672               CDS       T01001) into github.com/bioservices. Thanks T.C.\u001b[0m\n",
      " 34%|███▍      | 449/1328 [02:53<04:51,  3.02it/s]\u001b[33mWARNING [bioservices:keggparser:119]: \u001b[0m \u001b[34mFound keyword SYMBOL, which has not special\n",
      "    parsing for now. please report this issue with the KEGG \n",
      "    identifier (672               CDS       T01001) into github.com/bioservices. Thanks T.C.\u001b[0m\n",
      " 34%|███▍      | 450/1328 [02:53<04:52,  3.00it/s]\u001b[33mWARNING [bioservices:keggparser:119]: \u001b[0m \u001b[34mFound keyword SYMBOL, which has not special\n",
      "    parsing for now. please report this issue with the KEGG \n",
      "    identifier (4087              CDS       T01001) into github.com/bioservices. Thanks T.C.\u001b[0m\n",
      " 34%|███▍      | 451/1328 [02:53<04:35,  3.18it/s]\u001b[33mWARNING [bioservices:keggparser:119]: \u001b[0m \u001b[34mFound keyword SYMBOL, which has not special\n",
      "    parsing for now. please report this issue with the KEGG \n",
      "    identifier (675               CDS       T01001) into github.com/bioservices. Thanks T.C.\u001b[0m\n",
      " 34%|███▍      | 452/1328 [02:54<05:06,  2.85it/s]\u001b[33mWARNING [bioservices:keggparser:119]: \u001b[0m \u001b[34mFound keyword SYMBOL, which has not special\n",
      "    parsing for now. please report this issue with the KEGG \n",
      "    identifier (5604              CDS       T01001) into github.com/bioservices. Thanks T.C.\u001b[0m\n",
      " 34%|███▍      | 453/1328 [02:54<06:49,  2.14it/s]\u001b[33mWARNING [bioservices:keggparser:119]: \u001b[0m \u001b[34mFound keyword SYMBOL, which has not special\n",
      "    parsing for now. please report this issue with the KEGG \n",
      "    identifier (5604              CDS       T01001) into github.com/bioservices. Thanks T.C.\u001b[0m\n",
      " 34%|███▍      | 454/1328 [02:55<08:18,  1.75it/s]\u001b[33mWARNING [bioservices:keggparser:119]: \u001b[0m \u001b[34mFound keyword SYMBOL, which has not special\n",
      "    parsing for now. please report this issue with the KEGG \n",
      "    identifier (3418              CDS       T01001) into github.com/bioservices. Thanks T.C.\u001b[0m\n",
      " 34%|███▍      | 455/1328 [02:55<06:46,  2.15it/s]\u001b[33mWARNING [bioservices:keggparser:119]: \u001b[0m \u001b[34mFound keyword SYMBOL, which has not special\n",
      "    parsing for now. please report this issue with the KEGG \n",
      "    identifier (673               CDS       T01001) into github.com/bioservices. Thanks T.C.\u001b[0m\n",
      " 34%|███▍      | 456/1328 [02:56<07:29,  1.94it/s]\u001b[33mWARNING [bioservices:keggparser:119]: \u001b[0m \u001b[34mFound keyword SYMBOL, which has not special\n",
      "    parsing for now. please report this issue with the KEGG \n",
      "    identifier (25                CDS       T01001) into github.com/bioservices. Thanks T.C.\u001b[0m\n",
      " 34%|███▍      | 457/1328 [02:56<06:18,  2.30it/s]\u001b[33mWARNING [bioservices:keggparser:119]: \u001b[0m \u001b[34mFound keyword SYMBOL, which has not special\n",
      "    parsing for now. please report this issue with the KEGG \n",
      "    identifier (5885              CDS       T01001) into github.com/bioservices. Thanks T.C.\u001b[0m\n",
      " 34%|███▍      | 458/1328 [02:57<05:37,  2.58it/s]\u001b[33mWARNING [bioservices:keggparser:119]: \u001b[0m \u001b[34mFound keyword SYMBOL, which has not special\n",
      "    parsing for now. please report this issue with the KEGG \n",
      "    identifier (5604              CDS       T01001) into github.com/bioservices. Thanks T.C.\u001b[0m\n",
      " 35%|███▍      | 459/1328 [02:57<07:36,  1.91it/s]\u001b[33mWARNING [bioservices:keggparser:119]: \u001b[0m \u001b[34mFound keyword SYMBOL, which has not special\n",
      "    parsing for now. please report this issue with the KEGG \n",
      "    identifier (1956              CDS       T01001) into github.com/bioservices. Thanks T.C.\u001b[0m\n",
      " 35%|███▍      | 460/1328 [02:58<07:38,  1.89it/s]\u001b[33mWARNING [bioservices:keggparser:119]: \u001b[0m \u001b[34mFound keyword SYMBOL, which has not special\n",
      "    parsing for now. please report this issue with the KEGG \n",
      "    identifier (2068              CDS       T01001) into github.com/bioservices. Thanks T.C.\u001b[0m\n",
      " 35%|███▍      | 461/1328 [02:58<06:14,  2.32it/s]\u001b[33mWARNING [bioservices:keggparser:119]: \u001b[0m \u001b[34mFound keyword SYMBOL, which has not special\n",
      "    parsing for now. please report this issue with the KEGG \n",
      "    identifier (1029              CDS       T01001) into github.com/bioservices. Thanks T.C.\u001b[0m\n"
     ]
    },
    {
     "name": "stderr",
     "output_type": "stream",
     "text": [
      " 35%|███▍      | 462/1328 [02:59<06:10,  2.34it/s]\u001b[33mWARNING [bioservices:keggparser:119]: \u001b[0m \u001b[34mFound keyword SYMBOL, which has not special\n",
      "    parsing for now. please report this issue with the KEGG \n",
      "    identifier (5925              CDS       T01001) into github.com/bioservices. Thanks T.C.\u001b[0m\n",
      " 35%|███▍      | 463/1328 [02:59<05:49,  2.47it/s]\u001b[33mWARNING [bioservices:keggparser:119]: \u001b[0m \u001b[34mFound keyword SYMBOL, which has not special\n",
      "    parsing for now. please report this issue with the KEGG \n",
      "    identifier (5604              CDS       T01001) into github.com/bioservices. Thanks T.C.\u001b[0m\n",
      " 35%|███▍      | 464/1328 [03:00<07:41,  1.87it/s]\u001b[33mWARNING [bioservices:keggparser:119]: \u001b[0m \u001b[34mFound keyword SYMBOL, which has not special\n",
      "    parsing for now. please report this issue with the KEGG \n",
      "    identifier (207               CDS       T01001) into github.com/bioservices. Thanks T.C.\u001b[0m\n",
      " 35%|███▌      | 465/1328 [03:01<09:01,  1.59it/s]\u001b[33mWARNING [bioservices:keggparser:119]: \u001b[0m \u001b[34mFound keyword SYMBOL, which has not special\n",
      "    parsing for now. please report this issue with the KEGG \n",
      "    identifier (238               CDS       T01001) into github.com/bioservices. Thanks T.C.\u001b[0m\n",
      " 35%|███▌      | 466/1328 [03:01<07:12,  1.99it/s]\u001b[33mWARNING [bioservices:keggparser:119]: \u001b[0m \u001b[34mFound keyword SYMBOL, which has not special\n",
      "    parsing for now. please report this issue with the KEGG \n",
      "    identifier (5728              CDS       T01001) into github.com/bioservices. Thanks T.C.\u001b[0m\n",
      " 35%|███▌      | 467/1328 [03:01<07:18,  1.96it/s]\u001b[33mWARNING [bioservices:keggparser:119]: \u001b[0m \u001b[34mFound keyword SYMBOL, which has not special\n",
      "    parsing for now. please report this issue with the KEGG \n",
      "    identifier (1956              CDS       T01001) into github.com/bioservices. Thanks T.C.\u001b[0m\n",
      " 35%|███▌      | 468/1328 [03:02<07:49,  1.83it/s]\u001b[33mWARNING [bioservices:keggparser:119]: \u001b[0m \u001b[34mFound keyword SYMBOL, which has not special\n",
      "    parsing for now. please report this issue with the KEGG \n",
      "    identifier (4851              CDS       T01001) into github.com/bioservices. Thanks T.C.\u001b[0m\n",
      " 35%|███▌      | 469/1328 [03:02<06:31,  2.19it/s]\u001b[33mWARNING [bioservices:keggparser:119]: \u001b[0m \u001b[34mFound keyword SYMBOL, which has not special\n",
      "    parsing for now. please report this issue with the KEGG \n",
      "    identifier (672               CDS       T01001) into github.com/bioservices. Thanks T.C.\u001b[0m\n",
      " 35%|███▌      | 470/1328 [03:03<06:00,  2.38it/s]\u001b[33mWARNING [bioservices:keggparser:119]: \u001b[0m \u001b[34mFound keyword SYMBOL, which has not special\n",
      "    parsing for now. please report this issue with the KEGG \n",
      "    identifier (2068              CDS       T01001) into github.com/bioservices. Thanks T.C.\u001b[0m\n",
      " 35%|███▌      | 471/1328 [03:03<05:03,  2.82it/s]\u001b[33mWARNING [bioservices:keggparser:119]: \u001b[0m \u001b[34mFound keyword SYMBOL, which has not special\n",
      "    parsing for now. please report this issue with the KEGG \n",
      "    identifier (4233              CDS       T01001) into github.com/bioservices. Thanks T.C.\u001b[0m\n",
      " 36%|███▌      | 472/1328 [03:03<05:33,  2.56it/s]\u001b[33mWARNING [bioservices:keggparser:119]: \u001b[0m \u001b[34mFound keyword SYMBOL, which has not special\n",
      "    parsing for now. please report this issue with the KEGG \n",
      "    identifier (7113              CDS       T01001) into github.com/bioservices. Thanks T.C.\u001b[0m\n",
      " 36%|███▌      | 473/1328 [03:03<04:47,  2.97it/s]\u001b[33mWARNING [bioservices:keggparser:119]: \u001b[0m \u001b[34mFound keyword SYMBOL, which has not special\n",
      "    parsing for now. please report this issue with the KEGG \n",
      "    identifier (3845              CDS       T01001) into github.com/bioservices. Thanks T.C.\u001b[0m\n",
      " 36%|███▌      | 474/1328 [03:04<07:29,  1.90it/s]\u001b[33mWARNING [bioservices:keggparser:119]: \u001b[0m \u001b[34mFound keyword SYMBOL, which has not special\n",
      "    parsing for now. please report this issue with the KEGG \n",
      "    identifier (4780              CDS       T01001) into github.com/bioservices. Thanks T.C.\u001b[0m\n",
      " 36%|███▌      | 475/1328 [03:05<06:13,  2.28it/s]\u001b[33mWARNING [bioservices:keggparser:119]: \u001b[0m \u001b[34mFound keyword SYMBOL, which has not special\n",
      "    parsing for now. please report this issue with the KEGG \n",
      "    identifier (2064              CDS       T01001) into github.com/bioservices. Thanks T.C.\u001b[0m\n",
      " 36%|███▌      | 476/1328 [03:05<06:07,  2.32it/s]\u001b[33mWARNING [bioservices:keggparser:119]: \u001b[0m \u001b[34mFound keyword SYMBOL, which has not special\n",
      "    parsing for now. please report this issue with the KEGG \n",
      "    identifier (4914              CDS       T01001) into github.com/bioservices. Thanks T.C.\u001b[0m\n",
      " 36%|███▌      | 477/1328 [03:05<05:22,  2.64it/s]\u001b[33mWARNING [bioservices:keggparser:119]: \u001b[0m \u001b[34mFound keyword SYMBOL, which has not special\n",
      "    parsing for now. please report this issue with the KEGG \n",
      "    identifier (4089              CDS       T01001) into github.com/bioservices. Thanks T.C.\u001b[0m\n",
      " 36%|███▌      | 478/1328 [03:06<05:28,  2.59it/s]\u001b[33mWARNING [bioservices:keggparser:119]: \u001b[0m \u001b[34mFound keyword SYMBOL, which has not special\n",
      "    parsing for now. please report this issue with the KEGG \n",
      "    identifier (3417              CDS       T01001) into github.com/bioservices. Thanks T.C.\u001b[0m\n",
      " 36%|███▌      | 479/1328 [03:06<04:47,  2.95it/s]\u001b[33mWARNING [bioservices:keggparser:119]: \u001b[0m \u001b[34mFound keyword SYMBOL, which has not special\n",
      "    parsing for now. please report this issue with the KEGG \n",
      "    identifier (5604              CDS       T01001) into github.com/bioservices. Thanks T.C.\u001b[0m\n",
      " 36%|███▌      | 480/1328 [03:07<06:54,  2.05it/s]\u001b[33mWARNING [bioservices:keggparser:119]: \u001b[0m \u001b[34mFound keyword SYMBOL, which has not special\n",
      "    parsing for now. please report this issue with the KEGG \n",
      "    identifier (2322              CDS       T01001) into github.com/bioservices. Thanks T.C.\u001b[0m\n",
      " 36%|███▌      | 481/1328 [03:07<05:51,  2.41it/s]\u001b[33mWARNING [bioservices:keggparser:119]: \u001b[0m \u001b[34mFound keyword SYMBOL, which has not special\n",
      "    parsing for now. please report this issue with the KEGG \n",
      "    identifier (55294             CDS       T01001) into github.com/bioservices. Thanks T.C.\u001b[0m\n",
      " 36%|███▋      | 482/1328 [03:07<05:21,  2.63it/s]\u001b[33mWARNING [bioservices:keggparser:119]: \u001b[0m \u001b[34mFound keyword SYMBOL, which has not special\n",
      "    parsing for now. please report this issue with the KEGG \n",
      "    identifier (5979              CDS       T01001) into github.com/bioservices. Thanks T.C.\u001b[0m\n",
      " 36%|███▋      | 483/1328 [03:08<04:47,  2.94it/s]\u001b[33mWARNING [bioservices:keggparser:119]: \u001b[0m \u001b[34mFound keyword SYMBOL, which has not special\n",
      "    parsing for now. please report this issue with the KEGG \n",
      "    identifier (5604              CDS       T01001) into github.com/bioservices. Thanks T.C.\u001b[0m\n",
      " 36%|███▋      | 484/1328 [03:09<07:16,  1.93it/s]\u001b[33mWARNING [bioservices:keggparser:119]: \u001b[0m \u001b[34mFound keyword SYMBOL, which has not special\n",
      "    parsing for now. please report this issue with the KEGG \n",
      "    identifier (5728              CDS       T01001) into github.com/bioservices. Thanks T.C.\u001b[0m\n",
      " 37%|███▋      | 485/1328 [03:09<06:38,  2.11it/s]\u001b[33mWARNING [bioservices:keggparser:119]: \u001b[0m \u001b[34mFound keyword SYMBOL, which has not special\n",
      "    parsing for now. please report this issue with the KEGG \n",
      "    identifier (2956              CDS       T01001) into github.com/bioservices. Thanks T.C.\u001b[0m\n",
      " 37%|███▋      | 486/1328 [03:09<05:32,  2.53it/s]\u001b[33mWARNING [bioservices:keggparser:119]: \u001b[0m \u001b[34mFound keyword SYMBOL, which has not special\n",
      "    parsing for now. please report this issue with the KEGG \n",
      "    identifier (4292              CDS       T01001) into github.com/bioservices. Thanks T.C.\u001b[0m\n",
      " 37%|███▋      | 487/1328 [03:09<05:23,  2.60it/s]\u001b[33mWARNING [bioservices:keggparser:119]: \u001b[0m \u001b[34mFound keyword SYMBOL, which has not special\n",
      "    parsing for now. please report this issue with the KEGG \n",
      "    identifier (25                CDS       T01001) into github.com/bioservices. Thanks T.C.\u001b[0m\n",
      " 37%|███▋      | 488/1328 [03:10<04:55,  2.85it/s]\u001b[33mWARNING [bioservices:keggparser:119]: \u001b[0m \u001b[34mFound keyword SYMBOL, which has not special\n",
      "    parsing for now. please report this issue with the KEGG \n",
      "    identifier (3815              CDS       T01001) into github.com/bioservices. Thanks T.C.\u001b[0m\n"
     ]
    },
    {
     "name": "stderr",
     "output_type": "stream",
     "text": [
      " 37%|███▋      | 489/1328 [03:10<04:46,  2.93it/s]\u001b[33mWARNING [bioservices:keggparser:119]: \u001b[0m \u001b[34mFound keyword SYMBOL, which has not special\n",
      "    parsing for now. please report this issue with the KEGG \n",
      "    identifier (3815              CDS       T01001) into github.com/bioservices. Thanks T.C.\u001b[0m\n",
      " 37%|███▋      | 490/1328 [03:10<04:30,  3.09it/s]\u001b[33mWARNING [bioservices:keggparser:119]: \u001b[0m \u001b[34mFound keyword SYMBOL, which has not special\n",
      "    parsing for now. please report this issue with the KEGG \n",
      "    identifier (3815              CDS       T01001) into github.com/bioservices. Thanks T.C.\u001b[0m\n",
      " 37%|███▋      | 491/1328 [03:11<04:41,  2.97it/s]\u001b[33mWARNING [bioservices:keggparser:119]: \u001b[0m \u001b[34mFound keyword SYMBOL, which has not special\n",
      "    parsing for now. please report this issue with the KEGG \n",
      "    identifier (2778              CDS       T01001) into github.com/bioservices. Thanks T.C.\u001b[0m\n",
      " 37%|███▋      | 492/1328 [03:11<05:10,  2.69it/s]\u001b[33mWARNING [bioservices:keggparser:119]: \u001b[0m \u001b[34mFound keyword SYMBOL, which has not special\n",
      "    parsing for now. please report this issue with the KEGG \n",
      "    identifier (7157              CDS       T01001) into github.com/bioservices. Thanks T.C.\u001b[0m\n",
      " 37%|███▋      | 493/1328 [03:12<05:22,  2.59it/s]\u001b[33mWARNING [bioservices:keggparser:119]: \u001b[0m \u001b[34mFound keyword SYMBOL, which has not special\n",
      "    parsing for now. please report this issue with the KEGG \n",
      "    identifier (5159              CDS       T01001) into github.com/bioservices. Thanks T.C.\u001b[0m\n",
      " 37%|███▋      | 494/1328 [03:12<04:59,  2.79it/s]\u001b[33mWARNING [bioservices:keggparser:119]: \u001b[0m \u001b[34mFound keyword SYMBOL, which has not special\n",
      "    parsing for now. please report this issue with the KEGG \n",
      "    identifier (672               CDS       T01001) into github.com/bioservices. Thanks T.C.\u001b[0m\n",
      " 37%|███▋      | 495/1328 [03:12<04:39,  2.98it/s]\u001b[33mWARNING [bioservices:keggparser:119]: \u001b[0m \u001b[34mFound keyword SYMBOL, which has not special\n",
      "    parsing for now. please report this issue with the KEGG \n",
      "    identifier (675               CDS       T01001) into github.com/bioservices. Thanks T.C.\u001b[0m\n",
      " 37%|███▋      | 496/1328 [03:13<05:04,  2.73it/s]\u001b[33mWARNING [bioservices:keggparser:119]: \u001b[0m \u001b[34mFound keyword SYMBOL, which has not special\n",
      "    parsing for now. please report this issue with the KEGG \n",
      "    identifier (1029              CDS       T01001) into github.com/bioservices. Thanks T.C.\u001b[0m\n",
      " 37%|███▋      | 497/1328 [03:13<04:48,  2.88it/s]\u001b[33mWARNING [bioservices:keggparser:119]: \u001b[0m \u001b[34mFound keyword SYMBOL, which has not special\n",
      "    parsing for now. please report this issue with the KEGG \n",
      "    identifier (7157              CDS       T01001) into github.com/bioservices. Thanks T.C.\u001b[0m\n",
      " 38%|███▊      | 498/1328 [03:13<05:18,  2.61it/s]\u001b[33mWARNING [bioservices:keggparser:119]: \u001b[0m \u001b[34mFound keyword SYMBOL, which has not special\n",
      "    parsing for now. please report this issue with the KEGG \n",
      "    identifier (324               CDS       T01001) into github.com/bioservices. Thanks T.C.\u001b[0m\n",
      " 38%|███▊      | 499/1328 [03:14<05:57,  2.32it/s]\u001b[33mWARNING [bioservices:keggparser:119]: \u001b[0m \u001b[34mFound keyword SYMBOL, which has not special\n",
      "    parsing for now. please report this issue with the KEGG \n",
      "    identifier (3265              CDS       T01001) into github.com/bioservices. Thanks T.C.\u001b[0m\n",
      " 38%|███▊      | 500/1328 [03:15<07:41,  1.79it/s]\u001b[33mWARNING [bioservices:keggparser:119]: \u001b[0m \u001b[34mFound keyword SYMBOL, which has not special\n",
      "    parsing for now. please report this issue with the KEGG \n",
      "    identifier (3717              CDS       T01001) into github.com/bioservices. Thanks T.C.\u001b[0m\n",
      " 38%|███▊      | 501/1328 [03:15<06:46,  2.03it/s]\u001b[33mWARNING [bioservices:keggparser:119]: \u001b[0m \u001b[34mFound keyword SYMBOL, which has not special\n",
      "    parsing for now. please report this issue with the KEGG \n",
      "    identifier (5781              CDS       T01001) into github.com/bioservices. Thanks T.C.\u001b[0m\n",
      " 38%|███▊      | 502/1328 [03:15<06:05,  2.26it/s]\u001b[33mWARNING [bioservices:keggparser:119]: \u001b[0m \u001b[34mFound keyword SYMBOL, which has not special\n",
      "    parsing for now. please report this issue with the KEGG \n",
      "    identifier (4893              CDS       T01001) into github.com/bioservices. Thanks T.C.\u001b[0m\n",
      " 38%|███▊      | 503/1328 [03:16<07:29,  1.84it/s]\u001b[33mWARNING [bioservices:keggparser:119]: \u001b[0m \u001b[34mFound keyword SYMBOL, which has not special\n",
      "    parsing for now. please report this issue with the KEGG \n",
      "    identifier (7514              CDS       T01001) into github.com/bioservices. Thanks T.C.\u001b[0m\n",
      " 38%|███▊      | 504/1328 [03:16<06:03,  2.27it/s]\u001b[33mWARNING [bioservices:keggparser:119]: \u001b[0m \u001b[34mFound keyword SYMBOL, which has not special\n",
      "    parsing for now. please report this issue with the KEGG \n",
      "    identifier (387               CDS       T01001) into github.com/bioservices. Thanks T.C.\u001b[0m\n",
      " 38%|███▊      | 505/1328 [03:17<06:26,  2.13it/s]\u001b[33mWARNING [bioservices:keggparser:119]: \u001b[0m \u001b[34mFound keyword SYMBOL, which has not special\n",
      "    parsing for now. please report this issue with the KEGG \n",
      "    identifier (23451             CDS       T01001) into github.com/bioservices. Thanks T.C.\u001b[0m\n",
      " 38%|███▊      | 506/1328 [03:17<05:19,  2.57it/s]\u001b[33mWARNING [bioservices:keggparser:119]: \u001b[0m \u001b[34mFound keyword SYMBOL, which has not special\n",
      "    parsing for now. please report this issue with the KEGG \n",
      "    identifier (367               CDS       T01001) into github.com/bioservices. Thanks T.C.\u001b[0m\n",
      " 38%|███▊      | 507/1328 [03:18<05:15,  2.60it/s]\u001b[33mWARNING [bioservices:keggparser:119]: \u001b[0m \u001b[34mFound keyword SYMBOL, which has not special\n",
      "    parsing for now. please report this issue with the KEGG \n",
      "    identifier (4233              CDS       T01001) into github.com/bioservices. Thanks T.C.\u001b[0m\n",
      " 38%|███▊      | 508/1328 [03:18<04:56,  2.77it/s]\u001b[33mWARNING [bioservices:keggparser:119]: \u001b[0m \u001b[34mFound keyword SYMBOL, which has not special\n",
      "    parsing for now. please report this issue with the KEGG \n",
      "    identifier (238               CDS       T01001) into github.com/bioservices. Thanks T.C.\u001b[0m\n",
      " 38%|███▊      | 509/1328 [03:18<04:25,  3.09it/s]\u001b[33mWARNING [bioservices:keggparser:119]: \u001b[0m \u001b[34mFound keyword SYMBOL, which has not special\n",
      "    parsing for now. please report this issue with the KEGG \n",
      "    identifier (2195              CDS       T01001) into github.com/bioservices. Thanks T.C.\u001b[0m\n",
      " 38%|███▊      | 510/1328 [03:19<04:55,  2.77it/s]\u001b[33mWARNING [bioservices:keggparser:119]: \u001b[0m \u001b[34mFound keyword SYMBOL, which has not special\n",
      "    parsing for now. please report this issue with the KEGG \n",
      "    identifier (387               CDS       T01001) into github.com/bioservices. Thanks T.C.\u001b[0m\n"
     ]
    },
    {
     "name": "stdout",
     "output_type": "stream",
     "text": [
      "no data for  FAT1\n"
     ]
    },
    {
     "name": "stderr",
     "output_type": "stream",
     "text": [
      " 38%|███▊      | 511/1328 [03:19<05:01,  2.71it/s]\u001b[33mWARNING [bioservices:keggparser:119]: \u001b[0m \u001b[34mFound keyword SYMBOL, which has not special\n",
      "    parsing for now. please report this issue with the KEGG \n",
      "    identifier (2322              CDS       T01001) into github.com/bioservices. Thanks T.C.\u001b[0m\n",
      " 39%|███▊      | 512/1328 [03:19<04:26,  3.06it/s]\u001b[33mWARNING [bioservices:keggparser:119]: \u001b[0m \u001b[34mFound keyword SYMBOL, which has not special\n",
      "    parsing for now. please report this issue with the KEGG \n",
      "    identifier (7428              CDS       T01001) into github.com/bioservices. Thanks T.C.\u001b[0m\n",
      " 39%|███▊      | 513/1328 [03:19<04:28,  3.04it/s]\u001b[33mWARNING [bioservices:keggparser:119]: \u001b[0m \u001b[34mFound keyword SYMBOL, which has not special\n",
      "    parsing for now. please report this issue with the KEGG \n",
      "    identifier (1030              CDS       T01001) into github.com/bioservices. Thanks T.C.\u001b[0m\n",
      " 39%|███▊      | 514/1328 [03:20<04:11,  3.24it/s]\u001b[33mWARNING [bioservices:keggparser:119]: \u001b[0m \u001b[34mFound keyword SYMBOL, which has not special\n",
      "    parsing for now. please report this issue with the KEGG \n",
      "    identifier (5156              CDS       T01001) into github.com/bioservices. Thanks T.C.\u001b[0m\n",
      " 39%|███▉      | 515/1328 [03:20<04:28,  3.02it/s]\u001b[33mWARNING [bioservices:keggparser:119]: \u001b[0m \u001b[34mFound keyword SYMBOL, which has not special\n",
      "    parsing for now. please report this issue with the KEGG \n",
      "    identifier (6098              CDS       T01001) into github.com/bioservices. Thanks T.C.\u001b[0m\n",
      " 39%|███▉      | 516/1328 [03:20<03:55,  3.45it/s]"
     ]
    },
    {
     "name": "stdout",
     "output_type": "stream",
     "text": [
      "no data for  ROS1\n"
     ]
    },
    {
     "name": "stderr",
     "output_type": "stream",
     "text": [
      "\u001b[33mWARNING [bioservices:keggparser:119]: \u001b[0m \u001b[34mFound keyword SYMBOL, which has not special\n",
      "    parsing for now. please report this issue with the KEGG \n",
      "    identifier (3815              CDS       T01001) into github.com/bioservices. Thanks T.C.\u001b[0m\n",
      " 39%|███▉      | 517/1328 [03:21<04:24,  3.07it/s]\u001b[33mWARNING [bioservices:keggparser:119]: \u001b[0m \u001b[34mFound keyword SYMBOL, which has not special\n",
      "    parsing for now. please report this issue with the KEGG \n",
      "    identifier (9817              CDS       T01001) into github.com/bioservices. Thanks T.C.\u001b[0m\n",
      " 39%|███▉      | 518/1328 [03:21<03:59,  3.38it/s]\u001b[33mWARNING [bioservices:keggparser:119]: \u001b[0m \u001b[34mFound keyword SYMBOL, which has not special\n",
      "    parsing for now. please report this issue with the KEGG \n",
      "    identifier (3845              CDS       T01001) into github.com/bioservices. Thanks T.C.\u001b[0m\n",
      " 39%|███▉      | 519/1328 [03:22<06:08,  2.20it/s]\u001b[33mWARNING [bioservices:keggparser:119]: \u001b[0m \u001b[34mFound keyword SYMBOL, which has not special\n",
      "    parsing for now. please report this issue with the KEGG \n",
      "    identifier (7157              CDS       T01001) into github.com/bioservices. Thanks T.C.\u001b[0m\n",
      " 39%|███▉      | 520/1328 [03:22<06:01,  2.23it/s]\u001b[33mWARNING [bioservices:keggparser:119]: \u001b[0m \u001b[34mFound keyword SYMBOL, which has not special\n",
      "    parsing for now. please report this issue with the KEGG \n",
      "    identifier (673               CDS       T01001) into github.com/bioservices. Thanks T.C.\u001b[0m\n",
      " 39%|███▉      | 521/1328 [03:23<06:22,  2.11it/s]\u001b[33mWARNING [bioservices:keggparser:119]: \u001b[0m \u001b[34mFound keyword SYMBOL, which has not special\n",
      "    parsing for now. please report this issue with the KEGG \n",
      "    identifier (1956              CDS       T01001) into github.com/bioservices. Thanks T.C.\u001b[0m\n",
      " 39%|███▉      | 522/1328 [03:23<06:42,  2.00it/s]\u001b[33mWARNING [bioservices:keggparser:119]: \u001b[0m \u001b[34mFound keyword SYMBOL, which has not special\n",
      "    parsing for now. please report this issue with the KEGG \n",
      "    identifier (238               CDS       T01001) into github.com/bioservices. Thanks T.C.\u001b[0m\n",
      " 39%|███▉      | 523/1328 [03:24<05:32,  2.42it/s]\u001b[33mWARNING [bioservices:keggparser:119]: \u001b[0m \u001b[34mFound keyword SYMBOL, which has not special\n",
      "    parsing for now. please report this issue with the KEGG \n",
      "    identifier (23451             CDS       T01001) into github.com/bioservices. Thanks T.C.\u001b[0m\n",
      " 39%|███▉      | 524/1328 [03:24<05:12,  2.57it/s]\u001b[33mWARNING [bioservices:keggparser:119]: \u001b[0m \u001b[34mFound keyword SYMBOL, which has not special\n",
      "    parsing for now. please report this issue with the KEGG \n",
      "    identifier (2263              CDS       T01001) into github.com/bioservices. Thanks T.C.\u001b[0m\n",
      " 40%|███▉      | 525/1328 [03:24<04:42,  2.84it/s]\u001b[33mWARNING [bioservices:keggparser:119]: \u001b[0m \u001b[34mFound keyword SYMBOL, which has not special\n",
      "    parsing for now. please report this issue with the KEGG \n",
      "    identifier (672               CDS       T01001) into github.com/bioservices. Thanks T.C.\u001b[0m\n",
      " 40%|███▉      | 526/1328 [03:24<04:32,  2.94it/s]\u001b[33mWARNING [bioservices:keggparser:119]: \u001b[0m \u001b[34mFound keyword SYMBOL, which has not special\n",
      "    parsing for now. please report this issue with the KEGG \n",
      "    identifier (4921              CDS       T01001) into github.com/bioservices. Thanks T.C.\u001b[0m\n",
      " 40%|███▉      | 527/1328 [03:25<04:03,  3.29it/s]"
     ]
    },
    {
     "name": "stdout",
     "output_type": "stream",
     "text": [
      "no data for  DDR2\n"
     ]
    },
    {
     "name": "stderr",
     "output_type": "stream",
     "text": [
      "\u001b[33mWARNING [bioservices:keggparser:119]: \u001b[0m \u001b[34mFound keyword SYMBOL, which has not special\n",
      "    parsing for now. please report this issue with the KEGG \n",
      "    identifier (10413             CDS       T01001) into github.com/bioservices. Thanks T.C.\u001b[0m\n",
      " 40%|███▉      | 528/1328 [03:25<04:13,  3.16it/s]\u001b[33mWARNING [bioservices:keggparser:119]: \u001b[0m \u001b[34mFound keyword SYMBOL, which has not special\n",
      "    parsing for now. please report this issue with the KEGG \n",
      "    identifier (672               CDS       T01001) into github.com/bioservices. Thanks T.C.\u001b[0m\n",
      " 40%|███▉      | 529/1328 [03:25<03:52,  3.43it/s]\u001b[33mWARNING [bioservices:keggparser:119]: \u001b[0m \u001b[34mFound keyword SYMBOL, which has not special\n",
      "    parsing for now. please report this issue with the KEGG \n",
      "    identifier (2066              CDS       T01001) into github.com/bioservices. Thanks T.C.\u001b[0m\n",
      " 40%|███▉      | 530/1328 [03:26<04:06,  3.23it/s]\u001b[33mWARNING [bioservices:keggparser:119]: \u001b[0m \u001b[34mFound keyword SYMBOL, which has not special\n",
      "    parsing for now. please report this issue with the KEGG \n",
      "    identifier (675               CDS       T01001) into github.com/bioservices. Thanks T.C.\u001b[0m\n",
      " 40%|███▉      | 531/1328 [03:26<04:26,  2.99it/s]\u001b[33mWARNING [bioservices:keggparser:119]: \u001b[0m \u001b[34mFound keyword SYMBOL, which has not special\n",
      "    parsing for now. please report this issue with the KEGG \n",
      "    identifier (675               CDS       T01001) into github.com/bioservices. Thanks T.C.\u001b[0m\n",
      " 40%|████      | 532/1328 [03:26<04:37,  2.87it/s]\u001b[33mWARNING [bioservices:keggparser:119]: \u001b[0m \u001b[34mFound keyword SYMBOL, which has not special\n",
      "    parsing for now. please report this issue with the KEGG \n",
      "    identifier (8405              CDS       T01001) into github.com/bioservices. Thanks T.C.\u001b[0m\n",
      " 40%|████      | 533/1328 [03:27<04:01,  3.30it/s]\u001b[33mWARNING [bioservices:keggparser:119]: \u001b[0m \u001b[34mFound keyword SYMBOL, which has not special\n",
      "    parsing for now. please report this issue with the KEGG \n",
      "    identifier (5728              CDS       T01001) into github.com/bioservices. Thanks T.C.\u001b[0m\n",
      " 40%|████      | 534/1328 [03:27<04:34,  2.89it/s]\u001b[33mWARNING [bioservices:keggparser:119]: \u001b[0m \u001b[34mFound keyword SYMBOL, which has not special\n",
      "    parsing for now. please report this issue with the KEGG \n",
      "    identifier (1956              CDS       T01001) into github.com/bioservices. Thanks T.C.\u001b[0m\n",
      " 40%|████      | 535/1328 [03:28<05:25,  2.44it/s]\u001b[33mWARNING [bioservices:keggparser:119]: \u001b[0m \u001b[34mFound keyword SYMBOL, which has not special\n",
      "    parsing for now. please report this issue with the KEGG \n",
      "    identifier (2066              CDS       T01001) into github.com/bioservices. Thanks T.C.\u001b[0m\n",
      " 40%|████      | 536/1328 [03:28<04:36,  2.86it/s]\u001b[33mWARNING [bioservices:keggparser:119]: \u001b[0m \u001b[34mFound keyword SYMBOL, which has not special\n",
      "    parsing for now. please report this issue with the KEGG \n",
      "    identifier (8405              CDS       T01001) into github.com/bioservices. Thanks T.C.\u001b[0m\n",
      " 40%|████      | 537/1328 [03:28<04:33,  2.89it/s]\u001b[33mWARNING [bioservices:keggparser:119]: \u001b[0m \u001b[34mFound keyword SYMBOL, which has not special\n",
      "    parsing for now. please report this issue with the KEGG \n",
      "    identifier (6608              CDS       T01001) into github.com/bioservices. Thanks T.C.\u001b[0m\n",
      " 41%|████      | 538/1328 [03:28<03:59,  3.30it/s]\u001b[33mWARNING [bioservices:keggparser:119]: \u001b[0m \u001b[34mFound keyword SYMBOL, which has not special\n",
      "    parsing for now. please report this issue with the KEGG \n",
      "    identifier (3725              CDS       T01001) into github.com/bioservices. Thanks T.C.\u001b[0m\n",
      " 41%|████      | 539/1328 [03:29<05:11,  2.53it/s]\u001b[33mWARNING [bioservices:keggparser:119]: \u001b[0m \u001b[34mFound keyword SYMBOL, which has not special\n",
      "    parsing for now. please report this issue with the KEGG \n",
      "    identifier (4780              CDS       T01001) into github.com/bioservices. Thanks T.C.\u001b[0m\n",
      " 41%|████      | 540/1328 [03:29<04:30,  2.91it/s]\u001b[33mWARNING [bioservices:keggparser:119]: \u001b[0m \u001b[34mFound keyword SYMBOL, which has not special\n",
      "    parsing for now. please report this issue with the KEGG \n",
      "    identifier (2778              CDS       T01001) into github.com/bioservices. Thanks T.C.\u001b[0m\n",
      " 41%|████      | 541/1328 [03:30<05:22,  2.44it/s]\u001b[33mWARNING [bioservices:keggparser:119]: \u001b[0m \u001b[34mFound keyword SYMBOL, which has not special\n",
      "    parsing for now. please report this issue with the KEGG \n",
      "    identifier (3845              CDS       T01001) into github.com/bioservices. Thanks T.C.\u001b[0m\n",
      " 41%|████      | 542/1328 [03:30<06:36,  1.98it/s]\u001b[33mWARNING [bioservices:keggparser:119]: \u001b[0m \u001b[34mFound keyword SYMBOL, which has not special\n",
      "    parsing for now. please report this issue with the KEGG \n",
      "    identifier (2475              CDS       T01001) into github.com/bioservices. Thanks T.C.\u001b[0m\n",
      " 41%|████      | 543/1328 [03:31<06:54,  1.89it/s]\u001b[33mWARNING [bioservices:keggparser:119]: \u001b[0m \u001b[34mFound keyword SYMBOL, which has not special\n",
      "    parsing for now. please report this issue with the KEGG \n",
      "    identifier (7157              CDS       T01001) into github.com/bioservices. Thanks T.C.\u001b[0m\n",
      " 41%|████      | 544/1328 [03:31<06:30,  2.01it/s]\u001b[33mWARNING [bioservices:keggparser:119]: \u001b[0m \u001b[34mFound keyword SYMBOL, which has not special\n",
      "    parsing for now. please report this issue with the KEGG \n",
      "    identifier (4763              CDS       T01001) into github.com/bioservices. Thanks T.C.\u001b[0m\n",
      " 41%|████      | 545/1328 [03:32<05:22,  2.42it/s]\u001b[33mWARNING [bioservices:keggparser:119]: \u001b[0m \u001b[34mFound keyword SYMBOL, which has not special\n",
      "    parsing for now. please report this issue with the KEGG \n",
      "    identifier (672               CDS       T01001) into github.com/bioservices. Thanks T.C.\u001b[0m\n",
      " 41%|████      | 546/1328 [03:32<05:12,  2.50it/s]\u001b[33mWARNING [bioservices:keggparser:119]: \u001b[0m \u001b[34mFound keyword SYMBOL, which has not special\n",
      "    parsing for now. please report this issue with the KEGG \n",
      "    identifier (5728              CDS       T01001) into github.com/bioservices. Thanks T.C.\u001b[0m\n",
      " 41%|████      | 547/1328 [03:32<04:55,  2.64it/s]\u001b[33mWARNING [bioservices:keggparser:119]: \u001b[0m \u001b[34mFound keyword SYMBOL, which has not special\n",
      "    parsing for now. please report this issue with the KEGG \n",
      "    identifier (675               CDS       T01001) into github.com/bioservices. Thanks T.C.\u001b[0m\n",
      " 41%|████▏     | 548/1328 [03:33<04:54,  2.64it/s]\u001b[33mWARNING [bioservices:keggparser:119]: \u001b[0m \u001b[34mFound keyword SYMBOL, which has not special\n",
      "    parsing for now. please report this issue with the KEGG \n",
      "    identifier (673               CDS       T01001) into github.com/bioservices. Thanks T.C.\u001b[0m\n",
      " 41%|████▏     | 549/1328 [03:33<05:36,  2.31it/s]\u001b[33mWARNING [bioservices:keggparser:119]: \u001b[0m \u001b[34mFound keyword SYMBOL, which has not special\n",
      "    parsing for now. please report this issue with the KEGG \n",
      "    identifier (1029              CDS       T01001) into github.com/bioservices. Thanks T.C.\u001b[0m\n",
      " 41%|████▏     | 550/1328 [03:34<05:05,  2.55it/s]\u001b[33mWARNING [bioservices:keggparser:119]: \u001b[0m \u001b[34mFound keyword SYMBOL, which has not special\n",
      "    parsing for now. please report this issue with the KEGG \n",
      "    identifier (4436              CDS       T01001) into github.com/bioservices. Thanks T.C.\u001b[0m\n",
      " 41%|████▏     | 551/1328 [03:34<04:34,  2.83it/s]\u001b[33mWARNING [bioservices:keggparser:119]: \u001b[0m \u001b[34mFound keyword SYMBOL, which has not special\n",
      "    parsing for now. please report this issue with the KEGG \n",
      "    identifier (672               CDS       T01001) into github.com/bioservices. Thanks T.C.\u001b[0m\n",
      " 42%|████▏     | 552/1328 [03:34<04:19,  2.99it/s]\u001b[33mWARNING [bioservices:keggparser:119]: \u001b[0m \u001b[34mFound keyword SYMBOL, which has not special\n",
      "    parsing for now. please report this issue with the KEGG \n",
      "    identifier (238               CDS       T01001) into github.com/bioservices. Thanks T.C.\u001b[0m\n",
      " 42%|████▏     | 553/1328 [03:34<04:00,  3.22it/s]\u001b[33mWARNING [bioservices:keggparser:119]: \u001b[0m \u001b[34mFound keyword SYMBOL, which has not special\n",
      "    parsing for now. please report this issue with the KEGG \n",
      "    identifier (867               CDS       T01001) into github.com/bioservices. Thanks T.C.\u001b[0m\n"
     ]
    },
    {
     "name": "stderr",
     "output_type": "stream",
     "text": [
      " 42%|████▏     | 554/1328 [03:35<04:03,  3.18it/s]\u001b[33mWARNING [bioservices:keggparser:119]: \u001b[0m \u001b[34mFound keyword SYMBOL, which has not special\n",
      "    parsing for now. please report this issue with the KEGG \n",
      "    identifier (5604              CDS       T01001) into github.com/bioservices. Thanks T.C.\u001b[0m\n",
      " 42%|████▏     | 555/1328 [03:35<05:42,  2.26it/s]\u001b[33mWARNING [bioservices:keggparser:119]: \u001b[0m \u001b[34mFound keyword SYMBOL, which has not special\n",
      "    parsing for now. please report this issue with the KEGG \n",
      "    identifier (3845              CDS       T01001) into github.com/bioservices. Thanks T.C.\u001b[0m\n",
      " 42%|████▏     | 556/1328 [03:36<06:42,  1.92it/s]\u001b[33mWARNING [bioservices:keggparser:119]: \u001b[0m \u001b[34mFound keyword SYMBOL, which has not special\n",
      "    parsing for now. please report this issue with the KEGG \n",
      "    identifier (2261              CDS       T01001) into github.com/bioservices. Thanks T.C.\u001b[0m\n",
      " 42%|████▏     | 557/1328 [03:36<05:36,  2.29it/s]\u001b[33mWARNING [bioservices:keggparser:119]: \u001b[0m \u001b[34mFound keyword SYMBOL, which has not special\n",
      "    parsing for now. please report this issue with the KEGG \n",
      "    identifier (2064              CDS       T01001) into github.com/bioservices. Thanks T.C.\u001b[0m\n",
      " 42%|████▏     | 558/1328 [03:37<05:28,  2.34it/s]\u001b[33mWARNING [bioservices:keggparser:119]: \u001b[0m \u001b[34mFound keyword SYMBOL, which has not special\n",
      "    parsing for now. please report this issue with the KEGG \n",
      "    identifier (5395              CDS       T01001) into github.com/bioservices. Thanks T.C.\u001b[0m\n",
      " 42%|████▏     | 559/1328 [03:37<04:37,  2.77it/s]\u001b[33mWARNING [bioservices:keggparser:119]: \u001b[0m \u001b[34mFound keyword SYMBOL, which has not special\n",
      "    parsing for now. please report this issue with the KEGG \n",
      "    identifier (3845              CDS       T01001) into github.com/bioservices. Thanks T.C.\u001b[0m\n",
      " 42%|████▏     | 560/1328 [03:38<06:28,  1.98it/s]\u001b[33mWARNING [bioservices:keggparser:119]: \u001b[0m \u001b[34mFound keyword SYMBOL, which has not special\n",
      "    parsing for now. please report this issue with the KEGG \n",
      "    identifier (7157              CDS       T01001) into github.com/bioservices. Thanks T.C.\u001b[0m\n",
      " 42%|████▏     | 561/1328 [03:38<06:06,  2.09it/s]\u001b[33mWARNING [bioservices:keggparser:119]: \u001b[0m \u001b[34mFound keyword SYMBOL, which has not special\n",
      "    parsing for now. please report this issue with the KEGG \n",
      "    identifier (672               CDS       T01001) into github.com/bioservices. Thanks T.C.\u001b[0m\n",
      " 42%|████▏     | 562/1328 [03:39<05:10,  2.47it/s]\u001b[33mWARNING [bioservices:keggparser:119]: \u001b[0m \u001b[34mFound keyword SYMBOL, which has not special\n",
      "    parsing for now. please report this issue with the KEGG \n",
      "    identifier (5605              CDS       T01001) into github.com/bioservices. Thanks T.C.\u001b[0m\n",
      " 42%|████▏     | 563/1328 [03:39<06:44,  1.89it/s]\u001b[33mWARNING [bioservices:keggparser:119]: \u001b[0m \u001b[34mFound keyword SYMBOL, which has not special\n",
      "    parsing for now. please report this issue with the KEGG \n",
      "    identifier (369               CDS       T01001) into github.com/bioservices. Thanks T.C.\u001b[0m\n",
      " 42%|████▏     | 564/1328 [03:40<06:05,  2.09it/s]\u001b[33mWARNING [bioservices:keggparser:119]: \u001b[0m \u001b[34mFound keyword SYMBOL, which has not special\n",
      "    parsing for now. please report this issue with the KEGG \n",
      "    identifier (2322              CDS       T01001) into github.com/bioservices. Thanks T.C.\u001b[0m\n",
      " 43%|████▎     | 565/1328 [03:40<05:07,  2.48it/s]\u001b[33mWARNING [bioservices:keggparser:119]: \u001b[0m \u001b[34mFound keyword SYMBOL, which has not special\n",
      "    parsing for now. please report this issue with the KEGG \n",
      "    identifier (672               CDS       T01001) into github.com/bioservices. Thanks T.C.\u001b[0m\n",
      " 43%|████▎     | 566/1328 [03:40<04:55,  2.58it/s]\u001b[33mWARNING [bioservices:keggparser:119]: \u001b[0m \u001b[34mFound keyword SYMBOL, which has not special\n",
      "    parsing for now. please report this issue with the KEGG \n",
      "    identifier (896               CDS       T01001) into github.com/bioservices. Thanks T.C.\u001b[0m\n",
      " 43%|████▎     | 567/1328 [03:41<04:24,  2.88it/s]\u001b[33mWARNING [bioservices:keggparser:119]: \u001b[0m \u001b[34mFound keyword SYMBOL, which has not special\n",
      "    parsing for now. please report this issue with the KEGG \n",
      "    identifier (2475              CDS       T01001) into github.com/bioservices. Thanks T.C.\u001b[0m\n",
      " 43%|████▎     | 568/1328 [03:41<05:32,  2.28it/s]\u001b[33mWARNING [bioservices:keggparser:119]: \u001b[0m \u001b[34mFound keyword SYMBOL, which has not special\n",
      "    parsing for now. please report this issue with the KEGG \n",
      "    identifier (672               CDS       T01001) into github.com/bioservices. Thanks T.C.\u001b[0m\n",
      " 43%|████▎     | 569/1328 [03:41<04:47,  2.64it/s]\u001b[33mWARNING [bioservices:keggparser:119]: \u001b[0m \u001b[34mFound keyword SYMBOL, which has not special\n",
      "    parsing for now. please report this issue with the KEGG \n",
      "    identifier (673               CDS       T01001) into github.com/bioservices. Thanks T.C.\u001b[0m\n",
      " 43%|████▎     | 570/1328 [03:42<05:46,  2.18it/s]\u001b[33mWARNING [bioservices:keggparser:119]: \u001b[0m \u001b[34mFound keyword SYMBOL, which has not special\n",
      "    parsing for now. please report this issue with the KEGG \n",
      "    identifier (2261              CDS       T01001) into github.com/bioservices. Thanks T.C.\u001b[0m\n",
      " 43%|████▎     | 571/1328 [03:42<05:01,  2.51it/s]\u001b[33mWARNING [bioservices:keggparser:119]: \u001b[0m \u001b[34mFound keyword SYMBOL, which has not special\n",
      "    parsing for now. please report this issue with the KEGG \n",
      "    identifier (4780              CDS       T01001) into github.com/bioservices. Thanks T.C.\u001b[0m\n",
      " 43%|████▎     | 572/1328 [03:43<04:42,  2.68it/s]\u001b[33mWARNING [bioservices:keggparser:119]: \u001b[0m \u001b[34mFound keyword SYMBOL, which has not special\n",
      "    parsing for now. please report this issue with the KEGG \n",
      "    identifier (7157              CDS       T01001) into github.com/bioservices. Thanks T.C.\u001b[0m\n",
      " 43%|████▎     | 573/1328 [03:43<04:58,  2.53it/s]\u001b[33mWARNING [bioservices:keggparser:119]: \u001b[0m \u001b[34mFound keyword SYMBOL, which has not special\n",
      "    parsing for now. please report this issue with the KEGG \n",
      "    identifier (675               CDS       T01001) into github.com/bioservices. Thanks T.C.\u001b[0m\n",
      " 43%|████▎     | 574/1328 [03:43<04:55,  2.55it/s]\u001b[33mWARNING [bioservices:keggparser:119]: \u001b[0m \u001b[34mFound keyword SYMBOL, which has not special\n",
      "    parsing for now. please report this issue with the KEGG \n",
      "    identifier (2475              CDS       T01001) into github.com/bioservices. Thanks T.C.\u001b[0m\n",
      " 43%|████▎     | 575/1328 [03:44<05:42,  2.20it/s]\u001b[33mWARNING [bioservices:keggparser:119]: \u001b[0m \u001b[34mFound keyword SYMBOL, which has not special\n",
      "    parsing for now. please report this issue with the KEGG \n",
      "    identifier (672               CDS       T01001) into github.com/bioservices. Thanks T.C.\u001b[0m\n",
      " 43%|████▎     | 576/1328 [03:44<04:55,  2.55it/s]\u001b[33mWARNING [bioservices:keggparser:119]: \u001b[0m \u001b[34mFound keyword SYMBOL, which has not special\n",
      "    parsing for now. please report this issue with the KEGG \n",
      "    identifier (2263              CDS       T01001) into github.com/bioservices. Thanks T.C.\u001b[0m\n",
      " 43%|████▎     | 577/1328 [03:45<04:51,  2.58it/s]\u001b[33mWARNING [bioservices:keggparser:119]: \u001b[0m \u001b[34mFound keyword SYMBOL, which has not special\n",
      "    parsing for now. please report this issue with the KEGG \n",
      "    identifier (238               CDS       T01001) into github.com/bioservices. Thanks T.C.\u001b[0m\n",
      " 44%|████▎     | 578/1328 [03:45<04:09,  3.00it/s]\u001b[33mWARNING [bioservices:keggparser:119]: \u001b[0m \u001b[34mFound keyword SYMBOL, which has not special\n",
      "    parsing for now. please report this issue with the KEGG \n",
      "    identifier (675               CDS       T01001) into github.com/bioservices. Thanks T.C.\u001b[0m\n",
      " 44%|████▎     | 579/1328 [03:45<04:51,  2.57it/s]\u001b[33mWARNING [bioservices:keggparser:119]: \u001b[0m \u001b[34mFound keyword SYMBOL, which has not special\n",
      "    parsing for now. please report this issue with the KEGG \n",
      "    identifier (673               CDS       T01001) into github.com/bioservices. Thanks T.C.\u001b[0m\n",
      " 44%|████▎     | 580/1328 [03:46<05:30,  2.26it/s]\u001b[33mWARNING [bioservices:keggparser:119]: \u001b[0m \u001b[34mFound keyword SYMBOL, which has not special\n",
      "    parsing for now. please report this issue with the KEGG \n",
      "    identifier (7157              CDS       T01001) into github.com/bioservices. Thanks T.C.\u001b[0m\n"
     ]
    },
    {
     "name": "stderr",
     "output_type": "stream",
     "text": [
      " 44%|████▍     | 581/1328 [03:46<05:26,  2.29it/s]\u001b[33mWARNING [bioservices:keggparser:119]: \u001b[0m \u001b[34mFound keyword SYMBOL, which has not special\n",
      "    parsing for now. please report this issue with the KEGG \n",
      "    identifier (672               CDS       T01001) into github.com/bioservices. Thanks T.C.\u001b[0m\n",
      " 44%|████▍     | 582/1328 [03:47<04:36,  2.70it/s]\u001b[33mWARNING [bioservices:keggparser:119]: \u001b[0m \u001b[34mFound keyword SYMBOL, which has not special\n",
      "    parsing for now. please report this issue with the KEGG \n",
      "    identifier (673               CDS       T01001) into github.com/bioservices. Thanks T.C.\u001b[0m\n",
      " 44%|████▍     | 583/1328 [03:47<05:45,  2.16it/s]\u001b[33mWARNING [bioservices:keggparser:119]: \u001b[0m \u001b[34mFound keyword SYMBOL, which has not special\n",
      "    parsing for now. please report this issue with the KEGG \n",
      "    identifier (5156              CDS       T01001) into github.com/bioservices. Thanks T.C.\u001b[0m\n",
      " 44%|████▍     | 584/1328 [03:48<05:06,  2.43it/s]\u001b[33mWARNING [bioservices:keggparser:119]: \u001b[0m \u001b[34mFound keyword SYMBOL, which has not special\n",
      "    parsing for now. please report this issue with the KEGG \n",
      "    identifier (5728              CDS       T01001) into github.com/bioservices. Thanks T.C.\u001b[0m\n",
      " 44%|████▍     | 585/1328 [03:48<04:54,  2.52it/s]\u001b[33mWARNING [bioservices:keggparser:119]: \u001b[0m \u001b[34mFound keyword SYMBOL, which has not special\n",
      "    parsing for now. please report this issue with the KEGG \n",
      "    identifier (5728              CDS       T01001) into github.com/bioservices. Thanks T.C.\u001b[0m\n",
      " 44%|████▍     | 586/1328 [03:48<04:36,  2.68it/s]\u001b[33mWARNING [bioservices:keggparser:119]: \u001b[0m \u001b[34mFound keyword SYMBOL, which has not special\n",
      "    parsing for now. please report this issue with the KEGG \n",
      "    identifier (3265              CDS       T01001) into github.com/bioservices. Thanks T.C.\u001b[0m\n",
      " 44%|████▍     | 587/1328 [03:49<06:00,  2.06it/s]\u001b[33mWARNING [bioservices:keggparser:119]: \u001b[0m \u001b[34mFound keyword SYMBOL, which has not special\n",
      "    parsing for now. please report this issue with the KEGG \n",
      "    identifier (2475              CDS       T01001) into github.com/bioservices. Thanks T.C.\u001b[0m\n",
      " 44%|████▍     | 588/1328 [03:50<06:21,  1.94it/s]\u001b[33mWARNING [bioservices:keggparser:119]: \u001b[0m \u001b[34mFound keyword SYMBOL, which has not special\n",
      "    parsing for now. please report this issue with the KEGG \n",
      "    identifier (3815              CDS       T01001) into github.com/bioservices. Thanks T.C.\u001b[0m\n",
      " 44%|████▍     | 589/1328 [03:50<05:23,  2.29it/s]\u001b[33mWARNING [bioservices:keggparser:119]: \u001b[0m \u001b[34mFound keyword SYMBOL, which has not special\n",
      "    parsing for now. please report this issue with the KEGG \n",
      "    identifier (3845              CDS       T01001) into github.com/bioservices. Thanks T.C.\u001b[0m\n",
      " 44%|████▍     | 590/1328 [03:51<06:53,  1.79it/s]\u001b[33mWARNING [bioservices:keggparser:119]: \u001b[0m \u001b[34mFound keyword SYMBOL, which has not special\n",
      "    parsing for now. please report this issue with the KEGG \n",
      "    identifier (675               CDS       T01001) into github.com/bioservices. Thanks T.C.\u001b[0m\n",
      " 45%|████▍     | 591/1328 [03:51<06:11,  1.98it/s]\u001b[33mWARNING [bioservices:keggparser:119]: \u001b[0m \u001b[34mFound keyword SYMBOL, which has not special\n",
      "    parsing for now. please report this issue with the KEGG \n",
      "    identifier (7157              CDS       T01001) into github.com/bioservices. Thanks T.C.\u001b[0m\n",
      " 45%|████▍     | 592/1328 [03:52<05:54,  2.08it/s]\u001b[33mWARNING [bioservices:keggparser:119]: \u001b[0m \u001b[34mFound keyword SYMBOL, which has not special\n",
      "    parsing for now. please report this issue with the KEGG \n",
      "    identifier (2263              CDS       T01001) into github.com/bioservices. Thanks T.C.\u001b[0m\n",
      " 45%|████▍     | 593/1328 [03:52<05:03,  2.43it/s]\u001b[33mWARNING [bioservices:keggparser:119]: \u001b[0m \u001b[34mFound keyword SYMBOL, which has not special\n",
      "    parsing for now. please report this issue with the KEGG \n",
      "    identifier (25                CDS       T01001) into github.com/bioservices. Thanks T.C.\u001b[0m\n",
      " 45%|████▍     | 594/1328 [03:52<04:46,  2.56it/s]\u001b[33mWARNING [bioservices:keggparser:119]: \u001b[0m \u001b[34mFound keyword SYMBOL, which has not special\n",
      "    parsing for now. please report this issue with the KEGG \n",
      "    identifier (7157              CDS       T01001) into github.com/bioservices. Thanks T.C.\u001b[0m\n",
      " 45%|████▍     | 595/1328 [03:53<04:54,  2.49it/s]\u001b[33mWARNING [bioservices:keggparser:119]: \u001b[0m \u001b[34mFound keyword SYMBOL, which has not special\n",
      "    parsing for now. please report this issue with the KEGG \n",
      "    identifier (672               CDS       T01001) into github.com/bioservices. Thanks T.C.\u001b[0m\n",
      " 45%|████▍     | 596/1328 [03:53<04:18,  2.83it/s]\u001b[33mWARNING [bioservices:keggparser:119]: \u001b[0m \u001b[34mFound keyword SYMBOL, which has not special\n",
      "    parsing for now. please report this issue with the KEGG \n",
      "    identifier (5781              CDS       T01001) into github.com/bioservices. Thanks T.C.\u001b[0m\n",
      " 45%|████▍     | 597/1328 [03:53<04:21,  2.80it/s]\u001b[33mWARNING [bioservices:keggparser:119]: \u001b[0m \u001b[34mFound keyword SYMBOL, which has not special\n",
      "    parsing for now. please report this issue with the KEGG \n",
      "    identifier (6608              CDS       T01001) into github.com/bioservices. Thanks T.C.\u001b[0m\n",
      " 45%|████▌     | 598/1328 [03:53<03:51,  3.15it/s]\u001b[33mWARNING [bioservices:keggparser:119]: \u001b[0m \u001b[34mFound keyword SYMBOL, which has not special\n",
      "    parsing for now. please report this issue with the KEGG \n",
      "    identifier (675               CDS       T01001) into github.com/bioservices. Thanks T.C.\u001b[0m\n",
      " 45%|████▌     | 599/1328 [03:54<04:29,  2.70it/s]\u001b[33mWARNING [bioservices:keggparser:119]: \u001b[0m \u001b[34mFound keyword SYMBOL, which has not special\n",
      "    parsing for now. please report this issue with the KEGG \n",
      "    identifier (5296              CDS       T01001) into github.com/bioservices. Thanks T.C.\u001b[0m\n",
      " 45%|████▌     | 600/1328 [03:55<06:07,  1.98it/s]\u001b[33mWARNING [bioservices:keggparser:119]: \u001b[0m \u001b[34mFound keyword SYMBOL, which has not special\n",
      "    parsing for now. please report this issue with the KEGG \n",
      "    identifier (1499              CDS       T01001) into github.com/bioservices. Thanks T.C.\u001b[0m\n",
      " 45%|████▌     | 601/1328 [03:55<05:28,  2.21it/s]\u001b[33mWARNING [bioservices:keggparser:119]: \u001b[0m \u001b[34mFound keyword SYMBOL, which has not special\n",
      "    parsing for now. please report this issue with the KEGG \n",
      "    identifier (7157              CDS       T01001) into github.com/bioservices. Thanks T.C.\u001b[0m\n",
      " 45%|████▌     | 602/1328 [03:55<05:22,  2.25it/s]\u001b[33mWARNING [bioservices:keggparser:119]: \u001b[0m \u001b[34mFound keyword SYMBOL, which has not special\n",
      "    parsing for now. please report this issue with the KEGG \n",
      "    identifier (3815              CDS       T01001) into github.com/bioservices. Thanks T.C.\u001b[0m\n",
      " 45%|████▌     | 603/1328 [03:56<04:40,  2.58it/s]\u001b[33mWARNING [bioservices:keggparser:119]: \u001b[0m \u001b[34mFound keyword SYMBOL, which has not special\n",
      "    parsing for now. please report this issue with the KEGG \n",
      "    identifier (5295              CDS       T01001) into github.com/bioservices. Thanks T.C.\u001b[0m\n",
      " 45%|████▌     | 604/1328 [03:57<06:29,  1.86it/s]\u001b[33mWARNING [bioservices:keggparser:119]: \u001b[0m \u001b[34mFound keyword SYMBOL, which has not special\n",
      "    parsing for now. please report this issue with the KEGG \n",
      "    identifier (7157              CDS       T01001) into github.com/bioservices. Thanks T.C.\u001b[0m\n",
      " 46%|████▌     | 605/1328 [03:57<06:05,  1.98it/s]\u001b[33mWARNING [bioservices:keggparser:119]: \u001b[0m \u001b[34mFound keyword SYMBOL, which has not special\n",
      "    parsing for now. please report this issue with the KEGG \n",
      "    identifier (1387              CDS       T01001) into github.com/bioservices. Thanks T.C.\u001b[0m\n",
      " 46%|████▌     | 606/1328 [03:57<05:54,  2.04it/s]\u001b[33mWARNING [bioservices:keggparser:119]: \u001b[0m \u001b[34mFound keyword SYMBOL, which has not special\n",
      "    parsing for now. please report this issue with the KEGG \n",
      "    identifier (5156              CDS       T01001) into github.com/bioservices. Thanks T.C.\u001b[0m\n",
      " 46%|████▌     | 607/1328 [03:58<05:10,  2.32it/s]\u001b[33mWARNING [bioservices:keggparser:119]: \u001b[0m \u001b[34mFound keyword SYMBOL, which has not special\n",
      "    parsing for now. please report this issue with the KEGG \n",
      "    identifier (171023            CDS       T01001) into github.com/bioservices. Thanks T.C.\u001b[0m\n"
     ]
    },
    {
     "name": "stderr",
     "output_type": "stream",
     "text": [
      "\r",
      " 46%|████▌     | 608/1328 [03:58<04:27,  2.69it/s]"
     ]
    },
    {
     "name": "stdout",
     "output_type": "stream",
     "text": [
      "no data for  ASXL1\n"
     ]
    },
    {
     "name": "stderr",
     "output_type": "stream",
     "text": [
      "\u001b[33mWARNING [bioservices:keggparser:119]: \u001b[0m \u001b[34mFound keyword SYMBOL, which has not special\n",
      "    parsing for now. please report this issue with the KEGG \n",
      "    identifier (2066              CDS       T01001) into github.com/bioservices. Thanks T.C.\u001b[0m\n",
      " 46%|████▌     | 609/1328 [03:58<04:21,  2.75it/s]\u001b[33mWARNING [bioservices:keggparser:119]: \u001b[0m \u001b[34mFound keyword SYMBOL, which has not special\n",
      "    parsing for now. please report this issue with the KEGG \n",
      "    identifier (10000             CDS       T01001) into github.com/bioservices. Thanks T.C.\u001b[0m\n",
      " 46%|████▌     | 610/1328 [03:59<05:57,  2.01it/s]\u001b[33mWARNING [bioservices:keggparser:119]: \u001b[0m \u001b[34mFound keyword SYMBOL, which has not special\n",
      "    parsing for now. please report this issue with the KEGG \n",
      "    identifier (7428              CDS       T01001) into github.com/bioservices. Thanks T.C.\u001b[0m\n",
      " 46%|████▌     | 611/1328 [03:59<04:58,  2.41it/s]\u001b[33mWARNING [bioservices:keggparser:119]: \u001b[0m \u001b[34mFound keyword SYMBOL, which has not special\n",
      "    parsing for now. please report this issue with the KEGG \n",
      "    identifier (7403              CDS       T01001) into github.com/bioservices. Thanks T.C.\u001b[0m\n",
      " 46%|████▌     | 612/1328 [04:00<04:36,  2.59it/s]\u001b[33mWARNING [bioservices:keggparser:119]: \u001b[0m \u001b[34mFound keyword SYMBOL, which has not special\n",
      "    parsing for now. please report this issue with the KEGG \n",
      "    identifier (2475              CDS       T01001) into github.com/bioservices. Thanks T.C.\u001b[0m\n",
      " 46%|████▌     | 613/1328 [04:00<05:22,  2.22it/s]\u001b[33mWARNING [bioservices:keggparser:119]: \u001b[0m \u001b[34mFound keyword SYMBOL, which has not special\n",
      "    parsing for now. please report this issue with the KEGG \n",
      "    identifier (1029              CDS       T01001) into github.com/bioservices. Thanks T.C.\u001b[0m\n",
      " 46%|████▌     | 614/1328 [04:01<04:42,  2.52it/s]\u001b[33mWARNING [bioservices:keggparser:119]: \u001b[0m \u001b[34mFound keyword SYMBOL, which has not special\n",
      "    parsing for now. please report this issue with the KEGG \n",
      "    identifier (25                CDS       T01001) into github.com/bioservices. Thanks T.C.\u001b[0m\n",
      " 46%|████▋     | 615/1328 [04:01<04:25,  2.68it/s]\u001b[33mWARNING [bioservices:keggparser:119]: \u001b[0m \u001b[34mFound keyword SYMBOL, which has not special\n",
      "    parsing for now. please report this issue with the KEGG \n",
      "    identifier (2130              CDS       T01001) into github.com/bioservices. Thanks T.C.\u001b[0m\n",
      " 46%|████▋     | 616/1328 [04:01<03:51,  3.07it/s]\u001b[33mWARNING [bioservices:keggparser:119]: \u001b[0m \u001b[34mFound keyword SYMBOL, which has not special\n",
      "    parsing for now. please report this issue with the KEGG \n",
      "    identifier (841               CDS       T01001) into github.com/bioservices. Thanks T.C.\u001b[0m\n",
      " 46%|████▋     | 617/1328 [04:02<04:25,  2.68it/s]\u001b[33mWARNING [bioservices:keggparser:119]: \u001b[0m \u001b[34mFound keyword SYMBOL, which has not special\n",
      "    parsing for now. please report this issue with the KEGG \n",
      "    identifier (2120              CDS       T01001) into github.com/bioservices. Thanks T.C.\u001b[0m\n",
      " 47%|████▋     | 618/1328 [04:02<03:45,  3.15it/s]\u001b[33mWARNING [bioservices:keggparser:119]: \u001b[0m \u001b[34mFound keyword SYMBOL, which has not special\n",
      "    parsing for now. please report this issue with the KEGG \n",
      "    identifier (4780              CDS       T01001) into github.com/bioservices. Thanks T.C.\u001b[0m\n",
      " 47%|████▋     | 619/1328 [04:02<03:59,  2.96it/s]\u001b[33mWARNING [bioservices:keggparser:119]: \u001b[0m \u001b[34mFound keyword SYMBOL, which has not special\n",
      "    parsing for now. please report this issue with the KEGG \n",
      "    identifier (672               CDS       T01001) into github.com/bioservices. Thanks T.C.\u001b[0m\n",
      " 47%|████▋     | 620/1328 [04:02<03:36,  3.27it/s]\u001b[33mWARNING [bioservices:keggparser:119]: \u001b[0m \u001b[34mFound keyword SYMBOL, which has not special\n",
      "    parsing for now. please report this issue with the KEGG \n",
      "    identifier (2064              CDS       T01001) into github.com/bioservices. Thanks T.C.\u001b[0m\n",
      " 47%|████▋     | 621/1328 [04:03<03:55,  3.00it/s]\u001b[33mWARNING [bioservices:keggparser:119]: \u001b[0m \u001b[34mFound keyword SYMBOL, which has not special\n",
      "    parsing for now. please report this issue with the KEGG \n",
      "    identifier (5921              CDS       T01001) into github.com/bioservices. Thanks T.C.\u001b[0m\n",
      " 47%|████▋     | 622/1328 [04:03<03:30,  3.35it/s]\u001b[33mWARNING [bioservices:keggparser:119]: \u001b[0m \u001b[34mFound keyword SYMBOL, which has not special\n",
      "    parsing for now. please report this issue with the KEGG \n",
      "    identifier (23152             CDS       T01001) into github.com/bioservices. Thanks T.C.\u001b[0m\n",
      " 47%|████▋     | 623/1328 [04:03<03:37,  3.24it/s]\u001b[33mWARNING [bioservices:keggparser:119]: \u001b[0m \u001b[34mFound keyword SYMBOL, which has not special\n",
      "    parsing for now. please report this issue with the KEGG \n",
      "    identifier (55294             CDS       T01001) into github.com/bioservices. Thanks T.C.\u001b[0m\n",
      " 47%|████▋     | 624/1328 [04:04<03:15,  3.59it/s]\u001b[33mWARNING [bioservices:keggparser:119]: \u001b[0m \u001b[34mFound keyword SYMBOL, which has not special\n",
      "    parsing for now. please report this issue with the KEGG \n",
      "    identifier (5292              CDS       T01001) into github.com/bioservices. Thanks T.C.\u001b[0m\n",
      " 47%|████▋     | 625/1328 [04:04<03:33,  3.29it/s]\u001b[33mWARNING [bioservices:keggparser:119]: \u001b[0m \u001b[34mFound keyword SYMBOL, which has not special\n",
      "    parsing for now. please report this issue with the KEGG \n",
      "    identifier (3815              CDS       T01001) into github.com/bioservices. Thanks T.C.\u001b[0m\n",
      " 47%|████▋     | 626/1328 [04:04<03:30,  3.33it/s]\u001b[33mWARNING [bioservices:keggparser:119]: \u001b[0m \u001b[34mFound keyword SYMBOL, which has not special\n",
      "    parsing for now. please report this issue with the KEGG \n",
      "    identifier (3417              CDS       T01001) into github.com/bioservices. Thanks T.C.\u001b[0m\n",
      " 47%|████▋     | 627/1328 [04:04<03:26,  3.39it/s]\u001b[33mWARNING [bioservices:keggparser:119]: \u001b[0m \u001b[34mFound keyword SYMBOL, which has not special\n",
      "    parsing for now. please report this issue with the KEGG \n",
      "    identifier (4233              CDS       T01001) into github.com/bioservices. Thanks T.C.\u001b[0m\n",
      " 47%|████▋     | 628/1328 [04:05<03:45,  3.11it/s]\u001b[33mWARNING [bioservices:keggparser:119]: \u001b[0m \u001b[34mFound keyword SYMBOL, which has not special\n",
      "    parsing for now. please report this issue with the KEGG \n",
      "    identifier (675               CDS       T01001) into github.com/bioservices. Thanks T.C.\u001b[0m\n",
      " 47%|████▋     | 629/1328 [04:05<03:56,  2.96it/s]\u001b[33mWARNING [bioservices:keggparser:119]: \u001b[0m \u001b[34mFound keyword SYMBOL, which has not special\n",
      "    parsing for now. please report this issue with the KEGG \n",
      "    identifier (5604              CDS       T01001) into github.com/bioservices. Thanks T.C.\u001b[0m\n",
      " 47%|████▋     | 630/1328 [04:06<05:22,  2.16it/s]\u001b[33mWARNING [bioservices:keggparser:119]: \u001b[0m \u001b[34mFound keyword SYMBOL, which has not special\n",
      "    parsing for now. please report this issue with the KEGG \n",
      "    identifier (207               CDS       T01001) into github.com/bioservices. Thanks T.C.\u001b[0m\n",
      " 48%|████▊     | 631/1328 [04:07<06:32,  1.78it/s]\u001b[33mWARNING [bioservices:keggparser:119]: \u001b[0m \u001b[34mFound keyword SYMBOL, which has not special\n",
      "    parsing for now. please report this issue with the KEGG \n",
      "    identifier (675               CDS       T01001) into github.com/bioservices. Thanks T.C.\u001b[0m\n",
      " 48%|████▊     | 632/1328 [04:07<05:52,  1.97it/s]\u001b[33mWARNING [bioservices:keggparser:119]: \u001b[0m \u001b[34mFound keyword SYMBOL, which has not special\n",
      "    parsing for now. please report this issue with the KEGG \n",
      "    identifier (5979              CDS       T01001) into github.com/bioservices. Thanks T.C.\u001b[0m\n",
      " 48%|████▊     | 633/1328 [04:07<04:53,  2.37it/s]\u001b[33mWARNING [bioservices:keggparser:119]: \u001b[0m \u001b[34mFound keyword SYMBOL, which has not special\n",
      "    parsing for now. please report this issue with the KEGG \n",
      "    identifier (5290              CDS       T01001) into github.com/bioservices. Thanks T.C.\u001b[0m\n",
      " 48%|████▊     | 634/1328 [04:08<06:40,  1.73it/s]\u001b[33mWARNING [bioservices:keggparser:119]: \u001b[0m \u001b[34mFound keyword SYMBOL, which has not special\n",
      "    parsing for now. please report this issue with the KEGG \n",
      "    identifier (100271849         CDS       T01001) into github.com/bioservices. Thanks T.C.\u001b[0m\n"
     ]
    },
    {
     "name": "stderr",
     "output_type": "stream",
     "text": [
      " 48%|████▊     | 635/1328 [04:09<05:23,  2.14it/s]\u001b[33mWARNING [bioservices:keggparser:119]: \u001b[0m \u001b[34mFound keyword SYMBOL, which has not special\n",
      "    parsing for now. please report this issue with the KEGG \n",
      "    identifier (2261              CDS       T01001) into github.com/bioservices. Thanks T.C.\u001b[0m\n",
      " 48%|████▊     | 636/1328 [04:09<05:05,  2.26it/s]\u001b[33mWARNING [bioservices:keggparser:119]: \u001b[0m \u001b[34mFound keyword SYMBOL, which has not special\n",
      "    parsing for now. please report this issue with the KEGG \n",
      "    identifier (5290              CDS       T01001) into github.com/bioservices. Thanks T.C.\u001b[0m\n",
      " 48%|████▊     | 637/1328 [04:10<06:24,  1.80it/s]\u001b[33mWARNING [bioservices:keggparser:119]: \u001b[0m \u001b[34mFound keyword SYMBOL, which has not special\n",
      "    parsing for now. please report this issue with the KEGG \n",
      "    identifier (4914              CDS       T01001) into github.com/bioservices. Thanks T.C.\u001b[0m\n",
      " 48%|████▊     | 638/1328 [04:10<05:20,  2.15it/s]\u001b[33mWARNING [bioservices:keggparser:119]: \u001b[0m \u001b[34mFound keyword SYMBOL, which has not special\n",
      "    parsing for now. please report this issue with the KEGG \n",
      "    identifier (5979              CDS       T01001) into github.com/bioservices. Thanks T.C.\u001b[0m\n",
      " 48%|████▊     | 639/1328 [04:10<04:48,  2.39it/s]\u001b[33mWARNING [bioservices:keggparser:119]: \u001b[0m \u001b[34mFound keyword SYMBOL, which has not special\n",
      "    parsing for now. please report this issue with the KEGG \n",
      "    identifier (675               CDS       T01001) into github.com/bioservices. Thanks T.C.\u001b[0m\n",
      " 48%|████▊     | 640/1328 [04:11<04:46,  2.40it/s]\u001b[33mWARNING [bioservices:keggparser:119]: \u001b[0m \u001b[34mFound keyword SYMBOL, which has not special\n",
      "    parsing for now. please report this issue with the KEGG \n",
      "    identifier (3815              CDS       T01001) into github.com/bioservices. Thanks T.C.\u001b[0m\n",
      " 48%|████▊     | 641/1328 [04:11<04:12,  2.72it/s]\u001b[33mWARNING [bioservices:keggparser:119]: \u001b[0m \u001b[34mFound keyword SYMBOL, which has not special\n",
      "    parsing for now. please report this issue with the KEGG \n",
      "    identifier (1956              CDS       T01001) into github.com/bioservices. Thanks T.C.\u001b[0m\n",
      " 48%|████▊     | 642/1328 [04:12<05:09,  2.21it/s]\u001b[33mWARNING [bioservices:keggparser:119]: \u001b[0m \u001b[34mFound keyword SYMBOL, which has not special\n",
      "    parsing for now. please report this issue with the KEGG \n",
      "    identifier (7157              CDS       T01001) into github.com/bioservices. Thanks T.C.\u001b[0m\n",
      " 48%|████▊     | 643/1328 [04:12<05:05,  2.24it/s]\u001b[33mWARNING [bioservices:keggparser:119]: \u001b[0m \u001b[34mFound keyword SYMBOL, which has not special\n",
      "    parsing for now. please report this issue with the KEGG \n",
      "    identifier (2099              CDS       T01001) into github.com/bioservices. Thanks T.C.\u001b[0m\n",
      " 48%|████▊     | 644/1328 [04:12<04:24,  2.59it/s]\u001b[33mWARNING [bioservices:keggparser:119]: \u001b[0m \u001b[34mFound keyword SYMBOL, which has not special\n",
      "    parsing for now. please report this issue with the KEGG \n",
      "    identifier (2146              CDS       T01001) into github.com/bioservices. Thanks T.C.\u001b[0m\n",
      " 49%|████▊     | 645/1328 [04:13<04:07,  2.76it/s]\u001b[33mWARNING [bioservices:keggparser:119]: \u001b[0m \u001b[34mFound keyword SYMBOL, which has not special\n",
      "    parsing for now. please report this issue with the KEGG \n",
      "    identifier (2263              CDS       T01001) into github.com/bioservices. Thanks T.C.\u001b[0m\n",
      " 49%|████▊     | 646/1328 [04:13<03:53,  2.92it/s]\u001b[33mWARNING [bioservices:keggparser:119]: \u001b[0m \u001b[34mFound keyword SYMBOL, which has not special\n",
      "    parsing for now. please report this issue with the KEGG \n",
      "    identifier (1956              CDS       T01001) into github.com/bioservices. Thanks T.C.\u001b[0m\n",
      " 49%|████▊     | 647/1328 [04:14<04:53,  2.32it/s]\u001b[33mWARNING [bioservices:keggparser:119]: \u001b[0m \u001b[34mFound keyword SYMBOL, which has not special\n",
      "    parsing for now. please report this issue with the KEGG \n",
      "    identifier (1956              CDS       T01001) into github.com/bioservices. Thanks T.C.\u001b[0m\n",
      " 49%|████▉     | 648/1328 [04:14<05:19,  2.13it/s]\u001b[33mWARNING [bioservices:keggparser:119]: \u001b[0m \u001b[34mFound keyword SYMBOL, which has not special\n",
      "    parsing for now. please report this issue with the KEGG \n",
      "    identifier (5925              CDS       T01001) into github.com/bioservices. Thanks T.C.\u001b[0m\n",
      " 49%|████▉     | 649/1328 [04:14<04:46,  2.37it/s]\u001b[33mWARNING [bioservices:keggparser:119]: \u001b[0m \u001b[34mFound keyword SYMBOL, which has not special\n",
      "    parsing for now. please report this issue with the KEGG \n",
      "    identifier (3845              CDS       T01001) into github.com/bioservices. Thanks T.C.\u001b[0m\n",
      " 49%|████▉     | 650/1328 [04:15<05:53,  1.92it/s]\u001b[33mWARNING [bioservices:keggparser:119]: \u001b[0m \u001b[34mFound keyword SYMBOL, which has not special\n",
      "    parsing for now. please report this issue with the KEGG \n",
      "    identifier (639               CDS       T01001) into github.com/bioservices. Thanks T.C.\u001b[0m\n",
      " 49%|████▉     | 651/1328 [04:15<04:43,  2.39it/s]"
     ]
    },
    {
     "name": "stdout",
     "output_type": "stream",
     "text": [
      "no data for  PRDM1\n"
     ]
    },
    {
     "name": "stderr",
     "output_type": "stream",
     "text": [
      "\u001b[33mWARNING [bioservices:keggparser:119]: \u001b[0m \u001b[34mFound keyword SYMBOL, which has not special\n",
      "    parsing for now. please report this issue with the KEGG \n",
      "    identifier (672               CDS       T01001) into github.com/bioservices. Thanks T.C.\u001b[0m\n",
      " 49%|████▉     | 652/1328 [04:16<04:38,  2.43it/s]\u001b[33mWARNING [bioservices:keggparser:119]: \u001b[0m \u001b[34mFound keyword SYMBOL, which has not special\n",
      "    parsing for now. please report this issue with the KEGG \n",
      "    identifier (5728              CDS       T01001) into github.com/bioservices. Thanks T.C.\u001b[0m\n",
      " 49%|████▉     | 653/1328 [04:16<04:20,  2.59it/s]\u001b[33mWARNING [bioservices:keggparser:119]: \u001b[0m \u001b[34mFound keyword SYMBOL, which has not special\n",
      "    parsing for now. please report this issue with the KEGG \n",
      "    identifier (1029              CDS       T01001) into github.com/bioservices. Thanks T.C.\u001b[0m\n",
      " 49%|████▉     | 654/1328 [04:16<04:01,  2.79it/s]\u001b[33mWARNING [bioservices:keggparser:119]: \u001b[0m \u001b[34mFound keyword SYMBOL, which has not special\n",
      "    parsing for now. please report this issue with the KEGG \n",
      "    identifier (5728              CDS       T01001) into github.com/bioservices. Thanks T.C.\u001b[0m\n",
      " 49%|████▉     | 655/1328 [04:17<04:02,  2.77it/s]\u001b[33mWARNING [bioservices:keggparser:119]: \u001b[0m \u001b[34mFound keyword SYMBOL, which has not special\n",
      "    parsing for now. please report this issue with the KEGG \n",
      "    identifier (1956              CDS       T01001) into github.com/bioservices. Thanks T.C.\u001b[0m\n",
      " 49%|████▉     | 656/1328 [04:17<04:41,  2.39it/s]\u001b[33mWARNING [bioservices:keggparser:119]: \u001b[0m \u001b[34mFound keyword SYMBOL, which has not special\n",
      "    parsing for now. please report this issue with the KEGG \n",
      "    identifier (3845              CDS       T01001) into github.com/bioservices. Thanks T.C.\u001b[0m\n",
      " 49%|████▉     | 657/1328 [04:18<05:42,  1.96it/s]\u001b[33mWARNING [bioservices:keggparser:119]: \u001b[0m \u001b[34mFound keyword SYMBOL, which has not special\n",
      "    parsing for now. please report this issue with the KEGG \n",
      "    identifier (672               CDS       T01001) into github.com/bioservices. Thanks T.C.\u001b[0m\n",
      " 50%|████▉     | 658/1328 [04:18<04:44,  2.35it/s]\u001b[33mWARNING [bioservices:keggparser:119]: \u001b[0m \u001b[34mFound keyword SYMBOL, which has not special\n",
      "    parsing for now. please report this issue with the KEGG \n",
      "    identifier (5156              CDS       T01001) into github.com/bioservices. Thanks T.C.\u001b[0m\n",
      " 50%|████▉     | 659/1328 [04:19<04:40,  2.39it/s]\u001b[33mWARNING [bioservices:keggparser:119]: \u001b[0m \u001b[34mFound keyword SYMBOL, which has not special\n",
      "    parsing for now. please report this issue with the KEGG \n",
      "    identifier (4851              CDS       T01001) into github.com/bioservices. Thanks T.C.\u001b[0m\n",
      " 50%|████▉     | 660/1328 [04:19<04:03,  2.75it/s]\u001b[33mWARNING [bioservices:keggparser:119]: \u001b[0m \u001b[34mFound keyword SYMBOL, which has not special\n",
      "    parsing for now. please report this issue with the KEGG \n",
      "    identifier (8314              CDS       T01001) into github.com/bioservices. Thanks T.C.\u001b[0m\n",
      " 50%|████▉     | 661/1328 [04:19<03:48,  2.92it/s]"
     ]
    },
    {
     "name": "stdout",
     "output_type": "stream",
     "text": [
      "no data for  BAP1\n"
     ]
    },
    {
     "name": "stderr",
     "output_type": "stream",
     "text": [
      "\u001b[33mWARNING [bioservices:keggparser:119]: \u001b[0m \u001b[34mFound keyword SYMBOL, which has not special\n",
      "    parsing for now. please report this issue with the KEGG \n",
      "    identifier (4214              CDS       T01001) into github.com/bioservices. Thanks T.C.\u001b[0m\n",
      " 50%|████▉     | 662/1328 [04:19<03:38,  3.05it/s]\u001b[33mWARNING [bioservices:keggparser:119]: \u001b[0m \u001b[34mFound keyword SYMBOL, which has not special\n",
      "    parsing for now. please report this issue with the KEGG \n",
      "    identifier (5728              CDS       T01001) into github.com/bioservices. Thanks T.C.\u001b[0m\n",
      " 50%|████▉     | 663/1328 [04:20<03:45,  2.95it/s]\u001b[33mWARNING [bioservices:keggparser:119]: \u001b[0m \u001b[34mFound keyword SYMBOL, which has not special\n",
      "    parsing for now. please report this issue with the KEGG \n",
      "    identifier (7157              CDS       T01001) into github.com/bioservices. Thanks T.C.\u001b[0m\n",
      " 50%|█████     | 664/1328 [04:20<04:04,  2.72it/s]\u001b[33mWARNING [bioservices:keggparser:119]: \u001b[0m \u001b[34mFound keyword SYMBOL, which has not special\n",
      "    parsing for now. please report this issue with the KEGG \n",
      "    identifier (3265              CDS       T01001) into github.com/bioservices. Thanks T.C.\u001b[0m\n",
      " 50%|█████     | 665/1328 [04:21<05:14,  2.10it/s]\u001b[33mWARNING [bioservices:keggparser:119]: \u001b[0m \u001b[34mFound keyword SYMBOL, which has not special\n",
      "    parsing for now. please report this issue with the KEGG \n",
      "    identifier (2322              CDS       T01001) into github.com/bioservices. Thanks T.C.\u001b[0m\n",
      " 50%|█████     | 666/1328 [04:21<04:26,  2.48it/s]\u001b[33mWARNING [bioservices:keggparser:119]: \u001b[0m \u001b[34mFound keyword SYMBOL, which has not special\n",
      "    parsing for now. please report this issue with the KEGG \n",
      "    identifier (673               CDS       T01001) into github.com/bioservices. Thanks T.C.\u001b[0m\n",
      " 50%|█████     | 667/1328 [04:22<05:19,  2.07it/s]\u001b[33mWARNING [bioservices:keggparser:119]: \u001b[0m \u001b[34mFound keyword SYMBOL, which has not special\n",
      "    parsing for now. please report this issue with the KEGG \n",
      "    identifier (367               CDS       T01001) into github.com/bioservices. Thanks T.C.\u001b[0m\n",
      " 50%|█████     | 668/1328 [04:22<04:27,  2.47it/s]\u001b[33mWARNING [bioservices:keggparser:119]: \u001b[0m \u001b[34mFound keyword SYMBOL, which has not special\n",
      "    parsing for now. please report this issue with the KEGG \n",
      "    identifier (672               CDS       T01001) into github.com/bioservices. Thanks T.C.\u001b[0m\n",
      " 50%|█████     | 669/1328 [04:22<04:19,  2.54it/s]\u001b[33mWARNING [bioservices:keggparser:119]: \u001b[0m \u001b[34mFound keyword SYMBOL, which has not special\n",
      "    parsing for now. please report this issue with the KEGG \n",
      "    identifier (7157              CDS       T01001) into github.com/bioservices. Thanks T.C.\u001b[0m\n",
      " 50%|█████     | 670/1328 [04:23<04:27,  2.46it/s]\u001b[33mWARNING [bioservices:keggparser:119]: \u001b[0m \u001b[34mFound keyword SYMBOL, which has not special\n",
      "    parsing for now. please report this issue with the KEGG \n",
      "    identifier (7428              CDS       T01001) into github.com/bioservices. Thanks T.C.\u001b[0m\n",
      " 51%|█████     | 671/1328 [04:23<03:46,  2.91it/s]\u001b[33mWARNING [bioservices:keggparser:119]: \u001b[0m \u001b[34mFound keyword SYMBOL, which has not special\n",
      "    parsing for now. please report this issue with the KEGG \n",
      "    identifier (6608              CDS       T01001) into github.com/bioservices. Thanks T.C.\u001b[0m\n",
      " 51%|█████     | 672/1328 [04:23<03:50,  2.84it/s]\u001b[33mWARNING [bioservices:keggparser:119]: \u001b[0m \u001b[34mFound keyword SYMBOL, which has not special\n",
      "    parsing for now. please report this issue with the KEGG \n",
      "    identifier (5728              CDS       T01001) into github.com/bioservices. Thanks T.C.\u001b[0m\n",
      " 51%|█████     | 673/1328 [04:24<03:45,  2.91it/s]\u001b[33mWARNING [bioservices:keggparser:119]: \u001b[0m \u001b[34mFound keyword SYMBOL, which has not special\n",
      "    parsing for now. please report this issue with the KEGG \n",
      "    identifier (5290              CDS       T01001) into github.com/bioservices. Thanks T.C.\u001b[0m\n",
      " 51%|█████     | 674/1328 [04:25<05:35,  1.95it/s]\u001b[33mWARNING [bioservices:keggparser:119]: \u001b[0m \u001b[34mFound keyword SYMBOL, which has not special\n",
      "    parsing for now. please report this issue with the KEGG \n",
      "    identifier (3418              CDS       T01001) into github.com/bioservices. Thanks T.C.\u001b[0m\n",
      " 51%|█████     | 675/1328 [04:25<04:43,  2.30it/s]\u001b[33mWARNING [bioservices:keggparser:119]: \u001b[0m \u001b[34mFound keyword SYMBOL, which has not special\n",
      "    parsing for now. please report this issue with the KEGG \n",
      "    identifier (7248              CDS       T01001) into github.com/bioservices. Thanks T.C.\u001b[0m\n",
      " 51%|█████     | 676/1328 [04:25<04:25,  2.45it/s]\u001b[33mWARNING [bioservices:keggparser:119]: \u001b[0m \u001b[34mFound keyword SYMBOL, which has not special\n",
      "    parsing for now. please report this issue with the KEGG \n",
      "    identifier (7157              CDS       T01001) into github.com/bioservices. Thanks T.C.\u001b[0m\n",
      " 51%|█████     | 677/1328 [04:26<04:37,  2.35it/s]\u001b[33mWARNING [bioservices:keggparser:119]: \u001b[0m \u001b[34mFound keyword SYMBOL, which has not special\n",
      "    parsing for now. please report this issue with the KEGG \n",
      "    identifier (4088              CDS       T01001) into github.com/bioservices. Thanks T.C.\u001b[0m\n",
      " 51%|█████     | 678/1328 [04:26<04:13,  2.57it/s]\u001b[33mWARNING [bioservices:keggparser:119]: \u001b[0m \u001b[34mFound keyword SYMBOL, which has not special\n",
      "    parsing for now. please report this issue with the KEGG \n",
      "    identifier (6714              CDS       T01001) into github.com/bioservices. Thanks T.C.\u001b[0m\n",
      " 51%|█████     | 679/1328 [04:26<04:18,  2.51it/s]\u001b[33mWARNING [bioservices:keggparser:119]: \u001b[0m \u001b[34mFound keyword SYMBOL, which has not special\n",
      "    parsing for now. please report this issue with the KEGG \n",
      "    identifier (672               CDS       T01001) into github.com/bioservices. Thanks T.C.\u001b[0m\n",
      " 51%|█████     | 680/1328 [04:27<03:46,  2.86it/s]\u001b[33mWARNING [bioservices:keggparser:119]: \u001b[0m \u001b[34mFound keyword SYMBOL, which has not special\n",
      "    parsing for now. please report this issue with the KEGG \n",
      "    identifier (3791              CDS       T01001) into github.com/bioservices. Thanks T.C.\u001b[0m\n",
      " 51%|█████▏    | 681/1328 [04:27<03:47,  2.85it/s]\u001b[33mWARNING [bioservices:keggparser:119]: \u001b[0m \u001b[34mFound keyword SYMBOL, which has not special\n",
      "    parsing for now. please report this issue with the KEGG \n",
      "    identifier (3845              CDS       T01001) into github.com/bioservices. Thanks T.C.\u001b[0m\n",
      " 51%|█████▏    | 682/1328 [04:28<04:56,  2.18it/s]\u001b[33mWARNING [bioservices:keggparser:119]: \u001b[0m \u001b[34mFound keyword SYMBOL, which has not special\n",
      "    parsing for now. please report this issue with the KEGG \n",
      "    identifier (1956              CDS       T01001) into github.com/bioservices. Thanks T.C.\u001b[0m\n",
      " 51%|█████▏    | 683/1328 [04:28<05:18,  2.02it/s]\u001b[33mWARNING [bioservices:keggparser:119]: \u001b[0m \u001b[34mFound keyword SYMBOL, which has not special\n",
      "    parsing for now. please report this issue with the KEGG \n",
      "    identifier (2099              CDS       T01001) into github.com/bioservices. Thanks T.C.\u001b[0m\n",
      " 52%|█████▏    | 684/1328 [04:29<04:30,  2.38it/s]\u001b[33mWARNING [bioservices:keggparser:119]: \u001b[0m \u001b[34mFound keyword SYMBOL, which has not special\n",
      "    parsing for now. please report this issue with the KEGG \n",
      "    identifier (4089              CDS       T01001) into github.com/bioservices. Thanks T.C.\u001b[0m\n",
      " 52%|█████▏    | 685/1328 [04:29<04:23,  2.44it/s]\u001b[33mWARNING [bioservices:keggparser:119]: \u001b[0m \u001b[34mFound keyword SYMBOL, which has not special\n",
      "    parsing for now. please report this issue with the KEGG \n",
      "    identifier (51755             CDS       T01001) into github.com/bioservices. Thanks T.C.\u001b[0m\n",
      " 52%|█████▏    | 686/1328 [04:29<03:38,  2.94it/s]"
     ]
    },
    {
     "name": "stdout",
     "output_type": "stream",
     "text": [
      "no data for  CDK12\n"
     ]
    },
    {
     "name": "stderr",
     "output_type": "stream",
     "text": [
      "\u001b[33mWARNING [bioservices:keggparser:119]: \u001b[0m \u001b[34mFound keyword SYMBOL, which has not special\n",
      "    parsing for now. please report this issue with the KEGG \n",
      "    identifier (673               CDS       T01001) into github.com/bioservices. Thanks T.C.\u001b[0m\n",
      " 52%|█████▏    | 687/1328 [04:30<04:55,  2.17it/s]\u001b[33mWARNING [bioservices:keggparser:119]: \u001b[0m \u001b[34mFound keyword SYMBOL, which has not special\n",
      "    parsing for now. please report this issue with the KEGG \n",
      "    identifier (5728              CDS       T01001) into github.com/bioservices. Thanks T.C.\u001b[0m\n",
      " 52%|█████▏    | 688/1328 [04:30<04:27,  2.39it/s]\u001b[33mWARNING [bioservices:keggparser:119]: \u001b[0m \u001b[34mFound keyword SYMBOL, which has not special\n",
      "    parsing for now. please report this issue with the KEGG \n",
      "    identifier (23405             CDS       T01001) into github.com/bioservices. Thanks T.C.\u001b[0m\n",
      " 52%|█████▏    | 689/1328 [04:30<03:50,  2.77it/s]\u001b[33mWARNING [bioservices:keggparser:119]: \u001b[0m \u001b[34mFound keyword SYMBOL, which has not special\n",
      "    parsing for now. please report this issue with the KEGG \n",
      "    identifier (367               CDS       T01001) into github.com/bioservices. Thanks T.C.\u001b[0m\n",
      " 52%|█████▏    | 690/1328 [04:31<03:44,  2.85it/s]\u001b[33mWARNING [bioservices:keggparser:119]: \u001b[0m \u001b[34mFound keyword SYMBOL, which has not special\n",
      "    parsing for now. please report this issue with the KEGG \n",
      "    identifier (672               CDS       T01001) into github.com/bioservices. Thanks T.C.\u001b[0m\n",
      " 52%|█████▏    | 691/1328 [04:31<03:23,  3.12it/s]\u001b[33mWARNING [bioservices:keggparser:119]: \u001b[0m \u001b[34mFound keyword SYMBOL, which has not special\n",
      "    parsing for now. please report this issue with the KEGG \n",
      "    identifier (7157              CDS       T01001) into github.com/bioservices. Thanks T.C.\u001b[0m\n",
      " 52%|█████▏    | 692/1328 [04:32<04:05,  2.59it/s]\u001b[33mWARNING [bioservices:keggparser:119]: \u001b[0m \u001b[34mFound keyword SYMBOL, which has not special\n",
      "    parsing for now. please report this issue with the KEGG \n",
      "    identifier (7157              CDS       T01001) into github.com/bioservices. Thanks T.C.\u001b[0m\n",
      " 52%|█████▏    | 693/1328 [04:32<04:16,  2.47it/s]\u001b[33mWARNING [bioservices:keggparser:119]: \u001b[0m \u001b[34mFound keyword SYMBOL, which has not special\n",
      "    parsing for now. please report this issue with the KEGG \n",
      "    identifier (5426              CDS       T01001) into github.com/bioservices. Thanks T.C.\u001b[0m\n",
      " 52%|█████▏    | 694/1328 [04:32<03:38,  2.91it/s]\u001b[33mWARNING [bioservices:keggparser:119]: \u001b[0m \u001b[34mFound keyword SYMBOL, which has not special\n",
      "    parsing for now. please report this issue with the KEGG \n",
      "    identifier (2956              CDS       T01001) into github.com/bioservices. Thanks T.C.\u001b[0m\n",
      " 52%|█████▏    | 695/1328 [04:33<03:40,  2.87it/s]\u001b[33mWARNING [bioservices:keggparser:119]: \u001b[0m \u001b[34mFound keyword SYMBOL, which has not special\n",
      "    parsing for now. please report this issue with the KEGG \n",
      "    identifier (11200             CDS       T01001) into github.com/bioservices. Thanks T.C.\u001b[0m\n",
      " 52%|█████▏    | 696/1328 [04:33<03:12,  3.29it/s]\u001b[33mWARNING [bioservices:keggparser:119]: \u001b[0m \u001b[34mFound keyword SYMBOL, which has not special\n",
      "    parsing for now. please report this issue with the KEGG \n",
      "    identifier (2260              CDS       T01001) into github.com/bioservices. Thanks T.C.\u001b[0m\n",
      " 52%|█████▏    | 697/1328 [04:33<03:32,  2.97it/s]\u001b[33mWARNING [bioservices:keggparser:119]: \u001b[0m \u001b[34mFound keyword SYMBOL, which has not special\n",
      "    parsing for now. please report this issue with the KEGG \n",
      "    identifier (7248              CDS       T01001) into github.com/bioservices. Thanks T.C.\u001b[0m\n",
      " 53%|█████▎    | 698/1328 [04:33<03:16,  3.20it/s]\u001b[33mWARNING [bioservices:keggparser:119]: \u001b[0m \u001b[34mFound keyword SYMBOL, which has not special\n",
      "    parsing for now. please report this issue with the KEGG \n",
      "    identifier (675               CDS       T01001) into github.com/bioservices. Thanks T.C.\u001b[0m\n",
      " 53%|█████▎    | 699/1328 [04:34<03:42,  2.82it/s]\u001b[33mWARNING [bioservices:keggparser:119]: \u001b[0m \u001b[34mFound keyword SYMBOL, which has not special\n",
      "    parsing for now. please report this issue with the KEGG \n",
      "    identifier (238               CDS       T01001) into github.com/bioservices. Thanks T.C.\u001b[0m\n",
      " 53%|█████▎    | 700/1328 [04:34<03:18,  3.16it/s]\u001b[33mWARNING [bioservices:keggparser:119]: \u001b[0m \u001b[34mFound keyword SYMBOL, which has not special\n",
      "    parsing for now. please report this issue with the KEGG \n",
      "    identifier (3265              CDS       T01001) into github.com/bioservices. Thanks T.C.\u001b[0m\n",
      " 53%|█████▎    | 701/1328 [04:35<05:00,  2.09it/s]\u001b[33mWARNING [bioservices:keggparser:119]: \u001b[0m \u001b[34mFound keyword SYMBOL, which has not special\n",
      "    parsing for now. please report this issue with the KEGG \n",
      "    identifier (675               CDS       T01001) into github.com/bioservices. Thanks T.C.\u001b[0m\n",
      " 53%|█████▎    | 702/1328 [04:35<04:35,  2.27it/s]\u001b[33mWARNING [bioservices:keggparser:119]: \u001b[0m \u001b[34mFound keyword SYMBOL, which has not special\n",
      "    parsing for now. please report this issue with the KEGG \n",
      "    identifier (639               CDS       T01001) into github.com/bioservices. Thanks T.C.\u001b[0m\n",
      " 53%|█████▎    | 703/1328 [04:36<03:48,  2.74it/s]"
     ]
    },
    {
     "name": "stdout",
     "output_type": "stream",
     "text": [
      "no data for  PRDM1\n"
     ]
    },
    {
     "name": "stderr",
     "output_type": "stream",
     "text": [
      "\u001b[33mWARNING [bioservices:keggparser:119]: \u001b[0m \u001b[34mFound keyword SYMBOL, which has not special\n",
      "    parsing for now. please report this issue with the KEGG \n",
      "    identifier (5159              CDS       T01001) into github.com/bioservices. Thanks T.C.\u001b[0m\n",
      " 53%|█████▎    | 704/1328 [04:36<03:59,  2.61it/s]\u001b[33mWARNING [bioservices:keggparser:119]: \u001b[0m \u001b[34mFound keyword SYMBOL, which has not special\n",
      "    parsing for now. please report this issue with the KEGG \n",
      "    identifier (2066              CDS       T01001) into github.com/bioservices. Thanks T.C.\u001b[0m\n",
      " 53%|█████▎    | 705/1328 [04:36<03:28,  2.98it/s]\u001b[33mWARNING [bioservices:keggparser:119]: \u001b[0m \u001b[34mFound keyword SYMBOL, which has not special\n",
      "    parsing for now. please report this issue with the KEGG \n",
      "    identifier (7248              CDS       T01001) into github.com/bioservices. Thanks T.C.\u001b[0m\n",
      " 53%|█████▎    | 706/1328 [04:37<03:38,  2.85it/s]\u001b[33mWARNING [bioservices:keggparser:119]: \u001b[0m \u001b[34mFound keyword SYMBOL, which has not special\n",
      "    parsing for now. please report this issue with the KEGG \n",
      "    identifier (84433             CDS       T01001) into github.com/bioservices. Thanks T.C.\u001b[0m\n",
      " 53%|█████▎    | 707/1328 [04:37<03:13,  3.21it/s]\u001b[33mWARNING [bioservices:keggparser:119]: \u001b[0m \u001b[34mFound keyword SYMBOL, which has not special\n",
      "    parsing for now. please report this issue with the KEGG \n",
      "    identifier (7248              CDS       T01001) into github.com/bioservices. Thanks T.C.\u001b[0m\n",
      " 53%|█████▎    | 708/1328 [04:37<03:30,  2.95it/s]\u001b[33mWARNING [bioservices:keggparser:119]: \u001b[0m \u001b[34mFound keyword SYMBOL, which has not special\n",
      "    parsing for now. please report this issue with the KEGG \n",
      "    identifier (675               CDS       T01001) into github.com/bioservices. Thanks T.C.\u001b[0m\n",
      " 53%|█████▎    | 709/1328 [04:38<03:38,  2.84it/s]\u001b[33mWARNING [bioservices:keggparser:119]: \u001b[0m \u001b[34mFound keyword SYMBOL, which has not special\n",
      "    parsing for now. please report this issue with the KEGG \n",
      "    identifier (2263              CDS       T01001) into github.com/bioservices. Thanks T.C.\u001b[0m\n",
      " 53%|█████▎    | 710/1328 [04:38<03:20,  3.08it/s]\u001b[33mWARNING [bioservices:keggparser:119]: \u001b[0m \u001b[34mFound keyword SYMBOL, which has not special\n",
      "    parsing for now. please report this issue with the KEGG \n",
      "    identifier (1956              CDS       T01001) into github.com/bioservices. Thanks T.C.\u001b[0m\n",
      " 54%|█████▎    | 711/1328 [04:38<04:21,  2.36it/s]\u001b[33mWARNING [bioservices:keggparser:119]: \u001b[0m \u001b[34mFound keyword SYMBOL, which has not special\n",
      "    parsing for now. please report this issue with the KEGG \n",
      "    identifier (1956              CDS       T01001) into github.com/bioservices. Thanks T.C.\u001b[0m\n",
      " 54%|█████▎    | 712/1328 [04:39<04:43,  2.18it/s]\u001b[33mWARNING [bioservices:keggparser:119]: \u001b[0m \u001b[34mFound keyword SYMBOL, which has not special\n",
      "    parsing for now. please report this issue with the KEGG \n",
      "    identifier (675               CDS       T01001) into github.com/bioservices. Thanks T.C.\u001b[0m\n",
      " 54%|█████▎    | 713/1328 [04:39<04:26,  2.31it/s]\u001b[33mWARNING [bioservices:keggparser:119]: \u001b[0m \u001b[34mFound keyword SYMBOL, which has not special\n",
      "    parsing for now. please report this issue with the KEGG \n",
      "    identifier (5728              CDS       T01001) into github.com/bioservices. Thanks T.C.\u001b[0m\n",
      " 54%|█████▍    | 714/1328 [04:40<04:06,  2.50it/s]\u001b[33mWARNING [bioservices:keggparser:119]: \u001b[0m \u001b[34mFound keyword SYMBOL, which has not special\n",
      "    parsing for now. please report this issue with the KEGG \n",
      "    identifier (207               CDS       T01001) into github.com/bioservices. Thanks T.C.\u001b[0m\n",
      " 54%|█████▍    | 715/1328 [04:41<05:20,  1.92it/s]\u001b[33mWARNING [bioservices:keggparser:119]: \u001b[0m \u001b[34mFound keyword SYMBOL, which has not special\n",
      "    parsing for now. please report this issue with the KEGG \n",
      "    identifier (1029              CDS       T01001) into github.com/bioservices. Thanks T.C.\u001b[0m\n",
      " 54%|█████▍    | 716/1328 [04:41<04:36,  2.21it/s]\u001b[33mWARNING [bioservices:keggparser:119]: \u001b[0m \u001b[34mFound keyword SYMBOL, which has not special\n",
      "    parsing for now. please report this issue with the KEGG \n",
      "    identifier (80312             CDS       T01001) into github.com/bioservices. Thanks T.C.\u001b[0m\n",
      " 54%|█████▍    | 717/1328 [04:41<03:56,  2.58it/s]"
     ]
    },
    {
     "name": "stdout",
     "output_type": "stream",
     "text": [
      "no data for  TET1\n"
     ]
    },
    {
     "name": "stderr",
     "output_type": "stream",
     "text": [
      "\u001b[33mWARNING [bioservices:keggparser:119]: \u001b[0m \u001b[34mFound keyword SYMBOL, which has not special\n",
      "    parsing for now. please report this issue with the KEGG \n",
      "    identifier (4914              CDS       T01001) into github.com/bioservices. Thanks T.C.\u001b[0m\n",
      " 54%|█████▍    | 718/1328 [04:41<03:47,  2.68it/s]\u001b[33mWARNING [bioservices:keggparser:119]: \u001b[0m \u001b[34mFound keyword SYMBOL, which has not special\n",
      "    parsing for now. please report this issue with the KEGG \n",
      "    identifier (25                CDS       T01001) into github.com/bioservices. Thanks T.C.\u001b[0m\n",
      " 54%|█████▍    | 719/1328 [04:42<03:24,  2.97it/s]\u001b[33mWARNING [bioservices:keggparser:119]: \u001b[0m \u001b[34mFound keyword SYMBOL, which has not special\n",
      "    parsing for now. please report this issue with the KEGG \n",
      "    identifier (673               CDS       T01001) into github.com/bioservices. Thanks T.C.\u001b[0m\n",
      " 54%|█████▍    | 720/1328 [04:42<04:18,  2.35it/s]\u001b[33mWARNING [bioservices:keggparser:119]: \u001b[0m \u001b[34mFound keyword SYMBOL, which has not special\n",
      "    parsing for now. please report this issue with the KEGG \n",
      "    identifier (5290              CDS       T01001) into github.com/bioservices. Thanks T.C.\u001b[0m\n",
      " 54%|█████▍    | 721/1328 [04:43<05:35,  1.81it/s]\u001b[33mWARNING [bioservices:keggparser:119]: \u001b[0m \u001b[34mFound keyword SYMBOL, which has not special\n",
      "    parsing for now. please report this issue with the KEGG \n",
      "    identifier (7157              CDS       T01001) into github.com/bioservices. Thanks T.C.\u001b[0m\n",
      " 54%|█████▍    | 722/1328 [04:44<05:13,  1.93it/s]\u001b[33mWARNING [bioservices:keggparser:119]: \u001b[0m \u001b[34mFound keyword SYMBOL, which has not special\n",
      "    parsing for now. please report this issue with the KEGG \n",
      "    identifier (8314              CDS       T01001) into github.com/bioservices. Thanks T.C.\u001b[0m\n",
      " 54%|█████▍    | 723/1328 [04:44<04:12,  2.39it/s]"
     ]
    },
    {
     "name": "stdout",
     "output_type": "stream",
     "text": [
      "no data for  BAP1\n"
     ]
    },
    {
     "name": "stderr",
     "output_type": "stream",
     "text": [
      "\u001b[33mWARNING [bioservices:keggparser:119]: \u001b[0m \u001b[34mFound keyword SYMBOL, which has not special\n",
      "    parsing for now. please report this issue with the KEGG \n",
      "    identifier (6662              CDS       T01001) into github.com/bioservices. Thanks T.C.\u001b[0m\n",
      " 55%|█████▍    | 724/1328 [04:44<04:01,  2.50it/s]\u001b[33mWARNING [bioservices:keggparser:119]: \u001b[0m \u001b[34mFound keyword SYMBOL, which has not special\n",
      "    parsing for now. please report this issue with the KEGG \n",
      "    identifier (2064              CDS       T01001) into github.com/bioservices. Thanks T.C.\u001b[0m\n",
      " 55%|█████▍    | 725/1328 [04:44<03:45,  2.67it/s]\u001b[33mWARNING [bioservices:keggparser:119]: \u001b[0m \u001b[34mFound keyword SYMBOL, which has not special\n",
      "    parsing for now. please report this issue with the KEGG \n",
      "    identifier (4436              CDS       T01001) into github.com/bioservices. Thanks T.C.\u001b[0m\n",
      " 55%|█████▍    | 726/1328 [04:45<03:22,  2.97it/s]\u001b[33mWARNING [bioservices:keggparser:119]: \u001b[0m \u001b[34mFound keyword SYMBOL, which has not special\n",
      "    parsing for now. please report this issue with the KEGG \n",
      "    identifier (672               CDS       T01001) into github.com/bioservices. Thanks T.C.\u001b[0m\n",
      " 55%|█████▍    | 727/1328 [04:45<03:20,  2.99it/s]\u001b[33mWARNING [bioservices:keggparser:119]: \u001b[0m \u001b[34mFound keyword SYMBOL, which has not special\n",
      "    parsing for now. please report this issue with the KEGG \n",
      "    identifier (11200             CDS       T01001) into github.com/bioservices. Thanks T.C.\u001b[0m\n",
      " 55%|█████▍    | 728/1328 [04:45<03:01,  3.31it/s]\u001b[33mWARNING [bioservices:keggparser:119]: \u001b[0m \u001b[34mFound keyword SYMBOL, which has not special\n",
      "    parsing for now. please report this issue with the KEGG \n",
      "    identifier (55294             CDS       T01001) into github.com/bioservices. Thanks T.C.\u001b[0m\n",
      " 55%|█████▍    | 729/1328 [04:46<03:01,  3.30it/s]\u001b[33mWARNING [bioservices:keggparser:119]: \u001b[0m \u001b[34mFound keyword SYMBOL, which has not special\n",
      "    parsing for now. please report this issue with the KEGG \n",
      "    identifier (7249              CDS       T01001) into github.com/bioservices. Thanks T.C.\u001b[0m\n",
      " 55%|█████▍    | 730/1328 [04:46<03:11,  3.13it/s]\u001b[33mWARNING [bioservices:keggparser:119]: \u001b[0m \u001b[34mFound keyword SYMBOL, which has not special\n",
      "    parsing for now. please report this issue with the KEGG \n",
      "    identifier (1956              CDS       T01001) into github.com/bioservices. Thanks T.C.\u001b[0m\n",
      " 55%|█████▌    | 731/1328 [04:47<04:00,  2.48it/s]\u001b[33mWARNING [bioservices:keggparser:119]: \u001b[0m \u001b[34mFound keyword SYMBOL, which has not special\n",
      "    parsing for now. please report this issue with the KEGG \n",
      "    identifier (4851              CDS       T01001) into github.com/bioservices. Thanks T.C.\u001b[0m\n",
      " 55%|█████▌    | 732/1328 [04:47<03:33,  2.80it/s]\u001b[33mWARNING [bioservices:keggparser:119]: \u001b[0m \u001b[34mFound keyword SYMBOL, which has not special\n",
      "    parsing for now. please report this issue with the KEGG \n",
      "    identifier (367               CDS       T01001) into github.com/bioservices. Thanks T.C.\u001b[0m\n",
      " 55%|█████▌    | 733/1328 [04:47<03:22,  2.94it/s]\u001b[33mWARNING [bioservices:keggparser:119]: \u001b[0m \u001b[34mFound keyword SYMBOL, which has not special\n",
      "    parsing for now. please report this issue with the KEGG \n",
      "    identifier (668               CDS       T01001) into github.com/bioservices. Thanks T.C.\u001b[0m\n",
      " 55%|█████▌    | 734/1328 [04:47<03:01,  3.28it/s]"
     ]
    },
    {
     "name": "stdout",
     "output_type": "stream",
     "text": [
      "no data for  FOXL2\n"
     ]
    },
    {
     "name": "stderr",
     "output_type": "stream",
     "text": [
      "\u001b[33mWARNING [bioservices:keggparser:119]: \u001b[0m \u001b[34mFound keyword SYMBOL, which has not special\n",
      "    parsing for now. please report this issue with the KEGG \n",
      "    identifier (369               CDS       T01001) into github.com/bioservices. Thanks T.C.\u001b[0m\n",
      " 55%|█████▌    | 735/1328 [04:48<03:30,  2.82it/s]\u001b[33mWARNING [bioservices:keggparser:119]: \u001b[0m \u001b[34mFound keyword SYMBOL, which has not special\n",
      "    parsing for now. please report this issue with the KEGG \n",
      "    identifier (253260            CDS       T01001) into github.com/bioservices. Thanks T.C.\u001b[0m\n",
      " 55%|█████▌    | 736/1328 [04:48<03:03,  3.22it/s]\u001b[33mWARNING [bioservices:keggparser:119]: \u001b[0m \u001b[34mFound keyword SYMBOL, which has not special\n",
      "    parsing for now. please report this issue with the KEGG \n",
      "    identifier (675               CDS       T01001) into github.com/bioservices. Thanks T.C.\u001b[0m\n",
      " 55%|█████▌    | 737/1328 [04:48<03:39,  2.69it/s]\u001b[33mWARNING [bioservices:keggparser:119]: \u001b[0m \u001b[34mFound keyword SYMBOL, which has not special\n",
      "    parsing for now. please report this issue with the KEGG \n",
      "    identifier (7428              CDS       T01001) into github.com/bioservices. Thanks T.C.\u001b[0m\n",
      " 56%|█████▌    | 738/1328 [04:49<03:13,  3.05it/s]\u001b[33mWARNING [bioservices:keggparser:119]: \u001b[0m \u001b[34mFound keyword SYMBOL, which has not special\n",
      "    parsing for now. please report this issue with the KEGG \n",
      "    identifier (672               CDS       T01001) into github.com/bioservices. Thanks T.C.\u001b[0m\n",
      " 56%|█████▌    | 739/1328 [04:49<03:20,  2.94it/s]\u001b[33mWARNING [bioservices:keggparser:119]: \u001b[0m \u001b[34mFound keyword SYMBOL, which has not special\n",
      "    parsing for now. please report this issue with the KEGG \n",
      "    identifier (7157              CDS       T01001) into github.com/bioservices. Thanks T.C.\u001b[0m\n",
      " 56%|█████▌    | 740/1328 [04:49<03:37,  2.71it/s]\u001b[33mWARNING [bioservices:keggparser:119]: \u001b[0m \u001b[34mFound keyword SYMBOL, which has not special\n",
      "    parsing for now. please report this issue with the KEGG \n",
      "    identifier (207               CDS       T01001) into github.com/bioservices. Thanks T.C.\u001b[0m\n",
      " 56%|█████▌    | 741/1328 [04:50<04:51,  2.01it/s]\u001b[33mWARNING [bioservices:keggparser:119]: \u001b[0m \u001b[34mFound keyword SYMBOL, which has not special\n",
      "    parsing for now. please report this issue with the KEGG \n",
      "    identifier (7157              CDS       T01001) into github.com/bioservices. Thanks T.C.\u001b[0m\n",
      " 56%|█████▌    | 742/1328 [04:51<04:41,  2.08it/s]\u001b[33mWARNING [bioservices:keggparser:119]: \u001b[0m \u001b[34mFound keyword SYMBOL, which has not special\n",
      "    parsing for now. please report this issue with the KEGG \n",
      "    identifier (2065              CDS       T01001) into github.com/bioservices. Thanks T.C.\u001b[0m\n",
      " 56%|█████▌    | 743/1328 [04:51<03:57,  2.47it/s]\u001b[33mWARNING [bioservices:keggparser:119]: \u001b[0m \u001b[34mFound keyword SYMBOL, which has not special\n",
      "    parsing for now. please report this issue with the KEGG \n",
      "    identifier (861               CDS       T01001) into github.com/bioservices. Thanks T.C.\u001b[0m\n",
      " 56%|█████▌    | 744/1328 [04:51<03:47,  2.56it/s]\u001b[33mWARNING [bioservices:keggparser:119]: \u001b[0m \u001b[34mFound keyword SYMBOL, which has not special\n",
      "    parsing for now. please report this issue with the KEGG \n",
      "    identifier (672               CDS       T01001) into github.com/bioservices. Thanks T.C.\u001b[0m\n",
      " 56%|█████▌    | 745/1328 [04:52<03:19,  2.92it/s]\u001b[33mWARNING [bioservices:keggparser:119]: \u001b[0m \u001b[34mFound keyword SYMBOL, which has not special\n",
      "    parsing for now. please report this issue with the KEGG \n",
      "    identifier (5156              CDS       T01001) into github.com/bioservices. Thanks T.C.\u001b[0m\n",
      " 56%|█████▌    | 746/1328 [04:52<03:28,  2.79it/s]\u001b[33mWARNING [bioservices:keggparser:119]: \u001b[0m \u001b[34mFound keyword SYMBOL, which has not special\n",
      "    parsing for now. please report this issue with the KEGG \n",
      "    identifier (238               CDS       T01001) into github.com/bioservices. Thanks T.C.\u001b[0m\n",
      " 56%|█████▋    | 747/1328 [04:52<03:01,  3.19it/s]\u001b[33mWARNING [bioservices:keggparser:119]: \u001b[0m \u001b[34mFound keyword SYMBOL, which has not special\n",
      "    parsing for now. please report this issue with the KEGG \n",
      "    identifier (5728              CDS       T01001) into github.com/bioservices. Thanks T.C.\u001b[0m\n",
      " 56%|█████▋    | 748/1328 [04:53<03:29,  2.77it/s]\u001b[33mWARNING [bioservices:keggparser:119]: \u001b[0m \u001b[34mFound keyword SYMBOL, which has not special\n",
      "    parsing for now. please report this issue with the KEGG \n",
      "    identifier (207               CDS       T01001) into github.com/bioservices. Thanks T.C.\u001b[0m\n",
      " 56%|█████▋    | 749/1328 [04:53<04:47,  2.01it/s]\u001b[33mWARNING [bioservices:keggparser:119]: \u001b[0m \u001b[34mFound keyword SYMBOL, which has not special\n",
      "    parsing for now. please report this issue with the KEGG \n",
      "    identifier (7157              CDS       T01001) into github.com/bioservices. Thanks T.C.\u001b[0m\n",
      " 56%|█████▋    | 750/1328 [04:54<04:33,  2.11it/s]\u001b[33mWARNING [bioservices:keggparser:119]: \u001b[0m \u001b[34mFound keyword SYMBOL, which has not special\n",
      "    parsing for now. please report this issue with the KEGG \n",
      "    identifier (4233              CDS       T01001) into github.com/bioservices. Thanks T.C.\u001b[0m\n",
      " 57%|█████▋    | 751/1328 [04:54<04:03,  2.37it/s]\u001b[33mWARNING [bioservices:keggparser:119]: \u001b[0m \u001b[34mFound keyword SYMBOL, which has not special\n",
      "    parsing for now. please report this issue with the KEGG \n",
      "    identifier (2260              CDS       T01001) into github.com/bioservices. Thanks T.C.\u001b[0m\n",
      " 57%|█████▋    | 752/1328 [04:54<03:44,  2.57it/s]\u001b[33mWARNING [bioservices:keggparser:119]: \u001b[0m \u001b[34mFound keyword SYMBOL, which has not special\n",
      "    parsing for now. please report this issue with the KEGG \n",
      "    identifier (2130              CDS       T01001) into github.com/bioservices. Thanks T.C.\u001b[0m\n",
      " 57%|█████▋    | 753/1328 [04:55<03:16,  2.93it/s]\u001b[33mWARNING [bioservices:keggparser:119]: \u001b[0m \u001b[34mFound keyword SYMBOL, which has not special\n",
      "    parsing for now. please report this issue with the KEGG \n",
      "    identifier (672               CDS       T01001) into github.com/bioservices. Thanks T.C.\u001b[0m\n",
      " 57%|█████▋    | 754/1328 [04:55<03:18,  2.90it/s]\u001b[33mWARNING [bioservices:keggparser:119]: \u001b[0m \u001b[34mFound keyword SYMBOL, which has not special\n",
      "    parsing for now. please report this issue with the KEGG \n",
      "    identifier (3815              CDS       T01001) into github.com/bioservices. Thanks T.C.\u001b[0m\n",
      " 57%|█████▋    | 755/1328 [04:55<03:01,  3.16it/s]\u001b[33mWARNING [bioservices:keggparser:119]: \u001b[0m \u001b[34mFound keyword SYMBOL, which has not special\n",
      "    parsing for now. please report this issue with the KEGG \n",
      "    identifier (58508             CDS       T01001) into github.com/bioservices. Thanks T.C.\u001b[0m\n",
      " 57%|█████▋    | 756/1328 [04:56<03:24,  2.79it/s]\u001b[33mWARNING [bioservices:keggparser:119]: \u001b[0m \u001b[34mFound keyword SYMBOL, which has not special\n",
      "    parsing for now. please report this issue with the KEGG \n",
      "    identifier (7157              CDS       T01001) into github.com/bioservices. Thanks T.C.\u001b[0m\n",
      " 57%|█████▋    | 757/1328 [04:56<03:39,  2.60it/s]\u001b[33mWARNING [bioservices:keggparser:119]: \u001b[0m \u001b[34mFound keyword SYMBOL, which has not special\n",
      "    parsing for now. please report this issue with the KEGG \n",
      "    identifier (4088              CDS       T01001) into github.com/bioservices. Thanks T.C.\u001b[0m\n",
      " 57%|█████▋    | 758/1328 [04:57<03:23,  2.80it/s]\u001b[33mWARNING [bioservices:keggparser:119]: \u001b[0m \u001b[34mFound keyword SYMBOL, which has not special\n",
      "    parsing for now. please report this issue with the KEGG \n",
      "    identifier (23152             CDS       T01001) into github.com/bioservices. Thanks T.C.\u001b[0m\n",
      " 57%|█████▋    | 759/1328 [04:57<03:03,  3.10it/s]\u001b[33mWARNING [bioservices:keggparser:119]: \u001b[0m \u001b[34mFound keyword SYMBOL, which has not special\n",
      "    parsing for now. please report this issue with the KEGG \n",
      "    identifier (7157              CDS       T01001) into github.com/bioservices. Thanks T.C.\u001b[0m\n",
      " 57%|█████▋    | 760/1328 [04:57<03:37,  2.61it/s]\u001b[33mWARNING [bioservices:keggparser:119]: \u001b[0m \u001b[34mFound keyword SYMBOL, which has not special\n",
      "    parsing for now. please report this issue with the KEGG \n",
      "    identifier (25                CDS       T01001) into github.com/bioservices. Thanks T.C.\u001b[0m\n"
     ]
    },
    {
     "name": "stderr",
     "output_type": "stream",
     "text": [
      " 57%|█████▋    | 761/1328 [04:58<03:13,  2.93it/s]\u001b[33mWARNING [bioservices:keggparser:119]: \u001b[0m \u001b[34mFound keyword SYMBOL, which has not special\n",
      "    parsing for now. please report this issue with the KEGG \n",
      "    identifier (4089              CDS       T01001) into github.com/bioservices. Thanks T.C.\u001b[0m\n",
      " 57%|█████▋    | 762/1328 [04:58<03:19,  2.84it/s]\u001b[33mWARNING [bioservices:keggparser:119]: \u001b[0m \u001b[34mFound keyword SYMBOL, which has not special\n",
      "    parsing for now. please report this issue with the KEGG \n",
      "    identifier (5290              CDS       T01001) into github.com/bioservices. Thanks T.C.\u001b[0m\n",
      " 57%|█████▋    | 763/1328 [04:59<04:39,  2.02it/s]\u001b[33mWARNING [bioservices:keggparser:119]: \u001b[0m \u001b[34mFound keyword SYMBOL, which has not special\n",
      "    parsing for now. please report this issue with the KEGG \n",
      "    identifier (1956              CDS       T01001) into github.com/bioservices. Thanks T.C.\u001b[0m\n",
      " 58%|█████▊    | 764/1328 [04:59<04:49,  1.95it/s]\u001b[33mWARNING [bioservices:keggparser:119]: \u001b[0m \u001b[34mFound keyword SYMBOL, which has not special\n",
      "    parsing for now. please report this issue with the KEGG \n",
      "    identifier (3169              CDS       T01001) into github.com/bioservices. Thanks T.C.\u001b[0m\n",
      " 58%|█████▊    | 765/1328 [04:59<03:53,  2.41it/s]"
     ]
    },
    {
     "name": "stdout",
     "output_type": "stream",
     "text": [
      "no data for  FOXA1\n"
     ]
    },
    {
     "name": "stderr",
     "output_type": "stream",
     "text": [
      "\u001b[33mWARNING [bioservices:keggparser:119]: \u001b[0m \u001b[34mFound keyword SYMBOL, which has not special\n",
      "    parsing for now. please report this issue with the KEGG \n",
      "    identifier (673               CDS       T01001) into github.com/bioservices. Thanks T.C.\u001b[0m\n",
      " 58%|█████▊    | 766/1328 [05:00<04:39,  2.01it/s]\u001b[33mWARNING [bioservices:keggparser:119]: \u001b[0m \u001b[34mFound keyword SYMBOL, which has not special\n",
      "    parsing for now. please report this issue with the KEGG \n",
      "    identifier (2064              CDS       T01001) into github.com/bioservices. Thanks T.C.\u001b[0m\n",
      " 58%|█████▊    | 767/1328 [05:00<04:05,  2.28it/s]\u001b[33mWARNING [bioservices:keggparser:119]: \u001b[0m \u001b[34mFound keyword SYMBOL, which has not special\n",
      "    parsing for now. please report this issue with the KEGG \n",
      "    identifier (4292              CDS       T01001) into github.com/bioservices. Thanks T.C.\u001b[0m\n",
      " 58%|█████▊    | 768/1328 [05:01<03:37,  2.57it/s]\u001b[33mWARNING [bioservices:keggparser:119]: \u001b[0m \u001b[34mFound keyword SYMBOL, which has not special\n",
      "    parsing for now. please report this issue with the KEGG \n",
      "    identifier (1499              CDS       T01001) into github.com/bioservices. Thanks T.C.\u001b[0m\n",
      " 58%|█████▊    | 769/1328 [05:01<03:41,  2.52it/s]\u001b[33mWARNING [bioservices:keggparser:119]: \u001b[0m \u001b[34mFound keyword SYMBOL, which has not special\n",
      "    parsing for now. please report this issue with the KEGG \n",
      "    identifier (1956              CDS       T01001) into github.com/bioservices. Thanks T.C.\u001b[0m\n",
      " 58%|█████▊    | 770/1328 [05:02<04:09,  2.23it/s]\u001b[33mWARNING [bioservices:keggparser:119]: \u001b[0m \u001b[34mFound keyword SYMBOL, which has not special\n",
      "    parsing for now. please report this issue with the KEGG \n",
      "    identifier (5914              CDS       T01001) into github.com/bioservices. Thanks T.C.\u001b[0m\n",
      " 58%|█████▊    | 771/1328 [05:02<03:36,  2.58it/s]\u001b[33mWARNING [bioservices:keggparser:119]: \u001b[0m \u001b[34mFound keyword SYMBOL, which has not special\n",
      "    parsing for now. please report this issue with the KEGG \n",
      "    identifier (208               CDS       T01001) into github.com/bioservices. Thanks T.C.\u001b[0m\n",
      " 58%|█████▊    | 772/1328 [05:03<04:58,  1.86it/s]\u001b[33mWARNING [bioservices:keggparser:119]: \u001b[0m \u001b[34mFound keyword SYMBOL, which has not special\n",
      "    parsing for now. please report this issue with the KEGG \n",
      "    identifier (1956              CDS       T01001) into github.com/bioservices. Thanks T.C.\u001b[0m\n",
      " 58%|█████▊    | 773/1328 [05:03<05:00,  1.85it/s]\u001b[33mWARNING [bioservices:keggparser:119]: \u001b[0m \u001b[34mFound keyword SYMBOL, which has not special\n",
      "    parsing for now. please report this issue with the KEGG \n",
      "    identifier (2475              CDS       T01001) into github.com/bioservices. Thanks T.C.\u001b[0m\n",
      " 58%|█████▊    | 774/1328 [05:04<05:11,  1.78it/s]\u001b[33mWARNING [bioservices:keggparser:119]: \u001b[0m \u001b[34mFound keyword SYMBOL, which has not special\n",
      "    parsing for now. please report this issue with the KEGG \n",
      "    identifier (5728              CDS       T01001) into github.com/bioservices. Thanks T.C.\u001b[0m\n",
      " 58%|█████▊    | 775/1328 [05:04<04:32,  2.03it/s]\u001b[33mWARNING [bioservices:keggparser:119]: \u001b[0m \u001b[34mFound keyword SYMBOL, which has not special\n",
      "    parsing for now. please report this issue with the KEGG \n",
      "    identifier (675               CDS       T01001) into github.com/bioservices. Thanks T.C.\u001b[0m\n",
      " 58%|█████▊    | 776/1328 [05:05<04:36,  1.99it/s]\u001b[33mWARNING [bioservices:keggparser:119]: \u001b[0m \u001b[34mFound keyword SYMBOL, which has not special\n",
      "    parsing for now. please report this issue with the KEGG \n",
      "    identifier (5728              CDS       T01001) into github.com/bioservices. Thanks T.C.\u001b[0m\n",
      " 59%|█████▊    | 777/1328 [05:05<04:06,  2.23it/s]\u001b[33mWARNING [bioservices:keggparser:119]: \u001b[0m \u001b[34mFound keyword SYMBOL, which has not special\n",
      "    parsing for now. please report this issue with the KEGG \n",
      "    identifier (4088              CDS       T01001) into github.com/bioservices. Thanks T.C.\u001b[0m\n",
      " 59%|█████▊    | 778/1328 [05:05<03:45,  2.44it/s]\u001b[33mWARNING [bioservices:keggparser:119]: \u001b[0m \u001b[34mFound keyword SYMBOL, which has not special\n",
      "    parsing for now. please report this issue with the KEGG \n",
      "    identifier (672               CDS       T01001) into github.com/bioservices. Thanks T.C.\u001b[0m\n",
      " 59%|█████▊    | 779/1328 [05:06<03:19,  2.75it/s]\u001b[33mWARNING [bioservices:keggparser:119]: \u001b[0m \u001b[34mFound keyword SYMBOL, which has not special\n",
      "    parsing for now. please report this issue with the KEGG \n",
      "    identifier (387               CDS       T01001) into github.com/bioservices. Thanks T.C.\u001b[0m\n",
      " 59%|█████▊    | 780/1328 [05:06<03:37,  2.52it/s]\u001b[33mWARNING [bioservices:keggparser:119]: \u001b[0m \u001b[34mFound keyword SYMBOL, which has not special\n",
      "    parsing for now. please report this issue with the KEGG \n",
      "    identifier (672               CDS       T01001) into github.com/bioservices. Thanks T.C.\u001b[0m\n",
      " 59%|█████▉    | 781/1328 [05:06<03:09,  2.88it/s]\u001b[33mWARNING [bioservices:keggparser:119]: \u001b[0m \u001b[34mFound keyword SYMBOL, which has not special\n",
      "    parsing for now. please report this issue with the KEGG \n",
      "    identifier (675               CDS       T01001) into github.com/bioservices. Thanks T.C.\u001b[0m\n",
      " 59%|█████▉    | 782/1328 [05:07<03:29,  2.61it/s]\u001b[33mWARNING [bioservices:keggparser:119]: \u001b[0m \u001b[34mFound keyword SYMBOL, which has not special\n",
      "    parsing for now. please report this issue with the KEGG \n",
      "    identifier (4780              CDS       T01001) into github.com/bioservices. Thanks T.C.\u001b[0m\n",
      " 59%|█████▉    | 783/1328 [05:07<03:05,  2.95it/s]\u001b[33mWARNING [bioservices:keggparser:119]: \u001b[0m \u001b[34mFound keyword SYMBOL, which has not special\n",
      "    parsing for now. please report this issue with the KEGG \n",
      "    identifier (55294             CDS       T01001) into github.com/bioservices. Thanks T.C.\u001b[0m\n",
      " 59%|█████▉    | 784/1328 [05:07<02:59,  3.03it/s]\u001b[33mWARNING [bioservices:keggparser:119]: \u001b[0m \u001b[34mFound keyword SYMBOL, which has not special\n",
      "    parsing for now. please report this issue with the KEGG \n",
      "    identifier (1956              CDS       T01001) into github.com/bioservices. Thanks T.C.\u001b[0m\n",
      " 59%|█████▉    | 785/1328 [05:08<03:43,  2.43it/s]\u001b[33mWARNING [bioservices:keggparser:119]: \u001b[0m \u001b[34mFound keyword SYMBOL, which has not special\n",
      "    parsing for now. please report this issue with the KEGG \n",
      "    identifier (84159             CDS       T01001) into github.com/bioservices. Thanks T.C.\u001b[0m\n",
      " 59%|█████▉    | 786/1328 [05:08<03:05,  2.92it/s]"
     ]
    },
    {
     "name": "stdout",
     "output_type": "stream",
     "text": [
      "no data for  ARID5B\n"
     ]
    },
    {
     "name": "stderr",
     "output_type": "stream",
     "text": [
      "\u001b[33mWARNING [bioservices:keggparser:119]: \u001b[0m \u001b[34mFound keyword SYMBOL, which has not special\n",
      "    parsing for now. please report this issue with the KEGG \n",
      "    identifier (675               CDS       T01001) into github.com/bioservices. Thanks T.C.\u001b[0m\n",
      " 59%|█████▉    | 787/1328 [05:09<03:36,  2.50it/s]\u001b[33mWARNING [bioservices:keggparser:119]: \u001b[0m \u001b[34mFound keyword SYMBOL, which has not special\n",
      "    parsing for now. please report this issue with the KEGG \n",
      "    identifier (2263              CDS       T01001) into github.com/bioservices. Thanks T.C.\u001b[0m\n",
      " 59%|█████▉    | 788/1328 [05:09<03:14,  2.78it/s]\u001b[33mWARNING [bioservices:keggparser:119]: \u001b[0m \u001b[34mFound keyword SYMBOL, which has not special\n",
      "    parsing for now. please report this issue with the KEGG \n",
      "    identifier (6774              CDS       T01001) into github.com/bioservices. Thanks T.C.\u001b[0m\n",
      " 59%|█████▉    | 789/1328 [05:09<03:21,  2.67it/s]\u001b[33mWARNING [bioservices:keggparser:119]: \u001b[0m \u001b[34mFound keyword SYMBOL, which has not special\n",
      "    parsing for now. please report this issue with the KEGG \n",
      "    identifier (5156              CDS       T01001) into github.com/bioservices. Thanks T.C.\u001b[0m\n",
      " 59%|█████▉    | 790/1328 [05:10<03:07,  2.87it/s]\u001b[33mWARNING [bioservices:keggparser:119]: \u001b[0m \u001b[34mFound keyword SYMBOL, which has not special\n",
      "    parsing for now. please report this issue with the KEGG \n",
      "    identifier (238               CDS       T01001) into github.com/bioservices. Thanks T.C.\u001b[0m\n",
      " 60%|█████▉    | 791/1328 [05:10<02:51,  3.14it/s]\u001b[33mWARNING [bioservices:keggparser:119]: \u001b[0m \u001b[34mFound keyword SYMBOL, which has not special\n",
      "    parsing for now. please report this issue with the KEGG \n",
      "    identifier (5921              CDS       T01001) into github.com/bioservices. Thanks T.C.\u001b[0m\n",
      " 60%|█████▉    | 792/1328 [05:10<02:49,  3.17it/s]\u001b[33mWARNING [bioservices:keggparser:119]: \u001b[0m \u001b[34mFound keyword SYMBOL, which has not special\n",
      "    parsing for now. please report this issue with the KEGG \n",
      "    identifier (5728              CDS       T01001) into github.com/bioservices. Thanks T.C.\u001b[0m\n",
      " 60%|█████▉    | 793/1328 [05:11<03:00,  2.97it/s]\u001b[33mWARNING [bioservices:keggparser:119]: \u001b[0m \u001b[34mFound keyword SYMBOL, which has not special\n",
      "    parsing for now. please report this issue with the KEGG \n",
      "    identifier (6608              CDS       T01001) into github.com/bioservices. Thanks T.C.\u001b[0m\n",
      " 60%|█████▉    | 794/1328 [05:11<02:40,  3.32it/s]\u001b[33mWARNING [bioservices:keggparser:119]: \u001b[0m \u001b[34mFound keyword SYMBOL, which has not special\n",
      "    parsing for now. please report this issue with the KEGG \n",
      "    identifier (238               CDS       T01001) into github.com/bioservices. Thanks T.C.\u001b[0m\n",
      " 60%|█████▉    | 795/1328 [05:11<02:47,  3.18it/s]\u001b[33mWARNING [bioservices:keggparser:119]: \u001b[0m \u001b[34mFound keyword SYMBOL, which has not special\n",
      "    parsing for now. please report this issue with the KEGG \n",
      "    identifier (324               CDS       T01001) into github.com/bioservices. Thanks T.C.\u001b[0m\n",
      " 60%|█████▉    | 796/1328 [05:12<03:07,  2.83it/s]\u001b[33mWARNING [bioservices:keggparser:119]: \u001b[0m \u001b[34mFound keyword SYMBOL, which has not special\n",
      "    parsing for now. please report this issue with the KEGG \n",
      "    identifier (2261              CDS       T01001) into github.com/bioservices. Thanks T.C.\u001b[0m\n",
      " 60%|██████    | 797/1328 [05:12<02:52,  3.08it/s]\u001b[33mWARNING [bioservices:keggparser:119]: \u001b[0m \u001b[34mFound keyword SYMBOL, which has not special\n",
      "    parsing for now. please report this issue with the KEGG \n",
      "    identifier (5728              CDS       T01001) into github.com/bioservices. Thanks T.C.\u001b[0m\n",
      " 60%|██████    | 798/1328 [05:12<03:09,  2.80it/s]\u001b[33mWARNING [bioservices:keggparser:119]: \u001b[0m \u001b[34mFound keyword SYMBOL, which has not special\n",
      "    parsing for now. please report this issue with the KEGG \n",
      "    identifier (3418              CDS       T01001) into github.com/bioservices. Thanks T.C.\u001b[0m\n",
      " 60%|██████    | 799/1328 [05:13<02:49,  3.13it/s]\u001b[33mWARNING [bioservices:keggparser:119]: \u001b[0m \u001b[34mFound keyword SYMBOL, which has not special\n",
      "    parsing for now. please report this issue with the KEGG \n",
      "    identifier (5979              CDS       T01001) into github.com/bioservices. Thanks T.C.\u001b[0m\n",
      " 60%|██████    | 800/1328 [05:13<02:48,  3.13it/s]\u001b[33mWARNING [bioservices:keggparser:119]: \u001b[0m \u001b[34mFound keyword SYMBOL, which has not special\n",
      "    parsing for now. please report this issue with the KEGG \n",
      "    identifier (2322              CDS       T01001) into github.com/bioservices. Thanks T.C.\u001b[0m\n",
      " 60%|██████    | 801/1328 [05:13<02:41,  3.27it/s]\u001b[33mWARNING [bioservices:keggparser:119]: \u001b[0m \u001b[34mFound keyword SYMBOL, which has not special\n",
      "    parsing for now. please report this issue with the KEGG \n",
      "    identifier (1029              CDS       T01001) into github.com/bioservices. Thanks T.C.\u001b[0m\n",
      " 60%|██████    | 802/1328 [05:14<02:47,  3.14it/s]\u001b[33mWARNING [bioservices:keggparser:119]: \u001b[0m \u001b[34mFound keyword SYMBOL, which has not special\n",
      "    parsing for now. please report this issue with the KEGG \n",
      "    identifier (23152             CDS       T01001) into github.com/bioservices. Thanks T.C.\u001b[0m\n",
      " 60%|██████    | 803/1328 [05:14<02:26,  3.59it/s]\u001b[33mWARNING [bioservices:keggparser:119]: \u001b[0m \u001b[34mFound keyword SYMBOL, which has not special\n",
      "    parsing for now. please report this issue with the KEGG \n",
      "    identifier (238               CDS       T01001) into github.com/bioservices. Thanks T.C.\u001b[0m\n",
      " 61%|██████    | 804/1328 [05:14<02:41,  3.24it/s]\u001b[33mWARNING [bioservices:keggparser:119]: \u001b[0m \u001b[34mFound keyword SYMBOL, which has not special\n",
      "    parsing for now. please report this issue with the KEGG \n",
      "    identifier (4292              CDS       T01001) into github.com/bioservices. Thanks T.C.\u001b[0m\n",
      " 61%|██████    | 805/1328 [05:14<02:29,  3.50it/s]\u001b[33mWARNING [bioservices:keggparser:119]: \u001b[0m \u001b[34mFound keyword SYMBOL, which has not special\n",
      "    parsing for now. please report this issue with the KEGG \n",
      "    identifier (2322              CDS       T01001) into github.com/bioservices. Thanks T.C.\u001b[0m\n",
      " 61%|██████    | 806/1328 [05:15<02:40,  3.26it/s]\u001b[33mWARNING [bioservices:keggparser:119]: \u001b[0m \u001b[34mFound keyword SYMBOL, which has not special\n",
      "    parsing for now. please report this issue with the KEGG \n",
      "    identifier (3815              CDS       T01001) into github.com/bioservices. Thanks T.C.\u001b[0m\n",
      " 61%|██████    | 807/1328 [05:15<02:28,  3.51it/s]\u001b[33mWARNING [bioservices:keggparser:119]: \u001b[0m \u001b[34mFound keyword SYMBOL, which has not special\n",
      "    parsing for now. please report this issue with the KEGG \n",
      "    identifier (5159              CDS       T01001) into github.com/bioservices. Thanks T.C.\u001b[0m\n",
      " 61%|██████    | 808/1328 [05:15<02:43,  3.18it/s]\u001b[33mWARNING [bioservices:keggparser:119]: \u001b[0m \u001b[34mFound keyword SYMBOL, which has not special\n",
      "    parsing for now. please report this issue with the KEGG \n",
      "    identifier (367               CDS       T01001) into github.com/bioservices. Thanks T.C.\u001b[0m\n",
      " 61%|██████    | 809/1328 [05:16<02:36,  3.32it/s]\u001b[33mWARNING [bioservices:keggparser:119]: \u001b[0m \u001b[34mFound keyword SYMBOL, which has not special\n",
      "    parsing for now. please report this issue with the KEGG \n",
      "    identifier (5728              CDS       T01001) into github.com/bioservices. Thanks T.C.\u001b[0m\n",
      " 61%|██████    | 810/1328 [05:16<02:49,  3.06it/s]\u001b[33mWARNING [bioservices:keggparser:119]: \u001b[0m \u001b[34mFound keyword SYMBOL, which has not special\n",
      "    parsing for now. please report this issue with the KEGG \n",
      "    identifier (5728              CDS       T01001) into github.com/bioservices. Thanks T.C.\u001b[0m\n",
      " 61%|██████    | 811/1328 [05:16<02:49,  3.05it/s]\u001b[33mWARNING [bioservices:keggparser:119]: \u001b[0m \u001b[34mFound keyword SYMBOL, which has not special\n",
      "    parsing for now. please report this issue with the KEGG \n",
      "    identifier (5979              CDS       T01001) into github.com/bioservices. Thanks T.C.\u001b[0m\n",
      " 61%|██████    | 812/1328 [05:17<02:31,  3.40it/s]\u001b[33mWARNING [bioservices:keggparser:119]: \u001b[0m \u001b[34mFound keyword SYMBOL, which has not special\n",
      "    parsing for now. please report this issue with the KEGG \n",
      "    identifier (7157              CDS       T01001) into github.com/bioservices. Thanks T.C.\u001b[0m\n"
     ]
    },
    {
     "name": "stderr",
     "output_type": "stream",
     "text": [
      " 61%|██████    | 813/1328 [05:17<03:11,  2.70it/s]\u001b[33mWARNING [bioservices:keggparser:119]: \u001b[0m \u001b[34mFound keyword SYMBOL, which has not special\n",
      "    parsing for now. please report this issue with the KEGG \n",
      "    identifier (2099              CDS       T01001) into github.com/bioservices. Thanks T.C.\u001b[0m\n",
      " 61%|██████▏   | 814/1328 [05:17<02:50,  3.01it/s]\u001b[33mWARNING [bioservices:keggparser:119]: \u001b[0m \u001b[34mFound keyword SYMBOL, which has not special\n",
      "    parsing for now. please report this issue with the KEGG \n",
      "    identifier (7157              CDS       T01001) into github.com/bioservices. Thanks T.C.\u001b[0m\n",
      " 61%|██████▏   | 815/1328 [05:18<03:21,  2.55it/s]\u001b[33mWARNING [bioservices:keggparser:119]: \u001b[0m \u001b[34mFound keyword SYMBOL, which has not special\n",
      "    parsing for now. please report this issue with the KEGG \n",
      "    identifier (672               CDS       T01001) into github.com/bioservices. Thanks T.C.\u001b[0m\n",
      " 61%|██████▏   | 816/1328 [05:18<02:55,  2.91it/s]\u001b[33mWARNING [bioservices:keggparser:119]: \u001b[0m \u001b[34mFound keyword SYMBOL, which has not special\n",
      "    parsing for now. please report this issue with the KEGG \n",
      "    identifier (4088              CDS       T01001) into github.com/bioservices. Thanks T.C.\u001b[0m\n",
      " 62%|██████▏   | 817/1328 [05:19<03:07,  2.73it/s]\u001b[33mWARNING [bioservices:keggparser:119]: \u001b[0m \u001b[34mFound keyword SYMBOL, which has not special\n",
      "    parsing for now. please report this issue with the KEGG \n",
      "    identifier (2064              CDS       T01001) into github.com/bioservices. Thanks T.C.\u001b[0m\n",
      " 62%|██████▏   | 818/1328 [05:19<02:56,  2.89it/s]\u001b[33mWARNING [bioservices:keggparser:119]: \u001b[0m \u001b[34mFound keyword SYMBOL, which has not special\n",
      "    parsing for now. please report this issue with the KEGG \n",
      "    identifier (5781              CDS       T01001) into github.com/bioservices. Thanks T.C.\u001b[0m\n",
      " 62%|██████▏   | 819/1328 [05:19<02:52,  2.95it/s]\u001b[33mWARNING [bioservices:keggparser:119]: \u001b[0m \u001b[34mFound keyword SYMBOL, which has not special\n",
      "    parsing for now. please report this issue with the KEGG \n",
      "    identifier (672               CDS       T01001) into github.com/bioservices. Thanks T.C.\u001b[0m\n",
      " 62%|██████▏   | 820/1328 [05:19<02:39,  3.19it/s]\u001b[33mWARNING [bioservices:keggparser:119]: \u001b[0m \u001b[34mFound keyword SYMBOL, which has not special\n",
      "    parsing for now. please report this issue with the KEGG \n",
      "    identifier (4915              CDS       T01001) into github.com/bioservices. Thanks T.C.\u001b[0m\n",
      " 62%|██████▏   | 821/1328 [05:20<02:39,  3.18it/s]\u001b[33mWARNING [bioservices:keggparser:119]: \u001b[0m \u001b[34mFound keyword SYMBOL, which has not special\n",
      "    parsing for now. please report this issue with the KEGG \n",
      "    identifier (4088              CDS       T01001) into github.com/bioservices. Thanks T.C.\u001b[0m\n",
      " 62%|██████▏   | 822/1328 [05:20<02:39,  3.17it/s]\u001b[33mWARNING [bioservices:keggparser:119]: \u001b[0m \u001b[34mFound keyword SYMBOL, which has not special\n",
      "    parsing for now. please report this issue with the KEGG \n",
      "    identifier (4436              CDS       T01001) into github.com/bioservices. Thanks T.C.\u001b[0m\n",
      " 62%|██████▏   | 823/1328 [05:20<02:26,  3.45it/s]\u001b[33mWARNING [bioservices:keggparser:119]: \u001b[0m \u001b[34mFound keyword SYMBOL, which has not special\n",
      "    parsing for now. please report this issue with the KEGG \n",
      "    identifier (3845              CDS       T01001) into github.com/bioservices. Thanks T.C.\u001b[0m\n",
      " 62%|██████▏   | 824/1328 [05:21<03:51,  2.18it/s]\u001b[33mWARNING [bioservices:keggparser:119]: \u001b[0m \u001b[34mFound keyword SYMBOL, which has not special\n",
      "    parsing for now. please report this issue with the KEGG \n",
      "    identifier (7157              CDS       T01001) into github.com/bioservices. Thanks T.C.\u001b[0m\n",
      " 62%|██████▏   | 825/1328 [05:22<03:46,  2.22it/s]\u001b[33mWARNING [bioservices:keggparser:119]: \u001b[0m \u001b[34mFound keyword SYMBOL, which has not special\n",
      "    parsing for now. please report this issue with the KEGG \n",
      "    identifier (867               CDS       T01001) into github.com/bioservices. Thanks T.C.\u001b[0m\n",
      " 62%|██████▏   | 826/1328 [05:22<03:13,  2.59it/s]\u001b[33mWARNING [bioservices:keggparser:119]: \u001b[0m \u001b[34mFound keyword SYMBOL, which has not special\n",
      "    parsing for now. please report this issue with the KEGG \n",
      "    identifier (5296              CDS       T01001) into github.com/bioservices. Thanks T.C.\u001b[0m\n",
      " 62%|██████▏   | 827/1328 [05:23<04:33,  1.84it/s]\u001b[33mWARNING [bioservices:keggparser:119]: \u001b[0m \u001b[34mFound keyword SYMBOL, which has not special\n",
      "    parsing for now. please report this issue with the KEGG \n",
      "    identifier (672               CDS       T01001) into github.com/bioservices. Thanks T.C.\u001b[0m\n",
      " 62%|██████▏   | 828/1328 [05:23<03:43,  2.24it/s]\u001b[33mWARNING [bioservices:keggparser:119]: \u001b[0m \u001b[34mFound keyword SYMBOL, which has not special\n",
      "    parsing for now. please report this issue with the KEGG \n",
      "    identifier (673               CDS       T01001) into github.com/bioservices. Thanks T.C.\u001b[0m\n",
      " 62%|██████▏   | 829/1328 [05:24<04:15,  1.95it/s]\u001b[33mWARNING [bioservices:keggparser:119]: \u001b[0m \u001b[34mFound keyword SYMBOL, which has not special\n",
      "    parsing for now. please report this issue with the KEGG \n",
      "    identifier (867               CDS       T01001) into github.com/bioservices. Thanks T.C.\u001b[0m\n",
      " 62%|██████▎   | 830/1328 [05:24<03:33,  2.34it/s]\u001b[33mWARNING [bioservices:keggparser:119]: \u001b[0m \u001b[34mFound keyword SYMBOL, which has not special\n",
      "    parsing for now. please report this issue with the KEGG \n",
      "    identifier (580               CDS       T01001) into github.com/bioservices. Thanks T.C.\u001b[0m\n",
      " 63%|██████▎   | 831/1328 [05:24<03:16,  2.52it/s]\u001b[33mWARNING [bioservices:keggparser:119]: \u001b[0m \u001b[34mFound keyword SYMBOL, which has not special\n",
      "    parsing for now. please report this issue with the KEGG \n",
      "    identifier (1499              CDS       T01001) into github.com/bioservices. Thanks T.C.\u001b[0m\n",
      " 63%|██████▎   | 832/1328 [05:24<03:13,  2.56it/s]\u001b[33mWARNING [bioservices:keggparser:119]: \u001b[0m \u001b[34mFound keyword SYMBOL, which has not special\n",
      "    parsing for now. please report this issue with the KEGG \n",
      "    identifier (1019              CDS       T01001) into github.com/bioservices. Thanks T.C.\u001b[0m\n",
      " 63%|██████▎   | 833/1328 [05:25<03:05,  2.68it/s]\u001b[33mWARNING [bioservices:keggparser:119]: \u001b[0m \u001b[34mFound keyword SYMBOL, which has not special\n",
      "    parsing for now. please report this issue with the KEGG \n",
      "    identifier (4233              CDS       T01001) into github.com/bioservices. Thanks T.C.\u001b[0m\n",
      " 63%|██████▎   | 834/1328 [05:25<02:54,  2.82it/s]\u001b[33mWARNING [bioservices:keggparser:119]: \u001b[0m \u001b[34mFound keyword SYMBOL, which has not special\n",
      "    parsing for now. please report this issue with the KEGG \n",
      "    identifier (2064              CDS       T01001) into github.com/bioservices. Thanks T.C.\u001b[0m\n",
      " 63%|██████▎   | 835/1328 [05:25<02:53,  2.85it/s]\u001b[33mWARNING [bioservices:keggparser:119]: \u001b[0m \u001b[34mFound keyword SYMBOL, which has not special\n",
      "    parsing for now. please report this issue with the KEGG \n",
      "    identifier (672               CDS       T01001) into github.com/bioservices. Thanks T.C.\u001b[0m\n",
      " 63%|██████▎   | 836/1328 [05:26<02:35,  3.17it/s]\u001b[33mWARNING [bioservices:keggparser:119]: \u001b[0m \u001b[34mFound keyword SYMBOL, which has not special\n",
      "    parsing for now. please report this issue with the KEGG \n",
      "    identifier (3815              CDS       T01001) into github.com/bioservices. Thanks T.C.\u001b[0m\n",
      " 63%|██████▎   | 837/1328 [05:26<02:40,  3.06it/s]\u001b[33mWARNING [bioservices:keggparser:119]: \u001b[0m \u001b[34mFound keyword SYMBOL, which has not special\n",
      "    parsing for now. please report this issue with the KEGG \n",
      "    identifier (5925              CDS       T01001) into github.com/bioservices. Thanks T.C.\u001b[0m\n",
      " 63%|██████▎   | 838/1328 [05:26<02:38,  3.08it/s]\u001b[33mWARNING [bioservices:keggparser:119]: \u001b[0m \u001b[34mFound keyword SYMBOL, which has not special\n",
      "    parsing for now. please report this issue with the KEGG \n",
      "    identifier (5781              CDS       T01001) into github.com/bioservices. Thanks T.C.\u001b[0m\n",
      " 63%|██████▎   | 839/1328 [05:27<02:35,  3.14it/s]\u001b[33mWARNING [bioservices:keggparser:119]: \u001b[0m \u001b[34mFound keyword SYMBOL, which has not special\n",
      "    parsing for now. please report this issue with the KEGG \n",
      "    identifier (5156              CDS       T01001) into github.com/bioservices. Thanks T.C.\u001b[0m\n"
     ]
    },
    {
     "name": "stderr",
     "output_type": "stream",
     "text": [
      " 63%|██████▎   | 840/1328 [05:27<02:36,  3.12it/s]\u001b[33mWARNING [bioservices:keggparser:119]: \u001b[0m \u001b[34mFound keyword SYMBOL, which has not special\n",
      "    parsing for now. please report this issue with the KEGG \n",
      "    identifier (7428              CDS       T01001) into github.com/bioservices. Thanks T.C.\u001b[0m\n",
      " 63%|██████▎   | 841/1328 [05:27<02:21,  3.43it/s]\u001b[33mWARNING [bioservices:keggparser:119]: \u001b[0m \u001b[34mFound keyword SYMBOL, which has not special\n",
      "    parsing for now. please report this issue with the KEGG \n",
      "    identifier (5728              CDS       T01001) into github.com/bioservices. Thanks T.C.\u001b[0m\n",
      " 63%|██████▎   | 842/1328 [05:28<02:51,  2.83it/s]\u001b[33mWARNING [bioservices:keggparser:119]: \u001b[0m \u001b[34mFound keyword SYMBOL, which has not special\n",
      "    parsing for now. please report this issue with the KEGG \n",
      "    identifier (238               CDS       T01001) into github.com/bioservices. Thanks T.C.\u001b[0m\n",
      " 63%|██████▎   | 843/1328 [05:28<02:31,  3.19it/s]\u001b[33mWARNING [bioservices:keggparser:119]: \u001b[0m \u001b[34mFound keyword SYMBOL, which has not special\n",
      "    parsing for now. please report this issue with the KEGG \n",
      "    identifier (9314              CDS       T01001) into github.com/bioservices. Thanks T.C.\u001b[0m\n",
      " 64%|██████▎   | 844/1328 [05:28<02:36,  3.10it/s]\u001b[33mWARNING [bioservices:keggparser:119]: \u001b[0m \u001b[34mFound keyword SYMBOL, which has not special\n",
      "    parsing for now. please report this issue with the KEGG \n",
      "    identifier (4233              CDS       T01001) into github.com/bioservices. Thanks T.C.\u001b[0m\n",
      " 64%|██████▎   | 845/1328 [05:29<02:35,  3.11it/s]\u001b[33mWARNING [bioservices:keggparser:119]: \u001b[0m \u001b[34mFound keyword SYMBOL, which has not special\n",
      "    parsing for now. please report this issue with the KEGG \n",
      "    identifier (9817              CDS       T01001) into github.com/bioservices. Thanks T.C.\u001b[0m\n",
      " 64%|██████▎   | 846/1328 [05:29<02:23,  3.37it/s]\u001b[33mWARNING [bioservices:keggparser:119]: \u001b[0m \u001b[34mFound keyword SYMBOL, which has not special\n",
      "    parsing for now. please report this issue with the KEGG \n",
      "    identifier (6774              CDS       T01001) into github.com/bioservices. Thanks T.C.\u001b[0m\n",
      " 64%|██████▍   | 847/1328 [05:29<02:44,  2.92it/s]\u001b[33mWARNING [bioservices:keggparser:119]: \u001b[0m \u001b[34mFound keyword SYMBOL, which has not special\n",
      "    parsing for now. please report this issue with the KEGG \n",
      "    identifier (3717              CDS       T01001) into github.com/bioservices. Thanks T.C.\u001b[0m\n",
      " 64%|██████▍   | 848/1328 [05:30<02:39,  3.01it/s]\u001b[33mWARNING [bioservices:keggparser:119]: \u001b[0m \u001b[34mFound keyword SYMBOL, which has not special\n",
      "    parsing for now. please report this issue with the KEGG \n",
      "    identifier (867               CDS       T01001) into github.com/bioservices. Thanks T.C.\u001b[0m\n",
      " 64%|██████▍   | 849/1328 [05:30<02:28,  3.23it/s]\u001b[33mWARNING [bioservices:keggparser:119]: \u001b[0m \u001b[34mFound keyword SYMBOL, which has not special\n",
      "    parsing for now. please report this issue with the KEGG \n",
      "    identifier (999               CDS       T01001) into github.com/bioservices. Thanks T.C.\u001b[0m\n",
      " 64%|██████▍   | 850/1328 [05:30<02:30,  3.17it/s]\u001b[33mWARNING [bioservices:keggparser:119]: \u001b[0m \u001b[34mFound keyword SYMBOL, which has not special\n",
      "    parsing for now. please report this issue with the KEGG \n",
      "    identifier (673               CDS       T01001) into github.com/bioservices. Thanks T.C.\u001b[0m\n",
      " 64%|██████▍   | 851/1328 [05:31<03:05,  2.58it/s]\u001b[33mWARNING [bioservices:keggparser:119]: \u001b[0m \u001b[34mFound keyword SYMBOL, which has not special\n",
      "    parsing for now. please report this issue with the KEGG \n",
      "    identifier (2263              CDS       T01001) into github.com/bioservices. Thanks T.C.\u001b[0m\n",
      " 64%|██████▍   | 852/1328 [05:31<02:45,  2.87it/s]\u001b[33mWARNING [bioservices:keggparser:119]: \u001b[0m \u001b[34mFound keyword SYMBOL, which has not special\n",
      "    parsing for now. please report this issue with the KEGG \n",
      "    identifier (1999              CDS       T01001) into github.com/bioservices. Thanks T.C.\u001b[0m\n",
      " 64%|██████▍   | 853/1328 [05:31<02:34,  3.08it/s]"
     ]
    },
    {
     "name": "stdout",
     "output_type": "stream",
     "text": [
      "no data for  ELF3\n"
     ]
    },
    {
     "name": "stderr",
     "output_type": "stream",
     "text": [
      "\u001b[33mWARNING [bioservices:keggparser:119]: \u001b[0m \u001b[34mFound keyword SYMBOL, which has not special\n",
      "    parsing for now. please report this issue with the KEGG \n",
      "    identifier (5728              CDS       T01001) into github.com/bioservices. Thanks T.C.\u001b[0m\n",
      " 64%|██████▍   | 854/1328 [05:32<02:45,  2.86it/s]\u001b[33mWARNING [bioservices:keggparser:119]: \u001b[0m \u001b[34mFound keyword SYMBOL, which has not special\n",
      "    parsing for now. please report this issue with the KEGG \n",
      "    identifier (2475              CDS       T01001) into github.com/bioservices. Thanks T.C.\u001b[0m\n",
      " 64%|██████▍   | 855/1328 [05:32<03:15,  2.42it/s]\u001b[33mWARNING [bioservices:keggparser:119]: \u001b[0m \u001b[34mFound keyword SYMBOL, which has not special\n",
      "    parsing for now. please report this issue with the KEGG \n",
      "    identifier (2261              CDS       T01001) into github.com/bioservices. Thanks T.C.\u001b[0m\n",
      " 64%|██████▍   | 856/1328 [05:33<02:52,  2.74it/s]\u001b[33mWARNING [bioservices:keggparser:119]: \u001b[0m \u001b[34mFound keyword SYMBOL, which has not special\n",
      "    parsing for now. please report this issue with the KEGG \n",
      "    identifier (3815              CDS       T01001) into github.com/bioservices. Thanks T.C.\u001b[0m\n",
      " 65%|██████▍   | 857/1328 [05:33<02:49,  2.78it/s]\u001b[33mWARNING [bioservices:keggparser:119]: \u001b[0m \u001b[34mFound keyword SYMBOL, which has not special\n",
      "    parsing for now. please report this issue with the KEGG \n",
      "    identifier (5894              CDS       T01001) into github.com/bioservices. Thanks T.C.\u001b[0m\n",
      " 65%|██████▍   | 858/1328 [05:34<03:53,  2.01it/s]\u001b[33mWARNING [bioservices:keggparser:119]: \u001b[0m \u001b[34mFound keyword SYMBOL, which has not special\n",
      "    parsing for now. please report this issue with the KEGG \n",
      "    identifier (5156              CDS       T01001) into github.com/bioservices. Thanks T.C.\u001b[0m\n",
      " 65%|██████▍   | 859/1328 [05:34<03:26,  2.28it/s]\u001b[33mWARNING [bioservices:keggparser:119]: \u001b[0m \u001b[34mFound keyword SYMBOL, which has not special\n",
      "    parsing for now. please report this issue with the KEGG \n",
      "    identifier (2475              CDS       T01001) into github.com/bioservices. Thanks T.C.\u001b[0m\n",
      " 65%|██████▍   | 860/1328 [05:35<04:07,  1.89it/s]\u001b[33mWARNING [bioservices:keggparser:119]: \u001b[0m \u001b[34mFound keyword SYMBOL, which has not special\n",
      "    parsing for now. please report this issue with the KEGG \n",
      "    identifier (7428              CDS       T01001) into github.com/bioservices. Thanks T.C.\u001b[0m\n",
      " 65%|██████▍   | 861/1328 [05:35<03:24,  2.28it/s]\u001b[33mWARNING [bioservices:keggparser:119]: \u001b[0m \u001b[34mFound keyword SYMBOL, which has not special\n",
      "    parsing for now. please report this issue with the KEGG \n",
      "    identifier (673               CDS       T01001) into github.com/bioservices. Thanks T.C.\u001b[0m\n",
      " 65%|██████▍   | 862/1328 [05:36<03:55,  1.98it/s]\u001b[33mWARNING [bioservices:keggparser:119]: \u001b[0m \u001b[34mFound keyword SYMBOL, which has not special\n",
      "    parsing for now. please report this issue with the KEGG \n",
      "    identifier (672               CDS       T01001) into github.com/bioservices. Thanks T.C.\u001b[0m\n",
      " 65%|██████▍   | 863/1328 [05:36<03:18,  2.34it/s]\u001b[33mWARNING [bioservices:keggparser:119]: \u001b[0m \u001b[34mFound keyword SYMBOL, which has not special\n",
      "    parsing for now. please report this issue with the KEGG \n",
      "    identifier (2078              CDS       T01001) into github.com/bioservices. Thanks T.C.\u001b[0m\n",
      " 65%|██████▌   | 864/1328 [05:36<02:59,  2.58it/s]\u001b[33mWARNING [bioservices:keggparser:119]: \u001b[0m \u001b[34mFound keyword SYMBOL, which has not special\n",
      "    parsing for now. please report this issue with the KEGG \n",
      "    identifier (7157              CDS       T01001) into github.com/bioservices. Thanks T.C.\u001b[0m\n",
      " 65%|██████▌   | 865/1328 [05:37<03:26,  2.24it/s]\u001b[33mWARNING [bioservices:keggparser:119]: \u001b[0m \u001b[34mFound keyword SYMBOL, which has not special\n",
      "    parsing for now. please report this issue with the KEGG \n",
      "    identifier (207               CDS       T01001) into github.com/bioservices. Thanks T.C.\u001b[0m\n",
      " 65%|██████▌   | 866/1328 [05:38<04:22,  1.76it/s]\u001b[33mWARNING [bioservices:keggparser:119]: \u001b[0m \u001b[34mFound keyword SYMBOL, which has not special\n",
      "    parsing for now. please report this issue with the KEGG \n",
      "    identifier (2064              CDS       T01001) into github.com/bioservices. Thanks T.C.\u001b[0m\n",
      " 65%|██████▌   | 867/1328 [05:38<03:47,  2.03it/s]\u001b[33mWARNING [bioservices:keggparser:119]: \u001b[0m \u001b[34mFound keyword SYMBOL, which has not special\n",
      "    parsing for now. please report this issue with the KEGG \n",
      "    identifier (8036              CDS       T01001) into github.com/bioservices. Thanks T.C.\u001b[0m\n",
      " 65%|██████▌   | 868/1328 [05:38<03:07,  2.45it/s]\u001b[33mWARNING [bioservices:keggparser:119]: \u001b[0m \u001b[34mFound keyword SYMBOL, which has not special\n",
      "    parsing for now. please report this issue with the KEGG \n",
      "    identifier (2322              CDS       T01001) into github.com/bioservices. Thanks T.C.\u001b[0m\n",
      " 65%|██████▌   | 869/1328 [05:38<03:02,  2.51it/s]\u001b[33mWARNING [bioservices:keggparser:119]: \u001b[0m \u001b[34mFound keyword SYMBOL, which has not special\n",
      "    parsing for now. please report this issue with the KEGG \n",
      "    identifier (1956              CDS       T01001) into github.com/bioservices. Thanks T.C.\u001b[0m\n",
      " 66%|██████▌   | 870/1328 [05:39<03:30,  2.17it/s]\u001b[33mWARNING [bioservices:keggparser:119]: \u001b[0m \u001b[34mFound keyword SYMBOL, which has not special\n",
      "    parsing for now. please report this issue with the KEGG \n",
      "    identifier (672               CDS       T01001) into github.com/bioservices. Thanks T.C.\u001b[0m\n",
      " 66%|██████▌   | 871/1328 [05:39<02:58,  2.56it/s]\u001b[33mWARNING [bioservices:keggparser:119]: \u001b[0m \u001b[34mFound keyword SYMBOL, which has not special\n",
      "    parsing for now. please report this issue with the KEGG \n",
      "    identifier (5156              CDS       T01001) into github.com/bioservices. Thanks T.C.\u001b[0m\n",
      " 66%|██████▌   | 872/1328 [05:40<03:02,  2.50it/s]\u001b[33mWARNING [bioservices:keggparser:119]: \u001b[0m \u001b[34mFound keyword SYMBOL, which has not special\n",
      "    parsing for now. please report this issue with the KEGG \n",
      "    identifier (1030              CDS       T01001) into github.com/bioservices. Thanks T.C.\u001b[0m\n",
      " 66%|██████▌   | 873/1328 [05:40<02:41,  2.82it/s]\u001b[33mWARNING [bioservices:keggparser:119]: \u001b[0m \u001b[34mFound keyword SYMBOL, which has not special\n",
      "    parsing for now. please report this issue with the KEGG \n",
      "    identifier (672               CDS       T01001) into github.com/bioservices. Thanks T.C.\u001b[0m\n",
      " 66%|██████▌   | 874/1328 [05:40<02:37,  2.88it/s]\u001b[33mWARNING [bioservices:keggparser:119]: \u001b[0m \u001b[34mFound keyword SYMBOL, which has not special\n",
      "    parsing for now. please report this issue with the KEGG \n",
      "    identifier (6794              CDS       T01001) into github.com/bioservices. Thanks T.C.\u001b[0m\n",
      " 66%|██████▌   | 875/1328 [05:41<02:23,  3.16it/s]\u001b[33mWARNING [bioservices:keggparser:119]: \u001b[0m \u001b[34mFound keyword SYMBOL, which has not special\n",
      "    parsing for now. please report this issue with the KEGG \n",
      "    identifier (7157              CDS       T01001) into github.com/bioservices. Thanks T.C.\u001b[0m\n",
      " 66%|██████▌   | 876/1328 [05:41<02:52,  2.62it/s]\u001b[33mWARNING [bioservices:keggparser:119]: \u001b[0m \u001b[34mFound keyword SYMBOL, which has not special\n",
      "    parsing for now. please report this issue with the KEGG \n",
      "    identifier (7046              CDS       T01001) into github.com/bioservices. Thanks T.C.\u001b[0m\n",
      " 66%|██████▌   | 877/1328 [05:41<02:41,  2.80it/s]\u001b[33mWARNING [bioservices:keggparser:119]: \u001b[0m \u001b[34mFound keyword SYMBOL, which has not special\n",
      "    parsing for now. please report this issue with the KEGG \n",
      "    identifier (672               CDS       T01001) into github.com/bioservices. Thanks T.C.\u001b[0m\n",
      " 66%|██████▌   | 878/1328 [05:42<02:30,  3.00it/s]\u001b[33mWARNING [bioservices:keggparser:119]: \u001b[0m \u001b[34mFound keyword SYMBOL, which has not special\n",
      "    parsing for now. please report this issue with the KEGG \n",
      "    identifier (238               CDS       T01001) into github.com/bioservices. Thanks T.C.\u001b[0m\n",
      " 66%|██████▌   | 879/1328 [05:42<02:20,  3.18it/s]\u001b[33mWARNING [bioservices:keggparser:119]: \u001b[0m \u001b[34mFound keyword SYMBOL, which has not special\n",
      "    parsing for now. please report this issue with the KEGG \n",
      "    identifier (207               CDS       T01001) into github.com/bioservices. Thanks T.C.\u001b[0m\n"
     ]
    },
    {
     "name": "stderr",
     "output_type": "stream",
     "text": [
      " 66%|██████▋   | 880/1328 [05:43<04:06,  1.82it/s]\u001b[33mWARNING [bioservices:keggparser:119]: \u001b[0m \u001b[34mFound keyword SYMBOL, which has not special\n",
      "    parsing for now. please report this issue with the KEGG \n",
      "    identifier (1956              CDS       T01001) into github.com/bioservices. Thanks T.C.\u001b[0m\n",
      " 66%|██████▋   | 881/1328 [05:44<04:08,  1.80it/s]\u001b[33mWARNING [bioservices:keggparser:119]: \u001b[0m \u001b[34mFound keyword SYMBOL, which has not special\n",
      "    parsing for now. please report this issue with the KEGG \n",
      "    identifier (1956              CDS       T01001) into github.com/bioservices. Thanks T.C.\u001b[0m\n",
      " 66%|██████▋   | 882/1328 [05:44<04:14,  1.75it/s]\u001b[33mWARNING [bioservices:keggparser:119]: \u001b[0m \u001b[34mFound keyword SYMBOL, which has not special\n",
      "    parsing for now. please report this issue with the KEGG \n",
      "    identifier (238               CDS       T01001) into github.com/bioservices. Thanks T.C.\u001b[0m\n",
      " 66%|██████▋   | 883/1328 [05:44<03:25,  2.17it/s]\u001b[33mWARNING [bioservices:keggparser:119]: \u001b[0m \u001b[34mFound keyword SYMBOL, which has not special\n",
      "    parsing for now. please report this issue with the KEGG \n",
      "    identifier (2475              CDS       T01001) into github.com/bioservices. Thanks T.C.\u001b[0m\n",
      " 67%|██████▋   | 884/1328 [05:45<03:58,  1.86it/s]\u001b[33mWARNING [bioservices:keggparser:119]: \u001b[0m \u001b[34mFound keyword SYMBOL, which has not special\n",
      "    parsing for now. please report this issue with the KEGG \n",
      "    identifier (3265              CDS       T01001) into github.com/bioservices. Thanks T.C.\u001b[0m\n",
      " 67%|██████▋   | 885/1328 [05:46<04:30,  1.64it/s]\u001b[33mWARNING [bioservices:keggparser:119]: \u001b[0m \u001b[34mFound keyword SYMBOL, which has not special\n",
      "    parsing for now. please report this issue with the KEGG \n",
      "    identifier (25                CDS       T01001) into github.com/bioservices. Thanks T.C.\u001b[0m\n",
      " 67%|██████▋   | 886/1328 [05:46<03:43,  1.98it/s]\u001b[33mWARNING [bioservices:keggparser:119]: \u001b[0m \u001b[34mFound keyword SYMBOL, which has not special\n",
      "    parsing for now. please report this issue with the KEGG \n",
      "    identifier (672               CDS       T01001) into github.com/bioservices. Thanks T.C.\u001b[0m\n",
      " 67%|██████▋   | 887/1328 [05:46<03:15,  2.26it/s]\u001b[33mWARNING [bioservices:keggparser:119]: \u001b[0m \u001b[34mFound keyword SYMBOL, which has not special\n",
      "    parsing for now. please report this issue with the KEGG \n",
      "    identifier (5295              CDS       T01001) into github.com/bioservices. Thanks T.C.\u001b[0m\n",
      " 67%|██████▋   | 888/1328 [05:47<04:27,  1.65it/s]\u001b[33mWARNING [bioservices:keggparser:119]: \u001b[0m \u001b[34mFound keyword SYMBOL, which has not special\n",
      "    parsing for now. please report this issue with the KEGG \n",
      "    identifier (238               CDS       T01001) into github.com/bioservices. Thanks T.C.\u001b[0m\n",
      " 67%|██████▋   | 889/1328 [05:48<03:34,  2.05it/s]\u001b[33mWARNING [bioservices:keggparser:119]: \u001b[0m \u001b[34mFound keyword SYMBOL, which has not special\n",
      "    parsing for now. please report this issue with the KEGG \n",
      "    identifier (567               CDS       T01001) into github.com/bioservices. Thanks T.C.\u001b[0m\n",
      " 67%|██████▋   | 890/1328 [05:48<03:18,  2.21it/s]\u001b[33mWARNING [bioservices:keggparser:119]: \u001b[0m \u001b[34mFound keyword SYMBOL, which has not special\n",
      "    parsing for now. please report this issue with the KEGG \n",
      "    identifier (6608              CDS       T01001) into github.com/bioservices. Thanks T.C.\u001b[0m\n",
      " 67%|██████▋   | 891/1328 [05:48<02:48,  2.59it/s]\u001b[33mWARNING [bioservices:keggparser:119]: \u001b[0m \u001b[34mFound keyword SYMBOL, which has not special\n",
      "    parsing for now. please report this issue with the KEGG \n",
      "    identifier (675               CDS       T01001) into github.com/bioservices. Thanks T.C.\u001b[0m\n",
      " 67%|██████▋   | 892/1328 [05:49<02:59,  2.43it/s]\u001b[33mWARNING [bioservices:keggparser:119]: \u001b[0m \u001b[34mFound keyword SYMBOL, which has not special\n",
      "    parsing for now. please report this issue with the KEGG \n",
      "    identifier (2322              CDS       T01001) into github.com/bioservices. Thanks T.C.\u001b[0m\n",
      " 67%|██████▋   | 893/1328 [05:49<02:35,  2.79it/s]\u001b[33mWARNING [bioservices:keggparser:119]: \u001b[0m \u001b[34mFound keyword SYMBOL, which has not special\n",
      "    parsing for now. please report this issue with the KEGG \n",
      "    identifier (5789              CDS       T01001) into github.com/bioservices. Thanks T.C.\u001b[0m\n",
      " 67%|██████▋   | 894/1328 [05:49<02:28,  2.93it/s]"
     ]
    },
    {
     "name": "stdout",
     "output_type": "stream",
     "text": [
      "no data for  PTPRD\n"
     ]
    },
    {
     "name": "stderr",
     "output_type": "stream",
     "text": [
      "\u001b[33mWARNING [bioservices:keggparser:119]: \u001b[0m \u001b[34mFound keyword SYMBOL, which has not special\n",
      "    parsing for now. please report this issue with the KEGG \n",
      "    identifier (2956              CDS       T01001) into github.com/bioservices. Thanks T.C.\u001b[0m\n",
      " 67%|██████▋   | 895/1328 [05:50<02:17,  3.15it/s]\u001b[33mWARNING [bioservices:keggparser:119]: \u001b[0m \u001b[34mFound keyword SYMBOL, which has not special\n",
      "    parsing for now. please report this issue with the KEGG \n",
      "    identifier (1956              CDS       T01001) into github.com/bioservices. Thanks T.C.\u001b[0m\n",
      " 67%|██████▋   | 896/1328 [05:50<03:03,  2.35it/s]\u001b[33mWARNING [bioservices:keggparser:119]: \u001b[0m \u001b[34mFound keyword SYMBOL, which has not special\n",
      "    parsing for now. please report this issue with the KEGG \n",
      "    identifier (3417              CDS       T01001) into github.com/bioservices. Thanks T.C.\u001b[0m\n",
      " 68%|██████▊   | 897/1328 [05:50<02:39,  2.71it/s]\u001b[33mWARNING [bioservices:keggparser:119]: \u001b[0m \u001b[34mFound keyword SYMBOL, which has not special\n",
      "    parsing for now. please report this issue with the KEGG \n",
      "    identifier (673               CDS       T01001) into github.com/bioservices. Thanks T.C.\u001b[0m\n",
      " 68%|██████▊   | 898/1328 [05:51<03:17,  2.18it/s]\u001b[33mWARNING [bioservices:keggparser:119]: \u001b[0m \u001b[34mFound keyword SYMBOL, which has not special\n",
      "    parsing for now. please report this issue with the KEGG \n",
      "    identifier (3845              CDS       T01001) into github.com/bioservices. Thanks T.C.\u001b[0m\n",
      " 68%|██████▊   | 899/1328 [05:52<03:50,  1.86it/s]\u001b[33mWARNING [bioservices:keggparser:119]: \u001b[0m \u001b[34mFound keyword SYMBOL, which has not special\n",
      "    parsing for now. please report this issue with the KEGG \n",
      "    identifier (5781              CDS       T01001) into github.com/bioservices. Thanks T.C.\u001b[0m\n",
      " 68%|██████▊   | 900/1328 [05:52<03:16,  2.17it/s]\u001b[33mWARNING [bioservices:keggparser:119]: \u001b[0m \u001b[34mFound keyword SYMBOL, which has not special\n",
      "    parsing for now. please report this issue with the KEGG \n",
      "    identifier (2175              CDS       T01001) into github.com/bioservices. Thanks T.C.\u001b[0m\n",
      " 68%|██████▊   | 901/1328 [05:52<02:51,  2.49it/s]\u001b[33mWARNING [bioservices:keggparser:119]: \u001b[0m \u001b[34mFound keyword SYMBOL, which has not special\n",
      "    parsing for now. please report this issue with the KEGG \n",
      "    identifier (4921              CDS       T01001) into github.com/bioservices. Thanks T.C.\u001b[0m\n",
      " 68%|██████▊   | 902/1328 [05:53<02:33,  2.77it/s]"
     ]
    },
    {
     "name": "stdout",
     "output_type": "stream",
     "text": [
      "no data for  DDR2\n"
     ]
    },
    {
     "name": "stderr",
     "output_type": "stream",
     "text": [
      "\u001b[33mWARNING [bioservices:keggparser:119]: \u001b[0m \u001b[34mFound keyword SYMBOL, which has not special\n",
      "    parsing for now. please report this issue with the KEGG \n",
      "    identifier (673               CDS       T01001) into github.com/bioservices. Thanks T.C.\u001b[0m\n",
      " 68%|██████▊   | 903/1328 [05:53<03:08,  2.26it/s]\u001b[33mWARNING [bioservices:keggparser:119]: \u001b[0m \u001b[34mFound keyword SYMBOL, which has not special\n",
      "    parsing for now. please report this issue with the KEGG \n",
      "    identifier (6608              CDS       T01001) into github.com/bioservices. Thanks T.C.\u001b[0m\n",
      " 68%|██████▊   | 904/1328 [05:54<02:38,  2.68it/s]\u001b[33mWARNING [bioservices:keggparser:119]: \u001b[0m \u001b[34mFound keyword SYMBOL, which has not special\n",
      "    parsing for now. please report this issue with the KEGG \n",
      "    identifier (5925              CDS       T01001) into github.com/bioservices. Thanks T.C.\u001b[0m\n",
      " 68%|██████▊   | 905/1328 [05:54<02:45,  2.55it/s]\u001b[33mWARNING [bioservices:keggparser:119]: \u001b[0m \u001b[34mFound keyword SYMBOL, which has not special\n",
      "    parsing for now. please report this issue with the KEGG \n",
      "    identifier (6098              CDS       T01001) into github.com/bioservices. Thanks T.C.\u001b[0m\n",
      " 68%|██████▊   | 906/1328 [05:54<02:19,  3.02it/s]"
     ]
    },
    {
     "name": "stdout",
     "output_type": "stream",
     "text": [
      "no data for  ROS1\n"
     ]
    },
    {
     "name": "stderr",
     "output_type": "stream",
     "text": [
      "\u001b[33mWARNING [bioservices:keggparser:119]: \u001b[0m \u001b[34mFound keyword SYMBOL, which has not special\n",
      "    parsing for now. please report this issue with the KEGG \n",
      "    identifier (675               CDS       T01001) into github.com/bioservices. Thanks T.C.\u001b[0m\n",
      " 68%|██████▊   | 907/1328 [05:55<03:01,  2.32it/s]\u001b[33mWARNING [bioservices:keggparser:119]: \u001b[0m \u001b[34mFound keyword SYMBOL, which has not special\n",
      "    parsing for now. please report this issue with the KEGG \n",
      "    identifier (2322              CDS       T01001) into github.com/bioservices. Thanks T.C.\u001b[0m\n",
      " 68%|██████▊   | 908/1328 [05:55<02:37,  2.66it/s]\u001b[33mWARNING [bioservices:keggparser:119]: \u001b[0m \u001b[34mFound keyword SYMBOL, which has not special\n",
      "    parsing for now. please report this issue with the KEGG \n",
      "    identifier (672               CDS       T01001) into github.com/bioservices. Thanks T.C.\u001b[0m\n",
      " 68%|██████▊   | 909/1328 [05:55<02:32,  2.75it/s]\u001b[33mWARNING [bioservices:keggparser:119]: \u001b[0m \u001b[34mFound keyword SYMBOL, which has not special\n",
      "    parsing for now. please report this issue with the KEGG \n",
      "    identifier (673               CDS       T01001) into github.com/bioservices. Thanks T.C.\u001b[0m\n",
      " 69%|██████▊   | 910/1328 [05:56<02:56,  2.37it/s]\u001b[33mWARNING [bioservices:keggparser:119]: \u001b[0m \u001b[34mFound keyword SYMBOL, which has not special\n",
      "    parsing for now. please report this issue with the KEGG \n",
      "    identifier (238               CDS       T01001) into github.com/bioservices. Thanks T.C.\u001b[0m\n",
      " 69%|██████▊   | 911/1328 [05:56<02:30,  2.78it/s]\u001b[33mWARNING [bioservices:keggparser:119]: \u001b[0m \u001b[34mFound keyword SYMBOL, which has not special\n",
      "    parsing for now. please report this issue with the KEGG \n",
      "    identifier (5292              CDS       T01001) into github.com/bioservices. Thanks T.C.\u001b[0m\n",
      " 69%|██████▊   | 912/1328 [05:57<02:28,  2.81it/s]\u001b[33mWARNING [bioservices:keggparser:119]: \u001b[0m \u001b[34mFound keyword SYMBOL, which has not special\n",
      "    parsing for now. please report this issue with the KEGG \n",
      "    identifier (2261              CDS       T01001) into github.com/bioservices. Thanks T.C.\u001b[0m\n",
      " 69%|██████▉   | 913/1328 [05:57<02:16,  3.04it/s]\u001b[33mWARNING [bioservices:keggparser:119]: \u001b[0m \u001b[34mFound keyword SYMBOL, which has not special\n",
      "    parsing for now. please report this issue with the KEGG \n",
      "    identifier (5290              CDS       T01001) into github.com/bioservices. Thanks T.C.\u001b[0m\n",
      " 69%|██████▉   | 914/1328 [05:58<03:29,  1.98it/s]\u001b[33mWARNING [bioservices:keggparser:119]: \u001b[0m \u001b[34mFound keyword SYMBOL, which has not special\n",
      "    parsing for now. please report this issue with the KEGG \n",
      "    identifier (4233              CDS       T01001) into github.com/bioservices. Thanks T.C.\u001b[0m\n",
      " 69%|██████▉   | 915/1328 [05:58<03:02,  2.27it/s]\u001b[33mWARNING [bioservices:keggparser:119]: \u001b[0m \u001b[34mFound keyword SYMBOL, which has not special\n",
      "    parsing for now. please report this issue with the KEGG \n",
      "    identifier (23451             CDS       T01001) into github.com/bioservices. Thanks T.C.\u001b[0m\n",
      " 69%|██████▉   | 916/1328 [05:58<02:36,  2.63it/s]\u001b[33mWARNING [bioservices:keggparser:119]: \u001b[0m \u001b[34mFound keyword SYMBOL, which has not special\n",
      "    parsing for now. please report this issue with the KEGG \n",
      "    identifier (3815              CDS       T01001) into github.com/bioservices. Thanks T.C.\u001b[0m\n",
      " 69%|██████▉   | 917/1328 [05:59<02:33,  2.68it/s]\u001b[33mWARNING [bioservices:keggparser:119]: \u001b[0m \u001b[34mFound keyword SYMBOL, which has not special\n",
      "    parsing for now. please report this issue with the KEGG \n",
      "    identifier (5290              CDS       T01001) into github.com/bioservices. Thanks T.C.\u001b[0m\n",
      " 69%|██████▉   | 918/1328 [05:59<03:31,  1.94it/s]\u001b[33mWARNING [bioservices:keggparser:119]: \u001b[0m \u001b[34mFound keyword SYMBOL, which has not special\n",
      "    parsing for now. please report this issue with the KEGG \n",
      "    identifier (3265              CDS       T01001) into github.com/bioservices. Thanks T.C.\u001b[0m\n",
      " 69%|██████▉   | 919/1328 [06:00<03:58,  1.71it/s]\u001b[33mWARNING [bioservices:keggparser:119]: \u001b[0m \u001b[34mFound keyword SYMBOL, which has not special\n",
      "    parsing for now. please report this issue with the KEGG \n",
      "    identifier (5728              CDS       T01001) into github.com/bioservices. Thanks T.C.\u001b[0m\n",
      " 69%|██████▉   | 920/1328 [06:00<03:24,  2.00it/s]\u001b[33mWARNING [bioservices:keggparser:119]: \u001b[0m \u001b[34mFound keyword SYMBOL, which has not special\n",
      "    parsing for now. please report this issue with the KEGG \n",
      "    identifier (4771              CDS       T01001) into github.com/bioservices. Thanks T.C.\u001b[0m\n",
      " 69%|██████▉   | 921/1328 [06:01<02:52,  2.36it/s]\u001b[33mWARNING [bioservices:keggparser:119]: \u001b[0m \u001b[34mFound keyword SYMBOL, which has not special\n",
      "    parsing for now. please report this issue with the KEGG \n",
      "    identifier (7015              CDS       T01001) into github.com/bioservices. Thanks T.C.\u001b[0m\n",
      " 69%|██████▉   | 922/1328 [06:01<02:38,  2.55it/s]\u001b[33mWARNING [bioservices:keggparser:119]: \u001b[0m \u001b[34mFound keyword SYMBOL, which has not special\n",
      "    parsing for now. please report this issue with the KEGG \n",
      "    identifier (5395              CDS       T01001) into github.com/bioservices. Thanks T.C.\u001b[0m\n",
      " 70%|██████▉   | 923/1328 [06:01<02:21,  2.85it/s]\u001b[33mWARNING [bioservices:keggparser:119]: \u001b[0m \u001b[34mFound keyword SYMBOL, which has not special\n",
      "    parsing for now. please report this issue with the KEGG \n",
      "    identifier (3716              CDS       T01001) into github.com/bioservices. Thanks T.C.\u001b[0m\n",
      " 70%|██████▉   | 924/1328 [06:02<02:28,  2.73it/s]\u001b[33mWARNING [bioservices:keggparser:119]: \u001b[0m \u001b[34mFound keyword SYMBOL, which has not special\n",
      "    parsing for now. please report this issue with the KEGG \n",
      "    identifier (6098              CDS       T01001) into github.com/bioservices. Thanks T.C.\u001b[0m\n",
      " 70%|██████▉   | 925/1328 [06:02<02:05,  3.22it/s]"
     ]
    },
    {
     "name": "stdout",
     "output_type": "stream",
     "text": [
      "no data for  ROS1\n"
     ]
    },
    {
     "name": "stderr",
     "output_type": "stream",
     "text": [
      "\u001b[33mWARNING [bioservices:keggparser:119]: \u001b[0m \u001b[34mFound keyword SYMBOL, which has not special\n",
      "    parsing for now. please report this issue with the KEGG \n",
      "    identifier (4089              CDS       T01001) into github.com/bioservices. Thanks T.C.\u001b[0m\n",
      " 70%|██████▉   | 926/1328 [06:02<02:21,  2.85it/s]\u001b[33mWARNING [bioservices:keggparser:119]: \u001b[0m \u001b[34mFound keyword SYMBOL, which has not special\n",
      "    parsing for now. please report this issue with the KEGG \n",
      "    identifier (5159              CDS       T01001) into github.com/bioservices. Thanks T.C.\u001b[0m\n",
      " 70%|██████▉   | 927/1328 [06:03<02:12,  3.03it/s]\u001b[33mWARNING [bioservices:keggparser:119]: \u001b[0m \u001b[34mFound keyword SYMBOL, which has not special\n",
      "    parsing for now. please report this issue with the KEGG \n",
      "    identifier (1956              CDS       T01001) into github.com/bioservices. Thanks T.C.\u001b[0m\n",
      " 70%|██████▉   | 928/1328 [06:03<02:48,  2.38it/s]\u001b[33mWARNING [bioservices:keggparser:119]: \u001b[0m \u001b[34mFound keyword SYMBOL, which has not special\n",
      "    parsing for now. please report this issue with the KEGG \n",
      "    identifier (2064              CDS       T01001) into github.com/bioservices. Thanks T.C.\u001b[0m\n",
      " 70%|██████▉   | 929/1328 [06:04<02:33,  2.60it/s]\u001b[33mWARNING [bioservices:keggparser:119]: \u001b[0m \u001b[34mFound keyword SYMBOL, which has not special\n",
      "    parsing for now. please report this issue with the KEGG \n",
      "    identifier (896               CDS       T01001) into github.com/bioservices. Thanks T.C.\u001b[0m\n",
      " 70%|███████   | 930/1328 [06:04<02:27,  2.70it/s]\u001b[33mWARNING [bioservices:keggparser:119]: \u001b[0m \u001b[34mFound keyword SYMBOL, which has not special\n",
      "    parsing for now. please report this issue with the KEGG \n",
      "    identifier (5728              CDS       T01001) into github.com/bioservices. Thanks T.C.\u001b[0m\n",
      " 70%|███████   | 931/1328 [06:04<02:23,  2.77it/s]\u001b[33mWARNING [bioservices:keggparser:119]: \u001b[0m \u001b[34mFound keyword SYMBOL, which has not special\n",
      "    parsing for now. please report this issue with the KEGG \n",
      "    identifier (675               CDS       T01001) into github.com/bioservices. Thanks T.C.\u001b[0m\n",
      " 70%|███████   | 932/1328 [06:05<02:23,  2.75it/s]\u001b[33mWARNING [bioservices:keggparser:119]: \u001b[0m \u001b[34mFound keyword SYMBOL, which has not special\n",
      "    parsing for now. please report this issue with the KEGG \n",
      "    identifier (675               CDS       T01001) into github.com/bioservices. Thanks T.C.\u001b[0m\n",
      " 70%|███████   | 933/1328 [06:05<02:23,  2.75it/s]\u001b[33mWARNING [bioservices:keggparser:119]: \u001b[0m \u001b[34mFound keyword SYMBOL, which has not special\n",
      "    parsing for now. please report this issue with the KEGG \n",
      "    identifier (51755             CDS       T01001) into github.com/bioservices. Thanks T.C.\u001b[0m\n",
      " 70%|███████   | 934/1328 [06:05<02:02,  3.22it/s]"
     ]
    },
    {
     "name": "stdout",
     "output_type": "stream",
     "text": [
      "no data for  CDK12\n"
     ]
    },
    {
     "name": "stderr",
     "output_type": "stream",
     "text": [
      "\u001b[33mWARNING [bioservices:keggparser:119]: \u001b[0m \u001b[34mFound keyword SYMBOL, which has not special\n",
      "    parsing for now. please report this issue with the KEGG \n",
      "    identifier (2261              CDS       T01001) into github.com/bioservices. Thanks T.C.\u001b[0m\n",
      " 70%|███████   | 935/1328 [06:06<02:15,  2.90it/s]\u001b[33mWARNING [bioservices:keggparser:119]: \u001b[0m \u001b[34mFound keyword SYMBOL, which has not special\n",
      "    parsing for now. please report this issue with the KEGG \n",
      "    identifier (675               CDS       T01001) into github.com/bioservices. Thanks T.C.\u001b[0m\n",
      " 70%|███████   | 936/1328 [06:06<02:16,  2.87it/s]\u001b[33mWARNING [bioservices:keggparser:119]: \u001b[0m \u001b[34mFound keyword SYMBOL, which has not special\n",
      "    parsing for now. please report this issue with the KEGG \n",
      "    identifier (6098              CDS       T01001) into github.com/bioservices. Thanks T.C.\u001b[0m\n",
      " 71%|███████   | 937/1328 [06:06<01:58,  3.31it/s]"
     ]
    },
    {
     "name": "stdout",
     "output_type": "stream",
     "text": [
      "no data for  ROS1\n"
     ]
    },
    {
     "name": "stderr",
     "output_type": "stream",
     "text": [
      "\u001b[33mWARNING [bioservices:keggparser:119]: \u001b[0m \u001b[34mFound keyword SYMBOL, which has not special\n",
      "    parsing for now. please report this issue with the KEGG \n",
      "    identifier (7157              CDS       T01001) into github.com/bioservices. Thanks T.C.\u001b[0m\n",
      " 71%|███████   | 938/1328 [06:07<02:31,  2.58it/s]\u001b[33mWARNING [bioservices:keggparser:119]: \u001b[0m \u001b[34mFound keyword SYMBOL, which has not special\n",
      "    parsing for now. please report this issue with the KEGG \n",
      "    identifier (841               CDS       T01001) into github.com/bioservices. Thanks T.C.\u001b[0m\n",
      " 71%|███████   | 939/1328 [06:07<02:26,  2.65it/s]\u001b[33mWARNING [bioservices:keggparser:119]: \u001b[0m \u001b[34mFound keyword SYMBOL, which has not special\n",
      "    parsing for now. please report this issue with the KEGG \n",
      "    identifier (675               CDS       T01001) into github.com/bioservices. Thanks T.C.\u001b[0m\n",
      " 71%|███████   | 940/1328 [06:07<02:24,  2.68it/s]\u001b[33mWARNING [bioservices:keggparser:119]: \u001b[0m \u001b[34mFound keyword SYMBOL, which has not special\n",
      "    parsing for now. please report this issue with the KEGG \n",
      "    identifier (672               CDS       T01001) into github.com/bioservices. Thanks T.C.\u001b[0m\n",
      " 71%|███████   | 941/1328 [06:08<02:07,  3.04it/s]\u001b[33mWARNING [bioservices:keggparser:119]: \u001b[0m \u001b[34mFound keyword SYMBOL, which has not special\n",
      "    parsing for now. please report this issue with the KEGG \n",
      "    identifier (7157              CDS       T01001) into github.com/bioservices. Thanks T.C.\u001b[0m\n",
      " 71%|███████   | 942/1328 [06:08<02:32,  2.54it/s]\u001b[33mWARNING [bioservices:keggparser:119]: \u001b[0m \u001b[34mFound keyword SYMBOL, which has not special\n",
      "    parsing for now. please report this issue with the KEGG \n",
      "    identifier (1956              CDS       T01001) into github.com/bioservices. Thanks T.C.\u001b[0m\n",
      " 71%|███████   | 943/1328 [06:09<02:51,  2.25it/s]\u001b[33mWARNING [bioservices:keggparser:119]: \u001b[0m \u001b[34mFound keyword SYMBOL, which has not special\n",
      "    parsing for now. please report this issue with the KEGG \n",
      "    identifier (7249              CDS       T01001) into github.com/bioservices. Thanks T.C.\u001b[0m\n",
      " 71%|███████   | 944/1328 [06:09<02:30,  2.56it/s]\u001b[33mWARNING [bioservices:keggparser:119]: \u001b[0m \u001b[34mFound keyword SYMBOL, which has not special\n",
      "    parsing for now. please report this issue with the KEGG \n",
      "    identifier (367               CDS       T01001) into github.com/bioservices. Thanks T.C.\u001b[0m\n",
      " 71%|███████   | 945/1328 [06:09<02:17,  2.78it/s]\u001b[33mWARNING [bioservices:keggparser:119]: \u001b[0m \u001b[34mFound keyword SYMBOL, which has not special\n",
      "    parsing for now. please report this issue with the KEGG \n",
      "    identifier (5925              CDS       T01001) into github.com/bioservices. Thanks T.C.\u001b[0m\n",
      " 71%|███████   | 946/1328 [06:10<02:18,  2.76it/s]\u001b[33mWARNING [bioservices:keggparser:119]: \u001b[0m \u001b[34mFound keyword SYMBOL, which has not special\n",
      "    parsing for now. please report this issue with the KEGG \n",
      "    identifier (2099              CDS       T01001) into github.com/bioservices. Thanks T.C.\u001b[0m\n",
      " 71%|███████▏  | 947/1328 [06:10<02:02,  3.10it/s]\u001b[33mWARNING [bioservices:keggparser:119]: \u001b[0m \u001b[34mFound keyword SYMBOL, which has not special\n",
      "    parsing for now. please report this issue with the KEGG \n",
      "    identifier (4292              CDS       T01001) into github.com/bioservices. Thanks T.C.\u001b[0m\n",
      " 71%|███████▏  | 948/1328 [06:10<02:05,  3.02it/s]\u001b[33mWARNING [bioservices:keggparser:119]: \u001b[0m \u001b[34mFound keyword SYMBOL, which has not special\n",
      "    parsing for now. please report this issue with the KEGG \n",
      "    identifier (896               CDS       T01001) into github.com/bioservices. Thanks T.C.\u001b[0m\n",
      " 71%|███████▏  | 949/1328 [06:11<01:58,  3.19it/s]\u001b[33mWARNING [bioservices:keggparser:119]: \u001b[0m \u001b[34mFound keyword SYMBOL, which has not special\n",
      "    parsing for now. please report this issue with the KEGG \n",
      "    identifier (2322              CDS       T01001) into github.com/bioservices. Thanks T.C.\u001b[0m\n",
      " 72%|███████▏  | 950/1328 [06:11<01:59,  3.18it/s]\u001b[33mWARNING [bioservices:keggparser:119]: \u001b[0m \u001b[34mFound keyword SYMBOL, which has not special\n",
      "    parsing for now. please report this issue with the KEGG \n",
      "    identifier (1956              CDS       T01001) into github.com/bioservices. Thanks T.C.\u001b[0m\n",
      " 72%|███████▏  | 951/1328 [06:11<02:29,  2.52it/s]\u001b[33mWARNING [bioservices:keggparser:119]: \u001b[0m \u001b[34mFound keyword SYMBOL, which has not special\n",
      "    parsing for now. please report this issue with the KEGG \n",
      "    identifier (1956              CDS       T01001) into github.com/bioservices. Thanks T.C.\u001b[0m\n",
      " 72%|███████▏  | 952/1328 [06:12<02:48,  2.23it/s]\u001b[33mWARNING [bioservices:keggparser:119]: \u001b[0m \u001b[34mFound keyword SYMBOL, which has not special\n",
      "    parsing for now. please report this issue with the KEGG \n",
      "    identifier (675               CDS       T01001) into github.com/bioservices. Thanks T.C.\u001b[0m\n",
      " 72%|███████▏  | 953/1328 [06:12<02:39,  2.35it/s]\u001b[33mWARNING [bioservices:keggparser:119]: \u001b[0m \u001b[34mFound keyword SYMBOL, which has not special\n",
      "    parsing for now. please report this issue with the KEGG \n",
      "    identifier (7157              CDS       T01001) into github.com/bioservices. Thanks T.C.\u001b[0m\n",
      " 72%|███████▏  | 954/1328 [06:13<02:44,  2.27it/s]\u001b[33mWARNING [bioservices:keggparser:119]: \u001b[0m \u001b[34mFound keyword SYMBOL, which has not special\n",
      "    parsing for now. please report this issue with the KEGG \n",
      "    identifier (7157              CDS       T01001) into github.com/bioservices. Thanks T.C.\u001b[0m\n",
      " 72%|███████▏  | 955/1328 [06:13<02:46,  2.24it/s]\u001b[33mWARNING [bioservices:keggparser:119]: \u001b[0m \u001b[34mFound keyword SYMBOL, which has not special\n",
      "    parsing for now. please report this issue with the KEGG \n",
      "    identifier (6098              CDS       T01001) into github.com/bioservices. Thanks T.C.\u001b[0m\n",
      " 72%|███████▏  | 956/1328 [06:13<02:17,  2.71it/s]"
     ]
    },
    {
     "name": "stdout",
     "output_type": "stream",
     "text": [
      "no data for  ROS1\n"
     ]
    },
    {
     "name": "stderr",
     "output_type": "stream",
     "text": [
      "\u001b[33mWARNING [bioservices:keggparser:119]: \u001b[0m \u001b[34mFound keyword SYMBOL, which has not special\n",
      "    parsing for now. please report this issue with the KEGG \n",
      "    identifier (4233              CDS       T01001) into github.com/bioservices. Thanks T.C.\u001b[0m\n",
      " 72%|███████▏  | 957/1328 [06:14<02:26,  2.54it/s]\u001b[33mWARNING [bioservices:keggparser:119]: \u001b[0m \u001b[34mFound keyword SYMBOL, which has not special\n",
      "    parsing for now. please report this issue with the KEGG \n",
      "    identifier (673               CDS       T01001) into github.com/bioservices. Thanks T.C.\u001b[0m\n",
      " 72%|███████▏  | 958/1328 [06:14<02:43,  2.26it/s]\u001b[33mWARNING [bioservices:keggparser:119]: \u001b[0m \u001b[34mFound keyword SYMBOL, which has not special\n",
      "    parsing for now. please report this issue with the KEGG \n",
      "    identifier (2064              CDS       T01001) into github.com/bioservices. Thanks T.C.\u001b[0m\n",
      " 72%|███████▏  | 959/1328 [06:15<02:27,  2.51it/s]\u001b[33mWARNING [bioservices:keggparser:119]: \u001b[0m \u001b[34mFound keyword SYMBOL, which has not special\n",
      "    parsing for now. please report this issue with the KEGG \n",
      "    identifier (1956              CDS       T01001) into github.com/bioservices. Thanks T.C.\u001b[0m\n",
      " 72%|███████▏  | 960/1328 [06:15<02:48,  2.18it/s]\u001b[33mWARNING [bioservices:keggparser:119]: \u001b[0m \u001b[34mFound keyword SYMBOL, which has not special\n",
      "    parsing for now. please report this issue with the KEGG \n",
      "    identifier (3815              CDS       T01001) into github.com/bioservices. Thanks T.C.\u001b[0m\n",
      " 72%|███████▏  | 961/1328 [06:16<02:24,  2.53it/s]\u001b[33mWARNING [bioservices:keggparser:119]: \u001b[0m \u001b[34mFound keyword SYMBOL, which has not special\n",
      "    parsing for now. please report this issue with the KEGG \n",
      "    identifier (1956              CDS       T01001) into github.com/bioservices. Thanks T.C.\u001b[0m\n",
      " 72%|███████▏  | 962/1328 [06:16<02:53,  2.11it/s]\u001b[33mWARNING [bioservices:keggparser:119]: \u001b[0m \u001b[34mFound keyword SYMBOL, which has not special\n",
      "    parsing for now. please report this issue with the KEGG \n",
      "    identifier (1788              CDS       T01001) into github.com/bioservices. Thanks T.C.\u001b[0m\n",
      " 73%|███████▎  | 963/1328 [06:16<02:22,  2.56it/s]\u001b[33mWARNING [bioservices:keggparser:119]: \u001b[0m \u001b[34mFound keyword SYMBOL, which has not special\n",
      "    parsing for now. please report this issue with the KEGG \n",
      "    identifier (4893              CDS       T01001) into github.com/bioservices. Thanks T.C.\u001b[0m\n",
      " 73%|███████▎  | 964/1328 [06:17<03:14,  1.87it/s]\u001b[33mWARNING [bioservices:keggparser:119]: \u001b[0m \u001b[34mFound keyword SYMBOL, which has not special\n",
      "    parsing for now. please report this issue with the KEGG \n",
      "    identifier (3815              CDS       T01001) into github.com/bioservices. Thanks T.C.\u001b[0m\n",
      " 73%|███████▎  | 965/1328 [06:18<02:43,  2.22it/s]\u001b[33mWARNING [bioservices:keggparser:119]: \u001b[0m \u001b[34mFound keyword SYMBOL, which has not special\n",
      "    parsing for now. please report this issue with the KEGG \n",
      "    identifier (4771              CDS       T01001) into github.com/bioservices. Thanks T.C.\u001b[0m\n",
      " 73%|███████▎  | 966/1328 [06:18<02:28,  2.44it/s]\u001b[33mWARNING [bioservices:keggparser:119]: \u001b[0m \u001b[34mFound keyword SYMBOL, which has not special\n",
      "    parsing for now. please report this issue with the KEGG \n",
      "    identifier (672               CDS       T01001) into github.com/bioservices. Thanks T.C.\u001b[0m\n",
      " 73%|███████▎  | 967/1328 [06:18<02:11,  2.74it/s]\u001b[33mWARNING [bioservices:keggparser:119]: \u001b[0m \u001b[34mFound keyword SYMBOL, which has not special\n",
      "    parsing for now. please report this issue with the KEGG \n",
      "    identifier (2064              CDS       T01001) into github.com/bioservices. Thanks T.C.\u001b[0m\n",
      " 73%|███████▎  | 968/1328 [06:19<02:14,  2.68it/s]\u001b[33mWARNING [bioservices:keggparser:119]: \u001b[0m \u001b[34mFound keyword SYMBOL, which has not special\n",
      "    parsing for now. please report this issue with the KEGG \n",
      "    identifier (7113              CDS       T01001) into github.com/bioservices. Thanks T.C.\u001b[0m\n",
      " 73%|███████▎  | 969/1328 [06:19<01:56,  3.09it/s]\u001b[33mWARNING [bioservices:keggparser:119]: \u001b[0m \u001b[34mFound keyword SYMBOL, which has not special\n",
      "    parsing for now. please report this issue with the KEGG \n",
      "    identifier (8241              CDS       T01001) into github.com/bioservices. Thanks T.C.\u001b[0m\n",
      " 73%|███████▎  | 970/1328 [06:19<01:55,  3.09it/s]"
     ]
    },
    {
     "name": "stdout",
     "output_type": "stream",
     "text": [
      "no data for  RBM10\n"
     ]
    },
    {
     "name": "stderr",
     "output_type": "stream",
     "text": [
      "\u001b[33mWARNING [bioservices:keggparser:119]: \u001b[0m \u001b[34mFound keyword SYMBOL, which has not special\n",
      "    parsing for now. please report this issue with the KEGG \n",
      "    identifier (5293              CDS       T01001) into github.com/bioservices. Thanks T.C.\u001b[0m\n",
      " 73%|███████▎  | 971/1328 [06:20<02:56,  2.02it/s]\u001b[33mWARNING [bioservices:keggparser:119]: \u001b[0m \u001b[34mFound keyword SYMBOL, which has not special\n",
      "    parsing for now. please report this issue with the KEGG \n",
      "    identifier (5728              CDS       T01001) into github.com/bioservices. Thanks T.C.\u001b[0m\n",
      " 73%|███████▎  | 972/1328 [06:20<02:38,  2.24it/s]\u001b[33mWARNING [bioservices:keggparser:119]: \u001b[0m \u001b[34mFound keyword SYMBOL, which has not special\n",
      "    parsing for now. please report this issue with the KEGG \n",
      "    identifier (26524             CDS       T01001) into github.com/bioservices. Thanks T.C.\u001b[0m\n",
      " 73%|███████▎  | 973/1328 [06:21<02:14,  2.63it/s]\u001b[33mWARNING [bioservices:keggparser:119]: \u001b[0m \u001b[34mFound keyword SYMBOL, which has not special\n",
      "    parsing for now. please report this issue with the KEGG \n",
      "    identifier (5728              CDS       T01001) into github.com/bioservices. Thanks T.C.\u001b[0m\n",
      " 73%|███████▎  | 974/1328 [06:21<02:20,  2.52it/s]\u001b[33mWARNING [bioservices:keggparser:119]: \u001b[0m \u001b[34mFound keyword SYMBOL, which has not special\n",
      "    parsing for now. please report this issue with the KEGG \n",
      "    identifier (4763              CDS       T01001) into github.com/bioservices. Thanks T.C.\u001b[0m\n",
      " 73%|███████▎  | 975/1328 [06:21<02:00,  2.93it/s]\u001b[33mWARNING [bioservices:keggparser:119]: \u001b[0m \u001b[34mFound keyword SYMBOL, which has not special\n",
      "    parsing for now. please report this issue with the KEGG \n",
      "    identifier (558               CDS       T01001) into github.com/bioservices. Thanks T.C.\u001b[0m\n",
      " 73%|███████▎  | 976/1328 [06:22<01:59,  2.95it/s]\u001b[33mWARNING [bioservices:keggparser:119]: \u001b[0m \u001b[34mFound keyword SYMBOL, which has not special\n",
      "    parsing for now. please report this issue with the KEGG \n",
      "    identifier (9817              CDS       T01001) into github.com/bioservices. Thanks T.C.\u001b[0m\n",
      " 74%|███████▎  | 977/1328 [06:22<01:48,  3.23it/s]\u001b[33mWARNING [bioservices:keggparser:119]: \u001b[0m \u001b[34mFound keyword SYMBOL, which has not special\n",
      "    parsing for now. please report this issue with the KEGG \n",
      "    identifier (672               CDS       T01001) into github.com/bioservices. Thanks T.C.\u001b[0m\n",
      " 74%|███████▎  | 978/1328 [06:22<01:51,  3.14it/s]\u001b[33mWARNING [bioservices:keggparser:119]: \u001b[0m \u001b[34mFound keyword SYMBOL, which has not special\n",
      "    parsing for now. please report this issue with the KEGG \n",
      "    identifier (55294             CDS       T01001) into github.com/bioservices. Thanks T.C.\u001b[0m\n",
      " 74%|███████▎  | 979/1328 [06:22<01:39,  3.50it/s]\u001b[33mWARNING [bioservices:keggparser:119]: \u001b[0m \u001b[34mFound keyword SYMBOL, which has not special\n",
      "    parsing for now. please report this issue with the KEGG \n",
      "    identifier (5395              CDS       T01001) into github.com/bioservices. Thanks T.C.\u001b[0m\n",
      " 74%|███████▍  | 980/1328 [06:23<01:47,  3.24it/s]\u001b[33mWARNING [bioservices:keggparser:119]: \u001b[0m \u001b[34mFound keyword SYMBOL, which has not special\n",
      "    parsing for now. please report this issue with the KEGG \n",
      "    identifier (238               CDS       T01001) into github.com/bioservices. Thanks T.C.\u001b[0m\n",
      " 74%|███████▍  | 981/1328 [06:23<01:37,  3.56it/s]\u001b[33mWARNING [bioservices:keggparser:119]: \u001b[0m \u001b[34mFound keyword SYMBOL, which has not special\n",
      "    parsing for now. please report this issue with the KEGG \n",
      "    identifier (7157              CDS       T01001) into github.com/bioservices. Thanks T.C.\u001b[0m\n",
      " 74%|███████▍  | 982/1328 [06:24<02:10,  2.66it/s]\u001b[33mWARNING [bioservices:keggparser:119]: \u001b[0m \u001b[34mFound keyword SYMBOL, which has not special\n",
      "    parsing for now. please report this issue with the KEGG \n",
      "    identifier (1956              CDS       T01001) into github.com/bioservices. Thanks T.C.\u001b[0m\n",
      " 74%|███████▍  | 983/1328 [06:24<02:29,  2.30it/s]\u001b[33mWARNING [bioservices:keggparser:119]: \u001b[0m \u001b[34mFound keyword SYMBOL, which has not special\n",
      "    parsing for now. please report this issue with the KEGG \n",
      "    identifier (4233              CDS       T01001) into github.com/bioservices. Thanks T.C.\u001b[0m\n",
      " 74%|███████▍  | 984/1328 [06:24<02:16,  2.52it/s]\u001b[33mWARNING [bioservices:keggparser:119]: \u001b[0m \u001b[34mFound keyword SYMBOL, which has not special\n",
      "    parsing for now. please report this issue with the KEGG \n",
      "    identifier (672               CDS       T01001) into github.com/bioservices. Thanks T.C.\u001b[0m\n",
      " 74%|███████▍  | 985/1328 [06:25<02:03,  2.79it/s]\u001b[33mWARNING [bioservices:keggparser:119]: \u001b[0m \u001b[34mFound keyword SYMBOL, which has not special\n",
      "    parsing for now. please report this issue with the KEGG \n",
      "    identifier (10664             CDS       T01001) into github.com/bioservices. Thanks T.C.\u001b[0m\n",
      " 74%|███████▍  | 986/1328 [06:25<01:52,  3.03it/s]"
     ]
    },
    {
     "name": "stdout",
     "output_type": "stream",
     "text": [
      "no data for  CTCF\n"
     ]
    },
    {
     "name": "stderr",
     "output_type": "stream",
     "text": [
      "\u001b[33mWARNING [bioservices:keggparser:119]: \u001b[0m \u001b[34mFound keyword SYMBOL, which has not special\n",
      "    parsing for now. please report this issue with the KEGG \n",
      "    identifier (5156              CDS       T01001) into github.com/bioservices. Thanks T.C.\u001b[0m\n",
      " 74%|███████▍  | 987/1328 [06:25<01:56,  2.92it/s]\u001b[33mWARNING [bioservices:keggparser:119]: \u001b[0m \u001b[34mFound keyword SYMBOL, which has not special\n",
      "    parsing for now. please report this issue with the KEGG \n",
      "    identifier (2099              CDS       T01001) into github.com/bioservices. Thanks T.C.\u001b[0m\n",
      " 74%|███████▍  | 988/1328 [06:26<01:45,  3.24it/s]\u001b[33mWARNING [bioservices:keggparser:119]: \u001b[0m \u001b[34mFound keyword SYMBOL, which has not special\n",
      "    parsing for now. please report this issue with the KEGG \n",
      "    identifier (4851              CDS       T01001) into github.com/bioservices. Thanks T.C.\u001b[0m\n",
      " 74%|███████▍  | 989/1328 [06:26<01:49,  3.09it/s]\u001b[33mWARNING [bioservices:keggparser:119]: \u001b[0m \u001b[34mFound keyword SYMBOL, which has not special\n",
      "    parsing for now. please report this issue with the KEGG \n",
      "    identifier (2475              CDS       T01001) into github.com/bioservices. Thanks T.C.\u001b[0m\n",
      " 75%|███████▍  | 990/1328 [06:27<02:32,  2.21it/s]\u001b[33mWARNING [bioservices:keggparser:119]: \u001b[0m \u001b[34mFound keyword SYMBOL, which has not special\n",
      "    parsing for now. please report this issue with the KEGG \n",
      "    identifier (3815              CDS       T01001) into github.com/bioservices. Thanks T.C.\u001b[0m\n",
      " 75%|███████▍  | 991/1328 [06:27<02:12,  2.55it/s]\u001b[33mWARNING [bioservices:keggparser:119]: \u001b[0m \u001b[34mFound keyword SYMBOL, which has not special\n",
      "    parsing for now. please report this issue with the KEGG \n",
      "    identifier (595               CDS       T01001) into github.com/bioservices. Thanks T.C.\u001b[0m\n",
      " 75%|███████▍  | 992/1328 [06:27<02:24,  2.32it/s]\u001b[33mWARNING [bioservices:keggparser:119]: \u001b[0m \u001b[34mFound keyword SYMBOL, which has not special\n",
      "    parsing for now. please report this issue with the KEGG \n",
      "    identifier (673               CDS       T01001) into github.com/bioservices. Thanks T.C.\u001b[0m\n",
      " 75%|███████▍  | 993/1328 [06:28<02:37,  2.13it/s]\u001b[33mWARNING [bioservices:keggparser:119]: \u001b[0m \u001b[34mFound keyword SYMBOL, which has not special\n",
      "    parsing for now. please report this issue with the KEGG \n",
      "    identifier (8821              CDS       T01001) into github.com/bioservices. Thanks T.C.\u001b[0m\n",
      " 75%|███████▍  | 994/1328 [06:28<02:11,  2.54it/s]\u001b[33mWARNING [bioservices:keggparser:119]: \u001b[0m \u001b[34mFound keyword SYMBOL, which has not special\n",
      "    parsing for now. please report this issue with the KEGG \n",
      "    identifier (4089              CDS       T01001) into github.com/bioservices. Thanks T.C.\u001b[0m\n",
      " 75%|███████▍  | 995/1328 [06:29<02:13,  2.50it/s]\u001b[33mWARNING [bioservices:keggparser:119]: \u001b[0m \u001b[34mFound keyword SYMBOL, which has not special\n",
      "    parsing for now. please report this issue with the KEGG \n",
      "    identifier (2120              CDS       T01001) into github.com/bioservices. Thanks T.C.\u001b[0m\n",
      " 75%|███████▌  | 996/1328 [06:29<01:52,  2.95it/s]\u001b[33mWARNING [bioservices:keggparser:119]: \u001b[0m \u001b[34mFound keyword SYMBOL, which has not special\n",
      "    parsing for now. please report this issue with the KEGG \n",
      "    identifier (4436              CDS       T01001) into github.com/bioservices. Thanks T.C.\u001b[0m\n",
      " 75%|███████▌  | 997/1328 [06:29<01:55,  2.88it/s]\u001b[33mWARNING [bioservices:keggparser:119]: \u001b[0m \u001b[34mFound keyword SYMBOL, which has not special\n",
      "    parsing for now. please report this issue with the KEGG \n",
      "    identifier (2072              CDS       T01001) into github.com/bioservices. Thanks T.C.\u001b[0m\n",
      " 75%|███████▌  | 998/1328 [06:29<01:41,  3.24it/s]\u001b[33mWARNING [bioservices:keggparser:119]: \u001b[0m \u001b[34mFound keyword SYMBOL, which has not special\n",
      "    parsing for now. please report this issue with the KEGG \n",
      "    identifier (672               CDS       T01001) into github.com/bioservices. Thanks T.C.\u001b[0m\n",
      " 75%|███████▌  | 999/1328 [06:30<01:48,  3.02it/s]\u001b[33mWARNING [bioservices:keggparser:119]: \u001b[0m \u001b[34mFound keyword SYMBOL, which has not special\n",
      "    parsing for now. please report this issue with the KEGG \n",
      "    identifier (2260              CDS       T01001) into github.com/bioservices. Thanks T.C.\u001b[0m\n",
      " 75%|███████▌  | 1000/1328 [06:30<01:42,  3.20it/s]\u001b[33mWARNING [bioservices:keggparser:119]: \u001b[0m \u001b[34mFound keyword SYMBOL, which has not special\n",
      "    parsing for now. please report this issue with the KEGG \n",
      "    identifier (4609              CDS       T01001) into github.com/bioservices. Thanks T.C.\u001b[0m\n",
      " 75%|███████▌  | 1001/1328 [06:30<01:54,  2.86it/s]\u001b[33mWARNING [bioservices:keggparser:119]: \u001b[0m \u001b[34mFound keyword SYMBOL, which has not special\n",
      "    parsing for now. please report this issue with the KEGG \n",
      "    identifier (3815              CDS       T01001) into github.com/bioservices. Thanks T.C.\u001b[0m\n",
      " 75%|███████▌  | 1002/1328 [06:31<02:14,  2.42it/s]\u001b[33mWARNING [bioservices:keggparser:119]: \u001b[0m \u001b[34mFound keyword SYMBOL, which has not special\n",
      "    parsing for now. please report this issue with the KEGG \n",
      "    identifier (1956              CDS       T01001) into github.com/bioservices. Thanks T.C.\u001b[0m\n",
      " 76%|███████▌  | 1003/1328 [06:32<02:30,  2.15it/s]\u001b[33mWARNING [bioservices:keggparser:119]: \u001b[0m \u001b[34mFound keyword SYMBOL, which has not special\n",
      "    parsing for now. please report this issue with the KEGG \n",
      "    identifier (4087              CDS       T01001) into github.com/bioservices. Thanks T.C.\u001b[0m\n",
      " 76%|███████▌  | 1004/1328 [06:32<02:13,  2.42it/s]\u001b[33mWARNING [bioservices:keggparser:119]: \u001b[0m \u001b[34mFound keyword SYMBOL, which has not special\n",
      "    parsing for now. please report this issue with the KEGG \n",
      "    identifier (5156              CDS       T01001) into github.com/bioservices. Thanks T.C.\u001b[0m\n",
      " 76%|███████▌  | 1005/1328 [06:32<02:07,  2.54it/s]\u001b[33mWARNING [bioservices:keggparser:119]: \u001b[0m \u001b[34mFound keyword SYMBOL, which has not special\n",
      "    parsing for now. please report this issue with the KEGG \n",
      "    identifier (2261              CDS       T01001) into github.com/bioservices. Thanks T.C.\u001b[0m\n",
      " 76%|███████▌  | 1006/1328 [06:33<01:53,  2.83it/s]\u001b[33mWARNING [bioservices:keggparser:119]: \u001b[0m \u001b[34mFound keyword SYMBOL, which has not special\n",
      "    parsing for now. please report this issue with the KEGG \n",
      "    identifier (7157              CDS       T01001) into github.com/bioservices. Thanks T.C.\u001b[0m\n",
      " 76%|███████▌  | 1007/1328 [06:33<02:10,  2.46it/s]\u001b[33mWARNING [bioservices:keggparser:119]: \u001b[0m \u001b[34mFound keyword SYMBOL, which has not special\n",
      "    parsing for now. please report this issue with the KEGG \n",
      "    identifier (5426              CDS       T01001) into github.com/bioservices. Thanks T.C.\u001b[0m\n",
      " 76%|███████▌  | 1008/1328 [06:33<01:52,  2.86it/s]\u001b[33mWARNING [bioservices:keggparser:119]: \u001b[0m \u001b[34mFound keyword SYMBOL, which has not special\n",
      "    parsing for now. please report this issue with the KEGG \n",
      "    identifier (5605              CDS       T01001) into github.com/bioservices. Thanks T.C.\u001b[0m\n",
      " 76%|███████▌  | 1009/1328 [06:34<02:54,  1.83it/s]\u001b[33mWARNING [bioservices:keggparser:119]: \u001b[0m \u001b[34mFound keyword SYMBOL, which has not special\n",
      "    parsing for now. please report this issue with the KEGG \n",
      "    identifier (1499              CDS       T01001) into github.com/bioservices. Thanks T.C.\u001b[0m\n",
      " 76%|███████▌  | 1010/1328 [06:35<02:35,  2.05it/s]\u001b[33mWARNING [bioservices:keggparser:119]: \u001b[0m \u001b[34mFound keyword SYMBOL, which has not special\n",
      "    parsing for now. please report this issue with the KEGG \n",
      "    identifier (673               CDS       T01001) into github.com/bioservices. Thanks T.C.\u001b[0m\n",
      " 76%|███████▌  | 1011/1328 [06:35<02:41,  1.96it/s]\u001b[33mWARNING [bioservices:keggparser:119]: \u001b[0m \u001b[34mFound keyword SYMBOL, which has not special\n",
      "    parsing for now. please report this issue with the KEGG \n",
      "    identifier (27086             CDS       T01001) into github.com/bioservices. Thanks T.C.\u001b[0m\n",
      " 76%|███████▌  | 1012/1328 [06:35<02:12,  2.39it/s]\u001b[33mWARNING [bioservices:keggparser:119]: \u001b[0m \u001b[34mFound keyword SYMBOL, which has not special\n",
      "    parsing for now. please report this issue with the KEGG \n",
      "    identifier (3845              CDS       T01001) into github.com/bioservices. Thanks T.C.\u001b[0m\n"
     ]
    },
    {
     "name": "stderr",
     "output_type": "stream",
     "text": [
      " 76%|███████▋  | 1013/1328 [06:36<02:54,  1.80it/s]\u001b[33mWARNING [bioservices:keggparser:119]: \u001b[0m \u001b[34mFound keyword SYMBOL, which has not special\n",
      "    parsing for now. please report this issue with the KEGG \n",
      "    identifier (7113              CDS       T01001) into github.com/bioservices. Thanks T.C.\u001b[0m\n",
      " 76%|███████▋  | 1014/1328 [06:36<02:22,  2.20it/s]\u001b[33mWARNING [bioservices:keggparser:119]: \u001b[0m \u001b[34mFound keyword SYMBOL, which has not special\n",
      "    parsing for now. please report this issue with the KEGG \n",
      "    identifier (54790             CDS       T01001) into github.com/bioservices. Thanks T.C.\u001b[0m\n",
      " 76%|███████▋  | 1015/1328 [06:37<02:09,  2.42it/s]"
     ]
    },
    {
     "name": "stdout",
     "output_type": "stream",
     "text": [
      "no data for  TET2\n"
     ]
    },
    {
     "name": "stderr",
     "output_type": "stream",
     "text": [
      "\u001b[33mWARNING [bioservices:keggparser:119]: \u001b[0m \u001b[34mFound keyword SYMBOL, which has not special\n",
      "    parsing for now. please report this issue with the KEGG \n",
      "    identifier (3265              CDS       T01001) into github.com/bioservices. Thanks T.C.\u001b[0m\n",
      " 77%|███████▋  | 1016/1328 [06:38<02:41,  1.94it/s]\u001b[33mWARNING [bioservices:keggparser:119]: \u001b[0m \u001b[34mFound keyword SYMBOL, which has not special\n",
      "    parsing for now. please report this issue with the KEGG \n",
      "    identifier (8241              CDS       T01001) into github.com/bioservices. Thanks T.C.\u001b[0m\n",
      " 77%|███████▋  | 1017/1328 [06:38<02:09,  2.40it/s]"
     ]
    },
    {
     "name": "stdout",
     "output_type": "stream",
     "text": [
      "no data for  RBM10\n"
     ]
    },
    {
     "name": "stderr",
     "output_type": "stream",
     "text": [
      "\u001b[33mWARNING [bioservices:keggparser:119]: \u001b[0m \u001b[34mFound keyword SYMBOL, which has not special\n",
      "    parsing for now. please report this issue with the KEGG \n",
      "    identifier (2099              CDS       T01001) into github.com/bioservices. Thanks T.C.\u001b[0m\n",
      " 77%|███████▋  | 1018/1328 [06:38<02:07,  2.42it/s]\u001b[33mWARNING [bioservices:keggparser:119]: \u001b[0m \u001b[34mFound keyword SYMBOL, which has not special\n",
      "    parsing for now. please report this issue with the KEGG \n",
      "    identifier (672               CDS       T01001) into github.com/bioservices. Thanks T.C.\u001b[0m\n",
      " 77%|███████▋  | 1019/1328 [06:38<01:49,  2.82it/s]\u001b[33mWARNING [bioservices:keggparser:119]: \u001b[0m \u001b[34mFound keyword SYMBOL, which has not special\n",
      "    parsing for now. please report this issue with the KEGG \n",
      "    identifier (4088              CDS       T01001) into github.com/bioservices. Thanks T.C.\u001b[0m\n",
      " 77%|███████▋  | 1020/1328 [06:39<01:56,  2.64it/s]\u001b[33mWARNING [bioservices:keggparser:119]: \u001b[0m \u001b[34mFound keyword SYMBOL, which has not special\n",
      "    parsing for now. please report this issue with the KEGG \n",
      "    identifier (7157              CDS       T01001) into github.com/bioservices. Thanks T.C.\u001b[0m\n",
      " 77%|███████▋  | 1021/1328 [06:39<02:02,  2.51it/s]\u001b[33mWARNING [bioservices:keggparser:119]: \u001b[0m \u001b[34mFound keyword SYMBOL, which has not special\n",
      "    parsing for now. please report this issue with the KEGG \n",
      "    identifier (5156              CDS       T01001) into github.com/bioservices. Thanks T.C.\u001b[0m\n",
      " 77%|███████▋  | 1022/1328 [06:40<01:52,  2.71it/s]\u001b[33mWARNING [bioservices:keggparser:119]: \u001b[0m \u001b[34mFound keyword SYMBOL, which has not special\n",
      "    parsing for now. please report this issue with the KEGG \n",
      "    identifier (5156              CDS       T01001) into github.com/bioservices. Thanks T.C.\u001b[0m\n",
      " 77%|███████▋  | 1023/1328 [06:40<01:50,  2.77it/s]\u001b[33mWARNING [bioservices:keggparser:119]: \u001b[0m \u001b[34mFound keyword SYMBOL, which has not special\n",
      "    parsing for now. please report this issue with the KEGG \n",
      "    identifier (672               CDS       T01001) into github.com/bioservices. Thanks T.C.\u001b[0m\n",
      " 77%|███████▋  | 1024/1328 [06:40<01:37,  3.10it/s]\u001b[33mWARNING [bioservices:keggparser:119]: \u001b[0m \u001b[34mFound keyword SYMBOL, which has not special\n",
      "    parsing for now. please report this issue with the KEGG \n",
      "    identifier (861               CDS       T01001) into github.com/bioservices. Thanks T.C.\u001b[0m\n",
      " 77%|███████▋  | 1025/1328 [06:40<01:40,  3.03it/s]\u001b[33mWARNING [bioservices:keggparser:119]: \u001b[0m \u001b[34mFound keyword SYMBOL, which has not special\n",
      "    parsing for now. please report this issue with the KEGG \n",
      "    identifier (595               CDS       T01001) into github.com/bioservices. Thanks T.C.\u001b[0m\n",
      " 77%|███████▋  | 1026/1328 [06:41<01:49,  2.77it/s]\u001b[33mWARNING [bioservices:keggparser:119]: \u001b[0m \u001b[34mFound keyword SYMBOL, which has not special\n",
      "    parsing for now. please report this issue with the KEGG \n",
      "    identifier (54880             CDS       T01001) into github.com/bioservices. Thanks T.C.\u001b[0m\n",
      " 77%|███████▋  | 1027/1328 [06:41<01:33,  3.23it/s]"
     ]
    },
    {
     "name": "stdout",
     "output_type": "stream",
     "text": [
      "no data for  BCOR\n"
     ]
    },
    {
     "name": "stderr",
     "output_type": "stream",
     "text": [
      "\u001b[33mWARNING [bioservices:keggparser:119]: \u001b[0m \u001b[34mFound keyword SYMBOL, which has not special\n",
      "    parsing for now. please report this issue with the KEGG \n",
      "    identifier (51755             CDS       T01001) into github.com/bioservices. Thanks T.C.\u001b[0m\n",
      " 77%|███████▋  | 1028/1328 [06:41<01:35,  3.14it/s]\u001b[33mWARNING [bioservices:keggparser:119]: \u001b[0m \u001b[34mFound keyword SYMBOL, which has not special\n",
      "    parsing for now. please report this issue with the KEGG \n",
      "    identifier (3717              CDS       T01001) into github.com/bioservices. Thanks T.C.\u001b[0m\n"
     ]
    },
    {
     "name": "stdout",
     "output_type": "stream",
     "text": [
      "no data for  CDK12\n"
     ]
    },
    {
     "name": "stderr",
     "output_type": "stream",
     "text": [
      " 77%|███████▋  | 1029/1328 [06:42<01:36,  3.10it/s]\u001b[33mWARNING [bioservices:keggparser:119]: \u001b[0m \u001b[34mFound keyword SYMBOL, which has not special\n",
      "    parsing for now. please report this issue with the KEGG \n",
      "    identifier (2321              CDS       T01001) into github.com/bioservices. Thanks T.C.\u001b[0m\n",
      " 78%|███████▊  | 1030/1328 [06:42<01:29,  3.31it/s]\u001b[33mWARNING [bioservices:keggparser:119]: \u001b[0m \u001b[34mFound keyword SYMBOL, which has not special\n",
      "    parsing for now. please report this issue with the KEGG \n",
      "    identifier (675               CDS       T01001) into github.com/bioservices. Thanks T.C.\u001b[0m\n",
      " 78%|███████▊  | 1031/1328 [06:42<01:45,  2.82it/s]\u001b[33mWARNING [bioservices:keggparser:119]: \u001b[0m \u001b[34mFound keyword SYMBOL, which has not special\n",
      "    parsing for now. please report this issue with the KEGG \n",
      "    identifier (5979              CDS       T01001) into github.com/bioservices. Thanks T.C.\u001b[0m\n",
      " 78%|███████▊  | 1032/1328 [06:43<01:33,  3.15it/s]\u001b[33mWARNING [bioservices:keggparser:119]: \u001b[0m \u001b[34mFound keyword SYMBOL, which has not special\n",
      "    parsing for now. please report this issue with the KEGG \n",
      "    identifier (3716              CDS       T01001) into github.com/bioservices. Thanks T.C.\u001b[0m\n",
      " 78%|███████▊  | 1033/1328 [06:43<01:46,  2.76it/s]\u001b[33mWARNING [bioservices:keggparser:119]: \u001b[0m \u001b[34mFound keyword SYMBOL, which has not special\n",
      "    parsing for now. please report this issue with the KEGG \n",
      "    identifier (7157              CDS       T01001) into github.com/bioservices. Thanks T.C.\u001b[0m\n",
      " 78%|███████▊  | 1034/1328 [06:44<01:53,  2.58it/s]\u001b[33mWARNING [bioservices:keggparser:119]: \u001b[0m \u001b[34mFound keyword SYMBOL, which has not special\n",
      "    parsing for now. please report this issue with the KEGG \n",
      "    identifier (5290              CDS       T01001) into github.com/bioservices. Thanks T.C.\u001b[0m\n",
      " 78%|███████▊  | 1035/1328 [06:44<02:34,  1.90it/s]\u001b[33mWARNING [bioservices:keggparser:119]: \u001b[0m \u001b[34mFound keyword SYMBOL, which has not special\n",
      "    parsing for now. please report this issue with the KEGG \n",
      "    identifier (675               CDS       T01001) into github.com/bioservices. Thanks T.C.\u001b[0m\n",
      " 78%|███████▊  | 1036/1328 [06:45<02:20,  2.08it/s]\u001b[33mWARNING [bioservices:keggparser:119]: \u001b[0m \u001b[34mFound keyword SYMBOL, which has not special\n",
      "    parsing for now. please report this issue with the KEGG \n",
      "    identifier (5604              CDS       T01001) into github.com/bioservices. Thanks T.C.\u001b[0m\n",
      " 78%|███████▊  | 1037/1328 [06:46<02:46,  1.75it/s]\u001b[33mWARNING [bioservices:keggparser:119]: \u001b[0m \u001b[34mFound keyword SYMBOL, which has not special\n",
      "    parsing for now. please report this issue with the KEGG \n",
      "    identifier (238               CDS       T01001) into github.com/bioservices. Thanks T.C.\u001b[0m\n",
      " 78%|███████▊  | 1038/1328 [06:46<02:15,  2.13it/s]\u001b[33mWARNING [bioservices:keggparser:119]: \u001b[0m \u001b[34mFound keyword SYMBOL, which has not special\n",
      "    parsing for now. please report this issue with the KEGG \n",
      "    identifier (2034              CDS       T01001) into github.com/bioservices. Thanks T.C.\u001b[0m\n",
      " 78%|███████▊  | 1039/1328 [06:46<02:01,  2.37it/s]\u001b[33mWARNING [bioservices:keggparser:119]: \u001b[0m \u001b[34mFound keyword SYMBOL, which has not special\n",
      "    parsing for now. please report this issue with the KEGG \n",
      "    identifier (5290              CDS       T01001) into github.com/bioservices. Thanks T.C.\u001b[0m\n",
      " 78%|███████▊  | 1040/1328 [06:47<02:42,  1.78it/s]\u001b[33mWARNING [bioservices:keggparser:119]: \u001b[0m \u001b[34mFound keyword SYMBOL, which has not special\n",
      "    parsing for now. please report this issue with the KEGG \n",
      "    identifier (9965              CDS       T01001) into github.com/bioservices. Thanks T.C.\u001b[0m\n",
      " 78%|███████▊  | 1041/1328 [06:47<02:14,  2.14it/s]\u001b[33mWARNING [bioservices:keggparser:119]: \u001b[0m \u001b[34mFound keyword SYMBOL, which has not special\n",
      "    parsing for now. please report this issue with the KEGG \n",
      "    identifier (3815              CDS       T01001) into github.com/bioservices. Thanks T.C.\u001b[0m\n",
      " 78%|███████▊  | 1042/1328 [06:48<02:03,  2.31it/s]\u001b[33mWARNING [bioservices:keggparser:119]: \u001b[0m \u001b[34mFound keyword SYMBOL, which has not special\n",
      "    parsing for now. please report this issue with the KEGG \n",
      "    identifier (4780              CDS       T01001) into github.com/bioservices. Thanks T.C.\u001b[0m\n",
      " 79%|███████▊  | 1043/1328 [06:48<01:44,  2.72it/s]\u001b[33mWARNING [bioservices:keggparser:119]: \u001b[0m \u001b[34mFound keyword SYMBOL, which has not special\n",
      "    parsing for now. please report this issue with the KEGG \n",
      "    identifier (196528            CDS       T01001) into github.com/bioservices. Thanks T.C.\u001b[0m\n",
      " 79%|███████▊  | 1044/1328 [06:48<01:41,  2.79it/s]\u001b[33mWARNING [bioservices:keggparser:119]: \u001b[0m \u001b[34mFound keyword SYMBOL, which has not special\n",
      "    parsing for now. please report this issue with the KEGG \n",
      "    identifier (5290              CDS       T01001) into github.com/bioservices. Thanks T.C.\u001b[0m\n",
      " 79%|███████▊  | 1045/1328 [06:49<02:25,  1.95it/s]\u001b[33mWARNING [bioservices:keggparser:119]: \u001b[0m \u001b[34mFound keyword SYMBOL, which has not special\n",
      "    parsing for now. please report this issue with the KEGG \n",
      "    identifier (2064              CDS       T01001) into github.com/bioservices. Thanks T.C.\u001b[0m\n",
      " 79%|███████▉  | 1046/1328 [06:49<02:05,  2.25it/s]\u001b[33mWARNING [bioservices:keggparser:119]: \u001b[0m \u001b[34mFound keyword SYMBOL, which has not special\n",
      "    parsing for now. please report this issue with the KEGG \n",
      "    identifier (5728              CDS       T01001) into github.com/bioservices. Thanks T.C.\u001b[0m\n",
      " 79%|███████▉  | 1047/1328 [06:50<02:00,  2.33it/s]\u001b[33mWARNING [bioservices:keggparser:119]: \u001b[0m \u001b[34mFound keyword SYMBOL, which has not special\n",
      "    parsing for now. please report this issue with the KEGG \n",
      "    identifier (7249              CDS       T01001) into github.com/bioservices. Thanks T.C.\u001b[0m\n",
      " 79%|███████▉  | 1048/1328 [06:50<01:47,  2.62it/s]\u001b[33mWARNING [bioservices:keggparser:119]: \u001b[0m \u001b[34mFound keyword SYMBOL, which has not special\n",
      "    parsing for now. please report this issue with the KEGG \n",
      "    identifier (5879              CDS       T01001) into github.com/bioservices. Thanks T.C.\u001b[0m\n",
      " 79%|███████▉  | 1049/1328 [06:51<01:57,  2.38it/s]\u001b[33mWARNING [bioservices:keggparser:119]: \u001b[0m \u001b[34mFound keyword SYMBOL, which has not special\n",
      "    parsing for now. please report this issue with the KEGG \n",
      "    identifier (5728              CDS       T01001) into github.com/bioservices. Thanks T.C.\u001b[0m\n",
      " 79%|███████▉  | 1050/1328 [06:51<01:50,  2.53it/s]\u001b[33mWARNING [bioservices:keggparser:119]: \u001b[0m \u001b[34mFound keyword SYMBOL, which has not special\n",
      "    parsing for now. please report this issue with the KEGG \n",
      "    identifier (6608              CDS       T01001) into github.com/bioservices. Thanks T.C.\u001b[0m\n",
      " 79%|███████▉  | 1051/1328 [06:51<01:35,  2.90it/s]\u001b[33mWARNING [bioservices:keggparser:119]: \u001b[0m \u001b[34mFound keyword SYMBOL, which has not special\n",
      "    parsing for now. please report this issue with the KEGG \n",
      "    identifier (7157              CDS       T01001) into github.com/bioservices. Thanks T.C.\u001b[0m\n",
      " 79%|███████▉  | 1052/1328 [06:52<01:54,  2.42it/s]\u001b[33mWARNING [bioservices:keggparser:119]: \u001b[0m \u001b[34mFound keyword SYMBOL, which has not special\n",
      "    parsing for now. please report this issue with the KEGG \n",
      "    identifier (5728              CDS       T01001) into github.com/bioservices. Thanks T.C.\u001b[0m\n",
      " 79%|███████▉  | 1053/1328 [06:52<01:46,  2.59it/s]\u001b[33mWARNING [bioservices:keggparser:119]: \u001b[0m \u001b[34mFound keyword SYMBOL, which has not special\n",
      "    parsing for now. please report this issue with the KEGG \n",
      "    identifier (9113              CDS       T01001) into github.com/bioservices. Thanks T.C.\u001b[0m\n",
      " 79%|███████▉  | 1054/1328 [06:52<01:32,  2.96it/s]\u001b[33mWARNING [bioservices:keggparser:119]: \u001b[0m \u001b[34mFound keyword SYMBOL, which has not special\n",
      "    parsing for now. please report this issue with the KEGG \n",
      "    identifier (3815              CDS       T01001) into github.com/bioservices. Thanks T.C.\u001b[0m\n",
      " 79%|███████▉  | 1055/1328 [06:53<01:34,  2.88it/s]\u001b[33mWARNING [bioservices:keggparser:119]: \u001b[0m \u001b[34mFound keyword SYMBOL, which has not special\n",
      "    parsing for now. please report this issue with the KEGG \n",
      "    identifier (1029              CDS       T01001) into github.com/bioservices. Thanks T.C.\u001b[0m\n"
     ]
    },
    {
     "name": "stderr",
     "output_type": "stream",
     "text": [
      " 80%|███████▉  | 1056/1328 [06:53<01:29,  3.04it/s]\u001b[33mWARNING [bioservices:keggparser:119]: \u001b[0m \u001b[34mFound keyword SYMBOL, which has not special\n",
      "    parsing for now. please report this issue with the KEGG \n",
      "    identifier (673               CDS       T01001) into github.com/bioservices. Thanks T.C.\u001b[0m\n",
      " 80%|███████▉  | 1057/1328 [06:54<01:52,  2.41it/s]\u001b[33mWARNING [bioservices:keggparser:119]: \u001b[0m \u001b[34mFound keyword SYMBOL, which has not special\n",
      "    parsing for now. please report this issue with the KEGG \n",
      "    identifier (672               CDS       T01001) into github.com/bioservices. Thanks T.C.\u001b[0m\n",
      " 80%|███████▉  | 1058/1328 [06:54<01:37,  2.77it/s]\u001b[33mWARNING [bioservices:keggparser:119]: \u001b[0m \u001b[34mFound keyword SYMBOL, which has not special\n",
      "    parsing for now. please report this issue with the KEGG \n",
      "    identifier (238               CDS       T01001) into github.com/bioservices. Thanks T.C.\u001b[0m\n",
      " 80%|███████▉  | 1059/1328 [06:54<01:34,  2.85it/s]\u001b[33mWARNING [bioservices:keggparser:119]: \u001b[0m \u001b[34mFound keyword SYMBOL, which has not special\n",
      "    parsing for now. please report this issue with the KEGG \n",
      "    identifier (5728              CDS       T01001) into github.com/bioservices. Thanks T.C.\u001b[0m\n",
      " 80%|███████▉  | 1060/1328 [06:54<01:37,  2.75it/s]\u001b[33mWARNING [bioservices:keggparser:119]: \u001b[0m \u001b[34mFound keyword SYMBOL, which has not special\n",
      "    parsing for now. please report this issue with the KEGG \n",
      "    identifier (10498             CDS       T01001) into github.com/bioservices. Thanks T.C.\u001b[0m\n",
      " 80%|███████▉  | 1061/1328 [06:55<01:24,  3.17it/s]\u001b[33mWARNING [bioservices:keggparser:119]: \u001b[0m \u001b[34mFound keyword SYMBOL, which has not special\n",
      "    parsing for now. please report this issue with the KEGG \n",
      "    identifier (4851              CDS       T01001) into github.com/bioservices. Thanks T.C.\u001b[0m\n",
      " 80%|███████▉  | 1062/1328 [06:55<01:29,  2.96it/s]\u001b[33mWARNING [bioservices:keggparser:119]: \u001b[0m \u001b[34mFound keyword SYMBOL, which has not special\n",
      "    parsing for now. please report this issue with the KEGG \n",
      "    identifier (2130              CDS       T01001) into github.com/bioservices. Thanks T.C.\u001b[0m\n",
      " 80%|████████  | 1063/1328 [06:55<01:18,  3.37it/s]\u001b[33mWARNING [bioservices:keggparser:119]: \u001b[0m \u001b[34mFound keyword SYMBOL, which has not special\n",
      "    parsing for now. please report this issue with the KEGG \n",
      "    identifier (675               CDS       T01001) into github.com/bioservices. Thanks T.C.\u001b[0m\n",
      " 80%|████████  | 1064/1328 [06:56<01:34,  2.78it/s]\u001b[33mWARNING [bioservices:keggparser:119]: \u001b[0m \u001b[34mFound keyword SYMBOL, which has not special\n",
      "    parsing for now. please report this issue with the KEGG \n",
      "    identifier (672               CDS       T01001) into github.com/bioservices. Thanks T.C.\u001b[0m\n",
      " 80%|████████  | 1065/1328 [06:56<01:24,  3.10it/s]\u001b[33mWARNING [bioservices:keggparser:119]: \u001b[0m \u001b[34mFound keyword SYMBOL, which has not special\n",
      "    parsing for now. please report this issue with the KEGG \n",
      "    identifier (9641              CDS       T01001) into github.com/bioservices. Thanks T.C.\u001b[0m\n",
      " 80%|████████  | 1066/1328 [06:56<01:31,  2.88it/s]\u001b[33mWARNING [bioservices:keggparser:119]: \u001b[0m \u001b[34mFound keyword SYMBOL, which has not special\n",
      "    parsing for now. please report this issue with the KEGG \n",
      "    identifier (5781              CDS       T01001) into github.com/bioservices. Thanks T.C.\u001b[0m\n",
      " 80%|████████  | 1067/1328 [06:57<01:26,  3.02it/s]\u001b[33mWARNING [bioservices:keggparser:119]: \u001b[0m \u001b[34mFound keyword SYMBOL, which has not special\n",
      "    parsing for now. please report this issue with the KEGG \n",
      "    identifier (673               CDS       T01001) into github.com/bioservices. Thanks T.C.\u001b[0m\n",
      " 80%|████████  | 1068/1328 [06:57<01:48,  2.39it/s]\u001b[33mWARNING [bioservices:keggparser:119]: \u001b[0m \u001b[34mFound keyword SYMBOL, which has not special\n",
      "    parsing for now. please report this issue with the KEGG \n",
      "    identifier (1956              CDS       T01001) into github.com/bioservices. Thanks T.C.\u001b[0m\n",
      " 80%|████████  | 1069/1328 [06:58<02:01,  2.13it/s]\u001b[33mWARNING [bioservices:keggparser:119]: \u001b[0m \u001b[34mFound keyword SYMBOL, which has not special\n",
      "    parsing for now. please report this issue with the KEGG \n",
      "    identifier (2064              CDS       T01001) into github.com/bioservices. Thanks T.C.\u001b[0m\n",
      " 81%|████████  | 1070/1328 [06:58<01:49,  2.37it/s]\u001b[33mWARNING [bioservices:keggparser:119]: \u001b[0m \u001b[34mFound keyword SYMBOL, which has not special\n",
      "    parsing for now. please report this issue with the KEGG \n",
      "    identifier (695               CDS       T01001) into github.com/bioservices. Thanks T.C.\u001b[0m\n",
      " 81%|████████  | 1071/1328 [06:58<01:35,  2.69it/s]\u001b[33mWARNING [bioservices:keggparser:119]: \u001b[0m \u001b[34mFound keyword SYMBOL, which has not special\n",
      "    parsing for now. please report this issue with the KEGG \n",
      "    identifier (4292              CDS       T01001) into github.com/bioservices. Thanks T.C.\u001b[0m\n",
      " 81%|████████  | 1072/1328 [06:59<01:31,  2.80it/s]\u001b[33mWARNING [bioservices:keggparser:119]: \u001b[0m \u001b[34mFound keyword SYMBOL, which has not special\n",
      "    parsing for now. please report this issue with the KEGG \n",
      "    identifier (673               CDS       T01001) into github.com/bioservices. Thanks T.C.\u001b[0m\n",
      " 81%|████████  | 1073/1328 [06:59<01:53,  2.25it/s]\u001b[33mWARNING [bioservices:keggparser:119]: \u001b[0m \u001b[34mFound keyword SYMBOL, which has not special\n",
      "    parsing for now. please report this issue with the KEGG \n",
      "    identifier (4089              CDS       T01001) into github.com/bioservices. Thanks T.C.\u001b[0m\n",
      " 81%|████████  | 1074/1328 [07:00<01:41,  2.51it/s]\u001b[33mWARNING [bioservices:keggparser:119]: \u001b[0m \u001b[34mFound keyword SYMBOL, which has not special\n",
      "    parsing for now. please report this issue with the KEGG \n",
      "    identifier (896               CDS       T01001) into github.com/bioservices. Thanks T.C.\u001b[0m\n",
      " 81%|████████  | 1075/1328 [07:00<01:36,  2.63it/s]\u001b[33mWARNING [bioservices:keggparser:119]: \u001b[0m \u001b[34mFound keyword SYMBOL, which has not special\n",
      "    parsing for now. please report this issue with the KEGG \n",
      "    identifier (90417             CDS       T01001) into github.com/bioservices. Thanks T.C.\u001b[0m\n",
      " 81%|████████  | 1076/1328 [07:00<01:21,  3.10it/s]"
     ]
    },
    {
     "name": "stdout",
     "output_type": "stream",
     "text": [
      "no data for  KNSTRN\n"
     ]
    },
    {
     "name": "stderr",
     "output_type": "stream",
     "text": [
      "\u001b[33mWARNING [bioservices:keggparser:119]: \u001b[0m \u001b[34mFound keyword SYMBOL, which has not special\n",
      "    parsing for now. please report this issue with the KEGG \n",
      "    identifier (5295              CDS       T01001) into github.com/bioservices. Thanks T.C.\u001b[0m\n",
      " 81%|████████  | 1077/1328 [07:01<02:11,  1.92it/s]\u001b[33mWARNING [bioservices:keggparser:119]: \u001b[0m \u001b[34mFound keyword SYMBOL, which has not special\n",
      "    parsing for now. please report this issue with the KEGG \n",
      "    identifier (6098              CDS       T01001) into github.com/bioservices. Thanks T.C.\u001b[0m\n",
      " 81%|████████  | 1078/1328 [07:01<01:45,  2.38it/s]"
     ]
    },
    {
     "name": "stdout",
     "output_type": "stream",
     "text": [
      "no data for  ROS1\n"
     ]
    },
    {
     "name": "stderr",
     "output_type": "stream",
     "text": [
      "\u001b[33mWARNING [bioservices:keggparser:119]: \u001b[0m \u001b[34mFound keyword SYMBOL, which has not special\n",
      "    parsing for now. please report this issue with the KEGG \n",
      "    identifier (1956              CDS       T01001) into github.com/bioservices. Thanks T.C.\u001b[0m\n",
      " 81%|████████▏ | 1079/1328 [07:02<02:08,  1.94it/s]\u001b[33mWARNING [bioservices:keggparser:119]: \u001b[0m \u001b[34mFound keyword SYMBOL, which has not special\n",
      "    parsing for now. please report this issue with the KEGG \n",
      "    identifier (3845              CDS       T01001) into github.com/bioservices. Thanks T.C.\u001b[0m\n",
      " 81%|████████▏ | 1080/1328 [07:03<02:25,  1.70it/s]\u001b[33mWARNING [bioservices:keggparser:119]: \u001b[0m \u001b[34mFound keyword SYMBOL, which has not special\n",
      "    parsing for now. please report this issue with the KEGG \n",
      "    identifier (25                CDS       T01001) into github.com/bioservices. Thanks T.C.\u001b[0m\n",
      " 81%|████████▏ | 1081/1328 [07:03<02:00,  2.05it/s]\u001b[33mWARNING [bioservices:keggparser:119]: \u001b[0m \u001b[34mFound keyword SYMBOL, which has not special\n",
      "    parsing for now. please report this issue with the KEGG \n",
      "    identifier (3265              CDS       T01001) into github.com/bioservices. Thanks T.C.\u001b[0m\n",
      " 81%|████████▏ | 1082/1328 [07:04<02:27,  1.66it/s]\u001b[33mWARNING [bioservices:keggparser:119]: \u001b[0m \u001b[34mFound keyword SYMBOL, which has not special\n",
      "    parsing for now. please report this issue with the KEGG \n",
      "    identifier (673               CDS       T01001) into github.com/bioservices. Thanks T.C.\u001b[0m\n",
      " 82%|████████▏ | 1083/1328 [07:05<02:25,  1.68it/s]\u001b[33mWARNING [bioservices:keggparser:119]: \u001b[0m \u001b[34mFound keyword SYMBOL, which has not special\n",
      "    parsing for now. please report this issue with the KEGG \n",
      "    identifier (567               CDS       T01001) into github.com/bioservices. Thanks T.C.\u001b[0m\n",
      " 82%|████████▏ | 1084/1328 [07:05<01:57,  2.07it/s]\u001b[33mWARNING [bioservices:keggparser:119]: \u001b[0m \u001b[34mFound keyword SYMBOL, which has not special\n",
      "    parsing for now. please report this issue with the KEGG \n",
      "    identifier (84433             CDS       T01001) into github.com/bioservices. Thanks T.C.\u001b[0m\n",
      " 82%|████████▏ | 1085/1328 [07:05<01:47,  2.27it/s]\u001b[33mWARNING [bioservices:keggparser:119]: \u001b[0m \u001b[34mFound keyword SYMBOL, which has not special\n",
      "    parsing for now. please report this issue with the KEGG \n",
      "    identifier (1499              CDS       T01001) into github.com/bioservices. Thanks T.C.\u001b[0m\n",
      " 82%|████████▏ | 1086/1328 [07:06<01:40,  2.41it/s]\u001b[33mWARNING [bioservices:keggparser:119]: \u001b[0m \u001b[34mFound keyword SYMBOL, which has not special\n",
      "    parsing for now. please report this issue with the KEGG \n",
      "    identifier (387               CDS       T01001) into github.com/bioservices. Thanks T.C.\u001b[0m\n",
      " 82%|████████▏ | 1087/1328 [07:06<01:39,  2.42it/s]\u001b[33mWARNING [bioservices:keggparser:119]: \u001b[0m \u001b[34mFound keyword SYMBOL, which has not special\n",
      "    parsing for now. please report this issue with the KEGG \n",
      "    identifier (672               CDS       T01001) into github.com/bioservices. Thanks T.C.\u001b[0m\n",
      " 82%|████████▏ | 1088/1328 [07:06<01:26,  2.77it/s]\u001b[33mWARNING [bioservices:keggparser:119]: \u001b[0m \u001b[34mFound keyword SYMBOL, which has not special\n",
      "    parsing for now. please report this issue with the KEGG \n",
      "    identifier (3845              CDS       T01001) into github.com/bioservices. Thanks T.C.\u001b[0m\n",
      " 82%|████████▏ | 1089/1328 [07:07<02:03,  1.94it/s]\u001b[33mWARNING [bioservices:keggparser:119]: \u001b[0m \u001b[34mFound keyword SYMBOL, which has not special\n",
      "    parsing for now. please report this issue with the KEGG \n",
      "    identifier (2260              CDS       T01001) into github.com/bioservices. Thanks T.C.\u001b[0m\n",
      " 82%|████████▏ | 1090/1328 [07:07<01:46,  2.24it/s]\u001b[33mWARNING [bioservices:keggparser:119]: \u001b[0m \u001b[34mFound keyword SYMBOL, which has not special\n",
      "    parsing for now. please report this issue with the KEGG \n",
      "    identifier (675               CDS       T01001) into github.com/bioservices. Thanks T.C.\u001b[0m\n",
      " 82%|████████▏ | 1091/1328 [07:08<01:45,  2.26it/s]\u001b[33mWARNING [bioservices:keggparser:119]: \u001b[0m \u001b[34mFound keyword SYMBOL, which has not special\n",
      "    parsing for now. please report this issue with the KEGG \n",
      "    identifier (867               CDS       T01001) into github.com/bioservices. Thanks T.C.\u001b[0m\n",
      " 82%|████████▏ | 1092/1328 [07:08<01:30,  2.62it/s]\u001b[33mWARNING [bioservices:keggparser:119]: \u001b[0m \u001b[34mFound keyword SYMBOL, which has not special\n",
      "    parsing for now. please report this issue with the KEGG \n",
      "    identifier (6794              CDS       T01001) into github.com/bioservices. Thanks T.C.\u001b[0m\n",
      " 82%|████████▏ | 1093/1328 [07:08<01:26,  2.73it/s]\u001b[33mWARNING [bioservices:keggparser:119]: \u001b[0m \u001b[34mFound keyword SYMBOL, which has not special\n",
      "    parsing for now. please report this issue with the KEGG \n",
      "    identifier (5604              CDS       T01001) into github.com/bioservices. Thanks T.C.\u001b[0m\n",
      " 82%|████████▏ | 1094/1328 [07:09<01:55,  2.03it/s]\u001b[33mWARNING [bioservices:keggparser:119]: \u001b[0m \u001b[34mFound keyword SYMBOL, which has not special\n",
      "    parsing for now. please report this issue with the KEGG \n",
      "    identifier (595               CDS       T01001) into github.com/bioservices. Thanks T.C.\u001b[0m\n",
      " 82%|████████▏ | 1095/1328 [07:10<01:51,  2.10it/s]\u001b[33mWARNING [bioservices:keggparser:119]: \u001b[0m \u001b[34mFound keyword SYMBOL, which has not special\n",
      "    parsing for now. please report this issue with the KEGG \n",
      "    identifier (5604              CDS       T01001) into github.com/bioservices. Thanks T.C.\u001b[0m\n",
      " 83%|████████▎ | 1096/1328 [07:10<02:11,  1.76it/s]\u001b[33mWARNING [bioservices:keggparser:119]: \u001b[0m \u001b[34mFound keyword SYMBOL, which has not special\n",
      "    parsing for now. please report this issue with the KEGG \n",
      "    identifier (867               CDS       T01001) into github.com/bioservices. Thanks T.C.\u001b[0m\n",
      " 83%|████████▎ | 1097/1328 [07:11<01:47,  2.15it/s]\u001b[33mWARNING [bioservices:keggparser:119]: \u001b[0m \u001b[34mFound keyword SYMBOL, which has not special\n",
      "    parsing for now. please report this issue with the KEGG \n",
      "    identifier (5789              CDS       T01001) into github.com/bioservices. Thanks T.C.\u001b[0m\n",
      " 83%|████████▎ | 1098/1328 [07:11<01:36,  2.39it/s]"
     ]
    },
    {
     "name": "stdout",
     "output_type": "stream",
     "text": [
      "no data for  PTPRD\n"
     ]
    },
    {
     "name": "stderr",
     "output_type": "stream",
     "text": [
      "\u001b[33mWARNING [bioservices:keggparser:119]: \u001b[0m \u001b[34mFound keyword SYMBOL, which has not special\n",
      "    parsing for now. please report this issue with the KEGG \n",
      "    identifier (5395              CDS       T01001) into github.com/bioservices. Thanks T.C.\u001b[0m\n",
      " 83%|████████▎ | 1099/1328 [07:11<01:22,  2.78it/s]\u001b[33mWARNING [bioservices:keggparser:119]: \u001b[0m \u001b[34mFound keyword SYMBOL, which has not special\n",
      "    parsing for now. please report this issue with the KEGG \n",
      "    identifier (387               CDS       T01001) into github.com/bioservices. Thanks T.C.\u001b[0m\n",
      " 83%|████████▎ | 1100/1328 [07:12<01:33,  2.43it/s]\u001b[33mWARNING [bioservices:keggparser:119]: \u001b[0m \u001b[34mFound keyword SYMBOL, which has not special\n",
      "    parsing for now. please report this issue with the KEGG \n",
      "    identifier (672               CDS       T01001) into github.com/bioservices. Thanks T.C.\u001b[0m\n",
      " 83%|████████▎ | 1101/1328 [07:12<01:20,  2.82it/s]\u001b[33mWARNING [bioservices:keggparser:119]: \u001b[0m \u001b[34mFound keyword SYMBOL, which has not special\n",
      "    parsing for now. please report this issue with the KEGG \n",
      "    identifier (4921              CDS       T01001) into github.com/bioservices. Thanks T.C.\u001b[0m\n",
      " 83%|████████▎ | 1102/1328 [07:12<01:17,  2.91it/s]"
     ]
    },
    {
     "name": "stdout",
     "output_type": "stream",
     "text": [
      "no data for  DDR2\n"
     ]
    },
    {
     "name": "stderr",
     "output_type": "stream",
     "text": [
      "\u001b[33mWARNING [bioservices:keggparser:119]: \u001b[0m \u001b[34mFound keyword SYMBOL, which has not special\n",
      "    parsing for now. please report this issue with the KEGG \n",
      "    identifier (675               CDS       T01001) into github.com/bioservices. Thanks T.C.\u001b[0m\n",
      " 83%|████████▎ | 1103/1328 [07:13<01:22,  2.74it/s]\u001b[33mWARNING [bioservices:keggparser:119]: \u001b[0m \u001b[34mFound keyword SYMBOL, which has not special\n",
      "    parsing for now. please report this issue with the KEGG \n",
      "    identifier (1387              CDS       T01001) into github.com/bioservices. Thanks T.C.\u001b[0m\n",
      " 83%|████████▎ | 1104/1328 [07:13<01:28,  2.54it/s]\u001b[33mWARNING [bioservices:keggparser:119]: \u001b[0m \u001b[34mFound keyword SYMBOL, which has not special\n",
      "    parsing for now. please report this issue with the KEGG \n",
      "    identifier (5295              CDS       T01001) into github.com/bioservices. Thanks T.C.\u001b[0m\n",
      " 83%|████████▎ | 1105/1328 [07:14<02:00,  1.84it/s]\u001b[33mWARNING [bioservices:keggparser:119]: \u001b[0m \u001b[34mFound keyword SYMBOL, which has not special\n",
      "    parsing for now. please report this issue with the KEGG \n",
      "    identifier (5156              CDS       T01001) into github.com/bioservices. Thanks T.C.\u001b[0m\n",
      " 83%|████████▎ | 1106/1328 [07:14<01:44,  2.13it/s]\u001b[33mWARNING [bioservices:keggparser:119]: \u001b[0m \u001b[34mFound keyword SYMBOL, which has not special\n",
      "    parsing for now. please report this issue with the KEGG \n",
      "    identifier (3717              CDS       T01001) into github.com/bioservices. Thanks T.C.\u001b[0m\n",
      " 83%|████████▎ | 1107/1328 [07:15<01:35,  2.31it/s]\u001b[33mWARNING [bioservices:keggparser:119]: \u001b[0m \u001b[34mFound keyword SYMBOL, which has not special\n",
      "    parsing for now. please report this issue with the KEGG \n",
      "    identifier (7046              CDS       T01001) into github.com/bioservices. Thanks T.C.\u001b[0m\n",
      " 83%|████████▎ | 1108/1328 [07:15<01:27,  2.52it/s]\u001b[33mWARNING [bioservices:keggparser:119]: \u001b[0m \u001b[34mFound keyword SYMBOL, which has not special\n",
      "    parsing for now. please report this issue with the KEGG \n",
      "    identifier (2066              CDS       T01001) into github.com/bioservices. Thanks T.C.\u001b[0m\n",
      " 84%|████████▎ | 1109/1328 [07:15<01:17,  2.81it/s]\u001b[33mWARNING [bioservices:keggparser:119]: \u001b[0m \u001b[34mFound keyword SYMBOL, which has not special\n",
      "    parsing for now. please report this issue with the KEGG \n",
      "    identifier (5156              CDS       T01001) into github.com/bioservices. Thanks T.C.\u001b[0m\n",
      " 84%|████████▎ | 1110/1328 [07:16<01:19,  2.73it/s]\u001b[33mWARNING [bioservices:keggparser:119]: \u001b[0m \u001b[34mFound keyword SYMBOL, which has not special\n",
      "    parsing for now. please report this issue with the KEGG \n",
      "    identifier (4780              CDS       T01001) into github.com/bioservices. Thanks T.C.\u001b[0m\n",
      " 84%|████████▎ | 1111/1328 [07:16<01:11,  3.03it/s]\u001b[33mWARNING [bioservices:keggparser:119]: \u001b[0m \u001b[34mFound keyword SYMBOL, which has not special\n",
      "    parsing for now. please report this issue with the KEGG \n",
      "    identifier (4292              CDS       T01001) into github.com/bioservices. Thanks T.C.\u001b[0m\n",
      " 84%|████████▎ | 1112/1328 [07:16<01:14,  2.91it/s]\u001b[33mWARNING [bioservices:keggparser:119]: \u001b[0m \u001b[34mFound keyword SYMBOL, which has not special\n",
      "    parsing for now. please report this issue with the KEGG \n",
      "    identifier (7428              CDS       T01001) into github.com/bioservices. Thanks T.C.\u001b[0m\n",
      " 84%|████████▍ | 1113/1328 [07:16<01:05,  3.26it/s]\u001b[33mWARNING [bioservices:keggparser:119]: \u001b[0m \u001b[34mFound keyword SYMBOL, which has not special\n",
      "    parsing for now. please report this issue with the KEGG \n",
      "    identifier (7428              CDS       T01001) into github.com/bioservices. Thanks T.C.\u001b[0m\n",
      " 84%|████████▍ | 1114/1328 [07:17<01:07,  3.17it/s]\u001b[33mWARNING [bioservices:keggparser:119]: \u001b[0m \u001b[34mFound keyword SYMBOL, which has not special\n",
      "    parsing for now. please report this issue with the KEGG \n",
      "    identifier (672               CDS       T01001) into github.com/bioservices. Thanks T.C.\u001b[0m\n",
      " 84%|████████▍ | 1115/1328 [07:17<01:02,  3.41it/s]\u001b[33mWARNING [bioservices:keggparser:119]: \u001b[0m \u001b[34mFound keyword SYMBOL, which has not special\n",
      "    parsing for now. please report this issue with the KEGG \n",
      "    identifier (2099              CDS       T01001) into github.com/bioservices. Thanks T.C.\u001b[0m\n",
      " 84%|████████▍ | 1116/1328 [07:17<01:06,  3.21it/s]\u001b[33mWARNING [bioservices:keggparser:119]: \u001b[0m \u001b[34mFound keyword SYMBOL, which has not special\n",
      "    parsing for now. please report this issue with the KEGG \n",
      "    identifier (5979              CDS       T01001) into github.com/bioservices. Thanks T.C.\u001b[0m\n",
      " 84%|████████▍ | 1117/1328 [07:18<01:00,  3.48it/s]\u001b[33mWARNING [bioservices:keggparser:119]: \u001b[0m \u001b[34mFound keyword SYMBOL, which has not special\n",
      "    parsing for now. please report this issue with the KEGG \n",
      "    identifier (8405              CDS       T01001) into github.com/bioservices. Thanks T.C.\u001b[0m\n",
      " 84%|████████▍ | 1118/1328 [07:18<01:01,  3.39it/s]\u001b[33mWARNING [bioservices:keggparser:119]: \u001b[0m \u001b[34mFound keyword SYMBOL, which has not special\n",
      "    parsing for now. please report this issue with the KEGG \n",
      "    identifier (5728              CDS       T01001) into github.com/bioservices. Thanks T.C.\u001b[0m\n",
      " 84%|████████▍ | 1119/1328 [07:18<01:05,  3.17it/s]\u001b[33mWARNING [bioservices:keggparser:119]: \u001b[0m \u001b[34mFound keyword SYMBOL, which has not special\n",
      "    parsing for now. please report this issue with the KEGG \n",
      "    identifier (7428              CDS       T01001) into github.com/bioservices. Thanks T.C.\u001b[0m\n",
      " 84%|████████▍ | 1120/1328 [07:18<00:59,  3.49it/s]\u001b[33mWARNING [bioservices:keggparser:119]: \u001b[0m \u001b[34mFound keyword SYMBOL, which has not special\n",
      "    parsing for now. please report this issue with the KEGG \n",
      "    identifier (3815              CDS       T01001) into github.com/bioservices. Thanks T.C.\u001b[0m\n",
      " 84%|████████▍ | 1121/1328 [07:19<01:05,  3.14it/s]\u001b[33mWARNING [bioservices:keggparser:119]: \u001b[0m \u001b[34mFound keyword SYMBOL, which has not special\n",
      "    parsing for now. please report this issue with the KEGG \n",
      "    identifier (3815              CDS       T01001) into github.com/bioservices. Thanks T.C.\u001b[0m\n",
      " 84%|████████▍ | 1122/1328 [07:19<01:02,  3.31it/s]\u001b[33mWARNING [bioservices:keggparser:119]: \u001b[0m \u001b[34mFound keyword SYMBOL, which has not special\n",
      "    parsing for now. please report this issue with the KEGG \n",
      "    identifier (5604              CDS       T01001) into github.com/bioservices. Thanks T.C.\u001b[0m\n",
      " 85%|████████▍ | 1123/1328 [07:20<01:39,  2.06it/s]\u001b[33mWARNING [bioservices:KEGG:119]: \u001b[0m \u001b[34mstatus is not ok with Not Found\u001b[0m\n",
      "\u001b[33mWARNING [bioservices:KEGG:119]: \u001b[0m \u001b[34mCould not parse the entry correctly.\u001b[0m\n",
      " 85%|████████▍ | 1124/1328 [07:20<01:20,  2.53it/s]"
     ]
    },
    {
     "name": "stdout",
     "output_type": "stream",
     "text": [
      "no data for  H3F3A\n"
     ]
    },
    {
     "name": "stderr",
     "output_type": "stream",
     "text": [
      "\u001b[33mWARNING [bioservices:keggparser:119]: \u001b[0m \u001b[34mFound keyword SYMBOL, which has not special\n",
      "    parsing for now. please report this issue with the KEGG \n",
      "    identifier (5979              CDS       T01001) into github.com/bioservices. Thanks T.C.\u001b[0m\n",
      " 85%|████████▍ | 1125/1328 [07:21<01:20,  2.54it/s]\u001b[33mWARNING [bioservices:keggparser:119]: \u001b[0m \u001b[34mFound keyword SYMBOL, which has not special\n",
      "    parsing for now. please report this issue with the KEGG \n",
      "    identifier (2146              CDS       T01001) into github.com/bioservices. Thanks T.C.\u001b[0m\n",
      " 85%|████████▍ | 1126/1328 [07:21<01:09,  2.91it/s]\u001b[33mWARNING [bioservices:keggparser:119]: \u001b[0m \u001b[34mFound keyword SYMBOL, which has not special\n",
      "    parsing for now. please report this issue with the KEGG \n",
      "    identifier (6098              CDS       T01001) into github.com/bioservices. Thanks T.C.\u001b[0m\n",
      " 85%|████████▍ | 1127/1328 [07:21<01:06,  3.00it/s]"
     ]
    },
    {
     "name": "stdout",
     "output_type": "stream",
     "text": [
      "no data for  ROS1\n"
     ]
    },
    {
     "name": "stderr",
     "output_type": "stream",
     "text": [
      "\u001b[33mWARNING [bioservices:keggparser:119]: \u001b[0m \u001b[34mFound keyword SYMBOL, which has not special\n",
      "    parsing for now. please report this issue with the KEGG \n",
      "    identifier (54790             CDS       T01001) into github.com/bioservices. Thanks T.C.\u001b[0m\n",
      " 85%|████████▍ | 1128/1328 [07:21<01:00,  3.30it/s]"
     ]
    },
    {
     "name": "stdout",
     "output_type": "stream",
     "text": [
      "no data for  TET2\n"
     ]
    },
    {
     "name": "stderr",
     "output_type": "stream",
     "text": [
      "\u001b[33mWARNING [bioservices:keggparser:119]: \u001b[0m \u001b[34mFound keyword SYMBOL, which has not special\n",
      "    parsing for now. please report this issue with the KEGG \n",
      "    identifier (4853              CDS       T01001) into github.com/bioservices. Thanks T.C.\u001b[0m\n",
      " 85%|████████▌ | 1129/1328 [07:22<01:04,  3.08it/s]\u001b[33mWARNING [bioservices:keggparser:119]: \u001b[0m \u001b[34mFound keyword SYMBOL, which has not special\n",
      "    parsing for now. please report this issue with the KEGG \n",
      "    identifier (5604              CDS       T01001) into github.com/bioservices. Thanks T.C.\u001b[0m\n",
      " 85%|████████▌ | 1130/1328 [07:23<01:32,  2.14it/s]\u001b[33mWARNING [bioservices:keggparser:119]: \u001b[0m \u001b[34mFound keyword SYMBOL, which has not special\n",
      "    parsing for now. please report this issue with the KEGG \n",
      "    identifier (672               CDS       T01001) into github.com/bioservices. Thanks T.C.\u001b[0m\n",
      " 85%|████████▌ | 1131/1328 [07:23<01:17,  2.53it/s]\u001b[33mWARNING [bioservices:keggparser:119]: \u001b[0m \u001b[34mFound keyword SYMBOL, which has not special\n",
      "    parsing for now. please report this issue with the KEGG \n",
      "    identifier (6608              CDS       T01001) into github.com/bioservices. Thanks T.C.\u001b[0m\n",
      " 85%|████████▌ | 1132/1328 [07:23<01:13,  2.66it/s]\u001b[33mWARNING [bioservices:keggparser:119]: \u001b[0m \u001b[34mFound keyword SYMBOL, which has not special\n",
      "    parsing for now. please report this issue with the KEGG \n",
      "    identifier (3418              CDS       T01001) into github.com/bioservices. Thanks T.C.\u001b[0m\n",
      " 85%|████████▌ | 1133/1328 [07:23<01:05,  3.00it/s]\u001b[33mWARNING [bioservices:keggparser:119]: \u001b[0m \u001b[34mFound keyword SYMBOL, which has not special\n",
      "    parsing for now. please report this issue with the KEGG \n",
      "    identifier (672               CDS       T01001) into github.com/bioservices. Thanks T.C.\u001b[0m\n",
      " 85%|████████▌ | 1134/1328 [07:24<01:05,  2.95it/s]\u001b[33mWARNING [bioservices:keggparser:119]: \u001b[0m \u001b[34mFound keyword SYMBOL, which has not special\n",
      "    parsing for now. please report this issue with the KEGG \n",
      "    identifier (5156              CDS       T01001) into github.com/bioservices. Thanks T.C.\u001b[0m\n",
      " 85%|████████▌ | 1135/1328 [07:24<01:03,  3.06it/s]\u001b[33mWARNING [bioservices:keggparser:119]: \u001b[0m \u001b[34mFound keyword SYMBOL, which has not special\n",
      "    parsing for now. please report this issue with the KEGG \n",
      "    identifier (3815              CDS       T01001) into github.com/bioservices. Thanks T.C.\u001b[0m\n",
      " 86%|████████▌ | 1136/1328 [07:24<01:01,  3.14it/s]\u001b[33mWARNING [bioservices:keggparser:119]: \u001b[0m \u001b[34mFound keyword SYMBOL, which has not special\n",
      "    parsing for now. please report this issue with the KEGG \n",
      "    identifier (3815              CDS       T01001) into github.com/bioservices. Thanks T.C.\u001b[0m\n",
      " 86%|████████▌ | 1137/1328 [07:25<00:59,  3.21it/s]\u001b[33mWARNING [bioservices:keggparser:119]: \u001b[0m \u001b[34mFound keyword SYMBOL, which has not special\n",
      "    parsing for now. please report this issue with the KEGG \n",
      "    identifier (5728              CDS       T01001) into github.com/bioservices. Thanks T.C.\u001b[0m\n",
      " 86%|████████▌ | 1138/1328 [07:25<01:02,  3.03it/s]\u001b[33mWARNING [bioservices:keggparser:119]: \u001b[0m \u001b[34mFound keyword SYMBOL, which has not special\n",
      "    parsing for now. please report this issue with the KEGG \n",
      "    identifier (672               CDS       T01001) into github.com/bioservices. Thanks T.C.\u001b[0m\n",
      " 86%|████████▌ | 1139/1328 [07:25<00:56,  3.32it/s]\u001b[33mWARNING [bioservices:keggparser:119]: \u001b[0m \u001b[34mFound keyword SYMBOL, which has not special\n",
      "    parsing for now. please report this issue with the KEGG \n",
      "    identifier (5159              CDS       T01001) into github.com/bioservices. Thanks T.C.\u001b[0m\n",
      " 86%|████████▌ | 1140/1328 [07:26<01:02,  3.01it/s]\u001b[33mWARNING [bioservices:keggparser:119]: \u001b[0m \u001b[34mFound keyword SYMBOL, which has not special\n",
      "    parsing for now. please report this issue with the KEGG \n",
      "    identifier (672               CDS       T01001) into github.com/bioservices. Thanks T.C.\u001b[0m\n",
      " 86%|████████▌ | 1141/1328 [07:26<00:56,  3.33it/s]\u001b[33mWARNING [bioservices:keggparser:119]: \u001b[0m \u001b[34mFound keyword SYMBOL, which has not special\n",
      "    parsing for now. please report this issue with the KEGG \n",
      "    identifier (1956              CDS       T01001) into github.com/bioservices. Thanks T.C.\u001b[0m\n",
      " 86%|████████▌ | 1142/1328 [07:27<01:17,  2.39it/s]\u001b[33mWARNING [bioservices:keggparser:119]: \u001b[0m \u001b[34mFound keyword SYMBOL, which has not special\n",
      "    parsing for now. please report this issue with the KEGG \n",
      "    identifier (2260              CDS       T01001) into github.com/bioservices. Thanks T.C.\u001b[0m\n",
      " 86%|████████▌ | 1143/1328 [07:27<01:09,  2.65it/s]\u001b[33mWARNING [bioservices:keggparser:119]: \u001b[0m \u001b[34mFound keyword SYMBOL, which has not special\n",
      "    parsing for now. please report this issue with the KEGG \n",
      "    identifier (2068              CDS       T01001) into github.com/bioservices. Thanks T.C.\u001b[0m\n",
      " 86%|████████▌ | 1144/1328 [07:27<01:03,  2.88it/s]\u001b[33mWARNING [bioservices:keggparser:119]: \u001b[0m \u001b[34mFound keyword SYMBOL, which has not special\n",
      "    parsing for now. please report this issue with the KEGG \n",
      "    identifier (7157              CDS       T01001) into github.com/bioservices. Thanks T.C.\u001b[0m\n",
      " 86%|████████▌ | 1145/1328 [07:28<01:13,  2.49it/s]\u001b[33mWARNING [bioservices:keggparser:119]: \u001b[0m \u001b[34mFound keyword SYMBOL, which has not special\n",
      "    parsing for now. please report this issue with the KEGG \n",
      "    identifier (567               CDS       T01001) into github.com/bioservices. Thanks T.C.\u001b[0m\n",
      " 86%|████████▋ | 1146/1328 [07:28<01:03,  2.86it/s]\u001b[33mWARNING [bioservices:keggparser:119]: \u001b[0m \u001b[34mFound keyword SYMBOL, which has not special\n",
      "    parsing for now. please report this issue with the KEGG \n",
      "    identifier (2064              CDS       T01001) into github.com/bioservices. Thanks T.C.\u001b[0m\n",
      " 86%|████████▋ | 1147/1328 [07:28<01:07,  2.68it/s]\u001b[33mWARNING [bioservices:keggparser:119]: \u001b[0m \u001b[34mFound keyword SYMBOL, which has not special\n",
      "    parsing for now. please report this issue with the KEGG \n",
      "    identifier (2068              CDS       T01001) into github.com/bioservices. Thanks T.C.\u001b[0m\n",
      " 86%|████████▋ | 1148/1328 [07:28<00:58,  3.08it/s]\u001b[33mWARNING [bioservices:keggparser:119]: \u001b[0m \u001b[34mFound keyword SYMBOL, which has not special\n",
      "    parsing for now. please report this issue with the KEGG \n",
      "    identifier (3717              CDS       T01001) into github.com/bioservices. Thanks T.C.\u001b[0m\n",
      " 87%|████████▋ | 1149/1328 [07:29<01:05,  2.73it/s]\u001b[33mWARNING [bioservices:keggparser:119]: \u001b[0m \u001b[34mFound keyword SYMBOL, which has not special\n",
      "    parsing for now. please report this issue with the KEGG \n",
      "    identifier (3265              CDS       T01001) into github.com/bioservices. Thanks T.C.\u001b[0m\n",
      " 87%|████████▋ | 1150/1328 [07:30<01:26,  2.06it/s]\u001b[33mWARNING [bioservices:keggparser:119]: \u001b[0m \u001b[34mFound keyword SYMBOL, which has not special\n",
      "    parsing for now. please report this issue with the KEGG \n",
      "    identifier (3717              CDS       T01001) into github.com/bioservices. Thanks T.C.\u001b[0m\n",
      " 87%|████████▋ | 1151/1328 [07:30<01:17,  2.29it/s]\u001b[33mWARNING [bioservices:keggparser:119]: \u001b[0m \u001b[34mFound keyword SYMBOL, which has not special\n",
      "    parsing for now. please report this issue with the KEGG \n",
      "    identifier (8314              CDS       T01001) into github.com/bioservices. Thanks T.C.\u001b[0m\n",
      " 87%|████████▋ | 1152/1328 [07:30<01:04,  2.72it/s]"
     ]
    },
    {
     "name": "stdout",
     "output_type": "stream",
     "text": [
      "no data for  BAP1\n"
     ]
    },
    {
     "name": "stderr",
     "output_type": "stream",
     "text": [
      "\u001b[33mWARNING [bioservices:keggparser:119]: \u001b[0m \u001b[34mFound keyword SYMBOL, which has not special\n",
      "    parsing for now. please report this issue with the KEGG \n",
      "    identifier (4297              CDS       T01001) into github.com/bioservices. Thanks T.C.\u001b[0m\n",
      " 87%|████████▋ | 1153/1328 [07:31<01:11,  2.46it/s]\u001b[33mWARNING [bioservices:keggparser:119]: \u001b[0m \u001b[34mFound keyword SYMBOL, which has not special\n",
      "    parsing for now. please report this issue with the KEGG \n",
      "    identifier (639               CDS       T01001) into github.com/bioservices. Thanks T.C.\u001b[0m\n",
      " 87%|████████▋ | 1154/1328 [07:31<00:59,  2.92it/s]"
     ]
    },
    {
     "name": "stdout",
     "output_type": "stream",
     "text": [
      "no data for  PRDM1\n"
     ]
    },
    {
     "name": "stderr",
     "output_type": "stream",
     "text": [
      "\u001b[33mWARNING [bioservices:keggparser:119]: \u001b[0m \u001b[34mFound keyword SYMBOL, which has not special\n",
      "    parsing for now. please report this issue with the KEGG \n",
      "    identifier (27161             CDS       T01001) into github.com/bioservices. Thanks T.C.\u001b[0m\n",
      " 87%|████████▋ | 1155/1328 [07:31<00:59,  2.92it/s]"
     ]
    },
    {
     "name": "stdout",
     "output_type": "stream",
     "text": [
      "no data for  AGO2\n"
     ]
    },
    {
     "name": "stderr",
     "output_type": "stream",
     "text": [
      "\u001b[33mWARNING [bioservices:keggparser:119]: \u001b[0m \u001b[34mFound keyword SYMBOL, which has not special\n",
      "    parsing for now. please report this issue with the KEGG \n",
      "    identifier (1956              CDS       T01001) into github.com/bioservices. Thanks T.C.\u001b[0m\n",
      " 87%|████████▋ | 1156/1328 [07:32<01:12,  2.37it/s]\u001b[33mWARNING [bioservices:keggparser:119]: \u001b[0m \u001b[34mFound keyword SYMBOL, which has not special\n",
      "    parsing for now. please report this issue with the KEGG \n",
      "    identifier (23451             CDS       T01001) into github.com/bioservices. Thanks T.C.\u001b[0m\n",
      " 87%|████████▋ | 1157/1328 [07:32<01:00,  2.81it/s]\u001b[33mWARNING [bioservices:keggparser:119]: \u001b[0m \u001b[34mFound keyword SYMBOL, which has not special\n",
      "    parsing for now. please report this issue with the KEGG \n",
      "    identifier (675               CDS       T01001) into github.com/bioservices. Thanks T.C.\u001b[0m\n",
      " 87%|████████▋ | 1158/1328 [07:33<01:09,  2.45it/s]\u001b[33mWARNING [bioservices:keggparser:119]: \u001b[0m \u001b[34mFound keyword SYMBOL, which has not special\n",
      "    parsing for now. please report this issue with the KEGG \n",
      "    identifier (2261              CDS       T01001) into github.com/bioservices. Thanks T.C.\u001b[0m\n",
      " 87%|████████▋ | 1159/1328 [07:33<01:02,  2.71it/s]\u001b[33mWARNING [bioservices:keggparser:119]: \u001b[0m \u001b[34mFound keyword SYMBOL, which has not special\n",
      "    parsing for now. please report this issue with the KEGG \n",
      "    identifier (5156              CDS       T01001) into github.com/bioservices. Thanks T.C.\u001b[0m\n",
      " 87%|████████▋ | 1160/1328 [07:33<01:02,  2.69it/s]\u001b[33mWARNING [bioservices:keggparser:119]: \u001b[0m \u001b[34mFound keyword SYMBOL, which has not special\n",
      "    parsing for now. please report this issue with the KEGG \n",
      "    identifier (1499              CDS       T01001) into github.com/bioservices. Thanks T.C.\u001b[0m\n",
      " 87%|████████▋ | 1161/1328 [07:34<01:01,  2.73it/s]\u001b[33mWARNING [bioservices:keggparser:119]: \u001b[0m \u001b[34mFound keyword SYMBOL, which has not special\n",
      "    parsing for now. please report this issue with the KEGG \n",
      "    identifier (5290              CDS       T01001) into github.com/bioservices. Thanks T.C.\u001b[0m\n",
      " 88%|████████▊ | 1162/1328 [07:35<01:26,  1.93it/s]\u001b[33mWARNING [bioservices:keggparser:119]: \u001b[0m \u001b[34mFound keyword SYMBOL, which has not special\n",
      "    parsing for now. please report this issue with the KEGG \n",
      "    identifier (5426              CDS       T01001) into github.com/bioservices. Thanks T.C.\u001b[0m\n",
      " 88%|████████▊ | 1163/1328 [07:35<01:10,  2.35it/s]\u001b[33mWARNING [bioservices:keggparser:119]: \u001b[0m \u001b[34mFound keyword SYMBOL, which has not special\n",
      "    parsing for now. please report this issue with the KEGG \n",
      "    identifier (675               CDS       T01001) into github.com/bioservices. Thanks T.C.\u001b[0m\n",
      " 88%|████████▊ | 1164/1328 [07:35<01:14,  2.21it/s]\u001b[33mWARNING [bioservices:keggparser:119]: \u001b[0m \u001b[34mFound keyword SYMBOL, which has not special\n",
      "    parsing for now. please report this issue with the KEGG \n",
      "    identifier (4088              CDS       T01001) into github.com/bioservices. Thanks T.C.\u001b[0m\n",
      " 88%|████████▊ | 1165/1328 [07:36<01:06,  2.44it/s]\u001b[33mWARNING [bioservices:keggparser:119]: \u001b[0m \u001b[34mFound keyword SYMBOL, which has not special\n",
      "    parsing for now. please report this issue with the KEGG \n",
      "    identifier (672               CDS       T01001) into github.com/bioservices. Thanks T.C.\u001b[0m\n",
      " 88%|████████▊ | 1166/1328 [07:36<00:59,  2.73it/s]\u001b[33mWARNING [bioservices:keggparser:119]: \u001b[0m \u001b[34mFound keyword SYMBOL, which has not special\n",
      "    parsing for now. please report this issue with the KEGG \n",
      "    identifier (8314              CDS       T01001) into github.com/bioservices. Thanks T.C.\u001b[0m\n",
      " 88%|████████▊ | 1167/1328 [07:36<00:54,  2.97it/s]"
     ]
    },
    {
     "name": "stdout",
     "output_type": "stream",
     "text": [
      "no data for  BAP1\n"
     ]
    },
    {
     "name": "stderr",
     "output_type": "stream",
     "text": [
      "\u001b[33mWARNING [bioservices:keggparser:119]: \u001b[0m \u001b[34mFound keyword SYMBOL, which has not special\n",
      "    parsing for now. please report this issue with the KEGG \n",
      "    identifier (55294             CDS       T01001) into github.com/bioservices. Thanks T.C.\u001b[0m\n",
      " 88%|████████▊ | 1168/1328 [07:36<00:50,  3.14it/s]\u001b[33mWARNING [bioservices:keggparser:119]: \u001b[0m \u001b[34mFound keyword SYMBOL, which has not special\n",
      "    parsing for now. please report this issue with the KEGG \n",
      "    identifier (867               CDS       T01001) into github.com/bioservices. Thanks T.C.\u001b[0m\n",
      " 88%|████████▊ | 1169/1328 [07:37<00:49,  3.20it/s]\u001b[33mWARNING [bioservices:keggparser:119]: \u001b[0m \u001b[34mFound keyword SYMBOL, which has not special\n",
      "    parsing for now. please report this issue with the KEGG \n",
      "    identifier (672               CDS       T01001) into github.com/bioservices. Thanks T.C.\u001b[0m\n",
      " 88%|████████▊ | 1170/1328 [07:37<00:46,  3.36it/s]\u001b[33mWARNING [bioservices:keggparser:119]: \u001b[0m \u001b[34mFound keyword SYMBOL, which has not special\n",
      "    parsing for now. please report this issue with the KEGG \n",
      "    identifier (4089              CDS       T01001) into github.com/bioservices. Thanks T.C.\u001b[0m\n",
      " 88%|████████▊ | 1171/1328 [07:37<00:50,  3.10it/s]\u001b[33mWARNING [bioservices:keggparser:119]: \u001b[0m \u001b[34mFound keyword SYMBOL, which has not special\n",
      "    parsing for now. please report this issue with the KEGG \n",
      "    identifier (2625              CDS       T01001) into github.com/bioservices. Thanks T.C.\u001b[0m\n",
      " 88%|████████▊ | 1172/1328 [07:38<00:45,  3.44it/s]\u001b[33mWARNING [bioservices:keggparser:119]: \u001b[0m \u001b[34mFound keyword SYMBOL, which has not special\n",
      "    parsing for now. please report this issue with the KEGG \n",
      "    identifier (7157              CDS       T01001) into github.com/bioservices. Thanks T.C.\u001b[0m\n",
      " 88%|████████▊ | 1173/1328 [07:38<00:59,  2.60it/s]\u001b[33mWARNING [bioservices:keggparser:119]: \u001b[0m \u001b[34mFound keyword SYMBOL, which has not special\n",
      "    parsing for now. please report this issue with the KEGG \n",
      "    identifier (5728              CDS       T01001) into github.com/bioservices. Thanks T.C.\u001b[0m\n",
      " 88%|████████▊ | 1174/1328 [07:38<00:57,  2.70it/s]\u001b[33mWARNING [bioservices:keggparser:119]: \u001b[0m \u001b[34mFound keyword SYMBOL, which has not special\n",
      "    parsing for now. please report this issue with the KEGG \n",
      "    identifier (4914              CDS       T01001) into github.com/bioservices. Thanks T.C.\u001b[0m\n",
      " 88%|████████▊ | 1175/1328 [07:39<00:51,  2.98it/s]\u001b[33mWARNING [bioservices:keggparser:119]: \u001b[0m \u001b[34mFound keyword SYMBOL, which has not special\n",
      "    parsing for now. please report this issue with the KEGG \n",
      "    identifier (5290              CDS       T01001) into github.com/bioservices. Thanks T.C.\u001b[0m\n",
      " 89%|████████▊ | 1176/1328 [07:40<01:26,  1.75it/s]\u001b[33mWARNING [bioservices:keggparser:119]: \u001b[0m \u001b[34mFound keyword SYMBOL, which has not special\n",
      "    parsing for now. please report this issue with the KEGG \n",
      "    identifier (2322              CDS       T01001) into github.com/bioservices. Thanks T.C.\u001b[0m\n",
      " 89%|████████▊ | 1177/1328 [07:40<01:11,  2.12it/s]\u001b[33mWARNING [bioservices:keggparser:119]: \u001b[0m \u001b[34mFound keyword SYMBOL, which has not special\n",
      "    parsing for now. please report this issue with the KEGG \n",
      "    identifier (5395              CDS       T01001) into github.com/bioservices. Thanks T.C.\u001b[0m\n",
      " 89%|████████▊ | 1178/1328 [07:40<01:03,  2.35it/s]\u001b[33mWARNING [bioservices:keggparser:119]: \u001b[0m \u001b[34mFound keyword SYMBOL, which has not special\n",
      "    parsing for now. please report this issue with the KEGG \n",
      "    identifier (5894              CDS       T01001) into github.com/bioservices. Thanks T.C.\u001b[0m\n",
      " 89%|████████▉ | 1179/1328 [07:41<01:19,  1.86it/s]\u001b[33mWARNING [bioservices:keggparser:119]: \u001b[0m \u001b[34mFound keyword SYMBOL, which has not special\n",
      "    parsing for now. please report this issue with the KEGG \n",
      "    identifier (2475              CDS       T01001) into github.com/bioservices. Thanks T.C.\u001b[0m\n",
      " 89%|████████▉ | 1180/1328 [07:42<01:23,  1.78it/s]\u001b[33mWARNING [bioservices:keggparser:119]: \u001b[0m \u001b[34mFound keyword SYMBOL, which has not special\n",
      "    parsing for now. please report this issue with the KEGG \n",
      "    identifier (5879              CDS       T01001) into github.com/bioservices. Thanks T.C.\u001b[0m\n",
      " 89%|████████▉ | 1181/1328 [07:42<01:17,  1.89it/s]\u001b[33mWARNING [bioservices:keggparser:119]: \u001b[0m \u001b[34mFound keyword SYMBOL, which has not special\n",
      "    parsing for now. please report this issue with the KEGG \n",
      "    identifier (238               CDS       T01001) into github.com/bioservices. Thanks T.C.\u001b[0m\n",
      " 89%|████████▉ | 1182/1328 [07:42<01:03,  2.30it/s]\u001b[33mWARNING [bioservices:keggparser:119]: \u001b[0m \u001b[34mFound keyword SYMBOL, which has not special\n",
      "    parsing for now. please report this issue with the KEGG \n",
      "    identifier (672               CDS       T01001) into github.com/bioservices. Thanks T.C.\u001b[0m\n",
      " 89%|████████▉ | 1183/1328 [07:43<01:00,  2.40it/s]\u001b[33mWARNING [bioservices:keggparser:119]: \u001b[0m \u001b[34mFound keyword SYMBOL, which has not special\n",
      "    parsing for now. please report this issue with the KEGG \n",
      "    identifier (9968              CDS       T01001) into github.com/bioservices. Thanks T.C.\u001b[0m\n",
      " 89%|████████▉ | 1184/1328 [07:43<00:50,  2.83it/s]\u001b[33mWARNING [bioservices:keggparser:119]: \u001b[0m \u001b[34mFound keyword SYMBOL, which has not special\n",
      "    parsing for now. please report this issue with the KEGG \n",
      "    identifier (668               CDS       T01001) into github.com/bioservices. Thanks T.C.\u001b[0m\n",
      " 89%|████████▉ | 1185/1328 [07:43<00:50,  2.86it/s]\u001b[33mWARNING [bioservices:keggparser:119]: \u001b[0m \u001b[34mFound keyword SYMBOL, which has not special\n",
      "    parsing for now. please report this issue with the KEGG \n",
      "    identifier (9817              CDS       T01001) into github.com/bioservices. Thanks T.C.\u001b[0m\n"
     ]
    },
    {
     "name": "stdout",
     "output_type": "stream",
     "text": [
      "no data for  FOXL2\n"
     ]
    },
    {
     "name": "stderr",
     "output_type": "stream",
     "text": [
      " 89%|████████▉ | 1186/1328 [07:44<00:45,  3.11it/s]\u001b[33mWARNING [bioservices:keggparser:119]: \u001b[0m \u001b[34mFound keyword SYMBOL, which has not special\n",
      "    parsing for now. please report this issue with the KEGG \n",
      "    identifier (4088              CDS       T01001) into github.com/bioservices. Thanks T.C.\u001b[0m\n",
      " 89%|████████▉ | 1187/1328 [07:44<00:49,  2.84it/s]\u001b[33mWARNING [bioservices:keggparser:119]: \u001b[0m \u001b[34mFound keyword SYMBOL, which has not special\n",
      "    parsing for now. please report this issue with the KEGG \n",
      "    identifier (4089              CDS       T01001) into github.com/bioservices. Thanks T.C.\u001b[0m\n",
      " 89%|████████▉ | 1188/1328 [07:44<00:47,  2.96it/s]\u001b[33mWARNING [bioservices:keggparser:119]: \u001b[0m \u001b[34mFound keyword SYMBOL, which has not special\n",
      "    parsing for now. please report this issue with the KEGG \n",
      "    identifier (4214              CDS       T01001) into github.com/bioservices. Thanks T.C.\u001b[0m\n",
      " 90%|████████▉ | 1189/1328 [07:45<00:44,  3.10it/s]\u001b[33mWARNING [bioservices:keggparser:119]: \u001b[0m \u001b[34mFound keyword SYMBOL, which has not special\n",
      "    parsing for now. please report this issue with the KEGG \n",
      "    identifier (2261              CDS       T01001) into github.com/bioservices. Thanks T.C.\u001b[0m\n",
      " 90%|████████▉ | 1190/1328 [07:45<00:44,  3.12it/s]\u001b[33mWARNING [bioservices:keggparser:119]: \u001b[0m \u001b[34mFound keyword SYMBOL, which has not special\n",
      "    parsing for now. please report this issue with the KEGG \n",
      "    identifier (84433             CDS       T01001) into github.com/bioservices. Thanks T.C.\u001b[0m\n",
      " 90%|████████▉ | 1191/1328 [07:45<00:40,  3.35it/s]\u001b[33mWARNING [bioservices:keggparser:119]: \u001b[0m \u001b[34mFound keyword SYMBOL, which has not special\n",
      "    parsing for now. please report this issue with the KEGG \n",
      "    identifier (3417              CDS       T01001) into github.com/bioservices. Thanks T.C.\u001b[0m\n",
      " 90%|████████▉ | 1192/1328 [07:46<00:42,  3.18it/s]\u001b[33mWARNING [bioservices:keggparser:119]: \u001b[0m \u001b[34mFound keyword SYMBOL, which has not special\n",
      "    parsing for now. please report this issue with the KEGG \n",
      "    identifier (23451             CDS       T01001) into github.com/bioservices. Thanks T.C.\u001b[0m\n",
      " 90%|████████▉ | 1193/1328 [07:46<00:37,  3.55it/s]\u001b[33mWARNING [bioservices:keggparser:119]: \u001b[0m \u001b[34mFound keyword SYMBOL, which has not special\n",
      "    parsing for now. please report this issue with the KEGG \n",
      "    identifier (2066              CDS       T01001) into github.com/bioservices. Thanks T.C.\u001b[0m\n",
      " 90%|████████▉ | 1194/1328 [07:46<00:40,  3.29it/s]\u001b[33mWARNING [bioservices:keggparser:119]: \u001b[0m \u001b[34mFound keyword SYMBOL, which has not special\n",
      "    parsing for now. please report this issue with the KEGG \n",
      "    identifier (2065              CDS       T01001) into github.com/bioservices. Thanks T.C.\u001b[0m\n",
      " 90%|████████▉ | 1195/1328 [07:46<00:38,  3.49it/s]\u001b[33mWARNING [bioservices:keggparser:119]: \u001b[0m \u001b[34mFound keyword SYMBOL, which has not special\n",
      "    parsing for now. please report this issue with the KEGG \n",
      "    identifier (238               CDS       T01001) into github.com/bioservices. Thanks T.C.\u001b[0m\n",
      " 90%|█████████ | 1196/1328 [07:47<00:39,  3.32it/s]\u001b[33mWARNING [bioservices:keggparser:119]: \u001b[0m \u001b[34mFound keyword SYMBOL, which has not special\n",
      "    parsing for now. please report this issue with the KEGG \n",
      "    identifier (7048              CDS       T01001) into github.com/bioservices. Thanks T.C.\u001b[0m\n",
      " 90%|█████████ | 1197/1328 [07:47<00:40,  3.26it/s]\u001b[33mWARNING [bioservices:keggparser:119]: \u001b[0m \u001b[34mFound keyword SYMBOL, which has not special\n",
      "    parsing for now. please report this issue with the KEGG \n",
      "    identifier (673               CDS       T01001) into github.com/bioservices. Thanks T.C.\u001b[0m\n",
      " 90%|█████████ | 1198/1328 [07:48<00:50,  2.57it/s]\u001b[33mWARNING [bioservices:keggparser:119]: \u001b[0m \u001b[34mFound keyword SYMBOL, which has not special\n",
      "    parsing for now. please report this issue with the KEGG \n",
      "    identifier (11122             CDS       T01001) into github.com/bioservices. Thanks T.C.\u001b[0m\n",
      " 90%|█████████ | 1199/1328 [07:48<00:42,  3.03it/s]"
     ]
    },
    {
     "name": "stdout",
     "output_type": "stream",
     "text": [
      "no data for  PTPRT\n"
     ]
    },
    {
     "name": "stderr",
     "output_type": "stream",
     "text": [
      "\u001b[33mWARNING [bioservices:keggparser:119]: \u001b[0m \u001b[34mFound keyword SYMBOL, which has not special\n",
      "    parsing for now. please report this issue with the KEGG \n",
      "    identifier (3169              CDS       T01001) into github.com/bioservices. Thanks T.C.\u001b[0m\n",
      " 90%|█████████ | 1200/1328 [07:48<00:42,  3.01it/s]"
     ]
    },
    {
     "name": "stdout",
     "output_type": "stream",
     "text": [
      "no data for  FOXA1\n"
     ]
    },
    {
     "name": "stderr",
     "output_type": "stream",
     "text": [
      "\u001b[33mWARNING [bioservices:keggparser:119]: \u001b[0m \u001b[34mFound keyword SYMBOL, which has not special\n",
      "    parsing for now. please report this issue with the KEGG \n",
      "    identifier (5290              CDS       T01001) into github.com/bioservices. Thanks T.C.\u001b[0m\n",
      " 90%|█████████ | 1201/1328 [07:49<01:04,  1.98it/s]\u001b[33mWARNING [bioservices:keggparser:119]: \u001b[0m \u001b[34mFound keyword SYMBOL, which has not special\n",
      "    parsing for now. please report this issue with the KEGG \n",
      "    identifier (3815              CDS       T01001) into github.com/bioservices. Thanks T.C.\u001b[0m\n",
      " 91%|█████████ | 1202/1328 [07:49<00:54,  2.32it/s]\u001b[33mWARNING [bioservices:keggparser:119]: \u001b[0m \u001b[34mFound keyword SYMBOL, which has not special\n",
      "    parsing for now. please report this issue with the KEGG \n",
      "    identifier (84433             CDS       T01001) into github.com/bioservices. Thanks T.C.\u001b[0m\n",
      " 91%|█████████ | 1203/1328 [07:50<00:49,  2.54it/s]\u001b[33mWARNING [bioservices:keggparser:119]: \u001b[0m \u001b[34mFound keyword SYMBOL, which has not special\n",
      "    parsing for now. please report this issue with the KEGG \n",
      "    identifier (672               CDS       T01001) into github.com/bioservices. Thanks T.C.\u001b[0m\n",
      " 91%|█████████ | 1204/1328 [07:50<00:43,  2.83it/s]\u001b[33mWARNING [bioservices:keggparser:119]: \u001b[0m \u001b[34mFound keyword SYMBOL, which has not special\n",
      "    parsing for now. please report this issue with the KEGG \n",
      "    identifier (5921              CDS       T01001) into github.com/bioservices. Thanks T.C.\u001b[0m\n",
      " 91%|█████████ | 1205/1328 [07:50<00:41,  3.00it/s]\u001b[33mWARNING [bioservices:keggparser:119]: \u001b[0m \u001b[34mFound keyword SYMBOL, which has not special\n",
      "    parsing for now. please report this issue with the KEGG \n",
      "    identifier (2322              CDS       T01001) into github.com/bioservices. Thanks T.C.\u001b[0m\n",
      " 91%|█████████ | 1206/1328 [07:50<00:38,  3.14it/s]\u001b[33mWARNING [bioservices:keggparser:119]: \u001b[0m \u001b[34mFound keyword SYMBOL, which has not special\n",
      "    parsing for now. please report this issue with the KEGG \n",
      "    identifier (4763              CDS       T01001) into github.com/bioservices. Thanks T.C.\u001b[0m\n",
      " 91%|█████████ | 1207/1328 [07:51<00:36,  3.29it/s]\u001b[33mWARNING [bioservices:keggparser:119]: \u001b[0m \u001b[34mFound keyword SYMBOL, which has not special\n",
      "    parsing for now. please report this issue with the KEGG \n",
      "    identifier (896               CDS       T01001) into github.com/bioservices. Thanks T.C.\u001b[0m\n",
      " 91%|█████████ | 1208/1328 [07:51<00:38,  3.15it/s]\u001b[33mWARNING [bioservices:keggparser:119]: \u001b[0m \u001b[34mFound keyword SYMBOL, which has not special\n",
      "    parsing for now. please report this issue with the KEGG \n",
      "    identifier (672               CDS       T01001) into github.com/bioservices. Thanks T.C.\u001b[0m\n",
      " 91%|█████████ | 1209/1328 [07:51<00:34,  3.42it/s]\u001b[33mWARNING [bioservices:keggparser:119]: \u001b[0m \u001b[34mFound keyword SYMBOL, which has not special\n",
      "    parsing for now. please report this issue with the KEGG \n",
      "    identifier (7157              CDS       T01001) into github.com/bioservices. Thanks T.C.\u001b[0m\n",
      " 91%|█████████ | 1210/1328 [07:52<00:44,  2.66it/s]\u001b[33mWARNING [bioservices:keggparser:119]: \u001b[0m \u001b[34mFound keyword SYMBOL, which has not special\n",
      "    parsing for now. please report this issue with the KEGG \n",
      "    identifier (3716              CDS       T01001) into github.com/bioservices. Thanks T.C.\u001b[0m\n",
      " 91%|█████████ | 1211/1328 [07:52<00:42,  2.75it/s]\u001b[33mWARNING [bioservices:keggparser:119]: \u001b[0m \u001b[34mFound keyword SYMBOL, which has not special\n",
      "    parsing for now. please report this issue with the KEGG \n",
      "    identifier (4436              CDS       T01001) into github.com/bioservices. Thanks T.C.\u001b[0m\n",
      " 91%|█████████▏| 1212/1328 [07:52<00:37,  3.11it/s]\u001b[33mWARNING [bioservices:keggparser:119]: \u001b[0m \u001b[34mFound keyword SYMBOL, which has not special\n",
      "    parsing for now. please report this issue with the KEGG \n",
      "    identifier (3845              CDS       T01001) into github.com/bioservices. Thanks T.C.\u001b[0m\n",
      " 91%|█████████▏| 1213/1328 [07:53<00:55,  2.06it/s]\u001b[33mWARNING [bioservices:keggparser:119]: \u001b[0m \u001b[34mFound keyword SYMBOL, which has not special\n",
      "    parsing for now. please report this issue with the KEGG \n",
      "    identifier (3845              CDS       T01001) into github.com/bioservices. Thanks T.C.\u001b[0m\n",
      " 91%|█████████▏| 1214/1328 [07:54<01:04,  1.76it/s]\u001b[33mWARNING [bioservices:keggparser:119]: \u001b[0m \u001b[34mFound keyword SYMBOL, which has not special\n",
      "    parsing for now. please report this issue with the KEGG \n",
      "    identifier (387               CDS       T01001) into github.com/bioservices. Thanks T.C.\u001b[0m\n",
      " 91%|█████████▏| 1215/1328 [07:54<00:58,  1.93it/s]\u001b[33mWARNING [bioservices:keggparser:119]: \u001b[0m \u001b[34mFound keyword SYMBOL, which has not special\n",
      "    parsing for now. please report this issue with the KEGG \n",
      "    identifier (672               CDS       T01001) into github.com/bioservices. Thanks T.C.\u001b[0m\n",
      " 92%|█████████▏| 1216/1328 [07:55<00:48,  2.30it/s]\u001b[33mWARNING [bioservices:keggparser:119]: \u001b[0m \u001b[34mFound keyword SYMBOL, which has not special\n",
      "    parsing for now. please report this issue with the KEGG \n",
      "    identifier (5728              CDS       T01001) into github.com/bioservices. Thanks T.C.\u001b[0m\n",
      " 92%|█████████▏| 1217/1328 [07:55<00:48,  2.28it/s]\u001b[33mWARNING [bioservices:keggparser:119]: \u001b[0m \u001b[34mFound keyword SYMBOL, which has not special\n",
      "    parsing for now. please report this issue with the KEGG \n",
      "    identifier (6608              CDS       T01001) into github.com/bioservices. Thanks T.C.\u001b[0m\n",
      " 92%|█████████▏| 1218/1328 [07:55<00:41,  2.67it/s]\u001b[33mWARNING [bioservices:keggparser:119]: \u001b[0m \u001b[34mFound keyword SYMBOL, which has not special\n",
      "    parsing for now. please report this issue with the KEGG \n",
      "    identifier (867               CDS       T01001) into github.com/bioservices. Thanks T.C.\u001b[0m\n",
      " 92%|█████████▏| 1219/1328 [07:56<00:40,  2.70it/s]\u001b[33mWARNING [bioservices:keggparser:119]: \u001b[0m \u001b[34mFound keyword SYMBOL, which has not special\n",
      "    parsing for now. please report this issue with the KEGG \n",
      "    identifier (4921              CDS       T01001) into github.com/bioservices. Thanks T.C.\u001b[0m\n",
      " 92%|█████████▏| 1220/1328 [07:56<00:34,  3.16it/s]"
     ]
    },
    {
     "name": "stdout",
     "output_type": "stream",
     "text": [
      "no data for  DDR2\n"
     ]
    },
    {
     "name": "stderr",
     "output_type": "stream",
     "text": [
      "\u001b[33mWARNING [bioservices:keggparser:119]: \u001b[0m \u001b[34mFound keyword SYMBOL, which has not special\n",
      "    parsing for now. please report this issue with the KEGG \n",
      "    identifier (5159              CDS       T01001) into github.com/bioservices. Thanks T.C.\u001b[0m\n",
      " 92%|█████████▏| 1221/1328 [07:56<00:37,  2.83it/s]\u001b[33mWARNING [bioservices:keggparser:119]: \u001b[0m \u001b[34mFound keyword SYMBOL, which has not special\n",
      "    parsing for now. please report this issue with the KEGG \n",
      "    identifier (5290              CDS       T01001) into github.com/bioservices. Thanks T.C.\u001b[0m\n",
      " 92%|█████████▏| 1222/1328 [07:57<00:54,  1.96it/s]\u001b[33mWARNING [bioservices:keggparser:119]: \u001b[0m \u001b[34mFound keyword SYMBOL, which has not special\n",
      "    parsing for now. please report this issue with the KEGG \n",
      "    identifier (5979              CDS       T01001) into github.com/bioservices. Thanks T.C.\u001b[0m\n",
      " 92%|█████████▏| 1223/1328 [07:57<00:44,  2.36it/s]\u001b[33mWARNING [bioservices:keggparser:119]: \u001b[0m \u001b[34mFound keyword SYMBOL, which has not special\n",
      "    parsing for now. please report this issue with the KEGG \n",
      "    identifier (2175              CDS       T01001) into github.com/bioservices. Thanks T.C.\u001b[0m\n",
      " 92%|█████████▏| 1224/1328 [07:58<00:41,  2.51it/s]\u001b[33mWARNING [bioservices:keggparser:119]: \u001b[0m \u001b[34mFound keyword SYMBOL, which has not special\n",
      "    parsing for now. please report this issue with the KEGG \n",
      "    identifier (10000             CDS       T01001) into github.com/bioservices. Thanks T.C.\u001b[0m\n",
      " 92%|█████████▏| 1225/1328 [07:59<00:55,  1.87it/s]\u001b[33mWARNING [bioservices:keggparser:119]: \u001b[0m \u001b[34mFound keyword SYMBOL, which has not special\n",
      "    parsing for now. please report this issue with the KEGG \n",
      "    identifier (6934              CDS       T01001) into github.com/bioservices. Thanks T.C.\u001b[0m\n",
      " 92%|█████████▏| 1226/1328 [07:59<00:47,  2.14it/s]\u001b[33mWARNING [bioservices:keggparser:119]: \u001b[0m \u001b[34mFound keyword SYMBOL, which has not special\n",
      "    parsing for now. please report this issue with the KEGG \n",
      "    identifier (4921              CDS       T01001) into github.com/bioservices. Thanks T.C.\u001b[0m\n",
      " 92%|█████████▏| 1227/1328 [07:59<00:39,  2.53it/s]"
     ]
    },
    {
     "name": "stdout",
     "output_type": "stream",
     "text": [
      "no data for  DDR2\n"
     ]
    },
    {
     "name": "stderr",
     "output_type": "stream",
     "text": [
      "\u001b[33mWARNING [bioservices:keggparser:119]: \u001b[0m \u001b[34mFound keyword SYMBOL, which has not special\n",
      "    parsing for now. please report this issue with the KEGG \n",
      "    identifier (861               CDS       T01001) into github.com/bioservices. Thanks T.C.\u001b[0m\n",
      " 92%|█████████▏| 1228/1328 [08:00<00:38,  2.61it/s]\u001b[33mWARNING [bioservices:keggparser:119]: \u001b[0m \u001b[34mFound keyword SYMBOL, which has not special\n",
      "    parsing for now. please report this issue with the KEGG \n",
      "    identifier (5290              CDS       T01001) into github.com/bioservices. Thanks T.C.\u001b[0m\n",
      " 93%|█████████▎| 1229/1328 [08:00<00:52,  1.89it/s]\u001b[33mWARNING [bioservices:keggparser:119]: \u001b[0m \u001b[34mFound keyword SYMBOL, which has not special\n",
      "    parsing for now. please report this issue with the KEGG \n",
      "    identifier (2956              CDS       T01001) into github.com/bioservices. Thanks T.C.\u001b[0m\n",
      " 93%|█████████▎| 1230/1328 [08:01<00:42,  2.28it/s]\u001b[33mWARNING [bioservices:keggparser:119]: \u001b[0m \u001b[34mFound keyword SYMBOL, which has not special\n",
      "    parsing for now. please report this issue with the KEGG \n",
      "    identifier (2034              CDS       T01001) into github.com/bioservices. Thanks T.C.\u001b[0m\n",
      " 93%|█████████▎| 1231/1328 [08:01<00:39,  2.46it/s]\u001b[33mWARNING [bioservices:keggparser:119]: \u001b[0m \u001b[34mFound keyword SYMBOL, which has not special\n",
      "    parsing for now. please report this issue with the KEGG \n",
      "    identifier (5290              CDS       T01001) into github.com/bioservices. Thanks T.C.\u001b[0m\n",
      " 93%|█████████▎| 1232/1328 [08:02<00:54,  1.76it/s]\u001b[33mWARNING [bioservices:keggparser:119]: \u001b[0m \u001b[34mFound keyword SYMBOL, which has not special\n",
      "    parsing for now. please report this issue with the KEGG \n",
      "    identifier (1956              CDS       T01001) into github.com/bioservices. Thanks T.C.\u001b[0m\n",
      " 93%|█████████▎| 1233/1328 [08:03<00:54,  1.74it/s]\u001b[33mWARNING [bioservices:keggparser:119]: \u001b[0m \u001b[34mFound keyword SYMBOL, which has not special\n",
      "    parsing for now. please report this issue with the KEGG \n",
      "    identifier (4916              CDS       T01001) into github.com/bioservices. Thanks T.C.\u001b[0m\n",
      " 93%|█████████▎| 1234/1328 [08:03<00:44,  2.13it/s]\u001b[33mWARNING [bioservices:keggparser:119]: \u001b[0m \u001b[34mFound keyword SYMBOL, which has not special\n",
      "    parsing for now. please report this issue with the KEGG \n",
      "    identifier (238               CDS       T01001) into github.com/bioservices. Thanks T.C.\u001b[0m\n",
      " 93%|█████████▎| 1235/1328 [08:03<00:40,  2.32it/s]\u001b[33mWARNING [bioservices:keggparser:119]: \u001b[0m \u001b[34mFound keyword SYMBOL, which has not special\n",
      "    parsing for now. please report this issue with the KEGG \n",
      "    identifier (1999              CDS       T01001) into github.com/bioservices. Thanks T.C.\u001b[0m\n",
      " 93%|█████████▎| 1236/1328 [08:03<00:32,  2.80it/s]"
     ]
    },
    {
     "name": "stdout",
     "output_type": "stream",
     "text": [
      "no data for  ELF3\n"
     ]
    },
    {
     "name": "stderr",
     "output_type": "stream",
     "text": [
      "\u001b[33mWARNING [bioservices:keggparser:119]: \u001b[0m \u001b[34mFound keyword SYMBOL, which has not special\n",
      "    parsing for now. please report this issue with the KEGG \n",
      "    identifier (672               CDS       T01001) into github.com/bioservices. Thanks T.C.\u001b[0m\n",
      " 93%|█████████▎| 1237/1328 [08:04<00:33,  2.69it/s]\u001b[33mWARNING [bioservices:keggparser:119]: \u001b[0m \u001b[34mFound keyword SYMBOL, which has not special\n",
      "    parsing for now. please report this issue with the KEGG \n",
      "    identifier (1499              CDS       T01001) into github.com/bioservices. Thanks T.C.\u001b[0m\n",
      " 93%|█████████▎| 1238/1328 [08:04<00:33,  2.67it/s]\u001b[33mWARNING [bioservices:keggparser:119]: \u001b[0m \u001b[34mFound keyword SYMBOL, which has not special\n",
      "    parsing for now. please report this issue with the KEGG \n",
      "    identifier (672               CDS       T01001) into github.com/bioservices. Thanks T.C.\u001b[0m\n",
      " 93%|█████████▎| 1239/1328 [08:04<00:29,  2.98it/s]\u001b[33mWARNING [bioservices:keggparser:119]: \u001b[0m \u001b[34mFound keyword SYMBOL, which has not special\n",
      "    parsing for now. please report this issue with the KEGG \n",
      "    identifier (3815              CDS       T01001) into github.com/bioservices. Thanks T.C.\u001b[0m\n",
      " 93%|█████████▎| 1240/1328 [08:05<00:29,  2.94it/s]\u001b[33mWARNING [bioservices:keggparser:119]: \u001b[0m \u001b[34mFound keyword SYMBOL, which has not special\n",
      "    parsing for now. please report this issue with the KEGG \n",
      "    identifier (7157              CDS       T01001) into github.com/bioservices. Thanks T.C.\u001b[0m\n",
      " 93%|█████████▎| 1241/1328 [08:05<00:32,  2.67it/s]\u001b[33mWARNING [bioservices:keggparser:119]: \u001b[0m \u001b[34mFound keyword SYMBOL, which has not special\n",
      "    parsing for now. please report this issue with the KEGG \n",
      "    identifier (4087              CDS       T01001) into github.com/bioservices. Thanks T.C.\u001b[0m\n",
      " 94%|█████████▎| 1242/1328 [08:05<00:30,  2.80it/s]\u001b[33mWARNING [bioservices:keggparser:119]: \u001b[0m \u001b[34mFound keyword SYMBOL, which has not special\n",
      "    parsing for now. please report this issue with the KEGG \n",
      "    identifier (675               CDS       T01001) into github.com/bioservices. Thanks T.C.\u001b[0m\n",
      " 94%|█████████▎| 1243/1328 [08:06<00:31,  2.70it/s]\u001b[33mWARNING [bioservices:keggparser:119]: \u001b[0m \u001b[34mFound keyword SYMBOL, which has not special\n",
      "    parsing for now. please report this issue with the KEGG \n",
      "    identifier (5979              CDS       T01001) into github.com/bioservices. Thanks T.C.\u001b[0m\n",
      " 94%|█████████▎| 1244/1328 [08:06<00:27,  3.01it/s]\u001b[33mWARNING [bioservices:keggparser:119]: \u001b[0m \u001b[34mFound keyword SYMBOL, which has not special\n",
      "    parsing for now. please report this issue with the KEGG \n",
      "    identifier (84433             CDS       T01001) into github.com/bioservices. Thanks T.C.\u001b[0m\n",
      " 94%|█████████▍| 1245/1328 [08:06<00:27,  3.04it/s]\u001b[33mWARNING [bioservices:keggparser:119]: \u001b[0m \u001b[34mFound keyword SYMBOL, which has not special\n",
      "    parsing for now. please report this issue with the KEGG \n",
      "    identifier (8405              CDS       T01001) into github.com/bioservices. Thanks T.C.\u001b[0m\n",
      " 94%|█████████▍| 1246/1328 [08:07<00:24,  3.36it/s]\u001b[33mWARNING [bioservices:keggparser:119]: \u001b[0m \u001b[34mFound keyword SYMBOL, which has not special\n",
      "    parsing for now. please report this issue with the KEGG \n",
      "    identifier (4089              CDS       T01001) into github.com/bioservices. Thanks T.C.\u001b[0m\n",
      " 94%|█████████▍| 1247/1328 [08:07<00:26,  3.00it/s]\u001b[33mWARNING [bioservices:keggparser:119]: \u001b[0m \u001b[34mFound keyword SYMBOL, which has not special\n",
      "    parsing for now. please report this issue with the KEGG \n",
      "    identifier (2064              CDS       T01001) into github.com/bioservices. Thanks T.C.\u001b[0m\n",
      " 94%|█████████▍| 1248/1328 [08:07<00:26,  3.05it/s]\u001b[33mWARNING [bioservices:keggparser:119]: \u001b[0m \u001b[34mFound keyword SYMBOL, which has not special\n",
      "    parsing for now. please report this issue with the KEGG \n",
      "    identifier (7249              CDS       T01001) into github.com/bioservices. Thanks T.C.\u001b[0m\n",
      " 94%|█████████▍| 1249/1328 [08:08<00:25,  3.14it/s]\u001b[33mWARNING [bioservices:keggparser:119]: \u001b[0m \u001b[34mFound keyword SYMBOL, which has not special\n",
      "    parsing for now. please report this issue with the KEGG \n",
      "    identifier (5395              CDS       T01001) into github.com/bioservices. Thanks T.C.\u001b[0m\n",
      " 94%|█████████▍| 1250/1328 [08:08<00:23,  3.37it/s]\u001b[33mWARNING [bioservices:keggparser:119]: \u001b[0m \u001b[34mFound keyword SYMBOL, which has not special\n",
      "    parsing for now. please report this issue with the KEGG \n",
      "    identifier (1029              CDS       T01001) into github.com/bioservices. Thanks T.C.\u001b[0m\n",
      " 94%|█████████▍| 1251/1328 [08:08<00:25,  3.07it/s]\u001b[33mWARNING [bioservices:keggparser:119]: \u001b[0m \u001b[34mFound keyword SYMBOL, which has not special\n",
      "    parsing for now. please report this issue with the KEGG \n",
      "    identifier (7249              CDS       T01001) into github.com/bioservices. Thanks T.C.\u001b[0m\n",
      " 94%|█████████▍| 1252/1328 [08:09<00:23,  3.27it/s]\u001b[33mWARNING [bioservices:keggparser:119]: \u001b[0m \u001b[34mFound keyword SYMBOL, which has not special\n",
      "    parsing for now. please report this issue with the KEGG \n",
      "    identifier (207               CDS       T01001) into github.com/bioservices. Thanks T.C.\u001b[0m\n",
      " 94%|█████████▍| 1253/1328 [08:09<00:37,  2.02it/s]\u001b[33mWARNING [bioservices:keggparser:119]: \u001b[0m \u001b[34mFound keyword SYMBOL, which has not special\n",
      "    parsing for now. please report this issue with the KEGG \n",
      "    identifier (7158              CDS       T01001) into github.com/bioservices. Thanks T.C.\u001b[0m\n",
      " 94%|█████████▍| 1254/1328 [08:10<00:30,  2.45it/s]\u001b[33mWARNING [bioservices:keggparser:119]: \u001b[0m \u001b[34mFound keyword SYMBOL, which has not special\n",
      "    parsing for now. please report this issue with the KEGG \n",
      "    identifier (4089              CDS       T01001) into github.com/bioservices. Thanks T.C.\u001b[0m\n",
      " 95%|█████████▍| 1255/1328 [08:10<00:30,  2.42it/s]\u001b[33mWARNING [bioservices:keggparser:119]: \u001b[0m \u001b[34mFound keyword SYMBOL, which has not special\n",
      "    parsing for now. please report this issue with the KEGG \n",
      "    identifier (6016              CDS       T01001) into github.com/bioservices. Thanks T.C.\u001b[0m\n",
      " 95%|█████████▍| 1256/1328 [08:10<00:24,  2.89it/s]"
     ]
    },
    {
     "name": "stdout",
     "output_type": "stream",
     "text": [
      "no data for  RIT1\n"
     ]
    },
    {
     "name": "stderr",
     "output_type": "stream",
     "text": [
      "\u001b[33mWARNING [bioservices:keggparser:119]: \u001b[0m \u001b[34mFound keyword SYMBOL, which has not special\n",
      "    parsing for now. please report this issue with the KEGG \n",
      "    identifier (5979              CDS       T01001) into github.com/bioservices. Thanks T.C.\u001b[0m\n",
      " 95%|█████████▍| 1257/1328 [08:11<00:25,  2.80it/s]\u001b[33mWARNING [bioservices:keggparser:119]: \u001b[0m \u001b[34mFound keyword SYMBOL, which has not special\n",
      "    parsing for now. please report this issue with the KEGG \n",
      "    identifier (867               CDS       T01001) into github.com/bioservices. Thanks T.C.\u001b[0m\n",
      " 95%|█████████▍| 1258/1328 [08:11<00:22,  3.11it/s]\u001b[33mWARNING [bioservices:keggparser:119]: \u001b[0m \u001b[34mFound keyword SYMBOL, which has not special\n",
      "    parsing for now. please report this issue with the KEGG \n",
      "    identifier (672               CDS       T01001) into github.com/bioservices. Thanks T.C.\u001b[0m\n",
      " 95%|█████████▍| 1259/1328 [08:11<00:22,  3.07it/s]\u001b[33mWARNING [bioservices:keggparser:119]: \u001b[0m \u001b[34mFound keyword SYMBOL, which has not special\n",
      "    parsing for now. please report this issue with the KEGG \n",
      "    identifier (3815              CDS       T01001) into github.com/bioservices. Thanks T.C.\u001b[0m\n",
      " 95%|█████████▍| 1260/1328 [08:11<00:20,  3.27it/s]\u001b[33mWARNING [bioservices:keggparser:119]: \u001b[0m \u001b[34mFound keyword SYMBOL, which has not special\n",
      "    parsing for now. please report this issue with the KEGG \n",
      "    identifier (2322              CDS       T01001) into github.com/bioservices. Thanks T.C.\u001b[0m\n",
      " 95%|█████████▍| 1261/1328 [08:12<00:21,  3.15it/s]\u001b[33mWARNING [bioservices:keggparser:119]: \u001b[0m \u001b[34mFound keyword SYMBOL, which has not special\n",
      "    parsing for now. please report this issue with the KEGG \n",
      "    identifier (673               CDS       T01001) into github.com/bioservices. Thanks T.C.\u001b[0m\n",
      " 95%|█████████▌| 1262/1328 [08:12<00:26,  2.52it/s]\u001b[33mWARNING [bioservices:keggparser:119]: \u001b[0m \u001b[34mFound keyword SYMBOL, which has not special\n",
      "    parsing for now. please report this issue with the KEGG \n",
      "    identifier (5728              CDS       T01001) into github.com/bioservices. Thanks T.C.\u001b[0m\n",
      " 95%|█████████▌| 1263/1328 [08:13<00:24,  2.61it/s]\u001b[33mWARNING [bioservices:keggparser:119]: \u001b[0m \u001b[34mFound keyword SYMBOL, which has not special\n",
      "    parsing for now. please report this issue with the KEGG \n",
      "    identifier (861               CDS       T01001) into github.com/bioservices. Thanks T.C.\u001b[0m\n",
      " 95%|█████████▌| 1264/1328 [08:13<00:21,  2.98it/s]\u001b[33mWARNING [bioservices:keggparser:119]: \u001b[0m \u001b[34mFound keyword SYMBOL, which has not special\n",
      "    parsing for now. please report this issue with the KEGG \n",
      "    identifier (4233              CDS       T01001) into github.com/bioservices. Thanks T.C.\u001b[0m\n",
      " 95%|█████████▌| 1265/1328 [08:13<00:23,  2.71it/s]\u001b[33mWARNING [bioservices:keggparser:119]: \u001b[0m \u001b[34mFound keyword SYMBOL, which has not special\n",
      "    parsing for now. please report this issue with the KEGG \n",
      "    identifier (4763              CDS       T01001) into github.com/bioservices. Thanks T.C.\u001b[0m\n",
      " 95%|█████████▌| 1266/1328 [08:14<00:19,  3.11it/s]\u001b[33mWARNING [bioservices:keggparser:119]: \u001b[0m \u001b[34mFound keyword SYMBOL, which has not special\n",
      "    parsing for now. please report this issue with the KEGG \n",
      "    identifier (3717              CDS       T01001) into github.com/bioservices. Thanks T.C.\u001b[0m\n",
      " 95%|█████████▌| 1267/1328 [08:14<00:22,  2.76it/s]\u001b[33mWARNING [bioservices:keggparser:119]: \u001b[0m \u001b[34mFound keyword SYMBOL, which has not special\n",
      "    parsing for now. please report this issue with the KEGG \n",
      "    identifier (5156              CDS       T01001) into github.com/bioservices. Thanks T.C.\u001b[0m\n",
      " 95%|█████████▌| 1268/1328 [08:14<00:20,  2.93it/s]\u001b[33mWARNING [bioservices:keggparser:119]: \u001b[0m \u001b[34mFound keyword SYMBOL, which has not special\n",
      "    parsing for now. please report this issue with the KEGG \n",
      "    identifier (23429             CDS       T01001) into github.com/bioservices. Thanks T.C.\u001b[0m\n",
      " 96%|█████████▌| 1269/1328 [08:15<00:18,  3.23it/s]"
     ]
    },
    {
     "name": "stdout",
     "output_type": "stream",
     "text": [
      "no data for  RYBP\n"
     ]
    },
    {
     "name": "stderr",
     "output_type": "stream",
     "text": [
      "\u001b[33mWARNING [bioservices:keggparser:119]: \u001b[0m \u001b[34mFound keyword SYMBOL, which has not special\n",
      "    parsing for now. please report this issue with the KEGG \n",
      "    identifier (5781              CDS       T01001) into github.com/bioservices. Thanks T.C.\u001b[0m\n",
      " 96%|█████████▌| 1270/1328 [08:15<00:19,  2.95it/s]\u001b[33mWARNING [bioservices:keggparser:119]: \u001b[0m \u001b[34mFound keyword SYMBOL, which has not special\n",
      "    parsing for now. please report this issue with the KEGG \n",
      "    identifier (4921              CDS       T01001) into github.com/bioservices. Thanks T.C.\u001b[0m\n",
      " 96%|█████████▌| 1271/1328 [08:15<00:16,  3.41it/s]"
     ]
    },
    {
     "name": "stdout",
     "output_type": "stream",
     "text": [
      "no data for  DDR2\n"
     ]
    },
    {
     "name": "stderr",
     "output_type": "stream",
     "text": [
      "\u001b[33mWARNING [bioservices:keggparser:119]: \u001b[0m \u001b[34mFound keyword SYMBOL, which has not special\n",
      "    parsing for now. please report this issue with the KEGG \n",
      "    identifier (2175              CDS       T01001) into github.com/bioservices. Thanks T.C.\u001b[0m\n",
      " 96%|█████████▌| 1272/1328 [08:16<00:17,  3.16it/s]\u001b[33mWARNING [bioservices:keggparser:119]: \u001b[0m \u001b[34mFound keyword SYMBOL, which has not special\n",
      "    parsing for now. please report this issue with the KEGG \n",
      "    identifier (672               CDS       T01001) into github.com/bioservices. Thanks T.C.\u001b[0m\n",
      " 96%|█████████▌| 1273/1328 [08:16<00:16,  3.38it/s]\u001b[33mWARNING [bioservices:keggparser:119]: \u001b[0m \u001b[34mFound keyword SYMBOL, which has not special\n",
      "    parsing for now. please report this issue with the KEGG \n",
      "    identifier (675               CDS       T01001) into github.com/bioservices. Thanks T.C.\u001b[0m\n",
      " 96%|█████████▌| 1274/1328 [08:16<00:18,  2.87it/s]\u001b[33mWARNING [bioservices:keggparser:119]: \u001b[0m \u001b[34mFound keyword SYMBOL, which has not special\n",
      "    parsing for now. please report this issue with the KEGG \n",
      "    identifier (100271849         CDS       T01001) into github.com/bioservices. Thanks T.C.\u001b[0m\n",
      " 96%|█████████▌| 1275/1328 [08:17<00:16,  3.22it/s]\u001b[33mWARNING [bioservices:keggparser:119]: \u001b[0m \u001b[34mFound keyword SYMBOL, which has not special\n",
      "    parsing for now. please report this issue with the KEGG \n",
      "    identifier (4292              CDS       T01001) into github.com/bioservices. Thanks T.C.\u001b[0m\n",
      " 96%|█████████▌| 1276/1328 [08:17<00:16,  3.09it/s]\u001b[33mWARNING [bioservices:keggparser:119]: \u001b[0m \u001b[34mFound keyword SYMBOL, which has not special\n",
      "    parsing for now. please report this issue with the KEGG \n",
      "    identifier (5156              CDS       T01001) into github.com/bioservices. Thanks T.C.\u001b[0m\n",
      " 96%|█████████▌| 1277/1328 [08:17<00:16,  3.12it/s]\u001b[33mWARNING [bioservices:keggparser:119]: \u001b[0m \u001b[34mFound keyword SYMBOL, which has not special\n",
      "    parsing for now. please report this issue with the KEGG \n",
      "    identifier (675               CDS       T01001) into github.com/bioservices. Thanks T.C.\u001b[0m\n",
      " 96%|█████████▌| 1278/1328 [08:18<00:17,  2.94it/s]\u001b[33mWARNING [bioservices:keggparser:119]: \u001b[0m \u001b[34mFound keyword SYMBOL, which has not special\n",
      "    parsing for now. please report this issue with the KEGG \n",
      "    identifier (5781              CDS       T01001) into github.com/bioservices. Thanks T.C.\u001b[0m\n",
      " 96%|█████████▋| 1279/1328 [08:18<00:15,  3.07it/s]\u001b[33mWARNING [bioservices:keggparser:119]: \u001b[0m \u001b[34mFound keyword SYMBOL, which has not special\n",
      "    parsing for now. please report this issue with the KEGG \n",
      "    identifier (2034              CDS       T01001) into github.com/bioservices. Thanks T.C.\u001b[0m\n",
      " 96%|█████████▋| 1280/1328 [08:18<00:14,  3.29it/s]\u001b[33mWARNING [bioservices:keggparser:119]: \u001b[0m \u001b[34mFound keyword SYMBOL, which has not special\n",
      "    parsing for now. please report this issue with the KEGG \n",
      "    identifier (672               CDS       T01001) into github.com/bioservices. Thanks T.C.\u001b[0m\n",
      " 96%|█████████▋| 1281/1328 [08:18<00:14,  3.18it/s]\u001b[33mWARNING [bioservices:keggparser:119]: \u001b[0m \u001b[34mFound keyword SYMBOL, which has not special\n",
      "    parsing for now. please report this issue with the KEGG \n",
      "    identifier (673               CDS       T01001) into github.com/bioservices. Thanks T.C.\u001b[0m\n",
      " 97%|█████████▋| 1282/1328 [08:19<00:18,  2.55it/s]\u001b[33mWARNING [bioservices:keggparser:119]: \u001b[0m \u001b[34mFound keyword SYMBOL, which has not special\n",
      "    parsing for now. please report this issue with the KEGG \n",
      "    identifier (472               CDS       T01001) into github.com/bioservices. Thanks T.C.\u001b[0m\n",
      " 97%|█████████▋| 1283/1328 [08:20<00:20,  2.24it/s]\u001b[33mWARNING [bioservices:keggparser:119]: \u001b[0m \u001b[34mFound keyword SYMBOL, which has not special\n",
      "    parsing for now. please report this issue with the KEGG \n",
      "    identifier (11200             CDS       T01001) into github.com/bioservices. Thanks T.C.\u001b[0m\n",
      " 97%|█████████▋| 1284/1328 [08:20<00:16,  2.64it/s]\u001b[33mWARNING [bioservices:keggparser:119]: \u001b[0m \u001b[34mFound keyword SYMBOL, which has not special\n",
      "    parsing for now. please report this issue with the KEGG \n",
      "    identifier (4851              CDS       T01001) into github.com/bioservices. Thanks T.C.\u001b[0m\n",
      " 97%|█████████▋| 1285/1328 [08:20<00:16,  2.67it/s]\u001b[33mWARNING [bioservices:keggparser:119]: \u001b[0m \u001b[34mFound keyword SYMBOL, which has not special\n",
      "    parsing for now. please report this issue with the KEGG \n",
      "    identifier (7157              CDS       T01001) into github.com/bioservices. Thanks T.C.\u001b[0m\n",
      " 97%|█████████▋| 1286/1328 [08:21<00:16,  2.48it/s]\u001b[33mWARNING [bioservices:keggparser:119]: \u001b[0m \u001b[34mFound keyword SYMBOL, which has not special\n",
      "    parsing for now. please report this issue with the KEGG \n",
      "    identifier (675               CDS       T01001) into github.com/bioservices. Thanks T.C.\u001b[0m\n",
      " 97%|█████████▋| 1287/1328 [08:21<00:16,  2.52it/s]\u001b[33mWARNING [bioservices:keggparser:119]: \u001b[0m \u001b[34mFound keyword SYMBOL, which has not special\n",
      "    parsing for now. please report this issue with the KEGG \n",
      "    identifier (5728              CDS       T01001) into github.com/bioservices. Thanks T.C.\u001b[0m\n",
      " 97%|█████████▋| 1288/1328 [08:21<00:15,  2.61it/s]\u001b[33mWARNING [bioservices:keggparser:119]: \u001b[0m \u001b[34mFound keyword SYMBOL, which has not special\n",
      "    parsing for now. please report this issue with the KEGG \n",
      "    identifier (1029              CDS       T01001) into github.com/bioservices. Thanks T.C.\u001b[0m\n",
      " 97%|█████████▋| 1289/1328 [08:22<00:13,  2.82it/s]\u001b[33mWARNING [bioservices:keggparser:119]: \u001b[0m \u001b[34mFound keyword SYMBOL, which has not special\n",
      "    parsing for now. please report this issue with the KEGG \n",
      "    identifier (1956              CDS       T01001) into github.com/bioservices. Thanks T.C.\u001b[0m\n",
      " 97%|█████████▋| 1290/1328 [08:22<00:16,  2.27it/s]\u001b[33mWARNING [bioservices:keggparser:119]: \u001b[0m \u001b[34mFound keyword SYMBOL, which has not special\n",
      "    parsing for now. please report this issue with the KEGG \n",
      "    identifier (8405              CDS       T01001) into github.com/bioservices. Thanks T.C.\u001b[0m\n",
      " 97%|█████████▋| 1291/1328 [08:23<00:13,  2.72it/s]\u001b[33mWARNING [bioservices:keggparser:119]: \u001b[0m \u001b[34mFound keyword SYMBOL, which has not special\n",
      "    parsing for now. please report this issue with the KEGG \n",
      "    identifier (6790              CDS       T01001) into github.com/bioservices. Thanks T.C.\u001b[0m\n",
      " 97%|█████████▋| 1292/1328 [08:23<00:13,  2.73it/s]\u001b[33mWARNING [bioservices:keggparser:119]: \u001b[0m \u001b[34mFound keyword SYMBOL, which has not special\n",
      "    parsing for now. please report this issue with the KEGG \n",
      "    identifier (9611              CDS       T01001) into github.com/bioservices. Thanks T.C.\u001b[0m\n",
      " 97%|█████████▋| 1293/1328 [08:23<00:11,  3.11it/s]\u001b[33mWARNING [bioservices:keggparser:119]: \u001b[0m \u001b[34mFound keyword SYMBOL, which has not special\n",
      "    parsing for now. please report this issue with the KEGG \n",
      "    identifier (2475              CDS       T01001) into github.com/bioservices. Thanks T.C.\u001b[0m\n",
      " 97%|█████████▋| 1294/1328 [08:24<00:15,  2.24it/s]\u001b[33mWARNING [bioservices:keggparser:119]: \u001b[0m \u001b[34mFound keyword SYMBOL, which has not special\n",
      "    parsing for now. please report this issue with the KEGG \n",
      "    identifier (2120              CDS       T01001) into github.com/bioservices. Thanks T.C.\u001b[0m\n",
      " 98%|█████████▊| 1295/1328 [08:24<00:12,  2.68it/s]\u001b[33mWARNING [bioservices:keggparser:119]: \u001b[0m \u001b[34mFound keyword SYMBOL, which has not special\n",
      "    parsing for now. please report this issue with the KEGG \n",
      "    identifier (2064              CDS       T01001) into github.com/bioservices. Thanks T.C.\u001b[0m\n",
      " 98%|█████████▊| 1296/1328 [08:25<00:12,  2.47it/s]\u001b[33mWARNING [bioservices:keggparser:119]: \u001b[0m \u001b[34mFound keyword SYMBOL, which has not special\n",
      "    parsing for now. please report this issue with the KEGG \n",
      "    identifier (2120              CDS       T01001) into github.com/bioservices. Thanks T.C.\u001b[0m\n",
      " 98%|█████████▊| 1297/1328 [08:25<00:10,  2.91it/s]\u001b[33mWARNING [bioservices:keggparser:119]: \u001b[0m \u001b[34mFound keyword SYMBOL, which has not special\n",
      "    parsing for now. please report this issue with the KEGG \n",
      "    identifier (2064              CDS       T01001) into github.com/bioservices. Thanks T.C.\u001b[0m\n"
     ]
    },
    {
     "name": "stderr",
     "output_type": "stream",
     "text": [
      " 98%|█████████▊| 1298/1328 [08:25<00:11,  2.63it/s]\u001b[33mWARNING [bioservices:keggparser:119]: \u001b[0m \u001b[34mFound keyword SYMBOL, which has not special\n",
      "    parsing for now. please report this issue with the KEGG \n",
      "    identifier (672               CDS       T01001) into github.com/bioservices. Thanks T.C.\u001b[0m\n",
      " 98%|█████████▊| 1299/1328 [08:25<00:09,  2.96it/s]\u001b[33mWARNING [bioservices:keggparser:119]: \u001b[0m \u001b[34mFound keyword SYMBOL, which has not special\n",
      "    parsing for now. please report this issue with the KEGG \n",
      "    identifier (9688              CDS       T01001) into github.com/bioservices. Thanks T.C.\u001b[0m\n",
      " 98%|█████████▊| 1300/1328 [08:26<00:09,  2.98it/s]\u001b[33mWARNING [bioservices:keggparser:119]: \u001b[0m \u001b[34mFound keyword SYMBOL, which has not special\n",
      "    parsing for now. please report this issue with the KEGG \n",
      "    identifier (1029              CDS       T01001) into github.com/bioservices. Thanks T.C.\u001b[0m\n",
      " 98%|█████████▊| 1301/1328 [08:26<00:08,  3.00it/s]\u001b[33mWARNING [bioservices:keggparser:119]: \u001b[0m \u001b[34mFound keyword SYMBOL, which has not special\n",
      "    parsing for now. please report this issue with the KEGG \n",
      "    identifier (7157              CDS       T01001) into github.com/bioservices. Thanks T.C.\u001b[0m\n",
      " 98%|█████████▊| 1302/1328 [08:27<00:09,  2.63it/s]\u001b[33mWARNING [bioservices:keggparser:119]: \u001b[0m \u001b[34mFound keyword SYMBOL, which has not special\n",
      "    parsing for now. please report this issue with the KEGG \n",
      "    identifier (1956              CDS       T01001) into github.com/bioservices. Thanks T.C.\u001b[0m\n",
      " 98%|█████████▊| 1303/1328 [08:27<00:11,  2.26it/s]\u001b[33mWARNING [bioservices:keggparser:119]: \u001b[0m \u001b[34mFound keyword SYMBOL, which has not special\n",
      "    parsing for now. please report this issue with the KEGG \n",
      "    identifier (6098              CDS       T01001) into github.com/bioservices. Thanks T.C.\u001b[0m\n",
      " 98%|█████████▊| 1304/1328 [08:27<00:08,  2.72it/s]"
     ]
    },
    {
     "name": "stdout",
     "output_type": "stream",
     "text": [
      "no data for  ROS1\n"
     ]
    },
    {
     "name": "stderr",
     "output_type": "stream",
     "text": [
      "\u001b[33mWARNING [bioservices:keggparser:119]: \u001b[0m \u001b[34mFound keyword SYMBOL, which has not special\n",
      "    parsing for now. please report this issue with the KEGG \n",
      "    identifier (58508             CDS       T01001) into github.com/bioservices. Thanks T.C.\u001b[0m\n",
      " 98%|█████████▊| 1305/1328 [08:28<00:09,  2.43it/s]\u001b[33mWARNING [bioservices:keggparser:119]: \u001b[0m \u001b[34mFound keyword SYMBOL, which has not special\n",
      "    parsing for now. please report this issue with the KEGG \n",
      "    identifier (5395              CDS       T01001) into github.com/bioservices. Thanks T.C.\u001b[0m\n",
      " 98%|█████████▊| 1306/1328 [08:28<00:07,  2.83it/s]\u001b[33mWARNING [bioservices:keggparser:119]: \u001b[0m \u001b[34mFound keyword SYMBOL, which has not special\n",
      "    parsing for now. please report this issue with the KEGG \n",
      "    identifier (3815              CDS       T01001) into github.com/bioservices. Thanks T.C.\u001b[0m\n",
      " 98%|█████████▊| 1307/1328 [08:29<00:07,  2.73it/s]\u001b[33mWARNING [bioservices:keggparser:119]: \u001b[0m \u001b[34mFound keyword SYMBOL, which has not special\n",
      "    parsing for now. please report this issue with the KEGG \n",
      "    identifier (1029              CDS       T01001) into github.com/bioservices. Thanks T.C.\u001b[0m\n",
      " 98%|█████████▊| 1308/1328 [08:29<00:06,  2.90it/s]\u001b[33mWARNING [bioservices:keggparser:119]: \u001b[0m \u001b[34mFound keyword SYMBOL, which has not special\n",
      "    parsing for now. please report this issue with the KEGG \n",
      "    identifier (2322              CDS       T01001) into github.com/bioservices. Thanks T.C.\u001b[0m\n",
      " 99%|█████████▊| 1309/1328 [08:29<00:06,  3.01it/s]\u001b[33mWARNING [bioservices:keggparser:119]: \u001b[0m \u001b[34mFound keyword SYMBOL, which has not special\n",
      "    parsing for now. please report this issue with the KEGG \n",
      "    identifier (6608              CDS       T01001) into github.com/bioservices. Thanks T.C.\u001b[0m\n",
      " 99%|█████████▊| 1310/1328 [08:29<00:05,  3.15it/s]\u001b[33mWARNING [bioservices:keggparser:119]: \u001b[0m \u001b[34mFound keyword SYMBOL, which has not special\n",
      "    parsing for now. please report this issue with the KEGG \n",
      "    identifier (2260              CDS       T01001) into github.com/bioservices. Thanks T.C.\u001b[0m\n",
      " 99%|█████████▊| 1311/1328 [08:30<00:05,  3.02it/s]\u001b[33mWARNING [bioservices:keggparser:119]: \u001b[0m \u001b[34mFound keyword SYMBOL, which has not special\n",
      "    parsing for now. please report this issue with the KEGG \n",
      "    identifier (1029              CDS       T01001) into github.com/bioservices. Thanks T.C.\u001b[0m\n",
      " 99%|█████████▉| 1312/1328 [08:30<00:05,  3.08it/s]\u001b[33mWARNING [bioservices:keggparser:119]: \u001b[0m \u001b[34mFound keyword SYMBOL, which has not special\n",
      "    parsing for now. please report this issue with the KEGG \n",
      "    identifier (2068              CDS       T01001) into github.com/bioservices. Thanks T.C.\u001b[0m\n",
      " 99%|█████████▉| 1313/1328 [08:30<00:04,  3.27it/s]\u001b[33mWARNING [bioservices:keggparser:119]: \u001b[0m \u001b[34mFound keyword SYMBOL, which has not special\n",
      "    parsing for now. please report this issue with the KEGG \n",
      "    identifier (4771              CDS       T01001) into github.com/bioservices. Thanks T.C.\u001b[0m\n",
      " 99%|█████████▉| 1314/1328 [08:31<00:04,  3.26it/s]\u001b[33mWARNING [bioservices:keggparser:119]: \u001b[0m \u001b[34mFound keyword SYMBOL, which has not special\n",
      "    parsing for now. please report this issue with the KEGG \n",
      "    identifier (5156              CDS       T01001) into github.com/bioservices. Thanks T.C.\u001b[0m\n",
      " 99%|█████████▉| 1315/1328 [08:31<00:04,  3.15it/s]\u001b[33mWARNING [bioservices:keggparser:119]: \u001b[0m \u001b[34mFound keyword SYMBOL, which has not special\n",
      "    parsing for now. please report this issue with the KEGG \n",
      "    identifier (4851              CDS       T01001) into github.com/bioservices. Thanks T.C.\u001b[0m\n",
      " 99%|█████████▉| 1316/1328 [08:31<00:03,  3.39it/s]\u001b[33mWARNING [bioservices:keggparser:119]: \u001b[0m \u001b[34mFound keyword SYMBOL, which has not special\n",
      "    parsing for now. please report this issue with the KEGG \n",
      "    identifier (3815              CDS       T01001) into github.com/bioservices. Thanks T.C.\u001b[0m\n",
      " 99%|█████████▉| 1317/1328 [08:32<00:03,  3.25it/s]\u001b[33mWARNING [bioservices:keggparser:119]: \u001b[0m \u001b[34mFound keyword SYMBOL, which has not special\n",
      "    parsing for now. please report this issue with the KEGG \n",
      "    identifier (5781              CDS       T01001) into github.com/bioservices. Thanks T.C.\u001b[0m\n",
      " 99%|█████████▉| 1318/1328 [08:32<00:03,  3.31it/s]\u001b[33mWARNING [bioservices:keggparser:119]: \u001b[0m \u001b[34mFound keyword SYMBOL, which has not special\n",
      "    parsing for now. please report this issue with the KEGG \n",
      "    identifier (23405             CDS       T01001) into github.com/bioservices. Thanks T.C.\u001b[0m\n",
      " 99%|█████████▉| 1319/1328 [08:32<00:02,  3.50it/s]\u001b[33mWARNING [bioservices:keggparser:119]: \u001b[0m \u001b[34mFound keyword SYMBOL, which has not special\n",
      "    parsing for now. please report this issue with the KEGG \n",
      "    identifier (1029              CDS       T01001) into github.com/bioservices. Thanks T.C.\u001b[0m\n",
      " 99%|█████████▉| 1320/1328 [08:32<00:02,  3.10it/s]\u001b[33mWARNING [bioservices:keggparser:119]: \u001b[0m \u001b[34mFound keyword SYMBOL, which has not special\n",
      "    parsing for now. please report this issue with the KEGG \n",
      "    identifier (675               CDS       T01001) into github.com/bioservices. Thanks T.C.\u001b[0m\n",
      " 99%|█████████▉| 1321/1328 [08:33<00:02,  2.96it/s]\u001b[33mWARNING [bioservices:keggparser:119]: \u001b[0m \u001b[34mFound keyword SYMBOL, which has not special\n",
      "    parsing for now. please report this issue with the KEGG \n",
      "    identifier (6774              CDS       T01001) into github.com/bioservices. Thanks T.C.\u001b[0m\n",
      "100%|█████████▉| 1322/1328 [08:33<00:02,  2.87it/s]\u001b[33mWARNING [bioservices:keggparser:119]: \u001b[0m \u001b[34mFound keyword SYMBOL, which has not special\n",
      "    parsing for now. please report this issue with the KEGG \n",
      "    identifier (2064              CDS       T01001) into github.com/bioservices. Thanks T.C.\u001b[0m\n",
      "100%|█████████▉| 1323/1328 [08:34<00:01,  2.95it/s]\u001b[33mWARNING [bioservices:keggparser:119]: \u001b[0m \u001b[34mFound keyword SYMBOL, which has not special\n",
      "    parsing for now. please report this issue with the KEGG \n",
      "    identifier (675               CDS       T01001) into github.com/bioservices. Thanks T.C.\u001b[0m\n",
      "100%|█████████▉| 1324/1328 [08:34<00:01,  2.76it/s]\u001b[33mWARNING [bioservices:keggparser:119]: \u001b[0m \u001b[34mFound keyword SYMBOL, which has not special\n",
      "    parsing for now. please report this issue with the KEGG \n",
      "    identifier (238               CDS       T01001) into github.com/bioservices. Thanks T.C.\u001b[0m\n",
      "100%|█████████▉| 1325/1328 [08:34<00:00,  3.17it/s]\u001b[33mWARNING [bioservices:keggparser:119]: \u001b[0m \u001b[34mFound keyword SYMBOL, which has not special\n",
      "    parsing for now. please report this issue with the KEGG \n",
      "    identifier (1956              CDS       T01001) into github.com/bioservices. Thanks T.C.\u001b[0m\n",
      "100%|█████████▉| 1326/1328 [08:35<00:00,  2.24it/s]\u001b[33mWARNING [bioservices:keggparser:119]: \u001b[0m \u001b[34mFound keyword SYMBOL, which has not special\n",
      "    parsing for now. please report this issue with the KEGG \n",
      "    identifier (7157              CDS       T01001) into github.com/bioservices. Thanks T.C.\u001b[0m\n",
      "100%|█████████▉| 1327/1328 [08:35<00:00,  2.22it/s]\u001b[33mWARNING [bioservices:keggparser:119]: \u001b[0m \u001b[34mFound keyword SYMBOL, which has not special\n",
      "    parsing for now. please report this issue with the KEGG \n",
      "    identifier (5979              CDS       T01001) into github.com/bioservices. Thanks T.C.\u001b[0m\n",
      "100%|██████████| 1328/1328 [08:36<00:00,  2.57it/s]\n"
     ]
    },
    {
     "data": {
      "text/plain": [
       "(30866, 2)"
      ]
     },
     "execution_count": 58,
     "metadata": {},
     "output_type": "execute_result"
    }
   ],
   "source": [
    "gene_pathway=df_gene_pathway()\n",
    "gene_pathway.shape"
   ]
  },
  {
   "cell_type": "code",
   "execution_count": 59,
   "metadata": {},
   "outputs": [
    {
     "data": {
      "text/plain": [
       "(30866, 2)"
      ]
     },
     "execution_count": 59,
     "metadata": {},
     "output_type": "execute_result"
    }
   ],
   "source": [
    "gene_pathway.shape"
   ]
  },
  {
   "cell_type": "code",
   "execution_count": 60,
   "metadata": {},
   "outputs": [
    {
     "data": {
      "text/html": [
       "<div>\n",
       "<style scoped>\n",
       "    .dataframe tbody tr th:only-of-type {\n",
       "        vertical-align: middle;\n",
       "    }\n",
       "\n",
       "    .dataframe tbody tr th {\n",
       "        vertical-align: top;\n",
       "    }\n",
       "\n",
       "    .dataframe thead th {\n",
       "        text-align: right;\n",
       "    }\n",
       "</style>\n",
       "<table border=\"1\" class=\"dataframe\">\n",
       "  <thead>\n",
       "    <tr style=\"text-align: right;\">\n",
       "      <th></th>\n",
       "      <th>gene</th>\n",
       "      <th>pathway</th>\n",
       "    </tr>\n",
       "  </thead>\n",
       "  <tbody>\n",
       "    <tr>\n",
       "      <th>0</th>\n",
       "      <td>POLE</td>\n",
       "      <td>hsa03030</td>\n",
       "    </tr>\n",
       "    <tr>\n",
       "      <th>1</th>\n",
       "      <td>POLE</td>\n",
       "      <td>hsa03410</td>\n",
       "    </tr>\n",
       "    <tr>\n",
       "      <th>2</th>\n",
       "      <td>POLE</td>\n",
       "      <td>hsa03420</td>\n",
       "    </tr>\n",
       "    <tr>\n",
       "      <th>3</th>\n",
       "      <td>PTEN</td>\n",
       "      <td>hsa00562</td>\n",
       "    </tr>\n",
       "    <tr>\n",
       "      <th>4</th>\n",
       "      <td>PTEN</td>\n",
       "      <td>hsa01100</td>\n",
       "    </tr>\n",
       "  </tbody>\n",
       "</table>\n",
       "</div>"
      ],
      "text/plain": [
       "   gene   pathway\n",
       "0  POLE  hsa03030\n",
       "1  POLE  hsa03410\n",
       "2  POLE  hsa03420\n",
       "3  PTEN  hsa00562\n",
       "4  PTEN  hsa01100"
      ]
     },
     "execution_count": 60,
     "metadata": {},
     "output_type": "execute_result"
    }
   ],
   "source": [
    "gene_pathway.head()"
   ]
  },
  {
   "cell_type": "code",
   "execution_count": 61,
   "metadata": {},
   "outputs": [],
   "source": [
    "from sklearn import preprocessing"
   ]
  },
  {
   "cell_type": "code",
   "execution_count": 64,
   "metadata": {},
   "outputs": [],
   "source": [
    "le = preprocessing.LabelEncoder()"
   ]
  },
  {
   "cell_type": "code",
   "execution_count": 72,
   "metadata": {},
   "outputs": [],
   "source": [
    "gene_pathway_matrix=gene_pathway.apply(le.fit_transform)\n",
    "#OneHotEncoder().fit_transform(df)"
   ]
  },
  {
   "cell_type": "code",
   "execution_count": 73,
   "metadata": {},
   "outputs": [
    {
     "data": {
      "text/html": [
       "<div>\n",
       "<style scoped>\n",
       "    .dataframe tbody tr th:only-of-type {\n",
       "        vertical-align: middle;\n",
       "    }\n",
       "\n",
       "    .dataframe tbody tr th {\n",
       "        vertical-align: top;\n",
       "    }\n",
       "\n",
       "    .dataframe thead th {\n",
       "        text-align: right;\n",
       "    }\n",
       "</style>\n",
       "<table border=\"1\" class=\"dataframe\">\n",
       "  <thead>\n",
       "    <tr style=\"text-align: right;\">\n",
       "      <th></th>\n",
       "      <th>gene</th>\n",
       "      <th>pathway</th>\n",
       "    </tr>\n",
       "  </thead>\n",
       "  <tbody>\n",
       "    <tr>\n",
       "      <th>0</th>\n",
       "      <td>120</td>\n",
       "      <td>17</td>\n",
       "    </tr>\n",
       "    <tr>\n",
       "      <th>1</th>\n",
       "      <td>120</td>\n",
       "      <td>19</td>\n",
       "    </tr>\n",
       "    <tr>\n",
       "      <th>2</th>\n",
       "      <td>120</td>\n",
       "      <td>20</td>\n",
       "    </tr>\n",
       "    <tr>\n",
       "      <th>3</th>\n",
       "      <td>123</td>\n",
       "      <td>5</td>\n",
       "    </tr>\n",
       "    <tr>\n",
       "      <th>4</th>\n",
       "      <td>123</td>\n",
       "      <td>6</td>\n",
       "    </tr>\n",
       "  </tbody>\n",
       "</table>\n",
       "</div>"
      ],
      "text/plain": [
       "   gene  pathway\n",
       "0   120       17\n",
       "1   120       19\n",
       "2   120       20\n",
       "3   123        5\n",
       "4   123        6"
      ]
     },
     "execution_count": 73,
     "metadata": {},
     "output_type": "execute_result"
    }
   ],
   "source": [
    "gene_pathway_matrix.head()"
   ]
  },
  {
   "cell_type": "code",
   "execution_count": 74,
   "metadata": {},
   "outputs": [
    {
     "data": {
      "image/png": "[encoded data removed]",
      "text/plain": [
       "<Figure size 432x288 with 1 Axes>"
      ]
     },
     "metadata": {
      "needs_background": "light"
     },
     "output_type": "display_data"
    }
   ],
   "source": [
    "# plot\n",
    "ax=plt.scatter(\n",
    "   gene_pathway_matrix.iloc[:,0],gene_pathway_matrix.iloc[:,1],\n",
    "   c='white', marker='o',\n",
    "   edgecolor='black', s=50\n",
    ")\n",
    "ax.axes.xaxis.set_visible(False)\n",
    "ax.axes.yaxis.set_visible(False)\n",
    "plt.title(\"genes vs pathways\")\n",
    "plt.show()"
   ]
  },
  {
   "cell_type": "code",
   "execution_count": 70,
   "metadata": {},
   "outputs": [
    {
     "ename": "ValueError",
     "evalue": "could not convert string to float: 'POLE'",
     "output_type": "error",
     "traceback": [
      "\u001b[1;31m---------------------------------------------------------------------------\u001b[0m",
      "\u001b[1;31mValueError\u001b[0m                                Traceback (most recent call last)",
      "\u001b[1;32m<ipython-input-70-c218a0bdcfbc>\u001b[0m in \u001b[0;36m<module>\u001b[1;34m\u001b[0m\n\u001b[0;32m      6\u001b[0m     \u001b[0mtol\u001b[0m\u001b[1;33m=\u001b[0m\u001b[1;36m1e-04\u001b[0m\u001b[1;33m,\u001b[0m \u001b[0mrandom_state\u001b[0m\u001b[1;33m=\u001b[0m\u001b[1;36m0\u001b[0m\u001b[1;33m\u001b[0m\u001b[1;33m\u001b[0m\u001b[0m\n\u001b[0;32m      7\u001b[0m )\n\u001b[1;32m----> 8\u001b[1;33m \u001b[0my_km\u001b[0m \u001b[1;33m=\u001b[0m \u001b[0mkm\u001b[0m\u001b[1;33m.\u001b[0m\u001b[0mfit_predict\u001b[0m\u001b[1;33m(\u001b[0m\u001b[0mgene_pathway\u001b[0m\u001b[1;33m)\u001b[0m\u001b[1;33m\u001b[0m\u001b[1;33m\u001b[0m\u001b[0m\n\u001b[0m",
      "\u001b[1;32m~\\anaconda3\\lib\\site-packages\\sklearn\\cluster\\_kmeans.py\u001b[0m in \u001b[0;36mfit_predict\u001b[1;34m(self, X, y, sample_weight)\u001b[0m\n\u001b[0;32m   1075\u001b[0m             \u001b[0mIndex\u001b[0m \u001b[0mof\u001b[0m \u001b[0mthe\u001b[0m \u001b[0mcluster\u001b[0m \u001b[0meach\u001b[0m \u001b[0msample\u001b[0m \u001b[0mbelongs\u001b[0m \u001b[0mto\u001b[0m\u001b[1;33m.\u001b[0m\u001b[1;33m\u001b[0m\u001b[1;33m\u001b[0m\u001b[0m\n\u001b[0;32m   1076\u001b[0m         \"\"\"\n\u001b[1;32m-> 1077\u001b[1;33m         \u001b[1;32mreturn\u001b[0m \u001b[0mself\u001b[0m\u001b[1;33m.\u001b[0m\u001b[0mfit\u001b[0m\u001b[1;33m(\u001b[0m\u001b[0mX\u001b[0m\u001b[1;33m,\u001b[0m \u001b[0msample_weight\u001b[0m\u001b[1;33m=\u001b[0m\u001b[0msample_weight\u001b[0m\u001b[1;33m)\u001b[0m\u001b[1;33m.\u001b[0m\u001b[0mlabels_\u001b[0m\u001b[1;33m\u001b[0m\u001b[1;33m\u001b[0m\u001b[0m\n\u001b[0m\u001b[0;32m   1078\u001b[0m \u001b[1;33m\u001b[0m\u001b[0m\n\u001b[0;32m   1079\u001b[0m     \u001b[1;32mdef\u001b[0m \u001b[0mfit_transform\u001b[0m\u001b[1;33m(\u001b[0m\u001b[0mself\u001b[0m\u001b[1;33m,\u001b[0m \u001b[0mX\u001b[0m\u001b[1;33m,\u001b[0m \u001b[0my\u001b[0m\u001b[1;33m=\u001b[0m\u001b[1;32mNone\u001b[0m\u001b[1;33m,\u001b[0m \u001b[0msample_weight\u001b[0m\u001b[1;33m=\u001b[0m\u001b[1;32mNone\u001b[0m\u001b[1;33m)\u001b[0m\u001b[1;33m:\u001b[0m\u001b[1;33m\u001b[0m\u001b[1;33m\u001b[0m\u001b[0m\n",
      "\u001b[1;32m~\\anaconda3\\lib\\site-packages\\sklearn\\cluster\\_kmeans.py\u001b[0m in \u001b[0;36mfit\u001b[1;34m(self, X, y, sample_weight)\u001b[0m\n\u001b[0;32m    980\u001b[0m                                 \u001b[0mdtype\u001b[0m\u001b[1;33m=\u001b[0m\u001b[1;33m[\u001b[0m\u001b[0mnp\u001b[0m\u001b[1;33m.\u001b[0m\u001b[0mfloat64\u001b[0m\u001b[1;33m,\u001b[0m \u001b[0mnp\u001b[0m\u001b[1;33m.\u001b[0m\u001b[0mfloat32\u001b[0m\u001b[1;33m]\u001b[0m\u001b[1;33m,\u001b[0m\u001b[1;33m\u001b[0m\u001b[1;33m\u001b[0m\u001b[0m\n\u001b[0;32m    981\u001b[0m                                 \u001b[0morder\u001b[0m\u001b[1;33m=\u001b[0m\u001b[1;34m'C'\u001b[0m\u001b[1;33m,\u001b[0m \u001b[0mcopy\u001b[0m\u001b[1;33m=\u001b[0m\u001b[0mself\u001b[0m\u001b[1;33m.\u001b[0m\u001b[0mcopy_x\u001b[0m\u001b[1;33m,\u001b[0m\u001b[1;33m\u001b[0m\u001b[1;33m\u001b[0m\u001b[0m\n\u001b[1;32m--> 982\u001b[1;33m                                 accept_large_sparse=False)\n\u001b[0m\u001b[0;32m    983\u001b[0m \u001b[1;33m\u001b[0m\u001b[0m\n\u001b[0;32m    984\u001b[0m         \u001b[0mself\u001b[0m\u001b[1;33m.\u001b[0m\u001b[0m_check_params\u001b[0m\u001b[1;33m(\u001b[0m\u001b[0mX\u001b[0m\u001b[1;33m)\u001b[0m\u001b[1;33m\u001b[0m\u001b[1;33m\u001b[0m\u001b[0m\n",
      "\u001b[1;32m~\\anaconda3\\lib\\site-packages\\sklearn\\base.py\u001b[0m in \u001b[0;36m_validate_data\u001b[1;34m(self, X, y, reset, validate_separately, **check_params)\u001b[0m\n\u001b[0;32m    419\u001b[0m             \u001b[0mout\u001b[0m \u001b[1;33m=\u001b[0m \u001b[0mX\u001b[0m\u001b[1;33m\u001b[0m\u001b[1;33m\u001b[0m\u001b[0m\n\u001b[0;32m    420\u001b[0m         \u001b[1;32melif\u001b[0m \u001b[0misinstance\u001b[0m\u001b[1;33m(\u001b[0m\u001b[0my\u001b[0m\u001b[1;33m,\u001b[0m \u001b[0mstr\u001b[0m\u001b[1;33m)\u001b[0m \u001b[1;32mand\u001b[0m \u001b[0my\u001b[0m \u001b[1;33m==\u001b[0m \u001b[1;34m'no_validation'\u001b[0m\u001b[1;33m:\u001b[0m\u001b[1;33m\u001b[0m\u001b[1;33m\u001b[0m\u001b[0m\n\u001b[1;32m--> 421\u001b[1;33m             \u001b[0mX\u001b[0m \u001b[1;33m=\u001b[0m \u001b[0mcheck_array\u001b[0m\u001b[1;33m(\u001b[0m\u001b[0mX\u001b[0m\u001b[1;33m,\u001b[0m \u001b[1;33m**\u001b[0m\u001b[0mcheck_params\u001b[0m\u001b[1;33m)\u001b[0m\u001b[1;33m\u001b[0m\u001b[1;33m\u001b[0m\u001b[0m\n\u001b[0m\u001b[0;32m    422\u001b[0m             \u001b[0mout\u001b[0m \u001b[1;33m=\u001b[0m \u001b[0mX\u001b[0m\u001b[1;33m\u001b[0m\u001b[1;33m\u001b[0m\u001b[0m\n\u001b[0;32m    423\u001b[0m         \u001b[1;32melse\u001b[0m\u001b[1;33m:\u001b[0m\u001b[1;33m\u001b[0m\u001b[1;33m\u001b[0m\u001b[0m\n",
      "\u001b[1;32m~\\anaconda3\\lib\\site-packages\\sklearn\\utils\\validation.py\u001b[0m in \u001b[0;36minner_f\u001b[1;34m(*args, **kwargs)\u001b[0m\n\u001b[0;32m     61\u001b[0m             \u001b[0mextra_args\u001b[0m \u001b[1;33m=\u001b[0m \u001b[0mlen\u001b[0m\u001b[1;33m(\u001b[0m\u001b[0margs\u001b[0m\u001b[1;33m)\u001b[0m \u001b[1;33m-\u001b[0m \u001b[0mlen\u001b[0m\u001b[1;33m(\u001b[0m\u001b[0mall_args\u001b[0m\u001b[1;33m)\u001b[0m\u001b[1;33m\u001b[0m\u001b[1;33m\u001b[0m\u001b[0m\n\u001b[0;32m     62\u001b[0m             \u001b[1;32mif\u001b[0m \u001b[0mextra_args\u001b[0m \u001b[1;33m<=\u001b[0m \u001b[1;36m0\u001b[0m\u001b[1;33m:\u001b[0m\u001b[1;33m\u001b[0m\u001b[1;33m\u001b[0m\u001b[0m\n\u001b[1;32m---> 63\u001b[1;33m                 \u001b[1;32mreturn\u001b[0m \u001b[0mf\u001b[0m\u001b[1;33m(\u001b[0m\u001b[1;33m*\u001b[0m\u001b[0margs\u001b[0m\u001b[1;33m,\u001b[0m \u001b[1;33m**\u001b[0m\u001b[0mkwargs\u001b[0m\u001b[1;33m)\u001b[0m\u001b[1;33m\u001b[0m\u001b[1;33m\u001b[0m\u001b[0m\n\u001b[0m\u001b[0;32m     64\u001b[0m \u001b[1;33m\u001b[0m\u001b[0m\n\u001b[0;32m     65\u001b[0m             \u001b[1;31m# extra_args > 0\u001b[0m\u001b[1;33m\u001b[0m\u001b[1;33m\u001b[0m\u001b[1;33m\u001b[0m\u001b[0m\n",
      "\u001b[1;32m~\\anaconda3\\lib\\site-packages\\sklearn\\utils\\validation.py\u001b[0m in \u001b[0;36mcheck_array\u001b[1;34m(array, accept_sparse, accept_large_sparse, dtype, order, copy, force_all_finite, ensure_2d, allow_nd, ensure_min_samples, ensure_min_features, estimator)\u001b[0m\n\u001b[0;32m    671\u001b[0m                     \u001b[0marray\u001b[0m \u001b[1;33m=\u001b[0m \u001b[0marray\u001b[0m\u001b[1;33m.\u001b[0m\u001b[0mastype\u001b[0m\u001b[1;33m(\u001b[0m\u001b[0mdtype\u001b[0m\u001b[1;33m,\u001b[0m \u001b[0mcasting\u001b[0m\u001b[1;33m=\u001b[0m\u001b[1;34m\"unsafe\"\u001b[0m\u001b[1;33m,\u001b[0m \u001b[0mcopy\u001b[0m\u001b[1;33m=\u001b[0m\u001b[1;32mFalse\u001b[0m\u001b[1;33m)\u001b[0m\u001b[1;33m\u001b[0m\u001b[1;33m\u001b[0m\u001b[0m\n\u001b[0;32m    672\u001b[0m                 \u001b[1;32melse\u001b[0m\u001b[1;33m:\u001b[0m\u001b[1;33m\u001b[0m\u001b[1;33m\u001b[0m\u001b[0m\n\u001b[1;32m--> 673\u001b[1;33m                     \u001b[0marray\u001b[0m \u001b[1;33m=\u001b[0m \u001b[0mnp\u001b[0m\u001b[1;33m.\u001b[0m\u001b[0masarray\u001b[0m\u001b[1;33m(\u001b[0m\u001b[0marray\u001b[0m\u001b[1;33m,\u001b[0m \u001b[0morder\u001b[0m\u001b[1;33m=\u001b[0m\u001b[0morder\u001b[0m\u001b[1;33m,\u001b[0m \u001b[0mdtype\u001b[0m\u001b[1;33m=\u001b[0m\u001b[0mdtype\u001b[0m\u001b[1;33m)\u001b[0m\u001b[1;33m\u001b[0m\u001b[1;33m\u001b[0m\u001b[0m\n\u001b[0m\u001b[0;32m    674\u001b[0m             \u001b[1;32mexcept\u001b[0m \u001b[0mComplexWarning\u001b[0m \u001b[1;32mas\u001b[0m \u001b[0mcomplex_warning\u001b[0m\u001b[1;33m:\u001b[0m\u001b[1;33m\u001b[0m\u001b[1;33m\u001b[0m\u001b[0m\n\u001b[0;32m    675\u001b[0m                 raise ValueError(\"Complex data not supported\\n\"\n",
      "\u001b[1;32m~\\anaconda3\\lib\\site-packages\\numpy\\core\\_asarray.py\u001b[0m in \u001b[0;36masarray\u001b[1;34m(a, dtype, order)\u001b[0m\n\u001b[0;32m     83\u001b[0m \u001b[1;33m\u001b[0m\u001b[0m\n\u001b[0;32m     84\u001b[0m     \"\"\"\n\u001b[1;32m---> 85\u001b[1;33m     \u001b[1;32mreturn\u001b[0m \u001b[0marray\u001b[0m\u001b[1;33m(\u001b[0m\u001b[0ma\u001b[0m\u001b[1;33m,\u001b[0m \u001b[0mdtype\u001b[0m\u001b[1;33m,\u001b[0m \u001b[0mcopy\u001b[0m\u001b[1;33m=\u001b[0m\u001b[1;32mFalse\u001b[0m\u001b[1;33m,\u001b[0m \u001b[0morder\u001b[0m\u001b[1;33m=\u001b[0m\u001b[0morder\u001b[0m\u001b[1;33m)\u001b[0m\u001b[1;33m\u001b[0m\u001b[1;33m\u001b[0m\u001b[0m\n\u001b[0m\u001b[0;32m     86\u001b[0m \u001b[1;33m\u001b[0m\u001b[0m\n\u001b[0;32m     87\u001b[0m \u001b[1;33m\u001b[0m\u001b[0m\n",
      "\u001b[1;32m~\\anaconda3\\lib\\site-packages\\pandas\\core\\generic.py\u001b[0m in \u001b[0;36m__array__\u001b[1;34m(self, dtype)\u001b[0m\n\u001b[0;32m   1897\u001b[0m \u001b[1;33m\u001b[0m\u001b[0m\n\u001b[0;32m   1898\u001b[0m     \u001b[1;32mdef\u001b[0m \u001b[0m__array__\u001b[0m\u001b[1;33m(\u001b[0m\u001b[0mself\u001b[0m\u001b[1;33m,\u001b[0m \u001b[0mdtype\u001b[0m\u001b[1;33m=\u001b[0m\u001b[1;32mNone\u001b[0m\u001b[1;33m)\u001b[0m \u001b[1;33m->\u001b[0m \u001b[0mnp\u001b[0m\u001b[1;33m.\u001b[0m\u001b[0mndarray\u001b[0m\u001b[1;33m:\u001b[0m\u001b[1;33m\u001b[0m\u001b[1;33m\u001b[0m\u001b[0m\n\u001b[1;32m-> 1899\u001b[1;33m         \u001b[1;32mreturn\u001b[0m \u001b[0mnp\u001b[0m\u001b[1;33m.\u001b[0m\u001b[0masarray\u001b[0m\u001b[1;33m(\u001b[0m\u001b[0mself\u001b[0m\u001b[1;33m.\u001b[0m\u001b[0m_values\u001b[0m\u001b[1;33m,\u001b[0m \u001b[0mdtype\u001b[0m\u001b[1;33m=\u001b[0m\u001b[0mdtype\u001b[0m\u001b[1;33m)\u001b[0m\u001b[1;33m\u001b[0m\u001b[1;33m\u001b[0m\u001b[0m\n\u001b[0m\u001b[0;32m   1900\u001b[0m \u001b[1;33m\u001b[0m\u001b[0m\n\u001b[0;32m   1901\u001b[0m     def __array_wrap__(\n",
      "\u001b[1;32m~\\anaconda3\\lib\\site-packages\\numpy\\core\\_asarray.py\u001b[0m in \u001b[0;36masarray\u001b[1;34m(a, dtype, order)\u001b[0m\n\u001b[0;32m     83\u001b[0m \u001b[1;33m\u001b[0m\u001b[0m\n\u001b[0;32m     84\u001b[0m     \"\"\"\n\u001b[1;32m---> 85\u001b[1;33m     \u001b[1;32mreturn\u001b[0m \u001b[0marray\u001b[0m\u001b[1;33m(\u001b[0m\u001b[0ma\u001b[0m\u001b[1;33m,\u001b[0m \u001b[0mdtype\u001b[0m\u001b[1;33m,\u001b[0m \u001b[0mcopy\u001b[0m\u001b[1;33m=\u001b[0m\u001b[1;32mFalse\u001b[0m\u001b[1;33m,\u001b[0m \u001b[0morder\u001b[0m\u001b[1;33m=\u001b[0m\u001b[0morder\u001b[0m\u001b[1;33m)\u001b[0m\u001b[1;33m\u001b[0m\u001b[1;33m\u001b[0m\u001b[0m\n\u001b[0m\u001b[0;32m     86\u001b[0m \u001b[1;33m\u001b[0m\u001b[0m\n\u001b[0;32m     87\u001b[0m \u001b[1;33m\u001b[0m\u001b[0m\n",
      "\u001b[1;31mValueError\u001b[0m: could not convert string to float: 'POLE'"
     ]
    }
   ],
   "source": [
    "from sklearn.cluster import KMeans\n",
    "\n",
    "km = KMeans(\n",
    "    n_clusters=3, init='random',\n",
    "    n_init=10, max_iter=300, \n",
    "    tol=1e-04, random_state=0\n",
    ")\n",
    "y_km = km.fit_predict(gene_pathway)"
   ]
  },
  {
   "cell_type": "code",
   "execution_count": null,
   "metadata": {},
   "outputs": [],
   "source": []
  },
  {
   "cell_type": "code",
   "execution_count": null,
   "metadata": {},
   "outputs": [],
   "source": []
  },
  {
   "cell_type": "markdown",
   "metadata": {},
   "source": [
    "#### distribution of classes in the dataset"
   ]
  },
  {
   "cell_type": "code",
   "execution_count": 19,
   "metadata": {},
   "outputs": [
    {
     "data": {
      "text/plain": [
       "<AxesSubplot:xlabel='Class'>"
      ]
     },
     "execution_count": 19,
     "metadata": {},
     "output_type": "execute_result"
    },
    {
     "data": {
      "image/png": "[encoded data removed]",
      "text/plain": [
       "<Figure size 432x288 with 1 Axes>"
      ]
     },
     "metadata": {
      "needs_background": "light"
     },
     "output_type": "display_data"
    }
   ],
   "source": [
    "train_df.value_counts('Class').plot(kind='bar')"
   ]
  },
  {
   "cell_type": "markdown",
   "metadata": {},
   "source": [
    "### <font color='blue'>The mutations are distributed into 9 classes from class 1 to class 9.The distribution of the classes is imbalanced </font>"
   ]
  },
  {
   "cell_type": "markdown",
   "metadata": {},
   "source": [
    "### <font color='green'> Let us study the mutations of BRCA1, the most highly mutated gene with respect to the classification</font>"
   ]
  },
  {
   "cell_type": "code",
   "execution_count": 20,
   "metadata": {},
   "outputs": [
    {
     "data": {
      "text/plain": [
       "101"
      ]
     },
     "execution_count": 20,
     "metadata": {},
     "output_type": "execute_result"
    }
   ],
   "source": [
    "train_df[train_df['Gene'] == 'BRCA1']['Variation'].nunique()"
   ]
  },
  {
   "cell_type": "code",
   "execution_count": 21,
   "metadata": {},
   "outputs": [
    {
     "data": {
      "text/plain": [
       "5"
      ]
     },
     "execution_count": 21,
     "metadata": {},
     "output_type": "execute_result"
    }
   ],
   "source": [
    "train_df[train_df['Gene'] == 'BRCA1']['Class'].nunique()"
   ]
  },
  {
   "cell_type": "code",
   "execution_count": 22,
   "metadata": {},
   "outputs": [
    {
     "data": {
      "text/plain": [
       "Class\n",
       "1    21\n",
       "3     3\n",
       "4    22\n",
       "5    36\n",
       "6    19\n",
       "Name: Variation, dtype: int64"
      ]
     },
     "execution_count": 22,
     "metadata": {},
     "output_type": "execute_result"
    }
   ],
   "source": [
    "train_df[train_df['Gene'] == 'BRCA1'].groupby('Class')['Variation'].count()"
   ]
  },
  {
   "cell_type": "markdown",
   "metadata": {},
   "source": [
    "### <font color='green'> 101 mutations (Variations) are classified into 5 classes with most mutations in class 5 and least mutations in class 3</font>"
   ]
  },
  {
   "cell_type": "code",
   "execution_count": 23,
   "metadata": {},
   "outputs": [],
   "source": [
    "class_5=train_df[(train_df['Gene'] == 'BRCA1') & (train_df['Class']== 5)]\n",
    "class_5['Text']=class_5['Text'].map(lambda x:x[:80])"
   ]
  },
  {
   "cell_type": "code",
   "execution_count": 24,
   "metadata": {},
   "outputs": [],
   "source": [
    "class_5.reset_index(inplace=True,drop=True)"
   ]
  },
  {
   "cell_type": "code",
   "execution_count": 25,
   "metadata": {},
   "outputs": [
    {
     "data": {
      "text/html": [
       "<div>\n",
       "<style scoped>\n",
       "    .dataframe tbody tr th:only-of-type {\n",
       "        vertical-align: middle;\n",
       "    }\n",
       "\n",
       "    .dataframe tbody tr th {\n",
       "        vertical-align: top;\n",
       "    }\n",
       "\n",
       "    .dataframe thead th {\n",
       "        text-align: right;\n",
       "    }\n",
       "</style>\n",
       "<table border=\"1\" class=\"dataframe\">\n",
       "  <thead>\n",
       "    <tr style=\"text-align: right;\">\n",
       "      <th></th>\n",
       "      <th>ID</th>\n",
       "      <th>Gene</th>\n",
       "      <th>Variation</th>\n",
       "      <th>Class</th>\n",
       "      <th>Text</th>\n",
       "    </tr>\n",
       "  </thead>\n",
       "  <tbody>\n",
       "    <tr>\n",
       "      <th>0</th>\n",
       "      <td>2661</td>\n",
       "      <td>BRCA1</td>\n",
       "      <td>S1613C</td>\n",
       "      <td>5</td>\n",
       "      <td>Abstract Germline mutations that inactivate B...</td>\n",
       "    </tr>\n",
       "    <tr>\n",
       "      <th>1</th>\n",
       "      <td>2460</td>\n",
       "      <td>BRCA1</td>\n",
       "      <td>R170W</td>\n",
       "      <td>5</td>\n",
       "      <td>Mutations in BRCA1 and BRCA2 account for the m...</td>\n",
       "    </tr>\n",
       "    <tr>\n",
       "      <th>2</th>\n",
       "      <td>2558</td>\n",
       "      <td>BRCA1</td>\n",
       "      <td>P1806A</td>\n",
       "      <td>5</td>\n",
       "      <td>ABSTRACT Germline mutations that inactivate th...</td>\n",
       "    </tr>\n",
       "    <tr>\n",
       "      <th>3</th>\n",
       "      <td>2618</td>\n",
       "      <td>BRCA1</td>\n",
       "      <td>C1787S</td>\n",
       "      <td>5</td>\n",
       "      <td>Abstract  The BRCA1 gene from individuals at ...</td>\n",
       "    </tr>\n",
       "    <tr>\n",
       "      <th>4</th>\n",
       "      <td>2468</td>\n",
       "      <td>BRCA1</td>\n",
       "      <td>E362H</td>\n",
       "      <td>5</td>\n",
       "      <td>Mutations in BRCA1 and BRCA2 account for the m...</td>\n",
       "    </tr>\n",
       "    <tr>\n",
       "      <th>5</th>\n",
       "      <td>2673</td>\n",
       "      <td>BRCA1</td>\n",
       "      <td>S1473P</td>\n",
       "      <td>5</td>\n",
       "      <td>Abstract Germline inactivating mutations in B...</td>\n",
       "    </tr>\n",
       "    <tr>\n",
       "      <th>6</th>\n",
       "      <td>2472</td>\n",
       "      <td>BRCA1</td>\n",
       "      <td>L358R</td>\n",
       "      <td>5</td>\n",
       "      <td>Mutations in BRCA1 and BRCA2 account for the m...</td>\n",
       "    </tr>\n",
       "    <tr>\n",
       "      <th>7</th>\n",
       "      <td>2502</td>\n",
       "      <td>BRCA1</td>\n",
       "      <td>A1789S</td>\n",
       "      <td>5</td>\n",
       "      <td>Genetic screening of the breast and ovarian ca...</td>\n",
       "    </tr>\n",
       "    <tr>\n",
       "      <th>8</th>\n",
       "      <td>2423</td>\n",
       "      <td>BRCA1</td>\n",
       "      <td>A1830T</td>\n",
       "      <td>5</td>\n",
       "      <td>Genetic screening of the breast and ovarian ca...</td>\n",
       "    </tr>\n",
       "    <tr>\n",
       "      <th>9</th>\n",
       "      <td>2663</td>\n",
       "      <td>BRCA1</td>\n",
       "      <td>P1614S</td>\n",
       "      <td>5</td>\n",
       "      <td>Germ line inactivating mutations in BRCA1 conf...</td>\n",
       "    </tr>\n",
       "    <tr>\n",
       "      <th>10</th>\n",
       "      <td>2607</td>\n",
       "      <td>BRCA1</td>\n",
       "      <td>M1775V</td>\n",
       "      <td>5</td>\n",
       "      <td>Abstract  The BRCA1 gene from individuals at ...</td>\n",
       "    </tr>\n",
       "    <tr>\n",
       "      <th>11</th>\n",
       "      <td>2605</td>\n",
       "      <td>BRCA1</td>\n",
       "      <td>V1665M</td>\n",
       "      <td>5</td>\n",
       "      <td>Abstract  The BRCA1 gene from individuals at ...</td>\n",
       "    </tr>\n",
       "    <tr>\n",
       "      <th>12</th>\n",
       "      <td>2555</td>\n",
       "      <td>BRCA1</td>\n",
       "      <td>A1669S</td>\n",
       "      <td>5</td>\n",
       "      <td>Abstract  The BRCA1 gene from individuals at ...</td>\n",
       "    </tr>\n",
       "    <tr>\n",
       "      <th>13</th>\n",
       "      <td>2571</td>\n",
       "      <td>BRCA1</td>\n",
       "      <td>S1297del</td>\n",
       "      <td>5</td>\n",
       "      <td>Mutations in BRCA1 and BRCA2 account for the m...</td>\n",
       "    </tr>\n",
       "    <tr>\n",
       "      <th>14</th>\n",
       "      <td>2628</td>\n",
       "      <td>BRCA1</td>\n",
       "      <td>L1267S</td>\n",
       "      <td>5</td>\n",
       "      <td>Mutations in BRCA1 and BRCA2 account for the m...</td>\n",
       "    </tr>\n",
       "    <tr>\n",
       "      <th>15</th>\n",
       "      <td>2488</td>\n",
       "      <td>BRCA1</td>\n",
       "      <td>W1782C</td>\n",
       "      <td>5</td>\n",
       "      <td>Mutations in BRCA1 and BRCA2 account for the m...</td>\n",
       "    </tr>\n",
       "    <tr>\n",
       "      <th>16</th>\n",
       "      <td>2643</td>\n",
       "      <td>BRCA1</td>\n",
       "      <td>Q1826H</td>\n",
       "      <td>5</td>\n",
       "      <td>Abstract Germline mutations that inactivate B...</td>\n",
       "    </tr>\n",
       "    <tr>\n",
       "      <th>17</th>\n",
       "      <td>2561</td>\n",
       "      <td>BRCA1</td>\n",
       "      <td>S1140G</td>\n",
       "      <td>5</td>\n",
       "      <td>Mutations in BRCA1 and BRCA2 account for the m...</td>\n",
       "    </tr>\n",
       "    <tr>\n",
       "      <th>18</th>\n",
       "      <td>2466</td>\n",
       "      <td>BRCA1</td>\n",
       "      <td>L147F</td>\n",
       "      <td>5</td>\n",
       "      <td>Mutations in BRCA1 and BRCA2 account for the m...</td>\n",
       "    </tr>\n",
       "    <tr>\n",
       "      <th>19</th>\n",
       "      <td>2532</td>\n",
       "      <td>BRCA1</td>\n",
       "      <td>N1647K</td>\n",
       "      <td>5</td>\n",
       "      <td>Genetic screening of the breast and ovarian ca...</td>\n",
       "    </tr>\n",
       "    <tr>\n",
       "      <th>20</th>\n",
       "      <td>2666</td>\n",
       "      <td>BRCA1</td>\n",
       "      <td>P1812R</td>\n",
       "      <td>5</td>\n",
       "      <td>Mutations in BRCA1 and BRCA2 account for the m...</td>\n",
       "    </tr>\n",
       "    <tr>\n",
       "      <th>21</th>\n",
       "      <td>2647</td>\n",
       "      <td>BRCA1</td>\n",
       "      <td>S1301R</td>\n",
       "      <td>5</td>\n",
       "      <td>Mutations in BRCA1 and BRCA2 account for the m...</td>\n",
       "    </tr>\n",
       "    <tr>\n",
       "      <th>22</th>\n",
       "      <td>2495</td>\n",
       "      <td>BRCA1</td>\n",
       "      <td>E1682V</td>\n",
       "      <td>5</td>\n",
       "      <td>Genetic screening of the breast and ovarian ca...</td>\n",
       "    </tr>\n",
       "    <tr>\n",
       "      <th>23</th>\n",
       "      <td>2498</td>\n",
       "      <td>BRCA1</td>\n",
       "      <td>R496C</td>\n",
       "      <td>5</td>\n",
       "      <td>A significant proportion of inherited breast c...</td>\n",
       "    </tr>\n",
       "    <tr>\n",
       "      <th>24</th>\n",
       "      <td>2608</td>\n",
       "      <td>BRCA1</td>\n",
       "      <td>R1589H</td>\n",
       "      <td>5</td>\n",
       "      <td>Abstract Germline inactivating mutations in B...</td>\n",
       "    </tr>\n",
       "    <tr>\n",
       "      <th>25</th>\n",
       "      <td>2553</td>\n",
       "      <td>BRCA1</td>\n",
       "      <td>D1778N</td>\n",
       "      <td>5</td>\n",
       "      <td>Abstract  The BRCA1 gene from individuals at ...</td>\n",
       "    </tr>\n",
       "    <tr>\n",
       "      <th>26</th>\n",
       "      <td>2604</td>\n",
       "      <td>BRCA1</td>\n",
       "      <td>E1214K</td>\n",
       "      <td>5</td>\n",
       "      <td>Mutations in BRCA1 and BRCA2 account for the m...</td>\n",
       "    </tr>\n",
       "    <tr>\n",
       "      <th>27</th>\n",
       "      <td>2467</td>\n",
       "      <td>BRCA1</td>\n",
       "      <td>H1421Y</td>\n",
       "      <td>5</td>\n",
       "      <td>BRCA1 is a tumour suppressor with pleiotropic ...</td>\n",
       "    </tr>\n",
       "    <tr>\n",
       "      <th>28</th>\n",
       "      <td>2662</td>\n",
       "      <td>BRCA1</td>\n",
       "      <td>L668F</td>\n",
       "      <td>5</td>\n",
       "      <td>Mutations in BRCA1 and BRCA2 account for the m...</td>\n",
       "    </tr>\n",
       "    <tr>\n",
       "      <th>29</th>\n",
       "      <td>2541</td>\n",
       "      <td>BRCA1</td>\n",
       "      <td>V1809A</td>\n",
       "      <td>5</td>\n",
       "      <td>Abstract  The BRCA1 gene from individuals at ...</td>\n",
       "    </tr>\n",
       "    <tr>\n",
       "      <th>30</th>\n",
       "      <td>2512</td>\n",
       "      <td>BRCA1</td>\n",
       "      <td>E1586G</td>\n",
       "      <td>5</td>\n",
       "      <td>Abstract Germline inactivating mutations in B...</td>\n",
       "    </tr>\n",
       "    <tr>\n",
       "      <th>31</th>\n",
       "      <td>2531</td>\n",
       "      <td>BRCA1</td>\n",
       "      <td>S1497A</td>\n",
       "      <td>5</td>\n",
       "      <td>Mutations in BRCA1 and BRCA2 account for the m...</td>\n",
       "    </tr>\n",
       "    <tr>\n",
       "      <th>32</th>\n",
       "      <td>2536</td>\n",
       "      <td>BRCA1</td>\n",
       "      <td>L165P</td>\n",
       "      <td>5</td>\n",
       "      <td>Mutations in BRCA1 and BRCA2 account for the m...</td>\n",
       "    </tr>\n",
       "    <tr>\n",
       "      <th>33</th>\n",
       "      <td>2602</td>\n",
       "      <td>BRCA1</td>\n",
       "      <td>M1008I</td>\n",
       "      <td>5</td>\n",
       "      <td>Mutations in BRCA1 and BRCA2 account for the m...</td>\n",
       "    </tr>\n",
       "    <tr>\n",
       "      <th>34</th>\n",
       "      <td>2528</td>\n",
       "      <td>BRCA1</td>\n",
       "      <td>N550H</td>\n",
       "      <td>5</td>\n",
       "      <td>ABSTRACT: The BRCA1 tumor suppressor gene is f...</td>\n",
       "    </tr>\n",
       "    <tr>\n",
       "      <th>35</th>\n",
       "      <td>2611</td>\n",
       "      <td>BRCA1</td>\n",
       "      <td>V1808A</td>\n",
       "      <td>5</td>\n",
       "      <td>ABSTRACT Germline mutations that inactivate th...</td>\n",
       "    </tr>\n",
       "  </tbody>\n",
       "</table>\n",
       "</div>"
      ],
      "text/plain": [
       "      ID   Gene Variation  Class  \\\n",
       "0   2661  BRCA1    S1613C      5   \n",
       "1   2460  BRCA1     R170W      5   \n",
       "2   2558  BRCA1    P1806A      5   \n",
       "3   2618  BRCA1    C1787S      5   \n",
       "4   2468  BRCA1     E362H      5   \n",
       "5   2673  BRCA1    S1473P      5   \n",
       "6   2472  BRCA1     L358R      5   \n",
       "7   2502  BRCA1    A1789S      5   \n",
       "8   2423  BRCA1    A1830T      5   \n",
       "9   2663  BRCA1    P1614S      5   \n",
       "10  2607  BRCA1    M1775V      5   \n",
       "11  2605  BRCA1    V1665M      5   \n",
       "12  2555  BRCA1    A1669S      5   \n",
       "13  2571  BRCA1  S1297del      5   \n",
       "14  2628  BRCA1    L1267S      5   \n",
       "15  2488  BRCA1    W1782C      5   \n",
       "16  2643  BRCA1    Q1826H      5   \n",
       "17  2561  BRCA1    S1140G      5   \n",
       "18  2466  BRCA1     L147F      5   \n",
       "19  2532  BRCA1    N1647K      5   \n",
       "20  2666  BRCA1    P1812R      5   \n",
       "21  2647  BRCA1    S1301R      5   \n",
       "22  2495  BRCA1    E1682V      5   \n",
       "23  2498  BRCA1     R496C      5   \n",
       "24  2608  BRCA1    R1589H      5   \n",
       "25  2553  BRCA1    D1778N      5   \n",
       "26  2604  BRCA1    E1214K      5   \n",
       "27  2467  BRCA1    H1421Y      5   \n",
       "28  2662  BRCA1     L668F      5   \n",
       "29  2541  BRCA1    V1809A      5   \n",
       "30  2512  BRCA1    E1586G      5   \n",
       "31  2531  BRCA1    S1497A      5   \n",
       "32  2536  BRCA1     L165P      5   \n",
       "33  2602  BRCA1    M1008I      5   \n",
       "34  2528  BRCA1     N550H      5   \n",
       "35  2611  BRCA1    V1808A      5   \n",
       "\n",
       "                                                 Text  \n",
       "0    Abstract Germline mutations that inactivate B...  \n",
       "1   Mutations in BRCA1 and BRCA2 account for the m...  \n",
       "2   ABSTRACT Germline mutations that inactivate th...  \n",
       "3    Abstract  The BRCA1 gene from individuals at ...  \n",
       "4   Mutations in BRCA1 and BRCA2 account for the m...  \n",
       "5    Abstract Germline inactivating mutations in B...  \n",
       "6   Mutations in BRCA1 and BRCA2 account for the m...  \n",
       "7   Genetic screening of the breast and ovarian ca...  \n",
       "8   Genetic screening of the breast and ovarian ca...  \n",
       "9   Germ line inactivating mutations in BRCA1 conf...  \n",
       "10   Abstract  The BRCA1 gene from individuals at ...  \n",
       "11   Abstract  The BRCA1 gene from individuals at ...  \n",
       "12   Abstract  The BRCA1 gene from individuals at ...  \n",
       "13  Mutations in BRCA1 and BRCA2 account for the m...  \n",
       "14  Mutations in BRCA1 and BRCA2 account for the m...  \n",
       "15  Mutations in BRCA1 and BRCA2 account for the m...  \n",
       "16   Abstract Germline mutations that inactivate B...  \n",
       "17  Mutations in BRCA1 and BRCA2 account for the m...  \n",
       "18  Mutations in BRCA1 and BRCA2 account for the m...  \n",
       "19  Genetic screening of the breast and ovarian ca...  \n",
       "20  Mutations in BRCA1 and BRCA2 account for the m...  \n",
       "21  Mutations in BRCA1 and BRCA2 account for the m...  \n",
       "22  Genetic screening of the breast and ovarian ca...  \n",
       "23  A significant proportion of inherited breast c...  \n",
       "24   Abstract Germline inactivating mutations in B...  \n",
       "25   Abstract  The BRCA1 gene from individuals at ...  \n",
       "26  Mutations in BRCA1 and BRCA2 account for the m...  \n",
       "27  BRCA1 is a tumour suppressor with pleiotropic ...  \n",
       "28  Mutations in BRCA1 and BRCA2 account for the m...  \n",
       "29   Abstract  The BRCA1 gene from individuals at ...  \n",
       "30   Abstract Germline inactivating mutations in B...  \n",
       "31  Mutations in BRCA1 and BRCA2 account for the m...  \n",
       "32  Mutations in BRCA1 and BRCA2 account for the m...  \n",
       "33  Mutations in BRCA1 and BRCA2 account for the m...  \n",
       "34  ABSTRACT: The BRCA1 tumor suppressor gene is f...  \n",
       "35  ABSTRACT Germline mutations that inactivate th...  "
      ]
     },
     "execution_count": 25,
     "metadata": {},
     "output_type": "execute_result"
    }
   ],
   "source": [
    "class_5"
   ]
  },
  {
   "cell_type": "code",
   "execution_count": 26,
   "metadata": {},
   "outputs": [
    {
     "data": {
      "text/html": [
       "<div>\n",
       "<style scoped>\n",
       "    .dataframe tbody tr th:only-of-type {\n",
       "        vertical-align: middle;\n",
       "    }\n",
       "\n",
       "    .dataframe tbody tr th {\n",
       "        vertical-align: top;\n",
       "    }\n",
       "\n",
       "    .dataframe thead th {\n",
       "        text-align: right;\n",
       "    }\n",
       "</style>\n",
       "<table border=\"1\" class=\"dataframe\">\n",
       "  <thead>\n",
       "    <tr style=\"text-align: right;\">\n",
       "      <th></th>\n",
       "      <th>Text</th>\n",
       "      <th>Gene</th>\n",
       "      <th>Variation</th>\n",
       "    </tr>\n",
       "  </thead>\n",
       "  <tbody>\n",
       "    <tr>\n",
       "      <th>0</th>\n",
       "      <td>Abstract Germline mutations that inactivate B...</td>\n",
       "      <td>BRCA1</td>\n",
       "      <td>2</td>\n",
       "    </tr>\n",
       "    <tr>\n",
       "      <th>1</th>\n",
       "      <td>Mutations in BRCA1 and BRCA2 account for the m...</td>\n",
       "      <td>BRCA1</td>\n",
       "      <td>15</td>\n",
       "    </tr>\n",
       "    <tr>\n",
       "      <th>2</th>\n",
       "      <td>ABSTRACT Germline mutations that inactivate th...</td>\n",
       "      <td>BRCA1</td>\n",
       "      <td>2</td>\n",
       "    </tr>\n",
       "    <tr>\n",
       "      <th>3</th>\n",
       "      <td>Abstract  The BRCA1 gene from individuals at ...</td>\n",
       "      <td>BRCA1</td>\n",
       "      <td>6</td>\n",
       "    </tr>\n",
       "    <tr>\n",
       "      <th>4</th>\n",
       "      <td>Abstract Germline inactivating mutations in B...</td>\n",
       "      <td>BRCA1</td>\n",
       "      <td>3</td>\n",
       "    </tr>\n",
       "    <tr>\n",
       "      <th>5</th>\n",
       "      <td>Genetic screening of the breast and ovarian ca...</td>\n",
       "      <td>BRCA1</td>\n",
       "      <td>4</td>\n",
       "    </tr>\n",
       "    <tr>\n",
       "      <th>6</th>\n",
       "      <td>Germ line inactivating mutations in BRCA1 conf...</td>\n",
       "      <td>BRCA1</td>\n",
       "      <td>1</td>\n",
       "    </tr>\n",
       "    <tr>\n",
       "      <th>7</th>\n",
       "      <td>A significant proportion of inherited breast c...</td>\n",
       "      <td>BRCA1</td>\n",
       "      <td>1</td>\n",
       "    </tr>\n",
       "    <tr>\n",
       "      <th>8</th>\n",
       "      <td>BRCA1 is a tumour suppressor with pleiotropic ...</td>\n",
       "      <td>BRCA1</td>\n",
       "      <td>1</td>\n",
       "    </tr>\n",
       "    <tr>\n",
       "      <th>9</th>\n",
       "      <td>ABSTRACT: The BRCA1 tumor suppressor gene is f...</td>\n",
       "      <td>BRCA1</td>\n",
       "      <td>1</td>\n",
       "    </tr>\n",
       "  </tbody>\n",
       "</table>\n",
       "</div>"
      ],
      "text/plain": [
       "                                                Text   Gene  Variation\n",
       "0   Abstract Germline mutations that inactivate B...  BRCA1          2\n",
       "1  Mutations in BRCA1 and BRCA2 account for the m...  BRCA1         15\n",
       "2  ABSTRACT Germline mutations that inactivate th...  BRCA1          2\n",
       "3   Abstract  The BRCA1 gene from individuals at ...  BRCA1          6\n",
       "4   Abstract Germline inactivating mutations in B...  BRCA1          3\n",
       "5  Genetic screening of the breast and ovarian ca...  BRCA1          4\n",
       "6  Germ line inactivating mutations in BRCA1 conf...  BRCA1          1\n",
       "7  A significant proportion of inherited breast c...  BRCA1          1\n",
       "8  BRCA1 is a tumour suppressor with pleiotropic ...  BRCA1          1\n",
       "9  ABSTRACT: The BRCA1 tumor suppressor gene is f...  BRCA1          1"
      ]
     },
     "execution_count": 26,
     "metadata": {},
     "output_type": "execute_result"
    }
   ],
   "source": [
    "class_5.groupby(['Text','Gene'],sort=False)['Variation'].count().reset_index()"
   ]
  },
  {
   "cell_type": "markdown",
   "metadata": {},
   "source": [
    "### <font style=\"font-size:18px;font-family:arial;color:green;text-indent:100px;line-height:0.8;word-spacing:10px\">What is the relationship of the enlisted mutations (Variation) of a gene and the corresponding 'Text' ? For e.g, for mutations of BCRA1, there are 36 unique mutations assigned to class 5 and the above 10 texts are the basis for it</font>"
   ]
  },
  {
   "cell_type": "code",
   "execution_count": null,
   "metadata": {},
   "outputs": [],
   "source": []
  },
  {
   "cell_type": "code",
   "execution_count": 27,
   "metadata": {},
   "outputs": [
    {
     "data": {
      "text/plain": [
       "ID           0\n",
       "Gene         0\n",
       "Variation    0\n",
       "Class        0\n",
       "Text         4\n",
       "dtype: int64"
      ]
     },
     "execution_count": 27,
     "metadata": {},
     "output_type": "execute_result"
    }
   ],
   "source": [
    "train_df.isna().sum()"
   ]
  },
  {
   "cell_type": "code",
   "execution_count": 28,
   "metadata": {},
   "outputs": [
    {
     "data": {
      "text/html": [
       "<div>\n",
       "<style scoped>\n",
       "    .dataframe tbody tr th:only-of-type {\n",
       "        vertical-align: middle;\n",
       "    }\n",
       "\n",
       "    .dataframe tbody tr th {\n",
       "        vertical-align: top;\n",
       "    }\n",
       "\n",
       "    .dataframe thead th {\n",
       "        text-align: right;\n",
       "    }\n",
       "</style>\n",
       "<table border=\"1\" class=\"dataframe\">\n",
       "  <thead>\n",
       "    <tr style=\"text-align: right;\">\n",
       "      <th></th>\n",
       "      <th>ID</th>\n",
       "      <th>Gene</th>\n",
       "      <th>Variation</th>\n",
       "      <th>Class</th>\n",
       "      <th>Text</th>\n",
       "    </tr>\n",
       "  </thead>\n",
       "  <tbody>\n",
       "    <tr>\n",
       "      <th>1407</th>\n",
       "      <td>1407</td>\n",
       "      <td>FGFR3</td>\n",
       "      <td>K508M</td>\n",
       "      <td>6</td>\n",
       "      <td>NaN</td>\n",
       "    </tr>\n",
       "    <tr>\n",
       "      <th>1109</th>\n",
       "      <td>1109</td>\n",
       "      <td>FANCA</td>\n",
       "      <td>S1088F</td>\n",
       "      <td>1</td>\n",
       "      <td>NaN</td>\n",
       "    </tr>\n",
       "    <tr>\n",
       "      <th>1277</th>\n",
       "      <td>1277</td>\n",
       "      <td>ARID5B</td>\n",
       "      <td>Truncating Mutations</td>\n",
       "      <td>1</td>\n",
       "      <td>NaN</td>\n",
       "    </tr>\n",
       "    <tr>\n",
       "      <th>1639</th>\n",
       "      <td>1639</td>\n",
       "      <td>FLT1</td>\n",
       "      <td>Amplification</td>\n",
       "      <td>6</td>\n",
       "      <td>NaN</td>\n",
       "    </tr>\n",
       "  </tbody>\n",
       "</table>\n",
       "</div>"
      ],
      "text/plain": [
       "        ID    Gene             Variation  Class Text\n",
       "1407  1407   FGFR3                 K508M      6  NaN\n",
       "1109  1109   FANCA                S1088F      1  NaN\n",
       "1277  1277  ARID5B  Truncating Mutations      1  NaN\n",
       "1639  1639    FLT1         Amplification      6  NaN"
      ]
     },
     "execution_count": 28,
     "metadata": {},
     "output_type": "execute_result"
    }
   ],
   "source": [
    "train_df[train_df['Text'].map(lambda x:not isinstance(x,str))]"
   ]
  },
  {
   "cell_type": "code",
   "execution_count": 29,
   "metadata": {},
   "outputs": [],
   "source": [
    "train_df.dropna(inplace=True)"
   ]
  },
  {
   "cell_type": "code",
   "execution_count": 30,
   "metadata": {},
   "outputs": [],
   "source": [
    "from sklearn.model_selection import train_test_split"
   ]
  },
  {
   "cell_type": "code",
   "execution_count": 32,
   "metadata": {},
   "outputs": [],
   "source": [
    "y_train=train_df['Class']\n",
    "X_train=train_df.drop('Class',axis=1)\n",
    "train_df,validation_df,y_train,y_validation=train_test_split(X_train,y_train,test_size=0.3,stratify=y_train)"
   ]
  },
  {
   "cell_type": "code",
   "execution_count": 33,
   "metadata": {},
   "outputs": [
    {
     "data": {
      "text/plain": [
       "((926, 4), (926,))"
      ]
     },
     "execution_count": 33,
     "metadata": {},
     "output_type": "execute_result"
    }
   ],
   "source": [
    "train_df.shape,y_train.shape"
   ]
  },
  {
   "cell_type": "code",
   "execution_count": 35,
   "metadata": {},
   "outputs": [
    {
     "data": {
      "text/plain": [
       "{1, 2, 3, 4, 5, 6, 7, 8, 9}"
      ]
     },
     "execution_count": 35,
     "metadata": {},
     "output_type": "execute_result"
    }
   ],
   "source": [
    "set(y_train.tolist())"
   ]
  },
  {
   "cell_type": "code",
   "execution_count": 34,
   "metadata": {},
   "outputs": [
    {
     "data": {
      "text/plain": [
       "((398, 4), (398,))"
      ]
     },
     "execution_count": 34,
     "metadata": {},
     "output_type": "execute_result"
    }
   ],
   "source": [
    "validation_df.shape,y_validation.shape"
   ]
  },
  {
   "cell_type": "code",
   "execution_count": 36,
   "metadata": {},
   "outputs": [
    {
     "data": {
      "text/plain": [
       "{1, 2, 3, 4, 5, 6, 7, 8, 9}"
      ]
     },
     "execution_count": 36,
     "metadata": {},
     "output_type": "execute_result"
    }
   ],
   "source": [
    "set(y_validation.tolist())"
   ]
  },
  {
   "cell_type": "markdown",
   "metadata": {},
   "source": [
    "### <font color='green'>analyzing the train text data</font>"
   ]
  },
  {
   "cell_type": "markdown",
   "metadata": {},
   "source": [
    "[link to destination](#destination)"
   ]
  },
  {
   "cell_type": "code",
   "execution_count": 37,
   "metadata": {
    "colab": {
     "base_uri": "https://localhost:8080/",
     "height": 38
    },
    "executionInfo": {
     "elapsed": 98,
     "status": "ok",
     "timestamp": 1638286184867,
     "user": {
      "displayName": "Anubrata Das",
      "photoUrl": "https://lh3.googleusercontent.com/a-/AOh14GiI2340pPpSj6e4aG_4urL4HRwW3MRXEf5aoo2_QA=s64",
      "userId": "08781375266004215524"
     },
     "user_tz": -330
    },
    "id": "9SoN9RkCag-o",
    "outputId": "7f64e0fd-3acd-42a0-9d80-2dd56677fb44"
   },
   "outputs": [
    {
     "data": {
      "text/plain": [
       "'!\"#$%&\\'()*+,-./:;<=>?@[\\\\]^_`{|}~'"
      ]
     },
     "execution_count": 37,
     "metadata": {},
     "output_type": "execute_result"
    }
   ],
   "source": [
    "import string\n",
    "string.punctuation"
   ]
  },
  {
   "cell_type": "code",
   "execution_count": 38,
   "metadata": {
    "executionInfo": {
     "elapsed": 90,
     "status": "ok",
     "timestamp": 1638286184868,
     "user": {
      "displayName": "Anubrata Das",
      "photoUrl": "https://lh3.googleusercontent.com/a-/AOh14GiI2340pPpSj6e4aG_4urL4HRwW3MRXEf5aoo2_QA=s64",
      "userId": "08781375266004215524"
     },
     "user_tz": -330
    },
    "id": "Zoqhi_AKamax"
   },
   "outputs": [],
   "source": [
    "revised_punctuation='!\"#$%&\\'()*+,./:;<=>?@[\\\\]^_`{|}~'"
   ]
  },
  {
   "cell_type": "code",
   "execution_count": 39,
   "metadata": {},
   "outputs": [
    {
     "data": {
      "text/plain": [
       "'!\"#$%&\\'()*+,./:;<=>?@[\\\\]^_`{|}~'"
      ]
     },
     "execution_count": 39,
     "metadata": {},
     "output_type": "execute_result"
    }
   ],
   "source": [
    "revised_punctuation"
   ]
  },
  {
   "cell_type": "code",
   "execution_count": 40,
   "metadata": {},
   "outputs": [],
   "source": [
    "#!pip install nltk"
   ]
  },
  {
   "cell_type": "code",
   "execution_count": 41,
   "metadata": {
    "executionInfo": {
     "elapsed": 92,
     "status": "ok",
     "timestamp": 1638286184873,
     "user": {
      "displayName": "Anubrata Das",
      "photoUrl": "https://lh3.googleusercontent.com/a-/AOh14GiI2340pPpSj6e4aG_4urL4HRwW3MRXEf5aoo2_QA=s64",
      "userId": "08781375266004215524"
     },
     "user_tz": -330
    },
    "id": "UoSJBAQWis7w"
   },
   "outputs": [
    {
     "name": "stderr",
     "output_type": "stream",
     "text": [
      "[nltk_data] Downloading package words to\n",
      "[nltk_data]     C:\\Users\\anubr\\AppData\\Roaming\\nltk_data...\n",
      "[nltk_data]   Package words is already up-to-date!\n"
     ]
    }
   ],
   "source": [
    "import nltk\n",
    "nltk.download('words')\n",
    "from nltk.corpus import words\n",
    "words=nltk.corpus.words.words()"
   ]
  },
  {
   "cell_type": "code",
   "execution_count": 42,
   "metadata": {},
   "outputs": [
    {
     "data": {
      "text/plain": [
       "235892"
      ]
     },
     "execution_count": 42,
     "metadata": {},
     "output_type": "execute_result"
    }
   ],
   "source": [
    "len(set(words))"
   ]
  },
  {
   "cell_type": "code",
   "execution_count": 43,
   "metadata": {},
   "outputs": [],
   "source": [
    "nltk_words=set(words)"
   ]
  },
  {
   "cell_type": "code",
   "execution_count": 44,
   "metadata": {
    "executionInfo": {
     "elapsed": 90,
     "status": "ok",
     "timestamp": 1638286184874,
     "user": {
      "displayName": "Anubrata Das",
      "photoUrl": "https://lh3.googleusercontent.com/a-/AOh14GiI2340pPpSj6e4aG_4urL4HRwW3MRXEf5aoo2_QA=s64",
      "userId": "08781375266004215524"
     },
     "user_tz": -330
    },
    "id": "dZa3dSo_KOra"
   },
   "outputs": [],
   "source": [
    "def cleanse_data(data):        \n",
    "    if isinstance(data,str):\n",
    "        no_punctuation = [char for char in data.replace('\\n',' ') if char not in revised_punctuation]\n",
    "        no_punctuation_txt = ''.join(no_punctuation)                   \n",
    "        return no_punctuation_txt\n",
    "    else:\n",
    "        return \"NA\""
   ]
  },
  {
   "cell_type": "code",
   "execution_count": 45,
   "metadata": {},
   "outputs": [],
   "source": [
    "def reduce_words(data):\n",
    "    data = data.split()\n",
    "    words = [word for word in data if word not in nltk_words]\n",
    "    text = \" \".join(words)\n",
    "    return text    "
   ]
  },
  {
   "cell_type": "code",
   "execution_count": 46,
   "metadata": {},
   "outputs": [],
   "source": [
    "def word_count(text):\n",
    "    text_lst=text.split()\n",
    "    vector = [text_lst.count(str(word)) for word in text_lst]\n",
    "    return vector[:300]"
   ]
  },
  {
   "cell_type": "code",
   "execution_count": 47,
   "metadata": {},
   "outputs": [],
   "source": [
    "from nltk.probability import FreqDist"
   ]
  },
  {
   "cell_type": "markdown",
   "metadata": {
    "id": "eHrZ7Ae4odHg"
   },
   "source": [
    "we have obtained the frequency distribution of words using freqdist"
   ]
  },
  {
   "cell_type": "code",
   "execution_count": 48,
   "metadata": {},
   "outputs": [],
   "source": [
    "def freq_dist(data):\n",
    "    data=data.split(\" \")\n",
    "    freq=FreqDist(data) # gets word frequency\n",
    "    freq=sorted(freq.items(),key=lambda x:x[1], reverse=True) # sorts words from highest to lowest frequency\n",
    "    return [item[1] for item in freq][:300] # returns a fixed length of 300 words"
   ]
  },
  {
   "cell_type": "code",
   "execution_count": 49,
   "metadata": {},
   "outputs": [],
   "source": [
    "# implementing bag of words"
   ]
  },
  {
   "cell_type": "code",
   "execution_count": 50,
   "metadata": {},
   "outputs": [],
   "source": [
    "from sklearn.feature_extraction.text import CountVectorizer"
   ]
  },
  {
   "cell_type": "code",
   "execution_count": 51,
   "metadata": {},
   "outputs": [],
   "source": [
    "bow_vectorizer = CountVectorizer(stop_words='english',max_features=1600)"
   ]
  },
  {
   "cell_type": "code",
   "execution_count": 52,
   "metadata": {},
   "outputs": [],
   "source": [
    "# implementing tf-idf"
   ]
  },
  {
   "cell_type": "code",
   "execution_count": 53,
   "metadata": {},
   "outputs": [],
   "source": [
    "from sklearn.feature_extraction.text import TfidfVectorizer"
   ]
  },
  {
   "cell_type": "code",
   "execution_count": 54,
   "metadata": {},
   "outputs": [],
   "source": [
    "tfidf_vectorizer = TfidfVectorizer(\n",
    "    min_df=1, max_features=1600, strip_accents='unicode',lowercase =True,\n",
    "    analyzer='word', token_pattern=r'\\w+', ngram_range=(1, 3), use_idf=True, \n",
    "    smooth_idf=True, sublinear_tf=True, stop_words = 'english')"
   ]
  },
  {
   "cell_type": "code",
   "execution_count": 55,
   "metadata": {},
   "outputs": [],
   "source": [
    "# https://melaniewalsh.github.io/Intro-Cultural-Analytics/05-Text-Analysis/03-TF-IDF-Scikit-Learn.html\n",
    "# https://www.datacamp.com/community/tutorials/understanding-logistic-regression-python\n",
    "# https://machinelearningmastery.com/multinomial-logistic-regression-with-python/\n",
    "# https://www.kaggle.com/elemento/personalizedmedicine-rct"
   ]
  },
  {
   "cell_type": "code",
   "execution_count": 56,
   "metadata": {},
   "outputs": [],
   "source": [
    "from sklearn.linear_model import LogisticRegression"
   ]
  },
  {
   "cell_type": "code",
   "execution_count": 57,
   "metadata": {},
   "outputs": [],
   "source": [
    "from sklearn.metrics import log_loss"
   ]
  },
  {
   "cell_type": "code",
   "execution_count": 58,
   "metadata": {},
   "outputs": [],
   "source": [
    "# define the multinomial logistic regression model\n",
    "bow_model = LogisticRegression(multi_class='multinomial', solver='lbfgs')\n",
    "tfidf_model = LogisticRegression(multi_class='multinomial', solver='lbfgs')"
   ]
  },
  {
   "cell_type": "markdown",
   "metadata": {},
   "source": [
    "<a id=\"train_data\" style=\"font-size:22px\">model train text sample data</a>"
   ]
  },
  {
   "cell_type": "markdown",
   "metadata": {},
   "source": [
    "[Beginning of Notebook](#top)"
   ]
  },
  {
   "cell_type": "markdown",
   "metadata": {},
   "source": [
    "#### text preprocessing"
   ]
  },
  {
   "cell_type": "code",
   "execution_count": 59,
   "metadata": {},
   "outputs": [
    {
     "name": "stderr",
     "output_type": "stream",
     "text": [
      "progress bar: 100%|██████████| 926/926 [00:09<00:00, 92.83it/s] \n"
     ]
    }
   ],
   "source": [
    "# remove punctuation\n",
    "train_df['cleaned_text'] = train_df['Text'].progress_map(cleanse_data,na_action='ignore')"
   ]
  },
  {
   "cell_type": "code",
   "execution_count": 60,
   "metadata": {},
   "outputs": [
    {
     "name": "stderr",
     "output_type": "stream",
     "text": [
      "progress bar: 100%|██████████| 926/926 [00:03<00:00, 249.31it/s]\n"
     ]
    }
   ],
   "source": [
    "# filtering all common english words\n",
    "train_df['cleaned_text'] = train_df['cleaned_text'].progress_map(reduce_words,na_action='ignore')"
   ]
  },
  {
   "cell_type": "code",
   "execution_count": 61,
   "metadata": {},
   "outputs": [],
   "source": [
    "train_df['Text_len'] = train_df['Text'].map(lambda x:len(str(x)))\n",
    "train_df['cleaned_text_len'] = train_df['cleaned_text'].map(lambda x:len(str(x)))"
   ]
  },
  {
   "cell_type": "code",
   "execution_count": null,
   "metadata": {},
   "outputs": [],
   "source": []
  },
  {
   "cell_type": "code",
   "execution_count": 62,
   "metadata": {},
   "outputs": [
    {
     "data": {
      "text/html": [
       "<div>\n",
       "<style scoped>\n",
       "    .dataframe tbody tr th:only-of-type {\n",
       "        vertical-align: middle;\n",
       "    }\n",
       "\n",
       "    .dataframe tbody tr th {\n",
       "        vertical-align: top;\n",
       "    }\n",
       "\n",
       "    .dataframe thead th {\n",
       "        text-align: right;\n",
       "    }\n",
       "</style>\n",
       "<table border=\"1\" class=\"dataframe\">\n",
       "  <thead>\n",
       "    <tr style=\"text-align: right;\">\n",
       "      <th></th>\n",
       "      <th>ID</th>\n",
       "      <th>Gene</th>\n",
       "      <th>Variation</th>\n",
       "      <th>Text</th>\n",
       "      <th>cleaned_text</th>\n",
       "      <th>Text_len</th>\n",
       "      <th>cleaned_text_len</th>\n",
       "    </tr>\n",
       "  </thead>\n",
       "  <tbody>\n",
       "    <tr>\n",
       "      <th>2416</th>\n",
       "      <td>2416</td>\n",
       "      <td>PTPRD</td>\n",
       "      <td>Deletion</td>\n",
       "      <td>Tyrosine phosphorylation plays a critical role...</td>\n",
       "      <td>Tyrosine plays regulating signaling cascades o...</td>\n",
       "      <td>65803</td>\n",
       "      <td>27030</td>\n",
       "    </tr>\n",
       "    <tr>\n",
       "      <th>1636</th>\n",
       "      <td>1636</td>\n",
       "      <td>MAP2K4</td>\n",
       "      <td>G85R</td>\n",
       "      <td>The systematic characterization of somatic mut...</td>\n",
       "      <td>mutations genomes developing therapeutics1 Her...</td>\n",
       "      <td>53189</td>\n",
       "      <td>24152</td>\n",
       "    </tr>\n",
       "    <tr>\n",
       "      <th>389</th>\n",
       "      <td>389</td>\n",
       "      <td>TP53</td>\n",
       "      <td>S121A</td>\n",
       "      <td>Tumor suppressor p53-dependent apoptosis is th...</td>\n",
       "      <td>Tumor p53-dependent apoptosis tumor-suppressiv...</td>\n",
       "      <td>29923</td>\n",
       "      <td>12382</td>\n",
       "    </tr>\n",
       "    <tr>\n",
       "      <th>1194</th>\n",
       "      <td>1194</td>\n",
       "      <td>PIK3CA</td>\n",
       "      <td>R93W</td>\n",
       "      <td>Introduction In 2004, Samuels et al. reported...</td>\n",
       "      <td>Introduction In 2004 Samuels et reported resul...</td>\n",
       "      <td>78779</td>\n",
       "      <td>32007</td>\n",
       "    </tr>\n",
       "    <tr>\n",
       "      <th>766</th>\n",
       "      <td>766</td>\n",
       "      <td>ERBB2</td>\n",
       "      <td>N857S</td>\n",
       "      <td>Overexpression of the ERBB2 kinase is observed...</td>\n",
       "      <td>Overexpression ERBB2 observed one-third patien...</td>\n",
       "      <td>21840</td>\n",
       "      <td>10012</td>\n",
       "    </tr>\n",
       "  </tbody>\n",
       "</table>\n",
       "</div>"
      ],
      "text/plain": [
       "        ID    Gene Variation  \\\n",
       "2416  2416   PTPRD  Deletion   \n",
       "1636  1636  MAP2K4      G85R   \n",
       "389    389    TP53     S121A   \n",
       "1194  1194  PIK3CA      R93W   \n",
       "766    766   ERBB2     N857S   \n",
       "\n",
       "                                                   Text  \\\n",
       "2416  Tyrosine phosphorylation plays a critical role...   \n",
       "1636  The systematic characterization of somatic mut...   \n",
       "389   Tumor suppressor p53-dependent apoptosis is th...   \n",
       "1194   Introduction In 2004, Samuels et al. reported...   \n",
       "766   Overexpression of the ERBB2 kinase is observed...   \n",
       "\n",
       "                                           cleaned_text  Text_len  \\\n",
       "2416  Tyrosine plays regulating signaling cascades o...     65803   \n",
       "1636  mutations genomes developing therapeutics1 Her...     53189   \n",
       "389   Tumor p53-dependent apoptosis tumor-suppressiv...     29923   \n",
       "1194  Introduction In 2004 Samuels et reported resul...     78779   \n",
       "766   Overexpression ERBB2 observed one-third patien...     21840   \n",
       "\n",
       "      cleaned_text_len  \n",
       "2416             27030  \n",
       "1636             24152  \n",
       "389              12382  \n",
       "1194             32007  \n",
       "766              10012  "
      ]
     },
     "execution_count": 62,
     "metadata": {},
     "output_type": "execute_result"
    }
   ],
   "source": [
    "train_df.head()"
   ]
  },
  {
   "cell_type": "markdown",
   "metadata": {},
   "source": [
    "### <font color='green'>converting text to numbers</font>"
   ]
  },
  {
   "cell_type": "code",
   "execution_count": 63,
   "metadata": {},
   "outputs": [],
   "source": [
    "train_df_corpus = train_df['cleaned_text'].tolist()"
   ]
  },
  {
   "cell_type": "markdown",
   "metadata": {},
   "source": [
    "#### bag of words transformation"
   ]
  },
  {
   "cell_type": "code",
   "execution_count": 64,
   "metadata": {},
   "outputs": [
    {
     "data": {
      "text/plain": [
       "CountVectorizer(max_features=1600, stop_words='english')"
      ]
     },
     "execution_count": 64,
     "metadata": {},
     "output_type": "execute_result"
    }
   ],
   "source": [
    "bow_vectorizer.fit(train_df_corpus)"
   ]
  },
  {
   "cell_type": "code",
   "execution_count": 65,
   "metadata": {},
   "outputs": [],
   "source": [
    "train_df_counts= bow_vectorizer.transform(train_df_corpus)"
   ]
  },
  {
   "cell_type": "code",
   "execution_count": 66,
   "metadata": {},
   "outputs": [
    {
     "name": "stdout",
     "output_type": "stream",
     "text": [
      "Vocabulary:  {'tyrosine': 1529, 'plays': 1161, 'regulating': 1268, 'signaling': 1372, 'oncogenesis': 1083, 'controlled': 444, 'kinases': 875, 'roles': 1316, 'ptprd': 1224, 'inactivated': 811, 'glioblastoma': 719, 'gbm': 695, 'tumors': 1523, 'deletions': 505, 'cancer': 350, 'specific': 1405, 'silencing': 1376, 'cpg': 460, '37': 109, 'sequencing': 1357, 'mutated': 1017, '13': 36, 'carcinomas': 352, 'cancers': 351, 'mutations': 1020, 'occurs': 1077, '50': 134, 'patients': 1120, 'wild': 1578, 'type': 1526, 'inhibits': 834, 'cells': 375, 'observed': 1072, 'alleles': 238, 'harboring': 741, 'human': 777, 'lacking': 883, 'exhibited': 616, 'increased': 815, 'stat3': 1418, 'results': 1297, 'keywords': 872, 'loss': 918, 'leads': 891, 'genes': 705, 'mechanisms': 956, 'dna': 543, 'identification': 784, 'processes': 1199, 'identified': 785, 'conserved': 432, 'members': 971, 'implicated': 807, 'tumorigenesis': 1521, 'encodes': 583, 'transmembrane': 1508, 'located': 912, 'gliomas': 720, 'malignancies': 931, 'studies': 1429, 'cdkn2a': 371, 'detected': 518, 'alterations': 243, '10': 14, '12': 30, 'shows': 1365, 'altered': 244, 'using': 1542, 'indicating': 821, 'regulates': 1267, 'taken': 1458, 'discussion': 533, 'deleted': 502, 'p16ink4a': 1099, 'pten': 1222, '14': 40, 'examined': 613, '24': 86, 'dataset': 493, 'obtained': 1073, 'genome': 708, 'tcga': 1463, '15': 41, 'analyzed': 255, 'efforts': 573, 'expected': 623, '40': 118, 'fig': 654, '1a': 58, '16': 43, 'regions': 1265, 'encompassing': 585, 'importantly': 809, 'exons': 622, 'changes': 381, 'value': 1550, 'deletion': 504, 'events': 612, 'patterns': 1121, '1c': 60, '29': 93, '59': 145, '1d': 61, 'indicates': 820, 'p16': 1098, 'larger': 889, 'suggests': 1440, 'exists': 617, '17': 45, '18': 46, '19': 49, '20': 64, '21': 83, '22': 84, 'given': 718, '2a': 96, 'pcr': 1126, 'assays': 286, 'lines': 906, 'treatment': 1510, 'resulted': 1296, '2b': 97, 'developed': 519, 'genomic': 710, '2c': 98, '2d': 99, 'based': 304, 'transcriptome': 1498, 'mrna': 1006, 'levels': 897, 'compared': 414, 'microarray': 982, 'database': 491, 'numbers': 1069, 'profiles': 1202, 'published': 1225, '23': 85, 'tables': 1456, 's1': 1323, 's2': 1324, 'algorithms': 233, 'described': 515, 'comparing': 415, 'iv': 862, 'ii': 791, 'iii': 792, 'decreased': 497, 'appears': 268, 'frequencies': 681, 'analysis': 254, '005': 5, 'furthermore': 685, 'sequenced': 1355, '48': 127, '32': 104, '60': 150, '36': 108, 'amplified': 252, 'samples': 1330, 'materials': 943, 'methods': 977, 'verified': 1562, 'single': 1379, 'nucleotide': 1065, 'types': 1527, 's3': 1325, 'table': 1455, 'somatic': 1400, 'occurred': 1074, 'domains': 548, 'predicted': 1183, 'terminal': 1467, 'missense': 986, 'areas': 275, '25': 87, 'andor': 257, 'apoptosis': 265, 'figs': 655, 'tissues': 1485, 'including': 814, 'transfected': 1501, 'transfection': 1502, '3a': 112, 'expression': 629, 'inhibited': 829, 'resistant': 1292, 'colonies': 411, '3b': 113, '293': 94, '26': 89, 'expressing': 628, 'shrna': 1368, 'targeting': 1460, '3d': 115, 's4': 1326, 'tumor': 1520, 'xenograft': 1586, 'demonstrating': 508, 'consequences': 431, 'properties': 1212, 'immunoblot': 798, 'hek': 750, '293t': 95, 'cdna': 372, '31': 103, 'v5': 1545, 'epitope': 591, 'invitrogen': 853, 'activity': 215, 'abrogated': 202, 'performed': 1135, 'pathways': 1118, 'phosphorylated': 1146, '27': 90, 'phospho': 1142, 'proteins': 1215, 's5': 1327, 'cytokine': 482, 'demonstrated': 506, 'mediated': 957, 'gst': 729, 'incubated': 817, 'vitro': 1567, 'immunoprecipitated': 803, 'dose': 550, 'dependent': 510, 'motifs': 1004, '28': 91, 'sirna': 1380, 'demonstrates': 507, 'includes': 813, '30': 101, 'documented': 544, '34': 106, '35': 107, 'inhibition': 831, '39': 111, 'growth': 726, 'phosphorylate': 1145, 'substrates': 1436, 'targets': 1461, 'akt': 228, 'implications': 808, 'inherited': 828, '57': 143, 'reports': 1280, 'introduction': 849, 'supports': 1449, 'causing': 363, 'oncogenes': 1082, 'receptors': 1255, 'inactivating': 812, 'reported': 1279, 'receptor': 1254, 'refs': 1263, 'colleagues': 410, '2005': 71, '11': 26, 'identifying': 786, 'contributes': 442, 'culture': 475, 'science': 1338, 'research': 1288, 'g1': 688, 'normal': 1050, 'dmem': 540, 'fbs': 640, 'sc': 1333, 'xenografts': 1587, 'university': 1538, 'center': 376, 'created': 464, 'hospital': 771, '2006': 72, 'tumour': 1524, 'tissue': 1484, 'cultures': 476, 'medical': 959, 'containing': 440, 'μgml': 1596, 'ngml': 1042, 'national': 1027, 'institute': 841, 'rpmi': 1318, 'protocols': 1216, 'data': 490, 'processing': 1200, 'images': 795, 'processed': 1198, 'sets': 1360, 'western': 1575, 'primary': 1188, 'antibodies': 262, 'cruz': 469, 'biotechnology': 321, 'conditions': 423, 'pairs': 1110, 'products': 1201, 'purified': 1227, 'followed': 670, 'reactions': 1246, 'applied': 270, 'biosystems': 320, 'sequences': 1356, 'mutation': 1018, 'matched': 941, 'open': 1088, 'cloned': 400, 'lentiviral': 893, 'biosciences': 319, 'cotransfected': 456, 'plasmids': 1158, 'roche': 1314, 'harvested': 742, 'site': 1382, 'directed': 530, 'mutagenesis': 1014, 'engineered': 587, 'stratagene': 1424, 'coding': 407, 'vectors': 1559, 'cytometry': 483, 'μmoll': 1599, 'stained': 1417, 'bd': 311, 'fcs': 643, 'software': 1399, '05': 10, 'pbs': 1122, 'apoptotic': 266, '200': 65, 'counted': 458, 'imaging': 796, 'statistical': 1421, 'prism': 1190, '58': 144, '1b': 59, 'supplementary': 1446, 'scale': 1334, '33': 105, 'suggested': 1439, 'figure': 656, 'snp': 1397, 'mb': 945, 'additionally': 219, 'germ': 712, 'line': 905, 'accompanied': 204, '100': 15, 'proposed': 1213, 'uv': 1543, 'induced': 823, 'caused': 361, 'dimers': 528, 'loh': 914, 'harbored': 740, 'interestingly': 847, 'activating': 211, 'raf': 1237, 'ras': 1240, 'makes': 930, 'p53': 1103, 'pik3ca': 1152, 'encoded': 582, 'hotspot': 772, 'schematic': 1337, 'like': 903, 'c2': 345, 'despite': 516, '51': 136, 'kb': 868, 'heterodimer': 759, '4a': 129, 'populations': 1173, '4b': 130, 'causes': 362, '4c': 131, 'time': 1483, '4d': 132, 'derived': 514, 'introduced': 848, 'lysates': 923, '5a': 146, 'mutants': 1016, '5b': 147, 'depicted': 511, '5c': 148, '75': 168, 'experiments': 625, 'cell': 374, 'contacts': 438, 'impaired': 806, 'long': 915, 'term': 1466, 'binds': 316, 'ligands': 901, 'molecules': 1000, 'hypothesized': 780, 'functions': 684, 'promotes': 1210, 'presented': 1186, 'syndromes': 1450, 'activated': 209, 'protein': 1214, 'hnscc': 766, 'oncogene': 1081, 'exome': 619, 'summarized': 1441, 'findings': 660, 'overexpression': 1095, 'phosphorylation': 1147, 'inhibitors': 833, 'enzymes': 590, 'groups': 725, 'phenotypes': 1140, 'genetic': 706, 'oncogenic': 1084, 'aberrations': 197, 'components': 419, 'models': 995, 'sigma': 1370, 'aldrich': 232, 'st': 1414, 'md': 951, 'modified': 997, 'supplemented': 1447, 'bio': 317, 'ca': 347, 'life': 899, 'technologies': 1464, 'mm': 992, 'maintained': 928, '124': 34, 'ma': 927, 'dmso': 541, 'lipofectamine': 908, '2000': 66, 'hd': 747, 'promega': 1207, 'manufacturer': 932, 'instructions': 842, 'μg': 1595, 'generated': 703, 'plasmid': 1157, 'fisher': 662, 'sanger': 1331, 'amplifications': 251, 'qiagen': 1231, 'germany': 713, 'immunoblotting': 799, 'technology': 1465, 'purchased': 1226, 'secondary': 1345, 'blots': 324, 'mgml': 980, '45': 124, 'replaced': 1278, 'nm': 1046, 'approved': 272, 'formalin': 673, 'fixed': 663, 'embedded': 580, 'polymerase': 1168, 'conducted': 424, 'primers': 1189, 'control': 443, 'download': 554, 'rna': 1313, 'seq': 1353, 'information': 827, 'tests': 1472, 'plates': 1159, 'hours': 774, 'μl': 1597, 'ml': 989, '72': 165, 'resuspended': 1298, '02': 7, 'non': 1048, 'recurrent': 1260, 'occurring': 1076, 'function': 682, 'localized': 911, 'cases': 356, '104': 21, 'residues': 1290, 'sites': 1383, 'cosmic': 455, 'et': 608, 'constructs': 437, 'notably': 1052, '3c': 114, 'overexpressing': 1094, 'wt': 1584, 'downregulation': 556, 'reveals': 1302, 'colorectal': 412, 'activation': 212, 'egfr': 576, 'targeted': 1459, 'regulators': 1270, 'represents': 1284, 'affects': 222, 'independent': 818, 'interactions': 845, 'interacting': 844, 'confer': 425, 'validated': 1549, 'upregulation': 1540, 'genomes': 709, 'developing': 520, 'representing': 1283, 'tumours': 1525, 'subtypes': 1437, 'rates': 1241, '77': 170, 'called': 349, 'integrated': 843, 'subunits': 1438, 'signalling': 1373, 'provides': 1217, 'insights': 840, 'large': 888, '65': 156, 'hr': 775, 'er': 592, 'small': 1393, 'nsclc': 1061, '63': 154, 'differentiated': 526, 'e3': 565, 'analysed': 253, 'variations': 1555, '64': 155, '95': 190, 'predictions': 1185, 'enriched': 589, '85': 179, '91': 186, 'remaining': 1276, '61': 152, 'contained': 439, 'adenocarcinomas': 220, 'tmprss2': 1490, 'erg': 598, 'approaches': 271, 'department': 509, 'molecular': 998, 'usa': 1541, 'vol': 1569, '2010': 76, 'having': 743, '56': 142, 'keap1': 871, '49': 128, 'rtks': 1321, '87': 181, '103': 20, 'diseases': 535, '53': 138, 'spop': 1409, 'gtpase': 731, 'consistent': 433, 'overexpressed': 1093, 'promoted': 1208, 'recently': 1253, 'nf1': 1039, 'fbxw7': 642, 'strategies': 1425, 'breast': 340, 'her2': 757, 'lung': 921, 'tp53': 1493, 'kras': 877, 'ret': 1299, 'erbb4': 596, 'braf': 330, 'ctnnb1': 473, 'akt1': 229, 'pik3r1': 1153, 'erbb3': 595, 'represented': 1282, 'scores': 1339, 'families': 636, 'mapped': 937, 'indicated': 819, 'pr': 1180, '67': 158, 'copy': 449, 'ros1': 1317, 'log': 913, '250': 88, '150': 42, 'number': 1068, 'µm': 1593, 'actin': 208, 'relative': 1273, 'gtp': 730, 'anchorage': 256, 'flag': 665, 'tagged': 1457, 'sem': 1349, '001': 4, 'showed': 1364, 'atp': 291, 'dominant': 549, 'negative': 1031, 'mediates': 958, '43': 122, 'treatments': 1511, 'mkk4': 988, 'p38': 1102, 'defects': 498, 'es': 605, 'dn': 542, 'transformed': 1505, 'tumorigenic': 1522, 'parp': 1116, 'erk': 599, 'mitogen': 987, 'map': 935, 'mapk': 936, 'signal': 1371, 'regulated': 1266, 'responses': 1294, '1995': 53, '1996': 54, 'promoters': 1209, 'acids': 207, 'factors': 634, 'tgf': 1477, 'beta': 313, 'il': 793, '1997': 55, '1998': 56, 'fibroblasts': 653, '2002': 68, '2003': 69, '1993': 51, '1999': 57, '105': 22, '125': 35, 'variants': 1554, 'polymorphisms': 1169, 'deficient': 500, 'allowed': 240, '2004': 70, 'finally': 659, 'signals': 1374, 'induces': 824, 'pcdna3': 1125, '44': 123, 'kda': 870, 'probed': 1195, 'anti': 261, 'monoclonal': 1002, 'unfortunately': 1535, 'helpnaturecom': 755, 'pan': 1112, 'clones': 401, 'note': 1055, 'appeared': 267, 'died': 524, '1e': 62, 'weeks': 1574, 'figures': 658, 'agarose': 224, 'enhances': 588, 'yielded': 1592, 'injected': 836, 'earlier': 566, 'post': 1177, '46': 125, 'bars': 303, '106': 23, 'error': 603, 'vs': 1570, 'test': 1471, 'fold': 668, 'monitored': 1001, 'points': 1164, 'extracts': 630, 'assayed': 285, 'lanes': 886, 'treated': 1509, 'p85': 1105, 'forms': 674, 'similarly': 1378, 'remained': 1275, 'panels': 1113, 'polyclonal': 1167, 'sp': 1403, 'bands': 300, 'isoform': 859, 'isoforms': 860, 'high': 763, 'similar': 1377, 'activities': 214, 'labeled': 881, 'investigated': 852, 'conclusions': 422, 'serum': 1359, 'laboratories': 882, 'required': 1285, 'stages': 1416, 'vivo': 1568, 'activates': 210, 'specifically': 1406, 'terminus': 1468, 'alternatively': 245, 'transgenic': 1506, 'authors': 293, 'recognized': 1256, 'active': 213, 'mek1': 965, '1994': 52, 'achieved': 205, 'partners': 1117, 'correlates': 451, 'observations': 1071, 'reached': 1245, 'caspase': 357, 'cyclin': 480, 'prb': 1181, 'second': 1344, 'mefs': 962, 'ala': 231, 'd1': 485, 'cross': 467, 'explained': 626, 'transduced': 1500, 'estimated': 607, 'transactivation': 1495, 'p53s': 1104, 'binding': 315, 'evaluated': 611, 'sequence': 1354, '121': 32, 'amino': 247, 'acid': 206, 'reviewed': 1303, 'databases': 492, '74': 167, 'hotspots': 773, 'supported': 1448, 'bcl': 309, 'constructed': 436, 'yeast': 1590, 'substitutions': 1434, 'sensitive': 1350, 'retained': 1300, 'mdm2': 952, 'requires': 1286, 'regulation': 1269, 'additional': 218, '500': 135, 'ng': 1041, '300': 102, 'galactosidase': 691, 'lacz': 885, 'sd': 1342, '70': 163, 'minutes': 985, 'μm': 1598, 'mmoll': 993, 'tris': 1514, 'hcl': 745, 'separated': 1352, 'sds': 1343, 'page': 1108, 'luciferase': 920, 'assay': 284, 'nucleotides': 1066, 'contains': 441, '80': 173, '96': 191, 'mutant': 1015, '600': 151, 'view': 1564, 'subgroups': 1432, '55': 141, 'controls': 445, '84': 178, '94': 189, '117': 29, '07': 12, '06': 11, 'figureopen': 657, 'tabdownload': 1454, 'powerpoint': 1178, '01': 6, 'proliferation': 1205, 'transcriptional': 1497, 'differences': 525, 'systems': 1452, 'values': 1551, 'conversely': 446, 'overall': 1092, 'antitumor': 263, 'therapies': 1479, 'structure': 1427, '286': 92, 'l1': 879, 'structures': 1428, 'clusters': 403, 'classify': 398, 'lipid': 907, 'p110α': 1097, '76': 169, 'recorded': 1258, 'abd': 196, 'rbd': 1244, 'p85α': 1106, 'gap': 692, 'sh2': 1363, 'ish2': 858, 'domain': 547, 'h1047r': 734, 'effectors': 571, 'agents': 226, 'pi3k': 1151, 'inhibiting': 830, 'structural': 1426, 'positions': 1175, 'dimensional': 527, '108': 25, '81': 174, 'interacts': 846, 'bonds': 326, 'loops': 917, 'spanning': 1404, 'pdb': 1128, 'allows': 242, 'class': 396, 'cα': 484, 'association': 288, 'recruited': 1259, 'membranes': 972, 'charged': 384, 'associated': 287, 'conformational': 428, 'increases': 816, '4e': 133, 'phosphotyrosine': 1148, 'examples': 614, 'arg': 276, 'conformations': 429, 'disrupting': 538, 'lacks': 884, 'discussed': 532, 'summary': 1442, 'peptides': 1134, 'experimental': 624, 'wildtype': 1579, 'u2os': 1531, '42': 121, '66': 157, 'half': 738, '62': 153, 'trials': 1512, 'related': 1272, 'women': 1582, 'options': 1089, 'needed': 1030, 'grade': 723, 'early': 567, 'stage': 1415, 'improved': 810, 'mtor': 1010, 'rapamycin': 1239, 'gain': 689, 'kinase': 874, '88': 182, '93': 188, '111': 28, '38': 110, 'clinical': 399, 'sections': 1347, 'pa': 1107, 'specimens': 1407, 'mapping': 938, 'genotyping': 711, 'fragments': 677, 'abi': 198, 'mutational': 1019, 'germline': 714, 'comparisons': 417, 'generation': 704, 'length': 892, 'dr': 557, 'subcloned': 1431, 'agilent': 227, 'cloning': 402, 'transfections': 1503, 'lysed': 924, 'nacl': 1026, 'ph': 1137, 'edta': 569, 'na': 1025, 'rad': 1235, 'conjugated': 430, 'm2': 926, 'mouse': 1005, 'visualized': 1566, 'normalized': 1051, 'exonic': 621, 'intronic': 851, '41': 120, '78': 171, '107': 24, 'characterized': 383, 'codons': 408, 'previous': 1187, '00001': 2, 'functional': 683, 'recent': 1252, 'acts': 216, 'double': 552, 'allosteric': 239, 'phosphoinositide': 1143, 'highlighted': 764, 'rtk': 1320, 'phosphopeptide': 1144, 'py': 1230, 'stimulated': 1422, 'pdgfr': 1130, 'referred': 1262, 'states': 1420, 'bound': 327, 'initiated': 835, 'quantified': 1232, 'phase': 1138, 'details': 517, '82': 175, 's6': 1328, 'effect': 570, 'curves': 477, 'allowing': 241, 'complexes': 418, 'disrupted': 537, 'resistance': 1291, 'molecule': 999, 'erbb2': 594, 'lapatinib': 887, 'positive': 1176, 'prolonged': 1206, 'gefitinib': 700, 't790m': 1453, 'ic50': 782, 'hek293': 751, 'erk12': 600, 'autophosphorylation': 294, 'egf': 574, 'ligand': 900, 'nih3t3': 1044, 'egfp': 575, 'baf3': 299, 'conferred': 426, 'l858r': 880, 'doses': 551, 'cml': 405, 'concentrations': 421, '04': 9, 'helix': 754, '6b': 162, '6a': 161, 'abl': 199, 'imatinib': 797, 'drugs': 561, 'erlotinib': 602, 'ag': 223, 'recombinant': 1257, 'retroviral': 1301, 'millipore': 984, 'stat5': 1419, 'amersham': 246, 'total': 1492, 'synthesized': 1451, 'transcription': 1496, 'kd': 869, 'platinum': 1160, 'years': 1589, 'cisplatin': 395, 'situ': 1384, '123': 33, 'year': 1588, 'brca1': 333, 'brca2': 334, 'involves': 854, 'disorders': 536, 'ercc2': 597, 'regimens': 1264, 'characteristics': 382, 'baseline': 305, 'failed': 635, 'inlineview': 837, 'popup': 1174, 'patient': 1119, '130': 37, 'wide': 1577, 'damaging': 488, '0001': 3, 'gene': 702, 'level': 896, 'cohorts': 409, 'scc': 1335, 'cs': 470, 'sensitivity': 1351, 'encoding': 584, 'gfp': 715, 'lesions': 894, 'ns': 1060, 'fewer': 646, 'representative': 1281, 'truncating': 1515, 'arising': 277, 'cycle': 478, 'homolog': 769, 'excluded': 615, 'means': 954, 'focused': 667, '89': 183, '09': 13, 'paraffin': 1114, 'slides': 1387, 'blocks': 322, 'bp': 329, 'illumina': 794, 'reads': 1247, 'individuals': 822, 'insertions': 838, 'fractions': 676, 'comparison': 416, 'manufacturers': 933, 'pooled': 1171, 'paired': 1109, 'end': 586, 'del': 501, 'procedures': 1197, 'nih': 1043, 'guidelines': 732, 'involving': 855, '2013': 79, 'microsatellite': 983, 'free': 680, 'measurements': 955, 'cm': 404, '400': 119, 'nmoll': 1047, 'breaks': 339, 'translocations': 1507, 'chromosomes': 390, '73': 166, '90': 185, 'rearrangements': 1250, 'ets': 609, 'fusions': 687, 'ar': 273, 'crpc': 468, 'deregulated': 513, '86': 180, 'mll': 991, 'foxa1': 675, 'asxl1': 289, 'androgen': 258, 'profiling': 1203, 'apc': 264, 'cdk12': 368, 'wnt': 1581, 'multiple': 1013, 'checkpoint': 385, 'drivers': 559, '52': 137, 'rearranged': 1249, 'vcap': 1557, 'ezh2': 631, 'expressed': 627, 'immunoprecipitation': 805, 'sirnas': 1381, 'psa': 1219, '101': 17, 'lncap': 910, 'pre': 1182, 'risk': 1310, 'disease': 534, 'counseling': 457, 'carriers': 355, 'mmr': 994, 'mlh1': 990, 'msh2': 1007, 'msh6': 1008, 'pms2': 1163, 'low': 919, 'iarc': 781, 'group': 724, 'insight': 839, 'variant': 1553, 'following': 671, 'author': 292, '2012': 78, 'frameshift': 679, 'consisting': 434, 'frame': 678, 'online': 1086, '2007': 73, '2011': 77, 'briefly': 341, 'msi': 1009, 'immunohistochemistry': 802, 'crc': 462, 'ihc': 790, 'sources': 1402, '68': 159, 'cosegregation': 454, '110': 27, '54': 140, 'ss': 1412, 'probabilities': 1192, '98': 192, 'receiving': 1251, '69': 160, '71': 164, 'promoting': 1211, 'features': 644, 'mg': 978, 'family': 637, 'combinations': 413, 'rules': 1322, 'occurrence': 1075, '1000': 16, 'elements': 578, 'id': 783, 'counts': 459, 'follows': 672, 'pedigrees': 1133, 'relatives': 1274, 'ratios': 1242, 'effects': 572, 'vus': 1571, 'terms': 1469, '2008': 74, '2009': 75, 'subcellular': 1430, 'cdnas': 373, 'sift': 1369, '2001': 67, 'consists': 435, 'proband': 1193, 'markers': 939, 'predicting': 1184, 'alignments': 235, 'parameters': 1115, 'gists': 717, 'kit': 876, 'pdgfra': 1131, 'd842v': 487, 'oncology': 1085, 'downloaded': 555, '2017': 82, 'gist': 716, 'cycles': 479, 'juxtamembrane': 866, 'exon': 620, 'yes': 1591, 'pdgf': 1129, 'aa': 195, 'tk': 1486, 'tyr': 1528, 'd816v': 486, 'myeloproliferative': 1023, '120': 31, 'varying': 1556, 'compounds': 420, 'cic': 392, 'fish': 661, 'abnormalities': 200, 'rt': 1319, 'copies': 448, 'children': 387, 'immunohistochemical': 801, 'material': 942, 'diagnosed': 523, 'follow': 669, 'transcripts': 1499, 'probes': 1196, 'bac': 297, 'strand': 1423, 'intron': 850, 'units': 1537, 'kaplan': 867, 'meier': 963, 'breakpoint': 337, 'months': 1003, 'ci': 391, 'metastases': 976, 'overlapping': 1096, 'old': 1078, 'erbb': 593, 'spliced': 1408, '3t3': 116, 'inducible': 825, 'chip': 388, '1992': 50, 'wt1': 1585, 'throughput': 1481, 'heat': 749, 'nut': 1070, 'factor': 633, 'rich': 1307, 'etv6': 610, '92': 187, 'ki': 873, 'v7': 1548, 'fl': 664, 'myc': 1021, '47': 126, 'arv567es': 280, 'discovery': 531, 'hormone': 770, 'abolished': 201, 'maintaining': 929, 'cos': 453, 'variables': 1552, 'immunofluorescence': 800, 'nt': 1063, 'drug': 560, 'pca': 1124, 'depleted': 512, '180': 47, 'dbd': 494, 'supplemental': 1445, 'medicine': 960, 'gc': 696, 'real': 1248, 'ct': 471, 'nuclear': 1064, 'gels': 701, 'ip': 856, 'igg': 789, 'relapsed': 1271, 'pc': 1123, 'manuscript': 934, 'res': 1287, 'pmc': 1162, '2015': 81, '2014': 80, '1863': 48, 'dht': 522, 'novo': 1056, 'humans': 778, 'oligonucleotide': 1080, 'biopsies': 318, 'upregulated': 1539, 'coactivator': 406, 'diminished': 529, 'ad': 217, 'wang': 1573, 'rb': 1243, 'inducing': 826, 'gata': 693, '160': 44, 'modifications': 996, 'cis': 394, 'trans': 1494, 'driven': 558, 'cooh': 447, 'gs': 727, 'nd': 1029, '000': 1, '03': 8, 'core': 450, 'pro': 1191, 'changed': 380, 'population': 1172, 'responsive': 1295, 'jm': 865, 'animals': 259, 'immunoprecipitates': 804, 'src': 1411, 'progression': 1204, 'doi': 546, 'null': 1067, 'ir': 857, 'ha': 737, 'resected': 1289, 'amounts': 250, 'subjects': 1433, 'section': 1346, 'vector': 1558, 'inhibitor': 832, 'spots': 1410, 'categories': 359, 'tet': 1473, '5mc': 149, 'tet2': 1475, 'cys': 481, 'neurons': 1035, 'tet1': 1474, 'aml': 248, 'hek293t': 752, 'corresponds': 452, 'loop': 916, 'chains': 379, 'arrows': 278, 'substrate': 1435, 'met': 975, 'li': 898, 'tetramer': 1476, 'p21': 1100, 'response': 1293, 'cerevisiae': 377, '79': 172, 'beads': 312, 'acc': 203, 'ubiquitin': 1532, 'ubiquitination': 1533, 'brca': 332, 'mcf10a': 948, 'gdp': 699, 'mek': 964, 'rac1': 1234, 'outcomes': 1091, '83': 177, 'raf1': 1238, 'atm': 290, 'signatures': 1375, 'neurofibromin': 1034, 'ed': 568, '00': 0, 'homo': 768, 'glu': 721, 'screens': 1341, 'phe': 1139, 'thr': 1480, 'self': 1348, 'hras': 776, 'nras': 1058, 'leukaemia': 895, 'krasg12d': 878, 'noonan': 1049, 'tgfβ': 1478, 'smad3': 1390, 'smad2': 1389, 'cdk4': 369, 'cdk6': 370, 'κb': 1594, 'nf': 1038, 'rho': 1305, '3β': 117, 'ubiquitylation': 1534, 'ref': 1261, 'melanomas': 970, '102': 19, '1α': 63, 'hif': 762, 'tsc2': 1518, 'lkb1': 909, 'erk2': 601, '131': 38, '133': 39, 'cadherin': 348, 'catenin': 360, 'ser': 1358, 'asp': 282, 'h1299': 735, 'a549': 194, 'allele': 237, 'h3': 736, 'craf': 461, 'united': 1536, 'smokers': 1396, 'ligase': 902, 'fgfr': 648, 'phosphatidylinositol': 1141, '53bp1': 139, 'hybrid': 779, 'brct': 335, 'chk2': 389, 'cd8': 366, 'polyacrylamide': 1166, 'slide': 1386, 'repeats': 1277, 'rad51': 1236, 'snps': 1398, 'merlin': 973, 'nf2': 1040, 'mtorc1': 1011, 'pi': 1150, 'hela': 753, 'mcf': 947, 'fusion': 686, 'holoenzyme': 767, 'm1775r': 925, 'gal4': 690, 'r1699q': 1233, 'p300': 1101, 'bach1': 298, 'a1708e': 193, 'risks': 1311, 'bic': 314, 'ring': 1309, 'transformants': 1504, 'myriad': 1024, 'genetics': 707, 'crenolanib': 465, 'dasatinib': 489, 'mek12': 966, 'shp': 1366, 'egfrviii': 577, 'shp2': 1367, 'oligomerization': 1079, 'confers': 427, 'lymphocytes': 922, 'vegf': 1560, 'bcr': 310, 'bc': 306, 'puromycin': 1228, 'sk': 1385, 'fgfr3': 651, 'crizotinib': 466, 'alk': 236, 'fgfr1': 649, 'tert': 1470, 'eml4': 581, 'fgfr2': 650, 'ankyrin': 260, 'breakpoints': 338, 'hematologic': 756, 'neoplasms': 1032, 'pdgfrb': 1132, 'nci': 1028, 'mesylate': 974, 'blood': 323, 'flt3': 666, 'dfg': 521, 'fgf': 647, 'limits': 904, 'box': 328, 'fgfr4': 652, 'cbl': 364, 'pip3': 1154, 'nrf2': 1059, 'tkis': 1489, 'ccnd1': 365, 'ptch1': 1221, 'appendix': 269, 'v600e': 1546, 'dead': 496, 'ctcf': 472, 'mycn': 1022, 'dlbcl': 539, 'age': 225, 'bm': 325, 'os': 1090, 'pfs': 1136, 'tolerated': 1491, 'females': 645, 'tki': 1488, 'ps': 1218, 'nsclcs': 1062, 'ptpn11': 1223, 'article': 279, 'pd': 1127, 'hgf': 760, 'wpd': 1583, 'mgkg': 979, 'brafv600e': 331, 'vuss': 1572, 'vemurafenib': 1561, 'rheb': 1304, 'idh1': 787, 'e17k': 563, 'notch1': 1054, 'sf3b1': 1361, 'pole': 1165, 'u2af1': 1530, 'new': 1037, 'e2': 564, 'jak2': 864, 'jak1': 863, 'mds': 953, 'tcf': 1462, 'hcc': 744, 'gsk': 728, 'ti': 1482, 'hct116': 746, 'cat': 358, 'afatinib': 221, 'pser': 1220, 'bard1': 302, 'align': 234, 'gvgd': 733, 'v1736a': 1544, 'gd': 697, 'c0': 344, 'tkd': 1487, 'nilotinib': 1045, 'smad': 1388, 'smads': 1392, 'smad4': 1391, 'mh2': 981, 'scf': 1336, 'araf': 274, 'melanoma': 969, 'hla': 765, 'fbw7': 641, 'cdk': 367, 'cre': 463, 'notch': 1053, 'npm1': 1057, 'brd4': 336, 'axl': 295, 'gm': 722, 'supp': 1444, 'cfc': 378, 'sorafenib': 1401, 'mel': 968, 'sunitinib': 1443, 'cul3': 474, 'btb': 342, 'palb2': 1111, 'pvhl': 1229, 'vhl': 1563, 'ddr2': 495, 'bccs': 308, 'hes1': 758, 'rhoa': 1306, 'bcc': 307, 'b2m': 296, 'deleterious': 503, 'white': 1576, 'probands': 1194, 'gdc': 698, 'neutral': 1036, 'bap1': 301, 'smarca4': 1394, 'tsc1': 1517, 'idh2': 788, 'scp': 1340, 'math': 944, 'pipkiiβ': 1155, 'c61g': 346, 'sara': 1332, 'rock': 1315, 'hh': 761, 'smo': 1395, 'itd': 861, 'defi': 499, 'cient': 393, 'classifi': 397, '1011582159': 18, '8290cd': 176, 'rmce': 1312, 'onlinefirst': 1087, 'mcherry': 950, 'mcf7': 949, 'ssa': 1413, 'mtorc2': 1012, 'rictor': 1308, 'carm1': 354, 'mef2b': 961, 'aml1': 249, 'mc': 946, 'mek2': 967, 's6k': 1329, 'tsc': 1516, 'pkc412': 1156, 'neratinib': 1033, 'wm278': 1580, 'dod': 545, 'v654a': 1547, 'ponatinib': 1170, 'mastocytosis': 940, 'dovitinib': 553, 'elf3': 579, 'vismodegib': 1565, 'hamartin': 739, 'pp2a': 1179, 'erα': 604, 'esr1': 606, 'btk': 343, 'akt2': 230, 'tuberin': 1519, 'chek2': 386, 'fat1': 639, 'sf3b1mut': 1362, 'phts': 1149, 'asp92': 283, 'asddd': 281, 'fa': 632, 'hdr': 748, 'gata3': 694, 'fanca': 638, 'exo': 618, 'tric': 1513, 'card11': 353, 'dsred': 562, '2hg': 100, 'lats1': 890, '8l': 184}\n"
     ]
    }
   ],
   "source": [
    "print(\"Vocabulary: \", bow_vectorizer.vocabulary_)"
   ]
  },
  {
   "cell_type": "code",
   "execution_count": 67,
   "metadata": {},
   "outputs": [
    {
     "data": {
      "text/plain": [
       "(926, 1600)"
      ]
     },
     "execution_count": 67,
     "metadata": {},
     "output_type": "execute_result"
    }
   ],
   "source": [
    "train_df_counts.shape"
   ]
  },
  {
   "cell_type": "code",
   "execution_count": 68,
   "metadata": {},
   "outputs": [
    {
     "data": {
      "text/plain": [
       "<926x1600 sparse matrix of type '<class 'numpy.int64'>'\n",
       "\twith 392684 stored elements in Compressed Sparse Row format>"
      ]
     },
     "execution_count": 68,
     "metadata": {},
     "output_type": "execute_result"
    }
   ],
   "source": [
    "train_df_counts"
   ]
  },
  {
   "cell_type": "code",
   "execution_count": 69,
   "metadata": {},
   "outputs": [],
   "source": [
    "X_train_bow = train_df_counts.todense()"
   ]
  },
  {
   "cell_type": "code",
   "execution_count": 70,
   "metadata": {},
   "outputs": [
    {
     "data": {
      "text/plain": [
       "(926, 1600)"
      ]
     },
     "execution_count": 70,
     "metadata": {},
     "output_type": "execute_result"
    }
   ],
   "source": [
    "X_train_bow.shape"
   ]
  },
  {
   "cell_type": "code",
   "execution_count": 71,
   "metadata": {},
   "outputs": [
    {
     "data": {
      "text/plain": [
       "matrix([[ 0,  0,  0, ...,  2,  0,  1],\n",
       "        [ 0,  0,  0, ...,  0,  0,  0],\n",
       "        [ 0,  0,  0, ...,  0,  1,  3],\n",
       "        ...,\n",
       "        [ 0,  3,  0, ...,  0,  1,  0],\n",
       "        [ 0,  0,  0, ...,  0,  0,  0],\n",
       "        [29,  0,  0, ...,  0,  0,  0]], dtype=int64)"
      ]
     },
     "execution_count": 71,
     "metadata": {},
     "output_type": "execute_result"
    }
   ],
   "source": [
    "X_train_bow"
   ]
  },
  {
   "cell_type": "markdown",
   "metadata": {},
   "source": [
    "#### tfidf transformation"
   ]
  },
  {
   "cell_type": "code",
   "execution_count": 72,
   "metadata": {},
   "outputs": [
    {
     "data": {
      "text/plain": [
       "TfidfVectorizer(max_features=1600, ngram_range=(1, 3), stop_words='english',\n",
       "                strip_accents='unicode', sublinear_tf=True,\n",
       "                token_pattern='\\\\w+')"
      ]
     },
     "execution_count": 72,
     "metadata": {},
     "output_type": "execute_result"
    }
   ],
   "source": [
    "tfidf_vectorizer.fit(train_df_corpus)"
   ]
  },
  {
   "cell_type": "code",
   "execution_count": 73,
   "metadata": {},
   "outputs": [],
   "source": [
    "X_train_tfidf = tfidf_vectorizer.transform(train_df_corpus)\n",
    "X_train_tfidf = X_train_tfidf.toarray()"
   ]
  },
  {
   "cell_type": "code",
   "execution_count": 74,
   "metadata": {},
   "outputs": [
    {
     "data": {
      "text/plain": [
       "(926, 1600)"
      ]
     },
     "execution_count": 74,
     "metadata": {},
     "output_type": "execute_result"
    }
   ],
   "source": [
    "X_train_tfidf.shape"
   ]
  },
  {
   "cell_type": "code",
   "execution_count": 75,
   "metadata": {},
   "outputs": [
    {
     "data": {
      "text/plain": [
       "array([[0.02639888, 0.        , 0.        , ..., 0.03449868, 0.        ,\n",
       "        0.03118394],\n",
       "       [0.04686609, 0.03285742, 0.        , ..., 0.        , 0.01757402,\n",
       "        0.        ],\n",
       "       [0.        , 0.        , 0.        , ..., 0.        , 0.02530288,\n",
       "        0.09614146],\n",
       "       ...,\n",
       "       [0.        , 0.        , 0.        , ..., 0.        , 0.0250747 ,\n",
       "        0.        ],\n",
       "       [0.01531941, 0.        , 0.        , ..., 0.        , 0.        ,\n",
       "        0.        ],\n",
       "       [0.09580715, 0.03812885, 0.1622643 , ..., 0.        , 0.        ,\n",
       "        0.        ]])"
      ]
     },
     "execution_count": 75,
     "metadata": {},
     "output_type": "execute_result"
    }
   ],
   "source": [
    "X_train_tfidf"
   ]
  },
  {
   "cell_type": "markdown",
   "metadata": {},
   "source": [
    "### <font color='green'>creating baseline metrics using hard coded predicted values</font>"
   ]
  },
  {
   "cell_type": "code",
   "execution_count": 76,
   "metadata": {},
   "outputs": [],
   "source": [
    "from numpy import random"
   ]
  },
  {
   "cell_type": "code",
   "execution_count": 77,
   "metadata": {},
   "outputs": [],
   "source": [
    "# create a dummy y value for getting the baseline accuracy\n",
    "y_dummy_1 = random.rand(926,9)"
   ]
  },
  {
   "cell_type": "code",
   "execution_count": 78,
   "metadata": {},
   "outputs": [],
   "source": [
    "#y_dummy"
   ]
  },
  {
   "cell_type": "code",
   "execution_count": 79,
   "metadata": {},
   "outputs": [
    {
     "data": {
      "text/plain": [
       "2416    4\n",
       "1636    4\n",
       "389     2\n",
       "1194    7\n",
       "766     2\n",
       "Name: Class, dtype: int64"
      ]
     },
     "execution_count": 79,
     "metadata": {},
     "output_type": "execute_result"
    }
   ],
   "source": [
    "y_train.head()"
   ]
  },
  {
   "cell_type": "code",
   "execution_count": 80,
   "metadata": {},
   "outputs": [
    {
     "data": {
      "text/plain": [
       "array([0.91925338, 0.1380678 , 0.03601908, 0.01446142, 0.17844071,\n",
       "       0.68686261, 0.36260128, 0.6113832 , 0.11614302])"
      ]
     },
     "execution_count": 80,
     "metadata": {},
     "output_type": "execute_result"
    }
   ],
   "source": [
    "y_dummy_1[0,:]"
   ]
  },
  {
   "cell_type": "code",
   "execution_count": 81,
   "metadata": {},
   "outputs": [
    {
     "data": {
      "text/plain": [
       "2.503748209083961"
      ]
     },
     "execution_count": 81,
     "metadata": {},
     "output_type": "execute_result"
    }
   ],
   "source": [
    "# baseline loss metric value, random y values\n",
    "log_loss(y_train,y_dummy_1)"
   ]
  },
  {
   "cell_type": "code",
   "execution_count": 82,
   "metadata": {},
   "outputs": [],
   "source": [
    "y_dummy_2=np.zeros((926,9),dtype='float')"
   ]
  },
  {
   "cell_type": "code",
   "execution_count": 83,
   "metadata": {},
   "outputs": [
    {
     "data": {
      "text/plain": [
       "array([0., 0., 0., 0., 0., 0., 0., 0., 0.])"
      ]
     },
     "execution_count": 83,
     "metadata": {},
     "output_type": "execute_result"
    }
   ],
   "source": [
    "y_dummy_2[0,:]"
   ]
  },
  {
   "cell_type": "code",
   "execution_count": 84,
   "metadata": {},
   "outputs": [
    {
     "data": {
      "text/plain": [
       "2.197224577336219"
      ]
     },
     "execution_count": 84,
     "metadata": {},
     "output_type": "execute_result"
    }
   ],
   "source": [
    "# baseline loss metric value, all probabilites for y set to zero\n",
    "log_loss(y_train,y_dummy_2)"
   ]
  },
  {
   "cell_type": "code",
   "execution_count": 85,
   "metadata": {},
   "outputs": [],
   "source": [
    "# baseline loss metric value, all probabilites for y set to 0.4\n",
    "y_dummy_3=np.full((926,9),0.4,dtype='float')"
   ]
  },
  {
   "cell_type": "code",
   "execution_count": 86,
   "metadata": {},
   "outputs": [
    {
     "data": {
      "text/plain": [
       "array([0.4, 0.4, 0.4, 0.4, 0.4, 0.4, 0.4, 0.4, 0.4])"
      ]
     },
     "execution_count": 86,
     "metadata": {},
     "output_type": "execute_result"
    }
   ],
   "source": [
    "y_dummy_3[0,:]"
   ]
  },
  {
   "cell_type": "code",
   "execution_count": 87,
   "metadata": {},
   "outputs": [
    {
     "data": {
      "text/plain": [
       "2.1972245773362187"
      ]
     },
     "execution_count": 87,
     "metadata": {},
     "output_type": "execute_result"
    }
   ],
   "source": [
    "log_loss(y_train,y_dummy_3)"
   ]
  },
  {
   "cell_type": "code",
   "execution_count": 88,
   "metadata": {},
   "outputs": [],
   "source": [
    "y_dummy_4=np.zeros((926,9),dtype='float')"
   ]
  },
  {
   "cell_type": "code",
   "execution_count": 89,
   "metadata": {},
   "outputs": [],
   "source": [
    "y_dummy_4[:,0]=1.0"
   ]
  },
  {
   "cell_type": "code",
   "execution_count": 90,
   "metadata": {},
   "outputs": [
    {
     "data": {
      "text/plain": [
       "array([1., 0., 0., 0., 0., 0., 0., 0., 0.])"
      ]
     },
     "execution_count": 90,
     "metadata": {},
     "output_type": "execute_result"
    }
   ],
   "source": [
    "y_dummy_4[0,:]"
   ]
  },
  {
   "cell_type": "code",
   "execution_count": 91,
   "metadata": {},
   "outputs": [
    {
     "data": {
      "text/plain": [
       "28.794746627290557"
      ]
     },
     "execution_count": 91,
     "metadata": {},
     "output_type": "execute_result"
    }
   ],
   "source": [
    "# baseline loss metric value,probability at index 1 set to 1.0 for all y\n",
    "log_loss(y_train,y_dummy_4) "
   ]
  },
  {
   "cell_type": "code",
   "execution_count": 92,
   "metadata": {},
   "outputs": [],
   "source": [
    "# baseline loss metric value,probability at random indices set to 1.0 for all y\n",
    "y_dummy_5=np.zeros((926,9),dtype='float')\n",
    "count=0\n",
    "for x in X_train_bow:\n",
    "    new_y_val=np.random.randint(0,9)\n",
    "    y_dummy_5[count,new_y_val]=1.    \n",
    "    count=count+1  "
   ]
  },
  {
   "cell_type": "code",
   "execution_count": 93,
   "metadata": {},
   "outputs": [
    {
     "data": {
      "text/plain": [
       "array([0., 0., 0., 0., 0., 0., 1., 0., 0.])"
      ]
     },
     "execution_count": 93,
     "metadata": {},
     "output_type": "execute_result"
    }
   ],
   "source": [
    "y_dummy_5[0,:]"
   ]
  },
  {
   "cell_type": "code",
   "execution_count": 94,
   "metadata": {},
   "outputs": [
    {
     "data": {
      "text/plain": [
       "30.473196884062677"
      ]
     },
     "execution_count": 94,
     "metadata": {},
     "output_type": "execute_result"
    }
   ],
   "source": [
    "log_loss(y_train,y_dummy_5)"
   ]
  },
  {
   "cell_type": "code",
   "execution_count": 95,
   "metadata": {},
   "outputs": [],
   "source": [
    "# baseline loss metric value,probability at random indices set to 1.0 for all y\n",
    "def get_dummy(train_df):\n",
    "    y_dummy_5=np.zeros((926,9),dtype='float') # creating the probability matrix for y values\n",
    "    count=0\n",
    "    for x in train_df:                        # iterating through the training dataset\n",
    "        new_y_val=np.random.randint(0,9)      # creating random values for substituting index values\n",
    "        y_dummy_5[count,new_y_val]=1.         # setting the random index value as 1.0\n",
    "        count=count+1  \n",
    "    return y_dummy_5    "
   ]
  },
  {
   "cell_type": "code",
   "execution_count": 96,
   "metadata": {},
   "outputs": [],
   "source": [
    "def simulate_dummy(train_df,y_train):    \n",
    "    for i in range(10):\n",
    "        y_dummy=get_dummy(train_df)\n",
    "        print(log_loss(y_train,y_dummy))"
   ]
  },
  {
   "cell_type": "code",
   "execution_count": 97,
   "metadata": {},
   "outputs": [
    {
     "name": "stdout",
     "output_type": "stream",
     "text": [
      "2.4417071504712315\n",
      "2.4044082558762954\n",
      "2.4417071504712315\n",
      "2.3671093612813596\n",
      "2.4417071504712315\n",
      "2.4417071504712315\n",
      "2.4044082558762954\n",
      "2.4417071504712315\n",
      "2.4044082558762954\n",
      "2.4044082558762954\n"
     ]
    }
   ],
   "source": [
    "simulate_dummy(train_df,y_train)"
   ]
  },
  {
   "cell_type": "code",
   "execution_count": 98,
   "metadata": {},
   "outputs": [
    {
     "data": {
      "text/html": [
       "<div>\n",
       "<style scoped>\n",
       "    .dataframe tbody tr th:only-of-type {\n",
       "        vertical-align: middle;\n",
       "    }\n",
       "\n",
       "    .dataframe tbody tr th {\n",
       "        vertical-align: top;\n",
       "    }\n",
       "\n",
       "    .dataframe thead th {\n",
       "        text-align: right;\n",
       "    }\n",
       "</style>\n",
       "<table border=\"1\" class=\"dataframe\">\n",
       "  <thead>\n",
       "    <tr style=\"text-align: right;\">\n",
       "      <th></th>\n",
       "      <th>substitutions</th>\n",
       "      <th>log_loss</th>\n",
       "    </tr>\n",
       "  </thead>\n",
       "  <tbody>\n",
       "    <tr>\n",
       "      <th>0</th>\n",
       "      <td>random</td>\n",
       "      <td>2.49</td>\n",
       "    </tr>\n",
       "    <tr>\n",
       "      <th>1</th>\n",
       "      <td>all zero</td>\n",
       "      <td>2.19</td>\n",
       "    </tr>\n",
       "    <tr>\n",
       "      <th>2</th>\n",
       "      <td>all 0.4</td>\n",
       "      <td>2.19</td>\n",
       "    </tr>\n",
       "    <tr>\n",
       "      <th>3</th>\n",
       "      <td>index 1</td>\n",
       "      <td>28.59</td>\n",
       "    </tr>\n",
       "    <tr>\n",
       "      <th>4</th>\n",
       "      <td>random index</td>\n",
       "      <td>2.40</td>\n",
       "    </tr>\n",
       "  </tbody>\n",
       "</table>\n",
       "</div>"
      ],
      "text/plain": [
       "  substitutions  log_loss\n",
       "0        random      2.49\n",
       "1      all zero      2.19\n",
       "2       all 0.4      2.19\n",
       "3       index 1     28.59\n",
       "4  random index      2.40"
      ]
     },
     "execution_count": 98,
     "metadata": {},
     "output_type": "execute_result"
    }
   ],
   "source": [
    "pd.DataFrame({\"substitutions\":[\"random\",\"all zero\",\"all 0.4\",\"index 1\",\"random index\"],\"log_loss\":[2.49,2.19,2.19,28.59,2.4]})"
   ]
  },
  {
   "cell_type": "markdown",
   "metadata": {},
   "source": [
    "### <font style=\"font-size:18px;font-family:arial;color:green;text-indent:100px;line-height:0.8;word-spacing:10px\">Thus the lowermost limit for log loss score for an inaccurate model returns a value of 2.4 and hence our models should return better scores</font> "
   ]
  },
  {
   "cell_type": "markdown",
   "metadata": {},
   "source": [
    "### <font color='blue'>Logistic Regression Model</font>"
   ]
  },
  {
   "cell_type": "code",
   "execution_count": 99,
   "metadata": {},
   "outputs": [],
   "source": [
    "from sklearn.metrics import accuracy_score"
   ]
  },
  {
   "cell_type": "markdown",
   "metadata": {},
   "source": [
    "#### <font color='blue'>Logistic Regression with bag of words transformation</font>"
   ]
  },
  {
   "cell_type": "code",
   "execution_count": 100,
   "metadata": {},
   "outputs": [
    {
     "data": {
      "text/plain": [
       "LogisticRegression(multi_class='multinomial')"
      ]
     },
     "execution_count": 100,
     "metadata": {},
     "output_type": "execute_result"
    }
   ],
   "source": [
    "bow_model.fit(X_train_bow,y_train)"
   ]
  },
  {
   "cell_type": "code",
   "execution_count": 101,
   "metadata": {},
   "outputs": [
    {
     "data": {
      "text/plain": [
       "[-0.1740198427292691,\n",
       " -0.16348008421219223,\n",
       " -0.1483252726236837,\n",
       " -0.1410318482175016,\n",
       " -0.13964292704069578]"
      ]
     },
     "execution_count": 101,
     "metadata": {},
     "output_type": "execute_result"
    }
   ],
   "source": [
    "sorted(bow_model.coef_.tolist()[0])[:5]"
   ]
  },
  {
   "cell_type": "code",
   "execution_count": 102,
   "metadata": {},
   "outputs": [
    {
     "data": {
      "text/plain": [
       "array([1, 2, 3, 4, 5, 6, 7, 8, 9], dtype=int64)"
      ]
     },
     "execution_count": 102,
     "metadata": {},
     "output_type": "execute_result"
    }
   ],
   "source": [
    "bow_model.classes_"
   ]
  },
  {
   "cell_type": "code",
   "execution_count": 103,
   "metadata": {},
   "outputs": [
    {
     "data": {
      "text/plain": [
       "1600"
      ]
     },
     "execution_count": 103,
     "metadata": {},
     "output_type": "execute_result"
    }
   ],
   "source": [
    "bow_model.n_features_in_"
   ]
  },
  {
   "cell_type": "code",
   "execution_count": 104,
   "metadata": {},
   "outputs": [
    {
     "data": {
      "text/plain": [
       "array([ 0.01082679,  0.00691368, -0.00959323, -0.00414498, -0.01551513,\n",
       "        0.00916417,  0.02552851, -0.01115514, -0.01202465])"
      ]
     },
     "execution_count": 104,
     "metadata": {},
     "output_type": "execute_result"
    }
   ],
   "source": [
    "bow_model.intercept_"
   ]
  },
  {
   "cell_type": "code",
   "execution_count": 105,
   "metadata": {},
   "outputs": [
    {
     "data": {
      "text/plain": [
       "{1, 2, 3, 4, 5, 6, 7, 8, 9}"
      ]
     },
     "execution_count": 105,
     "metadata": {},
     "output_type": "execute_result"
    }
   ],
   "source": [
    "set(y_train.tolist())"
   ]
  },
  {
   "cell_type": "code",
   "execution_count": 106,
   "metadata": {},
   "outputs": [],
   "source": [
    "y_pred_train_bow = bow_model.predict_proba(X_train_bow)"
   ]
  },
  {
   "cell_type": "code",
   "execution_count": 107,
   "metadata": {},
   "outputs": [],
   "source": [
    "y_pred_train_bow2=bow_model.predict(X_train_bow)"
   ]
  },
  {
   "cell_type": "markdown",
   "metadata": {},
   "source": [
    "#### <font color='purple'>scoring the prediction using multiple scoring metrics</font>"
   ]
  },
  {
   "cell_type": "code",
   "execution_count": 108,
   "metadata": {},
   "outputs": [
    {
     "data": {
      "text/plain": [
       "0.1743412647879297"
      ]
     },
     "execution_count": 108,
     "metadata": {},
     "output_type": "execute_result"
    }
   ],
   "source": [
    "log_loss(y_train,y_pred_train_bow)"
   ]
  },
  {
   "cell_type": "code",
   "execution_count": 109,
   "metadata": {},
   "outputs": [],
   "source": [
    "from sklearn.metrics import classification_report"
   ]
  },
  {
   "cell_type": "code",
   "execution_count": 110,
   "metadata": {},
   "outputs": [],
   "source": [
    "target_names=['class 1','class 2','class 3','class 4','class 5','class 6','class 7','class 8','class 9']"
   ]
  },
  {
   "cell_type": "code",
   "execution_count": 111,
   "metadata": {},
   "outputs": [
    {
     "name": "stdout",
     "output_type": "stream",
     "text": [
      "              precision    recall  f1-score   support\n",
      "\n",
      "     class 1       0.91      0.91      0.91       154\n",
      "     class 2       0.96      0.94      0.95       127\n",
      "     class 3       0.80      0.64      0.71        25\n",
      "     class 4       0.94      0.94      0.94       200\n",
      "     class 5       0.73      0.82      0.77        62\n",
      "     class 6       0.90      0.87      0.88        69\n",
      "     class 7       0.95      0.96      0.96       274\n",
      "     class 8       1.00      1.00      1.00         4\n",
      "     class 9       1.00      0.91      0.95        11\n",
      "\n",
      "    accuracy                           0.92       926\n",
      "   macro avg       0.91      0.89      0.90       926\n",
      "weighted avg       0.92      0.92      0.92       926\n",
      "\n"
     ]
    }
   ],
   "source": [
    "print(classification_report(y_train, y_pred_train_bow2, target_names=target_names))"
   ]
  },
  {
   "cell_type": "code",
   "execution_count": 112,
   "metadata": {},
   "outputs": [],
   "source": [
    "from sklearn.metrics import plot_confusion_matrix"
   ]
  },
  {
   "cell_type": "code",
   "execution_count": 113,
   "metadata": {},
   "outputs": [
    {
     "data": {
      "text/plain": [
       "<sklearn.metrics._plot.confusion_matrix.ConfusionMatrixDisplay at 0x23fb86311c8>"
      ]
     },
     "execution_count": 113,
     "metadata": {},
     "output_type": "execute_result"
    },
    {
     "data": {
      "image/png": "[encoded data removed]",
      "text/plain": [
       "<Figure size 432x288 with 2 Axes>"
      ]
     },
     "metadata": {
      "needs_background": "light"
     },
     "output_type": "display_data"
    }
   ],
   "source": [
    "plot_confusion_matrix(bow_model, X_train_bow, y_train)"
   ]
  },
  {
   "cell_type": "markdown",
   "metadata": {},
   "source": [
    "#### <font color='blue'>Logistic Regression with tfidf transformation</font>"
   ]
  },
  {
   "cell_type": "code",
   "execution_count": 114,
   "metadata": {},
   "outputs": [
    {
     "data": {
      "text/plain": [
       "LogisticRegression(multi_class='multinomial')"
      ]
     },
     "execution_count": 114,
     "metadata": {},
     "output_type": "execute_result"
    }
   ],
   "source": [
    "tfidf_model.fit(X_train_tfidf,y_train)"
   ]
  },
  {
   "cell_type": "code",
   "execution_count": 115,
   "metadata": {},
   "outputs": [
    {
     "data": {
      "text/plain": [
       "[-0.7345981419926653,\n",
       " -0.6743989375026752,\n",
       " -0.6067290918834538,\n",
       " -0.6053578869600281,\n",
       " -0.5559113311505284]"
      ]
     },
     "execution_count": 115,
     "metadata": {},
     "output_type": "execute_result"
    }
   ],
   "source": [
    "sorted(tfidf_model.coef_.tolist()[0])[:5]"
   ]
  },
  {
   "cell_type": "code",
   "execution_count": 116,
   "metadata": {},
   "outputs": [
    {
     "data": {
      "text/plain": [
       "array([1, 2, 3, 4, 5, 6, 7, 8, 9], dtype=int64)"
      ]
     },
     "execution_count": 116,
     "metadata": {},
     "output_type": "execute_result"
    }
   ],
   "source": [
    "tfidf_model.classes_"
   ]
  },
  {
   "cell_type": "code",
   "execution_count": 117,
   "metadata": {},
   "outputs": [
    {
     "data": {
      "text/plain": [
       "1600"
      ]
     },
     "execution_count": 117,
     "metadata": {},
     "output_type": "execute_result"
    }
   ],
   "source": [
    "tfidf_model.n_features_in_"
   ]
  },
  {
   "cell_type": "code",
   "execution_count": 118,
   "metadata": {},
   "outputs": [
    {
     "data": {
      "text/plain": [
       "array([ 1.03261604,  1.00998938, -0.41740851,  1.15194037,  0.25972305,\n",
       "        0.33764811,  0.83916211, -2.48908216, -1.72458839])"
      ]
     },
     "execution_count": 118,
     "metadata": {},
     "output_type": "execute_result"
    }
   ],
   "source": [
    "tfidf_model.intercept_"
   ]
  },
  {
   "cell_type": "code",
   "execution_count": 119,
   "metadata": {},
   "outputs": [],
   "source": [
    "y_pred_train_tfidf = tfidf_model.predict_proba(X_train_tfidf)"
   ]
  },
  {
   "cell_type": "code",
   "execution_count": 120,
   "metadata": {},
   "outputs": [],
   "source": [
    "y_pred_train_tfidf2 = tfidf_model.predict(X_train_tfidf)"
   ]
  },
  {
   "cell_type": "markdown",
   "metadata": {},
   "source": [
    "#### <font color='purple'>scoring the prediction using multiple scoring metrics</font>"
   ]
  },
  {
   "cell_type": "code",
   "execution_count": 121,
   "metadata": {},
   "outputs": [
    {
     "data": {
      "text/plain": [
       "0.995358810332309"
      ]
     },
     "execution_count": 121,
     "metadata": {},
     "output_type": "execute_result"
    }
   ],
   "source": [
    "log_loss(y_train,y_pred_train_tfidf)"
   ]
  },
  {
   "cell_type": "code",
   "execution_count": 122,
   "metadata": {},
   "outputs": [
    {
     "name": "stdout",
     "output_type": "stream",
     "text": [
      "              precision    recall  f1-score   support\n",
      "\n",
      "     class 1       0.75      0.75      0.75       154\n",
      "     class 2       0.84      0.46      0.59       127\n",
      "     class 3       0.00      0.00      0.00        25\n",
      "     class 4       0.74      0.87      0.80       200\n",
      "     class 5       0.69      0.44      0.53        62\n",
      "     class 6       0.88      0.51      0.64        69\n",
      "     class 7       0.68      0.97      0.80       274\n",
      "     class 8       0.00      0.00      0.00         4\n",
      "     class 9       0.00      0.00      0.00        11\n",
      "\n",
      "    accuracy                           0.73       926\n",
      "   macro avg       0.51      0.44      0.46       926\n",
      "weighted avg       0.71      0.73      0.70       926\n",
      "\n"
     ]
    }
   ],
   "source": [
    "print(classification_report(y_train, y_pred_train_tfidf2, target_names=target_names))"
   ]
  },
  {
   "cell_type": "code",
   "execution_count": 123,
   "metadata": {},
   "outputs": [
    {
     "data": {
      "text/plain": [
       "<sklearn.metrics._plot.confusion_matrix.ConfusionMatrixDisplay at 0x23fa2385048>"
      ]
     },
     "execution_count": 123,
     "metadata": {},
     "output_type": "execute_result"
    },
    {
     "data": {
      "image/png": "[encoded data removed]",
      "text/plain": [
       "<Figure size 432x288 with 2 Axes>"
      ]
     },
     "metadata": {
      "needs_background": "light"
     },
     "output_type": "display_data"
    }
   ],
   "source": [
    "plot_confusion_matrix(tfidf_model, X_train_bow, y_train)"
   ]
  },
  {
   "cell_type": "markdown",
   "metadata": {},
   "source": [
    "### <font color='blue'> Multinomial Naive Bayes Model<font>"
   ]
  },
  {
   "cell_type": "code",
   "execution_count": 124,
   "metadata": {},
   "outputs": [],
   "source": [
    "from sklearn.naive_bayes import MultinomialNB"
   ]
  },
  {
   "cell_type": "markdown",
   "metadata": {},
   "source": [
    "#### <font color='purple'>bag of words transformation</font>"
   ]
  },
  {
   "cell_type": "code",
   "execution_count": 125,
   "metadata": {},
   "outputs": [],
   "source": [
    "NB_clf=MultinomialNB()"
   ]
  },
  {
   "cell_type": "code",
   "execution_count": 126,
   "metadata": {},
   "outputs": [
    {
     "data": {
      "text/plain": [
       "MultinomialNB()"
      ]
     },
     "execution_count": 126,
     "metadata": {},
     "output_type": "execute_result"
    }
   ],
   "source": [
    "NB_clf.fit(X_train_bow,y_train)"
   ]
  },
  {
   "cell_type": "code",
   "execution_count": 127,
   "metadata": {},
   "outputs": [
    {
     "data": {
      "text/plain": [
       "array([154., 127.,  25., 200.,  62.,  69., 274.,   4.,  11.])"
      ]
     },
     "execution_count": 127,
     "metadata": {},
     "output_type": "execute_result"
    }
   ],
   "source": [
    "NB_clf.class_count_"
   ]
  },
  {
   "cell_type": "code",
   "execution_count": 128,
   "metadata": {},
   "outputs": [],
   "source": [
    "y_pred_train_NB=NB_clf.predict_proba(X_train_bow)"
   ]
  },
  {
   "cell_type": "code",
   "execution_count": 129,
   "metadata": {},
   "outputs": [],
   "source": [
    "y_pred_train_NB2=NB_clf.predict(X_train_bow)"
   ]
  },
  {
   "cell_type": "markdown",
   "metadata": {},
   "source": [
    "#### <font color='purple'>scoring the prediction using multiple scoring metrics</font>"
   ]
  },
  {
   "cell_type": "code",
   "execution_count": 130,
   "metadata": {},
   "outputs": [
    {
     "data": {
      "text/plain": [
       "12.705268924882242"
      ]
     },
     "execution_count": 130,
     "metadata": {},
     "output_type": "execute_result"
    }
   ],
   "source": [
    "log_loss(y_train,y_pred_train_NB)"
   ]
  },
  {
   "cell_type": "code",
   "execution_count": 131,
   "metadata": {},
   "outputs": [
    {
     "name": "stdout",
     "output_type": "stream",
     "text": [
      "              precision    recall  f1-score   support\n",
      "\n",
      "     class 1       0.63      0.71      0.67       154\n",
      "     class 2       0.52      0.75      0.62       127\n",
      "     class 3       0.31      0.92      0.46        25\n",
      "     class 4       0.79      0.44      0.56       200\n",
      "     class 5       0.43      0.56      0.49        62\n",
      "     class 6       0.73      0.58      0.65        69\n",
      "     class 7       0.80      0.62      0.70       274\n",
      "     class 8       0.17      1.00      0.29         4\n",
      "     class 9       0.80      0.73      0.76        11\n",
      "\n",
      "    accuracy                           0.62       926\n",
      "   macro avg       0.57      0.70      0.58       926\n",
      "weighted avg       0.68      0.62      0.63       926\n",
      "\n"
     ]
    }
   ],
   "source": [
    "print(classification_report(y_train, y_pred_train_NB2, target_names=target_names))"
   ]
  },
  {
   "cell_type": "code",
   "execution_count": 132,
   "metadata": {},
   "outputs": [
    {
     "data": {
      "text/plain": [
       "<sklearn.metrics._plot.confusion_matrix.ConfusionMatrixDisplay at 0x23fb38a2748>"
      ]
     },
     "execution_count": 132,
     "metadata": {},
     "output_type": "execute_result"
    },
    {
     "data": {
      "image/png": "[encoded data removed]",
      "text/plain": [
       "<Figure size 432x288 with 2 Axes>"
      ]
     },
     "metadata": {
      "needs_background": "light"
     },
     "output_type": "display_data"
    }
   ],
   "source": [
    "plot_confusion_matrix(NB_clf, X_train_bow, y_train)"
   ]
  },
  {
   "cell_type": "code",
   "execution_count": null,
   "metadata": {},
   "outputs": [],
   "source": []
  },
  {
   "cell_type": "markdown",
   "metadata": {},
   "source": [
    "### Validation dataset"
   ]
  },
  {
   "cell_type": "code",
   "execution_count": 133,
   "metadata": {},
   "outputs": [
    {
     "data": {
      "text/plain": [
       "((398, 4), (398,))"
      ]
     },
     "execution_count": 133,
     "metadata": {},
     "output_type": "execute_result"
    }
   ],
   "source": [
    "validation_df.shape,y_validation.shape"
   ]
  },
  {
   "cell_type": "code",
   "execution_count": 134,
   "metadata": {},
   "outputs": [
    {
     "data": {
      "text/html": [
       "<div>\n",
       "<style scoped>\n",
       "    .dataframe tbody tr th:only-of-type {\n",
       "        vertical-align: middle;\n",
       "    }\n",
       "\n",
       "    .dataframe tbody tr th {\n",
       "        vertical-align: top;\n",
       "    }\n",
       "\n",
       "    .dataframe thead th {\n",
       "        text-align: right;\n",
       "    }\n",
       "</style>\n",
       "<table border=\"1\" class=\"dataframe\">\n",
       "  <thead>\n",
       "    <tr style=\"text-align: right;\">\n",
       "      <th></th>\n",
       "      <th>ID</th>\n",
       "      <th>Gene</th>\n",
       "      <th>Variation</th>\n",
       "      <th>Text</th>\n",
       "    </tr>\n",
       "  </thead>\n",
       "  <tbody>\n",
       "    <tr>\n",
       "      <th>2269</th>\n",
       "      <td>2269</td>\n",
       "      <td>PTEN</td>\n",
       "      <td>H93D</td>\n",
       "      <td>The PTEN (phosphatase and tensin homolog) phos...</td>\n",
       "    </tr>\n",
       "    <tr>\n",
       "      <th>1485</th>\n",
       "      <td>1485</td>\n",
       "      <td>FGFR2</td>\n",
       "      <td>A389T</td>\n",
       "      <td>Oncogenic activation of tyrosine kinases is a ...</td>\n",
       "    </tr>\n",
       "    <tr>\n",
       "      <th>3063</th>\n",
       "      <td>3063</td>\n",
       "      <td>MED12</td>\n",
       "      <td>L1224F</td>\n",
       "      <td>The human thyroid hormone receptor-associated ...</td>\n",
       "    </tr>\n",
       "    <tr>\n",
       "      <th>367</th>\n",
       "      <td>367</td>\n",
       "      <td>EPAS1</td>\n",
       "      <td>P531A</td>\n",
       "      <td>Abstract Deletion of the von Hippel-Lindau tu...</td>\n",
       "    </tr>\n",
       "    <tr>\n",
       "      <th>3149</th>\n",
       "      <td>3149</td>\n",
       "      <td>KRAS</td>\n",
       "      <td>K117N</td>\n",
       "      <td>Mutations in RAS proteins occur widely in huma...</td>\n",
       "    </tr>\n",
       "  </tbody>\n",
       "</table>\n",
       "</div>"
      ],
      "text/plain": [
       "        ID   Gene Variation                                               Text\n",
       "2269  2269   PTEN      H93D  The PTEN (phosphatase and tensin homolog) phos...\n",
       "1485  1485  FGFR2     A389T  Oncogenic activation of tyrosine kinases is a ...\n",
       "3063  3063  MED12    L1224F  The human thyroid hormone receptor-associated ...\n",
       "367    367  EPAS1     P531A   Abstract Deletion of the von Hippel-Lindau tu...\n",
       "3149  3149   KRAS     K117N  Mutations in RAS proteins occur widely in huma..."
      ]
     },
     "execution_count": 134,
     "metadata": {},
     "output_type": "execute_result"
    }
   ],
   "source": [
    "validation_df.head()"
   ]
  },
  {
   "cell_type": "markdown",
   "metadata": {},
   "source": [
    "#### text processing of validation data"
   ]
  },
  {
   "cell_type": "code",
   "execution_count": null,
   "metadata": {},
   "outputs": [],
   "source": []
  },
  {
   "cell_type": "code",
   "execution_count": 135,
   "metadata": {},
   "outputs": [
    {
     "name": "stderr",
     "output_type": "stream",
     "text": [
      "progress bar: 100%|██████████| 398/398 [00:07<00:00, 52.90it/s]\n"
     ]
    }
   ],
   "source": [
    "# remove punctuation\n",
    "validation_df['cleaned_text'] = validation_df['Text'].progress_map(cleanse_data,na_action='ignore')"
   ]
  },
  {
   "cell_type": "code",
   "execution_count": 136,
   "metadata": {},
   "outputs": [
    {
     "name": "stderr",
     "output_type": "stream",
     "text": [
      "progress bar: 100%|██████████| 398/398 [00:03<00:00, 118.59it/s]\n"
     ]
    }
   ],
   "source": [
    "# filtering all common english words\n",
    "validation_df['cleaned_text'] = validation_df['cleaned_text'].progress_map(reduce_words,na_action='ignore')"
   ]
  },
  {
   "cell_type": "code",
   "execution_count": 137,
   "metadata": {},
   "outputs": [],
   "source": [
    "validation_df['Text_len'] = validation_df['Text'].map(lambda x:len(str(x)))\n",
    "validation_df['cleaned_text_len'] = validation_df['cleaned_text'].map(lambda x:len(str(x)))"
   ]
  },
  {
   "cell_type": "code",
   "execution_count": 138,
   "metadata": {},
   "outputs": [
    {
     "data": {
      "text/html": [
       "<div>\n",
       "<style scoped>\n",
       "    .dataframe tbody tr th:only-of-type {\n",
       "        vertical-align: middle;\n",
       "    }\n",
       "\n",
       "    .dataframe tbody tr th {\n",
       "        vertical-align: top;\n",
       "    }\n",
       "\n",
       "    .dataframe thead th {\n",
       "        text-align: right;\n",
       "    }\n",
       "</style>\n",
       "<table border=\"1\" class=\"dataframe\">\n",
       "  <thead>\n",
       "    <tr style=\"text-align: right;\">\n",
       "      <th></th>\n",
       "      <th>ID</th>\n",
       "      <th>Gene</th>\n",
       "      <th>Variation</th>\n",
       "      <th>Text</th>\n",
       "      <th>cleaned_text</th>\n",
       "      <th>Text_len</th>\n",
       "      <th>cleaned_text_len</th>\n",
       "    </tr>\n",
       "  </thead>\n",
       "  <tbody>\n",
       "    <tr>\n",
       "      <th>2269</th>\n",
       "      <td>2269</td>\n",
       "      <td>PTEN</td>\n",
       "      <td>H93D</td>\n",
       "      <td>The PTEN (phosphatase and tensin homolog) phos...</td>\n",
       "      <td>PTEN tensin homolog mammals terms exerted deph...</td>\n",
       "      <td>42789</td>\n",
       "      <td>18457</td>\n",
       "    </tr>\n",
       "    <tr>\n",
       "      <th>1485</th>\n",
       "      <td>1485</td>\n",
       "      <td>FGFR2</td>\n",
       "      <td>A389T</td>\n",
       "      <td>Oncogenic activation of tyrosine kinases is a ...</td>\n",
       "      <td>Oncogenic kinases druggable enzymes Here mutat...</td>\n",
       "      <td>23350</td>\n",
       "      <td>10665</td>\n",
       "    </tr>\n",
       "    <tr>\n",
       "      <th>3063</th>\n",
       "      <td>3063</td>\n",
       "      <td>MED12</td>\n",
       "      <td>L1224F</td>\n",
       "      <td>The human thyroid hormone receptor-associated ...</td>\n",
       "      <td>receptor-associated TRAP-Mediator identified m...</td>\n",
       "      <td>151754</td>\n",
       "      <td>66501</td>\n",
       "    </tr>\n",
       "    <tr>\n",
       "      <th>367</th>\n",
       "      <td>367</td>\n",
       "      <td>EPAS1</td>\n",
       "      <td>P531A</td>\n",
       "      <td>Abstract Deletion of the von Hippel-Lindau tu...</td>\n",
       "      <td>Abstract Deletion von Hippel-Lindau Vhl podocy...</td>\n",
       "      <td>72388</td>\n",
       "      <td>30754</td>\n",
       "    </tr>\n",
       "    <tr>\n",
       "      <th>3149</th>\n",
       "      <td>3149</td>\n",
       "      <td>KRAS</td>\n",
       "      <td>K117N</td>\n",
       "      <td>Mutations in RAS proteins occur widely in huma...</td>\n",
       "      <td>Mutations RAS proteins Prompted KRAS biomarker...</td>\n",
       "      <td>62587</td>\n",
       "      <td>27169</td>\n",
       "    </tr>\n",
       "  </tbody>\n",
       "</table>\n",
       "</div>"
      ],
      "text/plain": [
       "        ID   Gene Variation  \\\n",
       "2269  2269   PTEN      H93D   \n",
       "1485  1485  FGFR2     A389T   \n",
       "3063  3063  MED12    L1224F   \n",
       "367    367  EPAS1     P531A   \n",
       "3149  3149   KRAS     K117N   \n",
       "\n",
       "                                                   Text  \\\n",
       "2269  The PTEN (phosphatase and tensin homolog) phos...   \n",
       "1485  Oncogenic activation of tyrosine kinases is a ...   \n",
       "3063  The human thyroid hormone receptor-associated ...   \n",
       "367    Abstract Deletion of the von Hippel-Lindau tu...   \n",
       "3149  Mutations in RAS proteins occur widely in huma...   \n",
       "\n",
       "                                           cleaned_text  Text_len  \\\n",
       "2269  PTEN tensin homolog mammals terms exerted deph...     42789   \n",
       "1485  Oncogenic kinases druggable enzymes Here mutat...     23350   \n",
       "3063  receptor-associated TRAP-Mediator identified m...    151754   \n",
       "367   Abstract Deletion von Hippel-Lindau Vhl podocy...     72388   \n",
       "3149  Mutations RAS proteins Prompted KRAS biomarker...     62587   \n",
       "\n",
       "      cleaned_text_len  \n",
       "2269             18457  \n",
       "1485             10665  \n",
       "3063             66501  \n",
       "367              30754  \n",
       "3149             27169  "
      ]
     },
     "execution_count": 138,
     "metadata": {},
     "output_type": "execute_result"
    }
   ],
   "source": [
    "validation_df.head()"
   ]
  },
  {
   "cell_type": "code",
   "execution_count": 139,
   "metadata": {},
   "outputs": [],
   "source": [
    "validation_df_corpus = validation_df['cleaned_text'].tolist()"
   ]
  },
  {
   "cell_type": "markdown",
   "metadata": {},
   "source": [
    "##### Bag of words transformation"
   ]
  },
  {
   "cell_type": "code",
   "execution_count": 140,
   "metadata": {},
   "outputs": [],
   "source": [
    "validation_df_counts= bow_vectorizer.transform(validation_df_corpus)"
   ]
  },
  {
   "cell_type": "code",
   "execution_count": 141,
   "metadata": {},
   "outputs": [
    {
     "data": {
      "text/plain": [
       "(398, 1600)"
      ]
     },
     "execution_count": 141,
     "metadata": {},
     "output_type": "execute_result"
    }
   ],
   "source": [
    "validation_df_counts.shape"
   ]
  },
  {
   "cell_type": "code",
   "execution_count": 142,
   "metadata": {},
   "outputs": [],
   "source": [
    "X_validation_bow = validation_df_counts.todense()"
   ]
  },
  {
   "cell_type": "code",
   "execution_count": 143,
   "metadata": {},
   "outputs": [
    {
     "data": {
      "text/plain": [
       "(398, 1600)"
      ]
     },
     "execution_count": 143,
     "metadata": {},
     "output_type": "execute_result"
    }
   ],
   "source": [
    "X_validation_bow.shape"
   ]
  },
  {
   "cell_type": "code",
   "execution_count": 144,
   "metadata": {},
   "outputs": [
    {
     "data": {
      "text/plain": [
       "matrix([[0, 0, 0, ..., 0, 0, 0]], dtype=int64)"
      ]
     },
     "execution_count": 144,
     "metadata": {},
     "output_type": "execute_result"
    }
   ],
   "source": [
    "X_validation_bow[0]"
   ]
  },
  {
   "cell_type": "code",
   "execution_count": 145,
   "metadata": {},
   "outputs": [],
   "source": [
    "y_pred_validation_bow = bow_model.predict_proba(X_validation_bow)"
   ]
  },
  {
   "cell_type": "code",
   "execution_count": 146,
   "metadata": {},
   "outputs": [],
   "source": [
    "y_pred_validation_bow2 = bow_model.predict(X_validation_bow)"
   ]
  },
  {
   "cell_type": "markdown",
   "metadata": {},
   "source": [
    "#### <font color='purple'>scoring the prediction using multiple scoring metrics</font>"
   ]
  },
  {
   "cell_type": "code",
   "execution_count": 147,
   "metadata": {},
   "outputs": [
    {
     "data": {
      "text/plain": [
       "{1, 2, 3, 4, 5, 6, 7, 8, 9}"
      ]
     },
     "execution_count": 147,
     "metadata": {},
     "output_type": "execute_result"
    }
   ],
   "source": [
    "set(y_validation.tolist())"
   ]
  },
  {
   "cell_type": "code",
   "execution_count": 148,
   "metadata": {},
   "outputs": [
    {
     "data": {
      "text/plain": [
       "6.224180745627177"
      ]
     },
     "execution_count": 148,
     "metadata": {},
     "output_type": "execute_result"
    }
   ],
   "source": [
    "log_loss(y_validation,y_pred_validation_bow)"
   ]
  },
  {
   "cell_type": "code",
   "execution_count": 149,
   "metadata": {},
   "outputs": [
    {
     "name": "stdout",
     "output_type": "stream",
     "text": [
      "              precision    recall  f1-score   support\n",
      "\n",
      "     class 1       0.47      0.42      0.44        66\n",
      "     class 2       0.44      0.51      0.47        55\n",
      "     class 3       0.25      0.10      0.14        10\n",
      "     class 4       0.60      0.60      0.60        86\n",
      "     class 5       0.30      0.26      0.28        27\n",
      "     class 6       0.72      0.70      0.71        30\n",
      "     class 7       0.62      0.68      0.64       117\n",
      "     class 8       0.00      0.00      0.00         2\n",
      "     class 9       0.80      0.80      0.80         5\n",
      "\n",
      "    accuracy                           0.55       398\n",
      "   macro avg       0.47      0.45      0.46       398\n",
      "weighted avg       0.54      0.55      0.55       398\n",
      "\n"
     ]
    }
   ],
   "source": [
    "print(classification_report(y_validation, y_pred_validation_bow2, target_names=target_names))"
   ]
  },
  {
   "cell_type": "code",
   "execution_count": 150,
   "metadata": {},
   "outputs": [
    {
     "data": {
      "text/plain": [
       "<sklearn.metrics._plot.confusion_matrix.ConfusionMatrixDisplay at 0x23faffde8c8>"
      ]
     },
     "execution_count": 150,
     "metadata": {},
     "output_type": "execute_result"
    },
    {
     "data": {
      "image/png": "[encoded data removed]",
      "text/plain": [
       "<Figure size 432x288 with 2 Axes>"
      ]
     },
     "metadata": {
      "needs_background": "light"
     },
     "output_type": "display_data"
    }
   ],
   "source": [
    "plot_confusion_matrix(bow_model, X_validation_bow, y_validation)"
   ]
  },
  {
   "cell_type": "markdown",
   "metadata": {},
   "source": [
    "##### TFIDF transformation"
   ]
  },
  {
   "cell_type": "code",
   "execution_count": 151,
   "metadata": {},
   "outputs": [],
   "source": [
    "X_validate_tfidf = tfidf_vectorizer.transform(validation_df_corpus)"
   ]
  },
  {
   "cell_type": "code",
   "execution_count": 152,
   "metadata": {},
   "outputs": [],
   "source": [
    "X_validate_tfidf = X_validate_tfidf.toarray()"
   ]
  },
  {
   "cell_type": "code",
   "execution_count": 153,
   "metadata": {},
   "outputs": [],
   "source": [
    "y_pred_validate_tfidf = tfidf_model.predict_proba(X_validate_tfidf)"
   ]
  },
  {
   "cell_type": "code",
   "execution_count": 154,
   "metadata": {},
   "outputs": [],
   "source": [
    "y_pred_validate_tfidf2 = tfidf_model.predict(X_validate_tfidf)"
   ]
  },
  {
   "cell_type": "markdown",
   "metadata": {},
   "source": [
    "#### <font color='purple'>scoring the prediction using multiple scoring metrics</font>"
   ]
  },
  {
   "cell_type": "code",
   "execution_count": 155,
   "metadata": {},
   "outputs": [
    {
     "data": {
      "text/plain": [
       "1.2593919472047406"
      ]
     },
     "execution_count": 155,
     "metadata": {},
     "output_type": "execute_result"
    }
   ],
   "source": [
    "log_loss(y_validation,y_pred_validate_tfidf)"
   ]
  },
  {
   "cell_type": "code",
   "execution_count": 156,
   "metadata": {},
   "outputs": [
    {
     "name": "stdout",
     "output_type": "stream",
     "text": [
      "              precision    recall  f1-score   support\n",
      "\n",
      "     class 1       0.45      0.45      0.45        66\n",
      "     class 2       0.72      0.33      0.45        55\n",
      "     class 3       0.00      0.00      0.00        10\n",
      "     class 4       0.54      0.56      0.55        86\n",
      "     class 5       0.36      0.15      0.21        27\n",
      "     class 6       1.00      0.47      0.64        30\n",
      "     class 7       0.56      0.91      0.69       117\n",
      "     class 8       0.00      0.00      0.00         2\n",
      "     class 9       0.00      0.00      0.00         5\n",
      "\n",
      "    accuracy                           0.56       398\n",
      "   macro avg       0.40      0.32      0.33       398\n",
      "weighted avg       0.55      0.56      0.52       398\n",
      "\n"
     ]
    }
   ],
   "source": [
    "print(classification_report(y_validation, y_pred_validate_tfidf2, target_names=target_names))"
   ]
  },
  {
   "cell_type": "code",
   "execution_count": 157,
   "metadata": {},
   "outputs": [
    {
     "data": {
      "text/plain": [
       "<sklearn.metrics._plot.confusion_matrix.ConfusionMatrixDisplay at 0x23fb89031c8>"
      ]
     },
     "execution_count": 157,
     "metadata": {},
     "output_type": "execute_result"
    },
    {
     "data": {
      "image/png": "[encoded data removed]",
      "text/plain": [
       "<Figure size 432x288 with 2 Axes>"
      ]
     },
     "metadata": {
      "needs_background": "light"
     },
     "output_type": "display_data"
    }
   ],
   "source": [
    "plot_confusion_matrix(tfidf_model, X_validate_tfidf, y_validation)"
   ]
  },
  {
   "cell_type": "code",
   "execution_count": null,
   "metadata": {},
   "outputs": [],
   "source": []
  },
  {
   "cell_type": "code",
   "execution_count": null,
   "metadata": {},
   "outputs": [],
   "source": []
  },
  {
   "cell_type": "markdown",
   "metadata": {},
   "source": [
    "#### handling the test text sample data"
   ]
  },
  {
   "cell_type": "code",
   "execution_count": 158,
   "metadata": {},
   "outputs": [],
   "source": [
    "#test_text_df.sort_values(['ID']).head()"
   ]
  },
  {
   "cell_type": "code",
   "execution_count": 159,
   "metadata": {},
   "outputs": [],
   "source": [
    "#test_text_df.shape"
   ]
  },
  {
   "cell_type": "code",
   "execution_count": 160,
   "metadata": {},
   "outputs": [],
   "source": [
    "#test_text_df['cleaned_text'] = test_text_df['Text'].map(cleanse_data,na_action='ignore')"
   ]
  },
  {
   "cell_type": "code",
   "execution_count": 161,
   "metadata": {},
   "outputs": [],
   "source": [
    "#test_text_df['cleaned_text'] = test_text_df['cleaned_text'].map(reduce_words)"
   ]
  },
  {
   "cell_type": "code",
   "execution_count": 162,
   "metadata": {},
   "outputs": [],
   "source": [
    "#test_text_df['cleaned_text_vector'] = test_text_df['cleaned_text'].map(word_count)"
   ]
  },
  {
   "cell_type": "code",
   "execution_count": 163,
   "metadata": {},
   "outputs": [],
   "source": [
    "#test_text_df['sorted_cleaned_text_vector'] = test_text_df['cleaned_text'].progress_map(freq_dist)"
   ]
  },
  {
   "cell_type": "code",
   "execution_count": 164,
   "metadata": {},
   "outputs": [],
   "source": [
    "#test_text_df = test_text_df.drop(['Text'],axis=1)"
   ]
  },
  {
   "cell_type": "code",
   "execution_count": 165,
   "metadata": {},
   "outputs": [],
   "source": [
    "#test_text_df.head()"
   ]
  },
  {
   "cell_type": "code",
   "execution_count": 166,
   "metadata": {},
   "outputs": [],
   "source": [
    "# get the text samples as list\n",
    "#test_corpus = test_text_df['cleaned_text'].tolist()"
   ]
  },
  {
   "cell_type": "code",
   "execution_count": 167,
   "metadata": {},
   "outputs": [],
   "source": [
    "# transform the test case to get bag of words\n",
    "#test_bag_of_words_train = bow_vectorizer.fit_transform(test_corpus)"
   ]
  },
  {
   "cell_type": "code",
   "execution_count": 168,
   "metadata": {},
   "outputs": [],
   "source": [
    "# convert the dictionary to an array\n",
    "#test_bag_of_words_array = test_bag_of_words_train.toarray()"
   ]
  },
  {
   "cell_type": "code",
   "execution_count": 169,
   "metadata": {},
   "outputs": [],
   "source": [
    "#test_bag_of_words_array.shape"
   ]
  },
  {
   "cell_type": "code",
   "execution_count": 170,
   "metadata": {},
   "outputs": [],
   "source": [
    "# predict test using bag of word model\n",
    "#y_pred_test_bow = bow_model.predict_proba(test_bag_of_words_array)"
   ]
  },
  {
   "cell_type": "code",
   "execution_count": 171,
   "metadata": {},
   "outputs": [],
   "source": [
    "#y_pred_test_bow[0]"
   ]
  },
  {
   "cell_type": "code",
   "execution_count": 172,
   "metadata": {},
   "outputs": [],
   "source": [
    "#y_pred_test_df = pd.DataFrame(y_pred_test_bow)"
   ]
  },
  {
   "cell_type": "code",
   "execution_count": 173,
   "metadata": {},
   "outputs": [],
   "source": [
    "#test_text_df['ID'].shape"
   ]
  },
  {
   "cell_type": "code",
   "execution_count": 174,
   "metadata": {},
   "outputs": [],
   "source": [
    "#y_pred_test_df['ID']= test_text_df['ID'].reset_index(drop=True)"
   ]
  },
  {
   "cell_type": "code",
   "execution_count": 175,
   "metadata": {},
   "outputs": [],
   "source": [
    "#y_pred_test_df.head()"
   ]
  },
  {
   "cell_type": "code",
   "execution_count": null,
   "metadata": {},
   "outputs": [],
   "source": []
  },
  {
   "cell_type": "code",
   "execution_count": 176,
   "metadata": {},
   "outputs": [],
   "source": [
    "# predict test using tfidf model\n",
    "#y_pred_test_tfidf = tfidf_model.predict_proba(test_bag_of_words_array)"
   ]
  },
  {
   "cell_type": "code",
   "execution_count": 177,
   "metadata": {},
   "outputs": [],
   "source": [
    "stage2_test_text_df = pd.read_csv('stage2_test_text.csv', sep=\"\\|\\|\", encoding=\"utf-8\",engine=\"python\", skiprows=1, names=[\"ID\", \"Text\"])\n"
   ]
  },
  {
   "cell_type": "code",
   "execution_count": 178,
   "metadata": {},
   "outputs": [
    {
     "data": {
      "text/plain": [
       "(986, 2)"
      ]
     },
     "execution_count": 178,
     "metadata": {},
     "output_type": "execute_result"
    }
   ],
   "source": [
    "stage2_test_text_df.shape"
   ]
  },
  {
   "cell_type": "code",
   "execution_count": 179,
   "metadata": {},
   "outputs": [
    {
     "name": "stderr",
     "output_type": "stream",
     "text": [
      "progress bar: 100%|██████████| 986/986 [00:09<00:00, 99.20it/s] \n"
     ]
    }
   ],
   "source": [
    "stage2_test_text_df['cleaned_text'] = stage2_test_text_df['Text'].progress_map(cleanse_data,na_action='ignore')"
   ]
  },
  {
   "cell_type": "code",
   "execution_count": 180,
   "metadata": {},
   "outputs": [
    {
     "name": "stderr",
     "output_type": "stream",
     "text": [
      "progress bar: 100%|██████████| 986/986 [00:04<00:00, 237.01it/s]\n"
     ]
    }
   ],
   "source": [
    "stage2_test_text_df['cleaned_text'] = stage2_test_text_df['cleaned_text'].progress_map(reduce_words)"
   ]
  },
  {
   "cell_type": "code",
   "execution_count": 181,
   "metadata": {},
   "outputs": [
    {
     "data": {
      "text/plain": [
       "(986, 3)"
      ]
     },
     "execution_count": 181,
     "metadata": {},
     "output_type": "execute_result"
    }
   ],
   "source": [
    "stage2_test_text_df.shape"
   ]
  },
  {
   "cell_type": "code",
   "execution_count": 182,
   "metadata": {},
   "outputs": [
    {
     "name": "stderr",
     "output_type": "stream",
     "text": [
      "progress bar: 100%|██████████| 986/986 [00:00<00:00, 325022.30it/s]\n"
     ]
    },
    {
     "data": {
      "text/html": [
       "<div>\n",
       "<style scoped>\n",
       "    .dataframe tbody tr th:only-of-type {\n",
       "        vertical-align: middle;\n",
       "    }\n",
       "\n",
       "    .dataframe tbody tr th {\n",
       "        vertical-align: top;\n",
       "    }\n",
       "\n",
       "    .dataframe thead th {\n",
       "        text-align: right;\n",
       "    }\n",
       "</style>\n",
       "<table border=\"1\" class=\"dataframe\">\n",
       "  <thead>\n",
       "    <tr style=\"text-align: right;\">\n",
       "      <th></th>\n",
       "      <th>Text</th>\n",
       "      <th>cleaned_text</th>\n",
       "    </tr>\n",
       "  </thead>\n",
       "  <tbody>\n",
       "    <tr>\n",
       "      <th>0</th>\n",
       "      <td>33403</td>\n",
       "      <td>14418</td>\n",
       "    </tr>\n",
       "    <tr>\n",
       "      <th>1</th>\n",
       "      <td>66400</td>\n",
       "      <td>29135</td>\n",
       "    </tr>\n",
       "    <tr>\n",
       "      <th>2</th>\n",
       "      <td>58544</td>\n",
       "      <td>26808</td>\n",
       "    </tr>\n",
       "    <tr>\n",
       "      <th>3</th>\n",
       "      <td>42023</td>\n",
       "      <td>17996</td>\n",
       "    </tr>\n",
       "    <tr>\n",
       "      <th>4</th>\n",
       "      <td>22499</td>\n",
       "      <td>8311</td>\n",
       "    </tr>\n",
       "  </tbody>\n",
       "</table>\n",
       "</div>"
      ],
      "text/plain": [
       "    Text  cleaned_text\n",
       "0  33403         14418\n",
       "1  66400         29135\n",
       "2  58544         26808\n",
       "3  42023         17996\n",
       "4  22499          8311"
      ]
     },
     "execution_count": 182,
     "metadata": {},
     "output_type": "execute_result"
    }
   ],
   "source": [
    "stage2_cleaned_view =pd.DataFrame({\"Text\":stage2_test_text_df['Text'].progress_map(lambda x:len(x)),\"cleaned_text\":stage2_test_text_df['cleaned_text'].map(lambda x:len(x))})\n",
    "stage2_cleaned_view.head()"
   ]
  },
  {
   "cell_type": "code",
   "execution_count": 183,
   "metadata": {},
   "outputs": [],
   "source": [
    "stage2_test_corpus = stage2_test_text_df['cleaned_text'].tolist()"
   ]
  },
  {
   "cell_type": "code",
   "execution_count": 184,
   "metadata": {},
   "outputs": [],
   "source": [
    "#X_stage2_test = bow_vectorizer.fit_transform(stage2_test_corpus).toarray()"
   ]
  },
  {
   "cell_type": "code",
   "execution_count": 185,
   "metadata": {},
   "outputs": [],
   "source": [
    "X_stage2_test = tfidf_vectorizer.fit_transform(stage2_test_corpus).toarray()"
   ]
  },
  {
   "cell_type": "code",
   "execution_count": 186,
   "metadata": {},
   "outputs": [
    {
     "data": {
      "text/plain": [
       "(986, 1600)"
      ]
     },
     "execution_count": 186,
     "metadata": {},
     "output_type": "execute_result"
    }
   ],
   "source": [
    "X_stage2_test.shape"
   ]
  },
  {
   "cell_type": "code",
   "execution_count": 187,
   "metadata": {},
   "outputs": [],
   "source": [
    "y_pred_stage2 = tfidf_model.predict_proba(X_stage2_test)"
   ]
  },
  {
   "cell_type": "code",
   "execution_count": 188,
   "metadata": {},
   "outputs": [
    {
     "data": {
      "text/plain": [
       "(986, 9)"
      ]
     },
     "execution_count": 188,
     "metadata": {},
     "output_type": "execute_result"
    }
   ],
   "source": [
    "y_pred_stage2.shape"
   ]
  },
  {
   "cell_type": "code",
   "execution_count": 189,
   "metadata": {},
   "outputs": [],
   "source": [
    "y_pred_stage2_df = pd.DataFrame(y_pred_stage2)"
   ]
  },
  {
   "cell_type": "code",
   "execution_count": null,
   "metadata": {},
   "outputs": [],
   "source": []
  },
  {
   "cell_type": "code",
   "execution_count": 190,
   "metadata": {},
   "outputs": [],
   "source": [
    "y_pred_stage2_df['ID']=stage2_test_text_df['ID']"
   ]
  },
  {
   "cell_type": "code",
   "execution_count": 191,
   "metadata": {},
   "outputs": [
    {
     "data": {
      "text/plain": [
       "Index([0, 1, 2, 3, 4, 5, 6, 7, 8, 'ID'], dtype='object')"
      ]
     },
     "execution_count": 191,
     "metadata": {},
     "output_type": "execute_result"
    }
   ],
   "source": [
    "y_pred_stage2_df.columns"
   ]
  },
  {
   "cell_type": "code",
   "execution_count": 192,
   "metadata": {},
   "outputs": [],
   "source": [
    "y_pred_stage2_df.columns = ['class1','class2','class3','class4','class5','class6','class7','class8','class9','ID']"
   ]
  },
  {
   "cell_type": "code",
   "execution_count": 193,
   "metadata": {},
   "outputs": [],
   "source": [
    "y_pred_stage2_df=y_pred_stage2_df[['ID','class1','class2','class3','class4','class5','class6','class7','class8','class9']]"
   ]
  },
  {
   "cell_type": "code",
   "execution_count": 194,
   "metadata": {},
   "outputs": [
    {
     "data": {
      "text/html": [
       "<div>\n",
       "<style scoped>\n",
       "    .dataframe tbody tr th:only-of-type {\n",
       "        vertical-align: middle;\n",
       "    }\n",
       "\n",
       "    .dataframe tbody tr th {\n",
       "        vertical-align: top;\n",
       "    }\n",
       "\n",
       "    .dataframe thead th {\n",
       "        text-align: right;\n",
       "    }\n",
       "</style>\n",
       "<table border=\"1\" class=\"dataframe\">\n",
       "  <thead>\n",
       "    <tr style=\"text-align: right;\">\n",
       "      <th></th>\n",
       "      <th>ID</th>\n",
       "      <th>class1</th>\n",
       "      <th>class2</th>\n",
       "      <th>class3</th>\n",
       "      <th>class4</th>\n",
       "      <th>class5</th>\n",
       "      <th>class6</th>\n",
       "      <th>class7</th>\n",
       "      <th>class8</th>\n",
       "      <th>class9</th>\n",
       "    </tr>\n",
       "  </thead>\n",
       "  <tbody>\n",
       "    <tr>\n",
       "      <th>0</th>\n",
       "      <td>1</td>\n",
       "      <td>0.246086</td>\n",
       "      <td>0.124970</td>\n",
       "      <td>0.037631</td>\n",
       "      <td>0.240181</td>\n",
       "      <td>0.058882</td>\n",
       "      <td>0.089237</td>\n",
       "      <td>0.181960</td>\n",
       "      <td>0.006104</td>\n",
       "      <td>0.014948</td>\n",
       "    </tr>\n",
       "    <tr>\n",
       "      <th>1</th>\n",
       "      <td>2</td>\n",
       "      <td>0.163249</td>\n",
       "      <td>0.157760</td>\n",
       "      <td>0.029698</td>\n",
       "      <td>0.166447</td>\n",
       "      <td>0.061905</td>\n",
       "      <td>0.056034</td>\n",
       "      <td>0.343224</td>\n",
       "      <td>0.005785</td>\n",
       "      <td>0.015899</td>\n",
       "    </tr>\n",
       "    <tr>\n",
       "      <th>2</th>\n",
       "      <td>3</td>\n",
       "      <td>0.164260</td>\n",
       "      <td>0.169408</td>\n",
       "      <td>0.025412</td>\n",
       "      <td>0.238202</td>\n",
       "      <td>0.053039</td>\n",
       "      <td>0.059834</td>\n",
       "      <td>0.266599</td>\n",
       "      <td>0.006214</td>\n",
       "      <td>0.017031</td>\n",
       "    </tr>\n",
       "    <tr>\n",
       "      <th>3</th>\n",
       "      <td>4</td>\n",
       "      <td>0.179123</td>\n",
       "      <td>0.162089</td>\n",
       "      <td>0.032706</td>\n",
       "      <td>0.169243</td>\n",
       "      <td>0.055664</td>\n",
       "      <td>0.061590</td>\n",
       "      <td>0.319256</td>\n",
       "      <td>0.005516</td>\n",
       "      <td>0.014814</td>\n",
       "    </tr>\n",
       "    <tr>\n",
       "      <th>4</th>\n",
       "      <td>5</td>\n",
       "      <td>0.146846</td>\n",
       "      <td>0.248545</td>\n",
       "      <td>0.032790</td>\n",
       "      <td>0.223710</td>\n",
       "      <td>0.071800</td>\n",
       "      <td>0.052905</td>\n",
       "      <td>0.205449</td>\n",
       "      <td>0.005322</td>\n",
       "      <td>0.012633</td>\n",
       "    </tr>\n",
       "  </tbody>\n",
       "</table>\n",
       "</div>"
      ],
      "text/plain": [
       "   ID    class1    class2    class3    class4    class5    class6    class7  \\\n",
       "0   1  0.246086  0.124970  0.037631  0.240181  0.058882  0.089237  0.181960   \n",
       "1   2  0.163249  0.157760  0.029698  0.166447  0.061905  0.056034  0.343224   \n",
       "2   3  0.164260  0.169408  0.025412  0.238202  0.053039  0.059834  0.266599   \n",
       "3   4  0.179123  0.162089  0.032706  0.169243  0.055664  0.061590  0.319256   \n",
       "4   5  0.146846  0.248545  0.032790  0.223710  0.071800  0.052905  0.205449   \n",
       "\n",
       "     class8    class9  \n",
       "0  0.006104  0.014948  \n",
       "1  0.005785  0.015899  \n",
       "2  0.006214  0.017031  \n",
       "3  0.005516  0.014814  \n",
       "4  0.005322  0.012633  "
      ]
     },
     "execution_count": 194,
     "metadata": {},
     "output_type": "execute_result"
    }
   ],
   "source": [
    "y_pred_stage2_df.head()"
   ]
  },
  {
   "cell_type": "code",
   "execution_count": 195,
   "metadata": {},
   "outputs": [],
   "source": [
    "y_pred_stage2_df.to_csv(\"y_pred_stage2.csv\",index=False)"
   ]
  },
  {
   "cell_type": "code",
   "execution_count": 196,
   "metadata": {},
   "outputs": [
    {
     "ename": "NameError",
     "evalue": "name 'class_9' is not defined",
     "output_type": "error",
     "traceback": [
      "\u001b[1;31m---------------------------------------------------------------------------\u001b[0m",
      "\u001b[1;31mNameError\u001b[0m                                 Traceback (most recent call last)",
      "\u001b[1;32m<ipython-input-196-48bc9f934af4>\u001b[0m in \u001b[0;36m<module>\u001b[1;34m\u001b[0m\n\u001b[0;32m      1\u001b[0m \u001b[0mdf\u001b[0m\u001b[1;33m=\u001b[0m\u001b[0mpd\u001b[0m\u001b[1;33m.\u001b[0m\u001b[0mDataFrame\u001b[0m\u001b[1;33m(\u001b[0m\u001b[0mcolumns\u001b[0m\u001b[1;33m=\u001b[0m\u001b[1;33m[\u001b[0m\u001b[1;34m\"Gene\"\u001b[0m\u001b[1;33m,\u001b[0m\u001b[1;34m\"Class\"\u001b[0m\u001b[1;33m,\u001b[0m\u001b[1;34m\"Variation\"\u001b[0m\u001b[1;33m,\u001b[0m\u001b[1;34m\"cleaned_text\"\u001b[0m\u001b[1;33m,\u001b[0m\u001b[1;34m\"cleaned_freq\"\u001b[0m\u001b[1;33m]\u001b[0m\u001b[1;33m)\u001b[0m\u001b[1;33m\u001b[0m\u001b[1;33m\u001b[0m\u001b[0m\n\u001b[0;32m      2\u001b[0m \u001b[1;32mfor\u001b[0m \u001b[0mi\u001b[0m \u001b[1;32min\u001b[0m \u001b[0mrange\u001b[0m\u001b[1;33m(\u001b[0m\u001b[1;36m19\u001b[0m\u001b[1;33m)\u001b[0m\u001b[1;33m:\u001b[0m\u001b[1;33m\u001b[0m\u001b[1;33m\u001b[0m\u001b[0m\n\u001b[1;32m----> 3\u001b[1;33m     \u001b[0mdf_new\u001b[0m\u001b[1;33m=\u001b[0m\u001b[0mclass_9\u001b[0m\u001b[1;33m[\u001b[0m\u001b[0mclass_9\u001b[0m\u001b[1;33m[\u001b[0m\u001b[1;34m'cleaned_text'\u001b[0m\u001b[1;33m]\u001b[0m \u001b[1;33m==\u001b[0m \u001b[0mclass_9\u001b[0m\u001b[1;33m[\u001b[0m\u001b[1;34m'cleaned_text'\u001b[0m\u001b[1;33m]\u001b[0m\u001b[1;33m.\u001b[0m\u001b[0munique\u001b[0m\u001b[1;33m(\u001b[0m\u001b[1;33m)\u001b[0m\u001b[1;33m[\u001b[0m\u001b[0mi\u001b[0m\u001b[1;33m]\u001b[0m\u001b[1;33m]\u001b[0m\u001b[1;33m\u001b[0m\u001b[1;33m\u001b[0m\u001b[0m\n\u001b[0m\u001b[0;32m      4\u001b[0m     \u001b[0mdf\u001b[0m\u001b[1;33m=\u001b[0m\u001b[0mpd\u001b[0m\u001b[1;33m.\u001b[0m\u001b[0mconcat\u001b[0m\u001b[1;33m(\u001b[0m\u001b[1;33m[\u001b[0m\u001b[0mdf\u001b[0m\u001b[1;33m,\u001b[0m\u001b[0mdf_new\u001b[0m\u001b[1;33m]\u001b[0m\u001b[1;33m)\u001b[0m\u001b[1;33m\u001b[0m\u001b[1;33m\u001b[0m\u001b[0m\n",
      "\u001b[1;31mNameError\u001b[0m: name 'class_9' is not defined"
     ]
    }
   ],
   "source": [
    "df=pd.DataFrame(columns=[\"Gene\",\"Class\",\"Variation\",\"cleaned_text\",\"cleaned_freq\"])\n",
    "for i in range(19):    \n",
    "    df_new=class_9[class_9['cleaned_text'] == class_9['cleaned_text'].unique()[i]]\n",
    "    df=pd.concat([df,df_new])"
   ]
  },
  {
   "cell_type": "markdown",
   "metadata": {
    "id": "mb62K9H8oIy6"
   },
   "source": [
    "we have sorted the frequency dictionary based on values using the key parameter of sorted and higher values first using reverse"
   ]
  },
  {
   "cell_type": "code",
   "execution_count": null,
   "metadata": {
    "colab": {
     "base_uri": "https://localhost:8080/"
    },
    "executionInfo": {
     "elapsed": 14,
     "status": "ok",
     "timestamp": 1638286210767,
     "user": {
      "displayName": "Anubrata Das",
      "photoUrl": "https://lh3.googleusercontent.com/a-/AOh14GiI2340pPpSj6e4aG_4urL4HRwW3MRXEf5aoo2_QA=s64",
      "userId": "08781375266004215524"
     },
     "user_tz": -330
    },
    "id": "wae37kXdUT8k",
    "outputId": "aacd0478-e911-439f-8dd0-3d9b78a7a732"
   },
   "outputs": [],
   "source": [
    "sorted(test_dic.items(),key=lambda x:x[1], reverse=True)"
   ]
  },
  {
   "cell_type": "code",
   "execution_count": null,
   "metadata": {
    "id": "kAxcpzU4_mzu"
   },
   "outputs": [],
   "source": [
    "for i in range(10):\n",
    "    print(scan_data1[i])"
   ]
  },
  {
   "cell_type": "code",
   "execution_count": null,
   "metadata": {
    "id": "9XgD9sY_14Jw"
   },
   "outputs": [],
   "source": [
    "cd /content"
   ]
  },
  {
   "cell_type": "code",
   "execution_count": null,
   "metadata": {
    "id": "oLbahHJ__mzv"
   },
   "outputs": [],
   "source": [
    "pa_tree=ET.parse('pa2021.xml')"
   ]
  },
  {
   "cell_type": "code",
   "execution_count": null,
   "metadata": {
    "id": "spN5n9H3_mzv"
   },
   "outputs": [],
   "source": [
    "root=pa_tree.getroot()"
   ]
  },
  {
   "cell_type": "code",
   "execution_count": null,
   "metadata": {
    "id": "kQR8pY9UXBs-"
   },
   "outputs": [],
   "source": [
    "# for child in root:\n",
    "#   print(child.tag)"
   ]
  },
  {
   "cell_type": "code",
   "execution_count": null,
   "metadata": {
    "id": "63RIRzTV_mzv"
   },
   "outputs": [],
   "source": [
    "for element_1 in root:\n",
    "  #print(\"---------level_1-----------\")\n",
    "  #print(element_1.tag)\n",
    "  \n",
    "  for element_2 in element_1:\n",
    "    #print(\"---------level_2-----------\")\n",
    "    #print(\"    \"+element_2.tag,\" \",element_2.text)\n",
    "    \n",
    "    for element_3 in element_2:\n",
    "      #print(\"---------level_3-----------\")\n",
    "      #print(\"        \"+element_3.tag,\" \",element_3.text)\n",
    "      \n",
    "      for element_4 in element_3:\n",
    "        #print(\"---------level_4-----------\")\n",
    "        if element_4.tag==\"String\":\n",
    "          print(\"                   \"+element_4.tag,\" \",element_4.text)\n",
    "          \n",
    "  #break\n",
    "    "
   ]
  },
  {
   "cell_type": "code",
   "execution_count": null,
   "metadata": {
    "id": "M-j6NieYFoZn"
   },
   "outputs": [],
   "source": [
    "len(root)"
   ]
  },
  {
   "cell_type": "code",
   "execution_count": null,
   "metadata": {
    "id": "c2Li5HlGGwOR"
   },
   "outputs": [],
   "source": [
    "desc_tree=ET.parse('desc2021.xml')"
   ]
  },
  {
   "cell_type": "code",
   "execution_count": null,
   "metadata": {
    "id": "IIWEN3P3XfG4"
   },
   "outputs": [],
   "source": [
    "desc_root=desc_tree.getroot()"
   ]
  },
  {
   "cell_type": "code",
   "execution_count": null,
   "metadata": {
    "id": "dVaFVNDdYSxK"
   },
   "outputs": [],
   "source": [
    "len(desc_root)"
   ]
  },
  {
   "cell_type": "code",
   "execution_count": null,
   "metadata": {
    "id": "9Q4uNx0xYq8f"
   },
   "outputs": [],
   "source": [
    "term_description=[]\n",
    "for element_1 in desc_root:\n",
    "  #print(\"-------level_1----------\")\n",
    "  #print(element_1.tag,\" \",element_1.text)\n",
    "  for element_2 in element_1:\n",
    "    #print(\"    ----------level_2----------\")\n",
    "    #print(\"    \"+element_2.tag,\" \",element_2.text)\n",
    "    for element_3 in element_2:\n",
    "      if element_3.tag=='String':\n",
    "        #print(\"        ---------level_3--------\")\n",
    "        #print(\"        \"+element_3.tag,\" \",element_3.text)\n",
    "        term_description.append(element_3.text)\n",
    "\n",
    "  #break"
   ]
  },
  {
   "cell_type": "code",
   "execution_count": null,
   "metadata": {
    "id": "WG6OyuDhZOdW"
   },
   "outputs": [],
   "source": [
    "len(term_description)"
   ]
  },
  {
   "cell_type": "code",
   "execution_count": null,
   "metadata": {
    "id": "yhUEtiIrt4B5"
   },
   "outputs": [],
   "source": [
    "term_description[:10]"
   ]
  },
  {
   "cell_type": "code",
   "execution_count": null,
   "metadata": {
    "id": "DFCAtPHEuIG_"
   },
   "outputs": [],
   "source": [
    "import csv \n",
    "with open('term_description.csv', 'w') as f: \n",
    "    write = csv.writer(f) \n",
    "    write.writerow(term_description) \n",
    "    "
   ]
  },
  {
   "cell_type": "markdown",
   "metadata": {
    "id": "F11LgeASJSYc"
   },
   "source": [
    "There are 2 ways to remove punctuation. one is to use the string library punctuation module on the text before tokenization, the other is to use the nltk.punct library"
   ]
  },
  {
   "cell_type": "code",
   "execution_count": null,
   "metadata": {
    "id": "bzJtTxhvvlSb"
   },
   "outputs": [],
   "source": [
    "len(scan_data1[1])"
   ]
  },
  {
   "cell_type": "code",
   "execution_count": null,
   "metadata": {
    "id": "EKL7Av16DsWV"
   },
   "outputs": [],
   "source": [
    "#nltk.word_tokenize(scan_data1[1])"
   ]
  },
  {
   "cell_type": "code",
   "execution_count": null,
   "metadata": {
    "id": "6n8-IUY8D_g2"
   },
   "outputs": [],
   "source": [
    "# import string punctuation\n",
    "import string\n",
    "string.punctuation"
   ]
  },
  {
   "cell_type": "code",
   "execution_count": null,
   "metadata": {
    "id": "vXDy9X6cH_nh"
   },
   "outputs": [],
   "source": []
  },
  {
   "cell_type": "code",
   "execution_count": null,
   "metadata": {
    "id": "YTposSf5IPM2"
   },
   "outputs": [],
   "source": [
    "len(cleanup_text(scan_data1[1]))"
   ]
  },
  {
   "cell_type": "code",
   "execution_count": null,
   "metadata": {
    "id": "xoBpboDfIZjm"
   },
   "outputs": [],
   "source": [
    "scan_data"
   ]
  }
 ],
 "metadata": {
  "colab": {
   "name": "jovian-ml-project.ipynb",
   "version": ""
  },
  "kernelspec": {
   "display_name": "Python 3",
   "language": "python",
   "name": "python3"
  },
  "language_info": {
   "codemirror_mode": {
    "name": "ipython",
    "version": 3
   },
   "file_extension": ".py",
   "mimetype": "text/x-python",
   "name": "python",
   "nbconvert_exporter": "python",
   "pygments_lexer": "ipython3",
   "version": "3.7.6"
  }
 },
 "nbformat": 4,
 "nbformat_minor": 1
}
