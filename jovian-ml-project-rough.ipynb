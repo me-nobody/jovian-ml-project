{
 "cells": [
  {
   "cell_type": "markdown",
   "metadata": {
    "id": "z4XIJ7_c_mzW"
   },
   "source": [
    "# jovian-ml-project-rough\n",
    "\n",
    "Use the \"Run\" button to execute the code."
   ]
  },
  {
   "cell_type": "code",
   "execution_count": 96,
   "metadata": {
    "executionInfo": {
     "elapsed": 2553,
     "status": "ok",
     "timestamp": 1638285773553,
     "user": {
      "displayName": "Anubrata Das",
      "photoUrl": "https://lh3.googleusercontent.com/a-/AOh14GiI2340pPpSj6e4aG_4urL4HRwW3MRXEf5aoo2_QA=s64",
      "userId": "08781375266004215524"
     },
     "user_tz": -330
    },
    "id": "6jgqXjvi_mzZ"
   },
   "outputs": [
    {
     "name": "stderr",
     "output_type": "stream",
     "text": [
      "WARNING: Value for scheme.headers does not match. Please report this to <https://github.com/pypa/pip/issues/9617>\n",
      "distutils: C:\\Users\\anubr\\anaconda3\\Include\\UNKNOWN\n",
      "sysconfig: C:\\Users\\anubr\\anaconda3\\Include\n",
      "WARNING: Additional context:\n",
      "user = False\n",
      "home = None\n",
      "root = None\n",
      "prefix = None\n",
      "WARNING: Value for scheme.headers does not match. Please report this to <https://github.com/pypa/pip/issues/9617>\n",
      "distutils: C:\\Users\\anubr\\anaconda3\\Include\\UNKNOWN\n",
      "sysconfig: C:\\Users\\anubr\\anaconda3\\Include\n",
      "WARNING: Additional context:\n",
      "user = False\n",
      "home = None\n",
      "root = None\n",
      "prefix = None\n"
     ]
    }
   ],
   "source": [
    "pip install jovian --upgrade --quiet"
   ]
  },
  {
   "cell_type": "code",
   "execution_count": 2,
   "metadata": {
    "executionInfo": {
     "elapsed": 47,
     "status": "ok",
     "timestamp": 1638285773553,
     "user": {
      "displayName": "Anubrata Das",
      "photoUrl": "https://lh3.googleusercontent.com/a-/AOh14GiI2340pPpSj6e4aG_4urL4HRwW3MRXEf5aoo2_QA=s64",
      "userId": "08781375266004215524"
     },
     "user_tz": -330
    },
    "id": "BcrwI4VL_mze"
   },
   "outputs": [],
   "source": [
    "#import jovian"
   ]
  },
  {
   "cell_type": "code",
   "execution_count": 3,
   "metadata": {
    "colab": {
     "base_uri": "https://localhost:8080/",
     "height": 125
    },
    "executionInfo": {
     "elapsed": 9427,
     "status": "ok",
     "timestamp": 1638285782935,
     "user": {
      "displayName": "Anubrata Das",
      "photoUrl": "https://lh3.googleusercontent.com/a-/AOh14GiI2340pPpSj6e4aG_4urL4HRwW3MRXEf5aoo2_QA=s64",
      "userId": "08781375266004215524"
     },
     "user_tz": -330
    },
    "id": "7gTXlkwu_mzf",
    "outputId": "3c4f1679-22fc-496e-bbd7-ce778f5dc86a"
   },
   "outputs": [],
   "source": [
    "# Execute this to save new versions of the notebook\n",
    "#jovian.commit(project=\"jovian-ml-project\",filename=\"jovian-ml-project\")"
   ]
  },
  {
   "cell_type": "code",
   "execution_count": 4,
   "metadata": {
    "executionInfo": {
     "elapsed": 13,
     "status": "ok",
     "timestamp": 1638285789225,
     "user": {
      "displayName": "Anubrata Das",
      "photoUrl": "https://lh3.googleusercontent.com/a-/AOh14GiI2340pPpSj6e4aG_4urL4HRwW3MRXEf5aoo2_QA=s64",
      "userId": "08781375266004215524"
     },
     "user_tz": -330
    },
    "id": "AEM-Rd_A_mzj"
   },
   "outputs": [],
   "source": [
    "import pandas as pd\n",
    "import numpy as np\n",
    "import matplotlib.pyplot as plt\n",
    "import requests\n",
    "import xml.etree.ElementTree as ET\n",
    "import time\n",
    "import re\n",
    "%matplotlib inline"
   ]
  },
  {
   "cell_type": "code",
   "execution_count": 5,
   "metadata": {
    "executionInfo": {
     "elapsed": 12,
     "status": "ok",
     "timestamp": 1638285789226,
     "user": {
      "displayName": "Anubrata Das",
      "photoUrl": "https://lh3.googleusercontent.com/a-/AOh14GiI2340pPpSj6e4aG_4urL4HRwW3MRXEf5aoo2_QA=s64",
      "userId": "08781375266004215524"
     },
     "user_tz": -330
    },
    "id": "lv5xwSHT_mzk"
   },
   "outputs": [],
   "source": [
    "pd.set_option('display.max_columns', None)\n",
    "pd.set_option('display.max_rows', None)\n",
    "import warnings\n",
    "warnings.simplefilter(action='ignore')"
   ]
  },
  {
   "cell_type": "markdown",
   "metadata": {},
   "source": [
    "<a id='top'>**Beginning of Notebook**</a>"
   ]
  },
  {
   "cell_type": "markdown",
   "metadata": {},
   "source": [
    "[model train text data](#train_data)"
   ]
  },
  {
   "cell_type": "markdown",
   "metadata": {},
   "source": [
    "#### train data"
   ]
  },
  {
   "cell_type": "code",
   "execution_count": 6,
   "metadata": {},
   "outputs": [],
   "source": [
    "train_text_df = pd.read_csv('training_text.zip', sep=\"\\|\\|\", encoding=\"utf-8\",engine=\"python\", skiprows=1, names=[\"ID\", \"Text\"],compression='zip')"
   ]
  },
  {
   "cell_type": "code",
   "execution_count": 7,
   "metadata": {},
   "outputs": [],
   "source": [
    "train_vari_df = pd.read_csv('training_variants.zip',compression='zip')"
   ]
  },
  {
   "cell_type": "code",
   "execution_count": 8,
   "metadata": {},
   "outputs": [
    {
     "data": {
      "text/plain": [
       "7    953\n",
       "4    686\n",
       "1    568\n",
       "2    452\n",
       "6    275\n",
       "5    242\n",
       "3     89\n",
       "9     37\n",
       "8     19\n",
       "Name: Class, dtype: int64"
      ]
     },
     "execution_count": 8,
     "metadata": {},
     "output_type": "execute_result"
    }
   ],
   "source": [
    "train_vari_df['Class'].value_counts()"
   ]
  },
  {
   "cell_type": "code",
   "execution_count": 9,
   "metadata": {},
   "outputs": [
    {
     "data": {
      "text/plain": [
       "((3321, 2), (3321, 4))"
      ]
     },
     "execution_count": 9,
     "metadata": {},
     "output_type": "execute_result"
    }
   ],
   "source": [
    "train_text_df.shape, train_vari_df.shape"
   ]
  },
  {
   "cell_type": "code",
   "execution_count": 10,
   "metadata": {},
   "outputs": [
    {
     "data": {
      "text/plain": [
       "(Index(['ID', 'Text'], dtype='object'),\n",
       " Index(['ID', 'Gene', 'Variation', 'Class'], dtype='object'))"
      ]
     },
     "execution_count": 10,
     "metadata": {},
     "output_type": "execute_result"
    }
   ],
   "source": [
    "train_text_df.columns, train_vari_df.columns"
   ]
  },
  {
   "cell_type": "code",
   "execution_count": 11,
   "metadata": {},
   "outputs": [],
   "source": [
    "# merging the text and variation data\n",
    "train_df = pd.merge(train_vari_df,train_text_df,on='ID')"
   ]
  },
  {
   "cell_type": "code",
   "execution_count": 12,
   "metadata": {},
   "outputs": [],
   "source": [
    "# taking a sample of the dataset\n",
    "train_df = train_df.sample(frac=0.2)"
   ]
  },
  {
   "cell_type": "code",
   "execution_count": 13,
   "metadata": {},
   "outputs": [
    {
     "data": {
      "text/html": [
       "<div>\n",
       "<style scoped>\n",
       "    .dataframe tbody tr th:only-of-type {\n",
       "        vertical-align: middle;\n",
       "    }\n",
       "\n",
       "    .dataframe tbody tr th {\n",
       "        vertical-align: top;\n",
       "    }\n",
       "\n",
       "    .dataframe thead th {\n",
       "        text-align: right;\n",
       "    }\n",
       "</style>\n",
       "<table border=\"1\" class=\"dataframe\">\n",
       "  <thead>\n",
       "    <tr style=\"text-align: right;\">\n",
       "      <th></th>\n",
       "      <th>ID</th>\n",
       "      <th>Gene</th>\n",
       "      <th>Variation</th>\n",
       "      <th>Class</th>\n",
       "      <th>Text</th>\n",
       "    </tr>\n",
       "  </thead>\n",
       "  <tbody>\n",
       "    <tr>\n",
       "      <th>1471</th>\n",
       "      <td>1471</td>\n",
       "      <td>FGFR2</td>\n",
       "      <td>N549K</td>\n",
       "      <td>7</td>\n",
       "      <td>We sought to identify fibroblast growth factor...</td>\n",
       "    </tr>\n",
       "    <tr>\n",
       "      <th>1303</th>\n",
       "      <td>1303</td>\n",
       "      <td>MLH1</td>\n",
       "      <td>M587V</td>\n",
       "      <td>6</td>\n",
       "      <td>In hereditary nonpolyposis colorectal cancer (...</td>\n",
       "    </tr>\n",
       "    <tr>\n",
       "      <th>2993</th>\n",
       "      <td>2993</td>\n",
       "      <td>KIT</td>\n",
       "      <td>S501_A502dup</td>\n",
       "      <td>7</td>\n",
       "      <td>Objective:  Most patients with systemic mastoc...</td>\n",
       "    </tr>\n",
       "    <tr>\n",
       "      <th>365</th>\n",
       "      <td>365</td>\n",
       "      <td>EPAS1</td>\n",
       "      <td>A530T</td>\n",
       "      <td>2</td>\n",
       "      <td>Hypoxia inducible factors (HIFs) are transcrip...</td>\n",
       "    </tr>\n",
       "    <tr>\n",
       "      <th>1835</th>\n",
       "      <td>1835</td>\n",
       "      <td>PPP2R1A</td>\n",
       "      <td>P179L</td>\n",
       "      <td>1</td>\n",
       "      <td>Protein Phosphatase 2A (PP2A) plays an essenti...</td>\n",
       "    </tr>\n",
       "  </tbody>\n",
       "</table>\n",
       "</div>"
      ],
      "text/plain": [
       "        ID     Gene     Variation  Class  \\\n",
       "1471  1471    FGFR2         N549K      7   \n",
       "1303  1303     MLH1         M587V      6   \n",
       "2993  2993      KIT  S501_A502dup      7   \n",
       "365    365    EPAS1         A530T      2   \n",
       "1835  1835  PPP2R1A         P179L      1   \n",
       "\n",
       "                                                   Text  \n",
       "1471  We sought to identify fibroblast growth factor...  \n",
       "1303  In hereditary nonpolyposis colorectal cancer (...  \n",
       "2993  Objective:  Most patients with systemic mastoc...  \n",
       "365   Hypoxia inducible factors (HIFs) are transcrip...  \n",
       "1835  Protein Phosphatase 2A (PP2A) plays an essenti...  "
      ]
     },
     "execution_count": 13,
     "metadata": {},
     "output_type": "execute_result"
    }
   ],
   "source": [
    "train_df.head()"
   ]
  },
  {
   "cell_type": "code",
   "execution_count": 14,
   "metadata": {},
   "outputs": [
    {
     "data": {
      "text/plain": [
       "(664, 5)"
      ]
     },
     "execution_count": 14,
     "metadata": {},
     "output_type": "execute_result"
    }
   ],
   "source": [
    "train_df.shape"
   ]
  },
  {
   "cell_type": "code",
   "execution_count": 15,
   "metadata": {},
   "outputs": [
    {
     "data": {
      "text/plain": [
       "7    199\n",
       "4    129\n",
       "1    110\n",
       "2     92\n",
       "5     55\n",
       "6     51\n",
       "3     17\n",
       "9      6\n",
       "8      5\n",
       "Name: Class, dtype: int64"
      ]
     },
     "execution_count": 15,
     "metadata": {},
     "output_type": "execute_result"
    }
   ],
   "source": [
    "train_df['Class'].value_counts()"
   ]
  },
  {
   "cell_type": "code",
   "execution_count": 16,
   "metadata": {},
   "outputs": [],
   "source": [
    "test_text_df = pd.read_csv('test_text.zip', sep=\"\\|\\|\", encoding=\"utf-8\",engine=\"python\", skiprows=1, names=[\"ID\", \"Text\"],compression='zip')\n"
   ]
  },
  {
   "cell_type": "code",
   "execution_count": 17,
   "metadata": {},
   "outputs": [],
   "source": [
    "test_vari_df  = pd.read_csv('test_variants.zip',compression='zip')"
   ]
  },
  {
   "cell_type": "code",
   "execution_count": 18,
   "metadata": {},
   "outputs": [
    {
     "data": {
      "text/html": [
       "<div>\n",
       "<style scoped>\n",
       "    .dataframe tbody tr th:only-of-type {\n",
       "        vertical-align: middle;\n",
       "    }\n",
       "\n",
       "    .dataframe tbody tr th {\n",
       "        vertical-align: top;\n",
       "    }\n",
       "\n",
       "    .dataframe thead th {\n",
       "        text-align: right;\n",
       "    }\n",
       "</style>\n",
       "<table border=\"1\" class=\"dataframe\">\n",
       "  <thead>\n",
       "    <tr style=\"text-align: right;\">\n",
       "      <th></th>\n",
       "      <th>ID</th>\n",
       "      <th>Gene</th>\n",
       "      <th>Variation</th>\n",
       "    </tr>\n",
       "  </thead>\n",
       "  <tbody>\n",
       "    <tr>\n",
       "      <th>0</th>\n",
       "      <td>0</td>\n",
       "      <td>ACSL4</td>\n",
       "      <td>R570S</td>\n",
       "    </tr>\n",
       "    <tr>\n",
       "      <th>1</th>\n",
       "      <td>1</td>\n",
       "      <td>NAGLU</td>\n",
       "      <td>P521L</td>\n",
       "    </tr>\n",
       "    <tr>\n",
       "      <th>2</th>\n",
       "      <td>2</td>\n",
       "      <td>PAH</td>\n",
       "      <td>L333F</td>\n",
       "    </tr>\n",
       "    <tr>\n",
       "      <th>3</th>\n",
       "      <td>3</td>\n",
       "      <td>ING1</td>\n",
       "      <td>A148D</td>\n",
       "    </tr>\n",
       "    <tr>\n",
       "      <th>4</th>\n",
       "      <td>4</td>\n",
       "      <td>TMEM216</td>\n",
       "      <td>G77A</td>\n",
       "    </tr>\n",
       "  </tbody>\n",
       "</table>\n",
       "</div>"
      ],
      "text/plain": [
       "   ID     Gene Variation\n",
       "0   0    ACSL4     R570S\n",
       "1   1    NAGLU     P521L\n",
       "2   2      PAH     L333F\n",
       "3   3     ING1     A148D\n",
       "4   4  TMEM216      G77A"
      ]
     },
     "execution_count": 18,
     "metadata": {},
     "output_type": "execute_result"
    }
   ],
   "source": [
    "test_vari_df.head()"
   ]
  },
  {
   "cell_type": "code",
   "execution_count": 19,
   "metadata": {},
   "outputs": [
    {
     "data": {
      "text/plain": [
       "(5668, 3)"
      ]
     },
     "execution_count": 19,
     "metadata": {},
     "output_type": "execute_result"
    }
   ],
   "source": [
    "test_vari_df.shape"
   ]
  },
  {
   "cell_type": "code",
   "execution_count": 20,
   "metadata": {},
   "outputs": [],
   "source": [
    "# test_vari_df sample\n",
    "test_vari_df=test_vari_df.sample(frac=0.1)"
   ]
  },
  {
   "cell_type": "code",
   "execution_count": 21,
   "metadata": {},
   "outputs": [],
   "source": [
    "# test_text_df sample\n",
    "test_text_df = test_text_df.sample(frac=0.1)"
   ]
  },
  {
   "cell_type": "code",
   "execution_count": 22,
   "metadata": {},
   "outputs": [
    {
     "data": {
      "text/plain": [
       "(567, 2)"
      ]
     },
     "execution_count": 22,
     "metadata": {},
     "output_type": "execute_result"
    }
   ],
   "source": [
    "test_text_df.shape"
   ]
  },
  {
   "cell_type": "code",
   "execution_count": 23,
   "metadata": {},
   "outputs": [
    {
     "data": {
      "text/html": [
       "<div>\n",
       "<style scoped>\n",
       "    .dataframe tbody tr th:only-of-type {\n",
       "        vertical-align: middle;\n",
       "    }\n",
       "\n",
       "    .dataframe tbody tr th {\n",
       "        vertical-align: top;\n",
       "    }\n",
       "\n",
       "    .dataframe thead th {\n",
       "        text-align: right;\n",
       "    }\n",
       "</style>\n",
       "<table border=\"1\" class=\"dataframe\">\n",
       "  <thead>\n",
       "    <tr style=\"text-align: right;\">\n",
       "      <th></th>\n",
       "      <th>ID</th>\n",
       "      <th>Text</th>\n",
       "    </tr>\n",
       "  </thead>\n",
       "  <tbody>\n",
       "    <tr>\n",
       "      <th>1747</th>\n",
       "      <td>1747</td>\n",
       "      <td>Interferon-italic gamma (IFN-italic gamma) is ...</td>\n",
       "    </tr>\n",
       "    <tr>\n",
       "      <th>4651</th>\n",
       "      <td>4651</td>\n",
       "      <td>Missense substitutions of uncertain clinical s...</td>\n",
       "    </tr>\n",
       "    <tr>\n",
       "      <th>4234</th>\n",
       "      <td>4234</td>\n",
       "      <td>A gene, termed gli, was identified that is amp...</td>\n",
       "    </tr>\n",
       "    <tr>\n",
       "      <th>64</th>\n",
       "      <td>64</td>\n",
       "      <td>Keap1 is the substrate recognition module of a...</td>\n",
       "    </tr>\n",
       "    <tr>\n",
       "      <th>1823</th>\n",
       "      <td>1823</td>\n",
       "      <td>Although microsatellite instability (MSI) has ...</td>\n",
       "    </tr>\n",
       "  </tbody>\n",
       "</table>\n",
       "</div>"
      ],
      "text/plain": [
       "        ID                                               Text\n",
       "1747  1747  Interferon-italic gamma (IFN-italic gamma) is ...\n",
       "4651  4651  Missense substitutions of uncertain clinical s...\n",
       "4234  4234  A gene, termed gli, was identified that is amp...\n",
       "64      64  Keap1 is the substrate recognition module of a...\n",
       "1823  1823  Although microsatellite instability (MSI) has ..."
      ]
     },
     "execution_count": 23,
     "metadata": {},
     "output_type": "execute_result"
    }
   ],
   "source": [
    "test_text_df.head()"
   ]
  },
  {
   "cell_type": "code",
   "execution_count": 24,
   "metadata": {},
   "outputs": [
    {
     "data": {
      "text/html": [
       "<div>\n",
       "<style scoped>\n",
       "    .dataframe tbody tr th:only-of-type {\n",
       "        vertical-align: middle;\n",
       "    }\n",
       "\n",
       "    .dataframe tbody tr th {\n",
       "        vertical-align: top;\n",
       "    }\n",
       "\n",
       "    .dataframe thead th {\n",
       "        text-align: right;\n",
       "    }\n",
       "</style>\n",
       "<table border=\"1\" class=\"dataframe\">\n",
       "  <thead>\n",
       "    <tr style=\"text-align: right;\">\n",
       "      <th></th>\n",
       "      <th>ID</th>\n",
       "      <th>Class</th>\n",
       "    </tr>\n",
       "    <tr>\n",
       "      <th>Gene</th>\n",
       "      <th></th>\n",
       "      <th></th>\n",
       "    </tr>\n",
       "  </thead>\n",
       "  <tbody>\n",
       "    <tr>\n",
       "      <th>ABL1</th>\n",
       "      <td>22087</td>\n",
       "      <td>62</td>\n",
       "    </tr>\n",
       "    <tr>\n",
       "      <th>ACVR1</th>\n",
       "      <td>3207</td>\n",
       "      <td>16</td>\n",
       "    </tr>\n",
       "    <tr>\n",
       "      <th>AGO2</th>\n",
       "      <td>10435</td>\n",
       "      <td>6</td>\n",
       "    </tr>\n",
       "    <tr>\n",
       "      <th>AKT1</th>\n",
       "      <td>37898</td>\n",
       "      <td>165</td>\n",
       "    </tr>\n",
       "    <tr>\n",
       "      <th>AKT2</th>\n",
       "      <td>15103</td>\n",
       "      <td>76</td>\n",
       "    </tr>\n",
       "  </tbody>\n",
       "</table>\n",
       "</div>"
      ],
      "text/plain": [
       "          ID  Class\n",
       "Gene               \n",
       "ABL1   22087     62\n",
       "ACVR1   3207     16\n",
       "AGO2   10435      6\n",
       "AKT1   37898    165\n",
       "AKT2   15103     76"
      ]
     },
     "execution_count": 24,
     "metadata": {},
     "output_type": "execute_result"
    }
   ],
   "source": [
    "train_vari_df.groupby('Gene').sum().head()"
   ]
  },
  {
   "cell_type": "code",
   "execution_count": 25,
   "metadata": {},
   "outputs": [
    {
     "data": {
      "text/html": [
       "<div>\n",
       "<style scoped>\n",
       "    .dataframe tbody tr th:only-of-type {\n",
       "        vertical-align: middle;\n",
       "    }\n",
       "\n",
       "    .dataframe tbody tr th {\n",
       "        vertical-align: top;\n",
       "    }\n",
       "\n",
       "    .dataframe thead th {\n",
       "        text-align: right;\n",
       "    }\n",
       "</style>\n",
       "<table border=\"1\" class=\"dataframe\">\n",
       "  <thead>\n",
       "    <tr style=\"text-align: right;\">\n",
       "      <th></th>\n",
       "      <th>ID</th>\n",
       "      <th>Variation</th>\n",
       "      <th>Class</th>\n",
       "    </tr>\n",
       "    <tr>\n",
       "      <th>Gene</th>\n",
       "      <th></th>\n",
       "      <th></th>\n",
       "      <th></th>\n",
       "    </tr>\n",
       "  </thead>\n",
       "  <tbody>\n",
       "    <tr>\n",
       "      <th>ABL1</th>\n",
       "      <td>26</td>\n",
       "      <td>26</td>\n",
       "      <td>26</td>\n",
       "    </tr>\n",
       "    <tr>\n",
       "      <th>ACVR1</th>\n",
       "      <td>3</td>\n",
       "      <td>3</td>\n",
       "      <td>3</td>\n",
       "    </tr>\n",
       "    <tr>\n",
       "      <th>AGO2</th>\n",
       "      <td>5</td>\n",
       "      <td>5</td>\n",
       "      <td>5</td>\n",
       "    </tr>\n",
       "    <tr>\n",
       "      <th>AKT1</th>\n",
       "      <td>28</td>\n",
       "      <td>28</td>\n",
       "      <td>28</td>\n",
       "    </tr>\n",
       "    <tr>\n",
       "      <th>AKT2</th>\n",
       "      <td>11</td>\n",
       "      <td>11</td>\n",
       "      <td>11</td>\n",
       "    </tr>\n",
       "  </tbody>\n",
       "</table>\n",
       "</div>"
      ],
      "text/plain": [
       "       ID  Variation  Class\n",
       "Gene                       \n",
       "ABL1   26         26     26\n",
       "ACVR1   3          3      3\n",
       "AGO2    5          5      5\n",
       "AKT1   28         28     28\n",
       "AKT2   11         11     11"
      ]
     },
     "execution_count": 25,
     "metadata": {},
     "output_type": "execute_result"
    }
   ],
   "source": [
    "train_vari_df.groupby('Gene').count().head()"
   ]
  },
  {
   "cell_type": "code",
   "execution_count": 26,
   "metadata": {},
   "outputs": [
    {
     "data": {
      "text/html": [
       "<div>\n",
       "<style scoped>\n",
       "    .dataframe tbody tr th:only-of-type {\n",
       "        vertical-align: middle;\n",
       "    }\n",
       "\n",
       "    .dataframe tbody tr th {\n",
       "        vertical-align: top;\n",
       "    }\n",
       "\n",
       "    .dataframe thead th {\n",
       "        text-align: right;\n",
       "    }\n",
       "</style>\n",
       "<table border=\"1\" class=\"dataframe\">\n",
       "  <thead>\n",
       "    <tr style=\"text-align: right;\">\n",
       "      <th></th>\n",
       "      <th>ID</th>\n",
       "      <th>Gene</th>\n",
       "      <th>Variation</th>\n",
       "      <th>Class</th>\n",
       "    </tr>\n",
       "  </thead>\n",
       "  <tbody>\n",
       "    <tr>\n",
       "      <th>2085</th>\n",
       "      <td>2085</td>\n",
       "      <td>AGO2</td>\n",
       "      <td>R812A</td>\n",
       "      <td>1</td>\n",
       "    </tr>\n",
       "    <tr>\n",
       "      <th>2086</th>\n",
       "      <td>2086</td>\n",
       "      <td>AGO2</td>\n",
       "      <td>R647A</td>\n",
       "      <td>1</td>\n",
       "    </tr>\n",
       "    <tr>\n",
       "      <th>2087</th>\n",
       "      <td>2087</td>\n",
       "      <td>AGO2</td>\n",
       "      <td>R583A</td>\n",
       "      <td>1</td>\n",
       "    </tr>\n",
       "    <tr>\n",
       "      <th>2088</th>\n",
       "      <td>2088</td>\n",
       "      <td>AGO2</td>\n",
       "      <td>Amplification</td>\n",
       "      <td>2</td>\n",
       "    </tr>\n",
       "    <tr>\n",
       "      <th>2089</th>\n",
       "      <td>2089</td>\n",
       "      <td>AGO2</td>\n",
       "      <td>Q545A</td>\n",
       "      <td>1</td>\n",
       "    </tr>\n",
       "  </tbody>\n",
       "</table>\n",
       "</div>"
      ],
      "text/plain": [
       "        ID  Gene      Variation  Class\n",
       "2085  2085  AGO2          R812A      1\n",
       "2086  2086  AGO2          R647A      1\n",
       "2087  2087  AGO2          R583A      1\n",
       "2088  2088  AGO2  Amplification      2\n",
       "2089  2089  AGO2          Q545A      1"
      ]
     },
     "execution_count": 26,
     "metadata": {},
     "output_type": "execute_result"
    }
   ],
   "source": [
    "train_vari_df[train_vari_df['Gene'] == 'AGO2']"
   ]
  },
  {
   "cell_type": "code",
   "execution_count": 27,
   "metadata": {},
   "outputs": [],
   "source": [
    "merged_df=train_vari_df.merge(train_text_df,on= 'ID')"
   ]
  },
  {
   "cell_type": "code",
   "execution_count": 28,
   "metadata": {},
   "outputs": [],
   "source": [
    "class_8=merged_df[['Gene','Class','Variation','Text']][merged_df['Class'] == 8]"
   ]
  },
  {
   "cell_type": "markdown",
   "metadata": {},
   "source": [
    "[link to destination](#destination)"
   ]
  },
  {
   "cell_type": "code",
   "execution_count": 29,
   "metadata": {
    "colab": {
     "base_uri": "https://localhost:8080/",
     "height": 38
    },
    "executionInfo": {
     "elapsed": 98,
     "status": "ok",
     "timestamp": 1638286184867,
     "user": {
      "displayName": "Anubrata Das",
      "photoUrl": "https://lh3.googleusercontent.com/a-/AOh14GiI2340pPpSj6e4aG_4urL4HRwW3MRXEf5aoo2_QA=s64",
      "userId": "08781375266004215524"
     },
     "user_tz": -330
    },
    "id": "9SoN9RkCag-o",
    "outputId": "7f64e0fd-3acd-42a0-9d80-2dd56677fb44"
   },
   "outputs": [
    {
     "data": {
      "text/plain": [
       "'!\"#$%&\\'()*+,-./:;<=>?@[\\\\]^_`{|}~'"
      ]
     },
     "execution_count": 29,
     "metadata": {},
     "output_type": "execute_result"
    }
   ],
   "source": [
    "import string\n",
    "string.punctuation"
   ]
  },
  {
   "cell_type": "code",
   "execution_count": 30,
   "metadata": {
    "executionInfo": {
     "elapsed": 90,
     "status": "ok",
     "timestamp": 1638286184868,
     "user": {
      "displayName": "Anubrata Das",
      "photoUrl": "https://lh3.googleusercontent.com/a-/AOh14GiI2340pPpSj6e4aG_4urL4HRwW3MRXEf5aoo2_QA=s64",
      "userId": "08781375266004215524"
     },
     "user_tz": -330
    },
    "id": "Zoqhi_AKamax"
   },
   "outputs": [],
   "source": [
    "revised_punctuation='!\"#$%&\\'()*+,./:;<=>?@[\\\\]^_`{|}~'"
   ]
  },
  {
   "cell_type": "code",
   "execution_count": 31,
   "metadata": {},
   "outputs": [
    {
     "data": {
      "text/plain": [
       "'!\"#$%&\\'()*+,./:;<=>?@[\\\\]^_`{|}~'"
      ]
     },
     "execution_count": 31,
     "metadata": {},
     "output_type": "execute_result"
    }
   ],
   "source": [
    "revised_punctuation"
   ]
  },
  {
   "cell_type": "code",
   "execution_count": 32,
   "metadata": {},
   "outputs": [
    {
     "name": "stdout",
     "output_type": "stream",
     "text": [
      "Requirement already satisfied: nltk in c:\\users\\anubr\\appdata\\roaming\\python\\python37\\site-packages (3.6.2)\n",
      "Requirement already satisfied: joblib in c:\\users\\anubr\\anaconda3\\lib\\site-packages (from nltk) (1.0.1)\n",
      "Requirement already satisfied: regex in c:\\users\\anubr\\anaconda3\\lib\\site-packages (from nltk) (2021.4.4)\n",
      "Requirement already satisfied: click in c:\\users\\anubr\\anaconda3\\lib\\site-packages (from nltk) (7.1.2)\n",
      "Requirement already satisfied: tqdm in c:\\users\\anubr\\anaconda3\\lib\\site-packages (from nltk) (4.60.0)\n"
     ]
    },
    {
     "name": "stderr",
     "output_type": "stream",
     "text": [
      "WARNING: Value for scheme.headers does not match. Please report this to <https://github.com/pypa/pip/issues/9617>\n",
      "distutils: C:\\Users\\anubr\\anaconda3\\Include\\UNKNOWN\n",
      "sysconfig: C:\\Users\\anubr\\anaconda3\\Include\n",
      "WARNING: Additional context:\n",
      "user = False\n",
      "home = None\n",
      "root = None\n",
      "prefix = None\n",
      "WARNING: Value for scheme.headers does not match. Please report this to <https://github.com/pypa/pip/issues/9617>\n",
      "distutils: C:\\Users\\anubr\\anaconda3\\Include\\UNKNOWN\n",
      "sysconfig: C:\\Users\\anubr\\anaconda3\\Include\n",
      "WARNING: Additional context:\n",
      "user = False\n",
      "home = None\n",
      "root = None\n",
      "prefix = None\n"
     ]
    }
   ],
   "source": [
    "!pip install nltk"
   ]
  },
  {
   "cell_type": "code",
   "execution_count": 33,
   "metadata": {
    "executionInfo": {
     "elapsed": 92,
     "status": "ok",
     "timestamp": 1638286184873,
     "user": {
      "displayName": "Anubrata Das",
      "photoUrl": "https://lh3.googleusercontent.com/a-/AOh14GiI2340pPpSj6e4aG_4urL4HRwW3MRXEf5aoo2_QA=s64",
      "userId": "08781375266004215524"
     },
     "user_tz": -330
    },
    "id": "UoSJBAQWis7w"
   },
   "outputs": [
    {
     "name": "stderr",
     "output_type": "stream",
     "text": [
      "[nltk_data] Downloading package words to\n",
      "[nltk_data]     C:\\Users\\anubr\\AppData\\Roaming\\nltk_data...\n",
      "[nltk_data]   Package words is already up-to-date!\n"
     ]
    }
   ],
   "source": [
    "import nltk\n",
    "nltk.download('words')\n",
    "from nltk.corpus import words\n",
    "words=nltk.corpus.words.words()"
   ]
  },
  {
   "cell_type": "code",
   "execution_count": 34,
   "metadata": {},
   "outputs": [
    {
     "data": {
      "text/plain": [
       "235892"
      ]
     },
     "execution_count": 34,
     "metadata": {},
     "output_type": "execute_result"
    }
   ],
   "source": [
    "len(set(words))"
   ]
  },
  {
   "cell_type": "code",
   "execution_count": 35,
   "metadata": {},
   "outputs": [],
   "source": [
    "nltk_words=set(words)"
   ]
  },
  {
   "cell_type": "code",
   "execution_count": 36,
   "metadata": {},
   "outputs": [],
   "source": [
    "# set did not help as it reduces the number to \n",
    "# def reduce_words(row,index): \n",
    "#     text=row[1]\n",
    "#     if isinstance(text,str):\n",
    "#         new_text_words = set(text.split())\n",
    "        \n",
    "#         important_words = new_text_words.difference(words)\n",
    "#         edited_words = \" \".join(important_words)\n",
    "        \n",
    "#         intersected_words = new_text_words.intersection(words)\n",
    "#         edit_intersect_words = \" \".join(intersected_words)\n",
    "#         train_text_df['new_text'][index] = edited_words\n",
    "#         train_text_df['intsct_text'][index] = edit_intersect_words "
   ]
  },
  {
   "cell_type": "code",
   "execution_count": 37,
   "metadata": {},
   "outputs": [],
   "source": [
    "#from collections import Counter"
   ]
  },
  {
   "cell_type": "code",
   "execution_count": 38,
   "metadata": {},
   "outputs": [],
   "source": [
    "def reduce_words_df(row,index): \n",
    "    text=row[1]\n",
    "    if isinstance(text,str):\n",
    "        new_text_words = text.split()\n",
    "        counted_words = Counter(new_text_words) \n",
    "        counted_words=sorted(counted_words.items(),key=lambda x:x[1], reverse=True)\n",
    "        test['new_text'][index] = counted_words        "
   ]
  },
  {
   "cell_type": "code",
   "execution_count": 39,
   "metadata": {},
   "outputs": [],
   "source": [
    "# for index,row in test.iterrows():\n",
    "#     reduce_words(row,index)"
   ]
  },
  {
   "cell_type": "code",
   "execution_count": 40,
   "metadata": {
    "executionInfo": {
     "elapsed": 90,
     "status": "ok",
     "timestamp": 1638286184874,
     "user": {
      "displayName": "Anubrata Das",
      "photoUrl": "https://lh3.googleusercontent.com/a-/AOh14GiI2340pPpSj6e4aG_4urL4HRwW3MRXEf5aoo2_QA=s64",
      "userId": "08781375266004215524"
     },
     "user_tz": -330
    },
    "id": "dZa3dSo_KOra"
   },
   "outputs": [],
   "source": [
    "def cleanse_data(data):        \n",
    "    if isinstance(data,str):\n",
    "        no_punctuation = [char for char in data.replace('\\n',' ') if char not in revised_punctuation]\n",
    "        no_punctuation_txt = ''.join(no_punctuation)                   \n",
    "        return no_punctuation_txt\n",
    "    else:\n",
    "        return \"NA\""
   ]
  },
  {
   "cell_type": "code",
   "execution_count": 41,
   "metadata": {},
   "outputs": [],
   "source": [
    "def reduce_words(data):\n",
    "    data = data.split()\n",
    "    words = [word for word in data if word not in nltk_words]\n",
    "    text = \" \".join(words)\n",
    "    return text    "
   ]
  },
  {
   "cell_type": "code",
   "execution_count": 42,
   "metadata": {},
   "outputs": [],
   "source": [
    "def word_count(text):\n",
    "    text_lst=text.split()\n",
    "    vector = [text_lst.count(word) for word in text_lst]\n",
    "    return vector[:300]"
   ]
  },
  {
   "cell_type": "code",
   "execution_count": 43,
   "metadata": {},
   "outputs": [],
   "source": [
    "from nltk.probability import FreqDist"
   ]
  },
  {
   "cell_type": "markdown",
   "metadata": {
    "id": "eHrZ7Ae4odHg"
   },
   "source": [
    "we have obtained the frequency distribution of words using freqdist"
   ]
  },
  {
   "cell_type": "code",
   "execution_count": 44,
   "metadata": {},
   "outputs": [],
   "source": [
    "def freq_dist(data):\n",
    "    data=data.split(\" \")\n",
    "    freq=FreqDist(data) # gets word frequency\n",
    "    freq=sorted(freq.items(),key=lambda x:x[1], reverse=True) # sorts words from highest to lowest frequency\n",
    "    return [item[1] for item in freq][:300] # returns a fixed length of 300 words"
   ]
  },
  {
   "cell_type": "code",
   "execution_count": 45,
   "metadata": {},
   "outputs": [],
   "source": [
    "# implementing bag of words"
   ]
  },
  {
   "cell_type": "code",
   "execution_count": 46,
   "metadata": {},
   "outputs": [],
   "source": [
    "from sklearn.feature_extraction.text import CountVectorizer"
   ]
  },
  {
   "cell_type": "code",
   "execution_count": 47,
   "metadata": {},
   "outputs": [],
   "source": [
    "vectorizer = CountVectorizer(stop_words='english',max_features=1600)"
   ]
  },
  {
   "cell_type": "code",
   "execution_count": 48,
   "metadata": {},
   "outputs": [],
   "source": [
    "# implementing tf-idf"
   ]
  },
  {
   "cell_type": "code",
   "execution_count": 49,
   "metadata": {},
   "outputs": [],
   "source": [
    "from sklearn.feature_extraction.text import TfidfVectorizer"
   ]
  },
  {
   "cell_type": "code",
   "execution_count": 50,
   "metadata": {},
   "outputs": [],
   "source": [
    "tfidf = TfidfVectorizer(\n",
    "    min_df=1, max_features=1600, strip_accents='unicode',lowercase =True,\n",
    "    analyzer='word', token_pattern=r'\\w+', ngram_range=(1, 3), use_idf=True, \n",
    "    smooth_idf=True, sublinear_tf=True, stop_words = 'english')\n",
    "#class_8_9_tfidf_train_array = tfidf.fit_transform(X_class_8_9['cleaned_text']).toarray()"
   ]
  },
  {
   "cell_type": "code",
   "execution_count": 51,
   "metadata": {},
   "outputs": [],
   "source": [
    "# https://melaniewalsh.github.io/Intro-Cultural-Analytics/05-Text-Analysis/03-TF-IDF-Scikit-Learn.html\n",
    "# https://www.datacamp.com/community/tutorials/understanding-logistic-regression-python\n",
    "# https://machinelearningmastery.com/multinomial-logistic-regression-with-python/"
   ]
  },
  {
   "cell_type": "code",
   "execution_count": 52,
   "metadata": {},
   "outputs": [],
   "source": [
    "from sklearn.linear_model import LogisticRegression"
   ]
  },
  {
   "cell_type": "code",
   "execution_count": 53,
   "metadata": {},
   "outputs": [],
   "source": [
    "from sklearn.metrics import log_loss"
   ]
  },
  {
   "cell_type": "code",
   "execution_count": 90,
   "metadata": {},
   "outputs": [],
   "source": [
    "# define the multinomial logistic regression model\n",
    "bow_model = LogisticRegression(multi_class='multinomial', solver='lbfgs')\n",
    "tfidf_model = LogisticRegression(multi_class='multinomial', solver='lbfgs')"
   ]
  },
  {
   "cell_type": "code",
   "execution_count": 55,
   "metadata": {},
   "outputs": [],
   "source": [
    "#bow_model.fit(class_8_9_bag_of_words_train_array,y_class_8_9)\n",
    "#tfidf_model.fit(class_8_9_tfidf_train_array,y_class_8_9)"
   ]
  },
  {
   "cell_type": "code",
   "execution_count": 56,
   "metadata": {},
   "outputs": [],
   "source": [
    "#sorted(bow_model.coef_.tolist()[0])[:5]"
   ]
  },
  {
   "cell_type": "code",
   "execution_count": 57,
   "metadata": {},
   "outputs": [],
   "source": [
    "#sorted(tfidf_model.coef_.tolist()[0])[:5]"
   ]
  },
  {
   "cell_type": "code",
   "execution_count": 58,
   "metadata": {},
   "outputs": [],
   "source": [
    "# dummy y values for getting the baseline model "
   ]
  },
  {
   "cell_type": "code",
   "execution_count": 59,
   "metadata": {},
   "outputs": [],
   "source": [
    "dummy_y=pd.Series(np.full(56,8))"
   ]
  },
  {
   "cell_type": "code",
   "execution_count": 60,
   "metadata": {},
   "outputs": [],
   "source": [
    "# get the baseline loss score "
   ]
  },
  {
   "cell_type": "code",
   "execution_count": 61,
   "metadata": {},
   "outputs": [],
   "source": [
    "#log_loss(y_class_8_9,dummy_y)"
   ]
  },
  {
   "cell_type": "code",
   "execution_count": 62,
   "metadata": {},
   "outputs": [],
   "source": [
    "# using the logistic regression models"
   ]
  },
  {
   "cell_type": "code",
   "execution_count": 63,
   "metadata": {},
   "outputs": [],
   "source": [
    "# bow_log_reg prediction"
   ]
  },
  {
   "cell_type": "code",
   "execution_count": 64,
   "metadata": {},
   "outputs": [],
   "source": [
    "#y_pred_tfidf_model = tfidf_model.predict_proba(class_8_9_tfidf_train_array)"
   ]
  },
  {
   "cell_type": "code",
   "execution_count": 65,
   "metadata": {},
   "outputs": [],
   "source": [
    "#log_loss(y_class_8_9,y_pred_tfidf_model)"
   ]
  },
  {
   "cell_type": "markdown",
   "metadata": {},
   "source": [
    "<a id=\"train_data\" style=\"font-size:22px\">model train text sample data</a>"
   ]
  },
  {
   "cell_type": "markdown",
   "metadata": {},
   "source": [
    "[Beginning of Notebook](#top)"
   ]
  },
  {
   "cell_type": "markdown",
   "metadata": {},
   "source": [
    "### handling the train text sample data                  "
   ]
  },
  {
   "cell_type": "markdown",
   "metadata": {},
   "source": [
    "#### text preprocessing"
   ]
  },
  {
   "cell_type": "code",
   "execution_count": 66,
   "metadata": {},
   "outputs": [
    {
     "data": {
      "text/html": [
       "<div>\n",
       "<style scoped>\n",
       "    .dataframe tbody tr th:only-of-type {\n",
       "        vertical-align: middle;\n",
       "    }\n",
       "\n",
       "    .dataframe tbody tr th {\n",
       "        vertical-align: top;\n",
       "    }\n",
       "\n",
       "    .dataframe thead th {\n",
       "        text-align: right;\n",
       "    }\n",
       "</style>\n",
       "<table border=\"1\" class=\"dataframe\">\n",
       "  <thead>\n",
       "    <tr style=\"text-align: right;\">\n",
       "      <th></th>\n",
       "      <th>ID</th>\n",
       "      <th>Gene</th>\n",
       "      <th>Variation</th>\n",
       "      <th>Class</th>\n",
       "      <th>Text</th>\n",
       "    </tr>\n",
       "  </thead>\n",
       "  <tbody>\n",
       "    <tr>\n",
       "      <th>1471</th>\n",
       "      <td>1471</td>\n",
       "      <td>FGFR2</td>\n",
       "      <td>N549K</td>\n",
       "      <td>7</td>\n",
       "      <td>We sought to identify fibroblast growth factor...</td>\n",
       "    </tr>\n",
       "    <tr>\n",
       "      <th>1303</th>\n",
       "      <td>1303</td>\n",
       "      <td>MLH1</td>\n",
       "      <td>M587V</td>\n",
       "      <td>6</td>\n",
       "      <td>In hereditary nonpolyposis colorectal cancer (...</td>\n",
       "    </tr>\n",
       "    <tr>\n",
       "      <th>2993</th>\n",
       "      <td>2993</td>\n",
       "      <td>KIT</td>\n",
       "      <td>S501_A502dup</td>\n",
       "      <td>7</td>\n",
       "      <td>Objective:  Most patients with systemic mastoc...</td>\n",
       "    </tr>\n",
       "    <tr>\n",
       "      <th>365</th>\n",
       "      <td>365</td>\n",
       "      <td>EPAS1</td>\n",
       "      <td>A530T</td>\n",
       "      <td>2</td>\n",
       "      <td>Hypoxia inducible factors (HIFs) are transcrip...</td>\n",
       "    </tr>\n",
       "    <tr>\n",
       "      <th>1835</th>\n",
       "      <td>1835</td>\n",
       "      <td>PPP2R1A</td>\n",
       "      <td>P179L</td>\n",
       "      <td>1</td>\n",
       "      <td>Protein Phosphatase 2A (PP2A) plays an essenti...</td>\n",
       "    </tr>\n",
       "  </tbody>\n",
       "</table>\n",
       "</div>"
      ],
      "text/plain": [
       "        ID     Gene     Variation  Class  \\\n",
       "1471  1471    FGFR2         N549K      7   \n",
       "1303  1303     MLH1         M587V      6   \n",
       "2993  2993      KIT  S501_A502dup      7   \n",
       "365    365    EPAS1         A530T      2   \n",
       "1835  1835  PPP2R1A         P179L      1   \n",
       "\n",
       "                                                   Text  \n",
       "1471  We sought to identify fibroblast growth factor...  \n",
       "1303  In hereditary nonpolyposis colorectal cancer (...  \n",
       "2993  Objective:  Most patients with systemic mastoc...  \n",
       "365   Hypoxia inducible factors (HIFs) are transcrip...  \n",
       "1835  Protein Phosphatase 2A (PP2A) plays an essenti...  "
      ]
     },
     "execution_count": 66,
     "metadata": {},
     "output_type": "execute_result"
    }
   ],
   "source": [
    "train_df.head()"
   ]
  },
  {
   "cell_type": "code",
   "execution_count": 67,
   "metadata": {},
   "outputs": [],
   "source": [
    "# remove punctuation\n",
    "train_df['cleaned_text'] = train_df['Text'].map(cleanse_data,na_action='ignore')"
   ]
  },
  {
   "cell_type": "code",
   "execution_count": 68,
   "metadata": {},
   "outputs": [],
   "source": [
    "# filtering all common english words\n",
    "train_df['cleaned_text'] = train_df['cleaned_text'].map(reduce_words,na_action='ignore')"
   ]
  },
  {
   "cell_type": "code",
   "execution_count": 69,
   "metadata": {},
   "outputs": [],
   "source": [
    "train_df['Text_len'] = train_df['Text'].map(lambda x:len(str(x)))\n",
    "train_df['cleaned_text_len'] = train_df['cleaned_text'].map(lambda x:len(str(x)))"
   ]
  },
  {
   "cell_type": "code",
   "execution_count": 70,
   "metadata": {},
   "outputs": [
    {
     "data": {
      "text/html": [
       "<div>\n",
       "<style scoped>\n",
       "    .dataframe tbody tr th:only-of-type {\n",
       "        vertical-align: middle;\n",
       "    }\n",
       "\n",
       "    .dataframe tbody tr th {\n",
       "        vertical-align: top;\n",
       "    }\n",
       "\n",
       "    .dataframe thead th {\n",
       "        text-align: right;\n",
       "    }\n",
       "</style>\n",
       "<table border=\"1\" class=\"dataframe\">\n",
       "  <thead>\n",
       "    <tr style=\"text-align: right;\">\n",
       "      <th></th>\n",
       "      <th>ID</th>\n",
       "      <th>Gene</th>\n",
       "      <th>Variation</th>\n",
       "      <th>Class</th>\n",
       "      <th>Text</th>\n",
       "      <th>cleaned_text</th>\n",
       "      <th>Text_len</th>\n",
       "      <th>cleaned_text_len</th>\n",
       "    </tr>\n",
       "  </thead>\n",
       "  <tbody>\n",
       "    <tr>\n",
       "      <th>1471</th>\n",
       "      <td>1471</td>\n",
       "      <td>FGFR2</td>\n",
       "      <td>N549K</td>\n",
       "      <td>7</td>\n",
       "      <td>We sought to identify fibroblast growth factor...</td>\n",
       "      <td>We 2 FGFR2 mutations confer pan-FGFR dovitinib...</td>\n",
       "      <td>96612</td>\n",
       "      <td>43485</td>\n",
       "    </tr>\n",
       "    <tr>\n",
       "      <th>1303</th>\n",
       "      <td>1303</td>\n",
       "      <td>MLH1</td>\n",
       "      <td>M587V</td>\n",
       "      <td>6</td>\n",
       "      <td>In hereditary nonpolyposis colorectal cancer (...</td>\n",
       "      <td>In nonpolyposis colorectal HNPCC patients MMR ...</td>\n",
       "      <td>11299</td>\n",
       "      <td>5239</td>\n",
       "    </tr>\n",
       "    <tr>\n",
       "      <th>2993</th>\n",
       "      <td>2993</td>\n",
       "      <td>KIT</td>\n",
       "      <td>S501_A502dup</td>\n",
       "      <td>7</td>\n",
       "      <td>Objective:  Most patients with systemic mastoc...</td>\n",
       "      <td>Objective Most patients mastocytosis mutations...</td>\n",
       "      <td>14516</td>\n",
       "      <td>6250</td>\n",
       "    </tr>\n",
       "    <tr>\n",
       "      <th>365</th>\n",
       "      <td>365</td>\n",
       "      <td>EPAS1</td>\n",
       "      <td>A530T</td>\n",
       "      <td>2</td>\n",
       "      <td>Hypoxia inducible factors (HIFs) are transcrip...</td>\n",
       "      <td>Hypoxia factors HIFs factors controlling dysre...</td>\n",
       "      <td>38572</td>\n",
       "      <td>16233</td>\n",
       "    </tr>\n",
       "    <tr>\n",
       "      <th>1835</th>\n",
       "      <td>1835</td>\n",
       "      <td>PPP2R1A</td>\n",
       "      <td>P179L</td>\n",
       "      <td>1</td>\n",
       "      <td>Protein Phosphatase 2A (PP2A) plays an essenti...</td>\n",
       "      <td>Protein Phosphatase 2A PP2A plays aspects PP2A...</td>\n",
       "      <td>78760</td>\n",
       "      <td>32522</td>\n",
       "    </tr>\n",
       "  </tbody>\n",
       "</table>\n",
       "</div>"
      ],
      "text/plain": [
       "        ID     Gene     Variation  Class  \\\n",
       "1471  1471    FGFR2         N549K      7   \n",
       "1303  1303     MLH1         M587V      6   \n",
       "2993  2993      KIT  S501_A502dup      7   \n",
       "365    365    EPAS1         A530T      2   \n",
       "1835  1835  PPP2R1A         P179L      1   \n",
       "\n",
       "                                                   Text  \\\n",
       "1471  We sought to identify fibroblast growth factor...   \n",
       "1303  In hereditary nonpolyposis colorectal cancer (...   \n",
       "2993  Objective:  Most patients with systemic mastoc...   \n",
       "365   Hypoxia inducible factors (HIFs) are transcrip...   \n",
       "1835  Protein Phosphatase 2A (PP2A) plays an essenti...   \n",
       "\n",
       "                                           cleaned_text  Text_len  \\\n",
       "1471  We 2 FGFR2 mutations confer pan-FGFR dovitinib...     96612   \n",
       "1303  In nonpolyposis colorectal HNPCC patients MMR ...     11299   \n",
       "2993  Objective Most patients mastocytosis mutations...     14516   \n",
       "365   Hypoxia factors HIFs factors controlling dysre...     38572   \n",
       "1835  Protein Phosphatase 2A PP2A plays aspects PP2A...     78760   \n",
       "\n",
       "      cleaned_text_len  \n",
       "1471             43485  \n",
       "1303              5239  \n",
       "2993              6250  \n",
       "365              16233  \n",
       "1835             32522  "
      ]
     },
     "execution_count": 70,
     "metadata": {},
     "output_type": "execute_result"
    }
   ],
   "source": [
    "train_df.head()"
   ]
  },
  {
   "cell_type": "code",
   "execution_count": 71,
   "metadata": {},
   "outputs": [
    {
     "data": {
      "text/html": [
       "<div>\n",
       "<style scoped>\n",
       "    .dataframe tbody tr th:only-of-type {\n",
       "        vertical-align: middle;\n",
       "    }\n",
       "\n",
       "    .dataframe tbody tr th {\n",
       "        vertical-align: top;\n",
       "    }\n",
       "\n",
       "    .dataframe thead th {\n",
       "        text-align: right;\n",
       "    }\n",
       "</style>\n",
       "<table border=\"1\" class=\"dataframe\">\n",
       "  <thead>\n",
       "    <tr style=\"text-align: right;\">\n",
       "      <th></th>\n",
       "      <th>ID</th>\n",
       "      <th>Gene</th>\n",
       "      <th>Variation</th>\n",
       "      <th>Class</th>\n",
       "      <th>Text</th>\n",
       "      <th>cleaned_text</th>\n",
       "      <th>Text_len</th>\n",
       "      <th>cleaned_text_len</th>\n",
       "    </tr>\n",
       "  </thead>\n",
       "  <tbody>\n",
       "  </tbody>\n",
       "</table>\n",
       "</div>"
      ],
      "text/plain": [
       "Empty DataFrame\n",
       "Columns: [ID, Gene, Variation, Class, Text, cleaned_text, Text_len, cleaned_text_len]\n",
       "Index: []"
      ]
     },
     "execution_count": 71,
     "metadata": {},
     "output_type": "execute_result"
    }
   ],
   "source": [
    "train_df[train_df['cleaned_text'].map(lambda x:not isinstance(x,str))]"
   ]
  },
  {
   "cell_type": "code",
   "execution_count": 73,
   "metadata": {},
   "outputs": [],
   "source": [
    "#train_df.drop([1639],axis=0,inplace=True)"
   ]
  },
  {
   "cell_type": "markdown",
   "metadata": {},
   "source": [
    "#### converting text to numbers"
   ]
  },
  {
   "cell_type": "code",
   "execution_count": 74,
   "metadata": {},
   "outputs": [],
   "source": [
    "train_df_corpus = train_df['cleaned_text'].tolist()"
   ]
  },
  {
   "cell_type": "code",
   "execution_count": 75,
   "metadata": {},
   "outputs": [
    {
     "data": {
      "text/plain": [
       "CountVectorizer(max_features=1600, stop_words='english')"
      ]
     },
     "execution_count": 75,
     "metadata": {},
     "output_type": "execute_result"
    }
   ],
   "source": [
    "vectorizer.fit(train_df_corpus)"
   ]
  },
  {
   "cell_type": "code",
   "execution_count": 76,
   "metadata": {},
   "outputs": [],
   "source": [
    "train_df_counts= vectorizer.transform(train_df_corpus)"
   ]
  },
  {
   "cell_type": "code",
   "execution_count": 77,
   "metadata": {},
   "outputs": [
    {
     "name": "stdout",
     "output_type": "stream",
     "text": [
      "Vocabulary:  {'fgfr2': 662, 'mutations': 1029, 'confer': 429, 'pan': 1117, 'fgfr': 660, 'dovitinib': 559, 'drug': 566, 'resistant': 1301, 'baf3': 298, 'cells': 377, 'overexpressing': 1102, 'concentrations': 425, 'identified': 796, '14': 38, 'including': 827, 'observed': 1078, '25': 86, 'cancers': 351, 'structural': 1429, 'vitro': 1564, 'assays': 286, 'showed': 1371, 'lines': 920, 'cross': 470, 'resistance': 1300, 'ponatinib': 1179, 'inhibited': 842, 'mutants': 1026, 'targets': 1465, 'expressing': 639, 'wild': 1573, 'type': 1525, 'inhibitors': 846, 'mutated': 1027, 'suggests': 1443, 'mechanisms': 966, 'finally': 670, 'overexpression': 1103, 'conferred': 430, 'fold': 680, 'inhibiting': 843, 'tumors': 1522, 'harboring': 750, 'activated': 206, 'treated': 1509, '2013': 78, '15': 39, 'egfr': 583, 'rtk': 1331, 'site': 1385, 'directed': 538, 'mutagenesis': 1024, 'institute': 853, 'university': 1535, 'technology': 1469, '60': 147, 'department': 513, 'molecular': 1008, 'new': 1041, 'medicine': 970, 'supported': 1450, 'cancer': 350, 'pf': 1144, '07': 12, '01': 5, 'national': 1033, 'nih': 1048, 'mm': 1002, '100': 16, 'women': 1577, 'medical': 969, 'research': 1297, 'materials': 957, 'table': 1458, 'figures': 669, 'online': 1094, '12': 29, '2012': 77, '30': 100, 'doi': 552, 'number': 1075, 'introduction': 863, 'signaling': 1377, 'amplifications': 245, 'translocations': 1507, 'gain': 703, 'function': 694, 'contributes': 446, 'reviewed': 1314, 'tumor': 1519, 'types': 1526, 'aberrations': 194, 'fgfr1': 661, 'fgfr3': 663, 'vivo': 1565, 'studies': 1432, 'indicated': 832, 'dependent': 514, 'anti': 254, 'kinase': 888, 'developed': 526, 'agents': 221, 'results': 1307, 'atp': 290, 'competitive': 420, 'tki': 1489, 'receptors': 1265, 'pdgfrb': 1138, 'kit': 890, 'flt3': 678, 'models': 1005, 'characterized': 387, '49': 127, 'demonstrated': 510, 'trials': 1512, 'responses': 1304, 'patients': 1126, 'ii': 803, 'malignancies': 946, 'clinical': 401, 'carcinomas': 353, 'wt': 1579, 'despite': 522, 'responders': 1302, 'detected': 524, 'notably': 1057, 'bcr': 309, 'abl': 196, 'imatinib': 810, 't790m': 1456, 'occurs': 1083, '50': 133, 'erlotinib': 608, 'gefitinib': 710, 'represents': 1293, '18': 45, '20': 63, 'substitutions': 1437, 'residues': 1299, 'larger': 904, 'binding': 315, 'bonds': 326, '21': 82, 'interactions': 859, 'kinases': 889, '22': 83, 'second': 1355, 'generation': 714, 'nilotinib': 1050, 'dasatinib': 493, '23': 84, 'structure': 1430, 'based': 303, '24': 85, 'indicating': 834, 'et': 614, 'rtks': 1332, 'non': 1053, 'receptor': 1264, 'colonies': 413, 'pdgfra': 1137, 'met': 985, 'jak2': 878, '27': 89, '32': 103, 'examined': 624, 'importantly': 822, 'line': 919, 'treatment': 1510, 'levels': 911, 'methods': 987, 'cell': 376, 'described': 521, '33': 104, 'obtained': 1079, 'months': 1013, 'performed': 1142, 'purchased': 1236, 'germany': 722, 'cultures': 480, 'united': 1533, 'dr': 563, 'st': 1415, 'md': 961, 'center': 378, 'recombinant': 1267, 'il': 806, 'systems': 1455, 'phospho': 1151, 'cruz': 472, 'biotechnology': 321, 'fisher': 673, 'tubulin': 1518, 'sigma': 1375, 'aldrich': 228, 'antibodies': 255, 'biosciences': 319, 'transduced': 1499, 'plasmid': 1167, 'dna': 550, 'using': 1539, 'μgml': 1596, 'g418': 702, 'reported': 1288, '34': 105, '105': 22, '96': 187, 'plates': 1169, 'supplemented': 1449, 'nm': 1051, '10': 15, 'ic50': 793, '200': 64, '300': 101, '2000': 65, 'genomic': 719, 'amplified': 246, 'pairs': 1116, 'sequenced': 1363, 'sequencing': 1365, 'primers': 1198, 'polymerase': 1177, 'amino': 242, 'isoform': 872, 'introduced': 862, 'length': 907, '35': 106, 'briefly': 340, 'ng': 1044, 'xl': 1583, 'agilent': 222, 'technologies': 1468, 'ca': 347, 'qiagen': 1240, 'positive': 1184, 'clones': 403, 'coding': 409, 'plasmids': 1168, 'manufacturer': 947, 'instructions': 855, 'containing': 444, 'ngml': 1045, 'proliferation': 1214, 'weeks': 1570, 'mutant': 1025, 'lentiviral': 908, 'encoding': 593, 'analysis': 248, 'half': 748, 'log': 928, 'μm': 1598, '72': 162, 'hours': 784, 'values': 1547, 'normalized': 1056, 'dmso': 549, 'generated': 713, 'prism': 1199, 'software': 1400, 'experiments': 636, 'assayed': 285, 'differences': 533, 'presented': 1195, 'transfected': 1500, 'following': 683, 'assay': 284, 'life': 913, 'phosphorylation': 1156, 'response': 1303, 'ligand': 914, 'resuspended': 1308, 'μl': 1597, '16': 41, '75': 165, 'minutes': 996, '1000': 17, 'tris': 1513, 'hcl': 755, 'ph': 1146, '74': 164, '150': 40, 'nacl': 1032, 'bio': 317, 'μg': 1595, 'polyacrylamide': 1175, 'sds': 1354, 'page': 1115, 'incubated': 830, 'membranes': 983, 'inhibition': 844, 'ml': 999, 'free': 692, '001': 3, '90': 181, '37': 108, 'lysates': 939, 'processed': 1207, 'loop': 931, 'phosphorylated': 1155, 'pdb': 1134, 'id': 794, '36': 107, 'similarly': 1382, '38': 109, 'analyzed': 249, '39': 110, '40': 117, '41': 119, '42': 120, 'protein': 1223, 'expression': 640, 'cdna': 373, 'subcloned': 1434, 'nh2': 1046, 'stratagene': 1427, 'transformed': 1503, 'constructs': 441, 'lysed': 940, 'proteins': 1224, 'purified': 1237, 'published': 1235, 'tagged': 1461, 'consisting': 438, 'corresponds': 456, 'terminal': 1472, 'contains': 445, 'sites': 1386, '05': 9, 'mgml': 991, 'reactions': 1256, 'points': 1174, 'edta': 577, 'followed': 682, 'quantified': 1241, 'time': 1484, 'comparing': 417, 'signals': 1379, 'peptides': 1141, '43': 121, 'ratios': 1251, '102': 19, '11': 26, '110': 27, 'monitored': 1011, '73': 163, 'groups': 735, '63': 151, '26': 88, 'increased': 828, '13': 35, '19': 47, '68': 156, '67': 155, 'acids': 204, 'figure': 667, '1a': 57, 'harbored': 749, 'mutation': 1028, 'screens': 1352, 'activating': 208, 'contacts': 442, 'fgf': 658, '44': 122, '45': 123, 'activates': 207, '51': 135, 'codons': 410, '1b': 58, 'mapped': 952, '1c': 59, 'increases': 829, 'created': 467, 'locations': 927, 'western': 1571, 'shows': 1372, 'remaining': 1285, 'specifically': 1408, 'furthermore': 697, 'proposed': 1222, 'activity': 211, 'domains': 554, 'confers': 431, 'targeting': 1464, 'labeled': 897, 'activities': 210, 'compared': 416, '3a': 111, 'exhibited': 628, 'phosphorylate': 1154, 'demonstrating': 512, 'activation': 209, 'independent': 831, 'panels': 1118, 'iii': 804, 'estimated': 613, 'stimulated': 1425, 'separated': 1360, 'probed': 1204, '3b': 112, 'findings': 671, 'autophosphorylation': 294, '3c': 113, 'er': 601, 'taken': 1462, '4a': 128, 'caused': 360, 'interestingly': 861, 'provides': 1226, '4b': 129, 'required': 1294, 'hypothesized': 791, 'acid': 203, 'inhibitor': 845, 'sensitive': 1359, 'changes': 385, 'similar': 1381, 'discussion': 541, 'given': 727, 'investigated': 866, 'identification': 795, 'tkis': 1490, 'suggested': 1442, 'forms': 686, 'vegfr': 1557, '130': 36, '58': 142, '71': 161, '104': 21, '29': 92, '52': 136, 'conformations': 433, 'conserved': 436, 'members': 982, 'conversely': 450, 'gist': 725, 'altered': 239, 'expected': 634, '400': 118, '62': 150, 'doses': 557, 'pdgfr': 1136, '53': 137, 'institutional': 854, 'translated': 1506, 'previous': 1196, '54': 138, 'appears': 263, 'controls': 449, 'heterodimerization': 769, 'blots': 325, 'ev': 618, 'inhibits': 847, 'lanes': 901, 'vs': 1566, '250': 87, 'dimers': 536, 'resulted': 1306, 'markers': 954, 'andor': 251, 'states': 1423, 'cases': 357, 'germline': 723, 'samples': 1342, 'therapies': 1480, 'keywords': 886, 'diagnosed': 531, 'predicted': 1192, '2006': 71, 'ligands': 915, 'transmembrane': 1508, 'isoforms': 873, '2001': 66, 'processes': 1208, 'tumorigenesis': 1520, 'patterns': 1127, 'iiib': 805, '2004': 69, '2005': 70, 'encoded': 591, 'tissue': 1485, 'specific': 1407, 'syndromes': 1453, 'disorders': 544, '1999': 56, 'implicated': 820, 'recent': 1262, '2007': 72, 'somatic': 1401, 'cosmic': 459, 'genome': 718, 'variants': 1550, 'nucleotides': 1073, 'reports': 1289, 'exons': 633, 'representing': 1292, 'stages': 1417, 'subtypes': 1440, 'supplementary': 1448, 'details': 523, '17': 44, 'encompassing': 594, 'referred': 1272, 'bp': 329, 'microsatellite': 995, 'msi': 1020, 'occurred': 1080, 'missense': 997, 'schematic': 1347, 'characteristics': 386, 'summarized': 1444, '2002': 67, '1997': 54, '1994': 51, 'roles': 1326, 'functional': 695, 'juxtamembrane': 880, 'individuals': 835, 'features': 655, '95': 186, 'mediated': 967, 'downregulation': 562, 'cho': 392, 'positions': 1183, 'structures': 1431, '2a': 95, 'mapk': 951, 'pi3k': 1160, 'pathways': 1124, 'binds': 316, 'includes': 826, 'alleles': 233, 'disease': 542, 'cisplatin': 397, 'oncogenic': 1092, 'enzymes': 599, '3t3': 115, 'oncogene': 1089, 'tyrosine': 1528, 'deregulated': 518, 'examples': 625, 'erbb2': 602, 'small': 1395, 'involving': 869, 'documented': 551, 'germ': 721, 'intron': 864, 'mrna': 1017, 'like': 917, 'genes': 715, '28': 90, 'associated': 287, '89': 179, 'oncogenes': 1090, 'genotyping': 720, 'matched': 955, 'kras': 893, 'ctnnb1': 477, 'pik3ca': 1162, 'pten': 1232, 'tp53': 1494, 'frequencies': 693, 'fig': 665, 's1': 1335, 'vhl': 1560, 's2': 1336, 's3': 1337, '123': 32, '46': 124, 'glioblastoma': 728, 'regulating': 1278, 'fibroblasts': 664, 'inactivating': 825, 'pooled': 1180, 'anchorage': 250, '2b': 96, 'accompanied': 201, 'derived': 520, 'supports': 1451, 'dead': 500, 'survival': 1452, 'shrna': 1373, 's4': 1338, '31': 102, 'alterations': 238, 'ras': 1249, 'pathway': 1123, 'noonan': 1054, 'occurring': 1082, 'polymorphisms': 1178, 'molecule': 1009, 'related': 1282, 'specimens': 1409, 'needed': 1036, '80': 171, 'blood': 324, 'snp': 1398, 'approved': 267, 'data': 494, 'primary': 1197, 'pcr': 1132, 'intronic': 865, 'sequences': 1364, 'contained': 443, '08': 13, '02': 6, 'units': 1534, 'parameters': 1120, 'cycles': 483, 'products': 1210, 'fragments': 689, 'abi': 195, 'applied': 265, 'biosystems': 320, 'ma': 943, 'snps': 1399, 'called': 349, '99': 190, 'computed': 424, 'reads': 1257, '56': 140, '03': 7, '94': 185, 'culture': 479, 'maintained': 944, 'dmem': 548, 'rpmi': 1328, '1640': 43, 'fbs': 652, 'invitrogen': 867, 'oligonucleotide': 1087, 'transfection': 1501, 'vectors': 1555, '293t': 94, 'lipofectamine': 923, 'puromycin': 1238, 'gfp': 724, 'rnai': 1323, 'polyclonal': 1176, 'laboratories': 898, 'actin': 205, 'sc': 1344, 'roche': 1325, 'science': 1348, 'growth': 736, '04': 8, 'counted': 461, 'immunoblotting': 812, 'gels': 711, 'colorectal': 414, 'mmr': 1004, 'mlh1': 1000, 'hypermethylation': 790, 'defects': 502, 'msh2': 1018, 'msh6': 1019, 'truncating': 1514, 'hmlh1': 777, 'resected': 1298, 'hospital': 781, 'follows': 684, 'mmoll': 1003, 'molecules': 1010, '70': 160, '55': 139, '59': 143, 'stained': 1418, 'antisense': 256, 'gc': 707, 'usa': 1538, 'evaluated': 619, 'regions': 1275, 'nd': 1035, 'frameshift': 691, 'total': 1493, 'options': 1097, '2c': 97, 'nucleotide': 1072, 'effect': 578, 'family': 648, 'silencing': 1380, 'deletions': 509, 'patient': 1125, 'conclusions': 426, 'indicates': 833, 'localized': 925, 'drugs': 567, 'encodes': 592, 'scf': 1346, 'blocks': 323, '66': 154, 'old': 1085, 'serum': 1367, 'apc': 259, 'rna': 1322, 'synthesized': 1454, 'cos': 457, 'pcdna3': 1131, '48': 126, 'measurements': 965, 'cytometry': 487, 'highlighted': 773, 'immunohistochemical': 814, 'elements': 585, 'rt': 1330, 'modified': 1007, '65': 153, 'decreased': 501, 'figs': 666, 'baseline': 304, 'tolerated': 1492, 'pre': 1191, 'mg': 989, '64': 152, '106': 23, '124': 33, 'nmoll': 1052, 'open': 1096, 'sequence': 1362, 'post': 1185, 'cd': 366, 'starved': 1419, 'conducted': 428, '1e': 61, 'remained': 1284, 'induced': 836, 'located': 926, 'children': 390, 'negative': 1037, 'responsive': 1305, 'having': 752, 'cohorts': 411, 'factors': 645, 'regulators': 1280, 'hif': 771, 'inducible': 838, 'subunits': 1441, 'conditions': 427, 'allowing': 236, 'apoptosis': 260, 'drivers': 565, 'abnormalities': 197, 'ubiquitination': 1530, 'upregulated': 1536, 'phenotypes': 1148, 'initiated': 848, 'year': 1586, 'years': 1587, 'ct': 475, 'age': 220, 'cm': 406, 'sets': 1368, 'ha': 747, 'verified': 1559, 'promega': 1216, 'beads': 311, 'hr': 786, 'bound': 327, 'real': 1258, 'regulation': 1279, 'regulated': 1276, 'alignments': 230, '1d': 60, 'consistent': 437, '91': 182, 'e3': 571, 'ligase': 916, '2d': 98, 'spots': 1411, 'functions': 696, 'leads': 906, 'induces': 837, 'homolog': 780, 'recently': 1263, 'gene': 712, 'rearrangements': 1260, 'neoplasms': 1038, 'section': 1356, 'affects': 218, 'carriers': 356, 'ret': 1309, 'nf1': 1043, 'follow': 681, 'domain': 553, 'frame': 690, 'pro': 1200, 'ala': 226, 'yes': 1588, '78': 169, 'exome': 630, 'high': 772, '47': 125, 'allele': 232, 'material': 956, 'limits': 918, 'reveals': 1313, 'clusters': 405, 'heat': 759, 'represented': 1291, 'view': 1561, 'rapamycin': 1248, 'probes': 1205, 'means': 964, 'explained': 637, 'developing': 527, 'overall': 1100, 'asp': 280, 'hotspots': 783, 'diseases': 543, 'helix': 765, 'numbers': 1076, 'stat3': 1420, 'plays': 1171, 'gliomas': 729, 'pp2a': 1187, 'aspects': 283, 'holoenzyme': 779, 'consists': 439, 'interacts': 860, 'conformational': 432, 'controlled': 448, 'dephosphorylation': 516, '1995': 52, 'cycle': 482, 'kda': 884, 'substrates': 1439, 'tissues': 1486, '2003': 68, 'wang': 1569, '1998': 55, 'γ1': 1593, 'loss': 933, 'repeats': 1286, 'interacting': 858, '1992': 49, 'observations': 1077, 'aα': 295, 'cα': 488, 'implications': 821, 'methylated': 988, 'crystals': 473, 'single': 1383, 'components': 422, 'atoms': 289, 'copies': 452, 'additionally': 215, 'allowed': 235, 'double': 558, 'discussed': 540, 'earlier': 573, '4e': 132, '1991': 48, 'motifs': 1014, 'makes': 945, 'areas': 271, 'enriched': 598, 'charged': 388, 'note': 1060, '1993': 50, 'catenin': 359, 'scores': 1350, '09': 14, 'humans': 789, 'cerevisiae': 379, 'mediates': 968, 'involves': 868, 'chains': 383, 'additional': 214, '4c': 130, '4d': 131, '107': 24, 'p53s': 1111, 'li': 912, 'abolished': 198, 'carboxy': 352, '5a': 144, 'comparison': 418, '5b': 145, '5c': 146, 'changed': 384, '6a': 158, 'complexes': 421, '79': 170, '6b': 159, 'retained': 1310, 'fractions': 688, 'visualized': 1563, '06': 10, 'epitope': 600, 'failed': 646, 'appeared': 262, 'glu': 730, 'families': 647, 'references': 1271, 'deregulation': 519, 'promotes': 1219, 'pp6': 1188, 'deletion': 508, 'wnt': 1576, 'signalling': 1378, 'erk': 606, 'akt': 223, 'cyclin': 484, 'mdm2': 962, 'p53': 1110, 'refs': 1273, 'tumour': 1523, 'loops': 932, 'regulates': 1277, 'tau': 1466, 'bα': 344, 'substrate': 1438, 'kd': 883, '1996': 53, 'causes': 361, 'depends': 515, 'overexpressed': 1101, 'gsk': 737, '3β': 116, 'gst': 738, 'mapping': 953, 'm2': 942, 'varying': 1552, '2008': 73, 'improved': 823, 'allows': 237, 'slide': 1388, 'recognized': 1266, 'terms': 1474, 'experimental': 635, 'procedures': 1206, 'cloning': 404, 'his6': 774, 'protocols': 1225, 'c2': 346, '121': 31, 'dataset': 496, 'modifications': 1006, '293': 93, 'core': 454, 'genetic': 716, 'brca1': 333, '117': 28, 'brct': 336, 'phosphopeptide': 1153, 'pser': 1229, 'early': 574, 'author': 292, 'na': 1031, 'manuscript': 949, 'res': 1296, 'pmc': 1172, '2011': 76, '2010': 75, 'pa': 1114, 'unfortunately': 1532, '1863': 46, 'events': 620, 'helicase': 764, 'bach1': 297, 'cooh': 451, 'p21': 1108, 'ring': 1319, 'bard1': 301, 'ubiquitin': 1529, 'strand': 1426, 'consequences': 435, 'agarose': 219, 'm1775r': 941, 'a1708e': 191, 'bands': 299, 'amersham': 241, 'hek293t': 762, 'manufacturers': 948, 'cotransfected': 460, 'gal4': 704, 'tk': 1487, 'harvested': 751, 'luciferase': 935, 'align': 229, 'gvgd': 741, 'class': 398, 'sources': 1404, 'cosegregation': 458, 'pedigrees': 1140, 'iarc': 792, 'efforts': 580, 'breast': 339, 'information': 840, 'database': 495, 'cloned': 402, 'rates': 1250, '61': 149, 'thr': 1481, 'deficient': 504, 'wildtype': 1574, 'transactivation': 1496, 'colleagues': 412, 'v1736a': 1541, '76': 166, 'low': 934, 'predictions': 1194, 'probabilities': 1201, 'exists': 629, 'throughput': 1482, 'group': 734, 'validated': 1545, 'large': 903, 'scale': 1345, 'foxo1': 687, 'p300': 1109, 'pi3kakt': 1161, 'insulin': 856, 'mll': 1001, 'box': 328, 'h3': 743, 'promoters': 1218, 'apoptotic': 261, 'bim': 314, 'cis': 396, 'approaches': 266, 'download': 560, 'figureopen': 668, 'tabdownload': 1457, 'powerpoint': 1186, 'profiling': 1212, 'factor': 644, 'inducing': 839, 'd1': 489, 'g1': 701, 'diminished': 537, 'promoting': 1220, 'bcl': 307, 'lacking': 899, 'deleted': 506, 'rb': 1252, 'tgf': 1479, 'smad': 1390, 'phase': 1147, 'requires': 1295, 'promoted': 1217, 'enhances': 597, 'cbpp300': 363, 'arrows': 276, 'bars': 302, 'hela': 763, 'correlates': 455, 'null': 1074, 'acts': 212, 'transgenic': 1505, 'rich': 1318, '1α': 62, 'ubiquitylation': 1531, 'abrogated': 199, 'cdk': 368, 'lymphocytes': 937, 'pdgf': 1135, 'terminus': 1473, 'lacks': 900, 'cytokines': 486, 'dose': 556, 'immunoprecipitation': 818, 'heterodimer': 768, 'ref': 1270, 'phosphatidylinositol': 1150, 'impaired': 819, 'excluded': 626, 'subcellular': 1433, 'extracts': 641, 'flag': 676, 'monoclonal': 1012, 'immunofluorescence': 813, 'human': 788, 'hek': 760, 'phosphate': 1149, 'conjugated': 434, 'mouse': 1015, 'images': 808, 'imaging': 809, 'oligonucleotides': 1088, 'end': 595, '83': 174, 'transcription': 1497, 'chip': 391, '500': 134, 'immunoprecipitated': 816, 'igg': 801, 'immunoprecipitates': 817, '81': 172, '85': 176, 'dbd': 498, '3d': 114, 'focused': 679, 'identifying': 797, 'linked': 921, 'yielded': 1589, 'knock': 892, 'dominant': 555, 'differentiated': 534, 'l858r': 896, 'insertions': 851, 'nsclc': 1068, 'novo': 1061, 'progression': 1213, 'pfs': 1145, 'treatments': 1511, 'smokers': 1397, 'populations': 1181, '2009': 74, 'recorded': 1269, 'lung': 936, 'metastases': 986, 'iv': 875, 'antitumor': 257, 'biopsies': 318, 'formalin': 685, 'fixed': 674, 'paraffin': 1119, 'embedded': 587, 'sections': 1357, 'statistical': 1424, 'variables': 1548, 'tests': 1476, 'comparisons': 419, 'kaplan': 881, 'meier': 973, 'rank': 1247, '005': 4, 'adenocarcinomas': 216, '93': 184, '0001': 2, 'inlineview': 850, 'popup': 1182, '69': 157, '77': 168, 'outcomes': 1099, '600': 148, 'combinations': 415, 'tables': 1459, 'achieved': 202, 'pr': 1190, 'sd': 1353, 'reached': 1254, 'analysed': 247, 'nsclcs': 1069, 'immunohistochemistry': 815, 'representative': 1290, '125': 34, 'platinum': 1170, 'test': 1475, 'os': 1098, '82': 173, 'tumours': 1524, 'normal': 1055, '57': 141, 'females': 657, 'ihc': 802, 'ps': 1227, 'pd': 1133, '84': 175, 'multivariate': 1023, 'value': 1546, '2015': 80, 'nih3t3': 1049, 'afatinib': 217, 'oncology': 1093, 'association': 288, 'downloaded': 561, '2017': 81, 'onlinefirst': 1095, 'acc': 200, 'hek293': 761, 'retroviral': 1311, 'vector': 1554, 'constructed': 440, 'egfp': 582, 'bd': 310, '103': 20, 'egf': 581, 'pbs': 1128, 'her2': 766, 'variations': 1551, 'beta': 312, 'recommended': 1268, 'alk': 231, 'braf': 330, 'nras': 1065, 'akt1': 224, 'fusions': 699, 'ros1': 1327, 'damaging': 492, 'araf': 270, 'hcc': 753, 'fgf19': 659, 'stage': 1416, 'bap1': 300, 'idh1': 799, 'idh2': 800, 'strategies': 1428, 'seq': 1361, 'spanning': 1406, 'breakpoint': 337, 'sanger': 1343, 'partners': 1122, 'transcripts': 1498, 'situ': 1387, 'fish': 672, 'fusion': 698, 'oligomerization': 1086, 'trans': 1495, 'map': 950, 'erk12': 607, 'counts': 462, 'wide': 1572, 'profiles': 1211, 'occurrence': 1081, 'mek': 974, 'v600e': 1542, 'subgroups': 1435, 'integrated': 857, 'idh': 798, 'notch': 1058, 'vegf': 1556, 'level': 910, 'eml4': 589, 'ad': 213, 'raf': 1245, 'craf': 464, 'effectors': 579, 'subjects': 1436, 'illumina': 807, 'breakpoints': 338, 'kb': 882, 'sift': 1374, 'rnase': 1324, 'slides': 1389, 'microarray': 994, 'inactivated': 824, 'phosphotyrosine': 1157, 'mek12': 976, 'targeted': 1463, 'sorafenib': 1402, 'raf1': 1246, 'regimens': 1274, 'died': 532, 'receiving': 1261, 'supplemental': 1447, '87': 177, 'mb': 958, '101': 18, 'sunitinib': 1445, 'tcga': 1467, 'ci': 394, 'mek1': 975, 'mek2': 977, 'cdkn2a': 372, 'nci': 1034, 'arrays': 275, 'gap': 705, 'loh': 929, 'smad4': 1393, 'copy': 453, '98': 189, 'uv': 1540, 'chromosomes': 393, 'myc': 1030, 'rb1': 1253, 'insights': 852, 'arid1b': 273, 'signal': 1376, 'amounts': 244, 'ip': 870, 'sirna': 1384, 'depleted': 517, 'cytokine': 485, 'jak': 876, 'jak1': 877, 'grade': 732, 'tumorigenic': 1521, 'injected': 849, 'mitogen': 998, 'hras': 787, 'upregulation': 1537, 'expressed': 638, 'ets': 615, 'di': 530, 'properties': 1221, 'engineered': 596, 'animals': 253, 'transgene': 1504, 'lymphomas': 938, 'embryos': 588, 'burkitts': 343, 'ed': 576, 'rearranged': 1259, 'long': 930, 'term': 1471, 'authors': 293, 'xenografts': 1582, 'lesions': 909, 'melanoma': 980, 'melanomas': 981, 'nf': 1042, 'sclc': 1349, 'ebv': 575, 'risk': 1320, '92': 183, 'ki': 887, '97': 188, 'mgkg': 990, 'day': 497, 'compounds': 423, '160': 42, 'hpv': 785, 'xenograft': 1581, '88': 178, 'replaced': 1287, '108': 25, '120': 30, '131': 37, 'hct116': 756, 'prolonged': 1215, 'hla': 775, 'src': 1412, 'oncogenesis': 1091, 'retrovirus': 1312, 'fbw7': 653, 'cpg': 463, 'processing': 1209, 'cdk4': 370, 'demonstrates': 511, 'self': 1358, 'cre': 466, 'npm': 1062, 'npm1': 1063, 'driven': 564, 'ezh2': 642, 'lipid': 922, 'cadherin': 348, 'aurora': 291, 'neurofibromin': 1039, 'gtpase': 740, 'gtp': 739, 'mefs': 972, 'perk': 1143, 'grd': 733, '2014': 79, 'p16': 1106, 'curves': 481, 'brafv600e': 331, 'vemurafenib': 1558, 'p110α': 1105, 'e545k': 572, 'h1047r': 742, 'p110': 1104, 'p85': 1112, 'control': 447, 'classify': 400, 'transfections': 1502, 'ser': 1366, 'neutral': 1040, 'variant': 1549, 'hotspot': 782, 'pik3r1': 1163, 'p85α': 1113, 'mcf10a': 959, 'immunoblot': 811, 's6k': 1341, 's6': 1340, 'nt': 1070, 'bc': 305, 'krasg12d': 894, 'mcherry': 960, 's5': 1339, 'lapatinib': 902, 'tsc': 1515, 'tsc1': 1516, 'tsc2': 1517, 'rheb': 1315, 'determining': 525, 'brca2': 335, 'vuss': 1568, 'brca': 332, 'vus': 1567, 'probands': 1203, 'bic': 313, 'deleterious': 507, 'proband': 1202, 'relatives': 1283, 'exonic': 632, '00': 0, '286': 91, 'rad51': 1244, 'genetics': 717, 'exon': 631, 'hdr': 758, 'disrupts': 546, 'disrupted': 545, 'dimensional': 535, 'cdnas': 374, 'erg': 605, 'etv1': 616, 'tmprss2': 1491, 'androgen': 252, 'μmoll': 1599, 'gm': 731, 'pca': 1130, 'alternatively': 240, 'caspase': 358, 'rac1': 1243, 'arising': 274, 'e17k': 569, 'relapsed': 1281, 'notch1': 1059, '00001': 1, 'mtor': 1021, 'erbb3': 603, 'rho': 1316, 'gdp': 709, 'inherited': 841, 'aa': 193, 'sscp': 1414, 'stat5': 1421, 'gists': 726, 'd842v': 491, 'aml': 243, 'etv6': 617, 'mel': 978, 'hd': 757, 'ns': 1067, 'phosphoinositide': 1152, 'pkc': 1166, 'cetuximab': 381, 'allosteric': 234, 'cml': 407, 'cbl': 362, 'e2': 570, 'a549': 192, 'mtorc1': 1022, 'supp': 1446, 'µm': 1591, 'error': 609, 'ptdins345p3': 1231, 'pc': 1129, 'wpd': 1578, 'ti': 1483, 'crizotinib': 469, 'erbb4': 604, 'ntrk3': 1071, 'mice': 993, 'gbm': 706, 'ptprd': 1233, 'sh2': 1370, 'ish2': 871, 'p16ink4a': 1107, 'v617f': 1543, 'ruxolitinib': 1334, 'fedratinib': 656, 'mpl': 1016, 'tel': 1470, 'dfg': 528, 'tyr': 1527, 'mds': 963, 'ppp6c': 1189, 'article': 277, 'melanocytes': 979, 'parp': 1121, 'predicting': 1193, 'tkd': 1488, 'egfrviii': 584, 'αc': 1592, 'alcl': 227, 'cdk6': 371, 'del': 505, 'bac': 296, 'ccnd1': 364, 'pi': 1159, 'itd': 874, 'rr': 1329, 'κb': 1594, 'ar': 268, 'cmv': 408, 'exel': 627, '7647': 167, 'spop': 1410, 'btb': 342, 'keap1': 885, 'vcap': 1553, 'lncap': 924, 'jm': 879, 'smad2': 1391, 'smad3': 1392, 'crc': 465, 'smads': 1394, 'mh2': 992, 'carm1': 355, 'erα': 610, 'brca1bard1': 334, 'es': 611, 'ssa': 1413, 'zn2þ': 1590, 'cct': 365, 'pip3': 1165, 'phts': 1158, 'asp92': 282, 'asddd': 279, 'akt2': 225, 'classifi': 399, 'cient': 395, 'defi': 503, 'gdc': 708, 'v7': 1544, 'sos': 1403, 'dsred': 568, 'ptpρ': 1234, 'sf9': 1369, 'hh': 770, 'ptch1': 1230, 'smo': 1396, 'bccs': 306, 'vismodegib': 1562, 'cfc': 382, 'wtb': 1580, 'cul3': 478, 'nrf2': 1066, 'elongin': 586, 'esr1': 612, 'pdgfrα': 1139, 'crenolanib': 468, 'fl': 675, 'pim1': 1164, 'csf': 474, 'appendix': 264, 'hnscc': 778, 'nr': 1064, 'pvhl': 1239, 'psa': 1228, 'ewing': 621, 'fli1': 677, 'discovery': 539, 'runx1': 1333, 'chek2': 389, 'sox9': 1405, 'hmg': 776, 'fa': 643, 'fanca': 649, 'y1003f': 1584, 'tacc3': 1460, 'blimp1': 322, 'dlbcl': 547, 'card11': 354, 'stat5b': 1422, 'scp': 1351, 'mef2b': 971, 'kmt2d': 891, 'y527fsrc': 1585, 'olaparib': 1084, 'ctla4': 476, 'brip1': 341, 'asp3026': 281, 'l1196m': 895, 'ceritinib': 380, 'ap26113': 258, '06463922': 11, 'c1156y': 345, 'h3122': 744, 'h3k27': 745, 'h3k27me3': 746, 'lch': 905, 'cdh1': 367, 'men1': 984, 'tet2': 1478, 'ewsr1': 623, 'rmce': 1321, 'r26': 1242, 'pms1': 1173, 'fbxw7': 654, 'cebpα': 375, 'ews': 622, '2hg': 99, '8l': 180, 'en': 590, 'bcl10': 308, 'ar3': 269, 'arv567es': 278, 'crpc': 471, 'arfl': 272, 'dht': 529, 'hes1': 767, 'nic': 1047, 'wm278': 1575, 'hcdc4': 754, 'd835': 490, 'rhoa': 1317, 'fancj': 650, 'fat1': 651, 'ddr2': 499, 'cdk12': 369, 'tet1': 1477, 'reacp53': 1255, 'fzr1': 700}\n"
     ]
    }
   ],
   "source": [
    "print(\"Vocabulary: \", vectorizer.vocabulary_)"
   ]
  },
  {
   "cell_type": "code",
   "execution_count": 78,
   "metadata": {},
   "outputs": [],
   "source": [
    "X_train_bow = train_df_counts.toarray()"
   ]
  },
  {
   "cell_type": "code",
   "execution_count": 79,
   "metadata": {},
   "outputs": [],
   "source": [
    "y_train = train_df['Class']"
   ]
  },
  {
   "cell_type": "markdown",
   "metadata": {},
   "source": [
    "#### model fitting"
   ]
  },
  {
   "cell_type": "code",
   "execution_count": 80,
   "metadata": {},
   "outputs": [
    {
     "data": {
      "text/plain": [
       "LogisticRegression(multi_class='multinomial')"
      ]
     },
     "execution_count": 80,
     "metadata": {},
     "output_type": "execute_result"
    }
   ],
   "source": [
    "bow_model.fit(X_train_bow,y_train)"
   ]
  },
  {
   "cell_type": "code",
   "execution_count": 81,
   "metadata": {},
   "outputs": [
    {
     "data": {
      "text/plain": [
       "[-0.22162505903629903,\n",
       " -0.19357559466224133,\n",
       " -0.16912531581416068,\n",
       " -0.168176558379736,\n",
       " -0.15616206306566494]"
      ]
     },
     "execution_count": 81,
     "metadata": {},
     "output_type": "execute_result"
    }
   ],
   "source": [
    "sorted(bow_model.coef_.tolist()[0])[:5]"
   ]
  },
  {
   "cell_type": "code",
   "execution_count": 82,
   "metadata": {},
   "outputs": [],
   "source": [
    "y_pred_train_bow = bow_model.predict_proba(X_train_bow)"
   ]
  },
  {
   "cell_type": "code",
   "execution_count": 83,
   "metadata": {},
   "outputs": [
    {
     "data": {
      "text/plain": [
       "0.12887195077057279"
      ]
     },
     "execution_count": 83,
     "metadata": {},
     "output_type": "execute_result"
    }
   ],
   "source": [
    "log_loss(y_train,y_pred_train_bow)"
   ]
  },
  {
   "cell_type": "code",
   "execution_count": 85,
   "metadata": {},
   "outputs": [],
   "source": [
    "vectorizer = TfidfVectorizer(max_features=1600, ngram_range=(1, 3), stop_words='english',\n",
    "                strip_accents='unicode', sublinear_tf=True,\n",
    "                token_pattern='\\\\w+')"
   ]
  },
  {
   "cell_type": "code",
   "execution_count": 87,
   "metadata": {},
   "outputs": [
    {
     "data": {
      "text/plain": [
       "TfidfVectorizer(max_features=1600, ngram_range=(1, 3), stop_words='english',\n",
       "                strip_accents='unicode', sublinear_tf=True,\n",
       "                token_pattern='\\\\w+')"
      ]
     },
     "execution_count": 87,
     "metadata": {},
     "output_type": "execute_result"
    }
   ],
   "source": [
    "vectorizer.fit(train_df_corpus)"
   ]
  },
  {
   "cell_type": "code",
   "execution_count": 88,
   "metadata": {},
   "outputs": [],
   "source": [
    "X_train_tfidf = vectorizer.transform(train_df_corpus)"
   ]
  },
  {
   "cell_type": "code",
   "execution_count": 89,
   "metadata": {},
   "outputs": [],
   "source": [
    "X_train_tfidf = X_train_tfidf.toarray()"
   ]
  },
  {
   "cell_type": "code",
   "execution_count": 91,
   "metadata": {},
   "outputs": [
    {
     "data": {
      "text/plain": [
       "LogisticRegression(multi_class='multinomial')"
      ]
     },
     "execution_count": 91,
     "metadata": {},
     "output_type": "execute_result"
    }
   ],
   "source": [
    "tfidf_model.fit(X_train_tfidf,y_train)"
   ]
  },
  {
   "cell_type": "code",
   "execution_count": 92,
   "metadata": {},
   "outputs": [],
   "source": [
    "y_pred_train_tfidf = tfidf_model.predict_proba(X_train_tfidf)"
   ]
  },
  {
   "cell_type": "code",
   "execution_count": 95,
   "metadata": {},
   "outputs": [
    {
     "data": {
      "text/plain": [
       "1.0294581039436175"
      ]
     },
     "execution_count": 95,
     "metadata": {},
     "output_type": "execute_result"
    }
   ],
   "source": [
    "log_loss(y_train,y_pred_train_tfidf)"
   ]
  },
  {
   "cell_type": "markdown",
   "metadata": {},
   "source": [
    "#### handling the test text sample data"
   ]
  },
  {
   "cell_type": "code",
   "execution_count": null,
   "metadata": {},
   "outputs": [],
   "source": []
  },
  {
   "cell_type": "code",
   "execution_count": 137,
   "metadata": {},
   "outputs": [],
   "source": [
    "test_text_df['cleaned_text'] = test_text_df['Text'].map(cleanse_data,na_action='ignore')"
   ]
  },
  {
   "cell_type": "code",
   "execution_count": 138,
   "metadata": {},
   "outputs": [],
   "source": [
    "test_text_df['cleaned_text'] = test_text_df['cleaned_text'].map(reduce_words)"
   ]
  },
  {
   "cell_type": "code",
   "execution_count": 140,
   "metadata": {},
   "outputs": [],
   "source": [
    "test_text_df['cleaned_text_vector'] = test_text_df['cleaned_text'].map(word_count)"
   ]
  },
  {
   "cell_type": "code",
   "execution_count": 142,
   "metadata": {},
   "outputs": [],
   "source": [
    "test_text_df['sorted_cleaned_text_vector'] = test_text_df['cleaned_text'].map(freq_dist)"
   ]
  },
  {
   "cell_type": "code",
   "execution_count": 144,
   "metadata": {},
   "outputs": [],
   "source": [
    "test_text_df = test_text_df.drop(['Text'],axis=1)"
   ]
  },
  {
   "cell_type": "code",
   "execution_count": 145,
   "metadata": {},
   "outputs": [
    {
     "data": {
      "text/html": [
       "<div>\n",
       "<style scoped>\n",
       "    .dataframe tbody tr th:only-of-type {\n",
       "        vertical-align: middle;\n",
       "    }\n",
       "\n",
       "    .dataframe tbody tr th {\n",
       "        vertical-align: top;\n",
       "    }\n",
       "\n",
       "    .dataframe thead th {\n",
       "        text-align: right;\n",
       "    }\n",
       "</style>\n",
       "<table border=\"1\" class=\"dataframe\">\n",
       "  <thead>\n",
       "    <tr style=\"text-align: right;\">\n",
       "      <th></th>\n",
       "      <th>ID</th>\n",
       "      <th>cleaned_text</th>\n",
       "      <th>cleaned_text_vector</th>\n",
       "      <th>sorted_cleaned_text_vector</th>\n",
       "    </tr>\n",
       "  </thead>\n",
       "  <tbody>\n",
       "    <tr>\n",
       "      <th>2052</th>\n",
       "      <td>2052</td>\n",
       "      <td>Toward castration-resistant mCRPC multi-instit...</td>\n",
       "      <td>[2, 2, 64, 4, 10, 3, 3, 10, 6, 5, 64, 37, 17, ...</td>\n",
       "      <td>[84, 64, 60, 60, 51, 46, 41, 39, 37, 25, 24, 2...</td>\n",
       "    </tr>\n",
       "    <tr>\n",
       "      <th>5346</th>\n",
       "      <td>5346</td>\n",
       "      <td>Introduction Tumorigenesis results alterations...</td>\n",
       "      <td>[2, 2, 3, 10, 1, 2, 1, 1, 3, 1, 4, 1, 2, 48, 4...</td>\n",
       "      <td>[117, 95, 60, 57, 54, 53, 50, 48, 45, 41, 28, ...</td>\n",
       "    </tr>\n",
       "    <tr>\n",
       "      <th>5630</th>\n",
       "      <td>5630</td>\n",
       "      <td>Expression c-Myc oncoprotein conserved Threoni...</td>\n",
       "      <td>[4, 60, 2, 2, 2, 2, 24, 2, 2, 26, 8, 60, 4, 1,...</td>\n",
       "      <td>[77, 66, 64, 60, 57, 33, 29, 27, 26, 26, 24, 2...</td>\n",
       "    </tr>\n",
       "    <tr>\n",
       "      <th>3014</th>\n",
       "      <td>3014</td>\n",
       "      <td>Mutations c-KIT Gastrointestinal Stromal Tumor...</td>\n",
       "      <td>[2, 41, 1, 2, 2, 25, 38, 1, 2, 2, 10, 8, 38, 4...</td>\n",
       "      <td>[117, 68, 53, 48, 47, 41, 40, 38, 38, 36, 34, ...</td>\n",
       "    </tr>\n",
       "    <tr>\n",
       "      <th>1482</th>\n",
       "      <td>1482</td>\n",
       "      <td>Carbohydrate-deficient CDG syndromes diseases ...</td>\n",
       "      <td>[1, 5, 2, 2, 4, 3, 1, 9, 35, 2, 5, 1, 2, 2, 35...</td>\n",
       "      <td>[44, 35, 29, 25, 21, 19, 18, 18, 17, 15, 14, 1...</td>\n",
       "    </tr>\n",
       "  </tbody>\n",
       "</table>\n",
       "</div>"
      ],
      "text/plain": [
       "        ID                                       cleaned_text  \\\n",
       "2052  2052  Toward castration-resistant mCRPC multi-instit...   \n",
       "5346  5346  Introduction Tumorigenesis results alterations...   \n",
       "5630  5630  Expression c-Myc oncoprotein conserved Threoni...   \n",
       "3014  3014  Mutations c-KIT Gastrointestinal Stromal Tumor...   \n",
       "1482  1482  Carbohydrate-deficient CDG syndromes diseases ...   \n",
       "\n",
       "                                    cleaned_text_vector  \\\n",
       "2052  [2, 2, 64, 4, 10, 3, 3, 10, 6, 5, 64, 37, 17, ...   \n",
       "5346  [2, 2, 3, 10, 1, 2, 1, 1, 3, 1, 4, 1, 2, 48, 4...   \n",
       "5630  [4, 60, 2, 2, 2, 2, 24, 2, 2, 26, 8, 60, 4, 1,...   \n",
       "3014  [2, 41, 1, 2, 2, 25, 38, 1, 2, 2, 10, 8, 38, 4...   \n",
       "1482  [1, 5, 2, 2, 4, 3, 1, 9, 35, 2, 5, 1, 2, 2, 35...   \n",
       "\n",
       "                             sorted_cleaned_text_vector  \n",
       "2052  [84, 64, 60, 60, 51, 46, 41, 39, 37, 25, 24, 2...  \n",
       "5346  [117, 95, 60, 57, 54, 53, 50, 48, 45, 41, 28, ...  \n",
       "5630  [77, 66, 64, 60, 57, 33, 29, 27, 26, 26, 24, 2...  \n",
       "3014  [117, 68, 53, 48, 47, 41, 40, 38, 38, 36, 34, ...  \n",
       "1482  [44, 35, 29, 25, 21, 19, 18, 18, 17, 15, 14, 1...  "
      ]
     },
     "execution_count": 145,
     "metadata": {},
     "output_type": "execute_result"
    }
   ],
   "source": [
    "test_text_df.head()"
   ]
  },
  {
   "cell_type": "code",
   "execution_count": 148,
   "metadata": {},
   "outputs": [],
   "source": [
    "# get the text samples as list\n",
    "test_corpus = test_text_df['cleaned_text'].tolist()"
   ]
  },
  {
   "cell_type": "code",
   "execution_count": 149,
   "metadata": {},
   "outputs": [],
   "source": [
    "# transform the test case to get bag of words\n",
    "test_bag_of_words_train = vectorizer.transform(test_corpus)"
   ]
  },
  {
   "cell_type": "code",
   "execution_count": 150,
   "metadata": {},
   "outputs": [],
   "source": [
    "# convert the dictionary to an array\n",
    "test_bag_of_words_array = test_bag_of_words_train.toarray()"
   ]
  },
  {
   "cell_type": "code",
   "execution_count": 151,
   "metadata": {},
   "outputs": [
    {
     "data": {
      "text/plain": [
       "(567, 1600)"
      ]
     },
     "execution_count": 151,
     "metadata": {},
     "output_type": "execute_result"
    }
   ],
   "source": [
    "test_bag_of_words_array.shape"
   ]
  },
  {
   "cell_type": "code",
   "execution_count": 152,
   "metadata": {},
   "outputs": [],
   "source": [
    "# predict test using bag of word model\n",
    "y_pred_test_bow = bow_model.predict_proba(test_bag_of_words_array)"
   ]
  },
  {
   "cell_type": "code",
   "execution_count": 153,
   "metadata": {},
   "outputs": [
    {
     "data": {
      "text/plain": [
       "array([[5.32326020e-01, 4.67673980e-01],\n",
       "       [9.75397054e-01, 2.46029463e-02],\n",
       "       [9.99922587e-01, 7.74131420e-05],\n",
       "       ...,\n",
       "       [6.75936726e-01, 3.24063274e-01],\n",
       "       [2.49923911e-01, 7.50076089e-01],\n",
       "       [5.97008217e-01, 4.02991783e-01]])"
      ]
     },
     "execution_count": 153,
     "metadata": {},
     "output_type": "execute_result"
    }
   ],
   "source": [
    "y_pred_test_bow"
   ]
  },
  {
   "cell_type": "code",
   "execution_count": 154,
   "metadata": {},
   "outputs": [],
   "source": [
    "# predict test using tfidf model\n",
    "y_pred_test_tfidf = tfidf_model.predict_proba(test_bag_of_words_array)"
   ]
  },
  {
   "cell_type": "code",
   "execution_count": 155,
   "metadata": {},
   "outputs": [
    {
     "data": {
      "text/plain": [
       "array([[1.87988392e-07, 9.99999812e-01],\n",
       "       [1.26666642e-18, 1.00000000e+00],\n",
       "       [2.26670205e-05, 9.99977333e-01],\n",
       "       ...,\n",
       "       [6.89939028e-07, 9.99999310e-01],\n",
       "       [9.71040945e-01, 2.89590546e-02],\n",
       "       [2.21406678e-06, 9.99997786e-01]])"
      ]
     },
     "execution_count": 155,
     "metadata": {},
     "output_type": "execute_result"
    }
   ],
   "source": [
    "y_pred_test_tfidf"
   ]
  },
  {
   "cell_type": "code",
   "execution_count": null,
   "metadata": {},
   "outputs": [],
   "source": []
  },
  {
   "cell_type": "code",
   "execution_count": null,
   "metadata": {},
   "outputs": [],
   "source": []
  },
  {
   "cell_type": "code",
   "execution_count": null,
   "metadata": {},
   "outputs": [],
   "source": []
  },
  {
   "cell_type": "code",
   "execution_count": null,
   "metadata": {},
   "outputs": [],
   "source": []
  },
  {
   "cell_type": "code",
   "execution_count": null,
   "metadata": {},
   "outputs": [],
   "source": []
  },
  {
   "cell_type": "code",
   "execution_count": null,
   "metadata": {},
   "outputs": [],
   "source": []
  },
  {
   "cell_type": "code",
   "execution_count": null,
   "metadata": {},
   "outputs": [],
   "source": []
  },
  {
   "cell_type": "code",
   "execution_count": null,
   "metadata": {},
   "outputs": [],
   "source": []
  },
  {
   "cell_type": "code",
   "execution_count": null,
   "metadata": {},
   "outputs": [],
   "source": []
  },
  {
   "cell_type": "code",
   "execution_count": null,
   "metadata": {},
   "outputs": [],
   "source": [
    "class_9[class_9['cleaned_text'] == class_9['cleaned_text'].unique()[1]]"
   ]
  },
  {
   "cell_type": "code",
   "execution_count": null,
   "metadata": {},
   "outputs": [],
   "source": [
    "class_9[class_9['cleaned_text'] == class_9['cleaned_text'].unique()[2]]"
   ]
  },
  {
   "cell_type": "code",
   "execution_count": null,
   "metadata": {},
   "outputs": [],
   "source": [
    "class_9[class_9['cleaned_text'] == class_9['cleaned_text'].unique()[3]]"
   ]
  },
  {
   "cell_type": "code",
   "execution_count": null,
   "metadata": {},
   "outputs": [],
   "source": [
    "class_9[class_9['cleaned_text'] == class_9['cleaned_text'].unique()[4]]"
   ]
  },
  {
   "cell_type": "code",
   "execution_count": null,
   "metadata": {},
   "outputs": [],
   "source": [
    "class_9[class_9['cleaned_text'] == class_9['cleaned_text'].unique()[5]]"
   ]
  },
  {
   "cell_type": "code",
   "execution_count": null,
   "metadata": {},
   "outputs": [],
   "source": [
    "df=pd.DataFrame(columns=[\"Gene\",\"Class\",\"Variation\",\"cleaned_text\",\"cleaned_freq\"])\n",
    "for i in range(19):    \n",
    "    df_new=class_9[class_9['cleaned_text'] == class_9['cleaned_text'].unique()[i]]\n",
    "    df=pd.concat([df,df_new])"
   ]
  },
  {
   "cell_type": "code",
   "execution_count": null,
   "metadata": {},
   "outputs": [],
   "source": [
    "df"
   ]
  },
  {
   "cell_type": "code",
   "execution_count": null,
   "metadata": {},
   "outputs": [],
   "source": []
  },
  {
   "cell_type": "code",
   "execution_count": null,
   "metadata": {},
   "outputs": [],
   "source": [
    "X_train"
   ]
  },
  {
   "cell_type": "code",
   "execution_count": null,
   "metadata": {},
   "outputs": [],
   "source": [
    "test_var['new_test']=test_var['new_text'].map(freq_dist)"
   ]
  },
  {
   "cell_type": "code",
   "execution_count": null,
   "metadata": {},
   "outputs": [],
   "source": [
    "test_var['new_test'][0]"
   ]
  },
  {
   "cell_type": "markdown",
   "metadata": {
    "id": "mb62K9H8oIy6"
   },
   "source": [
    "we have sorted the frequency dictionary based on values using the key parameter of sorted and higher values first using reverse"
   ]
  },
  {
   "cell_type": "code",
   "execution_count": null,
   "metadata": {
    "colab": {
     "base_uri": "https://localhost:8080/"
    },
    "executionInfo": {
     "elapsed": 14,
     "status": "ok",
     "timestamp": 1638286210767,
     "user": {
      "displayName": "Anubrata Das",
      "photoUrl": "https://lh3.googleusercontent.com/a-/AOh14GiI2340pPpSj6e4aG_4urL4HRwW3MRXEf5aoo2_QA=s64",
      "userId": "08781375266004215524"
     },
     "user_tz": -330
    },
    "id": "wae37kXdUT8k",
    "outputId": "aacd0478-e911-439f-8dd0-3d9b78a7a732"
   },
   "outputs": [],
   "source": [
    "sorted(test_dic.items(),key=lambda x:x[1], reverse=True)"
   ]
  },
  {
   "cell_type": "code",
   "execution_count": null,
   "metadata": {
    "colab": {
     "background_save": true,
     "output_embedded_package_id": "1T2dEPsEkowvxPsUL9DczT0Wd3-vmG0jv"
    },
    "id": "szBIwNDOKOlt",
    "outputId": "1893a85d-dc50-48bb-a20a-1123754f7f32"
   },
   "outputs": [],
   "source": [
    "#cleanse_data(data)"
   ]
  },
  {
   "cell_type": "code",
   "execution_count": null,
   "metadata": {
    "colab": {
     "background_save": true
    },
    "id": "2MxjvqNIKOOQ"
   },
   "outputs": [],
   "source": [
    "#len(data.split('\\n'))"
   ]
  },
  {
   "cell_type": "code",
   "execution_count": null,
   "metadata": {
    "id": "r6XSPFMO_mzt"
   },
   "outputs": [],
   "source": [
    "#scan_data1=[i[:200] for i in data]"
   ]
  },
  {
   "cell_type": "code",
   "execution_count": null,
   "metadata": {
    "id": "F0tJD-gnJ7Rx"
   },
   "outputs": [],
   "source": []
  },
  {
   "cell_type": "code",
   "execution_count": null,
   "metadata": {
    "id": "s-aJGvzx_mzu"
   },
   "outputs": [],
   "source": [
    "len(scan_data1)"
   ]
  },
  {
   "cell_type": "code",
   "execution_count": null,
   "metadata": {
    "id": "kAxcpzU4_mzu"
   },
   "outputs": [],
   "source": [
    "for i in range(10):\n",
    "    print(scan_data1[i])"
   ]
  },
  {
   "cell_type": "code",
   "execution_count": null,
   "metadata": {
    "id": "9XgD9sY_14Jw"
   },
   "outputs": [],
   "source": [
    "cd /content"
   ]
  },
  {
   "cell_type": "code",
   "execution_count": null,
   "metadata": {
    "id": "oLbahHJ__mzv"
   },
   "outputs": [],
   "source": [
    "pa_tree=ET.parse('pa2021.xml')"
   ]
  },
  {
   "cell_type": "code",
   "execution_count": null,
   "metadata": {
    "id": "spN5n9H3_mzv"
   },
   "outputs": [],
   "source": [
    "root=pa_tree.getroot()"
   ]
  },
  {
   "cell_type": "code",
   "execution_count": null,
   "metadata": {
    "id": "kQR8pY9UXBs-"
   },
   "outputs": [],
   "source": [
    "# for child in root:\n",
    "#   print(child.tag)"
   ]
  },
  {
   "cell_type": "code",
   "execution_count": null,
   "metadata": {
    "id": "63RIRzTV_mzv"
   },
   "outputs": [],
   "source": [
    "for element_1 in root:\n",
    "  #print(\"---------level_1-----------\")\n",
    "  #print(element_1.tag)\n",
    "  \n",
    "  for element_2 in element_1:\n",
    "    #print(\"---------level_2-----------\")\n",
    "    #print(\"    \"+element_2.tag,\" \",element_2.text)\n",
    "    \n",
    "    for element_3 in element_2:\n",
    "      #print(\"---------level_3-----------\")\n",
    "      #print(\"        \"+element_3.tag,\" \",element_3.text)\n",
    "      \n",
    "      for element_4 in element_3:\n",
    "        #print(\"---------level_4-----------\")\n",
    "        if element_4.tag==\"String\":\n",
    "          print(\"                   \"+element_4.tag,\" \",element_4.text)\n",
    "          \n",
    "  #break\n",
    "    "
   ]
  },
  {
   "cell_type": "code",
   "execution_count": null,
   "metadata": {
    "id": "M-j6NieYFoZn"
   },
   "outputs": [],
   "source": [
    "len(root)"
   ]
  },
  {
   "cell_type": "code",
   "execution_count": null,
   "metadata": {
    "id": "c2Li5HlGGwOR"
   },
   "outputs": [],
   "source": [
    "desc_tree=ET.parse('desc2021.xml')"
   ]
  },
  {
   "cell_type": "code",
   "execution_count": null,
   "metadata": {
    "id": "IIWEN3P3XfG4"
   },
   "outputs": [],
   "source": [
    "desc_root=desc_tree.getroot()"
   ]
  },
  {
   "cell_type": "code",
   "execution_count": null,
   "metadata": {
    "id": "dVaFVNDdYSxK"
   },
   "outputs": [],
   "source": [
    "len(desc_root)"
   ]
  },
  {
   "cell_type": "code",
   "execution_count": null,
   "metadata": {
    "id": "9Q4uNx0xYq8f"
   },
   "outputs": [],
   "source": [
    "term_description=[]\n",
    "for element_1 in desc_root:\n",
    "  #print(\"-------level_1----------\")\n",
    "  #print(element_1.tag,\" \",element_1.text)\n",
    "  for element_2 in element_1:\n",
    "    #print(\"    ----------level_2----------\")\n",
    "    #print(\"    \"+element_2.tag,\" \",element_2.text)\n",
    "    for element_3 in element_2:\n",
    "      if element_3.tag=='String':\n",
    "        #print(\"        ---------level_3--------\")\n",
    "        #print(\"        \"+element_3.tag,\" \",element_3.text)\n",
    "        term_description.append(element_3.text)\n",
    "\n",
    "  #break"
   ]
  },
  {
   "cell_type": "code",
   "execution_count": null,
   "metadata": {
    "id": "WG6OyuDhZOdW"
   },
   "outputs": [],
   "source": [
    "len(term_description)"
   ]
  },
  {
   "cell_type": "code",
   "execution_count": null,
   "metadata": {
    "id": "yhUEtiIrt4B5"
   },
   "outputs": [],
   "source": [
    "term_description[:10]"
   ]
  },
  {
   "cell_type": "code",
   "execution_count": null,
   "metadata": {
    "id": "DFCAtPHEuIG_"
   },
   "outputs": [],
   "source": [
    "import csv \n",
    "with open('term_description.csv', 'w') as f: \n",
    "    write = csv.writer(f) \n",
    "    write.writerow(term_description) \n",
    "    "
   ]
  },
  {
   "cell_type": "markdown",
   "metadata": {
    "id": "F11LgeASJSYc"
   },
   "source": [
    "There are 2 ways to remove punctuation. one is to use the string library punctuation module on the text before tokenization, the other is to use the nltk.punct library"
   ]
  },
  {
   "cell_type": "code",
   "execution_count": null,
   "metadata": {
    "id": "bzJtTxhvvlSb"
   },
   "outputs": [],
   "source": [
    "len(scan_data1[1])"
   ]
  },
  {
   "cell_type": "code",
   "execution_count": null,
   "metadata": {
    "id": "EKL7Av16DsWV"
   },
   "outputs": [],
   "source": [
    "#nltk.word_tokenize(scan_data1[1])"
   ]
  },
  {
   "cell_type": "code",
   "execution_count": null,
   "metadata": {
    "id": "6n8-IUY8D_g2"
   },
   "outputs": [],
   "source": [
    "# import string punctuation\n",
    "import string\n",
    "string.punctuation"
   ]
  },
  {
   "cell_type": "code",
   "execution_count": null,
   "metadata": {
    "id": "vXDy9X6cH_nh"
   },
   "outputs": [],
   "source": []
  },
  {
   "cell_type": "code",
   "execution_count": null,
   "metadata": {
    "id": "YTposSf5IPM2"
   },
   "outputs": [],
   "source": [
    "len(cleanup_text(scan_data1[1]))"
   ]
  },
  {
   "cell_type": "code",
   "execution_count": null,
   "metadata": {
    "id": "xoBpboDfIZjm"
   },
   "outputs": [],
   "source": [
    "scan_data"
   ]
  }
 ],
 "metadata": {
  "colab": {
   "name": "jovian-ml-project.ipynb",
   "version": ""
  },
  "kernelspec": {
   "display_name": "Python 3",
   "language": "python",
   "name": "python3"
  },
  "language_info": {
   "codemirror_mode": {
    "name": "ipython",
    "version": 3
   },
   "file_extension": ".py",
   "mimetype": "text/x-python",
   "name": "python",
   "nbconvert_exporter": "python",
   "pygments_lexer": "ipython3",
   "version": "3.7.6"
  }
 },
 "nbformat": 4,
 "nbformat_minor": 1
}
