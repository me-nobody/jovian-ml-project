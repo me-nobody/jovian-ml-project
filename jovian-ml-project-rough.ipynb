{
 "cells": [
  {
   "cell_type": "markdown",
   "metadata": {
    "id": "z4XIJ7_c_mzW"
   },
   "source": [
    "# jovian-ml-project-rough\n",
    "\n",
    "Use the \"Run\" button to execute the code."
   ]
  },
  {
   "cell_type": "code",
   "execution_count": 1,
   "metadata": {
    "executionInfo": {
     "elapsed": 2553,
     "status": "ok",
     "timestamp": 1638285773553,
     "user": {
      "displayName": "Anubrata Das",
      "photoUrl": "https://lh3.googleusercontent.com/a-/AOh14GiI2340pPpSj6e4aG_4urL4HRwW3MRXEf5aoo2_QA=s64",
      "userId": "08781375266004215524"
     },
     "user_tz": -330
    },
    "id": "6jgqXjvi_mzZ"
   },
   "outputs": [],
   "source": [
    "#pip install jovian --upgrade --quiet"
   ]
  },
  {
   "cell_type": "code",
   "execution_count": 2,
   "metadata": {
    "executionInfo": {
     "elapsed": 47,
     "status": "ok",
     "timestamp": 1638285773553,
     "user": {
      "displayName": "Anubrata Das",
      "photoUrl": "https://lh3.googleusercontent.com/a-/AOh14GiI2340pPpSj6e4aG_4urL4HRwW3MRXEf5aoo2_QA=s64",
      "userId": "08781375266004215524"
     },
     "user_tz": -330
    },
    "id": "BcrwI4VL_mze"
   },
   "outputs": [],
   "source": [
    "#import jovian"
   ]
  },
  {
   "cell_type": "code",
   "execution_count": 3,
   "metadata": {
    "colab": {
     "base_uri": "https://localhost:8080/",
     "height": 125
    },
    "executionInfo": {
     "elapsed": 9427,
     "status": "ok",
     "timestamp": 1638285782935,
     "user": {
      "displayName": "Anubrata Das",
      "photoUrl": "https://lh3.googleusercontent.com/a-/AOh14GiI2340pPpSj6e4aG_4urL4HRwW3MRXEf5aoo2_QA=s64",
      "userId": "08781375266004215524"
     },
     "user_tz": -330
    },
    "id": "7gTXlkwu_mzf",
    "outputId": "3c4f1679-22fc-496e-bbd7-ce778f5dc86a"
   },
   "outputs": [],
   "source": [
    "# Execute this to save new versions of the notebook\n",
    "#jovian.commit(project=\"jovian-ml-project\",filename=\"jovian-ml-project\")"
   ]
  },
  {
   "cell_type": "code",
   "execution_count": 4,
   "metadata": {
    "executionInfo": {
     "elapsed": 13,
     "status": "ok",
     "timestamp": 1638285789225,
     "user": {
      "displayName": "Anubrata Das",
      "photoUrl": "https://lh3.googleusercontent.com/a-/AOh14GiI2340pPpSj6e4aG_4urL4HRwW3MRXEf5aoo2_QA=s64",
      "userId": "08781375266004215524"
     },
     "user_tz": -330
    },
    "id": "AEM-Rd_A_mzj"
   },
   "outputs": [],
   "source": [
    "import pandas as pd\n",
    "import numpy as np\n",
    "import matplotlib.pyplot as plt\n",
    "import requests\n",
    "import xml.etree.ElementTree as ET\n",
    "import time\n",
    "import re\n",
    "from tqdm import tqdm\n",
    "%matplotlib inline"
   ]
  },
  {
   "cell_type": "code",
   "execution_count": 5,
   "metadata": {
    "executionInfo": {
     "elapsed": 12,
     "status": "ok",
     "timestamp": 1638285789226,
     "user": {
      "displayName": "Anubrata Das",
      "photoUrl": "https://lh3.googleusercontent.com/a-/AOh14GiI2340pPpSj6e4aG_4urL4HRwW3MRXEf5aoo2_QA=s64",
      "userId": "08781375266004215524"
     },
     "user_tz": -330
    },
    "id": "lv5xwSHT_mzk"
   },
   "outputs": [],
   "source": [
    "pd.set_option('display.max_columns', None)\n",
    "pd.set_option('display.max_rows', None)\n",
    "import warnings\n",
    "warnings.simplefilter(action='ignore')"
   ]
  },
  {
   "cell_type": "code",
   "execution_count": 6,
   "metadata": {},
   "outputs": [],
   "source": [
    "tqdm.pandas(desc=\"my bar!\")"
   ]
  },
  {
   "cell_type": "markdown",
   "metadata": {},
   "source": [
    "<a id='top'>**Beginning of Notebook**</a>"
   ]
  },
  {
   "cell_type": "markdown",
   "metadata": {},
   "source": [
    "[model train text data](#train_data)"
   ]
  },
  {
   "cell_type": "markdown",
   "metadata": {},
   "source": [
    "#### train data"
   ]
  },
  {
   "cell_type": "code",
   "execution_count": 7,
   "metadata": {},
   "outputs": [],
   "source": [
    "train_text_df = pd.read_csv('training_text.zip', sep=\"\\|\\|\", encoding=\"utf-8\",engine=\"python\", skiprows=1, names=[\"ID\", \"Text\"],compression='zip')"
   ]
  },
  {
   "cell_type": "code",
   "execution_count": 8,
   "metadata": {},
   "outputs": [],
   "source": [
    "train_vari_df = pd.read_csv('training_variants.zip',compression='zip')"
   ]
  },
  {
   "cell_type": "code",
   "execution_count": 9,
   "metadata": {},
   "outputs": [
    {
     "data": {
      "text/plain": [
       "7    953\n",
       "4    686\n",
       "1    568\n",
       "2    452\n",
       "6    275\n",
       "5    242\n",
       "3     89\n",
       "9     37\n",
       "8     19\n",
       "Name: Class, dtype: int64"
      ]
     },
     "execution_count": 9,
     "metadata": {},
     "output_type": "execute_result"
    }
   ],
   "source": [
    "train_vari_df['Class'].value_counts()"
   ]
  },
  {
   "cell_type": "code",
   "execution_count": 10,
   "metadata": {},
   "outputs": [
    {
     "data": {
      "text/plain": [
       "((3321, 2), (3321, 4))"
      ]
     },
     "execution_count": 10,
     "metadata": {},
     "output_type": "execute_result"
    }
   ],
   "source": [
    "train_text_df.shape, train_vari_df.shape"
   ]
  },
  {
   "cell_type": "code",
   "execution_count": 11,
   "metadata": {},
   "outputs": [
    {
     "data": {
      "text/plain": [
       "(Index(['ID', 'Text'], dtype='object'),\n",
       " Index(['ID', 'Gene', 'Variation', 'Class'], dtype='object'))"
      ]
     },
     "execution_count": 11,
     "metadata": {},
     "output_type": "execute_result"
    }
   ],
   "source": [
    "train_text_df.columns, train_vari_df.columns"
   ]
  },
  {
   "cell_type": "code",
   "execution_count": 12,
   "metadata": {},
   "outputs": [],
   "source": [
    "# merging the text and variation data\n",
    "train_df = pd.merge(train_vari_df,train_text_df,on='ID')"
   ]
  },
  {
   "cell_type": "code",
   "execution_count": 13,
   "metadata": {},
   "outputs": [],
   "source": [
    "# taking a sample of the dataset\n",
    "train_df = train_df.sample(frac=0.2)"
   ]
  },
  {
   "cell_type": "code",
   "execution_count": 14,
   "metadata": {},
   "outputs": [
    {
     "data": {
      "text/html": [
       "<div>\n",
       "<style scoped>\n",
       "    .dataframe tbody tr th:only-of-type {\n",
       "        vertical-align: middle;\n",
       "    }\n",
       "\n",
       "    .dataframe tbody tr th {\n",
       "        vertical-align: top;\n",
       "    }\n",
       "\n",
       "    .dataframe thead th {\n",
       "        text-align: right;\n",
       "    }\n",
       "</style>\n",
       "<table border=\"1\" class=\"dataframe\">\n",
       "  <thead>\n",
       "    <tr style=\"text-align: right;\">\n",
       "      <th></th>\n",
       "      <th>ID</th>\n",
       "      <th>Gene</th>\n",
       "      <th>Variation</th>\n",
       "      <th>Class</th>\n",
       "      <th>Text</th>\n",
       "    </tr>\n",
       "  </thead>\n",
       "  <tbody>\n",
       "    <tr>\n",
       "      <th>1508</th>\n",
       "      <td>1508</td>\n",
       "      <td>ALK</td>\n",
       "      <td>L1122V</td>\n",
       "      <td>7</td>\n",
       "      <td>In the era of personalized medicine, understan...</td>\n",
       "    </tr>\n",
       "    <tr>\n",
       "      <th>2815</th>\n",
       "      <td>2815</td>\n",
       "      <td>BRCA2</td>\n",
       "      <td>K2472T</td>\n",
       "      <td>6</td>\n",
       "      <td>Purpose Rare missense substitutions and in-fra...</td>\n",
       "    </tr>\n",
       "    <tr>\n",
       "      <th>2947</th>\n",
       "      <td>2947</td>\n",
       "      <td>KDR</td>\n",
       "      <td>D717V</td>\n",
       "      <td>7</td>\n",
       "      <td>Angiosarcomas (AS) represent a heterogeneous g...</td>\n",
       "    </tr>\n",
       "    <tr>\n",
       "      <th>1040</th>\n",
       "      <td>1040</td>\n",
       "      <td>TSC2</td>\n",
       "      <td>R1200W</td>\n",
       "      <td>4</td>\n",
       "      <td>Tuberous sclerosis complex (TSC) is an autosom...</td>\n",
       "    </tr>\n",
       "    <tr>\n",
       "      <th>534</th>\n",
       "      <td>534</td>\n",
       "      <td>SMAD2</td>\n",
       "      <td>R321Q</td>\n",
       "      <td>4</td>\n",
       "      <td>Abstract To investigate genetic alterations i...</td>\n",
       "    </tr>\n",
       "  </tbody>\n",
       "</table>\n",
       "</div>"
      ],
      "text/plain": [
       "        ID   Gene Variation  Class  \\\n",
       "1508  1508    ALK    L1122V      7   \n",
       "2815  2815  BRCA2    K2472T      6   \n",
       "2947  2947    KDR     D717V      7   \n",
       "1040  1040   TSC2    R1200W      4   \n",
       "534    534  SMAD2     R321Q      4   \n",
       "\n",
       "                                                   Text  \n",
       "1508  In the era of personalized medicine, understan...  \n",
       "2815  Purpose Rare missense substitutions and in-fra...  \n",
       "2947  Angiosarcomas (AS) represent a heterogeneous g...  \n",
       "1040  Tuberous sclerosis complex (TSC) is an autosom...  \n",
       "534    Abstract To investigate genetic alterations i...  "
      ]
     },
     "execution_count": 14,
     "metadata": {},
     "output_type": "execute_result"
    }
   ],
   "source": [
    "train_df.head()"
   ]
  },
  {
   "cell_type": "code",
   "execution_count": 15,
   "metadata": {},
   "outputs": [
    {
     "data": {
      "text/plain": [
       "(664, 5)"
      ]
     },
     "execution_count": 15,
     "metadata": {},
     "output_type": "execute_result"
    }
   ],
   "source": [
    "train_df.shape"
   ]
  },
  {
   "cell_type": "code",
   "execution_count": 16,
   "metadata": {},
   "outputs": [
    {
     "data": {
      "text/plain": [
       "7    196\n",
       "4    147\n",
       "1    117\n",
       "2     93\n",
       "6     49\n",
       "5     37\n",
       "3     16\n",
       "9      5\n",
       "8      4\n",
       "Name: Class, dtype: int64"
      ]
     },
     "execution_count": 16,
     "metadata": {},
     "output_type": "execute_result"
    }
   ],
   "source": [
    "train_df['Class'].value_counts()"
   ]
  },
  {
   "cell_type": "code",
   "execution_count": 17,
   "metadata": {},
   "outputs": [],
   "source": [
    "test_text_df = pd.read_csv('test_text.zip', sep=\"\\|\\|\", encoding=\"utf-8\",engine=\"python\", skiprows=1, names=[\"ID\", \"Text\"],compression='zip')\n"
   ]
  },
  {
   "cell_type": "code",
   "execution_count": 18,
   "metadata": {},
   "outputs": [],
   "source": [
    "test_vari_df  = pd.read_csv('test_variants.zip',compression='zip')"
   ]
  },
  {
   "cell_type": "code",
   "execution_count": 19,
   "metadata": {},
   "outputs": [
    {
     "data": {
      "text/html": [
       "<div>\n",
       "<style scoped>\n",
       "    .dataframe tbody tr th:only-of-type {\n",
       "        vertical-align: middle;\n",
       "    }\n",
       "\n",
       "    .dataframe tbody tr th {\n",
       "        vertical-align: top;\n",
       "    }\n",
       "\n",
       "    .dataframe thead th {\n",
       "        text-align: right;\n",
       "    }\n",
       "</style>\n",
       "<table border=\"1\" class=\"dataframe\">\n",
       "  <thead>\n",
       "    <tr style=\"text-align: right;\">\n",
       "      <th></th>\n",
       "      <th>ID</th>\n",
       "      <th>Gene</th>\n",
       "      <th>Variation</th>\n",
       "    </tr>\n",
       "  </thead>\n",
       "  <tbody>\n",
       "    <tr>\n",
       "      <th>0</th>\n",
       "      <td>0</td>\n",
       "      <td>ACSL4</td>\n",
       "      <td>R570S</td>\n",
       "    </tr>\n",
       "    <tr>\n",
       "      <th>1</th>\n",
       "      <td>1</td>\n",
       "      <td>NAGLU</td>\n",
       "      <td>P521L</td>\n",
       "    </tr>\n",
       "    <tr>\n",
       "      <th>2</th>\n",
       "      <td>2</td>\n",
       "      <td>PAH</td>\n",
       "      <td>L333F</td>\n",
       "    </tr>\n",
       "    <tr>\n",
       "      <th>3</th>\n",
       "      <td>3</td>\n",
       "      <td>ING1</td>\n",
       "      <td>A148D</td>\n",
       "    </tr>\n",
       "    <tr>\n",
       "      <th>4</th>\n",
       "      <td>4</td>\n",
       "      <td>TMEM216</td>\n",
       "      <td>G77A</td>\n",
       "    </tr>\n",
       "  </tbody>\n",
       "</table>\n",
       "</div>"
      ],
      "text/plain": [
       "   ID     Gene Variation\n",
       "0   0    ACSL4     R570S\n",
       "1   1    NAGLU     P521L\n",
       "2   2      PAH     L333F\n",
       "3   3     ING1     A148D\n",
       "4   4  TMEM216      G77A"
      ]
     },
     "execution_count": 19,
     "metadata": {},
     "output_type": "execute_result"
    }
   ],
   "source": [
    "test_vari_df.head()"
   ]
  },
  {
   "cell_type": "code",
   "execution_count": 20,
   "metadata": {},
   "outputs": [
    {
     "data": {
      "text/plain": [
       "(5668, 3)"
      ]
     },
     "execution_count": 20,
     "metadata": {},
     "output_type": "execute_result"
    }
   ],
   "source": [
    "test_vari_df.shape"
   ]
  },
  {
   "cell_type": "code",
   "execution_count": 21,
   "metadata": {},
   "outputs": [],
   "source": [
    "# test_vari_df sample\n",
    "test_vari_df=test_vari_df.sample(frac=0.1)"
   ]
  },
  {
   "cell_type": "code",
   "execution_count": 22,
   "metadata": {},
   "outputs": [],
   "source": [
    "# test_text_df sample\n",
    "test_text_df = test_text_df.sample(frac=0.1)"
   ]
  },
  {
   "cell_type": "code",
   "execution_count": 23,
   "metadata": {},
   "outputs": [
    {
     "data": {
      "text/plain": [
       "(567, 2)"
      ]
     },
     "execution_count": 23,
     "metadata": {},
     "output_type": "execute_result"
    }
   ],
   "source": [
    "test_text_df.shape"
   ]
  },
  {
   "cell_type": "code",
   "execution_count": 24,
   "metadata": {},
   "outputs": [
    {
     "data": {
      "text/html": [
       "<div>\n",
       "<style scoped>\n",
       "    .dataframe tbody tr th:only-of-type {\n",
       "        vertical-align: middle;\n",
       "    }\n",
       "\n",
       "    .dataframe tbody tr th {\n",
       "        vertical-align: top;\n",
       "    }\n",
       "\n",
       "    .dataframe thead th {\n",
       "        text-align: right;\n",
       "    }\n",
       "</style>\n",
       "<table border=\"1\" class=\"dataframe\">\n",
       "  <thead>\n",
       "    <tr style=\"text-align: right;\">\n",
       "      <th></th>\n",
       "      <th>ID</th>\n",
       "      <th>Text</th>\n",
       "    </tr>\n",
       "  </thead>\n",
       "  <tbody>\n",
       "    <tr>\n",
       "      <th>2066</th>\n",
       "      <td>2066</td>\n",
       "      <td>The DNA-damage response (DDR) plays a crucial ...</td>\n",
       "    </tr>\n",
       "    <tr>\n",
       "      <th>5358</th>\n",
       "      <td>5358</td>\n",
       "      <td>Mismatch-repair factors have a prominent role ...</td>\n",
       "    </tr>\n",
       "    <tr>\n",
       "      <th>436</th>\n",
       "      <td>436</td>\n",
       "      <td>Gain-of-function D816V point mutation within t...</td>\n",
       "    </tr>\n",
       "    <tr>\n",
       "      <th>5059</th>\n",
       "      <td>5059</td>\n",
       "      <td>Mutations in inositol polyphosphate 5-phosphat...</td>\n",
       "    </tr>\n",
       "    <tr>\n",
       "      <th>3114</th>\n",
       "      <td>3114</td>\n",
       "      <td>The androgen receptor (AR) is involved in the ...</td>\n",
       "    </tr>\n",
       "  </tbody>\n",
       "</table>\n",
       "</div>"
      ],
      "text/plain": [
       "        ID                                               Text\n",
       "2066  2066  The DNA-damage response (DDR) plays a crucial ...\n",
       "5358  5358  Mismatch-repair factors have a prominent role ...\n",
       "436    436  Gain-of-function D816V point mutation within t...\n",
       "5059  5059  Mutations in inositol polyphosphate 5-phosphat...\n",
       "3114  3114  The androgen receptor (AR) is involved in the ..."
      ]
     },
     "execution_count": 24,
     "metadata": {},
     "output_type": "execute_result"
    }
   ],
   "source": [
    "test_text_df.head()"
   ]
  },
  {
   "cell_type": "code",
   "execution_count": 25,
   "metadata": {},
   "outputs": [
    {
     "data": {
      "text/html": [
       "<div>\n",
       "<style scoped>\n",
       "    .dataframe tbody tr th:only-of-type {\n",
       "        vertical-align: middle;\n",
       "    }\n",
       "\n",
       "    .dataframe tbody tr th {\n",
       "        vertical-align: top;\n",
       "    }\n",
       "\n",
       "    .dataframe thead th {\n",
       "        text-align: right;\n",
       "    }\n",
       "</style>\n",
       "<table border=\"1\" class=\"dataframe\">\n",
       "  <thead>\n",
       "    <tr style=\"text-align: right;\">\n",
       "      <th></th>\n",
       "      <th>ID</th>\n",
       "      <th>Class</th>\n",
       "    </tr>\n",
       "    <tr>\n",
       "      <th>Gene</th>\n",
       "      <th></th>\n",
       "      <th></th>\n",
       "    </tr>\n",
       "  </thead>\n",
       "  <tbody>\n",
       "    <tr>\n",
       "      <th>ABL1</th>\n",
       "      <td>22087</td>\n",
       "      <td>62</td>\n",
       "    </tr>\n",
       "    <tr>\n",
       "      <th>ACVR1</th>\n",
       "      <td>3207</td>\n",
       "      <td>16</td>\n",
       "    </tr>\n",
       "    <tr>\n",
       "      <th>AGO2</th>\n",
       "      <td>10435</td>\n",
       "      <td>6</td>\n",
       "    </tr>\n",
       "    <tr>\n",
       "      <th>AKT1</th>\n",
       "      <td>37898</td>\n",
       "      <td>165</td>\n",
       "    </tr>\n",
       "    <tr>\n",
       "      <th>AKT2</th>\n",
       "      <td>15103</td>\n",
       "      <td>76</td>\n",
       "    </tr>\n",
       "  </tbody>\n",
       "</table>\n",
       "</div>"
      ],
      "text/plain": [
       "          ID  Class\n",
       "Gene               \n",
       "ABL1   22087     62\n",
       "ACVR1   3207     16\n",
       "AGO2   10435      6\n",
       "AKT1   37898    165\n",
       "AKT2   15103     76"
      ]
     },
     "execution_count": 25,
     "metadata": {},
     "output_type": "execute_result"
    }
   ],
   "source": [
    "train_vari_df.groupby('Gene').sum().head()"
   ]
  },
  {
   "cell_type": "code",
   "execution_count": 26,
   "metadata": {},
   "outputs": [
    {
     "data": {
      "text/html": [
       "<div>\n",
       "<style scoped>\n",
       "    .dataframe tbody tr th:only-of-type {\n",
       "        vertical-align: middle;\n",
       "    }\n",
       "\n",
       "    .dataframe tbody tr th {\n",
       "        vertical-align: top;\n",
       "    }\n",
       "\n",
       "    .dataframe thead th {\n",
       "        text-align: right;\n",
       "    }\n",
       "</style>\n",
       "<table border=\"1\" class=\"dataframe\">\n",
       "  <thead>\n",
       "    <tr style=\"text-align: right;\">\n",
       "      <th></th>\n",
       "      <th>ID</th>\n",
       "      <th>Variation</th>\n",
       "      <th>Class</th>\n",
       "    </tr>\n",
       "    <tr>\n",
       "      <th>Gene</th>\n",
       "      <th></th>\n",
       "      <th></th>\n",
       "      <th></th>\n",
       "    </tr>\n",
       "  </thead>\n",
       "  <tbody>\n",
       "    <tr>\n",
       "      <th>ABL1</th>\n",
       "      <td>26</td>\n",
       "      <td>26</td>\n",
       "      <td>26</td>\n",
       "    </tr>\n",
       "    <tr>\n",
       "      <th>ACVR1</th>\n",
       "      <td>3</td>\n",
       "      <td>3</td>\n",
       "      <td>3</td>\n",
       "    </tr>\n",
       "    <tr>\n",
       "      <th>AGO2</th>\n",
       "      <td>5</td>\n",
       "      <td>5</td>\n",
       "      <td>5</td>\n",
       "    </tr>\n",
       "    <tr>\n",
       "      <th>AKT1</th>\n",
       "      <td>28</td>\n",
       "      <td>28</td>\n",
       "      <td>28</td>\n",
       "    </tr>\n",
       "    <tr>\n",
       "      <th>AKT2</th>\n",
       "      <td>11</td>\n",
       "      <td>11</td>\n",
       "      <td>11</td>\n",
       "    </tr>\n",
       "  </tbody>\n",
       "</table>\n",
       "</div>"
      ],
      "text/plain": [
       "       ID  Variation  Class\n",
       "Gene                       \n",
       "ABL1   26         26     26\n",
       "ACVR1   3          3      3\n",
       "AGO2    5          5      5\n",
       "AKT1   28         28     28\n",
       "AKT2   11         11     11"
      ]
     },
     "execution_count": 26,
     "metadata": {},
     "output_type": "execute_result"
    }
   ],
   "source": [
    "train_vari_df.groupby('Gene').count().head()"
   ]
  },
  {
   "cell_type": "code",
   "execution_count": 27,
   "metadata": {},
   "outputs": [
    {
     "data": {
      "text/html": [
       "<div>\n",
       "<style scoped>\n",
       "    .dataframe tbody tr th:only-of-type {\n",
       "        vertical-align: middle;\n",
       "    }\n",
       "\n",
       "    .dataframe tbody tr th {\n",
       "        vertical-align: top;\n",
       "    }\n",
       "\n",
       "    .dataframe thead th {\n",
       "        text-align: right;\n",
       "    }\n",
       "</style>\n",
       "<table border=\"1\" class=\"dataframe\">\n",
       "  <thead>\n",
       "    <tr style=\"text-align: right;\">\n",
       "      <th></th>\n",
       "      <th>ID</th>\n",
       "      <th>Gene</th>\n",
       "      <th>Variation</th>\n",
       "      <th>Class</th>\n",
       "    </tr>\n",
       "  </thead>\n",
       "  <tbody>\n",
       "    <tr>\n",
       "      <th>2085</th>\n",
       "      <td>2085</td>\n",
       "      <td>AGO2</td>\n",
       "      <td>R812A</td>\n",
       "      <td>1</td>\n",
       "    </tr>\n",
       "    <tr>\n",
       "      <th>2086</th>\n",
       "      <td>2086</td>\n",
       "      <td>AGO2</td>\n",
       "      <td>R647A</td>\n",
       "      <td>1</td>\n",
       "    </tr>\n",
       "    <tr>\n",
       "      <th>2087</th>\n",
       "      <td>2087</td>\n",
       "      <td>AGO2</td>\n",
       "      <td>R583A</td>\n",
       "      <td>1</td>\n",
       "    </tr>\n",
       "    <tr>\n",
       "      <th>2088</th>\n",
       "      <td>2088</td>\n",
       "      <td>AGO2</td>\n",
       "      <td>Amplification</td>\n",
       "      <td>2</td>\n",
       "    </tr>\n",
       "    <tr>\n",
       "      <th>2089</th>\n",
       "      <td>2089</td>\n",
       "      <td>AGO2</td>\n",
       "      <td>Q545A</td>\n",
       "      <td>1</td>\n",
       "    </tr>\n",
       "  </tbody>\n",
       "</table>\n",
       "</div>"
      ],
      "text/plain": [
       "        ID  Gene      Variation  Class\n",
       "2085  2085  AGO2          R812A      1\n",
       "2086  2086  AGO2          R647A      1\n",
       "2087  2087  AGO2          R583A      1\n",
       "2088  2088  AGO2  Amplification      2\n",
       "2089  2089  AGO2          Q545A      1"
      ]
     },
     "execution_count": 27,
     "metadata": {},
     "output_type": "execute_result"
    }
   ],
   "source": [
    "train_vari_df[train_vari_df['Gene'] == 'AGO2']"
   ]
  },
  {
   "cell_type": "code",
   "execution_count": 28,
   "metadata": {},
   "outputs": [],
   "source": [
    "merged_df=train_vari_df.merge(train_text_df,on= 'ID')"
   ]
  },
  {
   "cell_type": "markdown",
   "metadata": {},
   "source": [
    "[link to destination](#destination)"
   ]
  },
  {
   "cell_type": "code",
   "execution_count": 29,
   "metadata": {
    "colab": {
     "base_uri": "https://localhost:8080/",
     "height": 38
    },
    "executionInfo": {
     "elapsed": 98,
     "status": "ok",
     "timestamp": 1638286184867,
     "user": {
      "displayName": "Anubrata Das",
      "photoUrl": "https://lh3.googleusercontent.com/a-/AOh14GiI2340pPpSj6e4aG_4urL4HRwW3MRXEf5aoo2_QA=s64",
      "userId": "08781375266004215524"
     },
     "user_tz": -330
    },
    "id": "9SoN9RkCag-o",
    "outputId": "7f64e0fd-3acd-42a0-9d80-2dd56677fb44"
   },
   "outputs": [
    {
     "data": {
      "text/plain": [
       "'!\"#$%&\\'()*+,-./:;<=>?@[\\\\]^_`{|}~'"
      ]
     },
     "execution_count": 29,
     "metadata": {},
     "output_type": "execute_result"
    }
   ],
   "source": [
    "import string\n",
    "string.punctuation"
   ]
  },
  {
   "cell_type": "code",
   "execution_count": 30,
   "metadata": {
    "executionInfo": {
     "elapsed": 90,
     "status": "ok",
     "timestamp": 1638286184868,
     "user": {
      "displayName": "Anubrata Das",
      "photoUrl": "https://lh3.googleusercontent.com/a-/AOh14GiI2340pPpSj6e4aG_4urL4HRwW3MRXEf5aoo2_QA=s64",
      "userId": "08781375266004215524"
     },
     "user_tz": -330
    },
    "id": "Zoqhi_AKamax"
   },
   "outputs": [],
   "source": [
    "revised_punctuation='!\"#$%&\\'()*+,./:;<=>?@[\\\\]^_`{|}~'"
   ]
  },
  {
   "cell_type": "code",
   "execution_count": 31,
   "metadata": {},
   "outputs": [
    {
     "data": {
      "text/plain": [
       "'!\"#$%&\\'()*+,./:;<=>?@[\\\\]^_`{|}~'"
      ]
     },
     "execution_count": 31,
     "metadata": {},
     "output_type": "execute_result"
    }
   ],
   "source": [
    "revised_punctuation"
   ]
  },
  {
   "cell_type": "code",
   "execution_count": 32,
   "metadata": {},
   "outputs": [],
   "source": [
    "#!pip install nltk"
   ]
  },
  {
   "cell_type": "code",
   "execution_count": 33,
   "metadata": {
    "executionInfo": {
     "elapsed": 92,
     "status": "ok",
     "timestamp": 1638286184873,
     "user": {
      "displayName": "Anubrata Das",
      "photoUrl": "https://lh3.googleusercontent.com/a-/AOh14GiI2340pPpSj6e4aG_4urL4HRwW3MRXEf5aoo2_QA=s64",
      "userId": "08781375266004215524"
     },
     "user_tz": -330
    },
    "id": "UoSJBAQWis7w"
   },
   "outputs": [
    {
     "name": "stderr",
     "output_type": "stream",
     "text": [
      "[nltk_data] Downloading package words to\n",
      "[nltk_data]     C:\\Users\\anubr\\AppData\\Roaming\\nltk_data...\n",
      "[nltk_data]   Package words is already up-to-date!\n"
     ]
    }
   ],
   "source": [
    "import nltk\n",
    "nltk.download('words')\n",
    "from nltk.corpus import words\n",
    "words=nltk.corpus.words.words()"
   ]
  },
  {
   "cell_type": "code",
   "execution_count": 34,
   "metadata": {},
   "outputs": [
    {
     "data": {
      "text/plain": [
       "235892"
      ]
     },
     "execution_count": 34,
     "metadata": {},
     "output_type": "execute_result"
    }
   ],
   "source": [
    "len(set(words))"
   ]
  },
  {
   "cell_type": "code",
   "execution_count": 35,
   "metadata": {},
   "outputs": [],
   "source": [
    "nltk_words=set(words)"
   ]
  },
  {
   "cell_type": "code",
   "execution_count": 36,
   "metadata": {},
   "outputs": [],
   "source": [
    "# set did not help as it reduces the number to \n",
    "# def reduce_words(row,index): \n",
    "#     text=row[1]\n",
    "#     if isinstance(text,str):\n",
    "#         new_text_words = set(text.split())\n",
    "        \n",
    "#         important_words = new_text_words.difference(words)\n",
    "#         edited_words = \" \".join(important_words)\n",
    "        \n",
    "#         intersected_words = new_text_words.intersection(words)\n",
    "#         edit_intersect_words = \" \".join(intersected_words)\n",
    "#         train_text_df['new_text'][index] = edited_words\n",
    "#         train_text_df['intsct_text'][index] = edit_intersect_words "
   ]
  },
  {
   "cell_type": "code",
   "execution_count": 37,
   "metadata": {},
   "outputs": [],
   "source": [
    "#from collections import Counter"
   ]
  },
  {
   "cell_type": "code",
   "execution_count": 38,
   "metadata": {},
   "outputs": [],
   "source": [
    "def reduce_words_df(row,index): \n",
    "    text=row[1]\n",
    "    if isinstance(text,str):\n",
    "        new_text_words = text.split()\n",
    "        counted_words = Counter(new_text_words) \n",
    "        counted_words=sorted(counted_words.items(),key=lambda x:x[1], reverse=True)\n",
    "        test['new_text'][index] = counted_words        "
   ]
  },
  {
   "cell_type": "code",
   "execution_count": 39,
   "metadata": {},
   "outputs": [],
   "source": [
    "# for index,row in test.iterrows():\n",
    "#     reduce_words(row,index)"
   ]
  },
  {
   "cell_type": "code",
   "execution_count": 40,
   "metadata": {
    "executionInfo": {
     "elapsed": 90,
     "status": "ok",
     "timestamp": 1638286184874,
     "user": {
      "displayName": "Anubrata Das",
      "photoUrl": "https://lh3.googleusercontent.com/a-/AOh14GiI2340pPpSj6e4aG_4urL4HRwW3MRXEf5aoo2_QA=s64",
      "userId": "08781375266004215524"
     },
     "user_tz": -330
    },
    "id": "dZa3dSo_KOra"
   },
   "outputs": [],
   "source": [
    "def cleanse_data(data):        \n",
    "    if isinstance(data,str):\n",
    "        no_punctuation = [char for char in data.replace('\\n',' ') if char not in revised_punctuation]\n",
    "        no_punctuation_txt = ''.join(no_punctuation)                   \n",
    "        return no_punctuation_txt\n",
    "    else:\n",
    "        return \"NA\""
   ]
  },
  {
   "cell_type": "code",
   "execution_count": 41,
   "metadata": {},
   "outputs": [],
   "source": [
    "def reduce_words(data):\n",
    "    data = data.split()\n",
    "    words = [word for word in data if word not in nltk_words]\n",
    "    text = \" \".join(words)\n",
    "    return text    "
   ]
  },
  {
   "cell_type": "code",
   "execution_count": 42,
   "metadata": {},
   "outputs": [],
   "source": [
    "def word_count(text):\n",
    "    text_lst=text.split()\n",
    "    vector = [text_lst.count(str(word)) for word in text_lst]\n",
    "    return vector[:300]"
   ]
  },
  {
   "cell_type": "code",
   "execution_count": 43,
   "metadata": {},
   "outputs": [],
   "source": [
    "from nltk.probability import FreqDist"
   ]
  },
  {
   "cell_type": "markdown",
   "metadata": {
    "id": "eHrZ7Ae4odHg"
   },
   "source": [
    "we have obtained the frequency distribution of words using freqdist"
   ]
  },
  {
   "cell_type": "code",
   "execution_count": 44,
   "metadata": {},
   "outputs": [],
   "source": [
    "def freq_dist(data):\n",
    "    data=data.split(\" \")\n",
    "    freq=FreqDist(data) # gets word frequency\n",
    "    freq=sorted(freq.items(),key=lambda x:x[1], reverse=True) # sorts words from highest to lowest frequency\n",
    "    return [item[1] for item in freq][:300] # returns a fixed length of 300 words"
   ]
  },
  {
   "cell_type": "code",
   "execution_count": 45,
   "metadata": {},
   "outputs": [],
   "source": [
    "# implementing bag of words"
   ]
  },
  {
   "cell_type": "code",
   "execution_count": 46,
   "metadata": {},
   "outputs": [],
   "source": [
    "from sklearn.feature_extraction.text import CountVectorizer"
   ]
  },
  {
   "cell_type": "code",
   "execution_count": 47,
   "metadata": {},
   "outputs": [],
   "source": [
    "bow_vectorizer = CountVectorizer(stop_words='english',max_features=1600)"
   ]
  },
  {
   "cell_type": "code",
   "execution_count": 48,
   "metadata": {},
   "outputs": [],
   "source": [
    "# implementing tf-idf"
   ]
  },
  {
   "cell_type": "code",
   "execution_count": 49,
   "metadata": {},
   "outputs": [],
   "source": [
    "from sklearn.feature_extraction.text import TfidfVectorizer"
   ]
  },
  {
   "cell_type": "code",
   "execution_count": 50,
   "metadata": {},
   "outputs": [],
   "source": [
    "tfidf_vectorizer = TfidfVectorizer(\n",
    "    min_df=1, max_features=1600, strip_accents='unicode',lowercase =True,\n",
    "    analyzer='word', token_pattern=r'\\w+', ngram_range=(1, 3), use_idf=True, \n",
    "    smooth_idf=True, sublinear_tf=True, stop_words = 'english')"
   ]
  },
  {
   "cell_type": "code",
   "execution_count": 51,
   "metadata": {},
   "outputs": [],
   "source": [
    "# https://melaniewalsh.github.io/Intro-Cultural-Analytics/05-Text-Analysis/03-TF-IDF-Scikit-Learn.html\n",
    "# https://www.datacamp.com/community/tutorials/understanding-logistic-regression-python\n",
    "# https://machinelearningmastery.com/multinomial-logistic-regression-with-python/\n",
    "# https://www.kaggle.com/elemento/personalizedmedicine-rct"
   ]
  },
  {
   "cell_type": "code",
   "execution_count": 52,
   "metadata": {},
   "outputs": [],
   "source": [
    "from sklearn.linear_model import LogisticRegression"
   ]
  },
  {
   "cell_type": "code",
   "execution_count": 53,
   "metadata": {},
   "outputs": [],
   "source": [
    "from sklearn.metrics import log_loss"
   ]
  },
  {
   "cell_type": "code",
   "execution_count": 54,
   "metadata": {},
   "outputs": [],
   "source": [
    "# define the multinomial logistic regression model\n",
    "bow_model = LogisticRegression(multi_class='multinomial', solver='lbfgs')\n",
    "tfidf_model = LogisticRegression(multi_class='multinomial', solver='lbfgs')"
   ]
  },
  {
   "cell_type": "code",
   "execution_count": 55,
   "metadata": {},
   "outputs": [],
   "source": [
    "#sorted(bow_model.coef_.tolist()[0])[:5]"
   ]
  },
  {
   "cell_type": "code",
   "execution_count": 56,
   "metadata": {},
   "outputs": [],
   "source": [
    "#sorted(tfidf_model.coef_.tolist()[0])[:5]"
   ]
  },
  {
   "cell_type": "markdown",
   "metadata": {},
   "source": [
    "<a id=\"train_data\" style=\"font-size:22px\">model train text sample data</a>"
   ]
  },
  {
   "cell_type": "markdown",
   "metadata": {},
   "source": [
    "[Beginning of Notebook](#top)"
   ]
  },
  {
   "cell_type": "markdown",
   "metadata": {},
   "source": [
    "### handling the train text sample data                  "
   ]
  },
  {
   "cell_type": "markdown",
   "metadata": {},
   "source": [
    "#### text preprocessing"
   ]
  },
  {
   "cell_type": "code",
   "execution_count": 57,
   "metadata": {},
   "outputs": [
    {
     "data": {
      "text/html": [
       "<div>\n",
       "<style scoped>\n",
       "    .dataframe tbody tr th:only-of-type {\n",
       "        vertical-align: middle;\n",
       "    }\n",
       "\n",
       "    .dataframe tbody tr th {\n",
       "        vertical-align: top;\n",
       "    }\n",
       "\n",
       "    .dataframe thead th {\n",
       "        text-align: right;\n",
       "    }\n",
       "</style>\n",
       "<table border=\"1\" class=\"dataframe\">\n",
       "  <thead>\n",
       "    <tr style=\"text-align: right;\">\n",
       "      <th></th>\n",
       "      <th>ID</th>\n",
       "      <th>Gene</th>\n",
       "      <th>Variation</th>\n",
       "      <th>Class</th>\n",
       "      <th>Text</th>\n",
       "    </tr>\n",
       "  </thead>\n",
       "  <tbody>\n",
       "    <tr>\n",
       "      <th>1508</th>\n",
       "      <td>1508</td>\n",
       "      <td>ALK</td>\n",
       "      <td>L1122V</td>\n",
       "      <td>7</td>\n",
       "      <td>In the era of personalized medicine, understan...</td>\n",
       "    </tr>\n",
       "    <tr>\n",
       "      <th>2815</th>\n",
       "      <td>2815</td>\n",
       "      <td>BRCA2</td>\n",
       "      <td>K2472T</td>\n",
       "      <td>6</td>\n",
       "      <td>Purpose Rare missense substitutions and in-fra...</td>\n",
       "    </tr>\n",
       "    <tr>\n",
       "      <th>2947</th>\n",
       "      <td>2947</td>\n",
       "      <td>KDR</td>\n",
       "      <td>D717V</td>\n",
       "      <td>7</td>\n",
       "      <td>Angiosarcomas (AS) represent a heterogeneous g...</td>\n",
       "    </tr>\n",
       "    <tr>\n",
       "      <th>1040</th>\n",
       "      <td>1040</td>\n",
       "      <td>TSC2</td>\n",
       "      <td>R1200W</td>\n",
       "      <td>4</td>\n",
       "      <td>Tuberous sclerosis complex (TSC) is an autosom...</td>\n",
       "    </tr>\n",
       "    <tr>\n",
       "      <th>534</th>\n",
       "      <td>534</td>\n",
       "      <td>SMAD2</td>\n",
       "      <td>R321Q</td>\n",
       "      <td>4</td>\n",
       "      <td>Abstract To investigate genetic alterations i...</td>\n",
       "    </tr>\n",
       "  </tbody>\n",
       "</table>\n",
       "</div>"
      ],
      "text/plain": [
       "        ID   Gene Variation  Class  \\\n",
       "1508  1508    ALK    L1122V      7   \n",
       "2815  2815  BRCA2    K2472T      6   \n",
       "2947  2947    KDR     D717V      7   \n",
       "1040  1040   TSC2    R1200W      4   \n",
       "534    534  SMAD2     R321Q      4   \n",
       "\n",
       "                                                   Text  \n",
       "1508  In the era of personalized medicine, understan...  \n",
       "2815  Purpose Rare missense substitutions and in-fra...  \n",
       "2947  Angiosarcomas (AS) represent a heterogeneous g...  \n",
       "1040  Tuberous sclerosis complex (TSC) is an autosom...  \n",
       "534    Abstract To investigate genetic alterations i...  "
      ]
     },
     "execution_count": 57,
     "metadata": {},
     "output_type": "execute_result"
    }
   ],
   "source": [
    "train_df.head()"
   ]
  },
  {
   "cell_type": "code",
   "execution_count": 58,
   "metadata": {},
   "outputs": [],
   "source": [
    "# remove punctuation\n",
    "train_df['cleaned_text'] = train_df['Text'].map(cleanse_data,na_action='ignore')"
   ]
  },
  {
   "cell_type": "code",
   "execution_count": 59,
   "metadata": {},
   "outputs": [],
   "source": [
    "# filtering all common english words\n",
    "train_df['cleaned_text'] = train_df['cleaned_text'].map(reduce_words,na_action='ignore')"
   ]
  },
  {
   "cell_type": "code",
   "execution_count": 60,
   "metadata": {},
   "outputs": [],
   "source": [
    "train_df['Text_len'] = train_df['Text'].map(lambda x:len(str(x)))\n",
    "train_df['cleaned_text_len'] = train_df['cleaned_text'].map(lambda x:len(str(x)))"
   ]
  },
  {
   "cell_type": "code",
   "execution_count": 61,
   "metadata": {},
   "outputs": [
    {
     "data": {
      "text/html": [
       "<div>\n",
       "<style scoped>\n",
       "    .dataframe tbody tr th:only-of-type {\n",
       "        vertical-align: middle;\n",
       "    }\n",
       "\n",
       "    .dataframe tbody tr th {\n",
       "        vertical-align: top;\n",
       "    }\n",
       "\n",
       "    .dataframe thead th {\n",
       "        text-align: right;\n",
       "    }\n",
       "</style>\n",
       "<table border=\"1\" class=\"dataframe\">\n",
       "  <thead>\n",
       "    <tr style=\"text-align: right;\">\n",
       "      <th></th>\n",
       "      <th>ID</th>\n",
       "      <th>Gene</th>\n",
       "      <th>Variation</th>\n",
       "      <th>Class</th>\n",
       "      <th>Text</th>\n",
       "      <th>cleaned_text</th>\n",
       "      <th>Text_len</th>\n",
       "      <th>cleaned_text_len</th>\n",
       "    </tr>\n",
       "  </thead>\n",
       "  <tbody>\n",
       "    <tr>\n",
       "      <th>1508</th>\n",
       "      <td>1508</td>\n",
       "      <td>ALK</td>\n",
       "      <td>L1122V</td>\n",
       "      <td>7</td>\n",
       "      <td>In the era of personalized medicine, understan...</td>\n",
       "      <td>In personalized drivers oncogenesis characteri...</td>\n",
       "      <td>46112</td>\n",
       "      <td>21449</td>\n",
       "    </tr>\n",
       "    <tr>\n",
       "      <th>2815</th>\n",
       "      <td>2815</td>\n",
       "      <td>BRCA2</td>\n",
       "      <td>K2472T</td>\n",
       "      <td>6</td>\n",
       "      <td>Purpose Rare missense substitutions and in-fra...</td>\n",
       "      <td>Purpose Rare missense substitutions in-frame d...</td>\n",
       "      <td>22678</td>\n",
       "      <td>8114</td>\n",
       "    </tr>\n",
       "    <tr>\n",
       "      <th>2947</th>\n",
       "      <td>2947</td>\n",
       "      <td>KDR</td>\n",
       "      <td>D717V</td>\n",
       "      <td>7</td>\n",
       "      <td>Angiosarcomas (AS) represent a heterogeneous g...</td>\n",
       "      <td>Angiosarcomas AS tumors occurring locations se...</td>\n",
       "      <td>15704</td>\n",
       "      <td>6686</td>\n",
       "    </tr>\n",
       "    <tr>\n",
       "      <th>1040</th>\n",
       "      <td>1040</td>\n",
       "      <td>TSC2</td>\n",
       "      <td>R1200W</td>\n",
       "      <td>4</td>\n",
       "      <td>Tuberous sclerosis complex (TSC) is an autosom...</td>\n",
       "      <td>Tuberous TSC characterized symptoms hamartomat...</td>\n",
       "      <td>21240</td>\n",
       "      <td>10075</td>\n",
       "    </tr>\n",
       "    <tr>\n",
       "      <th>534</th>\n",
       "      <td>534</td>\n",
       "      <td>SMAD2</td>\n",
       "      <td>R321Q</td>\n",
       "      <td>4</td>\n",
       "      <td>Abstract To investigate genetic alterations i...</td>\n",
       "      <td>Abstract To alterations TGF-β signaling colore...</td>\n",
       "      <td>67598</td>\n",
       "      <td>27850</td>\n",
       "    </tr>\n",
       "  </tbody>\n",
       "</table>\n",
       "</div>"
      ],
      "text/plain": [
       "        ID   Gene Variation  Class  \\\n",
       "1508  1508    ALK    L1122V      7   \n",
       "2815  2815  BRCA2    K2472T      6   \n",
       "2947  2947    KDR     D717V      7   \n",
       "1040  1040   TSC2    R1200W      4   \n",
       "534    534  SMAD2     R321Q      4   \n",
       "\n",
       "                                                   Text  \\\n",
       "1508  In the era of personalized medicine, understan...   \n",
       "2815  Purpose Rare missense substitutions and in-fra...   \n",
       "2947  Angiosarcomas (AS) represent a heterogeneous g...   \n",
       "1040  Tuberous sclerosis complex (TSC) is an autosom...   \n",
       "534    Abstract To investigate genetic alterations i...   \n",
       "\n",
       "                                           cleaned_text  Text_len  \\\n",
       "1508  In personalized drivers oncogenesis characteri...     46112   \n",
       "2815  Purpose Rare missense substitutions in-frame d...     22678   \n",
       "2947  Angiosarcomas AS tumors occurring locations se...     15704   \n",
       "1040  Tuberous TSC characterized symptoms hamartomat...     21240   \n",
       "534   Abstract To alterations TGF-β signaling colore...     67598   \n",
       "\n",
       "      cleaned_text_len  \n",
       "1508             21449  \n",
       "2815              8114  \n",
       "2947              6686  \n",
       "1040             10075  \n",
       "534              27850  "
      ]
     },
     "execution_count": 61,
     "metadata": {},
     "output_type": "execute_result"
    }
   ],
   "source": [
    "train_df.head()"
   ]
  },
  {
   "cell_type": "code",
   "execution_count": 62,
   "metadata": {},
   "outputs": [
    {
     "data": {
      "text/html": [
       "<div>\n",
       "<style scoped>\n",
       "    .dataframe tbody tr th:only-of-type {\n",
       "        vertical-align: middle;\n",
       "    }\n",
       "\n",
       "    .dataframe tbody tr th {\n",
       "        vertical-align: top;\n",
       "    }\n",
       "\n",
       "    .dataframe thead th {\n",
       "        text-align: right;\n",
       "    }\n",
       "</style>\n",
       "<table border=\"1\" class=\"dataframe\">\n",
       "  <thead>\n",
       "    <tr style=\"text-align: right;\">\n",
       "      <th></th>\n",
       "      <th>ID</th>\n",
       "      <th>Gene</th>\n",
       "      <th>Variation</th>\n",
       "      <th>Class</th>\n",
       "      <th>Text</th>\n",
       "      <th>cleaned_text</th>\n",
       "      <th>Text_len</th>\n",
       "      <th>cleaned_text_len</th>\n",
       "    </tr>\n",
       "  </thead>\n",
       "  <tbody>\n",
       "  </tbody>\n",
       "</table>\n",
       "</div>"
      ],
      "text/plain": [
       "Empty DataFrame\n",
       "Columns: [ID, Gene, Variation, Class, Text, cleaned_text, Text_len, cleaned_text_len]\n",
       "Index: []"
      ]
     },
     "execution_count": 62,
     "metadata": {},
     "output_type": "execute_result"
    }
   ],
   "source": [
    "train_df[train_df['cleaned_text'].map(lambda x:not isinstance(x,str))]"
   ]
  },
  {
   "cell_type": "code",
   "execution_count": null,
   "metadata": {},
   "outputs": [],
   "source": [
    "train_df.drop([1109],axis=0,inplace=True)"
   ]
  },
  {
   "cell_type": "markdown",
   "metadata": {},
   "source": [
    "#### converting text to numbers"
   ]
  },
  {
   "cell_type": "code",
   "execution_count": 63,
   "metadata": {},
   "outputs": [],
   "source": [
    "train_df_corpus = train_df['cleaned_text'].tolist()"
   ]
  },
  {
   "cell_type": "code",
   "execution_count": 64,
   "metadata": {},
   "outputs": [
    {
     "data": {
      "text/plain": [
       "CountVectorizer(max_features=1600, stop_words='english')"
      ]
     },
     "execution_count": 64,
     "metadata": {},
     "output_type": "execute_result"
    }
   ],
   "source": [
    "bow_vectorizer.fit(train_df_corpus)"
   ]
  },
  {
   "cell_type": "code",
   "execution_count": 66,
   "metadata": {},
   "outputs": [],
   "source": [
    "train_df_counts= bow_vectorizer.transform(train_df_corpus)"
   ]
  },
  {
   "cell_type": "code",
   "execution_count": 67,
   "metadata": {},
   "outputs": [
    {
     "name": "stdout",
     "output_type": "stream",
     "text": [
      "Vocabulary:  {'drivers': 545, 'oncogenesis': 1078, 'characteristics': 377, 'therapies': 1484, 'identifying': 782, 'mutations': 1018, 'sequencing': 1355, 'cohorts': 401, 'family': 626, 'including': 812, 'genes': 695, 'oncogenes': 1077, 'forms': 665, 'changes': 376, 'implicated': 805, 'et': 593, 'mycn': 1020, 'oncogene': 1076, 'tumors': 1525, 'subsets': 1433, 'encoding': 571, 'like': 902, 'families': 625, 'reviewed': 1305, 'old': 1074, 'pedigrees': 1127, '20': 64, 'showed': 1361, 'using': 1543, 'genome': 697, 'polymorphisms': 1165, 'snps': 1397, 'identified': 781, 'germline': 703, 'alk': 238, 'predicted': 1177, 'substitutions': 1434, 'fig': 645, 'proteins': 1210, 'containing': 432, 'indicated': 817, 'figure': 647, 'domains': 536, 'pathways': 1110, 'inhibitors': 831, 'amino': 249, 'acid': 208, 'positions': 1169, 'snp': 1396, 'based': 305, 'methods': 974, 'studies': 1428, 'results': 1298, 'resulted': 1297, 'increases': 814, 'autophosphorylation': 298, 'akt': 229, 'lines': 905, '3t3': 119, 'baf3': 300, 'tissues': 1488, 'differences': 515, 'individuals': 820, 'disease': 522, 'free': 670, 'single': 1376, 'gene': 692, 'leads': 891, 'cells': 369, 'activated': 212, 'tumorigenesis': 1523, 'targeted': 1466, 'followed': 661, 'non': 1046, 'mediated': 956, 'small': 1390, 'molecule': 995, 'supported': 1448, 'cases': 351, 'wild': 1576, 'type': 1528, 'activating': 214, 'f1174l': 620, 'occurred': 1070, 'met': 972, 'crizotinib': 455, 'contained': 431, 'harboring': 737, 'levels': 896, 'phosphorylated': 1142, 'increased': 813, 'supports': 1449, '600': 153, 'eml4': 568, 'cell': 368, 'kinases': 873, 'overexpressed': 1087, 'interactions': 845, 'strategies': 1424, 'targeting': 1467, 'cancers': 347, 'insights': 839, 'trials': 1515, 'subgroups': 1431, 'approaches': 272, '70': 165, '80': 175, 'lymphomas': 924, 'caused': 354, 'oncogenic': 1079, 'npm': 1054, 'approved': 273, 'stage': 1413, 'patients': 1112, 'located': 911, 'second': 1344, 'line': 904, 'iii': 789, 'tki': 1491, 'ap26113': 264, 'targets': 1468, 'egfr': 561, 'sup': 1443, 'm2': 929, 'concentrations': 412, 'demonstrated': 493, 'ic50': 778, 'values': 1552, '1000': 17, 'fold': 659, 'populations': 1168, 'overexpression': 1089, 'spanning': 1403, 'l1196m': 876, 'mechanisms': 955, 'resistant': 1292, 'implications': 806, 'systems': 1456, 'provides': 1212, 'cancer': 346, 'res': 1287, '83': 179, '2014': 80, 'introduction': 849, 'years': 1587, 'malignancies': 933, 'recognized': 1256, 'involving': 855, 'described': 502, '50': 137, 'nsclc': 1059, 'types': 1529, 'colorectal': 403, '10': 15, 'length': 892, '11': 26, '12': 31, 'glioblastoma': 710, '13': 37, '14': 40, 'properties': 1205, 'ras': 1236, 'pi3kakt': 1148, '15': 42, '17': 46, 'related': 1272, 'diseases': 523, 'treated': 1512, 'progression': 1198, 'pfs': 1131, 'compared': 405, 'os': 1084, 'observed': 1068, '18': 47, '19': 50, 'long': 914, 'term': 1473, 'follow': 660, 'reported': 1279, 'tolerated': 1494, 'expected': 611, 'refs': 1263, '21': 82, '22': 83, 'department': 497, 'health': 744, 'science': 1339, 'university': 1538, 'research': 1288, 'section': 1346, 'hospital': 765, 'note': 1052, 'supplementary': 1446, 'molecular': 994, 'online': 1081, 'author': 296, '48': 130, '39': 113, 'doi': 534, 'association': 289, 'downloaded': 542, '28': 91, '2017': 81, 'published': 1218, '24': 85, 'clones': 391, 'detected': 507, '23': 84, '26': 89, 'generation': 694, '27': 90, 'ceritinib': 371, 'alectinib': 235, 'roche': 1314, 'asp3026': 284, 'xenograft': 1581, 'doses': 539, 'unfortunately': 1536, 'derived': 501, 'cross': 457, 'resistance': 1291, 'mutated': 1015, 'mutants': 1014, 'materials': 944, 'pro': 1185, 'purchased': 1220, 'verified': 1562, '29': 93, 'nmoll': 1045, 'replaced': 1278, 'rpmi': 1317, '1640': 45, 'supplemented': 1447, '72': 167, 'hours': 769, 'maintained': 931, 'fbs': 630, 'cho': 382, 'transduced': 1503, 'plasmid': 1153, 'mgml': 978, 'site': 1379, 'directed': 519, 'mutagenesis': 1012, 'wt': 1580, 'na': 1022, 'dr': 543, 'st': 1411, 'pcdna3': 1118, 'performed': 1129, 'ii': 788, 'xl': 1583, 'stratagene': 1423, 'manufacturers': 935, 'instructions': 842, 'primers': 1183, 'follows': 663, '30': 103, 'sequence': 1352, 'id': 779, 'fish': 652, 'consists': 427, 'kb': 865, 'slides': 1384, 'procedures': 1191, 'probes': 1190, 'minutes': 982, 'ph': 1132, '53': 141, 'laboratories': 880, 'usa': 1542, 'anti': 261, 'pcr': 1119, 'rt': 1319, 'breakpoint': 337, 'amplified': 253, 'high': 757, 'polymerase': 1164, 'products': 1195, 'real': 1248, 'time': 1486, 'exome': 606, 'generated': 693, 'mg': 975, 'dna': 530, 'genomic': 699, 'life': 898, 'technology': 1471, '200': 65, '500': 138, 'bp': 330, 'processed': 1192, 'illumina': 791, 'enriched': 575, 'sequenced': 1353, '76': 171, 'end': 572, 'reads': 1246, 'processing': 1194, 'analysis': 255, 'software': 1398, 'sanger': 1331, 'sequences': 1354, 'aligned': 237, 'database': 477, 'samples': 1330, 'matched': 943, 'copy': 441, '31': 105, 'western': 1575, 'antibodies': 262, 'compounds': 411, 'harvested': 738, 'pbs': 1116, '4c': 134, 'resuspended': 1299, '100': 16, 'amersham': 248, 'incubated': 815, '25': 87, 'secondary': 1345, 'conjugated': 421, 'mouse': 1001, 'visualized': 1566, 'recommended': 1258, 'monoclonal': 998, 'phospho': 1138, 'stat3': 1416, 'tyr': 1530, 'signaling': 1369, 'actin': 211, 'polyclonal': 1163, 'proliferation': 1199, '96': 192, 'plates': 1155, 'mmoll': 989, 'labeled': 879, 'dose': 538, 'response': 1294, 'curves': 465, 'analyzed': 256, 'prism': 1184, 'indicates': 818, 'half': 734, 'normalized': 1048, 'rr': 1318, '32': 106, 'pdb': 1121, 'positive': 1170, 's1': 1323, '300': 104, 'table': 1462, 'referred': 1262, 'indicating': 819, 'identification': 780, 'quantified': 1225, '94': 190, '60': 152, '71': 166, '65': 158, '05': 9, 's2': 1324, 'notably': 1049, '1a': 59, 'highlighted': 758, '16': 44, '51': 139, '2a': 96, 'obtained': 1069, 'mrna': 1003, '0001': 2, 'human': 773, '2b': 97, 'low': 918, 'frequency': 672, 'excluded': 602, '180': 48, 'number': 1065, 'alterations': 245, 'missense': 983, 's3': 1325, 'investigated': 852, 'figs': 646, '1b': 60, 'rna': 1313, '2c': 98, 'upregulation': 1541, 'driven': 544, 'introduced': 848, 'expressing': 616, 's4': 1326, 'tables': 1463, '67': 160, 'confer': 416, 'double': 540, 'mutant': 1013, 'similarly': 1374, 'experiments': 613, 'required': 1285, 'interestingly': 847, '91': 187, '49': 131, '34': 108, 'drugs': 547, '43': 125, '57': 146, '41': 123, '90': 186, '58': 147, 'terms': 1476, 'mutation': 1016, 'summarized': 1441, 'frequencies': 671, '35': 109, 'independent': 816, 's5': 1327, 'discussion': 521, 'changed': 375, 'arising': 279, 'relapsed': 1271, 'developed': 509, '84': 180, '06': 10, '37': 111, '09': 14, '40': 121, '01': 5, '120': 32, '54': 143, '87': 183, '00': 0, '42': 124, 'data': 476, 'ct': 459, 'loop': 915, 's6': 1328, 'corresponds': 443, 'abl': 200, 'causes': 355, 'tkis': 1492, '33': 107, 'vitro': 1567, 'remaining': 1275, 'cloning': 392, 'means': 953, '36': 110, 'induces': 822, 'finally': 650, 'ad': 220, 'validated': 1550, 'tyrosine': 1531, 'appears': 269, 'hsp90': 772, 'proposed': 1206, 'overexpressing': 1088, 'molecules': 996, 'impaired': 804, 'overall': 1086, 'efforts': 558, 'frame': 668, 'deletions': 492, 'brca1': 334, 'brca2': 335, 'variants': 1555, 'immunohistochemical': 799, 'markers': 942, 'occurrence': 1071, 'immunohistochemistry': 800, '56': 145, 'probabilities': 1186, 'del': 488, 'improved': 808, 'variant': 1554, 'varying': 1557, 'breast': 338, 'information': 825, 'integrated': 843, 'risk': 1311, 'uv': 1545, 'features': 633, 'associated': 288, 'fewer': 635, 'predictions': 1179, 'findings': 651, 'suggested': 1439, 'rates': 1238, 'ihc': 787, 'er': 578, 'subjects': 1432, 'probands': 1188, 'members': 967, 'controls': 437, 'denaturing': 496, 'protein': 1209, 'insight': 838, 'ca': 343, 'cooh': 439, 'brct': 336, 'specific': 1404, 'functional': 674, 'terminus': 1475, 'repeats': 1277, 'acids': 209, 'binding': 317, 'dbd': 480, 'conserved': 424, '1433': 41, 'myriad': 1021, 'genetic': 696, 'tests': 1479, 'trans': 1499, 'phase': 1133, 'observations': 1067, 'cis': 385, 'sections': 1347, 'parameters': 1108, 'components': 410, 'estimated': 591, 'scores': 1340, 'categories': 352, 'negative': 1028, 'lacking': 882, '121': 33, 'sources': 1401, '001': 3, 'regions': 1265, 'charged': 379, 'furthermore': 676, 'carriers': 350, 'remained': 1274, 'shows': 1362, '86': 182, 'motifs': 1000, 'sites': 1380, 'contains': 433, 'residues': 1290, 'groups': 716, 'classify': 388, '88': 184, 'suggests': 1440, 'larger': 887, 'truncating': 1517, 'ring': 1310, 'profiles': 1196, 'web': 1573, 'align': 236, 'presented': 1180, 'sets': 1358, 'gvgd': 724, 'examined': 600, 'comparisons': 408, 'points': 1160, 'failed': 624, 'proband': 1187, 'chromosomes': 383, 'functions': 675, 'demonstrating': 495, 'assays': 287, 'occurring': 1072, 'representing': 1283, 'profiling': 1197, 'regulation': 1269, 'transfection': 1505, 'cos': 444, 'ligand': 899, 'inhibited': 827, 'induced': 821, 'keywords': 870, 'sorafenib': 1400, 'sunitinib': 1442, 'patient': 1111, 'primary': 1182, 'post': 1171, '44': 126, 'areas': 276, '52': 140, 'includes': 811, 'arrays': 280, 'level': 895, 'subtypes': 1437, 'clusters': 393, 'evaluated': 597, 'expression': 617, 'test': 1478, 'value': 1551, '00001': 1, 'variables': 1553, 'fisher': 653, 'exonic': 608, 'purified': 1221, 'reactions': 1245, 'applied': 271, 'biosystems': 322, 'mapping': 941, 'ptprd': 1216, 'tissue': 1487, 'microarray': 980, 'cm': 394, 'biopsies': 320, '75': 170, 'immunofluorescence': 798, 'situ': 1381, 'igg': 786, 'invitrogen': 853, 'overlapping': 1090, 'bac': 299, 'drug': 546, 'treatment': 1513, 'cdna': 366, 'enzymes': 576, 'transfected': 1504, 'constructs': 429, 'cdnas': 367, 'lipofectamine': 907, 'stimulated': 1421, 'recombinant': 1257, 'factors': 623, 'ngml': 1039, 'neoplasms': 1029, 'agents': 228, 'characterized': 378, '45': 127, 'stages': 1414, 'regulated': 1266, '64': 157, '62': 155, '47': 129, 'kit': 874, 'heat': 745, 'transcripts': 1502, 'reveals': 1304, 'yes': 1588, 'homolog': 763, 'akt3': 232, 'encoded': 569, 'codons': 399, 'c2': 342, 'transmembrane': 1510, '2d': 99, 'localized': 910, 'metastases': 973, 'months': 999, 'phosphorylation': 1143, 'lysates': 926, 'conditions': 414, 'decreased': 485, 'serum': 1357, 'isoforms': 859, 'μm': 1598, 'abrogated': 203, 'importantly': 807, 'previous': 1181, 'fibroblasts': 644, 'patterns': 1113, 'options': 1083, 'tsc': 1518, 'tsc1': 1519, 'tsc2': 1520, 'phenotypes': 1135, 'lesions': 894, 'disrupted': 525, 'authors': 297, 'novo': 1053, 'gtpase': 722, 'gap': 684, 'acts': 218, 'rheb': 1306, 'gtp': 721, 'dependent': 498, 'rapamycin': 1235, 's6k': 1329, '4e': 136, 'subcellular': 1429, 'altered': 246, 'signalling': 1370, 'discussed': 520, 'coding': 398, 'exons': 609, 'microsatellite': 981, 'mapped': 940, 'mb': 946, 'ma': 930, 'sigma': 1367, 'aldrich': 234, 'hek': 746, '293t': 95, 'pa': 1103, 'phosphate': 1136, 'lysed': 927, 'mm': 988, 'tris': 1516, 'hcl': 741, 'nacl': 1023, 'fractions': 666, 'analysed': 254, 'immunoblotting': 797, 'sds': 1343, 'page': 1104, 'li': 897, 'biosciences': 321, 'immunoprecipitation': 803, 'beads': 314, 'immunoblot': 796, 'fixed': 654, 'counted': 448, 'clinical': 389, 'open': 1082, 'imaging': 793, 'bd': 313, 'immunoprecipitated': 801, 'complexes': 409, 'mefs': 960, 'arrows': 281, 't389': 1457, 'signals': 1371, 'blots': 326, 't389s6k': 1458, '005': 4, 'comparison': 407, '95': 191, 'expressed': 615, '3a': 114, 'inhibiting': 828, 'children': 380, 'abnormalities': 201, 'diagnosed': 513, 'inherited': 826, 'aml': 250, 'fa': 621, '77': 172, '73': 168, '93': 189, '74': 169, '82': 178, '55': 144, 'inactivated': 809, 'disrupting': 526, 'vivo': 1568, 'abstract': 204, 'tgf': 1482, 'assayed': 286, 'smad2': 1387, 'smad3': 1388, 'smad4': 1389, '61': 154, 'frameshift': 669, '81': 177, 'iv': 860, 'cytokine': 469, 'processes': 1193, 'ref': 1260, 'receptors': 1255, 'receptor': 1254, 'smad': 1386, 'adenocarcinomas': 223, 'msi': 1006, 'cultures': 464, 'total': 1496, 'manufacturer': 934, 'intron': 850, 'biotechnology': 323, 'μg': 1595, 'μl': 1597, 'technologies': 1470, 'md': 950, '68': 161, 'specimens': 1406, 'formalin': 664, '104': 21, 'ml': 985, '02': 6, '250': 88, 'ng': 1038, 'germany': 702, 'initiated': 833, 'conducted': 415, 'cycles': 467, 'allowed': 242, 'gels': 691, 'aa': 196, 'acc': 205, 'cct': 359, 'fragments': 667, 'agarose': 226, 'stained': 1415, 'loh': 913, 'paraffin': 1107, 'embedded': 566, 'blocks': 324, 'normal': 1047, 'andor': 258, 'lymphocytes': 923, 'constructed': 428, 'luc': 920, 'flag': 656, 'dmem': 528, 'luciferase': 921, 'activities': 216, 'reagents': 1247, 'galactosidase': 683, 'following': 662, 'cruz': 458, 'monitored': 997, 'bands': 301, 'vectors': 1560, 'subcloned': 1430, 'alleles': 240, 'abi': 199, '124': 35, 'inhibition': 829, 'bars': 304, 'harbored': 736, 'briefly': 339, 'nt': 1061, 'mutational': 1017, 'sd': 1342, 'vs': 1569, 'mh2': 979, 'signal': 1368, 'affects': 225, 'taken': 1465, 'responsive': 1296, 'bax': 307, 'hnpcc': 761, 'encodes': 570, 'juxtamembrane': 863, 'gs': 718, 'domain': 535, 'diminished': 518, 'recently': 1253, 'inactivating': 810, 'phosphorylate': 1141, 'growth': 717, 'involves': 854, 'inhibits': 832, 'binds': 318, 'beta': 315, 'retained': 1301, 'p300': 1096, 'deleted': 489, 'mmr': 990, 'pairs': 1105, 'ubiquitination': 1534, 'smurf2': 1394, 'e3': 550, 'ubiquitin': 1533, 'ligase': 901, 'contacts': 430, 'ed': 553, 'terminal': 1474, 'enhances': 574, 'isoform': 858, 'depends': 499, 'group': 715, 'download': 541, 'interacts': 846, 'strand': 1422, 'determining': 508, 'peptides': 1128, '04': 8, 'amounts': 251, 'recorded': 1259, 'comparing': 406, 'structure': 1426, 'bound': 328, '3b': 115, 'having': 739, 'ratios': 1239, '07': 12, '08': 13, 'additionally': 222, 'structures': 1427, 'numbers': 1066, 'chains': 374, 'elements': 563, '4a': 132, '4b': 133, '106': 23, 'cd': 360, 'contributes': 434, 'makes': 932, 'si': 1365, '3c': 117, 'loops': 916, 'stabilized': 1412, 'conformations': 420, '03': 7, 'interacting': 844, 'atoms': 291, 'represented': 1282, 'substrates': 1436, 'yielded': 1589, 'hypothesized': 776, 'states': 1419, 'conformational': 419, 'rich': 1309, 'notch': 1050, 'unlike': 1539, 'ligands': 900, 'examples': 601, 'kinase': 872, 'achieved': 207, 'promotes': 1203, 'e2': 549, 'details': 506, 'edta': 554, 'factor': 622, 'recent': 1252, 'p53': 1098, 'inducible': 823, 'models': 991, 'h1299': 728, 'null': 1064, 'sirna': 1377, 'mcf': 948, 'tumour': 1526, 'r175h': 1226, 'dominant': 537, 'conclusions': 413, 'regulating': 1268, 'promoting': 1204, 'transformed': 1507, '2009': 75, '2013': 79, '2005': 71, '2011': 77, 'reports': 1280, '2004': 70, 'inducing': 824, 'apoptosis': 266, 'tumours': 1527, '2003': 69, '2010': 76, '2008': 74, 'regulators': 1270, 'sensitive': 1349, '2000': 66, '2002': 68, '2006': 72, '2007': 73, '2012': 78, 'membranes': 968, '2001': 67, 'events': 598, 'suppresses': 1450, 'egf': 559, 'plasmids': 1154, 'view': 1564, 'transfections': 1506, 'protocols': 1211, '105': 22, 'tp53': 1497, 'sirnas': 1378, 'nm': 1044, 'measurements': 954, 'national': 1024, 'probed': 1189, 'gfp': 704, 'images': 792, 'statistical': 1420, '59': 148, 'kda': 867, '1c': 61, 'lacks': 883, 'new': 1034, '1d': 62, 'occurs': 1073, 'hot': 766, 'upregulated': 1540, 'responses': 1295, 'responded': 1293, 'hela': 749, '1996': 55, '2e': 100, 'abolished': 202, '3d': 118, 'depleted': 500, 'dmso': 529, 'exhibited': 603, 'correlates': 442, '4d': 135, 'proteasomal': 1207, '6a': 163, '6b': 164, 'tagged': 1464, 'accompanied': 206, 'figures': 649, 'conversely': 438, 'silencing': 1372, 'mdm2': 951, 'demonstrates': 494, 'p63': 1100, 'despite': 503, '1999': 58, 'promoters': 1202, 'alternatively': 247, 'requires': 1286, 'needed': 1027, 'plays': 1157, 'notch1': 1051, 'apoptotic': 267, 'hd': 743, 'regulates': 1267, 'proteasome': 1208, 'gain': 681, 'function': 673, 'activation': 215, 'consistent': 425, 'similar': 1373, 'subunits': 1438, 'myc': 1019, 'survival': 1452, 'additional': 221, 'cloned': 390, 'lentiviral': 893, 'cyclin': 468, 'g1': 679, 'cycle': 466, 'tumor': 1522, 'pten': 1215, 'institute': 840, 'experimental': 612, 'animals': 259, 'early': 552, 'p21': 1095, 'injected': 834, 'institutional': 841, 'qiagen': 1224, 'modified': 993, 'retrovirus': 1303, 'ha': 733, 'cotransfected': 447, '150': 43, 'μgml': 1596, 'pvhl': 1223, 'hif': 756, 'vhl': 1563, 'extracts': 618, 'deficient': 487, 'ubiquitylation': 1535, 'immunoprecipitates': 802, 'transactivation': 1500, 'germ': 701, 'heterodimer': 753, 'helix': 750, '1α': 63, '2α': 102, 'cul2': 462, 'scf': 1336, 'box': 329, 'elongin': 565, 'bc': 308, 'colonies': 402, 'oligonucleotide': 1075, 'epitope': 577, 'modifications': 992, 'gal4': 682, 'fusions': 678, 'mgcl2': 976, 'pre': 1176, 'promega': 1201, 'assay': 285, 'atp': 292, 'powerpoint': 1172, 'slide': 1383, 'lanes': 884, 'consisting': 426, 'control': 435, 'lacked': 881, 'effect': 555, 'effects': 557, 'αc': 1593, 'created': 453, 'panels': 1106, '63': 156, 'appeared': 268, 'carcinomas': 348, 'causing': 356, 'hotspots': 768, 'bonds': 327, 'roles': 1315, 'called': 345, 'substrate': 1435, 'transcription': 1501, '400': 122, 'hr': 770, 'vector': 1559, 'separated': 1350, 'activity': 217, 'hotspot': 767, '38': 112, 'ankyrin': 260, 'catenin': 353, '46': 128, 'controlled': 436, 'vuss': 1571, 'brca': 333, 'vus': 1570, 'cosegregation': 445, '133': 39, 'intronic': 851, 'insertions': 837, 'women': 1579, 'multiple': 1010, 'focused': 658, 'bard1': 303, 'receiving': 1251, 'neutral': 1033, 'deletion': 491, '1993': 52, '85': 181, 'deleterious': 490, 'd1': 472, '66': 159, 'relatives': 1273, 'fh': 643, 'risks': 1312, 'ci': 384, 'age': 227, '125': 36, '111': 28, '240': 86, '89': 185, '118': 30, '97': 193, '98': 194, '92': 188, '123': 34, '101': 18, 'specifically': 1405, 'log': 912, '110': 27, '107': 24, '102': 19, '131': 38, '103': 20, '108': 25, '293': 94, '286': 92, '79': 174, '117': 29, '78': 173, 'splice': 1407, 'conferred': 417, 'limits': 903, 'utr': 1544, 'effectors': 556, 'mtor': 1008, 'state': 1418, 'screens': 1341, 'earlier': 551, 'coexpressed': 400, '5a': 149, 'nucleotides': 1063, 'pik3ca': 1149, 'kras': 875, 'somatic': 1399, 'wildtype': 1577, 'abd': 197, 'p110α': 1091, 'pi3k': 1147, 'estrogen': 592, 'grade': 714, 'mediates': 957, 'consequently': 423, 'given': 708, 'center': 370, 'genotyping': 700, 'exonuclease': 610, 'nucleotide': 1062, 'h1047r': 726, 'bio': 319, 'cosmic': 446, 'consequences': 422, 'ish2': 857, 'arg': 277, 'lipid': 906, 'pip3': 1151, 'phosphatidylinositol': 1137, 'activates': 213, 'phosphoinositide': 1139, 'loss': 917, 'syndromes': 1454, 'disorders': 524, 'ala': 233, 'phts': 1145, 'explained': 614, 'thr': 1485, 'allows': 244, 'asddd': 282, 'phosphotyrosine': 1144, 'dimensional': 517, 'akt1': 230, 'error': 587, 'spots': 1409, '5b': 150, '5c': 151, 'asp': 283, 'exon': 607, 'variations': 1556, 'neurons': 1032, 'swisnf': 1453, 'remodeling': 1276, 'smarca4': 1391, '69': 162, 'differentiated': 516, 'atpase': 293, 'schematic': 1337, 'immortalized': 795, 'tumorigenic': 1524, 'references': 1261, 'self': 1348, 'oncology': 1080, 'blood': 325, 'genomes': 698, 'lung': 922, 'a549': 195, 'medical': 958, 'tcga': 1469, 'seq': 1351, 'represents': 1284, 'treatments': 1514, 'gbm': 685, 'scale': 1335, 'shrna': 1364, 'arid1b': 278, 'pbrm1': 1115, 'xenografts': 1582, 'memorial': 969, 'sloan': 1385, 'kettering': 869, '1998': 57, 'sc': 1334, 'puromycin': 1222, 'outcomes': 1085, 'trastuzumab': 1511, 'lapatinib': 885, 'her2': 752, 'imatinib': 794, 'nilotinib': 1043, 'dasatinib': 475, 'bcr': 312, 'neratinib': 1030, 'figureopen': 648, 'tabdownload': 1461, 'pr': 1174, 'jm': 862, 'erbb2': 579, 'counts': 449, 'copies': 440, 'gefitinib': 690, 'inhibitor': 830, 'dfg': 511, 'phe': 1134, 'l858r': 877, 'braf': 331, 'v600e': 1547, 'nih': 1041, 'mcf10a': 949, 'retroviral': 1302, 'partners': 1109, 'mitogen': 984, 'mapk': 939, 'cytometry': 470, 'μmoll': 1599, 'kd': 866, 'allowing': 243, 'anchorage': 257, 'nih3t3': 1042, 't790m': 1460, 'inlineview': 835, 'ser': 1356, 'united': 1537, 'fusion': 677, 'weeks': 1574, 'apc': 265, 'multivariate': 1011, 'guidelines': 723, 'simulations': 1375, '1997': 56, 'nci': 1025, '1995': 54, 'developing': 510, 'baseline': 306, 'ãÿ': 1592, 'defects': 486, 'combinations': 404, 'predicting': 1178, 'year': 1586, '1994': 53, 'cisplatin': 386, 'platinum': 1156, 'transgenic': 1508, 'reached': 1244, 'mlh1': 986, 'ls': 919, 'gi': 705, 'msh2': 1004, 'msh6': 1005, 'pms2': 1159, 'rearrangements': 1250, 'ctnnb1': 461, 'large': 886, 'tgfbr2': 1483, 'exists': 604, 'nr': 1055, 'died': 514, 'synthesized': 1455, 'map': 937, 'allele': 239, 'documented': 532, 'wnt': 1578, 'rank': 1234, 'confers': 418, 'crc': 451, 'humans': 774, 'acral': 210, 'amplifications': 252, 'ccnd1': 358, 'telomerase': 1472, 'tert': 1477, 'il': 790, 'melanomas': 966, 'cns': 397, 'hcc': 740, 'melanoma': 965, 'zhang': 1590, 'pc': 1117, 'bcl': 311, 'hct116': 742, 'atr': 294, 'ffpe': 636, 'ets': 594, 'kaplan': 864, 'meier': 961, 'cul3': 463, 'btb': 340, 'math': 945, 'spop': 1408, 'structural': 1425, 'keap1': 868, 'nrf2': 1057, 'daxx': 479, 'glu': 712, 'cα': 471, 'engineered': 573, 'lys': 925, 'fbw7': 631, 'gst': 720, 'supplemental': 1445, 'pi': 1146, 'pipkiiβ': 1152, 'hybrid': 775, 'p38': 1097, 'hek293': 747, 'ip': 856, 'dead': 484, 'erα': 588, 'src': 1410, 'esr1': 590, 'hormone': 764, 'ar': 274, 'prolonged': 1200, 'gists': 707, 'pdgfra': 1124, 'mesylate': 971, 'pdgfrb': 1125, 'gist': 706, 'flt3': 657, 'rearranged': 1249, 'ret': 1300, 'v654a': 1548, 'antitumor': 263, 'appendix': 270, 'd842v': 473, 'v560d': 1546, 'pdgfr': 1123, 'manuscript': 936, 'mc': 947, 'dod': 533, 'pd': 1120, 'classifi': 387, 'cre': 452, 'pooled': 1167, 'es': 589, '1863': 49, 'pim1': 1150, 'fl': 655, 'ns': 1058, '53bp1': 142, 'aberrations': 198, 'dataset': 478, 'nd': 1026, 'nh2': 1040, 'representative': 1281, 'runx1': 1322, 'translocations': 1509, 'etv6': 596, 'mds': 952, 'polyacrylamide': 1162, 'cdkn2a': 365, 'p16ink4a': 1093, 'cdk': 361, 'cdk4': 363, 'cdk6': 364, 'prb': 1175, 'supp': 1444, '1992': 51, 'sift': 1366, 'damaging': 474, 'saos': 1332, 'cmv': 396, 'egfp': 560, 'rtk': 1320, 'tkd': 1490, 'pf': 1130, '06463922': 11, 'atrx': 295, 'regimens': 1264, 'dlbcl': 527, 'erk12': 585, 'mgkg': 977, 'h3122': 730, 'nf': 1035, 'wang': 1572, 'gsk': 719, 'idh1': 784, 'gliomas': 711, 'smokers': 1393, 'holoenzyme': 762, 'bap1': 302, 'hek293t': 748, 'destabilizing': 505, 'p73': 1101, 'destabilized': 504, 'ctcf': 460, 'embryos': 567, 'cadherin': 344, 'dnmt3a': 531, 'card11': 349, 'fbxw7': 632, 'rac1': 1228, 'nras': 1056, 'hras': 771, 'pole': 1161, 'u2af1': 1532, 'erbb3': 580, 'rho': 1307, 'raf': 1232, 'gdp': 688, 'erlotinib': 586, 'resected': 1289, 'tk': 1489, 'g719s': 680, 'l861q': 878, 'females': 634, 'surveyor': 1451, 'egfrviii': 562, 'p85': 1102, 'afatinib': 224, 'nsclcs': 1060, 'stat5': 1417, 'cetuximab': 372, 'erk': 584, 'pubmed': 1219, '800': 176, 'iarc': 777, 'hmlh1': 760, 'tmprss2': 1493, 'erg': 583, 'rtks': 1321, 'nf1': 1036, 'erbb4': 581, 'ros1': 1316, 'µm': 1591, 'helpnaturecom': 751, 'mek1': 963, 'h1': 725, 'r273h': 1227, 'gef': 689, 'rhoa': 1308, 'p53s': 1099, 'fgfr1': 639, 'ddr2': 483, 'fgfr2': 640, 'jak2': 861, 'mef2b': 959, 'gc': 687, 'ezh2': 619, 'κb': 1594, 'chip': 381, 'hamartin': 735, 'h3': 729, 'cbl': 357, 'sh2': 1360, 'fgfr': 638, 'shp2': 1363, 'mek': 962, 'map2k1': 938, 'cfc': 373, 'trametinib': 1498, 'brafv600e': 332, 'allosteric': 241, 'hgf': 754, 'craf': 450, 'pdgf': 1122, 'melanocytes': 964, 'atm': 290, 'ercc2': 582, 'araf': 275, 'rb1': 1241, 'lch': 890, 'vemurafenib': 1561, 'h3k27': 731, 'h3k27me3': 732, 'sf9': 1359, 'cml': 395, 'exo': 605, 'pdgfrα': 1126, 'etv1': 595, 'tetramer': 1481, 'mtc': 1007, 'raf1': 1233, 'pbf': 1114, 'lats1': 888, 'p16': 1092, 'y537s': 1585, 'tet2': 1480, 'mll': 987, 'fanca': 627, 'ponatinib': 1166, 'ptpρ': 1217, 'sara': 1333, 'neurofibromin': 1031, 'rasgap': 1237, 'top1': 1495, 'bim': 316, 'idh2': 785, 'rb': 1240, 'hh': 755, 'ptch1': 1214, 'smo': 1392, 'bccs': 310, 'bcc': 309, 'vismodegib': 1565, 'gli1': 709, 'rcc': 1243, 'fgfr4': 642, 'fgfr3': 641, 'phosphopeptide': 1140, 'pser': 1213, 'pmc': 1158, 'm1775r': 928, 'snf5': 1395, 'nf2': 1037, 'ski': 1382, 'dsred': 548, 'fgf': 637, 'v7': 1549, '3β': 120, 'merlin': 970, 'crl4dcaf1': 456, 'dcaf1': 481, 'mtorc1': 1009, 'google': 713, 'kif5b': 871, 'rad51': 1230, 'lkb1': 908, 'pp2a': 1173, 't414': 1459, 'sox9': 1402, 'scholar': 1338, 'tuberin': 1521, 'h115n': 727, 'lncap': 909, 'akt2': 231, 'hmg': 759, '3beta': 116, 'vcap': 1558, 'mre11': 1002, 'gbms': 686, 'crenolanib': 454, 'ddit3': 482, 'rad50': 1229, 'xpf': 1584, 'rbm10': 1242, '2hg': 101, 'idh': 783, 'cdk12': 362, 'ewsr1': 599, 'fat1': 629, 'btk': 341, 'p190': 1094, 'fancg': 628, 'rad54': 1231, 'acvr1': 219, 'lbd': 889, 'dht': 512, 'inpp4b': 836, 'elf3': 564}\n"
     ]
    }
   ],
   "source": [
    "print(\"Vocabulary: \", bow_vectorizer.vocabulary_)"
   ]
  },
  {
   "cell_type": "code",
   "execution_count": 68,
   "metadata": {},
   "outputs": [],
   "source": [
    "X_train_bow = train_df_counts.toarray()"
   ]
  },
  {
   "cell_type": "code",
   "execution_count": 69,
   "metadata": {},
   "outputs": [],
   "source": [
    "y_train = train_df['Class']"
   ]
  },
  {
   "cell_type": "markdown",
   "metadata": {},
   "source": [
    "#### model fitting"
   ]
  },
  {
   "cell_type": "code",
   "execution_count": 70,
   "metadata": {},
   "outputs": [
    {
     "data": {
      "text/plain": [
       "(664, 8)"
      ]
     },
     "execution_count": 70,
     "metadata": {},
     "output_type": "execute_result"
    }
   ],
   "source": [
    "train_df.shape"
   ]
  },
  {
   "cell_type": "code",
   "execution_count": 71,
   "metadata": {},
   "outputs": [],
   "source": [
    "from numpy import random"
   ]
  },
  {
   "cell_type": "code",
   "execution_count": 72,
   "metadata": {},
   "outputs": [],
   "source": [
    "# create a dummy y value for getting the baseline accuracy\n",
    "y_dummy = random.rand(664,9)"
   ]
  },
  {
   "cell_type": "code",
   "execution_count": null,
   "metadata": {},
   "outputs": [],
   "source": [
    "#y_dummy"
   ]
  },
  {
   "cell_type": "code",
   "execution_count": 73,
   "metadata": {},
   "outputs": [
    {
     "data": {
      "text/plain": [
       "2.4584973576484925"
      ]
     },
     "execution_count": 73,
     "metadata": {},
     "output_type": "execute_result"
    }
   ],
   "source": [
    "# baseline loss metric value\n",
    "log_loss(y_train,y_dummy)"
   ]
  },
  {
   "cell_type": "markdown",
   "metadata": {},
   "source": [
    "#### Logistic Regression Model"
   ]
  },
  {
   "cell_type": "code",
   "execution_count": 74,
   "metadata": {},
   "outputs": [
    {
     "data": {
      "text/plain": [
       "LogisticRegression(multi_class='multinomial')"
      ]
     },
     "execution_count": 74,
     "metadata": {},
     "output_type": "execute_result"
    }
   ],
   "source": [
    "bow_model.fit(X_train_bow,y_train)"
   ]
  },
  {
   "cell_type": "code",
   "execution_count": 75,
   "metadata": {},
   "outputs": [
    {
     "data": {
      "text/plain": [
       "[-0.22804384844291725,\n",
       " -0.19162836814100284,\n",
       " -0.18586572686654063,\n",
       " -0.16930186716798076,\n",
       " -0.16458155697687452]"
      ]
     },
     "execution_count": 75,
     "metadata": {},
     "output_type": "execute_result"
    }
   ],
   "source": [
    "sorted(bow_model.coef_.tolist()[0])[:5]"
   ]
  },
  {
   "cell_type": "code",
   "execution_count": 76,
   "metadata": {},
   "outputs": [],
   "source": [
    "y_pred_train_bow = bow_model.predict_proba(X_train_bow)"
   ]
  },
  {
   "cell_type": "code",
   "execution_count": 77,
   "metadata": {},
   "outputs": [
    {
     "data": {
      "text/plain": [
       "0.13377678273804283"
      ]
     },
     "execution_count": 77,
     "metadata": {},
     "output_type": "execute_result"
    }
   ],
   "source": [
    "log_loss(y_train,y_pred_train_bow)"
   ]
  },
  {
   "cell_type": "code",
   "execution_count": 78,
   "metadata": {},
   "outputs": [
    {
     "data": {
      "text/plain": [
       "TfidfVectorizer(max_features=1600, ngram_range=(1, 3), stop_words='english',\n",
       "                strip_accents='unicode', sublinear_tf=True,\n",
       "                token_pattern='\\\\w+')"
      ]
     },
     "execution_count": 78,
     "metadata": {},
     "output_type": "execute_result"
    }
   ],
   "source": [
    "tfidf_vectorizer.fit(train_df_corpus)"
   ]
  },
  {
   "cell_type": "code",
   "execution_count": 79,
   "metadata": {},
   "outputs": [],
   "source": [
    "X_train_tfidf = tfidf_vectorizer.transform(train_df_corpus)"
   ]
  },
  {
   "cell_type": "code",
   "execution_count": 80,
   "metadata": {},
   "outputs": [],
   "source": [
    "X_train_tfidf = X_train_tfidf.toarray()"
   ]
  },
  {
   "cell_type": "code",
   "execution_count": 81,
   "metadata": {},
   "outputs": [
    {
     "data": {
      "text/plain": [
       "LogisticRegression(multi_class='multinomial')"
      ]
     },
     "execution_count": 81,
     "metadata": {},
     "output_type": "execute_result"
    }
   ],
   "source": [
    "tfidf_model.fit(X_train_tfidf,y_train)"
   ]
  },
  {
   "cell_type": "code",
   "execution_count": 82,
   "metadata": {},
   "outputs": [],
   "source": [
    "y_pred_train_tfidf = tfidf_model.predict_proba(X_train_tfidf)"
   ]
  },
  {
   "cell_type": "code",
   "execution_count": 83,
   "metadata": {},
   "outputs": [
    {
     "data": {
      "text/plain": [
       "1.0410624198183753"
      ]
     },
     "execution_count": 83,
     "metadata": {},
     "output_type": "execute_result"
    }
   ],
   "source": [
    "log_loss(y_train,y_pred_train_tfidf)"
   ]
  },
  {
   "cell_type": "code",
   "execution_count": null,
   "metadata": {},
   "outputs": [],
   "source": []
  },
  {
   "cell_type": "markdown",
   "metadata": {},
   "source": [
    "#### handling the test text sample data"
   ]
  },
  {
   "cell_type": "code",
   "execution_count": 84,
   "metadata": {},
   "outputs": [],
   "source": [
    "#test_text_df.sort_values(['ID']).head()"
   ]
  },
  {
   "cell_type": "code",
   "execution_count": 85,
   "metadata": {},
   "outputs": [],
   "source": [
    "#test_text_df.shape"
   ]
  },
  {
   "cell_type": "code",
   "execution_count": 86,
   "metadata": {},
   "outputs": [],
   "source": [
    "#test_text_df['cleaned_text'] = test_text_df['Text'].map(cleanse_data,na_action='ignore')"
   ]
  },
  {
   "cell_type": "code",
   "execution_count": 87,
   "metadata": {},
   "outputs": [],
   "source": [
    "#test_text_df['cleaned_text'] = test_text_df['cleaned_text'].map(reduce_words)"
   ]
  },
  {
   "cell_type": "code",
   "execution_count": 88,
   "metadata": {},
   "outputs": [],
   "source": [
    "#test_text_df['cleaned_text_vector'] = test_text_df['cleaned_text'].map(word_count)"
   ]
  },
  {
   "cell_type": "code",
   "execution_count": 89,
   "metadata": {},
   "outputs": [],
   "source": [
    "#test_text_df['sorted_cleaned_text_vector'] = test_text_df['cleaned_text'].progress_map(freq_dist)"
   ]
  },
  {
   "cell_type": "code",
   "execution_count": 90,
   "metadata": {},
   "outputs": [],
   "source": [
    "#test_text_df = test_text_df.drop(['Text'],axis=1)"
   ]
  },
  {
   "cell_type": "code",
   "execution_count": 91,
   "metadata": {},
   "outputs": [],
   "source": [
    "#test_text_df.head()"
   ]
  },
  {
   "cell_type": "code",
   "execution_count": 92,
   "metadata": {},
   "outputs": [],
   "source": [
    "# get the text samples as list\n",
    "#test_corpus = test_text_df['cleaned_text'].tolist()"
   ]
  },
  {
   "cell_type": "code",
   "execution_count": 93,
   "metadata": {},
   "outputs": [],
   "source": [
    "# transform the test case to get bag of words\n",
    "#test_bag_of_words_train = bow_vectorizer.fit_transform(test_corpus)"
   ]
  },
  {
   "cell_type": "code",
   "execution_count": 94,
   "metadata": {},
   "outputs": [],
   "source": [
    "# convert the dictionary to an array\n",
    "#test_bag_of_words_array = test_bag_of_words_train.toarray()"
   ]
  },
  {
   "cell_type": "code",
   "execution_count": 95,
   "metadata": {},
   "outputs": [],
   "source": [
    "#test_bag_of_words_array.shape"
   ]
  },
  {
   "cell_type": "code",
   "execution_count": 96,
   "metadata": {},
   "outputs": [],
   "source": [
    "# predict test using bag of word model\n",
    "#y_pred_test_bow = bow_model.predict_proba(test_bag_of_words_array)"
   ]
  },
  {
   "cell_type": "code",
   "execution_count": 97,
   "metadata": {},
   "outputs": [],
   "source": [
    "#y_pred_test_bow[0]"
   ]
  },
  {
   "cell_type": "code",
   "execution_count": 98,
   "metadata": {},
   "outputs": [],
   "source": [
    "#y_pred_test_df = pd.DataFrame(y_pred_test_bow)"
   ]
  },
  {
   "cell_type": "code",
   "execution_count": 99,
   "metadata": {},
   "outputs": [],
   "source": [
    "#test_text_df['ID'].shape"
   ]
  },
  {
   "cell_type": "code",
   "execution_count": 100,
   "metadata": {},
   "outputs": [],
   "source": [
    "#y_pred_test_df['ID']= test_text_df['ID'].reset_index(drop=True)"
   ]
  },
  {
   "cell_type": "code",
   "execution_count": 101,
   "metadata": {},
   "outputs": [],
   "source": [
    "#y_pred_test_df.head()"
   ]
  },
  {
   "cell_type": "code",
   "execution_count": null,
   "metadata": {},
   "outputs": [],
   "source": []
  },
  {
   "cell_type": "code",
   "execution_count": 102,
   "metadata": {},
   "outputs": [],
   "source": [
    "# predict test using tfidf model\n",
    "#y_pred_test_tfidf = tfidf_model.predict_proba(test_bag_of_words_array)"
   ]
  },
  {
   "cell_type": "code",
   "execution_count": 103,
   "metadata": {},
   "outputs": [],
   "source": [
    "stage2_test_text_df = pd.read_csv('stage2_test_text.csv', sep=\"\\|\\|\", encoding=\"utf-8\",engine=\"python\", skiprows=1, names=[\"ID\", \"Text\"])\n"
   ]
  },
  {
   "cell_type": "code",
   "execution_count": 104,
   "metadata": {},
   "outputs": [
    {
     "data": {
      "text/plain": [
       "(986, 2)"
      ]
     },
     "execution_count": 104,
     "metadata": {},
     "output_type": "execute_result"
    }
   ],
   "source": [
    "stage2_test_text_df.shape"
   ]
  },
  {
   "cell_type": "code",
   "execution_count": 105,
   "metadata": {},
   "outputs": [
    {
     "name": "stderr",
     "output_type": "stream",
     "text": [
      "my bar!: 100%|██████████| 986/986 [00:08<00:00, 118.41it/s]\n"
     ]
    }
   ],
   "source": [
    "stage2_test_text_df['cleaned_text'] = stage2_test_text_df['Text'].progress_map(cleanse_data,na_action='ignore')"
   ]
  },
  {
   "cell_type": "code",
   "execution_count": 106,
   "metadata": {},
   "outputs": [
    {
     "name": "stderr",
     "output_type": "stream",
     "text": [
      "my bar!: 100%|██████████| 986/986 [00:03<00:00, 265.25it/s]\n"
     ]
    }
   ],
   "source": [
    "stage2_test_text_df['cleaned_text'] = stage2_test_text_df['cleaned_text'].progress_map(reduce_words)"
   ]
  },
  {
   "cell_type": "code",
   "execution_count": 107,
   "metadata": {},
   "outputs": [
    {
     "data": {
      "text/plain": [
       "(986, 3)"
      ]
     },
     "execution_count": 107,
     "metadata": {},
     "output_type": "execute_result"
    }
   ],
   "source": [
    "stage2_test_text_df.shape"
   ]
  },
  {
   "cell_type": "code",
   "execution_count": 108,
   "metadata": {},
   "outputs": [
    {
     "name": "stderr",
     "output_type": "stream",
     "text": [
      "my bar!: 100%|██████████| 986/986 [00:00<00:00, 246753.21it/s]\n"
     ]
    },
    {
     "data": {
      "text/html": [
       "<div>\n",
       "<style scoped>\n",
       "    .dataframe tbody tr th:only-of-type {\n",
       "        vertical-align: middle;\n",
       "    }\n",
       "\n",
       "    .dataframe tbody tr th {\n",
       "        vertical-align: top;\n",
       "    }\n",
       "\n",
       "    .dataframe thead th {\n",
       "        text-align: right;\n",
       "    }\n",
       "</style>\n",
       "<table border=\"1\" class=\"dataframe\">\n",
       "  <thead>\n",
       "    <tr style=\"text-align: right;\">\n",
       "      <th></th>\n",
       "      <th>Text</th>\n",
       "      <th>cleaned_text</th>\n",
       "    </tr>\n",
       "  </thead>\n",
       "  <tbody>\n",
       "    <tr>\n",
       "      <th>0</th>\n",
       "      <td>33403</td>\n",
       "      <td>14418</td>\n",
       "    </tr>\n",
       "    <tr>\n",
       "      <th>1</th>\n",
       "      <td>66400</td>\n",
       "      <td>29135</td>\n",
       "    </tr>\n",
       "    <tr>\n",
       "      <th>2</th>\n",
       "      <td>58544</td>\n",
       "      <td>26808</td>\n",
       "    </tr>\n",
       "    <tr>\n",
       "      <th>3</th>\n",
       "      <td>42023</td>\n",
       "      <td>17996</td>\n",
       "    </tr>\n",
       "    <tr>\n",
       "      <th>4</th>\n",
       "      <td>22499</td>\n",
       "      <td>8311</td>\n",
       "    </tr>\n",
       "  </tbody>\n",
       "</table>\n",
       "</div>"
      ],
      "text/plain": [
       "    Text  cleaned_text\n",
       "0  33403         14418\n",
       "1  66400         29135\n",
       "2  58544         26808\n",
       "3  42023         17996\n",
       "4  22499          8311"
      ]
     },
     "execution_count": 108,
     "metadata": {},
     "output_type": "execute_result"
    }
   ],
   "source": [
    "stage2_cleaned_view =pd.DataFrame({\"Text\":stage2_test_text_df['Text'].progress_map(lambda x:len(x)),\"cleaned_text\":stage2_test_text_df['cleaned_text'].map(lambda x:len(x))})\n",
    "stage2_cleaned_view.head()"
   ]
  },
  {
   "cell_type": "code",
   "execution_count": 109,
   "metadata": {},
   "outputs": [],
   "source": [
    "stage2_test_corpus = stage2_test_text_df['cleaned_text'].tolist()"
   ]
  },
  {
   "cell_type": "code",
   "execution_count": 110,
   "metadata": {},
   "outputs": [],
   "source": [
    "#X_stage2_test = bow_vectorizer.fit_transform(stage2_test_corpus).toarray()"
   ]
  },
  {
   "cell_type": "code",
   "execution_count": 111,
   "metadata": {},
   "outputs": [],
   "source": [
    "X_stage2_test = tfidf_vectorizer.fit_transform(stage2_test_corpus).toarray()"
   ]
  },
  {
   "cell_type": "code",
   "execution_count": 112,
   "metadata": {},
   "outputs": [
    {
     "data": {
      "text/plain": [
       "(986, 1600)"
      ]
     },
     "execution_count": 112,
     "metadata": {},
     "output_type": "execute_result"
    }
   ],
   "source": [
    "X_stage2_test.shape"
   ]
  },
  {
   "cell_type": "code",
   "execution_count": 113,
   "metadata": {},
   "outputs": [],
   "source": [
    "y_pred_stage2 = tfidf_model.predict_proba(X_stage2_test)"
   ]
  },
  {
   "cell_type": "code",
   "execution_count": 114,
   "metadata": {},
   "outputs": [
    {
     "data": {
      "text/plain": [
       "(986, 9)"
      ]
     },
     "execution_count": 114,
     "metadata": {},
     "output_type": "execute_result"
    }
   ],
   "source": [
    "y_pred_stage2.shape"
   ]
  },
  {
   "cell_type": "code",
   "execution_count": 115,
   "metadata": {},
   "outputs": [],
   "source": [
    "y_pred_stage2_df = pd.DataFrame(y_pred_stage2)"
   ]
  },
  {
   "cell_type": "code",
   "execution_count": null,
   "metadata": {},
   "outputs": [],
   "source": []
  },
  {
   "cell_type": "code",
   "execution_count": 116,
   "metadata": {},
   "outputs": [],
   "source": [
    "y_pred_stage2_df['ID']=stage2_test_text_df['ID']"
   ]
  },
  {
   "cell_type": "code",
   "execution_count": 117,
   "metadata": {},
   "outputs": [
    {
     "data": {
      "text/plain": [
       "Index([0, 1, 2, 3, 4, 5, 6, 7, 8, 'ID'], dtype='object')"
      ]
     },
     "execution_count": 117,
     "metadata": {},
     "output_type": "execute_result"
    }
   ],
   "source": [
    "y_pred_stage2_df.columns"
   ]
  },
  {
   "cell_type": "code",
   "execution_count": 118,
   "metadata": {},
   "outputs": [],
   "source": [
    "y_pred_stage2_df.columns = ['class1','class2','class3','class4','class5','class6','class7','class8','class9','ID']"
   ]
  },
  {
   "cell_type": "code",
   "execution_count": 119,
   "metadata": {},
   "outputs": [],
   "source": [
    "y_pred_stage2_df=y_pred_stage2_df[['ID','class1','class2','class3','class4','class5','class6','class7','class8','class9']]"
   ]
  },
  {
   "cell_type": "code",
   "execution_count": 120,
   "metadata": {},
   "outputs": [
    {
     "data": {
      "text/html": [
       "<div>\n",
       "<style scoped>\n",
       "    .dataframe tbody tr th:only-of-type {\n",
       "        vertical-align: middle;\n",
       "    }\n",
       "\n",
       "    .dataframe tbody tr th {\n",
       "        vertical-align: top;\n",
       "    }\n",
       "\n",
       "    .dataframe thead th {\n",
       "        text-align: right;\n",
       "    }\n",
       "</style>\n",
       "<table border=\"1\" class=\"dataframe\">\n",
       "  <thead>\n",
       "    <tr style=\"text-align: right;\">\n",
       "      <th></th>\n",
       "      <th>ID</th>\n",
       "      <th>class1</th>\n",
       "      <th>class2</th>\n",
       "      <th>class3</th>\n",
       "      <th>class4</th>\n",
       "      <th>class5</th>\n",
       "      <th>class6</th>\n",
       "      <th>class7</th>\n",
       "      <th>class8</th>\n",
       "      <th>class9</th>\n",
       "    </tr>\n",
       "  </thead>\n",
       "  <tbody>\n",
       "    <tr>\n",
       "      <th>0</th>\n",
       "      <td>1</td>\n",
       "      <td>0.186422</td>\n",
       "      <td>0.149421</td>\n",
       "      <td>0.026535</td>\n",
       "      <td>0.237968</td>\n",
       "      <td>0.052618</td>\n",
       "      <td>0.079556</td>\n",
       "      <td>0.249807</td>\n",
       "      <td>0.008294</td>\n",
       "      <td>0.009378</td>\n",
       "    </tr>\n",
       "    <tr>\n",
       "      <th>1</th>\n",
       "      <td>2</td>\n",
       "      <td>0.203485</td>\n",
       "      <td>0.151358</td>\n",
       "      <td>0.027601</td>\n",
       "      <td>0.164330</td>\n",
       "      <td>0.064765</td>\n",
       "      <td>0.066240</td>\n",
       "      <td>0.305628</td>\n",
       "      <td>0.007876</td>\n",
       "      <td>0.008715</td>\n",
       "    </tr>\n",
       "    <tr>\n",
       "      <th>2</th>\n",
       "      <td>3</td>\n",
       "      <td>0.227005</td>\n",
       "      <td>0.136329</td>\n",
       "      <td>0.028670</td>\n",
       "      <td>0.175229</td>\n",
       "      <td>0.075993</td>\n",
       "      <td>0.056186</td>\n",
       "      <td>0.282988</td>\n",
       "      <td>0.007891</td>\n",
       "      <td>0.009707</td>\n",
       "    </tr>\n",
       "    <tr>\n",
       "      <th>3</th>\n",
       "      <td>4</td>\n",
       "      <td>0.178313</td>\n",
       "      <td>0.167293</td>\n",
       "      <td>0.024891</td>\n",
       "      <td>0.173316</td>\n",
       "      <td>0.045918</td>\n",
       "      <td>0.064200</td>\n",
       "      <td>0.331278</td>\n",
       "      <td>0.006635</td>\n",
       "      <td>0.008155</td>\n",
       "    </tr>\n",
       "    <tr>\n",
       "      <th>4</th>\n",
       "      <td>5</td>\n",
       "      <td>0.173221</td>\n",
       "      <td>0.178667</td>\n",
       "      <td>0.029656</td>\n",
       "      <td>0.189868</td>\n",
       "      <td>0.055422</td>\n",
       "      <td>0.048550</td>\n",
       "      <td>0.308979</td>\n",
       "      <td>0.007329</td>\n",
       "      <td>0.008308</td>\n",
       "    </tr>\n",
       "  </tbody>\n",
       "</table>\n",
       "</div>"
      ],
      "text/plain": [
       "   ID    class1    class2    class3    class4    class5    class6    class7  \\\n",
       "0   1  0.186422  0.149421  0.026535  0.237968  0.052618  0.079556  0.249807   \n",
       "1   2  0.203485  0.151358  0.027601  0.164330  0.064765  0.066240  0.305628   \n",
       "2   3  0.227005  0.136329  0.028670  0.175229  0.075993  0.056186  0.282988   \n",
       "3   4  0.178313  0.167293  0.024891  0.173316  0.045918  0.064200  0.331278   \n",
       "4   5  0.173221  0.178667  0.029656  0.189868  0.055422  0.048550  0.308979   \n",
       "\n",
       "     class8    class9  \n",
       "0  0.008294  0.009378  \n",
       "1  0.007876  0.008715  \n",
       "2  0.007891  0.009707  \n",
       "3  0.006635  0.008155  \n",
       "4  0.007329  0.008308  "
      ]
     },
     "execution_count": 120,
     "metadata": {},
     "output_type": "execute_result"
    }
   ],
   "source": [
    "y_pred_stage2_df.head()"
   ]
  },
  {
   "cell_type": "code",
   "execution_count": 121,
   "metadata": {},
   "outputs": [],
   "source": [
    "y_pred_stage2_df.to_csv(\"y_pred_stage2.csv\",index=False)"
   ]
  },
  {
   "cell_type": "code",
   "execution_count": 122,
   "metadata": {},
   "outputs": [
    {
     "ename": "NameError",
     "evalue": "name 'class_9' is not defined",
     "output_type": "error",
     "traceback": [
      "\u001b[1;31m---------------------------------------------------------------------------\u001b[0m",
      "\u001b[1;31mNameError\u001b[0m                                 Traceback (most recent call last)",
      "\u001b[1;32m<ipython-input-122-48bc9f934af4>\u001b[0m in \u001b[0;36m<module>\u001b[1;34m\u001b[0m\n\u001b[0;32m      1\u001b[0m \u001b[0mdf\u001b[0m\u001b[1;33m=\u001b[0m\u001b[0mpd\u001b[0m\u001b[1;33m.\u001b[0m\u001b[0mDataFrame\u001b[0m\u001b[1;33m(\u001b[0m\u001b[0mcolumns\u001b[0m\u001b[1;33m=\u001b[0m\u001b[1;33m[\u001b[0m\u001b[1;34m\"Gene\"\u001b[0m\u001b[1;33m,\u001b[0m\u001b[1;34m\"Class\"\u001b[0m\u001b[1;33m,\u001b[0m\u001b[1;34m\"Variation\"\u001b[0m\u001b[1;33m,\u001b[0m\u001b[1;34m\"cleaned_text\"\u001b[0m\u001b[1;33m,\u001b[0m\u001b[1;34m\"cleaned_freq\"\u001b[0m\u001b[1;33m]\u001b[0m\u001b[1;33m)\u001b[0m\u001b[1;33m\u001b[0m\u001b[1;33m\u001b[0m\u001b[0m\n\u001b[0;32m      2\u001b[0m \u001b[1;32mfor\u001b[0m \u001b[0mi\u001b[0m \u001b[1;32min\u001b[0m \u001b[0mrange\u001b[0m\u001b[1;33m(\u001b[0m\u001b[1;36m19\u001b[0m\u001b[1;33m)\u001b[0m\u001b[1;33m:\u001b[0m\u001b[1;33m\u001b[0m\u001b[1;33m\u001b[0m\u001b[0m\n\u001b[1;32m----> 3\u001b[1;33m     \u001b[0mdf_new\u001b[0m\u001b[1;33m=\u001b[0m\u001b[0mclass_9\u001b[0m\u001b[1;33m[\u001b[0m\u001b[0mclass_9\u001b[0m\u001b[1;33m[\u001b[0m\u001b[1;34m'cleaned_text'\u001b[0m\u001b[1;33m]\u001b[0m \u001b[1;33m==\u001b[0m \u001b[0mclass_9\u001b[0m\u001b[1;33m[\u001b[0m\u001b[1;34m'cleaned_text'\u001b[0m\u001b[1;33m]\u001b[0m\u001b[1;33m.\u001b[0m\u001b[0munique\u001b[0m\u001b[1;33m(\u001b[0m\u001b[1;33m)\u001b[0m\u001b[1;33m[\u001b[0m\u001b[0mi\u001b[0m\u001b[1;33m]\u001b[0m\u001b[1;33m]\u001b[0m\u001b[1;33m\u001b[0m\u001b[1;33m\u001b[0m\u001b[0m\n\u001b[0m\u001b[0;32m      4\u001b[0m     \u001b[0mdf\u001b[0m\u001b[1;33m=\u001b[0m\u001b[0mpd\u001b[0m\u001b[1;33m.\u001b[0m\u001b[0mconcat\u001b[0m\u001b[1;33m(\u001b[0m\u001b[1;33m[\u001b[0m\u001b[0mdf\u001b[0m\u001b[1;33m,\u001b[0m\u001b[0mdf_new\u001b[0m\u001b[1;33m]\u001b[0m\u001b[1;33m)\u001b[0m\u001b[1;33m\u001b[0m\u001b[1;33m\u001b[0m\u001b[0m\n",
      "\u001b[1;31mNameError\u001b[0m: name 'class_9' is not defined"
     ]
    }
   ],
   "source": [
    "df=pd.DataFrame(columns=[\"Gene\",\"Class\",\"Variation\",\"cleaned_text\",\"cleaned_freq\"])\n",
    "for i in range(19):    \n",
    "    df_new=class_9[class_9['cleaned_text'] == class_9['cleaned_text'].unique()[i]]\n",
    "    df=pd.concat([df,df_new])"
   ]
  },
  {
   "cell_type": "markdown",
   "metadata": {
    "id": "mb62K9H8oIy6"
   },
   "source": [
    "we have sorted the frequency dictionary based on values using the key parameter of sorted and higher values first using reverse"
   ]
  },
  {
   "cell_type": "code",
   "execution_count": null,
   "metadata": {
    "colab": {
     "base_uri": "https://localhost:8080/"
    },
    "executionInfo": {
     "elapsed": 14,
     "status": "ok",
     "timestamp": 1638286210767,
     "user": {
      "displayName": "Anubrata Das",
      "photoUrl": "https://lh3.googleusercontent.com/a-/AOh14GiI2340pPpSj6e4aG_4urL4HRwW3MRXEf5aoo2_QA=s64",
      "userId": "08781375266004215524"
     },
     "user_tz": -330
    },
    "id": "wae37kXdUT8k",
    "outputId": "aacd0478-e911-439f-8dd0-3d9b78a7a732"
   },
   "outputs": [],
   "source": [
    "sorted(test_dic.items(),key=lambda x:x[1], reverse=True)"
   ]
  },
  {
   "cell_type": "code",
   "execution_count": null,
   "metadata": {
    "id": "kAxcpzU4_mzu"
   },
   "outputs": [],
   "source": [
    "for i in range(10):\n",
    "    print(scan_data1[i])"
   ]
  },
  {
   "cell_type": "code",
   "execution_count": null,
   "metadata": {
    "id": "9XgD9sY_14Jw"
   },
   "outputs": [],
   "source": [
    "cd /content"
   ]
  },
  {
   "cell_type": "code",
   "execution_count": null,
   "metadata": {
    "id": "oLbahHJ__mzv"
   },
   "outputs": [],
   "source": [
    "pa_tree=ET.parse('pa2021.xml')"
   ]
  },
  {
   "cell_type": "code",
   "execution_count": null,
   "metadata": {
    "id": "spN5n9H3_mzv"
   },
   "outputs": [],
   "source": [
    "root=pa_tree.getroot()"
   ]
  },
  {
   "cell_type": "code",
   "execution_count": null,
   "metadata": {
    "id": "kQR8pY9UXBs-"
   },
   "outputs": [],
   "source": [
    "# for child in root:\n",
    "#   print(child.tag)"
   ]
  },
  {
   "cell_type": "code",
   "execution_count": null,
   "metadata": {
    "id": "63RIRzTV_mzv"
   },
   "outputs": [],
   "source": [
    "for element_1 in root:\n",
    "  #print(\"---------level_1-----------\")\n",
    "  #print(element_1.tag)\n",
    "  \n",
    "  for element_2 in element_1:\n",
    "    #print(\"---------level_2-----------\")\n",
    "    #print(\"    \"+element_2.tag,\" \",element_2.text)\n",
    "    \n",
    "    for element_3 in element_2:\n",
    "      #print(\"---------level_3-----------\")\n",
    "      #print(\"        \"+element_3.tag,\" \",element_3.text)\n",
    "      \n",
    "      for element_4 in element_3:\n",
    "        #print(\"---------level_4-----------\")\n",
    "        if element_4.tag==\"String\":\n",
    "          print(\"                   \"+element_4.tag,\" \",element_4.text)\n",
    "          \n",
    "  #break\n",
    "    "
   ]
  },
  {
   "cell_type": "code",
   "execution_count": null,
   "metadata": {
    "id": "M-j6NieYFoZn"
   },
   "outputs": [],
   "source": [
    "len(root)"
   ]
  },
  {
   "cell_type": "code",
   "execution_count": null,
   "metadata": {
    "id": "c2Li5HlGGwOR"
   },
   "outputs": [],
   "source": [
    "desc_tree=ET.parse('desc2021.xml')"
   ]
  },
  {
   "cell_type": "code",
   "execution_count": null,
   "metadata": {
    "id": "IIWEN3P3XfG4"
   },
   "outputs": [],
   "source": [
    "desc_root=desc_tree.getroot()"
   ]
  },
  {
   "cell_type": "code",
   "execution_count": null,
   "metadata": {
    "id": "dVaFVNDdYSxK"
   },
   "outputs": [],
   "source": [
    "len(desc_root)"
   ]
  },
  {
   "cell_type": "code",
   "execution_count": null,
   "metadata": {
    "id": "9Q4uNx0xYq8f"
   },
   "outputs": [],
   "source": [
    "term_description=[]\n",
    "for element_1 in desc_root:\n",
    "  #print(\"-------level_1----------\")\n",
    "  #print(element_1.tag,\" \",element_1.text)\n",
    "  for element_2 in element_1:\n",
    "    #print(\"    ----------level_2----------\")\n",
    "    #print(\"    \"+element_2.tag,\" \",element_2.text)\n",
    "    for element_3 in element_2:\n",
    "      if element_3.tag=='String':\n",
    "        #print(\"        ---------level_3--------\")\n",
    "        #print(\"        \"+element_3.tag,\" \",element_3.text)\n",
    "        term_description.append(element_3.text)\n",
    "\n",
    "  #break"
   ]
  },
  {
   "cell_type": "code",
   "execution_count": null,
   "metadata": {
    "id": "WG6OyuDhZOdW"
   },
   "outputs": [],
   "source": [
    "len(term_description)"
   ]
  },
  {
   "cell_type": "code",
   "execution_count": null,
   "metadata": {
    "id": "yhUEtiIrt4B5"
   },
   "outputs": [],
   "source": [
    "term_description[:10]"
   ]
  },
  {
   "cell_type": "code",
   "execution_count": null,
   "metadata": {
    "id": "DFCAtPHEuIG_"
   },
   "outputs": [],
   "source": [
    "import csv \n",
    "with open('term_description.csv', 'w') as f: \n",
    "    write = csv.writer(f) \n",
    "    write.writerow(term_description) \n",
    "    "
   ]
  },
  {
   "cell_type": "markdown",
   "metadata": {
    "id": "F11LgeASJSYc"
   },
   "source": [
    "There are 2 ways to remove punctuation. one is to use the string library punctuation module on the text before tokenization, the other is to use the nltk.punct library"
   ]
  },
  {
   "cell_type": "code",
   "execution_count": null,
   "metadata": {
    "id": "bzJtTxhvvlSb"
   },
   "outputs": [],
   "source": [
    "len(scan_data1[1])"
   ]
  },
  {
   "cell_type": "code",
   "execution_count": null,
   "metadata": {
    "id": "EKL7Av16DsWV"
   },
   "outputs": [],
   "source": [
    "#nltk.word_tokenize(scan_data1[1])"
   ]
  },
  {
   "cell_type": "code",
   "execution_count": null,
   "metadata": {
    "id": "6n8-IUY8D_g2"
   },
   "outputs": [],
   "source": [
    "# import string punctuation\n",
    "import string\n",
    "string.punctuation"
   ]
  },
  {
   "cell_type": "code",
   "execution_count": null,
   "metadata": {
    "id": "vXDy9X6cH_nh"
   },
   "outputs": [],
   "source": []
  },
  {
   "cell_type": "code",
   "execution_count": null,
   "metadata": {
    "id": "YTposSf5IPM2"
   },
   "outputs": [],
   "source": [
    "len(cleanup_text(scan_data1[1]))"
   ]
  },
  {
   "cell_type": "code",
   "execution_count": null,
   "metadata": {
    "id": "xoBpboDfIZjm"
   },
   "outputs": [],
   "source": [
    "scan_data"
   ]
  }
 ],
 "metadata": {
  "colab": {
   "name": "jovian-ml-project.ipynb",
   "version": ""
  },
  "kernelspec": {
   "display_name": "Python 3",
   "language": "python",
   "name": "python3"
  },
  "language_info": {
   "codemirror_mode": {
    "name": "ipython",
    "version": 3
   },
   "file_extension": ".py",
   "mimetype": "text/x-python",
   "name": "python",
   "nbconvert_exporter": "python",
   "pygments_lexer": "ipython3",
   "version": "3.7.6"
  }
 },
 "nbformat": 4,
 "nbformat_minor": 1
}
