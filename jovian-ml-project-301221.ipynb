{
 "cells": [
  {
   "cell_type": "markdown",
   "metadata": {
    "id": "z4XIJ7_c_mzW"
   },
   "source": [
    "# Classification of Cancer associated Mutations from Literature using Machine Learning\n",
    "\n",
    "Use the \"Run\" button to execute the code."
   ]
  },
  {
   "cell_type": "code",
   "execution_count": 1,
   "metadata": {
    "executionInfo": {
     "elapsed": 2553,
     "status": "ok",
     "timestamp": 1638285773553,
     "user": {
      "displayName": "Anubrata Das",
      "photoUrl": "https://lh3.googleusercontent.com/a-/AOh14GiI2340pPpSj6e4aG_4urL4HRwW3MRXEf5aoo2_QA=s64",
      "userId": "08781375266004215524"
     },
     "user_tz": -330
    },
    "id": "6jgqXjvi_mzZ"
   },
   "outputs": [
    {
     "name": "stdout",
     "output_type": "stream",
     "text": [
      "Note: you may need to restart the kernel to use updated packages.\n"
     ]
    },
    {
     "name": "stderr",
     "output_type": "stream",
     "text": [
      "WARNING: Value for scheme.headers does not match. Please report this to <https://github.com/pypa/pip/issues/9617>\n",
      "distutils: C:\\Users\\anubr\\anaconda3\\Include\\UNKNOWN\n",
      "sysconfig: C:\\Users\\anubr\\anaconda3\\Include\n",
      "WARNING: Additional context:\n",
      "user = False\n",
      "home = None\n",
      "root = None\n",
      "prefix = None\n",
      "WARNING: Value for scheme.headers does not match. Please report this to <https://github.com/pypa/pip/issues/9617>\n",
      "distutils: C:\\Users\\anubr\\anaconda3\\Include\\UNKNOWN\n",
      "sysconfig: C:\\Users\\anubr\\anaconda3\\Include\n",
      "WARNING: Additional context:\n",
      "user = False\n",
      "home = None\n",
      "root = None\n",
      "prefix = None\n"
     ]
    }
   ],
   "source": [
    "pip install jovian --upgrade --quiet"
   ]
  },
  {
   "cell_type": "code",
   "execution_count": null,
   "metadata": {
    "executionInfo": {
     "elapsed": 47,
     "status": "ok",
     "timestamp": 1638285773553,
     "user": {
      "displayName": "Anubrata Das",
      "photoUrl": "https://lh3.googleusercontent.com/a-/AOh14GiI2340pPpSj6e4aG_4urL4HRwW3MRXEf5aoo2_QA=s64",
      "userId": "08781375266004215524"
     },
     "user_tz": -330
    },
    "id": "BcrwI4VL_mze"
   },
   "outputs": [],
   "source": []
  },
  {
   "cell_type": "code",
   "execution_count": 2,
   "metadata": {
    "colab": {
     "base_uri": "https://localhost:8080/",
     "height": 125
    },
    "executionInfo": {
     "elapsed": 9427,
     "status": "ok",
     "timestamp": 1638285782935,
     "user": {
      "displayName": "Anubrata Das",
      "photoUrl": "https://lh3.googleusercontent.com/a-/AOh14GiI2340pPpSj6e4aG_4urL4HRwW3MRXEf5aoo2_QA=s64",
      "userId": "08781375266004215524"
     },
     "user_tz": -330
    },
    "id": "7gTXlkwu_mzf",
    "outputId": "3c4f1679-22fc-496e-bbd7-ce778f5dc86a"
   },
   "outputs": [
    {
     "data": {
      "application/javascript": [
       "window.require && require([\"base/js/namespace\"],function(Jupyter){Jupyter.notebook.save_checkpoint()})"
      ],
      "text/plain": [
       "<IPython.core.display.Javascript object>"
      ]
     },
     "metadata": {},
     "output_type": "display_data"
    },
    {
     "name": "stdout",
     "output_type": "stream",
     "text": [
      "[jovian] Updating notebook \"anubratadas/jovian-ml-project-rough\" on https://jovian.ai/\n",
      "[jovian] Committed successfully! https://jovian.ai/anubratadas/jovian-ml-project-rough\n"
     ]
    },
    {
     "data": {
      "text/plain": [
       "'https://jovian.ai/anubratadas/jovian-ml-project-rough'"
      ]
     },
     "execution_count": 2,
     "metadata": {},
     "output_type": "execute_result"
    }
   ],
   "source": [
    "# Execute this to save new versions of the notebook\n",
    "jovian.commit(project=\"jovian-ml-project\",filename=\"jovian-ml-project\")"
   ]
  },
  {
   "cell_type": "markdown",
   "metadata": {},
   "source": [
    "### <font color='green'>Import the essential libraries</font>"
   ]
  },
  {
   "cell_type": "code",
   "execution_count": 3,
   "metadata": {
    "executionInfo": {
     "elapsed": 13,
     "status": "ok",
     "timestamp": 1638285789225,
     "user": {
      "displayName": "Anubrata Das",
      "photoUrl": "https://lh3.googleusercontent.com/a-/AOh14GiI2340pPpSj6e4aG_4urL4HRwW3MRXEf5aoo2_QA=s64",
      "userId": "08781375266004215524"
     },
     "user_tz": -330
    },
    "id": "AEM-Rd_A_mzj"
   },
   "outputs": [],
   "source": [
    "import jovian\n",
    "import pandas as pd\n",
    "import numpy as np\n",
    "import matplotlib.pyplot as plt\n",
    "import requests\n",
    "import xml.etree.ElementTree as ET\n",
    "import time\n",
    "import re\n",
    "from tqdm import tqdm\n",
    "%matplotlib inline"
   ]
  },
  {
   "cell_type": "code",
   "execution_count": 4,
   "metadata": {
    "executionInfo": {
     "elapsed": 12,
     "status": "ok",
     "timestamp": 1638285789226,
     "user": {
      "displayName": "Anubrata Das",
      "photoUrl": "https://lh3.googleusercontent.com/a-/AOh14GiI2340pPpSj6e4aG_4urL4HRwW3MRXEf5aoo2_QA=s64",
      "userId": "08781375266004215524"
     },
     "user_tz": -330
    },
    "id": "lv5xwSHT_mzk"
   },
   "outputs": [],
   "source": [
    "pd.set_option('display.max_columns', None)\n",
    "pd.set_option('display.max_rows', None)\n",
    "import warnings\n",
    "warnings.simplefilter(action='ignore')"
   ]
  },
  {
   "cell_type": "code",
   "execution_count": 5,
   "metadata": {},
   "outputs": [],
   "source": [
    "tqdm.pandas(desc=\"progress bar\")"
   ]
  },
  {
   "cell_type": "markdown",
   "metadata": {},
   "source": [
    " ### <font style=\"font-size:18px;font-family:arial;color:green;text-indent:100px;line-height: 0.8;word-spacing: 10px\"> A cancerous tissue can have thousands of genetic mutations (Variations), which are discovered using genome sequencing. But the challenge is distinguishing the mutations that contribute to tumor growth (drivers) from the neutral mutations (passengers). Currently this interpretation of genetic mutations is being done manually. This is a very time-consuming task where a clinical pathologist has to manually review and classify every single genetic mutation based on evidence from text-based clinical literature. For this competition MSKCC is making available an expert-annotated knowledge base where world-class researchers and oncologists have manually annotated thousands of mutations. MSKCC intends the Data scientist to develop a Machine Learning algorithm that, using this knowledge base as a baseline, automatically classifies genetic variations.</font>"
   ]
  },
  {
   "cell_type": "markdown",
   "metadata": {},
   "source": [
    "<a id='top'>**Beginning of Notebook**</a>"
   ]
  },
  {
   "cell_type": "markdown",
   "metadata": {},
   "source": [
    "[model train text data](#train_data)"
   ]
  },
  {
   "cell_type": "markdown",
   "metadata": {},
   "source": [
    "### <font color='green'>Exploratory Data Analysis</font>"
   ]
  },
  {
   "cell_type": "markdown",
   "metadata": {},
   "source": [
    "#### train data"
   ]
  },
  {
   "cell_type": "code",
   "execution_count": 6,
   "metadata": {},
   "outputs": [],
   "source": [
    "train_text_df = pd.read_csv('training_text.zip', sep=\"\\|\\|\", encoding=\"utf-8\",engine=\"python\", skiprows=1, names=[\"ID\", \"Text\"],compression='zip')"
   ]
  },
  {
   "cell_type": "code",
   "execution_count": 7,
   "metadata": {},
   "outputs": [],
   "source": [
    "train_variant_df = pd.read_csv('training_variants.zip',compression='zip')"
   ]
  },
  {
   "cell_type": "code",
   "execution_count": 8,
   "metadata": {},
   "outputs": [
    {
     "data": {
      "text/plain": [
       "((3321, 2), (3321, 4))"
      ]
     },
     "execution_count": 8,
     "metadata": {},
     "output_type": "execute_result"
    }
   ],
   "source": [
    "train_text_df.shape, train_variant_df.shape"
   ]
  },
  {
   "cell_type": "code",
   "execution_count": 9,
   "metadata": {},
   "outputs": [
    {
     "data": {
      "text/plain": [
       "(Index(['ID', 'Text'], dtype='object'),\n",
       " Index(['ID', 'Gene', 'Variation', 'Class'], dtype='object'))"
      ]
     },
     "execution_count": 9,
     "metadata": {},
     "output_type": "execute_result"
    }
   ],
   "source": [
    "train_text_df.columns, train_variant_df.columns"
   ]
  },
  {
   "cell_type": "code",
   "execution_count": 10,
   "metadata": {},
   "outputs": [],
   "source": [
    "# merging the text and variation data\n",
    "train_df = pd.merge(train_variant_df,train_text_df,on='ID')"
   ]
  },
  {
   "cell_type": "code",
   "execution_count": 11,
   "metadata": {},
   "outputs": [
    {
     "data": {
      "text/plain": [
       "(3321, 5)"
      ]
     },
     "execution_count": 11,
     "metadata": {},
     "output_type": "execute_result"
    }
   ],
   "source": [
    "train_df.shape"
   ]
  },
  {
   "cell_type": "code",
   "execution_count": 12,
   "metadata": {},
   "outputs": [],
   "source": [
    "# taking a sample of the dataset\n",
    "train_df = train_df.sample(frac=0.4,random_state=222)"
   ]
  },
  {
   "cell_type": "markdown",
   "metadata": {},
   "source": [
    "We have taken a sample of the training data"
   ]
  },
  {
   "cell_type": "code",
   "execution_count": 13,
   "metadata": {},
   "outputs": [
    {
     "data": {
      "text/html": [
       "<div>\n",
       "<style scoped>\n",
       "    .dataframe tbody tr th:only-of-type {\n",
       "        vertical-align: middle;\n",
       "    }\n",
       "\n",
       "    .dataframe tbody tr th {\n",
       "        vertical-align: top;\n",
       "    }\n",
       "\n",
       "    .dataframe thead th {\n",
       "        text-align: right;\n",
       "    }\n",
       "</style>\n",
       "<table border=\"1\" class=\"dataframe\">\n",
       "  <thead>\n",
       "    <tr style=\"text-align: right;\">\n",
       "      <th></th>\n",
       "      <th>ID</th>\n",
       "      <th>Gene</th>\n",
       "      <th>Variation</th>\n",
       "      <th>Class</th>\n",
       "      <th>Text</th>\n",
       "    </tr>\n",
       "  </thead>\n",
       "  <tbody>\n",
       "    <tr>\n",
       "      <th>1708</th>\n",
       "      <td>1708</td>\n",
       "      <td>POLE</td>\n",
       "      <td>S459del</td>\n",
       "      <td>1</td>\n",
       "      <td>Tumors with somatic mutations in the proofread...</td>\n",
       "    </tr>\n",
       "    <tr>\n",
       "      <th>2201</th>\n",
       "      <td>2201</td>\n",
       "      <td>PTEN</td>\n",
       "      <td>D92A</td>\n",
       "      <td>4</td>\n",
       "      <td>The PTEN (phosphatase and tensin homolog) phos...</td>\n",
       "    </tr>\n",
       "    <tr>\n",
       "      <th>84</th>\n",
       "      <td>84</td>\n",
       "      <td>RIT1</td>\n",
       "      <td>A77T</td>\n",
       "      <td>2</td>\n",
       "      <td>Abstract RASopathies are autosomal dominant d...</td>\n",
       "    </tr>\n",
       "    <tr>\n",
       "      <th>1985</th>\n",
       "      <td>1985</td>\n",
       "      <td>CTNNB1</td>\n",
       "      <td>I35S</td>\n",
       "      <td>7</td>\n",
       "      <td>To understand the nature and roles of mutated ...</td>\n",
       "    </tr>\n",
       "    <tr>\n",
       "      <th>2985</th>\n",
       "      <td>2985</td>\n",
       "      <td>KIT</td>\n",
       "      <td>W557R</td>\n",
       "      <td>7</td>\n",
       "      <td>Purpose: Somatic mutations that result in the ...</td>\n",
       "    </tr>\n",
       "  </tbody>\n",
       "</table>\n",
       "</div>"
      ],
      "text/plain": [
       "        ID    Gene Variation  Class  \\\n",
       "1708  1708    POLE   S459del      1   \n",
       "2201  2201    PTEN      D92A      4   \n",
       "84      84    RIT1      A77T      2   \n",
       "1985  1985  CTNNB1      I35S      7   \n",
       "2985  2985     KIT     W557R      7   \n",
       "\n",
       "                                                   Text  \n",
       "1708  Tumors with somatic mutations in the proofread...  \n",
       "2201  The PTEN (phosphatase and tensin homolog) phos...  \n",
       "84     Abstract RASopathies are autosomal dominant d...  \n",
       "1985  To understand the nature and roles of mutated ...  \n",
       "2985  Purpose: Somatic mutations that result in the ...  "
      ]
     },
     "execution_count": 13,
     "metadata": {},
     "output_type": "execute_result"
    }
   ],
   "source": [
    "train_df.head()"
   ]
  },
  {
   "cell_type": "markdown",
   "metadata": {},
   "source": [
    "### <font style=\"font-size:18px;font-family:arial;color:green;text-indent:100px;line-height: 0.8;word-spacing: 10px\"><i>Gene</i> is a stretch of DNA encoding a specific function. Variation is <i>Mutation</i>,  which changes the function. The first alphabet is the orginal amino acid, the number is the physical position in the gene where the change has occured and the last alphabet is the changed amino acid. The Text contains the information for the Gene, the Variation and the reason for the Class </font>"
   ]
  },
  {
   "cell_type": "markdown",
   "metadata": {},
   "source": [
    "#### top 10 mutated genes"
   ]
  },
  {
   "cell_type": "code",
   "execution_count": 14,
   "metadata": {},
   "outputs": [
    {
     "data": {
      "text/plain": [
       "Gene\n",
       "BRCA1     101\n",
       "TP53       69\n",
       "EGFR       56\n",
       "BRCA2      56\n",
       "PTEN       52\n",
       "KIT        45\n",
       "BRAF       40\n",
       "ALK        28\n",
       "PDGFRA     27\n",
       "ERBB2      27\n",
       "Name: Variation, dtype: int64"
      ]
     },
     "execution_count": 14,
     "metadata": {},
     "output_type": "execute_result"
    }
   ],
   "source": [
    "# top 10 mutated genes\n",
    "train_df.groupby('Gene')['Variation'].aggregate(\"count\").sort_values(ascending=False).head(n=10)"
   ]
  },
  {
   "cell_type": "markdown",
   "metadata": {},
   "source": [
    "#### distribution of classes in the dataset"
   ]
  },
  {
   "cell_type": "code",
   "execution_count": 15,
   "metadata": {},
   "outputs": [
    {
     "data": {
      "text/plain": [
       "<AxesSubplot:xlabel='Class'>"
      ]
     },
     "execution_count": 15,
     "metadata": {},
     "output_type": "execute_result"
    },
    {
     "data": {
      "image/png": "[encoded data removed]",
      "text/plain": [
       "<Figure size 432x288 with 1 Axes>"
      ]
     },
     "metadata": {
      "needs_background": "light"
     },
     "output_type": "display_data"
    }
   ],
   "source": [
    "train_df.value_counts('Class').plot(kind='bar')"
   ]
  },
  {
   "cell_type": "markdown",
   "metadata": {},
   "source": [
    "#### the distribution of the classes is imbalanced"
   ]
  },
  {
   "cell_type": "markdown",
   "metadata": {},
   "source": [
    "### <font color='green'> Let us study the mutations of BRCA1, the most highly mutated gene with respect to the classification</font>"
   ]
  },
  {
   "cell_type": "code",
   "execution_count": 16,
   "metadata": {},
   "outputs": [
    {
     "data": {
      "text/plain": [
       "101"
      ]
     },
     "execution_count": 16,
     "metadata": {},
     "output_type": "execute_result"
    }
   ],
   "source": [
    "train_df[train_df['Gene'] == 'BRCA1']['Variation'].nunique()"
   ]
  },
  {
   "cell_type": "code",
   "execution_count": 17,
   "metadata": {},
   "outputs": [
    {
     "data": {
      "text/plain": [
       "5"
      ]
     },
     "execution_count": 17,
     "metadata": {},
     "output_type": "execute_result"
    }
   ],
   "source": [
    "train_df[train_df['Gene'] == 'BRCA1']['Class'].nunique()"
   ]
  },
  {
   "cell_type": "code",
   "execution_count": 18,
   "metadata": {},
   "outputs": [
    {
     "data": {
      "text/plain": [
       "Class\n",
       "1    21\n",
       "3     3\n",
       "4    22\n",
       "5    36\n",
       "6    19\n",
       "Name: Variation, dtype: int64"
      ]
     },
     "execution_count": 18,
     "metadata": {},
     "output_type": "execute_result"
    }
   ],
   "source": [
    "train_df[train_df['Gene'] == 'BRCA1'].groupby('Class')['Variation'].count()"
   ]
  },
  {
   "cell_type": "markdown",
   "metadata": {},
   "source": [
    "### <font color='green'> 101 mutations (Variations) are classified into 5 classes with most mutations in class 5 and least mutations in class 3</font>"
   ]
  },
  {
   "cell_type": "code",
   "execution_count": 19,
   "metadata": {},
   "outputs": [],
   "source": [
    "class_5=train_df[(train_df['Gene'] == 'BRCA1') & (train_df['Class']== 5)]\n",
    "class_5['Text']=class_5['Text'].map(lambda x:x[:80])"
   ]
  },
  {
   "cell_type": "code",
   "execution_count": 20,
   "metadata": {},
   "outputs": [],
   "source": [
    "class_5.reset_index(inplace=True,drop=True)"
   ]
  },
  {
   "cell_type": "code",
   "execution_count": 21,
   "metadata": {},
   "outputs": [
    {
     "data": {
      "text/html": [
       "<div>\n",
       "<style scoped>\n",
       "    .dataframe tbody tr th:only-of-type {\n",
       "        vertical-align: middle;\n",
       "    }\n",
       "\n",
       "    .dataframe tbody tr th {\n",
       "        vertical-align: top;\n",
       "    }\n",
       "\n",
       "    .dataframe thead th {\n",
       "        text-align: right;\n",
       "    }\n",
       "</style>\n",
       "<table border=\"1\" class=\"dataframe\">\n",
       "  <thead>\n",
       "    <tr style=\"text-align: right;\">\n",
       "      <th></th>\n",
       "      <th>ID</th>\n",
       "      <th>Gene</th>\n",
       "      <th>Variation</th>\n",
       "      <th>Class</th>\n",
       "      <th>Text</th>\n",
       "    </tr>\n",
       "  </thead>\n",
       "  <tbody>\n",
       "    <tr>\n",
       "      <th>0</th>\n",
       "      <td>2661</td>\n",
       "      <td>BRCA1</td>\n",
       "      <td>S1613C</td>\n",
       "      <td>5</td>\n",
       "      <td>Abstract Germline mutations that inactivate B...</td>\n",
       "    </tr>\n",
       "    <tr>\n",
       "      <th>1</th>\n",
       "      <td>2460</td>\n",
       "      <td>BRCA1</td>\n",
       "      <td>R170W</td>\n",
       "      <td>5</td>\n",
       "      <td>Mutations in BRCA1 and BRCA2 account for the m...</td>\n",
       "    </tr>\n",
       "    <tr>\n",
       "      <th>2</th>\n",
       "      <td>2558</td>\n",
       "      <td>BRCA1</td>\n",
       "      <td>P1806A</td>\n",
       "      <td>5</td>\n",
       "      <td>ABSTRACT Germline mutations that inactivate th...</td>\n",
       "    </tr>\n",
       "    <tr>\n",
       "      <th>3</th>\n",
       "      <td>2618</td>\n",
       "      <td>BRCA1</td>\n",
       "      <td>C1787S</td>\n",
       "      <td>5</td>\n",
       "      <td>Abstract  The BRCA1 gene from individuals at ...</td>\n",
       "    </tr>\n",
       "    <tr>\n",
       "      <th>4</th>\n",
       "      <td>2468</td>\n",
       "      <td>BRCA1</td>\n",
       "      <td>E362H</td>\n",
       "      <td>5</td>\n",
       "      <td>Mutations in BRCA1 and BRCA2 account for the m...</td>\n",
       "    </tr>\n",
       "    <tr>\n",
       "      <th>5</th>\n",
       "      <td>2673</td>\n",
       "      <td>BRCA1</td>\n",
       "      <td>S1473P</td>\n",
       "      <td>5</td>\n",
       "      <td>Abstract Germline inactivating mutations in B...</td>\n",
       "    </tr>\n",
       "    <tr>\n",
       "      <th>6</th>\n",
       "      <td>2472</td>\n",
       "      <td>BRCA1</td>\n",
       "      <td>L358R</td>\n",
       "      <td>5</td>\n",
       "      <td>Mutations in BRCA1 and BRCA2 account for the m...</td>\n",
       "    </tr>\n",
       "    <tr>\n",
       "      <th>7</th>\n",
       "      <td>2502</td>\n",
       "      <td>BRCA1</td>\n",
       "      <td>A1789S</td>\n",
       "      <td>5</td>\n",
       "      <td>Genetic screening of the breast and ovarian ca...</td>\n",
       "    </tr>\n",
       "    <tr>\n",
       "      <th>8</th>\n",
       "      <td>2423</td>\n",
       "      <td>BRCA1</td>\n",
       "      <td>A1830T</td>\n",
       "      <td>5</td>\n",
       "      <td>Genetic screening of the breast and ovarian ca...</td>\n",
       "    </tr>\n",
       "    <tr>\n",
       "      <th>9</th>\n",
       "      <td>2663</td>\n",
       "      <td>BRCA1</td>\n",
       "      <td>P1614S</td>\n",
       "      <td>5</td>\n",
       "      <td>Germ line inactivating mutations in BRCA1 conf...</td>\n",
       "    </tr>\n",
       "    <tr>\n",
       "      <th>10</th>\n",
       "      <td>2607</td>\n",
       "      <td>BRCA1</td>\n",
       "      <td>M1775V</td>\n",
       "      <td>5</td>\n",
       "      <td>Abstract  The BRCA1 gene from individuals at ...</td>\n",
       "    </tr>\n",
       "    <tr>\n",
       "      <th>11</th>\n",
       "      <td>2605</td>\n",
       "      <td>BRCA1</td>\n",
       "      <td>V1665M</td>\n",
       "      <td>5</td>\n",
       "      <td>Abstract  The BRCA1 gene from individuals at ...</td>\n",
       "    </tr>\n",
       "    <tr>\n",
       "      <th>12</th>\n",
       "      <td>2555</td>\n",
       "      <td>BRCA1</td>\n",
       "      <td>A1669S</td>\n",
       "      <td>5</td>\n",
       "      <td>Abstract  The BRCA1 gene from individuals at ...</td>\n",
       "    </tr>\n",
       "    <tr>\n",
       "      <th>13</th>\n",
       "      <td>2571</td>\n",
       "      <td>BRCA1</td>\n",
       "      <td>S1297del</td>\n",
       "      <td>5</td>\n",
       "      <td>Mutations in BRCA1 and BRCA2 account for the m...</td>\n",
       "    </tr>\n",
       "    <tr>\n",
       "      <th>14</th>\n",
       "      <td>2628</td>\n",
       "      <td>BRCA1</td>\n",
       "      <td>L1267S</td>\n",
       "      <td>5</td>\n",
       "      <td>Mutations in BRCA1 and BRCA2 account for the m...</td>\n",
       "    </tr>\n",
       "    <tr>\n",
       "      <th>15</th>\n",
       "      <td>2488</td>\n",
       "      <td>BRCA1</td>\n",
       "      <td>W1782C</td>\n",
       "      <td>5</td>\n",
       "      <td>Mutations in BRCA1 and BRCA2 account for the m...</td>\n",
       "    </tr>\n",
       "    <tr>\n",
       "      <th>16</th>\n",
       "      <td>2643</td>\n",
       "      <td>BRCA1</td>\n",
       "      <td>Q1826H</td>\n",
       "      <td>5</td>\n",
       "      <td>Abstract Germline mutations that inactivate B...</td>\n",
       "    </tr>\n",
       "    <tr>\n",
       "      <th>17</th>\n",
       "      <td>2561</td>\n",
       "      <td>BRCA1</td>\n",
       "      <td>S1140G</td>\n",
       "      <td>5</td>\n",
       "      <td>Mutations in BRCA1 and BRCA2 account for the m...</td>\n",
       "    </tr>\n",
       "    <tr>\n",
       "      <th>18</th>\n",
       "      <td>2466</td>\n",
       "      <td>BRCA1</td>\n",
       "      <td>L147F</td>\n",
       "      <td>5</td>\n",
       "      <td>Mutations in BRCA1 and BRCA2 account for the m...</td>\n",
       "    </tr>\n",
       "    <tr>\n",
       "      <th>19</th>\n",
       "      <td>2532</td>\n",
       "      <td>BRCA1</td>\n",
       "      <td>N1647K</td>\n",
       "      <td>5</td>\n",
       "      <td>Genetic screening of the breast and ovarian ca...</td>\n",
       "    </tr>\n",
       "    <tr>\n",
       "      <th>20</th>\n",
       "      <td>2666</td>\n",
       "      <td>BRCA1</td>\n",
       "      <td>P1812R</td>\n",
       "      <td>5</td>\n",
       "      <td>Mutations in BRCA1 and BRCA2 account for the m...</td>\n",
       "    </tr>\n",
       "    <tr>\n",
       "      <th>21</th>\n",
       "      <td>2647</td>\n",
       "      <td>BRCA1</td>\n",
       "      <td>S1301R</td>\n",
       "      <td>5</td>\n",
       "      <td>Mutations in BRCA1 and BRCA2 account for the m...</td>\n",
       "    </tr>\n",
       "    <tr>\n",
       "      <th>22</th>\n",
       "      <td>2495</td>\n",
       "      <td>BRCA1</td>\n",
       "      <td>E1682V</td>\n",
       "      <td>5</td>\n",
       "      <td>Genetic screening of the breast and ovarian ca...</td>\n",
       "    </tr>\n",
       "    <tr>\n",
       "      <th>23</th>\n",
       "      <td>2498</td>\n",
       "      <td>BRCA1</td>\n",
       "      <td>R496C</td>\n",
       "      <td>5</td>\n",
       "      <td>A significant proportion of inherited breast c...</td>\n",
       "    </tr>\n",
       "    <tr>\n",
       "      <th>24</th>\n",
       "      <td>2608</td>\n",
       "      <td>BRCA1</td>\n",
       "      <td>R1589H</td>\n",
       "      <td>5</td>\n",
       "      <td>Abstract Germline inactivating mutations in B...</td>\n",
       "    </tr>\n",
       "    <tr>\n",
       "      <th>25</th>\n",
       "      <td>2553</td>\n",
       "      <td>BRCA1</td>\n",
       "      <td>D1778N</td>\n",
       "      <td>5</td>\n",
       "      <td>Abstract  The BRCA1 gene from individuals at ...</td>\n",
       "    </tr>\n",
       "    <tr>\n",
       "      <th>26</th>\n",
       "      <td>2604</td>\n",
       "      <td>BRCA1</td>\n",
       "      <td>E1214K</td>\n",
       "      <td>5</td>\n",
       "      <td>Mutations in BRCA1 and BRCA2 account for the m...</td>\n",
       "    </tr>\n",
       "    <tr>\n",
       "      <th>27</th>\n",
       "      <td>2467</td>\n",
       "      <td>BRCA1</td>\n",
       "      <td>H1421Y</td>\n",
       "      <td>5</td>\n",
       "      <td>BRCA1 is a tumour suppressor with pleiotropic ...</td>\n",
       "    </tr>\n",
       "    <tr>\n",
       "      <th>28</th>\n",
       "      <td>2662</td>\n",
       "      <td>BRCA1</td>\n",
       "      <td>L668F</td>\n",
       "      <td>5</td>\n",
       "      <td>Mutations in BRCA1 and BRCA2 account for the m...</td>\n",
       "    </tr>\n",
       "    <tr>\n",
       "      <th>29</th>\n",
       "      <td>2541</td>\n",
       "      <td>BRCA1</td>\n",
       "      <td>V1809A</td>\n",
       "      <td>5</td>\n",
       "      <td>Abstract  The BRCA1 gene from individuals at ...</td>\n",
       "    </tr>\n",
       "    <tr>\n",
       "      <th>30</th>\n",
       "      <td>2512</td>\n",
       "      <td>BRCA1</td>\n",
       "      <td>E1586G</td>\n",
       "      <td>5</td>\n",
       "      <td>Abstract Germline inactivating mutations in B...</td>\n",
       "    </tr>\n",
       "    <tr>\n",
       "      <th>31</th>\n",
       "      <td>2531</td>\n",
       "      <td>BRCA1</td>\n",
       "      <td>S1497A</td>\n",
       "      <td>5</td>\n",
       "      <td>Mutations in BRCA1 and BRCA2 account for the m...</td>\n",
       "    </tr>\n",
       "    <tr>\n",
       "      <th>32</th>\n",
       "      <td>2536</td>\n",
       "      <td>BRCA1</td>\n",
       "      <td>L165P</td>\n",
       "      <td>5</td>\n",
       "      <td>Mutations in BRCA1 and BRCA2 account for the m...</td>\n",
       "    </tr>\n",
       "    <tr>\n",
       "      <th>33</th>\n",
       "      <td>2602</td>\n",
       "      <td>BRCA1</td>\n",
       "      <td>M1008I</td>\n",
       "      <td>5</td>\n",
       "      <td>Mutations in BRCA1 and BRCA2 account for the m...</td>\n",
       "    </tr>\n",
       "    <tr>\n",
       "      <th>34</th>\n",
       "      <td>2528</td>\n",
       "      <td>BRCA1</td>\n",
       "      <td>N550H</td>\n",
       "      <td>5</td>\n",
       "      <td>ABSTRACT: The BRCA1 tumor suppressor gene is f...</td>\n",
       "    </tr>\n",
       "    <tr>\n",
       "      <th>35</th>\n",
       "      <td>2611</td>\n",
       "      <td>BRCA1</td>\n",
       "      <td>V1808A</td>\n",
       "      <td>5</td>\n",
       "      <td>ABSTRACT Germline mutations that inactivate th...</td>\n",
       "    </tr>\n",
       "  </tbody>\n",
       "</table>\n",
       "</div>"
      ],
      "text/plain": [
       "      ID   Gene Variation  Class  \\\n",
       "0   2661  BRCA1    S1613C      5   \n",
       "1   2460  BRCA1     R170W      5   \n",
       "2   2558  BRCA1    P1806A      5   \n",
       "3   2618  BRCA1    C1787S      5   \n",
       "4   2468  BRCA1     E362H      5   \n",
       "5   2673  BRCA1    S1473P      5   \n",
       "6   2472  BRCA1     L358R      5   \n",
       "7   2502  BRCA1    A1789S      5   \n",
       "8   2423  BRCA1    A1830T      5   \n",
       "9   2663  BRCA1    P1614S      5   \n",
       "10  2607  BRCA1    M1775V      5   \n",
       "11  2605  BRCA1    V1665M      5   \n",
       "12  2555  BRCA1    A1669S      5   \n",
       "13  2571  BRCA1  S1297del      5   \n",
       "14  2628  BRCA1    L1267S      5   \n",
       "15  2488  BRCA1    W1782C      5   \n",
       "16  2643  BRCA1    Q1826H      5   \n",
       "17  2561  BRCA1    S1140G      5   \n",
       "18  2466  BRCA1     L147F      5   \n",
       "19  2532  BRCA1    N1647K      5   \n",
       "20  2666  BRCA1    P1812R      5   \n",
       "21  2647  BRCA1    S1301R      5   \n",
       "22  2495  BRCA1    E1682V      5   \n",
       "23  2498  BRCA1     R496C      5   \n",
       "24  2608  BRCA1    R1589H      5   \n",
       "25  2553  BRCA1    D1778N      5   \n",
       "26  2604  BRCA1    E1214K      5   \n",
       "27  2467  BRCA1    H1421Y      5   \n",
       "28  2662  BRCA1     L668F      5   \n",
       "29  2541  BRCA1    V1809A      5   \n",
       "30  2512  BRCA1    E1586G      5   \n",
       "31  2531  BRCA1    S1497A      5   \n",
       "32  2536  BRCA1     L165P      5   \n",
       "33  2602  BRCA1    M1008I      5   \n",
       "34  2528  BRCA1     N550H      5   \n",
       "35  2611  BRCA1    V1808A      5   \n",
       "\n",
       "                                                 Text  \n",
       "0    Abstract Germline mutations that inactivate B...  \n",
       "1   Mutations in BRCA1 and BRCA2 account for the m...  \n",
       "2   ABSTRACT Germline mutations that inactivate th...  \n",
       "3    Abstract  The BRCA1 gene from individuals at ...  \n",
       "4   Mutations in BRCA1 and BRCA2 account for the m...  \n",
       "5    Abstract Germline inactivating mutations in B...  \n",
       "6   Mutations in BRCA1 and BRCA2 account for the m...  \n",
       "7   Genetic screening of the breast and ovarian ca...  \n",
       "8   Genetic screening of the breast and ovarian ca...  \n",
       "9   Germ line inactivating mutations in BRCA1 conf...  \n",
       "10   Abstract  The BRCA1 gene from individuals at ...  \n",
       "11   Abstract  The BRCA1 gene from individuals at ...  \n",
       "12   Abstract  The BRCA1 gene from individuals at ...  \n",
       "13  Mutations in BRCA1 and BRCA2 account for the m...  \n",
       "14  Mutations in BRCA1 and BRCA2 account for the m...  \n",
       "15  Mutations in BRCA1 and BRCA2 account for the m...  \n",
       "16   Abstract Germline mutations that inactivate B...  \n",
       "17  Mutations in BRCA1 and BRCA2 account for the m...  \n",
       "18  Mutations in BRCA1 and BRCA2 account for the m...  \n",
       "19  Genetic screening of the breast and ovarian ca...  \n",
       "20  Mutations in BRCA1 and BRCA2 account for the m...  \n",
       "21  Mutations in BRCA1 and BRCA2 account for the m...  \n",
       "22  Genetic screening of the breast and ovarian ca...  \n",
       "23  A significant proportion of inherited breast c...  \n",
       "24   Abstract Germline inactivating mutations in B...  \n",
       "25   Abstract  The BRCA1 gene from individuals at ...  \n",
       "26  Mutations in BRCA1 and BRCA2 account for the m...  \n",
       "27  BRCA1 is a tumour suppressor with pleiotropic ...  \n",
       "28  Mutations in BRCA1 and BRCA2 account for the m...  \n",
       "29   Abstract  The BRCA1 gene from individuals at ...  \n",
       "30   Abstract Germline inactivating mutations in B...  \n",
       "31  Mutations in BRCA1 and BRCA2 account for the m...  \n",
       "32  Mutations in BRCA1 and BRCA2 account for the m...  \n",
       "33  Mutations in BRCA1 and BRCA2 account for the m...  \n",
       "34  ABSTRACT: The BRCA1 tumor suppressor gene is f...  \n",
       "35  ABSTRACT Germline mutations that inactivate th...  "
      ]
     },
     "execution_count": 21,
     "metadata": {},
     "output_type": "execute_result"
    }
   ],
   "source": [
    "class_5"
   ]
  },
  {
   "cell_type": "code",
   "execution_count": 22,
   "metadata": {},
   "outputs": [
    {
     "data": {
      "text/html": [
       "<div>\n",
       "<style scoped>\n",
       "    .dataframe tbody tr th:only-of-type {\n",
       "        vertical-align: middle;\n",
       "    }\n",
       "\n",
       "    .dataframe tbody tr th {\n",
       "        vertical-align: top;\n",
       "    }\n",
       "\n",
       "    .dataframe thead th {\n",
       "        text-align: right;\n",
       "    }\n",
       "</style>\n",
       "<table border=\"1\" class=\"dataframe\">\n",
       "  <thead>\n",
       "    <tr style=\"text-align: right;\">\n",
       "      <th></th>\n",
       "      <th>Text</th>\n",
       "      <th>Gene</th>\n",
       "      <th>Variation</th>\n",
       "    </tr>\n",
       "  </thead>\n",
       "  <tbody>\n",
       "    <tr>\n",
       "      <th>0</th>\n",
       "      <td>Abstract Germline mutations that inactivate B...</td>\n",
       "      <td>BRCA1</td>\n",
       "      <td>2</td>\n",
       "    </tr>\n",
       "    <tr>\n",
       "      <th>1</th>\n",
       "      <td>Mutations in BRCA1 and BRCA2 account for the m...</td>\n",
       "      <td>BRCA1</td>\n",
       "      <td>15</td>\n",
       "    </tr>\n",
       "    <tr>\n",
       "      <th>2</th>\n",
       "      <td>ABSTRACT Germline mutations that inactivate th...</td>\n",
       "      <td>BRCA1</td>\n",
       "      <td>2</td>\n",
       "    </tr>\n",
       "    <tr>\n",
       "      <th>3</th>\n",
       "      <td>Abstract  The BRCA1 gene from individuals at ...</td>\n",
       "      <td>BRCA1</td>\n",
       "      <td>6</td>\n",
       "    </tr>\n",
       "    <tr>\n",
       "      <th>4</th>\n",
       "      <td>Abstract Germline inactivating mutations in B...</td>\n",
       "      <td>BRCA1</td>\n",
       "      <td>3</td>\n",
       "    </tr>\n",
       "    <tr>\n",
       "      <th>5</th>\n",
       "      <td>Genetic screening of the breast and ovarian ca...</td>\n",
       "      <td>BRCA1</td>\n",
       "      <td>4</td>\n",
       "    </tr>\n",
       "    <tr>\n",
       "      <th>6</th>\n",
       "      <td>Germ line inactivating mutations in BRCA1 conf...</td>\n",
       "      <td>BRCA1</td>\n",
       "      <td>1</td>\n",
       "    </tr>\n",
       "    <tr>\n",
       "      <th>7</th>\n",
       "      <td>A significant proportion of inherited breast c...</td>\n",
       "      <td>BRCA1</td>\n",
       "      <td>1</td>\n",
       "    </tr>\n",
       "    <tr>\n",
       "      <th>8</th>\n",
       "      <td>BRCA1 is a tumour suppressor with pleiotropic ...</td>\n",
       "      <td>BRCA1</td>\n",
       "      <td>1</td>\n",
       "    </tr>\n",
       "    <tr>\n",
       "      <th>9</th>\n",
       "      <td>ABSTRACT: The BRCA1 tumor suppressor gene is f...</td>\n",
       "      <td>BRCA1</td>\n",
       "      <td>1</td>\n",
       "    </tr>\n",
       "  </tbody>\n",
       "</table>\n",
       "</div>"
      ],
      "text/plain": [
       "                                                Text   Gene  Variation\n",
       "0   Abstract Germline mutations that inactivate B...  BRCA1          2\n",
       "1  Mutations in BRCA1 and BRCA2 account for the m...  BRCA1         15\n",
       "2  ABSTRACT Germline mutations that inactivate th...  BRCA1          2\n",
       "3   Abstract  The BRCA1 gene from individuals at ...  BRCA1          6\n",
       "4   Abstract Germline inactivating mutations in B...  BRCA1          3\n",
       "5  Genetic screening of the breast and ovarian ca...  BRCA1          4\n",
       "6  Germ line inactivating mutations in BRCA1 conf...  BRCA1          1\n",
       "7  A significant proportion of inherited breast c...  BRCA1          1\n",
       "8  BRCA1 is a tumour suppressor with pleiotropic ...  BRCA1          1\n",
       "9  ABSTRACT: The BRCA1 tumor suppressor gene is f...  BRCA1          1"
      ]
     },
     "execution_count": 22,
     "metadata": {},
     "output_type": "execute_result"
    }
   ],
   "source": [
    "class_5.groupby(['Text','Gene'],sort=False)['Variation'].count().reset_index()"
   ]
  },
  {
   "cell_type": "markdown",
   "metadata": {},
   "source": [
    "### <font style=\"font-size:18px;font-family:arial;color:green;text-indent:100px;line-height:0.8;word-spacing:10px\">What is the relationship of the enlisted mutations (Variation) of a gene and the corresponding 'Text' ? For e.g, for mutations of BCRA1, there are 36 unique mutations assigned to class 5 and the above 10 texts are the basis for it</font>"
   ]
  },
  {
   "cell_type": "code",
   "execution_count": null,
   "metadata": {},
   "outputs": [],
   "source": []
  },
  {
   "cell_type": "code",
   "execution_count": 23,
   "metadata": {},
   "outputs": [
    {
     "data": {
      "text/plain": [
       "ID           0\n",
       "Gene         0\n",
       "Variation    0\n",
       "Class        0\n",
       "Text         4\n",
       "dtype: int64"
      ]
     },
     "execution_count": 23,
     "metadata": {},
     "output_type": "execute_result"
    }
   ],
   "source": [
    "train_df.isna().sum()"
   ]
  },
  {
   "cell_type": "code",
   "execution_count": 24,
   "metadata": {},
   "outputs": [
    {
     "data": {
      "text/html": [
       "<div>\n",
       "<style scoped>\n",
       "    .dataframe tbody tr th:only-of-type {\n",
       "        vertical-align: middle;\n",
       "    }\n",
       "\n",
       "    .dataframe tbody tr th {\n",
       "        vertical-align: top;\n",
       "    }\n",
       "\n",
       "    .dataframe thead th {\n",
       "        text-align: right;\n",
       "    }\n",
       "</style>\n",
       "<table border=\"1\" class=\"dataframe\">\n",
       "  <thead>\n",
       "    <tr style=\"text-align: right;\">\n",
       "      <th></th>\n",
       "      <th>ID</th>\n",
       "      <th>Gene</th>\n",
       "      <th>Variation</th>\n",
       "      <th>Class</th>\n",
       "      <th>Text</th>\n",
       "    </tr>\n",
       "  </thead>\n",
       "  <tbody>\n",
       "    <tr>\n",
       "      <th>1407</th>\n",
       "      <td>1407</td>\n",
       "      <td>FGFR3</td>\n",
       "      <td>K508M</td>\n",
       "      <td>6</td>\n",
       "      <td>NaN</td>\n",
       "    </tr>\n",
       "    <tr>\n",
       "      <th>1109</th>\n",
       "      <td>1109</td>\n",
       "      <td>FANCA</td>\n",
       "      <td>S1088F</td>\n",
       "      <td>1</td>\n",
       "      <td>NaN</td>\n",
       "    </tr>\n",
       "    <tr>\n",
       "      <th>1277</th>\n",
       "      <td>1277</td>\n",
       "      <td>ARID5B</td>\n",
       "      <td>Truncating Mutations</td>\n",
       "      <td>1</td>\n",
       "      <td>NaN</td>\n",
       "    </tr>\n",
       "    <tr>\n",
       "      <th>1639</th>\n",
       "      <td>1639</td>\n",
       "      <td>FLT1</td>\n",
       "      <td>Amplification</td>\n",
       "      <td>6</td>\n",
       "      <td>NaN</td>\n",
       "    </tr>\n",
       "  </tbody>\n",
       "</table>\n",
       "</div>"
      ],
      "text/plain": [
       "        ID    Gene             Variation  Class Text\n",
       "1407  1407   FGFR3                 K508M      6  NaN\n",
       "1109  1109   FANCA                S1088F      1  NaN\n",
       "1277  1277  ARID5B  Truncating Mutations      1  NaN\n",
       "1639  1639    FLT1         Amplification      6  NaN"
      ]
     },
     "execution_count": 24,
     "metadata": {},
     "output_type": "execute_result"
    }
   ],
   "source": [
    "train_df[train_df['Text'].map(lambda x:not isinstance(x,str))]"
   ]
  },
  {
   "cell_type": "code",
   "execution_count": 25,
   "metadata": {},
   "outputs": [],
   "source": [
    "train_df.dropna(inplace=True)"
   ]
  },
  {
   "cell_type": "code",
   "execution_count": 26,
   "metadata": {},
   "outputs": [],
   "source": [
    "from sklearn.model_selection import train_test_split"
   ]
  },
  {
   "cell_type": "code",
   "execution_count": 27,
   "metadata": {},
   "outputs": [],
   "source": [
    "y_train=train_df['Class']\n",
    "X_train=train_df.drop('Class',axis=1)\n",
    "train_df,validation_df,y_train,y_validation=train_test_split(X_train,y_train,test_size=0.3)"
   ]
  },
  {
   "cell_type": "code",
   "execution_count": 28,
   "metadata": {},
   "outputs": [
    {
     "data": {
      "text/plain": [
       "((926, 4), (926,))"
      ]
     },
     "execution_count": 28,
     "metadata": {},
     "output_type": "execute_result"
    }
   ],
   "source": [
    "train_df.shape,y_train.shape"
   ]
  },
  {
   "cell_type": "code",
   "execution_count": 29,
   "metadata": {},
   "outputs": [
    {
     "data": {
      "text/plain": [
       "((398, 4), (398,))"
      ]
     },
     "execution_count": 29,
     "metadata": {},
     "output_type": "execute_result"
    }
   ],
   "source": [
    "validation_df.shape,y_validation.shape"
   ]
  },
  {
   "cell_type": "markdown",
   "metadata": {},
   "source": [
    "### <font color='green'>analyzing the train text data</font>"
   ]
  },
  {
   "cell_type": "markdown",
   "metadata": {},
   "source": [
    "[link to destination](#destination)"
   ]
  },
  {
   "cell_type": "code",
   "execution_count": 30,
   "metadata": {
    "colab": {
     "base_uri": "https://localhost:8080/",
     "height": 38
    },
    "executionInfo": {
     "elapsed": 98,
     "status": "ok",
     "timestamp": 1638286184867,
     "user": {
      "displayName": "Anubrata Das",
      "photoUrl": "https://lh3.googleusercontent.com/a-/AOh14GiI2340pPpSj6e4aG_4urL4HRwW3MRXEf5aoo2_QA=s64",
      "userId": "08781375266004215524"
     },
     "user_tz": -330
    },
    "id": "9SoN9RkCag-o",
    "outputId": "7f64e0fd-3acd-42a0-9d80-2dd56677fb44"
   },
   "outputs": [
    {
     "data": {
      "text/plain": [
       "'!\"#$%&\\'()*+,-./:;<=>?@[\\\\]^_`{|}~'"
      ]
     },
     "execution_count": 30,
     "metadata": {},
     "output_type": "execute_result"
    }
   ],
   "source": [
    "import string\n",
    "string.punctuation"
   ]
  },
  {
   "cell_type": "code",
   "execution_count": 31,
   "metadata": {
    "executionInfo": {
     "elapsed": 90,
     "status": "ok",
     "timestamp": 1638286184868,
     "user": {
      "displayName": "Anubrata Das",
      "photoUrl": "https://lh3.googleusercontent.com/a-/AOh14GiI2340pPpSj6e4aG_4urL4HRwW3MRXEf5aoo2_QA=s64",
      "userId": "08781375266004215524"
     },
     "user_tz": -330
    },
    "id": "Zoqhi_AKamax"
   },
   "outputs": [],
   "source": [
    "revised_punctuation='!\"#$%&\\'()*+,./:;<=>?@[\\\\]^_`{|}~'"
   ]
  },
  {
   "cell_type": "code",
   "execution_count": 32,
   "metadata": {},
   "outputs": [
    {
     "data": {
      "text/plain": [
       "'!\"#$%&\\'()*+,./:;<=>?@[\\\\]^_`{|}~'"
      ]
     },
     "execution_count": 32,
     "metadata": {},
     "output_type": "execute_result"
    }
   ],
   "source": [
    "revised_punctuation"
   ]
  },
  {
   "cell_type": "code",
   "execution_count": 33,
   "metadata": {},
   "outputs": [],
   "source": [
    "#!pip install nltk"
   ]
  },
  {
   "cell_type": "code",
   "execution_count": 34,
   "metadata": {
    "executionInfo": {
     "elapsed": 92,
     "status": "ok",
     "timestamp": 1638286184873,
     "user": {
      "displayName": "Anubrata Das",
      "photoUrl": "https://lh3.googleusercontent.com/a-/AOh14GiI2340pPpSj6e4aG_4urL4HRwW3MRXEf5aoo2_QA=s64",
      "userId": "08781375266004215524"
     },
     "user_tz": -330
    },
    "id": "UoSJBAQWis7w"
   },
   "outputs": [
    {
     "name": "stderr",
     "output_type": "stream",
     "text": [
      "[nltk_data] Downloading package words to\n",
      "[nltk_data]     C:\\Users\\anubr\\AppData\\Roaming\\nltk_data...\n",
      "[nltk_data]   Package words is already up-to-date!\n"
     ]
    }
   ],
   "source": [
    "import nltk\n",
    "nltk.download('words')\n",
    "from nltk.corpus import words\n",
    "words=nltk.corpus.words.words()"
   ]
  },
  {
   "cell_type": "code",
   "execution_count": 35,
   "metadata": {},
   "outputs": [
    {
     "data": {
      "text/plain": [
       "235892"
      ]
     },
     "execution_count": 35,
     "metadata": {},
     "output_type": "execute_result"
    }
   ],
   "source": [
    "len(set(words))"
   ]
  },
  {
   "cell_type": "code",
   "execution_count": 36,
   "metadata": {},
   "outputs": [],
   "source": [
    "nltk_words=set(words)"
   ]
  },
  {
   "cell_type": "code",
   "execution_count": 37,
   "metadata": {
    "executionInfo": {
     "elapsed": 90,
     "status": "ok",
     "timestamp": 1638286184874,
     "user": {
      "displayName": "Anubrata Das",
      "photoUrl": "https://lh3.googleusercontent.com/a-/AOh14GiI2340pPpSj6e4aG_4urL4HRwW3MRXEf5aoo2_QA=s64",
      "userId": "08781375266004215524"
     },
     "user_tz": -330
    },
    "id": "dZa3dSo_KOra"
   },
   "outputs": [],
   "source": [
    "def cleanse_data(data):        \n",
    "    if isinstance(data,str):\n",
    "        no_punctuation = [char for char in data.replace('\\n',' ') if char not in revised_punctuation]\n",
    "        no_punctuation_txt = ''.join(no_punctuation)                   \n",
    "        return no_punctuation_txt\n",
    "    else:\n",
    "        return \"NA\""
   ]
  },
  {
   "cell_type": "code",
   "execution_count": 38,
   "metadata": {},
   "outputs": [],
   "source": [
    "def reduce_words(data):\n",
    "    data = data.split()\n",
    "    words = [word for word in data if word not in nltk_words]\n",
    "    text = \" \".join(words)\n",
    "    return text    "
   ]
  },
  {
   "cell_type": "code",
   "execution_count": 39,
   "metadata": {},
   "outputs": [],
   "source": [
    "def word_count(text):\n",
    "    text_lst=text.split()\n",
    "    vector = [text_lst.count(str(word)) for word in text_lst]\n",
    "    return vector[:300]"
   ]
  },
  {
   "cell_type": "code",
   "execution_count": 40,
   "metadata": {},
   "outputs": [],
   "source": [
    "from nltk.probability import FreqDist"
   ]
  },
  {
   "cell_type": "markdown",
   "metadata": {
    "id": "eHrZ7Ae4odHg"
   },
   "source": [
    "we have obtained the frequency distribution of words using freqdist"
   ]
  },
  {
   "cell_type": "code",
   "execution_count": 41,
   "metadata": {},
   "outputs": [],
   "source": [
    "def freq_dist(data):\n",
    "    data=data.split(\" \")\n",
    "    freq=FreqDist(data) # gets word frequency\n",
    "    freq=sorted(freq.items(),key=lambda x:x[1], reverse=True) # sorts words from highest to lowest frequency\n",
    "    return [item[1] for item in freq][:300] # returns a fixed length of 300 words"
   ]
  },
  {
   "cell_type": "code",
   "execution_count": 42,
   "metadata": {},
   "outputs": [],
   "source": [
    "# implementing bag of words"
   ]
  },
  {
   "cell_type": "code",
   "execution_count": 43,
   "metadata": {},
   "outputs": [],
   "source": [
    "from sklearn.feature_extraction.text import CountVectorizer"
   ]
  },
  {
   "cell_type": "code",
   "execution_count": 44,
   "metadata": {},
   "outputs": [],
   "source": [
    "bow_vectorizer = CountVectorizer(stop_words='english',max_features=1600)"
   ]
  },
  {
   "cell_type": "code",
   "execution_count": 45,
   "metadata": {},
   "outputs": [],
   "source": [
    "# implementing tf-idf"
   ]
  },
  {
   "cell_type": "code",
   "execution_count": 46,
   "metadata": {},
   "outputs": [],
   "source": [
    "from sklearn.feature_extraction.text import TfidfVectorizer"
   ]
  },
  {
   "cell_type": "code",
   "execution_count": 47,
   "metadata": {},
   "outputs": [],
   "source": [
    "tfidf_vectorizer = TfidfVectorizer(\n",
    "    min_df=1, max_features=1600, strip_accents='unicode',lowercase =True,\n",
    "    analyzer='word', token_pattern=r'\\w+', ngram_range=(1, 3), use_idf=True, \n",
    "    smooth_idf=True, sublinear_tf=True, stop_words = 'english')"
   ]
  },
  {
   "cell_type": "code",
   "execution_count": 48,
   "metadata": {},
   "outputs": [],
   "source": [
    "# https://melaniewalsh.github.io/Intro-Cultural-Analytics/05-Text-Analysis/03-TF-IDF-Scikit-Learn.html\n",
    "# https://www.datacamp.com/community/tutorials/understanding-logistic-regression-python\n",
    "# https://machinelearningmastery.com/multinomial-logistic-regression-with-python/\n",
    "# https://www.kaggle.com/elemento/personalizedmedicine-rct"
   ]
  },
  {
   "cell_type": "code",
   "execution_count": 49,
   "metadata": {},
   "outputs": [],
   "source": [
    "from sklearn.linear_model import LogisticRegression"
   ]
  },
  {
   "cell_type": "code",
   "execution_count": 50,
   "metadata": {},
   "outputs": [],
   "source": [
    "from sklearn.metrics import log_loss"
   ]
  },
  {
   "cell_type": "code",
   "execution_count": 51,
   "metadata": {},
   "outputs": [],
   "source": [
    "# define the multinomial logistic regression model\n",
    "bow_model = LogisticRegression(multi_class='multinomial', solver='lbfgs')\n",
    "tfidf_model = LogisticRegression(multi_class='multinomial', solver='lbfgs')"
   ]
  },
  {
   "cell_type": "markdown",
   "metadata": {},
   "source": [
    "<a id=\"train_data\" style=\"font-size:22px\">model train text sample data</a>"
   ]
  },
  {
   "cell_type": "markdown",
   "metadata": {},
   "source": [
    "[Beginning of Notebook](#top)"
   ]
  },
  {
   "cell_type": "markdown",
   "metadata": {},
   "source": [
    "#### text preprocessing"
   ]
  },
  {
   "cell_type": "code",
   "execution_count": 52,
   "metadata": {},
   "outputs": [
    {
     "name": "stderr",
     "output_type": "stream",
     "text": [
      "progress bar: 100%|██████████| 926/926 [00:09<00:00, 97.59it/s] \n"
     ]
    }
   ],
   "source": [
    "# remove punctuation\n",
    "train_df['cleaned_text'] = train_df['Text'].progress_map(cleanse_data,na_action='ignore')"
   ]
  },
  {
   "cell_type": "code",
   "execution_count": 53,
   "metadata": {},
   "outputs": [
    {
     "name": "stderr",
     "output_type": "stream",
     "text": [
      "progress bar: 100%|██████████| 926/926 [00:03<00:00, 248.83it/s]\n"
     ]
    }
   ],
   "source": [
    "# filtering all common english words\n",
    "train_df['cleaned_text'] = train_df['cleaned_text'].progress_map(reduce_words,na_action='ignore')"
   ]
  },
  {
   "cell_type": "code",
   "execution_count": 54,
   "metadata": {},
   "outputs": [],
   "source": [
    "train_df['Text_len'] = train_df['Text'].map(lambda x:len(str(x)))\n",
    "train_df['cleaned_text_len'] = train_df['cleaned_text'].map(lambda x:len(str(x)))"
   ]
  },
  {
   "cell_type": "code",
   "execution_count": null,
   "metadata": {},
   "outputs": [],
   "source": []
  },
  {
   "cell_type": "code",
   "execution_count": 55,
   "metadata": {},
   "outputs": [
    {
     "data": {
      "text/html": [
       "<div>\n",
       "<style scoped>\n",
       "    .dataframe tbody tr th:only-of-type {\n",
       "        vertical-align: middle;\n",
       "    }\n",
       "\n",
       "    .dataframe tbody tr th {\n",
       "        vertical-align: top;\n",
       "    }\n",
       "\n",
       "    .dataframe thead th {\n",
       "        text-align: right;\n",
       "    }\n",
       "</style>\n",
       "<table border=\"1\" class=\"dataframe\">\n",
       "  <thead>\n",
       "    <tr style=\"text-align: right;\">\n",
       "      <th></th>\n",
       "      <th>ID</th>\n",
       "      <th>Gene</th>\n",
       "      <th>Variation</th>\n",
       "      <th>Text</th>\n",
       "      <th>cleaned_text</th>\n",
       "      <th>Text_len</th>\n",
       "      <th>cleaned_text_len</th>\n",
       "    </tr>\n",
       "  </thead>\n",
       "  <tbody>\n",
       "    <tr>\n",
       "      <th>1675</th>\n",
       "      <td>1675</td>\n",
       "      <td>FLT3</td>\n",
       "      <td>F594_R595insSDNEYFYVDF</td>\n",
       "      <td>An internal tandem duplication (ITD) of the FL...</td>\n",
       "      <td>An ITD FLT3 20 AML 5 myelodysplastic cases Our...</td>\n",
       "      <td>97461</td>\n",
       "      <td>41381</td>\n",
       "    </tr>\n",
       "    <tr>\n",
       "      <th>1515</th>\n",
       "      <td>1515</td>\n",
       "      <td>ALK</td>\n",
       "      <td>A1200V</td>\n",
       "      <td>In the era of personalized medicine, understan...</td>\n",
       "      <td>In personalized drivers oncogenesis characteri...</td>\n",
       "      <td>47934</td>\n",
       "      <td>20024</td>\n",
       "    </tr>\n",
       "    <tr>\n",
       "      <th>2505</th>\n",
       "      <td>2505</td>\n",
       "      <td>BRCA1</td>\n",
       "      <td>D1739V</td>\n",
       "      <td>Mutations in BRCA1 and BRCA2 account for the m...</td>\n",
       "      <td>Mutations BRCA1 BRCA2 cancers genes conducted ...</td>\n",
       "      <td>78266</td>\n",
       "      <td>34199</td>\n",
       "    </tr>\n",
       "    <tr>\n",
       "      <th>2569</th>\n",
       "      <td>2569</td>\n",
       "      <td>BRCA1</td>\n",
       "      <td>Q1811R</td>\n",
       "      <td>Abstract  The BRCA1 gene from individuals at ...</td>\n",
       "      <td>Abstract BRCA1 individuals cancers mutations H...</td>\n",
       "      <td>58319</td>\n",
       "      <td>21201</td>\n",
       "    </tr>\n",
       "    <tr>\n",
       "      <th>2</th>\n",
       "      <td>2</td>\n",
       "      <td>CBL</td>\n",
       "      <td>Q249E</td>\n",
       "      <td>Abstract Background  Non-small cell lung canc...</td>\n",
       "      <td>Abstract Background Non-small NSCLC disorders ...</td>\n",
       "      <td>36691</td>\n",
       "      <td>16194</td>\n",
       "    </tr>\n",
       "  </tbody>\n",
       "</table>\n",
       "</div>"
      ],
      "text/plain": [
       "        ID   Gene               Variation  \\\n",
       "1675  1675   FLT3  F594_R595insSDNEYFYVDF   \n",
       "1515  1515    ALK                  A1200V   \n",
       "2505  2505  BRCA1                  D1739V   \n",
       "2569  2569  BRCA1                  Q1811R   \n",
       "2        2    CBL                   Q249E   \n",
       "\n",
       "                                                   Text  \\\n",
       "1675  An internal tandem duplication (ITD) of the FL...   \n",
       "1515  In the era of personalized medicine, understan...   \n",
       "2505  Mutations in BRCA1 and BRCA2 account for the m...   \n",
       "2569   Abstract  The BRCA1 gene from individuals at ...   \n",
       "2      Abstract Background  Non-small cell lung canc...   \n",
       "\n",
       "                                           cleaned_text  Text_len  \\\n",
       "1675  An ITD FLT3 20 AML 5 myelodysplastic cases Our...     97461   \n",
       "1515  In personalized drivers oncogenesis characteri...     47934   \n",
       "2505  Mutations BRCA1 BRCA2 cancers genes conducted ...     78266   \n",
       "2569  Abstract BRCA1 individuals cancers mutations H...     58319   \n",
       "2     Abstract Background Non-small NSCLC disorders ...     36691   \n",
       "\n",
       "      cleaned_text_len  \n",
       "1675             41381  \n",
       "1515             20024  \n",
       "2505             34199  \n",
       "2569             21201  \n",
       "2                16194  "
      ]
     },
     "execution_count": 55,
     "metadata": {},
     "output_type": "execute_result"
    }
   ],
   "source": [
    "train_df.head()"
   ]
  },
  {
   "cell_type": "markdown",
   "metadata": {},
   "source": [
    "### <font color='green'>converting text to numbers</font>"
   ]
  },
  {
   "cell_type": "code",
   "execution_count": 56,
   "metadata": {},
   "outputs": [],
   "source": [
    "train_df_corpus = train_df['cleaned_text'].tolist()"
   ]
  },
  {
   "cell_type": "markdown",
   "metadata": {},
   "source": [
    "#### bag of words transformation"
   ]
  },
  {
   "cell_type": "code",
   "execution_count": 57,
   "metadata": {},
   "outputs": [
    {
     "data": {
      "text/plain": [
       "CountVectorizer(max_features=1600, stop_words='english')"
      ]
     },
     "execution_count": 57,
     "metadata": {},
     "output_type": "execute_result"
    }
   ],
   "source": [
    "bow_vectorizer.fit(train_df_corpus)"
   ]
  },
  {
   "cell_type": "code",
   "execution_count": 58,
   "metadata": {},
   "outputs": [],
   "source": [
    "train_df_counts= bow_vectorizer.transform(train_df_corpus)"
   ]
  },
  {
   "cell_type": "code",
   "execution_count": 59,
   "metadata": {},
   "outputs": [
    {
     "name": "stdout",
     "output_type": "stream",
     "text": [
      "Vocabulary:  {'itd': 852, 'flt3': 658, '20': 65, 'aml': 248, 'cases': 349, 'studies': 1434, '51': 137, 'samples': 1334, 'indicated': 810, 'tyrosine': 1532, 'rich': 1311, 'located': 908, 'juxtamembrane': 858, 'jm': 855, 'remaining': 1279, 'nucleotides': 1067, 'types': 1530, 'cos': 448, 'cells': 368, 'ligand': 895, 'residues': 1293, 'phosphorylated': 1146, 'findings': 652, 'causes': 355, 'function': 676, 'activates': 211, 'dna': 537, 'forms': 666, 'keywords': 864, 'introduction': 841, 'iii': 783, 'rtk': 1325, 'kit': 868, 'pdgf': 1126, 'like': 898, 'domains': 542, 'transmembrane': 1512, 'terminal': 1475, 'progenitors': 1203, 'activated': 210, 'fl': 656, 'bound': 324, 'molecules': 998, 'binding': 312, 'signals': 1377, 'proteins': 1216, 'including': 805, 'ras': 1242, 'gtpase': 720, 'activating': 212, 'cbl': 357, 'src': 1415, 'pre': 1181, 'recently': 1257, 'department': 505, 'diseases': 531, 'university': 1540, 'medicine': 959, '81': 174, '52': 138, '19': 51, '1998': 58, '25': 88, 'domain': 541, 'coding': 400, '11': 26, 'intron': 842, '12': 30, 'contained': 433, 'observed': 1072, 'novo': 1056, 'mds': 952, 'mutations': 1018, 'products': 1200, 'characterized': 377, 'summarized': 1447, 'analyzed': 255, 'transfected': 1505, 'showed': 1366, 'gain': 683, 'sequences': 1358, 'oncogene': 1081, 'materials': 942, 'methods': 976, 'high': 750, 'amplified': 252, 'polymerase': 1168, 'pcr': 1123, 'bands': 297, 'agarose': 224, 'purified': 1227, 'qiagen': 1231, 'ca': 341, 'usa': 1542, 'cloned': 394, 'vector': 1558, 'amersham': 246, 'uk': 1537, 'recombinant': 1261, 'colonies': 404, 'plasmid': 1157, 'using': 1543, 'strands': 1428, 'sequenced': 1357, 'conjugated': 424, 'primers': 1188, 'applied': 269, 'biosystems': 317, 'expression': 624, 'transcripts': 1503, 'examined': 608, 'mediated': 956, 'rt': 1324, 'frame': 671, 'et': 602, 'analysis': 254, 'mutated': 1015, 'cdna': 365, 'pairs': 1110, 'separated': 1354, 'described': 511, 'contains': 435, 'length': 888, 'dr': 550, '1640': 47, 'nt': 1065, 'sites': 1385, 'changed': 374, 'introduced': 840, 'site': 1384, 'directed': 526, 'mutagenesis': 1012, 'stratagene': 1429, 'constructs': 431, 'sequencing': 1359, 'md': 950, 'manufacturer': 930, 'instructions': 833, '72': 164, 'lysed': 922, 'mm': 990, 'tris': 1518, 'hcl': 734, 'ph': 1136, '75': 167, '150': 45, 'nacl': 1025, 'edta': 562, '40': 119, '01': 6, 'sds': 1346, '50': 135, '10': 15, 'mgml': 980, 'lysates': 921, '15': 44, '000': 1, '30': 102, 'stimulated': 1426, 'ngml': 1041, 'polyacrylamide': 1166, 'membranes': 971, 'millipore': 984, 'ma': 925, 'incubated': 808, 'anti': 260, 'phosphotyrosine': 1148, 'biotechnology': 318, 'mouse': 1003, 'igg': 780, 'developed': 517, 'reagents': 1252, 'developing': 518, '68': 158, '100': 16, '70': 162, 'human': 767, 'cruz': 463, 'labeled': 875, 'ag': 223, 'probed': 1194, 'cross': 462, '90': 184, 'pbs': 1120, 'performed': 1132, '22': 85, 'page': 1108, 'results': 1300, '47': 127, 'followed': 662, 'fragments': 670, 'notably': 1052, 'reported': 1282, '36': 109, 'bp': 326, 'presented': 1185, 'figure': 648, '1a': 60, 'table': 1463, 'immunoprecipitated': 794, 'obtained': 1073, 'immunoblot': 789, 'mutants': 1014, 'mutant': 1013, 'detected': 515, '130': 37, 'kda': 862, '1b': 61, 'corresponds': 447, 'published': 1225, 'acids': 207, 'failed': 630, 'conformational': 422, 'terminus': 1476, 'amino': 247, 'germ': 702, 'tk': 1491, 'non': 1048, 'mechanisms': 955, 'phosphorylation': 1147, 'pa': 1107, 'ip': 848, 'immunoprecipitation': 796, 'transfection': 1506, 'independent': 809, '1c': 62, 'indicates': 811, 'treated': 1513, 'comparing': 409, 'structures': 1433, 'pdgfr': 1127, 'binds': 313, 'sh2': 1364, 'dependent': 506, 'decreased': 493, '3a': 113, 'substitutions': 1440, 'similarly': 1380, '3b': 114, 'discussion': 529, 'codons': 401, 'kinase': 866, 'compared': 408, 'signaling': 1375, 'investigated': 844, 'summary': 1448, 'total': 1498, '13': 36, '23': 86, 'linked': 902, 'caused': 354, 'derived': 510, 'oligomerization': 1079, 'second': 1347, 'single': 1381, 'based': 301, 'frameshift': 672, 'proposed': 1213, 'microsatellite': 983, 'inherited': 819, 'follows': 664, '56': 142, '38': 111, 'strand': 1427, 'occurs': 1077, 'generated': 694, 'numbers': 1070, '66': 156, 'additionally': 220, '44': 124, 'makes': 928, 'impaired': 797, 'models': 993, 'systems': 1459, 'finally': 651, 'somatic': 1402, 'consisting': 428, 'patients': 1118, 'oncogenic': 1083, 'properties': 1212, 'constructed': 430, 'wild': 1577, 'type': 1529, 'isoforms': 851, 'containing': 434, 'factor': 628, 'induced': 814, 'apoptosis': 264, 'wt': 1583, 'exhibited': 611, 'autophosphorylation': 292, 'pathways': 1116, 'map': 933, 'kinases': 867, 'akt': 228, 'retained': 1303, 'enzymes': 584, 'stat5': 1423, 'inhibited': 820, 'despite': 512, 'taken': 1466, '2000': 67, 'self': 1351, 'lines': 901, 'overexpression': 1095, 'hematologic': 744, 'malignancies': 929, 'involving': 847, 'consequences': 425, 'resulted': 1299, 'cultures': 470, 'confer': 419, 'supported': 1454, 'injected': 827, 'leads': 887, 'reveals': 1306, 'oncology': 1084, 'germany': 703, 'medical': 958, '28': 92, '1999': 59, 'represents': 1287, '33': 106, '18': 49, 'blood': 320, '96': 190, 'number': 1069, '2017': 83, 'interleukin': 839, 'il': 784, 'purchased': 1226, 'polyclonal': 1167, 'antibodies': 261, 'monoclonal': 1000, 'laboratories': 876, 'erk2': 594, 'new': 1036, 'cell': 367, 'rpmi': 1323, 'supplemented': 1453, '37': 110, 'plasmids': 1158, '59': 145, 'cat': 351, '39': 112, 'spanning': 1408, 'mg': 977, 'cotransfected': 451, 'invitrogen': 845, 'experiments': 620, 'subcloned': 1436, 'expressing': 623, 'clones': 395, 'puromycin': 1228, '05': 10, 'mmoll': 991, '24': 87, 'hours': 764, 'verified': 1562, 'western': 1575, 'cytometry': 477, 'minutes': 985, 'stained': 1421, 'phosphate': 1140, 'resuspended': 1301, 'ml': 988, '74': 166, 'inhibitors': 824, 'protein': 1215, 'immunoprecipitates': 795, 'gels': 692, '104': 21, '200': 66, 'concentrations': 415, 'harvested': 730, '105': 22, 'plates': 1159, 'counted': 453, 'cytokines': 476, '02': 7, '500': 136, '79': 171, '14': 41, 'ii': 782, 'mgcl2': 978, 'end': 580, 'double': 546, 'oligonucleotide': 1080, 'harboring': 729, 'complexes': 412, 'assays': 283, 'modified': 995, 'life': 894, 'technologies': 1472, '35': 108, 'cytokine': 475, '102': 19, '103': 20, '06': 11, 'vivo': 1568, 'tumorigenesis': 1524, 'old': 1078, '106': 23, 'animals': 258, 'protocols': 1217, 'reviewed': 1307, 'approved': 271, 'receptors': 1259, 'identified': 775, 'differences': 522, 'levels': 892, '2a': 97, 'factors': 629, 'resistance': 1294, 'mediates': 957, '60': 149, 'interestingly': 838, '4a': 130, 'predicted': 1182, 'ec': 560, 'ki': 865, 'areas': 274, '4b': 131, 'months': 1001, 'died': 521, 'weeks': 1574, 'mapk': 935, 'specific': 1409, 'immunoblotting': 790, 'conditions': 417, 'erk12': 593, 'pi3k': 1151, 'implicated': 798, 'increased': 806, 'negative': 1030, 'data': 486, 'note': 1055, 'erk': 592, 'effects': 565, 'inducible': 816, 'similar': 1379, '300': 103, 'shows': 1367, 'kaplan': 859, 'meier': 962, '77': 169, '92': 186, 'furthermore': 679, 'deletions': 501, 'helix': 743, '107': 24, 'blots': 321, 'activation': 213, 'extracts': 625, 'lanes': 881, 'amounts': 250, 'required': 1288, 'depends': 507, 'functions': 678, 'phosphoinositide': 1143, 'demonstrated': 502, 'wildtype': 1578, 'figures': 650, 'reports': 1283, 'stat3': 1422, 'inhibiting': 821, 'vitro': 1567, 'occurring': 1076, 'targeting': 1468, 'responses': 1297, 'compounds': 414, 'tkis': 1494, 'options': 1088, 'strategies': 1430, 'changes': 375, 'abnormalities': 200, 'genes': 696, 'years': 1588, 'specimens': 1411, 'suggested': 1445, 'npm1': 1058, 'idh2': 779, 'tet2': 1481, 'confers': 421, 'highlighted': 751, '1996': 56, 'plays': 1161, 'tkd': 1492, '16': 46, 'homolog': 759, 'mitogen': 987, '89': 182, '17': 48, 'myeloproliferative': 1022, 'regulation': 1272, 'apoptotic': 265, 'receptor': 1258, 'tki': 1493, 'schematic': 1340, '21': 84, 'features': 637, 'translocations': 1511, '29': 94, 'os': 1089, '27': 91, 'quantified': 1233, 'gene': 693, 'discussed': 528, 'occurred': 1074, '31': 104, 'ratios': 1246, 'relapsed': 1274, 'excluded': 610, 'provides': 1218, '32': 105, 'colleagues': 403, 'localized': 907, 'authors': 291, 'effect': 563, 'diminished': 525, '34': 107, 'risk': 1313, 'insertions': 829, 'atp': 289, 'transduced': 1504, 'treatment': 1514, 'phosphorylate': 1145, 'initiated': 826, 'evaluated': 606, 'agents': 226, 'pkc412': 1156, 'sunitinib': 1449, 'sorafenib': 1403, '43': 123, '41': 121, 'trials': 1516, 'clinical': 392, 'characteristics': 376, '42': 122, 'counts': 454, 'log': 909, 'achieved': 205, 'rates': 1245, '2011': 78, 'expected': 618, '2014': 81, 'appeared': 266, 'group': 714, 'free': 673, 'follow': 661, 'line': 900, '80': 172, 'tolerated': 1496, '45': 125, '26': 90, 'vs': 1570, '46': 126, 'targeted': 1467, 'dose': 544, 'cohorts': 402, 'harbored': 728, 'inhibition': 822, '48': 128, '49': 129, '78': 170, '53': 139, '71': 163, '57': 143, 'cycles': 473, '400': 120, '03': 8, '65': 155, '54': 140, '87': 180, '55': 141, '83': 176, 'cancer': 344, 'center': 369, '58': 144, 'generation': 695, '76': 168, 'doses': 545, 'lacked': 877, 'crc': 457, '62': 152, 'overall': 1092, 'events': 607, 'improved': 801, 'disease': 530, 'matched': 940, 'related': 1275, 'iv': 853, 'andor': 257, '73': 165, 'imatinib': 788, 'cml': 399, 'overlapping': 1096, 'profiles': 1201, 'combinations': 407, 'crenolanib': 460, 'tumors': 1526, 'ic50': 772, 'nm': 1046, 'ponatinib': 1170, 'created': 459, 'bcr': 307, 'abl': 198, 'conferred': 420, 'resistant': 1295, '84': 177, 'rna': 1316, 'sensitivity': 1353, 'indicating': 812, '85': 178, '86': 179, 'mek': 963, '88': 181, 'observations': 1071, 'recent': 1256, 'regimens': 1267, 'fold': 660, '91': 185, 'conclusions': 416, 'allowed': 240, 'targets': 1469, 'drivers': 552, 'therapies': 1485, 'identifying': 776, 'family': 632, 'oncogenes': 1082, 'mycn': 1021, 'subsets': 1439, 'encoding': 579, 'paired': 1109, 'families': 631, 'pedigrees': 1130, 'genome': 698, 'wide': 1576, 'polymorphisms': 1169, 'snps': 1399, 'germline': 704, 'alk': 236, 'fig': 646, 'acid': 206, 'positions': 1174, 'snp': 1398, 'increases': 807, '3t3': 117, 'baf3': 296, 'tissues': 1490, 'individuals': 813, 'rnai': 1317, 'small': 1394, 'molecule': 997, 'met': 974, 'crizotinib': 461, 'supports': 1456, '600': 150, 'eml4': 576, 'overexpressed': 1093, 'interactions': 836, 'cancers': 345, 'insights': 831, 'subgroups': 1437, 'approaches': 270, 'tumour': 1527, 'alterations': 243, 'requires': 1289, 'terms': 1477, 'culture': 469, 'mutation': 1016, 'suggests': 1446, 'dead': 492, 'abrogated': 202, '2007': 74, '2010': 77, '2008': 75, 'tumours': 1528, 'nsclc': 1063, 'appears': 267, 'npm': 1057, '1994': 54, '1997': 57, '2009': 76, '2006': 73, 'dlbcl': 534, 'efforts': 566, 'predicting': 1183, 'nih3t3': 1044, 'importantly': 800, 'drugs': 554, 'signalling': 1376, 'associated': 284, 'varying': 1557, 'implications': 799, 'classify': 391, 'variants': 1556, 'roles': 1320, 'diagnosed': 520, 'analysed': 253, 'treatments': 1515, 'earlier': 558, 'serum': 1361, 'controls': 440, 'blocks': 319, '250': 89, 'pcdna3': 1122, 'μgml': 1596, 'inhibits': 825, 'values': 1553, 'allows': 242, '3c': 115, 'proliferation': 1205, 'loop': 912, '4c': 132, 'driven': 551, 'sd': 1345, '5a': 146, '5b': 147, 'assayed': 282, 'representative': 1284, 'images': 786, 'transgenic': 1510, 'gal4': 684, 'conserved': 426, 'members': 970, 'dfg': 519, 'phospho': 1142, 'interacting': 835, 'lacks': 879, 'contributes': 436, 'sanger': 1335, 'institute': 832, 'chromosomes': 382, 'situ': 1386, 'fish': 653, 'exome': 614, 'illumina': 785, 'processed': 1197, 'reads': 1251, 'alleles': 238, 'primary': 1187, 'bd': 308, 'technology': 1473, '2005': 72, 'pf': 1134, '08': 13, 'μg': 1595, 'μl': 1597, 'bio': 314, 'gfp': 705, 'positive': 1175, 'heat': 738, 'inactivated': 802, 'fbs': 634, 'lipofectamine': 904, 'maintained': 926, 'dmem': 535, '1993': 53, 'slides': 1388, 'brca1': 330, 'brca2': 331, 'conducted': 418, 'early': 559, 'vus': 1571, 'ed': 561, 'vuss': 1572, 'throughput': 1487, 'defi': 495, 'cient': 385, 'missense': 986, 'ring': 1312, 'brct': 332, 'classifi': 389, '2013': 80, 'molecular': 996, 'supplementary': 1452, 'discovery': 527, 'online': 1085, 'author': 290, '121': 32, 'doi': 540, 'association': 285, 'research': 1291, 'loss': 914, 'women': 1581, 'exonic': 616, 'mrna': 1004, 'counseling': 452, 'genetic': 697, 'cosegregation': 449, 'integrated': 834, 'causing': 356, 'additional': 219, 'functional': 677, 'encoded': 577, 'risks': 1314, 'engineered': 581, 'cdnas': 366, 'rmce': 1315, 'sequence': 1356, 'downloaded': 548, 'onlinefirst': 1086, 'null': 1068, 'exons': 617, 'cre': 458, 'controlled': 439, 's1': 1327, 'copy': 444, 'vectors': 1559, 'breast': 335, 'information': 818, 'core': 445, 'database': 487, 'bic': 311, 'includes': 804, 'align': 234, 'gvgd': 722, 'refs': 1266, 'scores': 1342, 'c0': 339, 'pooled': 1171, 's2': 1328, 'comparison': 410, 'bac': 294, 'allowing': 241, 'activities': 215, 'real': 1253, 'time': 1488, 's3': 1329, 'documented': 538, 'assay': 281, 'cisplatin': 387, 'tables': 1464, 's4': 1330, 'hr': 765, 'platinum': 1160, 'carriers': 348, 'half': 726, 'variant': 1555, 'deleterious': 499, 'neutral': 1035, 'r1699q': 1235, 'a1708e': 193, 'regions': 1268, 'validated': 1551, 'activity': 216, 'error': 596, 'defects': 494, 'v1736a': 1545, 'parp': 1114, 'normalized': 1051, '005': 5, '00': 0, 'depicted': 508, '1863': 50, '61': 151, 'mcherry': 949, 'monitored': 999, 'inhibitor': 823, 'bars': 300, 'transfections': 1507, 'ns': 1062, 'larger': 884, 'given': 708, 'accompanied': 204, 'relative': 1276, '120': 31, '140': 42, 'large': 883, 'scale': 1337, 'examples': 609, 'transactivation': 1501, 'peptides': 1131, 'ubiquitin': 1534, 'ligase': 897, 'p53': 1103, 'aberrations': 196, 'depleted': 509, 'elements': 571, 'yielded': 1591, 'focused': 659, 'dataset': 489, 'phenotypes': 1139, 'maintaining': 927, 'algorithms': 233, 'nd': 1028, 'tests': 1480, '117': 29, 'phosphopeptide': 1144, 'phe': 1138, 'limits': 899, 'cloning': 396, 'na': 1024, 'nih': 1043, 'manuscript': 932, 'res': 1290, 'pmc': 1162, '09': 14, 'unfortunately': 1538, 'encodes': 578, 'interacts': 837, 'bach1': 295, 'repeats': 1280, 'cooh': 442, 'p21': 1101, 'er': 586, 'nh2': 1042, 'bard1': 299, 'structural': 1431, 'involves': 846, 'ligands': 896, 'recognized': 1260, '124': 34, 'reactions': 1250, 'promega': 1207, 'measurements': 954, 'beads': 309, 'm1775r': 923, 'biosciences': 316, 'hek293t': 741, 'manufacturers': 931, 'roche': 1318, 'responsive': 1298, 'dual': 555, 'luciferase': 918, 'class': 388, 'alignments': 235, 'sources': 1405, 'iarc': 771, '95': 189, 'procedures': 1196, 'destabilized': 513, 'visualized': 1566, 'figs': 647, 'pro': 1190, 'thr': 1486, 'deficient': 496, 'sets': 1362, 'contacts': 432, 'rearrangements': 1254, 'conversely': 441, '67': 157, '64': 154, 'groups': 715, 'points': 1164, 'charged': 378, 'low': 915, 'predictions': 1184, 'estimates': 600, 'glu': 711, 'categories': 352, 'probabilities': 1191, 'induces': 815, 'exists': 612, 'tumor': 1523, 'dimensional': 524, 'structure': 1432, 'holoenzyme': 757, 'homo': 758, 'national': 1026, 'ref': 1263, 'cα': 479, '94': 188, 'consists': 429, 'embedded': 574, 'secondary': 1348, 'lacz': 880, 'galactosidase': 685, '293t': 96, 'download': 547, 'figureopen': 649, 'tabdownload': 1462, 'powerpoint': 1177, 'view': 1564, 'inlineview': 828, 'popup': 1173, 'correlates': 446, 'mapped': 936, 'mapping': 937, 'panels': 1111, 'explained': 621, 'having': 731, 'abolished': 201, 'material': 941, 'transcription': 1502, 'proband': 1192, 'disorders': 532, 'e3': 557, 'egfr': 569, 'formalin': 665, 'fixed': 655, 'kras': 870, 'loh': 910, 'year': 1587, 'ubiquitination': 1535, 'e2': 556, 'sh3': 1365, 'acts': 217, 'egf': 567, 'l858r': 874, 'hypothesized': 770, 'subjects': 1438, 'tissue': 1489, 'lung': 919, 'hospital': 761, 'a549': 194, 'mutational': 1017, 'xl': 1586, 'kb': 860, 'markers': 938, 'science': 1341, 'tools': 1497, 'uv': 1544, 'genomic': 700, 'ng': 1040, 'µm': 1593, 'abi': 197, 'software': 1401, 'hd': 736, 'sigma': 1373, 'aldrich': 232, 'st': 1418, 'briefly': 336, 'shrna': 1370, 'replaced': 1281, '1000': 17, 'ha': 725, 'actin': 209, 'tagged': 1465, 'post': 1176, 'statistical': 1425, 'variables': 1554, 'comparisons': 411, 'represented': 1285, 'del': 497, '63': 153, 'ad': 218, '108': 25, 'demonstrates': 503, 'representing': 1286, 'g1': 682, '3d': 116, 'contributing': 437, 'prolonged': 1206, 'populations': 1172, 'fewer': 639, 'partners': 1115, 'regulating': 1271, 'downregulation': 549, 'chains': 373, 'substrates': 1442, 'multiple': 1010, 'fgfr': 641, 'promoting': 1211, 'consistent': 427, 'lymphocytes': 920, 'previous': 1186, 'frequencies': 674, 'her2': 745, 'subtypes': 1443, 'patterns': 1119, 'called': 343, 'growth': 716, 'specifically': 1410, 'identification': 774, 'genomes': 699, 'frequency': 675, 'v600e': 1547, 'braf': 327, 'colorectal': 406, 'yes': 1590, 'databases': 488, 'cosmic': 450, 'relatives': 1277, 'rank': 1240, '69': 159, 'sensitive': 1352, 'estimated': 599, 'experimental': 619, 'loops': 913, 'clusters': 397, '97': 191, 'pdb': 1125, '82': 175, 'details': 514, 'cyclin': 474, 'cycle': 472, 'regulates': 1270, 'd1': 480, '286': 93, '3β': 118, 'gsk': 717, 'phosphatidylinositol': 1141, 'mek1': 964, 'signal': 1374, 'regulated': 1269, 'remained': 1278, 'fibroblasts': 645, 'subcellular': 1435, 'd3': 481, 'synthesized': 1458, 'cdk4': 362, 'cdk6': 363, 'rb': 1247, '1995': 55, 'cdk': 360, 'dominant': 543, 'phase': 1137, 'raf1': 1239, 'mek2': 966, 'motifs': 1002, 'processes': 1198, 'subunits': 1444, 'flag': 657, 'epitope': 585, 'm2': 924, 'ala': 231, 'gst': 718, 'following': 663, 'control': 438, 'overexpressing': 1094, 'isoform': 850, 'retrovirus': 1305, '1992': 52, 'transformants': 1508, 'lacking': 878, 'myc': 1020, 'immunofluorescence': 791, 'fractions': 669, 'raf': 1238, 'proteasome': 1214, 'components': 413, 'transformed': 1509, 'affects': 222, 'determining': 516, 'alternatively': 245, 'mdm2': 951, 'p16ink4a': 1099, 'carcinomas': 346, 'apc': 263, 'wnt': 1580, 'catenin': 353, 'promotes': 1210, 'progression': 1204, '2002': 69, '2001': 68, 'beta': 310, '2003': 70, '2004': 71, 'demonstrating': 504, 'supporting': 1455, 'patient': 1117, '1d': 63, 'spliced': 1412, '2b': 98, 'substrate': 1441, '4e': 134, 'disrupted': 533, 'asp': 279, 'zhang': 1592, '5c': 148, '6a': 160, 'anchorage': 256, '6b': 161, '001': 4, 'allosteric': 239, '110': 27, 'regulators': 1273, 'kd': 861, 'akt1': 229, 'rapamycin': 1241, 'amplifications': 251, 'pik3ca': 1152, 'lipid': 903, 'pten': 1221, 'akt2': 230, 'promoted': 1208, 'enriched': 583, '2c': 99, '2d': 100, 's6': 1332, 'mcf10a': 947, 'hybrid': 769, 'altered': 244, 's5': 1331, 'tumorigenic': 1525, 'sections': 1350, '00001': 2, 'μm': 1598, 'jak2': 854, 'shp': 1368, 'noonan': 1049, 'stages': 1420, 'gliomas': 710, 'neoplasms': 1031, 'outcomes': 1090, 'neurons': 1034, 'tgf': 1482, 'inducing': 817, 'normal': 1050, 'syndromes': 1457, 'erbb4': 589, 'grade': 713, 'glioblastoma': 709, 'p16': 1098, 'differentiated': 523, 'egfrviii': 570, 'arrows': 277, 'gtp': 719, 'deleted': 498, 'sc': 1336, 'humans': 768, 'cetuximab': 371, 'drug': 553, 'erlotinib': 595, 'gefitinib': 691, 'needed': 1029, 'long': 911, 'effectors': 564, 'response': 1296, 'imaging': 787, '0001': 3, 'section': 1349, 'gap': 686, 'cm': 398, 'fusion': 680, 'nr': 1059, 'processing': 1199, 'ct': 465, 'means': 953, 'cytosolic': 478, 'active': 214, 'myriad': 1023, 'brca': 329, 'occurrence': 1075, 'trans': 1500, 'probands': 1193, '133': 40, 'truncating': 1519, 'intronic': 843, 'open': 1087, 'yeast': 1589, 'receiving': 1255, 'deletion': 500, 'cis': 386, 'ci': 383, 'age': 225, '125': 35, '111': 28, '146': 43, 'ovarian': 1091, '98': 192, '93': 187, 'parameters': 1113, '123': 33, '101': 18, 'classifications': 390, 'dbd': 490, '07': 12, '04': 9, '131': 38, '132': 39, '293': 95, 'hotspots': 763, 'hotspot': 762, 'allele': 237, 'rac1': 1236, 'nras': 1060, 'level': 891, 'lesions': 889, 'modifications': 994, 'value': 1552, 'arising': 276, 'tp53': 1499, 'idh1': 778, 'melanomas': 969, 'fusions': 681, 'pik3r1': 1153, 'notch1': 1054, 'adenocarcinomas': 221, 'hras': 766, 'erbb2': 587, 'h1047r': 723, 'sf3b1': 1363, 'r132h': 1234, 'msi': 1007, 'pole': 1165, 'u2af1': 1533, 'mtor': 1008, 'erbb3': 588, 'nucleotide': 1066, 'acc': 203, 'rho': 1309, '4d': 133, 'gdp': 690, 'profiling': 1202, 'stage': 1419, 'term': 1474, 'tcga': 1471, 'memorial': 972, 'fisher': 654, 'araf': 273, 'craf': 456, 'colony': 405, 'sirna': 1382, 'inactivating': 803, 'united': 1539, 'hct116': 735, 'sirnas': 1383, 'probes': 1195, 'dmso': 536, 'pd': 1124, 'mefs': 961, 'expressed': 622, 'exo': 613, 'atm': 287, 'mlh1': 989, 'mb': 944, '2012': 79, 'supplemental': 1451, 'spots': 1414, 'aa': 195, 'ser': 1360, 'arg': 275, 'tyr': 1531, 'msh6': 1006, 'msh2': 1005, 'ets': 603, 'elf3': 572, 'promoters': 1209, 'ap': 262, 'nf': 1037, 'κb': 1594, 'box': 325, 'pr': 1179, 'chip': 381, 'eluted': 573, 'slide': 1387, 'atoms': 288, 'hela': 742, 'states': 1424, 'children': 380, 'erg': 591, 'immunohistochemical': 792, 'resected': 1292, 'vol': 1569, 'breakpoint': 333, 'li': 893, 'p53s': 1104, 'silencing': 1378, 'cerevisiae': 370, 'immunohistochemistry': 793, 'mesylate': 973, 'abl1': 199, 'mmr': 992, 'test': 1479, 'curves': 471, 'recorded': 1262, 'damaging': 484, 'dasatinib': 485, 'nilotinib': 1045, 'ctnnb1': 467, 'hormone': 760, 'fgfr2': 643, 'pfs': 1135, 'fgfr3': 644, 'fgfr1': 642, 'fbxw7': 636, 'seq': 1355, 'cdkn2a': 364, 'cpg': 455, 'bcl': 305, 'genotyping': 701, 'bonds': 323, 'cul3': 468, 'btb': 337, 'math': 943, 'spop': 1413, 'scf': 1339, 'keap1': 863, 'nrf2': 1061, 'mel': 967, 'conformations': 423, 'fbw7': 635, 'pi': 1150, 'pipkiiβ': 1155, 'ubiquitylation': 1536, 'p38': 1102, 'hek293': 740, 'his6': 752, 'jnk': 856, 'enhances': 582, 'hek': 739, 'erα': 597, 'estrogen': 601, 'esr1': 598, 'ar': 272, 'upregulation': 1541, 'si': 1371, 'pip3': 1154, 'phts': 1149, 'wpd': 1582, 'asp92': 280, 'p110α': 1097, 'asddd': 278, 'id': 773, 'ptp': 1222, 'referred': 1265, 'c2': 340, 'exon': 615, 'microarray': 982, 'smad4': 1392, 'wang': 1573, 'ezh2': 626, 'xenografts': 1585, 'ihc': 781, 'paraffin': 1112, 'smarca4': 1395, 'tgfbr2': 1483, 'agilent': 227, 'xenograft': 1584, 'retroviral': 1304, 'jun': 857, 'h3': 724, 'l1': 872, 'ret': 1302, 'brafv600e': 328, 'copies': 443, 'rbd': 1248, 'ptpn11': 1223, 'nf1': 1038, 'guidelines': 721, 'breakpoints': 334, 'multivariate': 1011, 'hh': 748, 'ptch1': 1220, 'smo': 1396, 'bccs': 304, 'vismodegib': 1565, 'biopsies': 315, 'gdc': 689, 'egfp': 568, 't790m': 1461, 'baseline': 302, 'smad': 1389, 'smads': 1393, 'smad2': 1390, 'smad3': 1391, 'snu': 1400, 'vegf': 1560, 'cadherin': 342, 'embryos': 575, 'luc': 917, 'runx1': 1326, 'ccnd1': 358, 'notch': 1053, 'fgf': 640, 'tgfβ': 1484, 'hnpcc': 755, 'females': 638, '1α': 64, 'metastases': 975, 'v7': 1550, 'bc': 303, 'gists': 707, 'ros1': 1322, 'ros': 1321, 'qpcr': 1232, 'hcc': 733, 'tmprss2': 1495, 'gbm': 687, 'caspase': 350, 'tert': 1478, 'gc': 688, 'mgkg': 979, 'chek2': 379, '800': 173, 'sox9': 1406, 'pp2a': 1178, 'ptprd': 1224, 'ankyrin': 259, 'prb': 1180, 'rad51': 1237, 'hdr': 737, 'nmoll': 1047, 'screens': 1344, 'cll': 393, 'pc': 1121, 'sp': 1407, 'smokers': 1397, 'prism': 1189, '2015': 82, 'neratinib': 1032, 'map2k1': 934, 'pdgfra': 1128, 'gist': 706, 'dod': 539, 'v654a': 1549, 'v560d': 1546, 'd842v': 483, 'ercc2': 590, 'scc': 1338, 'nci': 1027, 'mcf7': 948, 'leukaemia': 890, 'references': 1264, 'cfc': 372, 'heterodimer': 746, 'mek12': 965, 'krasg12d': 871, 'tsc1': 1521, 'lkb1': 905, 'sift': 1372, 'ssa': 1417, 'scp': 1343, 'supp': 1450, 'tcf': 1470, 'bap1': 298, 'etv1': 604, 'cd117': 359, 'mc': 945, 'μmoll': 1599, 'bm': 322, 'hla': 753, 'b2m': 293, 'nsclcs': 1064, 'ls': 916, 'ps': 1219, 'shp2': 1369, 'q510e': 1230, 'mtorc1': 1009, 's6k': 1333, 'appendix': 268, 'd816v': 482, 'etv6': 605, 'csf': 464, 'pest': 1133, 'asxl1': 286, 'melanoma': 968, 'wm278': 1579, 'p85': 1105, 'cdk12': 361, 'fa': 627, 'aml1': 249, 'insight': 830, 'lncap': 906, 'lapatinib': 882, 'l755s': 873, 'pms2': 1163, 'p85α': 1106, 'ish2': 849, 'ddr2': 491, 'mh2': 981, 'hgf': 747, 'rbm10': 1249, 'ss': 1416, 'vhl': 1563, 'tric': 1517, 'hif': 749, 'hnscc': 756, 'pdgfrb': 1129, 'mastocytosis': 939, 'rheb': 1308, 'gm': 712, 'mcf': 946, 'pvhl': 1229, 'acral': 208, 'rhoa': 1310, 'sos': 1404, 'tsc2': 1522, 'neurofibromin': 1033, 'vegfa': 1561, 'rasgap': 1244, 'v617f': 1548, 'foxa1': 667, 'tsc': 1520, 'hamartin': 727, 't389s6k': 1460, 'nf2': 1039, 'card11': 347, 'bcl10': 306, 'muts': 1019, 'idh': 777, 'rasg12d': 1243, 'btk': 338, 'hca': 732, 'ctcf': 466, 'kmt2d': 869, '2hg': 101, 'lch': 886, 'hmlh1': 754, 'rock': 1319, 'cic': 384, 'fat1': 633, 'mef2b': 960, '8l': 183, 'lats1': 885, 'p190': 1100, 'foxl2': 668}\n"
     ]
    }
   ],
   "source": [
    "print(\"Vocabulary: \", bow_vectorizer.vocabulary_)"
   ]
  },
  {
   "cell_type": "code",
   "execution_count": 60,
   "metadata": {},
   "outputs": [
    {
     "data": {
      "text/plain": [
       "(926, 1600)"
      ]
     },
     "execution_count": 60,
     "metadata": {},
     "output_type": "execute_result"
    }
   ],
   "source": [
    "train_df_counts.shape"
   ]
  },
  {
   "cell_type": "code",
   "execution_count": 61,
   "metadata": {},
   "outputs": [
    {
     "data": {
      "text/plain": [
       "<926x1600 sparse matrix of type '<class 'numpy.int64'>'\n",
       "\twith 394677 stored elements in Compressed Sparse Row format>"
      ]
     },
     "execution_count": 61,
     "metadata": {},
     "output_type": "execute_result"
    }
   ],
   "source": [
    "train_df_counts"
   ]
  },
  {
   "cell_type": "code",
   "execution_count": 62,
   "metadata": {},
   "outputs": [],
   "source": [
    "X_train_bow = train_df_counts.todense()"
   ]
  },
  {
   "cell_type": "code",
   "execution_count": 63,
   "metadata": {},
   "outputs": [
    {
     "data": {
      "text/plain": [
       "(926, 1600)"
      ]
     },
     "execution_count": 63,
     "metadata": {},
     "output_type": "execute_result"
    }
   ],
   "source": [
    "X_train_bow.shape"
   ]
  },
  {
   "cell_type": "code",
   "execution_count": 64,
   "metadata": {},
   "outputs": [
    {
     "data": {
      "text/plain": [
       "matrix([[ 0,  4,  0, ...,  0,  0,  0],\n",
       "        [ 0,  0,  0, ...,  2,  0,  0],\n",
       "        [ 2,  0,  0, ...,  0,  0,  0],\n",
       "        ...,\n",
       "        [ 2,  0,  2, ...,  6,  9,  3],\n",
       "        [ 0,  0,  0, ...,  5,  1,  0],\n",
       "        [29,  0,  0, ...,  0,  0,  0]], dtype=int64)"
      ]
     },
     "execution_count": 64,
     "metadata": {},
     "output_type": "execute_result"
    }
   ],
   "source": [
    "X_train_bow"
   ]
  },
  {
   "cell_type": "markdown",
   "metadata": {},
   "source": [
    "#### tfidf transformation"
   ]
  },
  {
   "cell_type": "code",
   "execution_count": 65,
   "metadata": {},
   "outputs": [
    {
     "data": {
      "text/plain": [
       "TfidfVectorizer(max_features=1600, ngram_range=(1, 3), stop_words='english',\n",
       "                strip_accents='unicode', sublinear_tf=True,\n",
       "                token_pattern='\\\\w+')"
      ]
     },
     "execution_count": 65,
     "metadata": {},
     "output_type": "execute_result"
    }
   ],
   "source": [
    "tfidf_vectorizer.fit(train_df_corpus)"
   ]
  },
  {
   "cell_type": "code",
   "execution_count": 66,
   "metadata": {},
   "outputs": [],
   "source": [
    "X_train_tfidf = tfidf_vectorizer.transform(train_df_corpus)\n",
    "X_train_tfidf = X_train_tfidf.toarray()"
   ]
  },
  {
   "cell_type": "code",
   "execution_count": 67,
   "metadata": {},
   "outputs": [
    {
     "data": {
      "text/plain": [
       "(926, 1600)"
      ]
     },
     "execution_count": 67,
     "metadata": {},
     "output_type": "execute_result"
    }
   ],
   "source": [
    "X_train_tfidf.shape"
   ]
  },
  {
   "cell_type": "code",
   "execution_count": 68,
   "metadata": {},
   "outputs": [
    {
     "data": {
      "text/plain": [
       "array([[0.02660478, 0.        , 0.        , ..., 0.        , 0.        ,\n",
       "        0.        ],\n",
       "       [0.        , 0.        , 0.        , ..., 0.03956204, 0.        ,\n",
       "        0.        ],\n",
       "       [0.02887043, 0.        , 0.04264551, ..., 0.        , 0.        ,\n",
       "        0.        ],\n",
       "       ...,\n",
       "       [0.04413646, 0.        , 0.03221934, ..., 0.03328584, 0.03271226,\n",
       "        0.03914985],\n",
       "       [0.        , 0.        , 0.        , ..., 0.06851775, 0.02253263,\n",
       "        0.        ],\n",
       "       [0.09539639, 0.03813973, 0.16713042, ..., 0.        , 0.        ,\n",
       "        0.        ]])"
      ]
     },
     "execution_count": 68,
     "metadata": {},
     "output_type": "execute_result"
    }
   ],
   "source": [
    "X_train_tfidf"
   ]
  },
  {
   "cell_type": "markdown",
   "metadata": {},
   "source": [
    "### <font color='green'>creating baseline metrics using hard coded predicted values</font>"
   ]
  },
  {
   "cell_type": "code",
   "execution_count": 69,
   "metadata": {},
   "outputs": [],
   "source": [
    "from numpy import random"
   ]
  },
  {
   "cell_type": "code",
   "execution_count": 70,
   "metadata": {},
   "outputs": [],
   "source": [
    "# create a dummy y value for getting the baseline accuracy\n",
    "y_dummy_1 = random.rand(926,9)"
   ]
  },
  {
   "cell_type": "code",
   "execution_count": 71,
   "metadata": {},
   "outputs": [],
   "source": [
    "#y_dummy"
   ]
  },
  {
   "cell_type": "code",
   "execution_count": 72,
   "metadata": {},
   "outputs": [
    {
     "data": {
      "text/plain": [
       "1675    7\n",
       "1515    3\n",
       "2505    4\n",
       "2569    1\n",
       "2       2\n",
       "Name: Class, dtype: int64"
      ]
     },
     "execution_count": 72,
     "metadata": {},
     "output_type": "execute_result"
    }
   ],
   "source": [
    "y_train.head()"
   ]
  },
  {
   "cell_type": "code",
   "execution_count": 73,
   "metadata": {},
   "outputs": [
    {
     "data": {
      "text/plain": [
       "array([0.9722367 , 0.81414252, 0.62685111, 0.02008007, 0.84718453,\n",
       "       0.24536642, 0.84170651, 0.67903719, 0.34855045])"
      ]
     },
     "execution_count": 73,
     "metadata": {},
     "output_type": "execute_result"
    }
   ],
   "source": [
    "y_dummy_1[0,:]"
   ]
  },
  {
   "cell_type": "code",
   "execution_count": 74,
   "metadata": {},
   "outputs": [
    {
     "data": {
      "text/plain": [
       "2.517061307736238"
      ]
     },
     "execution_count": 74,
     "metadata": {},
     "output_type": "execute_result"
    }
   ],
   "source": [
    "# baseline loss metric value, random y values\n",
    "log_loss(y_train,y_dummy_1)"
   ]
  },
  {
   "cell_type": "code",
   "execution_count": 75,
   "metadata": {},
   "outputs": [],
   "source": [
    "y_dummy_2=np.zeros((926,9),dtype='float')"
   ]
  },
  {
   "cell_type": "code",
   "execution_count": 76,
   "metadata": {},
   "outputs": [
    {
     "data": {
      "text/plain": [
       "array([0., 0., 0., 0., 0., 0., 0., 0., 0.])"
      ]
     },
     "execution_count": 76,
     "metadata": {},
     "output_type": "execute_result"
    }
   ],
   "source": [
    "y_dummy_2[0,:]"
   ]
  },
  {
   "cell_type": "code",
   "execution_count": 77,
   "metadata": {},
   "outputs": [
    {
     "data": {
      "text/plain": [
       "2.197224577336219"
      ]
     },
     "execution_count": 77,
     "metadata": {},
     "output_type": "execute_result"
    }
   ],
   "source": [
    "# baseline loss metric value, all probabilites for y set to zero\n",
    "log_loss(y_train,y_dummy_2)"
   ]
  },
  {
   "cell_type": "code",
   "execution_count": 78,
   "metadata": {},
   "outputs": [],
   "source": [
    "# baseline loss metric value, all probabilites for y set to 0.4\n",
    "y_dummy_3=np.full((926,9),0.4,dtype='float')"
   ]
  },
  {
   "cell_type": "code",
   "execution_count": 79,
   "metadata": {},
   "outputs": [
    {
     "data": {
      "text/plain": [
       "array([0.4, 0.4, 0.4, 0.4, 0.4, 0.4, 0.4, 0.4, 0.4])"
      ]
     },
     "execution_count": 79,
     "metadata": {},
     "output_type": "execute_result"
    }
   ],
   "source": [
    "y_dummy_3[0,:]"
   ]
  },
  {
   "cell_type": "code",
   "execution_count": 80,
   "metadata": {},
   "outputs": [
    {
     "data": {
      "text/plain": [
       "2.1972245773362187"
      ]
     },
     "execution_count": 80,
     "metadata": {},
     "output_type": "execute_result"
    }
   ],
   "source": [
    "log_loss(y_train,y_dummy_3)"
   ]
  },
  {
   "cell_type": "code",
   "execution_count": 81,
   "metadata": {},
   "outputs": [],
   "source": [
    "y_dummy_4=np.zeros((926,9),dtype='float')"
   ]
  },
  {
   "cell_type": "code",
   "execution_count": 82,
   "metadata": {},
   "outputs": [],
   "source": [
    "y_dummy_4[:,0]=1.0"
   ]
  },
  {
   "cell_type": "code",
   "execution_count": 83,
   "metadata": {},
   "outputs": [
    {
     "data": {
      "text/plain": [
       "array([1., 0., 0., 0., 0., 0., 0., 0., 0.])"
      ]
     },
     "execution_count": 83,
     "metadata": {},
     "output_type": "execute_result"
    }
   ],
   "source": [
    "y_dummy_4[0,:]"
   ]
  },
  {
   "cell_type": "code",
   "execution_count": 84,
   "metadata": {},
   "outputs": [
    {
     "data": {
      "text/plain": [
       "28.68284994350575"
      ]
     },
     "execution_count": 84,
     "metadata": {},
     "output_type": "execute_result"
    }
   ],
   "source": [
    "# baseline loss metric value,probability at index 1 set to 1.0 for all y\n",
    "log_loss(y_train,y_dummy_4) "
   ]
  },
  {
   "cell_type": "code",
   "execution_count": 85,
   "metadata": {},
   "outputs": [],
   "source": [
    "# baseline loss metric value,probability at random indices set to 1.0 for all y\n",
    "y_dummy_5=np.zeros((926,9),dtype='float')\n",
    "count=0\n",
    "for x in X_train_bow:\n",
    "    new_y_val=np.random.randint(0,9)\n",
    "    y_dummy_5[count,new_y_val]=1.    \n",
    "    count=count+1  "
   ]
  },
  {
   "cell_type": "code",
   "execution_count": 86,
   "metadata": {},
   "outputs": [
    {
     "data": {
      "text/plain": [
       "array([0., 1., 0., 0., 0., 0., 0., 0., 0.])"
      ]
     },
     "execution_count": 86,
     "metadata": {},
     "output_type": "execute_result"
    }
   ],
   "source": [
    "y_dummy_5[0,:]"
   ]
  },
  {
   "cell_type": "code",
   "execution_count": 87,
   "metadata": {},
   "outputs": [
    {
     "data": {
      "text/plain": [
       "30.92078361920191"
      ]
     },
     "execution_count": 87,
     "metadata": {},
     "output_type": "execute_result"
    }
   ],
   "source": [
    "log_loss(y_train,y_dummy_5)"
   ]
  },
  {
   "cell_type": "code",
   "execution_count": 88,
   "metadata": {},
   "outputs": [],
   "source": [
    "# baseline loss metric value,probability at random indices set to 1.0 for all y\n",
    "def get_dummy(train_df):\n",
    "    y_dummy_5=np.zeros((926,9),dtype='float') # creating the probability matrix for y values\n",
    "    count=0\n",
    "    for x in train_df:                        # iterating through the training dataset\n",
    "        new_y_val=np.random.randint(0,9)      # creating random values for substituting index values\n",
    "        y_dummy_5[count,new_y_val]=1.         # setting the random index value as 1.0\n",
    "        count=count+1  \n",
    "    return y_dummy_5    "
   ]
  },
  {
   "cell_type": "code",
   "execution_count": 89,
   "metadata": {},
   "outputs": [],
   "source": [
    "def simulate_dummy(train_df,y_train):    \n",
    "    for i in range(10):\n",
    "        y_dummy=get_dummy(train_df)\n",
    "        print(log_loss(y_train,y_dummy))"
   ]
  },
  {
   "cell_type": "code",
   "execution_count": 90,
   "metadata": {},
   "outputs": [
    {
     "name": "stdout",
     "output_type": "stream",
     "text": [
      "2.3671093612813596\n",
      "2.4417071504712315\n",
      "2.4417071504712315\n",
      "2.4044082558762954\n",
      "2.3671093612813596\n",
      "2.3671093612813596\n",
      "2.4417071504712315\n",
      "2.3671093612813596\n",
      "2.4044082558762954\n",
      "2.4044082558762954\n"
     ]
    }
   ],
   "source": [
    "simulate_dummy(train_df,y_train)"
   ]
  },
  {
   "cell_type": "code",
   "execution_count": 91,
   "metadata": {},
   "outputs": [
    {
     "data": {
      "text/html": [
       "<div>\n",
       "<style scoped>\n",
       "    .dataframe tbody tr th:only-of-type {\n",
       "        vertical-align: middle;\n",
       "    }\n",
       "\n",
       "    .dataframe tbody tr th {\n",
       "        vertical-align: top;\n",
       "    }\n",
       "\n",
       "    .dataframe thead th {\n",
       "        text-align: right;\n",
       "    }\n",
       "</style>\n",
       "<table border=\"1\" class=\"dataframe\">\n",
       "  <thead>\n",
       "    <tr style=\"text-align: right;\">\n",
       "      <th></th>\n",
       "      <th>substitutions</th>\n",
       "      <th>log_loss</th>\n",
       "    </tr>\n",
       "  </thead>\n",
       "  <tbody>\n",
       "    <tr>\n",
       "      <th>0</th>\n",
       "      <td>random</td>\n",
       "      <td>2.49</td>\n",
       "    </tr>\n",
       "    <tr>\n",
       "      <th>1</th>\n",
       "      <td>all zero</td>\n",
       "      <td>2.19</td>\n",
       "    </tr>\n",
       "    <tr>\n",
       "      <th>2</th>\n",
       "      <td>all 0.4</td>\n",
       "      <td>2.19</td>\n",
       "    </tr>\n",
       "    <tr>\n",
       "      <th>3</th>\n",
       "      <td>index 1</td>\n",
       "      <td>28.59</td>\n",
       "    </tr>\n",
       "    <tr>\n",
       "      <th>4</th>\n",
       "      <td>random index</td>\n",
       "      <td>2.40</td>\n",
       "    </tr>\n",
       "  </tbody>\n",
       "</table>\n",
       "</div>"
      ],
      "text/plain": [
       "  substitutions  log_loss\n",
       "0        random      2.49\n",
       "1      all zero      2.19\n",
       "2       all 0.4      2.19\n",
       "3       index 1     28.59\n",
       "4  random index      2.40"
      ]
     },
     "execution_count": 91,
     "metadata": {},
     "output_type": "execute_result"
    }
   ],
   "source": [
    "pd.DataFrame({\"substitutions\":[\"random\",\"all zero\",\"all 0.4\",\"index 1\",\"random index\"],\"log_loss\":[2.49,2.19,2.19,28.59,2.4]})"
   ]
  },
  {
   "cell_type": "markdown",
   "metadata": {},
   "source": [
    "### <font style=\"font-size:18px;font-family:arial;color:green;text-indent:100px;line-height:0.8;word-spacing:10px\">Thus the lowermost limit for log loss score for an inaccurate model returns a value of 2.4 and hence our models should return better scores</font> "
   ]
  },
  {
   "cell_type": "markdown",
   "metadata": {},
   "source": [
    "### <font color='blue'>Logistic Regression Model</font>"
   ]
  },
  {
   "cell_type": "code",
   "execution_count": 92,
   "metadata": {},
   "outputs": [],
   "source": [
    "from sklearn.metrics import accuracy_score"
   ]
  },
  {
   "cell_type": "markdown",
   "metadata": {},
   "source": [
    "#### <font color='blue'>Logistic Regression with bag of words transformation</font>"
   ]
  },
  {
   "cell_type": "code",
   "execution_count": 93,
   "metadata": {},
   "outputs": [
    {
     "data": {
      "text/plain": [
       "LogisticRegression(multi_class='multinomial')"
      ]
     },
     "execution_count": 93,
     "metadata": {},
     "output_type": "execute_result"
    }
   ],
   "source": [
    "bow_model.fit(X_train_bow,y_train)"
   ]
  },
  {
   "cell_type": "code",
   "execution_count": 94,
   "metadata": {},
   "outputs": [
    {
     "data": {
      "text/plain": [
       "[-0.24371470182228414,\n",
       " -0.23407926807331603,\n",
       " -0.23033049221760504,\n",
       " -0.1786673559863601,\n",
       " -0.16787363267669192]"
      ]
     },
     "execution_count": 94,
     "metadata": {},
     "output_type": "execute_result"
    }
   ],
   "source": [
    "sorted(bow_model.coef_.tolist()[0])[:5]"
   ]
  },
  {
   "cell_type": "code",
   "execution_count": 95,
   "metadata": {},
   "outputs": [
    {
     "data": {
      "text/plain": [
       "array([1, 2, 3, 4, 5, 6, 7, 8, 9], dtype=int64)"
      ]
     },
     "execution_count": 95,
     "metadata": {},
     "output_type": "execute_result"
    }
   ],
   "source": [
    "bow_model.classes_"
   ]
  },
  {
   "cell_type": "code",
   "execution_count": 96,
   "metadata": {},
   "outputs": [
    {
     "data": {
      "text/plain": [
       "1600"
      ]
     },
     "execution_count": 96,
     "metadata": {},
     "output_type": "execute_result"
    }
   ],
   "source": [
    "bow_model.n_features_in_"
   ]
  },
  {
   "cell_type": "code",
   "execution_count": 97,
   "metadata": {},
   "outputs": [
    {
     "data": {
      "text/plain": [
       "array([ 0.01609693,  0.02620898, -0.02606623, -0.00163071,  0.01202515,\n",
       "       -0.00184372,  0.00533167, -0.01415988, -0.01596219])"
      ]
     },
     "execution_count": 97,
     "metadata": {},
     "output_type": "execute_result"
    }
   ],
   "source": [
    "bow_model.intercept_"
   ]
  },
  {
   "cell_type": "code",
   "execution_count": null,
   "metadata": {},
   "outputs": [],
   "source": []
  },
  {
   "cell_type": "code",
   "execution_count": 98,
   "metadata": {},
   "outputs": [],
   "source": [
    "y_pred_train_bow = bow_model.predict_proba(X_train_bow)"
   ]
  },
  {
   "cell_type": "code",
   "execution_count": 99,
   "metadata": {},
   "outputs": [],
   "source": [
    "y_pred_train_bow2=bow_model.predict(X_train_bow)"
   ]
  },
  {
   "cell_type": "raw",
   "metadata": {},
   "source": [
    "#### <font color='purple'>scoring the prediction using multiple scoring metrics</font>"
   ]
  },
  {
   "cell_type": "code",
   "execution_count": 100,
   "metadata": {},
   "outputs": [
    {
     "data": {
      "text/plain": [
       "0.15911488586230868"
      ]
     },
     "execution_count": 100,
     "metadata": {},
     "output_type": "execute_result"
    }
   ],
   "source": [
    "log_loss(y_train,y_pred_train_bow)"
   ]
  },
  {
   "cell_type": "code",
   "execution_count": 101,
   "metadata": {},
   "outputs": [],
   "source": [
    "from sklearn.metrics import classification_report"
   ]
  },
  {
   "cell_type": "code",
   "execution_count": 102,
   "metadata": {},
   "outputs": [],
   "source": [
    "target_names=['class 1','class 2','class 3','class 4','class 5','class 6','class 7','class 8','class 9']"
   ]
  },
  {
   "cell_type": "code",
   "execution_count": 103,
   "metadata": {},
   "outputs": [
    {
     "name": "stdout",
     "output_type": "stream",
     "text": [
      "              precision    recall  f1-score   support\n",
      "\n",
      "     class 1       0.91      0.92      0.91       157\n",
      "     class 2       0.97      0.93      0.95       121\n",
      "     class 3       0.81      0.71      0.76        24\n",
      "     class 4       0.94      0.94      0.94       200\n",
      "     class 5       0.73      0.78      0.75        63\n",
      "     class 6       0.90      0.89      0.90        64\n",
      "     class 7       0.95      0.97      0.96       279\n",
      "     class 8       1.00      1.00      1.00         5\n",
      "     class 9       1.00      1.00      1.00        13\n",
      "\n",
      "    accuracy                           0.92       926\n",
      "   macro avg       0.91      0.90      0.91       926\n",
      "weighted avg       0.93      0.92      0.92       926\n",
      "\n"
     ]
    }
   ],
   "source": [
    "print(classification_report(y_train, y_pred_train_bow2, target_names=target_names))"
   ]
  },
  {
   "cell_type": "code",
   "execution_count": 104,
   "metadata": {},
   "outputs": [],
   "source": [
    "from sklearn.metrics import plot_confusion_matrix"
   ]
  },
  {
   "cell_type": "code",
   "execution_count": 105,
   "metadata": {},
   "outputs": [
    {
     "data": {
      "text/plain": [
       "<sklearn.metrics._plot.confusion_matrix.ConfusionMatrixDisplay at 0x1e60c136748>"
      ]
     },
     "execution_count": 105,
     "metadata": {},
     "output_type": "execute_result"
    },
    {
     "data": {
      "image/png": "[encoded data removed]",
      "text/plain": [
       "<Figure size 432x288 with 2 Axes>"
      ]
     },
     "metadata": {
      "needs_background": "light"
     },
     "output_type": "display_data"
    }
   ],
   "source": [
    "plot_confusion_matrix(bow_model, X_train_bow, y_train)"
   ]
  },
  {
   "cell_type": "markdown",
   "metadata": {},
   "source": [
    "#### <font color='blue'>Logistic Regression with tfidf transformation</font>"
   ]
  },
  {
   "cell_type": "code",
   "execution_count": 106,
   "metadata": {},
   "outputs": [
    {
     "data": {
      "text/plain": [
       "LogisticRegression(multi_class='multinomial')"
      ]
     },
     "execution_count": 106,
     "metadata": {},
     "output_type": "execute_result"
    }
   ],
   "source": [
    "tfidf_model.fit(X_train_tfidf,y_train)"
   ]
  },
  {
   "cell_type": "code",
   "execution_count": 107,
   "metadata": {},
   "outputs": [
    {
     "data": {
      "text/plain": [
       "[-0.8469975793513697,\n",
       " -0.6844544334539787,\n",
       " -0.6095066508699389,\n",
       " -0.593339863983355,\n",
       " -0.5768494288374988]"
      ]
     },
     "execution_count": 107,
     "metadata": {},
     "output_type": "execute_result"
    }
   ],
   "source": [
    "sorted(tfidf_model.coef_.tolist()[0])[:5]"
   ]
  },
  {
   "cell_type": "code",
   "execution_count": 108,
   "metadata": {},
   "outputs": [
    {
     "data": {
      "text/plain": [
       "array([1, 2, 3, 4, 5, 6, 7, 8, 9], dtype=int64)"
      ]
     },
     "execution_count": 108,
     "metadata": {},
     "output_type": "execute_result"
    }
   ],
   "source": [
    "tfidf_model.classes_"
   ]
  },
  {
   "cell_type": "code",
   "execution_count": 109,
   "metadata": {},
   "outputs": [
    {
     "data": {
      "text/plain": [
       "1600"
      ]
     },
     "execution_count": 109,
     "metadata": {},
     "output_type": "execute_result"
    }
   ],
   "source": [
    "tfidf_model.n_features_in_"
   ]
  },
  {
   "cell_type": "code",
   "execution_count": 110,
   "metadata": {},
   "outputs": [
    {
     "data": {
      "text/plain": [
       "array([ 0.9073857 ,  0.99960666, -0.5268198 ,  0.99125506,  0.54334817,\n",
       "        0.09698662,  0.89947244, -2.31069245, -1.6005424 ])"
      ]
     },
     "execution_count": 110,
     "metadata": {},
     "output_type": "execute_result"
    }
   ],
   "source": [
    "tfidf_model.intercept_"
   ]
  },
  {
   "cell_type": "code",
   "execution_count": 111,
   "metadata": {},
   "outputs": [],
   "source": [
    "y_pred_train_tfidf = tfidf_model.predict_proba(X_train_tfidf)"
   ]
  },
  {
   "cell_type": "code",
   "execution_count": 112,
   "metadata": {},
   "outputs": [],
   "source": [
    "y_pred_train_tfidf2 = tfidf_model.predict(X_train_tfidf)"
   ]
  },
  {
   "cell_type": "markdown",
   "metadata": {},
   "source": [
    "#### <font color='purple'>scoring the prediction using multiple scoring metrics</font>"
   ]
  },
  {
   "cell_type": "code",
   "execution_count": 113,
   "metadata": {},
   "outputs": [
    {
     "data": {
      "text/plain": [
       "1.001678135574997"
      ]
     },
     "execution_count": 113,
     "metadata": {},
     "output_type": "execute_result"
    }
   ],
   "source": [
    "log_loss(y_train,y_pred_train_tfidf)"
   ]
  },
  {
   "cell_type": "code",
   "execution_count": 114,
   "metadata": {},
   "outputs": [
    {
     "name": "stdout",
     "output_type": "stream",
     "text": [
      "              precision    recall  f1-score   support\n",
      "\n",
      "     class 1       0.72      0.76      0.74       157\n",
      "     class 2       0.93      0.44      0.60       121\n",
      "     class 3       0.00      0.00      0.00        24\n",
      "     class 4       0.75      0.79      0.77       200\n",
      "     class 5       0.59      0.43      0.50        63\n",
      "     class 6       0.92      0.52      0.66        64\n",
      "     class 7       0.66      0.98      0.79       279\n",
      "     class 8       0.00      0.00      0.00         5\n",
      "     class 9       0.00      0.00      0.00        13\n",
      "\n",
      "    accuracy                           0.72       926\n",
      "   macro avg       0.51      0.43      0.45       926\n",
      "weighted avg       0.71      0.72      0.69       926\n",
      "\n"
     ]
    }
   ],
   "source": [
    "print(classification_report(y_train, y_pred_train_tfidf2, target_names=target_names))"
   ]
  },
  {
   "cell_type": "code",
   "execution_count": 115,
   "metadata": {},
   "outputs": [
    {
     "data": {
      "text/plain": [
       "<sklearn.metrics._plot.confusion_matrix.ConfusionMatrixDisplay at 0x1e60f084f88>"
      ]
     },
     "execution_count": 115,
     "metadata": {},
     "output_type": "execute_result"
    },
    {
     "data": {
      "image/png": "[encoded data removed]",
      "text/plain": [
       "<Figure size 432x288 with 2 Axes>"
      ]
     },
     "metadata": {
      "needs_background": "light"
     },
     "output_type": "display_data"
    }
   ],
   "source": [
    "plot_confusion_matrix(tfidf_model, X_train_bow, y_train)"
   ]
  },
  {
   "cell_type": "code",
   "execution_count": null,
   "metadata": {},
   "outputs": [],
   "source": []
  },
  {
   "cell_type": "code",
   "execution_count": null,
   "metadata": {},
   "outputs": [],
   "source": []
  },
  {
   "cell_type": "markdown",
   "metadata": {},
   "source": [
    "### Validation dataset"
   ]
  },
  {
   "cell_type": "code",
   "execution_count": 116,
   "metadata": {},
   "outputs": [
    {
     "data": {
      "text/plain": [
       "((398, 4), (398,))"
      ]
     },
     "execution_count": 116,
     "metadata": {},
     "output_type": "execute_result"
    }
   ],
   "source": [
    "validation_df.shape,y_validation.shape"
   ]
  },
  {
   "cell_type": "code",
   "execution_count": 117,
   "metadata": {},
   "outputs": [
    {
     "data": {
      "text/html": [
       "<div>\n",
       "<style scoped>\n",
       "    .dataframe tbody tr th:only-of-type {\n",
       "        vertical-align: middle;\n",
       "    }\n",
       "\n",
       "    .dataframe tbody tr th {\n",
       "        vertical-align: top;\n",
       "    }\n",
       "\n",
       "    .dataframe thead th {\n",
       "        text-align: right;\n",
       "    }\n",
       "</style>\n",
       "<table border=\"1\" class=\"dataframe\">\n",
       "  <thead>\n",
       "    <tr style=\"text-align: right;\">\n",
       "      <th></th>\n",
       "      <th>ID</th>\n",
       "      <th>Gene</th>\n",
       "      <th>Variation</th>\n",
       "      <th>Text</th>\n",
       "    </tr>\n",
       "  </thead>\n",
       "  <tbody>\n",
       "    <tr>\n",
       "      <th>3071</th>\n",
       "      <td>3071</td>\n",
       "      <td>NOTCH1</td>\n",
       "      <td>L1600P</td>\n",
       "      <td>The majority of human pancreatic cancers have ...</td>\n",
       "    </tr>\n",
       "    <tr>\n",
       "      <th>209</th>\n",
       "      <td>209</td>\n",
       "      <td>EGFR</td>\n",
       "      <td>S645C</td>\n",
       "      <td>Summary Recent genome sequencing efforts have...</td>\n",
       "    </tr>\n",
       "    <tr>\n",
       "      <th>2111</th>\n",
       "      <td>2111</td>\n",
       "      <td>B2M</td>\n",
       "      <td>Truncating Mutations</td>\n",
       "      <td>How the genomic landscape of a tumor shapes an...</td>\n",
       "    </tr>\n",
       "    <tr>\n",
       "      <th>1148</th>\n",
       "      <td>1148</td>\n",
       "      <td>MET</td>\n",
       "      <td>963_D1010splice</td>\n",
       "      <td>Non–small cell lung cancer (NSCLC) is a diffic...</td>\n",
       "    </tr>\n",
       "    <tr>\n",
       "      <th>2876</th>\n",
       "      <td>2876</td>\n",
       "      <td>BRCA2</td>\n",
       "      <td>S869L</td>\n",
       "      <td>Abstract  Classification of rare missense var...</td>\n",
       "    </tr>\n",
       "  </tbody>\n",
       "</table>\n",
       "</div>"
      ],
      "text/plain": [
       "        ID    Gene             Variation  \\\n",
       "3071  3071  NOTCH1                L1600P   \n",
       "209    209    EGFR                 S645C   \n",
       "2111  2111     B2M  Truncating Mutations   \n",
       "1148  1148     MET       963_D1010splice   \n",
       "2876  2876   BRCA2                 S869L   \n",
       "\n",
       "                                                   Text  \n",
       "3071  The majority of human pancreatic cancers have ...  \n",
       "209    Summary Recent genome sequencing efforts have...  \n",
       "2111  How the genomic landscape of a tumor shapes an...  \n",
       "1148  Non–small cell lung cancer (NSCLC) is a diffic...  \n",
       "2876   Abstract  Classification of rare missense var...  "
      ]
     },
     "execution_count": 117,
     "metadata": {},
     "output_type": "execute_result"
    }
   ],
   "source": [
    "validation_df.head()"
   ]
  },
  {
   "cell_type": "markdown",
   "metadata": {},
   "source": [
    "#### text processing of validation data"
   ]
  },
  {
   "cell_type": "code",
   "execution_count": null,
   "metadata": {},
   "outputs": [],
   "source": []
  },
  {
   "cell_type": "code",
   "execution_count": 118,
   "metadata": {},
   "outputs": [
    {
     "name": "stderr",
     "output_type": "stream",
     "text": [
      "progress bar: 100%|██████████| 398/398 [00:04<00:00, 81.76it/s] \n"
     ]
    }
   ],
   "source": [
    "# remove punctuation\n",
    "validation_df['cleaned_text'] = validation_df['Text'].progress_map(cleanse_data,na_action='ignore')"
   ]
  },
  {
   "cell_type": "code",
   "execution_count": 119,
   "metadata": {},
   "outputs": [
    {
     "name": "stderr",
     "output_type": "stream",
     "text": [
      "progress bar: 100%|██████████| 398/398 [00:01<00:00, 241.64it/s]\n"
     ]
    }
   ],
   "source": [
    "# filtering all common english words\n",
    "validation_df['cleaned_text'] = validation_df['cleaned_text'].progress_map(reduce_words,na_action='ignore')"
   ]
  },
  {
   "cell_type": "code",
   "execution_count": 120,
   "metadata": {},
   "outputs": [],
   "source": [
    "validation_df['Text_len'] = validation_df['Text'].map(lambda x:len(str(x)))\n",
    "validation_df['cleaned_text_len'] = validation_df['cleaned_text'].map(lambda x:len(str(x)))"
   ]
  },
  {
   "cell_type": "code",
   "execution_count": 121,
   "metadata": {},
   "outputs": [
    {
     "data": {
      "text/html": [
       "<div>\n",
       "<style scoped>\n",
       "    .dataframe tbody tr th:only-of-type {\n",
       "        vertical-align: middle;\n",
       "    }\n",
       "\n",
       "    .dataframe tbody tr th {\n",
       "        vertical-align: top;\n",
       "    }\n",
       "\n",
       "    .dataframe thead th {\n",
       "        text-align: right;\n",
       "    }\n",
       "</style>\n",
       "<table border=\"1\" class=\"dataframe\">\n",
       "  <thead>\n",
       "    <tr style=\"text-align: right;\">\n",
       "      <th></th>\n",
       "      <th>ID</th>\n",
       "      <th>Gene</th>\n",
       "      <th>Variation</th>\n",
       "      <th>Text</th>\n",
       "      <th>cleaned_text</th>\n",
       "      <th>Text_len</th>\n",
       "      <th>cleaned_text_len</th>\n",
       "    </tr>\n",
       "  </thead>\n",
       "  <tbody>\n",
       "    <tr>\n",
       "      <th>3071</th>\n",
       "      <td>3071</td>\n",
       "      <td>NOTCH1</td>\n",
       "      <td>L1600P</td>\n",
       "      <td>The majority of human pancreatic cancers have ...</td>\n",
       "      <td>cancers activating mutations KRAS proto-oncoge...</td>\n",
       "      <td>184462</td>\n",
       "      <td>80805</td>\n",
       "    </tr>\n",
       "    <tr>\n",
       "      <th>209</th>\n",
       "      <td>209</td>\n",
       "      <td>EGFR</td>\n",
       "      <td>S645C</td>\n",
       "      <td>Summary Recent genome sequencing efforts have...</td>\n",
       "      <td>Summary Recent sequencing efforts identified m...</td>\n",
       "      <td>45715</td>\n",
       "      <td>20574</td>\n",
       "    </tr>\n",
       "    <tr>\n",
       "      <th>2111</th>\n",
       "      <td>2111</td>\n",
       "      <td>B2M</td>\n",
       "      <td>Truncating Mutations</td>\n",
       "      <td>How the genomic landscape of a tumor shapes an...</td>\n",
       "      <td>How shapes anti-tumor has explored Using large...</td>\n",
       "      <td>319705</td>\n",
       "      <td>137278</td>\n",
       "    </tr>\n",
       "    <tr>\n",
       "      <th>1148</th>\n",
       "      <td>1148</td>\n",
       "      <td>MET</td>\n",
       "      <td>963_D1010splice</td>\n",
       "      <td>Non–small cell lung cancer (NSCLC) is a diffic...</td>\n",
       "      <td>Non–small NSCLC c-Met cancers We c-Met overexp...</td>\n",
       "      <td>101050</td>\n",
       "      <td>45792</td>\n",
       "    </tr>\n",
       "    <tr>\n",
       "      <th>2876</th>\n",
       "      <td>2876</td>\n",
       "      <td>BRCA2</td>\n",
       "      <td>S869L</td>\n",
       "      <td>Abstract  Classification of rare missense var...</td>\n",
       "      <td>Abstract Classification missense variants has ...</td>\n",
       "      <td>38459</td>\n",
       "      <td>12686</td>\n",
       "    </tr>\n",
       "  </tbody>\n",
       "</table>\n",
       "</div>"
      ],
      "text/plain": [
       "        ID    Gene             Variation  \\\n",
       "3071  3071  NOTCH1                L1600P   \n",
       "209    209    EGFR                 S645C   \n",
       "2111  2111     B2M  Truncating Mutations   \n",
       "1148  1148     MET       963_D1010splice   \n",
       "2876  2876   BRCA2                 S869L   \n",
       "\n",
       "                                                   Text  \\\n",
       "3071  The majority of human pancreatic cancers have ...   \n",
       "209    Summary Recent genome sequencing efforts have...   \n",
       "2111  How the genomic landscape of a tumor shapes an...   \n",
       "1148  Non–small cell lung cancer (NSCLC) is a diffic...   \n",
       "2876   Abstract  Classification of rare missense var...   \n",
       "\n",
       "                                           cleaned_text  Text_len  \\\n",
       "3071  cancers activating mutations KRAS proto-oncoge...    184462   \n",
       "209   Summary Recent sequencing efforts identified m...     45715   \n",
       "2111  How shapes anti-tumor has explored Using large...    319705   \n",
       "1148  Non–small NSCLC c-Met cancers We c-Met overexp...    101050   \n",
       "2876  Abstract Classification missense variants has ...     38459   \n",
       "\n",
       "      cleaned_text_len  \n",
       "3071             80805  \n",
       "209              20574  \n",
       "2111            137278  \n",
       "1148             45792  \n",
       "2876             12686  "
      ]
     },
     "execution_count": 121,
     "metadata": {},
     "output_type": "execute_result"
    }
   ],
   "source": [
    "validation_df.head()"
   ]
  },
  {
   "cell_type": "code",
   "execution_count": 122,
   "metadata": {},
   "outputs": [],
   "source": [
    "validation_df_corpus = validation_df['cleaned_text'].tolist()"
   ]
  },
  {
   "cell_type": "markdown",
   "metadata": {},
   "source": [
    "##### Bag of words transformation"
   ]
  },
  {
   "cell_type": "code",
   "execution_count": 123,
   "metadata": {},
   "outputs": [],
   "source": [
    "validation_df_counts= bow_vectorizer.transform(validation_df_corpus)"
   ]
  },
  {
   "cell_type": "code",
   "execution_count": 124,
   "metadata": {},
   "outputs": [
    {
     "data": {
      "text/plain": [
       "(398, 1600)"
      ]
     },
     "execution_count": 124,
     "metadata": {},
     "output_type": "execute_result"
    }
   ],
   "source": [
    "validation_df_counts.shape"
   ]
  },
  {
   "cell_type": "code",
   "execution_count": 125,
   "metadata": {},
   "outputs": [],
   "source": [
    "X_validation_bow = validation_df_counts.todense()"
   ]
  },
  {
   "cell_type": "code",
   "execution_count": 126,
   "metadata": {},
   "outputs": [
    {
     "data": {
      "text/plain": [
       "(398, 1600)"
      ]
     },
     "execution_count": 126,
     "metadata": {},
     "output_type": "execute_result"
    }
   ],
   "source": [
    "X_validation_bow.shape"
   ]
  },
  {
   "cell_type": "code",
   "execution_count": 127,
   "metadata": {},
   "outputs": [
    {
     "data": {
      "text/plain": [
       "matrix([[ 0,  0,  0, ...,  1,  8,  4],\n",
       "        [ 0,  0,  3, ...,  0,  3,  0],\n",
       "        [ 1,  0,  0, ...,  0,  1,  0],\n",
       "        ...,\n",
       "        [ 0,  0,  0, ...,  1, 31,  0],\n",
       "        [ 0,  0,  0, ...,  2,  0,  0],\n",
       "        [ 0,  0,  0, ...,  2,  0,  0]], dtype=int64)"
      ]
     },
     "execution_count": 127,
     "metadata": {},
     "output_type": "execute_result"
    }
   ],
   "source": [
    "X_validation_bow"
   ]
  },
  {
   "cell_type": "code",
   "execution_count": 131,
   "metadata": {},
   "outputs": [],
   "source": [
    "y_pred_validation_bow = bow_model.predict_proba(X_validation_bow)"
   ]
  },
  {
   "cell_type": "code",
   "execution_count": 129,
   "metadata": {},
   "outputs": [],
   "source": [
    "y_pred_validation_bow2 = bow_model.predict(X_validation_bow)"
   ]
  },
  {
   "cell_type": "raw",
   "metadata": {},
   "source": [
    "#### <font color='purple'>scoring the prediction using multiple scoring metrics</font>"
   ]
  },
  {
   "cell_type": "code",
   "execution_count": 132,
   "metadata": {},
   "outputs": [
    {
     "data": {
      "text/plain": [
       "7.429526419009239"
      ]
     },
     "execution_count": 132,
     "metadata": {},
     "output_type": "execute_result"
    }
   ],
   "source": [
    "log_loss(y_validation,y_pred_validation_bow)"
   ]
  },
  {
   "cell_type": "code",
   "execution_count": 134,
   "metadata": {},
   "outputs": [
    {
     "name": "stdout",
     "output_type": "stream",
     "text": [
      "              precision    recall  f1-score   support\n",
      "\n",
      "     class 1       0.43      0.49      0.46        63\n",
      "     class 2       0.38      0.38      0.38        61\n",
      "     class 3       0.25      0.18      0.21        11\n",
      "     class 4       0.58      0.58      0.58        86\n",
      "     class 5       0.30      0.31      0.30        26\n",
      "     class 6       0.70      0.54      0.61        35\n",
      "     class 7       0.65      0.67      0.66       112\n",
      "     class 8       0.00      0.00      0.00         1\n",
      "     class 9       1.00      0.67      0.80         3\n",
      "\n",
      "    accuracy                           0.53       398\n",
      "   macro avg       0.48      0.42      0.44       398\n",
      "weighted avg       0.53      0.53      0.53       398\n",
      "\n"
     ]
    }
   ],
   "source": [
    "print(classification_report(y_validation, y_pred_validation_bow2, target_names=target_names))"
   ]
  },
  {
   "cell_type": "code",
   "execution_count": 135,
   "metadata": {},
   "outputs": [
    {
     "data": {
      "text/plain": [
       "<sklearn.metrics._plot.confusion_matrix.ConfusionMatrixDisplay at 0x1e60c97c308>"
      ]
     },
     "execution_count": 135,
     "metadata": {},
     "output_type": "execute_result"
    },
    {
     "data": {
      "image/png": "[encoded data removed]",
      "text/plain": [
       "<Figure size 432x288 with 2 Axes>"
      ]
     },
     "metadata": {
      "needs_background": "light"
     },
     "output_type": "display_data"
    }
   ],
   "source": [
    "plot_confusion_matrix(bow_model, X_validation_bow, y_validation)"
   ]
  },
  {
   "cell_type": "markdown",
   "metadata": {},
   "source": [
    "##### TFIDF transformation"
   ]
  },
  {
   "cell_type": "code",
   "execution_count": 138,
   "metadata": {},
   "outputs": [],
   "source": [
    "X_validate_tfidf = tfidf_vectorizer.transform(validation_df_corpus)"
   ]
  },
  {
   "cell_type": "code",
   "execution_count": 139,
   "metadata": {},
   "outputs": [],
   "source": [
    "X_validate_tfidf = X_validate_tfidf.toarray()"
   ]
  },
  {
   "cell_type": "code",
   "execution_count": 140,
   "metadata": {},
   "outputs": [],
   "source": [
    "y_pred_validate_tfidf = tfidf_model.predict_proba(X_validate_tfidf)"
   ]
  },
  {
   "cell_type": "code",
   "execution_count": 142,
   "metadata": {},
   "outputs": [],
   "source": [
    "y_pred_validate_tfidf2 = tfidf_model.predict(X_validate_tfidf)"
   ]
  },
  {
   "cell_type": "markdown",
   "metadata": {},
   "source": [
    "#### <font color='purple'>scoring the prediction using multiple scoring metrics</font>"
   ]
  },
  {
   "cell_type": "code",
   "execution_count": 141,
   "metadata": {},
   "outputs": [
    {
     "data": {
      "text/plain": [
       "1.2500275156540839"
      ]
     },
     "execution_count": 141,
     "metadata": {},
     "output_type": "execute_result"
    }
   ],
   "source": [
    "log_loss(y_validation,y_pred_validate_tfidf)"
   ]
  },
  {
   "cell_type": "code",
   "execution_count": 144,
   "metadata": {},
   "outputs": [
    {
     "name": "stdout",
     "output_type": "stream",
     "text": [
      "              precision    recall  f1-score   support\n",
      "\n",
      "     class 1       0.43      0.46      0.44        63\n",
      "     class 2       0.94      0.25      0.39        61\n",
      "     class 3       0.00      0.00      0.00        11\n",
      "     class 4       0.54      0.58      0.56        86\n",
      "     class 5       0.44      0.31      0.36        26\n",
      "     class 6       0.88      0.43      0.58        35\n",
      "     class 7       0.56      0.93      0.70       112\n",
      "     class 8       0.00      0.00      0.00         1\n",
      "     class 9       0.00      0.00      0.00         3\n",
      "\n",
      "    accuracy                           0.56       398\n",
      "   macro avg       0.42      0.33      0.34       398\n",
      "weighted avg       0.59      0.56      0.52       398\n",
      "\n"
     ]
    }
   ],
   "source": [
    "print(classification_report(y_validation, y_pred_validate_tfidf2, target_names=target_names))"
   ]
  },
  {
   "cell_type": "code",
   "execution_count": 145,
   "metadata": {},
   "outputs": [
    {
     "data": {
      "text/plain": [
       "<sklearn.metrics._plot.confusion_matrix.ConfusionMatrixDisplay at 0x1e60b39a7c8>"
      ]
     },
     "execution_count": 145,
     "metadata": {},
     "output_type": "execute_result"
    },
    {
     "data": {
      "image/png": "[encoded data removed]",
      "text/plain": [
       "<Figure size 432x288 with 2 Axes>"
      ]
     },
     "metadata": {
      "needs_background": "light"
     },
     "output_type": "display_data"
    }
   ],
   "source": [
    "plot_confusion_matrix(tfidf_model, X_validate_tfidf, y_validation)"
   ]
  },
  {
   "cell_type": "markdown",
   "metadata": {},
   "source": [
    "#### handling the test text sample data"
   ]
  },
  {
   "cell_type": "code",
   "execution_count": null,
   "metadata": {},
   "outputs": [],
   "source": [
    "#test_text_df.sort_values(['ID']).head()"
   ]
  },
  {
   "cell_type": "code",
   "execution_count": null,
   "metadata": {},
   "outputs": [],
   "source": [
    "#test_text_df.shape"
   ]
  },
  {
   "cell_type": "code",
   "execution_count": null,
   "metadata": {},
   "outputs": [],
   "source": [
    "#test_text_df['cleaned_text'] = test_text_df['Text'].map(cleanse_data,na_action='ignore')"
   ]
  },
  {
   "cell_type": "code",
   "execution_count": null,
   "metadata": {},
   "outputs": [],
   "source": [
    "#test_text_df['cleaned_text'] = test_text_df['cleaned_text'].map(reduce_words)"
   ]
  },
  {
   "cell_type": "code",
   "execution_count": null,
   "metadata": {},
   "outputs": [],
   "source": [
    "#test_text_df['cleaned_text_vector'] = test_text_df['cleaned_text'].map(word_count)"
   ]
  },
  {
   "cell_type": "code",
   "execution_count": null,
   "metadata": {},
   "outputs": [],
   "source": [
    "#test_text_df['sorted_cleaned_text_vector'] = test_text_df['cleaned_text'].progress_map(freq_dist)"
   ]
  },
  {
   "cell_type": "code",
   "execution_count": null,
   "metadata": {},
   "outputs": [],
   "source": [
    "#test_text_df = test_text_df.drop(['Text'],axis=1)"
   ]
  },
  {
   "cell_type": "code",
   "execution_count": null,
   "metadata": {},
   "outputs": [],
   "source": [
    "#test_text_df.head()"
   ]
  },
  {
   "cell_type": "code",
   "execution_count": null,
   "metadata": {},
   "outputs": [],
   "source": [
    "# get the text samples as list\n",
    "#test_corpus = test_text_df['cleaned_text'].tolist()"
   ]
  },
  {
   "cell_type": "code",
   "execution_count": null,
   "metadata": {},
   "outputs": [],
   "source": [
    "# transform the test case to get bag of words\n",
    "#test_bag_of_words_train = bow_vectorizer.fit_transform(test_corpus)"
   ]
  },
  {
   "cell_type": "code",
   "execution_count": null,
   "metadata": {},
   "outputs": [],
   "source": [
    "# convert the dictionary to an array\n",
    "#test_bag_of_words_array = test_bag_of_words_train.toarray()"
   ]
  },
  {
   "cell_type": "code",
   "execution_count": null,
   "metadata": {},
   "outputs": [],
   "source": [
    "#test_bag_of_words_array.shape"
   ]
  },
  {
   "cell_type": "code",
   "execution_count": null,
   "metadata": {},
   "outputs": [],
   "source": [
    "# predict test using bag of word model\n",
    "#y_pred_test_bow = bow_model.predict_proba(test_bag_of_words_array)"
   ]
  },
  {
   "cell_type": "code",
   "execution_count": null,
   "metadata": {},
   "outputs": [],
   "source": [
    "#y_pred_test_bow[0]"
   ]
  },
  {
   "cell_type": "code",
   "execution_count": null,
   "metadata": {},
   "outputs": [],
   "source": [
    "#y_pred_test_df = pd.DataFrame(y_pred_test_bow)"
   ]
  },
  {
   "cell_type": "code",
   "execution_count": null,
   "metadata": {},
   "outputs": [],
   "source": [
    "#test_text_df['ID'].shape"
   ]
  },
  {
   "cell_type": "code",
   "execution_count": null,
   "metadata": {},
   "outputs": [],
   "source": [
    "#y_pred_test_df['ID']= test_text_df['ID'].reset_index(drop=True)"
   ]
  },
  {
   "cell_type": "code",
   "execution_count": null,
   "metadata": {},
   "outputs": [],
   "source": [
    "#y_pred_test_df.head()"
   ]
  },
  {
   "cell_type": "code",
   "execution_count": null,
   "metadata": {},
   "outputs": [],
   "source": []
  },
  {
   "cell_type": "code",
   "execution_count": null,
   "metadata": {},
   "outputs": [],
   "source": [
    "# predict test using tfidf model\n",
    "#y_pred_test_tfidf = tfidf_model.predict_proba(test_bag_of_words_array)"
   ]
  },
  {
   "cell_type": "code",
   "execution_count": null,
   "metadata": {},
   "outputs": [],
   "source": [
    "stage2_test_text_df = pd.read_csv('stage2_test_text.csv', sep=\"\\|\\|\", encoding=\"utf-8\",engine=\"python\", skiprows=1, names=[\"ID\", \"Text\"])\n"
   ]
  },
  {
   "cell_type": "code",
   "execution_count": null,
   "metadata": {},
   "outputs": [],
   "source": [
    "stage2_test_text_df.shape"
   ]
  },
  {
   "cell_type": "code",
   "execution_count": null,
   "metadata": {},
   "outputs": [],
   "source": [
    "stage2_test_text_df['cleaned_text'] = stage2_test_text_df['Text'].progress_map(cleanse_data,na_action='ignore')"
   ]
  },
  {
   "cell_type": "code",
   "execution_count": null,
   "metadata": {},
   "outputs": [],
   "source": [
    "stage2_test_text_df['cleaned_text'] = stage2_test_text_df['cleaned_text'].progress_map(reduce_words)"
   ]
  },
  {
   "cell_type": "code",
   "execution_count": null,
   "metadata": {},
   "outputs": [],
   "source": [
    "stage2_test_text_df.shape"
   ]
  },
  {
   "cell_type": "code",
   "execution_count": null,
   "metadata": {},
   "outputs": [],
   "source": [
    "stage2_cleaned_view =pd.DataFrame({\"Text\":stage2_test_text_df['Text'].progress_map(lambda x:len(x)),\"cleaned_text\":stage2_test_text_df['cleaned_text'].map(lambda x:len(x))})\n",
    "stage2_cleaned_view.head()"
   ]
  },
  {
   "cell_type": "code",
   "execution_count": null,
   "metadata": {},
   "outputs": [],
   "source": [
    "stage2_test_corpus = stage2_test_text_df['cleaned_text'].tolist()"
   ]
  },
  {
   "cell_type": "code",
   "execution_count": null,
   "metadata": {},
   "outputs": [],
   "source": [
    "#X_stage2_test = bow_vectorizer.fit_transform(stage2_test_corpus).toarray()"
   ]
  },
  {
   "cell_type": "code",
   "execution_count": null,
   "metadata": {},
   "outputs": [],
   "source": [
    "X_stage2_test = tfidf_vectorizer.fit_transform(stage2_test_corpus).toarray()"
   ]
  },
  {
   "cell_type": "code",
   "execution_count": null,
   "metadata": {},
   "outputs": [],
   "source": [
    "X_stage2_test.shape"
   ]
  },
  {
   "cell_type": "code",
   "execution_count": null,
   "metadata": {},
   "outputs": [],
   "source": [
    "y_pred_stage2 = tfidf_model.predict_proba(X_stage2_test)"
   ]
  },
  {
   "cell_type": "code",
   "execution_count": null,
   "metadata": {},
   "outputs": [],
   "source": [
    "y_pred_stage2.shape"
   ]
  },
  {
   "cell_type": "code",
   "execution_count": null,
   "metadata": {},
   "outputs": [],
   "source": [
    "y_pred_stage2_df = pd.DataFrame(y_pred_stage2)"
   ]
  },
  {
   "cell_type": "code",
   "execution_count": null,
   "metadata": {},
   "outputs": [],
   "source": []
  },
  {
   "cell_type": "code",
   "execution_count": null,
   "metadata": {},
   "outputs": [],
   "source": [
    "y_pred_stage2_df['ID']=stage2_test_text_df['ID']"
   ]
  },
  {
   "cell_type": "code",
   "execution_count": null,
   "metadata": {},
   "outputs": [],
   "source": [
    "y_pred_stage2_df.columns"
   ]
  },
  {
   "cell_type": "code",
   "execution_count": null,
   "metadata": {},
   "outputs": [],
   "source": [
    "y_pred_stage2_df.columns = ['class1','class2','class3','class4','class5','class6','class7','class8','class9','ID']"
   ]
  },
  {
   "cell_type": "code",
   "execution_count": null,
   "metadata": {},
   "outputs": [],
   "source": [
    "y_pred_stage2_df=y_pred_stage2_df[['ID','class1','class2','class3','class4','class5','class6','class7','class8','class9']]"
   ]
  },
  {
   "cell_type": "code",
   "execution_count": null,
   "metadata": {},
   "outputs": [],
   "source": [
    "y_pred_stage2_df.head()"
   ]
  },
  {
   "cell_type": "code",
   "execution_count": null,
   "metadata": {},
   "outputs": [],
   "source": [
    "y_pred_stage2_df.to_csv(\"y_pred_stage2.csv\",index=False)"
   ]
  },
  {
   "cell_type": "code",
   "execution_count": null,
   "metadata": {},
   "outputs": [],
   "source": [
    "df=pd.DataFrame(columns=[\"Gene\",\"Class\",\"Variation\",\"cleaned_text\",\"cleaned_freq\"])\n",
    "for i in range(19):    \n",
    "    df_new=class_9[class_9['cleaned_text'] == class_9['cleaned_text'].unique()[i]]\n",
    "    df=pd.concat([df,df_new])"
   ]
  },
  {
   "cell_type": "markdown",
   "metadata": {
    "id": "mb62K9H8oIy6"
   },
   "source": [
    "we have sorted the frequency dictionary based on values using the key parameter of sorted and higher values first using reverse"
   ]
  },
  {
   "cell_type": "code",
   "execution_count": null,
   "metadata": {
    "colab": {
     "base_uri": "https://localhost:8080/"
    },
    "executionInfo": {
     "elapsed": 14,
     "status": "ok",
     "timestamp": 1638286210767,
     "user": {
      "displayName": "Anubrata Das",
      "photoUrl": "https://lh3.googleusercontent.com/a-/AOh14GiI2340pPpSj6e4aG_4urL4HRwW3MRXEf5aoo2_QA=s64",
      "userId": "08781375266004215524"
     },
     "user_tz": -330
    },
    "id": "wae37kXdUT8k",
    "outputId": "aacd0478-e911-439f-8dd0-3d9b78a7a732"
   },
   "outputs": [],
   "source": [
    "sorted(test_dic.items(),key=lambda x:x[1], reverse=True)"
   ]
  },
  {
   "cell_type": "code",
   "execution_count": null,
   "metadata": {
    "id": "kAxcpzU4_mzu"
   },
   "outputs": [],
   "source": [
    "for i in range(10):\n",
    "    print(scan_data1[i])"
   ]
  },
  {
   "cell_type": "code",
   "execution_count": null,
   "metadata": {
    "id": "9XgD9sY_14Jw"
   },
   "outputs": [],
   "source": [
    "cd /content"
   ]
  },
  {
   "cell_type": "code",
   "execution_count": null,
   "metadata": {
    "id": "oLbahHJ__mzv"
   },
   "outputs": [],
   "source": [
    "pa_tree=ET.parse('pa2021.xml')"
   ]
  },
  {
   "cell_type": "code",
   "execution_count": null,
   "metadata": {
    "id": "spN5n9H3_mzv"
   },
   "outputs": [],
   "source": [
    "root=pa_tree.getroot()"
   ]
  },
  {
   "cell_type": "code",
   "execution_count": null,
   "metadata": {
    "id": "kQR8pY9UXBs-"
   },
   "outputs": [],
   "source": [
    "# for child in root:\n",
    "#   print(child.tag)"
   ]
  },
  {
   "cell_type": "code",
   "execution_count": null,
   "metadata": {
    "id": "63RIRzTV_mzv"
   },
   "outputs": [],
   "source": [
    "for element_1 in root:\n",
    "  #print(\"---------level_1-----------\")\n",
    "  #print(element_1.tag)\n",
    "  \n",
    "  for element_2 in element_1:\n",
    "    #print(\"---------level_2-----------\")\n",
    "    #print(\"    \"+element_2.tag,\" \",element_2.text)\n",
    "    \n",
    "    for element_3 in element_2:\n",
    "      #print(\"---------level_3-----------\")\n",
    "      #print(\"        \"+element_3.tag,\" \",element_3.text)\n",
    "      \n",
    "      for element_4 in element_3:\n",
    "        #print(\"---------level_4-----------\")\n",
    "        if element_4.tag==\"String\":\n",
    "          print(\"                   \"+element_4.tag,\" \",element_4.text)\n",
    "          \n",
    "  #break\n",
    "    "
   ]
  },
  {
   "cell_type": "code",
   "execution_count": null,
   "metadata": {
    "id": "M-j6NieYFoZn"
   },
   "outputs": [],
   "source": [
    "len(root)"
   ]
  },
  {
   "cell_type": "code",
   "execution_count": null,
   "metadata": {
    "id": "c2Li5HlGGwOR"
   },
   "outputs": [],
   "source": [
    "desc_tree=ET.parse('desc2021.xml')"
   ]
  },
  {
   "cell_type": "code",
   "execution_count": null,
   "metadata": {
    "id": "IIWEN3P3XfG4"
   },
   "outputs": [],
   "source": [
    "desc_root=desc_tree.getroot()"
   ]
  },
  {
   "cell_type": "code",
   "execution_count": null,
   "metadata": {
    "id": "dVaFVNDdYSxK"
   },
   "outputs": [],
   "source": [
    "len(desc_root)"
   ]
  },
  {
   "cell_type": "code",
   "execution_count": null,
   "metadata": {
    "id": "9Q4uNx0xYq8f"
   },
   "outputs": [],
   "source": [
    "term_description=[]\n",
    "for element_1 in desc_root:\n",
    "  #print(\"-------level_1----------\")\n",
    "  #print(element_1.tag,\" \",element_1.text)\n",
    "  for element_2 in element_1:\n",
    "    #print(\"    ----------level_2----------\")\n",
    "    #print(\"    \"+element_2.tag,\" \",element_2.text)\n",
    "    for element_3 in element_2:\n",
    "      if element_3.tag=='String':\n",
    "        #print(\"        ---------level_3--------\")\n",
    "        #print(\"        \"+element_3.tag,\" \",element_3.text)\n",
    "        term_description.append(element_3.text)\n",
    "\n",
    "  #break"
   ]
  },
  {
   "cell_type": "code",
   "execution_count": null,
   "metadata": {
    "id": "WG6OyuDhZOdW"
   },
   "outputs": [],
   "source": [
    "len(term_description)"
   ]
  },
  {
   "cell_type": "code",
   "execution_count": null,
   "metadata": {
    "id": "yhUEtiIrt4B5"
   },
   "outputs": [],
   "source": [
    "term_description[:10]"
   ]
  },
  {
   "cell_type": "code",
   "execution_count": null,
   "metadata": {
    "id": "DFCAtPHEuIG_"
   },
   "outputs": [],
   "source": [
    "import csv \n",
    "with open('term_description.csv', 'w') as f: \n",
    "    write = csv.writer(f) \n",
    "    write.writerow(term_description) \n",
    "    "
   ]
  },
  {
   "cell_type": "markdown",
   "metadata": {
    "id": "F11LgeASJSYc"
   },
   "source": [
    "There are 2 ways to remove punctuation. one is to use the string library punctuation module on the text before tokenization, the other is to use the nltk.punct library"
   ]
  },
  {
   "cell_type": "code",
   "execution_count": null,
   "metadata": {
    "id": "bzJtTxhvvlSb"
   },
   "outputs": [],
   "source": [
    "len(scan_data1[1])"
   ]
  },
  {
   "cell_type": "code",
   "execution_count": null,
   "metadata": {
    "id": "EKL7Av16DsWV"
   },
   "outputs": [],
   "source": [
    "#nltk.word_tokenize(scan_data1[1])"
   ]
  },
  {
   "cell_type": "code",
   "execution_count": null,
   "metadata": {
    "id": "6n8-IUY8D_g2"
   },
   "outputs": [],
   "source": [
    "# import string punctuation\n",
    "import string\n",
    "string.punctuation"
   ]
  },
  {
   "cell_type": "code",
   "execution_count": null,
   "metadata": {
    "id": "vXDy9X6cH_nh"
   },
   "outputs": [],
   "source": []
  },
  {
   "cell_type": "code",
   "execution_count": null,
   "metadata": {
    "id": "YTposSf5IPM2"
   },
   "outputs": [],
   "source": [
    "len(cleanup_text(scan_data1[1]))"
   ]
  },
  {
   "cell_type": "code",
   "execution_count": null,
   "metadata": {
    "id": "xoBpboDfIZjm"
   },
   "outputs": [],
   "source": [
    "scan_data"
   ]
  }
 ],
 "metadata": {
  "colab": {
   "name": "jovian-ml-project.ipynb",
   "version": ""
  },
  "kernelspec": {
   "display_name": "Python 3",
   "language": "python",
   "name": "python3"
  },
  "language_info": {
   "codemirror_mode": {
    "name": "ipython",
    "version": 3
   },
   "file_extension": ".py",
   "mimetype": "text/x-python",
   "name": "python",
   "nbconvert_exporter": "python",
   "pygments_lexer": "ipython3",
   "version": "3.7.6"
  }
 },
 "nbformat": 4,
 "nbformat_minor": 1
}
