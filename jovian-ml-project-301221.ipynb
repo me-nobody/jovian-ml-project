{
 "cells": [
  {
   "cell_type": "markdown",
   "metadata": {
    "id": "z4XIJ7_c_mzW"
   },
   "source": [
    "# Classification of Cancer associated Mutations from Literature using Machine Learning\n",
    "\n",
    "Use the \"Run\" button to execute the code."
   ]
  },
  {
   "cell_type": "code",
   "execution_count": 2,
   "metadata": {
    "executionInfo": {
     "elapsed": 2553,
     "status": "ok",
     "timestamp": 1638285773553,
     "user": {
      "displayName": "Anubrata Das",
      "photoUrl": "https://lh3.googleusercontent.com/a-/AOh14GiI2340pPpSj6e4aG_4urL4HRwW3MRXEf5aoo2_QA=s64",
      "userId": "08781375266004215524"
     },
     "user_tz": -330
    },
    "id": "6jgqXjvi_mzZ"
   },
   "outputs": [
    {
     "name": "stdout",
     "output_type": "stream",
     "text": [
      "Note: you may need to restart the kernel to use updated packages.\n"
     ]
    },
    {
     "name": "stderr",
     "output_type": "stream",
     "text": [
      "WARNING: Value for scheme.headers does not match. Please report this to <https://github.com/pypa/pip/issues/9617>\n",
      "distutils: C:\\Users\\anubr\\anaconda3\\Include\\UNKNOWN\n",
      "sysconfig: C:\\Users\\anubr\\anaconda3\\Include\n",
      "WARNING: Additional context:\n",
      "user = False\n",
      "home = None\n",
      "root = None\n",
      "prefix = None\n",
      "WARNING: Value for scheme.headers does not match. Please report this to <https://github.com/pypa/pip/issues/9617>\n",
      "distutils: C:\\Users\\anubr\\anaconda3\\Include\\UNKNOWN\n",
      "sysconfig: C:\\Users\\anubr\\anaconda3\\Include\n",
      "WARNING: Additional context:\n",
      "user = False\n",
      "home = None\n",
      "root = None\n",
      "prefix = None\n"
     ]
    }
   ],
   "source": [
    "pip install jovian --upgrade --quiet"
   ]
  },
  {
   "cell_type": "code",
   "execution_count": null,
   "metadata": {
    "executionInfo": {
     "elapsed": 47,
     "status": "ok",
     "timestamp": 1638285773553,
     "user": {
      "displayName": "Anubrata Das",
      "photoUrl": "https://lh3.googleusercontent.com/a-/AOh14GiI2340pPpSj6e4aG_4urL4HRwW3MRXEf5aoo2_QA=s64",
      "userId": "08781375266004215524"
     },
     "user_tz": -330
    },
    "id": "BcrwI4VL_mze"
   },
   "outputs": [],
   "source": []
  },
  {
   "cell_type": "code",
   "execution_count": 3,
   "metadata": {
    "colab": {
     "base_uri": "https://localhost:8080/",
     "height": 125
    },
    "executionInfo": {
     "elapsed": 9427,
     "status": "ok",
     "timestamp": 1638285782935,
     "user": {
      "displayName": "Anubrata Das",
      "photoUrl": "https://lh3.googleusercontent.com/a-/AOh14GiI2340pPpSj6e4aG_4urL4HRwW3MRXEf5aoo2_QA=s64",
      "userId": "08781375266004215524"
     },
     "user_tz": -330
    },
    "id": "7gTXlkwu_mzf",
    "outputId": "3c4f1679-22fc-496e-bbd7-ce778f5dc86a"
   },
   "outputs": [
    {
     "data": {
      "application/javascript": [
       "window.require && require([\"base/js/namespace\"],function(Jupyter){Jupyter.notebook.save_checkpoint()})"
      ],
      "text/plain": [
       "<IPython.core.display.Javascript object>"
      ]
     },
     "metadata": {},
     "output_type": "display_data"
    },
    {
     "name": "stdout",
     "output_type": "stream",
     "text": [
      "[jovian] Updating notebook \"anubratadas/jovian-ml-project-rough\" on https://jovian.ai/\n",
      "[jovian] Committed successfully! https://jovian.ai/anubratadas/jovian-ml-project-rough\n"
     ]
    },
    {
     "data": {
      "text/plain": [
       "'https://jovian.ai/anubratadas/jovian-ml-project-rough'"
      ]
     },
     "execution_count": 3,
     "metadata": {},
     "output_type": "execute_result"
    }
   ],
   "source": [
    "# Execute this to save new versions of the notebook\n",
    "jovian.commit(project=\"jovian-ml-project\",filename=\"jovian-ml-project\")"
   ]
  },
  {
   "cell_type": "markdown",
   "metadata": {},
   "source": [
    "### <font color='green'>Import the essential libraries</font>"
   ]
  },
  {
   "cell_type": "code",
   "execution_count": 4,
   "metadata": {
    "executionInfo": {
     "elapsed": 13,
     "status": "ok",
     "timestamp": 1638285789225,
     "user": {
      "displayName": "Anubrata Das",
      "photoUrl": "https://lh3.googleusercontent.com/a-/AOh14GiI2340pPpSj6e4aG_4urL4HRwW3MRXEf5aoo2_QA=s64",
      "userId": "08781375266004215524"
     },
     "user_tz": -330
    },
    "id": "AEM-Rd_A_mzj"
   },
   "outputs": [],
   "source": [
    "import jovian\n",
    "import pandas as pd\n",
    "import numpy as np\n",
    "import matplotlib.pyplot as plt\n",
    "import requests\n",
    "import xml.etree.ElementTree as ET\n",
    "import time\n",
    "import re\n",
    "from tqdm import tqdm\n",
    "%matplotlib inline"
   ]
  },
  {
   "cell_type": "code",
   "execution_count": 5,
   "metadata": {
    "executionInfo": {
     "elapsed": 12,
     "status": "ok",
     "timestamp": 1638285789226,
     "user": {
      "displayName": "Anubrata Das",
      "photoUrl": "https://lh3.googleusercontent.com/a-/AOh14GiI2340pPpSj6e4aG_4urL4HRwW3MRXEf5aoo2_QA=s64",
      "userId": "08781375266004215524"
     },
     "user_tz": -330
    },
    "id": "lv5xwSHT_mzk"
   },
   "outputs": [],
   "source": [
    "pd.set_option('display.max_columns', None)\n",
    "pd.set_option('display.max_rows', None)\n",
    "import warnings\n",
    "warnings.simplefilter(action='ignore')"
   ]
  },
  {
   "cell_type": "code",
   "execution_count": 6,
   "metadata": {},
   "outputs": [],
   "source": [
    "tqdm.pandas(desc=\"progress bar\")"
   ]
  },
  {
   "cell_type": "markdown",
   "metadata": {},
   "source": [
    " ### <font style=\"font-size:18px;font-family:arial;color:green;text-indent:100px;line-height: 0.8;word-spacing: 10px\"> A cancerous tissue can have thousands of genetic mutations (Variations), which are discovered using genome sequencing. But the challenge is distinguishing the mutations that contribute to tumor growth (drivers) from the neutral mutations (passengers). Currently this interpretation of genetic mutations is being done manually. This is a very time-consuming task where a clinical pathologist has to manually review and classify every single genetic mutation based on evidence from text-based clinical literature. For this competition MSKCC is making available an expert-annotated knowledge base where world-class researchers and oncologists have manually annotated thousands of mutations. MSKCC intends the Data scientist to develop a Machine Learning algorithm that, using this knowledge base as a baseline, automatically classifies genetic variations.</font>"
   ]
  },
  {
   "cell_type": "markdown",
   "metadata": {},
   "source": [
    "<a id='top'>**Beginning of Notebook**</a>"
   ]
  },
  {
   "cell_type": "markdown",
   "metadata": {},
   "source": [
    "[model train text data](#train_data)"
   ]
  },
  {
   "cell_type": "markdown",
   "metadata": {},
   "source": [
    "### <font color='green'>Exploratory Data Analysis</font>"
   ]
  },
  {
   "cell_type": "markdown",
   "metadata": {},
   "source": [
    "###  references\n",
    "  - https://github.com/ghostintheshellarise/2021HackForRare\n",
    "  - https://widdowquinn.github.io/2018-03-06-ibioic/02-sequence_databases/09-KEGG_programming.html\n",
    "  - https://bioservices.readthedocs.io/en/master/kegg_tutorial.html\n",
    "  - https://bioservices.readthedocs.io/en/master/index.html"
   ]
  },
  {
   "cell_type": "markdown",
   "metadata": {},
   "source": [
    "#### train data"
   ]
  },
  {
   "cell_type": "code",
   "execution_count": 7,
   "metadata": {},
   "outputs": [],
   "source": [
    "train_text_df = pd.read_csv('training_text.zip', sep=\"\\|\\|\", encoding=\"utf-8\",engine=\"python\", skiprows=1, names=[\"ID\", \"Text\"],compression='zip')"
   ]
  },
  {
   "cell_type": "code",
   "execution_count": 8,
   "metadata": {},
   "outputs": [],
   "source": [
    "train_variant_df = pd.read_csv('training_variants.zip',compression='zip')"
   ]
  },
  {
   "cell_type": "code",
   "execution_count": 9,
   "metadata": {},
   "outputs": [
    {
     "data": {
      "text/plain": [
       "((3321, 2), (3321, 4))"
      ]
     },
     "execution_count": 9,
     "metadata": {},
     "output_type": "execute_result"
    }
   ],
   "source": [
    "train_text_df.shape, train_variant_df.shape"
   ]
  },
  {
   "cell_type": "code",
   "execution_count": 10,
   "metadata": {},
   "outputs": [
    {
     "data": {
      "text/plain": [
       "(Index(['ID', 'Text'], dtype='object'),\n",
       " Index(['ID', 'Gene', 'Variation', 'Class'], dtype='object'))"
      ]
     },
     "execution_count": 10,
     "metadata": {},
     "output_type": "execute_result"
    }
   ],
   "source": [
    "train_text_df.columns, train_variant_df.columns"
   ]
  },
  {
   "cell_type": "code",
   "execution_count": 11,
   "metadata": {},
   "outputs": [],
   "source": [
    "# merging the text and variation data\n",
    "train_df = pd.merge(train_variant_df,train_text_df,on='ID')"
   ]
  },
  {
   "cell_type": "code",
   "execution_count": 12,
   "metadata": {},
   "outputs": [
    {
     "data": {
      "text/plain": [
       "(3321, 5)"
      ]
     },
     "execution_count": 12,
     "metadata": {},
     "output_type": "execute_result"
    }
   ],
   "source": [
    "train_df.shape"
   ]
  },
  {
   "cell_type": "code",
   "execution_count": 13,
   "metadata": {},
   "outputs": [],
   "source": [
    "# taking a sample of the dataset\n",
    "train_df = train_df.sample(frac=0.4,random_state=222)"
   ]
  },
  {
   "cell_type": "markdown",
   "metadata": {},
   "source": [
    "We have taken a sample of the training data"
   ]
  },
  {
   "cell_type": "code",
   "execution_count": 14,
   "metadata": {},
   "outputs": [
    {
     "data": {
      "text/html": [
       "<div>\n",
       "<style scoped>\n",
       "    .dataframe tbody tr th:only-of-type {\n",
       "        vertical-align: middle;\n",
       "    }\n",
       "\n",
       "    .dataframe tbody tr th {\n",
       "        vertical-align: top;\n",
       "    }\n",
       "\n",
       "    .dataframe thead th {\n",
       "        text-align: right;\n",
       "    }\n",
       "</style>\n",
       "<table border=\"1\" class=\"dataframe\">\n",
       "  <thead>\n",
       "    <tr style=\"text-align: right;\">\n",
       "      <th></th>\n",
       "      <th>ID</th>\n",
       "      <th>Gene</th>\n",
       "      <th>Variation</th>\n",
       "      <th>Class</th>\n",
       "      <th>Text</th>\n",
       "    </tr>\n",
       "  </thead>\n",
       "  <tbody>\n",
       "    <tr>\n",
       "      <th>1708</th>\n",
       "      <td>1708</td>\n",
       "      <td>POLE</td>\n",
       "      <td>S459del</td>\n",
       "      <td>1</td>\n",
       "      <td>Tumors with somatic mutations in the proofread...</td>\n",
       "    </tr>\n",
       "    <tr>\n",
       "      <th>2201</th>\n",
       "      <td>2201</td>\n",
       "      <td>PTEN</td>\n",
       "      <td>D92A</td>\n",
       "      <td>4</td>\n",
       "      <td>The PTEN (phosphatase and tensin homolog) phos...</td>\n",
       "    </tr>\n",
       "    <tr>\n",
       "      <th>84</th>\n",
       "      <td>84</td>\n",
       "      <td>RIT1</td>\n",
       "      <td>A77T</td>\n",
       "      <td>2</td>\n",
       "      <td>Abstract RASopathies are autosomal dominant d...</td>\n",
       "    </tr>\n",
       "    <tr>\n",
       "      <th>1985</th>\n",
       "      <td>1985</td>\n",
       "      <td>CTNNB1</td>\n",
       "      <td>I35S</td>\n",
       "      <td>7</td>\n",
       "      <td>To understand the nature and roles of mutated ...</td>\n",
       "    </tr>\n",
       "    <tr>\n",
       "      <th>2985</th>\n",
       "      <td>2985</td>\n",
       "      <td>KIT</td>\n",
       "      <td>W557R</td>\n",
       "      <td>7</td>\n",
       "      <td>Purpose: Somatic mutations that result in the ...</td>\n",
       "    </tr>\n",
       "  </tbody>\n",
       "</table>\n",
       "</div>"
      ],
      "text/plain": [
       "        ID    Gene Variation  Class  \\\n",
       "1708  1708    POLE   S459del      1   \n",
       "2201  2201    PTEN      D92A      4   \n",
       "84      84    RIT1      A77T      2   \n",
       "1985  1985  CTNNB1      I35S      7   \n",
       "2985  2985     KIT     W557R      7   \n",
       "\n",
       "                                                   Text  \n",
       "1708  Tumors with somatic mutations in the proofread...  \n",
       "2201  The PTEN (phosphatase and tensin homolog) phos...  \n",
       "84     Abstract RASopathies are autosomal dominant d...  \n",
       "1985  To understand the nature and roles of mutated ...  \n",
       "2985  Purpose: Somatic mutations that result in the ...  "
      ]
     },
     "execution_count": 14,
     "metadata": {},
     "output_type": "execute_result"
    }
   ],
   "source": [
    "train_df.head()"
   ]
  },
  {
   "cell_type": "markdown",
   "metadata": {},
   "source": [
    "### <font style=\"font-size:18px;font-family:arial;color:green;text-indent:100px;line-height: 0.8;word-spacing: 10px\"><i>Gene</i> is a stretch of DNA encoding a specific function. Variation is <i>Mutation</i>,  which changes the function. The first alphabet is the orginal amino acid, the number is the physical position in the gene where the change has occured and the last alphabet is the changed amino acid. The Text contains the information for the Gene, the Variation and the reason for the Class </font>"
   ]
  },
  {
   "cell_type": "markdown",
   "metadata": {},
   "source": [
    "#### top 10 mutated genes"
   ]
  },
  {
   "cell_type": "code",
   "execution_count": 15,
   "metadata": {},
   "outputs": [
    {
     "data": {
      "text/plain": [
       "Gene\n",
       "BRCA1     101\n",
       "TP53       69\n",
       "EGFR       56\n",
       "BRCA2      56\n",
       "PTEN       52\n",
       "KIT        45\n",
       "BRAF       40\n",
       "ALK        28\n",
       "PDGFRA     27\n",
       "ERBB2      27\n",
       "Name: Variation, dtype: int64"
      ]
     },
     "execution_count": 15,
     "metadata": {},
     "output_type": "execute_result"
    }
   ],
   "source": [
    "# top 10 mutated genes\n",
    "train_df.groupby('Gene')['Variation'].aggregate(\"count\").sort_values(ascending=False).head(n=10)"
   ]
  },
  {
   "cell_type": "code",
   "execution_count": 154,
   "metadata": {},
   "outputs": [],
   "source": [
    "mutated_genes=train_df['Gene'].to_list()"
   ]
  },
  {
   "cell_type": "markdown",
   "metadata": {},
   "source": [
    "### Importing Biopython library for pathway analysis"
   ]
  },
  {
   "cell_type": "code",
   "execution_count": 155,
   "metadata": {},
   "outputs": [
    {
     "ename": "ModuleNotFoundError",
     "evalue": "No module named 'Bio'",
     "output_type": "error",
     "traceback": [
      "\u001b[1;31m---------------------------------------------------------------------------\u001b[0m",
      "\u001b[1;31mModuleNotFoundError\u001b[0m                       Traceback (most recent call last)",
      "\u001b[1;32m<ipython-input-155-1d2a9ca9912f>\u001b[0m in \u001b[0;36m<module>\u001b[1;34m\u001b[0m\n\u001b[1;32m----> 1\u001b[1;33m \u001b[1;32mfrom\u001b[0m \u001b[0mBio\u001b[0m \u001b[1;32mimport\u001b[0m \u001b[0mSeqIO\u001b[0m\u001b[1;33m\u001b[0m\u001b[1;33m\u001b[0m\u001b[0m\n\u001b[0m\u001b[0;32m      2\u001b[0m \u001b[1;32mfrom\u001b[0m \u001b[0mBio\u001b[0m\u001b[1;33m.\u001b[0m\u001b[0mKEGG\u001b[0m \u001b[1;32mimport\u001b[0m \u001b[0mREST\u001b[0m\u001b[1;33m\u001b[0m\u001b[1;33m\u001b[0m\u001b[0m\n\u001b[0;32m      3\u001b[0m \u001b[1;32mfrom\u001b[0m \u001b[0mbioservices\u001b[0m\u001b[1;33m.\u001b[0m\u001b[0mkegg\u001b[0m \u001b[1;32mimport\u001b[0m \u001b[0mKEGG\u001b[0m\u001b[1;33m\u001b[0m\u001b[1;33m\u001b[0m\u001b[0m\n\u001b[0;32m      4\u001b[0m \u001b[1;32mfrom\u001b[0m \u001b[0mcollections\u001b[0m \u001b[1;32mimport\u001b[0m \u001b[0mdeque\u001b[0m\u001b[1;33m\u001b[0m\u001b[1;33m\u001b[0m\u001b[0m\n\u001b[0;32m      5\u001b[0m \u001b[1;32mimport\u001b[0m \u001b[0mnetworkx\u001b[0m \u001b[1;32mas\u001b[0m \u001b[0mnx\u001b[0m\u001b[1;33m\u001b[0m\u001b[1;33m\u001b[0m\u001b[0m\n",
      "\u001b[1;31mModuleNotFoundError\u001b[0m: No module named 'Bio'"
     ]
    }
   ],
   "source": [
    "from Bio import SeqIO\n",
    "from Bio.KEGG import REST\n",
    "from bioservices.kegg import KEGG\n",
    "from collections import deque\n",
    "import networkx as nx\n",
    "from IPython.display import Image\n",
    "import time\n",
    "import io\n",
    "import os\n",
    "from itertools import chain"
   ]
  },
  {
   "cell_type": "markdown",
   "metadata": {},
   "source": [
    "#### distribution of classes in the dataset"
   ]
  },
  {
   "cell_type": "code",
   "execution_count": 16,
   "metadata": {},
   "outputs": [
    {
     "data": {
      "text/plain": [
       "<AxesSubplot:xlabel='Class'>"
      ]
     },
     "execution_count": 16,
     "metadata": {},
     "output_type": "execute_result"
    },
    {
     "data": {
      "image/png": "[encoded data removed]",
      "text/plain": [
       "<Figure size 432x288 with 1 Axes>"
      ]
     },
     "metadata": {
      "needs_background": "light"
     },
     "output_type": "display_data"
    }
   ],
   "source": [
    "train_df.value_counts('Class').plot(kind='bar')"
   ]
  },
  {
   "cell_type": "markdown",
   "metadata": {},
   "source": [
    "### <font color='blue'>The mutations are distributed into 9 classes from class 1 to class 9.The distribution of the classes is imbalanced </font>"
   ]
  },
  {
   "cell_type": "markdown",
   "metadata": {},
   "source": [
    "### <font color='green'> Let us study the mutations of BRCA1, the most highly mutated gene with respect to the classification</font>"
   ]
  },
  {
   "cell_type": "code",
   "execution_count": 17,
   "metadata": {},
   "outputs": [
    {
     "data": {
      "text/plain": [
       "101"
      ]
     },
     "execution_count": 17,
     "metadata": {},
     "output_type": "execute_result"
    }
   ],
   "source": [
    "train_df[train_df['Gene'] == 'BRCA1']['Variation'].nunique()"
   ]
  },
  {
   "cell_type": "code",
   "execution_count": 18,
   "metadata": {},
   "outputs": [
    {
     "data": {
      "text/plain": [
       "5"
      ]
     },
     "execution_count": 18,
     "metadata": {},
     "output_type": "execute_result"
    }
   ],
   "source": [
    "train_df[train_df['Gene'] == 'BRCA1']['Class'].nunique()"
   ]
  },
  {
   "cell_type": "code",
   "execution_count": 19,
   "metadata": {},
   "outputs": [
    {
     "data": {
      "text/plain": [
       "Class\n",
       "1    21\n",
       "3     3\n",
       "4    22\n",
       "5    36\n",
       "6    19\n",
       "Name: Variation, dtype: int64"
      ]
     },
     "execution_count": 19,
     "metadata": {},
     "output_type": "execute_result"
    }
   ],
   "source": [
    "train_df[train_df['Gene'] == 'BRCA1'].groupby('Class')['Variation'].count()"
   ]
  },
  {
   "cell_type": "markdown",
   "metadata": {},
   "source": [
    "### <font color='green'> 101 mutations (Variations) are classified into 5 classes with most mutations in class 5 and least mutations in class 3</font>"
   ]
  },
  {
   "cell_type": "code",
   "execution_count": 20,
   "metadata": {},
   "outputs": [],
   "source": [
    "class_5=train_df[(train_df['Gene'] == 'BRCA1') & (train_df['Class']== 5)]\n",
    "class_5['Text']=class_5['Text'].map(lambda x:x[:80])"
   ]
  },
  {
   "cell_type": "code",
   "execution_count": 21,
   "metadata": {},
   "outputs": [],
   "source": [
    "class_5.reset_index(inplace=True,drop=True)"
   ]
  },
  {
   "cell_type": "code",
   "execution_count": 22,
   "metadata": {},
   "outputs": [
    {
     "data": {
      "text/html": [
       "<div>\n",
       "<style scoped>\n",
       "    .dataframe tbody tr th:only-of-type {\n",
       "        vertical-align: middle;\n",
       "    }\n",
       "\n",
       "    .dataframe tbody tr th {\n",
       "        vertical-align: top;\n",
       "    }\n",
       "\n",
       "    .dataframe thead th {\n",
       "        text-align: right;\n",
       "    }\n",
       "</style>\n",
       "<table border=\"1\" class=\"dataframe\">\n",
       "  <thead>\n",
       "    <tr style=\"text-align: right;\">\n",
       "      <th></th>\n",
       "      <th>ID</th>\n",
       "      <th>Gene</th>\n",
       "      <th>Variation</th>\n",
       "      <th>Class</th>\n",
       "      <th>Text</th>\n",
       "    </tr>\n",
       "  </thead>\n",
       "  <tbody>\n",
       "    <tr>\n",
       "      <th>0</th>\n",
       "      <td>2661</td>\n",
       "      <td>BRCA1</td>\n",
       "      <td>S1613C</td>\n",
       "      <td>5</td>\n",
       "      <td>Abstract Germline mutations that inactivate B...</td>\n",
       "    </tr>\n",
       "    <tr>\n",
       "      <th>1</th>\n",
       "      <td>2460</td>\n",
       "      <td>BRCA1</td>\n",
       "      <td>R170W</td>\n",
       "      <td>5</td>\n",
       "      <td>Mutations in BRCA1 and BRCA2 account for the m...</td>\n",
       "    </tr>\n",
       "    <tr>\n",
       "      <th>2</th>\n",
       "      <td>2558</td>\n",
       "      <td>BRCA1</td>\n",
       "      <td>P1806A</td>\n",
       "      <td>5</td>\n",
       "      <td>ABSTRACT Germline mutations that inactivate th...</td>\n",
       "    </tr>\n",
       "    <tr>\n",
       "      <th>3</th>\n",
       "      <td>2618</td>\n",
       "      <td>BRCA1</td>\n",
       "      <td>C1787S</td>\n",
       "      <td>5</td>\n",
       "      <td>Abstract  The BRCA1 gene from individuals at ...</td>\n",
       "    </tr>\n",
       "    <tr>\n",
       "      <th>4</th>\n",
       "      <td>2468</td>\n",
       "      <td>BRCA1</td>\n",
       "      <td>E362H</td>\n",
       "      <td>5</td>\n",
       "      <td>Mutations in BRCA1 and BRCA2 account for the m...</td>\n",
       "    </tr>\n",
       "    <tr>\n",
       "      <th>5</th>\n",
       "      <td>2673</td>\n",
       "      <td>BRCA1</td>\n",
       "      <td>S1473P</td>\n",
       "      <td>5</td>\n",
       "      <td>Abstract Germline inactivating mutations in B...</td>\n",
       "    </tr>\n",
       "    <tr>\n",
       "      <th>6</th>\n",
       "      <td>2472</td>\n",
       "      <td>BRCA1</td>\n",
       "      <td>L358R</td>\n",
       "      <td>5</td>\n",
       "      <td>Mutations in BRCA1 and BRCA2 account for the m...</td>\n",
       "    </tr>\n",
       "    <tr>\n",
       "      <th>7</th>\n",
       "      <td>2502</td>\n",
       "      <td>BRCA1</td>\n",
       "      <td>A1789S</td>\n",
       "      <td>5</td>\n",
       "      <td>Genetic screening of the breast and ovarian ca...</td>\n",
       "    </tr>\n",
       "    <tr>\n",
       "      <th>8</th>\n",
       "      <td>2423</td>\n",
       "      <td>BRCA1</td>\n",
       "      <td>A1830T</td>\n",
       "      <td>5</td>\n",
       "      <td>Genetic screening of the breast and ovarian ca...</td>\n",
       "    </tr>\n",
       "    <tr>\n",
       "      <th>9</th>\n",
       "      <td>2663</td>\n",
       "      <td>BRCA1</td>\n",
       "      <td>P1614S</td>\n",
       "      <td>5</td>\n",
       "      <td>Germ line inactivating mutations in BRCA1 conf...</td>\n",
       "    </tr>\n",
       "    <tr>\n",
       "      <th>10</th>\n",
       "      <td>2607</td>\n",
       "      <td>BRCA1</td>\n",
       "      <td>M1775V</td>\n",
       "      <td>5</td>\n",
       "      <td>Abstract  The BRCA1 gene from individuals at ...</td>\n",
       "    </tr>\n",
       "    <tr>\n",
       "      <th>11</th>\n",
       "      <td>2605</td>\n",
       "      <td>BRCA1</td>\n",
       "      <td>V1665M</td>\n",
       "      <td>5</td>\n",
       "      <td>Abstract  The BRCA1 gene from individuals at ...</td>\n",
       "    </tr>\n",
       "    <tr>\n",
       "      <th>12</th>\n",
       "      <td>2555</td>\n",
       "      <td>BRCA1</td>\n",
       "      <td>A1669S</td>\n",
       "      <td>5</td>\n",
       "      <td>Abstract  The BRCA1 gene from individuals at ...</td>\n",
       "    </tr>\n",
       "    <tr>\n",
       "      <th>13</th>\n",
       "      <td>2571</td>\n",
       "      <td>BRCA1</td>\n",
       "      <td>S1297del</td>\n",
       "      <td>5</td>\n",
       "      <td>Mutations in BRCA1 and BRCA2 account for the m...</td>\n",
       "    </tr>\n",
       "    <tr>\n",
       "      <th>14</th>\n",
       "      <td>2628</td>\n",
       "      <td>BRCA1</td>\n",
       "      <td>L1267S</td>\n",
       "      <td>5</td>\n",
       "      <td>Mutations in BRCA1 and BRCA2 account for the m...</td>\n",
       "    </tr>\n",
       "    <tr>\n",
       "      <th>15</th>\n",
       "      <td>2488</td>\n",
       "      <td>BRCA1</td>\n",
       "      <td>W1782C</td>\n",
       "      <td>5</td>\n",
       "      <td>Mutations in BRCA1 and BRCA2 account for the m...</td>\n",
       "    </tr>\n",
       "    <tr>\n",
       "      <th>16</th>\n",
       "      <td>2643</td>\n",
       "      <td>BRCA1</td>\n",
       "      <td>Q1826H</td>\n",
       "      <td>5</td>\n",
       "      <td>Abstract Germline mutations that inactivate B...</td>\n",
       "    </tr>\n",
       "    <tr>\n",
       "      <th>17</th>\n",
       "      <td>2561</td>\n",
       "      <td>BRCA1</td>\n",
       "      <td>S1140G</td>\n",
       "      <td>5</td>\n",
       "      <td>Mutations in BRCA1 and BRCA2 account for the m...</td>\n",
       "    </tr>\n",
       "    <tr>\n",
       "      <th>18</th>\n",
       "      <td>2466</td>\n",
       "      <td>BRCA1</td>\n",
       "      <td>L147F</td>\n",
       "      <td>5</td>\n",
       "      <td>Mutations in BRCA1 and BRCA2 account for the m...</td>\n",
       "    </tr>\n",
       "    <tr>\n",
       "      <th>19</th>\n",
       "      <td>2532</td>\n",
       "      <td>BRCA1</td>\n",
       "      <td>N1647K</td>\n",
       "      <td>5</td>\n",
       "      <td>Genetic screening of the breast and ovarian ca...</td>\n",
       "    </tr>\n",
       "    <tr>\n",
       "      <th>20</th>\n",
       "      <td>2666</td>\n",
       "      <td>BRCA1</td>\n",
       "      <td>P1812R</td>\n",
       "      <td>5</td>\n",
       "      <td>Mutations in BRCA1 and BRCA2 account for the m...</td>\n",
       "    </tr>\n",
       "    <tr>\n",
       "      <th>21</th>\n",
       "      <td>2647</td>\n",
       "      <td>BRCA1</td>\n",
       "      <td>S1301R</td>\n",
       "      <td>5</td>\n",
       "      <td>Mutations in BRCA1 and BRCA2 account for the m...</td>\n",
       "    </tr>\n",
       "    <tr>\n",
       "      <th>22</th>\n",
       "      <td>2495</td>\n",
       "      <td>BRCA1</td>\n",
       "      <td>E1682V</td>\n",
       "      <td>5</td>\n",
       "      <td>Genetic screening of the breast and ovarian ca...</td>\n",
       "    </tr>\n",
       "    <tr>\n",
       "      <th>23</th>\n",
       "      <td>2498</td>\n",
       "      <td>BRCA1</td>\n",
       "      <td>R496C</td>\n",
       "      <td>5</td>\n",
       "      <td>A significant proportion of inherited breast c...</td>\n",
       "    </tr>\n",
       "    <tr>\n",
       "      <th>24</th>\n",
       "      <td>2608</td>\n",
       "      <td>BRCA1</td>\n",
       "      <td>R1589H</td>\n",
       "      <td>5</td>\n",
       "      <td>Abstract Germline inactivating mutations in B...</td>\n",
       "    </tr>\n",
       "    <tr>\n",
       "      <th>25</th>\n",
       "      <td>2553</td>\n",
       "      <td>BRCA1</td>\n",
       "      <td>D1778N</td>\n",
       "      <td>5</td>\n",
       "      <td>Abstract  The BRCA1 gene from individuals at ...</td>\n",
       "    </tr>\n",
       "    <tr>\n",
       "      <th>26</th>\n",
       "      <td>2604</td>\n",
       "      <td>BRCA1</td>\n",
       "      <td>E1214K</td>\n",
       "      <td>5</td>\n",
       "      <td>Mutations in BRCA1 and BRCA2 account for the m...</td>\n",
       "    </tr>\n",
       "    <tr>\n",
       "      <th>27</th>\n",
       "      <td>2467</td>\n",
       "      <td>BRCA1</td>\n",
       "      <td>H1421Y</td>\n",
       "      <td>5</td>\n",
       "      <td>BRCA1 is a tumour suppressor with pleiotropic ...</td>\n",
       "    </tr>\n",
       "    <tr>\n",
       "      <th>28</th>\n",
       "      <td>2662</td>\n",
       "      <td>BRCA1</td>\n",
       "      <td>L668F</td>\n",
       "      <td>5</td>\n",
       "      <td>Mutations in BRCA1 and BRCA2 account for the m...</td>\n",
       "    </tr>\n",
       "    <tr>\n",
       "      <th>29</th>\n",
       "      <td>2541</td>\n",
       "      <td>BRCA1</td>\n",
       "      <td>V1809A</td>\n",
       "      <td>5</td>\n",
       "      <td>Abstract  The BRCA1 gene from individuals at ...</td>\n",
       "    </tr>\n",
       "    <tr>\n",
       "      <th>30</th>\n",
       "      <td>2512</td>\n",
       "      <td>BRCA1</td>\n",
       "      <td>E1586G</td>\n",
       "      <td>5</td>\n",
       "      <td>Abstract Germline inactivating mutations in B...</td>\n",
       "    </tr>\n",
       "    <tr>\n",
       "      <th>31</th>\n",
       "      <td>2531</td>\n",
       "      <td>BRCA1</td>\n",
       "      <td>S1497A</td>\n",
       "      <td>5</td>\n",
       "      <td>Mutations in BRCA1 and BRCA2 account for the m...</td>\n",
       "    </tr>\n",
       "    <tr>\n",
       "      <th>32</th>\n",
       "      <td>2536</td>\n",
       "      <td>BRCA1</td>\n",
       "      <td>L165P</td>\n",
       "      <td>5</td>\n",
       "      <td>Mutations in BRCA1 and BRCA2 account for the m...</td>\n",
       "    </tr>\n",
       "    <tr>\n",
       "      <th>33</th>\n",
       "      <td>2602</td>\n",
       "      <td>BRCA1</td>\n",
       "      <td>M1008I</td>\n",
       "      <td>5</td>\n",
       "      <td>Mutations in BRCA1 and BRCA2 account for the m...</td>\n",
       "    </tr>\n",
       "    <tr>\n",
       "      <th>34</th>\n",
       "      <td>2528</td>\n",
       "      <td>BRCA1</td>\n",
       "      <td>N550H</td>\n",
       "      <td>5</td>\n",
       "      <td>ABSTRACT: The BRCA1 tumor suppressor gene is f...</td>\n",
       "    </tr>\n",
       "    <tr>\n",
       "      <th>35</th>\n",
       "      <td>2611</td>\n",
       "      <td>BRCA1</td>\n",
       "      <td>V1808A</td>\n",
       "      <td>5</td>\n",
       "      <td>ABSTRACT Germline mutations that inactivate th...</td>\n",
       "    </tr>\n",
       "  </tbody>\n",
       "</table>\n",
       "</div>"
      ],
      "text/plain": [
       "      ID   Gene Variation  Class  \\\n",
       "0   2661  BRCA1    S1613C      5   \n",
       "1   2460  BRCA1     R170W      5   \n",
       "2   2558  BRCA1    P1806A      5   \n",
       "3   2618  BRCA1    C1787S      5   \n",
       "4   2468  BRCA1     E362H      5   \n",
       "5   2673  BRCA1    S1473P      5   \n",
       "6   2472  BRCA1     L358R      5   \n",
       "7   2502  BRCA1    A1789S      5   \n",
       "8   2423  BRCA1    A1830T      5   \n",
       "9   2663  BRCA1    P1614S      5   \n",
       "10  2607  BRCA1    M1775V      5   \n",
       "11  2605  BRCA1    V1665M      5   \n",
       "12  2555  BRCA1    A1669S      5   \n",
       "13  2571  BRCA1  S1297del      5   \n",
       "14  2628  BRCA1    L1267S      5   \n",
       "15  2488  BRCA1    W1782C      5   \n",
       "16  2643  BRCA1    Q1826H      5   \n",
       "17  2561  BRCA1    S1140G      5   \n",
       "18  2466  BRCA1     L147F      5   \n",
       "19  2532  BRCA1    N1647K      5   \n",
       "20  2666  BRCA1    P1812R      5   \n",
       "21  2647  BRCA1    S1301R      5   \n",
       "22  2495  BRCA1    E1682V      5   \n",
       "23  2498  BRCA1     R496C      5   \n",
       "24  2608  BRCA1    R1589H      5   \n",
       "25  2553  BRCA1    D1778N      5   \n",
       "26  2604  BRCA1    E1214K      5   \n",
       "27  2467  BRCA1    H1421Y      5   \n",
       "28  2662  BRCA1     L668F      5   \n",
       "29  2541  BRCA1    V1809A      5   \n",
       "30  2512  BRCA1    E1586G      5   \n",
       "31  2531  BRCA1    S1497A      5   \n",
       "32  2536  BRCA1     L165P      5   \n",
       "33  2602  BRCA1    M1008I      5   \n",
       "34  2528  BRCA1     N550H      5   \n",
       "35  2611  BRCA1    V1808A      5   \n",
       "\n",
       "                                                 Text  \n",
       "0    Abstract Germline mutations that inactivate B...  \n",
       "1   Mutations in BRCA1 and BRCA2 account for the m...  \n",
       "2   ABSTRACT Germline mutations that inactivate th...  \n",
       "3    Abstract  The BRCA1 gene from individuals at ...  \n",
       "4   Mutations in BRCA1 and BRCA2 account for the m...  \n",
       "5    Abstract Germline inactivating mutations in B...  \n",
       "6   Mutations in BRCA1 and BRCA2 account for the m...  \n",
       "7   Genetic screening of the breast and ovarian ca...  \n",
       "8   Genetic screening of the breast and ovarian ca...  \n",
       "9   Germ line inactivating mutations in BRCA1 conf...  \n",
       "10   Abstract  The BRCA1 gene from individuals at ...  \n",
       "11   Abstract  The BRCA1 gene from individuals at ...  \n",
       "12   Abstract  The BRCA1 gene from individuals at ...  \n",
       "13  Mutations in BRCA1 and BRCA2 account for the m...  \n",
       "14  Mutations in BRCA1 and BRCA2 account for the m...  \n",
       "15  Mutations in BRCA1 and BRCA2 account for the m...  \n",
       "16   Abstract Germline mutations that inactivate B...  \n",
       "17  Mutations in BRCA1 and BRCA2 account for the m...  \n",
       "18  Mutations in BRCA1 and BRCA2 account for the m...  \n",
       "19  Genetic screening of the breast and ovarian ca...  \n",
       "20  Mutations in BRCA1 and BRCA2 account for the m...  \n",
       "21  Mutations in BRCA1 and BRCA2 account for the m...  \n",
       "22  Genetic screening of the breast and ovarian ca...  \n",
       "23  A significant proportion of inherited breast c...  \n",
       "24   Abstract Germline inactivating mutations in B...  \n",
       "25   Abstract  The BRCA1 gene from individuals at ...  \n",
       "26  Mutations in BRCA1 and BRCA2 account for the m...  \n",
       "27  BRCA1 is a tumour suppressor with pleiotropic ...  \n",
       "28  Mutations in BRCA1 and BRCA2 account for the m...  \n",
       "29   Abstract  The BRCA1 gene from individuals at ...  \n",
       "30   Abstract Germline inactivating mutations in B...  \n",
       "31  Mutations in BRCA1 and BRCA2 account for the m...  \n",
       "32  Mutations in BRCA1 and BRCA2 account for the m...  \n",
       "33  Mutations in BRCA1 and BRCA2 account for the m...  \n",
       "34  ABSTRACT: The BRCA1 tumor suppressor gene is f...  \n",
       "35  ABSTRACT Germline mutations that inactivate th...  "
      ]
     },
     "execution_count": 22,
     "metadata": {},
     "output_type": "execute_result"
    }
   ],
   "source": [
    "class_5"
   ]
  },
  {
   "cell_type": "code",
   "execution_count": 23,
   "metadata": {},
   "outputs": [
    {
     "data": {
      "text/html": [
       "<div>\n",
       "<style scoped>\n",
       "    .dataframe tbody tr th:only-of-type {\n",
       "        vertical-align: middle;\n",
       "    }\n",
       "\n",
       "    .dataframe tbody tr th {\n",
       "        vertical-align: top;\n",
       "    }\n",
       "\n",
       "    .dataframe thead th {\n",
       "        text-align: right;\n",
       "    }\n",
       "</style>\n",
       "<table border=\"1\" class=\"dataframe\">\n",
       "  <thead>\n",
       "    <tr style=\"text-align: right;\">\n",
       "      <th></th>\n",
       "      <th>Text</th>\n",
       "      <th>Gene</th>\n",
       "      <th>Variation</th>\n",
       "    </tr>\n",
       "  </thead>\n",
       "  <tbody>\n",
       "    <tr>\n",
       "      <th>0</th>\n",
       "      <td>Abstract Germline mutations that inactivate B...</td>\n",
       "      <td>BRCA1</td>\n",
       "      <td>2</td>\n",
       "    </tr>\n",
       "    <tr>\n",
       "      <th>1</th>\n",
       "      <td>Mutations in BRCA1 and BRCA2 account for the m...</td>\n",
       "      <td>BRCA1</td>\n",
       "      <td>15</td>\n",
       "    </tr>\n",
       "    <tr>\n",
       "      <th>2</th>\n",
       "      <td>ABSTRACT Germline mutations that inactivate th...</td>\n",
       "      <td>BRCA1</td>\n",
       "      <td>2</td>\n",
       "    </tr>\n",
       "    <tr>\n",
       "      <th>3</th>\n",
       "      <td>Abstract  The BRCA1 gene from individuals at ...</td>\n",
       "      <td>BRCA1</td>\n",
       "      <td>6</td>\n",
       "    </tr>\n",
       "    <tr>\n",
       "      <th>4</th>\n",
       "      <td>Abstract Germline inactivating mutations in B...</td>\n",
       "      <td>BRCA1</td>\n",
       "      <td>3</td>\n",
       "    </tr>\n",
       "    <tr>\n",
       "      <th>5</th>\n",
       "      <td>Genetic screening of the breast and ovarian ca...</td>\n",
       "      <td>BRCA1</td>\n",
       "      <td>4</td>\n",
       "    </tr>\n",
       "    <tr>\n",
       "      <th>6</th>\n",
       "      <td>Germ line inactivating mutations in BRCA1 conf...</td>\n",
       "      <td>BRCA1</td>\n",
       "      <td>1</td>\n",
       "    </tr>\n",
       "    <tr>\n",
       "      <th>7</th>\n",
       "      <td>A significant proportion of inherited breast c...</td>\n",
       "      <td>BRCA1</td>\n",
       "      <td>1</td>\n",
       "    </tr>\n",
       "    <tr>\n",
       "      <th>8</th>\n",
       "      <td>BRCA1 is a tumour suppressor with pleiotropic ...</td>\n",
       "      <td>BRCA1</td>\n",
       "      <td>1</td>\n",
       "    </tr>\n",
       "    <tr>\n",
       "      <th>9</th>\n",
       "      <td>ABSTRACT: The BRCA1 tumor suppressor gene is f...</td>\n",
       "      <td>BRCA1</td>\n",
       "      <td>1</td>\n",
       "    </tr>\n",
       "  </tbody>\n",
       "</table>\n",
       "</div>"
      ],
      "text/plain": [
       "                                                Text   Gene  Variation\n",
       "0   Abstract Germline mutations that inactivate B...  BRCA1          2\n",
       "1  Mutations in BRCA1 and BRCA2 account for the m...  BRCA1         15\n",
       "2  ABSTRACT Germline mutations that inactivate th...  BRCA1          2\n",
       "3   Abstract  The BRCA1 gene from individuals at ...  BRCA1          6\n",
       "4   Abstract Germline inactivating mutations in B...  BRCA1          3\n",
       "5  Genetic screening of the breast and ovarian ca...  BRCA1          4\n",
       "6  Germ line inactivating mutations in BRCA1 conf...  BRCA1          1\n",
       "7  A significant proportion of inherited breast c...  BRCA1          1\n",
       "8  BRCA1 is a tumour suppressor with pleiotropic ...  BRCA1          1\n",
       "9  ABSTRACT: The BRCA1 tumor suppressor gene is f...  BRCA1          1"
      ]
     },
     "execution_count": 23,
     "metadata": {},
     "output_type": "execute_result"
    }
   ],
   "source": [
    "class_5.groupby(['Text','Gene'],sort=False)['Variation'].count().reset_index()"
   ]
  },
  {
   "cell_type": "markdown",
   "metadata": {},
   "source": [
    "### <font style=\"font-size:18px;font-family:arial;color:green;text-indent:100px;line-height:0.8;word-spacing:10px\">What is the relationship of the enlisted mutations (Variation) of a gene and the corresponding 'Text' ? For e.g, for mutations of BCRA1, there are 36 unique mutations assigned to class 5 and the above 10 texts are the basis for it</font>"
   ]
  },
  {
   "cell_type": "code",
   "execution_count": null,
   "metadata": {},
   "outputs": [],
   "source": []
  },
  {
   "cell_type": "code",
   "execution_count": 24,
   "metadata": {},
   "outputs": [
    {
     "data": {
      "text/plain": [
       "ID           0\n",
       "Gene         0\n",
       "Variation    0\n",
       "Class        0\n",
       "Text         4\n",
       "dtype: int64"
      ]
     },
     "execution_count": 24,
     "metadata": {},
     "output_type": "execute_result"
    }
   ],
   "source": [
    "train_df.isna().sum()"
   ]
  },
  {
   "cell_type": "code",
   "execution_count": 25,
   "metadata": {},
   "outputs": [
    {
     "data": {
      "text/html": [
       "<div>\n",
       "<style scoped>\n",
       "    .dataframe tbody tr th:only-of-type {\n",
       "        vertical-align: middle;\n",
       "    }\n",
       "\n",
       "    .dataframe tbody tr th {\n",
       "        vertical-align: top;\n",
       "    }\n",
       "\n",
       "    .dataframe thead th {\n",
       "        text-align: right;\n",
       "    }\n",
       "</style>\n",
       "<table border=\"1\" class=\"dataframe\">\n",
       "  <thead>\n",
       "    <tr style=\"text-align: right;\">\n",
       "      <th></th>\n",
       "      <th>ID</th>\n",
       "      <th>Gene</th>\n",
       "      <th>Variation</th>\n",
       "      <th>Class</th>\n",
       "      <th>Text</th>\n",
       "    </tr>\n",
       "  </thead>\n",
       "  <tbody>\n",
       "    <tr>\n",
       "      <th>1407</th>\n",
       "      <td>1407</td>\n",
       "      <td>FGFR3</td>\n",
       "      <td>K508M</td>\n",
       "      <td>6</td>\n",
       "      <td>NaN</td>\n",
       "    </tr>\n",
       "    <tr>\n",
       "      <th>1109</th>\n",
       "      <td>1109</td>\n",
       "      <td>FANCA</td>\n",
       "      <td>S1088F</td>\n",
       "      <td>1</td>\n",
       "      <td>NaN</td>\n",
       "    </tr>\n",
       "    <tr>\n",
       "      <th>1277</th>\n",
       "      <td>1277</td>\n",
       "      <td>ARID5B</td>\n",
       "      <td>Truncating Mutations</td>\n",
       "      <td>1</td>\n",
       "      <td>NaN</td>\n",
       "    </tr>\n",
       "    <tr>\n",
       "      <th>1639</th>\n",
       "      <td>1639</td>\n",
       "      <td>FLT1</td>\n",
       "      <td>Amplification</td>\n",
       "      <td>6</td>\n",
       "      <td>NaN</td>\n",
       "    </tr>\n",
       "  </tbody>\n",
       "</table>\n",
       "</div>"
      ],
      "text/plain": [
       "        ID    Gene             Variation  Class Text\n",
       "1407  1407   FGFR3                 K508M      6  NaN\n",
       "1109  1109   FANCA                S1088F      1  NaN\n",
       "1277  1277  ARID5B  Truncating Mutations      1  NaN\n",
       "1639  1639    FLT1         Amplification      6  NaN"
      ]
     },
     "execution_count": 25,
     "metadata": {},
     "output_type": "execute_result"
    }
   ],
   "source": [
    "train_df[train_df['Text'].map(lambda x:not isinstance(x,str))]"
   ]
  },
  {
   "cell_type": "code",
   "execution_count": 26,
   "metadata": {},
   "outputs": [],
   "source": [
    "train_df.dropna(inplace=True)"
   ]
  },
  {
   "cell_type": "code",
   "execution_count": 27,
   "metadata": {},
   "outputs": [],
   "source": [
    "from sklearn.model_selection import train_test_split"
   ]
  },
  {
   "cell_type": "code",
   "execution_count": 28,
   "metadata": {},
   "outputs": [],
   "source": [
    "y_train=train_df['Class']\n",
    "X_train=train_df.drop('Class',axis=1)\n",
    "train_df,validation_df,y_train,y_validation=train_test_split(X_train,y_train,test_size=0.3)"
   ]
  },
  {
   "cell_type": "code",
   "execution_count": 29,
   "metadata": {},
   "outputs": [
    {
     "data": {
      "text/plain": [
       "((926, 4), (926,))"
      ]
     },
     "execution_count": 29,
     "metadata": {},
     "output_type": "execute_result"
    }
   ],
   "source": [
    "train_df.shape,y_train.shape"
   ]
  },
  {
   "cell_type": "code",
   "execution_count": 30,
   "metadata": {},
   "outputs": [
    {
     "data": {
      "text/plain": [
       "((398, 4), (398,))"
      ]
     },
     "execution_count": 30,
     "metadata": {},
     "output_type": "execute_result"
    }
   ],
   "source": [
    "validation_df.shape,y_validation.shape"
   ]
  },
  {
   "cell_type": "markdown",
   "metadata": {},
   "source": [
    "### <font color='green'>analyzing the train text data</font>"
   ]
  },
  {
   "cell_type": "markdown",
   "metadata": {},
   "source": [
    "[link to destination](#destination)"
   ]
  },
  {
   "cell_type": "code",
   "execution_count": 31,
   "metadata": {
    "colab": {
     "base_uri": "https://localhost:8080/",
     "height": 38
    },
    "executionInfo": {
     "elapsed": 98,
     "status": "ok",
     "timestamp": 1638286184867,
     "user": {
      "displayName": "Anubrata Das",
      "photoUrl": "https://lh3.googleusercontent.com/a-/AOh14GiI2340pPpSj6e4aG_4urL4HRwW3MRXEf5aoo2_QA=s64",
      "userId": "08781375266004215524"
     },
     "user_tz": -330
    },
    "id": "9SoN9RkCag-o",
    "outputId": "7f64e0fd-3acd-42a0-9d80-2dd56677fb44"
   },
   "outputs": [
    {
     "data": {
      "text/plain": [
       "'!\"#$%&\\'()*+,-./:;<=>?@[\\\\]^_`{|}~'"
      ]
     },
     "execution_count": 31,
     "metadata": {},
     "output_type": "execute_result"
    }
   ],
   "source": [
    "import string\n",
    "string.punctuation"
   ]
  },
  {
   "cell_type": "code",
   "execution_count": 32,
   "metadata": {
    "executionInfo": {
     "elapsed": 90,
     "status": "ok",
     "timestamp": 1638286184868,
     "user": {
      "displayName": "Anubrata Das",
      "photoUrl": "https://lh3.googleusercontent.com/a-/AOh14GiI2340pPpSj6e4aG_4urL4HRwW3MRXEf5aoo2_QA=s64",
      "userId": "08781375266004215524"
     },
     "user_tz": -330
    },
    "id": "Zoqhi_AKamax"
   },
   "outputs": [],
   "source": [
    "revised_punctuation='!\"#$%&\\'()*+,./:;<=>?@[\\\\]^_`{|}~'"
   ]
  },
  {
   "cell_type": "code",
   "execution_count": 33,
   "metadata": {},
   "outputs": [
    {
     "data": {
      "text/plain": [
       "'!\"#$%&\\'()*+,./:;<=>?@[\\\\]^_`{|}~'"
      ]
     },
     "execution_count": 33,
     "metadata": {},
     "output_type": "execute_result"
    }
   ],
   "source": [
    "revised_punctuation"
   ]
  },
  {
   "cell_type": "code",
   "execution_count": 34,
   "metadata": {},
   "outputs": [],
   "source": [
    "#!pip install nltk"
   ]
  },
  {
   "cell_type": "code",
   "execution_count": 35,
   "metadata": {
    "executionInfo": {
     "elapsed": 92,
     "status": "ok",
     "timestamp": 1638286184873,
     "user": {
      "displayName": "Anubrata Das",
      "photoUrl": "https://lh3.googleusercontent.com/a-/AOh14GiI2340pPpSj6e4aG_4urL4HRwW3MRXEf5aoo2_QA=s64",
      "userId": "08781375266004215524"
     },
     "user_tz": -330
    },
    "id": "UoSJBAQWis7w"
   },
   "outputs": [
    {
     "name": "stderr",
     "output_type": "stream",
     "text": [
      "[nltk_data] Downloading package words to\n",
      "[nltk_data]     C:\\Users\\anubr\\AppData\\Roaming\\nltk_data...\n",
      "[nltk_data]   Package words is already up-to-date!\n"
     ]
    }
   ],
   "source": [
    "import nltk\n",
    "nltk.download('words')\n",
    "from nltk.corpus import words\n",
    "words=nltk.corpus.words.words()"
   ]
  },
  {
   "cell_type": "code",
   "execution_count": 36,
   "metadata": {},
   "outputs": [
    {
     "data": {
      "text/plain": [
       "235892"
      ]
     },
     "execution_count": 36,
     "metadata": {},
     "output_type": "execute_result"
    }
   ],
   "source": [
    "len(set(words))"
   ]
  },
  {
   "cell_type": "code",
   "execution_count": 37,
   "metadata": {},
   "outputs": [],
   "source": [
    "nltk_words=set(words)"
   ]
  },
  {
   "cell_type": "code",
   "execution_count": 38,
   "metadata": {
    "executionInfo": {
     "elapsed": 90,
     "status": "ok",
     "timestamp": 1638286184874,
     "user": {
      "displayName": "Anubrata Das",
      "photoUrl": "https://lh3.googleusercontent.com/a-/AOh14GiI2340pPpSj6e4aG_4urL4HRwW3MRXEf5aoo2_QA=s64",
      "userId": "08781375266004215524"
     },
     "user_tz": -330
    },
    "id": "dZa3dSo_KOra"
   },
   "outputs": [],
   "source": [
    "def cleanse_data(data):        \n",
    "    if isinstance(data,str):\n",
    "        no_punctuation = [char for char in data.replace('\\n',' ') if char not in revised_punctuation]\n",
    "        no_punctuation_txt = ''.join(no_punctuation)                   \n",
    "        return no_punctuation_txt\n",
    "    else:\n",
    "        return \"NA\""
   ]
  },
  {
   "cell_type": "code",
   "execution_count": 39,
   "metadata": {},
   "outputs": [],
   "source": [
    "def reduce_words(data):\n",
    "    data = data.split()\n",
    "    words = [word for word in data if word not in nltk_words]\n",
    "    text = \" \".join(words)\n",
    "    return text    "
   ]
  },
  {
   "cell_type": "code",
   "execution_count": 40,
   "metadata": {},
   "outputs": [],
   "source": [
    "def word_count(text):\n",
    "    text_lst=text.split()\n",
    "    vector = [text_lst.count(str(word)) for word in text_lst]\n",
    "    return vector[:300]"
   ]
  },
  {
   "cell_type": "code",
   "execution_count": 41,
   "metadata": {},
   "outputs": [],
   "source": [
    "from nltk.probability import FreqDist"
   ]
  },
  {
   "cell_type": "markdown",
   "metadata": {
    "id": "eHrZ7Ae4odHg"
   },
   "source": [
    "we have obtained the frequency distribution of words using freqdist"
   ]
  },
  {
   "cell_type": "code",
   "execution_count": 42,
   "metadata": {},
   "outputs": [],
   "source": [
    "def freq_dist(data):\n",
    "    data=data.split(\" \")\n",
    "    freq=FreqDist(data) # gets word frequency\n",
    "    freq=sorted(freq.items(),key=lambda x:x[1], reverse=True) # sorts words from highest to lowest frequency\n",
    "    return [item[1] for item in freq][:300] # returns a fixed length of 300 words"
   ]
  },
  {
   "cell_type": "code",
   "execution_count": 43,
   "metadata": {},
   "outputs": [],
   "source": [
    "# implementing bag of words"
   ]
  },
  {
   "cell_type": "code",
   "execution_count": 44,
   "metadata": {},
   "outputs": [],
   "source": [
    "from sklearn.feature_extraction.text import CountVectorizer"
   ]
  },
  {
   "cell_type": "code",
   "execution_count": 45,
   "metadata": {},
   "outputs": [],
   "source": [
    "bow_vectorizer = CountVectorizer(stop_words='english',max_features=1600)"
   ]
  },
  {
   "cell_type": "code",
   "execution_count": 46,
   "metadata": {},
   "outputs": [],
   "source": [
    "# implementing tf-idf"
   ]
  },
  {
   "cell_type": "code",
   "execution_count": 47,
   "metadata": {},
   "outputs": [],
   "source": [
    "from sklearn.feature_extraction.text import TfidfVectorizer"
   ]
  },
  {
   "cell_type": "code",
   "execution_count": 48,
   "metadata": {},
   "outputs": [],
   "source": [
    "tfidf_vectorizer = TfidfVectorizer(\n",
    "    min_df=1, max_features=1600, strip_accents='unicode',lowercase =True,\n",
    "    analyzer='word', token_pattern=r'\\w+', ngram_range=(1, 3), use_idf=True, \n",
    "    smooth_idf=True, sublinear_tf=True, stop_words = 'english')"
   ]
  },
  {
   "cell_type": "code",
   "execution_count": 49,
   "metadata": {},
   "outputs": [],
   "source": [
    "# https://melaniewalsh.github.io/Intro-Cultural-Analytics/05-Text-Analysis/03-TF-IDF-Scikit-Learn.html\n",
    "# https://www.datacamp.com/community/tutorials/understanding-logistic-regression-python\n",
    "# https://machinelearningmastery.com/multinomial-logistic-regression-with-python/\n",
    "# https://www.kaggle.com/elemento/personalizedmedicine-rct"
   ]
  },
  {
   "cell_type": "code",
   "execution_count": 50,
   "metadata": {},
   "outputs": [],
   "source": [
    "from sklearn.linear_model import LogisticRegression"
   ]
  },
  {
   "cell_type": "code",
   "execution_count": 51,
   "metadata": {},
   "outputs": [],
   "source": [
    "from sklearn.metrics import log_loss"
   ]
  },
  {
   "cell_type": "code",
   "execution_count": 52,
   "metadata": {},
   "outputs": [],
   "source": [
    "# define the multinomial logistic regression model\n",
    "bow_model = LogisticRegression(multi_class='multinomial', solver='lbfgs')\n",
    "tfidf_model = LogisticRegression(multi_class='multinomial', solver='lbfgs')"
   ]
  },
  {
   "cell_type": "markdown",
   "metadata": {},
   "source": [
    "<a id=\"train_data\" style=\"font-size:22px\">model train text sample data</a>"
   ]
  },
  {
   "cell_type": "markdown",
   "metadata": {},
   "source": [
    "[Beginning of Notebook](#top)"
   ]
  },
  {
   "cell_type": "markdown",
   "metadata": {},
   "source": [
    "#### text preprocessing"
   ]
  },
  {
   "cell_type": "code",
   "execution_count": 53,
   "metadata": {},
   "outputs": [
    {
     "name": "stderr",
     "output_type": "stream",
     "text": [
      "progress bar: 100%|██████████| 926/926 [00:08<00:00, 106.23it/s]\n"
     ]
    }
   ],
   "source": [
    "# remove punctuation\n",
    "train_df['cleaned_text'] = train_df['Text'].progress_map(cleanse_data,na_action='ignore')"
   ]
  },
  {
   "cell_type": "code",
   "execution_count": 54,
   "metadata": {},
   "outputs": [
    {
     "name": "stderr",
     "output_type": "stream",
     "text": [
      "progress bar: 100%|██████████| 926/926 [00:03<00:00, 261.99it/s]\n"
     ]
    }
   ],
   "source": [
    "# filtering all common english words\n",
    "train_df['cleaned_text'] = train_df['cleaned_text'].progress_map(reduce_words,na_action='ignore')"
   ]
  },
  {
   "cell_type": "code",
   "execution_count": 55,
   "metadata": {},
   "outputs": [],
   "source": [
    "train_df['Text_len'] = train_df['Text'].map(lambda x:len(str(x)))\n",
    "train_df['cleaned_text_len'] = train_df['cleaned_text'].map(lambda x:len(str(x)))"
   ]
  },
  {
   "cell_type": "code",
   "execution_count": null,
   "metadata": {},
   "outputs": [],
   "source": []
  },
  {
   "cell_type": "code",
   "execution_count": 56,
   "metadata": {},
   "outputs": [
    {
     "data": {
      "text/html": [
       "<div>\n",
       "<style scoped>\n",
       "    .dataframe tbody tr th:only-of-type {\n",
       "        vertical-align: middle;\n",
       "    }\n",
       "\n",
       "    .dataframe tbody tr th {\n",
       "        vertical-align: top;\n",
       "    }\n",
       "\n",
       "    .dataframe thead th {\n",
       "        text-align: right;\n",
       "    }\n",
       "</style>\n",
       "<table border=\"1\" class=\"dataframe\">\n",
       "  <thead>\n",
       "    <tr style=\"text-align: right;\">\n",
       "      <th></th>\n",
       "      <th>ID</th>\n",
       "      <th>Gene</th>\n",
       "      <th>Variation</th>\n",
       "      <th>Text</th>\n",
       "      <th>cleaned_text</th>\n",
       "      <th>Text_len</th>\n",
       "      <th>cleaned_text_len</th>\n",
       "    </tr>\n",
       "  </thead>\n",
       "  <tbody>\n",
       "    <tr>\n",
       "      <th>2364</th>\n",
       "      <td>2364</td>\n",
       "      <td>STK11</td>\n",
       "      <td>A205T</td>\n",
       "      <td>To investigate whether genetic alteration of t...</td>\n",
       "      <td>To STK11LKB1 tumor-suppressor HNSCC encoding e...</td>\n",
       "      <td>13714</td>\n",
       "      <td>5806</td>\n",
       "    </tr>\n",
       "    <tr>\n",
       "      <th>301</th>\n",
       "      <td>301</td>\n",
       "      <td>TMPRSS2</td>\n",
       "      <td>TMPRSS2-ETV5 Fusion</td>\n",
       "      <td>Recurrent gene fusions involving oncogenic ETS...</td>\n",
       "      <td>Recurrent fusions involving oncogenic ETS fact...</td>\n",
       "      <td>28088</td>\n",
       "      <td>12899</td>\n",
       "    </tr>\n",
       "    <tr>\n",
       "      <th>369</th>\n",
       "      <td>369</td>\n",
       "      <td>TP53</td>\n",
       "      <td>S215G</td>\n",
       "      <td>p53 is a sequence-specific transcription facto...</td>\n",
       "      <td>p53 sequence-specific controlling genes partic...</td>\n",
       "      <td>130434</td>\n",
       "      <td>52908</td>\n",
       "    </tr>\n",
       "    <tr>\n",
       "      <th>2541</th>\n",
       "      <td>2541</td>\n",
       "      <td>BRCA1</td>\n",
       "      <td>V1809A</td>\n",
       "      <td>Abstract  The BRCA1 gene from individuals at ...</td>\n",
       "      <td>Abstract BRCA1 individuals cancers mutations H...</td>\n",
       "      <td>58319</td>\n",
       "      <td>21201</td>\n",
       "    </tr>\n",
       "    <tr>\n",
       "      <th>1545</th>\n",
       "      <td>1545</td>\n",
       "      <td>ALK</td>\n",
       "      <td>D1091N</td>\n",
       "      <td>In the era of personalized medicine, understan...</td>\n",
       "      <td>In personalized drivers oncogenesis characteri...</td>\n",
       "      <td>98840</td>\n",
       "      <td>39427</td>\n",
       "    </tr>\n",
       "  </tbody>\n",
       "</table>\n",
       "</div>"
      ],
      "text/plain": [
       "        ID     Gene            Variation  \\\n",
       "2364  2364    STK11                A205T   \n",
       "301    301  TMPRSS2  TMPRSS2-ETV5 Fusion   \n",
       "369    369     TP53                S215G   \n",
       "2541  2541    BRCA1               V1809A   \n",
       "1545  1545      ALK               D1091N   \n",
       "\n",
       "                                                   Text  \\\n",
       "2364  To investigate whether genetic alteration of t...   \n",
       "301   Recurrent gene fusions involving oncogenic ETS...   \n",
       "369   p53 is a sequence-specific transcription facto...   \n",
       "2541   Abstract  The BRCA1 gene from individuals at ...   \n",
       "1545  In the era of personalized medicine, understan...   \n",
       "\n",
       "                                           cleaned_text  Text_len  \\\n",
       "2364  To STK11LKB1 tumor-suppressor HNSCC encoding e...     13714   \n",
       "301   Recurrent fusions involving oncogenic ETS fact...     28088   \n",
       "369   p53 sequence-specific controlling genes partic...    130434   \n",
       "2541  Abstract BRCA1 individuals cancers mutations H...     58319   \n",
       "1545  In personalized drivers oncogenesis characteri...     98840   \n",
       "\n",
       "      cleaned_text_len  \n",
       "2364              5806  \n",
       "301              12899  \n",
       "369              52908  \n",
       "2541             21201  \n",
       "1545             39427  "
      ]
     },
     "execution_count": 56,
     "metadata": {},
     "output_type": "execute_result"
    }
   ],
   "source": [
    "train_df.head()"
   ]
  },
  {
   "cell_type": "markdown",
   "metadata": {},
   "source": [
    "### <font color='green'>converting text to numbers</font>"
   ]
  },
  {
   "cell_type": "code",
   "execution_count": 57,
   "metadata": {},
   "outputs": [],
   "source": [
    "train_df_corpus = train_df['cleaned_text'].tolist()"
   ]
  },
  {
   "cell_type": "markdown",
   "metadata": {},
   "source": [
    "#### bag of words transformation"
   ]
  },
  {
   "cell_type": "code",
   "execution_count": 58,
   "metadata": {},
   "outputs": [
    {
     "data": {
      "text/plain": [
       "CountVectorizer(max_features=1600, stop_words='english')"
      ]
     },
     "execution_count": 58,
     "metadata": {},
     "output_type": "execute_result"
    }
   ],
   "source": [
    "bow_vectorizer.fit(train_df_corpus)"
   ]
  },
  {
   "cell_type": "code",
   "execution_count": 59,
   "metadata": {},
   "outputs": [],
   "source": [
    "train_df_counts= bow_vectorizer.transform(train_df_corpus)"
   ]
  },
  {
   "cell_type": "code",
   "execution_count": 60,
   "metadata": {},
   "outputs": [
    {
     "name": "stdout",
     "output_type": "stream",
     "text": [
      "Vocabulary:  {'tumor': 1522, 'hnscc': 760, 'encoding': 580, 'exons': 618, 'intronic': 846, 'sequences': 1359, 'analyzed': 255, 'sequencing': 1360, 'specimens': 1410, 'missense': 991, 'loh': 910, 'polymorphisms': 1180, 'identified': 779, 'samples': 1335, 'causes': 360, 'affects': 223, 'constructs': 434, 'wild': 1577, 'type': 1528, 'vectors': 1557, 'created': 461, 'transfected': 1503, 'cells': 372, 'results': 1302, 'showed': 1366, 'proteins': 1224, 'described': 511, 'studies': 1430, 'suggests': 1441, 'keywords': 867, 'lkb1': 905, 'ha': 732, '11': 26, 'located': 908, 'et': 603, '1997': 56, 'germline': 709, 'mutations': 1025, '1998': 57, 'characterized': 381, 'increased': 811, 'developing': 517, 'tumors': 1525, '2000': 67, 'residues': 1295, '44': 123, 'tissues': 1488, 'leads': 888, 'indicating': 817, 'plays': 1173, '2002': 69, '2001': 68, 'interestingly': 842, 'developed': 516, '45': 124, 'weeks': 1574, 'observed': 1081, 'patients': 1130, 'suggested': 1440, 'animals': 259, 'humans': 772, '1999': 58, 'remaining': 1282, 'inactivated': 807, 'cancers': 350, 'reported': 1285, 'mutation': 1023, 'adenocarcinomas': 221, '83': 176, '28': 91, '2003': 70, 'mutated': 1022, 'pcr': 1135, 'dna': 538, 'including': 810, 'lines': 901, 'rpmi': 1323, '15': 42, '27': 90, '25': 87, 'fig': 650, '1a': 59, 'table': 1457, 'cloned': 398, 'transformed': 1507, 'colonies': 408, 'obtained': 1082, 'clones': 399, '100': 16, '66': 156, 'databases': 489, 'demonstrating': 504, 'genetic': 702, 'alterations': 243, 'variants': 1553, 'excluded': 611, 'snp': 1399, 'database': 488, 'localized': 907, 'pcdna3': 1134, 'mutant': 1020, 'amounts': 250, 'performed': 1145, 'anti': 261, 'transfection': 1504, '2a': 96, 'actin': 209, 'expressing': 624, '2b': 97, 'shows': 1367, 'overexpression': 1105, 'inhibited': 825, 'indicates': 816, 'activated': 210, 'conserved': 429, 'phosphorylate': 1157, 'thr': 1483, 'vitro': 1566, 'activates': 211, 'evaluated': 607, 'diminished': 524, 'treated': 1511, 'overexpressing': 1104, 'figure': 652, 'non': 1053, 'phosphorylated': 1158, 'remained': 1281, 'abolished': 201, '2004': 71, 'demonstrated': 502, 'disrupted': 533, 'activating': 212, 'multiple': 1018, 'exonic': 617, '88': 181, '123': 33, 'tyr': 1530, 'snps': 1400, 'occurred': 1083, 'intron': 845, '36': 108, '24': 86, '49': 128, '51': 136, 'changes': 379, '32': 104, '16': 44, 'findings': 656, 'failed': 631, 'differences': 521, 'focused': 664, '70': 162, '80': 172, 'abnormalities': 200, 'detected': 515, 'carcinomas': 351, 'appears': 270, 'implicated': 803, '21': 83, '2005': 72, '40': 118, 'published': 1232, 'similar': 1380, 'cases': 354, '78': 170, 'taken': 1460, 'mutants': 1021, 'examined': 609, 'regulated': 1272, 'processes': 1208, 'p53': 1114, 'mediated': 957, 'apoptosis': 267, 'wnt': 1579, 'signaling': 1375, 'tgf': 1479, 'regulation': 1275, 'fusions': 684, 'involving': 850, 'oncogenic': 1093, 'ets': 604, 'factors': 630, 'erg': 592, 'etv1': 605, 'tmprss2': 1492, 'recently': 1261, 'partners': 1127, 'rearrangements': 1258, 'rna': 1317, 'ligase': 898, 'cdna': 369, 'situ': 1387, 'expression': 625, 'profiling': 1212, 'members': 971, 'cancer': 349, 'res': 1293, 'introduction': 844, 'hematologic': 750, 'malignancies': 930, 'oncogenes': 1092, 'microarray': 984, 'genes': 701, 'sets': 1363, 'overexpressed': 1103, '50': 134, '10': 15, 'refs': 1269, 'importantly': 805, 'androgen': 258, 'induced': 819, 'identifying': 780, 'combinations': 410, 'materials': 942, 'methods': 977, 'university': 1538, 'research': 1294, 'tissue': 1487, 'core': 447, 'culture': 469, 'total': 1495, 'invitrogen': 848, 'normalized': 1056, 'values': 1551, '12': 30, 'downloaded': 550, 'generated': 699, 'using': 1542, '30': 101, 'applied': 272, 'biosystems': 321, 'real': 1256, 'time': 1486, 'oligonucleotide': 1089, 'primers': 1198, 'synthesized': 1453, 'integrated': 838, 'technologies': 1467, 'supplementary': 1447, 's1': 1328, 'manufacturers': 932, 'instructions': 837, 'strand': 1424, 'amplified': 252, 'transcription': 1500, 'transcripts': 1501, 'rt': 1324, 'high': 755, 'products': 1210, 'sequenced': 1358, 'fish': 658, 'formalin': 670, 'fixed': 660, 'paraffin': 1124, 'embedded': 575, 'sections': 1352, 'chromosomes': 386, 's2': 1329, 'center': 373, 'length': 889, 'institute': 836, 'ii': 786, 'control': 440, 'vector': 1556, 'lacz': 881, '48': 127, 'immunoblotting': 795, 'monoclonal': 1006, 'mouse': 1009, 'phosphate': 1152, 'assays': 286, 'numbers': 1078, 'indicated': 815, '20': 65, 'μmoll': 1599, 'biosciences': 320, 'pan': 1122, 'gm': 717, 'recombinant': 1265, 'concentrations': 418, 'agilent': 227, 'human': 771, 'genome': 703, 'signatures': 1378, 'features': 639, '001': 4, 'map': 934, '13': 36, '14': 40, 'discussion': 529, 'consistent': 430, '17': 46, 'download': 549, 'figureopen': 653, 'tabdownload': 1456, 'powerpoint': 1187, 'units': 1537, '29': 93, 'assayed': 285, '56': 141, 'met': 975, 'relative': 1279, 'coding': 404, 'regions': 1271, 'bars': 303, 'hypothesized': 774, '1b': 60, '95': 189, 'harbored': 735, 'exon': 616, 'pairs': 1121, '1c': 61, '3a': 112, 'contained': 436, 'kb': 863, 'fusion': 683, 'isoform': 853, 'structures': 1429, 'cycles': 473, 'probes': 1205, '2006': 73, 'cruz': 465, 'signals': 1377, 'arrows': 280, 'patterns': 1131, '3b': 113, 'isoforms': 854, 'containing': 437, '3c': 114, 'blocks': 324, 'validated': 1549, 'harboring': 736, '4a': 129, 'modified': 1001, 'compared': 411, '47': 126, 'fold': 665, 'induces': 820, 'representative': 1287, 'experiments': 621, 'molecular': 1002, 'represents': 1290, 'representing': 1289, 'inhibitors': 829, 'phenotypes': 1151, '4b': 130, 'enriched': 584, 'mcf': 946, 'stat3': 1419, 'resulted': 1301, 'dependent': 506, '4c': 131, 'overlapping': 1106, '18': 47, '19': 50, '22': 84, 'allowing': 241, 'codons': 405, 'alternatively': 245, 'additional': 219, 'additionally': 220, '34': 106, '63': 153, '54': 139, 'elements': 573, 'trans': 1498, 'sequence': 1357, 'specific': 1408, 'mediates': 958, 'controls': 442, 'low': 915, 'groups': 720, 'p21': 1111, 'binding': 316, 'wt': 1582, '1996': 55, '2007': 74, 'derived': 510, 'targets': 1463, 'conditions': 420, 'ph': 1149, 'procedures': 1206, 'functional': 680, 'separated': 1355, 'alleles': 238, '1993': 52, 'transactivation': 1499, 'analysed': 253, 'provides': 1226, '1995': 54, 'molecules': 1004, '23': 85, 'inactivating': 808, 'conformations': 426, 'based': 304, 'sensitive': 1354, 'iarc': 775, 'substitutions': 1435, 'positions': 1184, '98': 192, '110': 27, 'earlier': 560, 'unfortunately': 1535, 'hotspot': 766, 'transformants': 1506, 'incubated': 813, '35': 107, 'points': 1175, 'represented': 1288, 'activity': 216, 'promoters': 1218, 'summary': 1443, 'responsive': 1300, 'cell': 371, 'extracts': 626, 'sds': 1348, 'page': 1120, 'visualized': 1565, 'stained': 1418, 'recognized': 1264, 'epitope': 586, '1992': 51, 'interacts': 841, '1994': 53, 'immunoprecipitated': 799, 'lysates': 923, 'harvested': 737, 'antibodies': 262, 'terminal': 1470, 'summarized': 1442, 'expected': 619, '67': 157, '52': 137, '61': 151, '42': 121, 'polyclonal': 1178, 'cm': 402, 'comparison': 413, 'activities': 215, 'mm': 996, '33': 105, 'correlates': 448, 'lacking': 879, 'dimensional': 523, 'highlighted': 756, 'acids': 208, 'chains': 377, 'reviewed': 1309, 'targeting': 1462, 'second': 1349, '85': 178, '104': 21, 'site': 1385, 'directed': 526, 'mutagenesis': 1019, '93': 187, 'rates': 1248, 'exhibited': 612, 'conformational': 425, 'exists': 613, 'allosteric': 239, 'proposed': 1222, 'tetramer': 1478, 'post': 1186, 'modifications': 1000, 'documented': 540, 'active': 214, 'abrogated': 202, 'systems': 1454, 'occurs': 1086, 'presented': 1195, 'contains': 438, 'loops': 913, 'helix': 749, 'acts': 217, 'loop': 912, 'structure': 1428, 'function': 679, 'mapping': 938, '87': 180, 'domain': 543, 'rich': 1312, '92': 186, 'mapped': 937, 'supported': 1449, '77': 169, 'observations': 1080, 'contacts': 435, 'efforts': 569, 'properties': 1221, '102': 19, 'consists': 432, 'supports': 1451, 'mutational': 1024, 'hotspots': 767, 'types': 1529, 'tumour': 1526, 'spanning': 1407, '41': 120, 'allele': 237, 'appeared': 269, 'ras': 1247, 'related': 1278, 'rac1': 1241, 'implications': 804, 'encoded': 578, 'kras': 872, 'nras': 1065, 'braf': 332, 'kit': 870, 'egfr': 572, 'mechanisms': 955, 'required': 1291, 'insights': 835, 'aberrations': 197, 'pathways': 1128, 'algorithms': 233, 'approaches': 273, 'gene': 698, 'level': 892, 'models': 999, 'furthermore': 682, 'varying': 1555, 'lesions': 890, 'vivo': 1567, 'scale': 1340, 'cross': 464, 'wide': 1576, 'consisting': 431, 'genomes': 704, 'sources': 1406, 'protein': 1223, '57': 142, '125': 35, 'normal': 1055, 'dataset': 490, 'translocations': 1509, 'amplifications': 251, 'deletions': 501, 'value': 1550, 'tables': 1458, 'overall': 1102, 'arising': 279, 'tp53': 1496, '1d': 62, 'increases': 812, '3d': 115, 'mrna': 1010, 'levels': 893, 'agents': 226, 'idh1': 782, 'grade': 718, 'gliomas': 715, 'melanomas': 970, 'akt1': 229, 'e17k': 557, 'relapsed': 1277, 'trials': 1514, '81': 174, 'confer': 422, '76': 168, 'oncogene': 1091, 'conversely': 443, 'explained': 622, 'frame': 675, 'pik3r1': 1165, 'events': 608, 'loss': 914, 'domains': 544, 'functions': 681, 'notch1': 1059, 'predicted': 1192, 'verified': 1561, 'truncating': 1517, 'includes': 809, 'colorectal': 409, '53': 138, 'lacked': 878, '26': 89, 'hras': 770, 'v600e': 1546, 'erbb2': 588, 'followed': 667, 'pik3ca': 1164, 'fewer': 642, 'h1047r': 729, 'mapk': 936, 'pi3k': 1163, 'components': 416, 'sf3b1': 1364, '00001': 2, 'finally': 655, 'uv': 1543, 'driven': 553, '39': 111, 'conclusions': 419, 'subtypes': 1438, 'msi': 1014, 'pole': 1176, 'requires': 1292, 'called': 348, 'myc': 1027, 'mtor': 1015, 'erbb3': 589, 'frequencies': 678, 'allows': 242, 'novo': 1061, 'long': 911, 'note': 1060, 'gtpase': 726, 'dinucleotide': 525, 'accompanied': 204, 'cis': 390, 'single': 1382, 'nucleotide': 1073, 'occurring': 1085, 'acc': 203, 'notably': 1057, '4d': 132, 'raf': 1243, 'wildtype': 1578, '4e': 133, 'gtp': 725, 'bound': 329, 'interacting': 839, 'effectors': 567, 'hek293t': 747, 'like': 899, 'phosphatidylinositol': 1153, 'gdp': 695, 'responses': 1299, 'new': 1043, 'pre': 1191, 'stage': 1416, 'term': 1469, 'processing': 1209, 'tcga': 1466, 'genomic': 705, 'alignments': 235, '75': 167, 'variant': 1552, 'effect': 566, 'characteristics': 380, 'insertions': 833, '71': 163, 'matched': 941, 'counts': 456, 'data': 487, 'log': 909, 'comparisons': 414, 'depends': 507, 'ct': 466, 'μg': 1595, 'estimated': 601, 'mg': 978, 'accordingly': 205, 'tests': 1474, 'sites': 1386, 'cohorts': 406, '01': 6, '90': 184, 'follows': 669, '2013': 80, 'associated': 287, 'retained': 1305, 'discussed': 528, 'reads': 1255, '46': 125, 'sanger': 1336, 'fisher': 659, 'analysis': 254, 'subcloned': 1432, 'life': 895, 'lipofectamine': 904, '72': 164, 'hours': 768, 'immunoprecipitation': 801, 'ma': 927, 'cyclin': 474, 'kinases': 869, 'decreased': 493, 'h1299': 730, 'regulators': 1276, 'binds': 317, 'atp': 292, 'inhibits': 830, 'erk2': 595, 'apoptotic': 268, 'independent': 814, 'caused': 359, 'investigated': 847, 'small': 1395, 'parameters': 1125, 'null': 1075, 'supplemented': 1448, '37': 109, '500': 135, 'μgml': 1596, 'hcl': 740, 'dmso': 537, 'sigma': 1373, 'aldrich': 232, 'polyacrylamide': 1177, 'blots': 326, 'pbs': 1132, 'probed': 1204, 'parp': 1126, 'bd': 312, 'conjugated': 427, 'amersham': 246, 'μm': 1598, 'processed': 1207, 'roche': 1319, 'forms': 671, 'hot': 765, 'regulates': 1273, 'negative': 1037, 'controlled': 441, 'monitored': 1005, 'polymerase': 1179, 'fragments': 674, '89': 182, 'kda': 865, 'stages': 1417, 'lysed': 924, 'quantified': 1239, '96': 190, 'markers': 939, 'error': 597, 'andor': 257, 'bcl': 309, 'doses': 547, 'reports': 1286, 'pro': 1200, 'caspase': 355, 'a549': 194, 'compounds': 417, 'years': 1589, 'jnk': 859, 'achieved': 206, 'view': 1563, 'initiated': 831, 'ref': 1267, 'therapies': 1482, 'self': 1353, 'damaging': 485, 'recent': 1260, 'molecule': 1003, 'drugs': 556, 'large': 884, 'mdm2': 951, 'g1': 685, 'promotes': 1219, 'atm': 290, 'inhibiting': 826, 'cdk': 364, 'roles': 1321, 'figures': 654, 'encodes': 579, 'treatments': 1513, 'amino': 247, 'tumorigenic': 1524, 'acid': 207, '64': 154, 'l1': 874, 'beta': 314, 'subunits': 1439, 'ligand': 896, 'spots': 1412, 'repeats': 1283, 'py': 1237, 'half': 733, 'box': 330, 'heat': 744, 'complexes': 415, 'measurements': 954, '106': 23, '200': 66, '43': 122, 'states': 1421, 'similarly': 1381, 'destabilized': 513, 'comparing': 412, 'corresponds': 449, 'atoms': 291, 'iv': 856, '86': 179, 'recorded': 1266, 'defects': 494, 'r273h': 1240, 'peptides': 1144, 'structural': 1427, 'larger': 885, 'germ': 707, 'line': 900, 'li': 894, 'dominant': 545, 'means': 953, 'regulating': 1274, 'activation': 213, 'involves': 849, 'drug': 555, 'strategies': 1426, 'ligands': 897, 'interactions': 840, '5a': 145, 'colleagues': 407, 'minutes': 989, 'saos': 1337, 'tumours': 1527, 'xenografts': 1585, 'maintained': 928, 'bcr': 311, 'abl': 199, 'approved': 274, 'screens': 1346, 'gain': 686, 'following': 668, 'deficient': 496, 'signalling': 1376, 'brca1': 335, 'individuals': 818, 'counseling': 454, 'terms': 1472, 'terminus': 1471, 'brct': 337, 'predicting': 1193, 'consequences': 428, 'inherited': 824, 'allowed': 240, 'causing': 361, 'cooh': 444, 'holoenzyme': 761, 'national': 1033, 'biotechnology': 322, 'information': 823, 'cα': 480, '94': 188, 'factor': 629, 'sd': 1347, 'probabilities': 1201, '31': 103, 'scores': 1344, 'secondary': 1350, 'predictions': 1194, '1863': 49, 'm1775r': 925, 'galactosidase': 688, 'gal4': 687, 'cotransfected': 453, '293t': 95, 'transfections': 1505, 'tk': 1489, 'promega': 1216, 'kinase': 868, 'association': 288, 'panels': 1123, 'having': 738, 'breast': 340, 'women': 1580, 'diagnosed': 519, 'early': 561, 'old': 1087, 'risk': 1315, 'plasmid': 1170, 'depicted': 508, 'proband': 1202, '117': 29, 'phosphopeptide': 1156, 'cloning': 400, 'author': 294, 'na': 1031, 'department': 505, 'online': 1095, 'nih': 1048, 'manuscript': 933, '2011': 78, '2010': 77, '09': 14, 'pa': 1119, 'er': 587, 'ring': 1314, 'bard1': 302, 'ubiquitin': 1532, 'double': 548, '124': 34, 'reactions': 1254, 'labeled': 876, 'agarose': 224, 'beads': 313, 'a1708e': 193, 'bands': 300, 'plates': 1172, '105': 22, 'luciferase': 918, 'assay': 284, 'align': 234, 'gvgd': 728, 'class': 392, 'cosegregation': 451, 'pedigrees': 1143, 'generation': 700, 'purified': 1234, '65': 155, 'figs': 651, 's3': 1330, 'family': 633, 'v1736a': 1544, '58': 143, '59': 144, 'phosphorylation': 1159, 'charged': 382, 'c0': 344, 'tolerated': 1493, 'glu': 716, 'categories': 357, 'throughput': 1484, 'group': 719, 'drivers': 554, 'mycn': 1028, 'families': 632, 'alk': 236, 'autophosphorylation': 296, 'akt': 228, '3t3': 116, 'baf3': 299, 'disease': 530, 'free': 677, 'tumorigenesis': 1523, 'targeted': 1461, 'crizotinib': 463, '600': 150, 'eml4': 577, 'subgroups': 1433, 'variations': 1554, 'cdnas': 370, 'il': 789, 'cytokine': 476, 'shrna': 1370, 'impaired': 802, 'genotyping': 706, 'gefitinib': 696, 'resistant': 1297, 'l858r': 875, 'ngml': 1047, 'transduced': 1502, 'npm': 1062, 'erk12': 594, 'ic50': 776, 'nm': 1051, 'flt3': 663, 'itd': 855, 'µm': 1592, 'dose': 546, 'treatment': 1512, 'phase': 1150, 'fractions': 673, 'altered': 244, 'phospho': 1154, 'inhibitor': 828, '2c': 98, '140': 41, 'rtk': 1325, 'tkis': 1491, 'erk': 593, 'iii': 787, 'receptors': 1263, 'months': 1007, '2008': 75, 'inhibition': 827, 'nsclc': 1068, 'transmembrane': 1510, '2009': 76, 'lymphomas': 921, 'dlbcl': 535, 'diseases': 531, 'nih3t3': 1049, 'clinical': 396, 'authors': 295, 'classify': 395, 'serum': 1362, '250': 88, 'stimulated': 1423, 'proliferation': 1214, 'immunoblot': 794, '5b': 146, 'images': 791, 'transgenic': 1508, 'αc': 1593, 'dfg': 518, 'lacks': 880, 'contributes': 439, 'receptor': 1262, 'trk': 1516, 'exome': 615, 'illumina': 790, 'germany': 708, 'primary': 1197, 'purchased': 1233, 'laboratories': 877, 'technology': 1468, 'igg': 784, 'pf': 1147, '08': 13, '05': 10, 'ca': 346, 'μl': 1597, 'bio': 318, 'gfp': 710, 'positive': 1185, 'fbs': 636, 'ml': 993, 'protocols': 1225, '03': 8, '60': 149, 'dmem': 536, 'mgml': 981, 'slides': 1389, 'demonstrates': 503, 'rearranged': 1257, 'xenograft': 1584, 'despite': 512, 'neurons': 1041, 'upregulated': 1539, 'outcomes': 1100, 'inducing': 822, 'sk': 1388, 'imaging': 792, 'cytometry': 478, 'anchorage': 256, 'previous': 1196, 'western': 1575, 'enhances': 583, 'options': 1098, 'needed': 1036, 'prolonged': 1215, 'her2': 751, 'improved': 806, '97': 191, 'syndromes': 1452, 'disorders': 532, 'identification': 778, 'mb': 944, 'probands': 1203, 'cosmic': 452, 'carriers': 353, 'replaced': 1284, 'children': 384, '84': 177, 'subjects': 1434, 'occurrence': 1084, 'motifs': 1008, 'disrupting': 534, 'sirnas': 1384, '160': 45, 'discovery': 527, 'ret': 1304, 'btk': 343, 'profiles': 1211, 'dasatinib': 486, 'src': 1413, 'c2': 345, 'kd': 864, 'linked': 902, 'science': 1343, 'vol': 1568, 'pdgfra': 1140, 'cml': 403, '82': 175, '1000': 17, 'sh2': 1365, 'referred': 1268, 'reveals': 1308, 'bonds': 328, 'makes': 929, 'pdb': 1137, 'id': 777, 'pi': 1162, '2d': 99, '38': 110, '68': 158, '04': 9, 'ala': 231, 'aurora': 293, 'ser': 1361, '00': 0, '02': 7, '07': 12, '06': 11, 'yes': 1590, 'nd': 1035, 'craf': 458, '101': 18, 'jak2': 857, 'enzymes': 585, 'supp': 1445, 'lys': 922, 'specifically': 1409, 'substrate': 1436, 'docking': 539, 'mitogen': 992, 'mek12': 966, 'neoplasms': 1038, 'cfc': 376, 'mek1': 965, 'mek2': 967, '130': 37, 'egf': 570, 'introduced': 843, 'hek': 745, '293': 94, 'lanes': 882, 'cos': 450, 'cultures': 470, 'hek293': 746, 'tagged': 1459, 'mek': 964, '79': 171, 'deleted': 498, 'pd': 1136, 'substrates': 1437, 'd1': 481, 'ip': 851, 'flag': 662, 'plasmids': 1171, 'immunoprecipitates': 800, 'ci': 387, 'cdk4': 366, 'p38': 1113, 'usa': 1541, 'stratagene': 1425, 'm2': 926, 'st': 1415, 'noonan': 1054, 'ns': 1067, 'ptpn11': 1230, 'nt': 1071, 'open': 1097, 'schematic': 1342, 'rbd': 1252, 'frameshift': 676, 'signal': 1374, 'somatic': 1403, 'confers': 424, 'hh': 753, 'differentiated': 522, 'ptch1': 1228, 'upregulation': 1540, 'vismodegib': 1564, 'expressed': 623, 'promoting': 1220, 'aa': 195, 'smo': 1397, 'luc': 917, 'gdc': 694, 'progression': 1213, 'ng': 1046, 'tsc': 1518, 'tsc1': 1519, 'mim': 988, 'tsc2': 1520, 'hamartin': 734, 'gap': 689, 'rheb': 1310, 'rapamycin': 1246, 's6': 1333, 's6k': 1334, '107': 24, 'numbering': 1077, 'guidelines': 727, 'qiagen': 1238, '800': 173, 'hr': 769, 'tris': 1515, '150': 43, 'nacl': 1032, 'gels': 697, 'membranes': 972, 'software': 1402, 'sift': 1372, '73': 165, 'ratios': 1249, 'examples': 610, '005': 5, 'test': 1473, '62': 152, '74': 166, '2012': 79, 'details': 514, 'smad2': 1391, 'smad': 1390, 'oligomerization': 1088, 'smads': 1394, 'embryos': 576, 'h3': 731, 'arg': 278, 'asp': 282, 'fl': 661, 'eluted': 574, 'mir': 990, 'smad4': 1393, 'response': 1298, 'injected': 832, 'smad3': 1392, 'section': 1351, 'deletion': 500, '6b': 161, 'ovarian': 1101, '2014': 81, 'biopsies': 319, 'wang': 1572, 'cytosolic': 479, 'patient': 1129, 'given': 713, 'fibroblasts': 649, 'immunofluorescence': 796, 'changed': 378, 'mcf7': 948, 's4': 1331, 's5': 1332, '5c': 147, 'p73': 1116, 'supplemental': 1446, 'experimental': 620, '6a': 160, 'mgkg': 980, 'ihc': 785, 'age': 225, 'year': 1588, 'oncology': 1094, 'relatives': 1280, 'hospital': 764, 'appendix': 271, 'rb': 1250, 'apc': 266, '69': 159, '103': 20, 'follow': 666, 'conferred': 423, '55': 140, 'doi': 542, 'blood': 325, 'edta': 564, '400': 119, '300': 102, 'cycle': 472, 'abi': 198, 'prism': 1199, 'web': 1573, 'number': 1076, 'xl': 1586, 'lipid': 903, 'counted': 455, 'curves': 471, 'growth': 721, 'deleterious': 499, 'neutral': 1042, '180': 48, '120': 31, 'rank': 1245, 'silencing': 1379, 'retroviral': 1306, 'puromycin': 1235, 'manufacturer': 931, 'bp': 331, 'nucleotides': 1074, 'resuspended': 1303, 'cat': 356, 'retrovirus': 1307, 'antitumor': 264, 'fgfr3': 647, 'areas': 277, 'copies': 445, 'vs': 1569, '111': 28, '91': 185, 'ap': 265, 'tyrosine': 1531, 'fgf': 643, 'fgfr2': 646, 'fgfr': 644, 'pdgfr': 1139, 'pkc': 1168, 'stat5': 1420, 'p16': 1108, 'effects': 568, '0001': 3, 'depleted': 509, 'downregulation': 551, 'rnase': 1318, 'iiib': 788, 'promoted': 1217, 'bc': 306, 'sc': 1339, 'end': 581, '000': 1, 'gists': 712, 'imatinib': 793, 'd842v': 484, '2017': 82, 'medical': 959, 'gist': 711, 'engineered': 582, 'juxtamembrane': 861, 'nr': 1064, 'pdgf': 1138, 'phosphotyrosine': 1160, 'd816v': 483, 'myeloproliferative': 1029, 'fip1l1': 657, 'tki': 1490, 'mesylate': 974, 'leukaemia': 891, 'pdgfrα': 1142, 'resistance': 1296, 'nilotinib': 1050, 't790m': 1455, 'erlotinib': 596, 'hela': 748, 'tools': 1494, 'briefly': 341, 'statistical': 1422, 'brca2': 336, 'myriad': 1030, 'vuss': 1571, 'brca': 334, 'vus': 1570, '133': 39, 'bic': 315, 'populations': 1183, 'e3': 559, 'receiving': 1259, 'constructed': 433, 'classifications': 394, '121': 32, 'dbd': 491, '131': 38, '108': 25, '286': 92, 'mmr': 998, 'hnpcc': 759, 'mlh1': 994, 'msh2': 1012, 'msh6': 1013, 'pms2': 1174, 'tgfbr2': 1480, 'microsatellite': 986, 'insight': 834, 'hybrid': 773, 'heterodimer': 752, 'cpg': 457, 'microattribution': 985, 'immunohistochemistry': 798, 'ls': 916, 'crc': 459, 'baseline': 305, 'supporting': 1450, 'conducted': 421, 'immunohistochemical': 797, 'chip': 385, 'breakpoint': 339, 'yielded': 1591, 'lch': 887, 'lymphocytes': 920, 'metastases': 976, 'died': 520, 'mice': 983, 'pooled': 1182, 'exo': 614, 'glioblastoma': 714, 'homolog': 762, 'antisense': 263, 'pten': 1229, 'card11': 352, 'nf': 1044, 'κb': 1594, 'bcl10': 310, 'gc': 693, 'egfp': 571, 'jun': 860, 'cytokines': 477, 'cre': 460, 'cys': 475, 'inducible': 821, 'subcellular': 1431, 'catenin': 358, 'cadherin': 347, 'mcherry': 949, '1α': 64, 'melanoma': 969, 'pp2a': 1188, 'ankyrin': 260, '1e': 63, 'sirna': 1383, 'mel': 968, 'pvhl': 1236, 'hif': 754, 'vhl': 1562, 'ubiquitylation': 1534, 'scf': 1341, 'mgcl2': 979, 'ubiquitination': 1533, 'gst': 724, 'ps': 1227, 'e2': 558, 'p85α': 1118, 'idh2': 783, 'p110α': 1107, 'krasg12d': 873, 'del': 497, 'nsh2': 1070, 'rhoa': 1311, 'regimens': 1270, 'p85': 1117, 'ish2': 852, 'md': 950, 'dr': 552, 'ec': 562, 'akt2': 230, 'abd': 196, 'medicine': 960, 'rad51': 1242, 'mmoll': 997, 'hdr': 743, 'cerevisiae': 374, 'neurofibromin': 1040, 'pc': 1133, 'phosphoinositide': 1155, 'cll': 397, 'pr': 1189, 'nf1': 1045, 'cdkn2a': 368, 'ms': 1011, 'ad': 218, 'gbm': 692, 'p16ink4a': 1109, 'mtorc1': 1016, 'mll': 995, 'ed': 563, 'os': 1099, 'females': 641, 'copy': 446, 'y527fsrc': 1587, 'araf': 276, 'millipore': 987, 'vemurafenib': 1560, 'trametinib': 1497, 'brafv600e': 333, 'seq': 1356, 'raf1': 1244, 'ccnd1': 363, 'sos': 1405, 'oligonucleotides': 1090, 'cisplatin': 391, 'cetuximab': 375, 'united': 1536, 'si': 1371, 'rb1': 1251, 'tgfβ': 1481, 'cdk6': 367, 'idh': 781, 'clusters': 401, 'notch': 1058, 'bcc': 307, 'onlinefirst': 1096, 'nmoll': 1052, 'pip3': 1166, 'phts': 1161, 'wpd': 1581, 'ti': 1485, 'asp92': 283, 'asddd': 281, 'mtorc2': 1017, 'lapatinib': 883, 'hct116': 741, 'nci': 1034, 'mh2': 982, 'sara': 1338, 'ar': 275, 'lncap': 906, 'jm': 858, 'math': 943, 'hormone': 763, 'pfs': 1148, 'kaplan': 862, 'meier': 963, 'p53s': 1115, 'gsk': 723, '3β': 117, 'chek2': 383, 'lung': 919, 'vegf': 1558, 'fgfr1': 645, 'ezh2': 627, 'fbw7': 637, 'ptprd': 1231, 'sorafenib': 1404, 'nsclcs': 1069, 'hd': 742, 'pest': 1146, 'rbm10': 1253, 'smokers': 1398, 'mcf10a': 947, 'mefs': 962, 'aml': 248, 'fa': 628, 'erbb4': 590, 'esr1': 600, 'estrogen': 602, 'erα': 598, 'fgfr4': 648, 'neratinib': 1039, 'afatinib': 222, 'etv6': 606, 'bap1': 301, 'bac': 298, 'es': 599, 'bl': 323, 'cul3': 468, 'btb': 342, 'spop': 1411, 'keap1': 866, 'nrf2': 1066, 'pipkiiβ': 1167, 'v7': 1548, 'ruxolitinib': 1327, 'fedratinib': 640, 'mds': 952, 'shp2': 1369, 'pkc412': 1169, 'pdgfrb': 1141, 'mastocytosis': 940, 'hla': 757, 'cic': 388, 'fbxw7': 638, 'prb': 1190, 'ctcf': 467, 'tcf3': 1465, 'runx1': 1326, 'p300': 1112, 'shp': 1368, 'brd4': 338, 'map2k1': 935, 'b2m': 297, '2hg': 100, 'npm1': 1063, 'asxl1': 289, 'ros1': 1322, 'tet2': 1477, 'cbl': 362, 'tet': 1475, 'ercc2': 591, 'muts': 1026, 'v560d': 1545, 'med12': 956, 'hcc': 739, 'dod': 541, 'aml1': 249, 'gs': 722, 'hmsh2': 758, 'smarca4': 1396, 'gata3': 691, 'tcf': 1464, 'tet1': 1476, '5mc': 148, 'bm': 327, 'rock': 1320, 'bccs': 308, 'sunitinib': 1444, 'ssa': 1414, 'd3': 482, 'ntrk1': 1072, 'mc': 945, 'wt1': 1583, 'v654a': 1547, 'merlin': 973, 'lats1': 886, 'scp': 1345, 'rictor': 1313, 'tuberin': 1521, 'crenolanib': 462, 'defi': 495, 'cient': 389, 'classifi': 393, 'rmce': 1316, 'snu': 1401, 'vegfa': 1559, 'gata': 690, 'ponatinib': 1181, 'p16δ1': 1110, 'fanca': 634, 'ddr2': 492, 'kmt2d': 871, 'mef2b': 961, 'cdk12': 365, 'eecs': 565, 'nut': 1079, '8l': 183, 'foxl2': 672, 'fat1': 635}\n"
     ]
    }
   ],
   "source": [
    "print(\"Vocabulary: \", bow_vectorizer.vocabulary_)"
   ]
  },
  {
   "cell_type": "code",
   "execution_count": 61,
   "metadata": {},
   "outputs": [
    {
     "data": {
      "text/plain": [
       "(926, 1600)"
      ]
     },
     "execution_count": 61,
     "metadata": {},
     "output_type": "execute_result"
    }
   ],
   "source": [
    "train_df_counts.shape"
   ]
  },
  {
   "cell_type": "code",
   "execution_count": 62,
   "metadata": {},
   "outputs": [
    {
     "data": {
      "text/plain": [
       "<926x1600 sparse matrix of type '<class 'numpy.int64'>'\n",
       "\twith 390780 stored elements in Compressed Sparse Row format>"
      ]
     },
     "execution_count": 62,
     "metadata": {},
     "output_type": "execute_result"
    }
   ],
   "source": [
    "train_df_counts"
   ]
  },
  {
   "cell_type": "code",
   "execution_count": 63,
   "metadata": {},
   "outputs": [],
   "source": [
    "X_train_bow = train_df_counts.todense()"
   ]
  },
  {
   "cell_type": "code",
   "execution_count": 64,
   "metadata": {},
   "outputs": [
    {
     "data": {
      "text/plain": [
       "(926, 1600)"
      ]
     },
     "execution_count": 64,
     "metadata": {},
     "output_type": "execute_result"
    }
   ],
   "source": [
    "X_train_bow.shape"
   ]
  },
  {
   "cell_type": "code",
   "execution_count": 65,
   "metadata": {},
   "outputs": [
    {
     "data": {
      "text/plain": [
       "matrix([[ 0,  0,  0, ...,  0,  0,  0],\n",
       "        [ 0,  0,  0, ...,  0,  0,  2],\n",
       "        [ 0,  0,  1, ...,  0, 10,  0],\n",
       "        ...,\n",
       "        [ 0,  0,  0, ...,  0,  0,  0],\n",
       "        [ 0,  0,  0, ...,  0,  2,  0],\n",
       "        [ 0,  0,  1, ...,  0,  3,  0]], dtype=int64)"
      ]
     },
     "execution_count": 65,
     "metadata": {},
     "output_type": "execute_result"
    }
   ],
   "source": [
    "X_train_bow"
   ]
  },
  {
   "cell_type": "markdown",
   "metadata": {},
   "source": [
    "#### tfidf transformation"
   ]
  },
  {
   "cell_type": "code",
   "execution_count": 66,
   "metadata": {},
   "outputs": [
    {
     "data": {
      "text/plain": [
       "TfidfVectorizer(max_features=1600, ngram_range=(1, 3), stop_words='english',\n",
       "                strip_accents='unicode', sublinear_tf=True,\n",
       "                token_pattern='\\\\w+')"
      ]
     },
     "execution_count": 66,
     "metadata": {},
     "output_type": "execute_result"
    }
   ],
   "source": [
    "tfidf_vectorizer.fit(train_df_corpus)"
   ]
  },
  {
   "cell_type": "code",
   "execution_count": 67,
   "metadata": {},
   "outputs": [],
   "source": [
    "X_train_tfidf = tfidf_vectorizer.transform(train_df_corpus)\n",
    "X_train_tfidf = X_train_tfidf.toarray()"
   ]
  },
  {
   "cell_type": "code",
   "execution_count": 68,
   "metadata": {},
   "outputs": [
    {
     "data": {
      "text/plain": [
       "(926, 1600)"
      ]
     },
     "execution_count": 68,
     "metadata": {},
     "output_type": "execute_result"
    }
   ],
   "source": [
    "X_train_tfidf.shape"
   ]
  },
  {
   "cell_type": "code",
   "execution_count": 69,
   "metadata": {},
   "outputs": [
    {
     "data": {
      "text/plain": [
       "array([[0.        , 0.        , 0.        , ..., 0.        , 0.        ,\n",
       "        0.        ],\n",
       "       [0.        , 0.        , 0.        , ..., 0.        , 0.        ,\n",
       "        0.08152506],\n",
       "       [0.035149  , 0.        , 0.        , ..., 0.        , 0.04585165,\n",
       "        0.        ],\n",
       "       ...,\n",
       "       [0.06477877, 0.        , 0.        , ..., 0.        , 0.        ,\n",
       "        0.        ],\n",
       "       [0.        , 0.        , 0.        , ..., 0.        , 0.02176475,\n",
       "        0.        ],\n",
       "       [0.        , 0.        , 0.        , ..., 0.        , 0.04047021,\n",
       "        0.        ]])"
      ]
     },
     "execution_count": 69,
     "metadata": {},
     "output_type": "execute_result"
    }
   ],
   "source": [
    "X_train_tfidf"
   ]
  },
  {
   "cell_type": "markdown",
   "metadata": {},
   "source": [
    "### <font color='green'>creating baseline metrics using hard coded predicted values</font>"
   ]
  },
  {
   "cell_type": "code",
   "execution_count": 70,
   "metadata": {},
   "outputs": [],
   "source": [
    "from numpy import random"
   ]
  },
  {
   "cell_type": "code",
   "execution_count": 71,
   "metadata": {},
   "outputs": [],
   "source": [
    "# create a dummy y value for getting the baseline accuracy\n",
    "y_dummy_1 = random.rand(926,9)"
   ]
  },
  {
   "cell_type": "code",
   "execution_count": 72,
   "metadata": {},
   "outputs": [],
   "source": [
    "#y_dummy"
   ]
  },
  {
   "cell_type": "code",
   "execution_count": 73,
   "metadata": {},
   "outputs": [
    {
     "data": {
      "text/plain": [
       "2364    4\n",
       "301     2\n",
       "369     4\n",
       "2541    5\n",
       "1545    2\n",
       "Name: Class, dtype: int64"
      ]
     },
     "execution_count": 73,
     "metadata": {},
     "output_type": "execute_result"
    }
   ],
   "source": [
    "y_train.head()"
   ]
  },
  {
   "cell_type": "code",
   "execution_count": 74,
   "metadata": {},
   "outputs": [
    {
     "data": {
      "text/plain": [
       "array([0.04496419, 0.71280346, 0.33191532, 0.49201118, 0.80042988,\n",
       "       0.35606582, 0.62574381, 0.70772706, 0.84167233])"
      ]
     },
     "execution_count": 74,
     "metadata": {},
     "output_type": "execute_result"
    }
   ],
   "source": [
    "y_dummy_1[0,:]"
   ]
  },
  {
   "cell_type": "code",
   "execution_count": 75,
   "metadata": {},
   "outputs": [
    {
     "data": {
      "text/plain": [
       "2.4440209665409163"
      ]
     },
     "execution_count": 75,
     "metadata": {},
     "output_type": "execute_result"
    }
   ],
   "source": [
    "# baseline loss metric value, random y values\n",
    "log_loss(y_train,y_dummy_1)"
   ]
  },
  {
   "cell_type": "code",
   "execution_count": 76,
   "metadata": {},
   "outputs": [],
   "source": [
    "y_dummy_2=np.zeros((926,9),dtype='float')"
   ]
  },
  {
   "cell_type": "code",
   "execution_count": 77,
   "metadata": {},
   "outputs": [
    {
     "data": {
      "text/plain": [
       "array([0., 0., 0., 0., 0., 0., 0., 0., 0.])"
      ]
     },
     "execution_count": 77,
     "metadata": {},
     "output_type": "execute_result"
    }
   ],
   "source": [
    "y_dummy_2[0,:]"
   ]
  },
  {
   "cell_type": "code",
   "execution_count": 78,
   "metadata": {},
   "outputs": [
    {
     "data": {
      "text/plain": [
       "2.197224577336219"
      ]
     },
     "execution_count": 78,
     "metadata": {},
     "output_type": "execute_result"
    }
   ],
   "source": [
    "# baseline loss metric value, all probabilites for y set to zero\n",
    "log_loss(y_train,y_dummy_2)"
   ]
  },
  {
   "cell_type": "code",
   "execution_count": 79,
   "metadata": {},
   "outputs": [],
   "source": [
    "# baseline loss metric value, all probabilites for y set to 0.4\n",
    "y_dummy_3=np.full((926,9),0.4,dtype='float')"
   ]
  },
  {
   "cell_type": "code",
   "execution_count": 80,
   "metadata": {},
   "outputs": [
    {
     "data": {
      "text/plain": [
       "array([0.4, 0.4, 0.4, 0.4, 0.4, 0.4, 0.4, 0.4, 0.4])"
      ]
     },
     "execution_count": 80,
     "metadata": {},
     "output_type": "execute_result"
    }
   ],
   "source": [
    "y_dummy_3[0,:]"
   ]
  },
  {
   "cell_type": "code",
   "execution_count": 81,
   "metadata": {},
   "outputs": [
    {
     "data": {
      "text/plain": [
       "2.1972245773362187"
      ]
     },
     "execution_count": 81,
     "metadata": {},
     "output_type": "execute_result"
    }
   ],
   "source": [
    "log_loss(y_train,y_dummy_3)"
   ]
  },
  {
   "cell_type": "code",
   "execution_count": 82,
   "metadata": {},
   "outputs": [],
   "source": [
    "y_dummy_4=np.zeros((926,9),dtype='float')"
   ]
  },
  {
   "cell_type": "code",
   "execution_count": 83,
   "metadata": {},
   "outputs": [],
   "source": [
    "y_dummy_4[:,0]=1.0"
   ]
  },
  {
   "cell_type": "code",
   "execution_count": 84,
   "metadata": {},
   "outputs": [
    {
     "data": {
      "text/plain": [
       "array([1., 0., 0., 0., 0., 0., 0., 0., 0.])"
      ]
     },
     "execution_count": 84,
     "metadata": {},
     "output_type": "execute_result"
    }
   ],
   "source": [
    "y_dummy_4[0,:]"
   ]
  },
  {
   "cell_type": "code",
   "execution_count": 85,
   "metadata": {},
   "outputs": [
    {
     "data": {
      "text/plain": [
       "28.832045521885494"
      ]
     },
     "execution_count": 85,
     "metadata": {},
     "output_type": "execute_result"
    }
   ],
   "source": [
    "# baseline loss metric value,probability at index 1 set to 1.0 for all y\n",
    "log_loss(y_train,y_dummy_4) "
   ]
  },
  {
   "cell_type": "code",
   "execution_count": 86,
   "metadata": {},
   "outputs": [],
   "source": [
    "# baseline loss metric value,probability at random indices set to 1.0 for all y\n",
    "y_dummy_5=np.zeros((926,9),dtype='float')\n",
    "count=0\n",
    "for x in X_train_bow:\n",
    "    new_y_val=np.random.randint(0,9)\n",
    "    y_dummy_5[count,new_y_val]=1.    \n",
    "    count=count+1  "
   ]
  },
  {
   "cell_type": "code",
   "execution_count": 87,
   "metadata": {},
   "outputs": [
    {
     "data": {
      "text/plain": [
       "array([0., 0., 0., 0., 1., 0., 0., 0., 0.])"
      ]
     },
     "execution_count": 87,
     "metadata": {},
     "output_type": "execute_result"
    }
   ],
   "source": [
    "y_dummy_5[0,:]"
   ]
  },
  {
   "cell_type": "code",
   "execution_count": 88,
   "metadata": {},
   "outputs": [
    {
     "data": {
      "text/plain": [
       "30.212104621898128"
      ]
     },
     "execution_count": 88,
     "metadata": {},
     "output_type": "execute_result"
    }
   ],
   "source": [
    "log_loss(y_train,y_dummy_5)"
   ]
  },
  {
   "cell_type": "code",
   "execution_count": 89,
   "metadata": {},
   "outputs": [],
   "source": [
    "# baseline loss metric value,probability at random indices set to 1.0 for all y\n",
    "def get_dummy(train_df):\n",
    "    y_dummy_5=np.zeros((926,9),dtype='float') # creating the probability matrix for y values\n",
    "    count=0\n",
    "    for x in train_df:                        # iterating through the training dataset\n",
    "        new_y_val=np.random.randint(0,9)      # creating random values for substituting index values\n",
    "        y_dummy_5[count,new_y_val]=1.         # setting the random index value as 1.0\n",
    "        count=count+1  \n",
    "    return y_dummy_5    "
   ]
  },
  {
   "cell_type": "code",
   "execution_count": 90,
   "metadata": {},
   "outputs": [],
   "source": [
    "def simulate_dummy(train_df,y_train):    \n",
    "    for i in range(10):\n",
    "        y_dummy=get_dummy(train_df)\n",
    "        print(log_loss(y_train,y_dummy))"
   ]
  },
  {
   "cell_type": "code",
   "execution_count": 91,
   "metadata": {},
   "outputs": [
    {
     "name": "stdout",
     "output_type": "stream",
     "text": [
      "2.4417071504712315\n",
      "2.4044082558762954\n",
      "2.3671093612813596\n",
      "2.4044082558762954\n",
      "2.4044082558762954\n",
      "2.4044082558762954\n",
      "2.4044082558762954\n",
      "2.4044082558762954\n",
      "2.4417071504712315\n",
      "2.4417071504712315\n"
     ]
    }
   ],
   "source": [
    "simulate_dummy(train_df,y_train)"
   ]
  },
  {
   "cell_type": "code",
   "execution_count": 92,
   "metadata": {},
   "outputs": [
    {
     "data": {
      "text/html": [
       "<div>\n",
       "<style scoped>\n",
       "    .dataframe tbody tr th:only-of-type {\n",
       "        vertical-align: middle;\n",
       "    }\n",
       "\n",
       "    .dataframe tbody tr th {\n",
       "        vertical-align: top;\n",
       "    }\n",
       "\n",
       "    .dataframe thead th {\n",
       "        text-align: right;\n",
       "    }\n",
       "</style>\n",
       "<table border=\"1\" class=\"dataframe\">\n",
       "  <thead>\n",
       "    <tr style=\"text-align: right;\">\n",
       "      <th></th>\n",
       "      <th>substitutions</th>\n",
       "      <th>log_loss</th>\n",
       "    </tr>\n",
       "  </thead>\n",
       "  <tbody>\n",
       "    <tr>\n",
       "      <th>0</th>\n",
       "      <td>random</td>\n",
       "      <td>2.49</td>\n",
       "    </tr>\n",
       "    <tr>\n",
       "      <th>1</th>\n",
       "      <td>all zero</td>\n",
       "      <td>2.19</td>\n",
       "    </tr>\n",
       "    <tr>\n",
       "      <th>2</th>\n",
       "      <td>all 0.4</td>\n",
       "      <td>2.19</td>\n",
       "    </tr>\n",
       "    <tr>\n",
       "      <th>3</th>\n",
       "      <td>index 1</td>\n",
       "      <td>28.59</td>\n",
       "    </tr>\n",
       "    <tr>\n",
       "      <th>4</th>\n",
       "      <td>random index</td>\n",
       "      <td>2.40</td>\n",
       "    </tr>\n",
       "  </tbody>\n",
       "</table>\n",
       "</div>"
      ],
      "text/plain": [
       "  substitutions  log_loss\n",
       "0        random      2.49\n",
       "1      all zero      2.19\n",
       "2       all 0.4      2.19\n",
       "3       index 1     28.59\n",
       "4  random index      2.40"
      ]
     },
     "execution_count": 92,
     "metadata": {},
     "output_type": "execute_result"
    }
   ],
   "source": [
    "pd.DataFrame({\"substitutions\":[\"random\",\"all zero\",\"all 0.4\",\"index 1\",\"random index\"],\"log_loss\":[2.49,2.19,2.19,28.59,2.4]})"
   ]
  },
  {
   "cell_type": "markdown",
   "metadata": {},
   "source": [
    "### <font style=\"font-size:18px;font-family:arial;color:green;text-indent:100px;line-height:0.8;word-spacing:10px\">Thus the lowermost limit for log loss score for an inaccurate model returns a value of 2.4 and hence our models should return better scores</font> "
   ]
  },
  {
   "cell_type": "markdown",
   "metadata": {},
   "source": [
    "### <font color='blue'>Logistic Regression Model</font>"
   ]
  },
  {
   "cell_type": "code",
   "execution_count": 93,
   "metadata": {},
   "outputs": [],
   "source": [
    "from sklearn.metrics import accuracy_score"
   ]
  },
  {
   "cell_type": "markdown",
   "metadata": {},
   "source": [
    "#### <font color='blue'>Logistic Regression with bag of words transformation</font>"
   ]
  },
  {
   "cell_type": "code",
   "execution_count": 94,
   "metadata": {},
   "outputs": [
    {
     "data": {
      "text/plain": [
       "LogisticRegression(multi_class='multinomial')"
      ]
     },
     "execution_count": 94,
     "metadata": {},
     "output_type": "execute_result"
    }
   ],
   "source": [
    "bow_model.fit(X_train_bow,y_train)"
   ]
  },
  {
   "cell_type": "code",
   "execution_count": 95,
   "metadata": {},
   "outputs": [
    {
     "data": {
      "text/plain": [
       "[-0.2506560013748209,\n",
       " -0.22057902498021176,\n",
       " -0.2046476006367541,\n",
       " -0.15470518508528774,\n",
       " -0.1507225958859195]"
      ]
     },
     "execution_count": 95,
     "metadata": {},
     "output_type": "execute_result"
    }
   ],
   "source": [
    "sorted(bow_model.coef_.tolist()[0])[:5]"
   ]
  },
  {
   "cell_type": "code",
   "execution_count": 96,
   "metadata": {},
   "outputs": [
    {
     "data": {
      "text/plain": [
       "array([1, 2, 3, 4, 5, 6, 7, 8, 9], dtype=int64)"
      ]
     },
     "execution_count": 96,
     "metadata": {},
     "output_type": "execute_result"
    }
   ],
   "source": [
    "bow_model.classes_"
   ]
  },
  {
   "cell_type": "code",
   "execution_count": 97,
   "metadata": {},
   "outputs": [
    {
     "data": {
      "text/plain": [
       "1600"
      ]
     },
     "execution_count": 97,
     "metadata": {},
     "output_type": "execute_result"
    }
   ],
   "source": [
    "bow_model.n_features_in_"
   ]
  },
  {
   "cell_type": "code",
   "execution_count": 98,
   "metadata": {},
   "outputs": [
    {
     "data": {
      "text/plain": [
       "array([ 0.01173618,  0.01503935, -0.02182365, -0.01104388,  0.01106916,\n",
       "        0.01349123,  0.00900931, -0.01414094, -0.01333677])"
      ]
     },
     "execution_count": 98,
     "metadata": {},
     "output_type": "execute_result"
    }
   ],
   "source": [
    "bow_model.intercept_"
   ]
  },
  {
   "cell_type": "code",
   "execution_count": null,
   "metadata": {},
   "outputs": [],
   "source": []
  },
  {
   "cell_type": "code",
   "execution_count": 99,
   "metadata": {},
   "outputs": [],
   "source": [
    "y_pred_train_bow = bow_model.predict_proba(X_train_bow)"
   ]
  },
  {
   "cell_type": "code",
   "execution_count": 100,
   "metadata": {},
   "outputs": [],
   "source": [
    "y_pred_train_bow2=bow_model.predict(X_train_bow)"
   ]
  },
  {
   "cell_type": "markdown",
   "metadata": {},
   "source": [
    "#### <font color='purple'>scoring the prediction using multiple scoring metrics</font>"
   ]
  },
  {
   "cell_type": "code",
   "execution_count": 101,
   "metadata": {},
   "outputs": [
    {
     "data": {
      "text/plain": [
       "0.15672235005555984"
      ]
     },
     "execution_count": 101,
     "metadata": {},
     "output_type": "execute_result"
    }
   ],
   "source": [
    "log_loss(y_train,y_pred_train_bow)"
   ]
  },
  {
   "cell_type": "code",
   "execution_count": 102,
   "metadata": {},
   "outputs": [],
   "source": [
    "from sklearn.metrics import classification_report"
   ]
  },
  {
   "cell_type": "code",
   "execution_count": 103,
   "metadata": {},
   "outputs": [],
   "source": [
    "target_names=['class 1','class 2','class 3','class 4','class 5','class 6','class 7','class 8','class 9']"
   ]
  },
  {
   "cell_type": "code",
   "execution_count": 104,
   "metadata": {},
   "outputs": [
    {
     "name": "stdout",
     "output_type": "stream",
     "text": [
      "              precision    recall  f1-score   support\n",
      "\n",
      "     class 1       0.93      0.89      0.91       153\n",
      "     class 2       0.96      0.94      0.95       121\n",
      "     class 3       0.73      0.70      0.72        27\n",
      "     class 4       0.94      0.94      0.94       207\n",
      "     class 5       0.79      0.77      0.78        60\n",
      "     class 6       0.88      0.94      0.91        68\n",
      "     class 7       0.95      0.97      0.96       277\n",
      "     class 8       1.00      1.00      1.00         5\n",
      "     class 9       0.89      1.00      0.94         8\n",
      "\n",
      "    accuracy                           0.92       926\n",
      "   macro avg       0.90      0.91      0.90       926\n",
      "weighted avg       0.92      0.92      0.92       926\n",
      "\n"
     ]
    }
   ],
   "source": [
    "print(classification_report(y_train, y_pred_train_bow2, target_names=target_names))"
   ]
  },
  {
   "cell_type": "code",
   "execution_count": 105,
   "metadata": {},
   "outputs": [],
   "source": [
    "from sklearn.metrics import plot_confusion_matrix"
   ]
  },
  {
   "cell_type": "code",
   "execution_count": 106,
   "metadata": {},
   "outputs": [
    {
     "data": {
      "text/plain": [
       "<sklearn.metrics._plot.confusion_matrix.ConfusionMatrixDisplay at 0x27cd4d131c8>"
      ]
     },
     "execution_count": 106,
     "metadata": {},
     "output_type": "execute_result"
    },
    {
     "data": {
      "image/png": "[encoded data removed]",
      "text/plain": [
       "<Figure size 432x288 with 2 Axes>"
      ]
     },
     "metadata": {
      "needs_background": "light"
     },
     "output_type": "display_data"
    }
   ],
   "source": [
    "plot_confusion_matrix(bow_model, X_train_bow, y_train)"
   ]
  },
  {
   "cell_type": "markdown",
   "metadata": {},
   "source": [
    "#### <font color='blue'>Logistic Regression with tfidf transformation</font>"
   ]
  },
  {
   "cell_type": "code",
   "execution_count": 107,
   "metadata": {},
   "outputs": [
    {
     "data": {
      "text/plain": [
       "LogisticRegression(multi_class='multinomial')"
      ]
     },
     "execution_count": 107,
     "metadata": {},
     "output_type": "execute_result"
    }
   ],
   "source": [
    "tfidf_model.fit(X_train_tfidf,y_train)"
   ]
  },
  {
   "cell_type": "code",
   "execution_count": 108,
   "metadata": {},
   "outputs": [
    {
     "data": {
      "text/plain": [
       "[-0.8270794917220345,\n",
       " -0.684384218957839,\n",
       " -0.6544716521284297,\n",
       " -0.5823495425961271,\n",
       " -0.5590544323045477]"
      ]
     },
     "execution_count": 108,
     "metadata": {},
     "output_type": "execute_result"
    }
   ],
   "source": [
    "sorted(tfidf_model.coef_.tolist()[0])[:5]"
   ]
  },
  {
   "cell_type": "code",
   "execution_count": 109,
   "metadata": {},
   "outputs": [
    {
     "data": {
      "text/plain": [
       "array([1, 2, 3, 4, 5, 6, 7, 8, 9], dtype=int64)"
      ]
     },
     "execution_count": 109,
     "metadata": {},
     "output_type": "execute_result"
    }
   ],
   "source": [
    "tfidf_model.classes_"
   ]
  },
  {
   "cell_type": "code",
   "execution_count": 110,
   "metadata": {},
   "outputs": [
    {
     "data": {
      "text/plain": [
       "1600"
      ]
     },
     "execution_count": 110,
     "metadata": {},
     "output_type": "execute_result"
    }
   ],
   "source": [
    "tfidf_model.n_features_in_"
   ]
  },
  {
   "cell_type": "code",
   "execution_count": 111,
   "metadata": {},
   "outputs": [
    {
     "data": {
      "text/plain": [
       "array([ 0.64611608,  1.07561475, -0.45356226,  1.23875073,  0.375886  ,\n",
       "        0.33603029,  0.94900918, -2.30462496, -1.8632198 ])"
      ]
     },
     "execution_count": 111,
     "metadata": {},
     "output_type": "execute_result"
    }
   ],
   "source": [
    "tfidf_model.intercept_"
   ]
  },
  {
   "cell_type": "code",
   "execution_count": 112,
   "metadata": {},
   "outputs": [],
   "source": [
    "y_pred_train_tfidf = tfidf_model.predict_proba(X_train_tfidf)"
   ]
  },
  {
   "cell_type": "code",
   "execution_count": 113,
   "metadata": {},
   "outputs": [],
   "source": [
    "y_pred_train_tfidf2 = tfidf_model.predict(X_train_tfidf)"
   ]
  },
  {
   "cell_type": "markdown",
   "metadata": {},
   "source": [
    "#### <font color='purple'>scoring the prediction using multiple scoring metrics</font>"
   ]
  },
  {
   "cell_type": "code",
   "execution_count": 114,
   "metadata": {},
   "outputs": [
    {
     "data": {
      "text/plain": [
       "0.9893387641254819"
      ]
     },
     "execution_count": 114,
     "metadata": {},
     "output_type": "execute_result"
    }
   ],
   "source": [
    "log_loss(y_train,y_pred_train_tfidf)"
   ]
  },
  {
   "cell_type": "code",
   "execution_count": 115,
   "metadata": {},
   "outputs": [
    {
     "name": "stdout",
     "output_type": "stream",
     "text": [
      "              precision    recall  f1-score   support\n",
      "\n",
      "     class 1       0.76      0.76      0.76       153\n",
      "     class 2       0.90      0.37      0.53       121\n",
      "     class 3       0.00      0.00      0.00        27\n",
      "     class 4       0.77      0.82      0.79       207\n",
      "     class 5       0.59      0.48      0.53        60\n",
      "     class 6       0.94      0.65      0.77        68\n",
      "     class 7       0.67      0.98      0.80       277\n",
      "     class 8       0.00      0.00      0.00         5\n",
      "     class 9       0.00      0.00      0.00         8\n",
      "\n",
      "    accuracy                           0.73       926\n",
      "   macro avg       0.51      0.45      0.46       926\n",
      "weighted avg       0.72      0.73      0.70       926\n",
      "\n"
     ]
    }
   ],
   "source": [
    "print(classification_report(y_train, y_pred_train_tfidf2, target_names=target_names))"
   ]
  },
  {
   "cell_type": "code",
   "execution_count": 116,
   "metadata": {},
   "outputs": [
    {
     "data": {
      "text/plain": [
       "<sklearn.metrics._plot.confusion_matrix.ConfusionMatrixDisplay at 0x27cd4dfd9c8>"
      ]
     },
     "execution_count": 116,
     "metadata": {},
     "output_type": "execute_result"
    },
    {
     "data": {
      "image/png": "[encoded data removed]",
      "text/plain": [
       "<Figure size 432x288 with 2 Axes>"
      ]
     },
     "metadata": {
      "needs_background": "light"
     },
     "output_type": "display_data"
    }
   ],
   "source": [
    "plot_confusion_matrix(tfidf_model, X_train_bow, y_train)"
   ]
  },
  {
   "cell_type": "markdown",
   "metadata": {},
   "source": [
    "### <font color='blue'> Multinomial Naive Bayes Model<font>"
   ]
  },
  {
   "cell_type": "code",
   "execution_count": 117,
   "metadata": {},
   "outputs": [],
   "source": [
    "from sklearn.naive_bayes import MultinomialNB"
   ]
  },
  {
   "cell_type": "markdown",
   "metadata": {},
   "source": [
    "#### <font color='purple'>bag of words transformation</font>"
   ]
  },
  {
   "cell_type": "code",
   "execution_count": 118,
   "metadata": {},
   "outputs": [],
   "source": [
    "NB_clf=MultinomialNB()"
   ]
  },
  {
   "cell_type": "code",
   "execution_count": 119,
   "metadata": {},
   "outputs": [
    {
     "data": {
      "text/plain": [
       "MultinomialNB()"
      ]
     },
     "execution_count": 119,
     "metadata": {},
     "output_type": "execute_result"
    }
   ],
   "source": [
    "NB_clf.fit(X_train_bow,y_train)"
   ]
  },
  {
   "cell_type": "code",
   "execution_count": 120,
   "metadata": {},
   "outputs": [
    {
     "data": {
      "text/plain": [
       "array([153., 121.,  27., 207.,  60.,  68., 277.,   5.,   8.])"
      ]
     },
     "execution_count": 120,
     "metadata": {},
     "output_type": "execute_result"
    }
   ],
   "source": [
    "NB_clf.class_count_"
   ]
  },
  {
   "cell_type": "code",
   "execution_count": 121,
   "metadata": {},
   "outputs": [],
   "source": [
    "y_pred_train_NB=NB_clf.predict_proba(X_train_bow)"
   ]
  },
  {
   "cell_type": "code",
   "execution_count": 122,
   "metadata": {},
   "outputs": [],
   "source": [
    "y_pred_train_NB2=NB_clf.predict(X_train_bow)"
   ]
  },
  {
   "cell_type": "markdown",
   "metadata": {},
   "source": [
    "#### <font color='purple'>scoring the prediction using multiple scoring metrics</font>"
   ]
  },
  {
   "cell_type": "code",
   "execution_count": 123,
   "metadata": {},
   "outputs": [
    {
     "data": {
      "text/plain": [
       "11.237305657777807"
      ]
     },
     "execution_count": 123,
     "metadata": {},
     "output_type": "execute_result"
    }
   ],
   "source": [
    "log_loss(y_train,y_pred_train_NB)"
   ]
  },
  {
   "cell_type": "code",
   "execution_count": 124,
   "metadata": {},
   "outputs": [
    {
     "name": "stdout",
     "output_type": "stream",
     "text": [
      "              precision    recall  f1-score   support\n",
      "\n",
      "     class 1       0.61      0.76      0.68       153\n",
      "     class 2       0.52      0.68      0.59       121\n",
      "     class 3       0.35      0.70      0.47        27\n",
      "     class 4       0.79      0.54      0.64       207\n",
      "     class 5       0.52      0.57      0.54        60\n",
      "     class 6       0.75      0.74      0.74        68\n",
      "     class 7       0.81      0.60      0.69       277\n",
      "     class 8       0.19      1.00      0.31         5\n",
      "     class 9       0.57      1.00      0.73         8\n",
      "\n",
      "    accuracy                           0.64       926\n",
      "   macro avg       0.57      0.73      0.60       926\n",
      "weighted avg       0.69      0.64      0.65       926\n",
      "\n"
     ]
    }
   ],
   "source": [
    "print(classification_report(y_train, y_pred_train_NB2, target_names=target_names))"
   ]
  },
  {
   "cell_type": "code",
   "execution_count": 125,
   "metadata": {},
   "outputs": [
    {
     "data": {
      "text/plain": [
       "<sklearn.metrics._plot.confusion_matrix.ConfusionMatrixDisplay at 0x27cd4f2fe88>"
      ]
     },
     "execution_count": 125,
     "metadata": {},
     "output_type": "execute_result"
    },
    {
     "data": {
      "image/png": "[encoded data removed]",
      "text/plain": [
       "<Figure size 432x288 with 2 Axes>"
      ]
     },
     "metadata": {
      "needs_background": "light"
     },
     "output_type": "display_data"
    }
   ],
   "source": [
    "plot_confusion_matrix(NB_clf, X_train_bow, y_train)"
   ]
  },
  {
   "cell_type": "code",
   "execution_count": null,
   "metadata": {},
   "outputs": [],
   "source": []
  },
  {
   "cell_type": "markdown",
   "metadata": {},
   "source": [
    "### Validation dataset"
   ]
  },
  {
   "cell_type": "code",
   "execution_count": 126,
   "metadata": {},
   "outputs": [
    {
     "data": {
      "text/plain": [
       "((398, 4), (398,))"
      ]
     },
     "execution_count": 126,
     "metadata": {},
     "output_type": "execute_result"
    }
   ],
   "source": [
    "validation_df.shape,y_validation.shape"
   ]
  },
  {
   "cell_type": "code",
   "execution_count": 127,
   "metadata": {},
   "outputs": [
    {
     "data": {
      "text/html": [
       "<div>\n",
       "<style scoped>\n",
       "    .dataframe tbody tr th:only-of-type {\n",
       "        vertical-align: middle;\n",
       "    }\n",
       "\n",
       "    .dataframe tbody tr th {\n",
       "        vertical-align: top;\n",
       "    }\n",
       "\n",
       "    .dataframe thead th {\n",
       "        text-align: right;\n",
       "    }\n",
       "</style>\n",
       "<table border=\"1\" class=\"dataframe\">\n",
       "  <thead>\n",
       "    <tr style=\"text-align: right;\">\n",
       "      <th></th>\n",
       "      <th>ID</th>\n",
       "      <th>Gene</th>\n",
       "      <th>Variation</th>\n",
       "      <th>Text</th>\n",
       "    </tr>\n",
       "  </thead>\n",
       "  <tbody>\n",
       "    <tr>\n",
       "      <th>2849</th>\n",
       "      <td>2849</td>\n",
       "      <td>BRCA2</td>\n",
       "      <td>H1966Y</td>\n",
       "      <td>Twenty percent of individuals with a strong fa...</td>\n",
       "    </tr>\n",
       "    <tr>\n",
       "      <th>1767</th>\n",
       "      <td>1767</td>\n",
       "      <td>IDH2</td>\n",
       "      <td>R172S</td>\n",
       "      <td>Monoallelic point mutations in cytosolic isoci...</td>\n",
       "    </tr>\n",
       "    <tr>\n",
       "      <th>2611</th>\n",
       "      <td>2611</td>\n",
       "      <td>BRCA1</td>\n",
       "      <td>V1808A</td>\n",
       "      <td>ABSTRACT Germline mutations that inactivate th...</td>\n",
       "    </tr>\n",
       "    <tr>\n",
       "      <th>1512</th>\n",
       "      <td>1512</td>\n",
       "      <td>ALK</td>\n",
       "      <td>D1203N</td>\n",
       "      <td>EML4–ALK fusions define a subset of lung cance...</td>\n",
       "    </tr>\n",
       "    <tr>\n",
       "      <th>1889</th>\n",
       "      <td>1889</td>\n",
       "      <td>MTOR</td>\n",
       "      <td>P2476L</td>\n",
       "      <td>Mammalian target of rapamycin (mTOR) is a seri...</td>\n",
       "    </tr>\n",
       "  </tbody>\n",
       "</table>\n",
       "</div>"
      ],
      "text/plain": [
       "        ID   Gene Variation                                               Text\n",
       "2849  2849  BRCA2    H1966Y  Twenty percent of individuals with a strong fa...\n",
       "1767  1767   IDH2     R172S  Monoallelic point mutations in cytosolic isoci...\n",
       "2611  2611  BRCA1    V1808A  ABSTRACT Germline mutations that inactivate th...\n",
       "1512  1512    ALK    D1203N  EML4–ALK fusions define a subset of lung cance...\n",
       "1889  1889   MTOR    P2476L  Mammalian target of rapamycin (mTOR) is a seri..."
      ]
     },
     "execution_count": 127,
     "metadata": {},
     "output_type": "execute_result"
    }
   ],
   "source": [
    "validation_df.head()"
   ]
  },
  {
   "cell_type": "markdown",
   "metadata": {},
   "source": [
    "#### text processing of validation data"
   ]
  },
  {
   "cell_type": "code",
   "execution_count": null,
   "metadata": {},
   "outputs": [],
   "source": []
  },
  {
   "cell_type": "code",
   "execution_count": 128,
   "metadata": {},
   "outputs": [
    {
     "name": "stderr",
     "output_type": "stream",
     "text": [
      "progress bar: 100%|██████████| 398/398 [00:04<00:00, 99.15it/s] \n"
     ]
    }
   ],
   "source": [
    "# remove punctuation\n",
    "validation_df['cleaned_text'] = validation_df['Text'].progress_map(cleanse_data,na_action='ignore')"
   ]
  },
  {
   "cell_type": "code",
   "execution_count": 129,
   "metadata": {},
   "outputs": [
    {
     "name": "stderr",
     "output_type": "stream",
     "text": [
      "progress bar: 100%|██████████| 398/398 [00:01<00:00, 263.58it/s]\n"
     ]
    }
   ],
   "source": [
    "# filtering all common english words\n",
    "validation_df['cleaned_text'] = validation_df['cleaned_text'].progress_map(reduce_words,na_action='ignore')"
   ]
  },
  {
   "cell_type": "code",
   "execution_count": 130,
   "metadata": {},
   "outputs": [],
   "source": [
    "validation_df['Text_len'] = validation_df['Text'].map(lambda x:len(str(x)))\n",
    "validation_df['cleaned_text_len'] = validation_df['cleaned_text'].map(lambda x:len(str(x)))"
   ]
  },
  {
   "cell_type": "code",
   "execution_count": 131,
   "metadata": {},
   "outputs": [
    {
     "data": {
      "text/html": [
       "<div>\n",
       "<style scoped>\n",
       "    .dataframe tbody tr th:only-of-type {\n",
       "        vertical-align: middle;\n",
       "    }\n",
       "\n",
       "    .dataframe tbody tr th {\n",
       "        vertical-align: top;\n",
       "    }\n",
       "\n",
       "    .dataframe thead th {\n",
       "        text-align: right;\n",
       "    }\n",
       "</style>\n",
       "<table border=\"1\" class=\"dataframe\">\n",
       "  <thead>\n",
       "    <tr style=\"text-align: right;\">\n",
       "      <th></th>\n",
       "      <th>ID</th>\n",
       "      <th>Gene</th>\n",
       "      <th>Variation</th>\n",
       "      <th>Text</th>\n",
       "      <th>cleaned_text</th>\n",
       "      <th>Text_len</th>\n",
       "      <th>cleaned_text_len</th>\n",
       "    </tr>\n",
       "  </thead>\n",
       "  <tbody>\n",
       "    <tr>\n",
       "      <th>2849</th>\n",
       "      <td>2849</td>\n",
       "      <td>BRCA2</td>\n",
       "      <td>H1966Y</td>\n",
       "      <td>Twenty percent of individuals with a strong fa...</td>\n",
       "      <td>Twenty individuals andor BRCA1 BRCA2 Identific...</td>\n",
       "      <td>22651</td>\n",
       "      <td>8573</td>\n",
       "    </tr>\n",
       "    <tr>\n",
       "      <th>1767</th>\n",
       "      <td>1767</td>\n",
       "      <td>IDH2</td>\n",
       "      <td>R172S</td>\n",
       "      <td>Monoallelic point mutations in cytosolic isoci...</td>\n",
       "      <td>Monoallelic mutations cytosolic isocitrate 1 I...</td>\n",
       "      <td>77672</td>\n",
       "      <td>33988</td>\n",
       "    </tr>\n",
       "    <tr>\n",
       "      <th>2611</th>\n",
       "      <td>2611</td>\n",
       "      <td>BRCA1</td>\n",
       "      <td>V1808A</td>\n",
       "      <td>ABSTRACT Germline mutations that inactivate th...</td>\n",
       "      <td>ABSTRACT Germline mutations BRCA1 increased ca...</td>\n",
       "      <td>77981</td>\n",
       "      <td>29327</td>\n",
       "    </tr>\n",
       "    <tr>\n",
       "      <th>1512</th>\n",
       "      <td>1512</td>\n",
       "      <td>ALK</td>\n",
       "      <td>D1203N</td>\n",
       "      <td>EML4–ALK fusions define a subset of lung cance...</td>\n",
       "      <td>EML4–ALK fusions cancers treated ALK inhibitor...</td>\n",
       "      <td>92377</td>\n",
       "      <td>40625</td>\n",
       "    </tr>\n",
       "    <tr>\n",
       "      <th>1889</th>\n",
       "      <td>1889</td>\n",
       "      <td>MTOR</td>\n",
       "      <td>P2476L</td>\n",
       "      <td>Mammalian target of rapamycin (mTOR) is a seri...</td>\n",
       "      <td>Mammalian rapamycin mTOR serinethreonine regul...</td>\n",
       "      <td>19043</td>\n",
       "      <td>8410</td>\n",
       "    </tr>\n",
       "  </tbody>\n",
       "</table>\n",
       "</div>"
      ],
      "text/plain": [
       "        ID   Gene Variation  \\\n",
       "2849  2849  BRCA2    H1966Y   \n",
       "1767  1767   IDH2     R172S   \n",
       "2611  2611  BRCA1    V1808A   \n",
       "1512  1512    ALK    D1203N   \n",
       "1889  1889   MTOR    P2476L   \n",
       "\n",
       "                                                   Text  \\\n",
       "2849  Twenty percent of individuals with a strong fa...   \n",
       "1767  Monoallelic point mutations in cytosolic isoci...   \n",
       "2611  ABSTRACT Germline mutations that inactivate th...   \n",
       "1512  EML4–ALK fusions define a subset of lung cance...   \n",
       "1889  Mammalian target of rapamycin (mTOR) is a seri...   \n",
       "\n",
       "                                           cleaned_text  Text_len  \\\n",
       "2849  Twenty individuals andor BRCA1 BRCA2 Identific...     22651   \n",
       "1767  Monoallelic mutations cytosolic isocitrate 1 I...     77672   \n",
       "2611  ABSTRACT Germline mutations BRCA1 increased ca...     77981   \n",
       "1512  EML4–ALK fusions cancers treated ALK inhibitor...     92377   \n",
       "1889  Mammalian rapamycin mTOR serinethreonine regul...     19043   \n",
       "\n",
       "      cleaned_text_len  \n",
       "2849              8573  \n",
       "1767             33988  \n",
       "2611             29327  \n",
       "1512             40625  \n",
       "1889              8410  "
      ]
     },
     "execution_count": 131,
     "metadata": {},
     "output_type": "execute_result"
    }
   ],
   "source": [
    "validation_df.head()"
   ]
  },
  {
   "cell_type": "code",
   "execution_count": 132,
   "metadata": {},
   "outputs": [],
   "source": [
    "validation_df_corpus = validation_df['cleaned_text'].tolist()"
   ]
  },
  {
   "cell_type": "markdown",
   "metadata": {},
   "source": [
    "##### Bag of words transformation"
   ]
  },
  {
   "cell_type": "code",
   "execution_count": 133,
   "metadata": {},
   "outputs": [],
   "source": [
    "validation_df_counts= bow_vectorizer.transform(validation_df_corpus)"
   ]
  },
  {
   "cell_type": "code",
   "execution_count": 134,
   "metadata": {},
   "outputs": [
    {
     "data": {
      "text/plain": [
       "(398, 1600)"
      ]
     },
     "execution_count": 134,
     "metadata": {},
     "output_type": "execute_result"
    }
   ],
   "source": [
    "validation_df_counts.shape"
   ]
  },
  {
   "cell_type": "code",
   "execution_count": 135,
   "metadata": {},
   "outputs": [],
   "source": [
    "X_validation_bow = validation_df_counts.todense()"
   ]
  },
  {
   "cell_type": "code",
   "execution_count": 136,
   "metadata": {},
   "outputs": [
    {
     "data": {
      "text/plain": [
       "(398, 1600)"
      ]
     },
     "execution_count": 136,
     "metadata": {},
     "output_type": "execute_result"
    }
   ],
   "source": [
    "X_validation_bow.shape"
   ]
  },
  {
   "cell_type": "code",
   "execution_count": 137,
   "metadata": {},
   "outputs": [
    {
     "data": {
      "text/plain": [
       "matrix([[ 0,  0,  0, ...,  0,  0,  0],\n",
       "        [ 0,  0,  0, ...,  0,  0,  0],\n",
       "        [ 0,  0,  0, ...,  0,  0,  0],\n",
       "        ...,\n",
       "        [ 0,  0,  0, ...,  0,  5,  0],\n",
       "        [ 0,  0,  0, ...,  4,  0, 11],\n",
       "        [ 0,  0,  4, ...,  1, 20, 10]], dtype=int64)"
      ]
     },
     "execution_count": 137,
     "metadata": {},
     "output_type": "execute_result"
    }
   ],
   "source": [
    "X_validation_bow"
   ]
  },
  {
   "cell_type": "code",
   "execution_count": 138,
   "metadata": {},
   "outputs": [],
   "source": [
    "y_pred_validation_bow = bow_model.predict_proba(X_validation_bow)"
   ]
  },
  {
   "cell_type": "code",
   "execution_count": 139,
   "metadata": {},
   "outputs": [],
   "source": [
    "y_pred_validation_bow2 = bow_model.predict(X_validation_bow)"
   ]
  },
  {
   "cell_type": "raw",
   "metadata": {},
   "source": [
    "#### <font color='purple'>scoring the prediction using multiple scoring metrics</font>"
   ]
  },
  {
   "cell_type": "code",
   "execution_count": 140,
   "metadata": {},
   "outputs": [
    {
     "data": {
      "text/plain": [
       "7.265635432181534"
      ]
     },
     "execution_count": 140,
     "metadata": {},
     "output_type": "execute_result"
    }
   ],
   "source": [
    "log_loss(y_validation,y_pred_validation_bow)"
   ]
  },
  {
   "cell_type": "code",
   "execution_count": 141,
   "metadata": {},
   "outputs": [
    {
     "name": "stdout",
     "output_type": "stream",
     "text": [
      "              precision    recall  f1-score   support\n",
      "\n",
      "     class 1       0.42      0.46      0.44        67\n",
      "     class 2       0.53      0.51      0.52        61\n",
      "     class 3       0.36      0.50      0.42         8\n",
      "     class 4       0.53      0.51      0.52        79\n",
      "     class 5       0.31      0.28      0.29        29\n",
      "     class 6       0.78      0.45      0.57        31\n",
      "     class 7       0.64      0.71      0.67       114\n",
      "     class 8       0.00      0.00      0.00         1\n",
      "     class 9       0.88      0.88      0.88         8\n",
      "\n",
      "    accuracy                           0.54       398\n",
      "   macro avg       0.49      0.48      0.48       398\n",
      "weighted avg       0.55      0.54      0.54       398\n",
      "\n"
     ]
    }
   ],
   "source": [
    "print(classification_report(y_validation, y_pred_validation_bow2, target_names=target_names))"
   ]
  },
  {
   "cell_type": "code",
   "execution_count": 142,
   "metadata": {},
   "outputs": [
    {
     "data": {
      "text/plain": [
       "<sklearn.metrics._plot.confusion_matrix.ConfusionMatrixDisplay at 0x27cb91c3f48>"
      ]
     },
     "execution_count": 142,
     "metadata": {},
     "output_type": "execute_result"
    },
    {
     "data": {
      "image/png": "[encoded data removed]",
      "text/plain": [
       "<Figure size 432x288 with 2 Axes>"
      ]
     },
     "metadata": {
      "needs_background": "light"
     },
     "output_type": "display_data"
    }
   ],
   "source": [
    "plot_confusion_matrix(bow_model, X_validation_bow, y_validation)"
   ]
  },
  {
   "cell_type": "markdown",
   "metadata": {},
   "source": [
    "##### TFIDF transformation"
   ]
  },
  {
   "cell_type": "code",
   "execution_count": 143,
   "metadata": {},
   "outputs": [],
   "source": [
    "X_validate_tfidf = tfidf_vectorizer.transform(validation_df_corpus)"
   ]
  },
  {
   "cell_type": "code",
   "execution_count": 144,
   "metadata": {},
   "outputs": [],
   "source": [
    "X_validate_tfidf = X_validate_tfidf.toarray()"
   ]
  },
  {
   "cell_type": "code",
   "execution_count": 145,
   "metadata": {},
   "outputs": [],
   "source": [
    "y_pred_validate_tfidf = tfidf_model.predict_proba(X_validate_tfidf)"
   ]
  },
  {
   "cell_type": "code",
   "execution_count": 146,
   "metadata": {},
   "outputs": [],
   "source": [
    "y_pred_validate_tfidf2 = tfidf_model.predict(X_validate_tfidf)"
   ]
  },
  {
   "cell_type": "markdown",
   "metadata": {},
   "source": [
    "#### <font color='purple'>scoring the prediction using multiple scoring metrics</font>"
   ]
  },
  {
   "cell_type": "code",
   "execution_count": 147,
   "metadata": {},
   "outputs": [
    {
     "data": {
      "text/plain": [
       "1.2843995965535149"
      ]
     },
     "execution_count": 147,
     "metadata": {},
     "output_type": "execute_result"
    }
   ],
   "source": [
    "log_loss(y_validation,y_pred_validate_tfidf)"
   ]
  },
  {
   "cell_type": "code",
   "execution_count": 148,
   "metadata": {},
   "outputs": [
    {
     "name": "stdout",
     "output_type": "stream",
     "text": [
      "              precision    recall  f1-score   support\n",
      "\n",
      "     class 1       0.53      0.48      0.50        67\n",
      "     class 2       0.87      0.21      0.34        61\n",
      "     class 3       0.00      0.00      0.00         8\n",
      "     class 4       0.62      0.70      0.65        79\n",
      "     class 5       0.40      0.34      0.37        29\n",
      "     class 6       0.80      0.39      0.52        31\n",
      "     class 7       0.57      0.96      0.71       114\n",
      "     class 8       0.00      0.00      0.00         1\n",
      "     class 9       0.00      0.00      0.00         8\n",
      "\n",
      "    accuracy                           0.58       398\n",
      "   macro avg       0.42      0.34      0.35       398\n",
      "weighted avg       0.60      0.58      0.54       398\n",
      "\n"
     ]
    }
   ],
   "source": [
    "print(classification_report(y_validation, y_pred_validate_tfidf2, target_names=target_names))"
   ]
  },
  {
   "cell_type": "code",
   "execution_count": 149,
   "metadata": {},
   "outputs": [
    {
     "data": {
      "text/plain": [
       "<sklearn.metrics._plot.confusion_matrix.ConfusionMatrixDisplay at 0x27ccd68af48>"
      ]
     },
     "execution_count": 149,
     "metadata": {},
     "output_type": "execute_result"
    },
    {
     "data": {
      "image/png": "[encoded data removed]",
      "text/plain": [
       "<Figure size 432x288 with 2 Axes>"
      ]
     },
     "metadata": {
      "needs_background": "light"
     },
     "output_type": "display_data"
    }
   ],
   "source": [
    "plot_confusion_matrix(tfidf_model, X_validate_tfidf, y_validation)"
   ]
  },
  {
   "cell_type": "code",
   "execution_count": null,
   "metadata": {},
   "outputs": [],
   "source": []
  },
  {
   "cell_type": "code",
   "execution_count": null,
   "metadata": {},
   "outputs": [],
   "source": []
  },
  {
   "cell_type": "markdown",
   "metadata": {},
   "source": [
    "#### handling the test text sample data"
   ]
  },
  {
   "cell_type": "code",
   "execution_count": null,
   "metadata": {},
   "outputs": [],
   "source": [
    "#test_text_df.sort_values(['ID']).head()"
   ]
  },
  {
   "cell_type": "code",
   "execution_count": null,
   "metadata": {},
   "outputs": [],
   "source": [
    "#test_text_df.shape"
   ]
  },
  {
   "cell_type": "code",
   "execution_count": null,
   "metadata": {},
   "outputs": [],
   "source": [
    "#test_text_df['cleaned_text'] = test_text_df['Text'].map(cleanse_data,na_action='ignore')"
   ]
  },
  {
   "cell_type": "code",
   "execution_count": null,
   "metadata": {},
   "outputs": [],
   "source": [
    "#test_text_df['cleaned_text'] = test_text_df['cleaned_text'].map(reduce_words)"
   ]
  },
  {
   "cell_type": "code",
   "execution_count": null,
   "metadata": {},
   "outputs": [],
   "source": [
    "#test_text_df['cleaned_text_vector'] = test_text_df['cleaned_text'].map(word_count)"
   ]
  },
  {
   "cell_type": "code",
   "execution_count": null,
   "metadata": {},
   "outputs": [],
   "source": [
    "#test_text_df['sorted_cleaned_text_vector'] = test_text_df['cleaned_text'].progress_map(freq_dist)"
   ]
  },
  {
   "cell_type": "code",
   "execution_count": null,
   "metadata": {},
   "outputs": [],
   "source": [
    "#test_text_df = test_text_df.drop(['Text'],axis=1)"
   ]
  },
  {
   "cell_type": "code",
   "execution_count": null,
   "metadata": {},
   "outputs": [],
   "source": [
    "#test_text_df.head()"
   ]
  },
  {
   "cell_type": "code",
   "execution_count": null,
   "metadata": {},
   "outputs": [],
   "source": [
    "# get the text samples as list\n",
    "#test_corpus = test_text_df['cleaned_text'].tolist()"
   ]
  },
  {
   "cell_type": "code",
   "execution_count": null,
   "metadata": {},
   "outputs": [],
   "source": [
    "# transform the test case to get bag of words\n",
    "#test_bag_of_words_train = bow_vectorizer.fit_transform(test_corpus)"
   ]
  },
  {
   "cell_type": "code",
   "execution_count": null,
   "metadata": {},
   "outputs": [],
   "source": [
    "# convert the dictionary to an array\n",
    "#test_bag_of_words_array = test_bag_of_words_train.toarray()"
   ]
  },
  {
   "cell_type": "code",
   "execution_count": null,
   "metadata": {},
   "outputs": [],
   "source": [
    "#test_bag_of_words_array.shape"
   ]
  },
  {
   "cell_type": "code",
   "execution_count": null,
   "metadata": {},
   "outputs": [],
   "source": [
    "# predict test using bag of word model\n",
    "#y_pred_test_bow = bow_model.predict_proba(test_bag_of_words_array)"
   ]
  },
  {
   "cell_type": "code",
   "execution_count": null,
   "metadata": {},
   "outputs": [],
   "source": [
    "#y_pred_test_bow[0]"
   ]
  },
  {
   "cell_type": "code",
   "execution_count": null,
   "metadata": {},
   "outputs": [],
   "source": [
    "#y_pred_test_df = pd.DataFrame(y_pred_test_bow)"
   ]
  },
  {
   "cell_type": "code",
   "execution_count": null,
   "metadata": {},
   "outputs": [],
   "source": [
    "#test_text_df['ID'].shape"
   ]
  },
  {
   "cell_type": "code",
   "execution_count": null,
   "metadata": {},
   "outputs": [],
   "source": [
    "#y_pred_test_df['ID']= test_text_df['ID'].reset_index(drop=True)"
   ]
  },
  {
   "cell_type": "code",
   "execution_count": null,
   "metadata": {},
   "outputs": [],
   "source": [
    "#y_pred_test_df.head()"
   ]
  },
  {
   "cell_type": "code",
   "execution_count": null,
   "metadata": {},
   "outputs": [],
   "source": []
  },
  {
   "cell_type": "code",
   "execution_count": null,
   "metadata": {},
   "outputs": [],
   "source": [
    "# predict test using tfidf model\n",
    "#y_pred_test_tfidf = tfidf_model.predict_proba(test_bag_of_words_array)"
   ]
  },
  {
   "cell_type": "code",
   "execution_count": null,
   "metadata": {},
   "outputs": [],
   "source": [
    "stage2_test_text_df = pd.read_csv('stage2_test_text.csv', sep=\"\\|\\|\", encoding=\"utf-8\",engine=\"python\", skiprows=1, names=[\"ID\", \"Text\"])\n"
   ]
  },
  {
   "cell_type": "code",
   "execution_count": null,
   "metadata": {},
   "outputs": [],
   "source": [
    "stage2_test_text_df.shape"
   ]
  },
  {
   "cell_type": "code",
   "execution_count": null,
   "metadata": {},
   "outputs": [],
   "source": [
    "stage2_test_text_df['cleaned_text'] = stage2_test_text_df['Text'].progress_map(cleanse_data,na_action='ignore')"
   ]
  },
  {
   "cell_type": "code",
   "execution_count": null,
   "metadata": {},
   "outputs": [],
   "source": [
    "stage2_test_text_df['cleaned_text'] = stage2_test_text_df['cleaned_text'].progress_map(reduce_words)"
   ]
  },
  {
   "cell_type": "code",
   "execution_count": null,
   "metadata": {},
   "outputs": [],
   "source": [
    "stage2_test_text_df.shape"
   ]
  },
  {
   "cell_type": "code",
   "execution_count": null,
   "metadata": {},
   "outputs": [],
   "source": [
    "stage2_cleaned_view =pd.DataFrame({\"Text\":stage2_test_text_df['Text'].progress_map(lambda x:len(x)),\"cleaned_text\":stage2_test_text_df['cleaned_text'].map(lambda x:len(x))})\n",
    "stage2_cleaned_view.head()"
   ]
  },
  {
   "cell_type": "code",
   "execution_count": null,
   "metadata": {},
   "outputs": [],
   "source": [
    "stage2_test_corpus = stage2_test_text_df['cleaned_text'].tolist()"
   ]
  },
  {
   "cell_type": "code",
   "execution_count": null,
   "metadata": {},
   "outputs": [],
   "source": [
    "#X_stage2_test = bow_vectorizer.fit_transform(stage2_test_corpus).toarray()"
   ]
  },
  {
   "cell_type": "code",
   "execution_count": null,
   "metadata": {},
   "outputs": [],
   "source": [
    "X_stage2_test = tfidf_vectorizer.fit_transform(stage2_test_corpus).toarray()"
   ]
  },
  {
   "cell_type": "code",
   "execution_count": null,
   "metadata": {},
   "outputs": [],
   "source": [
    "X_stage2_test.shape"
   ]
  },
  {
   "cell_type": "code",
   "execution_count": null,
   "metadata": {},
   "outputs": [],
   "source": [
    "y_pred_stage2 = tfidf_model.predict_proba(X_stage2_test)"
   ]
  },
  {
   "cell_type": "code",
   "execution_count": null,
   "metadata": {},
   "outputs": [],
   "source": [
    "y_pred_stage2.shape"
   ]
  },
  {
   "cell_type": "code",
   "execution_count": null,
   "metadata": {},
   "outputs": [],
   "source": [
    "y_pred_stage2_df = pd.DataFrame(y_pred_stage2)"
   ]
  },
  {
   "cell_type": "code",
   "execution_count": null,
   "metadata": {},
   "outputs": [],
   "source": []
  },
  {
   "cell_type": "code",
   "execution_count": null,
   "metadata": {},
   "outputs": [],
   "source": [
    "y_pred_stage2_df['ID']=stage2_test_text_df['ID']"
   ]
  },
  {
   "cell_type": "code",
   "execution_count": null,
   "metadata": {},
   "outputs": [],
   "source": [
    "y_pred_stage2_df.columns"
   ]
  },
  {
   "cell_type": "code",
   "execution_count": null,
   "metadata": {},
   "outputs": [],
   "source": [
    "y_pred_stage2_df.columns = ['class1','class2','class3','class4','class5','class6','class7','class8','class9','ID']"
   ]
  },
  {
   "cell_type": "code",
   "execution_count": null,
   "metadata": {},
   "outputs": [],
   "source": [
    "y_pred_stage2_df=y_pred_stage2_df[['ID','class1','class2','class3','class4','class5','class6','class7','class8','class9']]"
   ]
  },
  {
   "cell_type": "code",
   "execution_count": null,
   "metadata": {},
   "outputs": [],
   "source": [
    "y_pred_stage2_df.head()"
   ]
  },
  {
   "cell_type": "code",
   "execution_count": null,
   "metadata": {},
   "outputs": [],
   "source": [
    "y_pred_stage2_df.to_csv(\"y_pred_stage2.csv\",index=False)"
   ]
  },
  {
   "cell_type": "code",
   "execution_count": null,
   "metadata": {},
   "outputs": [],
   "source": [
    "df=pd.DataFrame(columns=[\"Gene\",\"Class\",\"Variation\",\"cleaned_text\",\"cleaned_freq\"])\n",
    "for i in range(19):    \n",
    "    df_new=class_9[class_9['cleaned_text'] == class_9['cleaned_text'].unique()[i]]\n",
    "    df=pd.concat([df,df_new])"
   ]
  },
  {
   "cell_type": "markdown",
   "metadata": {
    "id": "mb62K9H8oIy6"
   },
   "source": [
    "we have sorted the frequency dictionary based on values using the key parameter of sorted and higher values first using reverse"
   ]
  },
  {
   "cell_type": "code",
   "execution_count": null,
   "metadata": {
    "colab": {
     "base_uri": "https://localhost:8080/"
    },
    "executionInfo": {
     "elapsed": 14,
     "status": "ok",
     "timestamp": 1638286210767,
     "user": {
      "displayName": "Anubrata Das",
      "photoUrl": "https://lh3.googleusercontent.com/a-/AOh14GiI2340pPpSj6e4aG_4urL4HRwW3MRXEf5aoo2_QA=s64",
      "userId": "08781375266004215524"
     },
     "user_tz": -330
    },
    "id": "wae37kXdUT8k",
    "outputId": "aacd0478-e911-439f-8dd0-3d9b78a7a732"
   },
   "outputs": [],
   "source": [
    "sorted(test_dic.items(),key=lambda x:x[1], reverse=True)"
   ]
  },
  {
   "cell_type": "code",
   "execution_count": null,
   "metadata": {
    "id": "kAxcpzU4_mzu"
   },
   "outputs": [],
   "source": [
    "for i in range(10):\n",
    "    print(scan_data1[i])"
   ]
  },
  {
   "cell_type": "code",
   "execution_count": null,
   "metadata": {
    "id": "9XgD9sY_14Jw"
   },
   "outputs": [],
   "source": [
    "cd /content"
   ]
  },
  {
   "cell_type": "code",
   "execution_count": null,
   "metadata": {
    "id": "oLbahHJ__mzv"
   },
   "outputs": [],
   "source": [
    "pa_tree=ET.parse('pa2021.xml')"
   ]
  },
  {
   "cell_type": "code",
   "execution_count": null,
   "metadata": {
    "id": "spN5n9H3_mzv"
   },
   "outputs": [],
   "source": [
    "root=pa_tree.getroot()"
   ]
  },
  {
   "cell_type": "code",
   "execution_count": null,
   "metadata": {
    "id": "kQR8pY9UXBs-"
   },
   "outputs": [],
   "source": [
    "# for child in root:\n",
    "#   print(child.tag)"
   ]
  },
  {
   "cell_type": "code",
   "execution_count": null,
   "metadata": {
    "id": "63RIRzTV_mzv"
   },
   "outputs": [],
   "source": [
    "for element_1 in root:\n",
    "  #print(\"---------level_1-----------\")\n",
    "  #print(element_1.tag)\n",
    "  \n",
    "  for element_2 in element_1:\n",
    "    #print(\"---------level_2-----------\")\n",
    "    #print(\"    \"+element_2.tag,\" \",element_2.text)\n",
    "    \n",
    "    for element_3 in element_2:\n",
    "      #print(\"---------level_3-----------\")\n",
    "      #print(\"        \"+element_3.tag,\" \",element_3.text)\n",
    "      \n",
    "      for element_4 in element_3:\n",
    "        #print(\"---------level_4-----------\")\n",
    "        if element_4.tag==\"String\":\n",
    "          print(\"                   \"+element_4.tag,\" \",element_4.text)\n",
    "          \n",
    "  #break\n",
    "    "
   ]
  },
  {
   "cell_type": "code",
   "execution_count": null,
   "metadata": {
    "id": "M-j6NieYFoZn"
   },
   "outputs": [],
   "source": [
    "len(root)"
   ]
  },
  {
   "cell_type": "code",
   "execution_count": null,
   "metadata": {
    "id": "c2Li5HlGGwOR"
   },
   "outputs": [],
   "source": [
    "desc_tree=ET.parse('desc2021.xml')"
   ]
  },
  {
   "cell_type": "code",
   "execution_count": null,
   "metadata": {
    "id": "IIWEN3P3XfG4"
   },
   "outputs": [],
   "source": [
    "desc_root=desc_tree.getroot()"
   ]
  },
  {
   "cell_type": "code",
   "execution_count": null,
   "metadata": {
    "id": "dVaFVNDdYSxK"
   },
   "outputs": [],
   "source": [
    "len(desc_root)"
   ]
  },
  {
   "cell_type": "code",
   "execution_count": null,
   "metadata": {
    "id": "9Q4uNx0xYq8f"
   },
   "outputs": [],
   "source": [
    "term_description=[]\n",
    "for element_1 in desc_root:\n",
    "  #print(\"-------level_1----------\")\n",
    "  #print(element_1.tag,\" \",element_1.text)\n",
    "  for element_2 in element_1:\n",
    "    #print(\"    ----------level_2----------\")\n",
    "    #print(\"    \"+element_2.tag,\" \",element_2.text)\n",
    "    for element_3 in element_2:\n",
    "      if element_3.tag=='String':\n",
    "        #print(\"        ---------level_3--------\")\n",
    "        #print(\"        \"+element_3.tag,\" \",element_3.text)\n",
    "        term_description.append(element_3.text)\n",
    "\n",
    "  #break"
   ]
  },
  {
   "cell_type": "code",
   "execution_count": null,
   "metadata": {
    "id": "WG6OyuDhZOdW"
   },
   "outputs": [],
   "source": [
    "len(term_description)"
   ]
  },
  {
   "cell_type": "code",
   "execution_count": null,
   "metadata": {
    "id": "yhUEtiIrt4B5"
   },
   "outputs": [],
   "source": [
    "term_description[:10]"
   ]
  },
  {
   "cell_type": "code",
   "execution_count": null,
   "metadata": {
    "id": "DFCAtPHEuIG_"
   },
   "outputs": [],
   "source": [
    "import csv \n",
    "with open('term_description.csv', 'w') as f: \n",
    "    write = csv.writer(f) \n",
    "    write.writerow(term_description) \n",
    "    "
   ]
  },
  {
   "cell_type": "markdown",
   "metadata": {
    "id": "F11LgeASJSYc"
   },
   "source": [
    "There are 2 ways to remove punctuation. one is to use the string library punctuation module on the text before tokenization, the other is to use the nltk.punct library"
   ]
  },
  {
   "cell_type": "code",
   "execution_count": null,
   "metadata": {
    "id": "bzJtTxhvvlSb"
   },
   "outputs": [],
   "source": [
    "len(scan_data1[1])"
   ]
  },
  {
   "cell_type": "code",
   "execution_count": null,
   "metadata": {
    "id": "EKL7Av16DsWV"
   },
   "outputs": [],
   "source": [
    "#nltk.word_tokenize(scan_data1[1])"
   ]
  },
  {
   "cell_type": "code",
   "execution_count": null,
   "metadata": {
    "id": "6n8-IUY8D_g2"
   },
   "outputs": [],
   "source": [
    "# import string punctuation\n",
    "import string\n",
    "string.punctuation"
   ]
  },
  {
   "cell_type": "code",
   "execution_count": null,
   "metadata": {
    "id": "vXDy9X6cH_nh"
   },
   "outputs": [],
   "source": []
  },
  {
   "cell_type": "code",
   "execution_count": null,
   "metadata": {
    "id": "YTposSf5IPM2"
   },
   "outputs": [],
   "source": [
    "len(cleanup_text(scan_data1[1]))"
   ]
  },
  {
   "cell_type": "code",
   "execution_count": null,
   "metadata": {
    "id": "xoBpboDfIZjm"
   },
   "outputs": [],
   "source": [
    "scan_data"
   ]
  }
 ],
 "metadata": {
  "colab": {
   "name": "jovian-ml-project.ipynb",
   "version": ""
  },
  "kernelspec": {
   "display_name": "Python 3",
   "language": "python",
   "name": "python3"
  },
  "language_info": {
   "codemirror_mode": {
    "name": "ipython",
    "version": 3
   },
   "file_extension": ".py",
   "mimetype": "text/x-python",
   "name": "python",
   "nbconvert_exporter": "python",
   "pygments_lexer": "ipython3",
   "version": "3.7.6"
  }
 },
 "nbformat": 4,
 "nbformat_minor": 1
}
