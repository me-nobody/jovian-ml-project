{
 "cells": [
  {
   "cell_type": "markdown",
   "metadata": {
    "id": "z4XIJ7_c_mzW"
   },
   "source": [
    "# Classification of Cancer associated Mutations from Literature using Machine Learning\n",
    "\n",
    "Use the \"Run\" button to execute the code."
   ]
  },
  {
   "cell_type": "code",
   "execution_count": 2,
   "metadata": {
    "executionInfo": {
     "elapsed": 2553,
     "status": "ok",
     "timestamp": 1638285773553,
     "user": {
      "displayName": "Anubrata Das",
      "photoUrl": "https://lh3.googleusercontent.com/a-/AOh14GiI2340pPpSj6e4aG_4urL4HRwW3MRXEf5aoo2_QA=s64",
      "userId": "08781375266004215524"
     },
     "user_tz": -330
    },
    "id": "6jgqXjvi_mzZ"
   },
   "outputs": [],
   "source": [
    "#pip install jovian --upgrade --quiet"
   ]
  },
  {
   "cell_type": "code",
   "execution_count": null,
   "metadata": {
    "executionInfo": {
     "elapsed": 47,
     "status": "ok",
     "timestamp": 1638285773553,
     "user": {
      "displayName": "Anubrata Das",
      "photoUrl": "https://lh3.googleusercontent.com/a-/AOh14GiI2340pPpSj6e4aG_4urL4HRwW3MRXEf5aoo2_QA=s64",
      "userId": "08781375266004215524"
     },
     "user_tz": -330
    },
    "id": "BcrwI4VL_mze"
   },
   "outputs": [],
   "source": []
  },
  {
   "cell_type": "code",
   "execution_count": 3,
   "metadata": {
    "colab": {
     "base_uri": "https://localhost:8080/",
     "height": 125
    },
    "executionInfo": {
     "elapsed": 9427,
     "status": "ok",
     "timestamp": 1638285782935,
     "user": {
      "displayName": "Anubrata Das",
      "photoUrl": "https://lh3.googleusercontent.com/a-/AOh14GiI2340pPpSj6e4aG_4urL4HRwW3MRXEf5aoo2_QA=s64",
      "userId": "08781375266004215524"
     },
     "user_tz": -330
    },
    "id": "7gTXlkwu_mzf",
    "outputId": "3c4f1679-22fc-496e-bbd7-ce778f5dc86a"
   },
   "outputs": [],
   "source": [
    "# Execute this to save new versions of the notebook\n",
    "#jovian.commit(project=\"jovian-ml-project\",filename=\"jovian-ml-project\")"
   ]
  },
  {
   "cell_type": "markdown",
   "metadata": {},
   "source": [
    "### <font color='green'>Import the essential libraries</font>"
   ]
  },
  {
   "cell_type": "code",
   "execution_count": 4,
   "metadata": {
    "executionInfo": {
     "elapsed": 13,
     "status": "ok",
     "timestamp": 1638285789225,
     "user": {
      "displayName": "Anubrata Das",
      "photoUrl": "https://lh3.googleusercontent.com/a-/AOh14GiI2340pPpSj6e4aG_4urL4HRwW3MRXEf5aoo2_QA=s64",
      "userId": "08781375266004215524"
     },
     "user_tz": -330
    },
    "id": "AEM-Rd_A_mzj"
   },
   "outputs": [],
   "source": [
    "import jovian\n",
    "import pandas as pd\n",
    "import numpy as np\n",
    "import matplotlib.pyplot as plt\n",
    "import requests\n",
    "import xml.etree.ElementTree as ET\n",
    "import time\n",
    "import re\n",
    "from tqdm import tqdm\n",
    "%matplotlib inline"
   ]
  },
  {
   "cell_type": "code",
   "execution_count": 5,
   "metadata": {
    "executionInfo": {
     "elapsed": 12,
     "status": "ok",
     "timestamp": 1638285789226,
     "user": {
      "displayName": "Anubrata Das",
      "photoUrl": "https://lh3.googleusercontent.com/a-/AOh14GiI2340pPpSj6e4aG_4urL4HRwW3MRXEf5aoo2_QA=s64",
      "userId": "08781375266004215524"
     },
     "user_tz": -330
    },
    "id": "lv5xwSHT_mzk"
   },
   "outputs": [],
   "source": [
    "pd.set_option('display.max_columns', None)\n",
    "pd.set_option('display.max_rows', None)\n",
    "import warnings\n",
    "warnings.simplefilter(action='ignore')"
   ]
  },
  {
   "cell_type": "code",
   "execution_count": 6,
   "metadata": {},
   "outputs": [],
   "source": [
    "tqdm.pandas(desc=\"progress bar\")"
   ]
  },
  {
   "cell_type": "markdown",
   "metadata": {},
   "source": [
    " ### <font style=\"font-size:18px;font-family:arial;color:green;text-indent:100px;line-height: 0.8;word-spacing: 10px\"> A cancerous tissue can have thousands of genetic mutations (Variations), which are discovered using genome sequencing. But the challenge is distinguishing the mutations that contribute to tumor growth (drivers) from the neutral mutations (passengers). Currently this interpretation of genetic mutations is being done manually. This is a very time-consuming task where a clinical pathologist has to manually review and classify every single genetic mutation based on evidence from text-based clinical literature. For this competition MSKCC is making available an expert-annotated knowledge base where world-class researchers and oncologists have manually annotated thousands of mutations. MSKCC intends the Data scientist to develop a Machine Learning algorithm that, using this knowledge base as a baseline, automatically classifies genetic variations.</font>"
   ]
  },
  {
   "cell_type": "markdown",
   "metadata": {},
   "source": [
    "<a id='top'>**Beginning of Notebook**</a>"
   ]
  },
  {
   "cell_type": "markdown",
   "metadata": {},
   "source": [
    "[model train text data](#train_data)"
   ]
  },
  {
   "cell_type": "markdown",
   "metadata": {},
   "source": [
    "### <font color='green'>Exploratory Data Analysis</font>"
   ]
  },
  {
   "cell_type": "markdown",
   "metadata": {},
   "source": [
    "#### train data"
   ]
  },
  {
   "cell_type": "code",
   "execution_count": 7,
   "metadata": {},
   "outputs": [],
   "source": [
    "train_text_df = pd.read_csv('training_text.zip', sep=\"\\|\\|\", encoding=\"utf-8\",engine=\"python\", skiprows=1, names=[\"ID\", \"Text\"],compression='zip')"
   ]
  },
  {
   "cell_type": "code",
   "execution_count": 8,
   "metadata": {},
   "outputs": [],
   "source": [
    "train_variant_df = pd.read_csv('training_variants.zip',compression='zip')"
   ]
  },
  {
   "cell_type": "code",
   "execution_count": 9,
   "metadata": {},
   "outputs": [
    {
     "data": {
      "text/plain": [
       "((3321, 2), (3321, 4))"
      ]
     },
     "execution_count": 9,
     "metadata": {},
     "output_type": "execute_result"
    }
   ],
   "source": [
    "train_text_df.shape, train_variant_df.shape"
   ]
  },
  {
   "cell_type": "code",
   "execution_count": 10,
   "metadata": {},
   "outputs": [
    {
     "data": {
      "text/plain": [
       "(Index(['ID', 'Text'], dtype='object'),\n",
       " Index(['ID', 'Gene', 'Variation', 'Class'], dtype='object'))"
      ]
     },
     "execution_count": 10,
     "metadata": {},
     "output_type": "execute_result"
    }
   ],
   "source": [
    "train_text_df.columns, train_variant_df.columns"
   ]
  },
  {
   "cell_type": "code",
   "execution_count": 11,
   "metadata": {},
   "outputs": [],
   "source": [
    "# merging the text and variation data\n",
    "train_df = pd.merge(train_variant_df,train_text_df,on='ID')"
   ]
  },
  {
   "cell_type": "code",
   "execution_count": 12,
   "metadata": {},
   "outputs": [
    {
     "data": {
      "text/plain": [
       "(3321, 5)"
      ]
     },
     "execution_count": 12,
     "metadata": {},
     "output_type": "execute_result"
    }
   ],
   "source": [
    "train_df.shape"
   ]
  },
  {
   "cell_type": "code",
   "execution_count": 13,
   "metadata": {},
   "outputs": [],
   "source": [
    "# taking a sample of the dataset\n",
    "train_df = train_df.sample(frac=0.4,random_state=222)"
   ]
  },
  {
   "cell_type": "markdown",
   "metadata": {},
   "source": [
    "We have taken a sample of the training data"
   ]
  },
  {
   "cell_type": "code",
   "execution_count": 14,
   "metadata": {},
   "outputs": [
    {
     "data": {
      "text/html": [
       "<div>\n",
       "<style scoped>\n",
       "    .dataframe tbody tr th:only-of-type {\n",
       "        vertical-align: middle;\n",
       "    }\n",
       "\n",
       "    .dataframe tbody tr th {\n",
       "        vertical-align: top;\n",
       "    }\n",
       "\n",
       "    .dataframe thead th {\n",
       "        text-align: right;\n",
       "    }\n",
       "</style>\n",
       "<table border=\"1\" class=\"dataframe\">\n",
       "  <thead>\n",
       "    <tr style=\"text-align: right;\">\n",
       "      <th></th>\n",
       "      <th>ID</th>\n",
       "      <th>Gene</th>\n",
       "      <th>Variation</th>\n",
       "      <th>Class</th>\n",
       "      <th>Text</th>\n",
       "    </tr>\n",
       "  </thead>\n",
       "  <tbody>\n",
       "    <tr>\n",
       "      <th>1708</th>\n",
       "      <td>1708</td>\n",
       "      <td>POLE</td>\n",
       "      <td>S459del</td>\n",
       "      <td>1</td>\n",
       "      <td>Tumors with somatic mutations in the proofread...</td>\n",
       "    </tr>\n",
       "    <tr>\n",
       "      <th>2201</th>\n",
       "      <td>2201</td>\n",
       "      <td>PTEN</td>\n",
       "      <td>D92A</td>\n",
       "      <td>4</td>\n",
       "      <td>The PTEN (phosphatase and tensin homolog) phos...</td>\n",
       "    </tr>\n",
       "    <tr>\n",
       "      <th>84</th>\n",
       "      <td>84</td>\n",
       "      <td>RIT1</td>\n",
       "      <td>A77T</td>\n",
       "      <td>2</td>\n",
       "      <td>Abstract RASopathies are autosomal dominant d...</td>\n",
       "    </tr>\n",
       "    <tr>\n",
       "      <th>1985</th>\n",
       "      <td>1985</td>\n",
       "      <td>CTNNB1</td>\n",
       "      <td>I35S</td>\n",
       "      <td>7</td>\n",
       "      <td>To understand the nature and roles of mutated ...</td>\n",
       "    </tr>\n",
       "    <tr>\n",
       "      <th>2985</th>\n",
       "      <td>2985</td>\n",
       "      <td>KIT</td>\n",
       "      <td>W557R</td>\n",
       "      <td>7</td>\n",
       "      <td>Purpose: Somatic mutations that result in the ...</td>\n",
       "    </tr>\n",
       "  </tbody>\n",
       "</table>\n",
       "</div>"
      ],
      "text/plain": [
       "        ID    Gene Variation  Class  \\\n",
       "1708  1708    POLE   S459del      1   \n",
       "2201  2201    PTEN      D92A      4   \n",
       "84      84    RIT1      A77T      2   \n",
       "1985  1985  CTNNB1      I35S      7   \n",
       "2985  2985     KIT     W557R      7   \n",
       "\n",
       "                                                   Text  \n",
       "1708  Tumors with somatic mutations in the proofread...  \n",
       "2201  The PTEN (phosphatase and tensin homolog) phos...  \n",
       "84     Abstract RASopathies are autosomal dominant d...  \n",
       "1985  To understand the nature and roles of mutated ...  \n",
       "2985  Purpose: Somatic mutations that result in the ...  "
      ]
     },
     "execution_count": 14,
     "metadata": {},
     "output_type": "execute_result"
    }
   ],
   "source": [
    "train_df.head()"
   ]
  },
  {
   "cell_type": "markdown",
   "metadata": {},
   "source": [
    "### <font style=\"font-size:18px;font-family:arial;color:green;text-indent:100px;line-height: 0.8;word-spacing: 10px\"><i>Gene</i> is a stretch of DNA encoding a specific function. Variation is <i>Mutation</i>,  which changes the function. The first alphabet is the orginal amino acid, the number is the physical position in the gene where the change has occured and the last alphabet is the changed amino acid. The Text contains the information for the Gene, the Variation and the reason for the Class </font>"
   ]
  },
  {
   "cell_type": "markdown",
   "metadata": {},
   "source": [
    "#### top 10 mutated genes"
   ]
  },
  {
   "cell_type": "code",
   "execution_count": 15,
   "metadata": {},
   "outputs": [
    {
     "data": {
      "text/plain": [
       "Gene\n",
       "BRCA1     101\n",
       "TP53       69\n",
       "EGFR       56\n",
       "BRCA2      56\n",
       "PTEN       52\n",
       "KIT        45\n",
       "BRAF       40\n",
       "ALK        28\n",
       "PDGFRA     27\n",
       "ERBB2      27\n",
       "Name: Variation, dtype: int64"
      ]
     },
     "execution_count": 15,
     "metadata": {},
     "output_type": "execute_result"
    }
   ],
   "source": [
    "# top 10 mutated genes\n",
    "train_df.groupby('Gene')['Variation'].aggregate(\"count\").sort_values(ascending=False).head(n=10)"
   ]
  },
  {
   "cell_type": "markdown",
   "metadata": {},
   "source": [
    "#### distribution of classes in the dataset"
   ]
  },
  {
   "cell_type": "code",
   "execution_count": 16,
   "metadata": {},
   "outputs": [
    {
     "data": {
      "text/plain": [
       "<AxesSubplot:xlabel='Class'>"
      ]
     },
     "execution_count": 16,
     "metadata": {},
     "output_type": "execute_result"
    },
    {
     "data": {
      "image/png": "[encoded data removed]",
      "text/plain": [
       "<Figure size 432x288 with 1 Axes>"
      ]
     },
     "metadata": {
      "needs_background": "light"
     },
     "output_type": "display_data"
    }
   ],
   "source": [
    "train_df.value_counts('Class').plot(kind='bar')"
   ]
  },
  {
   "cell_type": "markdown",
   "metadata": {},
   "source": [
    "#### the distribution of the classes is imbalanced"
   ]
  },
  {
   "cell_type": "markdown",
   "metadata": {},
   "source": [
    "### <font color='green'> Let us study the mutations of BRCA1, the most highly mutated gene with respect to the classification</font>"
   ]
  },
  {
   "cell_type": "code",
   "execution_count": 17,
   "metadata": {},
   "outputs": [
    {
     "data": {
      "text/plain": [
       "101"
      ]
     },
     "execution_count": 17,
     "metadata": {},
     "output_type": "execute_result"
    }
   ],
   "source": [
    "train_df[train_df['Gene'] == 'BRCA1']['Variation'].nunique()"
   ]
  },
  {
   "cell_type": "code",
   "execution_count": 18,
   "metadata": {},
   "outputs": [
    {
     "data": {
      "text/plain": [
       "5"
      ]
     },
     "execution_count": 18,
     "metadata": {},
     "output_type": "execute_result"
    }
   ],
   "source": [
    "train_df[train_df['Gene'] == 'BRCA1']['Class'].nunique()"
   ]
  },
  {
   "cell_type": "code",
   "execution_count": 19,
   "metadata": {},
   "outputs": [
    {
     "data": {
      "text/plain": [
       "Class\n",
       "1    21\n",
       "3     3\n",
       "4    22\n",
       "5    36\n",
       "6    19\n",
       "Name: Variation, dtype: int64"
      ]
     },
     "execution_count": 19,
     "metadata": {},
     "output_type": "execute_result"
    }
   ],
   "source": [
    "train_df[train_df['Gene'] == 'BRCA1'].groupby('Class')['Variation'].count()"
   ]
  },
  {
   "cell_type": "markdown",
   "metadata": {},
   "source": [
    "### <font color='green'> 101 mutations (Variations) are classified into 5 classes with most mutations in class 5 and least mutations in class 3</font>"
   ]
  },
  {
   "cell_type": "code",
   "execution_count": 48,
   "metadata": {},
   "outputs": [],
   "source": [
    "class_5=train_df[(train_df['Gene'] == 'BRCA1') & (train_df['Class']== 5)]\n",
    "class_5['Text']=class_5['Text'].map(lambda x:x[:80])"
   ]
  },
  {
   "cell_type": "code",
   "execution_count": 49,
   "metadata": {},
   "outputs": [],
   "source": [
    "class_5.reset_index(inplace=True,drop=True)"
   ]
  },
  {
   "cell_type": "code",
   "execution_count": 50,
   "metadata": {},
   "outputs": [
    {
     "data": {
      "text/html": [
       "<div>\n",
       "<style scoped>\n",
       "    .dataframe tbody tr th:only-of-type {\n",
       "        vertical-align: middle;\n",
       "    }\n",
       "\n",
       "    .dataframe tbody tr th {\n",
       "        vertical-align: top;\n",
       "    }\n",
       "\n",
       "    .dataframe thead th {\n",
       "        text-align: right;\n",
       "    }\n",
       "</style>\n",
       "<table border=\"1\" class=\"dataframe\">\n",
       "  <thead>\n",
       "    <tr style=\"text-align: right;\">\n",
       "      <th></th>\n",
       "      <th>ID</th>\n",
       "      <th>Gene</th>\n",
       "      <th>Variation</th>\n",
       "      <th>Class</th>\n",
       "      <th>Text</th>\n",
       "    </tr>\n",
       "  </thead>\n",
       "  <tbody>\n",
       "    <tr>\n",
       "      <th>0</th>\n",
       "      <td>2661</td>\n",
       "      <td>BRCA1</td>\n",
       "      <td>S1613C</td>\n",
       "      <td>5</td>\n",
       "      <td>Abstract Germline mutations that inactivate B...</td>\n",
       "    </tr>\n",
       "    <tr>\n",
       "      <th>1</th>\n",
       "      <td>2460</td>\n",
       "      <td>BRCA1</td>\n",
       "      <td>R170W</td>\n",
       "      <td>5</td>\n",
       "      <td>Mutations in BRCA1 and BRCA2 account for the m...</td>\n",
       "    </tr>\n",
       "    <tr>\n",
       "      <th>2</th>\n",
       "      <td>2558</td>\n",
       "      <td>BRCA1</td>\n",
       "      <td>P1806A</td>\n",
       "      <td>5</td>\n",
       "      <td>ABSTRACT Germline mutations that inactivate th...</td>\n",
       "    </tr>\n",
       "    <tr>\n",
       "      <th>3</th>\n",
       "      <td>2618</td>\n",
       "      <td>BRCA1</td>\n",
       "      <td>C1787S</td>\n",
       "      <td>5</td>\n",
       "      <td>Abstract  The BRCA1 gene from individuals at ...</td>\n",
       "    </tr>\n",
       "    <tr>\n",
       "      <th>4</th>\n",
       "      <td>2468</td>\n",
       "      <td>BRCA1</td>\n",
       "      <td>E362H</td>\n",
       "      <td>5</td>\n",
       "      <td>Mutations in BRCA1 and BRCA2 account for the m...</td>\n",
       "    </tr>\n",
       "    <tr>\n",
       "      <th>5</th>\n",
       "      <td>2673</td>\n",
       "      <td>BRCA1</td>\n",
       "      <td>S1473P</td>\n",
       "      <td>5</td>\n",
       "      <td>Abstract Germline inactivating mutations in B...</td>\n",
       "    </tr>\n",
       "    <tr>\n",
       "      <th>6</th>\n",
       "      <td>2472</td>\n",
       "      <td>BRCA1</td>\n",
       "      <td>L358R</td>\n",
       "      <td>5</td>\n",
       "      <td>Mutations in BRCA1 and BRCA2 account for the m...</td>\n",
       "    </tr>\n",
       "    <tr>\n",
       "      <th>7</th>\n",
       "      <td>2502</td>\n",
       "      <td>BRCA1</td>\n",
       "      <td>A1789S</td>\n",
       "      <td>5</td>\n",
       "      <td>Genetic screening of the breast and ovarian ca...</td>\n",
       "    </tr>\n",
       "    <tr>\n",
       "      <th>8</th>\n",
       "      <td>2423</td>\n",
       "      <td>BRCA1</td>\n",
       "      <td>A1830T</td>\n",
       "      <td>5</td>\n",
       "      <td>Genetic screening of the breast and ovarian ca...</td>\n",
       "    </tr>\n",
       "    <tr>\n",
       "      <th>9</th>\n",
       "      <td>2663</td>\n",
       "      <td>BRCA1</td>\n",
       "      <td>P1614S</td>\n",
       "      <td>5</td>\n",
       "      <td>Germ line inactivating mutations in BRCA1 conf...</td>\n",
       "    </tr>\n",
       "    <tr>\n",
       "      <th>10</th>\n",
       "      <td>2607</td>\n",
       "      <td>BRCA1</td>\n",
       "      <td>M1775V</td>\n",
       "      <td>5</td>\n",
       "      <td>Abstract  The BRCA1 gene from individuals at ...</td>\n",
       "    </tr>\n",
       "    <tr>\n",
       "      <th>11</th>\n",
       "      <td>2605</td>\n",
       "      <td>BRCA1</td>\n",
       "      <td>V1665M</td>\n",
       "      <td>5</td>\n",
       "      <td>Abstract  The BRCA1 gene from individuals at ...</td>\n",
       "    </tr>\n",
       "    <tr>\n",
       "      <th>12</th>\n",
       "      <td>2555</td>\n",
       "      <td>BRCA1</td>\n",
       "      <td>A1669S</td>\n",
       "      <td>5</td>\n",
       "      <td>Abstract  The BRCA1 gene from individuals at ...</td>\n",
       "    </tr>\n",
       "    <tr>\n",
       "      <th>13</th>\n",
       "      <td>2571</td>\n",
       "      <td>BRCA1</td>\n",
       "      <td>S1297del</td>\n",
       "      <td>5</td>\n",
       "      <td>Mutations in BRCA1 and BRCA2 account for the m...</td>\n",
       "    </tr>\n",
       "    <tr>\n",
       "      <th>14</th>\n",
       "      <td>2628</td>\n",
       "      <td>BRCA1</td>\n",
       "      <td>L1267S</td>\n",
       "      <td>5</td>\n",
       "      <td>Mutations in BRCA1 and BRCA2 account for the m...</td>\n",
       "    </tr>\n",
       "    <tr>\n",
       "      <th>15</th>\n",
       "      <td>2488</td>\n",
       "      <td>BRCA1</td>\n",
       "      <td>W1782C</td>\n",
       "      <td>5</td>\n",
       "      <td>Mutations in BRCA1 and BRCA2 account for the m...</td>\n",
       "    </tr>\n",
       "    <tr>\n",
       "      <th>16</th>\n",
       "      <td>2643</td>\n",
       "      <td>BRCA1</td>\n",
       "      <td>Q1826H</td>\n",
       "      <td>5</td>\n",
       "      <td>Abstract Germline mutations that inactivate B...</td>\n",
       "    </tr>\n",
       "    <tr>\n",
       "      <th>17</th>\n",
       "      <td>2561</td>\n",
       "      <td>BRCA1</td>\n",
       "      <td>S1140G</td>\n",
       "      <td>5</td>\n",
       "      <td>Mutations in BRCA1 and BRCA2 account for the m...</td>\n",
       "    </tr>\n",
       "    <tr>\n",
       "      <th>18</th>\n",
       "      <td>2466</td>\n",
       "      <td>BRCA1</td>\n",
       "      <td>L147F</td>\n",
       "      <td>5</td>\n",
       "      <td>Mutations in BRCA1 and BRCA2 account for the m...</td>\n",
       "    </tr>\n",
       "    <tr>\n",
       "      <th>19</th>\n",
       "      <td>2532</td>\n",
       "      <td>BRCA1</td>\n",
       "      <td>N1647K</td>\n",
       "      <td>5</td>\n",
       "      <td>Genetic screening of the breast and ovarian ca...</td>\n",
       "    </tr>\n",
       "    <tr>\n",
       "      <th>20</th>\n",
       "      <td>2666</td>\n",
       "      <td>BRCA1</td>\n",
       "      <td>P1812R</td>\n",
       "      <td>5</td>\n",
       "      <td>Mutations in BRCA1 and BRCA2 account for the m...</td>\n",
       "    </tr>\n",
       "    <tr>\n",
       "      <th>21</th>\n",
       "      <td>2647</td>\n",
       "      <td>BRCA1</td>\n",
       "      <td>S1301R</td>\n",
       "      <td>5</td>\n",
       "      <td>Mutations in BRCA1 and BRCA2 account for the m...</td>\n",
       "    </tr>\n",
       "    <tr>\n",
       "      <th>22</th>\n",
       "      <td>2495</td>\n",
       "      <td>BRCA1</td>\n",
       "      <td>E1682V</td>\n",
       "      <td>5</td>\n",
       "      <td>Genetic screening of the breast and ovarian ca...</td>\n",
       "    </tr>\n",
       "    <tr>\n",
       "      <th>23</th>\n",
       "      <td>2498</td>\n",
       "      <td>BRCA1</td>\n",
       "      <td>R496C</td>\n",
       "      <td>5</td>\n",
       "      <td>A significant proportion of inherited breast c...</td>\n",
       "    </tr>\n",
       "    <tr>\n",
       "      <th>24</th>\n",
       "      <td>2608</td>\n",
       "      <td>BRCA1</td>\n",
       "      <td>R1589H</td>\n",
       "      <td>5</td>\n",
       "      <td>Abstract Germline inactivating mutations in B...</td>\n",
       "    </tr>\n",
       "    <tr>\n",
       "      <th>25</th>\n",
       "      <td>2553</td>\n",
       "      <td>BRCA1</td>\n",
       "      <td>D1778N</td>\n",
       "      <td>5</td>\n",
       "      <td>Abstract  The BRCA1 gene from individuals at ...</td>\n",
       "    </tr>\n",
       "    <tr>\n",
       "      <th>26</th>\n",
       "      <td>2604</td>\n",
       "      <td>BRCA1</td>\n",
       "      <td>E1214K</td>\n",
       "      <td>5</td>\n",
       "      <td>Mutations in BRCA1 and BRCA2 account for the m...</td>\n",
       "    </tr>\n",
       "    <tr>\n",
       "      <th>27</th>\n",
       "      <td>2467</td>\n",
       "      <td>BRCA1</td>\n",
       "      <td>H1421Y</td>\n",
       "      <td>5</td>\n",
       "      <td>BRCA1 is a tumour suppressor with pleiotropic ...</td>\n",
       "    </tr>\n",
       "    <tr>\n",
       "      <th>28</th>\n",
       "      <td>2662</td>\n",
       "      <td>BRCA1</td>\n",
       "      <td>L668F</td>\n",
       "      <td>5</td>\n",
       "      <td>Mutations in BRCA1 and BRCA2 account for the m...</td>\n",
       "    </tr>\n",
       "    <tr>\n",
       "      <th>29</th>\n",
       "      <td>2541</td>\n",
       "      <td>BRCA1</td>\n",
       "      <td>V1809A</td>\n",
       "      <td>5</td>\n",
       "      <td>Abstract  The BRCA1 gene from individuals at ...</td>\n",
       "    </tr>\n",
       "    <tr>\n",
       "      <th>30</th>\n",
       "      <td>2512</td>\n",
       "      <td>BRCA1</td>\n",
       "      <td>E1586G</td>\n",
       "      <td>5</td>\n",
       "      <td>Abstract Germline inactivating mutations in B...</td>\n",
       "    </tr>\n",
       "    <tr>\n",
       "      <th>31</th>\n",
       "      <td>2531</td>\n",
       "      <td>BRCA1</td>\n",
       "      <td>S1497A</td>\n",
       "      <td>5</td>\n",
       "      <td>Mutations in BRCA1 and BRCA2 account for the m...</td>\n",
       "    </tr>\n",
       "    <tr>\n",
       "      <th>32</th>\n",
       "      <td>2536</td>\n",
       "      <td>BRCA1</td>\n",
       "      <td>L165P</td>\n",
       "      <td>5</td>\n",
       "      <td>Mutations in BRCA1 and BRCA2 account for the m...</td>\n",
       "    </tr>\n",
       "    <tr>\n",
       "      <th>33</th>\n",
       "      <td>2602</td>\n",
       "      <td>BRCA1</td>\n",
       "      <td>M1008I</td>\n",
       "      <td>5</td>\n",
       "      <td>Mutations in BRCA1 and BRCA2 account for the m...</td>\n",
       "    </tr>\n",
       "    <tr>\n",
       "      <th>34</th>\n",
       "      <td>2528</td>\n",
       "      <td>BRCA1</td>\n",
       "      <td>N550H</td>\n",
       "      <td>5</td>\n",
       "      <td>ABSTRACT: The BRCA1 tumor suppressor gene is f...</td>\n",
       "    </tr>\n",
       "    <tr>\n",
       "      <th>35</th>\n",
       "      <td>2611</td>\n",
       "      <td>BRCA1</td>\n",
       "      <td>V1808A</td>\n",
       "      <td>5</td>\n",
       "      <td>ABSTRACT Germline mutations that inactivate th...</td>\n",
       "    </tr>\n",
       "  </tbody>\n",
       "</table>\n",
       "</div>"
      ],
      "text/plain": [
       "      ID   Gene Variation  Class  \\\n",
       "0   2661  BRCA1    S1613C      5   \n",
       "1   2460  BRCA1     R170W      5   \n",
       "2   2558  BRCA1    P1806A      5   \n",
       "3   2618  BRCA1    C1787S      5   \n",
       "4   2468  BRCA1     E362H      5   \n",
       "5   2673  BRCA1    S1473P      5   \n",
       "6   2472  BRCA1     L358R      5   \n",
       "7   2502  BRCA1    A1789S      5   \n",
       "8   2423  BRCA1    A1830T      5   \n",
       "9   2663  BRCA1    P1614S      5   \n",
       "10  2607  BRCA1    M1775V      5   \n",
       "11  2605  BRCA1    V1665M      5   \n",
       "12  2555  BRCA1    A1669S      5   \n",
       "13  2571  BRCA1  S1297del      5   \n",
       "14  2628  BRCA1    L1267S      5   \n",
       "15  2488  BRCA1    W1782C      5   \n",
       "16  2643  BRCA1    Q1826H      5   \n",
       "17  2561  BRCA1    S1140G      5   \n",
       "18  2466  BRCA1     L147F      5   \n",
       "19  2532  BRCA1    N1647K      5   \n",
       "20  2666  BRCA1    P1812R      5   \n",
       "21  2647  BRCA1    S1301R      5   \n",
       "22  2495  BRCA1    E1682V      5   \n",
       "23  2498  BRCA1     R496C      5   \n",
       "24  2608  BRCA1    R1589H      5   \n",
       "25  2553  BRCA1    D1778N      5   \n",
       "26  2604  BRCA1    E1214K      5   \n",
       "27  2467  BRCA1    H1421Y      5   \n",
       "28  2662  BRCA1     L668F      5   \n",
       "29  2541  BRCA1    V1809A      5   \n",
       "30  2512  BRCA1    E1586G      5   \n",
       "31  2531  BRCA1    S1497A      5   \n",
       "32  2536  BRCA1     L165P      5   \n",
       "33  2602  BRCA1    M1008I      5   \n",
       "34  2528  BRCA1     N550H      5   \n",
       "35  2611  BRCA1    V1808A      5   \n",
       "\n",
       "                                                 Text  \n",
       "0    Abstract Germline mutations that inactivate B...  \n",
       "1   Mutations in BRCA1 and BRCA2 account for the m...  \n",
       "2   ABSTRACT Germline mutations that inactivate th...  \n",
       "3    Abstract  The BRCA1 gene from individuals at ...  \n",
       "4   Mutations in BRCA1 and BRCA2 account for the m...  \n",
       "5    Abstract Germline inactivating mutations in B...  \n",
       "6   Mutations in BRCA1 and BRCA2 account for the m...  \n",
       "7   Genetic screening of the breast and ovarian ca...  \n",
       "8   Genetic screening of the breast and ovarian ca...  \n",
       "9   Germ line inactivating mutations in BRCA1 conf...  \n",
       "10   Abstract  The BRCA1 gene from individuals at ...  \n",
       "11   Abstract  The BRCA1 gene from individuals at ...  \n",
       "12   Abstract  The BRCA1 gene from individuals at ...  \n",
       "13  Mutations in BRCA1 and BRCA2 account for the m...  \n",
       "14  Mutations in BRCA1 and BRCA2 account for the m...  \n",
       "15  Mutations in BRCA1 and BRCA2 account for the m...  \n",
       "16   Abstract Germline mutations that inactivate B...  \n",
       "17  Mutations in BRCA1 and BRCA2 account for the m...  \n",
       "18  Mutations in BRCA1 and BRCA2 account for the m...  \n",
       "19  Genetic screening of the breast and ovarian ca...  \n",
       "20  Mutations in BRCA1 and BRCA2 account for the m...  \n",
       "21  Mutations in BRCA1 and BRCA2 account for the m...  \n",
       "22  Genetic screening of the breast and ovarian ca...  \n",
       "23  A significant proportion of inherited breast c...  \n",
       "24   Abstract Germline inactivating mutations in B...  \n",
       "25   Abstract  The BRCA1 gene from individuals at ...  \n",
       "26  Mutations in BRCA1 and BRCA2 account for the m...  \n",
       "27  BRCA1 is a tumour suppressor with pleiotropic ...  \n",
       "28  Mutations in BRCA1 and BRCA2 account for the m...  \n",
       "29   Abstract  The BRCA1 gene from individuals at ...  \n",
       "30   Abstract Germline inactivating mutations in B...  \n",
       "31  Mutations in BRCA1 and BRCA2 account for the m...  \n",
       "32  Mutations in BRCA1 and BRCA2 account for the m...  \n",
       "33  Mutations in BRCA1 and BRCA2 account for the m...  \n",
       "34  ABSTRACT: The BRCA1 tumor suppressor gene is f...  \n",
       "35  ABSTRACT Germline mutations that inactivate th...  "
      ]
     },
     "execution_count": 50,
     "metadata": {},
     "output_type": "execute_result"
    }
   ],
   "source": [
    "class_5"
   ]
  },
  {
   "cell_type": "code",
   "execution_count": 44,
   "metadata": {},
   "outputs": [
    {
     "data": {
      "text/html": [
       "<div>\n",
       "<style scoped>\n",
       "    .dataframe tbody tr th:only-of-type {\n",
       "        vertical-align: middle;\n",
       "    }\n",
       "\n",
       "    .dataframe tbody tr th {\n",
       "        vertical-align: top;\n",
       "    }\n",
       "\n",
       "    .dataframe thead th {\n",
       "        text-align: right;\n",
       "    }\n",
       "</style>\n",
       "<table border=\"1\" class=\"dataframe\">\n",
       "  <thead>\n",
       "    <tr style=\"text-align: right;\">\n",
       "      <th></th>\n",
       "      <th>Text</th>\n",
       "      <th>Gene</th>\n",
       "      <th>Variation</th>\n",
       "    </tr>\n",
       "  </thead>\n",
       "  <tbody>\n",
       "    <tr>\n",
       "      <th>0</th>\n",
       "      <td>Abstract Germline mutations that inactivate B...</td>\n",
       "      <td>BRCA1</td>\n",
       "      <td>2</td>\n",
       "    </tr>\n",
       "    <tr>\n",
       "      <th>1</th>\n",
       "      <td>Mutations in BRCA1 and BRCA2 account for the m...</td>\n",
       "      <td>BRCA1</td>\n",
       "      <td>15</td>\n",
       "    </tr>\n",
       "    <tr>\n",
       "      <th>2</th>\n",
       "      <td>ABSTRACT Germline mutations that inactivate th...</td>\n",
       "      <td>BRCA1</td>\n",
       "      <td>2</td>\n",
       "    </tr>\n",
       "    <tr>\n",
       "      <th>3</th>\n",
       "      <td>Abstract  The BRCA1 gene from individuals at ...</td>\n",
       "      <td>BRCA1</td>\n",
       "      <td>6</td>\n",
       "    </tr>\n",
       "    <tr>\n",
       "      <th>4</th>\n",
       "      <td>Abstract Germline inactivating mutations in B...</td>\n",
       "      <td>BRCA1</td>\n",
       "      <td>3</td>\n",
       "    </tr>\n",
       "    <tr>\n",
       "      <th>5</th>\n",
       "      <td>Genetic screening of the breast and ovarian ca...</td>\n",
       "      <td>BRCA1</td>\n",
       "      <td>4</td>\n",
       "    </tr>\n",
       "    <tr>\n",
       "      <th>6</th>\n",
       "      <td>Germ line inactivating mutations in BRCA1 conf...</td>\n",
       "      <td>BRCA1</td>\n",
       "      <td>1</td>\n",
       "    </tr>\n",
       "    <tr>\n",
       "      <th>7</th>\n",
       "      <td>A significant proportion of inherited breast c...</td>\n",
       "      <td>BRCA1</td>\n",
       "      <td>1</td>\n",
       "    </tr>\n",
       "    <tr>\n",
       "      <th>8</th>\n",
       "      <td>BRCA1 is a tumour suppressor with pleiotropic ...</td>\n",
       "      <td>BRCA1</td>\n",
       "      <td>1</td>\n",
       "    </tr>\n",
       "    <tr>\n",
       "      <th>9</th>\n",
       "      <td>ABSTRACT: The BRCA1 tumor suppressor gene is f...</td>\n",
       "      <td>BRCA1</td>\n",
       "      <td>1</td>\n",
       "    </tr>\n",
       "  </tbody>\n",
       "</table>\n",
       "</div>"
      ],
      "text/plain": [
       "                                                Text   Gene  Variation\n",
       "0   Abstract Germline mutations that inactivate B...  BRCA1          2\n",
       "1  Mutations in BRCA1 and BRCA2 account for the m...  BRCA1         15\n",
       "2  ABSTRACT Germline mutations that inactivate th...  BRCA1          2\n",
       "3   Abstract  The BRCA1 gene from individuals at ...  BRCA1          6\n",
       "4   Abstract Germline inactivating mutations in B...  BRCA1          3\n",
       "5  Genetic screening of the breast and ovarian ca...  BRCA1          4\n",
       "6  Germ line inactivating mutations in BRCA1 conf...  BRCA1          1\n",
       "7  A significant proportion of inherited breast c...  BRCA1          1\n",
       "8  BRCA1 is a tumour suppressor with pleiotropic ...  BRCA1          1\n",
       "9  ABSTRACT: The BRCA1 tumor suppressor gene is f...  BRCA1          1"
      ]
     },
     "execution_count": 44,
     "metadata": {},
     "output_type": "execute_result"
    }
   ],
   "source": [
    "class_5.groupby(['Text','Gene'],sort=False)['Variation'].count().reset_index()"
   ]
  },
  {
   "cell_type": "markdown",
   "metadata": {},
   "source": [
    "### <font style=\"font-size:18px;font-family:arial;color:green;text-indent:100px;line-height:0.8;word-spacing:10px\">What is the relationship of the enlisted mutations (Variation) and 'Text' ? For e.g, for mutations of BCRA1, there are 36 unique mutations assigned to class 5 and the above 10 texts are the basis for it</font>"
   ]
  },
  {
   "cell_type": "code",
   "execution_count": null,
   "metadata": {},
   "outputs": [],
   "source": []
  },
  {
   "cell_type": "code",
   "execution_count": 57,
   "metadata": {},
   "outputs": [
    {
     "data": {
      "text/plain": [
       "ID           0\n",
       "Gene         0\n",
       "Variation    0\n",
       "Class        0\n",
       "Text         4\n",
       "dtype: int64"
      ]
     },
     "execution_count": 57,
     "metadata": {},
     "output_type": "execute_result"
    }
   ],
   "source": [
    "train_df.isna().sum()"
   ]
  },
  {
   "cell_type": "code",
   "execution_count": 60,
   "metadata": {},
   "outputs": [
    {
     "data": {
      "text/html": [
       "<div>\n",
       "<style scoped>\n",
       "    .dataframe tbody tr th:only-of-type {\n",
       "        vertical-align: middle;\n",
       "    }\n",
       "\n",
       "    .dataframe tbody tr th {\n",
       "        vertical-align: top;\n",
       "    }\n",
       "\n",
       "    .dataframe thead th {\n",
       "        text-align: right;\n",
       "    }\n",
       "</style>\n",
       "<table border=\"1\" class=\"dataframe\">\n",
       "  <thead>\n",
       "    <tr style=\"text-align: right;\">\n",
       "      <th></th>\n",
       "      <th>ID</th>\n",
       "      <th>Gene</th>\n",
       "      <th>Variation</th>\n",
       "      <th>Class</th>\n",
       "      <th>Text</th>\n",
       "    </tr>\n",
       "  </thead>\n",
       "  <tbody>\n",
       "    <tr>\n",
       "      <th>1407</th>\n",
       "      <td>1407</td>\n",
       "      <td>FGFR3</td>\n",
       "      <td>K508M</td>\n",
       "      <td>6</td>\n",
       "      <td>NaN</td>\n",
       "    </tr>\n",
       "    <tr>\n",
       "      <th>1109</th>\n",
       "      <td>1109</td>\n",
       "      <td>FANCA</td>\n",
       "      <td>S1088F</td>\n",
       "      <td>1</td>\n",
       "      <td>NaN</td>\n",
       "    </tr>\n",
       "    <tr>\n",
       "      <th>1277</th>\n",
       "      <td>1277</td>\n",
       "      <td>ARID5B</td>\n",
       "      <td>Truncating Mutations</td>\n",
       "      <td>1</td>\n",
       "      <td>NaN</td>\n",
       "    </tr>\n",
       "    <tr>\n",
       "      <th>1639</th>\n",
       "      <td>1639</td>\n",
       "      <td>FLT1</td>\n",
       "      <td>Amplification</td>\n",
       "      <td>6</td>\n",
       "      <td>NaN</td>\n",
       "    </tr>\n",
       "  </tbody>\n",
       "</table>\n",
       "</div>"
      ],
      "text/plain": [
       "        ID    Gene             Variation  Class Text\n",
       "1407  1407   FGFR3                 K508M      6  NaN\n",
       "1109  1109   FANCA                S1088F      1  NaN\n",
       "1277  1277  ARID5B  Truncating Mutations      1  NaN\n",
       "1639  1639    FLT1         Amplification      6  NaN"
      ]
     },
     "execution_count": 60,
     "metadata": {},
     "output_type": "execute_result"
    }
   ],
   "source": [
    "train_df[train_df['Text'].map(lambda x:not isinstance(x,str))]"
   ]
  },
  {
   "cell_type": "code",
   "execution_count": 61,
   "metadata": {},
   "outputs": [],
   "source": [
    "train_df.dropna(inplace=True)"
   ]
  },
  {
   "cell_type": "code",
   "execution_count": 62,
   "metadata": {},
   "outputs": [],
   "source": [
    "from sklearn.model_selection import train_test_split"
   ]
  },
  {
   "cell_type": "code",
   "execution_count": 63,
   "metadata": {},
   "outputs": [],
   "source": [
    "y_train=train_df['Class']\n",
    "X_train=train_df.drop('Class',axis=1)\n",
    "train_df,validation_df,y_train,y_validation=train_test_split(X_train,y_train,test_size=0.3)"
   ]
  },
  {
   "cell_type": "code",
   "execution_count": 64,
   "metadata": {},
   "outputs": [
    {
     "data": {
      "text/plain": [
       "((926, 4), (926,))"
      ]
     },
     "execution_count": 64,
     "metadata": {},
     "output_type": "execute_result"
    }
   ],
   "source": [
    "train_df.shape,y_train.shape"
   ]
  },
  {
   "cell_type": "code",
   "execution_count": 65,
   "metadata": {},
   "outputs": [
    {
     "data": {
      "text/plain": [
       "((398, 4), (398,))"
      ]
     },
     "execution_count": 65,
     "metadata": {},
     "output_type": "execute_result"
    }
   ],
   "source": [
    "validation_df.shape,y_validation.shape"
   ]
  },
  {
   "cell_type": "code",
   "execution_count": 170,
   "metadata": {},
   "outputs": [],
   "source": []
  },
  {
   "cell_type": "code",
   "execution_count": null,
   "metadata": {},
   "outputs": [],
   "source": []
  },
  {
   "cell_type": "code",
   "execution_count": null,
   "metadata": {},
   "outputs": [],
   "source": []
  },
  {
   "cell_type": "code",
   "execution_count": null,
   "metadata": {},
   "outputs": [],
   "source": []
  },
  {
   "cell_type": "code",
   "execution_count": null,
   "metadata": {},
   "outputs": [],
   "source": []
  },
  {
   "cell_type": "code",
   "execution_count": 17,
   "metadata": {},
   "outputs": [],
   "source": [
    "#test_text_df = pd.read_csv('test_text.zip', sep=\"\\|\\|\", encoding=\"utf-8\",engine=\"python\", skiprows=1, names=[\"ID\", \"Text\"],compression='zip')\n"
   ]
  },
  {
   "cell_type": "code",
   "execution_count": 18,
   "metadata": {},
   "outputs": [],
   "source": [
    "#test_vari_df  = pd.read_csv('test_variants.zip',compression='zip')"
   ]
  },
  {
   "cell_type": "code",
   "execution_count": 19,
   "metadata": {},
   "outputs": [],
   "source": [
    "#test_vari_df.head()"
   ]
  },
  {
   "cell_type": "code",
   "execution_count": 20,
   "metadata": {},
   "outputs": [],
   "source": [
    "#test_vari_df.shape"
   ]
  },
  {
   "cell_type": "code",
   "execution_count": 21,
   "metadata": {},
   "outputs": [],
   "source": [
    "# test_vari_df sample\n",
    "#test_vari_df=test_vari_df.sample(frac=0.1,random_state=222)"
   ]
  },
  {
   "cell_type": "code",
   "execution_count": 22,
   "metadata": {},
   "outputs": [],
   "source": [
    "# test_text_df sample\n",
    "#test_text_df = test_text_df.sample(frac=0.1,random_state=222)"
   ]
  },
  {
   "cell_type": "code",
   "execution_count": 23,
   "metadata": {},
   "outputs": [],
   "source": [
    "#test_text_df.shape"
   ]
  },
  {
   "cell_type": "code",
   "execution_count": 24,
   "metadata": {},
   "outputs": [],
   "source": [
    "#test_text_df.head()"
   ]
  },
  {
   "cell_type": "markdown",
   "metadata": {},
   "source": [
    "[link to destination](#destination)"
   ]
  },
  {
   "cell_type": "code",
   "execution_count": 66,
   "metadata": {
    "colab": {
     "base_uri": "https://localhost:8080/",
     "height": 38
    },
    "executionInfo": {
     "elapsed": 98,
     "status": "ok",
     "timestamp": 1638286184867,
     "user": {
      "displayName": "Anubrata Das",
      "photoUrl": "https://lh3.googleusercontent.com/a-/AOh14GiI2340pPpSj6e4aG_4urL4HRwW3MRXEf5aoo2_QA=s64",
      "userId": "08781375266004215524"
     },
     "user_tz": -330
    },
    "id": "9SoN9RkCag-o",
    "outputId": "7f64e0fd-3acd-42a0-9d80-2dd56677fb44"
   },
   "outputs": [
    {
     "data": {
      "text/plain": [
       "'!\"#$%&\\'()*+,-./:;<=>?@[\\\\]^_`{|}~'"
      ]
     },
     "execution_count": 66,
     "metadata": {},
     "output_type": "execute_result"
    }
   ],
   "source": [
    "import string\n",
    "string.punctuation"
   ]
  },
  {
   "cell_type": "code",
   "execution_count": 67,
   "metadata": {
    "executionInfo": {
     "elapsed": 90,
     "status": "ok",
     "timestamp": 1638286184868,
     "user": {
      "displayName": "Anubrata Das",
      "photoUrl": "https://lh3.googleusercontent.com/a-/AOh14GiI2340pPpSj6e4aG_4urL4HRwW3MRXEf5aoo2_QA=s64",
      "userId": "08781375266004215524"
     },
     "user_tz": -330
    },
    "id": "Zoqhi_AKamax"
   },
   "outputs": [],
   "source": [
    "revised_punctuation='!\"#$%&\\'()*+,./:;<=>?@[\\\\]^_`{|}~'"
   ]
  },
  {
   "cell_type": "code",
   "execution_count": 68,
   "metadata": {},
   "outputs": [
    {
     "data": {
      "text/plain": [
       "'!\"#$%&\\'()*+,./:;<=>?@[\\\\]^_`{|}~'"
      ]
     },
     "execution_count": 68,
     "metadata": {},
     "output_type": "execute_result"
    }
   ],
   "source": [
    "revised_punctuation"
   ]
  },
  {
   "cell_type": "code",
   "execution_count": 70,
   "metadata": {},
   "outputs": [
    {
     "name": "stdout",
     "output_type": "stream",
     "text": [
      "Collecting nltk\n",
      "  Downloading nltk-3.6.7-py3-none-any.whl (1.5 MB)\n",
      "\u001b[K     |████████████████████████████████| 1.5 MB 7.4 MB/s eta 0:00:01\n",
      "\u001b[?25hCollecting regex>=2021.8.3\n",
      "  Downloading regex-2021.11.10-cp39-cp39-manylinux_2_17_x86_64.manylinux2014_x86_64.whl (763 kB)\n",
      "\u001b[K     |████████████████████████████████| 763 kB 64.7 MB/s eta 0:00:01\n",
      "\u001b[?25hRequirement already satisfied: click in /opt/conda/lib/python3.9/site-packages (from nltk) (8.0.1)\n",
      "Requirement already satisfied: tqdm in /opt/conda/lib/python3.9/site-packages (from nltk) (4.62.3)\n",
      "Requirement already satisfied: joblib in /opt/conda/lib/python3.9/site-packages (from nltk) (1.0.1)\n",
      "Installing collected packages: regex, nltk\n",
      "Successfully installed nltk-3.6.7 regex-2021.11.10\n"
     ]
    }
   ],
   "source": [
    "!pip install nltk"
   ]
  },
  {
   "cell_type": "code",
   "execution_count": 71,
   "metadata": {
    "executionInfo": {
     "elapsed": 92,
     "status": "ok",
     "timestamp": 1638286184873,
     "user": {
      "displayName": "Anubrata Das",
      "photoUrl": "https://lh3.googleusercontent.com/a-/AOh14GiI2340pPpSj6e4aG_4urL4HRwW3MRXEf5aoo2_QA=s64",
      "userId": "08781375266004215524"
     },
     "user_tz": -330
    },
    "id": "UoSJBAQWis7w"
   },
   "outputs": [
    {
     "name": "stderr",
     "output_type": "stream",
     "text": [
      "[nltk_data] Downloading package words to /home/jovyan/nltk_data...\n",
      "[nltk_data]   Unzipping corpora/words.zip.\n"
     ]
    }
   ],
   "source": [
    "import nltk\n",
    "nltk.download('words')\n",
    "from nltk.corpus import words\n",
    "words=nltk.corpus.words.words()"
   ]
  },
  {
   "cell_type": "code",
   "execution_count": 72,
   "metadata": {},
   "outputs": [
    {
     "data": {
      "text/plain": [
       "235892"
      ]
     },
     "execution_count": 72,
     "metadata": {},
     "output_type": "execute_result"
    }
   ],
   "source": [
    "len(set(words))"
   ]
  },
  {
   "cell_type": "code",
   "execution_count": 73,
   "metadata": {},
   "outputs": [],
   "source": [
    "nltk_words=set(words)"
   ]
  },
  {
   "cell_type": "code",
   "execution_count": 36,
   "metadata": {},
   "outputs": [],
   "source": [
    "# set did not help as it reduces the number to \n",
    "# def reduce_words(row,index): \n",
    "#     text=row[1]\n",
    "#     if isinstance(text,str):\n",
    "#         new_text_words = set(text.split())\n",
    "        \n",
    "#         important_words = new_text_words.difference(words)\n",
    "#         edited_words = \" \".join(important_words)\n",
    "        \n",
    "#         intersected_words = new_text_words.intersection(words)\n",
    "#         edit_intersect_words = \" \".join(intersected_words)\n",
    "#         train_text_df['new_text'][index] = edited_words\n",
    "#         train_text_df['intsct_text'][index] = edit_intersect_words "
   ]
  },
  {
   "cell_type": "code",
   "execution_count": 37,
   "metadata": {},
   "outputs": [],
   "source": [
    "#from collections import Counter"
   ]
  },
  {
   "cell_type": "code",
   "execution_count": 74,
   "metadata": {},
   "outputs": [],
   "source": [
    "def reduce_words_df(row,index): \n",
    "    text=row[1]\n",
    "    if isinstance(text,str):\n",
    "        new_text_words = text.split()\n",
    "        counted_words = Counter(new_text_words) \n",
    "        counted_words=sorted(counted_words.items(),key=lambda x:x[1], reverse=True)\n",
    "        test['new_text'][index] = counted_words        "
   ]
  },
  {
   "cell_type": "code",
   "execution_count": 39,
   "metadata": {},
   "outputs": [],
   "source": [
    "# for index,row in test.iterrows():\n",
    "#     reduce_words(row,index)"
   ]
  },
  {
   "cell_type": "code",
   "execution_count": 75,
   "metadata": {
    "executionInfo": {
     "elapsed": 90,
     "status": "ok",
     "timestamp": 1638286184874,
     "user": {
      "displayName": "Anubrata Das",
      "photoUrl": "https://lh3.googleusercontent.com/a-/AOh14GiI2340pPpSj6e4aG_4urL4HRwW3MRXEf5aoo2_QA=s64",
      "userId": "08781375266004215524"
     },
     "user_tz": -330
    },
    "id": "dZa3dSo_KOra"
   },
   "outputs": [],
   "source": [
    "def cleanse_data(data):        \n",
    "    if isinstance(data,str):\n",
    "        no_punctuation = [char for char in data.replace('\\n',' ') if char not in revised_punctuation]\n",
    "        no_punctuation_txt = ''.join(no_punctuation)                   \n",
    "        return no_punctuation_txt\n",
    "    else:\n",
    "        return \"NA\""
   ]
  },
  {
   "cell_type": "code",
   "execution_count": 76,
   "metadata": {},
   "outputs": [],
   "source": [
    "def reduce_words(data):\n",
    "    data = data.split()\n",
    "    words = [word for word in data if word not in nltk_words]\n",
    "    text = \" \".join(words)\n",
    "    return text    "
   ]
  },
  {
   "cell_type": "code",
   "execution_count": 77,
   "metadata": {},
   "outputs": [],
   "source": [
    "def word_count(text):\n",
    "    text_lst=text.split()\n",
    "    vector = [text_lst.count(str(word)) for word in text_lst]\n",
    "    return vector[:300]"
   ]
  },
  {
   "cell_type": "code",
   "execution_count": 78,
   "metadata": {},
   "outputs": [],
   "source": [
    "from nltk.probability import FreqDist"
   ]
  },
  {
   "cell_type": "markdown",
   "metadata": {
    "id": "eHrZ7Ae4odHg"
   },
   "source": [
    "we have obtained the frequency distribution of words using freqdist"
   ]
  },
  {
   "cell_type": "code",
   "execution_count": 79,
   "metadata": {},
   "outputs": [],
   "source": [
    "def freq_dist(data):\n",
    "    data=data.split(\" \")\n",
    "    freq=FreqDist(data) # gets word frequency\n",
    "    freq=sorted(freq.items(),key=lambda x:x[1], reverse=True) # sorts words from highest to lowest frequency\n",
    "    return [item[1] for item in freq][:300] # returns a fixed length of 300 words"
   ]
  },
  {
   "cell_type": "code",
   "execution_count": 45,
   "metadata": {},
   "outputs": [],
   "source": [
    "# implementing bag of words"
   ]
  },
  {
   "cell_type": "code",
   "execution_count": 80,
   "metadata": {},
   "outputs": [],
   "source": [
    "from sklearn.feature_extraction.text import CountVectorizer"
   ]
  },
  {
   "cell_type": "code",
   "execution_count": 81,
   "metadata": {},
   "outputs": [],
   "source": [
    "bow_vectorizer = CountVectorizer(stop_words='english',max_features=1600)"
   ]
  },
  {
   "cell_type": "code",
   "execution_count": 48,
   "metadata": {},
   "outputs": [],
   "source": [
    "# implementing tf-idf"
   ]
  },
  {
   "cell_type": "code",
   "execution_count": 82,
   "metadata": {},
   "outputs": [],
   "source": [
    "from sklearn.feature_extraction.text import TfidfVectorizer"
   ]
  },
  {
   "cell_type": "code",
   "execution_count": 83,
   "metadata": {},
   "outputs": [],
   "source": [
    "tfidf_vectorizer = TfidfVectorizer(\n",
    "    min_df=1, max_features=1600, strip_accents='unicode',lowercase =True,\n",
    "    analyzer='word', token_pattern=r'\\w+', ngram_range=(1, 3), use_idf=True, \n",
    "    smooth_idf=True, sublinear_tf=True, stop_words = 'english')"
   ]
  },
  {
   "cell_type": "code",
   "execution_count": 51,
   "metadata": {},
   "outputs": [],
   "source": [
    "# https://melaniewalsh.github.io/Intro-Cultural-Analytics/05-Text-Analysis/03-TF-IDF-Scikit-Learn.html\n",
    "# https://www.datacamp.com/community/tutorials/understanding-logistic-regression-python\n",
    "# https://machinelearningmastery.com/multinomial-logistic-regression-with-python/\n",
    "# https://www.kaggle.com/elemento/personalizedmedicine-rct"
   ]
  },
  {
   "cell_type": "code",
   "execution_count": 84,
   "metadata": {},
   "outputs": [],
   "source": [
    "from sklearn.linear_model import LogisticRegression"
   ]
  },
  {
   "cell_type": "code",
   "execution_count": 85,
   "metadata": {},
   "outputs": [],
   "source": [
    "from sklearn.metrics import log_loss"
   ]
  },
  {
   "cell_type": "code",
   "execution_count": 86,
   "metadata": {},
   "outputs": [],
   "source": [
    "# define the multinomial logistic regression model\n",
    "bow_model = LogisticRegression(multi_class='multinomial', solver='lbfgs')\n",
    "tfidf_model = LogisticRegression(multi_class='multinomial', solver='lbfgs')"
   ]
  },
  {
   "cell_type": "code",
   "execution_count": 55,
   "metadata": {},
   "outputs": [],
   "source": [
    "#sorted(bow_model.coef_.tolist()[0])[:5]"
   ]
  },
  {
   "cell_type": "code",
   "execution_count": 56,
   "metadata": {},
   "outputs": [],
   "source": [
    "#sorted(tfidf_model.coef_.tolist()[0])[:5]"
   ]
  },
  {
   "cell_type": "markdown",
   "metadata": {},
   "source": [
    "<a id=\"train_data\" style=\"font-size:22px\">model train text sample data</a>"
   ]
  },
  {
   "cell_type": "markdown",
   "metadata": {},
   "source": [
    "[Beginning of Notebook](#top)"
   ]
  },
  {
   "cell_type": "markdown",
   "metadata": {},
   "source": [
    "### handling the train text sample data                  "
   ]
  },
  {
   "cell_type": "markdown",
   "metadata": {},
   "source": [
    "#### text preprocessing"
   ]
  },
  {
   "cell_type": "code",
   "execution_count": 87,
   "metadata": {},
   "outputs": [
    {
     "data": {
      "text/html": [
       "<div>\n",
       "<style scoped>\n",
       "    .dataframe tbody tr th:only-of-type {\n",
       "        vertical-align: middle;\n",
       "    }\n",
       "\n",
       "    .dataframe tbody tr th {\n",
       "        vertical-align: top;\n",
       "    }\n",
       "\n",
       "    .dataframe thead th {\n",
       "        text-align: right;\n",
       "    }\n",
       "</style>\n",
       "<table border=\"1\" class=\"dataframe\">\n",
       "  <thead>\n",
       "    <tr style=\"text-align: right;\">\n",
       "      <th></th>\n",
       "      <th>ID</th>\n",
       "      <th>Gene</th>\n",
       "      <th>Variation</th>\n",
       "      <th>Text</th>\n",
       "    </tr>\n",
       "  </thead>\n",
       "  <tbody>\n",
       "    <tr>\n",
       "      <th>3258</th>\n",
       "      <td>3258</td>\n",
       "      <td>RET</td>\n",
       "      <td>A883T</td>\n",
       "      <td>The RET protooncogene mutations responsible fo...</td>\n",
       "    </tr>\n",
       "    <tr>\n",
       "      <th>110</th>\n",
       "      <td>110</td>\n",
       "      <td>MSH6</td>\n",
       "      <td>Truncating Mutations</td>\n",
       "      <td>In addition to their mismatch recognition acti...</td>\n",
       "    </tr>\n",
       "    <tr>\n",
       "      <th>1515</th>\n",
       "      <td>1515</td>\n",
       "      <td>ALK</td>\n",
       "      <td>A1200V</td>\n",
       "      <td>In the era of personalized medicine, understan...</td>\n",
       "    </tr>\n",
       "    <tr>\n",
       "      <th>2182</th>\n",
       "      <td>2182</td>\n",
       "      <td>PTEN</td>\n",
       "      <td>S362L</td>\n",
       "      <td>ABSTRACT To look for a direct role of ultravi...</td>\n",
       "    </tr>\n",
       "    <tr>\n",
       "      <th>931</th>\n",
       "      <td>931</td>\n",
       "      <td>PDGFRB</td>\n",
       "      <td>KANK1-PDGFRB Fusion</td>\n",
       "      <td>KANK1-PDGFRB is a fusion gene generated by the...</td>\n",
       "    </tr>\n",
       "  </tbody>\n",
       "</table>\n",
       "</div>"
      ],
      "text/plain": [
       "        ID    Gene             Variation  \\\n",
       "3258  3258     RET                 A883T   \n",
       "110    110    MSH6  Truncating Mutations   \n",
       "1515  1515     ALK                A1200V   \n",
       "2182  2182    PTEN                 S362L   \n",
       "931    931  PDGFRB   KANK1-PDGFRB Fusion   \n",
       "\n",
       "                                                   Text  \n",
       "3258  The RET protooncogene mutations responsible fo...  \n",
       "110   In addition to their mismatch recognition acti...  \n",
       "1515  In the era of personalized medicine, understan...  \n",
       "2182   ABSTRACT To look for a direct role of ultravi...  \n",
       "931   KANK1-PDGFRB is a fusion gene generated by the...  "
      ]
     },
     "execution_count": 87,
     "metadata": {},
     "output_type": "execute_result"
    }
   ],
   "source": [
    "train_df.head()"
   ]
  },
  {
   "cell_type": "code",
   "execution_count": 88,
   "metadata": {},
   "outputs": [],
   "source": [
    "# remove punctuation\n",
    "train_df['cleaned_text'] = train_df['Text'].map(cleanse_data,na_action='ignore')"
   ]
  },
  {
   "cell_type": "code",
   "execution_count": 89,
   "metadata": {},
   "outputs": [],
   "source": [
    "# filtering all common english words\n",
    "train_df['cleaned_text'] = train_df['cleaned_text'].map(reduce_words,na_action='ignore')"
   ]
  },
  {
   "cell_type": "code",
   "execution_count": 90,
   "metadata": {},
   "outputs": [],
   "source": [
    "train_df['Text_len'] = train_df['Text'].map(lambda x:len(str(x)))\n",
    "train_df['cleaned_text_len'] = train_df['cleaned_text'].map(lambda x:len(str(x)))"
   ]
  },
  {
   "cell_type": "code",
   "execution_count": 91,
   "metadata": {},
   "outputs": [
    {
     "data": {
      "text/html": [
       "<div>\n",
       "<style scoped>\n",
       "    .dataframe tbody tr th:only-of-type {\n",
       "        vertical-align: middle;\n",
       "    }\n",
       "\n",
       "    .dataframe tbody tr th {\n",
       "        vertical-align: top;\n",
       "    }\n",
       "\n",
       "    .dataframe thead th {\n",
       "        text-align: right;\n",
       "    }\n",
       "</style>\n",
       "<table border=\"1\" class=\"dataframe\">\n",
       "  <thead>\n",
       "    <tr style=\"text-align: right;\">\n",
       "      <th></th>\n",
       "      <th>ID</th>\n",
       "      <th>Gene</th>\n",
       "      <th>Variation</th>\n",
       "      <th>Text</th>\n",
       "      <th>cleaned_text</th>\n",
       "      <th>Text_len</th>\n",
       "      <th>cleaned_text_len</th>\n",
       "    </tr>\n",
       "  </thead>\n",
       "  <tbody>\n",
       "    <tr>\n",
       "      <th>3258</th>\n",
       "      <td>3258</td>\n",
       "      <td>RET</td>\n",
       "      <td>A883T</td>\n",
       "      <td>The RET protooncogene mutations responsible fo...</td>\n",
       "      <td>RET protooncogene mutations 2 inherited autoso...</td>\n",
       "      <td>52231</td>\n",
       "      <td>19986</td>\n",
       "    </tr>\n",
       "    <tr>\n",
       "      <th>110</th>\n",
       "      <td>110</td>\n",
       "      <td>MSH6</td>\n",
       "      <td>Truncating Mutations</td>\n",
       "      <td>In addition to their mismatch recognition acti...</td>\n",
       "      <td>In activities eukaryotic MutS activities ATPas...</td>\n",
       "      <td>179443</td>\n",
       "      <td>79429</td>\n",
       "    </tr>\n",
       "    <tr>\n",
       "      <th>1515</th>\n",
       "      <td>1515</td>\n",
       "      <td>ALK</td>\n",
       "      <td>A1200V</td>\n",
       "      <td>In the era of personalized medicine, understan...</td>\n",
       "      <td>In personalized drivers oncogenesis characteri...</td>\n",
       "      <td>47934</td>\n",
       "      <td>20024</td>\n",
       "    </tr>\n",
       "    <tr>\n",
       "      <th>2182</th>\n",
       "      <td>2182</td>\n",
       "      <td>PTEN</td>\n",
       "      <td>S362L</td>\n",
       "      <td>ABSTRACT To look for a direct role of ultravi...</td>\n",
       "      <td>ABSTRACT To UV pigmentosum XP patients DNA 100...</td>\n",
       "      <td>20640</td>\n",
       "      <td>8748</td>\n",
       "    </tr>\n",
       "    <tr>\n",
       "      <th>931</th>\n",
       "      <td>931</td>\n",
       "      <td>PDGFRB</td>\n",
       "      <td>KANK1-PDGFRB Fusion</td>\n",
       "      <td>KANK1-PDGFRB is a fusion gene generated by the...</td>\n",
       "      <td>KANK1-PDGFRB generated t59 KANK1 platelet-deri...</td>\n",
       "      <td>31206</td>\n",
       "      <td>14473</td>\n",
       "    </tr>\n",
       "  </tbody>\n",
       "</table>\n",
       "</div>"
      ],
      "text/plain": [
       "        ID    Gene             Variation  \\\n",
       "3258  3258     RET                 A883T   \n",
       "110    110    MSH6  Truncating Mutations   \n",
       "1515  1515     ALK                A1200V   \n",
       "2182  2182    PTEN                 S362L   \n",
       "931    931  PDGFRB   KANK1-PDGFRB Fusion   \n",
       "\n",
       "                                                   Text  \\\n",
       "3258  The RET protooncogene mutations responsible fo...   \n",
       "110   In addition to their mismatch recognition acti...   \n",
       "1515  In the era of personalized medicine, understan...   \n",
       "2182   ABSTRACT To look for a direct role of ultravi...   \n",
       "931   KANK1-PDGFRB is a fusion gene generated by the...   \n",
       "\n",
       "                                           cleaned_text  Text_len  \\\n",
       "3258  RET protooncogene mutations 2 inherited autoso...     52231   \n",
       "110   In activities eukaryotic MutS activities ATPas...    179443   \n",
       "1515  In personalized drivers oncogenesis characteri...     47934   \n",
       "2182  ABSTRACT To UV pigmentosum XP patients DNA 100...     20640   \n",
       "931   KANK1-PDGFRB generated t59 KANK1 platelet-deri...     31206   \n",
       "\n",
       "      cleaned_text_len  \n",
       "3258             19986  \n",
       "110              79429  \n",
       "1515             20024  \n",
       "2182              8748  \n",
       "931              14473  "
      ]
     },
     "execution_count": 91,
     "metadata": {},
     "output_type": "execute_result"
    }
   ],
   "source": [
    "train_df.head()"
   ]
  },
  {
   "cell_type": "markdown",
   "metadata": {},
   "source": [
    "#### converting text to numbers"
   ]
  },
  {
   "cell_type": "code",
   "execution_count": 233,
   "metadata": {},
   "outputs": [],
   "source": [
    "train_df_corpus = train_df['cleaned_text'].tolist()"
   ]
  },
  {
   "cell_type": "code",
   "execution_count": 234,
   "metadata": {},
   "outputs": [
    {
     "data": {
      "text/plain": [
       "CountVectorizer(max_features=1600, stop_words='english')"
      ]
     },
     "execution_count": 234,
     "metadata": {},
     "output_type": "execute_result"
    }
   ],
   "source": [
    "bow_vectorizer.fit(train_df_corpus)"
   ]
  },
  {
   "cell_type": "code",
   "execution_count": 235,
   "metadata": {},
   "outputs": [],
   "source": [
    "train_df_counts= bow_vectorizer.transform(train_df_corpus)"
   ]
  },
  {
   "cell_type": "code",
   "execution_count": 68,
   "metadata": {},
   "outputs": [
    {
     "name": "stdout",
     "output_type": "stream",
     "text": [
      "Vocabulary:  {'tumors': 1523, 'mutations': 1008, 'dna': 527, 'polymerase': 1159, 'pole': 1156, 'exo': 604, 'frequencies': 666, '100': 16, 'cancers': 340, 'classify': 383, 'groups': 709, 'properties': 1206, 'group': 708, 'mutants': 1004, 'cell': 361, 'free': 665, 'assays': 281, 'patterns': 1112, 'substitutions': 1430, 'caused': 347, 'types': 1527, 'leads': 874, 'increased': 797, 'tp53': 1493, 'atm': 285, 'pik3r1': 1145, 'strand': 1418, 'specific': 1400, 'demonstrated': 489, 'taken': 1456, 'systems': 1449, '2005': 71, '2010': 77, '2011': 78, 'characterized': 370, 'patients': 1111, 'involves': 837, 'genes': 690, 'mlh1': 978, 'microsatellite': 971, 'msi': 996, 'et': 593, '1997': 56, '15': 42, '20': 64, '30': 100, 'observed': 1063, 'glioblastoma': 703, 'repeats': 1275, '10': 15, 'mb': 933, 'compared': 399, '2013': 80, 'recently': 1252, 'large': 871, 'scale': 1329, 'studies': 1424, 'mutated': 1005, 'encoded': 569, 'colorectal': 397, 'reported': 1277, 'cancer': 339, 'genome': 692, '2012': 79, '2014': 81, 'changes': 368, 'supplemental': 1441, 'fig': 639, 's1': 1318, '2008': 74, 'harboring': 723, 'outcomes': 1081, 'processes': 1192, 'results': 1295, 'described': 498, 'humans': 759, '50': 132, 'sequencing': 1349, 'table': 1453, 'representing': 1281, '12': 30, 'exhibited': 602, 'overall': 1083, 'occurred': 1065, 'spots': 1405, 'encoding': 571, '11': 26, 'tcga': 1460, 'numbers': 1060, '2a': 95, 'figure': 641, 'mutation': 1006, 'domain': 532, 'frequency': 667, 'crc': 446, 'categories': 345, 'dependent': 493, 'rates': 1240, '02': 7, 'contained': 424, 'sites': 1377, 'identified': 766, '13': 36, 'samples': 1325, 'profiles': 1195, '01': 6, 'homolog': 751, '2001': 67, '2002': 68, 'tables': 1454, '22': 84, 'residues': 1287, '2b': 96, 'site': 1376, 'directed': 515, 'mutagenesis': 1002, 'containing': 425, 'conserved': 417, 'motifs': 991, 'activities': 213, 'encodes': 570, 'terminal': 1465, '140': 41, 'kda': 853, 'holoenzyme': 749, 'vitro': 1567, 'wild': 1577, 'type': 1526, '3a': 111, 'interestingly': 830, 'iii': 774, 'ii': 773, 'variants': 1553, 's4': 1321, 'amino': 243, 'nucleotides': 1056, 'increases': 798, '2003': 69, '2009': 75, 'using': 1541, '1995': 54, 'sequenced': 1347, 'clones': 387, '3b': 112, 'vivo': 1568, 'shows': 1358, 'mutant': 1003, 'mediated': 944, 'induced': 805, '2004': 70, 'products': 1194, 'oligonucleotide': 1071, 'primers': 1182, 'processed': 1191, '3c': 113, 'tumorigenesis': 1521, 'wide': 1576, 'kb': 851, 'chromosomes': 375, 'ratios': 1241, '4a': 127, 'obtained': 1064, '08': 13, 'decreased': 480, '05': 10, 'value': 1549, '16': 44, '005': 5, 'methods': 964, 'cases': 343, 'counted': 442, 'ca': 336, 'pairs': 1101, '4b': 128, 's5': 1322, 'non': 1037, 'enriched': 574, 'hypothesized': 761, 'genomes': 693, 'proposed': 1207, 'mapped': 925, '5a': 143, 'regions': 1262, '17': 46, 'sequences': 1348, 'examined': 599, '1994': 53, '2000': 66, '5b': 144, '65': 154, '26': 89, '60': 148, 'top1': 1491, 'bands': 296, 's6': 1323, 'indicating': 803, 'mapping': 926, 'factors': 619, 'events': 597, 'plays': 1153, 'supports': 1446, 'coding': 392, 'ser': 1350, 'arg': 272, 'codons': 393, 'tyr': 1528, 's2': 1319, 's3': 1320, 'comparisons': 402, 'diseases': 520, 'performed': 1124, 'glu': 705, 'including': 796, 'acids': 206, 'missense': 974, 'related': 1270, 'occurs': 1068, 'hotspot': 753, 'antisense': 258, 'hotspots': 754, 'explained': 611, 'comparison': 401, 'discussion': 518, 'reveals': 1300, 'positions': 1166, 'experiments': 610, 'purified': 1219, '38': 109, 'alleles': 235, 'observations': 1062, 'msh6': 995, 'msh2': 994, 'pten': 1215, 'features': 629, 'followed': 655, 'signatures': 1369, 'cultures': 459, 'cells': 362, 'individuals': 804, 'terms': 1467, 'dephosphorylation': 494, 'lipid': 890, 'pip3': 1146, 'phosphatidylinositol': 1133, 'activates': 209, 'phosphoinositide': 1135, 'rapamycin': 1235, 'oncogenic': 1074, 'loss': 902, 'function': 668, 'germline': 698, 'tumor': 1520, 'syndromes': 1447, 'disorders': 521, 'ala': 229, 'loops': 901, 'like': 884, 'proteins': 1210, 'phts': 1141, 'associated': 282, 'targeting': 1458, 'loop': 900, 'conversely': 430, 'wpd': 1582, 'asp92': 277, 'findings': 645, 'neoplasms': 1020, 'section': 1339, 'introduction': 832, 'deleted': 485, 'animals': 254, 'actin': 207, 'binding': 309, '123': 33, '45': 122, 'inhibiting': 812, 'kinase': 857, 'pi3k': 1143, 'signaling': 1366, 'anti': 256, 'apoptotic': 262, 'malignancies': 918, 'p53': 1095, '14': 40, 'inherited': 810, '18': 47, '19': 50, 'independent': 800, 'functions': 670, '25': 87, 'dual': 548, 'predicted': 1176, '27': 90, 'phosphorylated': 1138, 'located': 895, 'thr': 1479, 'allows': 239, 'indicated': 801, 'validated': 1548, 'expression': 614, 'briefly': 331, 'p110α': 1088, 'levels': 878, 'gfp': 699, 'tagged': 1455, 'akt': 226, 'allowed': 237, 'generated': 688, 'localized': 894, 'yeast': 1590, 'based': 300, 'post': 1168, 'genomic': 694, 'tools': 1490, 'insights': 822, 'asddd': 276, 'confer': 410, 'exons': 607, '88': 180, '98': 191, '121': 32, '131': 38, '1a': 59, '1b': 60, 'cerevisiae': 364, '31': 102, 'abrogated': 200, 'phosphotyrosine': 1140, 'peptides': 1123, '34': 105, 'dimensional': 512, 'spanning': 1399, 'pdb': 1119, 'id': 764, 'homo': 750, 'numbering': 1059, 'alignments': 232, 'view': 1564, 'functional': 669, 'transformants': 1504, 'expressing': 613, 'akt1': 227, 'cys': 464, 'incubated': 799, 'expressed': 612, 'inducible': 807, 'monitored': 988, 'controls': 429, 'wt': 1583, 'bars': 299, 'indicates': 802, 'corresponds': 436, 'analyzed': 250, 'data': 474, 'error': 588, '1c': 61, '35': 106, 'presented': 1179, '36': 107, '40': 116, 'figs': 640, 'expected': 608, 'finally': 644, 'supplementary': 1442, 'material': 930, 'recombinant': 1256, 'cos': 437, 'transfectants': 1500, 'ha': 719, 'lysates': 909, 'immunoblot': 780, 'phospho': 1134, 'active': 212, 'antibodies': 257, 'quantified': 1225, 'sd': 1335, '6a': 159, 'lines': 888, 'test': 1469, '0001': 3, 'referred': 1259, 'figures': 643, 'download': 539, 'enzymes': 575, 'demonstrates': 490, 'driven': 543, '5c': 145, '6b': 160, 'involving': 838, 'domains': 533, 'isoforms': 842, 'kinases': 858, 'ubiquitination': 1533, 'membranes': 959, 'reports': 1278, '23': 85, 'mechanisms': 942, 'developed': 504, 'inactivated': 793, 'structure': 1422, 'disease': 519, 'conclusions': 407, '47': 124, 'retained': 1298, 'authors': 289, 'protein': 1209, 'interactions': 828, 'c2': 335, 'targets': 1459, '51': 134, 'cosmic': 439, 'databases': 476, 'intron': 833, '54': 137, '56': 139, 'frame': 663, 'impaired': 788, 'andor': 252, '39': 110, 'examples': 600, 'parameters': 1106, '58': 141, 'association': 283, 'means': 940, 'therapies': 1478, '59': 142, 'variations': 1554, 'suggested': 1435, 'models': 982, 'focused': 652, 'activating': 210, 'differences': 510, 'altered': 241, 'deficient': 483, 'furthermore': 671, 'lacking': 867, 'populations': 1164, 'abnormalities': 198, '64': 153, 'linked': 889, 'required': 1283, 'pathways': 1109, 'materials': 931, 'conditions': 408, 'transfection': 1502, '101': 18, '63': 152, '52': 135, '200': 65, 'supplemented': 1443, 'transformed': 1505, 'procedures': 1190, 'growth': 710, 'plates': 1151, 'markers': 927, '110': 27, 'verified': 1562, 'mab': 915, '67': 156, 'conjugated': 415, 'mouse': 992, 'visualized': 1566, 'images': 777, '95': 188, 'imaging': 778, 'software': 1393, 'transfected': 1501, '48': 125, '68': 157, 'lysed': 910, 'signalling': 1367, 'technologies': 1461, 'probed': 1188, 'represented': 1280, 'plasmids': 1150, 'myc': 1010, 'pcr': 1117, 'noonan': 1038, 'ns': 1050, 'defects': 481, 'positive': 1167, 'luciferase': 905, 'nih': 1032, '3t3': 115, 'transactivation': 1495, 'ptpn11': 1216, 'raf1': 1233, 'kras': 861, '75': 166, '71': 162, '83': 175, 'low': 903, 'ps': 1213, 'phenotypes': 1131, 'cfc': 365, 'lesions': 876, 'shp': 1359, 'diagnosed': 508, 'called': 338, 'hras': 757, 'braf': 323, '2006': 72, 'nras': 1048, '2007': 73, 'cbl': 351, 'exome': 605, 'ras': 1236, 'map2k1': 923, 'approved': 268, 'university': 1538, 'medicine': 947, 'subjects': 1428, 'sanger': 1326, 'constructs': 422, 'flag': 650, 'cdna': 359, 'invitrogen': 836, 'stratagene': 1419, 'usa': 1540, 'manufacturer': 919, 'instructions': 825, 'cdnas': 360, 'subcloned': 1426, 'mek1': 952, 'dbd': 478, 'purchased': 1218, 'agilent': 225, 'null': 1057, 'promega': 1201, 'maintained': 916, 'modified': 984, 'μgml': 1596, '37': 108, 'trans': 1494, 'map': 922, 'lipofectamine': 891, '24': 86, 'plasmid': 1149, 'gal4': 676, '04': 9, 'μg': 1595, 'consisting': 419, 'ng': 1028, 'amounts': 245, 'μl': 1597, 'assay': 279, 'germany': 697, 'statistical': 1416, 'detected': 503, 'novo': 1044, 'families': 622, 'clinical': 384, 'years': 1589, '33': 104, 'having': 725, 'patient': 1110, 'nucleotide': 1055, 'age': 223, 'died': 509, 'months': 990, 'high': 744, 'weeks': 1574, 'nd': 1017, 'single': 1373, 'characteristics': 369, 'relative': 1271, 'prolonged': 1200, '70': 161, '69': 158, '62': 151, 'improved': 792, 'controlled': 428, 'previous': 1180, 'total': 1492, '108': 25, '42': 119, '85': 177, '92': 185, '81': 173, '74': 165, '55': 138, '79': 170, '46': 123, '21': 83, '91': 184, '29': 92, 'notably': 1040, 'treated': 1510, 'recorded': 1257, 'showed': 1357, 'despite': 499, 'pa': 1099, 'ct': 455, 'consequences': 416, 'introduced': 831, 'erk': 584, 'resulted': 1294, 'activated': 208, 'jnk': 847, 'values': 1550, 'sds': 1336, '001': 4, 'schematic': 1331, 'reviewed': 1302, 'similar': 1371, 'affects': 220, '43': 120, '77': 168, '73': 164, 'harbored': 722, '57': 140, '49': 126, '03': 8, '80': 171, '82': 174, '90': 183, '94': 187, '87': 179, '66': 155, '53': 136, '72': 163, '111': 28, '89': 181, 'vs': 1570, 'fisher': 647, '1996': 55, 'implicated': 789, 'g1': 674, 'evaluated': 596, 'gain': 675, 'pc': 1114, '293': 93, 'roles': 1311, 'catenin': 346, 'carcinomas': 341, 'cyclin': 463, 'promoters': 1203, 'regulating': 1266, 'hcc': 726, 'cadherin': 337, 'recognized': 1255, 'wnt': 1580, 'apc': 260, 'loh': 898, '78': 169, 'alterations': 240, 'stage': 1409, 'factor': 618, 'amplified': 247, 'appeared': 263, 'cycles': 462, 'tissues': 1483, '1993': 52, 'hospital': 752, 'specimens': 1402, 'conducted': 409, 'sections': 1340, '1992': 51, 'iv': 844, 'immunohistochemical': 783, 'monoclonal': 989, 'laboratories': 866, '150': 43, 'qiagen': 1223, 'manufacturers': 920, '500': 133, 'mm': 979, 'tris': 1514, 'mgml': 968, 'units': 1537, 'polyacrylamide': 1157, 'gels': 686, 'hours': 755, 'abi': 196, 'prism': 1183, 'cycle': 461, 'applied': 266, 'representative': 1279, 'follow': 654, 'excluded': 601, 'curves': 460, 'kaplan': 850, 'meier': 950, 'log': 897, 'rank': 1234, 'stages': 1410, '76': 167, '41': 118, 'pro': 1184, '32': 103, 'oncogenes': 1073, 'inhibits': 816, 'ubiquitin': 1532, 'proteasome': 1208, 'contains': 426, 'areas': 271, '28': 91, 'jun': 848, 'similarly': 1372, 'overexpression': 1086, 'phase': 1129, 'oncogene': 1072, 'induces': 806, 'needed': 1018, 'deletions': 488, 'remaining': 1274, 'western': 1575, 'activation': 211, 'rb': 1242, 'cpg': 444, 'supported': 1444, 'research': 1286, 'culture': 458, 'science': 1332, 'molecular': 985, 'human': 758, 'center': 363, 'institute': 823, 'medical': 946, 'forms': 659, 'complexes': 403, 'molecules': 987, 'signal': 1365, 'concentrations': 406, 'initiated': 817, 'tissue': 1482, 'life': 880, 'rt': 1314, 'rna': 1309, 'sets': 1353, 'amplifications': 246, 'follows': 657, 'downloaded': 540, '2017': 82, '1998': 57, 'gene': 687, '120': 31, 'sequence': 1346, 'bp': 322, 'summary': 1438, 'nf': 1025, 'sp': 1398, 'deletion': 487, 'agarose': 222, 'cloning': 388, 'vector': 1557, 'biosystems': 314, 'analysis': 249, 'summarized': 1437, 'transcripts': 1498, 'melanomas': 957, 'kd': 852, 'lacks': 868, 'investigated': 835, 'women': 1581, 'stat3': 1412, 'src': 1406, 'inhibitors': 815, 'profiling': 1196, 'tert': 1468, 'integrated': 826, 'subgroups': 1427, 'inactivating': 794, 'experimental': 609, 'details': 502, '250': 88, 'online': 1076, 'illumina': 776, 'fold': 653, 'somatic': 1394, 'damaging': 472, '124': 34, '00001': 2, 'promoted': 1202, 'agents': 224, 'ci': 376, 'options': 1079, '1d': 62, 'alk': 233, 'occurring': 1067, 'drivers': 544, 'remained': 1273, 'receptor': 1253, 'tyrosine': 1529, 'tkd': 1485, 'mrna': 993, 'del': 484, 'subcellular': 1425, 'immunofluorescence': 782, 'counts': 443, 'μm': 1598, 'dasatinib': 473, 'ngml': 1029, 'il': 775, 'hr': 756, 'length': 875, '2c': 97, '2d': 98, 'treatment': 1511, 'dose': 535, 'baf3': 295, 'conferred': 411, 'fibroblasts': 638, 'failed': 620, '3d': 114, '107': 24, 'immunohistochemistry': 784, 'effect': 557, 'pbs': 1113, 'identification': 765, 'gs': 711, '4c': 129, '4d': 130, 'accordingly': 203, '4e': 131, 'copy': 433, 'number': 1058, 'aberrations': 195, 'neutral': 1023, 'snp': 1391, 'clusters': 389, 'm2': 913, '97': 190, 'beta': 308, 'demonstrating': 491, 'time': 1481, 'separated': 1344, 'relapsed': 1269, 'tumorigenic': 1522, '125': 35, 'arrows': 275, 'etv6': 595, 'lymphocytes': 907, 'silencing': 1370, 'transgenic': 1506, 'subtypes': 1433, 'estimated': 592, 'transcriptional': 1497, 'xl': 1587, '800': 172, 'xenograft': 1585, 'author': 288, 'si': 1362, 'st': 1408, 'gm': 706, 'gc': 681, 'analysed': 248, 'stained': 1411, '84': 176, 'constructed': 421, 'cotransfected': 440, 'negative': 1019, 'correlates': 435, 'interacts': 829, 'members': 958, 'differentiated': 511, 'bound': 320, 'binds': 310, 'components': 404, 'contributes': 427, 'elements': 563, 'intronic': 834, 'published': 1217, '400': 117, 'changed': 367, 'replaced': 1276, '44': 121, '00': 0, 'sc': 1328, 'additionally': 218, 'harvested': 724, 'comparing': 400, 'regulators': 1268, 'includes': 795, 'tk': 1484, 'line': 887, 'activity': 214, 'discussed': 517, 'accompanied': 202, 'appears': 264, 'responses': 1292, 'tumour': 1524, 'inhibited': 811, 'regulation': 1267, 'causing': 349, 'nh2': 1030, 'terminus': 1466, 'interacting': 827, 'signals': 1368, 'regulated': 1264, 'represents': 1282, 'frameshift': 664, 'cooh': 431, 'open': 1078, 'powerpoint': 1169, 'mediates': 945, 'vectors': 1558, 'suggests': 1436, 'hct116': 728, 'extracts': 615, 'paraffin': 1105, 'embedded': 566, 'embryos': 567, 'larger': 872, 'phe': 1130, 'lys': 908, 'met': 962, 'dominant': 534, 'lanes': 869, 'dn': 526, 'achieved': 204, 'requires': 1284, 'regulates': 1265, 'apoptosis': 261, 'kit': 859, 'gists': 701, 'germ': 696, 'documented': 529, 'carriers': 342, 'juxtamembrane': 849, 'gist': 700, 'imatinib': 779, 'cd117': 352, 'fewer': 631, 'memorial': 960, 'sloan': 1381, 'kettering': 855, 'cm': 390, 'cd34': 353, 'year': 1588, 'old': 1069, 'long': 899, 'multiple': 1000, 'grade': 707, 'genetic': 691, 'counseling': 441, 'children': 373, 'depicted': 495, 'genotyping': 695, 'figureopen': 642, 'tabdownload': 1452, 'developing': 505, 'risk': 1307, 'inlineview': 819, 'popup': 1165, 'polyclonal': 1158, 'exists': 603, 'metastases': 963, 'tolerated': 1489, 'disrupted': 522, 'autophosphorylation': 290, 'helix': 737, 'ligand': 881, 'receptors': 1254, 'derived': 497, 'mastocytosis': 928, 'scf': 1330, 'situ': 1378, 'conformational': 413, 'biotechnology': 315, 'pcdna3': 1116, 'md': 937, 'serum': 1351, 'immunoprecipitation': 787, 'immunoblotting': 781, 'ph': 1128, 'nacl': 1014, 'immunoprecipitated': 785, 'immunoprecipitates': 786, 'heat': 732, 'eluted': 565, 'hcl': 727, 'amersham': 242, 'blots': 317, 'secondary': 1338, 'structures': 1423, 'synthesized': 1448, 'nm': 1035, 'inhibition': 813, 'phosphorylation': 1139, 'slide': 1379, 'ring': 1306, 'specifically': 1401, 'chains': 366, 'epitope': 576, 'recent': 1251, 'locations': 896, 'tumours': 1525, 'keywords': 856, 'primary': 1181, 'arising': 274, 'v600e': 1545, 'department': 492, 'formalin': 658, 'fixed': 648, 'earlier': 551, 'mutational': 1007, 'probes': 1189, 'real': 1247, 'roche': 1310, '130': 37, 'tests': 1470, '86': 178, 'ihc': 772, 'subsets': 1429, '61': 150, '1999': 58, 'uv': 1542, 'institutional': 824, 'drugs': 546, 'rtk': 1315, 'health': 731, 'biopsies': 312, 'variables': 1551, 'approaches': 267, 'igg': 771, 'reactions': 1245, 'oncology': 1075, 'small': 1387, 'sunitinib': 1439, 'sorafenib': 1395, 'progression': 1198, 'drug': 545, 'pr': 1173, 'li': 879, 'na': 1013, 'pd': 1118, 'trials': 1513, 'mesylate': 961, 'raf': 1232, 'supporting': 1445, 'highlighted': 745, 'targeted': 1457, 'second': 1337, 'resistant': 1289, 'pdgfra': 1120, 'doi': 531, 'd842v': 471, 'population': 1163, 'blocks': 316, 'slides': 1380, '106': 23, 'insertions': 820, 'unfortunately': 1535, 'v560d': 1544, 'causes': 348, 'allosteric': 236, 'promotes': 1204, 'cross': 452, 'transmembrane': 1508, 'subunits': 1434, 'consists': 420, 'structural': 1421, 'states': 1415, 'rearrangements': 1249, 'dfg': 506, 'atp': 287, 'aml': 244, 'd816v': 470, '600': 149, 'efforts': 559, 'bcr': 305, 'abl': 197, 'v654a': 1546, 'fragments': 662, 'engineered': 572, 'atoms': 286, '000': 1, 'cα': 468, 'bonds': 319, 'allowing': 238, 'conformations': 414, 'jm': 846, 'predictions': 1178, 'pca': 1115, '96': 189, '105': 22, 'inducing': 808, 'diminished': 514, '133': 39, 'charged': 371, 'scores': 1333, 'contacts': 423, 'egfr': 562, 'points': 1155, 'overlapping': 1087, 'sh2': 1356, '93': 186, 'ret': 1297, '104': 21, 'abolished': 199, 'stimulated': 1417, 'resistance': 1288, 'family': 623, 'csf': 454, 'provides': 1212, '117': 29, 'substrates': 1432, 'self': 1341, 'acts': 215, 'promoting': 1205, 'melanoma': 956, 'importantly': 791, 'res': 1285, 'cohorts': 394, 'mitogen': 975, 'colleagues': 395, '102': 19, 'generation': 689, 'dr': 542, 'refs': 1260, 'ecd': 553, '300': 101, 'identifying': 767, 'sensitive': 1342, 'multivariate': 1001, 'cdkn2a': 358, 'cdk4': 356, 'consistent': 418, 'implications': 790, 'protocols': 1211, '06': 11, 'rich': 1305, 'bio': 311, 'rad': 1230, 'nmoll': 1036, 'reverse': 1301, 'transcription': 1496, 'gapdh': 679, 'labeled': 865, 'phosphate': 1132, 'measurements': 941, 'copies': 432, 'fish': 646, 'mmoll': 980, 'yes': 1591, 'likewise': 885, 'pkc412': 1148, 'fgfr1': 634, 'pik3ca': 1144, 'fgfr3': 636, 'mtor': 997, 'sos': 1396, 'mek': 951, '180': 48, 'acc': 201, '103': 20, 'ag': 221, 'pre': 1175, 'acid': 205, 'united': 1536, 'mg': 966, 'response': 1291, 'given': 702, 'guidelines': 715, 'bac': 293, 'level': 877, 'national': 1015, 'baseline': 301, 'receiving': 1250, 'responders': 1290, 'overexpressed': 1084, 'lung': 906, 'gefitinib': 685, 'erlotinib': 587, 'platinum': 1152, 'gtpase': 714, 'l858r': 864, 'erbb2': 579, 'pooled': 1162, 'responsive': 1293, 'vegf': 1559, 'confers': 412, 'nilotinib': 1034, 'ic50': 763, '1000': 17, 'sensitivity': 1343, 'ref': 1258, 'cdk': 354, 'cloned': 386, 'core': 434, 'additional': 217, 'term': 1463, 'strategies': 1420, 'aspects': 278, 'class': 381, 'b2m': 292, 'hla': 746, 'caspase': 344, 'checkpoint': 372, 'ctla4': 456, 'dataset': 477, 'seq': 1345, 'effectors': 558, 'l1': 863, 'panels': 1104, 'pan': 1103, 'adenocarcinomas': 219, 'smokers': 1390, 'matched': 929, 'depleted': 496, 'reads': 1246, 'ligands': 882, 'vhl': 1563, 'wang': 1573, 'h1047r': 718, 'cic': 377, 'dnmt3a': 528, 'predicting': 1177, 'combinations': 398, 'ma': 914, 'mel': 955, 'regimens': 1261, 'note': 1043, '201': 76, 'onlinefirst': 1077, 'rpmi': 1313, '1640': 45, 'bd': 306, 'cytometry': 467, 'cruz': 453, 'technology': 1462, 'ml': 977, 'cytokine': 465, 'sigma': 1364, 'aldrich': 230, 'hd': 729, 'database': 475, 'cytokines': 466, 'downregulation': 541, 'upregulation': 1539, 'processing': 1193, 'normalized': 1039, 'mmr': 981, 'half': 720, 'nt': 1054, 'e2': 549, 'e3': 550, 'hh': 742, 'varying': 1555, 'defi': 482, 'snps': 1392, 'double': 537, 'transduced': 1499, 'new': 1024, 'er': 577, 'enhances': 573, 'ip': 839, 'progenitors': 1197, 'tgf': 1475, 'early': 552, 'doses': 536, 'created': 448, 'makes': 917, 'termed': 1464, 'following': 656, 'dlbcl': 523, 'translocations': 1507, 'ezh2': 616, 'κb': 1594, 'crebbp': 449, 'discovery': 516, 'polymorphisms': 1160, 'truncating': 1515, 'cis': 379, 'isoform': 841, 'information': 809, 'edta': 555, 'beads': 307, 'dmem': 524, 'fl': 649, 'page': 1100, 'colonies': 396, 'transfections': 1503, 'retroviral': 1299, 'wildtype': 1578, 'modifications': 983, 'molecule': 986, 'ss': 1407, 'nsclc': 1051, 'mek2': 954, 'mek12': 953, 'mapk': 924, 'sources': 1397, 'erk12': 585, 'substrate': 1431, 'dmso': 525, 'μmoll': 1599, '293t': 94, 'os': 1080, 'pfs': 1127, 'rearranged': 1248, 'ros1': 1312, 'assayed': 280, 'anchorage': 251, 'minutes': 972, 'her2': 739, 'fusions': 673, 'trastuzumab': 1509, 'compounds': 405, 'brafv600e': 324, 'hybrid': 760, 'erbb4': 581, 'flt3': 651, 'hgf': 741, 'craf': 445, 'lapatinib': 870, 'neratinib': 1021, 'pf': 1126, 't790m': 1451, 'nf1': 1026, 'cdk6': 357, 'erk2': 586, 'nih3t3': 1033, 'hek293t': 735, 'mdm2': 938, 'ercc2': 582, 'brca1': 326, 'brca2': 327, 'brip1': 332, 'probabilities': 1185, 'exonic': 606, 'screens': 1334, 'shrna': 1361, 'nci': 1016, 'treatments': 1512, 'tsc1': 1517, 'araf': 270, 'fbs': 626, 'a549': 193, 'inhibitor': 814, 'puromycin': 1220, 'xenografts': 1586, 'injected': 818, 'mgkg': 967, 'esr1': 591, 'appendix': 265, 'gap': 678, 'ligase': 883, 'allele': 234, 'cisplatin': 380, 'asxl1': 284, 'pdgfrb': 1121, 'variant': 1552, 'u2af1': 1530, 'hematologic': 738, 'sf3b1': 1354, 'erbb': 578, 'tki': 1486, 'egf': 560, 'nsclcs': 1052, 'tkis': 1487, 'phosphorylate': 1137, 'throughput': 1480, 'cml': 391, 'gliomas': 704, 'androgen': 253, 'fusion': 672, 'notch1': 1042, '09': 14, 'smad4': 1385, '07': 12, 'crizotinib': 451, 'bcl': 304, 'ad': 216, 'eml4': 568, 'qpcr': 1224, 'rcc': 1244, 'mtorc1': 998, 's6k': 1324, 'mtorc2': 999, 'tsc2': 1518, 'setd2': 1352, 'bap1': 297, 'jak2': 845, 'stat5': 1413, 'hif': 743, 'partners': 1108, 'bc': 303, 'hek293': 734, 'ubiquitylation': 1534, 'microarray': 970, 'box': 321, 'p85α': 1098, 'heterodimer': 740, 'ish2': 840, 'p85': 1097, 'nsh2': 1053, 'mefs': 949, 'abd': 194, 'spliced': 1403, 'phosphopeptide': 1136, 'rac1': 1229, 'rbd': 1243, 'idh1': 769, 'idh2': 770, 'sift': 1363, 'mcf10a': 935, 'p38': 1094, 'krasg12d': 862, 'egfp': 561, 'biosciences': 313, 'pi': 1142, 'gst': 712, 'tsc': 1516, 'rheb': 1303, 'myriad': 1012, 'vuss': 1572, 'brca': 325, 'occurrence': 1066, 'vus': 1571, 'probands': 1187, 'cosegregation': 438, 'pedigrees': 1122, 'breast': 330, 'brct': 328, 'bard1': 298, 'deleterious': 486, 'd1': 469, 'proband': 1186, 'relatives': 1272, 'ovarian': 1082, 'align': 231, 'gvgd': 717, 'a1708e': 192, 'r1699w': 1228, 'm1689r': 911, 'v1736a': 1543, 'limits': 886, 'stat5b': 1414, 'proliferation': 1199, 'resuspended': 1296, 'fractions': 661, 'smad': 1382, 'smad2': 1383, 'smads': 1386, 'smad3': 1384, 'mh2': 969, 'oligomerization': 1070, 'sara': 1327, 'pser': 1214, 'destabilizing': 501, 'dimers': 513, 'p300': 1093, 'es': 590, 'tuberin': 1519, 'lkb1': 892, 'vol': 1569, 'hamartin': 721, 'galactosidase': 677, 'overexpressing': 1085, 'erbb3': 580, 'fgfr2': 635, 'gtp': 713, 'gdp': 683, 'supp': 1440, 'hek': 733, 'fat': 624, 't389s6k': 1450, 'methylated': 965, 'hela': 736, 'erα': 589, 'runx1': 1316, 'npm1': 1046, 'rad51': 1231, 'chip': 374, 'sirna': 1374, 'u2os': 1531, 'sirnas': 1375, 'idh': 768, 'gbm': 680, 'insight': 821, 'cll': 385, 'nr': 1047, 'bax': 302, 'mc': 934, 'vemurafenib': 1561, 'regorafenib': 1263, 'ponatinib': 1161, 'fgfr': 633, 'erg': 583, 'ets': 594, 'fbxw7': 628, 'cre': 447, 'µm': 1592, 'prb': 1174, 'manuscript': 921, 'pmc': 1154, '1863': 49, 'bach1': 294, 'p21': 1092, 'm1775r': 912, 'iarc': 762, 'destabilized': 500, 'gv': 716, 'gd': 682, 'c0': 334, 'itd': 843, 'mds': 939, 'tet2': 1473, 'crenolanib': 450, 'ls': 904, 'nrf2': 1049, 'keap1': 854, 'cul3': 457, 'smarca4': 1388, 'r132h': 1226, 'rasg12v': 1238, 'mir': 973, 'bm': 318, 'rasg12d': 1237, 'gef': 684, 'neurofibromin': 1022, 'rasgap': 1239, 'ppp2r1a': 1171, 'brd4': 329, 'mycn': 1011, 'p16': 1089, '1α': 63, 'ankyrin': 255, 'notch': 1041, 'tmprss2': 1488, 'r1699q': 1227, 'tgfβ': 1477, 'fgf': 632, 'smo': 1389, 'dod': 530, 'palb2': 1102, 'tetramer': 1474, 'akt2': 228, 'cbfa2': 350, 'ed': 554, 'cient': 378, 'classifi': 382, 'rmce': 1308, 'parp': 1107, 'lncap': 893, 'vcap': 1556, 'p16ink4a': 1090, 'spop': 1404, 'wt1': 1584, 'btb': 333, 'math': 932, 'fbw7': 627, 'pipkiiβ': 1147, 'ar': 269, 'mcf7': 936, 'muts': 1009, 'hmutsα': 748, 'shp2': 1360, 'mef2b': 948, 'kmt2d': 860, 'p53s': 1096, 'arid1b': 273, 'fak': 621, 'pp2a': 1170, 'vegfa': 1560, 'tet': 1471, '5mc': 147, '5hmc': 146, 'tet1': 1472, 'pvhl': 1221, 'elf3': 564, 'rhoa': 1304, 'pest': 1125, 'ppp6c': 1172, '8l': 182, 'fgfr4': 637, 'v7': 1547, 'ruxolitinib': 1317, 'nf2': 1027, 'med12': 943, 'mkk4': 976, 'fedratinib': 630, 'tgfbr2': 1476, 'dht': 507, 'lch': 873, 'hdr': 730, 'ddr2': 479, 'γ1': 1593, 'aα': 291, 'nut': 1061, 'dovitinib': 538, 'foxa1': 660, 'eecs': 556, 'npm': 1045, 'fa': 617, 'dsred': 547, 'nic': 1031, 'wm278': 1579, 'sf3b1k700e': 1355, 'q510e': 1222, 'hmc': 747, 'vismodegib': 1565, 'ap26113': 259, 'cdk12': 355, '2hg': 99, 'fat1': 625, 'ewswt1': 598, 'p190': 1091}\n"
     ]
    }
   ],
   "source": [
    "print(\"Vocabulary: \", bow_vectorizer.vocabulary_)"
   ]
  },
  {
   "cell_type": "code",
   "execution_count": 236,
   "metadata": {},
   "outputs": [
    {
     "data": {
      "text/plain": [
       "(926, 1600)"
      ]
     },
     "execution_count": 236,
     "metadata": {},
     "output_type": "execute_result"
    }
   ],
   "source": [
    "train_df_counts.shape"
   ]
  },
  {
   "cell_type": "code",
   "execution_count": 70,
   "metadata": {},
   "outputs": [
    {
     "data": {
      "text/plain": [
       "<662x1600 sparse matrix of type '<class 'numpy.int64'>'\n",
       "\twith 281779 stored elements in Compressed Sparse Row format>"
      ]
     },
     "execution_count": 70,
     "metadata": {},
     "output_type": "execute_result"
    }
   ],
   "source": [
    "train_df_counts"
   ]
  },
  {
   "cell_type": "code",
   "execution_count": 237,
   "metadata": {},
   "outputs": [],
   "source": [
    "X_train_bow = train_df_counts.todense()"
   ]
  },
  {
   "cell_type": "code",
   "execution_count": 238,
   "metadata": {},
   "outputs": [
    {
     "data": {
      "text/plain": [
       "(926, 1600)"
      ]
     },
     "execution_count": 238,
     "metadata": {},
     "output_type": "execute_result"
    }
   ],
   "source": [
    "X_train_bow.shape"
   ]
  },
  {
   "cell_type": "code",
   "execution_count": 73,
   "metadata": {},
   "outputs": [
    {
     "data": {
      "text/plain": [
       "matrix([[0, 0, 0, ..., 0, 0, 0],\n",
       "        [0, 0, 0, ..., 0, 0, 0],\n",
       "        [0, 0, 0, ..., 3, 0, 0],\n",
       "        ...,\n",
       "        [0, 0, 0, ..., 0, 0, 0],\n",
       "        [0, 0, 0, ..., 0, 0, 0],\n",
       "        [0, 0, 1, ..., 0, 1, 3]])"
      ]
     },
     "execution_count": 73,
     "metadata": {},
     "output_type": "execute_result"
    }
   ],
   "source": [
    "X_train_bow"
   ]
  },
  {
   "cell_type": "markdown",
   "metadata": {},
   "source": [
    "#### model fitting"
   ]
  },
  {
   "cell_type": "code",
   "execution_count": 77,
   "metadata": {},
   "outputs": [],
   "source": [
    "from numpy import random"
   ]
  },
  {
   "cell_type": "code",
   "execution_count": 78,
   "metadata": {},
   "outputs": [],
   "source": [
    "# create a dummy y value for getting the baseline accuracy\n",
    "y_dummy = random.rand(662,9)"
   ]
  },
  {
   "cell_type": "code",
   "execution_count": 79,
   "metadata": {},
   "outputs": [],
   "source": [
    "#y_dummy"
   ]
  },
  {
   "cell_type": "code",
   "execution_count": 111,
   "metadata": {},
   "outputs": [
    {
     "data": {
      "text/plain": [
       "1708    1\n",
       "2201    4\n",
       "84      2\n",
       "1985    7\n",
       "2985    7\n",
       "Name: Class, dtype: int64"
      ]
     },
     "execution_count": 111,
     "metadata": {},
     "output_type": "execute_result"
    }
   ],
   "source": [
    "y_train.head()"
   ]
  },
  {
   "cell_type": "code",
   "execution_count": 81,
   "metadata": {},
   "outputs": [
    {
     "data": {
      "text/plain": [
       "array([[0.10407537, 0.46411596, 0.61568363, ..., 0.00539953, 0.12225389,\n",
       "        0.90920936],\n",
       "       [0.67320872, 0.49437637, 0.13048216, ..., 0.3603641 , 0.94172485,\n",
       "        0.14296205],\n",
       "       [0.04921023, 0.29918962, 0.31584142, ..., 0.43731511, 0.08329138,\n",
       "        0.36791585],\n",
       "       ...,\n",
       "       [0.92066444, 0.39497146, 0.75413634, ..., 0.97417008, 0.77500596,\n",
       "        0.10842003],\n",
       "       [0.25303076, 0.82597211, 0.227634  , ..., 0.60830469, 0.22840636,\n",
       "        0.42130664],\n",
       "       [0.45445716, 0.89807373, 0.68183863, ..., 0.31140785, 0.46678838,\n",
       "        0.62844776]])"
      ]
     },
     "execution_count": 81,
     "metadata": {},
     "output_type": "execute_result"
    }
   ],
   "source": [
    "y_dummy"
   ]
  },
  {
   "cell_type": "code",
   "execution_count": 82,
   "metadata": {},
   "outputs": [
    {
     "data": {
      "text/plain": [
       "2.4591848577877573"
      ]
     },
     "execution_count": 82,
     "metadata": {},
     "output_type": "execute_result"
    }
   ],
   "source": [
    "# baseline loss metric value, random y values\n",
    "log_loss(y_train,y_dummy)"
   ]
  },
  {
   "cell_type": "code",
   "execution_count": 83,
   "metadata": {},
   "outputs": [],
   "source": [
    "y_dummy_2=np.zeros((662,9),dtype='float')"
   ]
  },
  {
   "cell_type": "code",
   "execution_count": 84,
   "metadata": {},
   "outputs": [
    {
     "data": {
      "text/plain": [
       "2.1972245773362196"
      ]
     },
     "execution_count": 84,
     "metadata": {},
     "output_type": "execute_result"
    }
   ],
   "source": [
    "# baseline loss metric value, all probabilites for y set to zero\n",
    "log_loss(y_train,y_dummy_2)"
   ]
  },
  {
   "cell_type": "code",
   "execution_count": 85,
   "metadata": {},
   "outputs": [],
   "source": [
    "# baseline loss metric value, all probabilites for y set to 0.4\n",
    "y_dummy_3=np.full((662,9),0.4,dtype='float')"
   ]
  },
  {
   "cell_type": "code",
   "execution_count": 86,
   "metadata": {},
   "outputs": [
    {
     "data": {
      "text/plain": [
       "2.1972245773362196"
      ]
     },
     "execution_count": 86,
     "metadata": {},
     "output_type": "execute_result"
    }
   ],
   "source": [
    "log_loss(y_train,y_dummy_3)"
   ]
  },
  {
   "cell_type": "code",
   "execution_count": 87,
   "metadata": {},
   "outputs": [],
   "source": [
    "y_dummy_4=np.zeros((662,9),dtype='float')"
   ]
  },
  {
   "cell_type": "code",
   "execution_count": 88,
   "metadata": {},
   "outputs": [],
   "source": [
    "y_dummy_4[:,0]=1.0"
   ]
  },
  {
   "cell_type": "code",
   "execution_count": 89,
   "metadata": {},
   "outputs": [
    {
     "data": {
      "text/plain": [
       "array([1., 0., 0., 0., 0., 0., 0., 0., 0.])"
      ]
     },
     "execution_count": 89,
     "metadata": {},
     "output_type": "execute_result"
    }
   ],
   "source": [
    "y_dummy_4[0,:]"
   ]
  },
  {
   "cell_type": "code",
   "execution_count": 90,
   "metadata": {},
   "outputs": [
    {
     "data": {
      "text/plain": [
       "28.591011275545405"
      ]
     },
     "execution_count": 90,
     "metadata": {},
     "output_type": "execute_result"
    }
   ],
   "source": [
    "# baseline loss metric value,probability at index 1 set to 1.0 for all y\n",
    "log_loss(y_train,y_dummy_4) # wrong logically"
   ]
  },
  {
   "cell_type": "code",
   "execution_count": 91,
   "metadata": {},
   "outputs": [],
   "source": [
    "# baseline loss metric value,probability at random indices set to 1.0 for all y\n",
    "y_dummy_5=np.zeros((662,9),dtype='float')\n",
    "count=0\n",
    "for x in X_train_bow:\n",
    "    new_y_val=np.random.randint(0,9)\n",
    "    y_dummy_5[count,new_y_val]=1.    \n",
    "    count=count+1  "
   ]
  },
  {
   "cell_type": "code",
   "execution_count": 112,
   "metadata": {},
   "outputs": [
    {
     "data": {
      "text/plain": [
       "30.677946405147264"
      ]
     },
     "execution_count": 112,
     "metadata": {},
     "output_type": "execute_result"
    }
   ],
   "source": [
    "log_loss(y_train,y_dummy_5)"
   ]
  },
  {
   "cell_type": "code",
   "execution_count": 93,
   "metadata": {},
   "outputs": [],
   "source": [
    "# baseline loss metric value,probability at random indices set to 1.0 for all y\n",
    "def get_dummy(train_df):\n",
    "    y_dummy_5=np.zeros((662,9),dtype='float') # creating the probability matrix for y values\n",
    "    count=0\n",
    "    for x in train_df:                        # iterating through the training dataset\n",
    "        new_y_val=np.random.randint(0,9)      # creating random values for substituting index values\n",
    "        y_dummy_5[count,new_y_val]=1.         # setting the random index value as 1.0\n",
    "        count=count+1  \n",
    "    return y_dummy_5    "
   ]
  },
  {
   "cell_type": "code",
   "execution_count": 94,
   "metadata": {},
   "outputs": [],
   "source": [
    "def simulate_dummy(train_df,y_train):    \n",
    "    for i in range(10):\n",
    "        y_dummy=get_dummy(train_df)\n",
    "        print(log_loss(y_train,y_dummy))"
   ]
  },
  {
   "cell_type": "code",
   "execution_count": 113,
   "metadata": {},
   "outputs": [
    {
     "name": "stdout",
     "output_type": "stream",
     "text": [
      "2.5358856621484325\n",
      "2.379365527428294\n",
      "2.588059040388479\n",
      "2.5358856621484325\n",
      "2.5358856621484325\n",
      "2.588059040388479\n",
      "2.5358856621484325\n",
      "2.588059040388479\n",
      "2.588059040388479\n",
      "2.5358856621484325\n"
     ]
    }
   ],
   "source": [
    "simulate_dummy(train_df,y_train)"
   ]
  },
  {
   "cell_type": "code",
   "execution_count": 96,
   "metadata": {},
   "outputs": [
    {
     "data": {
      "text/html": [
       "<div>\n",
       "<style scoped>\n",
       "    .dataframe tbody tr th:only-of-type {\n",
       "        vertical-align: middle;\n",
       "    }\n",
       "\n",
       "    .dataframe tbody tr th {\n",
       "        vertical-align: top;\n",
       "    }\n",
       "\n",
       "    .dataframe thead th {\n",
       "        text-align: right;\n",
       "    }\n",
       "</style>\n",
       "<table border=\"1\" class=\"dataframe\">\n",
       "  <thead>\n",
       "    <tr style=\"text-align: right;\">\n",
       "      <th></th>\n",
       "      <th>substitutions</th>\n",
       "      <th>log_loss</th>\n",
       "    </tr>\n",
       "  </thead>\n",
       "  <tbody>\n",
       "    <tr>\n",
       "      <th>0</th>\n",
       "      <td>random</td>\n",
       "      <td>2.54</td>\n",
       "    </tr>\n",
       "    <tr>\n",
       "      <th>1</th>\n",
       "      <td>all zero</td>\n",
       "      <td>2.19</td>\n",
       "    </tr>\n",
       "    <tr>\n",
       "      <th>2</th>\n",
       "      <td>all 0.4</td>\n",
       "      <td>2.19</td>\n",
       "    </tr>\n",
       "    <tr>\n",
       "      <th>3</th>\n",
       "      <td>index 1</td>\n",
       "      <td>28.59</td>\n",
       "    </tr>\n",
       "    <tr>\n",
       "      <th>4</th>\n",
       "      <td>random index</td>\n",
       "      <td>2.50</td>\n",
       "    </tr>\n",
       "  </tbody>\n",
       "</table>\n",
       "</div>"
      ],
      "text/plain": [
       "  substitutions  log_loss\n",
       "0        random      2.54\n",
       "1      all zero      2.19\n",
       "2       all 0.4      2.19\n",
       "3       index 1     28.59\n",
       "4  random index      2.50"
      ]
     },
     "execution_count": 96,
     "metadata": {},
     "output_type": "execute_result"
    }
   ],
   "source": [
    "pd.DataFrame({\"substitutions\":[\"random\",\"all zero\",\"all 0.4\",\"index 1\",\"random index\"],\"log_loss\":[2.54,2.19,2.19,28.59,2.5]})"
   ]
  },
  {
   "cell_type": "markdown",
   "metadata": {},
   "source": [
    "### Training Dataset"
   ]
  },
  {
   "cell_type": "markdown",
   "metadata": {},
   "source": [
    "#### Logistic Regression Model"
   ]
  },
  {
   "cell_type": "markdown",
   "metadata": {},
   "source": [
    "##### Bag of words transformation"
   ]
  },
  {
   "cell_type": "code",
   "execution_count": 134,
   "metadata": {},
   "outputs": [
    {
     "data": {
      "text/plain": [
       "LogisticRegression(multi_class='multinomial')"
      ]
     },
     "execution_count": 134,
     "metadata": {},
     "output_type": "execute_result"
    }
   ],
   "source": [
    "bow_model.fit(X_train_bow,y_train)"
   ]
  },
  {
   "cell_type": "code",
   "execution_count": 98,
   "metadata": {},
   "outputs": [
    {
     "data": {
      "text/plain": [
       "[-0.158921476796835,\n",
       " -0.15860186893979572,\n",
       " -0.15507148083467154,\n",
       " -0.14942942747907573,\n",
       " -0.1376362718812099]"
      ]
     },
     "execution_count": 98,
     "metadata": {},
     "output_type": "execute_result"
    }
   ],
   "source": [
    "sorted(bow_model.coef_.tolist()[0])[:5]"
   ]
  },
  {
   "cell_type": "code",
   "execution_count": 99,
   "metadata": {},
   "outputs": [],
   "source": [
    "y_pred_train_bow = bow_model.predict_proba(X_train_bow)"
   ]
  },
  {
   "cell_type": "code",
   "execution_count": 100,
   "metadata": {},
   "outputs": [
    {
     "data": {
      "text/plain": [
       "0.11532196026905835"
      ]
     },
     "execution_count": 100,
     "metadata": {},
     "output_type": "execute_result"
    }
   ],
   "source": [
    "log_loss(y_train,y_pred_train_bow)"
   ]
  },
  {
   "cell_type": "markdown",
   "metadata": {},
   "source": [
    "##### tfidf transformation"
   ]
  },
  {
   "cell_type": "code",
   "execution_count": 101,
   "metadata": {},
   "outputs": [
    {
     "data": {
      "text/plain": [
       "TfidfVectorizer(max_features=1600, ngram_range=(1, 3), stop_words='english',\n",
       "                strip_accents='unicode', sublinear_tf=True,\n",
       "                token_pattern='\\\\w+')"
      ]
     },
     "execution_count": 101,
     "metadata": {},
     "output_type": "execute_result"
    }
   ],
   "source": [
    "tfidf_vectorizer.fit(train_df_corpus)"
   ]
  },
  {
   "cell_type": "code",
   "execution_count": 102,
   "metadata": {},
   "outputs": [],
   "source": [
    "X_train_tfidf = tfidf_vectorizer.transform(train_df_corpus)"
   ]
  },
  {
   "cell_type": "code",
   "execution_count": 103,
   "metadata": {},
   "outputs": [],
   "source": [
    "X_train_tfidf = X_train_tfidf.toarray()"
   ]
  },
  {
   "cell_type": "code",
   "execution_count": 104,
   "metadata": {},
   "outputs": [
    {
     "data": {
      "text/plain": [
       "LogisticRegression(multi_class='multinomial')"
      ]
     },
     "execution_count": 104,
     "metadata": {},
     "output_type": "execute_result"
    }
   ],
   "source": [
    "tfidf_model.fit(X_train_tfidf,y_train)"
   ]
  },
  {
   "cell_type": "code",
   "execution_count": 105,
   "metadata": {},
   "outputs": [],
   "source": [
    "y_pred_train_tfidf = tfidf_model.predict_proba(X_train_tfidf)"
   ]
  },
  {
   "cell_type": "code",
   "execution_count": 106,
   "metadata": {},
   "outputs": [
    {
     "data": {
      "text/plain": [
       "0.9866316705069138"
      ]
     },
     "execution_count": 106,
     "metadata": {},
     "output_type": "execute_result"
    }
   ],
   "source": [
    "log_loss(y_train,y_pred_train_tfidf)"
   ]
  },
  {
   "cell_type": "markdown",
   "metadata": {},
   "source": [
    "### Validation dataset"
   ]
  },
  {
   "cell_type": "code",
   "execution_count": 150,
   "metadata": {},
   "outputs": [],
   "source": []
  },
  {
   "cell_type": "code",
   "execution_count": 152,
   "metadata": {},
   "outputs": [
    {
     "data": {
      "text/plain": [
       "(3321, 5)"
      ]
     },
     "execution_count": 152,
     "metadata": {},
     "output_type": "execute_result"
    }
   ],
   "source": []
  },
  {
   "cell_type": "code",
   "execution_count": 153,
   "metadata": {},
   "outputs": [],
   "source": []
  },
  {
   "cell_type": "code",
   "execution_count": 156,
   "metadata": {},
   "outputs": [],
   "source": []
  },
  {
   "cell_type": "code",
   "execution_count": 159,
   "metadata": {},
   "outputs": [
    {
     "data": {
      "text/plain": [
       "((3321, 4), (3321,))"
      ]
     },
     "execution_count": 159,
     "metadata": {},
     "output_type": "execute_result"
    }
   ],
   "source": [
    "X_train.shape,y_train.shape"
   ]
  },
  {
   "cell_type": "code",
   "execution_count": 160,
   "metadata": {},
   "outputs": [],
   "source": []
  },
  {
   "cell_type": "code",
   "execution_count": 162,
   "metadata": {},
   "outputs": [
    {
     "data": {
      "text/plain": [
       "((2324, 4), (2324,))"
      ]
     },
     "execution_count": 162,
     "metadata": {},
     "output_type": "execute_result"
    }
   ],
   "source": []
  },
  {
   "cell_type": "code",
   "execution_count": 161,
   "metadata": {},
   "outputs": [
    {
     "data": {
      "text/plain": [
       "((997, 4), (997,))"
      ]
     },
     "execution_count": 161,
     "metadata": {},
     "output_type": "execute_result"
    }
   ],
   "source": []
  },
  {
   "cell_type": "code",
   "execution_count": null,
   "metadata": {},
   "outputs": [],
   "source": []
  },
  {
   "cell_type": "code",
   "execution_count": 139,
   "metadata": {},
   "outputs": [],
   "source": [
    "# taking a sample of the dataset\n",
    "validation_df = train_df.sample(frac=0.3,random_state=111)"
   ]
  },
  {
   "cell_type": "code",
   "execution_count": 140,
   "metadata": {},
   "outputs": [
    {
     "data": {
      "text/html": [
       "<div>\n",
       "<style scoped>\n",
       "    .dataframe tbody tr th:only-of-type {\n",
       "        vertical-align: middle;\n",
       "    }\n",
       "\n",
       "    .dataframe tbody tr th {\n",
       "        vertical-align: top;\n",
       "    }\n",
       "\n",
       "    .dataframe thead th {\n",
       "        text-align: right;\n",
       "    }\n",
       "</style>\n",
       "<table border=\"1\" class=\"dataframe\">\n",
       "  <thead>\n",
       "    <tr style=\"text-align: right;\">\n",
       "      <th></th>\n",
       "      <th>ID</th>\n",
       "      <th>Gene</th>\n",
       "      <th>Variation</th>\n",
       "      <th>Class</th>\n",
       "      <th>Text</th>\n",
       "      <th>cleaned_text</th>\n",
       "      <th>Text_len</th>\n",
       "      <th>cleaned_text_len</th>\n",
       "    </tr>\n",
       "  </thead>\n",
       "  <tbody>\n",
       "    <tr>\n",
       "      <th>909</th>\n",
       "      <td>909</td>\n",
       "      <td>PDGFRA</td>\n",
       "      <td>T674I</td>\n",
       "      <td>2</td>\n",
       "      <td>To determine the potential of crenolanib, a po...</td>\n",
       "      <td>To crenolanib PDGFRA malignancies PDGFRA Exper...</td>\n",
       "      <td>34687</td>\n",
       "      <td>17207</td>\n",
       "    </tr>\n",
       "    <tr>\n",
       "      <th>550</th>\n",
       "      <td>550</td>\n",
       "      <td>SMAD2</td>\n",
       "      <td>D300N</td>\n",
       "      <td>1</td>\n",
       "      <td>Activation of the canonical TGF-β signaling pa...</td>\n",
       "      <td>Activation TGF-β signaling provides signals Co...</td>\n",
       "      <td>37786</td>\n",
       "      <td>16979</td>\n",
       "    </tr>\n",
       "    <tr>\n",
       "      <th>3043</th>\n",
       "      <td>3043</td>\n",
       "      <td>KIT</td>\n",
       "      <td>Y823D</td>\n",
       "      <td>7</td>\n",
       "      <td>Activating mutations in Kit receptor tyrosine ...</td>\n",
       "      <td>Activating mutations platelet-derived PDGFR tu...</td>\n",
       "      <td>307486</td>\n",
       "      <td>133923</td>\n",
       "    </tr>\n",
       "    <tr>\n",
       "      <th>2328</th>\n",
       "      <td>2328</td>\n",
       "      <td>JAK2</td>\n",
       "      <td>R683T</td>\n",
       "      <td>6</td>\n",
       "      <td>Myeloproliferative neoplasms (MPNs) are a grou...</td>\n",
       "      <td>Myeloproliferative neoplasms MPNs hematologic ...</td>\n",
       "      <td>52492</td>\n",
       "      <td>22566</td>\n",
       "    </tr>\n",
       "    <tr>\n",
       "      <th>2320</th>\n",
       "      <td>2320</td>\n",
       "      <td>JAK2</td>\n",
       "      <td>D544H</td>\n",
       "      <td>6</td>\n",
       "      <td>Myeloproliferative neoplasms (MPNs) are a grou...</td>\n",
       "      <td>Myeloproliferative neoplasms MPNs hematologic ...</td>\n",
       "      <td>52492</td>\n",
       "      <td>22566</td>\n",
       "    </tr>\n",
       "  </tbody>\n",
       "</table>\n",
       "</div>"
      ],
      "text/plain": [
       "        ID    Gene Variation  Class  \\\n",
       "909    909  PDGFRA     T674I      2   \n",
       "550    550   SMAD2     D300N      1   \n",
       "3043  3043     KIT     Y823D      7   \n",
       "2328  2328    JAK2     R683T      6   \n",
       "2320  2320    JAK2     D544H      6   \n",
       "\n",
       "                                                   Text  \\\n",
       "909   To determine the potential of crenolanib, a po...   \n",
       "550   Activation of the canonical TGF-β signaling pa...   \n",
       "3043  Activating mutations in Kit receptor tyrosine ...   \n",
       "2328  Myeloproliferative neoplasms (MPNs) are a grou...   \n",
       "2320  Myeloproliferative neoplasms (MPNs) are a grou...   \n",
       "\n",
       "                                           cleaned_text  Text_len  \\\n",
       "909   To crenolanib PDGFRA malignancies PDGFRA Exper...     34687   \n",
       "550   Activation TGF-β signaling provides signals Co...     37786   \n",
       "3043  Activating mutations platelet-derived PDGFR tu...    307486   \n",
       "2328  Myeloproliferative neoplasms MPNs hematologic ...     52492   \n",
       "2320  Myeloproliferative neoplasms MPNs hematologic ...     52492   \n",
       "\n",
       "      cleaned_text_len  \n",
       "909              17207  \n",
       "550              16979  \n",
       "3043            133923  \n",
       "2328             22566  \n",
       "2320             22566  "
      ]
     },
     "execution_count": 140,
     "metadata": {},
     "output_type": "execute_result"
    }
   ],
   "source": [
    "validation_df.head()"
   ]
  },
  {
   "cell_type": "code",
   "execution_count": 141,
   "metadata": {},
   "outputs": [],
   "source": [
    "y_validation=validation_df['Class']"
   ]
  },
  {
   "cell_type": "code",
   "execution_count": 142,
   "metadata": {},
   "outputs": [],
   "source": [
    "validation_df_corpus = validation_df['cleaned_text'].tolist()"
   ]
  },
  {
   "cell_type": "markdown",
   "metadata": {},
   "source": [
    "##### Bag of words transformation"
   ]
  },
  {
   "cell_type": "code",
   "execution_count": 143,
   "metadata": {},
   "outputs": [],
   "source": [
    "validation_df_counts= bow_vectorizer.transform(validation_df_corpus)"
   ]
  },
  {
   "cell_type": "code",
   "execution_count": 144,
   "metadata": {},
   "outputs": [
    {
     "data": {
      "text/plain": [
       "(199, 1600)"
      ]
     },
     "execution_count": 144,
     "metadata": {},
     "output_type": "execute_result"
    }
   ],
   "source": [
    "validation_df_counts.shape"
   ]
  },
  {
   "cell_type": "code",
   "execution_count": 145,
   "metadata": {},
   "outputs": [],
   "source": [
    "X_validation_bow = validation_df_counts.todense()"
   ]
  },
  {
   "cell_type": "code",
   "execution_count": 146,
   "metadata": {},
   "outputs": [
    {
     "data": {
      "text/plain": [
       "(199, 1600)"
      ]
     },
     "execution_count": 146,
     "metadata": {},
     "output_type": "execute_result"
    }
   ],
   "source": [
    "X_validation_bow.shape"
   ]
  },
  {
   "cell_type": "code",
   "execution_count": 147,
   "metadata": {},
   "outputs": [
    {
     "data": {
      "text/plain": [
       "matrix([[ 0,  0,  0, ...,  0,  0,  0],\n",
       "        [ 0,  0,  0, ...,  0,  0,  0],\n",
       "        [ 0,  0,  1, ...,  0,  6,  0],\n",
       "        ...,\n",
       "        [ 0,  0,  0, ...,  6, 14,  4],\n",
       "        [ 0,  0,  0, ...,  0,  0,  0],\n",
       "        [ 0,  0,  0, ...,  0,  0,  0]])"
      ]
     },
     "execution_count": 147,
     "metadata": {},
     "output_type": "execute_result"
    }
   ],
   "source": [
    "X_validation_bow"
   ]
  },
  {
   "cell_type": "code",
   "execution_count": 125,
   "metadata": {},
   "outputs": [
    {
     "data": {
      "text/plain": [
       "LogisticRegression(multi_class='multinomial')"
      ]
     },
     "execution_count": 125,
     "metadata": {},
     "output_type": "execute_result"
    }
   ],
   "source": [
    "#bow_model.fit(X_validation_bow,y_validation) # wrong "
   ]
  },
  {
   "cell_type": "code",
   "execution_count": 148,
   "metadata": {},
   "outputs": [],
   "source": [
    "y_pred_validation_bow = bow_model.predict_proba(X_validation_bow)"
   ]
  },
  {
   "cell_type": "code",
   "execution_count": 149,
   "metadata": {},
   "outputs": [
    {
     "data": {
      "text/plain": [
       "0.10135270939770337"
      ]
     },
     "execution_count": 149,
     "metadata": {},
     "output_type": "execute_result"
    }
   ],
   "source": [
    "log_loss(y_validation,y_pred_validation_bow)"
   ]
  },
  {
   "cell_type": "markdown",
   "metadata": {},
   "source": [
    "##### TFIDF transformation"
   ]
  },
  {
   "cell_type": "code",
   "execution_count": 129,
   "metadata": {},
   "outputs": [],
   "source": [
    "X_validate_tfidf = tfidf_vectorizer.transform(validation_df_corpus)"
   ]
  },
  {
   "cell_type": "code",
   "execution_count": 130,
   "metadata": {},
   "outputs": [],
   "source": [
    "X_validate_tfidf = X_validate_tfidf.toarray()"
   ]
  },
  {
   "cell_type": "code",
   "execution_count": 137,
   "metadata": {},
   "outputs": [],
   "source": [
    "y_pred_validate_tfidf = tfidf_model.predict_proba(X_validate_tfidf)"
   ]
  },
  {
   "cell_type": "code",
   "execution_count": 138,
   "metadata": {},
   "outputs": [
    {
     "data": {
      "text/plain": [
       "0.9851427335171251"
      ]
     },
     "execution_count": 138,
     "metadata": {},
     "output_type": "execute_result"
    }
   ],
   "source": [
    "log_loss(y_validation,y_pred_validate_tfidf)"
   ]
  },
  {
   "cell_type": "markdown",
   "metadata": {},
   "source": [
    "#### handling the test text sample data"
   ]
  },
  {
   "cell_type": "code",
   "execution_count": null,
   "metadata": {},
   "outputs": [],
   "source": [
    "#test_text_df.sort_values(['ID']).head()"
   ]
  },
  {
   "cell_type": "code",
   "execution_count": null,
   "metadata": {},
   "outputs": [],
   "source": [
    "#test_text_df.shape"
   ]
  },
  {
   "cell_type": "code",
   "execution_count": null,
   "metadata": {},
   "outputs": [],
   "source": [
    "#test_text_df['cleaned_text'] = test_text_df['Text'].map(cleanse_data,na_action='ignore')"
   ]
  },
  {
   "cell_type": "code",
   "execution_count": null,
   "metadata": {},
   "outputs": [],
   "source": [
    "#test_text_df['cleaned_text'] = test_text_df['cleaned_text'].map(reduce_words)"
   ]
  },
  {
   "cell_type": "code",
   "execution_count": null,
   "metadata": {},
   "outputs": [],
   "source": [
    "#test_text_df['cleaned_text_vector'] = test_text_df['cleaned_text'].map(word_count)"
   ]
  },
  {
   "cell_type": "code",
   "execution_count": null,
   "metadata": {},
   "outputs": [],
   "source": [
    "#test_text_df['sorted_cleaned_text_vector'] = test_text_df['cleaned_text'].progress_map(freq_dist)"
   ]
  },
  {
   "cell_type": "code",
   "execution_count": null,
   "metadata": {},
   "outputs": [],
   "source": [
    "#test_text_df = test_text_df.drop(['Text'],axis=1)"
   ]
  },
  {
   "cell_type": "code",
   "execution_count": null,
   "metadata": {},
   "outputs": [],
   "source": [
    "#test_text_df.head()"
   ]
  },
  {
   "cell_type": "code",
   "execution_count": null,
   "metadata": {},
   "outputs": [],
   "source": [
    "# get the text samples as list\n",
    "#test_corpus = test_text_df['cleaned_text'].tolist()"
   ]
  },
  {
   "cell_type": "code",
   "execution_count": null,
   "metadata": {},
   "outputs": [],
   "source": [
    "# transform the test case to get bag of words\n",
    "#test_bag_of_words_train = bow_vectorizer.fit_transform(test_corpus)"
   ]
  },
  {
   "cell_type": "code",
   "execution_count": null,
   "metadata": {},
   "outputs": [],
   "source": [
    "# convert the dictionary to an array\n",
    "#test_bag_of_words_array = test_bag_of_words_train.toarray()"
   ]
  },
  {
   "cell_type": "code",
   "execution_count": null,
   "metadata": {},
   "outputs": [],
   "source": [
    "#test_bag_of_words_array.shape"
   ]
  },
  {
   "cell_type": "code",
   "execution_count": null,
   "metadata": {},
   "outputs": [],
   "source": [
    "# predict test using bag of word model\n",
    "#y_pred_test_bow = bow_model.predict_proba(test_bag_of_words_array)"
   ]
  },
  {
   "cell_type": "code",
   "execution_count": null,
   "metadata": {},
   "outputs": [],
   "source": [
    "#y_pred_test_bow[0]"
   ]
  },
  {
   "cell_type": "code",
   "execution_count": null,
   "metadata": {},
   "outputs": [],
   "source": [
    "#y_pred_test_df = pd.DataFrame(y_pred_test_bow)"
   ]
  },
  {
   "cell_type": "code",
   "execution_count": null,
   "metadata": {},
   "outputs": [],
   "source": [
    "#test_text_df['ID'].shape"
   ]
  },
  {
   "cell_type": "code",
   "execution_count": null,
   "metadata": {},
   "outputs": [],
   "source": [
    "#y_pred_test_df['ID']= test_text_df['ID'].reset_index(drop=True)"
   ]
  },
  {
   "cell_type": "code",
   "execution_count": null,
   "metadata": {},
   "outputs": [],
   "source": [
    "#y_pred_test_df.head()"
   ]
  },
  {
   "cell_type": "code",
   "execution_count": null,
   "metadata": {},
   "outputs": [],
   "source": []
  },
  {
   "cell_type": "code",
   "execution_count": null,
   "metadata": {},
   "outputs": [],
   "source": [
    "# predict test using tfidf model\n",
    "#y_pred_test_tfidf = tfidf_model.predict_proba(test_bag_of_words_array)"
   ]
  },
  {
   "cell_type": "code",
   "execution_count": null,
   "metadata": {},
   "outputs": [],
   "source": [
    "stage2_test_text_df = pd.read_csv('stage2_test_text.csv', sep=\"\\|\\|\", encoding=\"utf-8\",engine=\"python\", skiprows=1, names=[\"ID\", \"Text\"])\n"
   ]
  },
  {
   "cell_type": "code",
   "execution_count": null,
   "metadata": {},
   "outputs": [],
   "source": [
    "stage2_test_text_df.shape"
   ]
  },
  {
   "cell_type": "code",
   "execution_count": null,
   "metadata": {},
   "outputs": [],
   "source": [
    "stage2_test_text_df['cleaned_text'] = stage2_test_text_df['Text'].progress_map(cleanse_data,na_action='ignore')"
   ]
  },
  {
   "cell_type": "code",
   "execution_count": null,
   "metadata": {},
   "outputs": [],
   "source": [
    "stage2_test_text_df['cleaned_text'] = stage2_test_text_df['cleaned_text'].progress_map(reduce_words)"
   ]
  },
  {
   "cell_type": "code",
   "execution_count": null,
   "metadata": {},
   "outputs": [],
   "source": [
    "stage2_test_text_df.shape"
   ]
  },
  {
   "cell_type": "code",
   "execution_count": null,
   "metadata": {},
   "outputs": [],
   "source": [
    "stage2_cleaned_view =pd.DataFrame({\"Text\":stage2_test_text_df['Text'].progress_map(lambda x:len(x)),\"cleaned_text\":stage2_test_text_df['cleaned_text'].map(lambda x:len(x))})\n",
    "stage2_cleaned_view.head()"
   ]
  },
  {
   "cell_type": "code",
   "execution_count": null,
   "metadata": {},
   "outputs": [],
   "source": [
    "stage2_test_corpus = stage2_test_text_df['cleaned_text'].tolist()"
   ]
  },
  {
   "cell_type": "code",
   "execution_count": null,
   "metadata": {},
   "outputs": [],
   "source": [
    "#X_stage2_test = bow_vectorizer.fit_transform(stage2_test_corpus).toarray()"
   ]
  },
  {
   "cell_type": "code",
   "execution_count": null,
   "metadata": {},
   "outputs": [],
   "source": [
    "X_stage2_test = tfidf_vectorizer.fit_transform(stage2_test_corpus).toarray()"
   ]
  },
  {
   "cell_type": "code",
   "execution_count": null,
   "metadata": {},
   "outputs": [],
   "source": [
    "X_stage2_test.shape"
   ]
  },
  {
   "cell_type": "code",
   "execution_count": null,
   "metadata": {},
   "outputs": [],
   "source": [
    "y_pred_stage2 = tfidf_model.predict_proba(X_stage2_test)"
   ]
  },
  {
   "cell_type": "code",
   "execution_count": null,
   "metadata": {},
   "outputs": [],
   "source": [
    "y_pred_stage2.shape"
   ]
  },
  {
   "cell_type": "code",
   "execution_count": null,
   "metadata": {},
   "outputs": [],
   "source": [
    "y_pred_stage2_df = pd.DataFrame(y_pred_stage2)"
   ]
  },
  {
   "cell_type": "code",
   "execution_count": null,
   "metadata": {},
   "outputs": [],
   "source": []
  },
  {
   "cell_type": "code",
   "execution_count": null,
   "metadata": {},
   "outputs": [],
   "source": [
    "y_pred_stage2_df['ID']=stage2_test_text_df['ID']"
   ]
  },
  {
   "cell_type": "code",
   "execution_count": null,
   "metadata": {},
   "outputs": [],
   "source": [
    "y_pred_stage2_df.columns"
   ]
  },
  {
   "cell_type": "code",
   "execution_count": null,
   "metadata": {},
   "outputs": [],
   "source": [
    "y_pred_stage2_df.columns = ['class1','class2','class3','class4','class5','class6','class7','class8','class9','ID']"
   ]
  },
  {
   "cell_type": "code",
   "execution_count": null,
   "metadata": {},
   "outputs": [],
   "source": [
    "y_pred_stage2_df=y_pred_stage2_df[['ID','class1','class2','class3','class4','class5','class6','class7','class8','class9']]"
   ]
  },
  {
   "cell_type": "code",
   "execution_count": null,
   "metadata": {},
   "outputs": [],
   "source": [
    "y_pred_stage2_df.head()"
   ]
  },
  {
   "cell_type": "code",
   "execution_count": null,
   "metadata": {},
   "outputs": [],
   "source": [
    "y_pred_stage2_df.to_csv(\"y_pred_stage2.csv\",index=False)"
   ]
  },
  {
   "cell_type": "code",
   "execution_count": null,
   "metadata": {},
   "outputs": [],
   "source": [
    "df=pd.DataFrame(columns=[\"Gene\",\"Class\",\"Variation\",\"cleaned_text\",\"cleaned_freq\"])\n",
    "for i in range(19):    \n",
    "    df_new=class_9[class_9['cleaned_text'] == class_9['cleaned_text'].unique()[i]]\n",
    "    df=pd.concat([df,df_new])"
   ]
  },
  {
   "cell_type": "markdown",
   "metadata": {
    "id": "mb62K9H8oIy6"
   },
   "source": [
    "we have sorted the frequency dictionary based on values using the key parameter of sorted and higher values first using reverse"
   ]
  },
  {
   "cell_type": "code",
   "execution_count": null,
   "metadata": {
    "colab": {
     "base_uri": "https://localhost:8080/"
    },
    "executionInfo": {
     "elapsed": 14,
     "status": "ok",
     "timestamp": 1638286210767,
     "user": {
      "displayName": "Anubrata Das",
      "photoUrl": "https://lh3.googleusercontent.com/a-/AOh14GiI2340pPpSj6e4aG_4urL4HRwW3MRXEf5aoo2_QA=s64",
      "userId": "08781375266004215524"
     },
     "user_tz": -330
    },
    "id": "wae37kXdUT8k",
    "outputId": "aacd0478-e911-439f-8dd0-3d9b78a7a732"
   },
   "outputs": [],
   "source": [
    "sorted(test_dic.items(),key=lambda x:x[1], reverse=True)"
   ]
  },
  {
   "cell_type": "code",
   "execution_count": null,
   "metadata": {
    "id": "kAxcpzU4_mzu"
   },
   "outputs": [],
   "source": [
    "for i in range(10):\n",
    "    print(scan_data1[i])"
   ]
  },
  {
   "cell_type": "code",
   "execution_count": null,
   "metadata": {
    "id": "9XgD9sY_14Jw"
   },
   "outputs": [],
   "source": [
    "cd /content"
   ]
  },
  {
   "cell_type": "code",
   "execution_count": null,
   "metadata": {
    "id": "oLbahHJ__mzv"
   },
   "outputs": [],
   "source": [
    "pa_tree=ET.parse('pa2021.xml')"
   ]
  },
  {
   "cell_type": "code",
   "execution_count": null,
   "metadata": {
    "id": "spN5n9H3_mzv"
   },
   "outputs": [],
   "source": [
    "root=pa_tree.getroot()"
   ]
  },
  {
   "cell_type": "code",
   "execution_count": null,
   "metadata": {
    "id": "kQR8pY9UXBs-"
   },
   "outputs": [],
   "source": [
    "# for child in root:\n",
    "#   print(child.tag)"
   ]
  },
  {
   "cell_type": "code",
   "execution_count": null,
   "metadata": {
    "id": "63RIRzTV_mzv"
   },
   "outputs": [],
   "source": [
    "for element_1 in root:\n",
    "  #print(\"---------level_1-----------\")\n",
    "  #print(element_1.tag)\n",
    "  \n",
    "  for element_2 in element_1:\n",
    "    #print(\"---------level_2-----------\")\n",
    "    #print(\"    \"+element_2.tag,\" \",element_2.text)\n",
    "    \n",
    "    for element_3 in element_2:\n",
    "      #print(\"---------level_3-----------\")\n",
    "      #print(\"        \"+element_3.tag,\" \",element_3.text)\n",
    "      \n",
    "      for element_4 in element_3:\n",
    "        #print(\"---------level_4-----------\")\n",
    "        if element_4.tag==\"String\":\n",
    "          print(\"                   \"+element_4.tag,\" \",element_4.text)\n",
    "          \n",
    "  #break\n",
    "    "
   ]
  },
  {
   "cell_type": "code",
   "execution_count": null,
   "metadata": {
    "id": "M-j6NieYFoZn"
   },
   "outputs": [],
   "source": [
    "len(root)"
   ]
  },
  {
   "cell_type": "code",
   "execution_count": null,
   "metadata": {
    "id": "c2Li5HlGGwOR"
   },
   "outputs": [],
   "source": [
    "desc_tree=ET.parse('desc2021.xml')"
   ]
  },
  {
   "cell_type": "code",
   "execution_count": null,
   "metadata": {
    "id": "IIWEN3P3XfG4"
   },
   "outputs": [],
   "source": [
    "desc_root=desc_tree.getroot()"
   ]
  },
  {
   "cell_type": "code",
   "execution_count": null,
   "metadata": {
    "id": "dVaFVNDdYSxK"
   },
   "outputs": [],
   "source": [
    "len(desc_root)"
   ]
  },
  {
   "cell_type": "code",
   "execution_count": null,
   "metadata": {
    "id": "9Q4uNx0xYq8f"
   },
   "outputs": [],
   "source": [
    "term_description=[]\n",
    "for element_1 in desc_root:\n",
    "  #print(\"-------level_1----------\")\n",
    "  #print(element_1.tag,\" \",element_1.text)\n",
    "  for element_2 in element_1:\n",
    "    #print(\"    ----------level_2----------\")\n",
    "    #print(\"    \"+element_2.tag,\" \",element_2.text)\n",
    "    for element_3 in element_2:\n",
    "      if element_3.tag=='String':\n",
    "        #print(\"        ---------level_3--------\")\n",
    "        #print(\"        \"+element_3.tag,\" \",element_3.text)\n",
    "        term_description.append(element_3.text)\n",
    "\n",
    "  #break"
   ]
  },
  {
   "cell_type": "code",
   "execution_count": null,
   "metadata": {
    "id": "WG6OyuDhZOdW"
   },
   "outputs": [],
   "source": [
    "len(term_description)"
   ]
  },
  {
   "cell_type": "code",
   "execution_count": null,
   "metadata": {
    "id": "yhUEtiIrt4B5"
   },
   "outputs": [],
   "source": [
    "term_description[:10]"
   ]
  },
  {
   "cell_type": "code",
   "execution_count": null,
   "metadata": {
    "id": "DFCAtPHEuIG_"
   },
   "outputs": [],
   "source": [
    "import csv \n",
    "with open('term_description.csv', 'w') as f: \n",
    "    write = csv.writer(f) \n",
    "    write.writerow(term_description) \n",
    "    "
   ]
  },
  {
   "cell_type": "markdown",
   "metadata": {
    "id": "F11LgeASJSYc"
   },
   "source": [
    "There are 2 ways to remove punctuation. one is to use the string library punctuation module on the text before tokenization, the other is to use the nltk.punct library"
   ]
  },
  {
   "cell_type": "code",
   "execution_count": null,
   "metadata": {
    "id": "bzJtTxhvvlSb"
   },
   "outputs": [],
   "source": [
    "len(scan_data1[1])"
   ]
  },
  {
   "cell_type": "code",
   "execution_count": null,
   "metadata": {
    "id": "EKL7Av16DsWV"
   },
   "outputs": [],
   "source": [
    "#nltk.word_tokenize(scan_data1[1])"
   ]
  },
  {
   "cell_type": "code",
   "execution_count": null,
   "metadata": {
    "id": "6n8-IUY8D_g2"
   },
   "outputs": [],
   "source": [
    "# import string punctuation\n",
    "import string\n",
    "string.punctuation"
   ]
  },
  {
   "cell_type": "code",
   "execution_count": null,
   "metadata": {
    "id": "vXDy9X6cH_nh"
   },
   "outputs": [],
   "source": []
  },
  {
   "cell_type": "code",
   "execution_count": null,
   "metadata": {
    "id": "YTposSf5IPM2"
   },
   "outputs": [],
   "source": [
    "len(cleanup_text(scan_data1[1]))"
   ]
  },
  {
   "cell_type": "code",
   "execution_count": null,
   "metadata": {
    "id": "xoBpboDfIZjm"
   },
   "outputs": [],
   "source": [
    "scan_data"
   ]
  }
 ],
 "metadata": {
  "colab": {
   "name": "jovian-ml-project.ipynb",
   "version": ""
  },
  "kernelspec": {
   "display_name": "Python 3 (ipykernel)",
   "language": "python",
   "name": "python3"
  },
  "language_info": {
   "codemirror_mode": {
    "name": "ipython",
    "version": 3
   },
   "file_extension": ".py",
   "mimetype": "text/x-python",
   "name": "python",
   "nbconvert_exporter": "python",
   "pygments_lexer": "ipython3",
   "version": "3.9.6"
  }
 },
 "nbformat": 4,
 "nbformat_minor": 1
}
