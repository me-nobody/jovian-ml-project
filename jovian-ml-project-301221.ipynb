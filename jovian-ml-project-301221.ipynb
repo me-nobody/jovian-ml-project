{
 "cells": [
  {
   "cell_type": "markdown",
   "metadata": {
    "id": "z4XIJ7_c_mzW"
   },
   "source": [
    "# Classification of Cancer associated Mutations from Literature using Machine Learning\n",
    "\n",
    "Use the \"Run\" button to execute the code."
   ]
  },
  {
   "cell_type": "code",
   "execution_count": 1,
   "metadata": {
    "executionInfo": {
     "elapsed": 2553,
     "status": "ok",
     "timestamp": 1638285773553,
     "user": {
      "displayName": "Anubrata Das",
      "photoUrl": "https://lh3.googleusercontent.com/a-/AOh14GiI2340pPpSj6e4aG_4urL4HRwW3MRXEf5aoo2_QA=s64",
      "userId": "08781375266004215524"
     },
     "user_tz": -330
    },
    "id": "6jgqXjvi_mzZ"
   },
   "outputs": [
    {
     "name": "stdout",
     "output_type": "stream",
     "text": [
      "Note: you may need to restart the kernel to use updated packages.\n"
     ]
    },
    {
     "name": "stderr",
     "output_type": "stream",
     "text": [
      "WARNING: Value for scheme.headers does not match. Please report this to <https://github.com/pypa/pip/issues/9617>\n",
      "distutils: C:\\Users\\anubr\\anaconda3\\Include\\UNKNOWN\n",
      "sysconfig: C:\\Users\\anubr\\anaconda3\\Include\n",
      "WARNING: Additional context:\n",
      "user = False\n",
      "home = None\n",
      "root = None\n",
      "prefix = None\n",
      "WARNING: Value for scheme.headers does not match. Please report this to <https://github.com/pypa/pip/issues/9617>\n",
      "distutils: C:\\Users\\anubr\\anaconda3\\Include\\UNKNOWN\n",
      "sysconfig: C:\\Users\\anubr\\anaconda3\\Include\n",
      "WARNING: Additional context:\n",
      "user = False\n",
      "home = None\n",
      "root = None\n",
      "prefix = None\n"
     ]
    }
   ],
   "source": [
    "pip install jovian --upgrade --quiet"
   ]
  },
  {
   "cell_type": "code",
   "execution_count": null,
   "metadata": {
    "executionInfo": {
     "elapsed": 47,
     "status": "ok",
     "timestamp": 1638285773553,
     "user": {
      "displayName": "Anubrata Das",
      "photoUrl": "https://lh3.googleusercontent.com/a-/AOh14GiI2340pPpSj6e4aG_4urL4HRwW3MRXEf5aoo2_QA=s64",
      "userId": "08781375266004215524"
     },
     "user_tz": -330
    },
    "id": "BcrwI4VL_mze"
   },
   "outputs": [],
   "source": []
  },
  {
   "cell_type": "code",
   "execution_count": 2,
   "metadata": {
    "colab": {
     "base_uri": "https://localhost:8080/",
     "height": 125
    },
    "executionInfo": {
     "elapsed": 9427,
     "status": "ok",
     "timestamp": 1638285782935,
     "user": {
      "displayName": "Anubrata Das",
      "photoUrl": "https://lh3.googleusercontent.com/a-/AOh14GiI2340pPpSj6e4aG_4urL4HRwW3MRXEf5aoo2_QA=s64",
      "userId": "08781375266004215524"
     },
     "user_tz": -330
    },
    "id": "7gTXlkwu_mzf",
    "outputId": "3c4f1679-22fc-496e-bbd7-ce778f5dc86a"
   },
   "outputs": [
    {
     "data": {
      "application/javascript": [
       "window.require && require([\"base/js/namespace\"],function(Jupyter){Jupyter.notebook.save_checkpoint()})"
      ],
      "text/plain": [
       "<IPython.core.display.Javascript object>"
      ]
     },
     "metadata": {},
     "output_type": "display_data"
    },
    {
     "name": "stdout",
     "output_type": "stream",
     "text": [
      "[jovian] Updating notebook \"anubratadas/jovian-ml-project-rough\" on https://jovian.ai/\n",
      "[jovian] Committed successfully! https://jovian.ai/anubratadas/jovian-ml-project-rough\n"
     ]
    },
    {
     "data": {
      "text/plain": [
       "'https://jovian.ai/anubratadas/jovian-ml-project-rough'"
      ]
     },
     "execution_count": 2,
     "metadata": {},
     "output_type": "execute_result"
    }
   ],
   "source": [
    "# Execute this to save new versions of the notebook\n",
    "jovian.commit(project=\"jovian-ml-project\",filename=\"jovian-ml-project\")"
   ]
  },
  {
   "cell_type": "markdown",
   "metadata": {},
   "source": [
    "### <font color='green'>Import the essential libraries</font>"
   ]
  },
  {
   "cell_type": "code",
   "execution_count": 3,
   "metadata": {
    "executionInfo": {
     "elapsed": 13,
     "status": "ok",
     "timestamp": 1638285789225,
     "user": {
      "displayName": "Anubrata Das",
      "photoUrl": "https://lh3.googleusercontent.com/a-/AOh14GiI2340pPpSj6e4aG_4urL4HRwW3MRXEf5aoo2_QA=s64",
      "userId": "08781375266004215524"
     },
     "user_tz": -330
    },
    "id": "AEM-Rd_A_mzj"
   },
   "outputs": [],
   "source": [
    "import jovian\n",
    "import pandas as pd\n",
    "import numpy as np\n",
    "import matplotlib.pyplot as plt\n",
    "import requests\n",
    "import xml.etree.ElementTree as ET\n",
    "import time\n",
    "import re\n",
    "from tqdm import tqdm\n",
    "%matplotlib inline"
   ]
  },
  {
   "cell_type": "code",
   "execution_count": 4,
   "metadata": {
    "executionInfo": {
     "elapsed": 12,
     "status": "ok",
     "timestamp": 1638285789226,
     "user": {
      "displayName": "Anubrata Das",
      "photoUrl": "https://lh3.googleusercontent.com/a-/AOh14GiI2340pPpSj6e4aG_4urL4HRwW3MRXEf5aoo2_QA=s64",
      "userId": "08781375266004215524"
     },
     "user_tz": -330
    },
    "id": "lv5xwSHT_mzk"
   },
   "outputs": [],
   "source": [
    "pd.set_option('display.max_columns', None)\n",
    "pd.set_option('display.max_rows', None)\n",
    "import warnings\n",
    "warnings.simplefilter(action='ignore')"
   ]
  },
  {
   "cell_type": "code",
   "execution_count": 5,
   "metadata": {},
   "outputs": [],
   "source": [
    "tqdm.pandas(desc=\"progress bar\")"
   ]
  },
  {
   "cell_type": "markdown",
   "metadata": {},
   "source": [
    " ### <font style=\"font-size:18px;font-family:arial;color:green;text-indent:100px;line-height: 0.8;word-spacing: 10px\"> A cancerous tissue can have thousands of genetic mutations (Variations), which are discovered using genome sequencing. But the challenge is distinguishing the mutations that contribute to tumor growth (drivers) from the neutral mutations (passengers). Currently this interpretation of genetic mutations is being done manually. This is a very time-consuming task where a clinical pathologist has to manually review and classify every single genetic mutation based on evidence from text-based clinical literature. For this competition MSKCC is making available an expert-annotated knowledge base where world-class researchers and oncologists have manually annotated thousands of mutations. MSKCC intends the Data scientist to develop a Machine Learning algorithm that, using this knowledge base as a baseline, automatically classifies genetic variations.</font>"
   ]
  },
  {
   "cell_type": "markdown",
   "metadata": {},
   "source": [
    "<a id='top'>**Beginning of Notebook**</a>"
   ]
  },
  {
   "cell_type": "markdown",
   "metadata": {},
   "source": [
    "[model train text data](#train_data)"
   ]
  },
  {
   "cell_type": "markdown",
   "metadata": {},
   "source": [
    "### <font color='green'>Exploratory Data Analysis</font>"
   ]
  },
  {
   "cell_type": "markdown",
   "metadata": {},
   "source": [
    "#### train data"
   ]
  },
  {
   "cell_type": "code",
   "execution_count": 6,
   "metadata": {},
   "outputs": [],
   "source": [
    "train_text_df = pd.read_csv('training_text.zip', sep=\"\\|\\|\", encoding=\"utf-8\",engine=\"python\", skiprows=1, names=[\"ID\", \"Text\"],compression='zip')"
   ]
  },
  {
   "cell_type": "code",
   "execution_count": 7,
   "metadata": {},
   "outputs": [],
   "source": [
    "train_variant_df = pd.read_csv('training_variants.zip',compression='zip')"
   ]
  },
  {
   "cell_type": "code",
   "execution_count": 8,
   "metadata": {},
   "outputs": [
    {
     "data": {
      "text/plain": [
       "((3321, 2), (3321, 4))"
      ]
     },
     "execution_count": 8,
     "metadata": {},
     "output_type": "execute_result"
    }
   ],
   "source": [
    "train_text_df.shape, train_variant_df.shape"
   ]
  },
  {
   "cell_type": "code",
   "execution_count": 9,
   "metadata": {},
   "outputs": [
    {
     "data": {
      "text/plain": [
       "(Index(['ID', 'Text'], dtype='object'),\n",
       " Index(['ID', 'Gene', 'Variation', 'Class'], dtype='object'))"
      ]
     },
     "execution_count": 9,
     "metadata": {},
     "output_type": "execute_result"
    }
   ],
   "source": [
    "train_text_df.columns, train_variant_df.columns"
   ]
  },
  {
   "cell_type": "code",
   "execution_count": 10,
   "metadata": {},
   "outputs": [],
   "source": [
    "# merging the text and variation data\n",
    "train_df = pd.merge(train_variant_df,train_text_df,on='ID')"
   ]
  },
  {
   "cell_type": "code",
   "execution_count": 11,
   "metadata": {},
   "outputs": [
    {
     "data": {
      "text/plain": [
       "(3321, 5)"
      ]
     },
     "execution_count": 11,
     "metadata": {},
     "output_type": "execute_result"
    }
   ],
   "source": [
    "train_df.shape"
   ]
  },
  {
   "cell_type": "code",
   "execution_count": 12,
   "metadata": {},
   "outputs": [],
   "source": [
    "# taking a sample of the dataset\n",
    "train_df = train_df.sample(frac=0.4,random_state=222)"
   ]
  },
  {
   "cell_type": "markdown",
   "metadata": {},
   "source": [
    "We have taken a sample of the training data"
   ]
  },
  {
   "cell_type": "code",
   "execution_count": 13,
   "metadata": {},
   "outputs": [
    {
     "data": {
      "text/html": [
       "<div>\n",
       "<style scoped>\n",
       "    .dataframe tbody tr th:only-of-type {\n",
       "        vertical-align: middle;\n",
       "    }\n",
       "\n",
       "    .dataframe tbody tr th {\n",
       "        vertical-align: top;\n",
       "    }\n",
       "\n",
       "    .dataframe thead th {\n",
       "        text-align: right;\n",
       "    }\n",
       "</style>\n",
       "<table border=\"1\" class=\"dataframe\">\n",
       "  <thead>\n",
       "    <tr style=\"text-align: right;\">\n",
       "      <th></th>\n",
       "      <th>ID</th>\n",
       "      <th>Gene</th>\n",
       "      <th>Variation</th>\n",
       "      <th>Class</th>\n",
       "      <th>Text</th>\n",
       "    </tr>\n",
       "  </thead>\n",
       "  <tbody>\n",
       "    <tr>\n",
       "      <th>1708</th>\n",
       "      <td>1708</td>\n",
       "      <td>POLE</td>\n",
       "      <td>S459del</td>\n",
       "      <td>1</td>\n",
       "      <td>Tumors with somatic mutations in the proofread...</td>\n",
       "    </tr>\n",
       "    <tr>\n",
       "      <th>2201</th>\n",
       "      <td>2201</td>\n",
       "      <td>PTEN</td>\n",
       "      <td>D92A</td>\n",
       "      <td>4</td>\n",
       "      <td>The PTEN (phosphatase and tensin homolog) phos...</td>\n",
       "    </tr>\n",
       "    <tr>\n",
       "      <th>84</th>\n",
       "      <td>84</td>\n",
       "      <td>RIT1</td>\n",
       "      <td>A77T</td>\n",
       "      <td>2</td>\n",
       "      <td>Abstract RASopathies are autosomal dominant d...</td>\n",
       "    </tr>\n",
       "    <tr>\n",
       "      <th>1985</th>\n",
       "      <td>1985</td>\n",
       "      <td>CTNNB1</td>\n",
       "      <td>I35S</td>\n",
       "      <td>7</td>\n",
       "      <td>To understand the nature and roles of mutated ...</td>\n",
       "    </tr>\n",
       "    <tr>\n",
       "      <th>2985</th>\n",
       "      <td>2985</td>\n",
       "      <td>KIT</td>\n",
       "      <td>W557R</td>\n",
       "      <td>7</td>\n",
       "      <td>Purpose: Somatic mutations that result in the ...</td>\n",
       "    </tr>\n",
       "  </tbody>\n",
       "</table>\n",
       "</div>"
      ],
      "text/plain": [
       "        ID    Gene Variation  Class  \\\n",
       "1708  1708    POLE   S459del      1   \n",
       "2201  2201    PTEN      D92A      4   \n",
       "84      84    RIT1      A77T      2   \n",
       "1985  1985  CTNNB1      I35S      7   \n",
       "2985  2985     KIT     W557R      7   \n",
       "\n",
       "                                                   Text  \n",
       "1708  Tumors with somatic mutations in the proofread...  \n",
       "2201  The PTEN (phosphatase and tensin homolog) phos...  \n",
       "84     Abstract RASopathies are autosomal dominant d...  \n",
       "1985  To understand the nature and roles of mutated ...  \n",
       "2985  Purpose: Somatic mutations that result in the ...  "
      ]
     },
     "execution_count": 13,
     "metadata": {},
     "output_type": "execute_result"
    }
   ],
   "source": [
    "train_df.head()"
   ]
  },
  {
   "cell_type": "markdown",
   "metadata": {},
   "source": [
    "### <font style=\"font-size:18px;font-family:arial;color:green;text-indent:100px;line-height: 0.8;word-spacing: 10px\"><i>Gene</i> is a stretch of DNA encoding a specific function. Variation is <i>Mutation</i>,  which changes the function. The first alphabet is the orginal amino acid, the number is the physical position in the gene where the change has occured and the last alphabet is the changed amino acid. The Text contains the information for the Gene, the Variation and the reason for the Class </font>"
   ]
  },
  {
   "cell_type": "markdown",
   "metadata": {},
   "source": [
    "#### top 10 mutated genes"
   ]
  },
  {
   "cell_type": "code",
   "execution_count": 14,
   "metadata": {},
   "outputs": [
    {
     "data": {
      "text/plain": [
       "Gene\n",
       "BRCA1     101\n",
       "TP53       69\n",
       "EGFR       56\n",
       "BRCA2      56\n",
       "PTEN       52\n",
       "KIT        45\n",
       "BRAF       40\n",
       "ALK        28\n",
       "PDGFRA     27\n",
       "ERBB2      27\n",
       "Name: Variation, dtype: int64"
      ]
     },
     "execution_count": 14,
     "metadata": {},
     "output_type": "execute_result"
    }
   ],
   "source": [
    "# top 10 mutated genes\n",
    "train_df.groupby('Gene')['Variation'].aggregate(\"count\").sort_values(ascending=False).head(n=10)"
   ]
  },
  {
   "cell_type": "markdown",
   "metadata": {},
   "source": [
    "#### distribution of classes in the dataset"
   ]
  },
  {
   "cell_type": "code",
   "execution_count": 15,
   "metadata": {},
   "outputs": [
    {
     "data": {
      "text/plain": [
       "<AxesSubplot:xlabel='Class'>"
      ]
     },
     "execution_count": 15,
     "metadata": {},
     "output_type": "execute_result"
    },
    {
     "data": {
      "image/png": "[encoded data removed]",
      "text/plain": [
       "<Figure size 432x288 with 1 Axes>"
      ]
     },
     "metadata": {
      "needs_background": "light"
     },
     "output_type": "display_data"
    }
   ],
   "source": [
    "train_df.value_counts('Class').plot(kind='bar')"
   ]
  },
  {
   "cell_type": "markdown",
   "metadata": {},
   "source": [
    "#### the distribution of the classes is imbalanced"
   ]
  },
  {
   "cell_type": "markdown",
   "metadata": {},
   "source": [
    "### <font color='green'> Let us study the mutations of BRCA1, the most highly mutated gene with respect to the classification</font>"
   ]
  },
  {
   "cell_type": "code",
   "execution_count": 16,
   "metadata": {},
   "outputs": [
    {
     "data": {
      "text/plain": [
       "101"
      ]
     },
     "execution_count": 16,
     "metadata": {},
     "output_type": "execute_result"
    }
   ],
   "source": [
    "train_df[train_df['Gene'] == 'BRCA1']['Variation'].nunique()"
   ]
  },
  {
   "cell_type": "code",
   "execution_count": 17,
   "metadata": {},
   "outputs": [
    {
     "data": {
      "text/plain": [
       "5"
      ]
     },
     "execution_count": 17,
     "metadata": {},
     "output_type": "execute_result"
    }
   ],
   "source": [
    "train_df[train_df['Gene'] == 'BRCA1']['Class'].nunique()"
   ]
  },
  {
   "cell_type": "code",
   "execution_count": 18,
   "metadata": {},
   "outputs": [
    {
     "data": {
      "text/plain": [
       "Class\n",
       "1    21\n",
       "3     3\n",
       "4    22\n",
       "5    36\n",
       "6    19\n",
       "Name: Variation, dtype: int64"
      ]
     },
     "execution_count": 18,
     "metadata": {},
     "output_type": "execute_result"
    }
   ],
   "source": [
    "train_df[train_df['Gene'] == 'BRCA1'].groupby('Class')['Variation'].count()"
   ]
  },
  {
   "cell_type": "markdown",
   "metadata": {},
   "source": [
    "### <font color='green'> 101 mutations (Variations) are classified into 5 classes with most mutations in class 5 and least mutations in class 3</font>"
   ]
  },
  {
   "cell_type": "code",
   "execution_count": 19,
   "metadata": {},
   "outputs": [],
   "source": [
    "class_5=train_df[(train_df['Gene'] == 'BRCA1') & (train_df['Class']== 5)]\n",
    "class_5['Text']=class_5['Text'].map(lambda x:x[:80])"
   ]
  },
  {
   "cell_type": "code",
   "execution_count": 20,
   "metadata": {},
   "outputs": [],
   "source": [
    "class_5.reset_index(inplace=True,drop=True)"
   ]
  },
  {
   "cell_type": "code",
   "execution_count": 21,
   "metadata": {},
   "outputs": [
    {
     "data": {
      "text/html": [
       "<div>\n",
       "<style scoped>\n",
       "    .dataframe tbody tr th:only-of-type {\n",
       "        vertical-align: middle;\n",
       "    }\n",
       "\n",
       "    .dataframe tbody tr th {\n",
       "        vertical-align: top;\n",
       "    }\n",
       "\n",
       "    .dataframe thead th {\n",
       "        text-align: right;\n",
       "    }\n",
       "</style>\n",
       "<table border=\"1\" class=\"dataframe\">\n",
       "  <thead>\n",
       "    <tr style=\"text-align: right;\">\n",
       "      <th></th>\n",
       "      <th>ID</th>\n",
       "      <th>Gene</th>\n",
       "      <th>Variation</th>\n",
       "      <th>Class</th>\n",
       "      <th>Text</th>\n",
       "    </tr>\n",
       "  </thead>\n",
       "  <tbody>\n",
       "    <tr>\n",
       "      <th>0</th>\n",
       "      <td>2661</td>\n",
       "      <td>BRCA1</td>\n",
       "      <td>S1613C</td>\n",
       "      <td>5</td>\n",
       "      <td>Abstract Germline mutations that inactivate B...</td>\n",
       "    </tr>\n",
       "    <tr>\n",
       "      <th>1</th>\n",
       "      <td>2460</td>\n",
       "      <td>BRCA1</td>\n",
       "      <td>R170W</td>\n",
       "      <td>5</td>\n",
       "      <td>Mutations in BRCA1 and BRCA2 account for the m...</td>\n",
       "    </tr>\n",
       "    <tr>\n",
       "      <th>2</th>\n",
       "      <td>2558</td>\n",
       "      <td>BRCA1</td>\n",
       "      <td>P1806A</td>\n",
       "      <td>5</td>\n",
       "      <td>ABSTRACT Germline mutations that inactivate th...</td>\n",
       "    </tr>\n",
       "    <tr>\n",
       "      <th>3</th>\n",
       "      <td>2618</td>\n",
       "      <td>BRCA1</td>\n",
       "      <td>C1787S</td>\n",
       "      <td>5</td>\n",
       "      <td>Abstract  The BRCA1 gene from individuals at ...</td>\n",
       "    </tr>\n",
       "    <tr>\n",
       "      <th>4</th>\n",
       "      <td>2468</td>\n",
       "      <td>BRCA1</td>\n",
       "      <td>E362H</td>\n",
       "      <td>5</td>\n",
       "      <td>Mutations in BRCA1 and BRCA2 account for the m...</td>\n",
       "    </tr>\n",
       "    <tr>\n",
       "      <th>5</th>\n",
       "      <td>2673</td>\n",
       "      <td>BRCA1</td>\n",
       "      <td>S1473P</td>\n",
       "      <td>5</td>\n",
       "      <td>Abstract Germline inactivating mutations in B...</td>\n",
       "    </tr>\n",
       "    <tr>\n",
       "      <th>6</th>\n",
       "      <td>2472</td>\n",
       "      <td>BRCA1</td>\n",
       "      <td>L358R</td>\n",
       "      <td>5</td>\n",
       "      <td>Mutations in BRCA1 and BRCA2 account for the m...</td>\n",
       "    </tr>\n",
       "    <tr>\n",
       "      <th>7</th>\n",
       "      <td>2502</td>\n",
       "      <td>BRCA1</td>\n",
       "      <td>A1789S</td>\n",
       "      <td>5</td>\n",
       "      <td>Genetic screening of the breast and ovarian ca...</td>\n",
       "    </tr>\n",
       "    <tr>\n",
       "      <th>8</th>\n",
       "      <td>2423</td>\n",
       "      <td>BRCA1</td>\n",
       "      <td>A1830T</td>\n",
       "      <td>5</td>\n",
       "      <td>Genetic screening of the breast and ovarian ca...</td>\n",
       "    </tr>\n",
       "    <tr>\n",
       "      <th>9</th>\n",
       "      <td>2663</td>\n",
       "      <td>BRCA1</td>\n",
       "      <td>P1614S</td>\n",
       "      <td>5</td>\n",
       "      <td>Germ line inactivating mutations in BRCA1 conf...</td>\n",
       "    </tr>\n",
       "    <tr>\n",
       "      <th>10</th>\n",
       "      <td>2607</td>\n",
       "      <td>BRCA1</td>\n",
       "      <td>M1775V</td>\n",
       "      <td>5</td>\n",
       "      <td>Abstract  The BRCA1 gene from individuals at ...</td>\n",
       "    </tr>\n",
       "    <tr>\n",
       "      <th>11</th>\n",
       "      <td>2605</td>\n",
       "      <td>BRCA1</td>\n",
       "      <td>V1665M</td>\n",
       "      <td>5</td>\n",
       "      <td>Abstract  The BRCA1 gene from individuals at ...</td>\n",
       "    </tr>\n",
       "    <tr>\n",
       "      <th>12</th>\n",
       "      <td>2555</td>\n",
       "      <td>BRCA1</td>\n",
       "      <td>A1669S</td>\n",
       "      <td>5</td>\n",
       "      <td>Abstract  The BRCA1 gene from individuals at ...</td>\n",
       "    </tr>\n",
       "    <tr>\n",
       "      <th>13</th>\n",
       "      <td>2571</td>\n",
       "      <td>BRCA1</td>\n",
       "      <td>S1297del</td>\n",
       "      <td>5</td>\n",
       "      <td>Mutations in BRCA1 and BRCA2 account for the m...</td>\n",
       "    </tr>\n",
       "    <tr>\n",
       "      <th>14</th>\n",
       "      <td>2628</td>\n",
       "      <td>BRCA1</td>\n",
       "      <td>L1267S</td>\n",
       "      <td>5</td>\n",
       "      <td>Mutations in BRCA1 and BRCA2 account for the m...</td>\n",
       "    </tr>\n",
       "    <tr>\n",
       "      <th>15</th>\n",
       "      <td>2488</td>\n",
       "      <td>BRCA1</td>\n",
       "      <td>W1782C</td>\n",
       "      <td>5</td>\n",
       "      <td>Mutations in BRCA1 and BRCA2 account for the m...</td>\n",
       "    </tr>\n",
       "    <tr>\n",
       "      <th>16</th>\n",
       "      <td>2643</td>\n",
       "      <td>BRCA1</td>\n",
       "      <td>Q1826H</td>\n",
       "      <td>5</td>\n",
       "      <td>Abstract Germline mutations that inactivate B...</td>\n",
       "    </tr>\n",
       "    <tr>\n",
       "      <th>17</th>\n",
       "      <td>2561</td>\n",
       "      <td>BRCA1</td>\n",
       "      <td>S1140G</td>\n",
       "      <td>5</td>\n",
       "      <td>Mutations in BRCA1 and BRCA2 account for the m...</td>\n",
       "    </tr>\n",
       "    <tr>\n",
       "      <th>18</th>\n",
       "      <td>2466</td>\n",
       "      <td>BRCA1</td>\n",
       "      <td>L147F</td>\n",
       "      <td>5</td>\n",
       "      <td>Mutations in BRCA1 and BRCA2 account for the m...</td>\n",
       "    </tr>\n",
       "    <tr>\n",
       "      <th>19</th>\n",
       "      <td>2532</td>\n",
       "      <td>BRCA1</td>\n",
       "      <td>N1647K</td>\n",
       "      <td>5</td>\n",
       "      <td>Genetic screening of the breast and ovarian ca...</td>\n",
       "    </tr>\n",
       "    <tr>\n",
       "      <th>20</th>\n",
       "      <td>2666</td>\n",
       "      <td>BRCA1</td>\n",
       "      <td>P1812R</td>\n",
       "      <td>5</td>\n",
       "      <td>Mutations in BRCA1 and BRCA2 account for the m...</td>\n",
       "    </tr>\n",
       "    <tr>\n",
       "      <th>21</th>\n",
       "      <td>2647</td>\n",
       "      <td>BRCA1</td>\n",
       "      <td>S1301R</td>\n",
       "      <td>5</td>\n",
       "      <td>Mutations in BRCA1 and BRCA2 account for the m...</td>\n",
       "    </tr>\n",
       "    <tr>\n",
       "      <th>22</th>\n",
       "      <td>2495</td>\n",
       "      <td>BRCA1</td>\n",
       "      <td>E1682V</td>\n",
       "      <td>5</td>\n",
       "      <td>Genetic screening of the breast and ovarian ca...</td>\n",
       "    </tr>\n",
       "    <tr>\n",
       "      <th>23</th>\n",
       "      <td>2498</td>\n",
       "      <td>BRCA1</td>\n",
       "      <td>R496C</td>\n",
       "      <td>5</td>\n",
       "      <td>A significant proportion of inherited breast c...</td>\n",
       "    </tr>\n",
       "    <tr>\n",
       "      <th>24</th>\n",
       "      <td>2608</td>\n",
       "      <td>BRCA1</td>\n",
       "      <td>R1589H</td>\n",
       "      <td>5</td>\n",
       "      <td>Abstract Germline inactivating mutations in B...</td>\n",
       "    </tr>\n",
       "    <tr>\n",
       "      <th>25</th>\n",
       "      <td>2553</td>\n",
       "      <td>BRCA1</td>\n",
       "      <td>D1778N</td>\n",
       "      <td>5</td>\n",
       "      <td>Abstract  The BRCA1 gene from individuals at ...</td>\n",
       "    </tr>\n",
       "    <tr>\n",
       "      <th>26</th>\n",
       "      <td>2604</td>\n",
       "      <td>BRCA1</td>\n",
       "      <td>E1214K</td>\n",
       "      <td>5</td>\n",
       "      <td>Mutations in BRCA1 and BRCA2 account for the m...</td>\n",
       "    </tr>\n",
       "    <tr>\n",
       "      <th>27</th>\n",
       "      <td>2467</td>\n",
       "      <td>BRCA1</td>\n",
       "      <td>H1421Y</td>\n",
       "      <td>5</td>\n",
       "      <td>BRCA1 is a tumour suppressor with pleiotropic ...</td>\n",
       "    </tr>\n",
       "    <tr>\n",
       "      <th>28</th>\n",
       "      <td>2662</td>\n",
       "      <td>BRCA1</td>\n",
       "      <td>L668F</td>\n",
       "      <td>5</td>\n",
       "      <td>Mutations in BRCA1 and BRCA2 account for the m...</td>\n",
       "    </tr>\n",
       "    <tr>\n",
       "      <th>29</th>\n",
       "      <td>2541</td>\n",
       "      <td>BRCA1</td>\n",
       "      <td>V1809A</td>\n",
       "      <td>5</td>\n",
       "      <td>Abstract  The BRCA1 gene from individuals at ...</td>\n",
       "    </tr>\n",
       "    <tr>\n",
       "      <th>30</th>\n",
       "      <td>2512</td>\n",
       "      <td>BRCA1</td>\n",
       "      <td>E1586G</td>\n",
       "      <td>5</td>\n",
       "      <td>Abstract Germline inactivating mutations in B...</td>\n",
       "    </tr>\n",
       "    <tr>\n",
       "      <th>31</th>\n",
       "      <td>2531</td>\n",
       "      <td>BRCA1</td>\n",
       "      <td>S1497A</td>\n",
       "      <td>5</td>\n",
       "      <td>Mutations in BRCA1 and BRCA2 account for the m...</td>\n",
       "    </tr>\n",
       "    <tr>\n",
       "      <th>32</th>\n",
       "      <td>2536</td>\n",
       "      <td>BRCA1</td>\n",
       "      <td>L165P</td>\n",
       "      <td>5</td>\n",
       "      <td>Mutations in BRCA1 and BRCA2 account for the m...</td>\n",
       "    </tr>\n",
       "    <tr>\n",
       "      <th>33</th>\n",
       "      <td>2602</td>\n",
       "      <td>BRCA1</td>\n",
       "      <td>M1008I</td>\n",
       "      <td>5</td>\n",
       "      <td>Mutations in BRCA1 and BRCA2 account for the m...</td>\n",
       "    </tr>\n",
       "    <tr>\n",
       "      <th>34</th>\n",
       "      <td>2528</td>\n",
       "      <td>BRCA1</td>\n",
       "      <td>N550H</td>\n",
       "      <td>5</td>\n",
       "      <td>ABSTRACT: The BRCA1 tumor suppressor gene is f...</td>\n",
       "    </tr>\n",
       "    <tr>\n",
       "      <th>35</th>\n",
       "      <td>2611</td>\n",
       "      <td>BRCA1</td>\n",
       "      <td>V1808A</td>\n",
       "      <td>5</td>\n",
       "      <td>ABSTRACT Germline mutations that inactivate th...</td>\n",
       "    </tr>\n",
       "  </tbody>\n",
       "</table>\n",
       "</div>"
      ],
      "text/plain": [
       "      ID   Gene Variation  Class  \\\n",
       "0   2661  BRCA1    S1613C      5   \n",
       "1   2460  BRCA1     R170W      5   \n",
       "2   2558  BRCA1    P1806A      5   \n",
       "3   2618  BRCA1    C1787S      5   \n",
       "4   2468  BRCA1     E362H      5   \n",
       "5   2673  BRCA1    S1473P      5   \n",
       "6   2472  BRCA1     L358R      5   \n",
       "7   2502  BRCA1    A1789S      5   \n",
       "8   2423  BRCA1    A1830T      5   \n",
       "9   2663  BRCA1    P1614S      5   \n",
       "10  2607  BRCA1    M1775V      5   \n",
       "11  2605  BRCA1    V1665M      5   \n",
       "12  2555  BRCA1    A1669S      5   \n",
       "13  2571  BRCA1  S1297del      5   \n",
       "14  2628  BRCA1    L1267S      5   \n",
       "15  2488  BRCA1    W1782C      5   \n",
       "16  2643  BRCA1    Q1826H      5   \n",
       "17  2561  BRCA1    S1140G      5   \n",
       "18  2466  BRCA1     L147F      5   \n",
       "19  2532  BRCA1    N1647K      5   \n",
       "20  2666  BRCA1    P1812R      5   \n",
       "21  2647  BRCA1    S1301R      5   \n",
       "22  2495  BRCA1    E1682V      5   \n",
       "23  2498  BRCA1     R496C      5   \n",
       "24  2608  BRCA1    R1589H      5   \n",
       "25  2553  BRCA1    D1778N      5   \n",
       "26  2604  BRCA1    E1214K      5   \n",
       "27  2467  BRCA1    H1421Y      5   \n",
       "28  2662  BRCA1     L668F      5   \n",
       "29  2541  BRCA1    V1809A      5   \n",
       "30  2512  BRCA1    E1586G      5   \n",
       "31  2531  BRCA1    S1497A      5   \n",
       "32  2536  BRCA1     L165P      5   \n",
       "33  2602  BRCA1    M1008I      5   \n",
       "34  2528  BRCA1     N550H      5   \n",
       "35  2611  BRCA1    V1808A      5   \n",
       "\n",
       "                                                 Text  \n",
       "0    Abstract Germline mutations that inactivate B...  \n",
       "1   Mutations in BRCA1 and BRCA2 account for the m...  \n",
       "2   ABSTRACT Germline mutations that inactivate th...  \n",
       "3    Abstract  The BRCA1 gene from individuals at ...  \n",
       "4   Mutations in BRCA1 and BRCA2 account for the m...  \n",
       "5    Abstract Germline inactivating mutations in B...  \n",
       "6   Mutations in BRCA1 and BRCA2 account for the m...  \n",
       "7   Genetic screening of the breast and ovarian ca...  \n",
       "8   Genetic screening of the breast and ovarian ca...  \n",
       "9   Germ line inactivating mutations in BRCA1 conf...  \n",
       "10   Abstract  The BRCA1 gene from individuals at ...  \n",
       "11   Abstract  The BRCA1 gene from individuals at ...  \n",
       "12   Abstract  The BRCA1 gene from individuals at ...  \n",
       "13  Mutations in BRCA1 and BRCA2 account for the m...  \n",
       "14  Mutations in BRCA1 and BRCA2 account for the m...  \n",
       "15  Mutations in BRCA1 and BRCA2 account for the m...  \n",
       "16   Abstract Germline mutations that inactivate B...  \n",
       "17  Mutations in BRCA1 and BRCA2 account for the m...  \n",
       "18  Mutations in BRCA1 and BRCA2 account for the m...  \n",
       "19  Genetic screening of the breast and ovarian ca...  \n",
       "20  Mutations in BRCA1 and BRCA2 account for the m...  \n",
       "21  Mutations in BRCA1 and BRCA2 account for the m...  \n",
       "22  Genetic screening of the breast and ovarian ca...  \n",
       "23  A significant proportion of inherited breast c...  \n",
       "24   Abstract Germline inactivating mutations in B...  \n",
       "25   Abstract  The BRCA1 gene from individuals at ...  \n",
       "26  Mutations in BRCA1 and BRCA2 account for the m...  \n",
       "27  BRCA1 is a tumour suppressor with pleiotropic ...  \n",
       "28  Mutations in BRCA1 and BRCA2 account for the m...  \n",
       "29   Abstract  The BRCA1 gene from individuals at ...  \n",
       "30   Abstract Germline inactivating mutations in B...  \n",
       "31  Mutations in BRCA1 and BRCA2 account for the m...  \n",
       "32  Mutations in BRCA1 and BRCA2 account for the m...  \n",
       "33  Mutations in BRCA1 and BRCA2 account for the m...  \n",
       "34  ABSTRACT: The BRCA1 tumor suppressor gene is f...  \n",
       "35  ABSTRACT Germline mutations that inactivate th...  "
      ]
     },
     "execution_count": 21,
     "metadata": {},
     "output_type": "execute_result"
    }
   ],
   "source": [
    "class_5"
   ]
  },
  {
   "cell_type": "code",
   "execution_count": 22,
   "metadata": {},
   "outputs": [
    {
     "data": {
      "text/html": [
       "<div>\n",
       "<style scoped>\n",
       "    .dataframe tbody tr th:only-of-type {\n",
       "        vertical-align: middle;\n",
       "    }\n",
       "\n",
       "    .dataframe tbody tr th {\n",
       "        vertical-align: top;\n",
       "    }\n",
       "\n",
       "    .dataframe thead th {\n",
       "        text-align: right;\n",
       "    }\n",
       "</style>\n",
       "<table border=\"1\" class=\"dataframe\">\n",
       "  <thead>\n",
       "    <tr style=\"text-align: right;\">\n",
       "      <th></th>\n",
       "      <th>Text</th>\n",
       "      <th>Gene</th>\n",
       "      <th>Variation</th>\n",
       "    </tr>\n",
       "  </thead>\n",
       "  <tbody>\n",
       "    <tr>\n",
       "      <th>0</th>\n",
       "      <td>Abstract Germline mutations that inactivate B...</td>\n",
       "      <td>BRCA1</td>\n",
       "      <td>2</td>\n",
       "    </tr>\n",
       "    <tr>\n",
       "      <th>1</th>\n",
       "      <td>Mutations in BRCA1 and BRCA2 account for the m...</td>\n",
       "      <td>BRCA1</td>\n",
       "      <td>15</td>\n",
       "    </tr>\n",
       "    <tr>\n",
       "      <th>2</th>\n",
       "      <td>ABSTRACT Germline mutations that inactivate th...</td>\n",
       "      <td>BRCA1</td>\n",
       "      <td>2</td>\n",
       "    </tr>\n",
       "    <tr>\n",
       "      <th>3</th>\n",
       "      <td>Abstract  The BRCA1 gene from individuals at ...</td>\n",
       "      <td>BRCA1</td>\n",
       "      <td>6</td>\n",
       "    </tr>\n",
       "    <tr>\n",
       "      <th>4</th>\n",
       "      <td>Abstract Germline inactivating mutations in B...</td>\n",
       "      <td>BRCA1</td>\n",
       "      <td>3</td>\n",
       "    </tr>\n",
       "    <tr>\n",
       "      <th>5</th>\n",
       "      <td>Genetic screening of the breast and ovarian ca...</td>\n",
       "      <td>BRCA1</td>\n",
       "      <td>4</td>\n",
       "    </tr>\n",
       "    <tr>\n",
       "      <th>6</th>\n",
       "      <td>Germ line inactivating mutations in BRCA1 conf...</td>\n",
       "      <td>BRCA1</td>\n",
       "      <td>1</td>\n",
       "    </tr>\n",
       "    <tr>\n",
       "      <th>7</th>\n",
       "      <td>A significant proportion of inherited breast c...</td>\n",
       "      <td>BRCA1</td>\n",
       "      <td>1</td>\n",
       "    </tr>\n",
       "    <tr>\n",
       "      <th>8</th>\n",
       "      <td>BRCA1 is a tumour suppressor with pleiotropic ...</td>\n",
       "      <td>BRCA1</td>\n",
       "      <td>1</td>\n",
       "    </tr>\n",
       "    <tr>\n",
       "      <th>9</th>\n",
       "      <td>ABSTRACT: The BRCA1 tumor suppressor gene is f...</td>\n",
       "      <td>BRCA1</td>\n",
       "      <td>1</td>\n",
       "    </tr>\n",
       "  </tbody>\n",
       "</table>\n",
       "</div>"
      ],
      "text/plain": [
       "                                                Text   Gene  Variation\n",
       "0   Abstract Germline mutations that inactivate B...  BRCA1          2\n",
       "1  Mutations in BRCA1 and BRCA2 account for the m...  BRCA1         15\n",
       "2  ABSTRACT Germline mutations that inactivate th...  BRCA1          2\n",
       "3   Abstract  The BRCA1 gene from individuals at ...  BRCA1          6\n",
       "4   Abstract Germline inactivating mutations in B...  BRCA1          3\n",
       "5  Genetic screening of the breast and ovarian ca...  BRCA1          4\n",
       "6  Germ line inactivating mutations in BRCA1 conf...  BRCA1          1\n",
       "7  A significant proportion of inherited breast c...  BRCA1          1\n",
       "8  BRCA1 is a tumour suppressor with pleiotropic ...  BRCA1          1\n",
       "9  ABSTRACT: The BRCA1 tumor suppressor gene is f...  BRCA1          1"
      ]
     },
     "execution_count": 22,
     "metadata": {},
     "output_type": "execute_result"
    }
   ],
   "source": [
    "class_5.groupby(['Text','Gene'],sort=False)['Variation'].count().reset_index()"
   ]
  },
  {
   "cell_type": "markdown",
   "metadata": {},
   "source": [
    "### <font style=\"font-size:18px;font-family:arial;color:green;text-indent:100px;line-height:0.8;word-spacing:10px\">What is the relationship of the enlisted mutations (Variation) of a gene and the corresponding 'Text' ? For e.g, for mutations of BCRA1, there are 36 unique mutations assigned to class 5 and the above 10 texts are the basis for it</font>"
   ]
  },
  {
   "cell_type": "code",
   "execution_count": null,
   "metadata": {},
   "outputs": [],
   "source": []
  },
  {
   "cell_type": "code",
   "execution_count": 23,
   "metadata": {},
   "outputs": [
    {
     "data": {
      "text/plain": [
       "ID           0\n",
       "Gene         0\n",
       "Variation    0\n",
       "Class        0\n",
       "Text         4\n",
       "dtype: int64"
      ]
     },
     "execution_count": 23,
     "metadata": {},
     "output_type": "execute_result"
    }
   ],
   "source": [
    "train_df.isna().sum()"
   ]
  },
  {
   "cell_type": "code",
   "execution_count": 24,
   "metadata": {},
   "outputs": [
    {
     "data": {
      "text/html": [
       "<div>\n",
       "<style scoped>\n",
       "    .dataframe tbody tr th:only-of-type {\n",
       "        vertical-align: middle;\n",
       "    }\n",
       "\n",
       "    .dataframe tbody tr th {\n",
       "        vertical-align: top;\n",
       "    }\n",
       "\n",
       "    .dataframe thead th {\n",
       "        text-align: right;\n",
       "    }\n",
       "</style>\n",
       "<table border=\"1\" class=\"dataframe\">\n",
       "  <thead>\n",
       "    <tr style=\"text-align: right;\">\n",
       "      <th></th>\n",
       "      <th>ID</th>\n",
       "      <th>Gene</th>\n",
       "      <th>Variation</th>\n",
       "      <th>Class</th>\n",
       "      <th>Text</th>\n",
       "    </tr>\n",
       "  </thead>\n",
       "  <tbody>\n",
       "    <tr>\n",
       "      <th>1407</th>\n",
       "      <td>1407</td>\n",
       "      <td>FGFR3</td>\n",
       "      <td>K508M</td>\n",
       "      <td>6</td>\n",
       "      <td>NaN</td>\n",
       "    </tr>\n",
       "    <tr>\n",
       "      <th>1109</th>\n",
       "      <td>1109</td>\n",
       "      <td>FANCA</td>\n",
       "      <td>S1088F</td>\n",
       "      <td>1</td>\n",
       "      <td>NaN</td>\n",
       "    </tr>\n",
       "    <tr>\n",
       "      <th>1277</th>\n",
       "      <td>1277</td>\n",
       "      <td>ARID5B</td>\n",
       "      <td>Truncating Mutations</td>\n",
       "      <td>1</td>\n",
       "      <td>NaN</td>\n",
       "    </tr>\n",
       "    <tr>\n",
       "      <th>1639</th>\n",
       "      <td>1639</td>\n",
       "      <td>FLT1</td>\n",
       "      <td>Amplification</td>\n",
       "      <td>6</td>\n",
       "      <td>NaN</td>\n",
       "    </tr>\n",
       "  </tbody>\n",
       "</table>\n",
       "</div>"
      ],
      "text/plain": [
       "        ID    Gene             Variation  Class Text\n",
       "1407  1407   FGFR3                 K508M      6  NaN\n",
       "1109  1109   FANCA                S1088F      1  NaN\n",
       "1277  1277  ARID5B  Truncating Mutations      1  NaN\n",
       "1639  1639    FLT1         Amplification      6  NaN"
      ]
     },
     "execution_count": 24,
     "metadata": {},
     "output_type": "execute_result"
    }
   ],
   "source": [
    "train_df[train_df['Text'].map(lambda x:not isinstance(x,str))]"
   ]
  },
  {
   "cell_type": "code",
   "execution_count": 25,
   "metadata": {},
   "outputs": [],
   "source": [
    "train_df.dropna(inplace=True)"
   ]
  },
  {
   "cell_type": "code",
   "execution_count": 26,
   "metadata": {},
   "outputs": [],
   "source": [
    "from sklearn.model_selection import train_test_split"
   ]
  },
  {
   "cell_type": "code",
   "execution_count": 27,
   "metadata": {},
   "outputs": [],
   "source": [
    "y_train=train_df['Class']\n",
    "X_train=train_df.drop('Class',axis=1)\n",
    "train_df,validation_df,y_train,y_validation=train_test_split(X_train,y_train,test_size=0.3)"
   ]
  },
  {
   "cell_type": "code",
   "execution_count": 28,
   "metadata": {},
   "outputs": [
    {
     "data": {
      "text/plain": [
       "((926, 4), (926,))"
      ]
     },
     "execution_count": 28,
     "metadata": {},
     "output_type": "execute_result"
    }
   ],
   "source": [
    "train_df.shape,y_train.shape"
   ]
  },
  {
   "cell_type": "code",
   "execution_count": 29,
   "metadata": {},
   "outputs": [
    {
     "data": {
      "text/plain": [
       "((398, 4), (398,))"
      ]
     },
     "execution_count": 29,
     "metadata": {},
     "output_type": "execute_result"
    }
   ],
   "source": [
    "validation_df.shape,y_validation.shape"
   ]
  },
  {
   "cell_type": "markdown",
   "metadata": {},
   "source": [
    "### <font color='green'>analyzing the train text data</font>"
   ]
  },
  {
   "cell_type": "markdown",
   "metadata": {},
   "source": [
    "[link to destination](#destination)"
   ]
  },
  {
   "cell_type": "code",
   "execution_count": 30,
   "metadata": {
    "colab": {
     "base_uri": "https://localhost:8080/",
     "height": 38
    },
    "executionInfo": {
     "elapsed": 98,
     "status": "ok",
     "timestamp": 1638286184867,
     "user": {
      "displayName": "Anubrata Das",
      "photoUrl": "https://lh3.googleusercontent.com/a-/AOh14GiI2340pPpSj6e4aG_4urL4HRwW3MRXEf5aoo2_QA=s64",
      "userId": "08781375266004215524"
     },
     "user_tz": -330
    },
    "id": "9SoN9RkCag-o",
    "outputId": "7f64e0fd-3acd-42a0-9d80-2dd56677fb44"
   },
   "outputs": [
    {
     "data": {
      "text/plain": [
       "'!\"#$%&\\'()*+,-./:;<=>?@[\\\\]^_`{|}~'"
      ]
     },
     "execution_count": 30,
     "metadata": {},
     "output_type": "execute_result"
    }
   ],
   "source": [
    "import string\n",
    "string.punctuation"
   ]
  },
  {
   "cell_type": "code",
   "execution_count": 31,
   "metadata": {
    "executionInfo": {
     "elapsed": 90,
     "status": "ok",
     "timestamp": 1638286184868,
     "user": {
      "displayName": "Anubrata Das",
      "photoUrl": "https://lh3.googleusercontent.com/a-/AOh14GiI2340pPpSj6e4aG_4urL4HRwW3MRXEf5aoo2_QA=s64",
      "userId": "08781375266004215524"
     },
     "user_tz": -330
    },
    "id": "Zoqhi_AKamax"
   },
   "outputs": [],
   "source": [
    "revised_punctuation='!\"#$%&\\'()*+,./:;<=>?@[\\\\]^_`{|}~'"
   ]
  },
  {
   "cell_type": "code",
   "execution_count": 32,
   "metadata": {},
   "outputs": [
    {
     "data": {
      "text/plain": [
       "'!\"#$%&\\'()*+,./:;<=>?@[\\\\]^_`{|}~'"
      ]
     },
     "execution_count": 32,
     "metadata": {},
     "output_type": "execute_result"
    }
   ],
   "source": [
    "revised_punctuation"
   ]
  },
  {
   "cell_type": "code",
   "execution_count": 33,
   "metadata": {},
   "outputs": [],
   "source": [
    "#!pip install nltk"
   ]
  },
  {
   "cell_type": "code",
   "execution_count": 34,
   "metadata": {
    "executionInfo": {
     "elapsed": 92,
     "status": "ok",
     "timestamp": 1638286184873,
     "user": {
      "displayName": "Anubrata Das",
      "photoUrl": "https://lh3.googleusercontent.com/a-/AOh14GiI2340pPpSj6e4aG_4urL4HRwW3MRXEf5aoo2_QA=s64",
      "userId": "08781375266004215524"
     },
     "user_tz": -330
    },
    "id": "UoSJBAQWis7w"
   },
   "outputs": [
    {
     "name": "stderr",
     "output_type": "stream",
     "text": [
      "[nltk_data] Downloading package words to\n",
      "[nltk_data]     C:\\Users\\anubr\\AppData\\Roaming\\nltk_data...\n",
      "[nltk_data]   Package words is already up-to-date!\n"
     ]
    }
   ],
   "source": [
    "import nltk\n",
    "nltk.download('words')\n",
    "from nltk.corpus import words\n",
    "words=nltk.corpus.words.words()"
   ]
  },
  {
   "cell_type": "code",
   "execution_count": 35,
   "metadata": {},
   "outputs": [
    {
     "data": {
      "text/plain": [
       "235892"
      ]
     },
     "execution_count": 35,
     "metadata": {},
     "output_type": "execute_result"
    }
   ],
   "source": [
    "len(set(words))"
   ]
  },
  {
   "cell_type": "code",
   "execution_count": 36,
   "metadata": {},
   "outputs": [],
   "source": [
    "nltk_words=set(words)"
   ]
  },
  {
   "cell_type": "code",
   "execution_count": 37,
   "metadata": {
    "executionInfo": {
     "elapsed": 90,
     "status": "ok",
     "timestamp": 1638286184874,
     "user": {
      "displayName": "Anubrata Das",
      "photoUrl": "https://lh3.googleusercontent.com/a-/AOh14GiI2340pPpSj6e4aG_4urL4HRwW3MRXEf5aoo2_QA=s64",
      "userId": "08781375266004215524"
     },
     "user_tz": -330
    },
    "id": "dZa3dSo_KOra"
   },
   "outputs": [],
   "source": [
    "def cleanse_data(data):        \n",
    "    if isinstance(data,str):\n",
    "        no_punctuation = [char for char in data.replace('\\n',' ') if char not in revised_punctuation]\n",
    "        no_punctuation_txt = ''.join(no_punctuation)                   \n",
    "        return no_punctuation_txt\n",
    "    else:\n",
    "        return \"NA\""
   ]
  },
  {
   "cell_type": "code",
   "execution_count": 38,
   "metadata": {},
   "outputs": [],
   "source": [
    "def reduce_words(data):\n",
    "    data = data.split()\n",
    "    words = [word for word in data if word not in nltk_words]\n",
    "    text = \" \".join(words)\n",
    "    return text    "
   ]
  },
  {
   "cell_type": "code",
   "execution_count": 39,
   "metadata": {},
   "outputs": [],
   "source": [
    "def word_count(text):\n",
    "    text_lst=text.split()\n",
    "    vector = [text_lst.count(str(word)) for word in text_lst]\n",
    "    return vector[:300]"
   ]
  },
  {
   "cell_type": "code",
   "execution_count": 40,
   "metadata": {},
   "outputs": [],
   "source": [
    "from nltk.probability import FreqDist"
   ]
  },
  {
   "cell_type": "markdown",
   "metadata": {
    "id": "eHrZ7Ae4odHg"
   },
   "source": [
    "we have obtained the frequency distribution of words using freqdist"
   ]
  },
  {
   "cell_type": "code",
   "execution_count": 41,
   "metadata": {},
   "outputs": [],
   "source": [
    "def freq_dist(data):\n",
    "    data=data.split(\" \")\n",
    "    freq=FreqDist(data) # gets word frequency\n",
    "    freq=sorted(freq.items(),key=lambda x:x[1], reverse=True) # sorts words from highest to lowest frequency\n",
    "    return [item[1] for item in freq][:300] # returns a fixed length of 300 words"
   ]
  },
  {
   "cell_type": "code",
   "execution_count": 42,
   "metadata": {},
   "outputs": [],
   "source": [
    "# implementing bag of words"
   ]
  },
  {
   "cell_type": "code",
   "execution_count": 43,
   "metadata": {},
   "outputs": [],
   "source": [
    "from sklearn.feature_extraction.text import CountVectorizer"
   ]
  },
  {
   "cell_type": "code",
   "execution_count": 44,
   "metadata": {},
   "outputs": [],
   "source": [
    "bow_vectorizer = CountVectorizer(stop_words='english',max_features=1600)"
   ]
  },
  {
   "cell_type": "code",
   "execution_count": 45,
   "metadata": {},
   "outputs": [],
   "source": [
    "# implementing tf-idf"
   ]
  },
  {
   "cell_type": "code",
   "execution_count": 46,
   "metadata": {},
   "outputs": [],
   "source": [
    "from sklearn.feature_extraction.text import TfidfVectorizer"
   ]
  },
  {
   "cell_type": "code",
   "execution_count": 47,
   "metadata": {},
   "outputs": [],
   "source": [
    "tfidf_vectorizer = TfidfVectorizer(\n",
    "    min_df=1, max_features=1600, strip_accents='unicode',lowercase =True,\n",
    "    analyzer='word', token_pattern=r'\\w+', ngram_range=(1, 3), use_idf=True, \n",
    "    smooth_idf=True, sublinear_tf=True, stop_words = 'english')"
   ]
  },
  {
   "cell_type": "code",
   "execution_count": 48,
   "metadata": {},
   "outputs": [],
   "source": [
    "# https://melaniewalsh.github.io/Intro-Cultural-Analytics/05-Text-Analysis/03-TF-IDF-Scikit-Learn.html\n",
    "# https://www.datacamp.com/community/tutorials/understanding-logistic-regression-python\n",
    "# https://machinelearningmastery.com/multinomial-logistic-regression-with-python/\n",
    "# https://www.kaggle.com/elemento/personalizedmedicine-rct"
   ]
  },
  {
   "cell_type": "code",
   "execution_count": 49,
   "metadata": {},
   "outputs": [],
   "source": [
    "from sklearn.linear_model import LogisticRegression"
   ]
  },
  {
   "cell_type": "code",
   "execution_count": 50,
   "metadata": {},
   "outputs": [],
   "source": [
    "from sklearn.metrics import log_loss"
   ]
  },
  {
   "cell_type": "code",
   "execution_count": 51,
   "metadata": {},
   "outputs": [],
   "source": [
    "# define the multinomial logistic regression model\n",
    "bow_model = LogisticRegression(multi_class='multinomial', solver='lbfgs')\n",
    "tfidf_model = LogisticRegression(multi_class='multinomial', solver='lbfgs')"
   ]
  },
  {
   "cell_type": "markdown",
   "metadata": {},
   "source": [
    "<a id=\"train_data\" style=\"font-size:22px\">model train text sample data</a>"
   ]
  },
  {
   "cell_type": "markdown",
   "metadata": {},
   "source": [
    "[Beginning of Notebook](#top)"
   ]
  },
  {
   "cell_type": "markdown",
   "metadata": {},
   "source": [
    "#### text preprocessing"
   ]
  },
  {
   "cell_type": "code",
   "execution_count": 52,
   "metadata": {},
   "outputs": [
    {
     "name": "stderr",
     "output_type": "stream",
     "text": [
      "progress bar: 100%|██████████| 926/926 [00:09<00:00, 99.28it/s] \n"
     ]
    }
   ],
   "source": [
    "# remove punctuation\n",
    "train_df['cleaned_text'] = train_df['Text'].progress_map(cleanse_data,na_action='ignore')"
   ]
  },
  {
   "cell_type": "code",
   "execution_count": 53,
   "metadata": {},
   "outputs": [
    {
     "name": "stderr",
     "output_type": "stream",
     "text": [
      "progress bar: 100%|██████████| 926/926 [00:03<00:00, 251.63it/s]\n"
     ]
    }
   ],
   "source": [
    "# filtering all common english words\n",
    "train_df['cleaned_text'] = train_df['cleaned_text'].progress_map(reduce_words,na_action='ignore')"
   ]
  },
  {
   "cell_type": "code",
   "execution_count": 54,
   "metadata": {},
   "outputs": [],
   "source": [
    "train_df['Text_len'] = train_df['Text'].map(lambda x:len(str(x)))\n",
    "train_df['cleaned_text_len'] = train_df['cleaned_text'].map(lambda x:len(str(x)))"
   ]
  },
  {
   "cell_type": "code",
   "execution_count": null,
   "metadata": {},
   "outputs": [],
   "source": []
  },
  {
   "cell_type": "code",
   "execution_count": 55,
   "metadata": {},
   "outputs": [
    {
     "data": {
      "text/html": [
       "<div>\n",
       "<style scoped>\n",
       "    .dataframe tbody tr th:only-of-type {\n",
       "        vertical-align: middle;\n",
       "    }\n",
       "\n",
       "    .dataframe tbody tr th {\n",
       "        vertical-align: top;\n",
       "    }\n",
       "\n",
       "    .dataframe thead th {\n",
       "        text-align: right;\n",
       "    }\n",
       "</style>\n",
       "<table border=\"1\" class=\"dataframe\">\n",
       "  <thead>\n",
       "    <tr style=\"text-align: right;\">\n",
       "      <th></th>\n",
       "      <th>ID</th>\n",
       "      <th>Gene</th>\n",
       "      <th>Variation</th>\n",
       "      <th>Text</th>\n",
       "      <th>cleaned_text</th>\n",
       "      <th>Text_len</th>\n",
       "      <th>cleaned_text_len</th>\n",
       "    </tr>\n",
       "  </thead>\n",
       "  <tbody>\n",
       "    <tr>\n",
       "      <th>1328</th>\n",
       "      <td>1328</td>\n",
       "      <td>MLH1</td>\n",
       "      <td>L622H</td>\n",
       "      <td>Mismatch-repair factors have a prominent role ...</td>\n",
       "      <td>Mismatch-repair factors eukaryotic DNA-replica...</td>\n",
       "      <td>78356</td>\n",
       "      <td>31619</td>\n",
       "    </tr>\n",
       "    <tr>\n",
       "      <th>2541</th>\n",
       "      <td>2541</td>\n",
       "      <td>BRCA1</td>\n",
       "      <td>V1809A</td>\n",
       "      <td>Abstract  The BRCA1 gene from individuals at ...</td>\n",
       "      <td>Abstract BRCA1 individuals cancers mutations H...</td>\n",
       "      <td>58319</td>\n",
       "      <td>21201</td>\n",
       "    </tr>\n",
       "    <tr>\n",
       "      <th>2233</th>\n",
       "      <td>2233</td>\n",
       "      <td>PTEN</td>\n",
       "      <td>G127E</td>\n",
       "      <td>The PTEN (phosphatase and tensin homolog) phos...</td>\n",
       "      <td>PTEN tensin homolog mammals terms exerted deph...</td>\n",
       "      <td>42789</td>\n",
       "      <td>18457</td>\n",
       "    </tr>\n",
       "    <tr>\n",
       "      <th>2803</th>\n",
       "      <td>2803</td>\n",
       "      <td>BRCA2</td>\n",
       "      <td>N319T</td>\n",
       "      <td>The assessment of the influence of many rare B...</td>\n",
       "      <td>BRCA2 missense mutations has predicts missense...</td>\n",
       "      <td>35322</td>\n",
       "      <td>13546</td>\n",
       "    </tr>\n",
       "    <tr>\n",
       "      <th>1335</th>\n",
       "      <td>1335</td>\n",
       "      <td>FGF3</td>\n",
       "      <td>Amplification</td>\n",
       "      <td>The fibroblast growth factor receptor (FGFR) c...</td>\n",
       "      <td>FGFR plays roles Accumulating suggests types F...</td>\n",
       "      <td>128981</td>\n",
       "      <td>55114</td>\n",
       "    </tr>\n",
       "  </tbody>\n",
       "</table>\n",
       "</div>"
      ],
      "text/plain": [
       "        ID   Gene      Variation  \\\n",
       "1328  1328   MLH1          L622H   \n",
       "2541  2541  BRCA1         V1809A   \n",
       "2233  2233   PTEN          G127E   \n",
       "2803  2803  BRCA2          N319T   \n",
       "1335  1335   FGF3  Amplification   \n",
       "\n",
       "                                                   Text  \\\n",
       "1328  Mismatch-repair factors have a prominent role ...   \n",
       "2541   Abstract  The BRCA1 gene from individuals at ...   \n",
       "2233  The PTEN (phosphatase and tensin homolog) phos...   \n",
       "2803  The assessment of the influence of many rare B...   \n",
       "1335  The fibroblast growth factor receptor (FGFR) c...   \n",
       "\n",
       "                                           cleaned_text  Text_len  \\\n",
       "1328  Mismatch-repair factors eukaryotic DNA-replica...     78356   \n",
       "2541  Abstract BRCA1 individuals cancers mutations H...     58319   \n",
       "2233  PTEN tensin homolog mammals terms exerted deph...     42789   \n",
       "2803  BRCA2 missense mutations has predicts missense...     35322   \n",
       "1335  FGFR plays roles Accumulating suggests types F...    128981   \n",
       "\n",
       "      cleaned_text_len  \n",
       "1328             31619  \n",
       "2541             21201  \n",
       "2233             18457  \n",
       "2803             13546  \n",
       "1335             55114  "
      ]
     },
     "execution_count": 55,
     "metadata": {},
     "output_type": "execute_result"
    }
   ],
   "source": [
    "train_df.head()"
   ]
  },
  {
   "cell_type": "markdown",
   "metadata": {},
   "source": [
    "### <font color='green'>converting text to numbers</font>"
   ]
  },
  {
   "cell_type": "code",
   "execution_count": 56,
   "metadata": {},
   "outputs": [],
   "source": [
    "train_df_corpus = train_df['cleaned_text'].tolist()"
   ]
  },
  {
   "cell_type": "markdown",
   "metadata": {},
   "source": [
    "#### bag of words transformation"
   ]
  },
  {
   "cell_type": "code",
   "execution_count": 57,
   "metadata": {},
   "outputs": [
    {
     "data": {
      "text/plain": [
       "CountVectorizer(max_features=1600, stop_words='english')"
      ]
     },
     "execution_count": 57,
     "metadata": {},
     "output_type": "execute_result"
    }
   ],
   "source": [
    "bow_vectorizer.fit(train_df_corpus)"
   ]
  },
  {
   "cell_type": "code",
   "execution_count": 58,
   "metadata": {},
   "outputs": [],
   "source": [
    "train_df_counts= bow_vectorizer.transform(train_df_corpus)"
   ]
  },
  {
   "cell_type": "code",
   "execution_count": 59,
   "metadata": {},
   "outputs": [
    {
     "name": "stdout",
     "output_type": "stream",
     "text": [
      "Vocabulary:  {'factors': 621, 'dna': 533, 'functions': 673, 'homolog': 753, 'mlh1': 981, 'humans': 762, 'mutations': 1011, 'colorectal': 407, 'cancers': 345, 'structures': 1430, 'heterodimer': 744, 'terminal': 1471, 'cerevisiae': 372, 'fragments': 666, 'partners': 1113, 'rearrangements': 1248, 'domains': 538, 'compared': 409, 'conserved': 427, 'forms': 662, 'complexes': 413, 'box': 326, 'finally': 647, 'terms': 1473, 'enzymes': 579, 'structural': 1428, 'figures': 646, 'view': 1567, 'figure': 644, 'containing': 436, 'mapping': 930, 'introduction': 836, 'results': 1296, 'discussion': 524, 'methods': 968, 'author': 293, 'information': 814, 'supplementary': 1448, 'mmr': 985, 'processes': 1196, 'events': 600, 'activating': 215, 'apoptotic': 270, 'responses': 1293, 'regulating': 1266, 'cell': 369, 'observed': 1065, 'called': 343, 'tumors': 1525, 'initiated': 822, 'muts': 1012, 'msh2': 998, 'msh6': 999, 'loops': 906, 'binds': 314, 'recruited': 1258, 'bound': 325, 'atp': 292, 'dependent': 501, 'pms2': 1161, 'recent': 1250, 'studies': 1431, 'located': 901, '11': 27, '12': 31, 'binding': 313, 'demonstrates': 498, 'similarly': 1377, 'deficient': 491, 'increased': 802, 'rates': 1238, '15': 43, 'regions': 1263, 'confer': 420, 'properties': 1209, 'fig': 642, '17': 47, '19': 50, '20': 65, '22': 85, '23': 86, 'showed': 1363, 'reported': 1277, 'schematic': 1338, 'proteins': 1212, 'limits': 893, 'overall': 1086, 'includes': 800, 's2': 1326, 'indicated': 806, 'interactions': 832, 'contains': 437, 'elements': 566, '90': 187, 'kb': 856, 'insights': 827, '24': 87, '25': 88, '26': 90, '27': 91, '10': 16, '18': 48, 'cancer': 344, 'causing': 356, '30': 102, '31': 104, '32': 105, 'interacts': 833, '34': 108, '35': 109, 'interacting': 831, '36': 110, 's1': 1325, '37': 111, 'motifs': 995, 'highlighted': 749, 'peptides': 1130, 'double': 542, 'plasmid': 1155, 'online': 1079, 'concentrations': 416, 'μm': 1598, 'length': 882, 'performed': 1131, 'assays': 288, '59': 148, 'bp': 327, '1c': 61, 'kd': 857, 'using': 1544, '41': 122, 'single': 1378, 'labeled': 871, 'table': 1459, '63': 157, 'cα': 476, 'positions': 1172, '2c': 99, 'residues': 1288, '13': 37, 'acids': 210, 'data': 482, '69': 163, '2d': 100, 'shows': 1364, 'caused': 354, 'protein': 1211, 'pdb': 1124, 'larger': 879, 'involves': 841, '53': 140, 'strand': 1425, '2a': 97, 'involving': 842, 'consists': 431, 'contacts': 434, 'ii': 777, 'iii': 778, 'represented': 1280, 'corresponds': 448, 'multiple': 1004, 'alignments': 238, 'indicates': 807, 'previous': 1184, 'figs': 643, '2b': 98, '38': 112, 'described': 505, 'hybrid': 763, 'experiments': 612, 'lacking': 874, 'mutants': 1008, 'wild': 1580, 'type': 1528, 'mutagenesis': 1006, 'suggested': 1441, 'mediated': 948, 'proposed': 1210, '3a': 114, 'pre': 1179, 'presented': 1183, '3c': 116, 'vitro': 1570, 'makes': 921, 'suggests': 1442, 'activities': 218, 'molecules': 991, '3d': 117, '3b': 115, 'molecular': 989, 'generated': 691, '48': 129, 'analyzed': 258, 'cells': 370, 'failed': 622, 'identified': 769, 'required': 1283, 'st': 1416, '4a': 131, 'conformational': 423, 'analysis': 257, 'function': 671, 'vivo': 1571, '70': 166, 'aa': 198, 'sequences': 1354, 'association': 290, 'values': 1553, 'varying': 1558, 'measurements': 946, 'bars': 303, 'sd': 1343, 'contributes': 438, '4d': 134, 'fold': 656, '16': 45, 'missense': 978, 'variants': 1556, 'patients': 1116, 'cases': 349, '400': 121, 'genes': 693, 'encoding': 574, 'including': 801, '58': 147, '29': 94, '39': 113, '57': 145, 'sites': 1382, 'groups': 712, 'group': 711, '5b': 150, 'pathways': 1114, 'arrows': 282, 'roles': 1315, 'monitored': 992, '1a': 59, 'affects': 226, 'localized': 900, '45': 126, 'taken': 1462, '1b': 60, 'terminus': 1472, 'reveals': 1302, 'constructs': 433, 'deletions': 496, 'published': 1220, 'cloned': 396, 'notably': 1043, '4e': 135, 'separated': 1350, '110': 28, '200': 66, 'supported': 1450, '46': 127, 'promoting': 1208, '6a': 164, 'allows': 245, 'human': 761, '44': 125, 'identification': 768, 'high': 748, 'risk': 1309, 'disease': 525, 'implications': 795, 'options': 1082, 'andor': 260, 'carriers': 348, 'sequence': 1352, 'reports': 1278, 'lines': 895, 'evaluated': 599, 'approaches': 275, 'laboratories': 872, 'exists': 605, 'conditions': 418, 'systems': 1456, 'low': 908, 'research': 1286, 'iarc': 765, 'validated': 1551, '14': 41, 'importantly': 796, 'class': 389, 'guidelines': 718, 'detected': 508, 'specific': 1406, 'databases': 484, 'associated': 289, 'having': 729, 'consistent': 429, 'normalized': 1042, 'recommended': 1256, 'classifications': 391, 'insight': 826, 'variant': 1555, 'database': 483, '21': 84, 'open': 1081, 'following': 659, 'classify': 392, '2012': 79, 'alterations': 246, 'furthermore': 674, 'germline': 701, 'details': 507, 'excluded': 603, 'occurred': 1067, '800': 177, 'frameshift': 668, 'changes': 376, 'predicted': 1180, 'consisting': 430, 'truncating': 1517, 'substitutions': 1436, 'frame': 667, 'deletion': 495, 'recorded': 1257, 'points': 1162, '2007': 74, '2011': 78, 'modified': 988, 'briefly': 337, 'consequences': 426, '117': 30, 'remaining': 1274, 'note': 1046, 'members': 962, 'authors': 294, 'obtained': 1066, 'levels': 886, 'types': 1529, 'msi': 1000, 'immunohistochemistry': 789, 'referred': 1260, '5a': 149, 'reviewed': 1303, 'abrogated': 205, '75': 171, '50': 136, 'ls': 909, 'microsatellite': 975, 'crc': 456, 'ihc': 776, 'sources': 1402, 'findings': 648, 'developed': 510, 'tables': 1460, '68': 162, '101': 19, 'gene': 690, 'cosegregation': 450, 'positive': 1173, 'families': 623, '60': 153, '72': 168, '28': 92, '66': 160, 'large': 878, '86': 183, 'documented': 534, 'altered': 247, '56': 144, '54': 142, 'download': 543, '40': 120, 'rna': 1311, 'intronic': 838, 'represents': 1282, 'site': 1381, 'ns': 1053, 'ss': 1413, 'disrupting': 529, 'codons': 403, 'achieved': 208, 'probabilities': 1189, 'et': 595, 'occurring': 1069, 'means': 945, 'frequencies': 670, 'individuals': 809, '2013': 80, 'conferred': 421, '97': 194, 'stimulated': 1424, '98': 195, 'receiving': 1249, '80': 176, 'indicating': 808, 'aberrations': 199, '42': 123, 'brca1': 331, 'brca2': 332, 'estimated': 594, 'investigated': 839, '71': 167, 'demonstrated': 497, 'components': 414, 'sequencing': 1355, 'technologies': 1468, '43': 124, 'panels': 1109, 'alleles': 241, 'features': 631, 'recognized': 1254, 'scale': 1336, 'demonstrating': 499, 'allowing': 244, 'provides': 1214, 'mg': 969, 'family': 624, 'baseline': 305, 'arising': 281, '51': 138, '52': 139, 'combinations': 408, 'occurrence': 1068, '1000': 18, 'genomes': 696, 'supporting': 1451, 'discussed': 523, 'differences': 516, 'remained': 1273, 'identifying': 770, 'based': 304, 'summary': 1444, 'mrna': 997, 'genome': 695, 'id': 767, 'iv': 849, 'counts': 454, 'additionally': 223, 'statistical': 1423, 'follows': 660, 'conducted': 419, 'pedigrees': 1129, 'derived': 504, 'relatives': 1272, 'second': 1345, 'braf': 328, 'ratios': 1239, '001': 4, '005': 5, 'prism': 1187, 'effects': 561, 'dimensional': 518, 'loss': 907, 'brct': 333, 'structure': 1429, 'predicting': 1181, 'germ': 699, 'line': 894, 'integrated': 830, 'inherited': 815, 'allowed': 243, 'developing': 511, 'activates': 214, 'cooh': 443, 'polymerase': 1166, 'holoenzyme': 752, 'polymorphisms': 1167, 'observations': 1064, 'leads': 881, 'materials': 934, 'national': 1019, 'center': 371, 'biotechnology': 319, 'like': 892, 'refs': 1261, 'ref': 1259, 'p53': 1099, 'ligase': 891, 'repeats': 1275, '94': 191, 'novo': 1047, 'models': 986, 'functional': 672, 'factor': 620, 'amino': 250, 'embedded': 569, 'mutation': 1010, 'scores': 1340, 'secondary': 1346, 'helix': 741, 'predictions': 1182, '1863': 49, 'm1775r': 916, 'directed': 521, 'galactosidase': 680, 'subcloned': 1433, 'gal4': 679, 'pcdna3': 1121, 'cotransfected': 452, '293t': 96, 'transfections': 1505, 'tk': 1489, 'promega': 1204, 'kinase': 863, 'figureopen': 645, 'tabdownload': 1458, 'powerpoint': 1175, 'inlineview': 824, 'popup': 1171, 'characterized': 378, 'conversely': 442, 'correlates': 447, 'mapped': 929, 'explained': 613, 'expected': 610, 'occurs': 1070, 'ligands': 890, 'conclusions': 417, 'mutated': 1009, 'encoded': 572, 'abolished': 204, 'breast': 336, 'core': 446, 'women': 1583, 'diagnosed': 514, 'early': 555, 'years': 1589, 'old': 1071, '4c': 133, 'transcription': 1499, 'depicted': 502, 'controls': 441, 'proband': 1190, 'wt': 1584, 'checkpoint': 380, 'genetic': 694, 'defects': 489, 'phosphopeptide': 1141, 'pser': 1216, 'supports': 1452, 'cloning': 398, '1994': 53, 'na': 1017, 'department': 500, 'university': 1541, 'nih': 1034, 'manuscript': 925, 'res': 1285, 'pmc': 1160, '2010': 77, '09': 15, 'pa': 1103, 'unfortunately': 1538, 'encodes': 573, 'plays': 1159, 'induced': 810, 'signaling': 1372, 'phosphorylated': 1143, 'bach1': 298, 'signals': 1374, 'targets': 1466, 'p21': 1096, 'er': 581, 'ring': 1308, 'bard1': 302, 'ubiquitin': 1534, '124': 35, 'μg': 1595, 'reactions': 1244, 'agarose': 228, 'beads': 311, 'a1708e': 196, 'examined': 601, 'bands': 300, 'amersham': 249, 'biosciences': 317, 'hek293t': 739, 'plates': 1158, '105': 23, 'hours': 758, 'transfected': 1503, 'manufacturers': 924, 'instructions': 829, 'roche': 1314, 'vectors': 1561, 'responsive': 1294, 'harvested': 728, 'transfection': 1504, 'luciferase': 910, 'assay': 286, 'activity': 219, 'align': 237, 'gvgd': 719, '33': 107, '95': 192, 'generation': 692, 'efforts': 562, 'coding': 402, 'recombinant': 1255, 'purified': 1222, 'procedures': 1194, 'abnormalities': 203, 'visualized': 1569, 'quantified': 1227, 'comparing': 410, 'μgml': 1596, '65': 159, '61': 155, 's3': 1327, 'pro': 1188, 'thr': 1485, 'wildtype': 1581, '100': 17, 'exhibited': 604, 'transactivation': 1498, 'sets': 1358, 'colleagues': 405, '67': 161, '49': 130, '76': 172, 'comparison': 411, '64': 158, 'phosphorylation': 1144, 'independent': 805, 'effect': 559, 'charged': 379, 'c0': 339, 'tolerated': 1494, 'glu': 708, '4b': 132, 'categories': 352, '47': 128, 'blocks': 320, 'induces': 811, 'snp': 1396, 'snps': 1397, 'tumor': 1522, 'pten': 1217, 'lipid': 897, 'pip3': 1151, 'phosphatidylinositol': 1138, 'phosphoinositide': 1140, 'rapamycin': 1234, 'oncogenic': 1077, 'related': 1270, 'syndromes': 1454, 'disorders': 527, 'ala': 235, 'phts': 1146, 'targeting': 1465, 'loop': 905, 'interestingly': 834, 'patterns': 1117, 'neoplasms': 1024, 'section': 1347, 'deleted': 493, 'animals': 262, 'actin': 212, '123': 34, 'inhibiting': 817, 'pi3k': 1148, 'anti': 264, 'malignancies': 922, 'expression': 616, 'p110α': 1091, 'gfp': 702, 'tagged': 1461, 'akt': 232, 'post': 1174, 'genomic': 697, 'asddd': 284, 'exons': 609, 'samples': 1333, '88': 185, '121': 33, '131': 39, 'phosphotyrosine': 1145, 'spanning': 1405, 'transformants': 1506, 'expressing': 615, 'akt1': 233, 'incubated': 804, 'expressed': 614, 'inducible': 812, 'error': 591, 'cos': 449, 'ha': 723, 'free': 669, 'lysates': 914, 'immunoblot': 785, 'phospho': 1139, 'active': 217, 'antibodies': 265, 'spots': 1411, 'paired': 1105, 'test': 1475, '0001': 3, 'driven': 547, 'non': 1039, '5c': 151, 'glioblastoma': 706, '6b': 165, 'isoforms': 847, 'kinases': 864, 'ubiquitination': 1535, 'membranes': 963, 'mechanisms': 947, 'inactivated': 798, 'yielded': 1591, 'asp': 285, 'retained': 1299, 'c2': 340, 'cosmic': 451, 'exon': 607, 'intron': 837, 'impaired': 793, 'examples': 602, 'recently': 1251, 'parameters': 1111, 'therapies': 1484, 'diseases': 526, 'variations': 1557, 'focused': 655, 'populations': 1170, 'linked': 896, '05': 10, 'supplemented': 1449, 'transformed': 1507, 'growth': 713, 'markers': 931, 'verified': 1565, 'mab': 919, 'followed': 658, 'conjugated': 425, 'mouse': 996, 'images': 782, 'imaging': 783, 'software': 1399, 'processed': 1195, 'lysed': 915, 'nuclear': 1057, 'signalling': 1373, 'probed': 1192, 'plasmids': 1156, 'myc': 1013, 'pcr': 1122, 'dbd': 486, 'inactivating': 799, 'medicine': 951, 'primary': 1185, '2008': 75, '07': 13, 'insertions': 825, 'hr': 759, 'rad51': 1230, 'vus': 1574, 'cross': 461, 'trans': 1497, 'characteristics': 377, 'numbers': 1062, 'myriad': 1016, 'cdna': 367, 'stratagene': 1426, 'flag': 653, 'lymphocytes': 912, 'rt': 1320, 'products': 1198, 'gels': 689, 'sequenced': 1353, 'rpmi': 1318, 'life': 888, 'maintained': 920, 'dmem': 531, 'mmoll': 984, 'immunoprecipitation': 792, 'immunoblotting': 786, 'immunoprecipitated': 790, 'm2': 917, 'monoclonal': 993, 'immunoprecipitates': 791, 'sds': 1344, 'page': 1104, 'tris': 1516, 'hcl': 731, 'polyclonal': 1165, 'dr': 546, 'cytometry': 475, '2005': 72, 'amplified': 255, 'primers': 1186, 'approved': 276, 'specifically': 1407, 'causes': 355, '78': 174, 'profiles': 1199, 'comparisons': 412, 'enriched': 578, 'variables': 1554, 'contained': 435, 'ci': 384, 'genotyping': 698, 'reached': 1243, 'enhances': 577, 'implicated': 794, 'introduced': 835, 'increases': 803, 'hdr': 734, 'representing': 1281, 'immunofluorescence': 787, '85': 182, 'multivariate': 1005, 'outcomes': 1084, 'cis': 387, 'disrupted': 528, 'palb2': 1107, 'needed': 1022, 'improved': 797, 'resulted': 1295, 'specimens': 1408, 'tissue': 1487, 'isoform': 846, 'fgfr': 636, 'oncogenes': 1075, 'harboring': 727, 'inhibitors': 820, 'fgfr1': 637, 'trials': 1515, 'screens': 1342, 'antitumor': 267, 'carcinomas': 346, 'agents': 230, 'fgfr2': 638, 'situ': 1383, 'amplifications': 254, 'fusions': 676, 'keywords': 861, 'oncogene': 1074, 'vegf': 1562, 'strategies': 1427, 'transmembrane': 1511, 'ligand': 889, 'fgf': 635, 'receptor': 1252, 'hormone': 754, 'requires': 1284, 'mitogen': 979, 'activated': 213, 'mapk': 928, 'pkc': 1153, 'raf': 1231, 'p38': 1098, 's6': 1330, 'overexpression': 1089, 'receptors': 1253, 'translocations': 1510, 'fusion': 675, 'upregulation': 1542, 'gain': 678, 'fgfr3': 639, 'drivers': 548, 'overexpressed': 1087, 'accompanied': 207, 'ccnd1': 358, 'negative': 1023, 'inhibition': 818, 'appears': 272, 'apoptosis': 269, 'small': 1393, 'molecule': 990, 'tkis': 1492, 'subtypes': 1439, 'tcga': 1467, 'microarray': 974, 'dataset': 485, 'fgfr4': 640, 'her2': 743, 'relative': 1271, 'nsclc': 1054, 'stage': 1417, 'confers': 422, 'treatment': 1513, 'xenograft': 1586, 'antisense': 266, 'exome': 606, 'erbb2': 583, 'met': 966, 'downregulation': 545, 'additional': 222, 'treated': 1512, 'kras': 867, 'mutant': 1007, 'grade': 710, 'hras': 760, '62': 156, 'lacks': 875, 'egfr': 565, 'platelet': 1157, 'pdgfr': 1126, 'gliomas': 707, 'activation': 216, 'inhibited': 816, 'xenografts': 1587, 'inhibits': 821, 'hcc': 730, 'transgenic': 1509, 'tki': 1491, '73': 169, 'pdgf': 1125, 'overlapping': 1090, '74': 170, 'regimens': 1262, '77': 173, 'ponatinib': 1168, 'mtor': 1001, '79': 175, '81': 178, 'gefitinib': 688, 'erlotinib': 590, 'cetuximab': 373, 'vemurafenib': 1564, 'v600e': 1547, '82': 179, '87': 184, 'doses': 541, 'tissues': 1488, '89': 186, 'dose': 540, '91': 188, 'flt3': 654, 'ret': 1298, 'kit': 865, 'bcr': 309, 'abl': 201, 'compounds': 415, 'ic50': 766, '500': 137, 'nm': 1037, '92': 189, '96': 193, 'real': 1246, 'time': 1486, 'harbored': 726, 'fish': 649, 'target': 1463, 'phase': 1135, 'patient': 1115, '102': 20, 'lesions': 883, 'months': 994, 'clinical': 394, 'appeared': 271, 'level': 885, 'pan': 1108, 'engineered': 576, '103': 21, '104': 22, 'cycles': 472, 'despite': 506, 'oncology': 1078, 'drug': 549, '106': 24, '107': 25, 'hotspot': 756, '108': 26, 'sensitive': 1349, '111': 29, 'oligomerization': 1072, 'rearranged': 1247, 'long': 904, 'term': 1470, 'tests': 1476, 'tumorigenesis': 1523, 'sorafenib': 1401, 'responders': 1291, 'metastases': 967, 'differentiated': 517, 'egfp': 564, 'controlled': 440, 'western': 1578, 'prolonged': 1203, 'hypothesized': 764, 'formalin': 661, 'fixed': 651, 'paraffin': 1110, 'fbs': 627, '1640': 46, 'memorial': 964, 'institute': 828, 'culture': 468, 'heat': 736, '55': 143, 'response': 1292, 'sections': 1348, 'qiagen': 1225, 'germany': 700, 'ma': 918, 'wide': 1579, 'ca': 341, '250': 89, 'ng': 1032, 'end': 575, 'sample': 1332, 'copy': 445, 'number': 1061, 'applied': 274, 'biosystems': 318, 'tert': 1474, 'minutes': 976, 'acc': 206, 'probes': 1193, 'mb': 936, 'clones': 397, 'cruz': 463, 'technology': 1469, '3t3': 118, 'females': 633, 'mice': 973, 'weeks': 1577, 'year': 1588, 'copies': 444, '1d': 62, 'ct': 465, '08': 14, '125': 36, 'mediates': 949, 'age': 229, 'ngml': 1033, 'lung': 911, 'ifn': 774, 'nd': 1021, 'pr': 1177, '140': 42, 'cm': 400, '130': 38, '84': 181, 'value': 1552, 'bc': 306, '06': 11, '04': 9, 'overexpressing': 1088, '02': 7, 'resected': 1287, 'targeted': 1464, 'follow': 657, 'mcf7': 940, 'retroviral': 1300, 'decreased': 488, 'tumorigenic': 1524, 'mcf': 938, 'tyrosine': 1531, 'wnt': 1582, '2000': 67, 'regulated': 1264, 'fibroblasts': 641, 'iiib': 779, 'modifications': 987, 'cultures': 469, 'usa': 1543, 'fcs': 630, 'kda': 858, 'nih3t3': 1035, 'resistant': 1290, 'mm': 983, 'pbs': 1118, 'uk': 1537, 'serum': 1357, 'cadherin': 342, '120': 32, 'proliferation': 1202, 'resuspended': 1297, 'ml': 980, 'extracts': 617, 'amounts': 253, 'depleted': 503, 'analysed': 256, 'µm': 1593, 'igg': 775, 'total': 1495, 'cat': 351, 'polyacrylamide': 1164, 'counted': 453, 'injected': 823, 'mgml': 971, 'stained': 1419, 'curves': 470, '83': 180, 'similar': 1376, 'acts': 220, 'anchorage': 259, 'regulation': 1267, 'lanes': 876, 'half': 724, 'transgene': 1508, 'cient': 386, '1993': 52, 'promotes': 1207, 'ed': 557, '1995': 54, '1992': 51, '1996': 55, 'gm': 709, 'hospital': 755, '1997': 56, 'regulates': 1265, 'representative': 1279, 'blots': 322, 'fractions': 665, 'subgroups': 1434, 'fewer': 634, 'ras': 1235, 'gdp': 687, 'gtp': 716, 'states': 1422, 'nras': 1051, 'rac1': 1229, 'gtpase': 717, 'cml': 401, 'breakpoint': 335, 'abl1': 202, 'imatinib': 784, 'mesylate': 965, 'eml4': 571, 'alk': 239, 'progression': 1201, 'treatments': 1514, 'ki': 862, '150': 44, 'somatic': 1400, 'adenocarcinomas': 224, 'myeloproliferative': 1015, 'rnai': 1312, 'discovery': 522, 'cdnas': 368, 'reads': 1245, 'lys': 913, 'mcf10a': 939, 'retrovirus': 1301, 'assayed': 287, 'sanger': 1334, 'colonies': 406, 'sc': 1335, 'given': 705, 'sirnas': 1380, 'sirna': 1379, 'silencing': 1375, 'shrna': 1367, 's5': 1329, 'brafv600e': 329, 'melanomas': 961, 'effectors': 560, 'tsc': 1518, '1999': 58, 'tsc1': 1519, 'tsc2': 1520, 'hamartin': 725, '1998': 57, '2006': 73, '2001': 68, 'gap': 681, '2004': 71, 'rheb': 1304, 's6k': 1331, '2002': 69, 'supp': 1446, 'summarized': 1443, 'spliced': 1409, 'epitope': 580, 'purchased': 1221, 'li': 887, 'hek': 737, '01': 6, '2009': 76, 'replaced': 1276, 'phosphate': 1137, 'μl': 1597, 'ph': 1134, 'nacl': 1018, 'bio': 315, 'sigma': 1370, 'aldrich': 236, 'sift': 1369, 'control': 439, 'nt': 1056, 'p16': 1092, 'cyclin': 473, 'cdk4': 364, 'cdk6': 365, 'cdk': 362, 'ankyrin': 263, 'rb': 1240, 'oligonucleotide': 1073, 'edta': 558, 'gst': 715, 'pairs': 1106, 'constructed': 432, 'd1': 477, '600': 154, 'cycle': 471, 'u2os': 1533, '03': 8, 'p16ink4a': 1093, 'areas': 279, 'subcellular': 1432, 'phosphorylate': 1142, 'cdkn2a': 366, 'melanoma': 960, 'phenotypes': 1136, '2003': 70, 'del': 492, 'united': 1539, 'mdm2': 943, 'g1': 677, 'prb': 1178, 'zhang': 1592, 'units': 1540, 'vol': 1572, 'vector': 1560, 'probands': 1191, 'chromosomes': 383, 'chip': 382, 'vs': 1573, 'loh': 903, 'deleterious': 494, '000': 1, 'neutral': 1027, 'uv': 1545, '93': 190, 'damaging': 480, '571': 146, 'nf': 1029, 'processing': 1197, 'dominant': 539, 'null': 1060, 'invitrogen': 840, 'synthesized': 1455, 'normal': 1041, 'earlier': 554, 'tp53': 1496, 'smokers': 1395, 'promoters': 1206, 'subjects': 1435, 'biopsies': 316, 'hotspots': 757, 'gapdh': 682, 'protocols': 1213, 'nucleotides': 1059, 'tumour': 1526, 'drugs': 550, 'atm': 291, 'acid': 209, 'domain': 537, 'l1': 869, 'beta': 312, 'subunits': 1440, 'tetramer': 1479, 'rich': 1306, 'sh3': 1362, 'r273h': 1228, 'tumours': 1527, 'determining': 509, 'egf': 563, 'autophosphorylation': 295, 'survival': 1453, 'erbb': 582, 'nucleotide': 1058, 'matched': 933, 'appendix': 273, 'l858r': 870, 'lipofectamine': 898, '00001': 2, 'diminished': 520, 'pdgfra': 1127, 'bac': 297, 'nsclcs': 1055, 'sloan': 1387, 'kettering': 860, 'science': 1339, 'bd': 310, 'tyr': 1530, 'profiling': 1200, 'dfg': 512, 'e3': 553, 'signal': 1371, 'stages': 1418, 'mek': 955, 'erk': 588, 'allosteric': 242, 'pik3ca': 1149, 'erk12': 589, 'ssr1': 1415, 'os': 1083, 'pfs': 1133, 'relapsed': 1269, 't790m': 1457, 'qpcr': 1226, 'pd': 1123, 'health': 735, 'consisted': 428, 'abi': 200, 'gc': 686, 'il': 780, 'clusters': 399, 'kaplan': 855, 'meier': 954, 'log': 902, 'rank': 1233, 'died': 515, 'rr': 1319, 'ad': 221, '133': 40, '293': 95, 'alternatively': 248, 'conformations': 424, 'baf3': 299, 'crizotinib': 460, 'lapatinib': 877, 'erbb4': 585, 'fisher': 650, 's4': 1328, 'bonds': 324, 'dimers': 519, 'si': 1368, 'experimental': 611, 'ptpn11': 1218, 'transduced': 1502, 'neratinib': 1025, 'afatinib': 225, 'inhibitor': 819, 'nci': 1020, 'etv6': 598, 'gbm': 685, 'idh1': 772, 'transcripts': 1501, 'substrate': 1437, 'illumina': 781, 'nf1': 1030, 'pik3r1': 1150, 'transcriptome': 1500, 'idh': 771, 'idh2': 773, 'cohorts': 404, 'rtk': 1321, 'ptprd': 1219, 'p85α': 1102, 'sh2': 1361, 'ish2': 845, 'rtks': 1322, 'lacked': 873, 'vhl': 1566, 'hif': 747, 'substrates': 1438, 'cre': 457, 'pvhl': 1224, 'vegfa': 1563, 'oncogenesis': 1076, 'medical': 950, 'puromycin': 1223, 'pooled': 1169, 'immunohistochemical': 788, 'nrf2': 1052, 'keap1': 859, 'cul3': 467, 'ros': 1316, 'a549': 197, 'mefs': 953, 'hd': 733, 'mek12': 957, 'ag': 227, '300': 103, 'npm1': 1049, 'slides': 1386, 'κb': 1594, 'new': 1028, 'ovarian': 1085, 'ir': 844, 'pi': 1147, 'ser': 1356, 'jnk': 852, 'cll': 395, '2014': 81, '2015': 82, 'parp': 1112, 'notch1': 1045, '286': 93, '1e': 63, 'doi': 536, 'cd8': 361, 'sp': 1404, 'notch': 1044, 'mgkg': 970, 'dmso': 532, 'es': 593, 'brca': 330, 'downloaded': 544, 'hela': 740, 'manufacturer': 923, 'cytokine': 474, 'md': 942, 'ar': 277, 'agilent': 231, 'ip': 843, 'rbd': 1241, 'pp2a': 1176, '1α': 64, 'eluted': 568, 'src': 1412, 'jun': 853, 'created': 458, 'noonan': 1040, 'raf1': 1232, 'mek1': 956, 'mek2': 958, 'shp': 1365, 'neurofibromin': 1026, 'cfc': 374, 'hek293': 738, 'araf': 278, 'blood': 321, '2017': 83, 'yes': 1590, 'cisplatin': 388, 'vuss': 1575, 'defi': 490, 'classifi': 390, 'exonic': 608, 'rmce': 1310, 'onlinefirst': 1080, '00': 0, 'mcherry': 941, 'fl': 652, '53bp1': 141, 'apc': 268, 'smad4': 1391, 'children': 381, 'leukaemia': 884, 'hct116': 732, 'juxtamembrane': 854, 'chains': 375, 'p53s': 1100, 'bcl': 307, 'rnase': 1313, 'μmoll': 1599, 'h1047r': 720, 'arg': 280, '5p': 152, 'slide': 1385, 'h3': 722, 'ec': 556, 'embryos': 570, 'smad': 1388, 'seq': 1351, 'mycn': 1014, 'ets': 596, 'mll': 982, 'regulators': 1268, 'ctnnb1': 466, 'catenin': 353, 'supplemental': 1447, 'hh': 746, 'smo': 1394, 'jm': 851, 'gists': 704, 'gist': 703, 'itd': 848, 'cic': 385, 'tet2': 1478, 'aml': 251, 'inducing': 813, 'cd': 359, 'ercc2': 586, 'resistance': 1289, 'pf': 1132, 'pdgfrb': 1128, 'nilotinib': 1036, 'dasatinib': 481, 'jak2': 850, 'pkc412': 1154, 'kmt2d': 866, 'e2': 552, 'erα': 592, 'promoted': 1205, 'dlbcl': 530, 'bm': 323, 'erbb3': 584, 'akt2': 234, 'ezh2': 618, 'tgf': 1480, 'tgfbr2': 1482, 'map2k1': 927, 'allele': 240, 'ssa': 1414, 'hematologic': 742, 'craf': 455, 'map': 926, 'web': 1576, 'nmoll': 1038, 'pca': 1120, 'd842v': 479, 'stat3': 1420, 'stat5': 1421, 'h1299': 721, 'card11': 347, 'bcl10': 308, 'caspase': 350, 'pc': 1119, 'rbm10': 1242, 'fa': 619, 'tuberin': 1521, 'scf': 1337, '06463922': 12, 'ros1': 1317, 'mir': 977, 'foxl2': 664, 'sox9': 1403, 'smad2': 1389, 'smad3': 1390, 'v617f': 1548, 'gata': 683, 'fbxw7': 629, 'mc': 937, 'acral': 211, 'bap1': 301, 'nr': 1050, 'pole': 1163, 'shp2': 1366, 'sk': 1384, 'mel': 959, 'wtb': 1585, 'e17k': 551, 'sf3b1': 1359, 'u2af1': 1532, 'etv1': 597, 'mef2b': 952, 'hgf': 745, 'cbl': 357, 'dod': 535, 'androgen': 261, 'p300': 1097, 'rasgap': 1237, 'p85': 1101, 'tmprss2': 1493, 'lncap': 899, 'psa': 1215, 'erg': 587, 'crenolanib': 459, 'clin': 393, 'v654a': 1549, 'tgfβ': 1483, 'brd4': 334, 'mtorc1': 1002, 'mtorc2': 1003, 'rictor': 1307, 'rhoa': 1305, 'nf2': 1031, 'runx1': 1323, 'krasg12d': 868, 'smads': 1392, 'rasg12d': 1236, 'csf': 464, 'tgfbr1': 1481, 'mh2': 972, 'snu': 1398, 'hnscc': 751, 'npm': 1048, '32d': 106, 'ubiquitylation': 1536, 'mds': 944, 'fbw7': 628, 'sunitinib': 1445, 'ddr2': 487, '3β': 119, 'v7': 1550, 'vismodegib': 1568, 'd816v': 478, 'mastocytosis': 932, 'cd117': 360, '2hg': 101, 'aml1': 252, 'b2m': 296, 'fat1': 626, 'p190': 1095, 'gsk': 714, 'gata3': 684, 'hla': 750, 'v560d': 1546, 'nut': 1063, 'scp': 1341, 'ruxolitinib': 1324, 'fedratinib': 632, 'elf3': 567, 'btb': 338, 'fanca': 625, 'math': 935, 'spop': 1410, 'pipkiiβ': 1152, 'crpc': 462, 'vcap': 1559, 'dht': 513, 'tkd': 1490, 'foxa1': 663, 'cdk12': 363, 'tet1': 1477, 'lats1': 880, 'sf3b1mut': 1360, 'arv567es': 283, 'p16δ1': 1094}\n"
     ]
    }
   ],
   "source": [
    "print(\"Vocabulary: \", bow_vectorizer.vocabulary_)"
   ]
  },
  {
   "cell_type": "code",
   "execution_count": 60,
   "metadata": {},
   "outputs": [
    {
     "data": {
      "text/plain": [
       "(926, 1600)"
      ]
     },
     "execution_count": 60,
     "metadata": {},
     "output_type": "execute_result"
    }
   ],
   "source": [
    "train_df_counts.shape"
   ]
  },
  {
   "cell_type": "code",
   "execution_count": 61,
   "metadata": {},
   "outputs": [
    {
     "data": {
      "text/plain": [
       "<926x1600 sparse matrix of type '<class 'numpy.int64'>'\n",
       "\twith 398761 stored elements in Compressed Sparse Row format>"
      ]
     },
     "execution_count": 61,
     "metadata": {},
     "output_type": "execute_result"
    }
   ],
   "source": [
    "train_df_counts"
   ]
  },
  {
   "cell_type": "code",
   "execution_count": 62,
   "metadata": {},
   "outputs": [],
   "source": [
    "X_train_bow = train_df_counts.todense()"
   ]
  },
  {
   "cell_type": "code",
   "execution_count": 63,
   "metadata": {},
   "outputs": [
    {
     "data": {
      "text/plain": [
       "(926, 1600)"
      ]
     },
     "execution_count": 63,
     "metadata": {},
     "output_type": "execute_result"
    }
   ],
   "source": [
    "X_train_bow.shape"
   ]
  },
  {
   "cell_type": "code",
   "execution_count": 64,
   "metadata": {},
   "outputs": [
    {
     "data": {
      "text/plain": [
       "matrix([[0, 0, 0, ..., 0, 3, 0],\n",
       "        [0, 0, 0, ..., 0, 0, 0],\n",
       "        [0, 0, 0, ..., 0, 0, 0],\n",
       "        ...,\n",
       "        [1, 0, 4, ..., 4, 0, 3],\n",
       "        [0, 0, 0, ..., 0, 0, 0],\n",
       "        [0, 0, 2, ..., 0, 0, 0]], dtype=int64)"
      ]
     },
     "execution_count": 64,
     "metadata": {},
     "output_type": "execute_result"
    }
   ],
   "source": [
    "X_train_bow"
   ]
  },
  {
   "cell_type": "markdown",
   "metadata": {},
   "source": [
    "#### tfidf transformation"
   ]
  },
  {
   "cell_type": "code",
   "execution_count": 65,
   "metadata": {},
   "outputs": [
    {
     "data": {
      "text/plain": [
       "TfidfVectorizer(max_features=1600, ngram_range=(1, 3), stop_words='english',\n",
       "                strip_accents='unicode', sublinear_tf=True,\n",
       "                token_pattern='\\\\w+')"
      ]
     },
     "execution_count": 65,
     "metadata": {},
     "output_type": "execute_result"
    }
   ],
   "source": [
    "tfidf_vectorizer.fit(train_df_corpus)"
   ]
  },
  {
   "cell_type": "code",
   "execution_count": 66,
   "metadata": {},
   "outputs": [],
   "source": [
    "X_train_tfidf = tfidf_vectorizer.transform(train_df_corpus)\n",
    "X_train_tfidf = X_train_tfidf.toarray()"
   ]
  },
  {
   "cell_type": "code",
   "execution_count": 67,
   "metadata": {},
   "outputs": [
    {
     "data": {
      "text/plain": [
       "(926, 1600)"
      ]
     },
     "execution_count": 67,
     "metadata": {},
     "output_type": "execute_result"
    }
   ],
   "source": [
    "X_train_tfidf.shape"
   ]
  },
  {
   "cell_type": "code",
   "execution_count": 68,
   "metadata": {},
   "outputs": [
    {
     "data": {
      "text/plain": [
       "array([[0.01705754, 0.        , 0.        , ..., 0.        , 0.        ,\n",
       "        0.03895079],\n",
       "       [0.02560167, 0.        , 0.        , ..., 0.04577993, 0.        ,\n",
       "        0.        ],\n",
       "       [0.        , 0.        , 0.        , ..., 0.        , 0.        ,\n",
       "        0.        ],\n",
       "       ...,\n",
       "       [0.048109  , 0.        , 0.02546037, ..., 0.02739423, 0.03837583,\n",
       "        0.        ],\n",
       "       [0.        , 0.        , 0.        , ..., 0.        , 0.        ,\n",
       "        0.        ],\n",
       "       [0.04920118, 0.        , 0.        , ..., 0.        , 0.        ,\n",
       "        0.        ]])"
      ]
     },
     "execution_count": 68,
     "metadata": {},
     "output_type": "execute_result"
    }
   ],
   "source": [
    "X_train_tfidf"
   ]
  },
  {
   "cell_type": "markdown",
   "metadata": {},
   "source": [
    "### <font color='green'>creating baseline metrics using hard coded predicted values</font>"
   ]
  },
  {
   "cell_type": "code",
   "execution_count": 69,
   "metadata": {},
   "outputs": [],
   "source": [
    "from numpy import random"
   ]
  },
  {
   "cell_type": "code",
   "execution_count": 70,
   "metadata": {},
   "outputs": [],
   "source": [
    "# create a dummy y value for getting the baseline accuracy\n",
    "y_dummy_1 = random.rand(926,9)"
   ]
  },
  {
   "cell_type": "code",
   "execution_count": 71,
   "metadata": {},
   "outputs": [],
   "source": [
    "#y_dummy"
   ]
  },
  {
   "cell_type": "code",
   "execution_count": 72,
   "metadata": {},
   "outputs": [
    {
     "data": {
      "text/plain": [
       "1328    6\n",
       "2541    5\n",
       "2233    4\n",
       "2803    5\n",
       "1335    6\n",
       "Name: Class, dtype: int64"
      ]
     },
     "execution_count": 72,
     "metadata": {},
     "output_type": "execute_result"
    }
   ],
   "source": [
    "y_train.head()"
   ]
  },
  {
   "cell_type": "code",
   "execution_count": 73,
   "metadata": {},
   "outputs": [
    {
     "data": {
      "text/plain": [
       "array([0.90506633, 0.85332389, 0.58023659, 0.57692303, 0.83038856,\n",
       "       0.60650921, 0.81552349, 0.06037656, 0.14534845])"
      ]
     },
     "execution_count": 73,
     "metadata": {},
     "output_type": "execute_result"
    }
   ],
   "source": [
    "y_dummy_1[0,:]"
   ]
  },
  {
   "cell_type": "code",
   "execution_count": 74,
   "metadata": {},
   "outputs": [
    {
     "data": {
      "text/plain": [
       "2.482819771210202"
      ]
     },
     "execution_count": 74,
     "metadata": {},
     "output_type": "execute_result"
    }
   ],
   "source": [
    "# baseline loss metric value, random y values\n",
    "log_loss(y_train,y_dummy_1)"
   ]
  },
  {
   "cell_type": "code",
   "execution_count": 75,
   "metadata": {},
   "outputs": [],
   "source": [
    "y_dummy_2=np.zeros((926,9),dtype='float')"
   ]
  },
  {
   "cell_type": "code",
   "execution_count": 76,
   "metadata": {},
   "outputs": [
    {
     "data": {
      "text/plain": [
       "array([0., 0., 0., 0., 0., 0., 0., 0., 0.])"
      ]
     },
     "execution_count": 76,
     "metadata": {},
     "output_type": "execute_result"
    }
   ],
   "source": [
    "y_dummy_2[0,:]"
   ]
  },
  {
   "cell_type": "code",
   "execution_count": 77,
   "metadata": {},
   "outputs": [
    {
     "data": {
      "text/plain": [
       "2.197224577336219"
      ]
     },
     "execution_count": 77,
     "metadata": {},
     "output_type": "execute_result"
    }
   ],
   "source": [
    "# baseline loss metric value, all probabilites for y set to zero\n",
    "log_loss(y_train,y_dummy_2)"
   ]
  },
  {
   "cell_type": "code",
   "execution_count": 78,
   "metadata": {},
   "outputs": [],
   "source": [
    "# baseline loss metric value, all probabilites for y set to 0.4\n",
    "y_dummy_3=np.full((926,9),0.4,dtype='float')"
   ]
  },
  {
   "cell_type": "code",
   "execution_count": 79,
   "metadata": {},
   "outputs": [
    {
     "data": {
      "text/plain": [
       "array([0.4, 0.4, 0.4, 0.4, 0.4, 0.4, 0.4, 0.4, 0.4])"
      ]
     },
     "execution_count": 79,
     "metadata": {},
     "output_type": "execute_result"
    }
   ],
   "source": [
    "y_dummy_3[0,:]"
   ]
  },
  {
   "cell_type": "code",
   "execution_count": 80,
   "metadata": {},
   "outputs": [
    {
     "data": {
      "text/plain": [
       "2.1972245773362187"
      ]
     },
     "execution_count": 80,
     "metadata": {},
     "output_type": "execute_result"
    }
   ],
   "source": [
    "log_loss(y_train,y_dummy_3)"
   ]
  },
  {
   "cell_type": "code",
   "execution_count": 81,
   "metadata": {},
   "outputs": [],
   "source": [
    "y_dummy_4=np.zeros((926,9),dtype='float')"
   ]
  },
  {
   "cell_type": "code",
   "execution_count": 82,
   "metadata": {},
   "outputs": [],
   "source": [
    "y_dummy_4[:,0]=1.0"
   ]
  },
  {
   "cell_type": "code",
   "execution_count": 83,
   "metadata": {},
   "outputs": [
    {
     "data": {
      "text/plain": [
       "array([1., 0., 0., 0., 0., 0., 0., 0., 0.])"
      ]
     },
     "execution_count": 83,
     "metadata": {},
     "output_type": "execute_result"
    }
   ],
   "source": [
    "y_dummy_4[0,:]"
   ]
  },
  {
   "cell_type": "code",
   "execution_count": 84,
   "metadata": {},
   "outputs": [
    {
     "data": {
      "text/plain": [
       "28.645551048910818"
      ]
     },
     "execution_count": 84,
     "metadata": {},
     "output_type": "execute_result"
    }
   ],
   "source": [
    "# baseline loss metric value,probability at index 1 set to 1.0 for all y\n",
    "log_loss(y_train,y_dummy_4) "
   ]
  },
  {
   "cell_type": "code",
   "execution_count": 85,
   "metadata": {},
   "outputs": [],
   "source": [
    "# baseline loss metric value,probability at random indices set to 1.0 for all y\n",
    "y_dummy_5=np.zeros((926,9),dtype='float')\n",
    "count=0\n",
    "for x in X_train_bow:\n",
    "    new_y_val=np.random.randint(0,9)\n",
    "    y_dummy_5[count,new_y_val]=1.    \n",
    "    count=count+1  "
   ]
  },
  {
   "cell_type": "code",
   "execution_count": 86,
   "metadata": {},
   "outputs": [
    {
     "data": {
      "text/plain": [
       "array([0., 0., 0., 0., 0., 0., 1., 0., 0.])"
      ]
     },
     "execution_count": 86,
     "metadata": {},
     "output_type": "execute_result"
    }
   ],
   "source": [
    "y_dummy_5[0,:]"
   ]
  },
  {
   "cell_type": "code",
   "execution_count": 87,
   "metadata": {},
   "outputs": [
    {
     "data": {
      "text/plain": [
       "30.585093567847487"
      ]
     },
     "execution_count": 87,
     "metadata": {},
     "output_type": "execute_result"
    }
   ],
   "source": [
    "log_loss(y_train,y_dummy_5)"
   ]
  },
  {
   "cell_type": "code",
   "execution_count": 88,
   "metadata": {},
   "outputs": [],
   "source": [
    "# baseline loss metric value,probability at random indices set to 1.0 for all y\n",
    "def get_dummy(train_df):\n",
    "    y_dummy_5=np.zeros((926,9),dtype='float') # creating the probability matrix for y values\n",
    "    count=0\n",
    "    for x in train_df:                        # iterating through the training dataset\n",
    "        new_y_val=np.random.randint(0,9)      # creating random values for substituting index values\n",
    "        y_dummy_5[count,new_y_val]=1.         # setting the random index value as 1.0\n",
    "        count=count+1  \n",
    "    return y_dummy_5    "
   ]
  },
  {
   "cell_type": "code",
   "execution_count": 89,
   "metadata": {},
   "outputs": [],
   "source": [
    "def simulate_dummy(train_df,y_train):    \n",
    "    for i in range(10):\n",
    "        y_dummy=get_dummy(train_df)\n",
    "        print(log_loss(y_train,y_dummy))"
   ]
  },
  {
   "cell_type": "code",
   "execution_count": 90,
   "metadata": {},
   "outputs": [
    {
     "name": "stdout",
     "output_type": "stream",
     "text": [
      "2.4044082558762954\n",
      "2.4044082558762954\n",
      "2.4417071504712315\n",
      "2.4044082558762954\n",
      "2.3671093612813596\n",
      "2.4044082558762954\n",
      "2.3671093612813596\n",
      "2.4044082558762954\n",
      "2.4044082558762954\n",
      "2.3671093612813596\n"
     ]
    }
   ],
   "source": [
    "simulate_dummy(train_df,y_train)"
   ]
  },
  {
   "cell_type": "code",
   "execution_count": 91,
   "metadata": {},
   "outputs": [
    {
     "data": {
      "text/html": [
       "<div>\n",
       "<style scoped>\n",
       "    .dataframe tbody tr th:only-of-type {\n",
       "        vertical-align: middle;\n",
       "    }\n",
       "\n",
       "    .dataframe tbody tr th {\n",
       "        vertical-align: top;\n",
       "    }\n",
       "\n",
       "    .dataframe thead th {\n",
       "        text-align: right;\n",
       "    }\n",
       "</style>\n",
       "<table border=\"1\" class=\"dataframe\">\n",
       "  <thead>\n",
       "    <tr style=\"text-align: right;\">\n",
       "      <th></th>\n",
       "      <th>substitutions</th>\n",
       "      <th>log_loss</th>\n",
       "    </tr>\n",
       "  </thead>\n",
       "  <tbody>\n",
       "    <tr>\n",
       "      <th>0</th>\n",
       "      <td>random</td>\n",
       "      <td>2.49</td>\n",
       "    </tr>\n",
       "    <tr>\n",
       "      <th>1</th>\n",
       "      <td>all zero</td>\n",
       "      <td>2.19</td>\n",
       "    </tr>\n",
       "    <tr>\n",
       "      <th>2</th>\n",
       "      <td>all 0.4</td>\n",
       "      <td>2.19</td>\n",
       "    </tr>\n",
       "    <tr>\n",
       "      <th>3</th>\n",
       "      <td>index 1</td>\n",
       "      <td>28.59</td>\n",
       "    </tr>\n",
       "    <tr>\n",
       "      <th>4</th>\n",
       "      <td>random index</td>\n",
       "      <td>2.40</td>\n",
       "    </tr>\n",
       "  </tbody>\n",
       "</table>\n",
       "</div>"
      ],
      "text/plain": [
       "  substitutions  log_loss\n",
       "0        random      2.49\n",
       "1      all zero      2.19\n",
       "2       all 0.4      2.19\n",
       "3       index 1     28.59\n",
       "4  random index      2.40"
      ]
     },
     "execution_count": 91,
     "metadata": {},
     "output_type": "execute_result"
    }
   ],
   "source": [
    "pd.DataFrame({\"substitutions\":[\"random\",\"all zero\",\"all 0.4\",\"index 1\",\"random index\"],\"log_loss\":[2.49,2.19,2.19,28.59,2.4]})"
   ]
  },
  {
   "cell_type": "markdown",
   "metadata": {},
   "source": [
    "### <font style=\"font-size:18px;font-family:arial;color:green;text-indent:100px;line-height:0.8;word-spacing:10px\">Thus the lowermost limit for log loss score for an inaccurate model returns a value of 2.4 and hence our models should return better scores</font> "
   ]
  },
  {
   "cell_type": "markdown",
   "metadata": {},
   "source": [
    "### <font color='blue'>Logistic Regression Model</font>"
   ]
  },
  {
   "cell_type": "code",
   "execution_count": 92,
   "metadata": {},
   "outputs": [],
   "source": [
    "from sklearn.metrics import accuracy_score"
   ]
  },
  {
   "cell_type": "markdown",
   "metadata": {},
   "source": [
    "#### <font color='blue'>Logistic Regression with bag of words transformation</font>"
   ]
  },
  {
   "cell_type": "code",
   "execution_count": 93,
   "metadata": {},
   "outputs": [
    {
     "data": {
      "text/plain": [
       "LogisticRegression(multi_class='multinomial')"
      ]
     },
     "execution_count": 93,
     "metadata": {},
     "output_type": "execute_result"
    }
   ],
   "source": [
    "bow_model.fit(X_train_bow,y_train)"
   ]
  },
  {
   "cell_type": "code",
   "execution_count": 94,
   "metadata": {},
   "outputs": [
    {
     "data": {
      "text/plain": [
       "[-0.237574522157587,\n",
       " -0.221981072409503,\n",
       " -0.22141574036211162,\n",
       " -0.2195329708517843,\n",
       " -0.19518291441409108]"
      ]
     },
     "execution_count": 94,
     "metadata": {},
     "output_type": "execute_result"
    }
   ],
   "source": [
    "sorted(bow_model.coef_.tolist()[0])[:5]"
   ]
  },
  {
   "cell_type": "code",
   "execution_count": 95,
   "metadata": {},
   "outputs": [
    {
     "data": {
      "text/plain": [
       "array([1, 2, 3, 4, 5, 6, 7, 8, 9], dtype=int64)"
      ]
     },
     "execution_count": 95,
     "metadata": {},
     "output_type": "execute_result"
    }
   ],
   "source": [
    "bow_model.classes_"
   ]
  },
  {
   "cell_type": "code",
   "execution_count": 96,
   "metadata": {},
   "outputs": [
    {
     "data": {
      "text/plain": [
       "1600"
      ]
     },
     "execution_count": 96,
     "metadata": {},
     "output_type": "execute_result"
    }
   ],
   "source": [
    "bow_model.n_features_in_"
   ]
  },
  {
   "cell_type": "code",
   "execution_count": 97,
   "metadata": {},
   "outputs": [
    {
     "data": {
      "text/plain": [
       "array([ 0.00772794,  0.00649352, -0.01489289,  0.01349672, -0.00486104,\n",
       "        0.00314227,  0.02023687, -0.01376406, -0.01757934])"
      ]
     },
     "execution_count": 97,
     "metadata": {},
     "output_type": "execute_result"
    }
   ],
   "source": [
    "bow_model.intercept_"
   ]
  },
  {
   "cell_type": "code",
   "execution_count": null,
   "metadata": {},
   "outputs": [],
   "source": []
  },
  {
   "cell_type": "code",
   "execution_count": 98,
   "metadata": {},
   "outputs": [],
   "source": [
    "y_pred_train_bow = bow_model.predict_proba(X_train_bow)"
   ]
  },
  {
   "cell_type": "code",
   "execution_count": 99,
   "metadata": {},
   "outputs": [],
   "source": [
    "y_pred_train_bow2=bow_model.predict(X_train_bow)"
   ]
  },
  {
   "cell_type": "markdown",
   "metadata": {},
   "source": [
    "#### <font color='purple'>scoring the prediction using multiple scoring metrics</font>"
   ]
  },
  {
   "cell_type": "code",
   "execution_count": 100,
   "metadata": {},
   "outputs": [
    {
     "data": {
      "text/plain": [
       "0.15673110465607953"
      ]
     },
     "execution_count": 100,
     "metadata": {},
     "output_type": "execute_result"
    }
   ],
   "source": [
    "log_loss(y_train,y_pred_train_bow)"
   ]
  },
  {
   "cell_type": "code",
   "execution_count": 101,
   "metadata": {},
   "outputs": [],
   "source": [
    "from sklearn.metrics import classification_report"
   ]
  },
  {
   "cell_type": "code",
   "execution_count": 102,
   "metadata": {},
   "outputs": [],
   "source": [
    "target_names=['class 1','class 2','class 3','class 4','class 5','class 6','class 7','class 8','class 9']"
   ]
  },
  {
   "cell_type": "code",
   "execution_count": 103,
   "metadata": {},
   "outputs": [
    {
     "name": "stdout",
     "output_type": "stream",
     "text": [
      "              precision    recall  f1-score   support\n",
      "\n",
      "     class 1       0.93      0.91      0.92       158\n",
      "     class 2       0.93      0.95      0.94       127\n",
      "     class 3       0.70      0.76      0.73        25\n",
      "     class 4       0.93      0.93      0.93       199\n",
      "     class 5       0.74      0.76      0.75        63\n",
      "     class 6       0.89      0.91      0.90        70\n",
      "     class 7       0.97      0.95      0.96       267\n",
      "     class 8       1.00      1.00      1.00         5\n",
      "     class 9       1.00      1.00      1.00        12\n",
      "\n",
      "    accuracy                           0.92       926\n",
      "   macro avg       0.90      0.91      0.90       926\n",
      "weighted avg       0.92      0.92      0.92       926\n",
      "\n"
     ]
    }
   ],
   "source": [
    "print(classification_report(y_train, y_pred_train_bow2, target_names=target_names))"
   ]
  },
  {
   "cell_type": "code",
   "execution_count": 104,
   "metadata": {},
   "outputs": [],
   "source": [
    "from sklearn.metrics import plot_confusion_matrix"
   ]
  },
  {
   "cell_type": "code",
   "execution_count": 105,
   "metadata": {},
   "outputs": [
    {
     "data": {
      "text/plain": [
       "<sklearn.metrics._plot.confusion_matrix.ConfusionMatrixDisplay at 0x2291201bc08>"
      ]
     },
     "execution_count": 105,
     "metadata": {},
     "output_type": "execute_result"
    },
    {
     "data": {
      "image/png": "[encoded data removed]",
      "text/plain": [
       "<Figure size 432x288 with 2 Axes>"
      ]
     },
     "metadata": {
      "needs_background": "light"
     },
     "output_type": "display_data"
    }
   ],
   "source": [
    "plot_confusion_matrix(bow_model, X_train_bow, y_train)"
   ]
  },
  {
   "cell_type": "markdown",
   "metadata": {},
   "source": [
    "#### <font color='blue'>Logistic Regression with tfidf transformation</font>"
   ]
  },
  {
   "cell_type": "code",
   "execution_count": 106,
   "metadata": {},
   "outputs": [
    {
     "data": {
      "text/plain": [
       "LogisticRegression(multi_class='multinomial')"
      ]
     },
     "execution_count": 106,
     "metadata": {},
     "output_type": "execute_result"
    }
   ],
   "source": [
    "tfidf_model.fit(X_train_tfidf,y_train)"
   ]
  },
  {
   "cell_type": "code",
   "execution_count": 107,
   "metadata": {},
   "outputs": [
    {
     "data": {
      "text/plain": [
       "[-0.6879273040386608,\n",
       " -0.6222571563693056,\n",
       " -0.5647364296624248,\n",
       " -0.5601150283259696,\n",
       " -0.5544685009647802]"
      ]
     },
     "execution_count": 107,
     "metadata": {},
     "output_type": "execute_result"
    }
   ],
   "source": [
    "sorted(tfidf_model.coef_.tolist()[0])[:5]"
   ]
  },
  {
   "cell_type": "code",
   "execution_count": 108,
   "metadata": {},
   "outputs": [
    {
     "data": {
      "text/plain": [
       "array([1, 2, 3, 4, 5, 6, 7, 8, 9], dtype=int64)"
      ]
     },
     "execution_count": 108,
     "metadata": {},
     "output_type": "execute_result"
    }
   ],
   "source": [
    "tfidf_model.classes_"
   ]
  },
  {
   "cell_type": "code",
   "execution_count": 109,
   "metadata": {},
   "outputs": [
    {
     "data": {
      "text/plain": [
       "1600"
      ]
     },
     "execution_count": 109,
     "metadata": {},
     "output_type": "execute_result"
    }
   ],
   "source": [
    "tfidf_model.n_features_in_"
   ]
  },
  {
   "cell_type": "code",
   "execution_count": 110,
   "metadata": {},
   "outputs": [
    {
     "data": {
      "text/plain": [
       "array([ 0.74655489,  0.87610182, -0.46358865,  1.33698544,  0.37966593,\n",
       "        0.22233406,  0.89769833, -2.3118978 , -1.68385404])"
      ]
     },
     "execution_count": 110,
     "metadata": {},
     "output_type": "execute_result"
    }
   ],
   "source": [
    "tfidf_model.intercept_"
   ]
  },
  {
   "cell_type": "code",
   "execution_count": 111,
   "metadata": {},
   "outputs": [],
   "source": [
    "y_pred_train_tfidf = tfidf_model.predict_proba(X_train_tfidf)"
   ]
  },
  {
   "cell_type": "code",
   "execution_count": 112,
   "metadata": {},
   "outputs": [],
   "source": [
    "y_pred_train_tfidf2 = tfidf_model.predict(X_train_tfidf)"
   ]
  },
  {
   "cell_type": "markdown",
   "metadata": {},
   "source": [
    "#### <font color='purple'>scoring the prediction using multiple scoring metrics</font>"
   ]
  },
  {
   "cell_type": "code",
   "execution_count": 113,
   "metadata": {},
   "outputs": [
    {
     "data": {
      "text/plain": [
       "1.0137375788805125"
      ]
     },
     "execution_count": 113,
     "metadata": {},
     "output_type": "execute_result"
    }
   ],
   "source": [
    "log_loss(y_train,y_pred_train_tfidf)"
   ]
  },
  {
   "cell_type": "code",
   "execution_count": 114,
   "metadata": {},
   "outputs": [
    {
     "name": "stdout",
     "output_type": "stream",
     "text": [
      "              precision    recall  f1-score   support\n",
      "\n",
      "     class 1       0.75      0.78      0.77       158\n",
      "     class 2       0.93      0.43      0.58       127\n",
      "     class 3       0.00      0.00      0.00        25\n",
      "     class 4       0.72      0.77      0.74       199\n",
      "     class 5       0.60      0.44      0.51        63\n",
      "     class 6       0.89      0.60      0.72        70\n",
      "     class 7       0.66      0.98      0.79       267\n",
      "     class 8       0.00      0.00      0.00         5\n",
      "     class 9       1.00      0.08      0.15        12\n",
      "\n",
      "    accuracy                           0.72       926\n",
      "   macro avg       0.62      0.45      0.47       926\n",
      "weighted avg       0.72      0.72      0.69       926\n",
      "\n"
     ]
    }
   ],
   "source": [
    "print(classification_report(y_train, y_pred_train_tfidf2, target_names=target_names))"
   ]
  },
  {
   "cell_type": "code",
   "execution_count": 140,
   "metadata": {},
   "outputs": [
    {
     "data": {
      "text/plain": [
       "<sklearn.metrics._plot.confusion_matrix.ConfusionMatrixDisplay at 0x2297cdf8d88>"
      ]
     },
     "execution_count": 140,
     "metadata": {},
     "output_type": "execute_result"
    },
    {
     "data": {
      "image/png": "[encoded data removed]",
      "text/plain": [
       "<Figure size 432x288 with 2 Axes>"
      ]
     },
     "metadata": {
      "needs_background": "light"
     },
     "output_type": "display_data"
    }
   ],
   "source": [
    "plot_confusion_matrix(tfidf_model, X_train_bow, y_train)"
   ]
  },
  {
   "cell_type": "markdown",
   "metadata": {},
   "source": [
    "### <font color='blue'> Multinomial Naive Bayes Model<font>"
   ]
  },
  {
   "cell_type": "code",
   "execution_count": 142,
   "metadata": {},
   "outputs": [],
   "source": [
    "from sklearn.naive_bayes import MultinomialNB"
   ]
  },
  {
   "cell_type": "markdown",
   "metadata": {},
   "source": [
    "#### <font color='purple'>bag of words transformation</font>"
   ]
  },
  {
   "cell_type": "code",
   "execution_count": 145,
   "metadata": {},
   "outputs": [],
   "source": [
    "NB_clf=MultinomialNB()"
   ]
  },
  {
   "cell_type": "code",
   "execution_count": 146,
   "metadata": {},
   "outputs": [
    {
     "data": {
      "text/plain": [
       "MultinomialNB()"
      ]
     },
     "execution_count": 146,
     "metadata": {},
     "output_type": "execute_result"
    }
   ],
   "source": [
    "NB_clf.fit(X_train_bow,y_train)"
   ]
  },
  {
   "cell_type": "code",
   "execution_count": 150,
   "metadata": {},
   "outputs": [
    {
     "data": {
      "text/plain": [
       "array([158., 127.,  25., 199.,  63.,  70., 267.,   5.,  12.])"
      ]
     },
     "execution_count": 150,
     "metadata": {},
     "output_type": "execute_result"
    }
   ],
   "source": [
    "NB_clf.class_count_"
   ]
  },
  {
   "cell_type": "code",
   "execution_count": 154,
   "metadata": {},
   "outputs": [],
   "source": [
    "y_pred_train_NB=NB_clf.predict_proba(X_train_bow)"
   ]
  },
  {
   "cell_type": "code",
   "execution_count": 155,
   "metadata": {},
   "outputs": [],
   "source": [
    "y_pred_train_NB2=NB_clf.predict(X_train_bow)"
   ]
  },
  {
   "cell_type": "markdown",
   "metadata": {},
   "source": [
    "#### <font color='purple'>scoring the prediction using multiple scoring metrics</font>"
   ]
  },
  {
   "cell_type": "code",
   "execution_count": 156,
   "metadata": {},
   "outputs": [
    {
     "data": {
      "text/plain": [
       "13.185579785930384"
      ]
     },
     "execution_count": 156,
     "metadata": {},
     "output_type": "execute_result"
    }
   ],
   "source": [
    "log_loss(y_train,y_pred_train_NB)"
   ]
  },
  {
   "cell_type": "code",
   "execution_count": 157,
   "metadata": {},
   "outputs": [
    {
     "name": "stdout",
     "output_type": "stream",
     "text": [
      "              precision    recall  f1-score   support\n",
      "\n",
      "     class 1       0.60      0.80      0.68       158\n",
      "     class 2       0.48      0.69      0.56       127\n",
      "     class 3       0.29      0.80      0.42        25\n",
      "     class 4       0.74      0.41      0.53       199\n",
      "     class 5       0.48      0.52      0.50        63\n",
      "     class 6       0.71      0.67      0.69        70\n",
      "     class 7       0.75      0.49      0.60       267\n",
      "     class 8       0.19      1.00      0.32         5\n",
      "     class 9       0.79      0.92      0.85        12\n",
      "\n",
      "    accuracy                           0.59       926\n",
      "   macro avg       0.56      0.70      0.57       926\n",
      "weighted avg       0.65      0.59      0.59       926\n",
      "\n"
     ]
    }
   ],
   "source": [
    "print(classification_report(y_train, y_pred_train_NB2, target_names=target_names))"
   ]
  },
  {
   "cell_type": "code",
   "execution_count": 158,
   "metadata": {},
   "outputs": [
    {
     "data": {
      "text/plain": [
       "<sklearn.metrics._plot.confusion_matrix.ConfusionMatrixDisplay at 0x22905f54188>"
      ]
     },
     "execution_count": 158,
     "metadata": {},
     "output_type": "execute_result"
    },
    {
     "data": {
      "image/png": "[encoded data removed]",
      "text/plain": [
       "<Figure size 432x288 with 2 Axes>"
      ]
     },
     "metadata": {
      "needs_background": "light"
     },
     "output_type": "display_data"
    }
   ],
   "source": [
    "plot_confusion_matrix(NB_clf, X_train_bow, y_train)"
   ]
  },
  {
   "cell_type": "code",
   "execution_count": null,
   "metadata": {},
   "outputs": [],
   "source": []
  },
  {
   "cell_type": "markdown",
   "metadata": {},
   "source": [
    "### Validation dataset"
   ]
  },
  {
   "cell_type": "code",
   "execution_count": 116,
   "metadata": {},
   "outputs": [
    {
     "data": {
      "text/plain": [
       "((398, 4), (398,))"
      ]
     },
     "execution_count": 116,
     "metadata": {},
     "output_type": "execute_result"
    }
   ],
   "source": [
    "validation_df.shape,y_validation.shape"
   ]
  },
  {
   "cell_type": "code",
   "execution_count": 117,
   "metadata": {},
   "outputs": [
    {
     "data": {
      "text/html": [
       "<div>\n",
       "<style scoped>\n",
       "    .dataframe tbody tr th:only-of-type {\n",
       "        vertical-align: middle;\n",
       "    }\n",
       "\n",
       "    .dataframe tbody tr th {\n",
       "        vertical-align: top;\n",
       "    }\n",
       "\n",
       "    .dataframe thead th {\n",
       "        text-align: right;\n",
       "    }\n",
       "</style>\n",
       "<table border=\"1\" class=\"dataframe\">\n",
       "  <thead>\n",
       "    <tr style=\"text-align: right;\">\n",
       "      <th></th>\n",
       "      <th>ID</th>\n",
       "      <th>Gene</th>\n",
       "      <th>Variation</th>\n",
       "      <th>Text</th>\n",
       "    </tr>\n",
       "  </thead>\n",
       "  <tbody>\n",
       "    <tr>\n",
       "      <th>755</th>\n",
       "      <td>755</td>\n",
       "      <td>ERBB2</td>\n",
       "      <td>S783P</td>\n",
       "      <td>Purpose: Mutations associated with resistance ...</td>\n",
       "    </tr>\n",
       "    <tr>\n",
       "      <th>2247</th>\n",
       "      <td>2247</td>\n",
       "      <td>PTEN</td>\n",
       "      <td>R130A</td>\n",
       "      <td>The PTEN (phosphatase and tensin homolog) phos...</td>\n",
       "    </tr>\n",
       "    <tr>\n",
       "      <th>2163</th>\n",
       "      <td>2163</td>\n",
       "      <td>PTEN</td>\n",
       "      <td>G129R</td>\n",
       "      <td>The PTEN (phosphatase and tensin homolog) phos...</td>\n",
       "    </tr>\n",
       "    <tr>\n",
       "      <th>378</th>\n",
       "      <td>378</td>\n",
       "      <td>TP53</td>\n",
       "      <td>Y234H</td>\n",
       "      <td>The p53 protein is a sequence-specific transcr...</td>\n",
       "    </tr>\n",
       "    <tr>\n",
       "      <th>2734</th>\n",
       "      <td>2734</td>\n",
       "      <td>BRAF</td>\n",
       "      <td>T241P</td>\n",
       "      <td>Noonan, LEOPARD and cardiofaciocutaneous syndr...</td>\n",
       "    </tr>\n",
       "  </tbody>\n",
       "</table>\n",
       "</div>"
      ],
      "text/plain": [
       "        ID   Gene Variation                                               Text\n",
       "755    755  ERBB2     S783P  Purpose: Mutations associated with resistance ...\n",
       "2247  2247   PTEN     R130A  The PTEN (phosphatase and tensin homolog) phos...\n",
       "2163  2163   PTEN     G129R  The PTEN (phosphatase and tensin homolog) phos...\n",
       "378    378   TP53     Y234H  The p53 protein is a sequence-specific transcr...\n",
       "2734  2734   BRAF     T241P  Noonan, LEOPARD and cardiofaciocutaneous syndr..."
      ]
     },
     "execution_count": 117,
     "metadata": {},
     "output_type": "execute_result"
    }
   ],
   "source": [
    "validation_df.head()"
   ]
  },
  {
   "cell_type": "markdown",
   "metadata": {},
   "source": [
    "#### text processing of validation data"
   ]
  },
  {
   "cell_type": "code",
   "execution_count": null,
   "metadata": {},
   "outputs": [],
   "source": []
  },
  {
   "cell_type": "code",
   "execution_count": 118,
   "metadata": {},
   "outputs": [
    {
     "name": "stderr",
     "output_type": "stream",
     "text": [
      "progress bar: 100%|██████████| 398/398 [00:04<00:00, 91.88it/s] \n"
     ]
    }
   ],
   "source": [
    "# remove punctuation\n",
    "validation_df['cleaned_text'] = validation_df['Text'].progress_map(cleanse_data,na_action='ignore')"
   ]
  },
  {
   "cell_type": "code",
   "execution_count": 119,
   "metadata": {},
   "outputs": [
    {
     "name": "stderr",
     "output_type": "stream",
     "text": [
      "progress bar: 100%|██████████| 398/398 [00:01<00:00, 243.87it/s]\n"
     ]
    }
   ],
   "source": [
    "# filtering all common english words\n",
    "validation_df['cleaned_text'] = validation_df['cleaned_text'].progress_map(reduce_words,na_action='ignore')"
   ]
  },
  {
   "cell_type": "code",
   "execution_count": 120,
   "metadata": {},
   "outputs": [],
   "source": [
    "validation_df['Text_len'] = validation_df['Text'].map(lambda x:len(str(x)))\n",
    "validation_df['cleaned_text_len'] = validation_df['cleaned_text'].map(lambda x:len(str(x)))"
   ]
  },
  {
   "cell_type": "code",
   "execution_count": 121,
   "metadata": {},
   "outputs": [
    {
     "data": {
      "text/html": [
       "<div>\n",
       "<style scoped>\n",
       "    .dataframe tbody tr th:only-of-type {\n",
       "        vertical-align: middle;\n",
       "    }\n",
       "\n",
       "    .dataframe tbody tr th {\n",
       "        vertical-align: top;\n",
       "    }\n",
       "\n",
       "    .dataframe thead th {\n",
       "        text-align: right;\n",
       "    }\n",
       "</style>\n",
       "<table border=\"1\" class=\"dataframe\">\n",
       "  <thead>\n",
       "    <tr style=\"text-align: right;\">\n",
       "      <th></th>\n",
       "      <th>ID</th>\n",
       "      <th>Gene</th>\n",
       "      <th>Variation</th>\n",
       "      <th>Text</th>\n",
       "      <th>cleaned_text</th>\n",
       "      <th>Text_len</th>\n",
       "      <th>cleaned_text_len</th>\n",
       "    </tr>\n",
       "  </thead>\n",
       "  <tbody>\n",
       "    <tr>\n",
       "      <th>755</th>\n",
       "      <td>755</td>\n",
       "      <td>ERBB2</td>\n",
       "      <td>S783P</td>\n",
       "      <td>Purpose: Mutations associated with resistance ...</td>\n",
       "      <td>Purpose Mutations kinase-targeted We ErbB2 mut...</td>\n",
       "      <td>46698</td>\n",
       "      <td>19767</td>\n",
       "    </tr>\n",
       "    <tr>\n",
       "      <th>2247</th>\n",
       "      <td>2247</td>\n",
       "      <td>PTEN</td>\n",
       "      <td>R130A</td>\n",
       "      <td>The PTEN (phosphatase and tensin homolog) phos...</td>\n",
       "      <td>PTEN tensin homolog mammals terms exerted deph...</td>\n",
       "      <td>42789</td>\n",
       "      <td>18457</td>\n",
       "    </tr>\n",
       "    <tr>\n",
       "      <th>2163</th>\n",
       "      <td>2163</td>\n",
       "      <td>PTEN</td>\n",
       "      <td>G129R</td>\n",
       "      <td>The PTEN (phosphatase and tensin homolog) phos...</td>\n",
       "      <td>PTEN tensin homolog mammals terms exerted deph...</td>\n",
       "      <td>112086</td>\n",
       "      <td>47563</td>\n",
       "    </tr>\n",
       "    <tr>\n",
       "      <th>378</th>\n",
       "      <td>378</td>\n",
       "      <td>TP53</td>\n",
       "      <td>Y234H</td>\n",
       "      <td>The p53 protein is a sequence-specific transcr...</td>\n",
       "      <td>p53 sequence-specific controlling genes cells ...</td>\n",
       "      <td>26877</td>\n",
       "      <td>11746</td>\n",
       "    </tr>\n",
       "    <tr>\n",
       "      <th>2734</th>\n",
       "      <td>2734</td>\n",
       "      <td>BRAF</td>\n",
       "      <td>T241P</td>\n",
       "      <td>Noonan, LEOPARD and cardiofaciocutaneous syndr...</td>\n",
       "      <td>Noonan LEOPARD cardiofaciocutaneous syndromes ...</td>\n",
       "      <td>31727</td>\n",
       "      <td>13685</td>\n",
       "    </tr>\n",
       "  </tbody>\n",
       "</table>\n",
       "</div>"
      ],
      "text/plain": [
       "        ID   Gene Variation  \\\n",
       "755    755  ERBB2     S783P   \n",
       "2247  2247   PTEN     R130A   \n",
       "2163  2163   PTEN     G129R   \n",
       "378    378   TP53     Y234H   \n",
       "2734  2734   BRAF     T241P   \n",
       "\n",
       "                                                   Text  \\\n",
       "755   Purpose: Mutations associated with resistance ...   \n",
       "2247  The PTEN (phosphatase and tensin homolog) phos...   \n",
       "2163  The PTEN (phosphatase and tensin homolog) phos...   \n",
       "378   The p53 protein is a sequence-specific transcr...   \n",
       "2734  Noonan, LEOPARD and cardiofaciocutaneous syndr...   \n",
       "\n",
       "                                           cleaned_text  Text_len  \\\n",
       "755   Purpose Mutations kinase-targeted We ErbB2 mut...     46698   \n",
       "2247  PTEN tensin homolog mammals terms exerted deph...     42789   \n",
       "2163  PTEN tensin homolog mammals terms exerted deph...    112086   \n",
       "378   p53 sequence-specific controlling genes cells ...     26877   \n",
       "2734  Noonan LEOPARD cardiofaciocutaneous syndromes ...     31727   \n",
       "\n",
       "      cleaned_text_len  \n",
       "755              19767  \n",
       "2247             18457  \n",
       "2163             47563  \n",
       "378              11746  \n",
       "2734             13685  "
      ]
     },
     "execution_count": 121,
     "metadata": {},
     "output_type": "execute_result"
    }
   ],
   "source": [
    "validation_df.head()"
   ]
  },
  {
   "cell_type": "code",
   "execution_count": 122,
   "metadata": {},
   "outputs": [],
   "source": [
    "validation_df_corpus = validation_df['cleaned_text'].tolist()"
   ]
  },
  {
   "cell_type": "markdown",
   "metadata": {},
   "source": [
    "##### Bag of words transformation"
   ]
  },
  {
   "cell_type": "code",
   "execution_count": 123,
   "metadata": {},
   "outputs": [],
   "source": [
    "validation_df_counts= bow_vectorizer.transform(validation_df_corpus)"
   ]
  },
  {
   "cell_type": "code",
   "execution_count": 124,
   "metadata": {},
   "outputs": [
    {
     "data": {
      "text/plain": [
       "(398, 1600)"
      ]
     },
     "execution_count": 124,
     "metadata": {},
     "output_type": "execute_result"
    }
   ],
   "source": [
    "validation_df_counts.shape"
   ]
  },
  {
   "cell_type": "code",
   "execution_count": 125,
   "metadata": {},
   "outputs": [],
   "source": [
    "X_validation_bow = validation_df_counts.todense()"
   ]
  },
  {
   "cell_type": "code",
   "execution_count": 126,
   "metadata": {},
   "outputs": [
    {
     "data": {
      "text/plain": [
       "(398, 1600)"
      ]
     },
     "execution_count": 126,
     "metadata": {},
     "output_type": "execute_result"
    }
   ],
   "source": [
    "X_validation_bow.shape"
   ]
  },
  {
   "cell_type": "code",
   "execution_count": 127,
   "metadata": {},
   "outputs": [
    {
     "data": {
      "text/plain": [
       "matrix([[0, 0, 0, ..., 4, 0, 1],\n",
       "        [0, 0, 0, ..., 0, 0, 0],\n",
       "        [0, 0, 0, ..., 1, 0, 0],\n",
       "        ...,\n",
       "        [0, 0, 0, ..., 5, 2, 0],\n",
       "        [0, 0, 0, ..., 5, 1, 0],\n",
       "        [0, 0, 0, ..., 0, 1, 5]], dtype=int64)"
      ]
     },
     "execution_count": 127,
     "metadata": {},
     "output_type": "execute_result"
    }
   ],
   "source": [
    "X_validation_bow"
   ]
  },
  {
   "cell_type": "code",
   "execution_count": 128,
   "metadata": {},
   "outputs": [],
   "source": [
    "y_pred_validation_bow = bow_model.predict_proba(X_validation_bow)"
   ]
  },
  {
   "cell_type": "code",
   "execution_count": 129,
   "metadata": {},
   "outputs": [],
   "source": [
    "y_pred_validation_bow2 = bow_model.predict(X_validation_bow)"
   ]
  },
  {
   "cell_type": "raw",
   "metadata": {},
   "source": [
    "#### <font color='purple'>scoring the prediction using multiple scoring metrics</font>"
   ]
  },
  {
   "cell_type": "code",
   "execution_count": 130,
   "metadata": {},
   "outputs": [
    {
     "data": {
      "text/plain": [
       "6.548874892333291"
      ]
     },
     "execution_count": 130,
     "metadata": {},
     "output_type": "execute_result"
    }
   ],
   "source": [
    "log_loss(y_validation,y_pred_validation_bow)"
   ]
  },
  {
   "cell_type": "code",
   "execution_count": 131,
   "metadata": {},
   "outputs": [
    {
     "name": "stdout",
     "output_type": "stream",
     "text": [
      "              precision    recall  f1-score   support\n",
      "\n",
      "     class 1       0.55      0.48      0.51        62\n",
      "     class 2       0.40      0.38      0.39        55\n",
      "     class 3       0.36      0.40      0.38        10\n",
      "     class 4       0.64      0.67      0.65        87\n",
      "     class 5       0.27      0.38      0.32        26\n",
      "     class 6       0.69      0.69      0.69        29\n",
      "     class 7       0.68      0.61      0.65       124\n",
      "     class 8       0.00      0.00      0.00         1\n",
      "     class 9       0.50      1.00      0.67         4\n",
      "\n",
      "    accuracy                           0.56       398\n",
      "   macro avg       0.45      0.51      0.47       398\n",
      "weighted avg       0.57      0.56      0.56       398\n",
      "\n"
     ]
    }
   ],
   "source": [
    "print(classification_report(y_validation, y_pred_validation_bow2, target_names=target_names))"
   ]
  },
  {
   "cell_type": "code",
   "execution_count": 132,
   "metadata": {},
   "outputs": [
    {
     "data": {
      "text/plain": [
       "<sklearn.metrics._plot.confusion_matrix.ConfusionMatrixDisplay at 0x2290cf1ff48>"
      ]
     },
     "execution_count": 132,
     "metadata": {},
     "output_type": "execute_result"
    },
    {
     "data": {
      "image/png": "[encoded data removed]",
      "text/plain": [
       "<Figure size 432x288 with 2 Axes>"
      ]
     },
     "metadata": {
      "needs_background": "light"
     },
     "output_type": "display_data"
    }
   ],
   "source": [
    "plot_confusion_matrix(bow_model, X_validation_bow, y_validation)"
   ]
  },
  {
   "cell_type": "markdown",
   "metadata": {},
   "source": [
    "##### TFIDF transformation"
   ]
  },
  {
   "cell_type": "code",
   "execution_count": 133,
   "metadata": {},
   "outputs": [],
   "source": [
    "X_validate_tfidf = tfidf_vectorizer.transform(validation_df_corpus)"
   ]
  },
  {
   "cell_type": "code",
   "execution_count": 134,
   "metadata": {},
   "outputs": [],
   "source": [
    "X_validate_tfidf = X_validate_tfidf.toarray()"
   ]
  },
  {
   "cell_type": "code",
   "execution_count": 135,
   "metadata": {},
   "outputs": [],
   "source": [
    "y_pred_validate_tfidf = tfidf_model.predict_proba(X_validate_tfidf)"
   ]
  },
  {
   "cell_type": "code",
   "execution_count": 136,
   "metadata": {},
   "outputs": [],
   "source": [
    "y_pred_validate_tfidf2 = tfidf_model.predict(X_validate_tfidf)"
   ]
  },
  {
   "cell_type": "markdown",
   "metadata": {},
   "source": [
    "#### <font color='purple'>scoring the prediction using multiple scoring metrics</font>"
   ]
  },
  {
   "cell_type": "code",
   "execution_count": 137,
   "metadata": {},
   "outputs": [
    {
     "data": {
      "text/plain": [
       "1.203149324756652"
      ]
     },
     "execution_count": 137,
     "metadata": {},
     "output_type": "execute_result"
    }
   ],
   "source": [
    "log_loss(y_validation,y_pred_validate_tfidf)"
   ]
  },
  {
   "cell_type": "code",
   "execution_count": 138,
   "metadata": {},
   "outputs": [
    {
     "name": "stdout",
     "output_type": "stream",
     "text": [
      "              precision    recall  f1-score   support\n",
      "\n",
      "     class 1       0.45      0.48      0.47        62\n",
      "     class 2       0.71      0.27      0.39        55\n",
      "     class 3       0.00      0.00      0.00        10\n",
      "     class 4       0.61      0.62      0.62        87\n",
      "     class 5       0.42      0.42      0.42        26\n",
      "     class 6       0.94      0.59      0.72        29\n",
      "     class 7       0.63      0.90      0.74       124\n",
      "     class 8       0.00      0.00      0.00         1\n",
      "     class 9       0.00      0.00      0.00         4\n",
      "\n",
      "    accuracy                           0.60       398\n",
      "   macro avg       0.42      0.37      0.37       398\n",
      "weighted avg       0.60      0.60      0.57       398\n",
      "\n"
     ]
    }
   ],
   "source": [
    "print(classification_report(y_validation, y_pred_validate_tfidf2, target_names=target_names))"
   ]
  },
  {
   "cell_type": "code",
   "execution_count": 139,
   "metadata": {},
   "outputs": [
    {
     "data": {
      "text/plain": [
       "<sklearn.metrics._plot.confusion_matrix.ConfusionMatrixDisplay at 0x22905f54388>"
      ]
     },
     "execution_count": 139,
     "metadata": {},
     "output_type": "execute_result"
    },
    {
     "data": {
      "image/png": "[encoded data removed]",
      "text/plain": [
       "<Figure size 432x288 with 2 Axes>"
      ]
     },
     "metadata": {
      "needs_background": "light"
     },
     "output_type": "display_data"
    }
   ],
   "source": [
    "plot_confusion_matrix(tfidf_model, X_validate_tfidf, y_validation)"
   ]
  },
  {
   "cell_type": "code",
   "execution_count": null,
   "metadata": {},
   "outputs": [],
   "source": []
  },
  {
   "cell_type": "code",
   "execution_count": null,
   "metadata": {},
   "outputs": [],
   "source": []
  },
  {
   "cell_type": "markdown",
   "metadata": {},
   "source": [
    "#### handling the test text sample data"
   ]
  },
  {
   "cell_type": "code",
   "execution_count": null,
   "metadata": {},
   "outputs": [],
   "source": [
    "#test_text_df.sort_values(['ID']).head()"
   ]
  },
  {
   "cell_type": "code",
   "execution_count": null,
   "metadata": {},
   "outputs": [],
   "source": [
    "#test_text_df.shape"
   ]
  },
  {
   "cell_type": "code",
   "execution_count": null,
   "metadata": {},
   "outputs": [],
   "source": [
    "#test_text_df['cleaned_text'] = test_text_df['Text'].map(cleanse_data,na_action='ignore')"
   ]
  },
  {
   "cell_type": "code",
   "execution_count": null,
   "metadata": {},
   "outputs": [],
   "source": [
    "#test_text_df['cleaned_text'] = test_text_df['cleaned_text'].map(reduce_words)"
   ]
  },
  {
   "cell_type": "code",
   "execution_count": null,
   "metadata": {},
   "outputs": [],
   "source": [
    "#test_text_df['cleaned_text_vector'] = test_text_df['cleaned_text'].map(word_count)"
   ]
  },
  {
   "cell_type": "code",
   "execution_count": null,
   "metadata": {},
   "outputs": [],
   "source": [
    "#test_text_df['sorted_cleaned_text_vector'] = test_text_df['cleaned_text'].progress_map(freq_dist)"
   ]
  },
  {
   "cell_type": "code",
   "execution_count": null,
   "metadata": {},
   "outputs": [],
   "source": [
    "#test_text_df = test_text_df.drop(['Text'],axis=1)"
   ]
  },
  {
   "cell_type": "code",
   "execution_count": null,
   "metadata": {},
   "outputs": [],
   "source": [
    "#test_text_df.head()"
   ]
  },
  {
   "cell_type": "code",
   "execution_count": null,
   "metadata": {},
   "outputs": [],
   "source": [
    "# get the text samples as list\n",
    "#test_corpus = test_text_df['cleaned_text'].tolist()"
   ]
  },
  {
   "cell_type": "code",
   "execution_count": null,
   "metadata": {},
   "outputs": [],
   "source": [
    "# transform the test case to get bag of words\n",
    "#test_bag_of_words_train = bow_vectorizer.fit_transform(test_corpus)"
   ]
  },
  {
   "cell_type": "code",
   "execution_count": null,
   "metadata": {},
   "outputs": [],
   "source": [
    "# convert the dictionary to an array\n",
    "#test_bag_of_words_array = test_bag_of_words_train.toarray()"
   ]
  },
  {
   "cell_type": "code",
   "execution_count": null,
   "metadata": {},
   "outputs": [],
   "source": [
    "#test_bag_of_words_array.shape"
   ]
  },
  {
   "cell_type": "code",
   "execution_count": null,
   "metadata": {},
   "outputs": [],
   "source": [
    "# predict test using bag of word model\n",
    "#y_pred_test_bow = bow_model.predict_proba(test_bag_of_words_array)"
   ]
  },
  {
   "cell_type": "code",
   "execution_count": null,
   "metadata": {},
   "outputs": [],
   "source": [
    "#y_pred_test_bow[0]"
   ]
  },
  {
   "cell_type": "code",
   "execution_count": null,
   "metadata": {},
   "outputs": [],
   "source": [
    "#y_pred_test_df = pd.DataFrame(y_pred_test_bow)"
   ]
  },
  {
   "cell_type": "code",
   "execution_count": null,
   "metadata": {},
   "outputs": [],
   "source": [
    "#test_text_df['ID'].shape"
   ]
  },
  {
   "cell_type": "code",
   "execution_count": null,
   "metadata": {},
   "outputs": [],
   "source": [
    "#y_pred_test_df['ID']= test_text_df['ID'].reset_index(drop=True)"
   ]
  },
  {
   "cell_type": "code",
   "execution_count": null,
   "metadata": {},
   "outputs": [],
   "source": [
    "#y_pred_test_df.head()"
   ]
  },
  {
   "cell_type": "code",
   "execution_count": null,
   "metadata": {},
   "outputs": [],
   "source": []
  },
  {
   "cell_type": "code",
   "execution_count": null,
   "metadata": {},
   "outputs": [],
   "source": [
    "# predict test using tfidf model\n",
    "#y_pred_test_tfidf = tfidf_model.predict_proba(test_bag_of_words_array)"
   ]
  },
  {
   "cell_type": "code",
   "execution_count": null,
   "metadata": {},
   "outputs": [],
   "source": [
    "stage2_test_text_df = pd.read_csv('stage2_test_text.csv', sep=\"\\|\\|\", encoding=\"utf-8\",engine=\"python\", skiprows=1, names=[\"ID\", \"Text\"])\n"
   ]
  },
  {
   "cell_type": "code",
   "execution_count": null,
   "metadata": {},
   "outputs": [],
   "source": [
    "stage2_test_text_df.shape"
   ]
  },
  {
   "cell_type": "code",
   "execution_count": null,
   "metadata": {},
   "outputs": [],
   "source": [
    "stage2_test_text_df['cleaned_text'] = stage2_test_text_df['Text'].progress_map(cleanse_data,na_action='ignore')"
   ]
  },
  {
   "cell_type": "code",
   "execution_count": null,
   "metadata": {},
   "outputs": [],
   "source": [
    "stage2_test_text_df['cleaned_text'] = stage2_test_text_df['cleaned_text'].progress_map(reduce_words)"
   ]
  },
  {
   "cell_type": "code",
   "execution_count": null,
   "metadata": {},
   "outputs": [],
   "source": [
    "stage2_test_text_df.shape"
   ]
  },
  {
   "cell_type": "code",
   "execution_count": null,
   "metadata": {},
   "outputs": [],
   "source": [
    "stage2_cleaned_view =pd.DataFrame({\"Text\":stage2_test_text_df['Text'].progress_map(lambda x:len(x)),\"cleaned_text\":stage2_test_text_df['cleaned_text'].map(lambda x:len(x))})\n",
    "stage2_cleaned_view.head()"
   ]
  },
  {
   "cell_type": "code",
   "execution_count": null,
   "metadata": {},
   "outputs": [],
   "source": [
    "stage2_test_corpus = stage2_test_text_df['cleaned_text'].tolist()"
   ]
  },
  {
   "cell_type": "code",
   "execution_count": null,
   "metadata": {},
   "outputs": [],
   "source": [
    "#X_stage2_test = bow_vectorizer.fit_transform(stage2_test_corpus).toarray()"
   ]
  },
  {
   "cell_type": "code",
   "execution_count": null,
   "metadata": {},
   "outputs": [],
   "source": [
    "X_stage2_test = tfidf_vectorizer.fit_transform(stage2_test_corpus).toarray()"
   ]
  },
  {
   "cell_type": "code",
   "execution_count": null,
   "metadata": {},
   "outputs": [],
   "source": [
    "X_stage2_test.shape"
   ]
  },
  {
   "cell_type": "code",
   "execution_count": null,
   "metadata": {},
   "outputs": [],
   "source": [
    "y_pred_stage2 = tfidf_model.predict_proba(X_stage2_test)"
   ]
  },
  {
   "cell_type": "code",
   "execution_count": null,
   "metadata": {},
   "outputs": [],
   "source": [
    "y_pred_stage2.shape"
   ]
  },
  {
   "cell_type": "code",
   "execution_count": null,
   "metadata": {},
   "outputs": [],
   "source": [
    "y_pred_stage2_df = pd.DataFrame(y_pred_stage2)"
   ]
  },
  {
   "cell_type": "code",
   "execution_count": null,
   "metadata": {},
   "outputs": [],
   "source": []
  },
  {
   "cell_type": "code",
   "execution_count": null,
   "metadata": {},
   "outputs": [],
   "source": [
    "y_pred_stage2_df['ID']=stage2_test_text_df['ID']"
   ]
  },
  {
   "cell_type": "code",
   "execution_count": null,
   "metadata": {},
   "outputs": [],
   "source": [
    "y_pred_stage2_df.columns"
   ]
  },
  {
   "cell_type": "code",
   "execution_count": null,
   "metadata": {},
   "outputs": [],
   "source": [
    "y_pred_stage2_df.columns = ['class1','class2','class3','class4','class5','class6','class7','class8','class9','ID']"
   ]
  },
  {
   "cell_type": "code",
   "execution_count": null,
   "metadata": {},
   "outputs": [],
   "source": [
    "y_pred_stage2_df=y_pred_stage2_df[['ID','class1','class2','class3','class4','class5','class6','class7','class8','class9']]"
   ]
  },
  {
   "cell_type": "code",
   "execution_count": null,
   "metadata": {},
   "outputs": [],
   "source": [
    "y_pred_stage2_df.head()"
   ]
  },
  {
   "cell_type": "code",
   "execution_count": null,
   "metadata": {},
   "outputs": [],
   "source": [
    "y_pred_stage2_df.to_csv(\"y_pred_stage2.csv\",index=False)"
   ]
  },
  {
   "cell_type": "code",
   "execution_count": null,
   "metadata": {},
   "outputs": [],
   "source": [
    "df=pd.DataFrame(columns=[\"Gene\",\"Class\",\"Variation\",\"cleaned_text\",\"cleaned_freq\"])\n",
    "for i in range(19):    \n",
    "    df_new=class_9[class_9['cleaned_text'] == class_9['cleaned_text'].unique()[i]]\n",
    "    df=pd.concat([df,df_new])"
   ]
  },
  {
   "cell_type": "markdown",
   "metadata": {
    "id": "mb62K9H8oIy6"
   },
   "source": [
    "we have sorted the frequency dictionary based on values using the key parameter of sorted and higher values first using reverse"
   ]
  },
  {
   "cell_type": "code",
   "execution_count": null,
   "metadata": {
    "colab": {
     "base_uri": "https://localhost:8080/"
    },
    "executionInfo": {
     "elapsed": 14,
     "status": "ok",
     "timestamp": 1638286210767,
     "user": {
      "displayName": "Anubrata Das",
      "photoUrl": "https://lh3.googleusercontent.com/a-/AOh14GiI2340pPpSj6e4aG_4urL4HRwW3MRXEf5aoo2_QA=s64",
      "userId": "08781375266004215524"
     },
     "user_tz": -330
    },
    "id": "wae37kXdUT8k",
    "outputId": "aacd0478-e911-439f-8dd0-3d9b78a7a732"
   },
   "outputs": [],
   "source": [
    "sorted(test_dic.items(),key=lambda x:x[1], reverse=True)"
   ]
  },
  {
   "cell_type": "code",
   "execution_count": null,
   "metadata": {
    "id": "kAxcpzU4_mzu"
   },
   "outputs": [],
   "source": [
    "for i in range(10):\n",
    "    print(scan_data1[i])"
   ]
  },
  {
   "cell_type": "code",
   "execution_count": null,
   "metadata": {
    "id": "9XgD9sY_14Jw"
   },
   "outputs": [],
   "source": [
    "cd /content"
   ]
  },
  {
   "cell_type": "code",
   "execution_count": null,
   "metadata": {
    "id": "oLbahHJ__mzv"
   },
   "outputs": [],
   "source": [
    "pa_tree=ET.parse('pa2021.xml')"
   ]
  },
  {
   "cell_type": "code",
   "execution_count": null,
   "metadata": {
    "id": "spN5n9H3_mzv"
   },
   "outputs": [],
   "source": [
    "root=pa_tree.getroot()"
   ]
  },
  {
   "cell_type": "code",
   "execution_count": null,
   "metadata": {
    "id": "kQR8pY9UXBs-"
   },
   "outputs": [],
   "source": [
    "# for child in root:\n",
    "#   print(child.tag)"
   ]
  },
  {
   "cell_type": "code",
   "execution_count": null,
   "metadata": {
    "id": "63RIRzTV_mzv"
   },
   "outputs": [],
   "source": [
    "for element_1 in root:\n",
    "  #print(\"---------level_1-----------\")\n",
    "  #print(element_1.tag)\n",
    "  \n",
    "  for element_2 in element_1:\n",
    "    #print(\"---------level_2-----------\")\n",
    "    #print(\"    \"+element_2.tag,\" \",element_2.text)\n",
    "    \n",
    "    for element_3 in element_2:\n",
    "      #print(\"---------level_3-----------\")\n",
    "      #print(\"        \"+element_3.tag,\" \",element_3.text)\n",
    "      \n",
    "      for element_4 in element_3:\n",
    "        #print(\"---------level_4-----------\")\n",
    "        if element_4.tag==\"String\":\n",
    "          print(\"                   \"+element_4.tag,\" \",element_4.text)\n",
    "          \n",
    "  #break\n",
    "    "
   ]
  },
  {
   "cell_type": "code",
   "execution_count": null,
   "metadata": {
    "id": "M-j6NieYFoZn"
   },
   "outputs": [],
   "source": [
    "len(root)"
   ]
  },
  {
   "cell_type": "code",
   "execution_count": null,
   "metadata": {
    "id": "c2Li5HlGGwOR"
   },
   "outputs": [],
   "source": [
    "desc_tree=ET.parse('desc2021.xml')"
   ]
  },
  {
   "cell_type": "code",
   "execution_count": null,
   "metadata": {
    "id": "IIWEN3P3XfG4"
   },
   "outputs": [],
   "source": [
    "desc_root=desc_tree.getroot()"
   ]
  },
  {
   "cell_type": "code",
   "execution_count": null,
   "metadata": {
    "id": "dVaFVNDdYSxK"
   },
   "outputs": [],
   "source": [
    "len(desc_root)"
   ]
  },
  {
   "cell_type": "code",
   "execution_count": null,
   "metadata": {
    "id": "9Q4uNx0xYq8f"
   },
   "outputs": [],
   "source": [
    "term_description=[]\n",
    "for element_1 in desc_root:\n",
    "  #print(\"-------level_1----------\")\n",
    "  #print(element_1.tag,\" \",element_1.text)\n",
    "  for element_2 in element_1:\n",
    "    #print(\"    ----------level_2----------\")\n",
    "    #print(\"    \"+element_2.tag,\" \",element_2.text)\n",
    "    for element_3 in element_2:\n",
    "      if element_3.tag=='String':\n",
    "        #print(\"        ---------level_3--------\")\n",
    "        #print(\"        \"+element_3.tag,\" \",element_3.text)\n",
    "        term_description.append(element_3.text)\n",
    "\n",
    "  #break"
   ]
  },
  {
   "cell_type": "code",
   "execution_count": null,
   "metadata": {
    "id": "WG6OyuDhZOdW"
   },
   "outputs": [],
   "source": [
    "len(term_description)"
   ]
  },
  {
   "cell_type": "code",
   "execution_count": null,
   "metadata": {
    "id": "yhUEtiIrt4B5"
   },
   "outputs": [],
   "source": [
    "term_description[:10]"
   ]
  },
  {
   "cell_type": "code",
   "execution_count": null,
   "metadata": {
    "id": "DFCAtPHEuIG_"
   },
   "outputs": [],
   "source": [
    "import csv \n",
    "with open('term_description.csv', 'w') as f: \n",
    "    write = csv.writer(f) \n",
    "    write.writerow(term_description) \n",
    "    "
   ]
  },
  {
   "cell_type": "markdown",
   "metadata": {
    "id": "F11LgeASJSYc"
   },
   "source": [
    "There are 2 ways to remove punctuation. one is to use the string library punctuation module on the text before tokenization, the other is to use the nltk.punct library"
   ]
  },
  {
   "cell_type": "code",
   "execution_count": null,
   "metadata": {
    "id": "bzJtTxhvvlSb"
   },
   "outputs": [],
   "source": [
    "len(scan_data1[1])"
   ]
  },
  {
   "cell_type": "code",
   "execution_count": null,
   "metadata": {
    "id": "EKL7Av16DsWV"
   },
   "outputs": [],
   "source": [
    "#nltk.word_tokenize(scan_data1[1])"
   ]
  },
  {
   "cell_type": "code",
   "execution_count": null,
   "metadata": {
    "id": "6n8-IUY8D_g2"
   },
   "outputs": [],
   "source": [
    "# import string punctuation\n",
    "import string\n",
    "string.punctuation"
   ]
  },
  {
   "cell_type": "code",
   "execution_count": null,
   "metadata": {
    "id": "vXDy9X6cH_nh"
   },
   "outputs": [],
   "source": []
  },
  {
   "cell_type": "code",
   "execution_count": null,
   "metadata": {
    "id": "YTposSf5IPM2"
   },
   "outputs": [],
   "source": [
    "len(cleanup_text(scan_data1[1]))"
   ]
  },
  {
   "cell_type": "code",
   "execution_count": null,
   "metadata": {
    "id": "xoBpboDfIZjm"
   },
   "outputs": [],
   "source": [
    "scan_data"
   ]
  }
 ],
 "metadata": {
  "colab": {
   "name": "jovian-ml-project.ipynb",
   "version": ""
  },
  "kernelspec": {
   "display_name": "Python 3",
   "language": "python",
   "name": "python3"
  },
  "language_info": {
   "codemirror_mode": {
    "name": "ipython",
    "version": 3
   },
   "file_extension": ".py",
   "mimetype": "text/x-python",
   "name": "python",
   "nbconvert_exporter": "python",
   "pygments_lexer": "ipython3",
   "version": "3.7.6"
  }
 },
 "nbformat": 4,
 "nbformat_minor": 1
}
