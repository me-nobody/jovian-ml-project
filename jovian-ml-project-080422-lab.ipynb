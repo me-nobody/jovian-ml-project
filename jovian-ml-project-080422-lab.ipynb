{
 "cells": [
  {
   "cell_type": "markdown",
   "metadata": {
    "id": "z4XIJ7_c_mzW"
   },
   "source": [
    "# Classification of Cancer associated Mutations from Literature using Machine Learning\n",
    "\n",
    "Use the \"Run\" button to execute the code."
   ]
  },
  {
   "cell_type": "code",
   "execution_count": 17,
   "metadata": {
    "executionInfo": {
     "elapsed": 2553,
     "status": "ok",
     "timestamp": 1638285773553,
     "user": {
      "displayName": "Anubrata Das",
      "photoUrl": "https://lh3.googleusercontent.com/a-/AOh14GiI2340pPpSj6e4aG_4urL4HRwW3MRXEf5aoo2_QA=s64",
      "userId": "08781375266004215524"
     },
     "user_tz": -330
    },
    "id": "6jgqXjvi_mzZ",
    "scrolled": true
   },
   "outputs": [],
   "source": [
    "#pip install jovian --upgrade --quiet"
   ]
  },
  {
   "cell_type": "code",
   "execution_count": 100,
   "metadata": {
    "executionInfo": {
     "elapsed": 47,
     "status": "ok",
     "timestamp": 1638285773553,
     "user": {
      "displayName": "Anubrata Das",
      "photoUrl": "https://lh3.googleusercontent.com/a-/AOh14GiI2340pPpSj6e4aG_4urL4HRwW3MRXEf5aoo2_QA=s64",
      "userId": "08781375266004215524"
     },
     "user_tz": -330
    },
    "id": "BcrwI4VL_mze"
   },
   "outputs": [],
   "source": [
    "import jovian"
   ]
  },
  {
   "cell_type": "code",
   "execution_count": 101,
   "metadata": {
    "colab": {
     "base_uri": "https://localhost:8080/",
     "height": 125
    },
    "executionInfo": {
     "elapsed": 9427,
     "status": "ok",
     "timestamp": 1638285782935,
     "user": {
      "displayName": "Anubrata Das",
      "photoUrl": "https://lh3.googleusercontent.com/a-/AOh14GiI2340pPpSj6e4aG_4urL4HRwW3MRXEf5aoo2_QA=s64",
      "userId": "08781375266004215524"
     },
     "user_tz": -330
    },
    "id": "7gTXlkwu_mzf",
    "outputId": "3c4f1679-22fc-496e-bbd7-ce778f5dc86a"
   },
   "outputs": [
    {
     "data": {
      "application/javascript": [
       "window.require && require([\"base/js/namespace\"],function(Jupyter){Jupyter.notebook.save_checkpoint()})"
      ],
      "text/plain": [
       "<IPython.core.display.Javascript object>"
      ]
     },
     "metadata": {},
     "output_type": "display_data"
    },
    {
     "name": "stdout",
     "output_type": "stream",
     "text": [
      "[jovian] Updating notebook \"anubratadas/jovian-ml-project-080422-lab\" on https://jovian.ai/\n",
      "[jovian] Committed successfully! https://jovian.ai/anubratadas/jovian-ml-project-080422-lab\n"
     ]
    },
    {
     "data": {
      "text/plain": [
       "'https://jovian.ai/anubratadas/jovian-ml-project-080422-lab'"
      ]
     },
     "execution_count": 101,
     "metadata": {},
     "output_type": "execute_result"
    }
   ],
   "source": [
    "#Execute this to save new versions of the notebook\n",
    "jovian.commit(project=\"jovian-ml-project-080422-lab\",filename=\"jovian-ml-project-080422-lab\")"
   ]
  },
  {
   "cell_type": "markdown",
   "metadata": {},
   "source": [
    "### <font color='green'>Import the essential libraries</font>"
   ]
  },
  {
   "cell_type": "code",
   "execution_count": 20,
   "metadata": {
    "executionInfo": {
     "elapsed": 13,
     "status": "ok",
     "timestamp": 1638285789225,
     "user": {
      "displayName": "Anubrata Das",
      "photoUrl": "https://lh3.googleusercontent.com/a-/AOh14GiI2340pPpSj6e4aG_4urL4HRwW3MRXEf5aoo2_QA=s64",
      "userId": "08781375266004215524"
     },
     "user_tz": -330
    },
    "id": "AEM-Rd_A_mzj"
   },
   "outputs": [],
   "source": [
    "\n",
    "import pandas as pd\n",
    "import numpy as np\n",
    "#import requests\n",
    "#import xml.etree.ElementTree as ET\n",
    "import time\n",
    "import re\n",
    "from tqdm import tqdm\n",
    "%matplotlib inline"
   ]
  },
  {
   "cell_type": "code",
   "execution_count": 21,
   "metadata": {
    "executionInfo": {
     "elapsed": 12,
     "status": "ok",
     "timestamp": 1638285789226,
     "user": {
      "displayName": "Anubrata Das",
      "photoUrl": "https://lh3.googleusercontent.com/a-/AOh14GiI2340pPpSj6e4aG_4urL4HRwW3MRXEf5aoo2_QA=s64",
      "userId": "08781375266004215524"
     },
     "user_tz": -330
    },
    "id": "lv5xwSHT_mzk"
   },
   "outputs": [],
   "source": [
    "pd.set_option('display.max_columns', None)\n",
    "pd.set_option('display.max_rows', None)\n",
    "import warnings\n",
    "warnings.simplefilter(action='ignore')"
   ]
  },
  {
   "cell_type": "code",
   "execution_count": 22,
   "metadata": {},
   "outputs": [],
   "source": [
    "import seaborn as sns\n",
    "import matplotlib\n",
    "import matplotlib.pyplot as plt\n",
    "%matplotlib inline\n",
    "# sns.set_style('darkgrid')\n",
    "# matplotlib.rcParams['font.size'] = 14\n",
    "#matplotlib.rcParams['figure.figsize'] = (9, 5)\n",
    "# matplotlib.rcParams['figure.facecolor'] = '#00000000'"
   ]
  },
  {
   "cell_type": "code",
   "execution_count": 23,
   "metadata": {},
   "outputs": [],
   "source": [
    "tqdm.pandas(desc=\"progress bar\")"
   ]
  },
  {
   "cell_type": "markdown",
   "metadata": {},
   "source": [
    " ### <font style=\"font-size:18px;font-family:arial;color:green;text-indent:100px;line-height: 0.8;word-spacing: 10px\"> A cancerous tissue can have thousands of genetic mutations (Variations), which are discovered using genome sequencing. But the challenge is distinguishing the mutations that contribute to tumor growth (drivers) from the neutral mutations (passengers). Currently this interpretation of genetic mutations is being done manually. This is a very time-consuming task where a clinical pathologist has to manually review and classify every single genetic mutation based on evidence from text-based clinical literature. For this competition MSKCC is making available an expert-annotated knowledge base where world-class researchers and oncologists have manually annotated thousands of mutations. MSKCC intends the Data scientist to develop a Machine Learning algorithm that, using this knowledge base as a baseline, automatically classifies genetic variations.</font>"
   ]
  },
  {
   "cell_type": "markdown",
   "metadata": {},
   "source": [
    "<a id='top'>**Beginning of Notebook**</a>"
   ]
  },
  {
   "cell_type": "markdown",
   "metadata": {},
   "source": [
    "[model train text data](#train_data)"
   ]
  },
  {
   "cell_type": "markdown",
   "metadata": {},
   "source": [
    "### <font color='green'>Exploratory Data Analysis</font>"
   ]
  },
  {
   "cell_type": "markdown",
   "metadata": {},
   "source": [
    "###  references\n",
    "  - https://github.com/ghostintheshellarise/2021HackForRare\n",
    "  - https://widdowquinn.github.io/2018-03-06-ibioic/02-sequence_databases/09-KEGG_programming.html\n",
    "  - https://bioservices.readthedocs.io/en/master/kegg_tutorial.html\n",
    "  - https://bioservices.readthedocs.io/en/master/index.html"
   ]
  },
  {
   "cell_type": "code",
   "execution_count": 24,
   "metadata": {},
   "outputs": [],
   "source": [
    "test_submit=pd.read_csv(\"y_pred_stage2_test1.csv\")"
   ]
  },
  {
   "cell_type": "code",
   "execution_count": 25,
   "metadata": {},
   "outputs": [
    {
     "data": {
      "text/html": [
       "<div>\n",
       "<style scoped>\n",
       "    .dataframe tbody tr th:only-of-type {\n",
       "        vertical-align: middle;\n",
       "    }\n",
       "\n",
       "    .dataframe tbody tr th {\n",
       "        vertical-align: top;\n",
       "    }\n",
       "\n",
       "    .dataframe thead th {\n",
       "        text-align: right;\n",
       "    }\n",
       "</style>\n",
       "<table border=\"1\" class=\"dataframe\">\n",
       "  <thead>\n",
       "    <tr style=\"text-align: right;\">\n",
       "      <th></th>\n",
       "      <th>ID</th>\n",
       "      <th>class1</th>\n",
       "      <th>class2</th>\n",
       "      <th>class3</th>\n",
       "      <th>class4</th>\n",
       "      <th>class5</th>\n",
       "      <th>class6</th>\n",
       "      <th>class7</th>\n",
       "      <th>class8</th>\n",
       "      <th>class9</th>\n",
       "    </tr>\n",
       "  </thead>\n",
       "  <tbody>\n",
       "    <tr>\n",
       "      <th>0</th>\n",
       "      <td>1</td>\n",
       "      <td>0.186422</td>\n",
       "      <td>0.149421</td>\n",
       "      <td>0.026535</td>\n",
       "      <td>0.237968</td>\n",
       "      <td>0.052618</td>\n",
       "      <td>0.079556</td>\n",
       "      <td>0.249807</td>\n",
       "      <td>0.008294</td>\n",
       "      <td>0.009378</td>\n",
       "    </tr>\n",
       "    <tr>\n",
       "      <th>1</th>\n",
       "      <td>2</td>\n",
       "      <td>0.203485</td>\n",
       "      <td>0.151358</td>\n",
       "      <td>0.027601</td>\n",
       "      <td>0.164330</td>\n",
       "      <td>0.064765</td>\n",
       "      <td>0.066240</td>\n",
       "      <td>0.305628</td>\n",
       "      <td>0.007876</td>\n",
       "      <td>0.008715</td>\n",
       "    </tr>\n",
       "    <tr>\n",
       "      <th>2</th>\n",
       "      <td>3</td>\n",
       "      <td>0.227005</td>\n",
       "      <td>0.136329</td>\n",
       "      <td>0.028670</td>\n",
       "      <td>0.175229</td>\n",
       "      <td>0.075993</td>\n",
       "      <td>0.056186</td>\n",
       "      <td>0.282988</td>\n",
       "      <td>0.007891</td>\n",
       "      <td>0.009707</td>\n",
       "    </tr>\n",
       "    <tr>\n",
       "      <th>3</th>\n",
       "      <td>4</td>\n",
       "      <td>0.178313</td>\n",
       "      <td>0.167293</td>\n",
       "      <td>0.024891</td>\n",
       "      <td>0.173316</td>\n",
       "      <td>0.045918</td>\n",
       "      <td>0.064200</td>\n",
       "      <td>0.331278</td>\n",
       "      <td>0.006635</td>\n",
       "      <td>0.008155</td>\n",
       "    </tr>\n",
       "    <tr>\n",
       "      <th>4</th>\n",
       "      <td>5</td>\n",
       "      <td>0.173221</td>\n",
       "      <td>0.178667</td>\n",
       "      <td>0.029656</td>\n",
       "      <td>0.189868</td>\n",
       "      <td>0.055422</td>\n",
       "      <td>0.048550</td>\n",
       "      <td>0.308979</td>\n",
       "      <td>0.007329</td>\n",
       "      <td>0.008308</td>\n",
       "    </tr>\n",
       "  </tbody>\n",
       "</table>\n",
       "</div>"
      ],
      "text/plain": [
       "   ID    class1    class2    class3    class4    class5    class6    class7  \\\n",
       "0   1  0.186422  0.149421  0.026535  0.237968  0.052618  0.079556  0.249807   \n",
       "1   2  0.203485  0.151358  0.027601  0.164330  0.064765  0.066240  0.305628   \n",
       "2   3  0.227005  0.136329  0.028670  0.175229  0.075993  0.056186  0.282988   \n",
       "3   4  0.178313  0.167293  0.024891  0.173316  0.045918  0.064200  0.331278   \n",
       "4   5  0.173221  0.178667  0.029656  0.189868  0.055422  0.048550  0.308979   \n",
       "\n",
       "     class8    class9  \n",
       "0  0.008294  0.009378  \n",
       "1  0.007876  0.008715  \n",
       "2  0.007891  0.009707  \n",
       "3  0.006635  0.008155  \n",
       "4  0.007329  0.008308  "
      ]
     },
     "execution_count": 25,
     "metadata": {},
     "output_type": "execute_result"
    }
   ],
   "source": [
    "test_submit.head()"
   ]
  },
  {
   "cell_type": "code",
   "execution_count": 26,
   "metadata": {},
   "outputs": [
    {
     "data": {
      "text/plain": [
       "Index(['ID', 'class1', 'class2', 'class3', 'class4', 'class5', 'class6',\n",
       "       'class7', 'class8', 'class9'],\n",
       "      dtype='object')"
      ]
     },
     "execution_count": 26,
     "metadata": {},
     "output_type": "execute_result"
    }
   ],
   "source": [
    "test_submit.columns"
   ]
  },
  {
   "cell_type": "code",
   "execution_count": 27,
   "metadata": {},
   "outputs": [],
   "source": [
    "test_submit_val=test_submit.drop('ID',axis=1)"
   ]
  },
  {
   "cell_type": "code",
   "execution_count": 28,
   "metadata": {},
   "outputs": [],
   "source": [
    "lst_test_submit=[]\n",
    "for index,row in test_submit_val.iterrows():\n",
    "    #print([1 if i==max(row) else 0 for i in row])\n",
    "    lst_test_submit.append([1 if i==max(row) else 0 for i in row])"
   ]
  },
  {
   "cell_type": "code",
   "execution_count": 29,
   "metadata": {},
   "outputs": [],
   "source": [
    "lst_test_submit=pd.DataFrame(lst_test_submit)"
   ]
  },
  {
   "cell_type": "code",
   "execution_count": 30,
   "metadata": {},
   "outputs": [],
   "source": [
    "test_submit_final=pd.merge(test_submit['ID'],lst_test_submit,how=\"inner\",left_index=True,right_index=True)"
   ]
  },
  {
   "cell_type": "code",
   "execution_count": 31,
   "metadata": {},
   "outputs": [],
   "source": [
    "test_submit_final.columns=test_submit.columns"
   ]
  },
  {
   "cell_type": "code",
   "execution_count": null,
   "metadata": {},
   "outputs": [],
   "source": []
  },
  {
   "cell_type": "code",
   "execution_count": 32,
   "metadata": {},
   "outputs": [
    {
     "data": {
      "text/html": [
       "<div>\n",
       "<style scoped>\n",
       "    .dataframe tbody tr th:only-of-type {\n",
       "        vertical-align: middle;\n",
       "    }\n",
       "\n",
       "    .dataframe tbody tr th {\n",
       "        vertical-align: top;\n",
       "    }\n",
       "\n",
       "    .dataframe thead th {\n",
       "        text-align: right;\n",
       "    }\n",
       "</style>\n",
       "<table border=\"1\" class=\"dataframe\">\n",
       "  <thead>\n",
       "    <tr style=\"text-align: right;\">\n",
       "      <th></th>\n",
       "      <th>ID</th>\n",
       "      <th>class1</th>\n",
       "      <th>class2</th>\n",
       "      <th>class3</th>\n",
       "      <th>class4</th>\n",
       "      <th>class5</th>\n",
       "      <th>class6</th>\n",
       "      <th>class7</th>\n",
       "      <th>class8</th>\n",
       "      <th>class9</th>\n",
       "    </tr>\n",
       "  </thead>\n",
       "  <tbody>\n",
       "    <tr>\n",
       "      <th>0</th>\n",
       "      <td>1</td>\n",
       "      <td>0</td>\n",
       "      <td>0</td>\n",
       "      <td>0</td>\n",
       "      <td>0</td>\n",
       "      <td>0</td>\n",
       "      <td>0</td>\n",
       "      <td>1</td>\n",
       "      <td>0</td>\n",
       "      <td>0</td>\n",
       "    </tr>\n",
       "    <tr>\n",
       "      <th>1</th>\n",
       "      <td>2</td>\n",
       "      <td>0</td>\n",
       "      <td>0</td>\n",
       "      <td>0</td>\n",
       "      <td>0</td>\n",
       "      <td>0</td>\n",
       "      <td>0</td>\n",
       "      <td>1</td>\n",
       "      <td>0</td>\n",
       "      <td>0</td>\n",
       "    </tr>\n",
       "    <tr>\n",
       "      <th>2</th>\n",
       "      <td>3</td>\n",
       "      <td>0</td>\n",
       "      <td>0</td>\n",
       "      <td>0</td>\n",
       "      <td>0</td>\n",
       "      <td>0</td>\n",
       "      <td>0</td>\n",
       "      <td>1</td>\n",
       "      <td>0</td>\n",
       "      <td>0</td>\n",
       "    </tr>\n",
       "    <tr>\n",
       "      <th>3</th>\n",
       "      <td>4</td>\n",
       "      <td>0</td>\n",
       "      <td>0</td>\n",
       "      <td>0</td>\n",
       "      <td>0</td>\n",
       "      <td>0</td>\n",
       "      <td>0</td>\n",
       "      <td>1</td>\n",
       "      <td>0</td>\n",
       "      <td>0</td>\n",
       "    </tr>\n",
       "    <tr>\n",
       "      <th>4</th>\n",
       "      <td>5</td>\n",
       "      <td>0</td>\n",
       "      <td>0</td>\n",
       "      <td>0</td>\n",
       "      <td>0</td>\n",
       "      <td>0</td>\n",
       "      <td>0</td>\n",
       "      <td>1</td>\n",
       "      <td>0</td>\n",
       "      <td>0</td>\n",
       "    </tr>\n",
       "  </tbody>\n",
       "</table>\n",
       "</div>"
      ],
      "text/plain": [
       "   ID  class1  class2  class3  class4  class5  class6  class7  class8  class9\n",
       "0   1       0       0       0       0       0       0       1       0       0\n",
       "1   2       0       0       0       0       0       0       1       0       0\n",
       "2   3       0       0       0       0       0       0       1       0       0\n",
       "3   4       0       0       0       0       0       0       1       0       0\n",
       "4   5       0       0       0       0       0       0       1       0       0"
      ]
     },
     "execution_count": 32,
     "metadata": {},
     "output_type": "execute_result"
    }
   ],
   "source": [
    "test_submit_final.head()"
   ]
  },
  {
   "cell_type": "code",
   "execution_count": 33,
   "metadata": {},
   "outputs": [],
   "source": [
    "test_submit_final.to_csv(\"stage2_submission_310322.csv\",header=True,index=False)"
   ]
  },
  {
   "cell_type": "code",
   "execution_count": null,
   "metadata": {},
   "outputs": [],
   "source": []
  },
  {
   "cell_type": "code",
   "execution_count": null,
   "metadata": {},
   "outputs": [],
   "source": []
  },
  {
   "cell_type": "code",
   "execution_count": null,
   "metadata": {},
   "outputs": [],
   "source": []
  },
  {
   "cell_type": "markdown",
   "metadata": {},
   "source": [
    "#### train data"
   ]
  },
  {
   "cell_type": "code",
   "execution_count": 34,
   "metadata": {},
   "outputs": [],
   "source": [
    "train_text_df = pd.read_csv('training_text.zip', sep=\"\\|\\|\", encoding=\"utf-8\",engine=\"python\", skiprows=1, names=[\"ID\", \"Text\"],compression='zip')"
   ]
  },
  {
   "cell_type": "code",
   "execution_count": 35,
   "metadata": {},
   "outputs": [],
   "source": [
    "train_variant_df = pd.read_csv('training_variants.zip',compression='zip')"
   ]
  },
  {
   "cell_type": "code",
   "execution_count": 36,
   "metadata": {},
   "outputs": [
    {
     "data": {
      "text/plain": [
       "((3321, 2), (3321, 4))"
      ]
     },
     "execution_count": 36,
     "metadata": {},
     "output_type": "execute_result"
    }
   ],
   "source": [
    "train_text_df.shape, train_variant_df.shape"
   ]
  },
  {
   "cell_type": "code",
   "execution_count": 37,
   "metadata": {},
   "outputs": [
    {
     "data": {
      "text/plain": [
       "(Index(['ID', 'Text'], dtype='object'),\n",
       " Index(['ID', 'Gene', 'Variation', 'Class'], dtype='object'))"
      ]
     },
     "execution_count": 37,
     "metadata": {},
     "output_type": "execute_result"
    }
   ],
   "source": [
    "train_text_df.columns, train_variant_df.columns"
   ]
  },
  {
   "cell_type": "code",
   "execution_count": null,
   "metadata": {},
   "outputs": [],
   "source": []
  },
  {
   "cell_type": "code",
   "execution_count": 38,
   "metadata": {},
   "outputs": [],
   "source": [
    "# merging the text and variation data\n",
    "train_df = pd.merge(train_variant_df,train_text_df,on='ID')"
   ]
  },
  {
   "cell_type": "code",
   "execution_count": 39,
   "metadata": {},
   "outputs": [
    {
     "data": {
      "text/html": [
       "<div>\n",
       "<style scoped>\n",
       "    .dataframe tbody tr th:only-of-type {\n",
       "        vertical-align: middle;\n",
       "    }\n",
       "\n",
       "    .dataframe tbody tr th {\n",
       "        vertical-align: top;\n",
       "    }\n",
       "\n",
       "    .dataframe thead th {\n",
       "        text-align: right;\n",
       "    }\n",
       "</style>\n",
       "<table border=\"1\" class=\"dataframe\">\n",
       "  <thead>\n",
       "    <tr style=\"text-align: right;\">\n",
       "      <th></th>\n",
       "      <th>ID</th>\n",
       "      <th>Text</th>\n",
       "    </tr>\n",
       "  </thead>\n",
       "  <tbody>\n",
       "    <tr>\n",
       "      <th>0</th>\n",
       "      <td>0</td>\n",
       "      <td>Cyclin-dependent kinases (CDKs) regulate a var...</td>\n",
       "    </tr>\n",
       "    <tr>\n",
       "      <th>1</th>\n",
       "      <td>1</td>\n",
       "      <td>Abstract Background  Non-small cell lung canc...</td>\n",
       "    </tr>\n",
       "    <tr>\n",
       "      <th>2</th>\n",
       "      <td>2</td>\n",
       "      <td>Abstract Background  Non-small cell lung canc...</td>\n",
       "    </tr>\n",
       "    <tr>\n",
       "      <th>3</th>\n",
       "      <td>3</td>\n",
       "      <td>Recent evidence has demonstrated that acquired...</td>\n",
       "    </tr>\n",
       "  </tbody>\n",
       "</table>\n",
       "</div>"
      ],
      "text/plain": [
       "   ID                                               Text\n",
       "0   0  Cyclin-dependent kinases (CDKs) regulate a var...\n",
       "1   1   Abstract Background  Non-small cell lung canc...\n",
       "2   2   Abstract Background  Non-small cell lung canc...\n",
       "3   3  Recent evidence has demonstrated that acquired..."
      ]
     },
     "execution_count": 39,
     "metadata": {},
     "output_type": "execute_result"
    }
   ],
   "source": [
    "train_text_df.head(n=4)"
   ]
  },
  {
   "cell_type": "code",
   "execution_count": 40,
   "metadata": {},
   "outputs": [
    {
     "data": {
      "text/html": [
       "<div>\n",
       "<style scoped>\n",
       "    .dataframe tbody tr th:only-of-type {\n",
       "        vertical-align: middle;\n",
       "    }\n",
       "\n",
       "    .dataframe tbody tr th {\n",
       "        vertical-align: top;\n",
       "    }\n",
       "\n",
       "    .dataframe thead th {\n",
       "        text-align: right;\n",
       "    }\n",
       "</style>\n",
       "<table border=\"1\" class=\"dataframe\">\n",
       "  <thead>\n",
       "    <tr style=\"text-align: right;\">\n",
       "      <th></th>\n",
       "      <th>ID</th>\n",
       "      <th>Gene</th>\n",
       "      <th>Variation</th>\n",
       "      <th>Class</th>\n",
       "    </tr>\n",
       "  </thead>\n",
       "  <tbody>\n",
       "    <tr>\n",
       "      <th>0</th>\n",
       "      <td>0</td>\n",
       "      <td>FAM58A</td>\n",
       "      <td>Truncating Mutations</td>\n",
       "      <td>1</td>\n",
       "    </tr>\n",
       "    <tr>\n",
       "      <th>1</th>\n",
       "      <td>1</td>\n",
       "      <td>CBL</td>\n",
       "      <td>W802*</td>\n",
       "      <td>2</td>\n",
       "    </tr>\n",
       "    <tr>\n",
       "      <th>2</th>\n",
       "      <td>2</td>\n",
       "      <td>CBL</td>\n",
       "      <td>Q249E</td>\n",
       "      <td>2</td>\n",
       "    </tr>\n",
       "    <tr>\n",
       "      <th>3</th>\n",
       "      <td>3</td>\n",
       "      <td>CBL</td>\n",
       "      <td>N454D</td>\n",
       "      <td>3</td>\n",
       "    </tr>\n",
       "    <tr>\n",
       "      <th>4</th>\n",
       "      <td>4</td>\n",
       "      <td>CBL</td>\n",
       "      <td>L399V</td>\n",
       "      <td>4</td>\n",
       "    </tr>\n",
       "  </tbody>\n",
       "</table>\n",
       "</div>"
      ],
      "text/plain": [
       "   ID    Gene             Variation  Class\n",
       "0   0  FAM58A  Truncating Mutations      1\n",
       "1   1     CBL                 W802*      2\n",
       "2   2     CBL                 Q249E      2\n",
       "3   3     CBL                 N454D      3\n",
       "4   4     CBL                 L399V      4"
      ]
     },
     "execution_count": 40,
     "metadata": {},
     "output_type": "execute_result"
    }
   ],
   "source": [
    "train_variant_df.head()"
   ]
  },
  {
   "cell_type": "code",
   "execution_count": 41,
   "metadata": {},
   "outputs": [
    {
     "data": {
      "text/plain": [
       "(3321, 5)"
      ]
     },
     "execution_count": 41,
     "metadata": {},
     "output_type": "execute_result"
    }
   ],
   "source": [
    "train_df.shape"
   ]
  },
  {
   "cell_type": "code",
   "execution_count": 42,
   "metadata": {},
   "outputs": [
    {
     "data": {
      "text/plain": [
       "ID                                                           0\n",
       "Gene                                                    FAM58A\n",
       "Variation                                 Truncating Mutations\n",
       "Class                                                        1\n",
       "Text         Cyclin-dependent kinases (CDKs) regulate a var...\n",
       "Name: 0, dtype: object"
      ]
     },
     "execution_count": 42,
     "metadata": {},
     "output_type": "execute_result"
    }
   ],
   "source": [
    "train_df.loc[0,:]"
   ]
  },
  {
   "cell_type": "code",
   "execution_count": 43,
   "metadata": {},
   "outputs": [],
   "source": [
    "# taking a sample of the dataset\n",
    "#train_df = train_df.sample(frac=0.2,random_state=222)"
   ]
  },
  {
   "cell_type": "code",
   "execution_count": 44,
   "metadata": {},
   "outputs": [],
   "source": [
    "#train_df=train_df.groupby('Class',group_keys=False).apply(lambda x: x.sample(frac=0.4)) # proportionate sampling"
   ]
  },
  {
   "cell_type": "markdown",
   "metadata": {},
   "source": [
    "We have taken a sample of the training data"
   ]
  },
  {
   "cell_type": "code",
   "execution_count": 45,
   "metadata": {},
   "outputs": [
    {
     "data": {
      "text/html": [
       "<div>\n",
       "<style scoped>\n",
       "    .dataframe tbody tr th:only-of-type {\n",
       "        vertical-align: middle;\n",
       "    }\n",
       "\n",
       "    .dataframe tbody tr th {\n",
       "        vertical-align: top;\n",
       "    }\n",
       "\n",
       "    .dataframe thead th {\n",
       "        text-align: right;\n",
       "    }\n",
       "</style>\n",
       "<table border=\"1\" class=\"dataframe\">\n",
       "  <thead>\n",
       "    <tr style=\"text-align: right;\">\n",
       "      <th></th>\n",
       "      <th>ID</th>\n",
       "      <th>Gene</th>\n",
       "      <th>Variation</th>\n",
       "      <th>Class</th>\n",
       "      <th>Text</th>\n",
       "    </tr>\n",
       "  </thead>\n",
       "  <tbody>\n",
       "    <tr>\n",
       "      <th>0</th>\n",
       "      <td>0</td>\n",
       "      <td>FAM58A</td>\n",
       "      <td>Truncating Mutations</td>\n",
       "      <td>1</td>\n",
       "      <td>Cyclin-dependent kinases (CDKs) regulate a var...</td>\n",
       "    </tr>\n",
       "    <tr>\n",
       "      <th>1</th>\n",
       "      <td>1</td>\n",
       "      <td>CBL</td>\n",
       "      <td>W802*</td>\n",
       "      <td>2</td>\n",
       "      <td>Abstract Background  Non-small cell lung canc...</td>\n",
       "    </tr>\n",
       "    <tr>\n",
       "      <th>2</th>\n",
       "      <td>2</td>\n",
       "      <td>CBL</td>\n",
       "      <td>Q249E</td>\n",
       "      <td>2</td>\n",
       "      <td>Abstract Background  Non-small cell lung canc...</td>\n",
       "    </tr>\n",
       "    <tr>\n",
       "      <th>3</th>\n",
       "      <td>3</td>\n",
       "      <td>CBL</td>\n",
       "      <td>N454D</td>\n",
       "      <td>3</td>\n",
       "      <td>Recent evidence has demonstrated that acquired...</td>\n",
       "    </tr>\n",
       "    <tr>\n",
       "      <th>4</th>\n",
       "      <td>4</td>\n",
       "      <td>CBL</td>\n",
       "      <td>L399V</td>\n",
       "      <td>4</td>\n",
       "      <td>Oncogenic mutations in the monomeric Casitas B...</td>\n",
       "    </tr>\n",
       "  </tbody>\n",
       "</table>\n",
       "</div>"
      ],
      "text/plain": [
       "   ID    Gene             Variation  Class  \\\n",
       "0   0  FAM58A  Truncating Mutations      1   \n",
       "1   1     CBL                 W802*      2   \n",
       "2   2     CBL                 Q249E      2   \n",
       "3   3     CBL                 N454D      3   \n",
       "4   4     CBL                 L399V      4   \n",
       "\n",
       "                                                Text  \n",
       "0  Cyclin-dependent kinases (CDKs) regulate a var...  \n",
       "1   Abstract Background  Non-small cell lung canc...  \n",
       "2   Abstract Background  Non-small cell lung canc...  \n",
       "3  Recent evidence has demonstrated that acquired...  \n",
       "4  Oncogenic mutations in the monomeric Casitas B...  "
      ]
     },
     "execution_count": 45,
     "metadata": {},
     "output_type": "execute_result"
    }
   ],
   "source": [
    "train_df.head()"
   ]
  },
  {
   "cell_type": "code",
   "execution_count": 46,
   "metadata": {},
   "outputs": [],
   "source": [
    "var_text=train_df.loc[0,['Variation','Text']]"
   ]
  },
  {
   "cell_type": "code",
   "execution_count": 47,
   "metadata": {},
   "outputs": [
    {
     "data": {
      "text/plain": [
       "Variation                                 Truncating Mutations\n",
       "Text         Cyclin-dependent kinases (CDKs) regulate a var...\n",
       "Name: 0, dtype: object"
      ]
     },
     "execution_count": 47,
     "metadata": {},
     "output_type": "execute_result"
    }
   ],
   "source": [
    "var_text"
   ]
  },
  {
   "cell_type": "code",
   "execution_count": 48,
   "metadata": {},
   "outputs": [],
   "source": [
    "def surround_text(motif_span,text):\n",
    "    \"\"\"returning the context of the mutation\"\"\"\n",
    "    upstream = motif_span[0] - 100\n",
    "    downstream = motif_span[1] + 100\n",
    "    context = text[upstream:downstream]\n",
    "    return context"
   ]
  },
  {
   "cell_type": "code",
   "execution_count": 49,
   "metadata": {},
   "outputs": [],
   "source": [
    "import re\n",
    "\n",
    "def var_variations(var_text):   \n",
    "    \"\"\"this function is mapping all protien mutation labels in the text\"\"\"\n",
    "    motif_var = var_text[0]\n",
    "    print(motif_var)\n",
    "    text=var_text[1]\n",
    "    if isinstance(text[1],str):\n",
    "        text_len = len(text)\n",
    "        while text_len>0:\n",
    "            print(\"*******\")\n",
    "            motif_match = re.search(motif_var,text) \n",
    "            if motif_match is not None:\n",
    "                motif_span = motif_match.span()\n",
    "                motif_group = motif_match.group()                \n",
    "                context_ = surround_text(motif_span,text)\n",
    "                #print(motif_span)\n",
    "                print(motif_group)\n",
    "                \n",
    "                print(context_)\n",
    "                print(\"=======\")\n",
    "                text = text[motif_span[1]:]\n",
    "                text_len = len(text)\n",
    "            else:\n",
    "                break\n",
    "    else:\n",
    "        word_list = [\"NA\"]\n",
    "    return motif_match"
   ]
  },
  {
   "cell_type": "code",
   "execution_count": 50,
   "metadata": {},
   "outputs": [
    {
     "name": "stdout",
     "output_type": "stream",
     "text": [
      "Truncating Mutations\n",
      "*******\n"
     ]
    }
   ],
   "source": [
    "var_variations(var_text)"
   ]
  },
  {
   "cell_type": "code",
   "execution_count": 51,
   "metadata": {},
   "outputs": [],
   "source": [
    "import re\n",
    "\n",
    "def all_variations(var_text):   \n",
    "    \"\"\"this function is mapping all protien mutation labels in the text\"\"\"\n",
    "    motif = r'\\s[A-Z]\\d+[A-Z]\\s'\n",
    "    motif_var = var_text[0]\n",
    "    #print(motif_var)\n",
    "    text=var_text[1]\n",
    "    if isinstance(text[1],str):\n",
    "        text_len = len(text)\n",
    "        while text_len>0:\n",
    "            print(\"*******\")\n",
    "            motif_match = re.search(motif,text)             \n",
    "            if motif_match is not None:\n",
    "                motif_span = motif_match.span()\n",
    "                motif_group = motif_match.group()  \n",
    "                print(\"motif_group \", motif_group)\n",
    "                print(\"motif_var \", motif_var)\n",
    "                if str(motif_group.strip()) != str(motif_var.strip()): # very important to strip else shows                    \n",
    "                    context_ = surround_text(motif_span,text)          # no match \n",
    "                    print(context_)\n",
    "                    print(\"=======\")\n",
    "                text = text[motif_span[1]:]\n",
    "                text_len = len(text)\n",
    "            else:\n",
    "                break\n",
    "    else:\n",
    "        word_list = [\"NA\"]\n",
    "    return motif_match\n",
    "#all_variations(var_text)"
   ]
  },
  {
   "cell_type": "code",
   "execution_count": 52,
   "metadata": {},
   "outputs": [
    {
     "data": {
      "text/plain": [
       "True"
      ]
     },
     "execution_count": 52,
     "metadata": {},
     "output_type": "execute_result"
    }
   ],
   "source": [
    "'Q249E' == 'Q249E'"
   ]
  },
  {
   "cell_type": "code",
   "execution_count": null,
   "metadata": {},
   "outputs": [],
   "source": []
  },
  {
   "cell_type": "code",
   "execution_count": null,
   "metadata": {},
   "outputs": [],
   "source": []
  },
  {
   "cell_type": "code",
   "execution_count": 53,
   "metadata": {},
   "outputs": [],
   "source": [
    "#train_df['Text'].map(lambda x:x.split() if isinstance(x,str) else [])"
   ]
  },
  {
   "cell_type": "code",
   "execution_count": 54,
   "metadata": {},
   "outputs": [],
   "source": [
    "#train_df['Text'].map(max_mutations).head()"
   ]
  },
  {
   "cell_type": "code",
   "execution_count": null,
   "metadata": {},
   "outputs": [],
   "source": []
  },
  {
   "cell_type": "code",
   "execution_count": null,
   "metadata": {},
   "outputs": [],
   "source": []
  },
  {
   "cell_type": "code",
   "execution_count": 55,
   "metadata": {},
   "outputs": [],
   "source": [
    "#train_df['Variation'].tolist()"
   ]
  },
  {
   "cell_type": "code",
   "execution_count": 56,
   "metadata": {},
   "outputs": [],
   "source": [
    "from collections import Counter"
   ]
  },
  {
   "cell_type": "code",
   "execution_count": 57,
   "metadata": {},
   "outputs": [],
   "source": [
    "def common_mutations(text):\n",
    "    match_pat = re.compile('([\\s][A-Z][\\d]+[A-Z][\\s])')\n",
    "    if isinstance(text,str):\n",
    "        xval=Counter(re.findall(match_pat,text))\n",
    "        if xval.most_common(1):\n",
    "            return xval.most_common(3)\n",
    "        return \"NA\"\n",
    "    return \"NA\""
   ]
  },
  {
   "cell_type": "code",
   "execution_count": 58,
   "metadata": {},
   "outputs": [],
   "source": [
    "def common_mutations_len(text):\n",
    "    if isinstance(text,str):\n",
    "        match_pat = re.compile('([\\s][A-Z][\\d]+[A-Z][\\s])')\n",
    "        xval=Counter(re.findall(match_pat,text))\n",
    "        return len(xval)\n",
    "    return 0"
   ]
  },
  {
   "cell_type": "code",
   "execution_count": 59,
   "metadata": {},
   "outputs": [],
   "source": [
    "train_df[\"commn mutations\"]=train_df['Text'].map(common_mutations_len)"
   ]
  },
  {
   "cell_type": "code",
   "execution_count": 60,
   "metadata": {},
   "outputs": [
    {
     "data": {
      "text/plain": [
       "ID                 90\n",
       "Gene                1\n",
       "Variation          90\n",
       "Class               1\n",
       "Text               29\n",
       "commn mutations    22\n",
       "dtype: int64"
      ]
     },
     "execution_count": 60,
     "metadata": {},
     "output_type": "execute_result"
    }
   ],
   "source": [
    "train_df[(train_df['Class']==5) & (train_df['Gene']==\"BRCA1\")].nunique()"
   ]
  },
  {
   "cell_type": "code",
   "execution_count": 61,
   "metadata": {},
   "outputs": [
    {
     "name": "stdout",
     "output_type": "stream",
     "text": [
      "1   60\n",
      "2   0\n",
      "3   15\n",
      "4   46\n",
      "5   90\n",
      "6   53\n",
      "7   0\n",
      "8   0\n",
      "9   0\n"
     ]
    }
   ],
   "source": [
    "for n in range(9):\n",
    "    print(n+1,\" \",train_df[(train_df['Class']==(n+1)) & (train_df['Gene']==\"BRCA1\")]['Variation'].nunique())"
   ]
  },
  {
   "cell_type": "markdown",
   "metadata": {},
   "source": [
    "in BRCA1, class 1, class 4,class 5, class 6 are well represented"
   ]
  },
  {
   "cell_type": "markdown",
   "metadata": {},
   "source": [
    "calculating the distance between texts"
   ]
  },
  {
   "cell_type": "code",
   "execution_count": 62,
   "metadata": {},
   "outputs": [],
   "source": [
    "brca_class1_id = train_df[(train_df['Class']==1) & (train_df['Gene']==\"BRCA1\")]['ID'].tolist()"
   ]
  },
  {
   "cell_type": "code",
   "execution_count": 63,
   "metadata": {},
   "outputs": [],
   "source": [
    "brca_class1_text = train_df[(train_df['Class']==1) & (train_df['Gene']==\"BRCA1\")]['Text'].tolist()"
   ]
  },
  {
   "cell_type": "code",
   "execution_count": 64,
   "metadata": {},
   "outputs": [],
   "source": [
    "brca_class1_text_split = [set(text.split()) for text in brca_class1_text] "
   ]
  },
  {
   "cell_type": "code",
   "execution_count": 65,
   "metadata": {},
   "outputs": [
    {
     "data": {
      "text/plain": [
       "(60, 60)"
      ]
     },
     "execution_count": 65,
     "metadata": {},
     "output_type": "execute_result"
    }
   ],
   "source": [
    "len(brca_class1_id) , len(brca_class1_text_split)"
   ]
  },
  {
   "cell_type": "code",
   "execution_count": 66,
   "metadata": {},
   "outputs": [],
   "source": [
    "brca_class1 = list(zip(brca_class1_id,brca_class1_text_split))"
   ]
  },
  {
   "cell_type": "code",
   "execution_count": 67,
   "metadata": {},
   "outputs": [
    {
     "data": {
      "text/plain": [
       "(2420,\n",
       " {'should',\n",
       "  '(1).',\n",
       "  'negative',\n",
       "  '1,752',\n",
       "  'pSer-x-x-Phe',\n",
       "  'tending',\n",
       "  '(W1837G',\n",
       "  'GV-GD',\n",
       "  'combined',\n",
       "  'number',\n",
       "  'represent',\n",
       "  'patients',\n",
       "  'structure.',\n",
       "  'disease',\n",
       "  'helicase,',\n",
       "  'pubs@aacr.org.',\n",
       "  'tumor',\n",
       "  'Align-GVGD',\n",
       "  'side',\n",
       "  'Edmonton,',\n",
       "  'selective',\n",
       "  'per',\n",
       "  'C0,',\n",
       "  'normalized',\n",
       "  'function',\n",
       "  '35.9%',\n",
       "  'controls',\n",
       "  'Ser1655,',\n",
       "  'fills',\n",
       "  'instructions',\n",
       "  'category',\n",
       "  '1),',\n",
       "  'alvaro.monteiro@moffitt.org.',\n",
       "  'advantage',\n",
       "  'variance,',\n",
       "  'Published',\n",
       "  '40).',\n",
       "  'Considering',\n",
       "  '33).',\n",
       "  'low',\n",
       "  'majority',\n",
       "  '(54.7%)',\n",
       "  'moderately',\n",
       "  'C55,',\n",
       "  'streptavidin',\n",
       "  'notion',\n",
       "  'BRCA1-BRCT',\n",
       "  'subscribe',\n",
       "  'synthesis',\n",
       "  'heterologous',\n",
       "  'instead',\n",
       "  'falls',\n",
       "  'HEK293T',\n",
       "  'System',\n",
       "  'series',\n",
       "  'strong',\n",
       "  'nearly',\n",
       "  'chain',\n",
       "  'several',\n",
       "  '(http://www.kconfab.org).',\n",
       "  'is',\n",
       "  'stable',\n",
       "  'insight',\n",
       "  'doublestrand',\n",
       "  '1,646',\n",
       "  'comprehensive',\n",
       "  'Based',\n",
       "  'following',\n",
       "  'parallel.',\n",
       "  'proline',\n",
       "  'vector',\n",
       "  'recognized',\n",
       "  'reported',\n",
       "  'break',\n",
       "  'input',\n",
       "  '64',\n",
       "  '(the',\n",
       "  'kind',\n",
       "  'idea',\n",
       "  'already',\n",
       "  'assays.',\n",
       "  'risk.',\n",
       "  '(G1706E)',\n",
       "  '>59%',\n",
       "  'known',\n",
       "  'linked',\n",
       "  'exposes',\n",
       "  'categories.',\n",
       "  'impulse',\n",
       "  '<35%',\n",
       "  'classifying',\n",
       "  'motif,',\n",
       "  'results',\n",
       "  'systematic',\n",
       "  'assessed',\n",
       "  'that,',\n",
       "  'cloned',\n",
       "  'general',\n",
       "  'variant,',\n",
       "  'pSer-X-X-Phe',\n",
       "  '6',\n",
       "  'present',\n",
       "  'repeats',\n",
       "  '35',\n",
       "  'assay.',\n",
       "  'M1775K,',\n",
       "  'found',\n",
       "  'perturb',\n",
       "  'different',\n",
       "  'Conversely,',\n",
       "  'scanning',\n",
       "  'falling',\n",
       "  'Renilla',\n",
       "  'only',\n",
       "  'repeat',\n",
       "  'excellent',\n",
       "  'cosegregation',\n",
       "  'carrying',\n",
       "  'predictions',\n",
       "  '0.9',\n",
       "  'agreement',\n",
       "  'μg/mL',\n",
       "  'range.',\n",
       "  '(43).',\n",
       "  'GV)',\n",
       "  'surface',\n",
       "  'mediator',\n",
       "  'articles,',\n",
       "  'given',\n",
       "  'hand,',\n",
       "  'potential',\n",
       "  'Lys1702,',\n",
       "  'analysis.',\n",
       "  'edited',\n",
       "  'large,',\n",
       "  '(either',\n",
       "  'highly',\n",
       "  'instrumental',\n",
       "  'discriminate',\n",
       "  'assay',\n",
       "  'clear',\n",
       "  'digestion',\n",
       "  'risk',\n",
       "  'rare.',\n",
       "  'both',\n",
       "  'Conceivably,',\n",
       "  'S2),',\n",
       "  'Transcriptional',\n",
       "  'directly',\n",
       "  'tryptic',\n",
       "  'system',\n",
       "  'tend',\n",
       "  'level',\n",
       "  'deposited',\n",
       "  '2011',\n",
       "  'early-onset',\n",
       "  'surfaces',\n",
       "  'when',\n",
       "  'well',\n",
       "  'bands',\n",
       "  '70(12):',\n",
       "  'another',\n",
       "  'currently',\n",
       "  'order',\n",
       "  'S3).',\n",
       "  'domain',\n",
       "  'still',\n",
       "  'model',\n",
       "  'response',\n",
       "  'Likewise,',\n",
       "  'received',\n",
       "  'description',\n",
       "  'fluctuation',\n",
       "  '(41),',\n",
       "  'BACH1',\n",
       "  'protein',\n",
       "  'cotransfected',\n",
       "  '<20%',\n",
       "  'eight',\n",
       "  'C1697R',\n",
       "  'were',\n",
       "  'using',\n",
       "  'Align',\n",
       "  'degree',\n",
       "  'nonspecific',\n",
       "  'from',\n",
       "  'seeded',\n",
       "  'interactions',\n",
       "  'sources.',\n",
       "  'thought',\n",
       "  'Moreover,',\n",
       "  '5;',\n",
       "  'region',\n",
       "  'who',\n",
       "  'encoding',\n",
       "  'plates,',\n",
       "  'luciferase',\n",
       "  'likelihood',\n",
       "  'neutral,',\n",
       "  'proportion',\n",
       "  'described',\n",
       "  '(100%',\n",
       "  'trypsin-mediated',\n",
       "  'displaying',\n",
       "  'deviate',\n",
       "  'results.',\n",
       "  'defines',\n",
       "  'do',\n",
       "  'differed',\n",
       "  '780-492-2136;',\n",
       "  'labeled',\n",
       "  'C55',\n",
       "  'direct',\n",
       "  'exists',\n",
       "  'peptide-BRCT',\n",
       "  '(Fig.',\n",
       "  '(uncertain),',\n",
       "  'histone',\n",
       "  'bound',\n",
       "  'method,',\n",
       "  'offer',\n",
       "  'sources,',\n",
       "  '34–',\n",
       "  '42',\n",
       "  'compared',\n",
       "  'assembled',\n",
       "  'remaining',\n",
       "  '4B).',\n",
       "  'subset',\n",
       "  'sensitivity;',\n",
       "  'BRCA1/BRCA2',\n",
       "  'Fax:',\n",
       "  'tended',\n",
       "  'Sufficient',\n",
       "  'tumorsuppressive',\n",
       "  'unfolded',\n",
       "  '“uncertain.”',\n",
       "  'single',\n",
       "  'scheme',\n",
       "  'Publications',\n",
       "  'signal',\n",
       "  'contact',\n",
       "  'multiple',\n",
       "  'affinity',\n",
       "  '4880–4890.',\n",
       "  'decisions.',\n",
       "  'sufficiently',\n",
       "  'risk,',\n",
       "  '1,859',\n",
       "  'genes',\n",
       "  'class.',\n",
       "  'score',\n",
       "  'few',\n",
       "  '1).',\n",
       "  'Glover',\n",
       "  'integrative',\n",
       "  'recognize',\n",
       "  'models.',\n",
       "  'interest',\n",
       "  'Corresponding',\n",
       "  'at',\n",
       "  'V1809F,',\n",
       "  'will',\n",
       "  'analysis',\n",
       "  'driven',\n",
       "  'peptides',\n",
       "  'regulatory',\n",
       "  'risks',\n",
       "  'responsible',\n",
       "  'women',\n",
       "  'disclosed.',\n",
       "  '(2–4).',\n",
       "  'scores',\n",
       "  'folding',\n",
       "  'predictive',\n",
       "  'see',\n",
       "  'Reprints',\n",
       "  'case',\n",
       "  '(12–14).',\n",
       "  'two',\n",
       "  'A',\n",
       "  'substitutions',\n",
       "  '(12–14),',\n",
       "  'Interactions',\n",
       "  'interactions,',\n",
       "  'act',\n",
       "  'Although',\n",
       "  'In',\n",
       "  'surrounding',\n",
       "  'M1783T,',\n",
       "  'conflicts',\n",
       "  'visualized',\n",
       "  '(1,646–1,858)',\n",
       "  'Ultimately,',\n",
       "  'movement',\n",
       "  'neutral',\n",
       "  'no',\n",
       "  'peptidebinding',\n",
       "  'far',\n",
       "  'modulate',\n",
       "  '>67%',\n",
       "  '1.',\n",
       "  'BRCA1',\n",
       "  'contribute',\n",
       "  'hours',\n",
       "  'rapid,',\n",
       "  'phosphopeptidebinding',\n",
       "  'Overall,',\n",
       "  'exhibit',\n",
       "  'cancers',\n",
       "  'N.A.',\n",
       "  'qualitative',\n",
       "  'partner',\n",
       "  'molar',\n",
       "  'indicated',\n",
       "  'plotted',\n",
       "  'involving',\n",
       "  'α-helix,',\n",
       "  'remarkable',\n",
       "  'Nine',\n",
       "  'rare',\n",
       "  'H2AX,',\n",
       "  'proteolysis',\n",
       "  'defined.',\n",
       "  'nuclease',\n",
       "  'done',\n",
       "  'Cells',\n",
       "  'translation',\n",
       "  'larger,',\n",
       "  'negatively',\n",
       "  'validated',\n",
       "  'Kathleen',\n",
       "  'vectors',\n",
       "  'preponderance',\n",
       "  '2010',\n",
       "  '(C0,',\n",
       "  'susceptibility',\n",
       "  'C65)',\n",
       "  'Page',\n",
       "  'additional',\n",
       "  'little',\n",
       "  'phosphorylation-independent',\n",
       "  '>49%',\n",
       "  'G1706E,',\n",
       "  'protein,',\n",
       "  'unambiguous',\n",
       "  'J.N.',\n",
       "  'regions,',\n",
       "  '(6',\n",
       "  'Interest:',\n",
       "  'method',\n",
       "  'defect',\n",
       "  'manuscript;',\n",
       "  'include',\n",
       "  'proposed',\n",
       "  '5.1%).',\n",
       "  'problematic,',\n",
       "  'Met1775',\n",
       "  'phosphate',\n",
       "  'mutants,',\n",
       "  'damage',\n",
       "  '(31,32,46).',\n",
       "  'cancer',\n",
       "  'modify',\n",
       "  'control,',\n",
       "  'terms',\n",
       "  '“moderate',\n",
       "  'here',\n",
       "  'included',\n",
       "  '>80%',\n",
       "  '(for',\n",
       "  'colleagues',\n",
       "  '1,706',\n",
       "  '24',\n",
       "  'Thus,',\n",
       "  'Several',\n",
       "  'individual',\n",
       "  '“low',\n",
       "  'S2B).',\n",
       "  'V1809F',\n",
       "  'destabilize',\n",
       "  'involves',\n",
       "  'effort',\n",
       "  'sufficient',\n",
       "  'As',\n",
       "  '(29).',\n",
       "  'GD).',\n",
       "  'reactions',\n",
       "  'interaction.',\n",
       "  'Easton',\n",
       "  'al.',\n",
       "  '(0.25',\n",
       "  'nucleotide',\n",
       "  'Methods',\n",
       "  'thermodynamic',\n",
       "  'this',\n",
       "  'limits',\n",
       "  'C25.',\n",
       "  'peptide-binding',\n",
       "  'Y1853X',\n",
       "  '(5–11).',\n",
       "  '3).',\n",
       "  'or',\n",
       "  'Specificity',\n",
       "  'studied',\n",
       "  '(14,48),',\n",
       "  'yet',\n",
       "  'state',\n",
       "  'interaction',\n",
       "  'adopts',\n",
       "  'M1775K',\n",
       "  'cell-based',\n",
       "  'agreed.',\n",
       "  'possible,',\n",
       "  'titration',\n",
       "  '“clear',\n",
       "  'define',\n",
       "  'destabilizes',\n",
       "  '(amino',\n",
       "  'particular',\n",
       "  '(wt)',\n",
       "  'there',\n",
       "  'later',\n",
       "  'TK',\n",
       "  'characterized',\n",
       "  'GADD45',\n",
       "  '41).',\n",
       "  'our',\n",
       "  'better',\n",
       "  'motif',\n",
       "  'S2).',\n",
       "  'cycle',\n",
       "  'class',\n",
       "  'defects',\n",
       "  'Analysis',\n",
       "  'prove',\n",
       "  'between',\n",
       "  'contains',\n",
       "  'most',\n",
       "  'human',\n",
       "  'Comparison',\n",
       "  'Canada.',\n",
       "  'worldwide',\n",
       "  'addition',\n",
       "  'BACH1,',\n",
       "  'depths',\n",
       "  'we',\n",
       "  'G1788V,',\n",
       "  'concordance',\n",
       "  '81.8%',\n",
       "  'G1706A,',\n",
       "  'class,',\n",
       "  'development',\n",
       "  'common',\n",
       "  'factors',\n",
       "  'M1775K)',\n",
       "  'NIH-PA',\n",
       "  'stress',\n",
       "  'severely',\n",
       "  'phenylalanine',\n",
       "  'could',\n",
       "  '(Roche).',\n",
       "  'proteinprotein',\n",
       "  'BRCA1,',\n",
       "  'percentages',\n",
       "  'Sensitivity',\n",
       "  '(24.8%)',\n",
       "  'corresponding',\n",
       "  'straightforward',\n",
       "  'conformational',\n",
       "  'levels.',\n",
       "  'considered',\n",
       "  '(A1752P)',\n",
       "  'introduction',\n",
       "  'excess',\n",
       "  'purified',\n",
       "  'sequence-specific',\n",
       "  'associated',\n",
       "  'them,',\n",
       "  'pedigree',\n",
       "  'role',\n",
       "  'M1775R',\n",
       "  'previous',\n",
       "  '4',\n",
       "  'Phosphopeptide-binding',\n",
       "  'time.',\n",
       "  'individuals',\n",
       "  'Department',\n",
       "  '(IARC',\n",
       "  'general,',\n",
       "  'destabilized',\n",
       "  'measurement',\n",
       "  'validity',\n",
       "  'BRCT',\n",
       "  'disease,',\n",
       "  'Alberta,',\n",
       "  '(52),',\n",
       "  'critical',\n",
       "  'available',\n",
       "  'solvent',\n",
       "  'Only',\n",
       "  'valuable',\n",
       "  '(33).',\n",
       "  'Structural',\n",
       "  'phosphopeptide-binding,',\n",
       "  'sensitivity,',\n",
       "  '65%',\n",
       "  'data',\n",
       "  'Group',\n",
       "  '(http://research.nhgri.nih.gov/bic/)',\n",
       "  '80%)',\n",
       "  '<32%',\n",
       "  'Methods.',\n",
       "  'previously',\n",
       "  'serves',\n",
       "  'incubating',\n",
       "  'under',\n",
       "  'intensities',\n",
       "  'specific',\n",
       "  'spectroscopy',\n",
       "  'which',\n",
       "  'signals',\n",
       "  'backgrounds',\n",
       "  'gap',\n",
       "  'orientation',\n",
       "  'pull-down',\n",
       "  'impede',\n",
       "  'therefore',\n",
       "  'I1766S',\n",
       "  'pedigrees,',\n",
       "  'high-throughput',\n",
       "  'CtIP,',\n",
       "  'all',\n",
       "  '54',\n",
       "  '<58%',\n",
       "  'internal',\n",
       "  'Author',\n",
       "  'addition,',\n",
       "  'cancer-associated',\n",
       "  'certain',\n",
       "  'phGR-TK,',\n",
       "  '(14),',\n",
       "  'SDSPAGE.',\n",
       "  'Fugene',\n",
       "  'pSer-containing',\n",
       "  'position',\n",
       "  'further',\n",
       "  'induced',\n",
       "  'experimental',\n",
       "  'analyzed',\n",
       "  'Finally,',\n",
       "  '5',\n",
       "  'way,',\n",
       "  'Intriguingly,',\n",
       "  'successfully',\n",
       "  'phosphopeptide',\n",
       "  'predicated',\n",
       "  'predicted',\n",
       "  'domain.',\n",
       "  'by',\n",
       "  'changes',\n",
       "  'intermediate',\n",
       "  'rationalized',\n",
       "  'sets',\n",
       "  \"manufacturer's\",\n",
       "  'regardless',\n",
       "  'module',\n",
       "  '(50,51).',\n",
       "  'regulation',\n",
       "  'fact',\n",
       "  'positively',\n",
       "  'forms',\n",
       "  'give',\n",
       "  'dicroism',\n",
       "  '10',\n",
       "  'Breast',\n",
       "  'C15',\n",
       "  'consisting',\n",
       "  'probabilities',\n",
       "  'sensitivities',\n",
       "  'examined',\n",
       "  'detail.',\n",
       "  'concentrations',\n",
       "  'least',\n",
       "  'S2A',\n",
       "  'dissection',\n",
       "  'Here,',\n",
       "  'Thirty-four',\n",
       "  'definition',\n",
       "  'it',\n",
       "  'GAL4-responsive',\n",
       "  'increased',\n",
       "  'generated',\n",
       "  'example,',\n",
       "  'genetic',\n",
       "  'heterodimeric',\n",
       "  'damage–mediated',\n",
       "  'digestion;',\n",
       "  '(Grantham',\n",
       "  'protein.',\n",
       "  'tested',\n",
       "  'uncovered',\n",
       "  'stability',\n",
       "  'transcriptional',\n",
       "  'its',\n",
       "  '(1,35),',\n",
       "  'how',\n",
       "  'severity',\n",
       "  'causality',\n",
       "  'poor',\n",
       "  'residues',\n",
       "  'cells.',\n",
       "  '×',\n",
       "  'specifically',\n",
       "  'concentrations,',\n",
       "  'crystallographic',\n",
       "  'essential',\n",
       "  'evaluated',\n",
       "  'very',\n",
       "  'activities/specificities',\n",
       "  'calorimetry',\n",
       "  'well-folded',\n",
       "  'T7',\n",
       "  'GV-GD,',\n",
       "  'R1699W,',\n",
       "  'after',\n",
       "  'models',\n",
       "  'controls,',\n",
       "  'limits,',\n",
       "  'M1775R.',\n",
       "  'unphosphorylated',\n",
       "  'C25,',\n",
       "  'Familial',\n",
       "  'S1).',\n",
       "  'Discussion',\n",
       "  'set',\n",
       "  'occurs',\n",
       "  'and',\n",
       "  'encodes',\n",
       "  '(Promega).',\n",
       "  'transactivation',\n",
       "  'support',\n",
       "  'splicing',\n",
       "  'basal',\n",
       "  'efficiency',\n",
       "  'transcribed/translated',\n",
       "  'large',\n",
       "  'combination',\n",
       "  'Thirty-eight',\n",
       "  'module,',\n",
       "  'use',\n",
       "  'contexts',\n",
       "  'generation',\n",
       "  'that',\n",
       "  'well,',\n",
       "  'recognition',\n",
       "  'make',\n",
       "  'Online',\n",
       "  'provide',\n",
       "  'Reporter',\n",
       "  'activities',\n",
       "  'PMSA',\n",
       "  'an',\n",
       "  '50',\n",
       "  'amount',\n",
       "  'computational',\n",
       "  '(corresponding',\n",
       "  'criteria,',\n",
       "  'integrity',\n",
       "  'digestion).',\n",
       "  'levels,',\n",
       "  '(between',\n",
       "  'DNA-binding',\n",
       "  '21.4%',\n",
       "  'V1696L,',\n",
       "  'material',\n",
       "  'ligands',\n",
       "  'indicating',\n",
       "  'genetic-based',\n",
       "  'peptide,',\n",
       "  'p53',\n",
       "  'comparison',\n",
       "  '(25,',\n",
       "  '1,863–amino',\n",
       "  'date',\n",
       "  'can',\n",
       "  'Monteiro,',\n",
       "  'largely',\n",
       "  'determinant',\n",
       "  'potentially',\n",
       "  'Information',\n",
       "  'fail',\n",
       "  'may',\n",
       "  'harvested',\n",
       "  'relatively',\n",
       "  'SNPs.',\n",
       "  'sequence',\n",
       "  'Each',\n",
       "  'assays;',\n",
       "  'uncertain.',\n",
       "  'function.',\n",
       "  'beads',\n",
       "  'SNPs',\n",
       "  'On',\n",
       "  'variant.',\n",
       "  'study',\n",
       "  'rates',\n",
       "  'to',\n",
       "  'breaks,',\n",
       "  'The',\n",
       "  'complex.',\n",
       "  'binding–deficient',\n",
       "  'MDC1',\n",
       "  'probability',\n",
       "  'proteolytic',\n",
       "  'template',\n",
       "  'reflected',\n",
       "  'destabilizing',\n",
       "  'Escherichia',\n",
       "  'S2C).',\n",
       "  '5)',\n",
       "  'NIH',\n",
       "  'Consortium',\n",
       "  'analysis,',\n",
       "  'domains',\n",
       "  '30',\n",
       "  'same',\n",
       "  'exposed',\n",
       "  'Subscriptions:',\n",
       "  'structure/function',\n",
       "  'coding',\n",
       "  'transfected',\n",
       "  'estimates',\n",
       "  'overall',\n",
       "  'sensitive',\n",
       "  'Cancer-associated',\n",
       "  'agree.',\n",
       "  'within',\n",
       "  '(37),',\n",
       "  'has',\n",
       "  '35,',\n",
       "  'of',\n",
       "  'Both',\n",
       "  'trypsin',\n",
       "  'possibility',\n",
       "  'Pilot',\n",
       "  'June',\n",
       "  'fused',\n",
       "  'produced',\n",
       "  'variants',\n",
       "  'groove',\n",
       "  'domain,',\n",
       "  'showed',\n",
       "  'COOH',\n",
       "  'G1656D',\n",
       "  'shows',\n",
       "  'Detailed',\n",
       "  'transcription',\n",
       "  'lead',\n",
       "  'determined',\n",
       "  'systems',\n",
       "  'termed',\n",
       "  'T6G',\n",
       "  'including',\n",
       "  'p21',\n",
       "  'TNT-Quick',\n",
       "  'scored',\n",
       "  'binding',\n",
       "  'half',\n",
       "  'activity.',\n",
       "  '2).',\n",
       "  'One',\n",
       "  'refs.',\n",
       "  'sequences,',\n",
       "  'phenotypic',\n",
       "  'correspond',\n",
       "  'vitro',\n",
       "  'would',\n",
       "  'clinical',\n",
       "  '(SRSTSPTFNK)',\n",
       "  'into',\n",
       "  'R1699L',\n",
       "  'leading',\n",
       "  'sequencing',\n",
       "  'done,',\n",
       "  'activation',\n",
       "  'wide',\n",
       "  'defined',\n",
       "  '(http://cancerres.aacrjournals.org/).',\n",
       "  'able',\n",
       "  'facilitate',\n",
       "  'the',\n",
       "  'final',\n",
       "  'pSer-Pro-Thr-Phe',\n",
       "  'results,',\n",
       "  'categorized',\n",
       "  'Another',\n",
       "  'Abraxas,',\n",
       "  'chymotrypsin,',\n",
       "  'measure',\n",
       "  'prediction,',\n",
       "  'informative',\n",
       "  'ovarian',\n",
       "  'corrected',\n",
       "  'Alvaro',\n",
       "  'system,',\n",
       "  '30–32).',\n",
       "  'subtle',\n",
       "  '1',\n",
       "  'throughout',\n",
       "  '(21.4%)',\n",
       "  '5%',\n",
       "  'small',\n",
       "  '(25,34–40),',\n",
       "  'missense',\n",
       "  '29',\n",
       "  'A1708E',\n",
       "  'repeat,',\n",
       "  'phosphoserine',\n",
       "  'cluster',\n",
       "  'giving',\n",
       "  '10-fold',\n",
       "  '(PMSA)',\n",
       "  'predict',\n",
       "  'sites,',\n",
       "  'Core',\n",
       "  'important',\n",
       "  '(>65%',\n",
       "  'mutations',\n",
       "  'Res.',\n",
       "  'trypsin).',\n",
       "  'conserved',\n",
       "  'wild-type',\n",
       "  'been',\n",
       "  'level.',\n",
       "  '25',\n",
       "  '15;',\n",
       "  'Supplementary',\n",
       "  'measurements',\n",
       "  'ligase',\n",
       "  'such',\n",
       "  'other',\n",
       "  'Conflicts',\n",
       "  'intermediate/strong',\n",
       "  'result',\n",
       "  'was',\n",
       "  'culture',\n",
       "  'unstable',\n",
       "  'mammalian',\n",
       "  'substitution',\n",
       "  '“binding',\n",
       "  'chicken',\n",
       "  'classes',\n",
       "  'research',\n",
       "  '(42)',\n",
       "  'markedly',\n",
       "  'Disclosure',\n",
       "  'standardized',\n",
       "  'reproducibility',\n",
       "  'Phone:',\n",
       "  'score.',\n",
       "  'they',\n",
       "  'importance',\n",
       "  'IARC',\n",
       "  'history',\n",
       "  'diminish,',\n",
       "  '(<5%',\n",
       "  'linker',\n",
       "  'like',\n",
       "  'V1736A',\n",
       "  'percentage',\n",
       "  'Generation',\n",
       "  'PMC',\n",
       "  'BRCA1.',\n",
       "  '87.5%',\n",
       "  'analyses',\n",
       "  'distinct',\n",
       "  'recognizes',\n",
       "  'suggested',\n",
       "  '(Table',\n",
       "  'but',\n",
       "  '61',\n",
       "  'plays',\n",
       "  'family-based',\n",
       "  'University',\n",
       "  'Phe',\n",
       "  'contacts',\n",
       "  'Genetic',\n",
       "  'through',\n",
       "  'suppression.',\n",
       "  'uses',\n",
       "  '(35)',\n",
       "  'reprints',\n",
       "  'provides',\n",
       "  'Activity',\n",
       "  'transfection,',\n",
       "  'To',\n",
       "  '(37,47).',\n",
       "  'study.',\n",
       "  '2H7,',\n",
       "  'suggest',\n",
       "  'R1699W',\n",
       "  'stability,',\n",
       "  'interacts',\n",
       "  'exhibited',\n",
       "  '(53).',\n",
       "  'complex',\n",
       "  'coli',\n",
       "  'genotoxic',\n",
       "  'gene',\n",
       "  'assays,',\n",
       "  'major',\n",
       "  'categories',\n",
       "  'coverage).',\n",
       "  'M1775R,',\n",
       "  'H1746N),',\n",
       "  'S1655F',\n",
       "  'tolerated,',\n",
       "  'fold',\n",
       "  'C35,',\n",
       "  'activities.',\n",
       "  'fall',\n",
       "  'Through',\n",
       "  'beads.',\n",
       "  'framework',\n",
       "  'AACR',\n",
       "  'Glu.',\n",
       "  'Many',\n",
       "  'pG5Luc,',\n",
       "  'have',\n",
       "  'Lee',\n",
       "  'based',\n",
       "  'many',\n",
       "  'against',\n",
       "  'phosphorylation.',\n",
       "  'reagents',\n",
       "  'Fig.',\n",
       "  'tandem',\n",
       "  'terminus',\n",
       "  'structurally',\n",
       "  'Potential',\n",
       "  'display',\n",
       "  'not',\n",
       "  'wild-type.',\n",
       "  'V1833M',\n",
       "  'DNA',\n",
       "  'relay',\n",
       "  'more',\n",
       "  'determine',\n",
       "  '42.7%',\n",
       "  'cellbased',\n",
       "  'according',\n",
       "  '1,560–1863;',\n",
       "  'ability',\n",
       "  'gives',\n",
       "  'show',\n",
       "  'places',\n",
       "  'obtained',\n",
       "  'yeast',\n",
       "  'transcription/translation',\n",
       "  'monitor',\n",
       "  'No',\n",
       "  '(19–21).',\n",
       "  'first',\n",
       "  'showing',\n",
       "  'blocks',\n",
       "  '(29.9%)',\n",
       "  'pair',\n",
       "  'diverse',\n",
       "  '19',\n",
       "  'diversity',\n",
       "  'inhibit',\n",
       "  'detected',\n",
       "  '(SigmaAldrich).',\n",
       "  'detailed',\n",
       "  'create',\n",
       "  'phosphopeptide-binding',\n",
       "  'fill',\n",
       "  'indistinguishable',\n",
       "  'required.',\n",
       "  '4)',\n",
       "  'supply',\n",
       "  'investigations',\n",
       "  'expressed',\n",
       "  'soluble',\n",
       "  'coli.',\n",
       "  'assess',\n",
       "  '26',\n",
       "  'resistant',\n",
       "  'revealed',\n",
       "  'second',\n",
       "  'in',\n",
       "  'reveal',\n",
       "  'subsets',\n",
       "  'higher',\n",
       "  'containing',\n",
       "  'nuclear',\n",
       "  'elastase,',\n",
       "  'Variants',\n",
       "  'effect,',\n",
       "  ...})"
      ]
     },
     "execution_count": 67,
     "metadata": {},
     "output_type": "execute_result"
    }
   ],
   "source": [
    "brca_class1[0]"
   ]
  },
  {
   "cell_type": "code",
   "execution_count": 68,
   "metadata": {},
   "outputs": [],
   "source": [
    "from itertools import combinations\n",
    "from itertools import product"
   ]
  },
  {
   "cell_type": "code",
   "execution_count": 69,
   "metadata": {},
   "outputs": [],
   "source": [
    "def find_pairs(gene_list):    \n",
    "    \"\"\"find the text which are most similar to each other in pairs \"\"\"\n",
    "    pair_lst = []\n",
    "    gene_idList_1 = []\n",
    "    gene_idList_2 =[]\n",
    "    for x1,x2 in combinations(gene_list,2):             # all text references in brca1 in pairs\n",
    "        stub = x1[1].intersection(x2[1])                # intersection of text of the pairs \n",
    "        if len(x1[1]) == len(stub) == len(x2[1]):       # where both the the items and length match\n",
    "            #print(len(x1[1]),\" \",len(stub))\n",
    "            tup_val = (x1[0],x2[0])        \n",
    "            pair_lst.append(tup_val)  \n",
    "            gene_idList_1.append(x1[0])\n",
    "            gene_idList_2.append(x2[0])\n",
    "    #print(\"pairs found\",len(pair_lst))\n",
    "    return pair_lst,gene_idList_1,gene_idList_2"
   ]
  },
  {
   "cell_type": "code",
   "execution_count": 70,
   "metadata": {},
   "outputs": [],
   "source": [
    "def match_refs(idx,lst):\n",
    "    \"\"\"checks if a text id is present in any of the pair-wise match of the text\"\"\"\n",
    "    #print (\"entering match_ref\")\n",
    "    txt_dict=dict()\n",
    "    lst_dx=[idx]\n",
    "    for tup in lst:                               # for pair-wise matches if query text id is  \n",
    "        if idx in tup and idx == tup[0]:          # present then collect the other entry\n",
    "            lst_dx.append(tup[1])\n",
    "        elif idx in tup and idx == tup[1]:\n",
    "            lst_dx.append(tup[0]) \n",
    "        else:\n",
    "            #print(\"no matches\")\n",
    "            #lst_dx.append(0)\n",
    "            pass\n",
    "    #print(\"matching texts\",len(lst_dx))   \n",
    "    if len(lst_dx)>1:\n",
    "        txt_dict[idx] = lst_dx                     # for query entry collect all matching entries\n",
    "        return txt_dict   \n",
    "    else:\n",
    "        return None                                # as a list and store everything as a dictionary    "
   ]
  },
  {
   "cell_type": "code",
   "execution_count": null,
   "metadata": {},
   "outputs": [],
   "source": []
  },
  {
   "cell_type": "code",
   "execution_count": 71,
   "metadata": {},
   "outputs": [],
   "source": [
    "def trim_list(ref_vals,lst):\n",
    "    \"\"\"removes matching pairs from list which have been screened before\"\"\"\n",
    "    try:    \n",
    "        #print(\"entering trim\")\n",
    "        m_ref_opt_values = list(ref_vals.values())[0]    \n",
    "        #print(\"beginning length before trim\",len(lst))\n",
    "        for vlu in m_ref_opt_values:      # list of values in previous table\n",
    "            for tup in lst:\n",
    "                idx_tup = lst.index(tup)  # get the index of the tuple \n",
    "                if vlu in tup:\n",
    "                    lst.pop(idx_tup)      # remove the tuple\n",
    "    except Exception as e:\n",
    "        print (e)\n",
    "    #print(\"lenght now\",len(lst))    \n",
    "    return lst       "
   ]
  },
  {
   "cell_type": "code",
   "execution_count": 72,
   "metadata": {},
   "outputs": [
    {
     "name": "stdout",
     "output_type": "stream",
     "text": [
      "gene_text_id 151\n"
     ]
    }
   ],
   "source": [
    "text_dict_list=[]\n",
    "revised_list,geneidList1,lst3 = find_pairs(brca_class1) # find matching texts in pairs from all the texts\n",
    "print(\"gene_text_id\",len(geneidList1))\n",
    "for idx in geneidList1:    \n",
    "    match_output = match_refs(idx,revised_list)   \n",
    "    if match_output:\n",
    "        common_text_ids = list(match_output.values())[0]\n",
    "        geneidList1 = [item for item in geneidList1 if item not in common_text_ids]\n",
    "        #print(f\"common ids {len(common_text_ids)} and new geneid {len(geneidList1)}\")\n",
    "        text_dict_list.append(match_output)\n",
    "        revised_list = trim_list(match_output,revised_list)       \n",
    "        #print(\"done\")\n",
    "        if len(revised_list)<=0:\n",
    "            break"
   ]
  },
  {
   "cell_type": "code",
   "execution_count": 86,
   "metadata": {},
   "outputs": [
    {
     "name": "stdout",
     "output_type": "stream",
     "text": [
      "{2420: [2420, 2436, 2438, 2470, 2486, 2522, 2523, 2524, 2552, 2577, 2578, 2579, 2592, 2659, 2670]}\n",
      "{2422: [2422, 2455, 2478, 2567, 2569, 2582, 2599, 2653]}\n",
      "{2424: [2424, 2432, 2443, 2583]}\n",
      "{2441: [2441, 2501, 2557]}\n",
      "{2482: [2482, 2542]}\n",
      "{2483: [2483, 2581]}\n",
      "{2491: [2491, 2510]}\n",
      "{2513: [2513, 2614]}\n",
      "{2525: [2525, 2677]}\n",
      "{2554: [2554, 2634]}\n",
      "{2582: [2582, 2653]}\n",
      "{2600: [2600, 2619, 2639]}\n"
     ]
    }
   ],
   "source": [
    "for commons in text_dict_list:\n",
    "    print(commons)"
   ]
  },
  {
   "cell_type": "code",
   "execution_count": 107,
   "metadata": {},
   "outputs": [],
   "source": [
    "new_dict = dict()\n",
    "for count,dict_ in enumerate(text_dict_list):\n",
    "    for value in dict_.values():\n",
    "        value_dict_list = dict.fromkeys(value,count)\n",
    "        new_dict.update(value_dict_list)"
   ]
  },
  {
   "cell_type": "code",
   "execution_count": 108,
   "metadata": {},
   "outputs": [
    {
     "data": {
      "text/plain": [
       "{2420: 0,\n",
       " 2436: 0,\n",
       " 2438: 0,\n",
       " 2470: 0,\n",
       " 2486: 0,\n",
       " 2522: 0,\n",
       " 2523: 0,\n",
       " 2524: 0,\n",
       " 2552: 0,\n",
       " 2577: 0,\n",
       " 2578: 0,\n",
       " 2579: 0,\n",
       " 2592: 0,\n",
       " 2659: 0,\n",
       " 2670: 0,\n",
       " 2422: 1,\n",
       " 2455: 1,\n",
       " 2478: 1,\n",
       " 2567: 1,\n",
       " 2569: 1,\n",
       " 2582: 10,\n",
       " 2599: 1,\n",
       " 2653: 10,\n",
       " 2424: 2,\n",
       " 2432: 2,\n",
       " 2443: 2,\n",
       " 2583: 2,\n",
       " 2441: 3,\n",
       " 2501: 3,\n",
       " 2557: 3,\n",
       " 2482: 4,\n",
       " 2542: 4,\n",
       " 2483: 5,\n",
       " 2581: 5,\n",
       " 2491: 6,\n",
       " 2510: 6,\n",
       " 2513: 7,\n",
       " 2614: 7,\n",
       " 2525: 8,\n",
       " 2677: 8,\n",
       " 2554: 9,\n",
       " 2634: 9,\n",
       " 2600: 11,\n",
       " 2619: 11,\n",
       " 2639: 11}"
      ]
     },
     "execution_count": 108,
     "metadata": {},
     "output_type": "execute_result"
    }
   ],
   "source": [
    "new_dict"
   ]
  },
  {
   "cell_type": "code",
   "execution_count": 109,
   "metadata": {},
   "outputs": [],
   "source": [
    "brca1_df =train_df[(train_df['Class']==1) & (train_df['Gene']==\"BRCA1\")]"
   ]
  },
  {
   "cell_type": "code",
   "execution_count": 110,
   "metadata": {},
   "outputs": [
    {
     "data": {
      "text/html": [
       "<div>\n",
       "<style scoped>\n",
       "    .dataframe tbody tr th:only-of-type {\n",
       "        vertical-align: middle;\n",
       "    }\n",
       "\n",
       "    .dataframe tbody tr th {\n",
       "        vertical-align: top;\n",
       "    }\n",
       "\n",
       "    .dataframe thead th {\n",
       "        text-align: right;\n",
       "    }\n",
       "</style>\n",
       "<table border=\"1\" class=\"dataframe\">\n",
       "  <thead>\n",
       "    <tr style=\"text-align: right;\">\n",
       "      <th></th>\n",
       "      <th>ID</th>\n",
       "      <th>Gene</th>\n",
       "      <th>Variation</th>\n",
       "      <th>Class</th>\n",
       "      <th>Text</th>\n",
       "      <th>commn mutations</th>\n",
       "    </tr>\n",
       "  </thead>\n",
       "  <tbody>\n",
       "    <tr>\n",
       "      <th>2420</th>\n",
       "      <td>2420</td>\n",
       "      <td>BRCA1</td>\n",
       "      <td>R1835P</td>\n",
       "      <td>1</td>\n",
       "      <td>Genetic screening of the breast and ovarian ca...</td>\n",
       "      <td>16</td>\n",
       "    </tr>\n",
       "    <tr>\n",
       "      <th>2421</th>\n",
       "      <td>2421</td>\n",
       "      <td>BRCA1</td>\n",
       "      <td>Truncating Mutations</td>\n",
       "      <td>1</td>\n",
       "      <td>BRCA1 and BRCA2 mutations are estimated to be ...</td>\n",
       "      <td>3</td>\n",
       "    </tr>\n",
       "    <tr>\n",
       "      <th>2422</th>\n",
       "      <td>2422</td>\n",
       "      <td>BRCA1</td>\n",
       "      <td>G1803A</td>\n",
       "      <td>1</td>\n",
       "      <td>Abstract  The BRCA1 gene from individuals at ...</td>\n",
       "      <td>19</td>\n",
       "    </tr>\n",
       "    <tr>\n",
       "      <th>2424</th>\n",
       "      <td>2424</td>\n",
       "      <td>BRCA1</td>\n",
       "      <td>G1743R</td>\n",
       "      <td>1</td>\n",
       "      <td>Abstract  The BRCA1 gene from individuals at ...</td>\n",
       "      <td>6</td>\n",
       "    </tr>\n",
       "    <tr>\n",
       "      <th>2431</th>\n",
       "      <td>2431</td>\n",
       "      <td>BRCA1</td>\n",
       "      <td>L1407P</td>\n",
       "      <td>1</td>\n",
       "      <td>Mutations in BRCA1 and BRCA2 account for the m...</td>\n",
       "      <td>129</td>\n",
       "    </tr>\n",
       "  </tbody>\n",
       "</table>\n",
       "</div>"
      ],
      "text/plain": [
       "        ID   Gene             Variation  Class  \\\n",
       "2420  2420  BRCA1                R1835P      1   \n",
       "2421  2421  BRCA1  Truncating Mutations      1   \n",
       "2422  2422  BRCA1                G1803A      1   \n",
       "2424  2424  BRCA1                G1743R      1   \n",
       "2431  2431  BRCA1                L1407P      1   \n",
       "\n",
       "                                                   Text  commn mutations  \n",
       "2420  Genetic screening of the breast and ovarian ca...               16  \n",
       "2421  BRCA1 and BRCA2 mutations are estimated to be ...                3  \n",
       "2422   Abstract  The BRCA1 gene from individuals at ...               19  \n",
       "2424   Abstract  The BRCA1 gene from individuals at ...                6  \n",
       "2431  Mutations in BRCA1 and BRCA2 account for the m...              129  "
      ]
     },
     "execution_count": 110,
     "metadata": {},
     "output_type": "execute_result"
    }
   ],
   "source": [
    "brca1_df.head()"
   ]
  },
  {
   "cell_type": "code",
   "execution_count": 111,
   "metadata": {},
   "outputs": [],
   "source": [
    "brca1_df['text_code'] = brca1_df['ID']"
   ]
  },
  {
   "cell_type": "code",
   "execution_count": 113,
   "metadata": {},
   "outputs": [
    {
     "data": {
      "text/html": [
       "<div>\n",
       "<style scoped>\n",
       "    .dataframe tbody tr th:only-of-type {\n",
       "        vertical-align: middle;\n",
       "    }\n",
       "\n",
       "    .dataframe tbody tr th {\n",
       "        vertical-align: top;\n",
       "    }\n",
       "\n",
       "    .dataframe thead th {\n",
       "        text-align: right;\n",
       "    }\n",
       "</style>\n",
       "<table border=\"1\" class=\"dataframe\">\n",
       "  <thead>\n",
       "    <tr style=\"text-align: right;\">\n",
       "      <th></th>\n",
       "      <th>ID</th>\n",
       "      <th>Gene</th>\n",
       "      <th>Variation</th>\n",
       "      <th>Class</th>\n",
       "      <th>Text</th>\n",
       "      <th>commn mutations</th>\n",
       "      <th>text_code</th>\n",
       "    </tr>\n",
       "  </thead>\n",
       "  <tbody>\n",
       "    <tr>\n",
       "      <th>2420</th>\n",
       "      <td>2420</td>\n",
       "      <td>BRCA1</td>\n",
       "      <td>R1835P</td>\n",
       "      <td>1</td>\n",
       "      <td>Genetic screening of the breast and ovarian ca...</td>\n",
       "      <td>16</td>\n",
       "      <td>0</td>\n",
       "    </tr>\n",
       "    <tr>\n",
       "      <th>2421</th>\n",
       "      <td>2421</td>\n",
       "      <td>BRCA1</td>\n",
       "      <td>Truncating Mutations</td>\n",
       "      <td>1</td>\n",
       "      <td>BRCA1 and BRCA2 mutations are estimated to be ...</td>\n",
       "      <td>3</td>\n",
       "      <td>2421</td>\n",
       "    </tr>\n",
       "    <tr>\n",
       "      <th>2422</th>\n",
       "      <td>2422</td>\n",
       "      <td>BRCA1</td>\n",
       "      <td>G1803A</td>\n",
       "      <td>1</td>\n",
       "      <td>Abstract  The BRCA1 gene from individuals at ...</td>\n",
       "      <td>19</td>\n",
       "      <td>1</td>\n",
       "    </tr>\n",
       "    <tr>\n",
       "      <th>2424</th>\n",
       "      <td>2424</td>\n",
       "      <td>BRCA1</td>\n",
       "      <td>G1743R</td>\n",
       "      <td>1</td>\n",
       "      <td>Abstract  The BRCA1 gene from individuals at ...</td>\n",
       "      <td>6</td>\n",
       "      <td>2</td>\n",
       "    </tr>\n",
       "    <tr>\n",
       "      <th>2431</th>\n",
       "      <td>2431</td>\n",
       "      <td>BRCA1</td>\n",
       "      <td>L1407P</td>\n",
       "      <td>1</td>\n",
       "      <td>Mutations in BRCA1 and BRCA2 account for the m...</td>\n",
       "      <td>129</td>\n",
       "      <td>2431</td>\n",
       "    </tr>\n",
       "    <tr>\n",
       "      <th>2432</th>\n",
       "      <td>2432</td>\n",
       "      <td>BRCA1</td>\n",
       "      <td>L1657P</td>\n",
       "      <td>1</td>\n",
       "      <td>Abstract  The BRCA1 gene from individuals at ...</td>\n",
       "      <td>6</td>\n",
       "      <td>2</td>\n",
       "    </tr>\n",
       "    <tr>\n",
       "      <th>2436</th>\n",
       "      <td>2436</td>\n",
       "      <td>BRCA1</td>\n",
       "      <td>M1689T</td>\n",
       "      <td>1</td>\n",
       "      <td>Genetic screening of the breast and ovarian ca...</td>\n",
       "      <td>16</td>\n",
       "      <td>0</td>\n",
       "    </tr>\n",
       "    <tr>\n",
       "      <th>2438</th>\n",
       "      <td>2438</td>\n",
       "      <td>BRCA1</td>\n",
       "      <td>W1837C</td>\n",
       "      <td>1</td>\n",
       "      <td>Genetic screening of the breast and ovarian ca...</td>\n",
       "      <td>16</td>\n",
       "      <td>0</td>\n",
       "    </tr>\n",
       "    <tr>\n",
       "      <th>2439</th>\n",
       "      <td>2439</td>\n",
       "      <td>BRCA1</td>\n",
       "      <td>Deletion</td>\n",
       "      <td>1</td>\n",
       "      <td>BRCA1 and BRCA2 mutations are estimated to be ...</td>\n",
       "      <td>1</td>\n",
       "      <td>2439</td>\n",
       "    </tr>\n",
       "    <tr>\n",
       "      <th>2441</th>\n",
       "      <td>2441</td>\n",
       "      <td>BRCA1</td>\n",
       "      <td>F1761I</td>\n",
       "      <td>1</td>\n",
       "      <td>Abstract  The BRCA1 gene from individuals at ...</td>\n",
       "      <td>22</td>\n",
       "      <td>3</td>\n",
       "    </tr>\n",
       "    <tr>\n",
       "      <th>2443</th>\n",
       "      <td>2443</td>\n",
       "      <td>BRCA1</td>\n",
       "      <td>I1807S</td>\n",
       "      <td>1</td>\n",
       "      <td>Abstract  The BRCA1 gene from individuals at ...</td>\n",
       "      <td>6</td>\n",
       "      <td>2</td>\n",
       "    </tr>\n",
       "    <tr>\n",
       "      <th>2455</th>\n",
       "      <td>2455</td>\n",
       "      <td>BRCA1</td>\n",
       "      <td>H1746N</td>\n",
       "      <td>1</td>\n",
       "      <td>Abstract  The BRCA1 gene from individuals at ...</td>\n",
       "      <td>19</td>\n",
       "      <td>1</td>\n",
       "    </tr>\n",
       "    <tr>\n",
       "      <th>2463</th>\n",
       "      <td>2463</td>\n",
       "      <td>BRCA1</td>\n",
       "      <td>V1833M</td>\n",
       "      <td>1</td>\n",
       "      <td>ABSTRACT Germline mutations that inactivate th...</td>\n",
       "      <td>67</td>\n",
       "      <td>2463</td>\n",
       "    </tr>\n",
       "    <tr>\n",
       "      <th>2465</th>\n",
       "      <td>2465</td>\n",
       "      <td>BRCA1</td>\n",
       "      <td>T1691I</td>\n",
       "      <td>1</td>\n",
       "      <td>Mutations in BRCA1 and BRCA2 account for the m...</td>\n",
       "      <td>93</td>\n",
       "      <td>2465</td>\n",
       "    </tr>\n",
       "    <tr>\n",
       "      <th>2470</th>\n",
       "      <td>2470</td>\n",
       "      <td>BRCA1</td>\n",
       "      <td>S1715C</td>\n",
       "      <td>1</td>\n",
       "      <td>Genetic screening of the breast and ovarian ca...</td>\n",
       "      <td>16</td>\n",
       "      <td>0</td>\n",
       "    </tr>\n",
       "    <tr>\n",
       "      <th>2474</th>\n",
       "      <td>2474</td>\n",
       "      <td>BRCA1</td>\n",
       "      <td>V1741G</td>\n",
       "      <td>1</td>\n",
       "      <td>Germline mutation analysis of BRCA1 gene has d...</td>\n",
       "      <td>26</td>\n",
       "      <td>2474</td>\n",
       "    </tr>\n",
       "    <tr>\n",
       "      <th>2475</th>\n",
       "      <td>2475</td>\n",
       "      <td>BRCA1</td>\n",
       "      <td>R1699L</td>\n",
       "      <td>1</td>\n",
       "      <td>Abstract  The BRCA1 gene from individuals at ...</td>\n",
       "      <td>19</td>\n",
       "      <td>2475</td>\n",
       "    </tr>\n",
       "    <tr>\n",
       "      <th>2478</th>\n",
       "      <td>2478</td>\n",
       "      <td>BRCA1</td>\n",
       "      <td>F1734S</td>\n",
       "      <td>1</td>\n",
       "      <td>Abstract  The BRCA1 gene from individuals at ...</td>\n",
       "      <td>19</td>\n",
       "      <td>1</td>\n",
       "    </tr>\n",
       "    <tr>\n",
       "      <th>2482</th>\n",
       "      <td>2482</td>\n",
       "      <td>BRCA1</td>\n",
       "      <td>L1705P</td>\n",
       "      <td>1</td>\n",
       "      <td>Abstract  The BRCA1 gene from individuals at ...</td>\n",
       "      <td>22</td>\n",
       "      <td>4</td>\n",
       "    </tr>\n",
       "    <tr>\n",
       "      <th>2483</th>\n",
       "      <td>2483</td>\n",
       "      <td>BRCA1</td>\n",
       "      <td>H1686R</td>\n",
       "      <td>1</td>\n",
       "      <td>Mutations in BRCA1 and BRCA2 account for the m...</td>\n",
       "      <td>81</td>\n",
       "      <td>5</td>\n",
       "    </tr>\n",
       "    <tr>\n",
       "      <th>2486</th>\n",
       "      <td>2486</td>\n",
       "      <td>BRCA1</td>\n",
       "      <td>S1841R</td>\n",
       "      <td>1</td>\n",
       "      <td>Genetic screening of the breast and ovarian ca...</td>\n",
       "      <td>16</td>\n",
       "      <td>0</td>\n",
       "    </tr>\n",
       "    <tr>\n",
       "      <th>2491</th>\n",
       "      <td>2491</td>\n",
       "      <td>BRCA1</td>\n",
       "      <td>W1837G</td>\n",
       "      <td>1</td>\n",
       "      <td>Abstract  The BRCA1 gene from individuals at ...</td>\n",
       "      <td>19</td>\n",
       "      <td>6</td>\n",
       "    </tr>\n",
       "    <tr>\n",
       "      <th>2501</th>\n",
       "      <td>2501</td>\n",
       "      <td>BRCA1</td>\n",
       "      <td>K1702E</td>\n",
       "      <td>1</td>\n",
       "      <td>Abstract  The BRCA1 gene from individuals at ...</td>\n",
       "      <td>22</td>\n",
       "      <td>3</td>\n",
       "    </tr>\n",
       "    <tr>\n",
       "      <th>2506</th>\n",
       "      <td>2506</td>\n",
       "      <td>BRCA1</td>\n",
       "      <td>M1775E</td>\n",
       "      <td>1</td>\n",
       "      <td>Abstract  The BRCA1 gene from individuals at ...</td>\n",
       "      <td>7</td>\n",
       "      <td>2506</td>\n",
       "    </tr>\n",
       "    <tr>\n",
       "      <th>2510</th>\n",
       "      <td>2510</td>\n",
       "      <td>BRCA1</td>\n",
       "      <td>S1841N</td>\n",
       "      <td>1</td>\n",
       "      <td>Abstract  The BRCA1 gene from individuals at ...</td>\n",
       "      <td>19</td>\n",
       "      <td>6</td>\n",
       "    </tr>\n",
       "    <tr>\n",
       "      <th>2513</th>\n",
       "      <td>2513</td>\n",
       "      <td>BRCA1</td>\n",
       "      <td>S1841A</td>\n",
       "      <td>1</td>\n",
       "      <td>A large number of missense mutations have been...</td>\n",
       "      <td>29</td>\n",
       "      <td>7</td>\n",
       "    </tr>\n",
       "    <tr>\n",
       "      <th>2522</th>\n",
       "      <td>2522</td>\n",
       "      <td>BRCA1</td>\n",
       "      <td>V1736G</td>\n",
       "      <td>1</td>\n",
       "      <td>Genetic screening of the breast and ovarian ca...</td>\n",
       "      <td>16</td>\n",
       "      <td>0</td>\n",
       "    </tr>\n",
       "    <tr>\n",
       "      <th>2523</th>\n",
       "      <td>2523</td>\n",
       "      <td>BRCA1</td>\n",
       "      <td>L1854P</td>\n",
       "      <td>1</td>\n",
       "      <td>Genetic screening of the breast and ovarian ca...</td>\n",
       "      <td>16</td>\n",
       "      <td>0</td>\n",
       "    </tr>\n",
       "    <tr>\n",
       "      <th>2524</th>\n",
       "      <td>2524</td>\n",
       "      <td>BRCA1</td>\n",
       "      <td>E1836K</td>\n",
       "      <td>1</td>\n",
       "      <td>Genetic screening of the breast and ovarian ca...</td>\n",
       "      <td>16</td>\n",
       "      <td>0</td>\n",
       "    </tr>\n",
       "    <tr>\n",
       "      <th>2525</th>\n",
       "      <td>2525</td>\n",
       "      <td>BRCA1</td>\n",
       "      <td>F1704S</td>\n",
       "      <td>1</td>\n",
       "      <td>Abstract  The BRCA1 gene from individuals at ...</td>\n",
       "      <td>7</td>\n",
       "      <td>8</td>\n",
       "    </tr>\n",
       "    <tr>\n",
       "      <th>2542</th>\n",
       "      <td>2542</td>\n",
       "      <td>BRCA1</td>\n",
       "      <td>Y1703H</td>\n",
       "      <td>1</td>\n",
       "      <td>Abstract  The BRCA1 gene from individuals at ...</td>\n",
       "      <td>22</td>\n",
       "      <td>4</td>\n",
       "    </tr>\n",
       "    <tr>\n",
       "      <th>2552</th>\n",
       "      <td>2552</td>\n",
       "      <td>BRCA1</td>\n",
       "      <td>V1714G</td>\n",
       "      <td>1</td>\n",
       "      <td>Genetic screening of the breast and ovarian ca...</td>\n",
       "      <td>16</td>\n",
       "      <td>0</td>\n",
       "    </tr>\n",
       "    <tr>\n",
       "      <th>2554</th>\n",
       "      <td>2554</td>\n",
       "      <td>BRCA1</td>\n",
       "      <td>Y1703S</td>\n",
       "      <td>1</td>\n",
       "      <td>Abstract Germline inactivating mutations in B...</td>\n",
       "      <td>10</td>\n",
       "      <td>9</td>\n",
       "    </tr>\n",
       "    <tr>\n",
       "      <th>2557</th>\n",
       "      <td>2557</td>\n",
       "      <td>BRCA1</td>\n",
       "      <td>V1833E</td>\n",
       "      <td>1</td>\n",
       "      <td>Abstract  The BRCA1 gene from individuals at ...</td>\n",
       "      <td>22</td>\n",
       "      <td>3</td>\n",
       "    </tr>\n",
       "    <tr>\n",
       "      <th>2567</th>\n",
       "      <td>2567</td>\n",
       "      <td>BRCA1</td>\n",
       "      <td>T1685A</td>\n",
       "      <td>1</td>\n",
       "      <td>Abstract  The BRCA1 gene from individuals at ...</td>\n",
       "      <td>19</td>\n",
       "      <td>1</td>\n",
       "    </tr>\n",
       "    <tr>\n",
       "      <th>2569</th>\n",
       "      <td>2569</td>\n",
       "      <td>BRCA1</td>\n",
       "      <td>Q1811R</td>\n",
       "      <td>1</td>\n",
       "      <td>Abstract  The BRCA1 gene from individuals at ...</td>\n",
       "      <td>19</td>\n",
       "      <td>1</td>\n",
       "    </tr>\n",
       "    <tr>\n",
       "      <th>2577</th>\n",
       "      <td>2577</td>\n",
       "      <td>BRCA1</td>\n",
       "      <td>A1752V</td>\n",
       "      <td>1</td>\n",
       "      <td>Genetic screening of the breast and ovarian ca...</td>\n",
       "      <td>16</td>\n",
       "      <td>0</td>\n",
       "    </tr>\n",
       "    <tr>\n",
       "      <th>2578</th>\n",
       "      <td>2578</td>\n",
       "      <td>BRCA1</td>\n",
       "      <td>G1656D</td>\n",
       "      <td>1</td>\n",
       "      <td>Genetic screening of the breast and ovarian ca...</td>\n",
       "      <td>16</td>\n",
       "      <td>0</td>\n",
       "    </tr>\n",
       "    <tr>\n",
       "      <th>2579</th>\n",
       "      <td>2579</td>\n",
       "      <td>BRCA1</td>\n",
       "      <td>G1763V</td>\n",
       "      <td>1</td>\n",
       "      <td>Genetic screening of the breast and ovarian ca...</td>\n",
       "      <td>16</td>\n",
       "      <td>0</td>\n",
       "    </tr>\n",
       "    <tr>\n",
       "      <th>2581</th>\n",
       "      <td>2581</td>\n",
       "      <td>BRCA1</td>\n",
       "      <td>V1688del</td>\n",
       "      <td>1</td>\n",
       "      <td>Mutations in BRCA1 and BRCA2 account for the m...</td>\n",
       "      <td>81</td>\n",
       "      <td>5</td>\n",
       "    </tr>\n",
       "    <tr>\n",
       "      <th>2582</th>\n",
       "      <td>2582</td>\n",
       "      <td>BRCA1</td>\n",
       "      <td>D1739Y</td>\n",
       "      <td>1</td>\n",
       "      <td>Abstract  The BRCA1 gene from individuals at ...</td>\n",
       "      <td>19</td>\n",
       "      <td>10</td>\n",
       "    </tr>\n",
       "    <tr>\n",
       "      <th>2583</th>\n",
       "      <td>2583</td>\n",
       "      <td>BRCA1</td>\n",
       "      <td>E1660G</td>\n",
       "      <td>1</td>\n",
       "      <td>Abstract  The BRCA1 gene from individuals at ...</td>\n",
       "      <td>6</td>\n",
       "      <td>2</td>\n",
       "    </tr>\n",
       "    <tr>\n",
       "      <th>2586</th>\n",
       "      <td>2586</td>\n",
       "      <td>BRCA1</td>\n",
       "      <td>M1628V</td>\n",
       "      <td>1</td>\n",
       "      <td>BRCA1 is a tumour suppressor with pleiotropic ...</td>\n",
       "      <td>19</td>\n",
       "      <td>2586</td>\n",
       "    </tr>\n",
       "    <tr>\n",
       "      <th>2592</th>\n",
       "      <td>2592</td>\n",
       "      <td>BRCA1</td>\n",
       "      <td>V1838E</td>\n",
       "      <td>1</td>\n",
       "      <td>Genetic screening of the breast and ovarian ca...</td>\n",
       "      <td>16</td>\n",
       "      <td>0</td>\n",
       "    </tr>\n",
       "    <tr>\n",
       "      <th>2596</th>\n",
       "      <td>2596</td>\n",
       "      <td>BRCA1</td>\n",
       "      <td>G1788D</td>\n",
       "      <td>1</td>\n",
       "      <td>Abstract  The BRCA1 gene from individuals at ...</td>\n",
       "      <td>34</td>\n",
       "      <td>2596</td>\n",
       "    </tr>\n",
       "    <tr>\n",
       "      <th>2598</th>\n",
       "      <td>2598</td>\n",
       "      <td>BRCA1</td>\n",
       "      <td>V1809F</td>\n",
       "      <td>1</td>\n",
       "      <td>Abstract  The BRCA1 gene from individuals at ...</td>\n",
       "      <td>34</td>\n",
       "      <td>2598</td>\n",
       "    </tr>\n",
       "    <tr>\n",
       "      <th>2599</th>\n",
       "      <td>2599</td>\n",
       "      <td>BRCA1</td>\n",
       "      <td>M1689R</td>\n",
       "      <td>1</td>\n",
       "      <td>Abstract  The BRCA1 gene from individuals at ...</td>\n",
       "      <td>19</td>\n",
       "      <td>1</td>\n",
       "    </tr>\n",
       "    <tr>\n",
       "      <th>2600</th>\n",
       "      <td>2600</td>\n",
       "      <td>BRCA1</td>\n",
       "      <td>D1739E</td>\n",
       "      <td>1</td>\n",
       "      <td>ABSTRACT Germline mutations that inactivate th...</td>\n",
       "      <td>44</td>\n",
       "      <td>11</td>\n",
       "    </tr>\n",
       "    <tr>\n",
       "      <th>2614</th>\n",
       "      <td>2614</td>\n",
       "      <td>BRCA1</td>\n",
       "      <td>M1R</td>\n",
       "      <td>1</td>\n",
       "      <td>A large number of missense mutations have been...</td>\n",
       "      <td>29</td>\n",
       "      <td>7</td>\n",
       "    </tr>\n",
       "    <tr>\n",
       "      <th>2619</th>\n",
       "      <td>2619</td>\n",
       "      <td>BRCA1</td>\n",
       "      <td>V1810G</td>\n",
       "      <td>1</td>\n",
       "      <td>ABSTRACT Germline mutations that inactivate th...</td>\n",
       "      <td>44</td>\n",
       "      <td>11</td>\n",
       "    </tr>\n",
       "    <tr>\n",
       "      <th>2634</th>\n",
       "      <td>2634</td>\n",
       "      <td>BRCA1</td>\n",
       "      <td>W1718L</td>\n",
       "      <td>1</td>\n",
       "      <td>Abstract Germline inactivating mutations in B...</td>\n",
       "      <td>10</td>\n",
       "      <td>9</td>\n",
       "    </tr>\n",
       "    <tr>\n",
       "      <th>2639</th>\n",
       "      <td>2639</td>\n",
       "      <td>BRCA1</td>\n",
       "      <td>V1653M</td>\n",
       "      <td>1</td>\n",
       "      <td>ABSTRACT Germline mutations that inactivate th...</td>\n",
       "      <td>44</td>\n",
       "      <td>11</td>\n",
       "    </tr>\n",
       "    <tr>\n",
       "      <th>2645</th>\n",
       "      <td>2645</td>\n",
       "      <td>BRCA1</td>\n",
       "      <td>S1164I</td>\n",
       "      <td>1</td>\n",
       "      <td>ABSTRACT: The BRCA1 tumor suppressor gene is f...</td>\n",
       "      <td>7</td>\n",
       "      <td>2645</td>\n",
       "    </tr>\n",
       "    <tr>\n",
       "      <th>2650</th>\n",
       "      <td>2650</td>\n",
       "      <td>BRCA1</td>\n",
       "      <td>Q1756C</td>\n",
       "      <td>1</td>\n",
       "      <td>ABSTRACT Mutations in BRCA1 account for 45% o...</td>\n",
       "      <td>0</td>\n",
       "      <td>2650</td>\n",
       "    </tr>\n",
       "    <tr>\n",
       "      <th>2652</th>\n",
       "      <td>2652</td>\n",
       "      <td>BRCA1</td>\n",
       "      <td>M1652K</td>\n",
       "      <td>1</td>\n",
       "      <td>ABSTRACT Germline mutations that inactivate th...</td>\n",
       "      <td>48</td>\n",
       "      <td>2652</td>\n",
       "    </tr>\n",
       "    <tr>\n",
       "      <th>2653</th>\n",
       "      <td>2653</td>\n",
       "      <td>BRCA1</td>\n",
       "      <td>R1751P</td>\n",
       "      <td>1</td>\n",
       "      <td>Abstract  The BRCA1 gene from individuals at ...</td>\n",
       "      <td>19</td>\n",
       "      <td>10</td>\n",
       "    </tr>\n",
       "    <tr>\n",
       "      <th>2659</th>\n",
       "      <td>2659</td>\n",
       "      <td>BRCA1</td>\n",
       "      <td>A1708V</td>\n",
       "      <td>1</td>\n",
       "      <td>Genetic screening of the breast and ovarian ca...</td>\n",
       "      <td>16</td>\n",
       "      <td>0</td>\n",
       "    </tr>\n",
       "    <tr>\n",
       "      <th>2664</th>\n",
       "      <td>2664</td>\n",
       "      <td>BRCA1</td>\n",
       "      <td>A1843P</td>\n",
       "      <td>1</td>\n",
       "      <td>Abstract  The BRCA1 gene from individuals at ...</td>\n",
       "      <td>35</td>\n",
       "      <td>2664</td>\n",
       "    </tr>\n",
       "    <tr>\n",
       "      <th>2670</th>\n",
       "      <td>2670</td>\n",
       "      <td>BRCA1</td>\n",
       "      <td>T1691K</td>\n",
       "      <td>1</td>\n",
       "      <td>Genetic screening of the breast and ovarian ca...</td>\n",
       "      <td>16</td>\n",
       "      <td>0</td>\n",
       "    </tr>\n",
       "    <tr>\n",
       "      <th>2677</th>\n",
       "      <td>2677</td>\n",
       "      <td>BRCA1</td>\n",
       "      <td>A1843T</td>\n",
       "      <td>1</td>\n",
       "      <td>Abstract  The BRCA1 gene from individuals at ...</td>\n",
       "      <td>7</td>\n",
       "      <td>8</td>\n",
       "    </tr>\n",
       "  </tbody>\n",
       "</table>\n",
       "</div>"
      ],
      "text/plain": [
       "        ID   Gene             Variation  Class  \\\n",
       "2420  2420  BRCA1                R1835P      1   \n",
       "2421  2421  BRCA1  Truncating Mutations      1   \n",
       "2422  2422  BRCA1                G1803A      1   \n",
       "2424  2424  BRCA1                G1743R      1   \n",
       "2431  2431  BRCA1                L1407P      1   \n",
       "2432  2432  BRCA1                L1657P      1   \n",
       "2436  2436  BRCA1                M1689T      1   \n",
       "2438  2438  BRCA1                W1837C      1   \n",
       "2439  2439  BRCA1              Deletion      1   \n",
       "2441  2441  BRCA1                F1761I      1   \n",
       "2443  2443  BRCA1                I1807S      1   \n",
       "2455  2455  BRCA1                H1746N      1   \n",
       "2463  2463  BRCA1                V1833M      1   \n",
       "2465  2465  BRCA1                T1691I      1   \n",
       "2470  2470  BRCA1                S1715C      1   \n",
       "2474  2474  BRCA1                V1741G      1   \n",
       "2475  2475  BRCA1                R1699L      1   \n",
       "2478  2478  BRCA1                F1734S      1   \n",
       "2482  2482  BRCA1                L1705P      1   \n",
       "2483  2483  BRCA1                H1686R      1   \n",
       "2486  2486  BRCA1                S1841R      1   \n",
       "2491  2491  BRCA1                W1837G      1   \n",
       "2501  2501  BRCA1                K1702E      1   \n",
       "2506  2506  BRCA1                M1775E      1   \n",
       "2510  2510  BRCA1                S1841N      1   \n",
       "2513  2513  BRCA1                S1841A      1   \n",
       "2522  2522  BRCA1                V1736G      1   \n",
       "2523  2523  BRCA1                L1854P      1   \n",
       "2524  2524  BRCA1                E1836K      1   \n",
       "2525  2525  BRCA1                F1704S      1   \n",
       "2542  2542  BRCA1                Y1703H      1   \n",
       "2552  2552  BRCA1                V1714G      1   \n",
       "2554  2554  BRCA1                Y1703S      1   \n",
       "2557  2557  BRCA1                V1833E      1   \n",
       "2567  2567  BRCA1                T1685A      1   \n",
       "2569  2569  BRCA1                Q1811R      1   \n",
       "2577  2577  BRCA1                A1752V      1   \n",
       "2578  2578  BRCA1                G1656D      1   \n",
       "2579  2579  BRCA1                G1763V      1   \n",
       "2581  2581  BRCA1              V1688del      1   \n",
       "2582  2582  BRCA1                D1739Y      1   \n",
       "2583  2583  BRCA1                E1660G      1   \n",
       "2586  2586  BRCA1                M1628V      1   \n",
       "2592  2592  BRCA1                V1838E      1   \n",
       "2596  2596  BRCA1                G1788D      1   \n",
       "2598  2598  BRCA1                V1809F      1   \n",
       "2599  2599  BRCA1                M1689R      1   \n",
       "2600  2600  BRCA1                D1739E      1   \n",
       "2614  2614  BRCA1                   M1R      1   \n",
       "2619  2619  BRCA1                V1810G      1   \n",
       "2634  2634  BRCA1                W1718L      1   \n",
       "2639  2639  BRCA1                V1653M      1   \n",
       "2645  2645  BRCA1                S1164I      1   \n",
       "2650  2650  BRCA1                Q1756C      1   \n",
       "2652  2652  BRCA1                M1652K      1   \n",
       "2653  2653  BRCA1                R1751P      1   \n",
       "2659  2659  BRCA1                A1708V      1   \n",
       "2664  2664  BRCA1                A1843P      1   \n",
       "2670  2670  BRCA1                T1691K      1   \n",
       "2677  2677  BRCA1                A1843T      1   \n",
       "\n",
       "                                                   Text  commn mutations  \\\n",
       "2420  Genetic screening of the breast and ovarian ca...               16   \n",
       "2421  BRCA1 and BRCA2 mutations are estimated to be ...                3   \n",
       "2422   Abstract  The BRCA1 gene from individuals at ...               19   \n",
       "2424   Abstract  The BRCA1 gene from individuals at ...                6   \n",
       "2431  Mutations in BRCA1 and BRCA2 account for the m...              129   \n",
       "2432   Abstract  The BRCA1 gene from individuals at ...                6   \n",
       "2436  Genetic screening of the breast and ovarian ca...               16   \n",
       "2438  Genetic screening of the breast and ovarian ca...               16   \n",
       "2439  BRCA1 and BRCA2 mutations are estimated to be ...                1   \n",
       "2441   Abstract  The BRCA1 gene from individuals at ...               22   \n",
       "2443   Abstract  The BRCA1 gene from individuals at ...                6   \n",
       "2455   Abstract  The BRCA1 gene from individuals at ...               19   \n",
       "2463  ABSTRACT Germline mutations that inactivate th...               67   \n",
       "2465  Mutations in BRCA1 and BRCA2 account for the m...               93   \n",
       "2470  Genetic screening of the breast and ovarian ca...               16   \n",
       "2474  Germline mutation analysis of BRCA1 gene has d...               26   \n",
       "2475   Abstract  The BRCA1 gene from individuals at ...               19   \n",
       "2478   Abstract  The BRCA1 gene from individuals at ...               19   \n",
       "2482   Abstract  The BRCA1 gene from individuals at ...               22   \n",
       "2483  Mutations in BRCA1 and BRCA2 account for the m...               81   \n",
       "2486  Genetic screening of the breast and ovarian ca...               16   \n",
       "2491   Abstract  The BRCA1 gene from individuals at ...               19   \n",
       "2501   Abstract  The BRCA1 gene from individuals at ...               22   \n",
       "2506   Abstract  The BRCA1 gene from individuals at ...                7   \n",
       "2510   Abstract  The BRCA1 gene from individuals at ...               19   \n",
       "2513  A large number of missense mutations have been...               29   \n",
       "2522  Genetic screening of the breast and ovarian ca...               16   \n",
       "2523  Genetic screening of the breast and ovarian ca...               16   \n",
       "2524  Genetic screening of the breast and ovarian ca...               16   \n",
       "2525   Abstract  The BRCA1 gene from individuals at ...                7   \n",
       "2542   Abstract  The BRCA1 gene from individuals at ...               22   \n",
       "2552  Genetic screening of the breast and ovarian ca...               16   \n",
       "2554   Abstract Germline inactivating mutations in B...               10   \n",
       "2557   Abstract  The BRCA1 gene from individuals at ...               22   \n",
       "2567   Abstract  The BRCA1 gene from individuals at ...               19   \n",
       "2569   Abstract  The BRCA1 gene from individuals at ...               19   \n",
       "2577  Genetic screening of the breast and ovarian ca...               16   \n",
       "2578  Genetic screening of the breast and ovarian ca...               16   \n",
       "2579  Genetic screening of the breast and ovarian ca...               16   \n",
       "2581  Mutations in BRCA1 and BRCA2 account for the m...               81   \n",
       "2582   Abstract  The BRCA1 gene from individuals at ...               19   \n",
       "2583   Abstract  The BRCA1 gene from individuals at ...                6   \n",
       "2586  BRCA1 is a tumour suppressor with pleiotropic ...               19   \n",
       "2592  Genetic screening of the breast and ovarian ca...               16   \n",
       "2596   Abstract  The BRCA1 gene from individuals at ...               34   \n",
       "2598   Abstract  The BRCA1 gene from individuals at ...               34   \n",
       "2599   Abstract  The BRCA1 gene from individuals at ...               19   \n",
       "2600  ABSTRACT Germline mutations that inactivate th...               44   \n",
       "2614  A large number of missense mutations have been...               29   \n",
       "2619  ABSTRACT Germline mutations that inactivate th...               44   \n",
       "2634   Abstract Germline inactivating mutations in B...               10   \n",
       "2639  ABSTRACT Germline mutations that inactivate th...               44   \n",
       "2645  ABSTRACT: The BRCA1 tumor suppressor gene is f...                7   \n",
       "2650   ABSTRACT Mutations in BRCA1 account for 45% o...                0   \n",
       "2652  ABSTRACT Germline mutations that inactivate th...               48   \n",
       "2653   Abstract  The BRCA1 gene from individuals at ...               19   \n",
       "2659  Genetic screening of the breast and ovarian ca...               16   \n",
       "2664   Abstract  The BRCA1 gene from individuals at ...               35   \n",
       "2670  Genetic screening of the breast and ovarian ca...               16   \n",
       "2677   Abstract  The BRCA1 gene from individuals at ...                7   \n",
       "\n",
       "      text_code  \n",
       "2420          0  \n",
       "2421       2421  \n",
       "2422          1  \n",
       "2424          2  \n",
       "2431       2431  \n",
       "2432          2  \n",
       "2436          0  \n",
       "2438          0  \n",
       "2439       2439  \n",
       "2441          3  \n",
       "2443          2  \n",
       "2455          1  \n",
       "2463       2463  \n",
       "2465       2465  \n",
       "2470          0  \n",
       "2474       2474  \n",
       "2475       2475  \n",
       "2478          1  \n",
       "2482          4  \n",
       "2483          5  \n",
       "2486          0  \n",
       "2491          6  \n",
       "2501          3  \n",
       "2506       2506  \n",
       "2510          6  \n",
       "2513          7  \n",
       "2522          0  \n",
       "2523          0  \n",
       "2524          0  \n",
       "2525          8  \n",
       "2542          4  \n",
       "2552          0  \n",
       "2554          9  \n",
       "2557          3  \n",
       "2567          1  \n",
       "2569          1  \n",
       "2577          0  \n",
       "2578          0  \n",
       "2579          0  \n",
       "2581          5  \n",
       "2582         10  \n",
       "2583          2  \n",
       "2586       2586  \n",
       "2592          0  \n",
       "2596       2596  \n",
       "2598       2598  \n",
       "2599          1  \n",
       "2600         11  \n",
       "2614          7  \n",
       "2619         11  \n",
       "2634          9  \n",
       "2639         11  \n",
       "2645       2645  \n",
       "2650       2650  \n",
       "2652       2652  \n",
       "2653         10  \n",
       "2659          0  \n",
       "2664       2664  \n",
       "2670          0  \n",
       "2677          8  "
      ]
     },
     "execution_count": 113,
     "metadata": {},
     "output_type": "execute_result"
    }
   ],
   "source": [
    "brca1_df.replace({\"text_code\":new_dict})"
   ]
  },
  {
   "cell_type": "code",
   "execution_count": 75,
   "metadata": {},
   "outputs": [],
   "source": [
    "# lst=[]\n",
    "# for x1,x2 in combinations(brca_class1,2):\n",
    "#     tup_val = (x1[0],x2[0])\n",
    "#     lst.append(tup_val)    "
   ]
  },
  {
   "cell_type": "code",
   "execution_count": null,
   "metadata": {},
   "outputs": [],
   "source": [
    "# for i in range(len(set_lst2)):\n",
    "#     print (set_lst2[i])\n",
    "#     coll_lst=[]\n",
    "#     for x in lst:        \n",
    "#         if set_lst2[i] == x[0]:\n",
    "#             coll_lst.append(x[1])\n",
    "#     print(len(coll_lst))    "
   ]
  },
  {
   "cell_type": "code",
   "execution_count": 61,
   "metadata": {},
   "outputs": [],
   "source": [
    "def text_match(data1,data2):\n",
    "    idx_x=[]\n",
    "    idx_y=[]\n",
    "    val=[]\n",
    "    for item1,item2 in product(brca_class1,brca_class1):\n",
    "        if np.in1d(item1[1],item2[1]):\n",
    "            #print(item1[0],\" \",item2[0],\" \",len((item1[1]).intersection(item2[1])),\" \",np.in1d(item1[1],item2[1]))\n",
    "            idx_x.append(item1[0])\n",
    "            idx_y.append(item2[0])\n",
    "            val.append(len(item1[1].intersection(item2[1])))\n",
    "            #print(item1[0],\" \",item2[0])        \n",
    "            #print(item1[0],\" \",item2[0],\" \",len((item1[1]).intersection(item2[1])),\" \",len(np.intersect1d(item1[1],item2[1])))          \n",
    "            #print(item1[0],\" \",item2[0],\" \",len(np.intersect1d(item1[1],item2[1])))   \n",
    "    df=pd.DataFrame({\"idx_x\":idx_x,\"idx_y\":idx_y,\"val\":val})\n",
    "    return df\n",
    "    "
   ]
  },
  {
   "cell_type": "code",
   "execution_count": 62,
   "metadata": {},
   "outputs": [],
   "source": [
    "df=text_match(brca_class1,brca_class1)"
   ]
  },
  {
   "cell_type": "code",
   "execution_count": 88,
   "metadata": {},
   "outputs": [
    {
     "data": {
      "text/plain": [
       "(362, 3)"
      ]
     },
     "execution_count": 88,
     "metadata": {},
     "output_type": "execute_result"
    }
   ],
   "source": [
    "df.shape"
   ]
  },
  {
   "cell_type": "code",
   "execution_count": 63,
   "metadata": {},
   "outputs": [
    {
     "data": {
      "text/html": [
       "<div>\n",
       "<style scoped>\n",
       "    .dataframe tbody tr th:only-of-type {\n",
       "        vertical-align: middle;\n",
       "    }\n",
       "\n",
       "    .dataframe tbody tr th {\n",
       "        vertical-align: top;\n",
       "    }\n",
       "\n",
       "    .dataframe thead th {\n",
       "        text-align: right;\n",
       "    }\n",
       "</style>\n",
       "<table border=\"1\" class=\"dataframe\">\n",
       "  <thead>\n",
       "    <tr style=\"text-align: right;\">\n",
       "      <th>idx_y</th>\n",
       "      <th>2420</th>\n",
       "      <th>2421</th>\n",
       "      <th>2422</th>\n",
       "      <th>2424</th>\n",
       "      <th>2431</th>\n",
       "      <th>2432</th>\n",
       "      <th>2436</th>\n",
       "      <th>2438</th>\n",
       "      <th>2439</th>\n",
       "      <th>2441</th>\n",
       "      <th>2443</th>\n",
       "      <th>2455</th>\n",
       "      <th>2463</th>\n",
       "      <th>2465</th>\n",
       "      <th>2470</th>\n",
       "      <th>2474</th>\n",
       "      <th>2475</th>\n",
       "      <th>2478</th>\n",
       "      <th>2482</th>\n",
       "      <th>2483</th>\n",
       "      <th>2486</th>\n",
       "      <th>2491</th>\n",
       "      <th>2501</th>\n",
       "      <th>2506</th>\n",
       "      <th>2510</th>\n",
       "      <th>2513</th>\n",
       "      <th>2522</th>\n",
       "      <th>2523</th>\n",
       "      <th>2524</th>\n",
       "      <th>2525</th>\n",
       "      <th>2542</th>\n",
       "      <th>2552</th>\n",
       "      <th>2554</th>\n",
       "      <th>2557</th>\n",
       "      <th>2567</th>\n",
       "      <th>2569</th>\n",
       "      <th>2577</th>\n",
       "      <th>2578</th>\n",
       "      <th>2579</th>\n",
       "      <th>2581</th>\n",
       "      <th>2582</th>\n",
       "      <th>2583</th>\n",
       "      <th>2586</th>\n",
       "      <th>2592</th>\n",
       "      <th>2596</th>\n",
       "      <th>2598</th>\n",
       "      <th>2599</th>\n",
       "      <th>2600</th>\n",
       "      <th>2614</th>\n",
       "      <th>2619</th>\n",
       "      <th>2634</th>\n",
       "      <th>2639</th>\n",
       "      <th>2645</th>\n",
       "      <th>2650</th>\n",
       "      <th>2652</th>\n",
       "      <th>2653</th>\n",
       "      <th>2659</th>\n",
       "      <th>2664</th>\n",
       "      <th>2670</th>\n",
       "      <th>2677</th>\n",
       "    </tr>\n",
       "    <tr>\n",
       "      <th>idx_x</th>\n",
       "      <th></th>\n",
       "      <th></th>\n",
       "      <th></th>\n",
       "      <th></th>\n",
       "      <th></th>\n",
       "      <th></th>\n",
       "      <th></th>\n",
       "      <th></th>\n",
       "      <th></th>\n",
       "      <th></th>\n",
       "      <th></th>\n",
       "      <th></th>\n",
       "      <th></th>\n",
       "      <th></th>\n",
       "      <th></th>\n",
       "      <th></th>\n",
       "      <th></th>\n",
       "      <th></th>\n",
       "      <th></th>\n",
       "      <th></th>\n",
       "      <th></th>\n",
       "      <th></th>\n",
       "      <th></th>\n",
       "      <th></th>\n",
       "      <th></th>\n",
       "      <th></th>\n",
       "      <th></th>\n",
       "      <th></th>\n",
       "      <th></th>\n",
       "      <th></th>\n",
       "      <th></th>\n",
       "      <th></th>\n",
       "      <th></th>\n",
       "      <th></th>\n",
       "      <th></th>\n",
       "      <th></th>\n",
       "      <th></th>\n",
       "      <th></th>\n",
       "      <th></th>\n",
       "      <th></th>\n",
       "      <th></th>\n",
       "      <th></th>\n",
       "      <th></th>\n",
       "      <th></th>\n",
       "      <th></th>\n",
       "      <th></th>\n",
       "      <th></th>\n",
       "      <th></th>\n",
       "      <th></th>\n",
       "      <th></th>\n",
       "      <th></th>\n",
       "      <th></th>\n",
       "      <th></th>\n",
       "      <th></th>\n",
       "      <th></th>\n",
       "      <th></th>\n",
       "      <th></th>\n",
       "      <th></th>\n",
       "      <th></th>\n",
       "      <th></th>\n",
       "    </tr>\n",
       "  </thead>\n",
       "  <tbody>\n",
       "    <tr>\n",
       "      <td>2420</td>\n",
       "      <td>1455</td>\n",
       "      <td>0</td>\n",
       "      <td>0</td>\n",
       "      <td>0</td>\n",
       "      <td>0</td>\n",
       "      <td>0</td>\n",
       "      <td>1455</td>\n",
       "      <td>1455</td>\n",
       "      <td>0</td>\n",
       "      <td>0</td>\n",
       "      <td>0</td>\n",
       "      <td>0</td>\n",
       "      <td>0</td>\n",
       "      <td>0</td>\n",
       "      <td>1455</td>\n",
       "      <td>0</td>\n",
       "      <td>0</td>\n",
       "      <td>0</td>\n",
       "      <td>0</td>\n",
       "      <td>0</td>\n",
       "      <td>1455</td>\n",
       "      <td>0</td>\n",
       "      <td>0</td>\n",
       "      <td>0</td>\n",
       "      <td>0</td>\n",
       "      <td>0</td>\n",
       "      <td>1455</td>\n",
       "      <td>1455</td>\n",
       "      <td>1455</td>\n",
       "      <td>0</td>\n",
       "      <td>0</td>\n",
       "      <td>1455</td>\n",
       "      <td>0</td>\n",
       "      <td>0</td>\n",
       "      <td>0</td>\n",
       "      <td>0</td>\n",
       "      <td>1455</td>\n",
       "      <td>1455</td>\n",
       "      <td>1455</td>\n",
       "      <td>0</td>\n",
       "      <td>0</td>\n",
       "      <td>0</td>\n",
       "      <td>0</td>\n",
       "      <td>1455</td>\n",
       "      <td>0</td>\n",
       "      <td>0</td>\n",
       "      <td>0</td>\n",
       "      <td>0</td>\n",
       "      <td>0</td>\n",
       "      <td>0</td>\n",
       "      <td>0</td>\n",
       "      <td>0</td>\n",
       "      <td>0</td>\n",
       "      <td>0</td>\n",
       "      <td>0</td>\n",
       "      <td>0</td>\n",
       "      <td>1455</td>\n",
       "      <td>0</td>\n",
       "      <td>1455</td>\n",
       "      <td>0</td>\n",
       "    </tr>\n",
       "    <tr>\n",
       "      <td>2421</td>\n",
       "      <td>0</td>\n",
       "      <td>4136</td>\n",
       "      <td>0</td>\n",
       "      <td>0</td>\n",
       "      <td>0</td>\n",
       "      <td>0</td>\n",
       "      <td>0</td>\n",
       "      <td>0</td>\n",
       "      <td>0</td>\n",
       "      <td>0</td>\n",
       "      <td>0</td>\n",
       "      <td>0</td>\n",
       "      <td>0</td>\n",
       "      <td>0</td>\n",
       "      <td>0</td>\n",
       "      <td>0</td>\n",
       "      <td>0</td>\n",
       "      <td>0</td>\n",
       "      <td>0</td>\n",
       "      <td>0</td>\n",
       "      <td>0</td>\n",
       "      <td>0</td>\n",
       "      <td>0</td>\n",
       "      <td>0</td>\n",
       "      <td>0</td>\n",
       "      <td>0</td>\n",
       "      <td>0</td>\n",
       "      <td>0</td>\n",
       "      <td>0</td>\n",
       "      <td>0</td>\n",
       "      <td>0</td>\n",
       "      <td>0</td>\n",
       "      <td>0</td>\n",
       "      <td>0</td>\n",
       "      <td>0</td>\n",
       "      <td>0</td>\n",
       "      <td>0</td>\n",
       "      <td>0</td>\n",
       "      <td>0</td>\n",
       "      <td>0</td>\n",
       "      <td>0</td>\n",
       "      <td>0</td>\n",
       "      <td>0</td>\n",
       "      <td>0</td>\n",
       "      <td>0</td>\n",
       "      <td>0</td>\n",
       "      <td>0</td>\n",
       "      <td>0</td>\n",
       "      <td>0</td>\n",
       "      <td>0</td>\n",
       "      <td>0</td>\n",
       "      <td>0</td>\n",
       "      <td>0</td>\n",
       "      <td>0</td>\n",
       "      <td>0</td>\n",
       "      <td>0</td>\n",
       "      <td>0</td>\n",
       "      <td>0</td>\n",
       "      <td>0</td>\n",
       "      <td>0</td>\n",
       "    </tr>\n",
       "    <tr>\n",
       "      <td>2422</td>\n",
       "      <td>0</td>\n",
       "      <td>0</td>\n",
       "      <td>2162</td>\n",
       "      <td>0</td>\n",
       "      <td>0</td>\n",
       "      <td>0</td>\n",
       "      <td>0</td>\n",
       "      <td>0</td>\n",
       "      <td>0</td>\n",
       "      <td>0</td>\n",
       "      <td>0</td>\n",
       "      <td>2162</td>\n",
       "      <td>0</td>\n",
       "      <td>0</td>\n",
       "      <td>0</td>\n",
       "      <td>0</td>\n",
       "      <td>0</td>\n",
       "      <td>2162</td>\n",
       "      <td>0</td>\n",
       "      <td>0</td>\n",
       "      <td>0</td>\n",
       "      <td>0</td>\n",
       "      <td>0</td>\n",
       "      <td>0</td>\n",
       "      <td>0</td>\n",
       "      <td>0</td>\n",
       "      <td>0</td>\n",
       "      <td>0</td>\n",
       "      <td>0</td>\n",
       "      <td>0</td>\n",
       "      <td>0</td>\n",
       "      <td>0</td>\n",
       "      <td>0</td>\n",
       "      <td>0</td>\n",
       "      <td>2162</td>\n",
       "      <td>2162</td>\n",
       "      <td>0</td>\n",
       "      <td>0</td>\n",
       "      <td>0</td>\n",
       "      <td>0</td>\n",
       "      <td>2162</td>\n",
       "      <td>0</td>\n",
       "      <td>0</td>\n",
       "      <td>0</td>\n",
       "      <td>0</td>\n",
       "      <td>0</td>\n",
       "      <td>2162</td>\n",
       "      <td>0</td>\n",
       "      <td>0</td>\n",
       "      <td>0</td>\n",
       "      <td>0</td>\n",
       "      <td>0</td>\n",
       "      <td>0</td>\n",
       "      <td>0</td>\n",
       "      <td>0</td>\n",
       "      <td>2162</td>\n",
       "      <td>0</td>\n",
       "      <td>0</td>\n",
       "      <td>0</td>\n",
       "      <td>0</td>\n",
       "    </tr>\n",
       "    <tr>\n",
       "      <td>2424</td>\n",
       "      <td>0</td>\n",
       "      <td>0</td>\n",
       "      <td>0</td>\n",
       "      <td>1116</td>\n",
       "      <td>0</td>\n",
       "      <td>1116</td>\n",
       "      <td>0</td>\n",
       "      <td>0</td>\n",
       "      <td>0</td>\n",
       "      <td>0</td>\n",
       "      <td>1116</td>\n",
       "      <td>0</td>\n",
       "      <td>0</td>\n",
       "      <td>0</td>\n",
       "      <td>0</td>\n",
       "      <td>0</td>\n",
       "      <td>0</td>\n",
       "      <td>0</td>\n",
       "      <td>0</td>\n",
       "      <td>0</td>\n",
       "      <td>0</td>\n",
       "      <td>0</td>\n",
       "      <td>0</td>\n",
       "      <td>0</td>\n",
       "      <td>0</td>\n",
       "      <td>0</td>\n",
       "      <td>0</td>\n",
       "      <td>0</td>\n",
       "      <td>0</td>\n",
       "      <td>0</td>\n",
       "      <td>0</td>\n",
       "      <td>0</td>\n",
       "      <td>0</td>\n",
       "      <td>0</td>\n",
       "      <td>0</td>\n",
       "      <td>0</td>\n",
       "      <td>0</td>\n",
       "      <td>0</td>\n",
       "      <td>0</td>\n",
       "      <td>0</td>\n",
       "      <td>0</td>\n",
       "      <td>1116</td>\n",
       "      <td>0</td>\n",
       "      <td>0</td>\n",
       "      <td>0</td>\n",
       "      <td>0</td>\n",
       "      <td>0</td>\n",
       "      <td>0</td>\n",
       "      <td>0</td>\n",
       "      <td>0</td>\n",
       "      <td>0</td>\n",
       "      <td>0</td>\n",
       "      <td>0</td>\n",
       "      <td>0</td>\n",
       "      <td>0</td>\n",
       "      <td>0</td>\n",
       "      <td>0</td>\n",
       "      <td>0</td>\n",
       "      <td>0</td>\n",
       "      <td>0</td>\n",
       "    </tr>\n",
       "    <tr>\n",
       "      <td>2431</td>\n",
       "      <td>0</td>\n",
       "      <td>0</td>\n",
       "      <td>0</td>\n",
       "      <td>0</td>\n",
       "      <td>5982</td>\n",
       "      <td>0</td>\n",
       "      <td>0</td>\n",
       "      <td>0</td>\n",
       "      <td>0</td>\n",
       "      <td>0</td>\n",
       "      <td>0</td>\n",
       "      <td>0</td>\n",
       "      <td>0</td>\n",
       "      <td>0</td>\n",
       "      <td>0</td>\n",
       "      <td>0</td>\n",
       "      <td>0</td>\n",
       "      <td>0</td>\n",
       "      <td>0</td>\n",
       "      <td>0</td>\n",
       "      <td>0</td>\n",
       "      <td>0</td>\n",
       "      <td>0</td>\n",
       "      <td>0</td>\n",
       "      <td>0</td>\n",
       "      <td>0</td>\n",
       "      <td>0</td>\n",
       "      <td>0</td>\n",
       "      <td>0</td>\n",
       "      <td>0</td>\n",
       "      <td>0</td>\n",
       "      <td>0</td>\n",
       "      <td>0</td>\n",
       "      <td>0</td>\n",
       "      <td>0</td>\n",
       "      <td>0</td>\n",
       "      <td>0</td>\n",
       "      <td>0</td>\n",
       "      <td>0</td>\n",
       "      <td>0</td>\n",
       "      <td>0</td>\n",
       "      <td>0</td>\n",
       "      <td>0</td>\n",
       "      <td>0</td>\n",
       "      <td>0</td>\n",
       "      <td>0</td>\n",
       "      <td>0</td>\n",
       "      <td>0</td>\n",
       "      <td>0</td>\n",
       "      <td>0</td>\n",
       "      <td>0</td>\n",
       "      <td>0</td>\n",
       "      <td>0</td>\n",
       "      <td>0</td>\n",
       "      <td>0</td>\n",
       "      <td>0</td>\n",
       "      <td>0</td>\n",
       "      <td>0</td>\n",
       "      <td>0</td>\n",
       "      <td>0</td>\n",
       "    </tr>\n",
       "    <tr>\n",
       "      <td>2432</td>\n",
       "      <td>0</td>\n",
       "      <td>0</td>\n",
       "      <td>0</td>\n",
       "      <td>1116</td>\n",
       "      <td>0</td>\n",
       "      <td>1116</td>\n",
       "      <td>0</td>\n",
       "      <td>0</td>\n",
       "      <td>0</td>\n",
       "      <td>0</td>\n",
       "      <td>1116</td>\n",
       "      <td>0</td>\n",
       "      <td>0</td>\n",
       "      <td>0</td>\n",
       "      <td>0</td>\n",
       "      <td>0</td>\n",
       "      <td>0</td>\n",
       "      <td>0</td>\n",
       "      <td>0</td>\n",
       "      <td>0</td>\n",
       "      <td>0</td>\n",
       "      <td>0</td>\n",
       "      <td>0</td>\n",
       "      <td>0</td>\n",
       "      <td>0</td>\n",
       "      <td>0</td>\n",
       "      <td>0</td>\n",
       "      <td>0</td>\n",
       "      <td>0</td>\n",
       "      <td>0</td>\n",
       "      <td>0</td>\n",
       "      <td>0</td>\n",
       "      <td>0</td>\n",
       "      <td>0</td>\n",
       "      <td>0</td>\n",
       "      <td>0</td>\n",
       "      <td>0</td>\n",
       "      <td>0</td>\n",
       "      <td>0</td>\n",
       "      <td>0</td>\n",
       "      <td>0</td>\n",
       "      <td>1116</td>\n",
       "      <td>0</td>\n",
       "      <td>0</td>\n",
       "      <td>0</td>\n",
       "      <td>0</td>\n",
       "      <td>0</td>\n",
       "      <td>0</td>\n",
       "      <td>0</td>\n",
       "      <td>0</td>\n",
       "      <td>0</td>\n",
       "      <td>0</td>\n",
       "      <td>0</td>\n",
       "      <td>0</td>\n",
       "      <td>0</td>\n",
       "      <td>0</td>\n",
       "      <td>0</td>\n",
       "      <td>0</td>\n",
       "      <td>0</td>\n",
       "      <td>0</td>\n",
       "    </tr>\n",
       "    <tr>\n",
       "      <td>2436</td>\n",
       "      <td>1455</td>\n",
       "      <td>0</td>\n",
       "      <td>0</td>\n",
       "      <td>0</td>\n",
       "      <td>0</td>\n",
       "      <td>0</td>\n",
       "      <td>1455</td>\n",
       "      <td>1455</td>\n",
       "      <td>0</td>\n",
       "      <td>0</td>\n",
       "      <td>0</td>\n",
       "      <td>0</td>\n",
       "      <td>0</td>\n",
       "      <td>0</td>\n",
       "      <td>1455</td>\n",
       "      <td>0</td>\n",
       "      <td>0</td>\n",
       "      <td>0</td>\n",
       "      <td>0</td>\n",
       "      <td>0</td>\n",
       "      <td>1455</td>\n",
       "      <td>0</td>\n",
       "      <td>0</td>\n",
       "      <td>0</td>\n",
       "      <td>0</td>\n",
       "      <td>0</td>\n",
       "      <td>1455</td>\n",
       "      <td>1455</td>\n",
       "      <td>1455</td>\n",
       "      <td>0</td>\n",
       "      <td>0</td>\n",
       "      <td>1455</td>\n",
       "      <td>0</td>\n",
       "      <td>0</td>\n",
       "      <td>0</td>\n",
       "      <td>0</td>\n",
       "      <td>1455</td>\n",
       "      <td>1455</td>\n",
       "      <td>1455</td>\n",
       "      <td>0</td>\n",
       "      <td>0</td>\n",
       "      <td>0</td>\n",
       "      <td>0</td>\n",
       "      <td>1455</td>\n",
       "      <td>0</td>\n",
       "      <td>0</td>\n",
       "      <td>0</td>\n",
       "      <td>0</td>\n",
       "      <td>0</td>\n",
       "      <td>0</td>\n",
       "      <td>0</td>\n",
       "      <td>0</td>\n",
       "      <td>0</td>\n",
       "      <td>0</td>\n",
       "      <td>0</td>\n",
       "      <td>0</td>\n",
       "      <td>1455</td>\n",
       "      <td>0</td>\n",
       "      <td>1455</td>\n",
       "      <td>0</td>\n",
       "    </tr>\n",
       "    <tr>\n",
       "      <td>2438</td>\n",
       "      <td>1455</td>\n",
       "      <td>0</td>\n",
       "      <td>0</td>\n",
       "      <td>0</td>\n",
       "      <td>0</td>\n",
       "      <td>0</td>\n",
       "      <td>1455</td>\n",
       "      <td>1455</td>\n",
       "      <td>0</td>\n",
       "      <td>0</td>\n",
       "      <td>0</td>\n",
       "      <td>0</td>\n",
       "      <td>0</td>\n",
       "      <td>0</td>\n",
       "      <td>1455</td>\n",
       "      <td>0</td>\n",
       "      <td>0</td>\n",
       "      <td>0</td>\n",
       "      <td>0</td>\n",
       "      <td>0</td>\n",
       "      <td>1455</td>\n",
       "      <td>0</td>\n",
       "      <td>0</td>\n",
       "      <td>0</td>\n",
       "      <td>0</td>\n",
       "      <td>0</td>\n",
       "      <td>1455</td>\n",
       "      <td>1455</td>\n",
       "      <td>1455</td>\n",
       "      <td>0</td>\n",
       "      <td>0</td>\n",
       "      <td>1455</td>\n",
       "      <td>0</td>\n",
       "      <td>0</td>\n",
       "      <td>0</td>\n",
       "      <td>0</td>\n",
       "      <td>1455</td>\n",
       "      <td>1455</td>\n",
       "      <td>1455</td>\n",
       "      <td>0</td>\n",
       "      <td>0</td>\n",
       "      <td>0</td>\n",
       "      <td>0</td>\n",
       "      <td>1455</td>\n",
       "      <td>0</td>\n",
       "      <td>0</td>\n",
       "      <td>0</td>\n",
       "      <td>0</td>\n",
       "      <td>0</td>\n",
       "      <td>0</td>\n",
       "      <td>0</td>\n",
       "      <td>0</td>\n",
       "      <td>0</td>\n",
       "      <td>0</td>\n",
       "      <td>0</td>\n",
       "      <td>0</td>\n",
       "      <td>1455</td>\n",
       "      <td>0</td>\n",
       "      <td>1455</td>\n",
       "      <td>0</td>\n",
       "    </tr>\n",
       "    <tr>\n",
       "      <td>2439</td>\n",
       "      <td>0</td>\n",
       "      <td>0</td>\n",
       "      <td>0</td>\n",
       "      <td>0</td>\n",
       "      <td>0</td>\n",
       "      <td>0</td>\n",
       "      <td>0</td>\n",
       "      <td>0</td>\n",
       "      <td>3716</td>\n",
       "      <td>0</td>\n",
       "      <td>0</td>\n",
       "      <td>0</td>\n",
       "      <td>0</td>\n",
       "      <td>0</td>\n",
       "      <td>0</td>\n",
       "      <td>0</td>\n",
       "      <td>0</td>\n",
       "      <td>0</td>\n",
       "      <td>0</td>\n",
       "      <td>0</td>\n",
       "      <td>0</td>\n",
       "      <td>0</td>\n",
       "      <td>0</td>\n",
       "      <td>0</td>\n",
       "      <td>0</td>\n",
       "      <td>0</td>\n",
       "      <td>0</td>\n",
       "      <td>0</td>\n",
       "      <td>0</td>\n",
       "      <td>0</td>\n",
       "      <td>0</td>\n",
       "      <td>0</td>\n",
       "      <td>0</td>\n",
       "      <td>0</td>\n",
       "      <td>0</td>\n",
       "      <td>0</td>\n",
       "      <td>0</td>\n",
       "      <td>0</td>\n",
       "      <td>0</td>\n",
       "      <td>0</td>\n",
       "      <td>0</td>\n",
       "      <td>0</td>\n",
       "      <td>0</td>\n",
       "      <td>0</td>\n",
       "      <td>0</td>\n",
       "      <td>0</td>\n",
       "      <td>0</td>\n",
       "      <td>0</td>\n",
       "      <td>0</td>\n",
       "      <td>0</td>\n",
       "      <td>0</td>\n",
       "      <td>0</td>\n",
       "      <td>0</td>\n",
       "      <td>0</td>\n",
       "      <td>0</td>\n",
       "      <td>0</td>\n",
       "      <td>0</td>\n",
       "      <td>0</td>\n",
       "      <td>0</td>\n",
       "      <td>0</td>\n",
       "    </tr>\n",
       "    <tr>\n",
       "      <td>2441</td>\n",
       "      <td>0</td>\n",
       "      <td>0</td>\n",
       "      <td>0</td>\n",
       "      <td>0</td>\n",
       "      <td>0</td>\n",
       "      <td>0</td>\n",
       "      <td>0</td>\n",
       "      <td>0</td>\n",
       "      <td>0</td>\n",
       "      <td>2434</td>\n",
       "      <td>0</td>\n",
       "      <td>0</td>\n",
       "      <td>0</td>\n",
       "      <td>0</td>\n",
       "      <td>0</td>\n",
       "      <td>0</td>\n",
       "      <td>0</td>\n",
       "      <td>0</td>\n",
       "      <td>0</td>\n",
       "      <td>0</td>\n",
       "      <td>0</td>\n",
       "      <td>0</td>\n",
       "      <td>2434</td>\n",
       "      <td>0</td>\n",
       "      <td>0</td>\n",
       "      <td>0</td>\n",
       "      <td>0</td>\n",
       "      <td>0</td>\n",
       "      <td>0</td>\n",
       "      <td>0</td>\n",
       "      <td>0</td>\n",
       "      <td>0</td>\n",
       "      <td>0</td>\n",
       "      <td>2434</td>\n",
       "      <td>0</td>\n",
       "      <td>0</td>\n",
       "      <td>0</td>\n",
       "      <td>0</td>\n",
       "      <td>0</td>\n",
       "      <td>0</td>\n",
       "      <td>0</td>\n",
       "      <td>0</td>\n",
       "      <td>0</td>\n",
       "      <td>0</td>\n",
       "      <td>0</td>\n",
       "      <td>0</td>\n",
       "      <td>0</td>\n",
       "      <td>0</td>\n",
       "      <td>0</td>\n",
       "      <td>0</td>\n",
       "      <td>0</td>\n",
       "      <td>0</td>\n",
       "      <td>0</td>\n",
       "      <td>0</td>\n",
       "      <td>0</td>\n",
       "      <td>0</td>\n",
       "      <td>0</td>\n",
       "      <td>0</td>\n",
       "      <td>0</td>\n",
       "      <td>0</td>\n",
       "    </tr>\n",
       "    <tr>\n",
       "      <td>2443</td>\n",
       "      <td>0</td>\n",
       "      <td>0</td>\n",
       "      <td>0</td>\n",
       "      <td>1116</td>\n",
       "      <td>0</td>\n",
       "      <td>1116</td>\n",
       "      <td>0</td>\n",
       "      <td>0</td>\n",
       "      <td>0</td>\n",
       "      <td>0</td>\n",
       "      <td>1116</td>\n",
       "      <td>0</td>\n",
       "      <td>0</td>\n",
       "      <td>0</td>\n",
       "      <td>0</td>\n",
       "      <td>0</td>\n",
       "      <td>0</td>\n",
       "      <td>0</td>\n",
       "      <td>0</td>\n",
       "      <td>0</td>\n",
       "      <td>0</td>\n",
       "      <td>0</td>\n",
       "      <td>0</td>\n",
       "      <td>0</td>\n",
       "      <td>0</td>\n",
       "      <td>0</td>\n",
       "      <td>0</td>\n",
       "      <td>0</td>\n",
       "      <td>0</td>\n",
       "      <td>0</td>\n",
       "      <td>0</td>\n",
       "      <td>0</td>\n",
       "      <td>0</td>\n",
       "      <td>0</td>\n",
       "      <td>0</td>\n",
       "      <td>0</td>\n",
       "      <td>0</td>\n",
       "      <td>0</td>\n",
       "      <td>0</td>\n",
       "      <td>0</td>\n",
       "      <td>0</td>\n",
       "      <td>1116</td>\n",
       "      <td>0</td>\n",
       "      <td>0</td>\n",
       "      <td>0</td>\n",
       "      <td>0</td>\n",
       "      <td>0</td>\n",
       "      <td>0</td>\n",
       "      <td>0</td>\n",
       "      <td>0</td>\n",
       "      <td>0</td>\n",
       "      <td>0</td>\n",
       "      <td>0</td>\n",
       "      <td>0</td>\n",
       "      <td>0</td>\n",
       "      <td>0</td>\n",
       "      <td>0</td>\n",
       "      <td>0</td>\n",
       "      <td>0</td>\n",
       "      <td>0</td>\n",
       "    </tr>\n",
       "    <tr>\n",
       "      <td>2455</td>\n",
       "      <td>0</td>\n",
       "      <td>0</td>\n",
       "      <td>2162</td>\n",
       "      <td>0</td>\n",
       "      <td>0</td>\n",
       "      <td>0</td>\n",
       "      <td>0</td>\n",
       "      <td>0</td>\n",
       "      <td>0</td>\n",
       "      <td>0</td>\n",
       "      <td>0</td>\n",
       "      <td>2162</td>\n",
       "      <td>0</td>\n",
       "      <td>0</td>\n",
       "      <td>0</td>\n",
       "      <td>0</td>\n",
       "      <td>0</td>\n",
       "      <td>2162</td>\n",
       "      <td>0</td>\n",
       "      <td>0</td>\n",
       "      <td>0</td>\n",
       "      <td>0</td>\n",
       "      <td>0</td>\n",
       "      <td>0</td>\n",
       "      <td>0</td>\n",
       "      <td>0</td>\n",
       "      <td>0</td>\n",
       "      <td>0</td>\n",
       "      <td>0</td>\n",
       "      <td>0</td>\n",
       "      <td>0</td>\n",
       "      <td>0</td>\n",
       "      <td>0</td>\n",
       "      <td>0</td>\n",
       "      <td>2162</td>\n",
       "      <td>2162</td>\n",
       "      <td>0</td>\n",
       "      <td>0</td>\n",
       "      <td>0</td>\n",
       "      <td>0</td>\n",
       "      <td>2162</td>\n",
       "      <td>0</td>\n",
       "      <td>0</td>\n",
       "      <td>0</td>\n",
       "      <td>0</td>\n",
       "      <td>0</td>\n",
       "      <td>2162</td>\n",
       "      <td>0</td>\n",
       "      <td>0</td>\n",
       "      <td>0</td>\n",
       "      <td>0</td>\n",
       "      <td>0</td>\n",
       "      <td>0</td>\n",
       "      <td>0</td>\n",
       "      <td>0</td>\n",
       "      <td>2162</td>\n",
       "      <td>0</td>\n",
       "      <td>0</td>\n",
       "      <td>0</td>\n",
       "      <td>0</td>\n",
       "    </tr>\n",
       "    <tr>\n",
       "      <td>2463</td>\n",
       "      <td>0</td>\n",
       "      <td>0</td>\n",
       "      <td>0</td>\n",
       "      <td>0</td>\n",
       "      <td>0</td>\n",
       "      <td>0</td>\n",
       "      <td>0</td>\n",
       "      <td>0</td>\n",
       "      <td>0</td>\n",
       "      <td>0</td>\n",
       "      <td>0</td>\n",
       "      <td>0</td>\n",
       "      <td>4443</td>\n",
       "      <td>0</td>\n",
       "      <td>0</td>\n",
       "      <td>0</td>\n",
       "      <td>0</td>\n",
       "      <td>0</td>\n",
       "      <td>0</td>\n",
       "      <td>0</td>\n",
       "      <td>0</td>\n",
       "      <td>0</td>\n",
       "      <td>0</td>\n",
       "      <td>0</td>\n",
       "      <td>0</td>\n",
       "      <td>0</td>\n",
       "      <td>0</td>\n",
       "      <td>0</td>\n",
       "      <td>0</td>\n",
       "      <td>0</td>\n",
       "      <td>0</td>\n",
       "      <td>0</td>\n",
       "      <td>0</td>\n",
       "      <td>0</td>\n",
       "      <td>0</td>\n",
       "      <td>0</td>\n",
       "      <td>0</td>\n",
       "      <td>0</td>\n",
       "      <td>0</td>\n",
       "      <td>0</td>\n",
       "      <td>0</td>\n",
       "      <td>0</td>\n",
       "      <td>0</td>\n",
       "      <td>0</td>\n",
       "      <td>0</td>\n",
       "      <td>0</td>\n",
       "      <td>0</td>\n",
       "      <td>0</td>\n",
       "      <td>0</td>\n",
       "      <td>0</td>\n",
       "      <td>0</td>\n",
       "      <td>0</td>\n",
       "      <td>0</td>\n",
       "      <td>0</td>\n",
       "      <td>0</td>\n",
       "      <td>0</td>\n",
       "      <td>0</td>\n",
       "      <td>0</td>\n",
       "      <td>0</td>\n",
       "      <td>0</td>\n",
       "    </tr>\n",
       "    <tr>\n",
       "      <td>2465</td>\n",
       "      <td>0</td>\n",
       "      <td>0</td>\n",
       "      <td>0</td>\n",
       "      <td>0</td>\n",
       "      <td>0</td>\n",
       "      <td>0</td>\n",
       "      <td>0</td>\n",
       "      <td>0</td>\n",
       "      <td>0</td>\n",
       "      <td>0</td>\n",
       "      <td>0</td>\n",
       "      <td>0</td>\n",
       "      <td>0</td>\n",
       "      <td>2796</td>\n",
       "      <td>0</td>\n",
       "      <td>0</td>\n",
       "      <td>0</td>\n",
       "      <td>0</td>\n",
       "      <td>0</td>\n",
       "      <td>0</td>\n",
       "      <td>0</td>\n",
       "      <td>0</td>\n",
       "      <td>0</td>\n",
       "      <td>0</td>\n",
       "      <td>0</td>\n",
       "      <td>0</td>\n",
       "      <td>0</td>\n",
       "      <td>0</td>\n",
       "      <td>0</td>\n",
       "      <td>0</td>\n",
       "      <td>0</td>\n",
       "      <td>0</td>\n",
       "      <td>0</td>\n",
       "      <td>0</td>\n",
       "      <td>0</td>\n",
       "      <td>0</td>\n",
       "      <td>0</td>\n",
       "      <td>0</td>\n",
       "      <td>0</td>\n",
       "      <td>0</td>\n",
       "      <td>0</td>\n",
       "      <td>0</td>\n",
       "      <td>0</td>\n",
       "      <td>0</td>\n",
       "      <td>0</td>\n",
       "      <td>0</td>\n",
       "      <td>0</td>\n",
       "      <td>0</td>\n",
       "      <td>0</td>\n",
       "      <td>0</td>\n",
       "      <td>0</td>\n",
       "      <td>0</td>\n",
       "      <td>0</td>\n",
       "      <td>0</td>\n",
       "      <td>0</td>\n",
       "      <td>0</td>\n",
       "      <td>0</td>\n",
       "      <td>0</td>\n",
       "      <td>0</td>\n",
       "      <td>0</td>\n",
       "    </tr>\n",
       "    <tr>\n",
       "      <td>2470</td>\n",
       "      <td>1455</td>\n",
       "      <td>0</td>\n",
       "      <td>0</td>\n",
       "      <td>0</td>\n",
       "      <td>0</td>\n",
       "      <td>0</td>\n",
       "      <td>1455</td>\n",
       "      <td>1455</td>\n",
       "      <td>0</td>\n",
       "      <td>0</td>\n",
       "      <td>0</td>\n",
       "      <td>0</td>\n",
       "      <td>0</td>\n",
       "      <td>0</td>\n",
       "      <td>1455</td>\n",
       "      <td>0</td>\n",
       "      <td>0</td>\n",
       "      <td>0</td>\n",
       "      <td>0</td>\n",
       "      <td>0</td>\n",
       "      <td>1455</td>\n",
       "      <td>0</td>\n",
       "      <td>0</td>\n",
       "      <td>0</td>\n",
       "      <td>0</td>\n",
       "      <td>0</td>\n",
       "      <td>1455</td>\n",
       "      <td>1455</td>\n",
       "      <td>1455</td>\n",
       "      <td>0</td>\n",
       "      <td>0</td>\n",
       "      <td>1455</td>\n",
       "      <td>0</td>\n",
       "      <td>0</td>\n",
       "      <td>0</td>\n",
       "      <td>0</td>\n",
       "      <td>1455</td>\n",
       "      <td>1455</td>\n",
       "      <td>1455</td>\n",
       "      <td>0</td>\n",
       "      <td>0</td>\n",
       "      <td>0</td>\n",
       "      <td>0</td>\n",
       "      <td>1455</td>\n",
       "      <td>0</td>\n",
       "      <td>0</td>\n",
       "      <td>0</td>\n",
       "      <td>0</td>\n",
       "      <td>0</td>\n",
       "      <td>0</td>\n",
       "      <td>0</td>\n",
       "      <td>0</td>\n",
       "      <td>0</td>\n",
       "      <td>0</td>\n",
       "      <td>0</td>\n",
       "      <td>0</td>\n",
       "      <td>1455</td>\n",
       "      <td>0</td>\n",
       "      <td>1455</td>\n",
       "      <td>0</td>\n",
       "    </tr>\n",
       "    <tr>\n",
       "      <td>2474</td>\n",
       "      <td>0</td>\n",
       "      <td>0</td>\n",
       "      <td>0</td>\n",
       "      <td>0</td>\n",
       "      <td>0</td>\n",
       "      <td>0</td>\n",
       "      <td>0</td>\n",
       "      <td>0</td>\n",
       "      <td>0</td>\n",
       "      <td>0</td>\n",
       "      <td>0</td>\n",
       "      <td>0</td>\n",
       "      <td>0</td>\n",
       "      <td>0</td>\n",
       "      <td>0</td>\n",
       "      <td>2941</td>\n",
       "      <td>0</td>\n",
       "      <td>0</td>\n",
       "      <td>0</td>\n",
       "      <td>0</td>\n",
       "      <td>0</td>\n",
       "      <td>0</td>\n",
       "      <td>0</td>\n",
       "      <td>0</td>\n",
       "      <td>0</td>\n",
       "      <td>0</td>\n",
       "      <td>0</td>\n",
       "      <td>0</td>\n",
       "      <td>0</td>\n",
       "      <td>0</td>\n",
       "      <td>0</td>\n",
       "      <td>0</td>\n",
       "      <td>0</td>\n",
       "      <td>0</td>\n",
       "      <td>0</td>\n",
       "      <td>0</td>\n",
       "      <td>0</td>\n",
       "      <td>0</td>\n",
       "      <td>0</td>\n",
       "      <td>0</td>\n",
       "      <td>0</td>\n",
       "      <td>0</td>\n",
       "      <td>0</td>\n",
       "      <td>0</td>\n",
       "      <td>0</td>\n",
       "      <td>0</td>\n",
       "      <td>0</td>\n",
       "      <td>0</td>\n",
       "      <td>0</td>\n",
       "      <td>0</td>\n",
       "      <td>0</td>\n",
       "      <td>0</td>\n",
       "      <td>0</td>\n",
       "      <td>0</td>\n",
       "      <td>0</td>\n",
       "      <td>0</td>\n",
       "      <td>0</td>\n",
       "      <td>0</td>\n",
       "      <td>0</td>\n",
       "      <td>0</td>\n",
       "    </tr>\n",
       "    <tr>\n",
       "      <td>2475</td>\n",
       "      <td>0</td>\n",
       "      <td>0</td>\n",
       "      <td>0</td>\n",
       "      <td>0</td>\n",
       "      <td>0</td>\n",
       "      <td>0</td>\n",
       "      <td>0</td>\n",
       "      <td>0</td>\n",
       "      <td>0</td>\n",
       "      <td>0</td>\n",
       "      <td>0</td>\n",
       "      <td>0</td>\n",
       "      <td>0</td>\n",
       "      <td>0</td>\n",
       "      <td>0</td>\n",
       "      <td>0</td>\n",
       "      <td>2588</td>\n",
       "      <td>0</td>\n",
       "      <td>0</td>\n",
       "      <td>0</td>\n",
       "      <td>0</td>\n",
       "      <td>0</td>\n",
       "      <td>0</td>\n",
       "      <td>0</td>\n",
       "      <td>0</td>\n",
       "      <td>0</td>\n",
       "      <td>0</td>\n",
       "      <td>0</td>\n",
       "      <td>0</td>\n",
       "      <td>0</td>\n",
       "      <td>0</td>\n",
       "      <td>0</td>\n",
       "      <td>0</td>\n",
       "      <td>0</td>\n",
       "      <td>0</td>\n",
       "      <td>0</td>\n",
       "      <td>0</td>\n",
       "      <td>0</td>\n",
       "      <td>0</td>\n",
       "      <td>0</td>\n",
       "      <td>0</td>\n",
       "      <td>0</td>\n",
       "      <td>0</td>\n",
       "      <td>0</td>\n",
       "      <td>0</td>\n",
       "      <td>0</td>\n",
       "      <td>0</td>\n",
       "      <td>0</td>\n",
       "      <td>0</td>\n",
       "      <td>0</td>\n",
       "      <td>0</td>\n",
       "      <td>0</td>\n",
       "      <td>0</td>\n",
       "      <td>0</td>\n",
       "      <td>0</td>\n",
       "      <td>0</td>\n",
       "      <td>0</td>\n",
       "      <td>0</td>\n",
       "      <td>0</td>\n",
       "      <td>0</td>\n",
       "    </tr>\n",
       "    <tr>\n",
       "      <td>2478</td>\n",
       "      <td>0</td>\n",
       "      <td>0</td>\n",
       "      <td>2162</td>\n",
       "      <td>0</td>\n",
       "      <td>0</td>\n",
       "      <td>0</td>\n",
       "      <td>0</td>\n",
       "      <td>0</td>\n",
       "      <td>0</td>\n",
       "      <td>0</td>\n",
       "      <td>0</td>\n",
       "      <td>2162</td>\n",
       "      <td>0</td>\n",
       "      <td>0</td>\n",
       "      <td>0</td>\n",
       "      <td>0</td>\n",
       "      <td>0</td>\n",
       "      <td>2162</td>\n",
       "      <td>0</td>\n",
       "      <td>0</td>\n",
       "      <td>0</td>\n",
       "      <td>0</td>\n",
       "      <td>0</td>\n",
       "      <td>0</td>\n",
       "      <td>0</td>\n",
       "      <td>0</td>\n",
       "      <td>0</td>\n",
       "      <td>0</td>\n",
       "      <td>0</td>\n",
       "      <td>0</td>\n",
       "      <td>0</td>\n",
       "      <td>0</td>\n",
       "      <td>0</td>\n",
       "      <td>0</td>\n",
       "      <td>2162</td>\n",
       "      <td>2162</td>\n",
       "      <td>0</td>\n",
       "      <td>0</td>\n",
       "      <td>0</td>\n",
       "      <td>0</td>\n",
       "      <td>2162</td>\n",
       "      <td>0</td>\n",
       "      <td>0</td>\n",
       "      <td>0</td>\n",
       "      <td>0</td>\n",
       "      <td>0</td>\n",
       "      <td>2162</td>\n",
       "      <td>0</td>\n",
       "      <td>0</td>\n",
       "      <td>0</td>\n",
       "      <td>0</td>\n",
       "      <td>0</td>\n",
       "      <td>0</td>\n",
       "      <td>0</td>\n",
       "      <td>0</td>\n",
       "      <td>2162</td>\n",
       "      <td>0</td>\n",
       "      <td>0</td>\n",
       "      <td>0</td>\n",
       "      <td>0</td>\n",
       "    </tr>\n",
       "    <tr>\n",
       "      <td>2482</td>\n",
       "      <td>0</td>\n",
       "      <td>0</td>\n",
       "      <td>0</td>\n",
       "      <td>0</td>\n",
       "      <td>0</td>\n",
       "      <td>0</td>\n",
       "      <td>0</td>\n",
       "      <td>0</td>\n",
       "      <td>0</td>\n",
       "      <td>0</td>\n",
       "      <td>0</td>\n",
       "      <td>0</td>\n",
       "      <td>0</td>\n",
       "      <td>0</td>\n",
       "      <td>0</td>\n",
       "      <td>0</td>\n",
       "      <td>0</td>\n",
       "      <td>0</td>\n",
       "      <td>2853</td>\n",
       "      <td>0</td>\n",
       "      <td>0</td>\n",
       "      <td>0</td>\n",
       "      <td>0</td>\n",
       "      <td>0</td>\n",
       "      <td>0</td>\n",
       "      <td>0</td>\n",
       "      <td>0</td>\n",
       "      <td>0</td>\n",
       "      <td>0</td>\n",
       "      <td>0</td>\n",
       "      <td>2853</td>\n",
       "      <td>0</td>\n",
       "      <td>0</td>\n",
       "      <td>0</td>\n",
       "      <td>0</td>\n",
       "      <td>0</td>\n",
       "      <td>0</td>\n",
       "      <td>0</td>\n",
       "      <td>0</td>\n",
       "      <td>0</td>\n",
       "      <td>0</td>\n",
       "      <td>0</td>\n",
       "      <td>0</td>\n",
       "      <td>0</td>\n",
       "      <td>0</td>\n",
       "      <td>0</td>\n",
       "      <td>0</td>\n",
       "      <td>0</td>\n",
       "      <td>0</td>\n",
       "      <td>0</td>\n",
       "      <td>0</td>\n",
       "      <td>0</td>\n",
       "      <td>0</td>\n",
       "      <td>0</td>\n",
       "      <td>0</td>\n",
       "      <td>0</td>\n",
       "      <td>0</td>\n",
       "      <td>0</td>\n",
       "      <td>0</td>\n",
       "      <td>0</td>\n",
       "    </tr>\n",
       "    <tr>\n",
       "      <td>2483</td>\n",
       "      <td>0</td>\n",
       "      <td>0</td>\n",
       "      <td>0</td>\n",
       "      <td>0</td>\n",
       "      <td>0</td>\n",
       "      <td>0</td>\n",
       "      <td>0</td>\n",
       "      <td>0</td>\n",
       "      <td>0</td>\n",
       "      <td>0</td>\n",
       "      <td>0</td>\n",
       "      <td>0</td>\n",
       "      <td>0</td>\n",
       "      <td>0</td>\n",
       "      <td>0</td>\n",
       "      <td>0</td>\n",
       "      <td>0</td>\n",
       "      <td>0</td>\n",
       "      <td>0</td>\n",
       "      <td>1806</td>\n",
       "      <td>0</td>\n",
       "      <td>0</td>\n",
       "      <td>0</td>\n",
       "      <td>0</td>\n",
       "      <td>0</td>\n",
       "      <td>0</td>\n",
       "      <td>0</td>\n",
       "      <td>0</td>\n",
       "      <td>0</td>\n",
       "      <td>0</td>\n",
       "      <td>0</td>\n",
       "      <td>0</td>\n",
       "      <td>0</td>\n",
       "      <td>0</td>\n",
       "      <td>0</td>\n",
       "      <td>0</td>\n",
       "      <td>0</td>\n",
       "      <td>0</td>\n",
       "      <td>0</td>\n",
       "      <td>1806</td>\n",
       "      <td>0</td>\n",
       "      <td>0</td>\n",
       "      <td>0</td>\n",
       "      <td>0</td>\n",
       "      <td>0</td>\n",
       "      <td>0</td>\n",
       "      <td>0</td>\n",
       "      <td>0</td>\n",
       "      <td>0</td>\n",
       "      <td>0</td>\n",
       "      <td>0</td>\n",
       "      <td>0</td>\n",
       "      <td>0</td>\n",
       "      <td>0</td>\n",
       "      <td>0</td>\n",
       "      <td>0</td>\n",
       "      <td>0</td>\n",
       "      <td>0</td>\n",
       "      <td>0</td>\n",
       "      <td>0</td>\n",
       "    </tr>\n",
       "    <tr>\n",
       "      <td>2486</td>\n",
       "      <td>1455</td>\n",
       "      <td>0</td>\n",
       "      <td>0</td>\n",
       "      <td>0</td>\n",
       "      <td>0</td>\n",
       "      <td>0</td>\n",
       "      <td>1455</td>\n",
       "      <td>1455</td>\n",
       "      <td>0</td>\n",
       "      <td>0</td>\n",
       "      <td>0</td>\n",
       "      <td>0</td>\n",
       "      <td>0</td>\n",
       "      <td>0</td>\n",
       "      <td>1455</td>\n",
       "      <td>0</td>\n",
       "      <td>0</td>\n",
       "      <td>0</td>\n",
       "      <td>0</td>\n",
       "      <td>0</td>\n",
       "      <td>1455</td>\n",
       "      <td>0</td>\n",
       "      <td>0</td>\n",
       "      <td>0</td>\n",
       "      <td>0</td>\n",
       "      <td>0</td>\n",
       "      <td>1455</td>\n",
       "      <td>1455</td>\n",
       "      <td>1455</td>\n",
       "      <td>0</td>\n",
       "      <td>0</td>\n",
       "      <td>1455</td>\n",
       "      <td>0</td>\n",
       "      <td>0</td>\n",
       "      <td>0</td>\n",
       "      <td>0</td>\n",
       "      <td>1455</td>\n",
       "      <td>1455</td>\n",
       "      <td>1455</td>\n",
       "      <td>0</td>\n",
       "      <td>0</td>\n",
       "      <td>0</td>\n",
       "      <td>0</td>\n",
       "      <td>1455</td>\n",
       "      <td>0</td>\n",
       "      <td>0</td>\n",
       "      <td>0</td>\n",
       "      <td>0</td>\n",
       "      <td>0</td>\n",
       "      <td>0</td>\n",
       "      <td>0</td>\n",
       "      <td>0</td>\n",
       "      <td>0</td>\n",
       "      <td>0</td>\n",
       "      <td>0</td>\n",
       "      <td>0</td>\n",
       "      <td>1455</td>\n",
       "      <td>0</td>\n",
       "      <td>1455</td>\n",
       "      <td>0</td>\n",
       "    </tr>\n",
       "    <tr>\n",
       "      <td>2491</td>\n",
       "      <td>0</td>\n",
       "      <td>0</td>\n",
       "      <td>0</td>\n",
       "      <td>0</td>\n",
       "      <td>0</td>\n",
       "      <td>0</td>\n",
       "      <td>0</td>\n",
       "      <td>0</td>\n",
       "      <td>0</td>\n",
       "      <td>0</td>\n",
       "      <td>0</td>\n",
       "      <td>0</td>\n",
       "      <td>0</td>\n",
       "      <td>0</td>\n",
       "      <td>0</td>\n",
       "      <td>0</td>\n",
       "      <td>0</td>\n",
       "      <td>0</td>\n",
       "      <td>0</td>\n",
       "      <td>0</td>\n",
       "      <td>0</td>\n",
       "      <td>2389</td>\n",
       "      <td>0</td>\n",
       "      <td>0</td>\n",
       "      <td>2389</td>\n",
       "      <td>0</td>\n",
       "      <td>0</td>\n",
       "      <td>0</td>\n",
       "      <td>0</td>\n",
       "      <td>0</td>\n",
       "      <td>0</td>\n",
       "      <td>0</td>\n",
       "      <td>0</td>\n",
       "      <td>0</td>\n",
       "      <td>0</td>\n",
       "      <td>0</td>\n",
       "      <td>0</td>\n",
       "      <td>0</td>\n",
       "      <td>0</td>\n",
       "      <td>0</td>\n",
       "      <td>0</td>\n",
       "      <td>0</td>\n",
       "      <td>0</td>\n",
       "      <td>0</td>\n",
       "      <td>0</td>\n",
       "      <td>0</td>\n",
       "      <td>0</td>\n",
       "      <td>0</td>\n",
       "      <td>0</td>\n",
       "      <td>0</td>\n",
       "      <td>0</td>\n",
       "      <td>0</td>\n",
       "      <td>0</td>\n",
       "      <td>0</td>\n",
       "      <td>0</td>\n",
       "      <td>0</td>\n",
       "      <td>0</td>\n",
       "      <td>0</td>\n",
       "      <td>0</td>\n",
       "      <td>0</td>\n",
       "    </tr>\n",
       "    <tr>\n",
       "      <td>2501</td>\n",
       "      <td>0</td>\n",
       "      <td>0</td>\n",
       "      <td>0</td>\n",
       "      <td>0</td>\n",
       "      <td>0</td>\n",
       "      <td>0</td>\n",
       "      <td>0</td>\n",
       "      <td>0</td>\n",
       "      <td>0</td>\n",
       "      <td>2434</td>\n",
       "      <td>0</td>\n",
       "      <td>0</td>\n",
       "      <td>0</td>\n",
       "      <td>0</td>\n",
       "      <td>0</td>\n",
       "      <td>0</td>\n",
       "      <td>0</td>\n",
       "      <td>0</td>\n",
       "      <td>0</td>\n",
       "      <td>0</td>\n",
       "      <td>0</td>\n",
       "      <td>0</td>\n",
       "      <td>2434</td>\n",
       "      <td>0</td>\n",
       "      <td>0</td>\n",
       "      <td>0</td>\n",
       "      <td>0</td>\n",
       "      <td>0</td>\n",
       "      <td>0</td>\n",
       "      <td>0</td>\n",
       "      <td>0</td>\n",
       "      <td>0</td>\n",
       "      <td>0</td>\n",
       "      <td>2434</td>\n",
       "      <td>0</td>\n",
       "      <td>0</td>\n",
       "      <td>0</td>\n",
       "      <td>0</td>\n",
       "      <td>0</td>\n",
       "      <td>0</td>\n",
       "      <td>0</td>\n",
       "      <td>0</td>\n",
       "      <td>0</td>\n",
       "      <td>0</td>\n",
       "      <td>0</td>\n",
       "      <td>0</td>\n",
       "      <td>0</td>\n",
       "      <td>0</td>\n",
       "      <td>0</td>\n",
       "      <td>0</td>\n",
       "      <td>0</td>\n",
       "      <td>0</td>\n",
       "      <td>0</td>\n",
       "      <td>0</td>\n",
       "      <td>0</td>\n",
       "      <td>0</td>\n",
       "      <td>0</td>\n",
       "      <td>0</td>\n",
       "      <td>0</td>\n",
       "      <td>0</td>\n",
       "    </tr>\n",
       "    <tr>\n",
       "      <td>2506</td>\n",
       "      <td>0</td>\n",
       "      <td>0</td>\n",
       "      <td>0</td>\n",
       "      <td>0</td>\n",
       "      <td>0</td>\n",
       "      <td>0</td>\n",
       "      <td>0</td>\n",
       "      <td>0</td>\n",
       "      <td>0</td>\n",
       "      <td>0</td>\n",
       "      <td>0</td>\n",
       "      <td>0</td>\n",
       "      <td>0</td>\n",
       "      <td>0</td>\n",
       "      <td>0</td>\n",
       "      <td>0</td>\n",
       "      <td>0</td>\n",
       "      <td>0</td>\n",
       "      <td>0</td>\n",
       "      <td>0</td>\n",
       "      <td>0</td>\n",
       "      <td>0</td>\n",
       "      <td>0</td>\n",
       "      <td>2427</td>\n",
       "      <td>0</td>\n",
       "      <td>0</td>\n",
       "      <td>0</td>\n",
       "      <td>0</td>\n",
       "      <td>0</td>\n",
       "      <td>0</td>\n",
       "      <td>0</td>\n",
       "      <td>0</td>\n",
       "      <td>0</td>\n",
       "      <td>0</td>\n",
       "      <td>0</td>\n",
       "      <td>0</td>\n",
       "      <td>0</td>\n",
       "      <td>0</td>\n",
       "      <td>0</td>\n",
       "      <td>0</td>\n",
       "      <td>0</td>\n",
       "      <td>0</td>\n",
       "      <td>0</td>\n",
       "      <td>0</td>\n",
       "      <td>0</td>\n",
       "      <td>0</td>\n",
       "      <td>0</td>\n",
       "      <td>0</td>\n",
       "      <td>0</td>\n",
       "      <td>0</td>\n",
       "      <td>0</td>\n",
       "      <td>0</td>\n",
       "      <td>0</td>\n",
       "      <td>0</td>\n",
       "      <td>0</td>\n",
       "      <td>0</td>\n",
       "      <td>0</td>\n",
       "      <td>0</td>\n",
       "      <td>0</td>\n",
       "      <td>0</td>\n",
       "    </tr>\n",
       "    <tr>\n",
       "      <td>2510</td>\n",
       "      <td>0</td>\n",
       "      <td>0</td>\n",
       "      <td>0</td>\n",
       "      <td>0</td>\n",
       "      <td>0</td>\n",
       "      <td>0</td>\n",
       "      <td>0</td>\n",
       "      <td>0</td>\n",
       "      <td>0</td>\n",
       "      <td>0</td>\n",
       "      <td>0</td>\n",
       "      <td>0</td>\n",
       "      <td>0</td>\n",
       "      <td>0</td>\n",
       "      <td>0</td>\n",
       "      <td>0</td>\n",
       "      <td>0</td>\n",
       "      <td>0</td>\n",
       "      <td>0</td>\n",
       "      <td>0</td>\n",
       "      <td>0</td>\n",
       "      <td>2389</td>\n",
       "      <td>0</td>\n",
       "      <td>0</td>\n",
       "      <td>2389</td>\n",
       "      <td>0</td>\n",
       "      <td>0</td>\n",
       "      <td>0</td>\n",
       "      <td>0</td>\n",
       "      <td>0</td>\n",
       "      <td>0</td>\n",
       "      <td>0</td>\n",
       "      <td>0</td>\n",
       "      <td>0</td>\n",
       "      <td>0</td>\n",
       "      <td>0</td>\n",
       "      <td>0</td>\n",
       "      <td>0</td>\n",
       "      <td>0</td>\n",
       "      <td>0</td>\n",
       "      <td>0</td>\n",
       "      <td>0</td>\n",
       "      <td>0</td>\n",
       "      <td>0</td>\n",
       "      <td>0</td>\n",
       "      <td>0</td>\n",
       "      <td>0</td>\n",
       "      <td>0</td>\n",
       "      <td>0</td>\n",
       "      <td>0</td>\n",
       "      <td>0</td>\n",
       "      <td>0</td>\n",
       "      <td>0</td>\n",
       "      <td>0</td>\n",
       "      <td>0</td>\n",
       "      <td>0</td>\n",
       "      <td>0</td>\n",
       "      <td>0</td>\n",
       "      <td>0</td>\n",
       "      <td>0</td>\n",
       "    </tr>\n",
       "    <tr>\n",
       "      <td>2513</td>\n",
       "      <td>0</td>\n",
       "      <td>0</td>\n",
       "      <td>0</td>\n",
       "      <td>0</td>\n",
       "      <td>0</td>\n",
       "      <td>0</td>\n",
       "      <td>0</td>\n",
       "      <td>0</td>\n",
       "      <td>0</td>\n",
       "      <td>0</td>\n",
       "      <td>0</td>\n",
       "      <td>0</td>\n",
       "      <td>0</td>\n",
       "      <td>0</td>\n",
       "      <td>0</td>\n",
       "      <td>0</td>\n",
       "      <td>0</td>\n",
       "      <td>0</td>\n",
       "      <td>0</td>\n",
       "      <td>0</td>\n",
       "      <td>0</td>\n",
       "      <td>0</td>\n",
       "      <td>0</td>\n",
       "      <td>0</td>\n",
       "      <td>0</td>\n",
       "      <td>1979</td>\n",
       "      <td>0</td>\n",
       "      <td>0</td>\n",
       "      <td>0</td>\n",
       "      <td>0</td>\n",
       "      <td>0</td>\n",
       "      <td>0</td>\n",
       "      <td>0</td>\n",
       "      <td>0</td>\n",
       "      <td>0</td>\n",
       "      <td>0</td>\n",
       "      <td>0</td>\n",
       "      <td>0</td>\n",
       "      <td>0</td>\n",
       "      <td>0</td>\n",
       "      <td>0</td>\n",
       "      <td>0</td>\n",
       "      <td>0</td>\n",
       "      <td>0</td>\n",
       "      <td>0</td>\n",
       "      <td>0</td>\n",
       "      <td>0</td>\n",
       "      <td>0</td>\n",
       "      <td>1979</td>\n",
       "      <td>0</td>\n",
       "      <td>0</td>\n",
       "      <td>0</td>\n",
       "      <td>0</td>\n",
       "      <td>0</td>\n",
       "      <td>0</td>\n",
       "      <td>0</td>\n",
       "      <td>0</td>\n",
       "      <td>0</td>\n",
       "      <td>0</td>\n",
       "      <td>0</td>\n",
       "    </tr>\n",
       "    <tr>\n",
       "      <td>2522</td>\n",
       "      <td>1455</td>\n",
       "      <td>0</td>\n",
       "      <td>0</td>\n",
       "      <td>0</td>\n",
       "      <td>0</td>\n",
       "      <td>0</td>\n",
       "      <td>1455</td>\n",
       "      <td>1455</td>\n",
       "      <td>0</td>\n",
       "      <td>0</td>\n",
       "      <td>0</td>\n",
       "      <td>0</td>\n",
       "      <td>0</td>\n",
       "      <td>0</td>\n",
       "      <td>1455</td>\n",
       "      <td>0</td>\n",
       "      <td>0</td>\n",
       "      <td>0</td>\n",
       "      <td>0</td>\n",
       "      <td>0</td>\n",
       "      <td>1455</td>\n",
       "      <td>0</td>\n",
       "      <td>0</td>\n",
       "      <td>0</td>\n",
       "      <td>0</td>\n",
       "      <td>0</td>\n",
       "      <td>1455</td>\n",
       "      <td>1455</td>\n",
       "      <td>1455</td>\n",
       "      <td>0</td>\n",
       "      <td>0</td>\n",
       "      <td>1455</td>\n",
       "      <td>0</td>\n",
       "      <td>0</td>\n",
       "      <td>0</td>\n",
       "      <td>0</td>\n",
       "      <td>1455</td>\n",
       "      <td>1455</td>\n",
       "      <td>1455</td>\n",
       "      <td>0</td>\n",
       "      <td>0</td>\n",
       "      <td>0</td>\n",
       "      <td>0</td>\n",
       "      <td>1455</td>\n",
       "      <td>0</td>\n",
       "      <td>0</td>\n",
       "      <td>0</td>\n",
       "      <td>0</td>\n",
       "      <td>0</td>\n",
       "      <td>0</td>\n",
       "      <td>0</td>\n",
       "      <td>0</td>\n",
       "      <td>0</td>\n",
       "      <td>0</td>\n",
       "      <td>0</td>\n",
       "      <td>0</td>\n",
       "      <td>1455</td>\n",
       "      <td>0</td>\n",
       "      <td>1455</td>\n",
       "      <td>0</td>\n",
       "    </tr>\n",
       "    <tr>\n",
       "      <td>2523</td>\n",
       "      <td>1455</td>\n",
       "      <td>0</td>\n",
       "      <td>0</td>\n",
       "      <td>0</td>\n",
       "      <td>0</td>\n",
       "      <td>0</td>\n",
       "      <td>1455</td>\n",
       "      <td>1455</td>\n",
       "      <td>0</td>\n",
       "      <td>0</td>\n",
       "      <td>0</td>\n",
       "      <td>0</td>\n",
       "      <td>0</td>\n",
       "      <td>0</td>\n",
       "      <td>1455</td>\n",
       "      <td>0</td>\n",
       "      <td>0</td>\n",
       "      <td>0</td>\n",
       "      <td>0</td>\n",
       "      <td>0</td>\n",
       "      <td>1455</td>\n",
       "      <td>0</td>\n",
       "      <td>0</td>\n",
       "      <td>0</td>\n",
       "      <td>0</td>\n",
       "      <td>0</td>\n",
       "      <td>1455</td>\n",
       "      <td>1455</td>\n",
       "      <td>1455</td>\n",
       "      <td>0</td>\n",
       "      <td>0</td>\n",
       "      <td>1455</td>\n",
       "      <td>0</td>\n",
       "      <td>0</td>\n",
       "      <td>0</td>\n",
       "      <td>0</td>\n",
       "      <td>1455</td>\n",
       "      <td>1455</td>\n",
       "      <td>1455</td>\n",
       "      <td>0</td>\n",
       "      <td>0</td>\n",
       "      <td>0</td>\n",
       "      <td>0</td>\n",
       "      <td>1455</td>\n",
       "      <td>0</td>\n",
       "      <td>0</td>\n",
       "      <td>0</td>\n",
       "      <td>0</td>\n",
       "      <td>0</td>\n",
       "      <td>0</td>\n",
       "      <td>0</td>\n",
       "      <td>0</td>\n",
       "      <td>0</td>\n",
       "      <td>0</td>\n",
       "      <td>0</td>\n",
       "      <td>0</td>\n",
       "      <td>1455</td>\n",
       "      <td>0</td>\n",
       "      <td>1455</td>\n",
       "      <td>0</td>\n",
       "    </tr>\n",
       "    <tr>\n",
       "      <td>2524</td>\n",
       "      <td>1455</td>\n",
       "      <td>0</td>\n",
       "      <td>0</td>\n",
       "      <td>0</td>\n",
       "      <td>0</td>\n",
       "      <td>0</td>\n",
       "      <td>1455</td>\n",
       "      <td>1455</td>\n",
       "      <td>0</td>\n",
       "      <td>0</td>\n",
       "      <td>0</td>\n",
       "      <td>0</td>\n",
       "      <td>0</td>\n",
       "      <td>0</td>\n",
       "      <td>1455</td>\n",
       "      <td>0</td>\n",
       "      <td>0</td>\n",
       "      <td>0</td>\n",
       "      <td>0</td>\n",
       "      <td>0</td>\n",
       "      <td>1455</td>\n",
       "      <td>0</td>\n",
       "      <td>0</td>\n",
       "      <td>0</td>\n",
       "      <td>0</td>\n",
       "      <td>0</td>\n",
       "      <td>1455</td>\n",
       "      <td>1455</td>\n",
       "      <td>1455</td>\n",
       "      <td>0</td>\n",
       "      <td>0</td>\n",
       "      <td>1455</td>\n",
       "      <td>0</td>\n",
       "      <td>0</td>\n",
       "      <td>0</td>\n",
       "      <td>0</td>\n",
       "      <td>1455</td>\n",
       "      <td>1455</td>\n",
       "      <td>1455</td>\n",
       "      <td>0</td>\n",
       "      <td>0</td>\n",
       "      <td>0</td>\n",
       "      <td>0</td>\n",
       "      <td>1455</td>\n",
       "      <td>0</td>\n",
       "      <td>0</td>\n",
       "      <td>0</td>\n",
       "      <td>0</td>\n",
       "      <td>0</td>\n",
       "      <td>0</td>\n",
       "      <td>0</td>\n",
       "      <td>0</td>\n",
       "      <td>0</td>\n",
       "      <td>0</td>\n",
       "      <td>0</td>\n",
       "      <td>0</td>\n",
       "      <td>1455</td>\n",
       "      <td>0</td>\n",
       "      <td>1455</td>\n",
       "      <td>0</td>\n",
       "    </tr>\n",
       "    <tr>\n",
       "      <td>2525</td>\n",
       "      <td>0</td>\n",
       "      <td>0</td>\n",
       "      <td>0</td>\n",
       "      <td>0</td>\n",
       "      <td>0</td>\n",
       "      <td>0</td>\n",
       "      <td>0</td>\n",
       "      <td>0</td>\n",
       "      <td>0</td>\n",
       "      <td>0</td>\n",
       "      <td>0</td>\n",
       "      <td>0</td>\n",
       "      <td>0</td>\n",
       "      <td>0</td>\n",
       "      <td>0</td>\n",
       "      <td>0</td>\n",
       "      <td>0</td>\n",
       "      <td>0</td>\n",
       "      <td>0</td>\n",
       "      <td>0</td>\n",
       "      <td>0</td>\n",
       "      <td>0</td>\n",
       "      <td>0</td>\n",
       "      <td>0</td>\n",
       "      <td>0</td>\n",
       "      <td>0</td>\n",
       "      <td>0</td>\n",
       "      <td>0</td>\n",
       "      <td>0</td>\n",
       "      <td>1656</td>\n",
       "      <td>0</td>\n",
       "      <td>0</td>\n",
       "      <td>0</td>\n",
       "      <td>0</td>\n",
       "      <td>0</td>\n",
       "      <td>0</td>\n",
       "      <td>0</td>\n",
       "      <td>0</td>\n",
       "      <td>0</td>\n",
       "      <td>0</td>\n",
       "      <td>0</td>\n",
       "      <td>0</td>\n",
       "      <td>0</td>\n",
       "      <td>0</td>\n",
       "      <td>0</td>\n",
       "      <td>0</td>\n",
       "      <td>0</td>\n",
       "      <td>0</td>\n",
       "      <td>0</td>\n",
       "      <td>0</td>\n",
       "      <td>0</td>\n",
       "      <td>0</td>\n",
       "      <td>0</td>\n",
       "      <td>0</td>\n",
       "      <td>0</td>\n",
       "      <td>0</td>\n",
       "      <td>0</td>\n",
       "      <td>0</td>\n",
       "      <td>0</td>\n",
       "      <td>1656</td>\n",
       "    </tr>\n",
       "    <tr>\n",
       "      <td>2542</td>\n",
       "      <td>0</td>\n",
       "      <td>0</td>\n",
       "      <td>0</td>\n",
       "      <td>0</td>\n",
       "      <td>0</td>\n",
       "      <td>0</td>\n",
       "      <td>0</td>\n",
       "      <td>0</td>\n",
       "      <td>0</td>\n",
       "      <td>0</td>\n",
       "      <td>0</td>\n",
       "      <td>0</td>\n",
       "      <td>0</td>\n",
       "      <td>0</td>\n",
       "      <td>0</td>\n",
       "      <td>0</td>\n",
       "      <td>0</td>\n",
       "      <td>0</td>\n",
       "      <td>2853</td>\n",
       "      <td>0</td>\n",
       "      <td>0</td>\n",
       "      <td>0</td>\n",
       "      <td>0</td>\n",
       "      <td>0</td>\n",
       "      <td>0</td>\n",
       "      <td>0</td>\n",
       "      <td>0</td>\n",
       "      <td>0</td>\n",
       "      <td>0</td>\n",
       "      <td>0</td>\n",
       "      <td>2853</td>\n",
       "      <td>0</td>\n",
       "      <td>0</td>\n",
       "      <td>0</td>\n",
       "      <td>0</td>\n",
       "      <td>0</td>\n",
       "      <td>0</td>\n",
       "      <td>0</td>\n",
       "      <td>0</td>\n",
       "      <td>0</td>\n",
       "      <td>0</td>\n",
       "      <td>0</td>\n",
       "      <td>0</td>\n",
       "      <td>0</td>\n",
       "      <td>0</td>\n",
       "      <td>0</td>\n",
       "      <td>0</td>\n",
       "      <td>0</td>\n",
       "      <td>0</td>\n",
       "      <td>0</td>\n",
       "      <td>0</td>\n",
       "      <td>0</td>\n",
       "      <td>0</td>\n",
       "      <td>0</td>\n",
       "      <td>0</td>\n",
       "      <td>0</td>\n",
       "      <td>0</td>\n",
       "      <td>0</td>\n",
       "      <td>0</td>\n",
       "      <td>0</td>\n",
       "    </tr>\n",
       "    <tr>\n",
       "      <td>2552</td>\n",
       "      <td>1455</td>\n",
       "      <td>0</td>\n",
       "      <td>0</td>\n",
       "      <td>0</td>\n",
       "      <td>0</td>\n",
       "      <td>0</td>\n",
       "      <td>1455</td>\n",
       "      <td>1455</td>\n",
       "      <td>0</td>\n",
       "      <td>0</td>\n",
       "      <td>0</td>\n",
       "      <td>0</td>\n",
       "      <td>0</td>\n",
       "      <td>0</td>\n",
       "      <td>1455</td>\n",
       "      <td>0</td>\n",
       "      <td>0</td>\n",
       "      <td>0</td>\n",
       "      <td>0</td>\n",
       "      <td>0</td>\n",
       "      <td>1455</td>\n",
       "      <td>0</td>\n",
       "      <td>0</td>\n",
       "      <td>0</td>\n",
       "      <td>0</td>\n",
       "      <td>0</td>\n",
       "      <td>1455</td>\n",
       "      <td>1455</td>\n",
       "      <td>1455</td>\n",
       "      <td>0</td>\n",
       "      <td>0</td>\n",
       "      <td>1455</td>\n",
       "      <td>0</td>\n",
       "      <td>0</td>\n",
       "      <td>0</td>\n",
       "      <td>0</td>\n",
       "      <td>1455</td>\n",
       "      <td>1455</td>\n",
       "      <td>1455</td>\n",
       "      <td>0</td>\n",
       "      <td>0</td>\n",
       "      <td>0</td>\n",
       "      <td>0</td>\n",
       "      <td>1455</td>\n",
       "      <td>0</td>\n",
       "      <td>0</td>\n",
       "      <td>0</td>\n",
       "      <td>0</td>\n",
       "      <td>0</td>\n",
       "      <td>0</td>\n",
       "      <td>0</td>\n",
       "      <td>0</td>\n",
       "      <td>0</td>\n",
       "      <td>0</td>\n",
       "      <td>0</td>\n",
       "      <td>0</td>\n",
       "      <td>1455</td>\n",
       "      <td>0</td>\n",
       "      <td>1455</td>\n",
       "      <td>0</td>\n",
       "    </tr>\n",
       "    <tr>\n",
       "      <td>2554</td>\n",
       "      <td>0</td>\n",
       "      <td>0</td>\n",
       "      <td>0</td>\n",
       "      <td>0</td>\n",
       "      <td>0</td>\n",
       "      <td>0</td>\n",
       "      <td>0</td>\n",
       "      <td>0</td>\n",
       "      <td>0</td>\n",
       "      <td>0</td>\n",
       "      <td>0</td>\n",
       "      <td>0</td>\n",
       "      <td>0</td>\n",
       "      <td>0</td>\n",
       "      <td>0</td>\n",
       "      <td>0</td>\n",
       "      <td>0</td>\n",
       "      <td>0</td>\n",
       "      <td>0</td>\n",
       "      <td>0</td>\n",
       "      <td>0</td>\n",
       "      <td>0</td>\n",
       "      <td>0</td>\n",
       "      <td>0</td>\n",
       "      <td>0</td>\n",
       "      <td>0</td>\n",
       "      <td>0</td>\n",
       "      <td>0</td>\n",
       "      <td>0</td>\n",
       "      <td>0</td>\n",
       "      <td>0</td>\n",
       "      <td>0</td>\n",
       "      <td>980</td>\n",
       "      <td>0</td>\n",
       "      <td>0</td>\n",
       "      <td>0</td>\n",
       "      <td>0</td>\n",
       "      <td>0</td>\n",
       "      <td>0</td>\n",
       "      <td>0</td>\n",
       "      <td>0</td>\n",
       "      <td>0</td>\n",
       "      <td>0</td>\n",
       "      <td>0</td>\n",
       "      <td>0</td>\n",
       "      <td>0</td>\n",
       "      <td>0</td>\n",
       "      <td>0</td>\n",
       "      <td>0</td>\n",
       "      <td>0</td>\n",
       "      <td>980</td>\n",
       "      <td>0</td>\n",
       "      <td>0</td>\n",
       "      <td>0</td>\n",
       "      <td>0</td>\n",
       "      <td>0</td>\n",
       "      <td>0</td>\n",
       "      <td>0</td>\n",
       "      <td>0</td>\n",
       "      <td>0</td>\n",
       "    </tr>\n",
       "    <tr>\n",
       "      <td>2557</td>\n",
       "      <td>0</td>\n",
       "      <td>0</td>\n",
       "      <td>0</td>\n",
       "      <td>0</td>\n",
       "      <td>0</td>\n",
       "      <td>0</td>\n",
       "      <td>0</td>\n",
       "      <td>0</td>\n",
       "      <td>0</td>\n",
       "      <td>2434</td>\n",
       "      <td>0</td>\n",
       "      <td>0</td>\n",
       "      <td>0</td>\n",
       "      <td>0</td>\n",
       "      <td>0</td>\n",
       "      <td>0</td>\n",
       "      <td>0</td>\n",
       "      <td>0</td>\n",
       "      <td>0</td>\n",
       "      <td>0</td>\n",
       "      <td>0</td>\n",
       "      <td>0</td>\n",
       "      <td>2434</td>\n",
       "      <td>0</td>\n",
       "      <td>0</td>\n",
       "      <td>0</td>\n",
       "      <td>0</td>\n",
       "      <td>0</td>\n",
       "      <td>0</td>\n",
       "      <td>0</td>\n",
       "      <td>0</td>\n",
       "      <td>0</td>\n",
       "      <td>0</td>\n",
       "      <td>2434</td>\n",
       "      <td>0</td>\n",
       "      <td>0</td>\n",
       "      <td>0</td>\n",
       "      <td>0</td>\n",
       "      <td>0</td>\n",
       "      <td>0</td>\n",
       "      <td>0</td>\n",
       "      <td>0</td>\n",
       "      <td>0</td>\n",
       "      <td>0</td>\n",
       "      <td>0</td>\n",
       "      <td>0</td>\n",
       "      <td>0</td>\n",
       "      <td>0</td>\n",
       "      <td>0</td>\n",
       "      <td>0</td>\n",
       "      <td>0</td>\n",
       "      <td>0</td>\n",
       "      <td>0</td>\n",
       "      <td>0</td>\n",
       "      <td>0</td>\n",
       "      <td>0</td>\n",
       "      <td>0</td>\n",
       "      <td>0</td>\n",
       "      <td>0</td>\n",
       "      <td>0</td>\n",
       "    </tr>\n",
       "    <tr>\n",
       "      <td>2567</td>\n",
       "      <td>0</td>\n",
       "      <td>0</td>\n",
       "      <td>2162</td>\n",
       "      <td>0</td>\n",
       "      <td>0</td>\n",
       "      <td>0</td>\n",
       "      <td>0</td>\n",
       "      <td>0</td>\n",
       "      <td>0</td>\n",
       "      <td>0</td>\n",
       "      <td>0</td>\n",
       "      <td>2162</td>\n",
       "      <td>0</td>\n",
       "      <td>0</td>\n",
       "      <td>0</td>\n",
       "      <td>0</td>\n",
       "      <td>0</td>\n",
       "      <td>2162</td>\n",
       "      <td>0</td>\n",
       "      <td>0</td>\n",
       "      <td>0</td>\n",
       "      <td>0</td>\n",
       "      <td>0</td>\n",
       "      <td>0</td>\n",
       "      <td>0</td>\n",
       "      <td>0</td>\n",
       "      <td>0</td>\n",
       "      <td>0</td>\n",
       "      <td>0</td>\n",
       "      <td>0</td>\n",
       "      <td>0</td>\n",
       "      <td>0</td>\n",
       "      <td>0</td>\n",
       "      <td>0</td>\n",
       "      <td>2162</td>\n",
       "      <td>2162</td>\n",
       "      <td>0</td>\n",
       "      <td>0</td>\n",
       "      <td>0</td>\n",
       "      <td>0</td>\n",
       "      <td>2162</td>\n",
       "      <td>0</td>\n",
       "      <td>0</td>\n",
       "      <td>0</td>\n",
       "      <td>0</td>\n",
       "      <td>0</td>\n",
       "      <td>2162</td>\n",
       "      <td>0</td>\n",
       "      <td>0</td>\n",
       "      <td>0</td>\n",
       "      <td>0</td>\n",
       "      <td>0</td>\n",
       "      <td>0</td>\n",
       "      <td>0</td>\n",
       "      <td>0</td>\n",
       "      <td>2162</td>\n",
       "      <td>0</td>\n",
       "      <td>0</td>\n",
       "      <td>0</td>\n",
       "      <td>0</td>\n",
       "    </tr>\n",
       "    <tr>\n",
       "      <td>2569</td>\n",
       "      <td>0</td>\n",
       "      <td>0</td>\n",
       "      <td>2162</td>\n",
       "      <td>0</td>\n",
       "      <td>0</td>\n",
       "      <td>0</td>\n",
       "      <td>0</td>\n",
       "      <td>0</td>\n",
       "      <td>0</td>\n",
       "      <td>0</td>\n",
       "      <td>0</td>\n",
       "      <td>2162</td>\n",
       "      <td>0</td>\n",
       "      <td>0</td>\n",
       "      <td>0</td>\n",
       "      <td>0</td>\n",
       "      <td>0</td>\n",
       "      <td>2162</td>\n",
       "      <td>0</td>\n",
       "      <td>0</td>\n",
       "      <td>0</td>\n",
       "      <td>0</td>\n",
       "      <td>0</td>\n",
       "      <td>0</td>\n",
       "      <td>0</td>\n",
       "      <td>0</td>\n",
       "      <td>0</td>\n",
       "      <td>0</td>\n",
       "      <td>0</td>\n",
       "      <td>0</td>\n",
       "      <td>0</td>\n",
       "      <td>0</td>\n",
       "      <td>0</td>\n",
       "      <td>0</td>\n",
       "      <td>2162</td>\n",
       "      <td>2162</td>\n",
       "      <td>0</td>\n",
       "      <td>0</td>\n",
       "      <td>0</td>\n",
       "      <td>0</td>\n",
       "      <td>2162</td>\n",
       "      <td>0</td>\n",
       "      <td>0</td>\n",
       "      <td>0</td>\n",
       "      <td>0</td>\n",
       "      <td>0</td>\n",
       "      <td>2162</td>\n",
       "      <td>0</td>\n",
       "      <td>0</td>\n",
       "      <td>0</td>\n",
       "      <td>0</td>\n",
       "      <td>0</td>\n",
       "      <td>0</td>\n",
       "      <td>0</td>\n",
       "      <td>0</td>\n",
       "      <td>2162</td>\n",
       "      <td>0</td>\n",
       "      <td>0</td>\n",
       "      <td>0</td>\n",
       "      <td>0</td>\n",
       "    </tr>\n",
       "    <tr>\n",
       "      <td>2577</td>\n",
       "      <td>1455</td>\n",
       "      <td>0</td>\n",
       "      <td>0</td>\n",
       "      <td>0</td>\n",
       "      <td>0</td>\n",
       "      <td>0</td>\n",
       "      <td>1455</td>\n",
       "      <td>1455</td>\n",
       "      <td>0</td>\n",
       "      <td>0</td>\n",
       "      <td>0</td>\n",
       "      <td>0</td>\n",
       "      <td>0</td>\n",
       "      <td>0</td>\n",
       "      <td>1455</td>\n",
       "      <td>0</td>\n",
       "      <td>0</td>\n",
       "      <td>0</td>\n",
       "      <td>0</td>\n",
       "      <td>0</td>\n",
       "      <td>1455</td>\n",
       "      <td>0</td>\n",
       "      <td>0</td>\n",
       "      <td>0</td>\n",
       "      <td>0</td>\n",
       "      <td>0</td>\n",
       "      <td>1455</td>\n",
       "      <td>1455</td>\n",
       "      <td>1455</td>\n",
       "      <td>0</td>\n",
       "      <td>0</td>\n",
       "      <td>1455</td>\n",
       "      <td>0</td>\n",
       "      <td>0</td>\n",
       "      <td>0</td>\n",
       "      <td>0</td>\n",
       "      <td>1455</td>\n",
       "      <td>1455</td>\n",
       "      <td>1455</td>\n",
       "      <td>0</td>\n",
       "      <td>0</td>\n",
       "      <td>0</td>\n",
       "      <td>0</td>\n",
       "      <td>1455</td>\n",
       "      <td>0</td>\n",
       "      <td>0</td>\n",
       "      <td>0</td>\n",
       "      <td>0</td>\n",
       "      <td>0</td>\n",
       "      <td>0</td>\n",
       "      <td>0</td>\n",
       "      <td>0</td>\n",
       "      <td>0</td>\n",
       "      <td>0</td>\n",
       "      <td>0</td>\n",
       "      <td>0</td>\n",
       "      <td>1455</td>\n",
       "      <td>0</td>\n",
       "      <td>1455</td>\n",
       "      <td>0</td>\n",
       "    </tr>\n",
       "    <tr>\n",
       "      <td>2578</td>\n",
       "      <td>1455</td>\n",
       "      <td>0</td>\n",
       "      <td>0</td>\n",
       "      <td>0</td>\n",
       "      <td>0</td>\n",
       "      <td>0</td>\n",
       "      <td>1455</td>\n",
       "      <td>1455</td>\n",
       "      <td>0</td>\n",
       "      <td>0</td>\n",
       "      <td>0</td>\n",
       "      <td>0</td>\n",
       "      <td>0</td>\n",
       "      <td>0</td>\n",
       "      <td>1455</td>\n",
       "      <td>0</td>\n",
       "      <td>0</td>\n",
       "      <td>0</td>\n",
       "      <td>0</td>\n",
       "      <td>0</td>\n",
       "      <td>1455</td>\n",
       "      <td>0</td>\n",
       "      <td>0</td>\n",
       "      <td>0</td>\n",
       "      <td>0</td>\n",
       "      <td>0</td>\n",
       "      <td>1455</td>\n",
       "      <td>1455</td>\n",
       "      <td>1455</td>\n",
       "      <td>0</td>\n",
       "      <td>0</td>\n",
       "      <td>1455</td>\n",
       "      <td>0</td>\n",
       "      <td>0</td>\n",
       "      <td>0</td>\n",
       "      <td>0</td>\n",
       "      <td>1455</td>\n",
       "      <td>1455</td>\n",
       "      <td>1455</td>\n",
       "      <td>0</td>\n",
       "      <td>0</td>\n",
       "      <td>0</td>\n",
       "      <td>0</td>\n",
       "      <td>1455</td>\n",
       "      <td>0</td>\n",
       "      <td>0</td>\n",
       "      <td>0</td>\n",
       "      <td>0</td>\n",
       "      <td>0</td>\n",
       "      <td>0</td>\n",
       "      <td>0</td>\n",
       "      <td>0</td>\n",
       "      <td>0</td>\n",
       "      <td>0</td>\n",
       "      <td>0</td>\n",
       "      <td>0</td>\n",
       "      <td>1455</td>\n",
       "      <td>0</td>\n",
       "      <td>1455</td>\n",
       "      <td>0</td>\n",
       "    </tr>\n",
       "    <tr>\n",
       "      <td>2579</td>\n",
       "      <td>1455</td>\n",
       "      <td>0</td>\n",
       "      <td>0</td>\n",
       "      <td>0</td>\n",
       "      <td>0</td>\n",
       "      <td>0</td>\n",
       "      <td>1455</td>\n",
       "      <td>1455</td>\n",
       "      <td>0</td>\n",
       "      <td>0</td>\n",
       "      <td>0</td>\n",
       "      <td>0</td>\n",
       "      <td>0</td>\n",
       "      <td>0</td>\n",
       "      <td>1455</td>\n",
       "      <td>0</td>\n",
       "      <td>0</td>\n",
       "      <td>0</td>\n",
       "      <td>0</td>\n",
       "      <td>0</td>\n",
       "      <td>1455</td>\n",
       "      <td>0</td>\n",
       "      <td>0</td>\n",
       "      <td>0</td>\n",
       "      <td>0</td>\n",
       "      <td>0</td>\n",
       "      <td>1455</td>\n",
       "      <td>1455</td>\n",
       "      <td>1455</td>\n",
       "      <td>0</td>\n",
       "      <td>0</td>\n",
       "      <td>1455</td>\n",
       "      <td>0</td>\n",
       "      <td>0</td>\n",
       "      <td>0</td>\n",
       "      <td>0</td>\n",
       "      <td>1455</td>\n",
       "      <td>1455</td>\n",
       "      <td>1455</td>\n",
       "      <td>0</td>\n",
       "      <td>0</td>\n",
       "      <td>0</td>\n",
       "      <td>0</td>\n",
       "      <td>1455</td>\n",
       "      <td>0</td>\n",
       "      <td>0</td>\n",
       "      <td>0</td>\n",
       "      <td>0</td>\n",
       "      <td>0</td>\n",
       "      <td>0</td>\n",
       "      <td>0</td>\n",
       "      <td>0</td>\n",
       "      <td>0</td>\n",
       "      <td>0</td>\n",
       "      <td>0</td>\n",
       "      <td>0</td>\n",
       "      <td>1455</td>\n",
       "      <td>0</td>\n",
       "      <td>1455</td>\n",
       "      <td>0</td>\n",
       "    </tr>\n",
       "    <tr>\n",
       "      <td>2581</td>\n",
       "      <td>0</td>\n",
       "      <td>0</td>\n",
       "      <td>0</td>\n",
       "      <td>0</td>\n",
       "      <td>0</td>\n",
       "      <td>0</td>\n",
       "      <td>0</td>\n",
       "      <td>0</td>\n",
       "      <td>0</td>\n",
       "      <td>0</td>\n",
       "      <td>0</td>\n",
       "      <td>0</td>\n",
       "      <td>0</td>\n",
       "      <td>0</td>\n",
       "      <td>0</td>\n",
       "      <td>0</td>\n",
       "      <td>0</td>\n",
       "      <td>0</td>\n",
       "      <td>0</td>\n",
       "      <td>1806</td>\n",
       "      <td>0</td>\n",
       "      <td>0</td>\n",
       "      <td>0</td>\n",
       "      <td>0</td>\n",
       "      <td>0</td>\n",
       "      <td>0</td>\n",
       "      <td>0</td>\n",
       "      <td>0</td>\n",
       "      <td>0</td>\n",
       "      <td>0</td>\n",
       "      <td>0</td>\n",
       "      <td>0</td>\n",
       "      <td>0</td>\n",
       "      <td>0</td>\n",
       "      <td>0</td>\n",
       "      <td>0</td>\n",
       "      <td>0</td>\n",
       "      <td>0</td>\n",
       "      <td>0</td>\n",
       "      <td>1806</td>\n",
       "      <td>0</td>\n",
       "      <td>0</td>\n",
       "      <td>0</td>\n",
       "      <td>0</td>\n",
       "      <td>0</td>\n",
       "      <td>0</td>\n",
       "      <td>0</td>\n",
       "      <td>0</td>\n",
       "      <td>0</td>\n",
       "      <td>0</td>\n",
       "      <td>0</td>\n",
       "      <td>0</td>\n",
       "      <td>0</td>\n",
       "      <td>0</td>\n",
       "      <td>0</td>\n",
       "      <td>0</td>\n",
       "      <td>0</td>\n",
       "      <td>0</td>\n",
       "      <td>0</td>\n",
       "      <td>0</td>\n",
       "    </tr>\n",
       "    <tr>\n",
       "      <td>2582</td>\n",
       "      <td>0</td>\n",
       "      <td>0</td>\n",
       "      <td>2162</td>\n",
       "      <td>0</td>\n",
       "      <td>0</td>\n",
       "      <td>0</td>\n",
       "      <td>0</td>\n",
       "      <td>0</td>\n",
       "      <td>0</td>\n",
       "      <td>0</td>\n",
       "      <td>0</td>\n",
       "      <td>2162</td>\n",
       "      <td>0</td>\n",
       "      <td>0</td>\n",
       "      <td>0</td>\n",
       "      <td>0</td>\n",
       "      <td>0</td>\n",
       "      <td>2162</td>\n",
       "      <td>0</td>\n",
       "      <td>0</td>\n",
       "      <td>0</td>\n",
       "      <td>0</td>\n",
       "      <td>0</td>\n",
       "      <td>0</td>\n",
       "      <td>0</td>\n",
       "      <td>0</td>\n",
       "      <td>0</td>\n",
       "      <td>0</td>\n",
       "      <td>0</td>\n",
       "      <td>0</td>\n",
       "      <td>0</td>\n",
       "      <td>0</td>\n",
       "      <td>0</td>\n",
       "      <td>0</td>\n",
       "      <td>2162</td>\n",
       "      <td>2162</td>\n",
       "      <td>0</td>\n",
       "      <td>0</td>\n",
       "      <td>0</td>\n",
       "      <td>0</td>\n",
       "      <td>2162</td>\n",
       "      <td>0</td>\n",
       "      <td>0</td>\n",
       "      <td>0</td>\n",
       "      <td>0</td>\n",
       "      <td>0</td>\n",
       "      <td>2162</td>\n",
       "      <td>0</td>\n",
       "      <td>0</td>\n",
       "      <td>0</td>\n",
       "      <td>0</td>\n",
       "      <td>0</td>\n",
       "      <td>0</td>\n",
       "      <td>0</td>\n",
       "      <td>0</td>\n",
       "      <td>2162</td>\n",
       "      <td>0</td>\n",
       "      <td>0</td>\n",
       "      <td>0</td>\n",
       "      <td>0</td>\n",
       "    </tr>\n",
       "    <tr>\n",
       "      <td>2583</td>\n",
       "      <td>0</td>\n",
       "      <td>0</td>\n",
       "      <td>0</td>\n",
       "      <td>1116</td>\n",
       "      <td>0</td>\n",
       "      <td>1116</td>\n",
       "      <td>0</td>\n",
       "      <td>0</td>\n",
       "      <td>0</td>\n",
       "      <td>0</td>\n",
       "      <td>1116</td>\n",
       "      <td>0</td>\n",
       "      <td>0</td>\n",
       "      <td>0</td>\n",
       "      <td>0</td>\n",
       "      <td>0</td>\n",
       "      <td>0</td>\n",
       "      <td>0</td>\n",
       "      <td>0</td>\n",
       "      <td>0</td>\n",
       "      <td>0</td>\n",
       "      <td>0</td>\n",
       "      <td>0</td>\n",
       "      <td>0</td>\n",
       "      <td>0</td>\n",
       "      <td>0</td>\n",
       "      <td>0</td>\n",
       "      <td>0</td>\n",
       "      <td>0</td>\n",
       "      <td>0</td>\n",
       "      <td>0</td>\n",
       "      <td>0</td>\n",
       "      <td>0</td>\n",
       "      <td>0</td>\n",
       "      <td>0</td>\n",
       "      <td>0</td>\n",
       "      <td>0</td>\n",
       "      <td>0</td>\n",
       "      <td>0</td>\n",
       "      <td>0</td>\n",
       "      <td>0</td>\n",
       "      <td>1116</td>\n",
       "      <td>0</td>\n",
       "      <td>0</td>\n",
       "      <td>0</td>\n",
       "      <td>0</td>\n",
       "      <td>0</td>\n",
       "      <td>0</td>\n",
       "      <td>0</td>\n",
       "      <td>0</td>\n",
       "      <td>0</td>\n",
       "      <td>0</td>\n",
       "      <td>0</td>\n",
       "      <td>0</td>\n",
       "      <td>0</td>\n",
       "      <td>0</td>\n",
       "      <td>0</td>\n",
       "      <td>0</td>\n",
       "      <td>0</td>\n",
       "      <td>0</td>\n",
       "    </tr>\n",
       "    <tr>\n",
       "      <td>2586</td>\n",
       "      <td>0</td>\n",
       "      <td>0</td>\n",
       "      <td>0</td>\n",
       "      <td>0</td>\n",
       "      <td>0</td>\n",
       "      <td>0</td>\n",
       "      <td>0</td>\n",
       "      <td>0</td>\n",
       "      <td>0</td>\n",
       "      <td>0</td>\n",
       "      <td>0</td>\n",
       "      <td>0</td>\n",
       "      <td>0</td>\n",
       "      <td>0</td>\n",
       "      <td>0</td>\n",
       "      <td>0</td>\n",
       "      <td>0</td>\n",
       "      <td>0</td>\n",
       "      <td>0</td>\n",
       "      <td>0</td>\n",
       "      <td>0</td>\n",
       "      <td>0</td>\n",
       "      <td>0</td>\n",
       "      <td>0</td>\n",
       "      <td>0</td>\n",
       "      <td>0</td>\n",
       "      <td>0</td>\n",
       "      <td>0</td>\n",
       "      <td>0</td>\n",
       "      <td>0</td>\n",
       "      <td>0</td>\n",
       "      <td>0</td>\n",
       "      <td>0</td>\n",
       "      <td>0</td>\n",
       "      <td>0</td>\n",
       "      <td>0</td>\n",
       "      <td>0</td>\n",
       "      <td>0</td>\n",
       "      <td>0</td>\n",
       "      <td>0</td>\n",
       "      <td>0</td>\n",
       "      <td>0</td>\n",
       "      <td>1891</td>\n",
       "      <td>0</td>\n",
       "      <td>0</td>\n",
       "      <td>0</td>\n",
       "      <td>0</td>\n",
       "      <td>0</td>\n",
       "      <td>0</td>\n",
       "      <td>0</td>\n",
       "      <td>0</td>\n",
       "      <td>0</td>\n",
       "      <td>0</td>\n",
       "      <td>0</td>\n",
       "      <td>0</td>\n",
       "      <td>0</td>\n",
       "      <td>0</td>\n",
       "      <td>0</td>\n",
       "      <td>0</td>\n",
       "      <td>0</td>\n",
       "    </tr>\n",
       "    <tr>\n",
       "      <td>2592</td>\n",
       "      <td>1455</td>\n",
       "      <td>0</td>\n",
       "      <td>0</td>\n",
       "      <td>0</td>\n",
       "      <td>0</td>\n",
       "      <td>0</td>\n",
       "      <td>1455</td>\n",
       "      <td>1455</td>\n",
       "      <td>0</td>\n",
       "      <td>0</td>\n",
       "      <td>0</td>\n",
       "      <td>0</td>\n",
       "      <td>0</td>\n",
       "      <td>0</td>\n",
       "      <td>1455</td>\n",
       "      <td>0</td>\n",
       "      <td>0</td>\n",
       "      <td>0</td>\n",
       "      <td>0</td>\n",
       "      <td>0</td>\n",
       "      <td>1455</td>\n",
       "      <td>0</td>\n",
       "      <td>0</td>\n",
       "      <td>0</td>\n",
       "      <td>0</td>\n",
       "      <td>0</td>\n",
       "      <td>1455</td>\n",
       "      <td>1455</td>\n",
       "      <td>1455</td>\n",
       "      <td>0</td>\n",
       "      <td>0</td>\n",
       "      <td>1455</td>\n",
       "      <td>0</td>\n",
       "      <td>0</td>\n",
       "      <td>0</td>\n",
       "      <td>0</td>\n",
       "      <td>1455</td>\n",
       "      <td>1455</td>\n",
       "      <td>1455</td>\n",
       "      <td>0</td>\n",
       "      <td>0</td>\n",
       "      <td>0</td>\n",
       "      <td>0</td>\n",
       "      <td>1455</td>\n",
       "      <td>0</td>\n",
       "      <td>0</td>\n",
       "      <td>0</td>\n",
       "      <td>0</td>\n",
       "      <td>0</td>\n",
       "      <td>0</td>\n",
       "      <td>0</td>\n",
       "      <td>0</td>\n",
       "      <td>0</td>\n",
       "      <td>0</td>\n",
       "      <td>0</td>\n",
       "      <td>0</td>\n",
       "      <td>1455</td>\n",
       "      <td>0</td>\n",
       "      <td>1455</td>\n",
       "      <td>0</td>\n",
       "    </tr>\n",
       "    <tr>\n",
       "      <td>2596</td>\n",
       "      <td>0</td>\n",
       "      <td>0</td>\n",
       "      <td>0</td>\n",
       "      <td>0</td>\n",
       "      <td>0</td>\n",
       "      <td>0</td>\n",
       "      <td>0</td>\n",
       "      <td>0</td>\n",
       "      <td>0</td>\n",
       "      <td>0</td>\n",
       "      <td>0</td>\n",
       "      <td>0</td>\n",
       "      <td>0</td>\n",
       "      <td>0</td>\n",
       "      <td>0</td>\n",
       "      <td>0</td>\n",
       "      <td>0</td>\n",
       "      <td>0</td>\n",
       "      <td>0</td>\n",
       "      <td>0</td>\n",
       "      <td>0</td>\n",
       "      <td>0</td>\n",
       "      <td>0</td>\n",
       "      <td>0</td>\n",
       "      <td>0</td>\n",
       "      <td>0</td>\n",
       "      <td>0</td>\n",
       "      <td>0</td>\n",
       "      <td>0</td>\n",
       "      <td>0</td>\n",
       "      <td>0</td>\n",
       "      <td>0</td>\n",
       "      <td>0</td>\n",
       "      <td>0</td>\n",
       "      <td>0</td>\n",
       "      <td>0</td>\n",
       "      <td>0</td>\n",
       "      <td>0</td>\n",
       "      <td>0</td>\n",
       "      <td>0</td>\n",
       "      <td>0</td>\n",
       "      <td>0</td>\n",
       "      <td>0</td>\n",
       "      <td>0</td>\n",
       "      <td>2958</td>\n",
       "      <td>0</td>\n",
       "      <td>0</td>\n",
       "      <td>0</td>\n",
       "      <td>0</td>\n",
       "      <td>0</td>\n",
       "      <td>0</td>\n",
       "      <td>0</td>\n",
       "      <td>0</td>\n",
       "      <td>0</td>\n",
       "      <td>0</td>\n",
       "      <td>0</td>\n",
       "      <td>0</td>\n",
       "      <td>0</td>\n",
       "      <td>0</td>\n",
       "      <td>0</td>\n",
       "    </tr>\n",
       "    <tr>\n",
       "      <td>2598</td>\n",
       "      <td>0</td>\n",
       "      <td>0</td>\n",
       "      <td>0</td>\n",
       "      <td>0</td>\n",
       "      <td>0</td>\n",
       "      <td>0</td>\n",
       "      <td>0</td>\n",
       "      <td>0</td>\n",
       "      <td>0</td>\n",
       "      <td>0</td>\n",
       "      <td>0</td>\n",
       "      <td>0</td>\n",
       "      <td>0</td>\n",
       "      <td>0</td>\n",
       "      <td>0</td>\n",
       "      <td>0</td>\n",
       "      <td>0</td>\n",
       "      <td>0</td>\n",
       "      <td>0</td>\n",
       "      <td>0</td>\n",
       "      <td>0</td>\n",
       "      <td>0</td>\n",
       "      <td>0</td>\n",
       "      <td>0</td>\n",
       "      <td>0</td>\n",
       "      <td>0</td>\n",
       "      <td>0</td>\n",
       "      <td>0</td>\n",
       "      <td>0</td>\n",
       "      <td>0</td>\n",
       "      <td>0</td>\n",
       "      <td>0</td>\n",
       "      <td>0</td>\n",
       "      <td>0</td>\n",
       "      <td>0</td>\n",
       "      <td>0</td>\n",
       "      <td>0</td>\n",
       "      <td>0</td>\n",
       "      <td>0</td>\n",
       "      <td>0</td>\n",
       "      <td>0</td>\n",
       "      <td>0</td>\n",
       "      <td>0</td>\n",
       "      <td>0</td>\n",
       "      <td>0</td>\n",
       "      <td>3401</td>\n",
       "      <td>0</td>\n",
       "      <td>0</td>\n",
       "      <td>0</td>\n",
       "      <td>0</td>\n",
       "      <td>0</td>\n",
       "      <td>0</td>\n",
       "      <td>0</td>\n",
       "      <td>0</td>\n",
       "      <td>0</td>\n",
       "      <td>0</td>\n",
       "      <td>0</td>\n",
       "      <td>0</td>\n",
       "      <td>0</td>\n",
       "      <td>0</td>\n",
       "    </tr>\n",
       "    <tr>\n",
       "      <td>2599</td>\n",
       "      <td>0</td>\n",
       "      <td>0</td>\n",
       "      <td>2162</td>\n",
       "      <td>0</td>\n",
       "      <td>0</td>\n",
       "      <td>0</td>\n",
       "      <td>0</td>\n",
       "      <td>0</td>\n",
       "      <td>0</td>\n",
       "      <td>0</td>\n",
       "      <td>0</td>\n",
       "      <td>2162</td>\n",
       "      <td>0</td>\n",
       "      <td>0</td>\n",
       "      <td>0</td>\n",
       "      <td>0</td>\n",
       "      <td>0</td>\n",
       "      <td>2162</td>\n",
       "      <td>0</td>\n",
       "      <td>0</td>\n",
       "      <td>0</td>\n",
       "      <td>0</td>\n",
       "      <td>0</td>\n",
       "      <td>0</td>\n",
       "      <td>0</td>\n",
       "      <td>0</td>\n",
       "      <td>0</td>\n",
       "      <td>0</td>\n",
       "      <td>0</td>\n",
       "      <td>0</td>\n",
       "      <td>0</td>\n",
       "      <td>0</td>\n",
       "      <td>0</td>\n",
       "      <td>0</td>\n",
       "      <td>2162</td>\n",
       "      <td>2162</td>\n",
       "      <td>0</td>\n",
       "      <td>0</td>\n",
       "      <td>0</td>\n",
       "      <td>0</td>\n",
       "      <td>2162</td>\n",
       "      <td>0</td>\n",
       "      <td>0</td>\n",
       "      <td>0</td>\n",
       "      <td>0</td>\n",
       "      <td>0</td>\n",
       "      <td>2162</td>\n",
       "      <td>0</td>\n",
       "      <td>0</td>\n",
       "      <td>0</td>\n",
       "      <td>0</td>\n",
       "      <td>0</td>\n",
       "      <td>0</td>\n",
       "      <td>0</td>\n",
       "      <td>0</td>\n",
       "      <td>2162</td>\n",
       "      <td>0</td>\n",
       "      <td>0</td>\n",
       "      <td>0</td>\n",
       "      <td>0</td>\n",
       "    </tr>\n",
       "    <tr>\n",
       "      <td>2600</td>\n",
       "      <td>0</td>\n",
       "      <td>0</td>\n",
       "      <td>0</td>\n",
       "      <td>0</td>\n",
       "      <td>0</td>\n",
       "      <td>0</td>\n",
       "      <td>0</td>\n",
       "      <td>0</td>\n",
       "      <td>0</td>\n",
       "      <td>0</td>\n",
       "      <td>0</td>\n",
       "      <td>0</td>\n",
       "      <td>0</td>\n",
       "      <td>0</td>\n",
       "      <td>0</td>\n",
       "      <td>0</td>\n",
       "      <td>0</td>\n",
       "      <td>0</td>\n",
       "      <td>0</td>\n",
       "      <td>0</td>\n",
       "      <td>0</td>\n",
       "      <td>0</td>\n",
       "      <td>0</td>\n",
       "      <td>0</td>\n",
       "      <td>0</td>\n",
       "      <td>0</td>\n",
       "      <td>0</td>\n",
       "      <td>0</td>\n",
       "      <td>0</td>\n",
       "      <td>0</td>\n",
       "      <td>0</td>\n",
       "      <td>0</td>\n",
       "      <td>0</td>\n",
       "      <td>0</td>\n",
       "      <td>0</td>\n",
       "      <td>0</td>\n",
       "      <td>0</td>\n",
       "      <td>0</td>\n",
       "      <td>0</td>\n",
       "      <td>0</td>\n",
       "      <td>0</td>\n",
       "      <td>0</td>\n",
       "      <td>0</td>\n",
       "      <td>0</td>\n",
       "      <td>0</td>\n",
       "      <td>0</td>\n",
       "      <td>0</td>\n",
       "      <td>2844</td>\n",
       "      <td>0</td>\n",
       "      <td>2844</td>\n",
       "      <td>0</td>\n",
       "      <td>2844</td>\n",
       "      <td>0</td>\n",
       "      <td>0</td>\n",
       "      <td>0</td>\n",
       "      <td>0</td>\n",
       "      <td>0</td>\n",
       "      <td>0</td>\n",
       "      <td>0</td>\n",
       "      <td>0</td>\n",
       "    </tr>\n",
       "    <tr>\n",
       "      <td>2614</td>\n",
       "      <td>0</td>\n",
       "      <td>0</td>\n",
       "      <td>0</td>\n",
       "      <td>0</td>\n",
       "      <td>0</td>\n",
       "      <td>0</td>\n",
       "      <td>0</td>\n",
       "      <td>0</td>\n",
       "      <td>0</td>\n",
       "      <td>0</td>\n",
       "      <td>0</td>\n",
       "      <td>0</td>\n",
       "      <td>0</td>\n",
       "      <td>0</td>\n",
       "      <td>0</td>\n",
       "      <td>0</td>\n",
       "      <td>0</td>\n",
       "      <td>0</td>\n",
       "      <td>0</td>\n",
       "      <td>0</td>\n",
       "      <td>0</td>\n",
       "      <td>0</td>\n",
       "      <td>0</td>\n",
       "      <td>0</td>\n",
       "      <td>0</td>\n",
       "      <td>1979</td>\n",
       "      <td>0</td>\n",
       "      <td>0</td>\n",
       "      <td>0</td>\n",
       "      <td>0</td>\n",
       "      <td>0</td>\n",
       "      <td>0</td>\n",
       "      <td>0</td>\n",
       "      <td>0</td>\n",
       "      <td>0</td>\n",
       "      <td>0</td>\n",
       "      <td>0</td>\n",
       "      <td>0</td>\n",
       "      <td>0</td>\n",
       "      <td>0</td>\n",
       "      <td>0</td>\n",
       "      <td>0</td>\n",
       "      <td>0</td>\n",
       "      <td>0</td>\n",
       "      <td>0</td>\n",
       "      <td>0</td>\n",
       "      <td>0</td>\n",
       "      <td>0</td>\n",
       "      <td>1979</td>\n",
       "      <td>0</td>\n",
       "      <td>0</td>\n",
       "      <td>0</td>\n",
       "      <td>0</td>\n",
       "      <td>0</td>\n",
       "      <td>0</td>\n",
       "      <td>0</td>\n",
       "      <td>0</td>\n",
       "      <td>0</td>\n",
       "      <td>0</td>\n",
       "      <td>0</td>\n",
       "    </tr>\n",
       "    <tr>\n",
       "      <td>2619</td>\n",
       "      <td>0</td>\n",
       "      <td>0</td>\n",
       "      <td>0</td>\n",
       "      <td>0</td>\n",
       "      <td>0</td>\n",
       "      <td>0</td>\n",
       "      <td>0</td>\n",
       "      <td>0</td>\n",
       "      <td>0</td>\n",
       "      <td>0</td>\n",
       "      <td>0</td>\n",
       "      <td>0</td>\n",
       "      <td>0</td>\n",
       "      <td>0</td>\n",
       "      <td>0</td>\n",
       "      <td>0</td>\n",
       "      <td>0</td>\n",
       "      <td>0</td>\n",
       "      <td>0</td>\n",
       "      <td>0</td>\n",
       "      <td>0</td>\n",
       "      <td>0</td>\n",
       "      <td>0</td>\n",
       "      <td>0</td>\n",
       "      <td>0</td>\n",
       "      <td>0</td>\n",
       "      <td>0</td>\n",
       "      <td>0</td>\n",
       "      <td>0</td>\n",
       "      <td>0</td>\n",
       "      <td>0</td>\n",
       "      <td>0</td>\n",
       "      <td>0</td>\n",
       "      <td>0</td>\n",
       "      <td>0</td>\n",
       "      <td>0</td>\n",
       "      <td>0</td>\n",
       "      <td>0</td>\n",
       "      <td>0</td>\n",
       "      <td>0</td>\n",
       "      <td>0</td>\n",
       "      <td>0</td>\n",
       "      <td>0</td>\n",
       "      <td>0</td>\n",
       "      <td>0</td>\n",
       "      <td>0</td>\n",
       "      <td>0</td>\n",
       "      <td>2844</td>\n",
       "      <td>0</td>\n",
       "      <td>2844</td>\n",
       "      <td>0</td>\n",
       "      <td>2844</td>\n",
       "      <td>0</td>\n",
       "      <td>0</td>\n",
       "      <td>0</td>\n",
       "      <td>0</td>\n",
       "      <td>0</td>\n",
       "      <td>0</td>\n",
       "      <td>0</td>\n",
       "      <td>0</td>\n",
       "    </tr>\n",
       "    <tr>\n",
       "      <td>2634</td>\n",
       "      <td>0</td>\n",
       "      <td>0</td>\n",
       "      <td>0</td>\n",
       "      <td>0</td>\n",
       "      <td>0</td>\n",
       "      <td>0</td>\n",
       "      <td>0</td>\n",
       "      <td>0</td>\n",
       "      <td>0</td>\n",
       "      <td>0</td>\n",
       "      <td>0</td>\n",
       "      <td>0</td>\n",
       "      <td>0</td>\n",
       "      <td>0</td>\n",
       "      <td>0</td>\n",
       "      <td>0</td>\n",
       "      <td>0</td>\n",
       "      <td>0</td>\n",
       "      <td>0</td>\n",
       "      <td>0</td>\n",
       "      <td>0</td>\n",
       "      <td>0</td>\n",
       "      <td>0</td>\n",
       "      <td>0</td>\n",
       "      <td>0</td>\n",
       "      <td>0</td>\n",
       "      <td>0</td>\n",
       "      <td>0</td>\n",
       "      <td>0</td>\n",
       "      <td>0</td>\n",
       "      <td>0</td>\n",
       "      <td>0</td>\n",
       "      <td>980</td>\n",
       "      <td>0</td>\n",
       "      <td>0</td>\n",
       "      <td>0</td>\n",
       "      <td>0</td>\n",
       "      <td>0</td>\n",
       "      <td>0</td>\n",
       "      <td>0</td>\n",
       "      <td>0</td>\n",
       "      <td>0</td>\n",
       "      <td>0</td>\n",
       "      <td>0</td>\n",
       "      <td>0</td>\n",
       "      <td>0</td>\n",
       "      <td>0</td>\n",
       "      <td>0</td>\n",
       "      <td>0</td>\n",
       "      <td>0</td>\n",
       "      <td>980</td>\n",
       "      <td>0</td>\n",
       "      <td>0</td>\n",
       "      <td>0</td>\n",
       "      <td>0</td>\n",
       "      <td>0</td>\n",
       "      <td>0</td>\n",
       "      <td>0</td>\n",
       "      <td>0</td>\n",
       "      <td>0</td>\n",
       "    </tr>\n",
       "    <tr>\n",
       "      <td>2639</td>\n",
       "      <td>0</td>\n",
       "      <td>0</td>\n",
       "      <td>0</td>\n",
       "      <td>0</td>\n",
       "      <td>0</td>\n",
       "      <td>0</td>\n",
       "      <td>0</td>\n",
       "      <td>0</td>\n",
       "      <td>0</td>\n",
       "      <td>0</td>\n",
       "      <td>0</td>\n",
       "      <td>0</td>\n",
       "      <td>0</td>\n",
       "      <td>0</td>\n",
       "      <td>0</td>\n",
       "      <td>0</td>\n",
       "      <td>0</td>\n",
       "      <td>0</td>\n",
       "      <td>0</td>\n",
       "      <td>0</td>\n",
       "      <td>0</td>\n",
       "      <td>0</td>\n",
       "      <td>0</td>\n",
       "      <td>0</td>\n",
       "      <td>0</td>\n",
       "      <td>0</td>\n",
       "      <td>0</td>\n",
       "      <td>0</td>\n",
       "      <td>0</td>\n",
       "      <td>0</td>\n",
       "      <td>0</td>\n",
       "      <td>0</td>\n",
       "      <td>0</td>\n",
       "      <td>0</td>\n",
       "      <td>0</td>\n",
       "      <td>0</td>\n",
       "      <td>0</td>\n",
       "      <td>0</td>\n",
       "      <td>0</td>\n",
       "      <td>0</td>\n",
       "      <td>0</td>\n",
       "      <td>0</td>\n",
       "      <td>0</td>\n",
       "      <td>0</td>\n",
       "      <td>0</td>\n",
       "      <td>0</td>\n",
       "      <td>0</td>\n",
       "      <td>2844</td>\n",
       "      <td>0</td>\n",
       "      <td>2844</td>\n",
       "      <td>0</td>\n",
       "      <td>2844</td>\n",
       "      <td>0</td>\n",
       "      <td>0</td>\n",
       "      <td>0</td>\n",
       "      <td>0</td>\n",
       "      <td>0</td>\n",
       "      <td>0</td>\n",
       "      <td>0</td>\n",
       "      <td>0</td>\n",
       "    </tr>\n",
       "    <tr>\n",
       "      <td>2645</td>\n",
       "      <td>0</td>\n",
       "      <td>0</td>\n",
       "      <td>0</td>\n",
       "      <td>0</td>\n",
       "      <td>0</td>\n",
       "      <td>0</td>\n",
       "      <td>0</td>\n",
       "      <td>0</td>\n",
       "      <td>0</td>\n",
       "      <td>0</td>\n",
       "      <td>0</td>\n",
       "      <td>0</td>\n",
       "      <td>0</td>\n",
       "      <td>0</td>\n",
       "      <td>0</td>\n",
       "      <td>0</td>\n",
       "      <td>0</td>\n",
       "      <td>0</td>\n",
       "      <td>0</td>\n",
       "      <td>0</td>\n",
       "      <td>0</td>\n",
       "      <td>0</td>\n",
       "      <td>0</td>\n",
       "      <td>0</td>\n",
       "      <td>0</td>\n",
       "      <td>0</td>\n",
       "      <td>0</td>\n",
       "      <td>0</td>\n",
       "      <td>0</td>\n",
       "      <td>0</td>\n",
       "      <td>0</td>\n",
       "      <td>0</td>\n",
       "      <td>0</td>\n",
       "      <td>0</td>\n",
       "      <td>0</td>\n",
       "      <td>0</td>\n",
       "      <td>0</td>\n",
       "      <td>0</td>\n",
       "      <td>0</td>\n",
       "      <td>0</td>\n",
       "      <td>0</td>\n",
       "      <td>0</td>\n",
       "      <td>0</td>\n",
       "      <td>0</td>\n",
       "      <td>0</td>\n",
       "      <td>0</td>\n",
       "      <td>0</td>\n",
       "      <td>0</td>\n",
       "      <td>0</td>\n",
       "      <td>0</td>\n",
       "      <td>0</td>\n",
       "      <td>0</td>\n",
       "      <td>1997</td>\n",
       "      <td>0</td>\n",
       "      <td>0</td>\n",
       "      <td>0</td>\n",
       "      <td>0</td>\n",
       "      <td>0</td>\n",
       "      <td>0</td>\n",
       "      <td>0</td>\n",
       "    </tr>\n",
       "    <tr>\n",
       "      <td>2650</td>\n",
       "      <td>0</td>\n",
       "      <td>0</td>\n",
       "      <td>0</td>\n",
       "      <td>0</td>\n",
       "      <td>0</td>\n",
       "      <td>0</td>\n",
       "      <td>0</td>\n",
       "      <td>0</td>\n",
       "      <td>0</td>\n",
       "      <td>0</td>\n",
       "      <td>0</td>\n",
       "      <td>0</td>\n",
       "      <td>0</td>\n",
       "      <td>0</td>\n",
       "      <td>0</td>\n",
       "      <td>0</td>\n",
       "      <td>0</td>\n",
       "      <td>0</td>\n",
       "      <td>0</td>\n",
       "      <td>0</td>\n",
       "      <td>0</td>\n",
       "      <td>0</td>\n",
       "      <td>0</td>\n",
       "      <td>0</td>\n",
       "      <td>0</td>\n",
       "      <td>0</td>\n",
       "      <td>0</td>\n",
       "      <td>0</td>\n",
       "      <td>0</td>\n",
       "      <td>0</td>\n",
       "      <td>0</td>\n",
       "      <td>0</td>\n",
       "      <td>0</td>\n",
       "      <td>0</td>\n",
       "      <td>0</td>\n",
       "      <td>0</td>\n",
       "      <td>0</td>\n",
       "      <td>0</td>\n",
       "      <td>0</td>\n",
       "      <td>0</td>\n",
       "      <td>0</td>\n",
       "      <td>0</td>\n",
       "      <td>0</td>\n",
       "      <td>0</td>\n",
       "      <td>0</td>\n",
       "      <td>0</td>\n",
       "      <td>0</td>\n",
       "      <td>0</td>\n",
       "      <td>0</td>\n",
       "      <td>0</td>\n",
       "      <td>0</td>\n",
       "      <td>0</td>\n",
       "      <td>0</td>\n",
       "      <td>1156</td>\n",
       "      <td>0</td>\n",
       "      <td>0</td>\n",
       "      <td>0</td>\n",
       "      <td>0</td>\n",
       "      <td>0</td>\n",
       "      <td>0</td>\n",
       "    </tr>\n",
       "    <tr>\n",
       "      <td>2652</td>\n",
       "      <td>0</td>\n",
       "      <td>0</td>\n",
       "      <td>0</td>\n",
       "      <td>0</td>\n",
       "      <td>0</td>\n",
       "      <td>0</td>\n",
       "      <td>0</td>\n",
       "      <td>0</td>\n",
       "      <td>0</td>\n",
       "      <td>0</td>\n",
       "      <td>0</td>\n",
       "      <td>0</td>\n",
       "      <td>0</td>\n",
       "      <td>0</td>\n",
       "      <td>0</td>\n",
       "      <td>0</td>\n",
       "      <td>0</td>\n",
       "      <td>0</td>\n",
       "      <td>0</td>\n",
       "      <td>0</td>\n",
       "      <td>0</td>\n",
       "      <td>0</td>\n",
       "      <td>0</td>\n",
       "      <td>0</td>\n",
       "      <td>0</td>\n",
       "      <td>0</td>\n",
       "      <td>0</td>\n",
       "      <td>0</td>\n",
       "      <td>0</td>\n",
       "      <td>0</td>\n",
       "      <td>0</td>\n",
       "      <td>0</td>\n",
       "      <td>0</td>\n",
       "      <td>0</td>\n",
       "      <td>0</td>\n",
       "      <td>0</td>\n",
       "      <td>0</td>\n",
       "      <td>0</td>\n",
       "      <td>0</td>\n",
       "      <td>0</td>\n",
       "      <td>0</td>\n",
       "      <td>0</td>\n",
       "      <td>0</td>\n",
       "      <td>0</td>\n",
       "      <td>0</td>\n",
       "      <td>0</td>\n",
       "      <td>0</td>\n",
       "      <td>0</td>\n",
       "      <td>0</td>\n",
       "      <td>0</td>\n",
       "      <td>0</td>\n",
       "      <td>0</td>\n",
       "      <td>0</td>\n",
       "      <td>0</td>\n",
       "      <td>3062</td>\n",
       "      <td>0</td>\n",
       "      <td>0</td>\n",
       "      <td>0</td>\n",
       "      <td>0</td>\n",
       "      <td>0</td>\n",
       "    </tr>\n",
       "    <tr>\n",
       "      <td>2653</td>\n",
       "      <td>0</td>\n",
       "      <td>0</td>\n",
       "      <td>2162</td>\n",
       "      <td>0</td>\n",
       "      <td>0</td>\n",
       "      <td>0</td>\n",
       "      <td>0</td>\n",
       "      <td>0</td>\n",
       "      <td>0</td>\n",
       "      <td>0</td>\n",
       "      <td>0</td>\n",
       "      <td>2162</td>\n",
       "      <td>0</td>\n",
       "      <td>0</td>\n",
       "      <td>0</td>\n",
       "      <td>0</td>\n",
       "      <td>0</td>\n",
       "      <td>2162</td>\n",
       "      <td>0</td>\n",
       "      <td>0</td>\n",
       "      <td>0</td>\n",
       "      <td>0</td>\n",
       "      <td>0</td>\n",
       "      <td>0</td>\n",
       "      <td>0</td>\n",
       "      <td>0</td>\n",
       "      <td>0</td>\n",
       "      <td>0</td>\n",
       "      <td>0</td>\n",
       "      <td>0</td>\n",
       "      <td>0</td>\n",
       "      <td>0</td>\n",
       "      <td>0</td>\n",
       "      <td>0</td>\n",
       "      <td>2162</td>\n",
       "      <td>2162</td>\n",
       "      <td>0</td>\n",
       "      <td>0</td>\n",
       "      <td>0</td>\n",
       "      <td>0</td>\n",
       "      <td>2162</td>\n",
       "      <td>0</td>\n",
       "      <td>0</td>\n",
       "      <td>0</td>\n",
       "      <td>0</td>\n",
       "      <td>0</td>\n",
       "      <td>2162</td>\n",
       "      <td>0</td>\n",
       "      <td>0</td>\n",
       "      <td>0</td>\n",
       "      <td>0</td>\n",
       "      <td>0</td>\n",
       "      <td>0</td>\n",
       "      <td>0</td>\n",
       "      <td>0</td>\n",
       "      <td>2162</td>\n",
       "      <td>0</td>\n",
       "      <td>0</td>\n",
       "      <td>0</td>\n",
       "      <td>0</td>\n",
       "    </tr>\n",
       "    <tr>\n",
       "      <td>2659</td>\n",
       "      <td>1455</td>\n",
       "      <td>0</td>\n",
       "      <td>0</td>\n",
       "      <td>0</td>\n",
       "      <td>0</td>\n",
       "      <td>0</td>\n",
       "      <td>1455</td>\n",
       "      <td>1455</td>\n",
       "      <td>0</td>\n",
       "      <td>0</td>\n",
       "      <td>0</td>\n",
       "      <td>0</td>\n",
       "      <td>0</td>\n",
       "      <td>0</td>\n",
       "      <td>1455</td>\n",
       "      <td>0</td>\n",
       "      <td>0</td>\n",
       "      <td>0</td>\n",
       "      <td>0</td>\n",
       "      <td>0</td>\n",
       "      <td>1455</td>\n",
       "      <td>0</td>\n",
       "      <td>0</td>\n",
       "      <td>0</td>\n",
       "      <td>0</td>\n",
       "      <td>0</td>\n",
       "      <td>1455</td>\n",
       "      <td>1455</td>\n",
       "      <td>1455</td>\n",
       "      <td>0</td>\n",
       "      <td>0</td>\n",
       "      <td>1455</td>\n",
       "      <td>0</td>\n",
       "      <td>0</td>\n",
       "      <td>0</td>\n",
       "      <td>0</td>\n",
       "      <td>1455</td>\n",
       "      <td>1455</td>\n",
       "      <td>1455</td>\n",
       "      <td>0</td>\n",
       "      <td>0</td>\n",
       "      <td>0</td>\n",
       "      <td>0</td>\n",
       "      <td>1455</td>\n",
       "      <td>0</td>\n",
       "      <td>0</td>\n",
       "      <td>0</td>\n",
       "      <td>0</td>\n",
       "      <td>0</td>\n",
       "      <td>0</td>\n",
       "      <td>0</td>\n",
       "      <td>0</td>\n",
       "      <td>0</td>\n",
       "      <td>0</td>\n",
       "      <td>0</td>\n",
       "      <td>0</td>\n",
       "      <td>1455</td>\n",
       "      <td>0</td>\n",
       "      <td>1455</td>\n",
       "      <td>0</td>\n",
       "    </tr>\n",
       "    <tr>\n",
       "      <td>2664</td>\n",
       "      <td>0</td>\n",
       "      <td>0</td>\n",
       "      <td>0</td>\n",
       "      <td>0</td>\n",
       "      <td>0</td>\n",
       "      <td>0</td>\n",
       "      <td>0</td>\n",
       "      <td>0</td>\n",
       "      <td>0</td>\n",
       "      <td>0</td>\n",
       "      <td>0</td>\n",
       "      <td>0</td>\n",
       "      <td>0</td>\n",
       "      <td>0</td>\n",
       "      <td>0</td>\n",
       "      <td>0</td>\n",
       "      <td>0</td>\n",
       "      <td>0</td>\n",
       "      <td>0</td>\n",
       "      <td>0</td>\n",
       "      <td>0</td>\n",
       "      <td>0</td>\n",
       "      <td>0</td>\n",
       "      <td>0</td>\n",
       "      <td>0</td>\n",
       "      <td>0</td>\n",
       "      <td>0</td>\n",
       "      <td>0</td>\n",
       "      <td>0</td>\n",
       "      <td>0</td>\n",
       "      <td>0</td>\n",
       "      <td>0</td>\n",
       "      <td>0</td>\n",
       "      <td>0</td>\n",
       "      <td>0</td>\n",
       "      <td>0</td>\n",
       "      <td>0</td>\n",
       "      <td>0</td>\n",
       "      <td>0</td>\n",
       "      <td>0</td>\n",
       "      <td>0</td>\n",
       "      <td>0</td>\n",
       "      <td>0</td>\n",
       "      <td>0</td>\n",
       "      <td>0</td>\n",
       "      <td>0</td>\n",
       "      <td>0</td>\n",
       "      <td>0</td>\n",
       "      <td>0</td>\n",
       "      <td>0</td>\n",
       "      <td>0</td>\n",
       "      <td>0</td>\n",
       "      <td>0</td>\n",
       "      <td>0</td>\n",
       "      <td>0</td>\n",
       "      <td>0</td>\n",
       "      <td>0</td>\n",
       "      <td>3251</td>\n",
       "      <td>0</td>\n",
       "      <td>0</td>\n",
       "    </tr>\n",
       "    <tr>\n",
       "      <td>2670</td>\n",
       "      <td>1455</td>\n",
       "      <td>0</td>\n",
       "      <td>0</td>\n",
       "      <td>0</td>\n",
       "      <td>0</td>\n",
       "      <td>0</td>\n",
       "      <td>1455</td>\n",
       "      <td>1455</td>\n",
       "      <td>0</td>\n",
       "      <td>0</td>\n",
       "      <td>0</td>\n",
       "      <td>0</td>\n",
       "      <td>0</td>\n",
       "      <td>0</td>\n",
       "      <td>1455</td>\n",
       "      <td>0</td>\n",
       "      <td>0</td>\n",
       "      <td>0</td>\n",
       "      <td>0</td>\n",
       "      <td>0</td>\n",
       "      <td>1455</td>\n",
       "      <td>0</td>\n",
       "      <td>0</td>\n",
       "      <td>0</td>\n",
       "      <td>0</td>\n",
       "      <td>0</td>\n",
       "      <td>1455</td>\n",
       "      <td>1455</td>\n",
       "      <td>1455</td>\n",
       "      <td>0</td>\n",
       "      <td>0</td>\n",
       "      <td>1455</td>\n",
       "      <td>0</td>\n",
       "      <td>0</td>\n",
       "      <td>0</td>\n",
       "      <td>0</td>\n",
       "      <td>1455</td>\n",
       "      <td>1455</td>\n",
       "      <td>1455</td>\n",
       "      <td>0</td>\n",
       "      <td>0</td>\n",
       "      <td>0</td>\n",
       "      <td>0</td>\n",
       "      <td>1455</td>\n",
       "      <td>0</td>\n",
       "      <td>0</td>\n",
       "      <td>0</td>\n",
       "      <td>0</td>\n",
       "      <td>0</td>\n",
       "      <td>0</td>\n",
       "      <td>0</td>\n",
       "      <td>0</td>\n",
       "      <td>0</td>\n",
       "      <td>0</td>\n",
       "      <td>0</td>\n",
       "      <td>0</td>\n",
       "      <td>1455</td>\n",
       "      <td>0</td>\n",
       "      <td>1455</td>\n",
       "      <td>0</td>\n",
       "    </tr>\n",
       "    <tr>\n",
       "      <td>2677</td>\n",
       "      <td>0</td>\n",
       "      <td>0</td>\n",
       "      <td>0</td>\n",
       "      <td>0</td>\n",
       "      <td>0</td>\n",
       "      <td>0</td>\n",
       "      <td>0</td>\n",
       "      <td>0</td>\n",
       "      <td>0</td>\n",
       "      <td>0</td>\n",
       "      <td>0</td>\n",
       "      <td>0</td>\n",
       "      <td>0</td>\n",
       "      <td>0</td>\n",
       "      <td>0</td>\n",
       "      <td>0</td>\n",
       "      <td>0</td>\n",
       "      <td>0</td>\n",
       "      <td>0</td>\n",
       "      <td>0</td>\n",
       "      <td>0</td>\n",
       "      <td>0</td>\n",
       "      <td>0</td>\n",
       "      <td>0</td>\n",
       "      <td>0</td>\n",
       "      <td>0</td>\n",
       "      <td>0</td>\n",
       "      <td>0</td>\n",
       "      <td>0</td>\n",
       "      <td>1656</td>\n",
       "      <td>0</td>\n",
       "      <td>0</td>\n",
       "      <td>0</td>\n",
       "      <td>0</td>\n",
       "      <td>0</td>\n",
       "      <td>0</td>\n",
       "      <td>0</td>\n",
       "      <td>0</td>\n",
       "      <td>0</td>\n",
       "      <td>0</td>\n",
       "      <td>0</td>\n",
       "      <td>0</td>\n",
       "      <td>0</td>\n",
       "      <td>0</td>\n",
       "      <td>0</td>\n",
       "      <td>0</td>\n",
       "      <td>0</td>\n",
       "      <td>0</td>\n",
       "      <td>0</td>\n",
       "      <td>0</td>\n",
       "      <td>0</td>\n",
       "      <td>0</td>\n",
       "      <td>0</td>\n",
       "      <td>0</td>\n",
       "      <td>0</td>\n",
       "      <td>0</td>\n",
       "      <td>0</td>\n",
       "      <td>0</td>\n",
       "      <td>0</td>\n",
       "      <td>1656</td>\n",
       "    </tr>\n",
       "  </tbody>\n",
       "</table>\n",
       "</div>"
      ],
      "text/plain": [
       "idx_y  2420  2421  2422  2424  2431  2432  2436  2438  2439  2441  2443  2455  \\\n",
       "idx_x                                                                           \n",
       "2420   1455     0     0     0     0     0  1455  1455     0     0     0     0   \n",
       "2421      0  4136     0     0     0     0     0     0     0     0     0     0   \n",
       "2422      0     0  2162     0     0     0     0     0     0     0     0  2162   \n",
       "2424      0     0     0  1116     0  1116     0     0     0     0  1116     0   \n",
       "2431      0     0     0     0  5982     0     0     0     0     0     0     0   \n",
       "2432      0     0     0  1116     0  1116     0     0     0     0  1116     0   \n",
       "2436   1455     0     0     0     0     0  1455  1455     0     0     0     0   \n",
       "2438   1455     0     0     0     0     0  1455  1455     0     0     0     0   \n",
       "2439      0     0     0     0     0     0     0     0  3716     0     0     0   \n",
       "2441      0     0     0     0     0     0     0     0     0  2434     0     0   \n",
       "2443      0     0     0  1116     0  1116     0     0     0     0  1116     0   \n",
       "2455      0     0  2162     0     0     0     0     0     0     0     0  2162   \n",
       "2463      0     0     0     0     0     0     0     0     0     0     0     0   \n",
       "2465      0     0     0     0     0     0     0     0     0     0     0     0   \n",
       "2470   1455     0     0     0     0     0  1455  1455     0     0     0     0   \n",
       "2474      0     0     0     0     0     0     0     0     0     0     0     0   \n",
       "2475      0     0     0     0     0     0     0     0     0     0     0     0   \n",
       "2478      0     0  2162     0     0     0     0     0     0     0     0  2162   \n",
       "2482      0     0     0     0     0     0     0     0     0     0     0     0   \n",
       "2483      0     0     0     0     0     0     0     0     0     0     0     0   \n",
       "2486   1455     0     0     0     0     0  1455  1455     0     0     0     0   \n",
       "2491      0     0     0     0     0     0     0     0     0     0     0     0   \n",
       "2501      0     0     0     0     0     0     0     0     0  2434     0     0   \n",
       "2506      0     0     0     0     0     0     0     0     0     0     0     0   \n",
       "2510      0     0     0     0     0     0     0     0     0     0     0     0   \n",
       "2513      0     0     0     0     0     0     0     0     0     0     0     0   \n",
       "2522   1455     0     0     0     0     0  1455  1455     0     0     0     0   \n",
       "2523   1455     0     0     0     0     0  1455  1455     0     0     0     0   \n",
       "2524   1455     0     0     0     0     0  1455  1455     0     0     0     0   \n",
       "2525      0     0     0     0     0     0     0     0     0     0     0     0   \n",
       "2542      0     0     0     0     0     0     0     0     0     0     0     0   \n",
       "2552   1455     0     0     0     0     0  1455  1455     0     0     0     0   \n",
       "2554      0     0     0     0     0     0     0     0     0     0     0     0   \n",
       "2557      0     0     0     0     0     0     0     0     0  2434     0     0   \n",
       "2567      0     0  2162     0     0     0     0     0     0     0     0  2162   \n",
       "2569      0     0  2162     0     0     0     0     0     0     0     0  2162   \n",
       "2577   1455     0     0     0     0     0  1455  1455     0     0     0     0   \n",
       "2578   1455     0     0     0     0     0  1455  1455     0     0     0     0   \n",
       "2579   1455     0     0     0     0     0  1455  1455     0     0     0     0   \n",
       "2581      0     0     0     0     0     0     0     0     0     0     0     0   \n",
       "2582      0     0  2162     0     0     0     0     0     0     0     0  2162   \n",
       "2583      0     0     0  1116     0  1116     0     0     0     0  1116     0   \n",
       "2586      0     0     0     0     0     0     0     0     0     0     0     0   \n",
       "2592   1455     0     0     0     0     0  1455  1455     0     0     0     0   \n",
       "2596      0     0     0     0     0     0     0     0     0     0     0     0   \n",
       "2598      0     0     0     0     0     0     0     0     0     0     0     0   \n",
       "2599      0     0  2162     0     0     0     0     0     0     0     0  2162   \n",
       "2600      0     0     0     0     0     0     0     0     0     0     0     0   \n",
       "2614      0     0     0     0     0     0     0     0     0     0     0     0   \n",
       "2619      0     0     0     0     0     0     0     0     0     0     0     0   \n",
       "2634      0     0     0     0     0     0     0     0     0     0     0     0   \n",
       "2639      0     0     0     0     0     0     0     0     0     0     0     0   \n",
       "2645      0     0     0     0     0     0     0     0     0     0     0     0   \n",
       "2650      0     0     0     0     0     0     0     0     0     0     0     0   \n",
       "2652      0     0     0     0     0     0     0     0     0     0     0     0   \n",
       "2653      0     0  2162     0     0     0     0     0     0     0     0  2162   \n",
       "2659   1455     0     0     0     0     0  1455  1455     0     0     0     0   \n",
       "2664      0     0     0     0     0     0     0     0     0     0     0     0   \n",
       "2670   1455     0     0     0     0     0  1455  1455     0     0     0     0   \n",
       "2677      0     0     0     0     0     0     0     0     0     0     0     0   \n",
       "\n",
       "idx_y  2463  2465  2470  2474  2475  2478  2482  2483  2486  2491  2501  2506  \\\n",
       "idx_x                                                                           \n",
       "2420      0     0  1455     0     0     0     0     0  1455     0     0     0   \n",
       "2421      0     0     0     0     0     0     0     0     0     0     0     0   \n",
       "2422      0     0     0     0     0  2162     0     0     0     0     0     0   \n",
       "2424      0     0     0     0     0     0     0     0     0     0     0     0   \n",
       "2431      0     0     0     0     0     0     0     0     0     0     0     0   \n",
       "2432      0     0     0     0     0     0     0     0     0     0     0     0   \n",
       "2436      0     0  1455     0     0     0     0     0  1455     0     0     0   \n",
       "2438      0     0  1455     0     0     0     0     0  1455     0     0     0   \n",
       "2439      0     0     0     0     0     0     0     0     0     0     0     0   \n",
       "2441      0     0     0     0     0     0     0     0     0     0  2434     0   \n",
       "2443      0     0     0     0     0     0     0     0     0     0     0     0   \n",
       "2455      0     0     0     0     0  2162     0     0     0     0     0     0   \n",
       "2463   4443     0     0     0     0     0     0     0     0     0     0     0   \n",
       "2465      0  2796     0     0     0     0     0     0     0     0     0     0   \n",
       "2470      0     0  1455     0     0     0     0     0  1455     0     0     0   \n",
       "2474      0     0     0  2941     0     0     0     0     0     0     0     0   \n",
       "2475      0     0     0     0  2588     0     0     0     0     0     0     0   \n",
       "2478      0     0     0     0     0  2162     0     0     0     0     0     0   \n",
       "2482      0     0     0     0     0     0  2853     0     0     0     0     0   \n",
       "2483      0     0     0     0     0     0     0  1806     0     0     0     0   \n",
       "2486      0     0  1455     0     0     0     0     0  1455     0     0     0   \n",
       "2491      0     0     0     0     0     0     0     0     0  2389     0     0   \n",
       "2501      0     0     0     0     0     0     0     0     0     0  2434     0   \n",
       "2506      0     0     0     0     0     0     0     0     0     0     0  2427   \n",
       "2510      0     0     0     0     0     0     0     0     0  2389     0     0   \n",
       "2513      0     0     0     0     0     0     0     0     0     0     0     0   \n",
       "2522      0     0  1455     0     0     0     0     0  1455     0     0     0   \n",
       "2523      0     0  1455     0     0     0     0     0  1455     0     0     0   \n",
       "2524      0     0  1455     0     0     0     0     0  1455     0     0     0   \n",
       "2525      0     0     0     0     0     0     0     0     0     0     0     0   \n",
       "2542      0     0     0     0     0     0  2853     0     0     0     0     0   \n",
       "2552      0     0  1455     0     0     0     0     0  1455     0     0     0   \n",
       "2554      0     0     0     0     0     0     0     0     0     0     0     0   \n",
       "2557      0     0     0     0     0     0     0     0     0     0  2434     0   \n",
       "2567      0     0     0     0     0  2162     0     0     0     0     0     0   \n",
       "2569      0     0     0     0     0  2162     0     0     0     0     0     0   \n",
       "2577      0     0  1455     0     0     0     0     0  1455     0     0     0   \n",
       "2578      0     0  1455     0     0     0     0     0  1455     0     0     0   \n",
       "2579      0     0  1455     0     0     0     0     0  1455     0     0     0   \n",
       "2581      0     0     0     0     0     0     0  1806     0     0     0     0   \n",
       "2582      0     0     0     0     0  2162     0     0     0     0     0     0   \n",
       "2583      0     0     0     0     0     0     0     0     0     0     0     0   \n",
       "2586      0     0     0     0     0     0     0     0     0     0     0     0   \n",
       "2592      0     0  1455     0     0     0     0     0  1455     0     0     0   \n",
       "2596      0     0     0     0     0     0     0     0     0     0     0     0   \n",
       "2598      0     0     0     0     0     0     0     0     0     0     0     0   \n",
       "2599      0     0     0     0     0  2162     0     0     0     0     0     0   \n",
       "2600      0     0     0     0     0     0     0     0     0     0     0     0   \n",
       "2614      0     0     0     0     0     0     0     0     0     0     0     0   \n",
       "2619      0     0     0     0     0     0     0     0     0     0     0     0   \n",
       "2634      0     0     0     0     0     0     0     0     0     0     0     0   \n",
       "2639      0     0     0     0     0     0     0     0     0     0     0     0   \n",
       "2645      0     0     0     0     0     0     0     0     0     0     0     0   \n",
       "2650      0     0     0     0     0     0     0     0     0     0     0     0   \n",
       "2652      0     0     0     0     0     0     0     0     0     0     0     0   \n",
       "2653      0     0     0     0     0  2162     0     0     0     0     0     0   \n",
       "2659      0     0  1455     0     0     0     0     0  1455     0     0     0   \n",
       "2664      0     0     0     0     0     0     0     0     0     0     0     0   \n",
       "2670      0     0  1455     0     0     0     0     0  1455     0     0     0   \n",
       "2677      0     0     0     0     0     0     0     0     0     0     0     0   \n",
       "\n",
       "idx_y  2510  2513  2522  2523  2524  2525  2542  2552  2554  2557  2567  2569  \\\n",
       "idx_x                                                                           \n",
       "2420      0     0  1455  1455  1455     0     0  1455     0     0     0     0   \n",
       "2421      0     0     0     0     0     0     0     0     0     0     0     0   \n",
       "2422      0     0     0     0     0     0     0     0     0     0  2162  2162   \n",
       "2424      0     0     0     0     0     0     0     0     0     0     0     0   \n",
       "2431      0     0     0     0     0     0     0     0     0     0     0     0   \n",
       "2432      0     0     0     0     0     0     0     0     0     0     0     0   \n",
       "2436      0     0  1455  1455  1455     0     0  1455     0     0     0     0   \n",
       "2438      0     0  1455  1455  1455     0     0  1455     0     0     0     0   \n",
       "2439      0     0     0     0     0     0     0     0     0     0     0     0   \n",
       "2441      0     0     0     0     0     0     0     0     0  2434     0     0   \n",
       "2443      0     0     0     0     0     0     0     0     0     0     0     0   \n",
       "2455      0     0     0     0     0     0     0     0     0     0  2162  2162   \n",
       "2463      0     0     0     0     0     0     0     0     0     0     0     0   \n",
       "2465      0     0     0     0     0     0     0     0     0     0     0     0   \n",
       "2470      0     0  1455  1455  1455     0     0  1455     0     0     0     0   \n",
       "2474      0     0     0     0     0     0     0     0     0     0     0     0   \n",
       "2475      0     0     0     0     0     0     0     0     0     0     0     0   \n",
       "2478      0     0     0     0     0     0     0     0     0     0  2162  2162   \n",
       "2482      0     0     0     0     0     0  2853     0     0     0     0     0   \n",
       "2483      0     0     0     0     0     0     0     0     0     0     0     0   \n",
       "2486      0     0  1455  1455  1455     0     0  1455     0     0     0     0   \n",
       "2491   2389     0     0     0     0     0     0     0     0     0     0     0   \n",
       "2501      0     0     0     0     0     0     0     0     0  2434     0     0   \n",
       "2506      0     0     0     0     0     0     0     0     0     0     0     0   \n",
       "2510   2389     0     0     0     0     0     0     0     0     0     0     0   \n",
       "2513      0  1979     0     0     0     0     0     0     0     0     0     0   \n",
       "2522      0     0  1455  1455  1455     0     0  1455     0     0     0     0   \n",
       "2523      0     0  1455  1455  1455     0     0  1455     0     0     0     0   \n",
       "2524      0     0  1455  1455  1455     0     0  1455     0     0     0     0   \n",
       "2525      0     0     0     0     0  1656     0     0     0     0     0     0   \n",
       "2542      0     0     0     0     0     0  2853     0     0     0     0     0   \n",
       "2552      0     0  1455  1455  1455     0     0  1455     0     0     0     0   \n",
       "2554      0     0     0     0     0     0     0     0   980     0     0     0   \n",
       "2557      0     0     0     0     0     0     0     0     0  2434     0     0   \n",
       "2567      0     0     0     0     0     0     0     0     0     0  2162  2162   \n",
       "2569      0     0     0     0     0     0     0     0     0     0  2162  2162   \n",
       "2577      0     0  1455  1455  1455     0     0  1455     0     0     0     0   \n",
       "2578      0     0  1455  1455  1455     0     0  1455     0     0     0     0   \n",
       "2579      0     0  1455  1455  1455     0     0  1455     0     0     0     0   \n",
       "2581      0     0     0     0     0     0     0     0     0     0     0     0   \n",
       "2582      0     0     0     0     0     0     0     0     0     0  2162  2162   \n",
       "2583      0     0     0     0     0     0     0     0     0     0     0     0   \n",
       "2586      0     0     0     0     0     0     0     0     0     0     0     0   \n",
       "2592      0     0  1455  1455  1455     0     0  1455     0     0     0     0   \n",
       "2596      0     0     0     0     0     0     0     0     0     0     0     0   \n",
       "2598      0     0     0     0     0     0     0     0     0     0     0     0   \n",
       "2599      0     0     0     0     0     0     0     0     0     0  2162  2162   \n",
       "2600      0     0     0     0     0     0     0     0     0     0     0     0   \n",
       "2614      0  1979     0     0     0     0     0     0     0     0     0     0   \n",
       "2619      0     0     0     0     0     0     0     0     0     0     0     0   \n",
       "2634      0     0     0     0     0     0     0     0   980     0     0     0   \n",
       "2639      0     0     0     0     0     0     0     0     0     0     0     0   \n",
       "2645      0     0     0     0     0     0     0     0     0     0     0     0   \n",
       "2650      0     0     0     0     0     0     0     0     0     0     0     0   \n",
       "2652      0     0     0     0     0     0     0     0     0     0     0     0   \n",
       "2653      0     0     0     0     0     0     0     0     0     0  2162  2162   \n",
       "2659      0     0  1455  1455  1455     0     0  1455     0     0     0     0   \n",
       "2664      0     0     0     0     0     0     0     0     0     0     0     0   \n",
       "2670      0     0  1455  1455  1455     0     0  1455     0     0     0     0   \n",
       "2677      0     0     0     0     0  1656     0     0     0     0     0     0   \n",
       "\n",
       "idx_y  2577  2578  2579  2581  2582  2583  2586  2592  2596  2598  2599  2600  \\\n",
       "idx_x                                                                           \n",
       "2420   1455  1455  1455     0     0     0     0  1455     0     0     0     0   \n",
       "2421      0     0     0     0     0     0     0     0     0     0     0     0   \n",
       "2422      0     0     0     0  2162     0     0     0     0     0  2162     0   \n",
       "2424      0     0     0     0     0  1116     0     0     0     0     0     0   \n",
       "2431      0     0     0     0     0     0     0     0     0     0     0     0   \n",
       "2432      0     0     0     0     0  1116     0     0     0     0     0     0   \n",
       "2436   1455  1455  1455     0     0     0     0  1455     0     0     0     0   \n",
       "2438   1455  1455  1455     0     0     0     0  1455     0     0     0     0   \n",
       "2439      0     0     0     0     0     0     0     0     0     0     0     0   \n",
       "2441      0     0     0     0     0     0     0     0     0     0     0     0   \n",
       "2443      0     0     0     0     0  1116     0     0     0     0     0     0   \n",
       "2455      0     0     0     0  2162     0     0     0     0     0  2162     0   \n",
       "2463      0     0     0     0     0     0     0     0     0     0     0     0   \n",
       "2465      0     0     0     0     0     0     0     0     0     0     0     0   \n",
       "2470   1455  1455  1455     0     0     0     0  1455     0     0     0     0   \n",
       "2474      0     0     0     0     0     0     0     0     0     0     0     0   \n",
       "2475      0     0     0     0     0     0     0     0     0     0     0     0   \n",
       "2478      0     0     0     0  2162     0     0     0     0     0  2162     0   \n",
       "2482      0     0     0     0     0     0     0     0     0     0     0     0   \n",
       "2483      0     0     0  1806     0     0     0     0     0     0     0     0   \n",
       "2486   1455  1455  1455     0     0     0     0  1455     0     0     0     0   \n",
       "2491      0     0     0     0     0     0     0     0     0     0     0     0   \n",
       "2501      0     0     0     0     0     0     0     0     0     0     0     0   \n",
       "2506      0     0     0     0     0     0     0     0     0     0     0     0   \n",
       "2510      0     0     0     0     0     0     0     0     0     0     0     0   \n",
       "2513      0     0     0     0     0     0     0     0     0     0     0     0   \n",
       "2522   1455  1455  1455     0     0     0     0  1455     0     0     0     0   \n",
       "2523   1455  1455  1455     0     0     0     0  1455     0     0     0     0   \n",
       "2524   1455  1455  1455     0     0     0     0  1455     0     0     0     0   \n",
       "2525      0     0     0     0     0     0     0     0     0     0     0     0   \n",
       "2542      0     0     0     0     0     0     0     0     0     0     0     0   \n",
       "2552   1455  1455  1455     0     0     0     0  1455     0     0     0     0   \n",
       "2554      0     0     0     0     0     0     0     0     0     0     0     0   \n",
       "2557      0     0     0     0     0     0     0     0     0     0     0     0   \n",
       "2567      0     0     0     0  2162     0     0     0     0     0  2162     0   \n",
       "2569      0     0     0     0  2162     0     0     0     0     0  2162     0   \n",
       "2577   1455  1455  1455     0     0     0     0  1455     0     0     0     0   \n",
       "2578   1455  1455  1455     0     0     0     0  1455     0     0     0     0   \n",
       "2579   1455  1455  1455     0     0     0     0  1455     0     0     0     0   \n",
       "2581      0     0     0  1806     0     0     0     0     0     0     0     0   \n",
       "2582      0     0     0     0  2162     0     0     0     0     0  2162     0   \n",
       "2583      0     0     0     0     0  1116     0     0     0     0     0     0   \n",
       "2586      0     0     0     0     0     0  1891     0     0     0     0     0   \n",
       "2592   1455  1455  1455     0     0     0     0  1455     0     0     0     0   \n",
       "2596      0     0     0     0     0     0     0     0  2958     0     0     0   \n",
       "2598      0     0     0     0     0     0     0     0     0  3401     0     0   \n",
       "2599      0     0     0     0  2162     0     0     0     0     0  2162     0   \n",
       "2600      0     0     0     0     0     0     0     0     0     0     0  2844   \n",
       "2614      0     0     0     0     0     0     0     0     0     0     0     0   \n",
       "2619      0     0     0     0     0     0     0     0     0     0     0  2844   \n",
       "2634      0     0     0     0     0     0     0     0     0     0     0     0   \n",
       "2639      0     0     0     0     0     0     0     0     0     0     0  2844   \n",
       "2645      0     0     0     0     0     0     0     0     0     0     0     0   \n",
       "2650      0     0     0     0     0     0     0     0     0     0     0     0   \n",
       "2652      0     0     0     0     0     0     0     0     0     0     0     0   \n",
       "2653      0     0     0     0  2162     0     0     0     0     0  2162     0   \n",
       "2659   1455  1455  1455     0     0     0     0  1455     0     0     0     0   \n",
       "2664      0     0     0     0     0     0     0     0     0     0     0     0   \n",
       "2670   1455  1455  1455     0     0     0     0  1455     0     0     0     0   \n",
       "2677      0     0     0     0     0     0     0     0     0     0     0     0   \n",
       "\n",
       "idx_y  2614  2619  2634  2639  2645  2650  2652  2653  2659  2664  2670  2677  \n",
       "idx_x                                                                          \n",
       "2420      0     0     0     0     0     0     0     0  1455     0  1455     0  \n",
       "2421      0     0     0     0     0     0     0     0     0     0     0     0  \n",
       "2422      0     0     0     0     0     0     0  2162     0     0     0     0  \n",
       "2424      0     0     0     0     0     0     0     0     0     0     0     0  \n",
       "2431      0     0     0     0     0     0     0     0     0     0     0     0  \n",
       "2432      0     0     0     0     0     0     0     0     0     0     0     0  \n",
       "2436      0     0     0     0     0     0     0     0  1455     0  1455     0  \n",
       "2438      0     0     0     0     0     0     0     0  1455     0  1455     0  \n",
       "2439      0     0     0     0     0     0     0     0     0     0     0     0  \n",
       "2441      0     0     0     0     0     0     0     0     0     0     0     0  \n",
       "2443      0     0     0     0     0     0     0     0     0     0     0     0  \n",
       "2455      0     0     0     0     0     0     0  2162     0     0     0     0  \n",
       "2463      0     0     0     0     0     0     0     0     0     0     0     0  \n",
       "2465      0     0     0     0     0     0     0     0     0     0     0     0  \n",
       "2470      0     0     0     0     0     0     0     0  1455     0  1455     0  \n",
       "2474      0     0     0     0     0     0     0     0     0     0     0     0  \n",
       "2475      0     0     0     0     0     0     0     0     0     0     0     0  \n",
       "2478      0     0     0     0     0     0     0  2162     0     0     0     0  \n",
       "2482      0     0     0     0     0     0     0     0     0     0     0     0  \n",
       "2483      0     0     0     0     0     0     0     0     0     0     0     0  \n",
       "2486      0     0     0     0     0     0     0     0  1455     0  1455     0  \n",
       "2491      0     0     0     0     0     0     0     0     0     0     0     0  \n",
       "2501      0     0     0     0     0     0     0     0     0     0     0     0  \n",
       "2506      0     0     0     0     0     0     0     0     0     0     0     0  \n",
       "2510      0     0     0     0     0     0     0     0     0     0     0     0  \n",
       "2513   1979     0     0     0     0     0     0     0     0     0     0     0  \n",
       "2522      0     0     0     0     0     0     0     0  1455     0  1455     0  \n",
       "2523      0     0     0     0     0     0     0     0  1455     0  1455     0  \n",
       "2524      0     0     0     0     0     0     0     0  1455     0  1455     0  \n",
       "2525      0     0     0     0     0     0     0     0     0     0     0  1656  \n",
       "2542      0     0     0     0     0     0     0     0     0     0     0     0  \n",
       "2552      0     0     0     0     0     0     0     0  1455     0  1455     0  \n",
       "2554      0     0   980     0     0     0     0     0     0     0     0     0  \n",
       "2557      0     0     0     0     0     0     0     0     0     0     0     0  \n",
       "2567      0     0     0     0     0     0     0  2162     0     0     0     0  \n",
       "2569      0     0     0     0     0     0     0  2162     0     0     0     0  \n",
       "2577      0     0     0     0     0     0     0     0  1455     0  1455     0  \n",
       "2578      0     0     0     0     0     0     0     0  1455     0  1455     0  \n",
       "2579      0     0     0     0     0     0     0     0  1455     0  1455     0  \n",
       "2581      0     0     0     0     0     0     0     0     0     0     0     0  \n",
       "2582      0     0     0     0     0     0     0  2162     0     0     0     0  \n",
       "2583      0     0     0     0     0     0     0     0     0     0     0     0  \n",
       "2586      0     0     0     0     0     0     0     0     0     0     0     0  \n",
       "2592      0     0     0     0     0     0     0     0  1455     0  1455     0  \n",
       "2596      0     0     0     0     0     0     0     0     0     0     0     0  \n",
       "2598      0     0     0     0     0     0     0     0     0     0     0     0  \n",
       "2599      0     0     0     0     0     0     0  2162     0     0     0     0  \n",
       "2600      0  2844     0  2844     0     0     0     0     0     0     0     0  \n",
       "2614   1979     0     0     0     0     0     0     0     0     0     0     0  \n",
       "2619      0  2844     0  2844     0     0     0     0     0     0     0     0  \n",
       "2634      0     0   980     0     0     0     0     0     0     0     0     0  \n",
       "2639      0  2844     0  2844     0     0     0     0     0     0     0     0  \n",
       "2645      0     0     0     0  1997     0     0     0     0     0     0     0  \n",
       "2650      0     0     0     0     0  1156     0     0     0     0     0     0  \n",
       "2652      0     0     0     0     0     0  3062     0     0     0     0     0  \n",
       "2653      0     0     0     0     0     0     0  2162     0     0     0     0  \n",
       "2659      0     0     0     0     0     0     0     0  1455     0  1455     0  \n",
       "2664      0     0     0     0     0     0     0     0     0  3251     0     0  \n",
       "2670      0     0     0     0     0     0     0     0  1455     0  1455     0  \n",
       "2677      0     0     0     0     0     0     0     0     0     0     0  1656  "
      ]
     },
     "execution_count": 63,
     "metadata": {},
     "output_type": "execute_result"
    }
   ],
   "source": [
    "df.pivot_table(index=\"idx_x\",columns=\"idx_y\",values=\"val\",fill_value=0)"
   ]
  },
  {
   "cell_type": "code",
   "execution_count": 64,
   "metadata": {},
   "outputs": [
    {
     "ename": "NameError",
     "evalue": "name 'lsta' is not defined",
     "output_type": "error",
     "traceback": [
      "\u001b[0;31m---------------------------------------------------------------------------\u001b[0m",
      "\u001b[0;31mNameError\u001b[0m                                 Traceback (most recent call last)",
      "\u001b[0;32m<ipython-input-64-a97a50648fc1>\u001b[0m in \u001b[0;36m<module>\u001b[0;34m\u001b[0m\n\u001b[0;32m----> 1\u001b[0;31m \u001b[0;32mfor\u001b[0m \u001b[0mx\u001b[0m \u001b[0;32min\u001b[0m \u001b[0mproduct\u001b[0m\u001b[0;34m(\u001b[0m\u001b[0mlsta\u001b[0m\u001b[0;34m,\u001b[0m\u001b[0mlstb\u001b[0m\u001b[0;34m)\u001b[0m\u001b[0;34m:\u001b[0m\u001b[0;34m\u001b[0m\u001b[0;34m\u001b[0m\u001b[0m\n\u001b[0m\u001b[1;32m      2\u001b[0m                   \u001b[0mprint\u001b[0m\u001b[0;34m(\u001b[0m\u001b[0mx\u001b[0m\u001b[0;34m)\u001b[0m\u001b[0;34m\u001b[0m\u001b[0;34m\u001b[0m\u001b[0m\n",
      "\u001b[0;31mNameError\u001b[0m: name 'lsta' is not defined"
     ]
    }
   ],
   "source": [
    "for x in product(lsta,lstb):\n",
    "                  print(x)"
   ]
  },
  {
   "cell_type": "code",
   "execution_count": null,
   "metadata": {},
   "outputs": [],
   "source": [
    "train_df[train_df['Class']==2]"
   ]
  },
  {
   "cell_type": "markdown",
   "metadata": {},
   "source": [
    "![](https://imgur.com/kO8UAXb.png)"
   ]
  },
  {
   "cell_type": "markdown",
   "metadata": {},
   "source": [
    "image courtesy http://igbiologyy.blogspot.com/2014/03/chromosomes-dna-genes-and-alleles.html"
   ]
  },
  {
   "cell_type": "markdown",
   "metadata": {},
   "source": [
    "### <font style=\"font-size:18px;font-family:arial;color:green;text-indent:100px;line-height: 0.8;word-spacing: 10px\"><i>Gene</i> is a stretch of DNA encoding a specific functional molecule, a protein. Variation is <i>Mutation</i>,  which occurs in the gene and changes the function of the protein. Proteins are made up of 20 amino acids and these are designated by the following alphabets; A,R,N,D,C,Q,E,G,H,I,L,K,M,F,P,S,T,W,Y and V. In the variation column, the first alphabet is the orginal amino acid, the number is the physical position in the gene where the change has occured and the last alphabet is the changed amino acid. The Text dataset contains the information for the Gene, the Variation and the Class column in the variants dataset. The 2 datasets are linked by the common ID column</font>"
   ]
  },
  {
   "cell_type": "markdown",
   "metadata": {},
   "source": [
    "### The distribution of mutations per gene in the dataset"
   ]
  },
  {
   "cell_type": "code",
   "execution_count": 79,
   "metadata": {},
   "outputs": [],
   "source": [
    "mutation_pattern=train_df.groupby(['Gene'])[['Variation']].aggregate(\"count\").sort_values(\"Variation\",ascending=False)"
   ]
  },
  {
   "cell_type": "code",
   "execution_count": 80,
   "metadata": {},
   "outputs": [
    {
     "data": {
      "image/png": "[encoded data removed]",
      "text/plain": [
       "<Figure size 432x288 with 1 Axes>"
      ]
     },
     "metadata": {
      "needs_background": "light"
     },
     "output_type": "display_data"
    }
   ],
   "source": [
    "mutation_pattern[['Variation']].boxplot(vert=False);\n",
    "plt.title(\"The number of mutations per gene\");"
   ]
  },
  {
   "cell_type": "code",
   "execution_count": 81,
   "metadata": {},
   "outputs": [
    {
     "data": {
      "text/plain": [
       "(155, 1)"
      ]
     },
     "execution_count": 81,
     "metadata": {},
     "output_type": "execute_result"
    }
   ],
   "source": [
    "mutation_pattern.shape"
   ]
  },
  {
   "cell_type": "code",
   "execution_count": 82,
   "metadata": {},
   "outputs": [
    {
     "data": {
      "text/plain": [
       "2.0"
      ]
     },
     "execution_count": 82,
     "metadata": {},
     "output_type": "execute_result"
    }
   ],
   "source": [
    "mutation_pattern['Variation'].median()"
   ]
  },
  {
   "cell_type": "code",
   "execution_count": 83,
   "metadata": {},
   "outputs": [
    {
     "data": {
      "text/plain": [
       "0    1\n",
       "dtype: int64"
      ]
     },
     "execution_count": 83,
     "metadata": {},
     "output_type": "execute_result"
    }
   ],
   "source": [
    "mutation_pattern['Variation'].mode()"
   ]
  },
  {
   "cell_type": "code",
   "execution_count": 84,
   "metadata": {},
   "outputs": [],
   "source": [
    "from scipy.special import factorial\n",
    "\n",
    "def poisson(k, lamb):\n",
    "    \"\"\"poisson pdf, parameter lamb is the fit parameter\"\"\"\n",
    "    return (lamb**k/factorial(k)) * np.exp(-lamb)"
   ]
  },
  {
   "cell_type": "code",
   "execution_count": 85,
   "metadata": {},
   "outputs": [],
   "source": [
    "lamb=mutation_pattern['Variation'].mean()"
   ]
  },
  {
   "cell_type": "code",
   "execution_count": 86,
   "metadata": {},
   "outputs": [],
   "source": [
    "k=mutation_pattern['Variation'].to_numpy()"
   ]
  },
  {
   "cell_type": "code",
   "execution_count": 87,
   "metadata": {},
   "outputs": [],
   "source": [
    "k=np.sort(k)"
   ]
  },
  {
   "cell_type": "code",
   "execution_count": 88,
   "metadata": {},
   "outputs": [],
   "source": [
    "y=poisson(k,lamb)"
   ]
  },
  {
   "cell_type": "code",
   "execution_count": 89,
   "metadata": {},
   "outputs": [
    {
     "data": {
      "image/png": "[encoded data removed]",
      "text/plain": [
       "<Figure size 432x288 with 2 Axes>"
      ]
     },
     "metadata": {
      "needs_background": "light"
     },
     "output_type": "display_data"
    }
   ],
   "source": [
    "plt.subplot(1,2,1)\n",
    "mutation_pattern['Variation'].plot.density();\n",
    "plt.title(\"density plot of distribution of mutations\")\n",
    "plt.subplot(1,2,2)\n",
    "plt.plot(k,y);\n",
    "plt.title(\"poisson fit of distribution of mutations\")\n",
    "plt.tight_layout()"
   ]
  },
  {
   "cell_type": "code",
   "execution_count": 90,
   "metadata": {},
   "outputs": [],
   "source": [
    "mutated_genes=train_df['Gene'].to_list()"
   ]
  },
  {
   "cell_type": "markdown",
   "metadata": {},
   "source": [
    "### <font style=\"font-size:18px;font-family:arial;color:blue;text-indent:100px;line-height: 0.8;word-spacing: 10px\"> Mutation acquisition is a rare event. The Poisson distribution is used to describe the distribution of rare events in a large population. For example, at any particular time, there is a certain probability that a particular cell within a large population of cells will acquire a mutation.                                                                                   -Frank H. Stephenson, in Calculations for Molecular Biology and Biotechnology (Second Edition), 2010. The distribution of mutations per gene in this dataset follows the usual pattern of Poisson distribution seen in general for mutations. 3321 mutations, or variations, are distributed in 195 genes. 14 genes have more than 20 mutations, which are often classified in different classes. It would be worthwhile to investigate, why certain mutations are classified in certain specific classes </font>"
   ]
  },
  {
   "cell_type": "markdown",
   "metadata": {},
   "source": [
    "### <font color='green'>The distribution of classes in the dataset </font>"
   ]
  },
  {
   "cell_type": "code",
   "execution_count": 35,
   "metadata": {},
   "outputs": [
    {
     "data": {
      "image/png": "[encoded data removed]",
      "text/plain": [
       "<Figure size 432x288 with 1 Axes>"
      ]
     },
     "metadata": {
      "needs_background": "light"
     },
     "output_type": "display_data"
    }
   ],
   "source": [
    "train_df[\"Class\"].value_counts().plot(kind='bar');\n",
    "plt.title(\"Distribution of classes in the data\");"
   ]
  },
  {
   "cell_type": "markdown",
   "metadata": {},
   "source": [
    "### <font color='blue'>The mutations are distributed into 9 classes, from class 1 to class 9.The distribution of the classes is imbalanced </font>"
   ]
  },
  {
   "cell_type": "code",
   "execution_count": 36,
   "metadata": {},
   "outputs": [
    {
     "data": {
      "text/plain": [
       "7"
      ]
     },
     "execution_count": 36,
     "metadata": {},
     "output_type": "execute_result"
    }
   ],
   "source": [
    "train_df[train_df['Class']==8]['Gene'].nunique()"
   ]
  },
  {
   "cell_type": "code",
   "execution_count": 37,
   "metadata": {},
   "outputs": [
    {
     "data": {
      "text/plain": [
       "77"
      ]
     },
     "execution_count": 37,
     "metadata": {},
     "output_type": "execute_result"
    }
   ],
   "source": [
    "train_df[train_df['Class']==7]['Gene'].nunique()"
   ]
  },
  {
   "cell_type": "code",
   "execution_count": 38,
   "metadata": {},
   "outputs": [
    {
     "data": {
      "text/plain": [
       "91"
      ]
     },
     "execution_count": 38,
     "metadata": {},
     "output_type": "execute_result"
    }
   ],
   "source": [
    "train_df[train_df['Class']==1]['Gene'].nunique()"
   ]
  },
  {
   "cell_type": "code",
   "execution_count": 42,
   "metadata": {},
   "outputs": [
    {
     "name": "stdout",
     "output_type": "stream",
     "text": [
      "1   91\n",
      "2   59\n",
      "3   14\n",
      "4   64\n",
      "5   29\n",
      "6   32\n",
      "7   77\n",
      "8   7\n",
      "9   8\n"
     ]
    }
   ],
   "source": [
    "for n in range(9):\n",
    "    print(n+1,\" \",train_df[train_df['Class']==(n+1)]['Gene'].nunique())\n",
    "    "
   ]
  },
  {
   "cell_type": "markdown",
   "metadata": {},
   "source": [
    "### <font color=\"blue\"> The largest class, class 7, has 108 genes which is almost half of all the mutated genes, while class 8, the smallest class has 12 genes. Let us see if all genes in class 7 have the same number of mutations per gene </font>"
   ]
  },
  {
   "cell_type": "code",
   "execution_count": null,
   "metadata": {},
   "outputs": [],
   "source": [
    "test_variant_df=pd.read_csv('test_variants.zip',compression='zip')"
   ]
  },
  {
   "cell_type": "code",
   "execution_count": null,
   "metadata": {},
   "outputs": [],
   "source": [
    "train_variant_df.head()"
   ]
  },
  {
   "cell_type": "markdown",
   "metadata": {},
   "source": [
    "#### <font color='blue'>Are the position of the mutations for a gene in the train and test datasets same ? </font>"
   ]
  },
  {
   "cell_type": "code",
   "execution_count": null,
   "metadata": {},
   "outputs": [],
   "source": [
    "compare_train_test_variant=pd.merge(train_variant_df,test_variant_df,how='outer',left_on='Gene',right_on='Gene')"
   ]
  },
  {
   "cell_type": "code",
   "execution_count": null,
   "metadata": {},
   "outputs": [],
   "source": [
    "compare_train_test_variant[compare_train_test_variant['Gene']=='CBL']"
   ]
  },
  {
   "cell_type": "markdown",
   "metadata": {},
   "source": [
    "#### <font color='blue'> The position and nature of mutations in the train and test dataset are different,and hence, we cannot transfer the class annotation directly from train to text </font>"
   ]
  },
  {
   "cell_type": "code",
   "execution_count": null,
   "metadata": {},
   "outputs": [],
   "source": [
    "train_df[train_df['Class']==7].groupby('Gene')[['Variation']].count().boxplot(vert=False);"
   ]
  },
  {
   "cell_type": "code",
   "execution_count": null,
   "metadata": {},
   "outputs": [],
   "source": [
    "train_df[train_df['Class']==7]['Variation'].nunique()"
   ]
  },
  {
   "cell_type": "code",
   "execution_count": null,
   "metadata": {},
   "outputs": [],
   "source": [
    "def gene_class(i):\n",
    "    return train_df[train_df['Class']==i]['Gene'].drop_duplicates().tolist()"
   ]
  },
  {
   "cell_type": "code",
   "execution_count": null,
   "metadata": {},
   "outputs": [],
   "source": [
    "class_gene_list=[]\n",
    "for i in range(1,10):\n",
    "    var_name='class'+str(i)+\"_genes\"\n",
    "    var_name=gene_class(i)\n",
    "    class_gene_list.append(var_name)    "
   ]
  },
  {
   "cell_type": "markdown",
   "metadata": {},
   "source": [
    "### <font color='blue'> The pattern of mutations per gene, is same as the overall dataset and hence,no obvious numerical pattern is present in classifying the mutations in class 7. Let us furthere explore a few other possibilites for the classification </font>"
   ]
  },
  {
   "cell_type": "markdown",
   "metadata": {},
   "source": [
    "### <font color='green'>The Signalling Pathways in Cancer</font>"
   ]
  },
  {
   "cell_type": "markdown",
   "metadata": {},
   "source": [
    "![](https://i.imgur.com/yk4ib0M.jpg)"
   ]
  },
  {
   "cell_type": "markdown",
   "metadata": {},
   "source": [
    "### <font color='blue'> Proteins encoded by respective genes, function together in elaborate sequences called <i>Pathways<i> ,to create the final outcome. For cancer, the sequence mostly starts with a signal outside the cell. Proteins called receptors recieve the signal, and pass it on to a sequence of other proteins downstream,finally to a protein called Transcription Activator, which then switches other genes on and off to make the cancer cell survive and proliferate. Here, we will attempt to see, if the classification is based on these pathways, and we will test class 7 as an example </font>"
   ]
  },
  {
   "cell_type": "markdown",
   "metadata": {},
   "source": [
    "### Pathway analysis with Bioservices library and KEGG Database"
   ]
  },
  {
   "cell_type": "code",
   "execution_count": null,
   "metadata": {},
   "outputs": [],
   "source": [
    "#!pip install bioservices"
   ]
  },
  {
   "cell_type": "markdown",
   "metadata": {},
   "source": [
    "Bioservices is a Python package that provides access to many Bioinformatices Web Services (e.g., UniProt) and a framework to easily implement Web Services wrappers (based on WSDL/SOAP or REST protocols)"
   ]
  },
  {
   "cell_type": "code",
   "execution_count": null,
   "metadata": {},
   "outputs": [],
   "source": [
    "from Bio.KEGG import REST\n",
    "from bioservices.kegg import KEGG\n",
    "#from collections import deque\n",
    "import networkx as nx\n",
    "from IPython.display import Image\n",
    "import time\n",
    "import re"
   ]
  },
  {
   "cell_type": "markdown",
   "metadata": {},
   "source": [
    "#### <font color ='blue'>KEGG PATHWAY is a collection of manually drawn pathway maps representing our knowledge of the molecular interaction, reaction and relation networks for:\n",
    "1. Metabolism\n",
    "    Global/overview   Carbohydrate   Energy   Lipid   Nucleotide   Amino acid   Other amino   Glycan\n",
    "    Cofactor/vitamin   Terpenoid/PK   Other secondary metabolite   Xenobiotics   Chemical structure\n",
    "2. Genetic Information Processing\n",
    "3. Environmental Information Processing\n",
    "4. Cellular Processes\n",
    "5. Organismal Systems\n",
    "6. Human Diseases\n",
    "7. Drug Development\n",
    "</font>    "
   ]
  },
  {
   "cell_type": "code",
   "execution_count": null,
   "metadata": {},
   "outputs": [],
   "source": [
    "kegg_obj=KEGG()"
   ]
  },
  {
   "cell_type": "markdown",
   "metadata": {},
   "source": [
    "#### the get method gets the data pertainng to ALK gene *'ALK') for humans ('hsa') from the KEGG database"
   ]
  },
  {
   "cell_type": "code",
   "execution_count": null,
   "metadata": {},
   "outputs": [],
   "source": [
    "print(kegg_obj.get(\"hsa:ALK\"))"
   ]
  },
  {
   "cell_type": "markdown",
   "metadata": {},
   "source": [
    "#### get the list of all human genes from the KEGG Database and use re module to extract gene name"
   ]
  },
  {
   "cell_type": "code",
   "execution_count": null,
   "metadata": {},
   "outputs": [],
   "source": [
    "human_gene_list=kegg_obj.list('hsa')"
   ]
  },
  {
   "cell_type": "code",
   "execution_count": null,
   "metadata": {},
   "outputs": [],
   "source": [
    "human_gene_list=human_gene_list.split('\\n')"
   ]
  },
  {
   "cell_type": "code",
   "execution_count": null,
   "metadata": {},
   "outputs": [],
   "source": [
    "human_gene_list[0]"
   ]
  },
  {
   "cell_type": "code",
   "execution_count": null,
   "metadata": {},
   "outputs": [],
   "source": [
    "re.sub('[\\t;]',',',human_gene_list[0])"
   ]
  },
  {
   "cell_type": "code",
   "execution_count": null,
   "metadata": {},
   "outputs": [],
   "source": [
    "re.search('\\t\\w+','hsa:100616498\\tMIR378E, mir-378e; microRNA 378e').group()[1:]"
   ]
  },
  {
   "cell_type": "code",
   "execution_count": null,
   "metadata": {},
   "outputs": [],
   "source": [
    "def get_kegg_indices(human_gene_list):\n",
    "    \"\"\" this function gets the gene name and KEGG Database IDs\"\"\"\n",
    "    gene_kegg_id_dict={}\n",
    "    for item in human_gene_list:\n",
    "        try:\n",
    "            kegg_id=re.search('^\\w+:\\w+',item).group()\n",
    "        except:\n",
    "            kegg_id='no_entry'\n",
    "        try:\n",
    "            gene=re.search('\\t\\w+',item).group()[1:]\n",
    "        except:\n",
    "            gene='no_gene'            \n",
    "        gene_kegg_id_dict[gene]=kegg_id\n",
    "    return gene_kegg_id_dict    "
   ]
  },
  {
   "cell_type": "code",
   "execution_count": null,
   "metadata": {},
   "outputs": [],
   "source": [
    "def map_mutation_kegg(mutated_genes,human_gene_list):\n",
    "    \"\"\"this function maps the mutated genes to KEGG Database IDs\"\"\"\n",
    "    print(\"mutated genes in class\",len(mutated_genes))\n",
    "    print(\"genes in KEGG Database \",len(human_gene_list))\n",
    "    mut_gene_kegg=[]\n",
    "    kegg_gene_dict=get_kegg_indices(human_gene_list)\n",
    "    for mut_gene in mutated_genes:\n",
    "        if mut_gene in kegg_gene_dict:\n",
    "            gene_tup=(mut_gene,kegg_gene_dict[mut_gene])\n",
    "            mut_gene_kegg.append(gene_tup)\n",
    "    return mut_gene_kegg        "
   ]
  },
  {
   "cell_type": "markdown",
   "metadata": {},
   "source": [
    "#### get the KEGG gene IDs for mutated genes for class 7"
   ]
  },
  {
   "cell_type": "code",
   "execution_count": null,
   "metadata": {},
   "outputs": [],
   "source": [
    "class_7_mutated_kegg=map_mutation_kegg(class_7_genes,human_gene_list)"
   ]
  },
  {
   "cell_type": "code",
   "execution_count": null,
   "metadata": {},
   "outputs": [],
   "source": [
    "def df_gene_pathway(mutated_genes):    \n",
    "    \"\"\"this function maps the pathways from KEGG Database to the mutated genes\"\"\"\n",
    "    df_gene_pathway=pd.DataFrame(columns=[\"gene\",\"pathway\"])\n",
    "    for gene in tqdm(mutated_genes):    \n",
    "        try:\n",
    "            pathway_origin=kegg_obj.get_pathway_by_gene(gene,\"hsa\")\n",
    "            pathway_list=list(set(pathway_origin.keys()))\n",
    "            for pathway in pathway_list:\n",
    "                path_obj=kegg_obj.get(pathway)\n",
    "                path_name=kegg_obj.parse(path_obj)['NAME'][0]          # get the name of the pathway \n",
    "                path_name=re.sub(' -\\s\\w*\\s\\w*\\s\\(\\w*\\)',\"\",path_name) # remove the trailing text after hyphen\n",
    "                df_gene_pathway=df_gene_pathway.append({\"pathway\":path_name,\"gene\":gene},ignore_index=True)\n",
    "        except:\n",
    "            print(\"no data for \",gene)\n",
    "    return df_gene_pathway       "
   ]
  },
  {
   "cell_type": "code",
   "execution_count": null,
   "metadata": {},
   "outputs": [],
   "source": [
    "def gene_pathway_csv(class_gene_list,human_gene_list):\n",
    "    \"\"\"this function maps all pathways to all genes in each class\"\"\"\n",
    "    for i in range(10):\n",
    "        class_mutated_kegg=map_mutation_kegg(class_gene_list[i],human_gene_list)\n",
    "        class_gene_pathway=df_gene_pathway(class_gene_list[i])\n",
    "        class_gene_pathway.drop_duplicates(inplace=True)\n",
    "        file_name='class'+str(i+1)+\"_gene_pathway.csv\"\n",
    "        class_gene_pathway.to_csv(file_name,header=True,index=False)    \n",
    "    for file in os.listdir():\n",
    "        if '.csv' in file:\n",
    "            print(file)"
   ]
  },
  {
   "cell_type": "code",
   "execution_count": null,
   "metadata": {},
   "outputs": [],
   "source": [
    "gene_pathway_csv(class_gene_list,human_gene_list)"
   ]
  },
  {
   "cell_type": "raw",
   "metadata": {},
   "source": []
  },
  {
   "cell_type": "code",
   "execution_count": null,
   "metadata": {},
   "outputs": [],
   "source": [
    "class_gene_pathway=pd.read_csv(\"class5_gene_pathway.csv\")\n",
    "class_gene_pathway=class_gene_pathway.groupby('pathway').count().sort_values('gene',ascending=False)\n",
    "class_idx=class_gene_pathway.groupby('pathway').count().sort_values('gene',ascending=False).index\n",
    "lst=[]\n",
    "for item in class_idx:\n",
    "    if 'signaling' in item:\n",
    "        lst.append(item)"
   ]
  },
  {
   "cell_type": "markdown",
   "metadata": {},
   "source": [
    "#### Class 1 signalling pathways"
   ]
  },
  {
   "cell_type": "code",
   "execution_count": null,
   "metadata": {},
   "outputs": [],
   "source": [
    "class_gene_pathway.loc[lst,:].sort_values('gene',ascending=False).head(n=5)"
   ]
  },
  {
   "cell_type": "markdown",
   "metadata": {},
   "source": [
    "#### Class 2 signalling pathways"
   ]
  },
  {
   "cell_type": "code",
   "execution_count": null,
   "metadata": {},
   "outputs": [],
   "source": [
    "class_gene_pathway.loc[lst,:].sort_values('gene',ascending=False).head(n=5)"
   ]
  },
  {
   "cell_type": "markdown",
   "metadata": {},
   "source": [
    "#### Class 3 signalling pathways"
   ]
  },
  {
   "cell_type": "code",
   "execution_count": null,
   "metadata": {},
   "outputs": [],
   "source": [
    "class_gene_pathway.loc[lst,:].sort_values('gene',ascending=False).head(n=5)"
   ]
  },
  {
   "cell_type": "markdown",
   "metadata": {},
   "source": [
    "#### Class 4 signalling pathways"
   ]
  },
  {
   "cell_type": "code",
   "execution_count": null,
   "metadata": {},
   "outputs": [],
   "source": [
    "class_gene_pathway.loc[lst,:].sort_values('gene',ascending=False).head(n=5)"
   ]
  },
  {
   "cell_type": "markdown",
   "metadata": {},
   "source": [
    "#### Class 5 signalling pathways"
   ]
  },
  {
   "cell_type": "code",
   "execution_count": null,
   "metadata": {},
   "outputs": [],
   "source": [
    "class_gene_pathway.loc[lst,:].sort_values('gene',ascending=False).head(n=5)"
   ]
  },
  {
   "cell_type": "markdown",
   "metadata": {},
   "source": [
    "### <font color='blue'> Almost all classes have the key signaling pathways. There is no unique one-to-one correspondence between class and pathway. Hence, the segregation into classes is possibly based on severity of the mutation, rather than functional classification </font>"
   ]
  },
  {
   "cell_type": "markdown",
   "metadata": {},
   "source": [
    "### <font color='green'> Let us study the mutations of BRCA1, the most highly mutated gene with respect to the classification</font>"
   ]
  },
  {
   "cell_type": "markdown",
   "metadata": {},
   "source": [
    "![](https://imgur.com/3OrGniu.png)"
   ]
  },
  {
   "cell_type": "markdown",
   "metadata": {},
   "source": [
    "image courtesy = https://www.researchgate.net/figure/Schematic-representation-of-BRCA1-and-BRCA2-genes_fig1_315981607"
   ]
  },
  {
   "cell_type": "markdown",
   "metadata": {},
   "source": [
    "#### BRCA1 is found in the cells of breast and other tissue, where they help repair damaged DNA, or destroy cells if DNA cannot be repaired.BRCA1 combines with other tumor suppressors, DNA damage sensors and signal transducers to form a large multi-subunit protein complex known as the BRCA1-associated genome surveillance complex (BASC)"
   ]
  },
  {
   "cell_type": "code",
   "execution_count": null,
   "metadata": {},
   "outputs": [],
   "source": [
    "brca=train_df[train_df['Gene'] == 'BRCA1']"
   ]
  },
  {
   "cell_type": "code",
   "execution_count": null,
   "metadata": {},
   "outputs": [],
   "source": [
    "def integer_mutation(val):\n",
    "    nval=val[1:-1]\n",
    "    try:\n",
    "        nval=int(nval)\n",
    "    except:\n",
    "        nval=-1\n",
    "    return nval    "
   ]
  },
  {
   "cell_type": "code",
   "execution_count": null,
   "metadata": {},
   "outputs": [],
   "source": [
    "brca.groupby('Class')['Variation'].count()"
   ]
  },
  {
   "cell_type": "code",
   "execution_count": null,
   "metadata": {},
   "outputs": [],
   "source": [
    "brca['Variation'].nunique()"
   ]
  },
  {
   "cell_type": "code",
   "execution_count": null,
   "metadata": {},
   "outputs": [],
   "source": [
    "brca.head(n=5)"
   ]
  },
  {
   "cell_type": "markdown",
   "metadata": {},
   "source": [
    "### In BRCA1, 264 mutations are cataloged into 5 classes"
   ]
  },
  {
   "cell_type": "code",
   "execution_count": null,
   "metadata": {},
   "outputs": [],
   "source": [
    "brca['location']=brca['Variation'].map(integer_mutation)"
   ]
  },
  {
   "cell_type": "code",
   "execution_count": null,
   "metadata": {},
   "outputs": [],
   "source": [
    "brca.sort_values('location',inplace=True)"
   ]
  },
  {
   "cell_type": "code",
   "execution_count": null,
   "metadata": {},
   "outputs": [],
   "source": [
    "sns.scatterplot(data=brca,x='location',y='Class',hue='Class',y_jitter=True);\n",
    "plt.legend(bbox_to_anchor=(1.05, 1), loc=2, borderaxespad=0.);\n",
    "plt.title('distribution of Class along the length of BRCA1');"
   ]
  },
  {
   "cell_type": "markdown",
   "metadata": {},
   "source": [
    "### <font style=\"font-size:18px;font-family:arial;color:green;text-indent:100px;line-height:0.8;word-spacing:10px\"> We can see that class 5 mutations are distributed throughout the length of the gene, while all other classes are concentrated in certain locations. In all probability, this class of mutations will disrupt the structure of the protein. class 1 mutations, are exclusively at the terminal end, which is responsible for the BRCA1 protein to interact with other proteins. class 6,3 and 4 are concentrated at the start of the protein, where these mutations will disrupt DNA binding activity, and at the end, where they will disrupt interactions</font>"
   ]
  },
  {
   "cell_type": "markdown",
   "metadata": {},
   "source": [
    "### <font color='blue'> Let us study a few other heavily mutated genes to try to decipher a pattern </font>"
   ]
  },
  {
   "cell_type": "code",
   "execution_count": null,
   "metadata": {},
   "outputs": [],
   "source": [
    "# top 10 mutated genes\n",
    "train_df.groupby('Gene')['Variation'].aggregate(\"count\").sort_values(ascending=False).head(n=10)"
   ]
  },
  {
   "cell_type": "markdown",
   "metadata": {},
   "source": [
    "### schematic of TP53 protein"
   ]
  },
  {
   "cell_type": "markdown",
   "metadata": {},
   "source": [
    "![](https://imgur.com/rdKuiQX.png)"
   ]
  },
  {
   "cell_type": "markdown",
   "metadata": {},
   "source": [
    "image courtesy https://www.researchgate.net/figure/Structure-of-the-tetramer-formation-domain-in-p53-protein-a-Domain-structure-of-p53_fig1_323968961"
   ]
  },
  {
   "cell_type": "markdown",
   "metadata": {},
   "source": [
    "#### The p53 protein is located in the nucleus of cells throughout the body, where it attaches (binds) directly to DNA. When the DNA in a cell becomes damaged by agents such as toxic chemicals, radiation, or ultraviolet (UV) rays from sunlight, this protein plays a critical role in determining whether the DNA will be repaired or the damaged cell will self-destruct (undergo apoptosis). If the DNA can be repaired, p53 activates other genes to fix the damage. If the DNA cannot be repaired, this protein prevents the cell from dividing and signals it to undergo death. By stopping cells with mutated or damaged DNA from dividing, p53 helps prevent the development of tumors"
   ]
  },
  {
   "cell_type": "code",
   "execution_count": null,
   "metadata": {},
   "outputs": [],
   "source": [
    "tp53=train_df[train_df['Gene'] == 'TP53']"
   ]
  },
  {
   "cell_type": "code",
   "execution_count": null,
   "metadata": {},
   "outputs": [],
   "source": [
    "tp53.groupby('Class')['Variation'].count()"
   ]
  },
  {
   "cell_type": "code",
   "execution_count": null,
   "metadata": {},
   "outputs": [],
   "source": [
    "tp53['Variation'].nunique()"
   ]
  },
  {
   "cell_type": "markdown",
   "metadata": {},
   "source": [
    "### In TP53, 163 mutations are classified into 7 classes"
   ]
  },
  {
   "cell_type": "code",
   "execution_count": null,
   "metadata": {},
   "outputs": [],
   "source": [
    "tp53['location']=tp53['Variation'].map(integer_mutation)"
   ]
  },
  {
   "cell_type": "code",
   "execution_count": null,
   "metadata": {},
   "outputs": [],
   "source": [
    "tp53.sort_values('location',inplace=True)"
   ]
  },
  {
   "cell_type": "code",
   "execution_count": null,
   "metadata": {},
   "outputs": [],
   "source": [
    "sns.scatterplot(data=tp53,x='location',y='Class',hue='Class',y_jitter=True);\n",
    "plt.legend(bbox_to_anchor=(1.05, 1), loc=2, borderaxespad=0.);\n",
    "plt.title('distribution of Class along the length of TP53');"
   ]
  },
  {
   "cell_type": "markdown",
   "metadata": {},
   "source": [
    "### In the case of TP53, it is mostly mutated by class 1 and class 4 mutations and these are spread in the DNA binding domain of the protein, thus mostly disrupting this activity"
   ]
  },
  {
   "cell_type": "markdown",
   "metadata": {},
   "source": [
    "### schematic of EGFR protein"
   ]
  },
  {
   "cell_type": "markdown",
   "metadata": {},
   "source": [
    "![](https://imgur.com/LiUERaV.png)"
   ]
  },
  {
   "cell_type": "markdown",
   "metadata": {},
   "source": [
    "image courtesy https://www.researchgate.net/figure/Schematic-of-the-EGFR-Gene-with-Locations-of-the-Mutation-Types_fig1_7479078"
   ]
  },
  {
   "cell_type": "markdown",
   "metadata": {},
   "source": [
    "EGFR is a cell surface protein that binds to epidermal growth factor, thus inducing receptor dimerization and tyrosine autophosphorylation leading to cell proliferation. Mutations in this gene are associated with lung cancer. EGFR is a component of the cytokine storm which contributes to a severe form of Coronavirus Disease 2019 (COVID-19) resulting from infection with severe acute respiratory syndrome coronavirus-2 (SARS-CoV-2)"
   ]
  },
  {
   "cell_type": "code",
   "execution_count": null,
   "metadata": {},
   "outputs": [],
   "source": [
    "egfr=train_df[train_df['Gene'] == 'EGFR']"
   ]
  },
  {
   "cell_type": "code",
   "execution_count": null,
   "metadata": {},
   "outputs": [],
   "source": [
    "egfr.groupby('Class')['Variation'].count()"
   ]
  },
  {
   "cell_type": "code",
   "execution_count": null,
   "metadata": {},
   "outputs": [],
   "source": [
    "egfr['Variation'].nunique()"
   ]
  },
  {
   "cell_type": "markdown",
   "metadata": {},
   "source": [
    "### In EGFR, 141 mutatitons are classified into 8 groups"
   ]
  },
  {
   "cell_type": "code",
   "execution_count": null,
   "metadata": {},
   "outputs": [],
   "source": [
    "egfr['location']=egfr['Variation'].map(integer_mutation)"
   ]
  },
  {
   "cell_type": "code",
   "execution_count": null,
   "metadata": {},
   "outputs": [],
   "source": [
    "egfr.sort_values('location',inplace=True)"
   ]
  },
  {
   "cell_type": "code",
   "execution_count": null,
   "metadata": {},
   "outputs": [],
   "source": [
    "sns.scatterplot(data=egfr,x='location',y='Class',hue='Class',y_jitter=True);\n",
    "plt.legend(bbox_to_anchor=(1.05, 1), loc=2, borderaxespad=0.);\n",
    "plt.title('distribution of Class along the length of EGFR');"
   ]
  },
  {
   "cell_type": "markdown",
   "metadata": {},
   "source": [
    "### <font color='blue'> EGFR protein is mostly affected by class 2 and class 7 mutations</font>"
   ]
  },
  {
   "cell_type": "code",
   "execution_count": null,
   "metadata": {},
   "outputs": [],
   "source": [
    "class_vs_mutation=train_df.groupby(['Gene','Class'])[['Variation']].nunique().sort_values(by='Variation',ascending=False).reset_index()"
   ]
  },
  {
   "cell_type": "code",
   "execution_count": null,
   "metadata": {},
   "outputs": [],
   "source": [
    "class_vs_mutation[class_vs_mutation['Gene']=='BRCA1']"
   ]
  },
  {
   "cell_type": "code",
   "execution_count": null,
   "metadata": {},
   "outputs": [],
   "source": [
    "sns.scatterplot(data=class_vs_mutation,x='Class',y='Variation',hue='Gene',y_jitter=True);\n",
    "plt.legend(bbox_to_anchor=(1.05, 1), loc=2, borderaxespad=0.);\n",
    "plt.title('distribution of mutation (variation) among the classes');"
   ]
  },
  {
   "cell_type": "markdown",
   "metadata": {},
   "source": [
    "### <font color='green'> We thus conclude our EDA.Both from the 3 extreme cases above, and the plot below, we see that most genes have limited mutations (variations), restricted to a particular class.Even, in the case of the 3 extreme cases above, most of the mutations, belonged to select classes. The median mutations per gene is 4, with most genes having but 1 mutation. These classes have a functional significance, which can be understood by reading the text. There is no direct correlation to the usual classification based on pathways or on location. This could be due to the fact that these mutations have been classified on clinical signifcance, and each protein has an unique structural organization. Thus we shall now use the tools of NLP to model the classification </font>"
   ]
  },
  {
   "cell_type": "markdown",
   "metadata": {},
   "source": [
    "### <font color='blue'> Creation of ML model </font>"
   ]
  },
  {
   "cell_type": "code",
   "execution_count": null,
   "metadata": {},
   "outputs": [],
   "source": [
    "train_df.shape"
   ]
  },
  {
   "cell_type": "code",
   "execution_count": null,
   "metadata": {
    "scrolled": false
   },
   "outputs": [],
   "source": [
    "train_df.isna().sum()"
   ]
  },
  {
   "cell_type": "code",
   "execution_count": null,
   "metadata": {},
   "outputs": [],
   "source": [
    "train_df[train_df['Text'].map(lambda x:not isinstance(x,str))]"
   ]
  },
  {
   "cell_type": "code",
   "execution_count": null,
   "metadata": {},
   "outputs": [],
   "source": [
    "train_df.dropna(inplace=True)"
   ]
  },
  {
   "cell_type": "code",
   "execution_count": null,
   "metadata": {},
   "outputs": [],
   "source": [
    "from sklearn.model_selection import train_test_split"
   ]
  },
  {
   "cell_type": "code",
   "execution_count": null,
   "metadata": {},
   "outputs": [],
   "source": [
    "y_train=train_df['Class']\n",
    "X_train=train_df.drop('Class',axis=1)\n",
    "train_df,validation_df,y_train,y_validation=train_test_split(X_train,y_train,test_size=0.3,stratify=y_train) # stratification is important as classes are imbalanced"
   ]
  },
  {
   "cell_type": "code",
   "execution_count": null,
   "metadata": {},
   "outputs": [],
   "source": [
    "train_df.shape,y_train.shape"
   ]
  },
  {
   "cell_type": "code",
   "execution_count": null,
   "metadata": {},
   "outputs": [],
   "source": [
    "set(y_train.tolist())"
   ]
  },
  {
   "cell_type": "code",
   "execution_count": null,
   "metadata": {},
   "outputs": [],
   "source": [
    "validation_df.shape,y_validation.shape"
   ]
  },
  {
   "cell_type": "code",
   "execution_count": null,
   "metadata": {},
   "outputs": [],
   "source": [
    "set(y_validation.tolist())"
   ]
  },
  {
   "cell_type": "markdown",
   "metadata": {},
   "source": [
    "#### train data"
   ]
  },
  {
   "cell_type": "code",
   "execution_count": null,
   "metadata": {},
   "outputs": [],
   "source": [
    "train_df.head()"
   ]
  },
  {
   "cell_type": "markdown",
   "metadata": {},
   "source": [
    "#### validation data"
   ]
  },
  {
   "cell_type": "code",
   "execution_count": null,
   "metadata": {},
   "outputs": [],
   "source": [
    "validation_df.head()"
   ]
  },
  {
   "cell_type": "markdown",
   "metadata": {},
   "source": [
    "[link to destination](#destination)"
   ]
  },
  {
   "cell_type": "markdown",
   "metadata": {},
   "source": [
    "### <font color='blue'>Text preprocessing</font>"
   ]
  },
  {
   "cell_type": "code",
   "execution_count": 111,
   "metadata": {
    "colab": {
     "base_uri": "https://localhost:8080/",
     "height": 38
    },
    "executionInfo": {
     "elapsed": 98,
     "status": "ok",
     "timestamp": 1638286184867,
     "user": {
      "displayName": "Anubrata Das",
      "photoUrl": "https://lh3.googleusercontent.com/a-/AOh14GiI2340pPpSj6e4aG_4urL4HRwW3MRXEf5aoo2_QA=s64",
      "userId": "08781375266004215524"
     },
     "user_tz": -330
    },
    "id": "9SoN9RkCag-o",
    "outputId": "7f64e0fd-3acd-42a0-9d80-2dd56677fb44"
   },
   "outputs": [
    {
     "data": {
      "text/plain": [
       "'!\"#$%&\\'()*+,-./:;<=>?@[\\\\]^_`{|}~'"
      ]
     },
     "execution_count": 111,
     "metadata": {},
     "output_type": "execute_result"
    }
   ],
   "source": [
    "import string\n",
    "string.punctuation"
   ]
  },
  {
   "cell_type": "code",
   "execution_count": 112,
   "metadata": {
    "executionInfo": {
     "elapsed": 90,
     "status": "ok",
     "timestamp": 1638286184868,
     "user": {
      "displayName": "Anubrata Das",
      "photoUrl": "https://lh3.googleusercontent.com/a-/AOh14GiI2340pPpSj6e4aG_4urL4HRwW3MRXEf5aoo2_QA=s64",
      "userId": "08781375266004215524"
     },
     "user_tz": -330
    },
    "id": "Zoqhi_AKamax"
   },
   "outputs": [],
   "source": [
    "revised_punctuation='!\"#$%&\\'()*+,./:;<=>?@[\\\\]^_`{|}~'"
   ]
  },
  {
   "cell_type": "code",
   "execution_count": 41,
   "metadata": {},
   "outputs": [
    {
     "data": {
      "text/plain": [
       "'!\"#$%&\\'()*+,./:;<=>?@[\\\\]^_`{|}~'"
      ]
     },
     "execution_count": 41,
     "metadata": {},
     "output_type": "execute_result"
    }
   ],
   "source": [
    "revised_punctuation"
   ]
  },
  {
   "cell_type": "code",
   "execution_count": 31,
   "metadata": {},
   "outputs": [],
   "source": [
    "#!pip install nltk"
   ]
  },
  {
   "cell_type": "code",
   "execution_count": 32,
   "metadata": {
    "executionInfo": {
     "elapsed": 92,
     "status": "ok",
     "timestamp": 1638286184873,
     "user": {
      "displayName": "Anubrata Das",
      "photoUrl": "https://lh3.googleusercontent.com/a-/AOh14GiI2340pPpSj6e4aG_4urL4HRwW3MRXEf5aoo2_QA=s64",
      "userId": "08781375266004215524"
     },
     "user_tz": -330
    },
    "id": "UoSJBAQWis7w"
   },
   "outputs": [
    {
     "name": "stderr",
     "output_type": "stream",
     "text": [
      "[nltk_data] Downloading package words to\n",
      "[nltk_data]     C:\\Users\\anubr\\AppData\\Roaming\\nltk_data...\n",
      "[nltk_data]   Package words is already up-to-date!\n"
     ]
    }
   ],
   "source": [
    "import nltk\n",
    "nltk.download('words')\n",
    "from nltk.corpus import words\n",
    "words=nltk.corpus.words.words()"
   ]
  },
  {
   "cell_type": "code",
   "execution_count": 33,
   "metadata": {},
   "outputs": [
    {
     "data": {
      "text/plain": [
       "235892"
      ]
     },
     "execution_count": 33,
     "metadata": {},
     "output_type": "execute_result"
    }
   ],
   "source": [
    "len(set(words))"
   ]
  },
  {
   "cell_type": "code",
   "execution_count": 34,
   "metadata": {},
   "outputs": [],
   "source": [
    "nltk_words=set(words)"
   ]
  },
  {
   "cell_type": "code",
   "execution_count": 113,
   "metadata": {
    "executionInfo": {
     "elapsed": 90,
     "status": "ok",
     "timestamp": 1638286184874,
     "user": {
      "displayName": "Anubrata Das",
      "photoUrl": "https://lh3.googleusercontent.com/a-/AOh14GiI2340pPpSj6e4aG_4urL4HRwW3MRXEf5aoo2_QA=s64",
      "userId": "08781375266004215524"
     },
     "user_tz": -330
    },
    "id": "dZa3dSo_KOra"
   },
   "outputs": [],
   "source": [
    "def cleanse_data(data):        \n",
    "    if isinstance(data,str):\n",
    "        no_punctuation = [char for char in data.replace('\\n',' ') if char not in revised_punctuation]\n",
    "        no_punctuation_txt = ''.join(no_punctuation)                   \n",
    "        return no_punctuation_txt\n",
    "    else:\n",
    "        return \"NA\""
   ]
  },
  {
   "cell_type": "code",
   "execution_count": 36,
   "metadata": {},
   "outputs": [],
   "source": [
    "def reduce_words(data):\n",
    "    data = data.split()\n",
    "    words = [word for word in data if word not in nltk_words]\n",
    "    text = \" \".join(words)\n",
    "    return text    "
   ]
  },
  {
   "cell_type": "code",
   "execution_count": 37,
   "metadata": {},
   "outputs": [],
   "source": [
    "def word_count(text):\n",
    "    text_lst=text.split()\n",
    "    vector = [text_lst.count(str(word)) for word in text_lst]\n",
    "    return vector[:300]"
   ]
  },
  {
   "cell_type": "code",
   "execution_count": 38,
   "metadata": {},
   "outputs": [],
   "source": [
    "from nltk.probability import FreqDist"
   ]
  },
  {
   "cell_type": "markdown",
   "metadata": {
    "id": "eHrZ7Ae4odHg"
   },
   "source": [
    "we have obtained the frequency distribution of words using freqdist"
   ]
  },
  {
   "cell_type": "code",
   "execution_count": 39,
   "metadata": {},
   "outputs": [],
   "source": [
    "def freq_dist(data):\n",
    "    data=data.split(\" \")\n",
    "    freq=FreqDist(data) # gets word frequency\n",
    "    freq=sorted(freq.items(),key=lambda x:x[1], reverse=True) # sorts words from highest to lowest frequency\n",
    "    return [item[1] for item in freq][:300] # returns a fixed length of 300 words"
   ]
  },
  {
   "cell_type": "code",
   "execution_count": 40,
   "metadata": {},
   "outputs": [],
   "source": [
    "# References"
   ]
  },
  {
   "cell_type": "code",
   "execution_count": 41,
   "metadata": {},
   "outputs": [],
   "source": [
    "# https://melaniewalsh.github.io/Intro-Cultural-Analytics/05-Text-Analysis/03-TF-IDF-Scikit-Learn.html\n",
    "# https://www.datacamp.com/community/tutorials/understanding-logistic-regression-python\n",
    "# https://machinelearningmastery.com/multinomial-logistic-regression-with-python/\n",
    "# https://www.kaggle.com/elemento/personalizedmedicine-rct"
   ]
  },
  {
   "cell_type": "markdown",
   "metadata": {},
   "source": [
    "[Beginning of Notebook](#top)"
   ]
  },
  {
   "cell_type": "raw",
   "metadata": {},
   "source": []
  },
  {
   "cell_type": "code",
   "execution_count": 114,
   "metadata": {},
   "outputs": [],
   "source": [
    "def text_preprocessing(df):\n",
    "    # remove punctuation\n",
    "    df['cleaned_text'] = df['Text'].map(cleanse_data,na_action='ignore')\n",
    "    # filtering all common english words\n",
    "    #df['cleaned_text'] = df['cleaned_text'].map(reduce_words,na_action='ignore')\n",
    "    # count the length of original text\n",
    "    df['Text_len'] = df['Text'].map(lambda x:len(str(x)))\n",
    "    # count the length of cleaned text\n",
    "    df['cleaned_text_len'] = df['cleaned_text'].map(lambda x:len(str(x)))"
   ]
  },
  {
   "cell_type": "code",
   "execution_count": 115,
   "metadata": {},
   "outputs": [],
   "source": [
    "text_preprocessing(train_df)"
   ]
  },
  {
   "cell_type": "code",
   "execution_count": 116,
   "metadata": {},
   "outputs": [],
   "source": [
    "text_preprocessing(validation_df)"
   ]
  },
  {
   "cell_type": "code",
   "execution_count": 38,
   "metadata": {},
   "outputs": [
    {
     "data": {
      "text/html": [
       "<div>\n",
       "<style scoped>\n",
       "    .dataframe tbody tr th:only-of-type {\n",
       "        vertical-align: middle;\n",
       "    }\n",
       "\n",
       "    .dataframe tbody tr th {\n",
       "        vertical-align: top;\n",
       "    }\n",
       "\n",
       "    .dataframe thead th {\n",
       "        text-align: right;\n",
       "    }\n",
       "</style>\n",
       "<table border=\"1\" class=\"dataframe\">\n",
       "  <thead>\n",
       "    <tr style=\"text-align: right;\">\n",
       "      <th></th>\n",
       "      <th>ID</th>\n",
       "      <th>Gene</th>\n",
       "      <th>Variation</th>\n",
       "      <th>Text</th>\n",
       "      <th>cleaned_text</th>\n",
       "      <th>Text_len</th>\n",
       "      <th>cleaned_text_len</th>\n",
       "    </tr>\n",
       "  </thead>\n",
       "  <tbody>\n",
       "    <tr>\n",
       "      <td>1945</td>\n",
       "      <td>1945</td>\n",
       "      <td>CARD11</td>\n",
       "      <td>E626K</td>\n",
       "      <td>Mycosis fungoides and Sézary syndrome are prim...</td>\n",
       "      <td>Mycosis fungoides and Sézary syndrome are prim...</td>\n",
       "      <td>31964</td>\n",
       "      <td>30742</td>\n",
       "    </tr>\n",
       "    <tr>\n",
       "      <td>1046</td>\n",
       "      <td>1046</td>\n",
       "      <td>TSC2</td>\n",
       "      <td>A614D</td>\n",
       "      <td>Tuberous sclerosis (TSC) is an autosomal domin...</td>\n",
       "      <td>Tuberous sclerosis TSC is an autosomal dominan...</td>\n",
       "      <td>72359</td>\n",
       "      <td>70526</td>\n",
       "    </tr>\n",
       "    <tr>\n",
       "      <td>2546</td>\n",
       "      <td>2546</td>\n",
       "      <td>BRCA1</td>\n",
       "      <td>S1486C</td>\n",
       "      <td>Mutations in BRCA1 and BRCA2 account for the m...</td>\n",
       "      <td>Mutations in BRCA1 and BRCA2 account for the m...</td>\n",
       "      <td>42859</td>\n",
       "      <td>41630</td>\n",
       "    </tr>\n",
       "    <tr>\n",
       "      <td>1103</td>\n",
       "      <td>1103</td>\n",
       "      <td>BAP1</td>\n",
       "      <td>F170I</td>\n",
       "      <td>BRCA1-associated protein 1 (BAP1) is a deubiqu...</td>\n",
       "      <td>BRCA1-associated protein 1 BAP1 is a deubiquit...</td>\n",
       "      <td>25230</td>\n",
       "      <td>24408</td>\n",
       "    </tr>\n",
       "    <tr>\n",
       "      <td>2206</td>\n",
       "      <td>2206</td>\n",
       "      <td>PTEN</td>\n",
       "      <td>T131S</td>\n",
       "      <td>The PTEN (phosphatase and tensin homolog) phos...</td>\n",
       "      <td>The PTEN phosphatase and tensin homolog phosph...</td>\n",
       "      <td>42789</td>\n",
       "      <td>41494</td>\n",
       "    </tr>\n",
       "  </tbody>\n",
       "</table>\n",
       "</div>"
      ],
      "text/plain": [
       "        ID    Gene Variation  \\\n",
       "1945  1945  CARD11     E626K   \n",
       "1046  1046    TSC2     A614D   \n",
       "2546  2546   BRCA1    S1486C   \n",
       "1103  1103    BAP1     F170I   \n",
       "2206  2206    PTEN     T131S   \n",
       "\n",
       "                                                   Text  \\\n",
       "1945  Mycosis fungoides and Sézary syndrome are prim...   \n",
       "1046  Tuberous sclerosis (TSC) is an autosomal domin...   \n",
       "2546  Mutations in BRCA1 and BRCA2 account for the m...   \n",
       "1103  BRCA1-associated protein 1 (BAP1) is a deubiqu...   \n",
       "2206  The PTEN (phosphatase and tensin homolog) phos...   \n",
       "\n",
       "                                           cleaned_text  Text_len  \\\n",
       "1945  Mycosis fungoides and Sézary syndrome are prim...     31964   \n",
       "1046  Tuberous sclerosis TSC is an autosomal dominan...     72359   \n",
       "2546  Mutations in BRCA1 and BRCA2 account for the m...     42859   \n",
       "1103  BRCA1-associated protein 1 BAP1 is a deubiquit...     25230   \n",
       "2206  The PTEN phosphatase and tensin homolog phosph...     42789   \n",
       "\n",
       "      cleaned_text_len  \n",
       "1945             30742  \n",
       "1046             70526  \n",
       "2546             41630  \n",
       "1103             24408  \n",
       "2206             41494  "
      ]
     },
     "execution_count": 38,
     "metadata": {},
     "output_type": "execute_result"
    }
   ],
   "source": [
    "train_df.head()"
   ]
  },
  {
   "cell_type": "code",
   "execution_count": 39,
   "metadata": {},
   "outputs": [
    {
     "data": {
      "text/html": [
       "<div>\n",
       "<style scoped>\n",
       "    .dataframe tbody tr th:only-of-type {\n",
       "        vertical-align: middle;\n",
       "    }\n",
       "\n",
       "    .dataframe tbody tr th {\n",
       "        vertical-align: top;\n",
       "    }\n",
       "\n",
       "    .dataframe thead th {\n",
       "        text-align: right;\n",
       "    }\n",
       "</style>\n",
       "<table border=\"1\" class=\"dataframe\">\n",
       "  <thead>\n",
       "    <tr style=\"text-align: right;\">\n",
       "      <th></th>\n",
       "      <th>ID</th>\n",
       "      <th>Gene</th>\n",
       "      <th>Variation</th>\n",
       "      <th>Text</th>\n",
       "      <th>cleaned_text</th>\n",
       "      <th>Text_len</th>\n",
       "      <th>cleaned_text_len</th>\n",
       "    </tr>\n",
       "  </thead>\n",
       "  <tbody>\n",
       "    <tr>\n",
       "      <td>949</td>\n",
       "      <td>949</td>\n",
       "      <td>PDGFRB</td>\n",
       "      <td>SPTBN1-PDGFRB Fusion</td>\n",
       "      <td>Abstract Chromosomal translocations involving...</td>\n",
       "      <td>Abstract Chromosomal translocations involving...</td>\n",
       "      <td>13950</td>\n",
       "      <td>13476</td>\n",
       "    </tr>\n",
       "    <tr>\n",
       "      <td>2298</td>\n",
       "      <td>2298</td>\n",
       "      <td>PRDM1</td>\n",
       "      <td>Deletion</td>\n",
       "      <td>PRDM1/BLIMP-1, a master regulator of plasma-c...</td>\n",
       "      <td>PRDM1BLIMP-1 a master regulator of plasma-cel...</td>\n",
       "      <td>147463</td>\n",
       "      <td>142931</td>\n",
       "    </tr>\n",
       "    <tr>\n",
       "      <td>748</td>\n",
       "      <td>748</td>\n",
       "      <td>ERBB2</td>\n",
       "      <td>E265K</td>\n",
       "      <td>Individuals with gallbladder carcinoma (GBC), ...</td>\n",
       "      <td>Individuals with gallbladder carcinoma GBC the...</td>\n",
       "      <td>26693</td>\n",
       "      <td>25758</td>\n",
       "    </tr>\n",
       "    <tr>\n",
       "      <td>2243</td>\n",
       "      <td>2243</td>\n",
       "      <td>PTEN</td>\n",
       "      <td>K62R</td>\n",
       "      <td>Somatic and germline mutations in PTEN (phosph...</td>\n",
       "      <td>Somatic and germline mutations in PTEN phospha...</td>\n",
       "      <td>67795</td>\n",
       "      <td>65900</td>\n",
       "    </tr>\n",
       "    <tr>\n",
       "      <td>2608</td>\n",
       "      <td>2608</td>\n",
       "      <td>BRCA1</td>\n",
       "      <td>R1589H</td>\n",
       "      <td>Abstract Germline inactivating mutations in B...</td>\n",
       "      <td>Abstract Germline inactivating mutations in B...</td>\n",
       "      <td>17185</td>\n",
       "      <td>16655</td>\n",
       "    </tr>\n",
       "  </tbody>\n",
       "</table>\n",
       "</div>"
      ],
      "text/plain": [
       "        ID    Gene             Variation  \\\n",
       "949    949  PDGFRB  SPTBN1-PDGFRB Fusion   \n",
       "2298  2298   PRDM1              Deletion   \n",
       "748    748   ERBB2                 E265K   \n",
       "2243  2243    PTEN                  K62R   \n",
       "2608  2608   BRCA1                R1589H   \n",
       "\n",
       "                                                   Text  \\\n",
       "949    Abstract Chromosomal translocations involving...   \n",
       "2298   PRDM1/BLIMP-1, a master regulator of plasma-c...   \n",
       "748   Individuals with gallbladder carcinoma (GBC), ...   \n",
       "2243  Somatic and germline mutations in PTEN (phosph...   \n",
       "2608   Abstract Germline inactivating mutations in B...   \n",
       "\n",
       "                                           cleaned_text  Text_len  \\\n",
       "949    Abstract Chromosomal translocations involving...     13950   \n",
       "2298   PRDM1BLIMP-1 a master regulator of plasma-cel...    147463   \n",
       "748   Individuals with gallbladder carcinoma GBC the...     26693   \n",
       "2243  Somatic and germline mutations in PTEN phospha...     67795   \n",
       "2608   Abstract Germline inactivating mutations in B...     17185   \n",
       "\n",
       "      cleaned_text_len  \n",
       "949              13476  \n",
       "2298            142931  \n",
       "748              25758  \n",
       "2243             65900  \n",
       "2608             16655  "
      ]
     },
     "execution_count": 39,
     "metadata": {},
     "output_type": "execute_result"
    }
   ],
   "source": [
    "validation_df.head()"
   ]
  },
  {
   "cell_type": "code",
   "execution_count": 47,
   "metadata": {},
   "outputs": [],
   "source": [
    "# implementing bag of words"
   ]
  },
  {
   "cell_type": "code",
   "execution_count": 117,
   "metadata": {},
   "outputs": [],
   "source": [
    "from sklearn.feature_extraction.text import CountVectorizer"
   ]
  },
  {
   "cell_type": "code",
   "execution_count": 118,
   "metadata": {},
   "outputs": [],
   "source": [
    "bow_vectorizer = CountVectorizer(stop_words='english',max_features=1600)"
   ]
  },
  {
   "cell_type": "code",
   "execution_count": 50,
   "metadata": {},
   "outputs": [],
   "source": [
    "# implementing tf-idf"
   ]
  },
  {
   "cell_type": "code",
   "execution_count": 51,
   "metadata": {},
   "outputs": [],
   "source": [
    "#from sklearn.feature_extraction.text import TfidfVectorizer"
   ]
  },
  {
   "cell_type": "code",
   "execution_count": 52,
   "metadata": {},
   "outputs": [],
   "source": [
    "#tfidf_vectorizer = TfidfVectorizer(\n",
    "#    min_df=1, max_features=1600, strip_accents='unicode',lowercase =True,\n",
    "#    analyzer='word', token_pattern=r'\\w+', ngram_range=(1, 3), use_idf=True, \n",
    "#    smooth_idf=True, sublinear_tf=True, stop_words = 'english')"
   ]
  },
  {
   "cell_type": "code",
   "execution_count": null,
   "metadata": {},
   "outputs": [],
   "source": []
  },
  {
   "cell_type": "markdown",
   "metadata": {},
   "source": [
    "### <font color='green'>converting text to numbers</font>"
   ]
  },
  {
   "cell_type": "code",
   "execution_count": 119,
   "metadata": {},
   "outputs": [],
   "source": [
    "train_df_corpus = train_df['cleaned_text'].tolist()\n",
    "validation_df_corpus = validation_df['cleaned_text'].tolist()"
   ]
  },
  {
   "cell_type": "markdown",
   "metadata": {},
   "source": [
    "#### bag of words transformation"
   ]
  },
  {
   "cell_type": "code",
   "execution_count": 120,
   "metadata": {},
   "outputs": [
    {
     "data": {
      "text/plain": [
       "CountVectorizer(analyzer='word', binary=False, decode_error='strict',\n",
       "                dtype=<class 'numpy.int64'>, encoding='utf-8', input='content',\n",
       "                lowercase=True, max_df=1.0, max_features=1600, min_df=1,\n",
       "                ngram_range=(1, 1), preprocessor=None, stop_words='english',\n",
       "                strip_accents=None, token_pattern='(?u)\\\\b\\\\w\\\\w+\\\\b',\n",
       "                tokenizer=None, vocabulary=None)"
      ]
     },
     "execution_count": 120,
     "metadata": {},
     "output_type": "execute_result"
    }
   ],
   "source": [
    "bow_vectorizer.fit(train_df_corpus)"
   ]
  },
  {
   "cell_type": "code",
   "execution_count": 55,
   "metadata": {},
   "outputs": [
    {
     "name": "stdout",
     "output_type": "stream",
     "text": [
      "Vocabulary:  {'mutations': 1021, 'vhl': 1562, 'tumor': 1521, 'pvhl': 1237, 'patients': 1124, 'inherited': 826, 'carcinomas': 344, 'box': 324, 'ubiquitin': 1532, 'ligase': 902, 'examined': 604, 'identified': 780, 'enzymes': 581, 'enhances': 579, 'proteins': 1224, 'bands': 295, 'ubiquitination': 1533, 'furthermore': 676, 'occurring': 1078, 'missense': 988, 'including': 811, 'mutants': 1018, 'e3': 554, 'results': 1302, 'leads': 891, 'characterized': 373, 'tumors': 1524, 'caused': 351, 'germline': 703, 'wild': 1576, 'type': 1527, 'wt': 1581, 'alleles': 235, '80': 171, 'negative': 1033, 'neoplasms': 1034, 'inducible': 823, 'mrna': 1007, 'deregulated': 503, 'cells': 364, 'lacking': 884, 'suggests': 1443, 'mechanisms': 958, 'rna': 1318, 'binding': 311, 'regulates': 1273, 'factors': 624, 'hif': 755, 'proteasome': 1222, 'consisting': 423, 'acids': 205, 'tissues': 1485, '10': 16, '12': 31, 'cancer': 342, 'causing': 353, 'bc': 302, '13': 37, 'hotspots': 767, 'mediated': 959, 'functions': 675, 'cell': 363, 'cycle': 467, 'depends': 500, 'activities': 212, 'activated': 207, 'atp': 285, 'high': 756, 'activating': 209, 'e2': 553, 'cases': 347, 'forms': 664, 'terminal': 1470, 'amino': 244, 'chains': 370, 'bonds': 322, '48': 127, 'molecules': 1001, '14': 40, '15': 42, 'reactions': 1252, 'roles': 1321, 'types': 1528, 'promoting': 1218, 'scf': 1340, '16': 44, 'members': 972, '17': 46, '18': 47, '19': 49, 'targets': 1464, '20': 64, '21': 82, 'subunits': 1441, 'called': 341, 'binds': 312, '22': 83, 'notably': 1054, 'homolog': 763, 'like': 903, 'associated': 280, '23': 84, '4a': 129, '24': 85, '25': 86, '26': 88, '27': 89, '28': 90, 'proposed': 1220, '29': 92, 'specific': 1407, 'substrate': 1438, 'substrates': 1439, 'materials': 946, 'methods': 977, 'culture': 464, 'transfected': 1502, 'ha': 728, 'tagged': 1460, '30': 100, 'institute': 839, 'ma': 931, 'hela': 744, 'flag': 654, 'dmem': 533, 'supplemented': 1449, '100': 17, 'μgml': 1596, '37': 109, 'lysed': 928, '02': 7, 'mm': 993, 'tris': 1516, 'ph': 1143, 'fractions': 666, 'expression': 619, 'recombinant': 1264, 'cdna': 361, 'cloned': 390, 'transcription': 1498, 'pcr': 1129, 'germany': 702, 'national': 1029, 'md': 953, 'subcloned': 1434, 'transformed': 1505, 'plasmids': 1166, '400': 119, 'μm': 1598, '06': 11, 'hr': 769, 'harvested': 733, 'purified': 1235, 'agarose': 222, 'described': 506, '31': 102, 'generated': 692, 'labeled': 882, 'follows': 662, 'amersham': 243, 'genetics': 696, 'invitrogen': 851, 'using': 1544, 'bac': 292, 'hours': 768, 'mouse': 1006, 'immunoprecipitation': 802, 'lysates': 927, 'vector': 1558, 'immunoprecipitated': 800, 'conjugated': 419, 'beads': 307, 'ca': 339, 'm2': 930, 'ml': 990, 'followed': 660, 'vitro': 1566, 'assay': 277, 'inactivated': 808, '75': 166, 'containing': 429, 'complexes': 407, 'incubated': 814, 'ng': 1041, 'μg': 1595, '05': 10, 'μl': 1597, 'assays': 279, 'performed': 1138, 'sds': 1347, 'samples': 1336, 'gels': 690, 'western': 1574, 'immunoprecipitates': 801, 'anti': 256, 'separated': 1355, 'millipore': 985, 'pbs': 1126, '01': 6, 'membranes': 973, 'antibodies': 257, 'research': 1294, 'visualized': 1565, 'manufacturer': 935, 'instructions': 840, '32': 103, '005': 5, '40': 118, 'generation': 693, 'molecular': 999, 'fig': 643, 'observed': 1074, 'lanes': 886, 'amounts': 246, 'kda': 868, 'observations': 1073, 'components': 408, 'expressing': 618, 'levels': 897, 'compared': 403, 'figure': 645, 'identification': 779, 'areas': 271, 'probed': 1201, 'detected': 510, 'stained': 1419, '200': 65, 'conditions': 412, 'activity': 213, 'dependent': 499, 'encoding': 574, 'increased': 812, 'conserved': 421, 'disrupts': 531, 'hotspot': 766, 'importantly': 806, 'tumorigenesis': 1522, 'failed': 625, 'discussion': 525, 'suggested': 1442, '60': 148, '34': 106, 'characteristics': 372, 'modified': 998, '35': 107, '36': 108, 'second': 1348, 'ring': 1314, 'reported': 1285, '38': 110, 'cytokine': 471, 'signaling': 1374, '39': 111, '41': 120, '42': 121, '43': 122, 'database': 480, 'ankyrin': 255, 'repeats': 1283, 'domains': 539, 'protein': 1223, 'families': 626, 'shows': 1367, 'recognized': 1263, 'mutation': 1020, 'oncogenic': 1087, 'p53': 1109, '45': 124, 'catenin': 350, '46': 125, 'showed': 1366, 'alterations': 240, 'domain': 538, 'encompassing': 575, 'disrupted': 529, 'recently': 1260, 'controlled': 433, 'hypothesized': 775, 'needed': 1032, 'related': 1278, 'diseases': 527, 'contributes': 431, 'analyzed': 251, 'xenograft': 1583, 'inhibitors': 831, 'finally': 648, 'approaches': 267, 'strategies': 1428, 'studies': 1432, 'keywords': 870, 'inhibition': 829, 'functional': 674, 'introduction': 847, 'individuals': 820, 'findings': 649, 'therapies': 1479, 'drugs': 551, 'sorafenib': 1402, 'sunitinib': 1445, 'length': 892, '11': 27, '2b': 96, 'downregulation': 546, 'harboring': 732, 'demonstrated': 495, 'increases': 813, 'provides': 1226, 'obtained': 1075, 'retroviral': 1306, 'vectors': 1559, 'created': 453, 'mutagenesis': 1016, 'stratagene': 1427, 'sequencing': 1360, 'constructs': 426, 'transfection': 1503, 'roche': 1320, 'retrovirus': 1307, 'reagents': 1254, 'technology': 1467, 'cruz': 457, 'dr': 547, 'medicine': 962, 'gfp': 704, 'hcl': 736, '74': 165, '50': 134, 'nacl': 1028, '150': 43, 'il': 790, 'polyacrylamide': 1174, 'values': 1553, 'software': 1400, 'biotechnology': 317, 'real': 1255, 'time': 1483, 'total': 1493, 'treated': 1511, 'qiagen': 1238, 'synthesized': 1453, 'strand': 1425, 'abi': 194, 'prism': 1196, 'sequence': 1357, 'applied': 266, 'biosystems': 316, 'usa': 1543, '03': 8, 'primers': 1195, 'experiments': 615, 'normalized': 1053, 'single': 1381, 'xenografts': 1584, 'procedures': 1203, 'approved': 268, 'center': 365, 'log': 914, 'phase': 1144, '107': 25, 'injected': 834, 'old': 1080, 'nci': 1030, 'mice': 982, 'half': 729, 'formalin': 663, 'embedded': 569, 'structures': 1431, 'data': 479, 'pdb': 1131, 'inducing': 824, 'interactions': 843, 'partners': 1120, 'estimated': 596, 'changes': 371, 'properties': 1219, 'mutant': 1017, 'represents': 1290, 'corresponds': 441, 'indicates': 818, 'null': 1069, '1a': 59, 'tric': 1515, 'decreased': 486, 'indicating': 819, 'differences': 517, '1b': 60, 'life': 899, '130': 38, '1c': 61, '1d': 62, 'proteasomal': 1221, 'expected': 613, 'indicated': 817, 'published': 1233, '2a': 95, 'vivo': 1567, 'stabilized': 1416, '2c': 97, '2d': 98, 'consistent': 422, 'verified': 1561, 'mutated': 1019, 'predicted': 1189, 'treatment': 1512, 'resulted': 1301, 'independent': 816, '4b': 130, 'induced': 821, 'ii': 788, '4c': 131, 'upregulation': 1542, '4d': 132, '4e': 133, 'genome': 697, 'tcga': 1465, '5a': 145, 'supplementary': 1448, '5b': 146, '79': 170, '57': 142, 'affects': 220, 'structural': 1429, 'non': 1050, '5c': 147, '124': 35, 'models': 996, 'inhibited': 827, 'prolonged': 1213, 'unfortunately': 1536, 'markers': 943, 'university': 1539, 'subtypes': 1440, 'compounds': 409, 'heat': 740, '70': 161, 'destabilized': 508, 'promoted': 1215, 'developing': 512, 'causes': 352, '1α': 63, 'disease': 526, 'points': 1172, 'ubiquitylation': 1534, 'supported': 1450, 'conclusions': 411, 'lesions': 894, 'located': 913, '90': 180, 'acts': 214, 'human': 772, 'interacts': 844, 'bound': 323, 'promotes': 1217, 'genes': 694, 'apoptosis': 261, 'loss': 919, 'occurs': 1079, 'retained': 1305, 'low': 920, 'lines': 906, 'es': 595, 'deficient': 489, 'maintained': 932, 'manufacturers': 936, 'plates': 1167, 'fbs': 630, 'cultures': 465, 'st': 1415, 'immunoblot': 795, 'analysis': 250, 'inhibitor': 830, 'page': 1114, 'united': 1537, 'phosphate': 1147, 'polyclonal': 1175, '1000': 18, 'monoclonal': 1003, '2000': 66, '500': 135, 'sc': 1338, 'myc': 1023, 'secondary': 1349, 'igg': 786, 'processing': 1206, 'ip': 854, 'plasmid': 1165, 'post': 1183, 'µm': 1592, 'mg': 978, 'developed': 511, 'et': 597, 'minutes': 986, 'promega': 1214, '300': 101, 'mgml': 980, 'pa': 1113, 'excluded': 606, 'free': 670, 'germ': 701, 'systems': 1454, 'derived': 505, 'clones': 391, 'regulation': 1275, 'transgenic': 1506, 'based': 299, 'interacting': 842, 'reports': 1286, 'representing': 1289, 'figures': 647, 'remaining': 1282, 'extracts': 620, 'depicted': 501, 'lacks': 885, 'summarized': 1444, 'controls': 434, 'contained': 428, 'demonstrating': 497, 'supports': 1451, 'dose': 541, 'events': 601, 'taken': 1461, 'phenotypes': 1146, 'andor': 253, 'confer': 414, 'truncating': 1517, 'abstract': 199, 'dicer1': 515, 'plays': 1168, 'sites': 1385, 'tumours': 1526, 'illumina': 791, 'sanger': 1337, 'validated': 1551, 'charged': 374, 'pathway': 1121, 'profiles': 1208, 'pathways': 1122, 'regulating': 1274, 'enriched': 580, 'regulated': 1272, 'implicated': 804, 'malignancies': 934, 'nt': 1065, 'coding': 396, 'animals': 254, 'processed': 1204, 'pre': 1188, 'iii': 789, 'silencing': 1378, 'carriers': 346, 'tumour': 1525, 'focused': 657, 'cancers': 343, 'investigated': 850, 'evaluated': 600, 'signalling': 1375, 'patient': 1123, 'ovarian': 1095, 'double': 543, 'dna': 535, 'blood': 319, 'tissue': 1484, 'protocols': 1225, 'sets': 1363, 'table': 1458, 's2': 1330, 'products': 1207, 'sequenced': 1358, 'genetic': 695, 'trans': 1496, 'cis': 383, 'amplified': 248, 'cloning': 392, 'technologies': 1466, 'colonies': 400, 'targeted': 1462, 'integrated': 841, 's3': 1331, 'small': 1395, 'quantified': 1240, 'site': 1384, 'directed': 522, 'agilent': 225, 'end': 576, 'rt': 1324, 'transcripts': 1499, '84': 175, '96': 186, 'monitored': 1002, 'imaging': 793, 'analysed': 249, 's1': 1329, 'frameshift': 669, 's4': 1332, 'referred': 1268, 'damaging': 477, 'sift': 1371, 'residues': 1295, 'additional': 216, 'open': 1091, 'powerpoint': 1184, 'similar': 1379, 'exome': 609, 'overlapping': 1100, 'spanning': 1406, 'exon': 610, 'depleted': 502, 'interestingly': 845, 'reads': 1253, 'cdnas': 362, 'tolerated': 1491, '62': 151, '52': 137, '78': 169, '3a': 112, 's5': 1333, '47': 126, '0001': 3, 'aberrations': 193, 'mir': 987, 'test': 1474, 'strands': 1426, 'groups': 715, '3b': 113, '3c': 114, 'defects': 487, 'impaired': 803, 'replaced': 1284, 'categories': 349, '120': 32, '000': 1, 'presented': 1192, 'dataset': 482, '07': 13, 'g1': 679, 'checkpoint': 375, 'nucleotides': 1068, 'isoforms': 857, 'regions': 1271, 'sequences': 1359, 's6': 1334, 'c2': 338, '98': 188, 'regulators': 1276, 'tables': 1459, 'colorectal': 401, 'colleagues': 399, 'remained': 1281, 'loh': 915, 'overall': 1096, '68': 157, 'early': 556, 'kras': 877, '33': 105, 'function': 673, 'gain': 681, 'women': 1580, 'diagnosed': 514, '2014': 80, 'mmr': 995, 'msh2': 1008, 'msh6': 1009, 'mlh1': 991, 'pms2': 1171, 'ls': 921, 'variants': 1555, 'vus': 1570, 'risks': 1316, 'polymorphisms': 1177, 'crc': 451, 'pairs': 1115, 'ref': 1266, 'seq': 1356, 'hnpcc': 760, 'variations': 1556, '2008': 74, '2007': 73, 'microsatellite': 984, 'msi': 1010, '2001': 67, '2005': 71, '2003': 69, '2009': 75, '2010': 76, 'cerevisiae': 366, 'rates': 1247, 'consists': 424, 'nucleotide': 1067, 'numbering': 1071, 'guidelines': 722, '2006': 72, 'constructed': 425, 'predictions': 1191, 'multiple': 1014, 'multivariate': 1015, '1997': 56, '108': 26, 'hepes': 746, '250': 87, 'edta': 558, 'resuspended': 1303, 'bp': 325, 'biosciences': 315, 'antisense': 258, 'sigma': 1372, 'aldrich': 231, 'treatments': 1513, 'assayed': 278, 'parameters': 1118, 'heterodimer': 750, 'contains': 430, '1999': 58, '1998': 57, 'earlier': 555, '2002': 68, 'na': 1027, 'bd': 306, 'laboratories': 883, '44': 123, 'heterodimerization': 751, 'statistical': 1423, 'clinical': 389, 'immunohistochemical': 798, 'ihc': 787, 'comparing': 404, 'allows': 239, 'heterodimers': 752, 'allosteric': 236, 'substitutions': 1437, 'states': 1422, 'explained': 616, 'dimensional': 519, 'conducted': 413, 'screens': 1345, '2011': 77, 'differentiated': 518, 'consequences': 420, 'risk': 1315, 'confers': 416, 'counseling': 446, 'oligonucleotide': 1082, 'targeting': 1463, 'implications': 805, 'fold': 658, 'years': 1588, 'agents': 224, 'initiated': 833, 'loops': 918, 'inactivating': 809, 'deletions': 494, 'classifications': 387, 'overexpression': 1099, 'briefly': 335, 'novo': 1058, 'g418': 680, 'concentrations': 410, '105': 23, '88': 178, 'signals': 1376, '106': 24, 'counted': 447, 'inhibits': 832, 'oligonucleotides': 1083, 'introduced': 846, 'appeared': 263, 'bars': 298, 'frequencies': 671, 'polymerase': 1176, 'rb': 1249, 'resistant': 1297, 'abrogated': 198, 'classify': 388, 'pr': 1186, 'expressed': 617, 'map': 938, 'immunohistochemistry': 799, 'probands': 1200, '65': 154, 'proband': 1199, '76': 167, '53': 138, '63': 152, 'authors': 288, 'combinations': 402, 'vuss': 1571, 'frame': 668, 'insertions': 836, 'wang': 1572, 'pedigrees': 1136, 'modifications': 997, 'oncogene': 1084, 'fragments': 667, 'amplifications': 247, 'fa': 622, 'wildtype': 1577, 'overexpressed': 1097, 'arrows': 274, 'abolished': 197, 'following': 661, 'makes': 933, 'endonuclease': 577, 'numbers': 1072, 'features': 634, 'nf': 1038, 'required': 1291, 'copies': 437, '1991': 50, 'terminus': 1471, 'previous': 1193, 'recent': 1259, '49': 128, 'demonstrates': 496, 'tools': 1492, 'improved': 807, 'includes': 810, 'databases': 481, 'achieved': 203, 'insight': 837, 'genomes': 698, 'relatives': 1280, 'uv': 1546, 'normal': 1052, 'family': 627, 'control': 432, '00': 0, 'requires': 1292, 'muts': 1022, 'group': 714, 'atoms': 284, 'predicting': 1190, 'scores': 1344, 'discussed': 524, 'variant': 1554, 'references': 1267, 'nd': 1031, '001': 4, '51': 136, 'alignments': 233, '89': 179, '91': 181, '58': 143, '85': 176, 'similarly': 1380, '55': 140, 'comparison': 405, 'tests': 1475, '69': 158, '81': 172, '54': 139, 'acc': 200, 'li': 898, 'tp53': 1494, 'children': 377, 'age': 223, 'effect': 559, '04': 9, 'year': 1587, 'trials': 1514, 'oncology': 1088, 'documented': 536, 'given': 707, 'outcomes': 1094, 'term': 1469, 'represented': 1288, 'hospital': 765, 'syndromes': 1452, 'exons': 612, 'appendix': 265, 'online': 1089, 'iarc': 776, 'apc': 260, 'having': 734, '72': 163, 'intron': 848, 'transactivation': 1497, 'h1299': 725, 'dominant': 540, 'responsive': 1300, 'figs': 644, '3d': 115, 'representative': 1287, 'reviewed': 1309, '77': 168, 'arising': 273, '103': 21, 'alternatively': 242, 'positive': 1182, 'follow': 659, 'drivers': 549, 'conferred': 415, 'apoptotic': 262, 'tumorigenic': 1523, 'responses': 1299, 'factor': 623, 'processes': 1205, 'line': 905, 'insights': 838, 'helix': 745, 'loop': 917, 'involving': 853, 'section': 1350, 'experimental': 614, 'pcdna3': 1128, 'transfectants': 1501, 'immunoblotting': 796, 'serum': 1362, 'pro': 1197, 'epitope': 582, 'gal4': 682, 'fusions': 678, 'view': 1563, 'larger': 889, 'download': 544, 'slide': 1388, 'occurred': 1076, 'comparisons': 406, 'note': 1057, 'effects': 561, 'despite': 507, 'αc': 1593, 'codons': 397, 'panels': 1116, 'appears': 264, 'contacts': 427, 'elements': 567, 'stimulated': 1424, 'phosphorylated': 1153, 'phosphorylation': 1154, 'identifying': 781, 'conversely': 435, 'means': 956, 'atm': 283, 'encodes': 573, 'kd': 867, 'phosphatidylinositol': 1148, 'kinase': 872, 'pi': 1157, 'lipid': 908, 'diminished': 521, 'induces': 822, 'correlates': 440, 'ser': 1361, 'motifs': 1005, 'phosphorylate': 1152, 'cooh': 436, 'ala': 230, 'lys': 926, '293t': 94, 'gst': 719, '101': 19, 'res': 1293, 'altered': 241, 'nh2': 1043, 'peptides': 1137, 'autophosphorylation': 289, 'kinases': 873, 'blots': 320, 'activation': 210, 'mdm2': 954, 'exhibited': 607, 'somatic': 1401, 'lymphomas': 925, '2013': 79, '2012': 78, '2004': 70, '1996': 55, 'lymphocytes': 924, 'parp': 1119, 'blocks': 318, 'notch1': 1056, 'driven': 548, '286': 91, '83': 174, 'mtor': 1011, '64': 153, 'specifically': 1408, 'engineered': 578, 'figureopen': 646, 'curves': 466, 'doi': 537, 'matched': 944, 'cre': 452, 'rearrangements': 1257, 'weeks': 1573, 'kaplan': 865, 'meier': 965, 'cohorts': 398, 'copy': 438, 'pten': 1229, 'actin': 206, 'fish': 650, 'counts': 448, '56': 141, '104': 22, 'progenitors': 1210, 'fibroblasts': 642, 'mefs': 964, 'nm': 1048, 'er': 583, 'deleted': 491, 'shrna': 1370, 'details': 509, 'notch': 1055, 'doses': 542, 'mgkg': 979, 'transduced': 1500, 'sections': 1351, 'scale': 1339, 'images': 792, 'dmso': 534, 'reveals': 1308, 'rad51': 1242, '6a': 159, '6b': 160, 'neutral': 1036, 'activates': 208, 'thr': 1480, 'baseline': 300, 'sensitive': 1354, 'zhang': 1591, 'options': 1092, 'accordingly': 202, 'genomic': 699, 'brca': 328, 'gbm': 686, 'downloaded': 545, 'positions': 1181, '95': 185, 'structure': 1430, 'breast': 334, 'cytometry': 473, 'ngml': 1042, 'probes': 1202, 'immunofluorescence': 797, 'phospho': 1149, 'slides': 1389, 'ar': 269, 'microarray': 983, 'cross': 456, 'linked': 907, 'vs': 1569, 'long': 916, 'ct': 461, 'localized': 912, 'additionally': 217, 'information': 825, 'allowed': 237, 'bio': 313, '125': 36, 'varying': 1557, 'units': 1538, '121': 33, '140': 41, 'active': 211, '09': 15, '97': 187, '82': 173, 'relative': 1279, 'examples': 605, 'limits': 904, 'ligand': 900, 'kb': 866, 'lncap': 911, 'ligands': 901, 'months': 1004, 'pc': 1127, 'encoded': 572, 'paraffin': 1117, 'tyr': 1529, 'schematic': 1341, 'cotransfected': 445, 'luciferase': 922, 'sem': 1353, 'females': 636, 'fl': 653, 'specimens': 1409, 'mediates': 960, 'growth': 716, 'receptors': 1262, 'refs': 1269, 'receptor': 1261, 'metastases': 976, 'relapsed': 1277, 'cos': 442, 'tk': 1486, 'biopsies': 314, 'utr': 1545, 'cycles': 468, 'transfections': 1504, 'lipofectamine': 909, 'new': 1037, 'galactosidase': 683, 'fcs': 633, 'tabdownload': 1457, 'inlineview': 835, 'hormone': 764, 'sd': 1346, 'progression': 1211, 'arg': 272, 'met': 975, 'medical': 961, 'response': 1298, 'fixed': 652, 'ti': 1482, 'pooled': 1179, 'snp': 1398, 'brca1': 329, 'brca2': 330, 'cdkn2a': 360, 'spop': 1411, 'smad4': 1393, 'snps': 1399, 'department': 498, 'core': 439, 'id': 778, 'rpmi': 1323, '1640': 45, 'profiling': 1209, 'tmprss2': 1490, 'purchased': 1234, 'exonic': 611, 'intronic': 849, '71': 162, 'pd': 1130, 'resistance': 1296, 'p16ink4a': 1104, 'subcellular': 1433, 'cdk': 356, 'cdk4': 358, 'cdk6': 359, '67': 156, 'adenocarcinomas': 218, 'inhibiting': 828, 'cyclin': 469, 'prb': 1187, '1993': 52, 'spots': 1412, 'melanoma': 970, '1995': 54, 'supp': 1446, '1992': 51, 'align': 232, 'gvgd': 723, 'c0': 337, 'hybrid': 774, 'egfp': 564, 'vol': 1568, '131': 39, '73': 164, 'deleterious': 492, '600': 149, '94': 184, '102': 20, '1994': 53, '93': 183, '117': 30, '87': 177, 'number': 1070, 'cosegregation': 443, 'melanomas': 971, 'patterns': 1125, 'populations': 1180, 'oncogenesis': 1086, 'oncogenes': 1085, 'mycn': 1024, 'wide': 1575, 'alk': 234, 'acid': 204, 'akt': 226, '3t3': 116, 'baf3': 294, 'gene': 691, 'rnai': 1319, 'molecule': 1000, 'crizotinib': 455, 'eml4': 571, 'subgroups': 1435, 'npm': 1059, 'stage': 1417, 'tki': 1488, 'egfr': 565, 'ic50': 777, 'l1196m': 880, 'nsclc': 1063, 'glioblastoma': 708, 'ras': 1246, 'pi3kakt': 1159, 'pfs': 1142, 'os': 1093, 'science': 1342, 'author': 287, 'association': 281, '2017': 81, 'onlinefirst': 1090, 'ceritinib': 367, 'nmoll': 1049, 'xl': 1585, 'breakpoint': 333, 'stat3': 1420, 'proliferation': 1212, 'mmoll': 994, 'qpcr': 1239, 'highlighted': 757, 'frequency': 672, 'terms': 1472, 'abl': 195, 'tkis': 1489, 'ad': 215, 'tyrosine': 1530, 'hsp90': 771, 'overexpressing': 1098, 'efforts': 562, 'tsc': 1518, 'tsc1': 1519, 'tsc2': 1520, 'hamartin': 730, 'gtpase': 721, 'gap': 684, 'rheb': 1310, 'gtp': 720, 'rapamycin': 1245, 's6k': 1335, 'spliced': 1410, 'hek': 741, 'uk': 1535, 'ratios': 1248, 't389s6k': 1455, 'error': 593, 'mapping': 942, 'mapped': 941, 'conformational': 417, 'level': 896, 'gm': 711, 'csf': 460, 'shp2': 1369, 'nras': 1060, 'cbl': 354, 'jak2': 861, 'src': 1413, 'dasatinib': 478, 'signal': 1373, 'effectors': 560, 'allowing': 238, 'pi3k': 1158, 'bcr': 305, 'neurofibromin': 1035, 'nf1': 1039, 'gdp': 688, 'myeloproliferative': 1025, 'cm': 394, 'phosphotyrosine': 1155, 'erk12': 591, 'stat5': 1421, 'pdgf': 1132, 'kit': 874, 'p85': 1111, 'flt3': 656, '61': 150, '66': 155, 'egf': 563, 'aml': 245, 'stages': 1418, 'disrupting': 530, 'conformations': 418, 'rich': 1313, 'exists': 608, 'rtk': 1325, 'cosmic': 444, 'unphosphorylated': 1540, 'hek293t': 743, 'a549': 190, 'fisher': 651, 'ag': 221, 'recorded': 1265, 'value': 1552, 'clusters': 393, 'noonan': 1051, '08': 14, 'accompanied': 201, 'ptpn11': 1230, 'erk': 590, 'jun': 863, 'κb': 1594, 'abnormalities': 196, 'embryos': 570, 'shp': 1368, 'measurements': 957, 'h3': 726, 'died': 516, 'gsk': 718, '3β': 117, 'upregulated': 1541, 'phosphoinositide': 1150, 'ns': 1062, 'leukaemia': 895, 'supplemental': 1447, 'wnt': 1579, 'humans': 773, 'mtorc1': 1012, 'mtorc2': 1013, 'phosphopeptide': 1151, 'nih': 1045, 'mitogen': 989, 'mapk': 940, 'receiving': 1258, 'knock': 876, 'involves': 852, 'myriad': 1026, 'occurrence': 1077, 'bic': 309, 'brct': 331, 'bard1': 297, 'subjects': 1436, 'deletion': 493, 'probabilities': 1198, 'sources': 1404, 'd1': 475, 'situ': 1386, 'yes': 1589, 'ci': 380, '59': 144, '111': 29, '92': 182, '123': 34, 'dbd': 483, 'a1708e': 189, '110': 28, '293': 93, 'v1736a': 1547, 'class': 385, 'braf': 326, 'vemurafenib': 1560, 'drug': 550, 'brafv600e': 327, 'mek': 966, 'trametinib': 1495, 'mek1': 967, 'isoform': 856, 'raf': 1243, 'pdgfr': 1133, 'akt3': 229, 'craf': 450, 'mek2': 968, 'μmoll': 1599, 'caspase': 348, 'sirna': 1382, 'hras': 770, 'araf': 270, 'pik3ca': 1160, 'ccnd1': 355, 'translocations': 1508, 'pf': 1141, 'cml': 395, 'h3122': 727, 'dfg': 513, 'asp': 276, 'phe': 1145, 'cys': 470, '06463922': 12, 'imatinib': 794, 'large': 888, 'anchorage': 252, 'regimens': 1270, 'mds': 955, 'disorders': 528, 'u2af1': 1531, 'tet2': 1477, 'ezh2': 621, 'asxl1': 282, 'indels': 815, 'discovery': 523, 'sirnas': 1383, 'fanca': 628, 'sf3b1': 1364, 'self': 1352, 'lentiviral': 893, 'cytokines': 472, 'yielded': 1590, 'hek293': 742, 'hla': 758, 'bap1': 296, 'bm': 321, 'material': 945, 'chip': 378, 'mll': 992, 'signatures': 1377, 'promoters': 1216, 'primary': 1194, 'rearranged': 1256, 'cpg': 449, 'ets': 598, 'etv6': 599, 'itd': 858, 'l858r': 881, 't790m': 1456, 'gefitinib': 689, 'erlotinib': 592, 'smokers': 1397, 'lung': 923, 'iv': 859, 'antitumor': 259, 'harbored': 731, 'nih3t3': 1046, 'afatinib': 219, 'her2': 747, 'beta': 308, 'cisplatin': 384, 'erbb2': 585, 'map2k1': 939, 'akt1': 227, 'ros1': 1322, 'ret': 1304, 'p300': 1107, 'sk': 1387, '00001': 2, 'p21': 1105, 'puromycin': 1236, 'translated': 1507, 'dead': 485, 'deregulation': 504, 'dimers': 520, 'perk': 1139, 'pip3': 1162, 'v600e': 1548, 'p16': 1103, 'fusion': 677, 'glu': 710, 'mb': 948, 'aa': 191, 'holoenzyme': 762, 'cα': 474, '1863': 48, 'm1775r': 929, 'rbd': 1250, 'ps': 1227, 'pp2a': 1185, 'l1': 879, 'ig': 785, 'cient': 382, 'raf1': 1244, 'cfc': 369, 'throughput': 1481, 'genotyping': 700, 'runx1': 1327, 'jak1': 860, 'brd4': 332, 'p110': 1101, 'ki': 871, 'rho': 1311, 'rhoa': 1312, 'sh2': 1365, 'gliomas': 709, 'pkc': 1164, 'p27': 1106, 'pdgfra': 1134, 'grade': 712, 'grd': 713, 'rtks': 1326, 'mel': 969, 'sos': 1403, 'bim': 310, 'tgf': 1478, 'akt2': 228, 'reached': 1251, 'erbb': 584, 'cetuximab': 368, 'ed': 557, 'y527fsrc': 1586, 'tel': 1468, 'ntrk3': 1066, 'chromosomes': 379, 'transmembrane': 1509, 'oligomerization': 1081, 'juxtamembrane': 864, 'fgf': 637, 'ews': 602, 'fli1': 655, 'cs': 459, 'ctnnb1': 462, 'fbxw7': 632, 'h1047r': 724, 'pik3r1': 1161, 'abd': 192, 'p110α': 1102, 'p85α': 1112, 'ish2': 855, 'idh1': 783, 'idh2': 784, 'dlbcl': 532, 'b2m': 291, 'gc': 687, 'card11': 345, 'bcl10': 304, 'bcl': 303, 'p38': 1108, 'mef2b': 963, 'mcf': 950, 'defi': 488, 'classifi': 386, 'rmce': 1317, 'hdr': 739, 'ssa': 1414, 'mcf7': 952, 'bax': 301, 'kmt2d': 875, 'hgf': 753, '32d': 104, 'v617f': 1549, 'tkd': 1487, 'lch': 890, 'nf2': 1040, 'wt1': 1582, 'tert': 1473, 'rac1': 1241, 'krasg12d': 878, 'bach1': 293, 'idh': 782, 'tet': 1476, 'cadherin': 340, 'erg': 589, 'keap1': 869, 'nrf2': 1061, 'e17k': 552, 'pole': 1173, 'erbb3': 586, 'phts': 1156, 'cul3': 463, 'hd': 738, 'sclc': 1343, 'smads': 1394, 'smad': 1390, 'smad2': 1391, 'smad3': 1392, 'mcf10a': 951, 'jm': 862, 'gist': 705, 'del': 490, 'gists': 706, 'pdgfrb': 1135, 'd842v': 476, 'v654a': 1550, 'fat1': 629, 'hnscc': 761, 'aurora': 286, 'mh2': 981, 'crystals': 458, 'hct116': 737, 'math': 947, 'hes1': 749, 'hmlh1': 759, 'btb': 336, 'trastuzumab': 1510, 'gs': 717, 'asddd': 275, 'pser': 1228, 'manuscript': 937, 'pmc': 1169, 'mc': 949, 'ercc2': 588, 'lapatinib': 887, 'nilotinib': 1047, 'fgfr3': 641, 'fgfr1': 639, 'fgfr': 638, 'fgfr2': 640, 'hcc': 735, 'egfrviii': 566, 'erbb4': 587, 'her3': 748, 'erα': 594, 'nsclcs': 1064, 'ponatinib': 1178, 'fbw7': 631, 'lkb1': 910, 'p53s': 1110, 'hh': 754, 'ruxolitinib': 1328, 'fedratinib': 635, 'merlin': 974, 'crenolanib': 454, 'gata3': 685, 'cic': 381, 'ptpρ': 1232, 'pest': 1140, 'nic': 1044, 'ewsr1': 603, 'aα': 290, 'ptprd': 1231, 'pms1': 1170, 'chek2': 376, 'sox9': 1405, 'elf3': 568, '2hg': 99, 'ddr2': 484, 'vismodegib': 1564, 'smo': 1396, 'pipkiiβ': 1163, 'foxa1': 665, 'cdk12': 357, 'wm278': 1578}\n"
     ]
    }
   ],
   "source": [
    "print(\"Vocabulary: \", bow_vectorizer.vocabulary_)"
   ]
  },
  {
   "cell_type": "code",
   "execution_count": 121,
   "metadata": {},
   "outputs": [],
   "source": [
    "train_df_counts = bow_vectorizer.transform(train_df_corpus)\n",
    "validation_df_counts = bow_vectorizer.transform(validation_df_corpus)"
   ]
  },
  {
   "cell_type": "code",
   "execution_count": 122,
   "metadata": {},
   "outputs": [],
   "source": [
    "X_train_bow = train_df_counts.todense()\n",
    "X_validation_bow = validation_df_counts.todense()"
   ]
  },
  {
   "cell_type": "code",
   "execution_count": 123,
   "metadata": {},
   "outputs": [
    {
     "data": {
      "text/plain": [
       "(463, 1600)"
      ]
     },
     "execution_count": 123,
     "metadata": {},
     "output_type": "execute_result"
    }
   ],
   "source": [
    "X_train_bow.shape"
   ]
  },
  {
   "cell_type": "code",
   "execution_count": 124,
   "metadata": {},
   "outputs": [
    {
     "data": {
      "text/plain": [
       "(199, 1600)"
      ]
     },
     "execution_count": 124,
     "metadata": {},
     "output_type": "execute_result"
    }
   ],
   "source": [
    "X_validation_bow.shape"
   ]
  },
  {
   "cell_type": "code",
   "execution_count": 59,
   "metadata": {},
   "outputs": [
    {
     "data": {
      "text/plain": [
       "matrix([[29,  0,  0, ...,  0,  3,  3],\n",
       "        [ 0,  0,  0, ...,  1,  1,  0],\n",
       "        [ 0,  0,  0, ...,  1,  0,  0],\n",
       "        ...,\n",
       "        [ 0,  0,  1, ...,  0,  0,  0],\n",
       "        [ 0,  0,  0, ...,  0,  0,  0],\n",
       "        [ 0,  0,  0, ...,  6,  2,  0]])"
      ]
     },
     "execution_count": 59,
     "metadata": {},
     "output_type": "execute_result"
    }
   ],
   "source": [
    "X_train_bow[0:100,0:100]"
   ]
  },
  {
   "cell_type": "code",
   "execution_count": 60,
   "metadata": {},
   "outputs": [
    {
     "data": {
      "text/plain": [
       "matrix([[ 0,  0,  5, ...,  0,  0,  0],\n",
       "        [ 0,  0,  0, ...,  0,  0,  0],\n",
       "        [ 0,  0,  0, ...,  4,  5, 11],\n",
       "        ...,\n",
       "        [ 0,  2,  3, ...,  0,  0,  0],\n",
       "        [ 0,  0,  0, ...,  0,  0,  0],\n",
       "        [ 0,  0,  0, ..., 18,  0,  0]])"
      ]
     },
     "execution_count": 60,
     "metadata": {},
     "output_type": "execute_result"
    }
   ],
   "source": [
    "X_validation_bow[0:50,0:50]"
   ]
  },
  {
   "cell_type": "code",
   "execution_count": 61,
   "metadata": {},
   "outputs": [],
   "source": [
    "# save numpy array as csv file\n",
    "from numpy import asarray\n",
    "from numpy import savetxt\n",
    "# save to csv file\n",
    "savetxt('X_train_bow.csv', X_train_bow, delimiter=',')\n",
    "savetxt('X_validation_bow.csv', X_train_bow, delimiter=',')"
   ]
  },
  {
   "cell_type": "markdown",
   "metadata": {},
   "source": [
    "#### tfidf transformation"
   ]
  },
  {
   "cell_type": "code",
   "execution_count": null,
   "metadata": {},
   "outputs": [],
   "source": [
    "#tfidf_vectorizer.fit(train_df_corpus)"
   ]
  },
  {
   "cell_type": "code",
   "execution_count": 64,
   "metadata": {},
   "outputs": [],
   "source": [
    "#X_train_tfidf = tfidf_vectorizer.transform(train_df_corpus)\n",
    "#X_validation_tfidf = tfidf_vectorizer.transform(validation_df_corpus)"
   ]
  },
  {
   "cell_type": "code",
   "execution_count": 65,
   "metadata": {},
   "outputs": [],
   "source": [
    "#X_train_tfidf = X_train_tfidf.toarray()\n",
    "#X_validation_tfidf = X_validation_tfidf.toarray()"
   ]
  },
  {
   "cell_type": "code",
   "execution_count": 66,
   "metadata": {},
   "outputs": [
    {
     "data": {
      "text/plain": [
       "(2321, 1600)"
      ]
     },
     "execution_count": 66,
     "metadata": {},
     "output_type": "execute_result"
    }
   ],
   "source": [
    "#X_train_tfidf.shape"
   ]
  },
  {
   "cell_type": "code",
   "execution_count": 70,
   "metadata": {},
   "outputs": [
    {
     "data": {
      "text/plain": [
       "array([[0.06221846, 0.        , 0.        , ..., 0.02753948, 0.        ,\n",
       "        0.02448569],\n",
       "       [0.        , 0.        , 0.        , ..., 0.0374455 , 0.        ,\n",
       "        0.02311187],\n",
       "       [0.0429272 , 0.05611654, 0.02636155, ..., 0.01982295, 0.        ,\n",
       "        0.03444187],\n",
       "       ...,\n",
       "       [0.        , 0.        , 0.        , ..., 0.01999326, 0.        ,\n",
       "        0.02364754],\n",
       "       [0.        , 0.        , 0.        , ..., 0.        , 0.        ,\n",
       "        0.01611088],\n",
       "       [0.        , 0.        , 0.        , ..., 0.        , 0.        ,\n",
       "        0.04385314]])"
      ]
     },
     "execution_count": 70,
     "metadata": {},
     "output_type": "execute_result"
    }
   ],
   "source": [
    "#X_train_tfidf[0:50,0:50]"
   ]
  },
  {
   "cell_type": "code",
   "execution_count": 68,
   "metadata": {},
   "outputs": [
    {
     "data": {
      "text/plain": [
       "(995, 1600)"
      ]
     },
     "execution_count": 68,
     "metadata": {},
     "output_type": "execute_result"
    }
   ],
   "source": [
    "#X_validation_tfidf.shape"
   ]
  },
  {
   "cell_type": "code",
   "execution_count": 71,
   "metadata": {},
   "outputs": [
    {
     "data": {
      "text/plain": [
       "array([[0.        , 0.        , 0.        , ..., 0.013191  , 0.        ,\n",
       "        0.02124516],\n",
       "       [0.02127451, 0.        , 0.        , ..., 0.02617651, 0.03090207,\n",
       "        0.03509366],\n",
       "       [0.        , 0.        , 0.        , ..., 0.013191  , 0.        ,\n",
       "        0.02124516],\n",
       "       ...,\n",
       "       [0.        , 0.        , 0.        , ..., 0.02240057, 0.        ,\n",
       "        0.01258497],\n",
       "       [0.0401829 , 0.        , 0.        , ..., 0.04944171, 0.        ,\n",
       "        0.        ],\n",
       "       [0.        , 0.        , 0.        , ..., 0.02044816, 0.        ,\n",
       "        0.02410901]])"
      ]
     },
     "execution_count": 71,
     "metadata": {},
     "output_type": "execute_result"
    }
   ],
   "source": [
    "#X_validation_tfidf[0:50,0:50]"
   ]
  },
  {
   "cell_type": "code",
   "execution_count": 70,
   "metadata": {},
   "outputs": [],
   "source": [
    "#savetxt('X_train_tfidf.csv', X_train_tfidf, delimiter=',')\n",
    "#savetxt('X_validation_tfidf.csv', X_train_tfidf, delimiter=',')"
   ]
  },
  {
   "cell_type": "code",
   "execution_count": 125,
   "metadata": {},
   "outputs": [],
   "source": [
    "from sklearn.metrics import log_loss"
   ]
  },
  {
   "cell_type": "markdown",
   "metadata": {},
   "source": [
    "### <font color='green'>creating baseline metrics using hard coded predicted values</font>"
   ]
  },
  {
   "cell_type": "code",
   "execution_count": 52,
   "metadata": {},
   "outputs": [],
   "source": [
    "from numpy import random"
   ]
  },
  {
   "cell_type": "code",
   "execution_count": 136,
   "metadata": {},
   "outputs": [
    {
     "data": {
      "text/plain": [
       "(463,)"
      ]
     },
     "execution_count": 136,
     "metadata": {},
     "output_type": "execute_result"
    }
   ],
   "source": [
    "y_train.shape"
   ]
  },
  {
   "cell_type": "code",
   "execution_count": 53,
   "metadata": {},
   "outputs": [],
   "source": [
    "# create a dummy y value for getting the baseline accuracy\n",
    "y_dummy_1 = random.rand(463,9)"
   ]
  },
  {
   "cell_type": "code",
   "execution_count": 75,
   "metadata": {},
   "outputs": [],
   "source": [
    "#y_dummy"
   ]
  },
  {
   "cell_type": "code",
   "execution_count": 137,
   "metadata": {},
   "outputs": [],
   "source": [
    "from sklearn.preprocessing import OneHotEncoder"
   ]
  },
  {
   "cell_type": "code",
   "execution_count": 138,
   "metadata": {},
   "outputs": [],
   "source": [
    "onehot_encoder = OneHotEncoder(sparse=False)"
   ]
  },
  {
   "cell_type": "code",
   "execution_count": 139,
   "metadata": {},
   "outputs": [],
   "source": [
    "y_train_roc = y_train.values.reshape(-1,1)"
   ]
  },
  {
   "cell_type": "code",
   "execution_count": 140,
   "metadata": {},
   "outputs": [],
   "source": [
    "y_train_roc = onehot_encoder.fit_transform(y_train_roc)"
   ]
  },
  {
   "cell_type": "code",
   "execution_count": 141,
   "metadata": {},
   "outputs": [],
   "source": [
    "y_validation_roc = y_validation.values.reshape(-1,1)"
   ]
  },
  {
   "cell_type": "code",
   "execution_count": 142,
   "metadata": {},
   "outputs": [],
   "source": [
    "y_validation_roc = onehot_encoder.fit_transform(y_validation_roc)"
   ]
  },
  {
   "cell_type": "code",
   "execution_count": 54,
   "metadata": {},
   "outputs": [
    {
     "data": {
      "text/plain": [
       "array([0.3188651 , 0.34384007, 0.52739159, 0.07205046, 0.14410914,\n",
       "       0.29020487, 0.35192645, 0.50333807, 0.93149463])"
      ]
     },
     "execution_count": 54,
     "metadata": {},
     "output_type": "execute_result"
    }
   ],
   "source": [
    "y_dummy_1[0,:]"
   ]
  },
  {
   "cell_type": "code",
   "execution_count": 67,
   "metadata": {},
   "outputs": [
    {
     "data": {
      "text/plain": [
       "2.5009965499375872"
      ]
     },
     "execution_count": 67,
     "metadata": {},
     "output_type": "execute_result"
    }
   ],
   "source": [
    "# baseline loss metric value, random y values\n",
    "log_loss(y_train,y_dummy_1)"
   ]
  },
  {
   "cell_type": "code",
   "execution_count": 79,
   "metadata": {},
   "outputs": [],
   "source": [
    "y_dummy_2=np.zeros((2321,9),dtype='float')"
   ]
  },
  {
   "cell_type": "code",
   "execution_count": 80,
   "metadata": {},
   "outputs": [
    {
     "data": {
      "text/plain": [
       "array([0., 0., 0., 0., 0., 0., 0., 0., 0.])"
      ]
     },
     "execution_count": 80,
     "metadata": {},
     "output_type": "execute_result"
    }
   ],
   "source": [
    "y_dummy_2[0,:]"
   ]
  },
  {
   "cell_type": "code",
   "execution_count": 81,
   "metadata": {},
   "outputs": [
    {
     "data": {
      "text/plain": [
       "2.197224577336219"
      ]
     },
     "execution_count": 81,
     "metadata": {},
     "output_type": "execute_result"
    }
   ],
   "source": [
    "# baseline loss metric value, all probabilites for y set to zero\n",
    "log_loss(y_train,y_dummy_2)"
   ]
  },
  {
   "cell_type": "code",
   "execution_count": 82,
   "metadata": {},
   "outputs": [],
   "source": [
    "# baseline loss metric value, all probabilites for y set to 0.4\n",
    "y_dummy_3=np.full((2321,9),0.4,dtype='float')"
   ]
  },
  {
   "cell_type": "code",
   "execution_count": 83,
   "metadata": {},
   "outputs": [
    {
     "data": {
      "text/plain": [
       "array([0.4, 0.4, 0.4, 0.4, 0.4, 0.4, 0.4, 0.4, 0.4])"
      ]
     },
     "execution_count": 83,
     "metadata": {},
     "output_type": "execute_result"
    }
   ],
   "source": [
    "y_dummy_3[0,:]"
   ]
  },
  {
   "cell_type": "code",
   "execution_count": 84,
   "metadata": {},
   "outputs": [
    {
     "data": {
      "text/plain": [
       "2.1972245773362182"
      ]
     },
     "execution_count": 84,
     "metadata": {},
     "output_type": "execute_result"
    }
   ],
   "source": [
    "log_loss(y_train,y_dummy_3)"
   ]
  },
  {
   "cell_type": "code",
   "execution_count": 85,
   "metadata": {},
   "outputs": [],
   "source": [
    "y_dummy_4=np.zeros((2321,9),dtype='float')"
   ]
  },
  {
   "cell_type": "code",
   "execution_count": 86,
   "metadata": {},
   "outputs": [],
   "source": [
    "y_dummy_4[:,0]=1.0"
   ]
  },
  {
   "cell_type": "code",
   "execution_count": 87,
   "metadata": {},
   "outputs": [
    {
     "data": {
      "text/plain": [
       "array([1., 0., 0., 0., 0., 0., 0., 0., 0.])"
      ]
     },
     "execution_count": 87,
     "metadata": {},
     "output_type": "execute_result"
    }
   ],
   "source": [
    "y_dummy_4[0,:]"
   ]
  },
  {
   "cell_type": "code",
   "execution_count": 88,
   "metadata": {},
   "outputs": [
    {
     "data": {
      "text/plain": [
       "28.64590459293541"
      ]
     },
     "execution_count": 88,
     "metadata": {},
     "output_type": "execute_result"
    }
   ],
   "source": [
    "# baseline loss metric value,probability at index 1 set to 1.0 for all y\n",
    "log_loss(y_train,y_dummy_4) "
   ]
  },
  {
   "cell_type": "code",
   "execution_count": 89,
   "metadata": {},
   "outputs": [],
   "source": [
    "# baseline loss metric value,probability at random indices set to 1.0 for all y\n",
    "y_dummy_5=np.zeros((2321,9),dtype='float')\n",
    "count=0\n",
    "for x in X_train_bow:\n",
    "    new_y_val=np.random.randint(0,9)\n",
    "    y_dummy_5[count,new_y_val]=1.    \n",
    "    count=count+1  "
   ]
  },
  {
   "cell_type": "code",
   "execution_count": 90,
   "metadata": {},
   "outputs": [
    {
     "data": {
      "text/plain": [
       "array([0., 1., 0., 0., 0., 0., 0., 0., 0.])"
      ]
     },
     "execution_count": 90,
     "metadata": {},
     "output_type": "execute_result"
    }
   ],
   "source": [
    "y_dummy_5[0,:]"
   ]
  },
  {
   "cell_type": "code",
   "execution_count": 91,
   "metadata": {},
   "outputs": [
    {
     "data": {
      "text/plain": [
       "30.327456395014217"
      ]
     },
     "execution_count": 91,
     "metadata": {},
     "output_type": "execute_result"
    }
   ],
   "source": [
    "log_loss(y_train,y_dummy_5)"
   ]
  },
  {
   "cell_type": "code",
   "execution_count": 92,
   "metadata": {},
   "outputs": [],
   "source": [
    "# baseline loss metric value,probability at random indices set to 1.0 for all y\n",
    "def get_dummy(train_df):\n",
    "    y_dummy_5=np.zeros((2321,9),dtype='float') # creating the probability matrix for y values\n",
    "    count=0\n",
    "    for x in train_df:                        # iterating through the training dataset\n",
    "        new_y_val=np.random.randint(0,9)      # creating random values for substituting index values\n",
    "        y_dummy_5[count,new_y_val]=1.         # setting the random index value as 1.0\n",
    "        count=count+1  \n",
    "    return y_dummy_5    "
   ]
  },
  {
   "cell_type": "code",
   "execution_count": 93,
   "metadata": {},
   "outputs": [],
   "source": [
    "def simulate_dummy(train_df,y_train):    \n",
    "    for i in range(10):\n",
    "        y_dummy=get_dummy(train_df)\n",
    "        print(log_loss(y_train,y_dummy))"
   ]
  },
  {
   "cell_type": "code",
   "execution_count": 94,
   "metadata": {},
   "outputs": [
    {
     "name": "stdout",
     "output_type": "stream",
     "text": [
      "2.294764802550791\n",
      "2.294764802550791\n",
      "2.294764802550791\n",
      "2.294764802550791\n",
      "2.2798838131518644\n",
      "2.294764802550791\n",
      "2.220359855556154\n",
      "2.2798838131518644\n",
      "2.294764802550791\n",
      "2.294764802550791\n"
     ]
    }
   ],
   "source": [
    "simulate_dummy(train_df,y_train)"
   ]
  },
  {
   "cell_type": "code",
   "execution_count": 95,
   "metadata": {},
   "outputs": [
    {
     "data": {
      "text/html": [
       "<div>\n",
       "<style scoped>\n",
       "    .dataframe tbody tr th:only-of-type {\n",
       "        vertical-align: middle;\n",
       "    }\n",
       "\n",
       "    .dataframe tbody tr th {\n",
       "        vertical-align: top;\n",
       "    }\n",
       "\n",
       "    .dataframe thead th {\n",
       "        text-align: right;\n",
       "    }\n",
       "</style>\n",
       "<table border=\"1\" class=\"dataframe\">\n",
       "  <thead>\n",
       "    <tr style=\"text-align: right;\">\n",
       "      <th></th>\n",
       "      <th>substitutions</th>\n",
       "      <th>log_loss</th>\n",
       "    </tr>\n",
       "  </thead>\n",
       "  <tbody>\n",
       "    <tr>\n",
       "      <th>0</th>\n",
       "      <td>random</td>\n",
       "      <td>2.49</td>\n",
       "    </tr>\n",
       "    <tr>\n",
       "      <th>1</th>\n",
       "      <td>all zero</td>\n",
       "      <td>2.19</td>\n",
       "    </tr>\n",
       "    <tr>\n",
       "      <th>2</th>\n",
       "      <td>all 0.4</td>\n",
       "      <td>2.19</td>\n",
       "    </tr>\n",
       "    <tr>\n",
       "      <th>3</th>\n",
       "      <td>index 1</td>\n",
       "      <td>28.59</td>\n",
       "    </tr>\n",
       "    <tr>\n",
       "      <th>4</th>\n",
       "      <td>random index</td>\n",
       "      <td>2.40</td>\n",
       "    </tr>\n",
       "  </tbody>\n",
       "</table>\n",
       "</div>"
      ],
      "text/plain": [
       "  substitutions  log_loss\n",
       "0        random      2.49\n",
       "1      all zero      2.19\n",
       "2       all 0.4      2.19\n",
       "3       index 1     28.59\n",
       "4  random index      2.40"
      ]
     },
     "execution_count": 95,
     "metadata": {},
     "output_type": "execute_result"
    }
   ],
   "source": [
    "pd.DataFrame({\"substitutions\":[\"random\",\"all zero\",\"all 0.4\",\"index 1\",\"random index\"],\"log_loss\":[2.49,2.19,2.19,28.59,2.4]})"
   ]
  },
  {
   "cell_type": "markdown",
   "metadata": {},
   "source": [
    "### <font style=\"font-size:18px;font-family:arial;color:green;text-indent:100px;line-height:0.8;word-spacing:10px\">Thus the lowermost limit for log loss score for an inaccurate model returns a value of 2.4 and hence our models should return better scores</font> "
   ]
  },
  {
   "cell_type": "markdown",
   "metadata": {},
   "source": [
    "### <font color='blue'>Logistic Regression Model</font>"
   ]
  },
  {
   "cell_type": "markdown",
   "metadata": {},
   "source": [
    "Logistic regression is one of the most popular Machine Learning algorithms, which comes under the Supervised Learning technique. It is used for predicting the categorical dependent variable using a given set of independent variables"
   ]
  },
  {
   "cell_type": "code",
   "execution_count": 127,
   "metadata": {},
   "outputs": [],
   "source": [
    "from sklearn.linear_model import LogisticRegression"
   ]
  },
  {
   "cell_type": "code",
   "execution_count": 128,
   "metadata": {},
   "outputs": [],
   "source": [
    "from sklearn.metrics import accuracy_score"
   ]
  },
  {
   "cell_type": "code",
   "execution_count": 129,
   "metadata": {},
   "outputs": [
    {
     "data": {
      "text/plain": [
       "(463,)"
      ]
     },
     "execution_count": 129,
     "metadata": {},
     "output_type": "execute_result"
    }
   ],
   "source": [
    "y_train.shape"
   ]
  },
  {
   "cell_type": "code",
   "execution_count": 130,
   "metadata": {},
   "outputs": [],
   "source": [
    "def logistic_regression(x_train,y_train,x_val,y_val):\n",
    "    model = LogisticRegression(multi_class='multinomial', solver='lbfgs') # define the multinomial logistic regression model\n",
    "    model.fit(x_train,y_train)\n",
    "    predict_proba_train = model.predict_proba(x_train)\n",
    "    predict_proba_val = model.predict_proba(x_val)\n",
    "    predict_train = model.predict(x_train)\n",
    "    predict_val = model.predict(x_val)\n",
    "    result = {\"predict_proba_train\":predict_proba_train,\"predict_proba_val\":predict_proba_val,\"predict_train\":predict_train,\"predict_val\":predict_val}\n",
    "    return result   "
   ]
  },
  {
   "cell_type": "code",
   "execution_count": 131,
   "metadata": {},
   "outputs": [],
   "source": [
    "bow_result=logistic_regression(X_train_bow,y_train,X_validation_bow,y_validation)"
   ]
  },
  {
   "cell_type": "code",
   "execution_count": 76,
   "metadata": {},
   "outputs": [],
   "source": [
    "#tfidf_result=logistic_regression(X_train_tfidf,y_train,X_validation_tfidf,y_validation)"
   ]
  },
  {
   "cell_type": "code",
   "execution_count": 132,
   "metadata": {},
   "outputs": [
    {
     "data": {
      "text/plain": [
       "numpy.ndarray"
      ]
     },
     "execution_count": 132,
     "metadata": {},
     "output_type": "execute_result"
    }
   ],
   "source": [
    "type(bow_result['predict_train'])"
   ]
  },
  {
   "cell_type": "code",
   "execution_count": 133,
   "metadata": {},
   "outputs": [
    {
     "data": {
      "text/plain": [
       "pandas.core.series.Series"
      ]
     },
     "execution_count": 133,
     "metadata": {},
     "output_type": "execute_result"
    }
   ],
   "source": [
    "type(y_train)"
   ]
  },
  {
   "cell_type": "markdown",
   "metadata": {},
   "source": [
    "### <font color='purple'>scoring the prediction using multiple scoring metrics</font>"
   ]
  },
  {
   "cell_type": "code",
   "execution_count": 134,
   "metadata": {},
   "outputs": [],
   "source": [
    "from sklearn.metrics import roc_curve, roc_auc_score"
   ]
  },
  {
   "cell_type": "code",
   "execution_count": 143,
   "metadata": {},
   "outputs": [
    {
     "data": {
      "text/plain": [
       "0.997008568514332"
      ]
     },
     "execution_count": 143,
     "metadata": {},
     "output_type": "execute_result"
    }
   ],
   "source": [
    "roc_auc_score(y_train_roc,bow_result['predict_proba_train'])"
   ]
  },
  {
   "cell_type": "code",
   "execution_count": 146,
   "metadata": {},
   "outputs": [
    {
     "ename": "ValueError",
     "evalue": "multiclass format is not supported",
     "output_type": "error",
     "traceback": [
      "\u001b[0;31m---------------------------------------------------------------------------\u001b[0m",
      "\u001b[0;31mValueError\u001b[0m                                Traceback (most recent call last)",
      "\u001b[0;32m<ipython-input-146-1f7a14103aed>\u001b[0m in \u001b[0;36m<module>\u001b[0;34m\u001b[0m\n\u001b[0;32m----> 1\u001b[0;31m \u001b[0mroc_curve\u001b[0m\u001b[0;34m(\u001b[0m\u001b[0my_train\u001b[0m\u001b[0;34m,\u001b[0m\u001b[0mbow_result\u001b[0m\u001b[0;34m[\u001b[0m\u001b[0;34m'predict_train'\u001b[0m\u001b[0;34m]\u001b[0m\u001b[0;34m)\u001b[0m\u001b[0;34m\u001b[0m\u001b[0;34m\u001b[0m\u001b[0m\n\u001b[0m",
      "\u001b[0;32m~/anaconda3/lib/python3.7/site-packages/sklearn/metrics/ranking.py\u001b[0m in \u001b[0;36mroc_curve\u001b[0;34m(y_true, y_score, pos_label, sample_weight, drop_intermediate)\u001b[0m\n\u001b[1;32m    620\u001b[0m     \"\"\"\n\u001b[1;32m    621\u001b[0m     fps, tps, thresholds = _binary_clf_curve(\n\u001b[0;32m--> 622\u001b[0;31m         y_true, y_score, pos_label=pos_label, sample_weight=sample_weight)\n\u001b[0m\u001b[1;32m    623\u001b[0m \u001b[0;34m\u001b[0m\u001b[0m\n\u001b[1;32m    624\u001b[0m     \u001b[0;31m# Attempt to drop thresholds corresponding to points in between and\u001b[0m\u001b[0;34m\u001b[0m\u001b[0;34m\u001b[0m\u001b[0;34m\u001b[0m\u001b[0m\n",
      "\u001b[0;32m~/anaconda3/lib/python3.7/site-packages/sklearn/metrics/ranking.py\u001b[0m in \u001b[0;36m_binary_clf_curve\u001b[0;34m(y_true, y_score, pos_label, sample_weight)\u001b[0m\n\u001b[1;32m    394\u001b[0m     if not (y_type == \"binary\" or\n\u001b[1;32m    395\u001b[0m             (y_type == \"multiclass\" and pos_label is not None)):\n\u001b[0;32m--> 396\u001b[0;31m         \u001b[0;32mraise\u001b[0m \u001b[0mValueError\u001b[0m\u001b[0;34m(\u001b[0m\u001b[0;34m\"{0} format is not supported\"\u001b[0m\u001b[0;34m.\u001b[0m\u001b[0mformat\u001b[0m\u001b[0;34m(\u001b[0m\u001b[0my_type\u001b[0m\u001b[0;34m)\u001b[0m\u001b[0;34m)\u001b[0m\u001b[0;34m\u001b[0m\u001b[0;34m\u001b[0m\u001b[0m\n\u001b[0m\u001b[1;32m    397\u001b[0m \u001b[0;34m\u001b[0m\u001b[0m\n\u001b[1;32m    398\u001b[0m     \u001b[0mcheck_consistent_length\u001b[0m\u001b[0;34m(\u001b[0m\u001b[0my_true\u001b[0m\u001b[0;34m,\u001b[0m \u001b[0my_score\u001b[0m\u001b[0;34m,\u001b[0m \u001b[0msample_weight\u001b[0m\u001b[0;34m)\u001b[0m\u001b[0;34m\u001b[0m\u001b[0;34m\u001b[0m\u001b[0m\n",
      "\u001b[0;31mValueError\u001b[0m: multiclass format is not supported"
     ]
    }
   ],
   "source": [
    "roc_curve(y_train,bow_result['predict_train'])"
   ]
  },
  {
   "cell_type": "code",
   "execution_count": 79,
   "metadata": {},
   "outputs": [],
   "source": [
    "bow_train_LR_logloss = log_loss(y_train,bow_result['predict_proba_train'])\n",
    "bow_val_LR_logloss = log_loss(y_validation,bow_result['predict_proba_val'])\n",
    "#tfidf_train_LR_logloss = log_loss(y_train,tfidf_result['predict_proba_train'])\n",
    "#tfidf_val_LR_logloss = log_loss(y_validation,tfidf_result['predict_proba_val'])"
   ]
  },
  {
   "cell_type": "markdown",
   "metadata": {},
   "source": [
    "#### Log Loss score for Logistic Regression for BOW and TFIDF transformation"
   ]
  },
  {
   "cell_type": "code",
   "execution_count": 80,
   "metadata": {},
   "outputs": [
    {
     "data": {
      "text/html": [
       "<div>\n",
       "<style scoped>\n",
       "    .dataframe tbody tr th:only-of-type {\n",
       "        vertical-align: middle;\n",
       "    }\n",
       "\n",
       "    .dataframe tbody tr th {\n",
       "        vertical-align: top;\n",
       "    }\n",
       "\n",
       "    .dataframe thead th {\n",
       "        text-align: right;\n",
       "    }\n",
       "</style>\n",
       "<table border=\"1\" class=\"dataframe\">\n",
       "  <thead>\n",
       "    <tr style=\"text-align: right;\">\n",
       "      <th></th>\n",
       "      <th>transformer model</th>\n",
       "      <th>Train Data</th>\n",
       "      <th>Validation Data</th>\n",
       "    </tr>\n",
       "  </thead>\n",
       "  <tbody>\n",
       "    <tr>\n",
       "      <th>0</th>\n",
       "      <td>Bag of words</td>\n",
       "      <td>0.310971</td>\n",
       "      <td>3.234486</td>\n",
       "    </tr>\n",
       "    <tr>\n",
       "      <th>1</th>\n",
       "      <td>TFIDF</td>\n",
       "      <td>0.936953</td>\n",
       "      <td>1.118095</td>\n",
       "    </tr>\n",
       "  </tbody>\n",
       "</table>\n",
       "</div>"
      ],
      "text/plain": [
       "  transformer model  Train Data  Validation Data\n",
       "0      Bag of words    0.310971         3.234486\n",
       "1             TFIDF    0.936953         1.118095"
      ]
     },
     "execution_count": 80,
     "metadata": {},
     "output_type": "execute_result"
    }
   ],
   "source": [
    "pd.DataFrame({\"transformer model\":['Bag of words','TFIDF'],\"Train Data\":[bow_train_LR_logloss,tfidf_train_LR_logloss],\"Validation Data\":[bow_val_LR_logloss,tfidf_val_LR_logloss]})"
   ]
  },
  {
   "cell_type": "code",
   "execution_count": null,
   "metadata": {},
   "outputs": [],
   "source": []
  },
  {
   "cell_type": "code",
   "execution_count": 81,
   "metadata": {},
   "outputs": [],
   "source": [
    "from sklearn.metrics import classification_report"
   ]
  },
  {
   "cell_type": "code",
   "execution_count": 82,
   "metadata": {},
   "outputs": [],
   "source": [
    "target_names=['class 1','class 2','class 3','class 4','class 5','class 6','class 7','class 8','class 9']"
   ]
  },
  {
   "cell_type": "code",
   "execution_count": 83,
   "metadata": {},
   "outputs": [],
   "source": [
    "def get_f1(y_train,y_pred):    \n",
    "    f1_list=[]\n",
    "    for line in classification_report(y_train,y_pred, target_names=target_names).split('\\n'):\n",
    "        if 'class' in line:\n",
    "            f1_list.append(line.split()[4])\n",
    "    return f1_list        "
   ]
  },
  {
   "cell_type": "code",
   "execution_count": 84,
   "metadata": {},
   "outputs": [],
   "source": [
    "bow_train_f1 = get_f1(y_train,bow_result['predict_train'])\n",
    "bow_val_f1 = get_f1(y_validation,bow_result['predict_val'])"
   ]
  },
  {
   "cell_type": "code",
   "execution_count": 85,
   "metadata": {},
   "outputs": [],
   "source": [
    "tfidf_train_f1 = get_f1(y_train,tfidf_result['predict_train'])\n",
    "tfidf_val_f1 = get_f1(y_validation,tfidf_result['predict_val'])"
   ]
  },
  {
   "cell_type": "code",
   "execution_count": 86,
   "metadata": {},
   "outputs": [],
   "source": [
    "train_label = [\"train\" for i in range(9)]\n",
    "validation_label = [\"validation\" for i in range(9)]"
   ]
  },
  {
   "cell_type": "code",
   "execution_count": 87,
   "metadata": {},
   "outputs": [],
   "source": [
    "matplotlib.rcParams['figure.figsize'] = (9, 5)"
   ]
  },
  {
   "cell_type": "code",
   "execution_count": 88,
   "metadata": {},
   "outputs": [],
   "source": [
    "bow_train_f1_df = pd.DataFrame({\"Classes\":target_names,\"F1\":bow_train_f1,\"dataset\":train_label})\n",
    "bow_val_f1_df = pd.DataFrame({\"Classes\":target_names,\"F1\":bow_val_f1,\"dataset\":validation_label})\n",
    "bow_f1_df = pd.concat([bow_train_f1_df,bow_val_f1_df])"
   ]
  },
  {
   "cell_type": "code",
   "execution_count": 89,
   "metadata": {},
   "outputs": [],
   "source": [
    "bow_train_f1_df['F1'] = pd.to_numeric(bow_train_f1_df['F1'])\n",
    "bow_val_f1_df['F1'] = pd.to_numeric(bow_val_f1_df['F1'])\n",
    "bow_f1_df['F1'] = pd.to_numeric(bow_f1_df['F1'])"
   ]
  },
  {
   "cell_type": "code",
   "execution_count": 90,
   "metadata": {},
   "outputs": [],
   "source": [
    "tfidf_train_f1_df = pd.DataFrame({\"Classes\":target_names,\"F1\":tfidf_train_f1,\"dataset\":train_label})\n",
    "tfidf_val_f1_df = pd.DataFrame({\"Classes\":target_names,\"F1\":tfidf_val_f1,\"dataset\":validation_label})\n",
    "tfidf_f1_df = pd.concat([tfidf_train_f1_df,tfidf_val_f1_df])"
   ]
  },
  {
   "cell_type": "code",
   "execution_count": 91,
   "metadata": {},
   "outputs": [],
   "source": [
    "tfidf_train_f1_df['F1'] = pd.to_numeric(tfidf_train_f1_df['F1'])\n",
    "tfidf_val_f1_df['F1'] = pd.to_numeric(tfidf_val_f1_df['F1'])\n",
    "tfidf_f1_df['F1'] = pd.to_numeric(tfidf_f1_df['F1'])"
   ]
  },
  {
   "cell_type": "markdown",
   "metadata": {},
   "source": [
    "### F1 scores for all the classes for Logistic Regression"
   ]
  },
  {
   "cell_type": "code",
   "execution_count": 92,
   "metadata": {},
   "outputs": [
    {
     "data": {
      "image/png": "[encoded data removed]",
      "text/plain": [
       "<Figure size 648x360 with 2 Axes>"
      ]
     },
     "metadata": {
      "needs_background": "light"
     },
     "output_type": "display_data"
    }
   ],
   "source": [
    "fig,axs = plt.subplots(2,sharex=True,sharey= 'col')\n",
    "X = target_names\n",
    "y = bow_train_f1_df[\"F1\"]\n",
    "z = bow_val_f1_df[\"F1\"]\n",
    "\n",
    "a = tfidf_train_f1_df['F1']\n",
    "b = tfidf_val_f1_df['F1']\n",
    "X_axis = np.arange(len(X))\n",
    "\n",
    "axs[0].bar(X_axis - 0.2, y, 0.4, label = 'Train')\n",
    "axs[0].bar(X_axis + 0.2, z, 0.4, label = 'Validation')\n",
    "axs[0].set_title(\"BOW transformation\")\n",
    "axs[0].set_ylabel(\"F1\")\n",
    "\n",
    "axs[1].bar(X_axis - 0.2, a, 0.4, label = 'Train')\n",
    "axs[1].bar(X_axis + 0.2, b, 0.4, label = 'Validation')\n",
    "axs[1].set_title(\"TFIDF transformation\")\n",
    "axs[1].set_ylabel(\"F1\")\n",
    "\n",
    "plt.xticks(X_axis, X)\n",
    "plt.xlabel(\"Classes\")\n",
    "\n",
    "plt.tight_layout()\n",
    "plt.legend(bbox_to_anchor=(1.2, 1.2))\n",
    "plt.show()"
   ]
  },
  {
   "cell_type": "code",
   "execution_count": 93,
   "metadata": {},
   "outputs": [
    {
     "data": {
      "text/plain": [
       "LogisticRegression(multi_class='multinomial')"
      ]
     },
     "execution_count": 93,
     "metadata": {},
     "output_type": "execute_result"
    }
   ],
   "source": [
    "bow_model = LogisticRegression(multi_class='multinomial', solver='lbfgs') # define the multinomial logistic regression model\n",
    "bow_model.fit(X_train_bow,y_train)    "
   ]
  },
  {
   "cell_type": "code",
   "execution_count": 94,
   "metadata": {},
   "outputs": [],
   "source": [
    "from sklearn.metrics import confusion_matrix, ConfusionMatrixDisplay"
   ]
  },
  {
   "cell_type": "code",
   "execution_count": 108,
   "metadata": {},
   "outputs": [],
   "source": [
    "cf_bow_train = confusion_matrix(y_train,bow_result['predict_train'])\n",
    "cf_bow_val = confusion_matrix(y_validation,bow_result['predict_val'])\n",
    "cf_tfidf_train = confusion_matrix(y_train,tfidf_result['predict_train'])\n",
    "cf_tfidf_val = confusion_matrix(y_validation,tfidf_result['predict_val'])"
   ]
  },
  {
   "cell_type": "code",
   "execution_count": null,
   "metadata": {},
   "outputs": [],
   "source": []
  },
  {
   "cell_type": "markdown",
   "metadata": {},
   "source": [
    "#### Confusion Matrix for all the classes for BOW and TFIDF transformation"
   ]
  },
  {
   "cell_type": "code",
   "execution_count": 118,
   "metadata": {},
   "outputs": [
    {
     "data": {
      "image/png": "[encoded data removed]",
      "text/plain": [
       "<Figure size 1296x576 with 8 Axes>"
      ]
     },
     "metadata": {
      "needs_background": "light"
     },
     "output_type": "display_data"
    }
   ],
   "source": [
    "fig, axes = plt.subplots(nrows=2, ncols=2,figsize=(18,8))\n",
    "sns.heatmap(cf_bow_train, cmap='YlGnBu', xticklabels = target_names, yticklabels = target_names,ax=axes[0,0])\n",
    "axes[0,0].set_title('Train data BOW model')\n",
    "sns.heatmap(cf_bow_val, cmap='YlGnBu', xticklabels = target_names, yticklabels = target_names,ax=axes[0,1])\n",
    "axes[0,1].set_title('Validation data BOW model')\n",
    "sns.heatmap(cf_tfidf_train, cmap='YlGnBu', xticklabels = target_names, yticklabels = target_names,ax=axes[1,0])\n",
    "axes[1,0].set_title('Train data TFIDF model')\n",
    "sns.heatmap(cf_tfidf_val, cmap='YlGnBu', xticklabels = target_names, yticklabels = target_names,ax=axes[1,1])\n",
    "axes[1,1].set_title('Validation data TFIDF model')\n",
    "plt.tight_layout()"
   ]
  },
  {
   "cell_type": "markdown",
   "metadata": {},
   "source": [
    "### Inference from the analyzing the scoring matrix"
   ]
  },
  {
   "cell_type": "markdown",
   "metadata": {},
   "source": [
    "#### The bag of words transformation overfits to the training data with low log loss and higher F1 scores across all classes. The TFIDF transformation produces a more balanced result, making it a better choice for building models. Both the transformations show a variation in the degree of prediction for different classes"
   ]
  },
  {
   "cell_type": "raw",
   "metadata": {},
   "source": []
  },
  {
   "cell_type": "markdown",
   "metadata": {},
   "source": [
    "### <font color='blue'> Multinomial Naive Bayes Model<font>"
   ]
  },
  {
   "cell_type": "markdown",
   "metadata": {},
   "source": [
    "Naive Bayes classification technique is based on Bayes’ Theorem with an assumption of independence among predictors. In simple terms, a Naive Bayes classifier assumes that the presence of a particular feature in a class is unrelated to the presence of any other feature. It works well with discrete data and is a method of choice for text classification"
   ]
  },
  {
   "cell_type": "code",
   "execution_count": 75,
   "metadata": {},
   "outputs": [],
   "source": [
    "from sklearn.naive_bayes import MultinomialNB"
   ]
  },
  {
   "cell_type": "code",
   "execution_count": 73,
   "metadata": {},
   "outputs": [],
   "source": [
    "def naive_bayes(x_train,y_train,x_val,y_val):\n",
    "    model = MultinomialNB() # define the Naive bayes model\n",
    "    model.fit(x_train,y_train)\n",
    "    print(model.class_count_)\n",
    "    predict_proba_train = model.predict_proba(x_train)\n",
    "    predict_proba_val = model.predict_proba(x_val)\n",
    "    predict_train = model.predict(x_train)\n",
    "    predict_val = model.predict(x_val)\n",
    "    result = {\"predict_proba_train\":predict_proba_train,\"predict_proba_val\":predict_proba_val,\"predict_train\":predict_train,\"predict_val\":predict_val}\n",
    "    return result   "
   ]
  },
  {
   "cell_type": "code",
   "execution_count": 76,
   "metadata": {},
   "outputs": [],
   "source": [
    "bow_result = naive_bayes(X_train_bow,y_train,X_validation_bow,y_validation)"
   ]
  },
  {
   "cell_type": "code",
   "execution_count": 77,
   "metadata": {},
   "outputs": [],
   "source": [
    "tfidf_result = naive_bayes(X_train_tfidf,y_train,X_validation_tfidf,y_validation)"
   ]
  },
  {
   "cell_type": "markdown",
   "metadata": {},
   "source": [
    "### <font color='purple'>scoring the prediction using multiple scoring metrics</font>"
   ]
  },
  {
   "cell_type": "code",
   "execution_count": 78,
   "metadata": {},
   "outputs": [],
   "source": [
    "bow_train_LR_logloss = log_loss(y_train,bow_result['predict_proba_train'])\n",
    "bow_val_LR_logloss = log_loss(y_validation,bow_result['predict_proba_val'])\n",
    "tfidf_train_LR_logloss = log_loss(y_train,tfidf_result['predict_proba_train'])\n",
    "tfidf_val_LR_logloss = log_loss(y_validation,tfidf_result['predict_proba_val'])"
   ]
  },
  {
   "cell_type": "markdown",
   "metadata": {},
   "source": [
    "### Log Loss score for Naive Bayes model for BOW and TFIDF transformation"
   ]
  },
  {
   "cell_type": "code",
   "execution_count": 79,
   "metadata": {},
   "outputs": [
    {
     "data": {
      "text/html": [
       "<div>\n",
       "<style scoped>\n",
       "    .dataframe tbody tr th:only-of-type {\n",
       "        vertical-align: middle;\n",
       "    }\n",
       "\n",
       "    .dataframe tbody tr th {\n",
       "        vertical-align: top;\n",
       "    }\n",
       "\n",
       "    .dataframe thead th {\n",
       "        text-align: right;\n",
       "    }\n",
       "</style>\n",
       "<table border=\"1\" class=\"dataframe\">\n",
       "  <thead>\n",
       "    <tr style=\"text-align: right;\">\n",
       "      <th></th>\n",
       "      <th>transformer model</th>\n",
       "      <th>Train Data</th>\n",
       "      <th>Validation Data</th>\n",
       "    </tr>\n",
       "  </thead>\n",
       "  <tbody>\n",
       "    <tr>\n",
       "      <th>0</th>\n",
       "      <td>Bag of words</td>\n",
       "      <td>13.659378</td>\n",
       "      <td>16.278347</td>\n",
       "    </tr>\n",
       "    <tr>\n",
       "      <th>1</th>\n",
       "      <td>TFIDF</td>\n",
       "      <td>1.226115</td>\n",
       "      <td>1.360232</td>\n",
       "    </tr>\n",
       "  </tbody>\n",
       "</table>\n",
       "</div>"
      ],
      "text/plain": [
       "  transformer model  Train Data  Validation Data\n",
       "0      Bag of words   13.659378        16.278347\n",
       "1             TFIDF    1.226115         1.360232"
      ]
     },
     "execution_count": 79,
     "metadata": {},
     "output_type": "execute_result"
    }
   ],
   "source": [
    "pd.DataFrame({\"transformer model\":['Bag of words','TFIDF'],\"Train Data\":[bow_train_LR_logloss,tfidf_train_LR_logloss],\"Validation Data\":[bow_val_LR_logloss,tfidf_val_LR_logloss]})"
   ]
  },
  {
   "cell_type": "code",
   "execution_count": null,
   "metadata": {},
   "outputs": [],
   "source": []
  },
  {
   "cell_type": "code",
   "execution_count": 84,
   "metadata": {},
   "outputs": [],
   "source": [
    "bow_train_f1 = get_f1(y_train,bow_result['predict_train'])\n",
    "bow_val_f1 = get_f1(y_validation,bow_result['predict_val'])"
   ]
  },
  {
   "cell_type": "code",
   "execution_count": 85,
   "metadata": {},
   "outputs": [],
   "source": [
    "tfidf_train_f1 = get_f1(y_train,tfidf_result['predict_train'])\n",
    "tfidf_val_f1 = get_f1(y_validation,tfidf_result['predict_val'])"
   ]
  },
  {
   "cell_type": "code",
   "execution_count": 88,
   "metadata": {},
   "outputs": [],
   "source": [
    "bow_train_f1_df = pd.DataFrame({\"Classes\":target_names,\"F1\":bow_train_f1,\"dataset\":train_label})\n",
    "bow_val_f1_df = pd.DataFrame({\"Classes\":target_names,\"F1\":bow_val_f1,\"dataset\":validation_label})\n",
    "bow_f1_df = pd.concat([bow_train_f1_df,bow_val_f1_df])"
   ]
  },
  {
   "cell_type": "code",
   "execution_count": 89,
   "metadata": {},
   "outputs": [],
   "source": [
    "bow_train_f1_df['F1'] = pd.to_numeric(bow_train_f1_df['F1'])\n",
    "bow_val_f1_df['F1'] = pd.to_numeric(bow_val_f1_df['F1'])\n",
    "bow_f1_df['F1'] = pd.to_numeric(bow_f1_df['F1'])"
   ]
  },
  {
   "cell_type": "code",
   "execution_count": 90,
   "metadata": {},
   "outputs": [],
   "source": [
    "tfidf_train_f1_df = pd.DataFrame({\"Classes\":target_names,\"F1\":tfidf_train_f1,\"dataset\":train_label})\n",
    "tfidf_val_f1_df = pd.DataFrame({\"Classes\":target_names,\"F1\":tfidf_val_f1,\"dataset\":validation_label})\n",
    "tfidf_f1_df = pd.concat([tfidf_train_f1_df,tfidf_val_f1_df])"
   ]
  },
  {
   "cell_type": "code",
   "execution_count": 91,
   "metadata": {},
   "outputs": [],
   "source": [
    "tfidf_train_f1_df['F1'] = pd.to_numeric(tfidf_train_f1_df['F1'])\n",
    "tfidf_val_f1_df['F1'] = pd.to_numeric(tfidf_val_f1_df['F1'])\n",
    "tfidf_f1_df['F1'] = pd.to_numeric(tfidf_f1_df['F1'])"
   ]
  },
  {
   "cell_type": "markdown",
   "metadata": {},
   "source": [
    "### F1 scores for all the classes for Naive Bayes model"
   ]
  },
  {
   "cell_type": "code",
   "execution_count": 92,
   "metadata": {},
   "outputs": [
    {
     "data": {
      "image/png": "[encoded data removed]",
      "text/plain": [
       "<Figure size 648x360 with 2 Axes>"
      ]
     },
     "metadata": {
      "needs_background": "light"
     },
     "output_type": "display_data"
    }
   ],
   "source": [
    "fig,axs = plt.subplots(2,sharex=True,sharey= 'col')\n",
    "X = target_names\n",
    "y = bow_train_f1_df[\"F1\"]\n",
    "z = bow_val_f1_df[\"F1\"]\n",
    "\n",
    "a = tfidf_train_f1_df['F1']\n",
    "b = tfidf_val_f1_df['F1']\n",
    "X_axis = np.arange(len(X))\n",
    "\n",
    "axs[0].bar(X_axis - 0.2, y, 0.4, label = 'Train')\n",
    "axs[0].bar(X_axis + 0.2, z, 0.4, label = 'Validation')\n",
    "axs[0].set_title(\"BOW transformation\")\n",
    "axs[0].set_ylabel(\"F1\")\n",
    "\n",
    "axs[1].bar(X_axis - 0.2, a, 0.4, label = 'Train')\n",
    "axs[1].bar(X_axis + 0.2, b, 0.4, label = 'Validation')\n",
    "axs[1].set_title(\"TFIDF transformation\")\n",
    "axs[1].set_ylabel(\"F1\")\n",
    "\n",
    "plt.xticks(X_axis, X)\n",
    "plt.xlabel(\"Classes\")\n",
    "\n",
    "plt.tight_layout()\n",
    "plt.legend(bbox_to_anchor=(1.2, 1.2))\n",
    "plt.show()"
   ]
  },
  {
   "cell_type": "code",
   "execution_count": 94,
   "metadata": {},
   "outputs": [],
   "source": [
    "from sklearn.metrics import confusion_matrix, ConfusionMatrixDisplay"
   ]
  },
  {
   "cell_type": "code",
   "execution_count": 95,
   "metadata": {},
   "outputs": [],
   "source": [
    "cf_bow_train = confusion_matrix(y_train,bow_result['predict_train'])\n",
    "cf_bow_val = confusion_matrix(y_validation,bow_result['predict_val'])\n",
    "cf_tfidf_train = confusion_matrix(y_train,tfidf_result['predict_train'])\n",
    "cf_tfidf_val = confusion_matrix(y_validation,tfidf_result['predict_val'])"
   ]
  },
  {
   "cell_type": "markdown",
   "metadata": {},
   "source": [
    "### Confusion Matrix for all the classes for BOW and TFIDF transformation"
   ]
  },
  {
   "cell_type": "code",
   "execution_count": 96,
   "metadata": {},
   "outputs": [
    {
     "data": {
      "image/png": "[encoded data removed]",
      "text/plain": [
       "<Figure size 1296x576 with 8 Axes>"
      ]
     },
     "metadata": {
      "needs_background": "light"
     },
     "output_type": "display_data"
    }
   ],
   "source": [
    "fig, axes = plt.subplots(nrows=2, ncols=2,figsize=(18,8))\n",
    "sns.heatmap(cf_bow_train, cmap='YlGnBu', xticklabels = target_names, yticklabels = target_names,ax=axes[0,0])\n",
    "axes[0,0].set_title('Train data BOW model')\n",
    "sns.heatmap(cf_bow_val, cmap='YlGnBu', xticklabels = target_names, yticklabels = target_names,ax=axes[0,1])\n",
    "axes[0,1].set_title('Validation data BOW model')\n",
    "sns.heatmap(cf_tfidf_train, cmap='YlGnBu', xticklabels = target_names, yticklabels = target_names,ax=axes[1,0])\n",
    "axes[1,0].set_title('Train data TFIDF model')\n",
    "sns.heatmap(cf_tfidf_val, cmap='YlGnBu', xticklabels = target_names, yticklabels = target_names,ax=axes[1,1])\n",
    "axes[1,1].set_title('Validation data TFIDF model')\n",
    "plt.tight_layout()"
   ]
  },
  {
   "cell_type": "code",
   "execution_count": null,
   "metadata": {},
   "outputs": [],
   "source": []
  },
  {
   "cell_type": "markdown",
   "metadata": {},
   "source": [
    "### <font color='blue'> The Naive Bayes Classifier has performed poorly with the BOW model. One reason could be that there exists a relationship between the features. Without correction, the Naive Bayes model cannot be used with continious data and hence we are not modeling the TFIDF data </font>"
   ]
  },
  {
   "cell_type": "markdown",
   "metadata": {},
   "source": [
    "XGBoost is an optimized distributed gradient boosting library designed to be highly efficient, flexible and portable. It implements machine learning algorithms under the Gradient Boosting framework"
   ]
  },
  {
   "cell_type": "code",
   "execution_count": 222,
   "metadata": {},
   "outputs": [
    {
     "name": "stdout",
     "output_type": "stream",
     "text": [
      "Collecting xgboost\n",
      "  Downloading xgboost-1.5.1-py3-none-win_amd64.whl (106.6 MB)\n",
      "Requirement already satisfied: numpy in c:\\users\\anubr\\anaconda3\\lib\\site-packages (from xgboost) (1.20.2)\n",
      "Requirement already satisfied: scipy in c:\\users\\anubr\\anaconda3\\lib\\site-packages (from xgboost) (1.6.3)\n",
      "Installing collected packages: xgboost\n"
     ]
    },
    {
     "name": "stderr",
     "output_type": "stream",
     "text": [
      "WARNING: Value for scheme.headers does not match. Please report this to <https://github.com/pypa/pip/issues/9617>\n",
      "distutils: C:\\Users\\anubr\\anaconda3\\Include\\UNKNOWN\n",
      "sysconfig: C:\\Users\\anubr\\anaconda3\\Include\n",
      "WARNING: Additional context:\n",
      "user = False\n",
      "home = None\n",
      "root = None\n",
      "prefix = None\n",
      "WARNING: Value for scheme.headers does not match. Please report this to <https://github.com/pypa/pip/issues/9617>\n",
      "distutils: C:\\Users\\anubr\\anaconda3\\Include\\UNKNOWN\n",
      "sysconfig: C:\\Users\\anubr\\anaconda3\\Include\n",
      "WARNING: Additional context:\n",
      "user = False\n",
      "home = None\n",
      "root = None\n",
      "prefix = None\n"
     ]
    },
    {
     "name": "stdout",
     "output_type": "stream",
     "text": [
      "Successfully installed xgboost-1.5.1\n"
     ]
    }
   ],
   "source": [
    "!pip install xgboost"
   ]
  },
  {
   "cell_type": "code",
   "execution_count": 223,
   "metadata": {},
   "outputs": [],
   "source": [
    "from sklearn.model_selection import GridSearchCV\n",
    "from sklearn.model_selection import KFold\n",
    "from xgboost import XGBClassifier"
   ]
  },
  {
   "cell_type": "code",
   "execution_count": 227,
   "metadata": {},
   "outputs": [],
   "source": [
    "# fit model no training data\n",
    "xg_boost_model = XGBClassifier()"
   ]
  },
  {
   "cell_type": "code",
   "execution_count": 225,
   "metadata": {},
   "outputs": [],
   "source": [
    "params=[{'n_estimators':[10,50,100]},{'max_depth':[1,4,6]},{'min_samples_split':[2,4]}]"
   ]
  },
  {
   "cell_type": "code",
   "execution_count": 226,
   "metadata": {},
   "outputs": [],
   "source": [
    "cv = KFold(n_splits=5, random_state=1, shuffle=True)"
   ]
  },
  {
   "cell_type": "markdown",
   "metadata": {},
   "source": [
    "#### fitting the BOW model"
   ]
  },
  {
   "cell_type": "code",
   "execution_count": 229,
   "metadata": {
    "scrolled": false
   },
   "outputs": [
    {
     "name": "stdout",
     "output_type": "stream",
     "text": [
      "Fitting 5 folds for each of 8 candidates, totalling 40 fits\n",
      "[00:02:36] WARNING: C:/Users/Administrator/workspace/xgboost-win64_release_1.5.1/src/learner.cc:1115: Starting in XGBoost 1.3.0, the default evaluation metric used with the objective 'multi:softprob' was changed from 'merror' to 'mlogloss'. Explicitly set eval_metric if you'd like to restore the old behavior.\n",
      "[00:02:42] WARNING: C:/Users/Administrator/workspace/xgboost-win64_release_1.5.1/src/learner.cc:1115: Starting in XGBoost 1.3.0, the default evaluation metric used with the objective 'multi:softprob' was changed from 'merror' to 'mlogloss'. Explicitly set eval_metric if you'd like to restore the old behavior.\n",
      "[00:02:49] WARNING: C:/Users/Administrator/workspace/xgboost-win64_release_1.5.1/src/learner.cc:1115: Starting in XGBoost 1.3.0, the default evaluation metric used with the objective 'multi:softprob' was changed from 'merror' to 'mlogloss'. Explicitly set eval_metric if you'd like to restore the old behavior.\n",
      "[00:02:55] WARNING: C:/Users/Administrator/workspace/xgboost-win64_release_1.5.1/src/learner.cc:1115: Starting in XGBoost 1.3.0, the default evaluation metric used with the objective 'multi:softprob' was changed from 'merror' to 'mlogloss'. Explicitly set eval_metric if you'd like to restore the old behavior.\n",
      "[00:03:02] WARNING: C:/Users/Administrator/workspace/xgboost-win64_release_1.5.1/src/learner.cc:1115: Starting in XGBoost 1.3.0, the default evaluation metric used with the objective 'multi:softprob' was changed from 'merror' to 'mlogloss'. Explicitly set eval_metric if you'd like to restore the old behavior.\n",
      "[00:03:08] WARNING: C:/Users/Administrator/workspace/xgboost-win64_release_1.5.1/src/learner.cc:1115: Starting in XGBoost 1.3.0, the default evaluation metric used with the objective 'multi:softprob' was changed from 'merror' to 'mlogloss'. Explicitly set eval_metric if you'd like to restore the old behavior.\n",
      "[00:03:38] WARNING: C:/Users/Administrator/workspace/xgboost-win64_release_1.5.1/src/learner.cc:1115: Starting in XGBoost 1.3.0, the default evaluation metric used with the objective 'multi:softprob' was changed from 'merror' to 'mlogloss'. Explicitly set eval_metric if you'd like to restore the old behavior.\n",
      "[00:04:06] WARNING: C:/Users/Administrator/workspace/xgboost-win64_release_1.5.1/src/learner.cc:1115: Starting in XGBoost 1.3.0, the default evaluation metric used with the objective 'multi:softprob' was changed from 'merror' to 'mlogloss'. Explicitly set eval_metric if you'd like to restore the old behavior.\n",
      "[00:04:36] WARNING: C:/Users/Administrator/workspace/xgboost-win64_release_1.5.1/src/learner.cc:1115: Starting in XGBoost 1.3.0, the default evaluation metric used with the objective 'multi:softprob' was changed from 'merror' to 'mlogloss'. Explicitly set eval_metric if you'd like to restore the old behavior.\n",
      "[00:05:09] WARNING: C:/Users/Administrator/workspace/xgboost-win64_release_1.5.1/src/learner.cc:1115: Starting in XGBoost 1.3.0, the default evaluation metric used with the objective 'multi:softprob' was changed from 'merror' to 'mlogloss'. Explicitly set eval_metric if you'd like to restore the old behavior.\n",
      "[00:05:38] WARNING: C:/Users/Administrator/workspace/xgboost-win64_release_1.5.1/src/learner.cc:1115: Starting in XGBoost 1.3.0, the default evaluation metric used with the objective 'multi:softprob' was changed from 'merror' to 'mlogloss'. Explicitly set eval_metric if you'd like to restore the old behavior.\n",
      "[00:06:33] WARNING: C:/Users/Administrator/workspace/xgboost-win64_release_1.5.1/src/learner.cc:1115: Starting in XGBoost 1.3.0, the default evaluation metric used with the objective 'multi:softprob' was changed from 'merror' to 'mlogloss'. Explicitly set eval_metric if you'd like to restore the old behavior.\n",
      "[00:07:28] WARNING: C:/Users/Administrator/workspace/xgboost-win64_release_1.5.1/src/learner.cc:1115: Starting in XGBoost 1.3.0, the default evaluation metric used with the objective 'multi:softprob' was changed from 'merror' to 'mlogloss'. Explicitly set eval_metric if you'd like to restore the old behavior.\n",
      "[00:08:23] WARNING: C:/Users/Administrator/workspace/xgboost-win64_release_1.5.1/src/learner.cc:1115: Starting in XGBoost 1.3.0, the default evaluation metric used with the objective 'multi:softprob' was changed from 'merror' to 'mlogloss'. Explicitly set eval_metric if you'd like to restore the old behavior.\n",
      "[00:09:18] WARNING: C:/Users/Administrator/workspace/xgboost-win64_release_1.5.1/src/learner.cc:1115: Starting in XGBoost 1.3.0, the default evaluation metric used with the objective 'multi:softprob' was changed from 'merror' to 'mlogloss'. Explicitly set eval_metric if you'd like to restore the old behavior.\n",
      "[00:10:13] WARNING: C:/Users/Administrator/workspace/xgboost-win64_release_1.5.1/src/learner.cc:1115: Starting in XGBoost 1.3.0, the default evaluation metric used with the objective 'multi:softprob' was changed from 'merror' to 'mlogloss'. Explicitly set eval_metric if you'd like to restore the old behavior.\n",
      "[00:10:24] WARNING: C:/Users/Administrator/workspace/xgboost-win64_release_1.5.1/src/learner.cc:1115: Starting in XGBoost 1.3.0, the default evaluation metric used with the objective 'multi:softprob' was changed from 'merror' to 'mlogloss'. Explicitly set eval_metric if you'd like to restore the old behavior.\n",
      "[00:10:35] WARNING: C:/Users/Administrator/workspace/xgboost-win64_release_1.5.1/src/learner.cc:1115: Starting in XGBoost 1.3.0, the default evaluation metric used with the objective 'multi:softprob' was changed from 'merror' to 'mlogloss'. Explicitly set eval_metric if you'd like to restore the old behavior.\n",
      "[00:10:45] WARNING: C:/Users/Administrator/workspace/xgboost-win64_release_1.5.1/src/learner.cc:1115: Starting in XGBoost 1.3.0, the default evaluation metric used with the objective 'multi:softprob' was changed from 'merror' to 'mlogloss'. Explicitly set eval_metric if you'd like to restore the old behavior.\n",
      "[00:10:56] WARNING: C:/Users/Administrator/workspace/xgboost-win64_release_1.5.1/src/learner.cc:1115: Starting in XGBoost 1.3.0, the default evaluation metric used with the objective 'multi:softprob' was changed from 'merror' to 'mlogloss'. Explicitly set eval_metric if you'd like to restore the old behavior.\n",
      "[00:11:07] WARNING: C:/Users/Administrator/workspace/xgboost-win64_release_1.5.1/src/learner.cc:1115: Starting in XGBoost 1.3.0, the default evaluation metric used with the objective 'multi:softprob' was changed from 'merror' to 'mlogloss'. Explicitly set eval_metric if you'd like to restore the old behavior.\n",
      "[00:11:44] WARNING: C:/Users/Administrator/workspace/xgboost-win64_release_1.5.1/src/learner.cc:1115: Starting in XGBoost 1.3.0, the default evaluation metric used with the objective 'multi:softprob' was changed from 'merror' to 'mlogloss'. Explicitly set eval_metric if you'd like to restore the old behavior.\n",
      "[00:12:22] WARNING: C:/Users/Administrator/workspace/xgboost-win64_release_1.5.1/src/learner.cc:1115: Starting in XGBoost 1.3.0, the default evaluation metric used with the objective 'multi:softprob' was changed from 'merror' to 'mlogloss'. Explicitly set eval_metric if you'd like to restore the old behavior.\n",
      "[00:12:59] WARNING: C:/Users/Administrator/workspace/xgboost-win64_release_1.5.1/src/learner.cc:1115: Starting in XGBoost 1.3.0, the default evaluation metric used with the objective 'multi:softprob' was changed from 'merror' to 'mlogloss'. Explicitly set eval_metric if you'd like to restore the old behavior.\n",
      "[00:13:37] WARNING: C:/Users/Administrator/workspace/xgboost-win64_release_1.5.1/src/learner.cc:1115: Starting in XGBoost 1.3.0, the default evaluation metric used with the objective 'multi:softprob' was changed from 'merror' to 'mlogloss'. Explicitly set eval_metric if you'd like to restore the old behavior.\n",
      "[00:14:14] WARNING: C:/Users/Administrator/workspace/xgboost-win64_release_1.5.1/src/learner.cc:1115: Starting in XGBoost 1.3.0, the default evaluation metric used with the objective 'multi:softprob' was changed from 'merror' to 'mlogloss'. Explicitly set eval_metric if you'd like to restore the old behavior.\n",
      "[00:15:09] WARNING: C:/Users/Administrator/workspace/xgboost-win64_release_1.5.1/src/learner.cc:1115: Starting in XGBoost 1.3.0, the default evaluation metric used with the objective 'multi:softprob' was changed from 'merror' to 'mlogloss'. Explicitly set eval_metric if you'd like to restore the old behavior.\n"
     ]
    },
    {
     "name": "stdout",
     "output_type": "stream",
     "text": [
      "[00:16:10] WARNING: C:/Users/Administrator/workspace/xgboost-win64_release_1.5.1/src/learner.cc:1115: Starting in XGBoost 1.3.0, the default evaluation metric used with the objective 'multi:softprob' was changed from 'merror' to 'mlogloss'. Explicitly set eval_metric if you'd like to restore the old behavior.\n",
      "[00:17:05] WARNING: C:/Users/Administrator/workspace/xgboost-win64_release_1.5.1/src/learner.cc:1115: Starting in XGBoost 1.3.0, the default evaluation metric used with the objective 'multi:softprob' was changed from 'merror' to 'mlogloss'. Explicitly set eval_metric if you'd like to restore the old behavior.\n",
      "[00:18:01] WARNING: C:/Users/Administrator/workspace/xgboost-win64_release_1.5.1/src/learner.cc:1115: Starting in XGBoost 1.3.0, the default evaluation metric used with the objective 'multi:softprob' was changed from 'merror' to 'mlogloss'. Explicitly set eval_metric if you'd like to restore the old behavior.\n",
      "[00:18:56] WARNING: C:/Users/Administrator/workspace/xgboost-win64_release_1.5.1/src/learner.cc:576: \n",
      "Parameters: { \"min_samples_split\" } might not be used.\n",
      "\n",
      "  This could be a false alarm, with some parameters getting used by language bindings but\n",
      "  then being mistakenly passed down to XGBoost core, or some parameter actually being used\n",
      "  but getting flagged wrongly here. Please open an issue if you find any such cases.\n",
      "\n",
      "\n",
      "[00:18:57] WARNING: C:/Users/Administrator/workspace/xgboost-win64_release_1.5.1/src/learner.cc:1115: Starting in XGBoost 1.3.0, the default evaluation metric used with the objective 'multi:softprob' was changed from 'merror' to 'mlogloss'. Explicitly set eval_metric if you'd like to restore the old behavior.\n",
      "[00:19:51] WARNING: C:/Users/Administrator/workspace/xgboost-win64_release_1.5.1/src/learner.cc:576: \n",
      "Parameters: { \"min_samples_split\" } might not be used.\n",
      "\n",
      "  This could be a false alarm, with some parameters getting used by language bindings but\n",
      "  then being mistakenly passed down to XGBoost core, or some parameter actually being used\n",
      "  but getting flagged wrongly here. Please open an issue if you find any such cases.\n",
      "\n",
      "\n",
      "[00:19:52] WARNING: C:/Users/Administrator/workspace/xgboost-win64_release_1.5.1/src/learner.cc:1115: Starting in XGBoost 1.3.0, the default evaluation metric used with the objective 'multi:softprob' was changed from 'merror' to 'mlogloss'. Explicitly set eval_metric if you'd like to restore the old behavior.\n",
      "[00:20:46] WARNING: C:/Users/Administrator/workspace/xgboost-win64_release_1.5.1/src/learner.cc:576: \n",
      "Parameters: { \"min_samples_split\" } might not be used.\n",
      "\n",
      "  This could be a false alarm, with some parameters getting used by language bindings but\n",
      "  then being mistakenly passed down to XGBoost core, or some parameter actually being used\n",
      "  but getting flagged wrongly here. Please open an issue if you find any such cases.\n",
      "\n",
      "\n",
      "[00:20:47] WARNING: C:/Users/Administrator/workspace/xgboost-win64_release_1.5.1/src/learner.cc:1115: Starting in XGBoost 1.3.0, the default evaluation metric used with the objective 'multi:softprob' was changed from 'merror' to 'mlogloss'. Explicitly set eval_metric if you'd like to restore the old behavior.\n",
      "[00:21:40] WARNING: C:/Users/Administrator/workspace/xgboost-win64_release_1.5.1/src/learner.cc:576: \n",
      "Parameters: { \"min_samples_split\" } might not be used.\n",
      "\n",
      "  This could be a false alarm, with some parameters getting used by language bindings but\n",
      "  then being mistakenly passed down to XGBoost core, or some parameter actually being used\n",
      "  but getting flagged wrongly here. Please open an issue if you find any such cases.\n",
      "\n",
      "\n",
      "[00:21:41] WARNING: C:/Users/Administrator/workspace/xgboost-win64_release_1.5.1/src/learner.cc:1115: Starting in XGBoost 1.3.0, the default evaluation metric used with the objective 'multi:softprob' was changed from 'merror' to 'mlogloss'. Explicitly set eval_metric if you'd like to restore the old behavior.\n",
      "[00:22:35] WARNING: C:/Users/Administrator/workspace/xgboost-win64_release_1.5.1/src/learner.cc:576: \n",
      "Parameters: { \"min_samples_split\" } might not be used.\n",
      "\n",
      "  This could be a false alarm, with some parameters getting used by language bindings but\n",
      "  then being mistakenly passed down to XGBoost core, or some parameter actually being used\n",
      "  but getting flagged wrongly here. Please open an issue if you find any such cases.\n",
      "\n",
      "\n",
      "[00:22:36] WARNING: C:/Users/Administrator/workspace/xgboost-win64_release_1.5.1/src/learner.cc:1115: Starting in XGBoost 1.3.0, the default evaluation metric used with the objective 'multi:softprob' was changed from 'merror' to 'mlogloss'. Explicitly set eval_metric if you'd like to restore the old behavior.\n",
      "[00:23:30] WARNING: C:/Users/Administrator/workspace/xgboost-win64_release_1.5.1/src/learner.cc:576: \n",
      "Parameters: { \"min_samples_split\" } might not be used.\n",
      "\n",
      "  This could be a false alarm, with some parameters getting used by language bindings but\n",
      "  then being mistakenly passed down to XGBoost core, or some parameter actually being used\n",
      "  but getting flagged wrongly here. Please open an issue if you find any such cases.\n",
      "\n",
      "\n",
      "[00:23:31] WARNING: C:/Users/Administrator/workspace/xgboost-win64_release_1.5.1/src/learner.cc:1115: Starting in XGBoost 1.3.0, the default evaluation metric used with the objective 'multi:softprob' was changed from 'merror' to 'mlogloss'. Explicitly set eval_metric if you'd like to restore the old behavior.\n",
      "[00:24:25] WARNING: C:/Users/Administrator/workspace/xgboost-win64_release_1.5.1/src/learner.cc:576: \n",
      "Parameters: { \"min_samples_split\" } might not be used.\n",
      "\n",
      "  This could be a false alarm, with some parameters getting used by language bindings but\n",
      "  then being mistakenly passed down to XGBoost core, or some parameter actually being used\n",
      "  but getting flagged wrongly here. Please open an issue if you find any such cases.\n",
      "\n",
      "\n",
      "[00:24:26] WARNING: C:/Users/Administrator/workspace/xgboost-win64_release_1.5.1/src/learner.cc:1115: Starting in XGBoost 1.3.0, the default evaluation metric used with the objective 'multi:softprob' was changed from 'merror' to 'mlogloss'. Explicitly set eval_metric if you'd like to restore the old behavior.\n",
      "[00:25:21] WARNING: C:/Users/Administrator/workspace/xgboost-win64_release_1.5.1/src/learner.cc:576: \n",
      "Parameters: { \"min_samples_split\" } might not be used.\n",
      "\n",
      "  This could be a false alarm, with some parameters getting used by language bindings but\n",
      "  then being mistakenly passed down to XGBoost core, or some parameter actually being used\n",
      "  but getting flagged wrongly here. Please open an issue if you find any such cases.\n",
      "\n",
      "\n",
      "[00:25:22] WARNING: C:/Users/Administrator/workspace/xgboost-win64_release_1.5.1/src/learner.cc:1115: Starting in XGBoost 1.3.0, the default evaluation metric used with the objective 'multi:softprob' was changed from 'merror' to 'mlogloss'. Explicitly set eval_metric if you'd like to restore the old behavior.\n",
      "[00:26:15] WARNING: C:/Users/Administrator/workspace/xgboost-win64_release_1.5.1/src/learner.cc:576: \n",
      "Parameters: { \"min_samples_split\" } might not be used.\n",
      "\n",
      "  This could be a false alarm, with some parameters getting used by language bindings but\n",
      "  then being mistakenly passed down to XGBoost core, or some parameter actually being used\n",
      "  but getting flagged wrongly here. Please open an issue if you find any such cases.\n",
      "\n",
      "\n",
      "[00:26:16] WARNING: C:/Users/Administrator/workspace/xgboost-win64_release_1.5.1/src/learner.cc:1115: Starting in XGBoost 1.3.0, the default evaluation metric used with the objective 'multi:softprob' was changed from 'merror' to 'mlogloss'. Explicitly set eval_metric if you'd like to restore the old behavior.\n",
      "[00:27:10] WARNING: C:/Users/Administrator/workspace/xgboost-win64_release_1.5.1/src/learner.cc:576: \n",
      "Parameters: { \"min_samples_split\" } might not be used.\n",
      "\n",
      "  This could be a false alarm, with some parameters getting used by language bindings but\n",
      "  then being mistakenly passed down to XGBoost core, or some parameter actually being used\n",
      "  but getting flagged wrongly here. Please open an issue if you find any such cases.\n",
      "\n",
      "\n",
      "[00:27:10] WARNING: C:/Users/Administrator/workspace/xgboost-win64_release_1.5.1/src/learner.cc:1115: Starting in XGBoost 1.3.0, the default evaluation metric used with the objective 'multi:softprob' was changed from 'merror' to 'mlogloss'. Explicitly set eval_metric if you'd like to restore the old behavior.\n"
     ]
    },
    {
     "name": "stdout",
     "output_type": "stream",
     "text": [
      "[00:28:06] WARNING: C:/Users/Administrator/workspace/xgboost-win64_release_1.5.1/src/learner.cc:1115: Starting in XGBoost 1.3.0, the default evaluation metric used with the objective 'multi:softprob' was changed from 'merror' to 'mlogloss'. Explicitly set eval_metric if you'd like to restore the old behavior.\n"
     ]
    },
    {
     "data": {
      "text/plain": [
       "GridSearchCV(cv=KFold(n_splits=5, random_state=1, shuffle=True),\n",
       "             estimator=XGBClassifier(base_score=None, booster=None,\n",
       "                                     colsample_bylevel=None,\n",
       "                                     colsample_bynode=None,\n",
       "                                     colsample_bytree=None,\n",
       "                                     enable_categorical=False, gamma=None,\n",
       "                                     gpu_id=None, importance_type=None,\n",
       "                                     interaction_constraints=None,\n",
       "                                     learning_rate=None, max_delta_step=None,\n",
       "                                     max_depth=None, min_child_weight...\n",
       "                                     missing=nan, monotone_constraints=None,\n",
       "                                     n_estimators=100, n_jobs=None,\n",
       "                                     num_parallel_tree=None, predictor=None,\n",
       "                                     random_state=None, reg_alpha=None,\n",
       "                                     reg_lambda=None, scale_pos_weight=None,\n",
       "                                     subsample=None, tree_method=None,\n",
       "                                     validate_parameters=None, verbosity=None),\n",
       "             param_grid=[{'n_estimators': [10, 50, 100]},\n",
       "                         {'max_depth': [1, 4, 6]},\n",
       "                         {'min_samples_split': [2, 4]}],\n",
       "             verbose=1)"
      ]
     },
     "execution_count": 229,
     "metadata": {},
     "output_type": "execute_result"
    }
   ],
   "source": [
    "xgb_grid_bow=GridSearchCV(estimator=xg_boost_model, param_grid=params,cv=cv,verbose=1)\n",
    "xgb_grid_bow.fit(X_train_bow, y_train)"
   ]
  },
  {
   "cell_type": "markdown",
   "metadata": {},
   "source": [
    "#### saving the model"
   ]
  },
  {
   "cell_type": "code",
   "execution_count": 236,
   "metadata": {},
   "outputs": [],
   "source": [
    "import pickle"
   ]
  },
  {
   "cell_type": "code",
   "execution_count": 237,
   "metadata": {},
   "outputs": [],
   "source": [
    "pickle.dump(xgb_grid_bow,open(\"xgb_grid_bow.sav\",\"wb\"))"
   ]
  },
  {
   "cell_type": "code",
   "execution_count": 230,
   "metadata": {},
   "outputs": [],
   "source": [
    "y_pred_train_XGB=xgb_grid_bow.predict_proba(X_train_bow)"
   ]
  },
  {
   "cell_type": "code",
   "execution_count": 231,
   "metadata": {},
   "outputs": [],
   "source": [
    "y_pred_train_XGB2=xgb_grid_bow.predict(X_train_bow)"
   ]
  },
  {
   "cell_type": "markdown",
   "metadata": {},
   "source": [
    "#### scoring the prediction using mutiple metrics"
   ]
  },
  {
   "cell_type": "code",
   "execution_count": 232,
   "metadata": {},
   "outputs": [
    {
     "data": {
      "text/plain": [
       "0.2063185496522016"
      ]
     },
     "execution_count": 232,
     "metadata": {},
     "output_type": "execute_result"
    }
   ],
   "source": [
    "log_loss(y_train,y_pred_train_XGB)"
   ]
  },
  {
   "cell_type": "code",
   "execution_count": 233,
   "metadata": {},
   "outputs": [
    {
     "name": "stdout",
     "output_type": "stream",
     "text": [
      "              precision    recall  f1-score   support\n",
      "\n",
      "     class 1       0.85      0.88      0.86       396\n",
      "     class 2       0.96      0.91      0.94       317\n",
      "     class 3       0.61      0.69      0.65        62\n",
      "     class 4       0.92      0.92      0.92       480\n",
      "     class 5       0.80      0.67      0.73       170\n",
      "     class 6       0.91      0.93      0.92       191\n",
      "     class 7       0.93      0.96      0.95       666\n",
      "     class 8       1.00      0.92      0.96        13\n",
      "     class 9       1.00      0.92      0.96        26\n",
      "\n",
      "    accuracy                           0.90      2321\n",
      "   macro avg       0.89      0.87      0.88      2321\n",
      "weighted avg       0.90      0.90      0.90      2321\n",
      "\n"
     ]
    }
   ],
   "source": [
    "print(classification_report(y_train, y_pred_train_XGB2, target_names=target_names))"
   ]
  },
  {
   "cell_type": "code",
   "execution_count": 234,
   "metadata": {},
   "outputs": [
    {
     "data": {
      "text/plain": [
       "<sklearn.metrics._plot.confusion_matrix.ConfusionMatrixDisplay at 0x21b5fb98488>"
      ]
     },
     "execution_count": 234,
     "metadata": {},
     "output_type": "execute_result"
    },
    {
     "data": {
      "image/png": "[encoded data removed]",
      "text/plain": [
       "<Figure size 648x360 with 2 Axes>"
      ]
     },
     "metadata": {
      "needs_background": "light"
     },
     "output_type": "display_data"
    }
   ],
   "source": [
    "plot_confusion_matrix(xgb_grid_bow, X_train_bow, y_train)"
   ]
  },
  {
   "cell_type": "markdown",
   "metadata": {},
   "source": [
    "### The XGBoost model has performed well with the bag of words transformation, with a low log loss score and high F1 scores"
   ]
  },
  {
   "cell_type": "markdown",
   "metadata": {},
   "source": [
    " #### fitting the TFIDF model"
   ]
  },
  {
   "cell_type": "code",
   "execution_count": 235,
   "metadata": {},
   "outputs": [
    {
     "name": "stdout",
     "output_type": "stream",
     "text": [
      "Fitting 5 folds for each of 8 candidates, totalling 40 fits\n",
      "[01:05:05] WARNING: C:/Users/Administrator/workspace/xgboost-win64_release_1.5.1/src/learner.cc:1115: Starting in XGBoost 1.3.0, the default evaluation metric used with the objective 'multi:softprob' was changed from 'merror' to 'mlogloss'. Explicitly set eval_metric if you'd like to restore the old behavior.\n",
      "[01:05:19] WARNING: C:/Users/Administrator/workspace/xgboost-win64_release_1.5.1/src/learner.cc:1115: Starting in XGBoost 1.3.0, the default evaluation metric used with the objective 'multi:softprob' was changed from 'merror' to 'mlogloss'. Explicitly set eval_metric if you'd like to restore the old behavior.\n",
      "[01:05:33] WARNING: C:/Users/Administrator/workspace/xgboost-win64_release_1.5.1/src/learner.cc:1115: Starting in XGBoost 1.3.0, the default evaluation metric used with the objective 'multi:softprob' was changed from 'merror' to 'mlogloss'. Explicitly set eval_metric if you'd like to restore the old behavior.\n",
      "[01:05:46] WARNING: C:/Users/Administrator/workspace/xgboost-win64_release_1.5.1/src/learner.cc:1115: Starting in XGBoost 1.3.0, the default evaluation metric used with the objective 'multi:softprob' was changed from 'merror' to 'mlogloss'. Explicitly set eval_metric if you'd like to restore the old behavior.\n",
      "[01:05:59] WARNING: C:/Users/Administrator/workspace/xgboost-win64_release_1.5.1/src/learner.cc:1115: Starting in XGBoost 1.3.0, the default evaluation metric used with the objective 'multi:softprob' was changed from 'merror' to 'mlogloss'. Explicitly set eval_metric if you'd like to restore the old behavior.\n",
      "[01:06:13] WARNING: C:/Users/Administrator/workspace/xgboost-win64_release_1.5.1/src/learner.cc:1115: Starting in XGBoost 1.3.0, the default evaluation metric used with the objective 'multi:softprob' was changed from 'merror' to 'mlogloss'. Explicitly set eval_metric if you'd like to restore the old behavior.\n",
      "[01:07:12] WARNING: C:/Users/Administrator/workspace/xgboost-win64_release_1.5.1/src/learner.cc:1115: Starting in XGBoost 1.3.0, the default evaluation metric used with the objective 'multi:softprob' was changed from 'merror' to 'mlogloss'. Explicitly set eval_metric if you'd like to restore the old behavior.\n",
      "[01:08:11] WARNING: C:/Users/Administrator/workspace/xgboost-win64_release_1.5.1/src/learner.cc:1115: Starting in XGBoost 1.3.0, the default evaluation metric used with the objective 'multi:softprob' was changed from 'merror' to 'mlogloss'. Explicitly set eval_metric if you'd like to restore the old behavior.\n",
      "[01:09:09] WARNING: C:/Users/Administrator/workspace/xgboost-win64_release_1.5.1/src/learner.cc:1115: Starting in XGBoost 1.3.0, the default evaluation metric used with the objective 'multi:softprob' was changed from 'merror' to 'mlogloss'. Explicitly set eval_metric if you'd like to restore the old behavior.\n",
      "[01:10:07] WARNING: C:/Users/Administrator/workspace/xgboost-win64_release_1.5.1/src/learner.cc:1115: Starting in XGBoost 1.3.0, the default evaluation metric used with the objective 'multi:softprob' was changed from 'merror' to 'mlogloss'. Explicitly set eval_metric if you'd like to restore the old behavior.\n",
      "[01:11:11] WARNING: C:/Users/Administrator/workspace/xgboost-win64_release_1.5.1/src/learner.cc:1115: Starting in XGBoost 1.3.0, the default evaluation metric used with the objective 'multi:softprob' was changed from 'merror' to 'mlogloss'. Explicitly set eval_metric if you'd like to restore the old behavior.\n",
      "[01:13:05] WARNING: C:/Users/Administrator/workspace/xgboost-win64_release_1.5.1/src/learner.cc:1115: Starting in XGBoost 1.3.0, the default evaluation metric used with the objective 'multi:softprob' was changed from 'merror' to 'mlogloss'. Explicitly set eval_metric if you'd like to restore the old behavior.\n",
      "[01:15:14] WARNING: C:/Users/Administrator/workspace/xgboost-win64_release_1.5.1/src/learner.cc:1115: Starting in XGBoost 1.3.0, the default evaluation metric used with the objective 'multi:softprob' was changed from 'merror' to 'mlogloss'. Explicitly set eval_metric if you'd like to restore the old behavior.\n",
      "[01:17:07] WARNING: C:/Users/Administrator/workspace/xgboost-win64_release_1.5.1/src/learner.cc:1115: Starting in XGBoost 1.3.0, the default evaluation metric used with the objective 'multi:softprob' was changed from 'merror' to 'mlogloss'. Explicitly set eval_metric if you'd like to restore the old behavior.\n",
      "[01:19:00] WARNING: C:/Users/Administrator/workspace/xgboost-win64_release_1.5.1/src/learner.cc:1115: Starting in XGBoost 1.3.0, the default evaluation metric used with the objective 'multi:softprob' was changed from 'merror' to 'mlogloss'. Explicitly set eval_metric if you'd like to restore the old behavior.\n",
      "[01:20:48] WARNING: C:/Users/Administrator/workspace/xgboost-win64_release_1.5.1/src/learner.cc:1115: Starting in XGBoost 1.3.0, the default evaluation metric used with the objective 'multi:softprob' was changed from 'merror' to 'mlogloss'. Explicitly set eval_metric if you'd like to restore the old behavior.\n",
      "[01:21:12] WARNING: C:/Users/Administrator/workspace/xgboost-win64_release_1.5.1/src/learner.cc:1115: Starting in XGBoost 1.3.0, the default evaluation metric used with the objective 'multi:softprob' was changed from 'merror' to 'mlogloss'. Explicitly set eval_metric if you'd like to restore the old behavior.\n",
      "[01:21:37] WARNING: C:/Users/Administrator/workspace/xgboost-win64_release_1.5.1/src/learner.cc:1115: Starting in XGBoost 1.3.0, the default evaluation metric used with the objective 'multi:softprob' was changed from 'merror' to 'mlogloss'. Explicitly set eval_metric if you'd like to restore the old behavior.\n",
      "[01:22:00] WARNING: C:/Users/Administrator/workspace/xgboost-win64_release_1.5.1/src/learner.cc:1115: Starting in XGBoost 1.3.0, the default evaluation metric used with the objective 'multi:softprob' was changed from 'merror' to 'mlogloss'. Explicitly set eval_metric if you'd like to restore the old behavior.\n",
      "[01:22:25] WARNING: C:/Users/Administrator/workspace/xgboost-win64_release_1.5.1/src/learner.cc:1115: Starting in XGBoost 1.3.0, the default evaluation metric used with the objective 'multi:softprob' was changed from 'merror' to 'mlogloss'. Explicitly set eval_metric if you'd like to restore the old behavior.\n",
      "[01:22:51] WARNING: C:/Users/Administrator/workspace/xgboost-win64_release_1.5.1/src/learner.cc:1115: Starting in XGBoost 1.3.0, the default evaluation metric used with the objective 'multi:softprob' was changed from 'merror' to 'mlogloss'. Explicitly set eval_metric if you'd like to restore the old behavior.\n",
      "[01:24:35] WARNING: C:/Users/Administrator/workspace/xgboost-win64_release_1.5.1/src/learner.cc:1115: Starting in XGBoost 1.3.0, the default evaluation metric used with the objective 'multi:softprob' was changed from 'merror' to 'mlogloss'. Explicitly set eval_metric if you'd like to restore the old behavior.\n",
      "[01:25:57] WARNING: C:/Users/Administrator/workspace/xgboost-win64_release_1.5.1/src/learner.cc:1115: Starting in XGBoost 1.3.0, the default evaluation metric used with the objective 'multi:softprob' was changed from 'merror' to 'mlogloss'. Explicitly set eval_metric if you'd like to restore the old behavior.\n",
      "[01:27:24] WARNING: C:/Users/Administrator/workspace/xgboost-win64_release_1.5.1/src/learner.cc:1115: Starting in XGBoost 1.3.0, the default evaluation metric used with the objective 'multi:softprob' was changed from 'merror' to 'mlogloss'. Explicitly set eval_metric if you'd like to restore the old behavior.\n",
      "[01:28:50] WARNING: C:/Users/Administrator/workspace/xgboost-win64_release_1.5.1/src/learner.cc:1115: Starting in XGBoost 1.3.0, the default evaluation metric used with the objective 'multi:softprob' was changed from 'merror' to 'mlogloss'. Explicitly set eval_metric if you'd like to restore the old behavior.\n",
      "[01:30:11] WARNING: C:/Users/Administrator/workspace/xgboost-win64_release_1.5.1/src/learner.cc:1115: Starting in XGBoost 1.3.0, the default evaluation metric used with the objective 'multi:softprob' was changed from 'merror' to 'mlogloss'. Explicitly set eval_metric if you'd like to restore the old behavior.\n",
      "[01:32:05] WARNING: C:/Users/Administrator/workspace/xgboost-win64_release_1.5.1/src/learner.cc:1115: Starting in XGBoost 1.3.0, the default evaluation metric used with the objective 'multi:softprob' was changed from 'merror' to 'mlogloss'. Explicitly set eval_metric if you'd like to restore the old behavior.\n"
     ]
    },
    {
     "name": "stdout",
     "output_type": "stream",
     "text": [
      "[01:33:54] WARNING: C:/Users/Administrator/workspace/xgboost-win64_release_1.5.1/src/learner.cc:1115: Starting in XGBoost 1.3.0, the default evaluation metric used with the objective 'multi:softprob' was changed from 'merror' to 'mlogloss'. Explicitly set eval_metric if you'd like to restore the old behavior.\n",
      "[01:35:47] WARNING: C:/Users/Administrator/workspace/xgboost-win64_release_1.5.1/src/learner.cc:1115: Starting in XGBoost 1.3.0, the default evaluation metric used with the objective 'multi:softprob' was changed from 'merror' to 'mlogloss'. Explicitly set eval_metric if you'd like to restore the old behavior.\n",
      "[01:37:41] WARNING: C:/Users/Administrator/workspace/xgboost-win64_release_1.5.1/src/learner.cc:1115: Starting in XGBoost 1.3.0, the default evaluation metric used with the objective 'multi:softprob' was changed from 'merror' to 'mlogloss'. Explicitly set eval_metric if you'd like to restore the old behavior.\n",
      "[01:39:29] WARNING: C:/Users/Administrator/workspace/xgboost-win64_release_1.5.1/src/learner.cc:576: \n",
      "Parameters: { \"min_samples_split\" } might not be used.\n",
      "\n",
      "  This could be a false alarm, with some parameters getting used by language bindings but\n",
      "  then being mistakenly passed down to XGBoost core, or some parameter actually being used\n",
      "  but getting flagged wrongly here. Please open an issue if you find any such cases.\n",
      "\n",
      "\n",
      "[01:39:30] WARNING: C:/Users/Administrator/workspace/xgboost-win64_release_1.5.1/src/learner.cc:1115: Starting in XGBoost 1.3.0, the default evaluation metric used with the objective 'multi:softprob' was changed from 'merror' to 'mlogloss'. Explicitly set eval_metric if you'd like to restore the old behavior.\n",
      "[01:41:15] WARNING: C:/Users/Administrator/workspace/xgboost-win64_release_1.5.1/src/learner.cc:576: \n",
      "Parameters: { \"min_samples_split\" } might not be used.\n",
      "\n",
      "  This could be a false alarm, with some parameters getting used by language bindings but\n",
      "  then being mistakenly passed down to XGBoost core, or some parameter actually being used\n",
      "  but getting flagged wrongly here. Please open an issue if you find any such cases.\n",
      "\n",
      "\n",
      "[01:41:17] WARNING: C:/Users/Administrator/workspace/xgboost-win64_release_1.5.1/src/learner.cc:1115: Starting in XGBoost 1.3.0, the default evaluation metric used with the objective 'multi:softprob' was changed from 'merror' to 'mlogloss'. Explicitly set eval_metric if you'd like to restore the old behavior.\n",
      "[01:43:03] WARNING: C:/Users/Administrator/workspace/xgboost-win64_release_1.5.1/src/learner.cc:576: \n",
      "Parameters: { \"min_samples_split\" } might not be used.\n",
      "\n",
      "  This could be a false alarm, with some parameters getting used by language bindings but\n",
      "  then being mistakenly passed down to XGBoost core, or some parameter actually being used\n",
      "  but getting flagged wrongly here. Please open an issue if you find any such cases.\n",
      "\n",
      "\n",
      "[01:43:04] WARNING: C:/Users/Administrator/workspace/xgboost-win64_release_1.5.1/src/learner.cc:1115: Starting in XGBoost 1.3.0, the default evaluation metric used with the objective 'multi:softprob' was changed from 'merror' to 'mlogloss'. Explicitly set eval_metric if you'd like to restore the old behavior.\n",
      "[01:44:50] WARNING: C:/Users/Administrator/workspace/xgboost-win64_release_1.5.1/src/learner.cc:576: \n",
      "Parameters: { \"min_samples_split\" } might not be used.\n",
      "\n",
      "  This could be a false alarm, with some parameters getting used by language bindings but\n",
      "  then being mistakenly passed down to XGBoost core, or some parameter actually being used\n",
      "  but getting flagged wrongly here. Please open an issue if you find any such cases.\n",
      "\n",
      "\n",
      "[01:44:52] WARNING: C:/Users/Administrator/workspace/xgboost-win64_release_1.5.1/src/learner.cc:1115: Starting in XGBoost 1.3.0, the default evaluation metric used with the objective 'multi:softprob' was changed from 'merror' to 'mlogloss'. Explicitly set eval_metric if you'd like to restore the old behavior.\n",
      "[01:46:47] WARNING: C:/Users/Administrator/workspace/xgboost-win64_release_1.5.1/src/learner.cc:576: \n",
      "Parameters: { \"min_samples_split\" } might not be used.\n",
      "\n",
      "  This could be a false alarm, with some parameters getting used by language bindings but\n",
      "  then being mistakenly passed down to XGBoost core, or some parameter actually being used\n",
      "  but getting flagged wrongly here. Please open an issue if you find any such cases.\n",
      "\n",
      "\n",
      "[01:46:49] WARNING: C:/Users/Administrator/workspace/xgboost-win64_release_1.5.1/src/learner.cc:1115: Starting in XGBoost 1.3.0, the default evaluation metric used with the objective 'multi:softprob' was changed from 'merror' to 'mlogloss'. Explicitly set eval_metric if you'd like to restore the old behavior.\n",
      "[01:48:34] WARNING: C:/Users/Administrator/workspace/xgboost-win64_release_1.5.1/src/learner.cc:576: \n",
      "Parameters: { \"min_samples_split\" } might not be used.\n",
      "\n",
      "  This could be a false alarm, with some parameters getting used by language bindings but\n",
      "  then being mistakenly passed down to XGBoost core, or some parameter actually being used\n",
      "  but getting flagged wrongly here. Please open an issue if you find any such cases.\n",
      "\n",
      "\n",
      "[01:48:35] WARNING: C:/Users/Administrator/workspace/xgboost-win64_release_1.5.1/src/learner.cc:1115: Starting in XGBoost 1.3.0, the default evaluation metric used with the objective 'multi:softprob' was changed from 'merror' to 'mlogloss'. Explicitly set eval_metric if you'd like to restore the old behavior.\n",
      "[01:50:23] WARNING: C:/Users/Administrator/workspace/xgboost-win64_release_1.5.1/src/learner.cc:576: \n",
      "Parameters: { \"min_samples_split\" } might not be used.\n",
      "\n",
      "  This could be a false alarm, with some parameters getting used by language bindings but\n",
      "  then being mistakenly passed down to XGBoost core, or some parameter actually being used\n",
      "  but getting flagged wrongly here. Please open an issue if you find any such cases.\n",
      "\n",
      "\n",
      "[01:50:25] WARNING: C:/Users/Administrator/workspace/xgboost-win64_release_1.5.1/src/learner.cc:1115: Starting in XGBoost 1.3.0, the default evaluation metric used with the objective 'multi:softprob' was changed from 'merror' to 'mlogloss'. Explicitly set eval_metric if you'd like to restore the old behavior.\n",
      "[01:52:10] WARNING: C:/Users/Administrator/workspace/xgboost-win64_release_1.5.1/src/learner.cc:576: \n",
      "Parameters: { \"min_samples_split\" } might not be used.\n",
      "\n",
      "  This could be a false alarm, with some parameters getting used by language bindings but\n",
      "  then being mistakenly passed down to XGBoost core, or some parameter actually being used\n",
      "  but getting flagged wrongly here. Please open an issue if you find any such cases.\n",
      "\n",
      "\n",
      "[01:52:12] WARNING: C:/Users/Administrator/workspace/xgboost-win64_release_1.5.1/src/learner.cc:1115: Starting in XGBoost 1.3.0, the default evaluation metric used with the objective 'multi:softprob' was changed from 'merror' to 'mlogloss'. Explicitly set eval_metric if you'd like to restore the old behavior.\n",
      "[01:53:59] WARNING: C:/Users/Administrator/workspace/xgboost-win64_release_1.5.1/src/learner.cc:576: \n",
      "Parameters: { \"min_samples_split\" } might not be used.\n",
      "\n",
      "  This could be a false alarm, with some parameters getting used by language bindings but\n",
      "  then being mistakenly passed down to XGBoost core, or some parameter actually being used\n",
      "  but getting flagged wrongly here. Please open an issue if you find any such cases.\n",
      "\n",
      "\n",
      "[01:54:01] WARNING: C:/Users/Administrator/workspace/xgboost-win64_release_1.5.1/src/learner.cc:1115: Starting in XGBoost 1.3.0, the default evaluation metric used with the objective 'multi:softprob' was changed from 'merror' to 'mlogloss'. Explicitly set eval_metric if you'd like to restore the old behavior.\n",
      "[01:55:49] WARNING: C:/Users/Administrator/workspace/xgboost-win64_release_1.5.1/src/learner.cc:576: \n",
      "Parameters: { \"min_samples_split\" } might not be used.\n",
      "\n",
      "  This could be a false alarm, with some parameters getting used by language bindings but\n",
      "  then being mistakenly passed down to XGBoost core, or some parameter actually being used\n",
      "  but getting flagged wrongly here. Please open an issue if you find any such cases.\n",
      "\n",
      "\n",
      "[01:55:50] WARNING: C:/Users/Administrator/workspace/xgboost-win64_release_1.5.1/src/learner.cc:1115: Starting in XGBoost 1.3.0, the default evaluation metric used with the objective 'multi:softprob' was changed from 'merror' to 'mlogloss'. Explicitly set eval_metric if you'd like to restore the old behavior.\n"
     ]
    },
    {
     "name": "stdout",
     "output_type": "stream",
     "text": [
      "[01:57:35] WARNING: C:/Users/Administrator/workspace/xgboost-win64_release_1.5.1/src/learner.cc:1115: Starting in XGBoost 1.3.0, the default evaluation metric used with the objective 'multi:softprob' was changed from 'merror' to 'mlogloss'. Explicitly set eval_metric if you'd like to restore the old behavior.\n"
     ]
    },
    {
     "data": {
      "text/plain": [
       "GridSearchCV(cv=KFold(n_splits=5, random_state=1, shuffle=True),\n",
       "             estimator=XGBClassifier(base_score=None, booster=None,\n",
       "                                     colsample_bylevel=None,\n",
       "                                     colsample_bynode=None,\n",
       "                                     colsample_bytree=None,\n",
       "                                     enable_categorical=False, gamma=None,\n",
       "                                     gpu_id=None, importance_type=None,\n",
       "                                     interaction_constraints=None,\n",
       "                                     learning_rate=None, max_delta_step=None,\n",
       "                                     max_depth=None, min_child_weight...\n",
       "                                     missing=nan, monotone_constraints=None,\n",
       "                                     n_estimators=100, n_jobs=None,\n",
       "                                     num_parallel_tree=None, predictor=None,\n",
       "                                     random_state=None, reg_alpha=None,\n",
       "                                     reg_lambda=None, scale_pos_weight=None,\n",
       "                                     subsample=None, tree_method=None,\n",
       "                                     validate_parameters=None, verbosity=None),\n",
       "             param_grid=[{'n_estimators': [10, 50, 100]},\n",
       "                         {'max_depth': [1, 4, 6]},\n",
       "                         {'min_samples_split': [2, 4]}],\n",
       "             verbose=1)"
      ]
     },
     "execution_count": 235,
     "metadata": {},
     "output_type": "execute_result"
    }
   ],
   "source": [
    "xgb_grid_tfidf=GridSearchCV(estimator=xg_boost_model, param_grid=params,cv=cv,verbose=1)\n",
    "xgb_grid_tfidf.fit(X_train_tfidf, y_train)"
   ]
  },
  {
   "cell_type": "markdown",
   "metadata": {},
   "source": [
    "#### saving the model"
   ]
  },
  {
   "cell_type": "code",
   "execution_count": 238,
   "metadata": {},
   "outputs": [],
   "source": [
    "pickle.dump(xgb_grid_tfidf,open(\"xgb_grid_tfidf.sav\",\"wb\"))"
   ]
  },
  {
   "cell_type": "code",
   "execution_count": 239,
   "metadata": {},
   "outputs": [],
   "source": [
    "y_pred_train_XGB_tfidf=xgb_grid_tfidf.predict_proba(X_train_tfidf)"
   ]
  },
  {
   "cell_type": "code",
   "execution_count": 240,
   "metadata": {},
   "outputs": [],
   "source": [
    "y_pred_train_XGB_tfidf2=xgb_grid_tfidf.predict(X_train_tfidf)"
   ]
  },
  {
   "cell_type": "markdown",
   "metadata": {},
   "source": [
    "#### scoring the prediction using multiple metrics"
   ]
  },
  {
   "cell_type": "code",
   "execution_count": 241,
   "metadata": {},
   "outputs": [
    {
     "data": {
      "text/plain": [
       "0.22186248091138572"
      ]
     },
     "execution_count": 241,
     "metadata": {},
     "output_type": "execute_result"
    }
   ],
   "source": [
    "log_loss(y_train,y_pred_train_XGB_tfidf)"
   ]
  },
  {
   "cell_type": "code",
   "execution_count": 242,
   "metadata": {},
   "outputs": [
    {
     "name": "stdout",
     "output_type": "stream",
     "text": [
      "              precision    recall  f1-score   support\n",
      "\n",
      "     class 1       0.86      0.87      0.86       396\n",
      "     class 2       0.96      0.91      0.94       317\n",
      "     class 3       0.60      0.74      0.66        62\n",
      "     class 4       0.91      0.92      0.92       480\n",
      "     class 5       0.77      0.69      0.73       170\n",
      "     class 6       0.91      0.93      0.92       191\n",
      "     class 7       0.94      0.95      0.94       666\n",
      "     class 8       0.93      1.00      0.96        13\n",
      "     class 9       1.00      0.92      0.96        26\n",
      "\n",
      "    accuracy                           0.90      2321\n",
      "   macro avg       0.88      0.88      0.88      2321\n",
      "weighted avg       0.90      0.90      0.90      2321\n",
      "\n"
     ]
    }
   ],
   "source": [
    "print(classification_report(y_train, y_pred_train_XGB_tfidf2, target_names=target_names))"
   ]
  },
  {
   "cell_type": "code",
   "execution_count": 243,
   "metadata": {},
   "outputs": [
    {
     "data": {
      "text/plain": [
       "<sklearn.metrics._plot.confusion_matrix.ConfusionMatrixDisplay at 0x21b4fcc3988>"
      ]
     },
     "execution_count": 243,
     "metadata": {},
     "output_type": "execute_result"
    },
    {
     "data": {
      "image/png": "[encoded data removed]",
      "text/plain": [
       "<Figure size 648x360 with 2 Axes>"
      ]
     },
     "metadata": {
      "needs_background": "light"
     },
     "output_type": "display_data"
    }
   ],
   "source": [
    "plot_confusion_matrix(xgb_grid_tfidf, X_train_tfidf, y_train)"
   ]
  },
  {
   "cell_type": "markdown",
   "metadata": {},
   "source": [
    "### <font color='blue'> XGBoost has performed well with the TFIDF transformed dataset, with a low log loss score and high F1 scores </font>"
   ]
  },
  {
   "cell_type": "markdown",
   "metadata": {},
   "source": [
    "### Validation dataset"
   ]
  },
  {
   "cell_type": "code",
   "execution_count": null,
   "metadata": {},
   "outputs": [],
   "source": []
  },
  {
   "cell_type": "code",
   "execution_count": 250,
   "metadata": {},
   "outputs": [],
   "source": [
    "validation_df_corpus = validation_df['cleaned_text'].tolist()"
   ]
  },
  {
   "cell_type": "markdown",
   "metadata": {},
   "source": [
    "##### Bag of words transformation"
   ]
  },
  {
   "cell_type": "code",
   "execution_count": 251,
   "metadata": {},
   "outputs": [],
   "source": [
    "validation_df_counts= bow_vectorizer.transform(validation_df_corpus)"
   ]
  },
  {
   "cell_type": "code",
   "execution_count": 252,
   "metadata": {},
   "outputs": [
    {
     "data": {
      "text/plain": [
       "(995, 1600)"
      ]
     },
     "execution_count": 252,
     "metadata": {},
     "output_type": "execute_result"
    }
   ],
   "source": [
    "validation_df_counts.shape"
   ]
  },
  {
   "cell_type": "code",
   "execution_count": 253,
   "metadata": {},
   "outputs": [],
   "source": [
    "X_validation_bow = validation_df_counts.todense()"
   ]
  },
  {
   "cell_type": "code",
   "execution_count": 254,
   "metadata": {},
   "outputs": [
    {
     "data": {
      "text/plain": [
       "(995, 1600)"
      ]
     },
     "execution_count": 254,
     "metadata": {},
     "output_type": "execute_result"
    }
   ],
   "source": [
    "X_validation_bow.shape"
   ]
  },
  {
   "cell_type": "code",
   "execution_count": 255,
   "metadata": {},
   "outputs": [
    {
     "data": {
      "text/plain": [
       "matrix([[0, 0, 0, ..., 0, 0, 0]], dtype=int64)"
      ]
     },
     "execution_count": 255,
     "metadata": {},
     "output_type": "execute_result"
    }
   ],
   "source": [
    "X_validation_bow[0]"
   ]
  },
  {
   "cell_type": "markdown",
   "metadata": {},
   "source": [
    "#### Logistic Regression Model"
   ]
  },
  {
   "cell_type": "code",
   "execution_count": 256,
   "metadata": {},
   "outputs": [],
   "source": [
    "y_pred_validation_bow = bow_model.predict_proba(X_validation_bow)"
   ]
  },
  {
   "cell_type": "code",
   "execution_count": 257,
   "metadata": {},
   "outputs": [],
   "source": [
    "y_pred_validation_bow2 = bow_model.predict(X_validation_bow)"
   ]
  },
  {
   "cell_type": "markdown",
   "metadata": {},
   "source": [
    "#### <font color='purple'>scoring the prediction using multiple scoring metrics</font>"
   ]
  },
  {
   "cell_type": "code",
   "execution_count": 258,
   "metadata": {},
   "outputs": [
    {
     "data": {
      "text/plain": [
       "{1, 2, 3, 4, 5, 6, 7, 8, 9}"
      ]
     },
     "execution_count": 258,
     "metadata": {},
     "output_type": "execute_result"
    }
   ],
   "source": [
    "set(y_validation.tolist())"
   ]
  },
  {
   "cell_type": "code",
   "execution_count": 259,
   "metadata": {},
   "outputs": [
    {
     "data": {
      "text/plain": [
       "3.1523235517938732"
      ]
     },
     "execution_count": 259,
     "metadata": {},
     "output_type": "execute_result"
    }
   ],
   "source": [
    "log_loss(y_validation,y_pred_validation_bow)"
   ]
  },
  {
   "cell_type": "code",
   "execution_count": 260,
   "metadata": {},
   "outputs": [
    {
     "name": "stdout",
     "output_type": "stream",
     "text": [
      "              precision    recall  f1-score   support\n",
      "\n",
      "     class 1       0.52      0.54      0.53       170\n",
      "     class 2       0.55      0.53      0.54       135\n",
      "     class 3       0.30      0.33      0.32        27\n",
      "     class 4       0.68      0.71      0.69       206\n",
      "     class 5       0.38      0.35      0.36        72\n",
      "     class 6       0.62      0.60      0.61        82\n",
      "     class 7       0.70      0.70      0.70       286\n",
      "     class 8       0.20      0.17      0.18         6\n",
      "     class 9       0.80      0.73      0.76        11\n",
      "\n",
      "    accuracy                           0.60       995\n",
      "   macro avg       0.53      0.52      0.52       995\n",
      "weighted avg       0.60      0.60      0.60       995\n",
      "\n"
     ]
    }
   ],
   "source": [
    "print(classification_report(y_validation, y_pred_validation_bow2, target_names=target_names))"
   ]
  },
  {
   "cell_type": "code",
   "execution_count": 261,
   "metadata": {},
   "outputs": [
    {
     "data": {
      "text/plain": [
       "<sklearn.metrics._plot.confusion_matrix.ConfusionMatrixDisplay at 0x21b52c3b0c8>"
      ]
     },
     "execution_count": 261,
     "metadata": {},
     "output_type": "execute_result"
    },
    {
     "data": {
      "image/png": "[encoded data removed]",
      "text/plain": [
       "<Figure size 648x360 with 2 Axes>"
      ]
     },
     "metadata": {
      "needs_background": "light"
     },
     "output_type": "display_data"
    }
   ],
   "source": [
    "plot_confusion_matrix(bow_model, X_validation_bow, y_validation)"
   ]
  },
  {
   "cell_type": "markdown",
   "metadata": {},
   "source": [
    "### <font color='blue'> the logistic regression model underperforms with the validation dataset, with high log loss and low F1 scores. The better statistics with training dataset means that the model is overfitting and needs regularization </font>"
   ]
  },
  {
   "cell_type": "markdown",
   "metadata": {},
   "source": [
    "##### TFIDF transformation"
   ]
  },
  {
   "cell_type": "code",
   "execution_count": 262,
   "metadata": {},
   "outputs": [],
   "source": [
    "X_validate_tfidf = tfidf_vectorizer.transform(validation_df_corpus)"
   ]
  },
  {
   "cell_type": "code",
   "execution_count": 263,
   "metadata": {},
   "outputs": [],
   "source": [
    "X_validate_tfidf = X_validate_tfidf.toarray()"
   ]
  },
  {
   "cell_type": "code",
   "execution_count": 264,
   "metadata": {},
   "outputs": [],
   "source": [
    "y_pred_validate_tfidf = tfidf_model.predict_proba(X_validate_tfidf)"
   ]
  },
  {
   "cell_type": "code",
   "execution_count": 265,
   "metadata": {},
   "outputs": [],
   "source": [
    "y_pred_validate_tfidf2 = tfidf_model.predict(X_validate_tfidf)"
   ]
  },
  {
   "cell_type": "markdown",
   "metadata": {},
   "source": [
    "#### <font color='purple'>scoring the prediction using multiple scoring metrics</font>"
   ]
  },
  {
   "cell_type": "code",
   "execution_count": 266,
   "metadata": {},
   "outputs": [
    {
     "data": {
      "text/plain": [
       "1.0961563283230227"
      ]
     },
     "execution_count": 266,
     "metadata": {},
     "output_type": "execute_result"
    }
   ],
   "source": [
    "log_loss(y_validation,y_pred_validate_tfidf)"
   ]
  },
  {
   "cell_type": "code",
   "execution_count": 267,
   "metadata": {},
   "outputs": [
    {
     "name": "stdout",
     "output_type": "stream",
     "text": [
      "              precision    recall  f1-score   support\n",
      "\n",
      "     class 1       0.53      0.61      0.57       170\n",
      "     class 2       0.70      0.43      0.53       135\n",
      "     class 3       1.00      0.04      0.07        27\n",
      "     class 4       0.65      0.74      0.69       206\n",
      "     class 5       0.48      0.29      0.36        72\n",
      "     class 6       0.82      0.51      0.63        82\n",
      "     class 7       0.66      0.90      0.76       286\n",
      "     class 8       0.00      0.00      0.00         6\n",
      "     class 9       1.00      0.09      0.17        11\n",
      "\n",
      "    accuracy                           0.64       995\n",
      "   macro avg       0.65      0.40      0.42       995\n",
      "weighted avg       0.65      0.64      0.61       995\n",
      "\n"
     ]
    }
   ],
   "source": [
    "print(classification_report(y_validation, y_pred_validate_tfidf2, target_names=target_names))"
   ]
  },
  {
   "cell_type": "code",
   "execution_count": 273,
   "metadata": {},
   "outputs": [
    {
     "data": {
      "text/plain": [
       "<sklearn.metrics._plot.confusion_matrix.ConfusionMatrixDisplay at 0x21b5293c2c8>"
      ]
     },
     "execution_count": 273,
     "metadata": {},
     "output_type": "execute_result"
    },
    {
     "data": {
      "image/png": "[encoded data removed]",
      "text/plain": [
       "<Figure size 648x360 with 2 Axes>"
      ]
     },
     "metadata": {
      "needs_background": "light"
     },
     "output_type": "display_data"
    }
   ],
   "source": [
    "plot_confusion_matrix(tfidf_model, X_validate_tfidf, y_validation)"
   ]
  },
  {
   "cell_type": "code",
   "execution_count": null,
   "metadata": {},
   "outputs": [],
   "source": []
  },
  {
   "cell_type": "markdown",
   "metadata": {},
   "source": [
    "### <font color='blue'> The logistic regression model, with the TFIDF transformation, shows similar log loss as the training dataset. However, for both training and validation datasets, the classification report shows that precision and recall for several of the classes is poor. This will cause problems, while handling imbalanced datasets </font> "
   ]
  },
  {
   "cell_type": "markdown",
   "metadata": {},
   "source": [
    "### <font color='blue'>Now we shall test the XGBoost model with the validation dataset</font>"
   ]
  },
  {
   "cell_type": "markdown",
   "metadata": {},
   "source": [
    "#### Bag of words transformation"
   ]
  },
  {
   "cell_type": "code",
   "execution_count": 270,
   "metadata": {},
   "outputs": [],
   "source": [
    "y_pred_validate_XGB=xgb_grid_bow.predict_proba(X_validation_bow)"
   ]
  },
  {
   "cell_type": "code",
   "execution_count": 271,
   "metadata": {},
   "outputs": [],
   "source": [
    "y_pred_validate_XGB2=xgb_grid_bow.predict(X_validation_bow)"
   ]
  },
  {
   "cell_type": "markdown",
   "metadata": {},
   "source": [
    "#### scoring the prediction with multiple scoring metrics"
   ]
  },
  {
   "cell_type": "code",
   "execution_count": 272,
   "metadata": {},
   "outputs": [
    {
     "data": {
      "text/plain": [
       "1.1280003805424557"
      ]
     },
     "execution_count": 272,
     "metadata": {},
     "output_type": "execute_result"
    }
   ],
   "source": [
    "log_loss(y_validation,y_pred_validate_XGB)"
   ]
  },
  {
   "cell_type": "code",
   "execution_count": 274,
   "metadata": {},
   "outputs": [
    {
     "name": "stdout",
     "output_type": "stream",
     "text": [
      "              precision    recall  f1-score   support\n",
      "\n",
      "     class 1       0.54      0.59      0.56       170\n",
      "     class 2       0.62      0.49      0.55       135\n",
      "     class 3       0.38      0.33      0.35        27\n",
      "     class 4       0.69      0.70      0.70       206\n",
      "     class 5       0.46      0.38      0.41        72\n",
      "     class 6       0.81      0.62      0.70        82\n",
      "     class 7       0.70      0.81      0.75       286\n",
      "     class 8       0.00      0.00      0.00         6\n",
      "     class 9       0.80      0.73      0.76        11\n",
      "\n",
      "    accuracy                           0.64       995\n",
      "   macro avg       0.55      0.52      0.53       995\n",
      "weighted avg       0.64      0.64      0.64       995\n",
      "\n"
     ]
    }
   ],
   "source": [
    "print(classification_report(y_validation, y_pred_validate_XGB2, target_names=target_names))"
   ]
  },
  {
   "cell_type": "code",
   "execution_count": 275,
   "metadata": {},
   "outputs": [
    {
     "data": {
      "text/plain": [
       "<sklearn.metrics._plot.confusion_matrix.ConfusionMatrixDisplay at 0x21b481baf88>"
      ]
     },
     "execution_count": 275,
     "metadata": {},
     "output_type": "execute_result"
    },
    {
     "data": {
      "image/png": "[encoded data removed]",
      "text/plain": [
       "<Figure size 648x360 with 2 Axes>"
      ]
     },
     "metadata": {
      "needs_background": "light"
     },
     "output_type": "display_data"
    }
   ],
   "source": [
    "plot_confusion_matrix(xgb_grid_bow, X_validation_bow, y_validation)"
   ]
  },
  {
   "cell_type": "raw",
   "metadata": {},
   "source": []
  },
  {
   "cell_type": "markdown",
   "metadata": {},
   "source": [
    "### <font color ='blue'>The xgboost model on the Bag of words transformed data, performs OK, with respect to the overall log loss score, but analyzing the classification report shows, that the F1 score is poor for several classes, and so this model will underperform with imbalanced datasets</font>"
   ]
  },
  {
   "cell_type": "markdown",
   "metadata": {},
   "source": [
    "#### TFIDF transformation "
   ]
  },
  {
   "cell_type": "code",
   "execution_count": 276,
   "metadata": {},
   "outputs": [],
   "source": [
    "y_pred_validate_XGB_tfidf=xgb_grid_tfidf.predict_proba(X_validate_tfidf)"
   ]
  },
  {
   "cell_type": "code",
   "execution_count": 277,
   "metadata": {},
   "outputs": [],
   "source": [
    "y_pred_validate_XGB_tfidf2=xgb_grid_tfidf.predict(X_validate_tfidf)"
   ]
  },
  {
   "cell_type": "markdown",
   "metadata": {},
   "source": [
    "#### scoring the prediction with multiple scoring metrics"
   ]
  },
  {
   "cell_type": "code",
   "execution_count": 278,
   "metadata": {},
   "outputs": [
    {
     "data": {
      "text/plain": [
       "1.0315134298175705"
      ]
     },
     "execution_count": 278,
     "metadata": {},
     "output_type": "execute_result"
    }
   ],
   "source": [
    "log_loss(y_validation,y_pred_validate_XGB_tfidf)"
   ]
  },
  {
   "cell_type": "code",
   "execution_count": 279,
   "metadata": {},
   "outputs": [
    {
     "name": "stdout",
     "output_type": "stream",
     "text": [
      "              precision    recall  f1-score   support\n",
      "\n",
      "     class 1       0.57      0.61      0.59       170\n",
      "     class 2       0.69      0.53      0.60       135\n",
      "     class 3       0.41      0.33      0.37        27\n",
      "     class 4       0.68      0.72      0.70       206\n",
      "     class 5       0.49      0.39      0.43        72\n",
      "     class 6       0.80      0.62      0.70        82\n",
      "     class 7       0.72      0.84      0.77       286\n",
      "     class 8       0.00      0.00      0.00         6\n",
      "     class 9       0.80      0.73      0.76        11\n",
      "\n",
      "    accuracy                           0.66       995\n",
      "   macro avg       0.57      0.53      0.55       995\n",
      "weighted avg       0.66      0.66      0.66       995\n",
      "\n"
     ]
    }
   ],
   "source": [
    "print(classification_report(y_validation, y_pred_validate_XGB_tfidf2, target_names=target_names))"
   ]
  },
  {
   "cell_type": "code",
   "execution_count": 281,
   "metadata": {},
   "outputs": [
    {
     "data": {
      "text/plain": [
       "<sklearn.metrics._plot.confusion_matrix.ConfusionMatrixDisplay at 0x21b50dcf708>"
      ]
     },
     "execution_count": 281,
     "metadata": {},
     "output_type": "execute_result"
    },
    {
     "data": {
      "image/png": "[encoded data removed]",
      "text/plain": [
       "<Figure size 648x360 with 2 Axes>"
      ]
     },
     "metadata": {
      "needs_background": "light"
     },
     "output_type": "display_data"
    }
   ],
   "source": [
    "plot_confusion_matrix(xgb_grid_tfidf, X_validate_tfidf, y_validation)"
   ]
  },
  {
   "cell_type": "markdown",
   "metadata": {},
   "source": [
    "### <font color='blue'> A margin improvement is seen in the log loss score by using the TFIDF transformed dataset. However, the uneven efficiency in predicting the individual classes, remains a concern</font>"
   ]
  },
  {
   "cell_type": "code",
   "execution_count": null,
   "metadata": {},
   "outputs": [],
   "source": []
  },
  {
   "cell_type": "markdown",
   "metadata": {},
   "source": [
    "#### handling the test text sample data"
   ]
  },
  {
   "cell_type": "code",
   "execution_count": null,
   "metadata": {},
   "outputs": [],
   "source": [
    "#test_text_df.sort_values(['ID']).head()"
   ]
  },
  {
   "cell_type": "code",
   "execution_count": null,
   "metadata": {},
   "outputs": [],
   "source": [
    "#test_text_df.shape"
   ]
  },
  {
   "cell_type": "code",
   "execution_count": null,
   "metadata": {},
   "outputs": [],
   "source": [
    "#test_text_df['cleaned_text'] = test_text_df['Text'].map(cleanse_data,na_action='ignore')"
   ]
  },
  {
   "cell_type": "code",
   "execution_count": null,
   "metadata": {},
   "outputs": [],
   "source": [
    "#test_text_df['cleaned_text'] = test_text_df['cleaned_text'].map(reduce_words)"
   ]
  },
  {
   "cell_type": "code",
   "execution_count": null,
   "metadata": {},
   "outputs": [],
   "source": [
    "#test_text_df['cleaned_text_vector'] = test_text_df['cleaned_text'].map(word_count)"
   ]
  },
  {
   "cell_type": "code",
   "execution_count": null,
   "metadata": {},
   "outputs": [],
   "source": [
    "#test_text_df['sorted_cleaned_text_vector'] = test_text_df['cleaned_text'].progress_map(freq_dist)"
   ]
  },
  {
   "cell_type": "code",
   "execution_count": null,
   "metadata": {},
   "outputs": [],
   "source": [
    "#test_text_df = test_text_df.drop(['Text'],axis=1)"
   ]
  },
  {
   "cell_type": "code",
   "execution_count": null,
   "metadata": {},
   "outputs": [],
   "source": [
    "#test_text_df.head()"
   ]
  },
  {
   "cell_type": "code",
   "execution_count": null,
   "metadata": {},
   "outputs": [],
   "source": [
    "# get the text samples as list\n",
    "#test_corpus = test_text_df['cleaned_text'].tolist()"
   ]
  },
  {
   "cell_type": "code",
   "execution_count": null,
   "metadata": {},
   "outputs": [],
   "source": [
    "# transform the test case to get bag of words\n",
    "#test_bag_of_words_train = bow_vectorizer.fit_transform(test_corpus)"
   ]
  },
  {
   "cell_type": "code",
   "execution_count": null,
   "metadata": {},
   "outputs": [],
   "source": [
    "# convert the dictionary to an array\n",
    "#test_bag_of_words_array = test_bag_of_words_train.toarray()"
   ]
  },
  {
   "cell_type": "code",
   "execution_count": null,
   "metadata": {},
   "outputs": [],
   "source": [
    "#test_bag_of_words_array.shape"
   ]
  },
  {
   "cell_type": "code",
   "execution_count": null,
   "metadata": {},
   "outputs": [],
   "source": [
    "# predict test using bag of word model\n",
    "#y_pred_test_bow = bow_model.predict_proba(test_bag_of_words_array)"
   ]
  },
  {
   "cell_type": "code",
   "execution_count": null,
   "metadata": {},
   "outputs": [],
   "source": [
    "#y_pred_test_bow[0]"
   ]
  },
  {
   "cell_type": "code",
   "execution_count": null,
   "metadata": {},
   "outputs": [],
   "source": [
    "#y_pred_test_df = pd.DataFrame(y_pred_test_bow)"
   ]
  },
  {
   "cell_type": "code",
   "execution_count": null,
   "metadata": {},
   "outputs": [],
   "source": [
    "#test_text_df['ID'].shape"
   ]
  },
  {
   "cell_type": "code",
   "execution_count": null,
   "metadata": {},
   "outputs": [],
   "source": [
    "#y_pred_test_df['ID']= test_text_df['ID'].reset_index(drop=True)"
   ]
  },
  {
   "cell_type": "code",
   "execution_count": null,
   "metadata": {},
   "outputs": [],
   "source": [
    "#y_pred_test_df.head()"
   ]
  },
  {
   "cell_type": "code",
   "execution_count": null,
   "metadata": {},
   "outputs": [],
   "source": []
  },
  {
   "cell_type": "code",
   "execution_count": null,
   "metadata": {},
   "outputs": [],
   "source": [
    "# predict test using tfidf model\n",
    "#y_pred_test_tfidf = tfidf_model.predict_proba(test_bag_of_words_array)"
   ]
  },
  {
   "cell_type": "code",
   "execution_count": null,
   "metadata": {},
   "outputs": [],
   "source": [
    "stage2_test_text_df = pd.read_csv('stage2_test_text.csv', sep=\"\\|\\|\", encoding=\"utf-8\",engine=\"python\", skiprows=1, names=[\"ID\", \"Text\"])\n"
   ]
  },
  {
   "cell_type": "code",
   "execution_count": null,
   "metadata": {},
   "outputs": [],
   "source": [
    "stage2_test_text_df.shape"
   ]
  },
  {
   "cell_type": "code",
   "execution_count": null,
   "metadata": {},
   "outputs": [],
   "source": [
    "stage2_test_text_df['cleaned_text'] = stage2_test_text_df['Text'].progress_map(cleanse_data,na_action='ignore')"
   ]
  },
  {
   "cell_type": "code",
   "execution_count": null,
   "metadata": {},
   "outputs": [],
   "source": [
    "stage2_test_text_df['cleaned_text'] = stage2_test_text_df['cleaned_text'].progress_map(reduce_words)"
   ]
  },
  {
   "cell_type": "code",
   "execution_count": null,
   "metadata": {},
   "outputs": [],
   "source": [
    "stage2_test_text_df.shape"
   ]
  },
  {
   "cell_type": "code",
   "execution_count": null,
   "metadata": {},
   "outputs": [],
   "source": [
    "stage2_cleaned_view =pd.DataFrame({\"Text\":stage2_test_text_df['Text'].progress_map(lambda x:len(x)),\"cleaned_text\":stage2_test_text_df['cleaned_text'].map(lambda x:len(x))})\n",
    "stage2_cleaned_view.head()"
   ]
  },
  {
   "cell_type": "code",
   "execution_count": null,
   "metadata": {},
   "outputs": [],
   "source": [
    "stage2_test_corpus = stage2_test_text_df['cleaned_text'].tolist()"
   ]
  },
  {
   "cell_type": "code",
   "execution_count": null,
   "metadata": {},
   "outputs": [],
   "source": [
    "#X_stage2_test = bow_vectorizer.fit_transform(stage2_test_corpus).toarray()"
   ]
  },
  {
   "cell_type": "code",
   "execution_count": null,
   "metadata": {},
   "outputs": [],
   "source": [
    "X_stage2_test = tfidf_vectorizer.fit_transform(stage2_test_corpus).toarray()"
   ]
  },
  {
   "cell_type": "code",
   "execution_count": null,
   "metadata": {},
   "outputs": [],
   "source": [
    "X_stage2_test.shape"
   ]
  },
  {
   "cell_type": "code",
   "execution_count": null,
   "metadata": {},
   "outputs": [],
   "source": [
    "y_pred_stage2 = tfidf_model.predict_proba(X_stage2_test)"
   ]
  },
  {
   "cell_type": "code",
   "execution_count": null,
   "metadata": {},
   "outputs": [],
   "source": [
    "y_pred_stage2.shape"
   ]
  },
  {
   "cell_type": "code",
   "execution_count": null,
   "metadata": {},
   "outputs": [],
   "source": [
    "y_pred_stage2_df = pd.DataFrame(y_pred_stage2)"
   ]
  },
  {
   "cell_type": "code",
   "execution_count": null,
   "metadata": {},
   "outputs": [],
   "source": []
  },
  {
   "cell_type": "code",
   "execution_count": null,
   "metadata": {},
   "outputs": [],
   "source": [
    "y_pred_stage2_df['ID']=stage2_test_text_df['ID']"
   ]
  },
  {
   "cell_type": "code",
   "execution_count": null,
   "metadata": {},
   "outputs": [],
   "source": [
    "y_pred_stage2_df.columns"
   ]
  },
  {
   "cell_type": "code",
   "execution_count": null,
   "metadata": {},
   "outputs": [],
   "source": [
    "y_pred_stage2_df.columns = ['class1','class2','class3','class4','class5','class6','class7','class8','class9','ID']"
   ]
  },
  {
   "cell_type": "code",
   "execution_count": null,
   "metadata": {},
   "outputs": [],
   "source": [
    "y_pred_stage2_df=y_pred_stage2_df[['ID','class1','class2','class3','class4','class5','class6','class7','class8','class9']]"
   ]
  },
  {
   "cell_type": "code",
   "execution_count": null,
   "metadata": {},
   "outputs": [],
   "source": [
    "y_pred_stage2_df.head()"
   ]
  },
  {
   "cell_type": "code",
   "execution_count": null,
   "metadata": {},
   "outputs": [],
   "source": [
    "y_pred_stage2_df.to_csv(\"y_pred_stage2.csv\",index=False)"
   ]
  },
  {
   "cell_type": "code",
   "execution_count": null,
   "metadata": {},
   "outputs": [],
   "source": [
    "df=pd.DataFrame(columns=[\"Gene\",\"Class\",\"Variation\",\"cleaned_text\",\"cleaned_freq\"])\n",
    "for i in range(19):    \n",
    "    df_new=class_9[class_9['cleaned_text'] == class_9['cleaned_text'].unique()[i]]\n",
    "    df=pd.concat([df,df_new])"
   ]
  },
  {
   "cell_type": "markdown",
   "metadata": {
    "id": "mb62K9H8oIy6"
   },
   "source": [
    "we have sorted the frequency dictionary based on values using the key parameter of sorted and higher values first using reverse"
   ]
  },
  {
   "cell_type": "code",
   "execution_count": null,
   "metadata": {
    "colab": {
     "base_uri": "https://localhost:8080/"
    },
    "executionInfo": {
     "elapsed": 14,
     "status": "ok",
     "timestamp": 1638286210767,
     "user": {
      "displayName": "Anubrata Das",
      "photoUrl": "https://lh3.googleusercontent.com/a-/AOh14GiI2340pPpSj6e4aG_4urL4HRwW3MRXEf5aoo2_QA=s64",
      "userId": "08781375266004215524"
     },
     "user_tz": -330
    },
    "id": "wae37kXdUT8k",
    "outputId": "aacd0478-e911-439f-8dd0-3d9b78a7a732"
   },
   "outputs": [],
   "source": [
    "sorted(test_dic.items(),key=lambda x:x[1], reverse=True)"
   ]
  },
  {
   "cell_type": "code",
   "execution_count": null,
   "metadata": {
    "id": "kAxcpzU4_mzu"
   },
   "outputs": [],
   "source": [
    "for i in range(10):\n",
    "    print(scan_data1[i])"
   ]
  },
  {
   "cell_type": "code",
   "execution_count": null,
   "metadata": {
    "id": "9XgD9sY_14Jw"
   },
   "outputs": [],
   "source": [
    "cd /content"
   ]
  },
  {
   "cell_type": "code",
   "execution_count": null,
   "metadata": {
    "id": "oLbahHJ__mzv"
   },
   "outputs": [],
   "source": [
    "pa_tree=ET.parse('pa2021.xml')"
   ]
  },
  {
   "cell_type": "code",
   "execution_count": null,
   "metadata": {
    "id": "spN5n9H3_mzv"
   },
   "outputs": [],
   "source": [
    "root=pa_tree.getroot()"
   ]
  },
  {
   "cell_type": "code",
   "execution_count": null,
   "metadata": {
    "id": "kQR8pY9UXBs-"
   },
   "outputs": [],
   "source": [
    "# for child in root:\n",
    "#   print(child.tag)"
   ]
  },
  {
   "cell_type": "code",
   "execution_count": null,
   "metadata": {
    "id": "63RIRzTV_mzv"
   },
   "outputs": [],
   "source": [
    "for element_1 in root:\n",
    "  #print(\"---------level_1-----------\")\n",
    "  #print(element_1.tag)\n",
    "  \n",
    "  for element_2 in element_1:\n",
    "    #print(\"---------level_2-----------\")\n",
    "    #print(\"    \"+element_2.tag,\" \",element_2.text)\n",
    "    \n",
    "    for element_3 in element_2:\n",
    "      #print(\"---------level_3-----------\")\n",
    "      #print(\"        \"+element_3.tag,\" \",element_3.text)\n",
    "      \n",
    "      for element_4 in element_3:\n",
    "        #print(\"---------level_4-----------\")\n",
    "        if element_4.tag==\"String\":\n",
    "          print(\"                   \"+element_4.tag,\" \",element_4.text)\n",
    "          \n",
    "  #break\n",
    "    "
   ]
  },
  {
   "cell_type": "code",
   "execution_count": null,
   "metadata": {
    "id": "M-j6NieYFoZn"
   },
   "outputs": [],
   "source": [
    "len(root)"
   ]
  },
  {
   "cell_type": "code",
   "execution_count": null,
   "metadata": {
    "id": "c2Li5HlGGwOR"
   },
   "outputs": [],
   "source": [
    "desc_tree=ET.parse('desc2021.xml')"
   ]
  },
  {
   "cell_type": "code",
   "execution_count": null,
   "metadata": {
    "id": "IIWEN3P3XfG4"
   },
   "outputs": [],
   "source": [
    "desc_root=desc_tree.getroot()"
   ]
  },
  {
   "cell_type": "code",
   "execution_count": null,
   "metadata": {
    "id": "dVaFVNDdYSxK"
   },
   "outputs": [],
   "source": [
    "len(desc_root)"
   ]
  },
  {
   "cell_type": "code",
   "execution_count": null,
   "metadata": {
    "id": "9Q4uNx0xYq8f"
   },
   "outputs": [],
   "source": [
    "term_description=[]\n",
    "for element_1 in desc_root:\n",
    "  #print(\"-------level_1----------\")\n",
    "  #print(element_1.tag,\" \",element_1.text)\n",
    "  for element_2 in element_1:\n",
    "    #print(\"    ----------level_2----------\")\n",
    "    #print(\"    \"+element_2.tag,\" \",element_2.text)\n",
    "    for element_3 in element_2:\n",
    "      if element_3.tag=='String':\n",
    "        #print(\"        ---------level_3--------\")\n",
    "        #print(\"        \"+element_3.tag,\" \",element_3.text)\n",
    "        term_description.append(element_3.text)\n",
    "\n",
    "  #break"
   ]
  },
  {
   "cell_type": "code",
   "execution_count": null,
   "metadata": {
    "id": "WG6OyuDhZOdW"
   },
   "outputs": [],
   "source": [
    "len(term_description)"
   ]
  },
  {
   "cell_type": "code",
   "execution_count": null,
   "metadata": {
    "id": "yhUEtiIrt4B5"
   },
   "outputs": [],
   "source": [
    "term_description[:10]"
   ]
  },
  {
   "cell_type": "code",
   "execution_count": null,
   "metadata": {
    "id": "DFCAtPHEuIG_"
   },
   "outputs": [],
   "source": [
    "import csv \n",
    "with open('term_description.csv', 'w') as f: \n",
    "    write = csv.writer(f) \n",
    "    write.writerow(term_description) \n",
    "    "
   ]
  },
  {
   "cell_type": "markdown",
   "metadata": {
    "id": "F11LgeASJSYc"
   },
   "source": [
    "There are 2 ways to remove punctuation. one is to use the string library punctuation module on the text before tokenization, the other is to use the nltk.punct library"
   ]
  },
  {
   "cell_type": "code",
   "execution_count": null,
   "metadata": {
    "id": "bzJtTxhvvlSb"
   },
   "outputs": [],
   "source": [
    "len(scan_data1[1])"
   ]
  },
  {
   "cell_type": "code",
   "execution_count": null,
   "metadata": {
    "id": "EKL7Av16DsWV"
   },
   "outputs": [],
   "source": [
    "#nltk.word_tokenize(scan_data1[1])"
   ]
  },
  {
   "cell_type": "code",
   "execution_count": null,
   "metadata": {
    "id": "6n8-IUY8D_g2"
   },
   "outputs": [],
   "source": [
    "# import string punctuation\n",
    "import string\n",
    "string.punctuation"
   ]
  },
  {
   "cell_type": "code",
   "execution_count": null,
   "metadata": {
    "id": "vXDy9X6cH_nh"
   },
   "outputs": [],
   "source": []
  },
  {
   "cell_type": "code",
   "execution_count": null,
   "metadata": {
    "id": "YTposSf5IPM2"
   },
   "outputs": [],
   "source": [
    "len(cleanup_text(scan_data1[1]))"
   ]
  },
  {
   "cell_type": "code",
   "execution_count": null,
   "metadata": {
    "id": "xoBpboDfIZjm"
   },
   "outputs": [],
   "source": [
    "scan_data"
   ]
  }
 ],
 "metadata": {
  "colab": {
   "name": "jovian-ml-project.ipynb",
   "version": ""
  },
  "kernelspec": {
   "display_name": "Python 3",
   "language": "python",
   "name": "python3"
  },
  "language_info": {
   "codemirror_mode": {
    "name": "ipython",
    "version": 3
   },
   "file_extension": ".py",
   "mimetype": "text/x-python",
   "name": "python",
   "nbconvert_exporter": "python",
   "pygments_lexer": "ipython3",
   "version": "3.7.6"
  }
 },
 "nbformat": 4,
 "nbformat_minor": 1
}
